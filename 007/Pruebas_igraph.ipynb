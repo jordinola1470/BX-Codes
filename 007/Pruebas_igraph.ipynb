{
 "cells": [
  {
   "cell_type": "code",
   "execution_count": 1,
   "metadata": {},
   "outputs": [],
   "source": [
    "import igraph as ig\n",
    "import pandas as pd\n",
    "import numpy as np\n",
    "import re\n",
    "import string\n",
    "import requests\n",
    "import io\n",
    "import sys\n",
    "#Antes de hacer esto necesitamos importar el archivo de funciones que se encuentra en el repositorio.\n",
    "sys.path.append('../')\n",
    "import funciones as fn"
   ]
  },
  {
   "cell_type": "code",
   "execution_count": 2,
   "metadata": {},
   "outputs": [],
   "source": [
    "g = ig.Graph()"
   ]
  },
  {
   "cell_type": "code",
   "execution_count": 3,
   "metadata": {},
   "outputs": [
    {
     "data": {
      "text/plain": [
       "<igraph.Graph at 0x7fcf979735e0>"
      ]
     },
     "execution_count": 3,
     "metadata": {},
     "output_type": "execute_result"
    }
   ],
   "source": [
    "g"
   ]
  },
  {
   "cell_type": "code",
   "execution_count": 4,
   "metadata": {},
   "outputs": [
    {
     "name": "stdout",
     "output_type": "stream",
     "text": [
      "IGRAPH U--- 0 0 --\n"
     ]
    }
   ],
   "source": [
    "print(g) #vertices edges --"
   ]
  },
  {
   "cell_type": "code",
   "execution_count": 5,
   "metadata": {},
   "outputs": [],
   "source": [
    "g.add_vertices(3)"
   ]
  },
  {
   "cell_type": "code",
   "execution_count": 6,
   "metadata": {},
   "outputs": [],
   "source": [
    "g.add_edges([(0,1), (1,2)])"
   ]
  },
  {
   "cell_type": "code",
   "execution_count": 7,
   "metadata": {},
   "outputs": [
    {
     "name": "stdout",
     "output_type": "stream",
     "text": [
      "IGRAPH U--- 6 7 --\n",
      "+ edges:\n",
      "0--1 1--2 0--2 2--3 3--4 4--5 3--5\n"
     ]
    }
   ],
   "source": [
    "g.add_edges([(2, 0)])\n",
    "g.add_vertices(3)\n",
    "g.add_edges([(2, 3), (3, 4), (4, 5), (5, 3)])\n",
    "print(g)"
   ]
  },
  {
   "cell_type": "code",
   "execution_count": 8,
   "metadata": {},
   "outputs": [
    {
     "data": {
      "text/plain": [
       "3"
      ]
     },
     "execution_count": 8,
     "metadata": {},
     "output_type": "execute_result"
    }
   ],
   "source": [
    "g.get_eid(2, 3)"
   ]
  },
  {
   "cell_type": "code",
   "execution_count": 9,
   "metadata": {},
   "outputs": [],
   "source": [
    "g.delete_edges(3)"
   ]
  },
  {
   "cell_type": "code",
   "execution_count": 10,
   "metadata": {},
   "outputs": [
    {
     "name": "stdout",
     "output_type": "stream",
     "text": [
      "IGRAPH U--- 6 6 -- \n"
     ]
    }
   ],
   "source": [
    "ig.summary(g)"
   ]
  },
  {
   "cell_type": "code",
   "execution_count": 11,
   "metadata": {},
   "outputs": [
    {
     "data": {
      "text/plain": [
       "[(0, 1),\n",
       " (0, 2),\n",
       " (1, 3),\n",
       " (1, 4),\n",
       " (2, 5),\n",
       " (2, 6),\n",
       " (3, 7),\n",
       " (3, 8),\n",
       " (4, 9),\n",
       " (4, 10)]"
      ]
     },
     "execution_count": 11,
     "metadata": {},
     "output_type": "execute_result"
    }
   ],
   "source": [
    "g = ig.Graph.Tree(127, 2)\n",
    "g.get_edgelist()[0:10]"
   ]
  },
  {
   "cell_type": "code",
   "execution_count": 12,
   "metadata": {},
   "outputs": [
    {
     "name": "stdout",
     "output_type": "stream",
     "text": [
      "IGRAPH U--- 127 126 -- \n"
     ]
    }
   ],
   "source": [
    "ig.summary(g)"
   ]
  },
  {
   "cell_type": "code",
   "execution_count": 13,
   "metadata": {},
   "outputs": [],
   "source": [
    "g = ig.Graph.GRG(100, 0.2)"
   ]
  },
  {
   "cell_type": "code",
   "execution_count": 14,
   "metadata": {},
   "outputs": [
    {
     "data": {
      "text/plain": [
       "[(0, 1),\n",
       " (0, 2),\n",
       " (0, 3),\n",
       " (0, 7),\n",
       " (0, 9),\n",
       " (0, 11),\n",
       " (0, 12),\n",
       " (0, 14),\n",
       " (1, 2),\n",
       " (1, 3)]"
      ]
     },
     "execution_count": 14,
     "metadata": {},
     "output_type": "execute_result"
    }
   ],
   "source": [
    "g.get_edgelist()[0:10]"
   ]
  },
  {
   "cell_type": "code",
   "execution_count": 15,
   "metadata": {},
   "outputs": [
    {
     "name": "stdout",
     "output_type": "stream",
     "text": [
      "IGRAPH U--- 100 518 -- \n",
      "+ attr: x (v), y (v)\n"
     ]
    }
   ],
   "source": [
    "ig.summary(g)"
   ]
  },
  {
   "cell_type": "code",
   "execution_count": 16,
   "metadata": {},
   "outputs": [],
   "source": [
    "g = ig.Graph([(0,1), (0,2), (2,3), (3,4), (4,2), (2,5), (5,0), (6,3), (5,6)], directed=True)"
   ]
  },
  {
   "cell_type": "code",
   "execution_count": 17,
   "metadata": {},
   "outputs": [
    {
     "name": "stdout",
     "output_type": "stream",
     "text": [
      "IGRAPH D--- 7 9 --\n",
      "+ edges:\n",
      "0->1 0->2 2->3 3->4 4->2 2->5 5->0 6->3 5->6\n"
     ]
    }
   ],
   "source": [
    "print(g)"
   ]
  },
  {
   "cell_type": "code",
   "execution_count": 18,
   "metadata": {},
   "outputs": [],
   "source": [
    "g.vs[\"name\"] = [\"A\", \"B\", \"C\", \"D\", \"E\", \"F\", \"G\"]\n",
    "g.vs[\"age\"] = [25, 31, 18, 47, 22, 23, 50]\n",
    "g.vs[\"gender\"] = [\"f\", \"m\", \"f\", \"m\", \"f\", \"m\", \"m\"]\n",
    "g.es[\"is_formal\"] = [False, False, True, True, True, False, True, False, False]"
   ]
  },
  {
   "cell_type": "code",
   "execution_count": 19,
   "metadata": {},
   "outputs": [
    {
     "data": {
      "text/plain": [
       "igraph.Edge(<igraph.Graph object at 0x7fcf97973a90>, 0, {'is_formal': False})"
      ]
     },
     "execution_count": 19,
     "metadata": {},
     "output_type": "execute_result"
    }
   ],
   "source": [
    "g.es[0]"
   ]
  },
  {
   "cell_type": "code",
   "execution_count": 20,
   "metadata": {},
   "outputs": [
    {
     "data": {
      "text/plain": [
       "{'is_formal': False}"
      ]
     },
     "execution_count": 20,
     "metadata": {},
     "output_type": "execute_result"
    }
   ],
   "source": [
    "g.es[0].attributes()"
   ]
  },
  {
   "cell_type": "code",
   "execution_count": 21,
   "metadata": {},
   "outputs": [
    {
     "data": {
      "text/plain": [
       "igraph.Edge(<igraph.Graph object at 0x7fcf97973a90>, 0, {'is_formal': True})"
      ]
     },
     "execution_count": 21,
     "metadata": {},
     "output_type": "execute_result"
    }
   ],
   "source": [
    "g.es[0][\"is_formal\"] = True\n",
    "g.es[0]"
   ]
  },
  {
   "cell_type": "code",
   "execution_count": 22,
   "metadata": {},
   "outputs": [
    {
     "name": "stdout",
     "output_type": "stream",
     "text": [
      "2009-01-10\n"
     ]
    }
   ],
   "source": [
    "g[\"date\"] = \"2009-01-10\"\n",
    "print(g['date'])"
   ]
  },
  {
   "cell_type": "code",
   "execution_count": 23,
   "metadata": {},
   "outputs": [],
   "source": [
    "g.vs[3][\"foo\"] = \"bar\""
   ]
  },
  {
   "cell_type": "code",
   "execution_count": 24,
   "metadata": {},
   "outputs": [
    {
     "data": {
      "text/plain": [
       "[None, None, None, 'bar', None, None, None]"
      ]
     },
     "execution_count": 24,
     "metadata": {},
     "output_type": "execute_result"
    }
   ],
   "source": [
    "g.vs[\"foo\"]"
   ]
  },
  {
   "cell_type": "code",
   "execution_count": 25,
   "metadata": {},
   "outputs": [],
   "source": [
    "del g.vs[\"foo\"]"
   ]
  },
  {
   "cell_type": "code",
   "execution_count": 26,
   "metadata": {},
   "outputs": [
    {
     "data": {
      "text/plain": [
       "[3, 1, 4, 3, 2, 3, 2]"
      ]
     },
     "execution_count": 26,
     "metadata": {},
     "output_type": "execute_result"
    }
   ],
   "source": [
    "g.degree()"
   ]
  },
  {
   "cell_type": "code",
   "execution_count": 27,
   "metadata": {},
   "outputs": [
    {
     "data": {
      "text/plain": [
       "2"
      ]
     },
     "execution_count": 27,
     "metadata": {},
     "output_type": "execute_result"
    }
   ],
   "source": [
    "g.degree(6)"
   ]
  },
  {
   "cell_type": "code",
   "execution_count": 28,
   "metadata": {},
   "outputs": [
    {
     "data": {
      "text/plain": [
       "[4, 3, 2]"
      ]
     },
     "execution_count": 28,
     "metadata": {},
     "output_type": "execute_result"
    }
   ],
   "source": [
    "g.degree([2,3,4])"
   ]
  },
  {
   "cell_type": "code",
   "execution_count": 29,
   "metadata": {},
   "outputs": [
    {
     "data": {
      "text/plain": [
       "[6.0, 6.0, 5.0, 14.0, 15.0, 17.0, 11.0, 8.0, 7.0]"
      ]
     },
     "execution_count": 29,
     "metadata": {},
     "output_type": "execute_result"
    }
   ],
   "source": [
    "g.edge_betweenness()"
   ]
  },
  {
   "cell_type": "code",
   "execution_count": 30,
   "metadata": {},
   "outputs": [
    {
     "data": {
      "text/plain": [
       "17.0"
      ]
     },
     "execution_count": 30,
     "metadata": {},
     "output_type": "execute_result"
    }
   ],
   "source": [
    "ebs=g.edge_betweenness()\n",
    "max_eb=max(ebs)\n",
    "max_eb"
   ]
  },
  {
   "cell_type": "code",
   "execution_count": 31,
   "metadata": {},
   "outputs": [
    {
     "data": {
      "text/plain": [
       "[(2, 5)]"
      ]
     },
     "execution_count": 31,
     "metadata": {},
     "output_type": "execute_result"
    }
   ],
   "source": [
    "[g.es[idx].tuple for idx, eb in enumerate(ebs) if eb == max_eb]"
   ]
  },
  {
   "cell_type": "code",
   "execution_count": 32,
   "metadata": {},
   "outputs": [
    {
     "data": {
      "text/plain": [
       "<igraph.VertexSeq at 0x7fcf979fd2c0>"
      ]
     },
     "execution_count": 32,
     "metadata": {},
     "output_type": "execute_result"
    }
   ],
   "source": [
    "g.vs.select(age_lt=30)"
   ]
  },
  {
   "cell_type": "code",
   "execution_count": 33,
   "metadata": {},
   "outputs": [
    {
     "data": {
      "text/plain": [
       "['A', 'C', 'E', 'F']"
      ]
     },
     "execution_count": 33,
     "metadata": {},
     "output_type": "execute_result"
    }
   ],
   "source": [
    "g.vs(age_lt=30)['name']"
   ]
  },
  {
   "cell_type": "code",
   "execution_count": 34,
   "metadata": {},
   "outputs": [
    {
     "data": {
      "text/plain": [
       "<igraph.VertexSeq at 0x7fcf979fd180>"
      ]
     },
     "execution_count": 34,
     "metadata": {},
     "output_type": "execute_result"
    }
   ],
   "source": [
    "g.vs(_degree_gt=2)"
   ]
  },
  {
   "cell_type": "code",
   "execution_count": 35,
   "metadata": {},
   "outputs": [
    {
     "data": {
      "text/plain": [
       "<igraph.EdgeSeq at 0x7fcf979fdf40>"
      ]
     },
     "execution_count": 35,
     "metadata": {},
     "output_type": "execute_result"
    }
   ],
   "source": [
    "g.es.select(_source=2)"
   ]
  },
  {
   "cell_type": "code",
   "execution_count": 36,
   "metadata": {},
   "outputs": [
    {
     "data": {
      "text/plain": [
       "<igraph.EdgeSeq at 0x7fcf97a0b4a0>"
      ]
     },
     "execution_count": 36,
     "metadata": {},
     "output_type": "execute_result"
    }
   ],
   "source": [
    "g.es.select(_within=[2,3,4])"
   ]
  },
  {
   "cell_type": "code",
   "execution_count": 37,
   "metadata": {},
   "outputs": [
    {
     "data": {
      "text/plain": [
       "<igraph.EdgeSeq at 0x7fcf97a0b9f0>"
      ]
     },
     "execution_count": 37,
     "metadata": {},
     "output_type": "execute_result"
    }
   ],
   "source": [
    "g.es.select(_within=g.vs[2:5])"
   ]
  },
  {
   "cell_type": "code",
   "execution_count": 38,
   "metadata": {},
   "outputs": [
    {
     "data": {
      "text/plain": [
       "<igraph.EdgeSeq at 0x7fcf97a16270>"
      ]
     },
     "execution_count": 38,
     "metadata": {},
     "output_type": "execute_result"
    }
   ],
   "source": [
    "men = g.vs.select(gender=\"m\")\n",
    "women = g.vs.select(gender=\"f\")\n",
    "g.es.select(_between=(men, women))"
   ]
  },
  {
   "cell_type": "code",
   "execution_count": 39,
   "metadata": {},
   "outputs": [
    {
     "data": {
      "text/plain": [
       "['C']"
      ]
     },
     "execution_count": 39,
     "metadata": {},
     "output_type": "execute_result"
    }
   ],
   "source": [
    "g.vs.select(_degree = g.maxdegree())['name']"
   ]
  },
  {
   "cell_type": "code",
   "execution_count": 40,
   "metadata": {},
   "outputs": [
    {
     "data": {
      "text/plain": [
       "igraph.Vertex"
      ]
     },
     "execution_count": 40,
     "metadata": {},
     "output_type": "execute_result"
    }
   ],
   "source": [
    "claire = g.vs.find(name=\"C\")\n",
    "type(claire)"
   ]
  },
  {
   "cell_type": "code",
   "execution_count": 41,
   "metadata": {},
   "outputs": [
    {
     "data": {
      "text/plain": [
       "2"
      ]
     },
     "execution_count": 41,
     "metadata": {},
     "output_type": "execute_result"
    }
   ],
   "source": [
    "claire.index"
   ]
  },
  {
   "cell_type": "code",
   "execution_count": 42,
   "metadata": {},
   "outputs": [
    {
     "data": {
      "text/plain": [
       "3"
      ]
     },
     "execution_count": 42,
     "metadata": {},
     "output_type": "execute_result"
    }
   ],
   "source": [
    "g.degree(\"D\")"
   ]
  },
  {
   "cell_type": "code",
   "execution_count": 43,
   "metadata": {},
   "outputs": [
    {
     "data": {
      "text/plain": [
       "0"
      ]
     },
     "execution_count": 43,
     "metadata": {},
     "output_type": "execute_result"
    }
   ],
   "source": [
    "g.vs.find(\"A\").index"
   ]
  },
  {
   "cell_type": "code",
   "execution_count": 44,
   "metadata": {},
   "outputs": [
    {
     "data": {
      "text/plain": [
       "Matrix([[0, 1, 1, 0, 0, 0, 0], [0, 0, 0, 0, 0, 0, 0], [0, 0, 0, 1, 0, 1, 0], [0, 0, 0, 0, 1, 0, 0], [0, 0, 1, 0, 0, 0, 0], [1, 0, 0, 0, 0, 0, 1], [0, 0, 0, 1, 0, 0, 0]])"
      ]
     },
     "execution_count": 44,
     "metadata": {},
     "output_type": "execute_result"
    }
   ],
   "source": [
    "g.get_adjacency()"
   ]
  },
  {
   "cell_type": "code",
   "execution_count": 45,
   "metadata": {},
   "outputs": [
    {
     "data": {
      "image/svg+xml": [
       "<?xml version=\"1.0\" encoding=\"UTF-8\"?>\n",
       "<svg xmlns=\"http://www.w3.org/2000/svg\" xmlns:xlink=\"http://www.w3.org/1999/xlink\" width=\"600pt\" height=\"600pt\" viewBox=\"0 0 600 600\" version=\"1.1\">\n",
       "<g id=\"surface2\">\n",
       "<rect x=\"0\" y=\"0\" width=\"600\" height=\"600\" style=\"fill:rgb(100%,100%,100%);fill-opacity:1;stroke:none;\"/>\n",
       "<path style=\"fill:none;stroke-width:1;stroke-linecap:butt;stroke-linejoin:miter;stroke:rgb(26.666667%,26.666667%,26.666667%);stroke-opacity:1;stroke-miterlimit:10;\" d=\"M 395.0625 215.980469 L 558.109375 138 \"/>\n",
       "<path style=\" stroke:none;fill-rule:nonzero;fill:rgb(26.666667%,26.666667%,26.666667%);fill-opacity:1;\" d=\"M 570.980469 131.847656 L 560.109375 142.183594 L 556.109375 133.820312 L 570.980469 131.847656 \"/>\n",
       "<path style=\"fill:none;stroke-width:1;stroke-linecap:butt;stroke-linejoin:miter;stroke:rgb(26.666667%,26.666667%,26.666667%);stroke-opacity:1;stroke-miterlimit:10;\" d=\"M 395.0625 215.980469 L 229.050781 176.1875 \"/>\n",
       "<path style=\" stroke:none;fill-rule:nonzero;fill:rgb(26.666667%,26.666667%,26.666667%);fill-opacity:1;\" d=\"M 215.179688 172.863281 L 230.132812 171.679688 L 227.972656 180.695312 L 215.179688 172.863281 \"/>\n",
       "<path style=\"fill:none;stroke-width:1;stroke-linecap:butt;stroke-linejoin:miter;stroke:rgb(26.666667%,26.666667%,26.666667%);stroke-opacity:1;stroke-miterlimit:10;\" d=\"M 205.453125 170.53125 L 39.902344 286.027344 \"/>\n",
       "<path style=\" stroke:none;fill-rule:nonzero;fill:rgb(26.666667%,26.666667%,26.666667%);fill-opacity:1;\" d=\"M 28.203125 294.191406 L 37.25 282.226562 L 42.554688 289.828125 L 28.203125 294.191406 \"/>\n",
       "<path style=\"fill:none;stroke-width:1;stroke-linecap:butt;stroke-linejoin:miter;stroke:rgb(26.666667%,26.666667%,26.666667%);stroke-opacity:1;stroke-miterlimit:10;\" d=\"M 20 299.914062 L 40.144531 44.191406 \"/>\n",
       "<path style=\" stroke:none;fill-rule:nonzero;fill:rgb(26.666667%,26.666667%,26.666667%);fill-opacity:1;\" d=\"M 41.265625 29.96875 L 44.765625 44.554688 L 35.523438 43.828125 L 41.265625 29.96875 \"/>\n",
       "<path style=\"fill:none;stroke-width:1;stroke-linecap:butt;stroke-linejoin:miter;stroke:rgb(26.666667%,26.666667%,26.666667%);stroke-opacity:1;stroke-miterlimit:10;\" d=\"M 42.050781 20 L 187.605469 154.089844 \"/>\n",
       "<path style=\" stroke:none;fill-rule:nonzero;fill:rgb(26.666667%,26.666667%,26.666667%);fill-opacity:1;\" d=\"M 198.097656 163.757812 L 184.464844 157.5 L 190.746094 150.683594 L 198.097656 163.757812 \"/>\n",
       "<path style=\"fill:none;stroke-width:1;stroke-linecap:butt;stroke-linejoin:miter;stroke:rgb(26.666667%,26.666667%,26.666667%);stroke-opacity:1;stroke-miterlimit:10;\" d=\"M 205.453125 170.53125 L 280.472656 429.082031 \"/>\n",
       "<path style=\" stroke:none;fill-rule:nonzero;fill:rgb(26.666667%,26.666667%,26.666667%);fill-opacity:1;\" d=\"M 284.445312 442.78125 L 276.019531 430.371094 L 284.921875 427.789062 L 284.445312 442.78125 \"/>\n",
       "<path style=\"fill:none;stroke-width:1;stroke-linecap:butt;stroke-linejoin:miter;stroke:rgb(26.666667%,26.666667%,26.666667%);stroke-opacity:1;stroke-miterlimit:10;\" d=\"M 287.234375 452.386719 L 384.992188 238.058594 \"/>\n",
       "<path style=\" stroke:none;fill-rule:nonzero;fill:rgb(26.666667%,26.666667%,26.666667%);fill-opacity:1;\" d=\"M 390.914062 225.078125 L 389.210938 239.980469 L 380.773438 236.132812 L 390.914062 225.078125 \"/>\n",
       "<path style=\"fill:none;stroke-width:1;stroke-linecap:butt;stroke-linejoin:miter;stroke:rgb(26.666667%,26.666667%,26.666667%);stroke-opacity:1;stroke-miterlimit:10;\" d=\"M 102.445312 580 L 26.851562 323.191406 \"/>\n",
       "<path style=\" stroke:none;fill-rule:nonzero;fill:rgb(26.666667%,26.666667%,26.666667%);fill-opacity:1;\" d=\"M 22.824219 309.503906 L 31.296875 321.882812 L 22.40625 324.5 L 22.824219 309.503906 \"/>\n",
       "<path style=\"fill:none;stroke-width:1;stroke-linecap:butt;stroke-linejoin:miter;stroke:rgb(26.666667%,26.666667%,26.666667%);stroke-opacity:1;stroke-miterlimit:10;\" d=\"M 287.234375 452.386719 L 122.414062 566.210938 \"/>\n",
       "<path style=\" stroke:none;fill-rule:nonzero;fill:rgb(26.666667%,26.666667%,26.666667%);fill-opacity:1;\" d=\"M 110.675781 574.316406 L 119.777344 562.398438 L 125.046875 570.023438 L 110.675781 574.316406 \"/>\n",
       "<path style=\"fill-rule:nonzero;fill:rgb(100%,0%,0%);fill-opacity:1;stroke-width:1;stroke-linecap:butt;stroke-linejoin:miter;stroke:rgb(0%,0%,0%);stroke-opacity:1;stroke-miterlimit:10;\" d=\"M 405.0625 215.980469 C 405.0625 221.503906 400.585938 225.980469 395.0625 225.980469 C 389.539062 225.980469 385.0625 221.503906 385.0625 215.980469 C 385.0625 210.457031 389.539062 205.980469 395.0625 205.980469 C 400.585938 205.980469 405.0625 210.457031 405.0625 215.980469 \"/>\n",
       "<path style=\"fill-rule:nonzero;fill:rgb(100%,0%,0%);fill-opacity:1;stroke-width:1;stroke-linecap:butt;stroke-linejoin:miter;stroke:rgb(0%,0%,0%);stroke-opacity:1;stroke-miterlimit:10;\" d=\"M 590 127.53125 C 590 133.054688 585.523438 137.53125 580 137.53125 C 574.476562 137.53125 570 133.054688 570 127.53125 C 570 122.007812 574.476562 117.53125 580 117.53125 C 585.523438 117.53125 590 122.007812 590 127.53125 \"/>\n",
       "<path style=\"fill-rule:nonzero;fill:rgb(100%,0%,0%);fill-opacity:1;stroke-width:1;stroke-linecap:butt;stroke-linejoin:miter;stroke:rgb(0%,0%,0%);stroke-opacity:1;stroke-miterlimit:10;\" d=\"M 215.453125 170.53125 C 215.453125 176.054688 210.976562 180.53125 205.453125 180.53125 C 199.929688 180.53125 195.453125 176.054688 195.453125 170.53125 C 195.453125 165.007812 199.929688 160.53125 205.453125 160.53125 C 210.976562 160.53125 215.453125 165.007812 215.453125 170.53125 \"/>\n",
       "<path style=\"fill-rule:nonzero;fill:rgb(100%,0%,0%);fill-opacity:1;stroke-width:1;stroke-linecap:butt;stroke-linejoin:miter;stroke:rgb(0%,0%,0%);stroke-opacity:1;stroke-miterlimit:10;\" d=\"M 30 299.914062 C 30 305.433594 25.523438 309.914062 20 309.914062 C 14.476562 309.914062 10 305.433594 10 299.914062 C 10 294.390625 14.476562 289.914062 20 289.914062 C 25.523438 289.914062 30 294.390625 30 299.914062 \"/>\n",
       "<path style=\"fill-rule:nonzero;fill:rgb(100%,0%,0%);fill-opacity:1;stroke-width:1;stroke-linecap:butt;stroke-linejoin:miter;stroke:rgb(0%,0%,0%);stroke-opacity:1;stroke-miterlimit:10;\" d=\"M 52.050781 20 C 52.050781 25.523438 47.574219 30 42.050781 30 C 36.527344 30 32.050781 25.523438 32.050781 20 C 32.050781 14.476562 36.527344 10 42.050781 10 C 47.574219 10 52.050781 14.476562 52.050781 20 \"/>\n",
       "<path style=\"fill-rule:nonzero;fill:rgb(100%,0%,0%);fill-opacity:1;stroke-width:1;stroke-linecap:butt;stroke-linejoin:miter;stroke:rgb(0%,0%,0%);stroke-opacity:1;stroke-miterlimit:10;\" d=\"M 297.234375 452.386719 C 297.234375 457.910156 292.753906 462.386719 287.234375 462.386719 C 281.710938 462.386719 277.234375 457.910156 277.234375 452.386719 C 277.234375 446.863281 281.710938 442.386719 287.234375 442.386719 C 292.753906 442.386719 297.234375 446.863281 297.234375 452.386719 \"/>\n",
       "<path style=\"fill-rule:nonzero;fill:rgb(100%,0%,0%);fill-opacity:1;stroke-width:1;stroke-linecap:butt;stroke-linejoin:miter;stroke:rgb(0%,0%,0%);stroke-opacity:1;stroke-miterlimit:10;\" d=\"M 112.445312 580 C 112.445312 585.523438 107.96875 590 102.445312 590 C 96.921875 590 92.445312 585.523438 92.445312 580 C 92.445312 574.476562 96.921875 570 102.445312 570 C 107.96875 570 112.445312 574.476562 112.445312 580 \"/>\n",
       "</g>\n",
       "</svg>\n"
      ],
      "text/plain": [
       "<igraph.drawing.Plot at 0x7fcf97a19340>"
      ]
     },
     "execution_count": 45,
     "metadata": {
      "image/svg+xml": {
       "isolated": true
      }
     },
     "output_type": "execute_result"
    }
   ],
   "source": [
    "layout = g.layout(\"kk\")\n",
    "ig.plot(g, layout = layout)"
   ]
  },
  {
   "cell_type": "code",
   "execution_count": 46,
   "metadata": {},
   "outputs": [
    {
     "data": {
      "image/svg+xml": [
       "<?xml version=\"1.0\" encoding=\"UTF-8\"?>\n",
       "<svg xmlns=\"http://www.w3.org/2000/svg\" xmlns:xlink=\"http://www.w3.org/1999/xlink\" width=\"300pt\" height=\"300pt\" viewBox=\"0 0 300 300\" version=\"1.1\">\n",
       "<defs>\n",
       "<g>\n",
       "<symbol overflow=\"visible\" id=\"glyph0-0\">\n",
       "<path style=\"stroke:none;\" d=\"M 0.453125 0 L 0.453125 -10.042969 L 8.421875 -10.042969 L 8.421875 0 Z M 7.164062 -1.257812 L 7.164062 -8.785156 L 1.710938 -8.785156 L 1.710938 -1.257812 Z M 7.164062 -1.257812 \"/>\n",
       "</symbol>\n",
       "<symbol overflow=\"visible\" id=\"glyph0-1\">\n",
       "<path style=\"stroke:none;\" d=\"M 6.21875 -4.117188 L 4.695312 -8.550781 L 3.078125 -4.117188 Z M 3.984375 -10.042969 L 5.523438 -10.042969 L 9.167969 0 L 7.675781 0 L 6.65625 -3.007812 L 2.6875 -3.007812 L 1.601562 0 L 0.203125 0 Z M 3.984375 -10.042969 \"/>\n",
       "</symbol>\n",
       "<symbol overflow=\"visible\" id=\"glyph0-2\">\n",
       "<path style=\"stroke:none;\" d=\"M 4.839844 -5.796875 C 5.414062 -5.796875 5.859375 -5.875 6.179688 -6.035156 C 6.679688 -6.285156 6.929688 -6.738281 6.929688 -7.390625 C 6.929688 -8.046875 6.664062 -8.488281 6.132812 -8.714844 C 5.832031 -8.84375 5.382812 -8.90625 4.792969 -8.90625 L 2.367188 -8.90625 L 2.367188 -5.796875 Z M 5.296875 -1.164062 C 6.132812 -1.164062 6.726562 -1.402344 7.082031 -1.886719 C 7.304688 -2.191406 7.417969 -2.5625 7.417969 -2.992188 C 7.417969 -3.722656 7.089844 -4.21875 6.4375 -4.484375 C 6.09375 -4.625 5.636719 -4.695312 5.066406 -4.695312 L 2.367188 -4.695312 L 2.367188 -1.164062 Z M 1.03125 -10.042969 L 5.34375 -10.042969 C 6.519531 -10.042969 7.359375 -9.691406 7.855469 -8.988281 C 8.148438 -8.574219 8.292969 -8.097656 8.292969 -7.554688 C 8.292969 -6.921875 8.113281 -6.402344 7.75 -5.996094 C 7.5625 -5.78125 7.296875 -5.585938 6.945312 -5.40625 C 7.460938 -5.210938 7.84375 -4.992188 8.101562 -4.742188 C 8.550781 -4.304688 8.777344 -3.703125 8.777344 -2.933594 C 8.777344 -2.285156 8.574219 -1.699219 8.167969 -1.175781 C 7.5625 -0.390625 6.597656 0 5.277344 0 L 1.03125 0 Z M 1.03125 -10.042969 \"/>\n",
       "</symbol>\n",
       "<symbol overflow=\"visible\" id=\"glyph0-3\">\n",
       "<path style=\"stroke:none;\" d=\"M 5.296875 -10.316406 C 6.570312 -10.316406 7.554688 -9.980469 8.257812 -9.3125 C 8.960938 -8.640625 9.347656 -7.878906 9.425781 -7.027344 L 8.101562 -7.027344 C 7.949219 -7.675781 7.652344 -8.1875 7.203125 -8.566406 C 6.753906 -8.945312 6.121094 -9.132812 5.3125 -9.132812 C 4.324219 -9.132812 3.523438 -8.785156 2.914062 -8.089844 C 2.304688 -7.394531 2.003906 -6.328125 2.003906 -4.894531 C 2.003906 -3.71875 2.277344 -2.765625 2.828125 -2.035156 C 3.375 -1.304688 4.195312 -0.9375 5.285156 -0.9375 C 6.289062 -0.9375 7.050781 -1.320312 7.574219 -2.09375 C 7.851562 -2.5 8.058594 -3.03125 8.195312 -3.691406 L 9.523438 -3.691406 C 9.40625 -2.632812 9.011719 -1.746094 8.347656 -1.03125 C 7.550781 -0.171875 6.472656 0.257812 5.121094 0.257812 C 3.953125 0.257812 2.972656 -0.09375 2.179688 -0.800781 C 1.136719 -1.734375 0.617188 -3.175781 0.617188 -5.125 C 0.617188 -6.609375 1.007812 -7.824219 1.789062 -8.769531 C 2.636719 -9.800781 3.808594 -10.316406 5.296875 -10.316406 Z M 5.296875 -10.316406 \"/>\n",
       "</symbol>\n",
       "<symbol overflow=\"visible\" id=\"glyph0-4\">\n",
       "<path style=\"stroke:none;\" d=\"M 4.921875 -1.164062 C 5.382812 -1.164062 5.761719 -1.210938 6.054688 -1.304688 C 6.585938 -1.484375 7.019531 -1.824219 7.355469 -2.332031 C 7.625 -2.738281 7.816406 -3.257812 7.9375 -3.890625 C 8.003906 -4.269531 8.039062 -4.617188 8.039062 -4.941406 C 8.039062 -6.1875 7.792969 -7.152344 7.296875 -7.839844 C 6.804688 -8.527344 6.007812 -8.875 4.90625 -8.875 L 2.496094 -8.875 L 2.496094 -1.164062 Z M 1.128906 -10.042969 L 5.195312 -10.042969 C 6.578125 -10.042969 7.648438 -9.550781 8.40625 -8.570312 C 9.085938 -7.6875 9.425781 -6.554688 9.425781 -5.175781 C 9.425781 -4.109375 9.226562 -3.144531 8.824219 -2.28125 C 8.117188 -0.761719 6.90625 0 5.179688 0 L 1.128906 0 Z M 1.128906 -10.042969 \"/>\n",
       "</symbol>\n",
       "<symbol overflow=\"visible\" id=\"glyph0-5\">\n",
       "<path style=\"stroke:none;\" d=\"M 1.195312 -10.042969 L 8.515625 -10.042969 L 8.515625 -8.8125 L 2.523438 -8.8125 L 2.523438 -5.761719 L 8.066406 -5.761719 L 8.066406 -4.601562 L 2.523438 -4.601562 L 2.523438 -1.195312 L 8.621094 -1.195312 L 8.621094 0 L 1.195312 0 Z M 1.195312 -10.042969 \"/>\n",
       "</symbol>\n",
       "<symbol overflow=\"visible\" id=\"glyph0-6\">\n",
       "<path style=\"stroke:none;\" d=\"M 1.195312 -10.042969 L 8.164062 -10.042969 L 8.164062 -8.8125 L 2.554688 -8.8125 L 2.554688 -5.761719 L 7.484375 -5.761719 L 7.484375 -4.566406 L 2.554688 -4.566406 L 2.554688 0 L 1.195312 0 Z M 1.195312 -10.042969 \"/>\n",
       "</symbol>\n",
       "<symbol overflow=\"visible\" id=\"glyph0-7\">\n",
       "<path style=\"stroke:none;\" d=\"M 5.40625 -10.300781 C 6.351562 -10.300781 7.167969 -10.121094 7.855469 -9.753906 C 8.851562 -9.230469 9.464844 -8.3125 9.6875 -7 L 8.339844 -7 C 8.175781 -7.734375 7.835938 -8.269531 7.320312 -8.601562 C 6.804688 -8.9375 6.15625 -9.105469 5.375 -9.105469 C 4.445312 -9.105469 3.660156 -8.757812 3.023438 -8.058594 C 2.390625 -7.363281 2.070312 -6.324219 2.070312 -4.941406 C 2.070312 -3.75 2.332031 -2.777344 2.859375 -2.027344 C 3.382812 -1.277344 4.234375 -0.902344 5.421875 -0.902344 C 6.328125 -0.902344 7.078125 -1.164062 7.671875 -1.691406 C 8.265625 -2.21875 8.570312 -3.070312 8.585938 -4.246094 L 5.441406 -4.246094 L 5.441406 -5.375 L 9.851562 -5.375 L 9.851562 0 L 8.976562 0 L 8.648438 -1.292969 C 8.1875 -0.785156 7.78125 -0.433594 7.421875 -0.238281 C 6.828125 0.0976562 6.066406 0.265625 5.148438 0.265625 C 3.957031 0.265625 2.933594 -0.117188 2.078125 -0.890625 C 1.144531 -1.855469 0.675781 -3.179688 0.675781 -4.867188 C 0.675781 -6.546875 1.132812 -7.886719 2.042969 -8.878906 C 2.910156 -9.828125 4.03125 -10.300781 5.40625 -10.300781 Z M 5.40625 -10.300781 \"/>\n",
       "</symbol>\n",
       "</g>\n",
       "</defs>\n",
       "<g id=\"surface8\">\n",
       "<rect x=\"0\" y=\"0\" width=\"300\" height=\"300\" style=\"fill:rgb(100%,100%,100%);fill-opacity:1;stroke:none;\"/>\n",
       "<path style=\"fill:none;stroke-width:1;stroke-linecap:butt;stroke-linejoin:miter;stroke:rgb(26.666667%,26.666667%,26.666667%);stroke-opacity:1;stroke-miterlimit:10;\" d=\"M 194.136719 110.992188 L 258.109375 80.394531 \"/>\n",
       "<path style=\" stroke:none;fill-rule:nonzero;fill:rgb(26.666667%,26.666667%,26.666667%);fill-opacity:1;\" d=\"M 270.980469 74.238281 L 260.109375 84.578125 L 256.109375 76.214844 L 270.980469 74.238281 \"/>\n",
       "<path style=\"fill:none;stroke-width:1;stroke-linecap:butt;stroke-linejoin:miter;stroke:rgb(26.666667%,26.666667%,26.666667%);stroke-opacity:1;stroke-miterlimit:10;\" d=\"M 194.136719 110.992188 L 129.699219 95.546875 \"/>\n",
       "<path style=\" stroke:none;fill-rule:nonzero;fill:rgb(26.666667%,26.666667%,26.666667%);fill-opacity:1;\" d=\"M 115.828125 92.222656 L 130.78125 91.039062 L 128.621094 100.054688 L 115.828125 92.222656 \"/>\n",
       "<path style=\"fill:none;stroke-width:1;stroke-linecap:butt;stroke-linejoin:miter;stroke:rgb(26.666667%,26.666667%,26.666667%);stroke-opacity:1;stroke-miterlimit:10;\" d=\"M 106.101562 89.890625 L 39.902344 136.074219 \"/>\n",
       "<path style=\" stroke:none;fill-rule:nonzero;fill:rgb(26.666667%,26.666667%,26.666667%);fill-opacity:1;\" d=\"M 28.203125 144.238281 L 37.25 132.273438 L 42.554688 139.875 L 28.203125 144.238281 \"/>\n",
       "<path style=\"fill:none;stroke-width:1;stroke-linecap:butt;stroke-linejoin:miter;stroke:rgb(26.666667%,26.666667%,26.666667%);stroke-opacity:1;stroke-miterlimit:10;\" d=\"M 20 149.960938 L 28.332031 44.191406 \"/>\n",
       "<path style=\" stroke:none;fill-rule:nonzero;fill:rgb(26.666667%,26.666667%,26.666667%);fill-opacity:1;\" d=\"M 29.453125 29.96875 L 32.953125 44.554688 L 23.710938 43.828125 L 29.453125 29.96875 \"/>\n",
       "<path style=\"fill:none;stroke-width:1;stroke-linecap:butt;stroke-linejoin:miter;stroke:rgb(26.666667%,26.666667%,26.666667%);stroke-opacity:1;stroke-miterlimit:10;\" d=\"M 30.238281 20 L 88.257812 73.449219 \"/>\n",
       "<path style=\" stroke:none;fill-rule:nonzero;fill:rgb(26.666667%,26.666667%,26.666667%);fill-opacity:1;\" d=\"M 98.75 83.113281 L 85.117188 76.859375 L 91.398438 70.039062 L 98.75 83.113281 \"/>\n",
       "<path style=\"fill:none;stroke-width:1;stroke-linecap:butt;stroke-linejoin:miter;stroke:rgb(26.666667%,26.666667%,26.666667%);stroke-opacity:1;stroke-miterlimit:10;\" d=\"M 106.101562 89.890625 L 137.308594 197.445312 \"/>\n",
       "<path style=\" stroke:none;fill-rule:nonzero;fill:rgb(26.666667%,26.666667%,26.666667%);fill-opacity:1;\" d=\"M 141.285156 211.148438 L 132.859375 198.738281 L 141.761719 196.152344 L 141.285156 211.148438 \"/>\n",
       "<path style=\"fill:none;stroke-width:1;stroke-linecap:butt;stroke-linejoin:miter;stroke:rgb(26.666667%,26.666667%,26.666667%);stroke-opacity:1;stroke-miterlimit:10;\" d=\"M 144.074219 220.75 L 184.066406 133.066406 \"/>\n",
       "<path style=\" stroke:none;fill-rule:nonzero;fill:rgb(26.666667%,26.666667%,26.666667%);fill-opacity:1;\" d=\"M 189.984375 120.089844 L 188.28125 134.992188 L 179.847656 131.144531 L 189.984375 120.089844 \"/>\n",
       "<path style=\"fill:none;stroke-width:1;stroke-linecap:butt;stroke-linejoin:miter;stroke:rgb(26.666667%,26.666667%,26.666667%);stroke-opacity:1;stroke-miterlimit:10;\" d=\"M 58.277344 280 L 26.851562 173.238281 \"/>\n",
       "<path style=\" stroke:none;fill-rule:nonzero;fill:rgb(26.666667%,26.666667%,26.666667%);fill-opacity:1;\" d=\"M 22.824219 159.550781 L 31.296875 171.929688 L 22.40625 174.546875 L 22.824219 159.550781 \"/>\n",
       "<path style=\"fill:none;stroke-width:1;stroke-linecap:butt;stroke-linejoin:miter;stroke:rgb(26.666667%,26.666667%,26.666667%);stroke-opacity:1;stroke-miterlimit:10;\" d=\"M 144.074219 220.75 L 78.246094 266.210938 \"/>\n",
       "<path style=\" stroke:none;fill-rule:nonzero;fill:rgb(26.666667%,26.666667%,26.666667%);fill-opacity:1;\" d=\"M 66.507812 274.316406 L 75.613281 262.398438 L 80.878906 270.023438 L 66.507812 274.316406 \"/>\n",
       "<path style=\"fill-rule:nonzero;fill:rgb(100%,75.294118%,79.607843%);fill-opacity:1;stroke-width:1;stroke-linecap:butt;stroke-linejoin:miter;stroke:rgb(0%,0%,0%);stroke-opacity:1;stroke-miterlimit:10;\" d=\"M 204.136719 110.992188 C 204.136719 116.511719 199.660156 120.992188 194.136719 120.992188 C 188.613281 120.992188 184.136719 116.511719 184.136719 110.992188 C 184.136719 105.46875 188.613281 100.992188 194.136719 100.992188 C 199.660156 100.992188 204.136719 105.46875 204.136719 110.992188 \"/>\n",
       "<path style=\"fill-rule:nonzero;fill:rgb(0%,0%,100%);fill-opacity:1;stroke-width:1;stroke-linecap:butt;stroke-linejoin:miter;stroke:rgb(0%,0%,0%);stroke-opacity:1;stroke-miterlimit:10;\" d=\"M 290 69.925781 C 290 75.449219 285.523438 79.925781 280 79.925781 C 274.476562 79.925781 270 75.449219 270 69.925781 C 270 64.402344 274.476562 59.925781 280 59.925781 C 285.523438 59.925781 290 64.402344 290 69.925781 \"/>\n",
       "<path style=\"fill-rule:nonzero;fill:rgb(100%,75.294118%,79.607843%);fill-opacity:1;stroke-width:1;stroke-linecap:butt;stroke-linejoin:miter;stroke:rgb(0%,0%,0%);stroke-opacity:1;stroke-miterlimit:10;\" d=\"M 116.101562 89.890625 C 116.101562 95.414062 111.625 99.890625 106.101562 99.890625 C 100.582031 99.890625 96.101562 95.414062 96.101562 89.890625 C 96.101562 84.367188 100.582031 79.890625 106.101562 79.890625 C 111.625 79.890625 116.101562 84.367188 116.101562 89.890625 \"/>\n",
       "<path style=\"fill-rule:nonzero;fill:rgb(0%,0%,100%);fill-opacity:1;stroke-width:1;stroke-linecap:butt;stroke-linejoin:miter;stroke:rgb(0%,0%,0%);stroke-opacity:1;stroke-miterlimit:10;\" d=\"M 30 149.960938 C 30 155.480469 25.523438 159.960938 20 159.960938 C 14.476562 159.960938 10 155.480469 10 149.960938 C 10 144.4375 14.476562 139.960938 20 139.960938 C 25.523438 139.960938 30 144.4375 30 149.960938 \"/>\n",
       "<path style=\"fill-rule:nonzero;fill:rgb(100%,75.294118%,79.607843%);fill-opacity:1;stroke-width:1;stroke-linecap:butt;stroke-linejoin:miter;stroke:rgb(0%,0%,0%);stroke-opacity:1;stroke-miterlimit:10;\" d=\"M 40.238281 20 C 40.238281 25.523438 35.761719 30 30.238281 30 C 24.714844 30 20.238281 25.523438 20.238281 20 C 20.238281 14.476562 24.714844 10 30.238281 10 C 35.761719 10 40.238281 14.476562 40.238281 20 \"/>\n",
       "<path style=\"fill-rule:nonzero;fill:rgb(0%,0%,100%);fill-opacity:1;stroke-width:1;stroke-linecap:butt;stroke-linejoin:miter;stroke:rgb(0%,0%,0%);stroke-opacity:1;stroke-miterlimit:10;\" d=\"M 154.074219 220.75 C 154.074219 226.273438 149.59375 230.75 144.074219 230.75 C 138.550781 230.75 134.074219 226.273438 134.074219 220.75 C 134.074219 215.226562 138.550781 210.75 144.074219 210.75 C 149.59375 210.75 154.074219 215.226562 154.074219 220.75 \"/>\n",
       "<path style=\"fill-rule:nonzero;fill:rgb(0%,0%,100%);fill-opacity:1;stroke-width:1;stroke-linecap:butt;stroke-linejoin:miter;stroke:rgb(0%,0%,0%);stroke-opacity:1;stroke-miterlimit:10;\" d=\"M 68.277344 280 C 68.277344 285.523438 63.800781 290 58.277344 290 C 52.753906 290 48.277344 285.523438 48.277344 280 C 48.277344 274.476562 52.753906 270 58.277344 270 C 63.800781 270 68.277344 274.476562 68.277344 280 \"/>\n",
       "<g style=\"fill:rgb(0%,0%,0%);fill-opacity:1;\">\n",
       "  <use xlink:href=\"#glyph0-1\" x=\"189.449219\" y=\"117.621094\"/>\n",
       "</g>\n",
       "<g style=\"fill:rgb(0%,0%,0%);fill-opacity:1;\">\n",
       "  <use xlink:href=\"#glyph0-2\" x=\"275.09375\" y=\"76.554688\"/>\n",
       "</g>\n",
       "<g style=\"fill:rgb(0%,0%,0%);fill-opacity:1;\">\n",
       "  <use xlink:href=\"#glyph0-3\" x=\"101.035156\" y=\"96.65625\"/>\n",
       "</g>\n",
       "<g style=\"fill:rgb(0%,0%,0%);fill-opacity:1;\">\n",
       "  <use xlink:href=\"#glyph0-4\" x=\"14.722656\" y=\"156.589844\"/>\n",
       "</g>\n",
       "<g style=\"fill:rgb(0%,0%,0%);fill-opacity:1;\">\n",
       "  <use xlink:href=\"#glyph0-5\" x=\"25.328125\" y=\"26.632812\"/>\n",
       "</g>\n",
       "<g style=\"fill:rgb(0%,0%,0%);fill-opacity:1;\">\n",
       "  <use xlink:href=\"#glyph0-6\" x=\"139.394531\" y=\"227.382812\"/>\n",
       "</g>\n",
       "<g style=\"fill:rgb(0%,0%,0%);fill-opacity:1;\">\n",
       "  <use xlink:href=\"#glyph0-7\" x=\"53.015625\" y=\"286.765625\"/>\n",
       "</g>\n",
       "</g>\n",
       "</svg>\n"
      ],
      "text/plain": [
       "<igraph.drawing.Plot at 0x7fcf97a1a430>"
      ]
     },
     "execution_count": 46,
     "metadata": {
      "image/svg+xml": {
       "isolated": true
      }
     },
     "output_type": "execute_result"
    }
   ],
   "source": [
    "g.vs[\"label\"] = g.vs[\"name\"]\n",
    "color_dict = {\"m\": \"blue\", \"f\": \"pink\"}\n",
    "g.vs[\"color\"] = [color_dict[gender] for gender in g.vs[\"gender\"]]\n",
    "ig.plot(g, layout = layout, bbox = (300, 300), margin = 20)"
   ]
  },
  {
   "cell_type": "code",
   "execution_count": 47,
   "metadata": {},
   "outputs": [
    {
     "data": {
      "image/svg+xml": [
       "<?xml version=\"1.0\" encoding=\"UTF-8\"?>\n",
       "<svg xmlns=\"http://www.w3.org/2000/svg\" xmlns:xlink=\"http://www.w3.org/1999/xlink\" width=\"400pt\" height=\"400pt\" viewBox=\"0 0 400 400\" version=\"1.1\">\n",
       "<defs>\n",
       "<g>\n",
       "<symbol overflow=\"visible\" id=\"glyph0-0\">\n",
       "<path style=\"stroke:none;\" d=\"M 0.453125 0 L 0.453125 -10.042969 L 8.421875 -10.042969 L 8.421875 0 Z M 7.164062 -1.257812 L 7.164062 -8.785156 L 1.710938 -8.785156 L 1.710938 -1.257812 Z M 7.164062 -1.257812 \"/>\n",
       "</symbol>\n",
       "<symbol overflow=\"visible\" id=\"glyph0-1\">\n",
       "<path style=\"stroke:none;\" d=\"M 6.21875 -4.117188 L 4.695312 -8.550781 L 3.078125 -4.117188 Z M 3.984375 -10.042969 L 5.523438 -10.042969 L 9.167969 0 L 7.675781 0 L 6.65625 -3.007812 L 2.6875 -3.007812 L 1.601562 0 L 0.203125 0 Z M 3.984375 -10.042969 \"/>\n",
       "</symbol>\n",
       "<symbol overflow=\"visible\" id=\"glyph0-2\">\n",
       "<path style=\"stroke:none;\" d=\"M 4.839844 -5.796875 C 5.414062 -5.796875 5.859375 -5.875 6.179688 -6.035156 C 6.679688 -6.285156 6.929688 -6.738281 6.929688 -7.390625 C 6.929688 -8.046875 6.664062 -8.488281 6.132812 -8.714844 C 5.832031 -8.84375 5.382812 -8.90625 4.792969 -8.90625 L 2.367188 -8.90625 L 2.367188 -5.796875 Z M 5.296875 -1.164062 C 6.132812 -1.164062 6.726562 -1.402344 7.082031 -1.886719 C 7.304688 -2.191406 7.417969 -2.5625 7.417969 -2.992188 C 7.417969 -3.722656 7.089844 -4.21875 6.4375 -4.484375 C 6.09375 -4.625 5.636719 -4.695312 5.066406 -4.695312 L 2.367188 -4.695312 L 2.367188 -1.164062 Z M 1.03125 -10.042969 L 5.34375 -10.042969 C 6.519531 -10.042969 7.359375 -9.691406 7.855469 -8.988281 C 8.148438 -8.574219 8.292969 -8.097656 8.292969 -7.554688 C 8.292969 -6.921875 8.113281 -6.402344 7.75 -5.996094 C 7.5625 -5.78125 7.296875 -5.585938 6.945312 -5.40625 C 7.460938 -5.210938 7.84375 -4.992188 8.101562 -4.742188 C 8.550781 -4.304688 8.777344 -3.703125 8.777344 -2.933594 C 8.777344 -2.285156 8.574219 -1.699219 8.167969 -1.175781 C 7.5625 -0.390625 6.597656 0 5.277344 0 L 1.03125 0 Z M 1.03125 -10.042969 \"/>\n",
       "</symbol>\n",
       "<symbol overflow=\"visible\" id=\"glyph0-3\">\n",
       "<path style=\"stroke:none;\" d=\"M 5.296875 -10.316406 C 6.570312 -10.316406 7.554688 -9.980469 8.257812 -9.3125 C 8.960938 -8.640625 9.347656 -7.878906 9.425781 -7.027344 L 8.101562 -7.027344 C 7.949219 -7.675781 7.652344 -8.1875 7.203125 -8.566406 C 6.753906 -8.945312 6.121094 -9.132812 5.3125 -9.132812 C 4.324219 -9.132812 3.523438 -8.785156 2.914062 -8.089844 C 2.304688 -7.394531 2.003906 -6.328125 2.003906 -4.894531 C 2.003906 -3.71875 2.277344 -2.765625 2.828125 -2.035156 C 3.375 -1.304688 4.195312 -0.9375 5.285156 -0.9375 C 6.289062 -0.9375 7.050781 -1.320312 7.574219 -2.09375 C 7.851562 -2.5 8.058594 -3.03125 8.195312 -3.691406 L 9.523438 -3.691406 C 9.40625 -2.632812 9.011719 -1.746094 8.347656 -1.03125 C 7.550781 -0.171875 6.472656 0.257812 5.121094 0.257812 C 3.953125 0.257812 2.972656 -0.09375 2.179688 -0.800781 C 1.136719 -1.734375 0.617188 -3.175781 0.617188 -5.125 C 0.617188 -6.609375 1.007812 -7.824219 1.789062 -8.769531 C 2.636719 -9.800781 3.808594 -10.316406 5.296875 -10.316406 Z M 5.296875 -10.316406 \"/>\n",
       "</symbol>\n",
       "<symbol overflow=\"visible\" id=\"glyph0-4\">\n",
       "<path style=\"stroke:none;\" d=\"M 4.921875 -1.164062 C 5.382812 -1.164062 5.761719 -1.210938 6.054688 -1.304688 C 6.585938 -1.484375 7.019531 -1.824219 7.355469 -2.332031 C 7.625 -2.738281 7.816406 -3.257812 7.9375 -3.890625 C 8.003906 -4.269531 8.039062 -4.617188 8.039062 -4.941406 C 8.039062 -6.1875 7.792969 -7.152344 7.296875 -7.839844 C 6.804688 -8.527344 6.007812 -8.875 4.90625 -8.875 L 2.496094 -8.875 L 2.496094 -1.164062 Z M 1.128906 -10.042969 L 5.195312 -10.042969 C 6.578125 -10.042969 7.648438 -9.550781 8.40625 -8.570312 C 9.085938 -7.6875 9.425781 -6.554688 9.425781 -5.175781 C 9.425781 -4.109375 9.226562 -3.144531 8.824219 -2.28125 C 8.117188 -0.761719 6.90625 0 5.179688 0 L 1.128906 0 Z M 1.128906 -10.042969 \"/>\n",
       "</symbol>\n",
       "<symbol overflow=\"visible\" id=\"glyph0-5\">\n",
       "<path style=\"stroke:none;\" d=\"M 1.195312 -10.042969 L 8.515625 -10.042969 L 8.515625 -8.8125 L 2.523438 -8.8125 L 2.523438 -5.761719 L 8.066406 -5.761719 L 8.066406 -4.601562 L 2.523438 -4.601562 L 2.523438 -1.195312 L 8.621094 -1.195312 L 8.621094 0 L 1.195312 0 Z M 1.195312 -10.042969 \"/>\n",
       "</symbol>\n",
       "<symbol overflow=\"visible\" id=\"glyph0-6\">\n",
       "<path style=\"stroke:none;\" d=\"M 1.195312 -10.042969 L 8.164062 -10.042969 L 8.164062 -8.8125 L 2.554688 -8.8125 L 2.554688 -5.761719 L 7.484375 -5.761719 L 7.484375 -4.566406 L 2.554688 -4.566406 L 2.554688 0 L 1.195312 0 Z M 1.195312 -10.042969 \"/>\n",
       "</symbol>\n",
       "<symbol overflow=\"visible\" id=\"glyph0-7\">\n",
       "<path style=\"stroke:none;\" d=\"M 5.40625 -10.300781 C 6.351562 -10.300781 7.167969 -10.121094 7.855469 -9.753906 C 8.851562 -9.230469 9.464844 -8.3125 9.6875 -7 L 8.339844 -7 C 8.175781 -7.734375 7.835938 -8.269531 7.320312 -8.601562 C 6.804688 -8.9375 6.15625 -9.105469 5.375 -9.105469 C 4.445312 -9.105469 3.660156 -8.757812 3.023438 -8.058594 C 2.390625 -7.363281 2.070312 -6.324219 2.070312 -4.941406 C 2.070312 -3.75 2.332031 -2.777344 2.859375 -2.027344 C 3.382812 -1.277344 4.234375 -0.902344 5.421875 -0.902344 C 6.328125 -0.902344 7.078125 -1.164062 7.671875 -1.691406 C 8.265625 -2.21875 8.570312 -3.070312 8.585938 -4.246094 L 5.441406 -4.246094 L 5.441406 -5.375 L 9.851562 -5.375 L 9.851562 0 L 8.976562 0 L 8.648438 -1.292969 C 8.1875 -0.785156 7.78125 -0.433594 7.421875 -0.238281 C 6.828125 0.0976562 6.066406 0.265625 5.148438 0.265625 C 3.957031 0.265625 2.933594 -0.117188 2.078125 -0.890625 C 1.144531 -1.855469 0.675781 -3.179688 0.675781 -4.867188 C 0.675781 -6.546875 1.132812 -7.886719 2.042969 -8.878906 C 2.910156 -9.828125 4.03125 -10.300781 5.40625 -10.300781 Z M 5.40625 -10.300781 \"/>\n",
       "</symbol>\n",
       "</g>\n",
       "</defs>\n",
       "<g id=\"surface14\">\n",
       "<rect x=\"0\" y=\"0\" width=\"400\" height=\"400\" style=\"fill:rgb(100%,100%,100%);fill-opacity:1;stroke:none;\"/>\n",
       "<path style=\"fill:none;stroke-width:3;stroke-linecap:butt;stroke-linejoin:miter;stroke:rgb(26.666667%,26.666667%,26.666667%);stroke-opacity:1;stroke-miterlimit:10;\" d=\"M 261.109375 145.988281 C 293.007812 137.75 323.386719 125.628906 351.066406 107.78125 \"/>\n",
       "<path style=\" stroke:none;fill-rule:nonzero;fill:rgb(26.666667%,26.666667%,26.666667%);fill-opacity:1;\" d=\"M 363.054688 100.050781 L 353.578125 111.679688 L 348.554688 103.886719 L 363.054688 100.050781 \"/>\n",
       "<path style=\"fill:none;stroke-width:1;stroke-linecap:butt;stroke-linejoin:miter;stroke:rgb(26.666667%,26.666667%,26.666667%);stroke-opacity:1;stroke-miterlimit:10;\" d=\"M 261.109375 145.988281 C 233.160156 133.121094 204.015625 123.917969 173.4375 120.542969 \"/>\n",
       "<path style=\" stroke:none;fill-rule:nonzero;fill:rgb(26.666667%,26.666667%,26.666667%);fill-opacity:1;\" d=\"M 159.257812 118.980469 L 173.945312 115.9375 L 172.929688 125.152344 L 159.257812 118.980469 \"/>\n",
       "<path style=\"fill:none;stroke-width:3;stroke-linecap:butt;stroke-linejoin:miter;stroke:rgb(26.666667%,26.666667%,26.666667%);stroke-opacity:1;stroke-miterlimit:10;\" d=\"M 139.21875 116.769531 C 104.972656 132.085938 73.234375 151.550781 45.480469 176.78125 \"/>\n",
       "<path style=\" stroke:none;fill-rule:nonzero;fill:rgb(26.666667%,26.666667%,26.666667%);fill-opacity:1;\" d=\"M 34.921875 186.378906 L 42.359375 173.351562 L 48.597656 180.210938 L 34.921875 186.378906 \"/>\n",
       "<path style=\"fill:none;stroke-width:3;stroke-linecap:butt;stroke-linejoin:miter;stroke:rgb(26.666667%,26.666667%,26.666667%);stroke-opacity:1;stroke-miterlimit:10;\" d=\"M 20 199.945312 C 32.621094 152.226562 38.695312 103.671875 36.035156 54.394531 \"/>\n",
       "<path style=\" stroke:none;fill-rule:nonzero;fill:rgb(26.666667%,26.666667%,26.666667%);fill-opacity:1;\" d=\"M 35.265625 40.148438 L 40.664062 54.144531 L 31.40625 54.644531 L 35.265625 40.148438 \"/>\n",
       "<path style=\"fill:none;stroke-width:3;stroke-linecap:butt;stroke-linejoin:miter;stroke:rgb(26.666667%,26.666667%,26.666667%);stroke-opacity:1;stroke-miterlimit:10;\" d=\"M 34.175781 20 C 55.980469 49.472656 81.207031 75.691406 111.121094 96.875 \"/>\n",
       "<path style=\" stroke:none;fill-rule:nonzero;fill:rgb(26.666667%,26.666667%,26.666667%);fill-opacity:1;\" d=\"M 122.761719 105.117188 L 108.441406 100.65625 L 113.796875 93.089844 L 122.761719 105.117188 \"/>\n",
       "<path style=\"fill:none;stroke-width:1;stroke-linecap:butt;stroke-linejoin:miter;stroke:rgb(26.666667%,26.666667%,26.666667%);stroke-opacity:1;stroke-miterlimit:10;\" d=\"M 139.21875 116.769531 C 144.625 168.597656 156.84375 218.785156 177.882812 266.449219 \"/>\n",
       "<path style=\" stroke:none;fill-rule:nonzero;fill:rgb(26.666667%,26.666667%,26.666667%);fill-opacity:1;\" d=\"M 183.644531 279.5 L 173.640625 268.324219 L 182.125 264.578125 L 183.644531 279.5 \"/>\n",
       "<path style=\"fill:none;stroke-width:3;stroke-linecap:butt;stroke-linejoin:miter;stroke:rgb(26.666667%,26.666667%,26.666667%);stroke-opacity:1;stroke-miterlimit:10;\" d=\"M 191.792969 297.960938 C 217.496094 261.246094 237.945312 221.777344 251.042969 178.921875 \"/>\n",
       "<path style=\" stroke:none;fill-rule:nonzero;fill:rgb(26.666667%,26.666667%,26.666667%);fill-opacity:1;\" d=\"M 255.214844 165.277344 L 255.476562 180.277344 L 246.609375 177.566406 L 255.214844 165.277344 \"/>\n",
       "<path style=\"fill:none;stroke-width:1;stroke-linecap:butt;stroke-linejoin:miter;stroke:rgb(26.666667%,26.666667%,26.666667%);stroke-opacity:1;stroke-miterlimit:10;\" d=\"M 73 380 C 67.441406 328.519531 55.117188 278.6875 34.027344 231.402344 \"/>\n",
       "<path style=\" stroke:none;fill-rule:nonzero;fill:rgb(26.666667%,26.666667%,26.666667%);fill-opacity:1;\" d=\"M 28.21875 218.371094 L 38.261719 229.515625 L 29.796875 233.289062 L 28.21875 218.371094 \"/>\n",
       "<path style=\"fill:none;stroke-width:1;stroke-linecap:butt;stroke-linejoin:miter;stroke:rgb(26.666667%,26.666667%,26.666667%);stroke-opacity:1;stroke-miterlimit:10;\" d=\"M 191.792969 297.960938 C 157.777344 312.96875 126.21875 332.09375 98.59375 356.964844 \"/>\n",
       "<path style=\" stroke:none;fill-rule:nonzero;fill:rgb(26.666667%,26.666667%,26.666667%);fill-opacity:1;\" d=\"M 87.988281 366.507812 L 95.492188 353.519531 L 101.691406 360.410156 L 87.988281 366.507812 \"/>\n",
       "<path style=\"fill-rule:nonzero;fill:rgb(100%,75.294118%,79.607843%);fill-opacity:1;stroke-width:1;stroke-linecap:butt;stroke-linejoin:miter;stroke:rgb(0%,0%,0%);stroke-opacity:1;stroke-miterlimit:10;\" d=\"M 281.109375 145.988281 C 281.109375 157.03125 272.15625 165.988281 261.109375 165.988281 C 250.066406 165.988281 241.109375 157.03125 241.109375 145.988281 C 241.109375 134.941406 250.066406 125.988281 261.109375 125.988281 C 272.15625 125.988281 281.109375 134.941406 281.109375 145.988281 \"/>\n",
       "<path style=\"fill-rule:nonzero;fill:rgb(0%,0%,100%);fill-opacity:1;stroke-width:1;stroke-linecap:butt;stroke-linejoin:miter;stroke:rgb(0%,0%,0%);stroke-opacity:1;stroke-miterlimit:10;\" d=\"M 400 89.128906 C 400 100.171875 391.046875 109.128906 380 109.128906 C 368.953125 109.128906 360 100.171875 360 89.128906 C 360 78.082031 368.953125 69.128906 380 69.128906 C 391.046875 69.128906 400 78.082031 400 89.128906 \"/>\n",
       "<path style=\"fill-rule:nonzero;fill:rgb(100%,75.294118%,79.607843%);fill-opacity:1;stroke-width:1;stroke-linecap:butt;stroke-linejoin:miter;stroke:rgb(0%,0%,0%);stroke-opacity:1;stroke-miterlimit:10;\" d=\"M 159.21875 116.769531 C 159.21875 127.816406 150.265625 136.769531 139.21875 136.769531 C 128.175781 136.769531 119.21875 127.816406 119.21875 116.769531 C 119.21875 105.726562 128.175781 96.769531 139.21875 96.769531 C 150.265625 96.769531 159.21875 105.726562 159.21875 116.769531 \"/>\n",
       "<path style=\"fill-rule:nonzero;fill:rgb(0%,0%,100%);fill-opacity:1;stroke-width:1;stroke-linecap:butt;stroke-linejoin:miter;stroke:rgb(0%,0%,0%);stroke-opacity:1;stroke-miterlimit:10;\" d=\"M 40 199.945312 C 40 210.988281 31.046875 219.945312 20 219.945312 C 8.953125 219.945312 0 210.988281 0 199.945312 C 0 188.898438 8.953125 179.945312 20 179.945312 C 31.046875 179.945312 40 188.898438 40 199.945312 \"/>\n",
       "<path style=\"fill-rule:nonzero;fill:rgb(100%,75.294118%,79.607843%);fill-opacity:1;stroke-width:1;stroke-linecap:butt;stroke-linejoin:miter;stroke:rgb(0%,0%,0%);stroke-opacity:1;stroke-miterlimit:10;\" d=\"M 54.175781 20 C 54.175781 31.046875 45.222656 40 34.175781 40 C 23.128906 40 14.175781 31.046875 14.175781 20 C 14.175781 8.953125 23.128906 0 34.175781 0 C 45.222656 0 54.175781 8.953125 54.175781 20 \"/>\n",
       "<path style=\"fill-rule:nonzero;fill:rgb(0%,0%,100%);fill-opacity:1;stroke-width:1;stroke-linecap:butt;stroke-linejoin:miter;stroke:rgb(0%,0%,0%);stroke-opacity:1;stroke-miterlimit:10;\" d=\"M 211.792969 297.960938 C 211.792969 309.007812 202.839844 317.960938 191.792969 317.960938 C 180.746094 317.960938 171.792969 309.007812 171.792969 297.960938 C 171.792969 286.917969 180.746094 277.960938 191.792969 277.960938 C 202.839844 277.960938 211.792969 286.917969 211.792969 297.960938 \"/>\n",
       "<path style=\"fill-rule:nonzero;fill:rgb(0%,0%,100%);fill-opacity:1;stroke-width:1;stroke-linecap:butt;stroke-linejoin:miter;stroke:rgb(0%,0%,0%);stroke-opacity:1;stroke-miterlimit:10;\" d=\"M 93 380 C 93 391.046875 84.046875 400 73 400 C 61.957031 400 53 391.046875 53 380 C 53 368.953125 61.957031 360 73 360 C 84.046875 360 93 368.953125 93 380 \"/>\n",
       "<g style=\"fill:rgb(0%,0%,0%);fill-opacity:1;\">\n",
       "  <use xlink:href=\"#glyph0-1\" x=\"256.425781\" y=\"152.617188\"/>\n",
       "</g>\n",
       "<g style=\"fill:rgb(0%,0%,0%);fill-opacity:1;\">\n",
       "  <use xlink:href=\"#glyph0-2\" x=\"375.09375\" y=\"95.757812\"/>\n",
       "</g>\n",
       "<g style=\"fill:rgb(0%,0%,0%);fill-opacity:1;\">\n",
       "  <use xlink:href=\"#glyph0-3\" x=\"134.152344\" y=\"123.539062\"/>\n",
       "</g>\n",
       "<g style=\"fill:rgb(0%,0%,0%);fill-opacity:1;\">\n",
       "  <use xlink:href=\"#glyph0-4\" x=\"14.722656\" y=\"206.574219\"/>\n",
       "</g>\n",
       "<g style=\"fill:rgb(0%,0%,0%);fill-opacity:1;\">\n",
       "  <use xlink:href=\"#glyph0-5\" x=\"29.265625\" y=\"26.632812\"/>\n",
       "</g>\n",
       "<g style=\"fill:rgb(0%,0%,0%);fill-opacity:1;\">\n",
       "  <use xlink:href=\"#glyph0-6\" x=\"187.113281\" y=\"304.59375\"/>\n",
       "</g>\n",
       "<g style=\"fill:rgb(0%,0%,0%);fill-opacity:1;\">\n",
       "  <use xlink:href=\"#glyph0-7\" x=\"67.738281\" y=\"386.765625\"/>\n",
       "</g>\n",
       "</g>\n",
       "</svg>\n"
      ],
      "text/plain": [
       "<igraph.drawing.Plot at 0x7fcf97b86e50>"
      ]
     },
     "execution_count": 47,
     "metadata": {
      "image/svg+xml": {
       "isolated": true
      }
     },
     "output_type": "execute_result"
    }
   ],
   "source": [
    "layout = g.layout(\"kk\")\n",
    "visual_style = {}\n",
    "visual_style[\"vertex_size\"] = 40\n",
    "visual_style[\"vertex_color\"] = [color_dict[gender] for gender in g.vs[\"gender\"]]\n",
    "visual_style[\"vertex_label\"] = g.vs[\"name\"]\n",
    "visual_style[\"edge_width\"] = [1 + 2 * int(is_formal) for is_formal in g.es[\"is_formal\"]]\n",
    "visual_style[\"layout\"] = layout\n",
    "visual_style[\"bbox\"] = (400, 400)\n",
    "visual_style[\"margin\"] = 20\n",
    "visual_style['edge_curved']=0.1\n",
    "ig.plot(g, **visual_style)\n"
   ]
  },
  {
   "cell_type": "code",
   "execution_count": 48,
   "metadata": {},
   "outputs": [
    {
     "data": {
      "image/svg+xml": [
       "<?xml version=\"1.0\" encoding=\"UTF-8\"?>\n",
       "<svg xmlns=\"http://www.w3.org/2000/svg\" xmlns:xlink=\"http://www.w3.org/1999/xlink\" width=\"600pt\" height=\"600pt\" viewBox=\"0 0 600 600\" version=\"1.1\">\n",
       "<defs>\n",
       "<g>\n",
       "<symbol overflow=\"visible\" id=\"glyph0-0\">\n",
       "<path style=\"stroke:none;\" d=\"M 0.453125 0 L 0.453125 -10.042969 L 8.421875 -10.042969 L 8.421875 0 Z M 7.164062 -1.257812 L 7.164062 -8.785156 L 1.710938 -8.785156 L 1.710938 -1.257812 Z M 7.164062 -1.257812 \"/>\n",
       "</symbol>\n",
       "<symbol overflow=\"visible\" id=\"glyph0-1\">\n",
       "<path style=\"stroke:none;\" d=\"M 6.21875 -4.117188 L 4.695312 -8.550781 L 3.078125 -4.117188 Z M 3.984375 -10.042969 L 5.523438 -10.042969 L 9.167969 0 L 7.675781 0 L 6.65625 -3.007812 L 2.6875 -3.007812 L 1.601562 0 L 0.203125 0 Z M 3.984375 -10.042969 \"/>\n",
       "</symbol>\n",
       "<symbol overflow=\"visible\" id=\"glyph0-2\">\n",
       "<path style=\"stroke:none;\" d=\"M 4.839844 -5.796875 C 5.414062 -5.796875 5.859375 -5.875 6.179688 -6.035156 C 6.679688 -6.285156 6.929688 -6.738281 6.929688 -7.390625 C 6.929688 -8.046875 6.664062 -8.488281 6.132812 -8.714844 C 5.832031 -8.84375 5.382812 -8.90625 4.792969 -8.90625 L 2.367188 -8.90625 L 2.367188 -5.796875 Z M 5.296875 -1.164062 C 6.132812 -1.164062 6.726562 -1.402344 7.082031 -1.886719 C 7.304688 -2.191406 7.417969 -2.5625 7.417969 -2.992188 C 7.417969 -3.722656 7.089844 -4.21875 6.4375 -4.484375 C 6.09375 -4.625 5.636719 -4.695312 5.066406 -4.695312 L 2.367188 -4.695312 L 2.367188 -1.164062 Z M 1.03125 -10.042969 L 5.34375 -10.042969 C 6.519531 -10.042969 7.359375 -9.691406 7.855469 -8.988281 C 8.148438 -8.574219 8.292969 -8.097656 8.292969 -7.554688 C 8.292969 -6.921875 8.113281 -6.402344 7.75 -5.996094 C 7.5625 -5.78125 7.296875 -5.585938 6.945312 -5.40625 C 7.460938 -5.210938 7.84375 -4.992188 8.101562 -4.742188 C 8.550781 -4.304688 8.777344 -3.703125 8.777344 -2.933594 C 8.777344 -2.285156 8.574219 -1.699219 8.167969 -1.175781 C 7.5625 -0.390625 6.597656 0 5.277344 0 L 1.03125 0 Z M 1.03125 -10.042969 \"/>\n",
       "</symbol>\n",
       "<symbol overflow=\"visible\" id=\"glyph0-3\">\n",
       "<path style=\"stroke:none;\" d=\"M 5.296875 -10.316406 C 6.570312 -10.316406 7.554688 -9.980469 8.257812 -9.3125 C 8.960938 -8.640625 9.347656 -7.878906 9.425781 -7.027344 L 8.101562 -7.027344 C 7.949219 -7.675781 7.652344 -8.1875 7.203125 -8.566406 C 6.753906 -8.945312 6.121094 -9.132812 5.3125 -9.132812 C 4.324219 -9.132812 3.523438 -8.785156 2.914062 -8.089844 C 2.304688 -7.394531 2.003906 -6.328125 2.003906 -4.894531 C 2.003906 -3.71875 2.277344 -2.765625 2.828125 -2.035156 C 3.375 -1.304688 4.195312 -0.9375 5.285156 -0.9375 C 6.289062 -0.9375 7.050781 -1.320312 7.574219 -2.09375 C 7.851562 -2.5 8.058594 -3.03125 8.195312 -3.691406 L 9.523438 -3.691406 C 9.40625 -2.632812 9.011719 -1.746094 8.347656 -1.03125 C 7.550781 -0.171875 6.472656 0.257812 5.121094 0.257812 C 3.953125 0.257812 2.972656 -0.09375 2.179688 -0.800781 C 1.136719 -1.734375 0.617188 -3.175781 0.617188 -5.125 C 0.617188 -6.609375 1.007812 -7.824219 1.789062 -8.769531 C 2.636719 -9.800781 3.808594 -10.316406 5.296875 -10.316406 Z M 5.296875 -10.316406 \"/>\n",
       "</symbol>\n",
       "<symbol overflow=\"visible\" id=\"glyph0-4\">\n",
       "<path style=\"stroke:none;\" d=\"M 4.921875 -1.164062 C 5.382812 -1.164062 5.761719 -1.210938 6.054688 -1.304688 C 6.585938 -1.484375 7.019531 -1.824219 7.355469 -2.332031 C 7.625 -2.738281 7.816406 -3.257812 7.9375 -3.890625 C 8.003906 -4.269531 8.039062 -4.617188 8.039062 -4.941406 C 8.039062 -6.1875 7.792969 -7.152344 7.296875 -7.839844 C 6.804688 -8.527344 6.007812 -8.875 4.90625 -8.875 L 2.496094 -8.875 L 2.496094 -1.164062 Z M 1.128906 -10.042969 L 5.195312 -10.042969 C 6.578125 -10.042969 7.648438 -9.550781 8.40625 -8.570312 C 9.085938 -7.6875 9.425781 -6.554688 9.425781 -5.175781 C 9.425781 -4.109375 9.226562 -3.144531 8.824219 -2.28125 C 8.117188 -0.761719 6.90625 0 5.179688 0 L 1.128906 0 Z M 1.128906 -10.042969 \"/>\n",
       "</symbol>\n",
       "</g>\n",
       "</defs>\n",
       "<g id=\"surface20\">\n",
       "<rect x=\"0\" y=\"0\" width=\"600\" height=\"600\" style=\"fill:rgb(100%,100%,100%);fill-opacity:1;stroke:none;\"/>\n",
       "<path style=\"fill:none;stroke-width:1;stroke-linecap:butt;stroke-linejoin:miter;stroke:rgb(26.666667%,26.666667%,26.666667%);stroke-opacity:1;stroke-miterlimit:10;\" d=\"M 423.277344 297.9375 L 555.140625 558.351562 \"/>\n",
       "<path style=\" stroke:none;fill-rule:nonzero;fill:rgb(26.666667%,26.666667%,26.666667%);fill-opacity:1;\" d=\"M 561.585938 571.078125 L 551.003906 560.445312 L 559.273438 556.257812 L 561.585938 571.078125 \"/>\n",
       "<path style=\"fill:none;stroke-width:1;stroke-linecap:butt;stroke-linejoin:miter;stroke:rgb(26.666667%,26.666667%,26.666667%);stroke-opacity:1;stroke-miterlimit:10;\" d=\"M 423.277344 297.9375 L 41.546875 100.132812 \"/>\n",
       "<path style=\" stroke:none;fill-rule:nonzero;fill:rgb(26.666667%,26.666667%,26.666667%);fill-opacity:1;\" d=\"M 28.878906 93.570312 L 43.675781 96.019531 L 39.414062 104.25 L 28.878906 93.570312 \"/>\n",
       "<path style=\"fill:none;stroke-width:1;stroke-linecap:butt;stroke-linejoin:miter;stroke:rgb(26.666667%,26.666667%,26.666667%);stroke-opacity:1;stroke-miterlimit:10;\" d=\"M 20 88.96875 L 555.917969 22.964844 \"/>\n",
       "<path style=\" stroke:none;fill-rule:nonzero;fill:rgb(26.666667%,26.666667%,26.666667%);fill-opacity:1;\" d=\"M 570.074219 21.222656 L 556.484375 27.566406 L 555.347656 18.367188 L 570.074219 21.222656 \"/>\n",
       "<path style=\"fill:none;stroke-width:1;stroke-linecap:butt;stroke-linejoin:miter;stroke:rgb(26.666667%,26.666667%,26.666667%);stroke-opacity:1;stroke-miterlimit:10;\" d=\"M 580 20 L 435.195312 276.800781 \"/>\n",
       "<path style=\" stroke:none;fill-rule:nonzero;fill:rgb(26.666667%,26.666667%,26.666667%);fill-opacity:1;\" d=\"M 428.1875 289.226562 L 431.15625 274.523438 L 439.234375 279.078125 L 428.1875 289.226562 \"/>\n",
       "<path style=\"fill-rule:nonzero;fill:rgb(100%,0%,0%);fill-opacity:1;stroke-width:1;stroke-linecap:butt;stroke-linejoin:miter;stroke:rgb(0%,0%,0%);stroke-opacity:1;stroke-miterlimit:10;\" d=\"M 433.277344 297.9375 C 433.277344 303.460938 428.800781 307.9375 423.277344 307.9375 C 417.753906 307.9375 413.277344 303.460938 413.277344 297.9375 C 413.277344 292.417969 417.753906 287.9375 423.277344 287.9375 C 428.800781 287.9375 433.277344 292.417969 433.277344 297.9375 \"/>\n",
       "<path style=\"fill-rule:nonzero;fill:rgb(100%,0%,0%);fill-opacity:1;stroke-width:1;stroke-linecap:butt;stroke-linejoin:miter;stroke:rgb(0%,0%,0%);stroke-opacity:1;stroke-miterlimit:10;\" d=\"M 576.101562 580 C 576.101562 585.523438 571.625 590 566.101562 590 C 560.578125 590 556.101562 585.523438 556.101562 580 C 556.101562 574.476562 560.578125 570 566.101562 570 C 571.625 570 576.101562 574.476562 576.101562 580 \"/>\n",
       "<path style=\"fill-rule:nonzero;fill:rgb(100%,0%,0%);fill-opacity:1;stroke-width:1;stroke-linecap:butt;stroke-linejoin:miter;stroke:rgb(0%,0%,0%);stroke-opacity:1;stroke-miterlimit:10;\" d=\"M 30 88.96875 C 30 94.492188 25.523438 98.96875 20 98.96875 C 14.476562 98.96875 10 94.492188 10 88.96875 C 10 83.445312 14.476562 78.96875 20 78.96875 C 25.523438 78.96875 30 83.445312 30 88.96875 \"/>\n",
       "<path style=\"fill-rule:nonzero;fill:rgb(100%,0%,0%);fill-opacity:1;stroke-width:1;stroke-linecap:butt;stroke-linejoin:miter;stroke:rgb(0%,0%,0%);stroke-opacity:1;stroke-miterlimit:10;\" d=\"M 590 20 C 590 25.523438 585.523438 30 580 30 C 574.476562 30 570 25.523438 570 20 C 570 14.476562 574.476562 10 580 10 C 585.523438 10 590 14.476562 590 20 \"/>\n",
       "<g style=\"fill:rgb(0%,0%,0%);fill-opacity:1;\">\n",
       "  <use xlink:href=\"#glyph0-1\" x=\"418.589844\" y=\"304.570312\"/>\n",
       "</g>\n",
       "<g style=\"fill:rgb(0%,0%,0%);fill-opacity:1;\">\n",
       "  <use xlink:href=\"#glyph0-2\" x=\"561.195312\" y=\"586.632812\"/>\n",
       "</g>\n",
       "<g style=\"fill:rgb(0%,0%,0%);fill-opacity:1;\">\n",
       "  <use xlink:href=\"#glyph0-3\" x=\"14.929688\" y=\"95.738281\"/>\n",
       "</g>\n",
       "<g style=\"fill:rgb(0%,0%,0%);fill-opacity:1;\">\n",
       "  <use xlink:href=\"#glyph0-4\" x=\"574.722656\" y=\"26.632812\"/>\n",
       "</g>\n",
       "</g>\n",
       "</svg>\n"
      ],
      "text/plain": [
       "<igraph.drawing.Plot at 0x7fcf97a1a5b0>"
      ]
     },
     "execution_count": 48,
     "metadata": {
      "image/svg+xml": {
       "isolated": true
      }
     },
     "output_type": "execute_result"
    }
   ],
   "source": [
    "adjacency=np.matrix([[0, 1, 1, 0], \n",
    "           [0, 0, 0, 0], \n",
    "           [0, 0, 0, 1], \n",
    "           [1, 0, 0, 0]])\n",
    "g = ig.Graph.Adjacency(adjacency.astype(bool).tolist())\n",
    "ig.plot(g, layout = 'kk', vertex_label=[\"A\", \"B\", \"C\", \"D\"])"
   ]
  },
  {
   "cell_type": "code",
   "execution_count": 49,
   "metadata": {},
   "outputs": [],
   "source": [
    "username = 'diegobermu7'\n",
    "token = 'f27e201806532f825d8327ca2ea52a34d44fb60e'\n",
    "github_session = requests.Session()\n",
    "github_session.auth = (username, token)"
   ]
  },
  {
   "cell_type": "code",
   "execution_count": 50,
   "metadata": {},
   "outputs": [
    {
     "data": {
      "text/html": [
       "<div>\n",
       "<style scoped>\n",
       "    .dataframe tbody tr th:only-of-type {\n",
       "        vertical-align: middle;\n",
       "    }\n",
       "\n",
       "    .dataframe tbody tr th {\n",
       "        vertical-align: top;\n",
       "    }\n",
       "\n",
       "    .dataframe thead th {\n",
       "        text-align: right;\n",
       "    }\n",
       "</style>\n",
       "<table border=\"1\" class=\"dataframe\">\n",
       "  <thead>\n",
       "    <tr style=\"text-align: right;\">\n",
       "      <th></th>\n",
       "      <th>Report:</th>\n",
       "      <th>Bulk Mentions Download</th>\n",
       "      <th>Unnamed: 2</th>\n",
       "      <th>Unnamed: 3</th>\n",
       "      <th>Unnamed: 4</th>\n",
       "      <th>Unnamed: 5</th>\n",
       "      <th>Unnamed: 6</th>\n",
       "      <th>Unnamed: 7</th>\n",
       "      <th>Unnamed: 8</th>\n",
       "      <th>Unnamed: 9</th>\n",
       "      <th>...</th>\n",
       "      <th>Unnamed: 89</th>\n",
       "      <th>Unnamed: 90</th>\n",
       "      <th>Unnamed: 91</th>\n",
       "      <th>Unnamed: 92</th>\n",
       "      <th>Unnamed: 93</th>\n",
       "      <th>Unnamed: 94</th>\n",
       "      <th>Unnamed: 95</th>\n",
       "      <th>Unnamed: 96</th>\n",
       "      <th>Unnamed: 97</th>\n",
       "      <th>Unnamed: 98</th>\n",
       "    </tr>\n",
       "  </thead>\n",
       "  <tbody>\n",
       "    <tr>\n",
       "      <th>0</th>\n",
       "      <td>Brand:</td>\n",
       "      <td>[Q] Barómetro migrante Colombia</td>\n",
       "      <td>NaN</td>\n",
       "      <td>NaN</td>\n",
       "      <td>NaN</td>\n",
       "      <td>NaN</td>\n",
       "      <td>NaN</td>\n",
       "      <td>NaN</td>\n",
       "      <td>NaN</td>\n",
       "      <td>NaN</td>\n",
       "      <td>...</td>\n",
       "      <td>NaN</td>\n",
       "      <td>NaN</td>\n",
       "      <td>NaN</td>\n",
       "      <td>NaN</td>\n",
       "      <td>NaN</td>\n",
       "      <td>NaN</td>\n",
       "      <td>NaN</td>\n",
       "      <td>NaN</td>\n",
       "      <td>NaN</td>\n",
       "      <td>NaN</td>\n",
       "    </tr>\n",
       "    <tr>\n",
       "      <th>1</th>\n",
       "      <td>From:</td>\n",
       "      <td>Sun Jan 10 00:00:00 UTC 2021</td>\n",
       "      <td>NaN</td>\n",
       "      <td>NaN</td>\n",
       "      <td>NaN</td>\n",
       "      <td>NaN</td>\n",
       "      <td>NaN</td>\n",
       "      <td>NaN</td>\n",
       "      <td>NaN</td>\n",
       "      <td>NaN</td>\n",
       "      <td>...</td>\n",
       "      <td>NaN</td>\n",
       "      <td>NaN</td>\n",
       "      <td>NaN</td>\n",
       "      <td>NaN</td>\n",
       "      <td>NaN</td>\n",
       "      <td>NaN</td>\n",
       "      <td>NaN</td>\n",
       "      <td>NaN</td>\n",
       "      <td>NaN</td>\n",
       "      <td>NaN</td>\n",
       "    </tr>\n",
       "    <tr>\n",
       "      <th>2</th>\n",
       "      <td>To:</td>\n",
       "      <td>Fri Jan 15 00:00:00 UTC 2021</td>\n",
       "      <td>NaN</td>\n",
       "      <td>NaN</td>\n",
       "      <td>NaN</td>\n",
       "      <td>NaN</td>\n",
       "      <td>NaN</td>\n",
       "      <td>NaN</td>\n",
       "      <td>NaN</td>\n",
       "      <td>NaN</td>\n",
       "      <td>...</td>\n",
       "      <td>NaN</td>\n",
       "      <td>NaN</td>\n",
       "      <td>NaN</td>\n",
       "      <td>NaN</td>\n",
       "      <td>NaN</td>\n",
       "      <td>NaN</td>\n",
       "      <td>NaN</td>\n",
       "      <td>NaN</td>\n",
       "      <td>NaN</td>\n",
       "      <td>NaN</td>\n",
       "    </tr>\n",
       "    <tr>\n",
       "      <th>3</th>\n",
       "      <td>Label:</td>\n",
       "      <td>Base médicos venezolanos</td>\n",
       "      <td>NaN</td>\n",
       "      <td>NaN</td>\n",
       "      <td>NaN</td>\n",
       "      <td>NaN</td>\n",
       "      <td>NaN</td>\n",
       "      <td>NaN</td>\n",
       "      <td>NaN</td>\n",
       "      <td>NaN</td>\n",
       "      <td>...</td>\n",
       "      <td>NaN</td>\n",
       "      <td>NaN</td>\n",
       "      <td>NaN</td>\n",
       "      <td>NaN</td>\n",
       "      <td>NaN</td>\n",
       "      <td>NaN</td>\n",
       "      <td>NaN</td>\n",
       "      <td>NaN</td>\n",
       "      <td>NaN</td>\n",
       "      <td>NaN</td>\n",
       "    </tr>\n",
       "    <tr>\n",
       "      <th>4</th>\n",
       "      <td>NaN</td>\n",
       "      <td>NaN</td>\n",
       "      <td>NaN</td>\n",
       "      <td>NaN</td>\n",
       "      <td>NaN</td>\n",
       "      <td>NaN</td>\n",
       "      <td>NaN</td>\n",
       "      <td>NaN</td>\n",
       "      <td>NaN</td>\n",
       "      <td>NaN</td>\n",
       "      <td>...</td>\n",
       "      <td>NaN</td>\n",
       "      <td>NaN</td>\n",
       "      <td>NaN</td>\n",
       "      <td>NaN</td>\n",
       "      <td>NaN</td>\n",
       "      <td>NaN</td>\n",
       "      <td>NaN</td>\n",
       "      <td>NaN</td>\n",
       "      <td>NaN</td>\n",
       "      <td>NaN</td>\n",
       "    </tr>\n",
       "    <tr>\n",
       "      <th>5</th>\n",
       "      <td>Query Id</td>\n",
       "      <td>Query Name</td>\n",
       "      <td>Date</td>\n",
       "      <td>Title</td>\n",
       "      <td>Snippet</td>\n",
       "      <td>Url</td>\n",
       "      <td>Domain</td>\n",
       "      <td>Sentiment</td>\n",
       "      <td>Page Type</td>\n",
       "      <td>Language</td>\n",
       "      <td>...</td>\n",
       "      <td>Parent Post Id</td>\n",
       "      <td>Pub Type</td>\n",
       "      <td>Publisher Sub Type</td>\n",
       "      <td>Rating</td>\n",
       "      <td>Reddit Score</td>\n",
       "      <td>Region</td>\n",
       "      <td>Region Code</td>\n",
       "      <td>Root Blog Name</td>\n",
       "      <td>Root Post Id</td>\n",
       "      <td>Weblog Title</td>\n",
       "    </tr>\n",
       "    <tr>\n",
       "      <th>6</th>\n",
       "      <td>2000474926</td>\n",
       "      <td>[Q] Barómetro migrante Colombia</td>\n",
       "      <td>2021-01-14 23:59:41.0</td>\n",
       "      <td>@jonathanb120 Demasiado raro que todos son Ven...</td>\n",
       "      <td>@jonathanb120 Demasiado raro que todos son Ven...</td>\n",
       "      <td>http://twitter.com/hitman_gt/statuses/13498688...</td>\n",
       "      <td>twitter.com</td>\n",
       "      <td>negative</td>\n",
       "      <td>twitter</td>\n",
       "      <td>es</td>\n",
       "      <td>...</td>\n",
       "      <td>NaN</td>\n",
       "      <td>Twitstream</td>\n",
       "      <td>NaN</td>\n",
       "      <td>NaN</td>\n",
       "      <td>0</td>\n",
       "      <td>NaN</td>\n",
       "      <td>NaN</td>\n",
       "      <td>NaN</td>\n",
       "      <td>NaN</td>\n",
       "      <td>hitman_gt (Tor 🍾)</td>\n",
       "    </tr>\n",
       "    <tr>\n",
       "      <th>7</th>\n",
       "      <td>2000474926</td>\n",
       "      <td>[Q] Barómetro migrante Colombia</td>\n",
       "      <td>2021-01-14 23:57:54.0</td>\n",
       "      <td>Autoridades están tras el rastro de un hombre ...</td>\n",
       "      <td>Autoridades están tras el rastro de un hombre ...</td>\n",
       "      <td>http://twitter.com/areacucuta/statuses/1349868...</td>\n",
       "      <td>twitter.com</td>\n",
       "      <td>neutral</td>\n",
       "      <td>twitter</td>\n",
       "      <td>es</td>\n",
       "      <td>...</td>\n",
       "      <td>NaN</td>\n",
       "      <td>Twitstream</td>\n",
       "      <td>NaN</td>\n",
       "      <td>NaN</td>\n",
       "      <td>0</td>\n",
       "      <td>Norte de Santander</td>\n",
       "      <td>COL.Norte de Santander</td>\n",
       "      <td>NaN</td>\n",
       "      <td>NaN</td>\n",
       "      <td>areacucuta (areacucuta.com)</td>\n",
       "    </tr>\n",
       "    <tr>\n",
       "      <th>8</th>\n",
       "      <td>2000474926</td>\n",
       "      <td>[Q] Barómetro migrante Colombia</td>\n",
       "      <td>2021-01-14 23:57:44.0</td>\n",
       "      <td>\"Lo de Fabra no es poner huevos\": Chicho Serna</td>\n",
       "      <td>...compitió, Santos estaba jugándose la final ...</td>\n",
       "      <td>https://www.rcnradio.com/deportes/futbol-inter...</td>\n",
       "      <td>rcnradio.com</td>\n",
       "      <td>negative</td>\n",
       "      <td>news</td>\n",
       "      <td>es</td>\n",
       "      <td>...</td>\n",
       "      <td>NaN</td>\n",
       "      <td>MBRAIN_NEWS</td>\n",
       "      <td>NaN</td>\n",
       "      <td>NaN</td>\n",
       "      <td>0</td>\n",
       "      <td>NaN</td>\n",
       "      <td>NaN</td>\n",
       "      <td>NaN</td>\n",
       "      <td>NaN</td>\n",
       "      <td>Daniel Chávarro</td>\n",
       "    </tr>\n",
       "    <tr>\n",
       "      <th>9</th>\n",
       "      <td>2000474926</td>\n",
       "      <td>[Q] Barómetro migrante Colombia</td>\n",
       "      <td>2021-01-14 23:56:53.0</td>\n",
       "      <td>RT @RepublicaNow Uribe tuvo las pelotas de met...</td>\n",
       "      <td>RT @RepublicaNow Uribe tuvo las pelotas de met...</td>\n",
       "      <td>http://twitter.com/alvarojimeneze1/statuses/13...</td>\n",
       "      <td>twitter.com</td>\n",
       "      <td>negative</td>\n",
       "      <td>twitter</td>\n",
       "      <td>es</td>\n",
       "      <td>...</td>\n",
       "      <td>NaN</td>\n",
       "      <td>Twitstream</td>\n",
       "      <td>NaN</td>\n",
       "      <td>NaN</td>\n",
       "      <td>0</td>\n",
       "      <td>Bogota</td>\n",
       "      <td>COL.Bogota</td>\n",
       "      <td>NaN</td>\n",
       "      <td>NaN</td>\n",
       "      <td>alvarojimeneze1 (alvaro jimenez estra)</td>\n",
       "    </tr>\n",
       "    <tr>\n",
       "      <th>10</th>\n",
       "      <td>2000474926</td>\n",
       "      <td>[Q] Barómetro migrante Colombia</td>\n",
       "      <td>2021-01-14 23:56:39.0</td>\n",
       "      <td>Fuerza Disponible de la policía nacional, logr...</td>\n",
       "      <td>Fuerza Disponible de la policía nacional, logr...</td>\n",
       "      <td>http://twitter.com/OmarLaguado/statuses/134986...</td>\n",
       "      <td>twitter.com</td>\n",
       "      <td>neutral</td>\n",
       "      <td>twitter</td>\n",
       "      <td>es</td>\n",
       "      <td>...</td>\n",
       "      <td>NaN</td>\n",
       "      <td>Twitstream</td>\n",
       "      <td>NaN</td>\n",
       "      <td>NaN</td>\n",
       "      <td>0</td>\n",
       "      <td>Bogota</td>\n",
       "      <td>COL.Bogota</td>\n",
       "      <td>NaN</td>\n",
       "      <td>NaN</td>\n",
       "      <td>OmarLaguado (Omar Elias Laguado N)</td>\n",
       "    </tr>\n",
       "  </tbody>\n",
       "</table>\n",
       "<p>11 rows × 99 columns</p>\n",
       "</div>"
      ],
      "text/plain": [
       "       Report:           Bulk Mentions Download             Unnamed: 2  \\\n",
       "0       Brand:  [Q] Barómetro migrante Colombia                    NaN   \n",
       "1        From:     Sun Jan 10 00:00:00 UTC 2021                    NaN   \n",
       "2          To:     Fri Jan 15 00:00:00 UTC 2021                    NaN   \n",
       "3       Label:         Base médicos venezolanos                    NaN   \n",
       "4          NaN                              NaN                    NaN   \n",
       "5     Query Id                       Query Name                   Date   \n",
       "6   2000474926  [Q] Barómetro migrante Colombia  2021-01-14 23:59:41.0   \n",
       "7   2000474926  [Q] Barómetro migrante Colombia  2021-01-14 23:57:54.0   \n",
       "8   2000474926  [Q] Barómetro migrante Colombia  2021-01-14 23:57:44.0   \n",
       "9   2000474926  [Q] Barómetro migrante Colombia  2021-01-14 23:56:53.0   \n",
       "10  2000474926  [Q] Barómetro migrante Colombia  2021-01-14 23:56:39.0   \n",
       "\n",
       "                                           Unnamed: 3  \\\n",
       "0                                                 NaN   \n",
       "1                                                 NaN   \n",
       "2                                                 NaN   \n",
       "3                                                 NaN   \n",
       "4                                                 NaN   \n",
       "5                                               Title   \n",
       "6   @jonathanb120 Demasiado raro que todos son Ven...   \n",
       "7   Autoridades están tras el rastro de un hombre ...   \n",
       "8      \"Lo de Fabra no es poner huevos\": Chicho Serna   \n",
       "9   RT @RepublicaNow Uribe tuvo las pelotas de met...   \n",
       "10  Fuerza Disponible de la policía nacional, logr...   \n",
       "\n",
       "                                           Unnamed: 4  \\\n",
       "0                                                 NaN   \n",
       "1                                                 NaN   \n",
       "2                                                 NaN   \n",
       "3                                                 NaN   \n",
       "4                                                 NaN   \n",
       "5                                             Snippet   \n",
       "6   @jonathanb120 Demasiado raro que todos son Ven...   \n",
       "7   Autoridades están tras el rastro de un hombre ...   \n",
       "8   ...compitió, Santos estaba jugándose la final ...   \n",
       "9   RT @RepublicaNow Uribe tuvo las pelotas de met...   \n",
       "10  Fuerza Disponible de la policía nacional, logr...   \n",
       "\n",
       "                                           Unnamed: 5    Unnamed: 6  \\\n",
       "0                                                 NaN           NaN   \n",
       "1                                                 NaN           NaN   \n",
       "2                                                 NaN           NaN   \n",
       "3                                                 NaN           NaN   \n",
       "4                                                 NaN           NaN   \n",
       "5                                                 Url        Domain   \n",
       "6   http://twitter.com/hitman_gt/statuses/13498688...   twitter.com   \n",
       "7   http://twitter.com/areacucuta/statuses/1349868...   twitter.com   \n",
       "8   https://www.rcnradio.com/deportes/futbol-inter...  rcnradio.com   \n",
       "9   http://twitter.com/alvarojimeneze1/statuses/13...   twitter.com   \n",
       "10  http://twitter.com/OmarLaguado/statuses/134986...   twitter.com   \n",
       "\n",
       "   Unnamed: 7 Unnamed: 8 Unnamed: 9  ...     Unnamed: 89  Unnamed: 90  \\\n",
       "0         NaN        NaN        NaN  ...             NaN          NaN   \n",
       "1         NaN        NaN        NaN  ...             NaN          NaN   \n",
       "2         NaN        NaN        NaN  ...             NaN          NaN   \n",
       "3         NaN        NaN        NaN  ...             NaN          NaN   \n",
       "4         NaN        NaN        NaN  ...             NaN          NaN   \n",
       "5   Sentiment  Page Type   Language  ...  Parent Post Id     Pub Type   \n",
       "6    negative    twitter         es  ...             NaN   Twitstream   \n",
       "7     neutral    twitter         es  ...             NaN   Twitstream   \n",
       "8    negative       news         es  ...             NaN  MBRAIN_NEWS   \n",
       "9    negative    twitter         es  ...             NaN   Twitstream   \n",
       "10    neutral    twitter         es  ...             NaN   Twitstream   \n",
       "\n",
       "           Unnamed: 91 Unnamed: 92   Unnamed: 93         Unnamed: 94  \\\n",
       "0                  NaN         NaN           NaN                 NaN   \n",
       "1                  NaN         NaN           NaN                 NaN   \n",
       "2                  NaN         NaN           NaN                 NaN   \n",
       "3                  NaN         NaN           NaN                 NaN   \n",
       "4                  NaN         NaN           NaN                 NaN   \n",
       "5   Publisher Sub Type      Rating  Reddit Score              Region   \n",
       "6                  NaN         NaN             0                 NaN   \n",
       "7                  NaN         NaN             0  Norte de Santander   \n",
       "8                  NaN         NaN             0                 NaN   \n",
       "9                  NaN         NaN             0              Bogota   \n",
       "10                 NaN         NaN             0              Bogota   \n",
       "\n",
       "               Unnamed: 95     Unnamed: 96   Unnamed: 97  \\\n",
       "0                      NaN             NaN           NaN   \n",
       "1                      NaN             NaN           NaN   \n",
       "2                      NaN             NaN           NaN   \n",
       "3                      NaN             NaN           NaN   \n",
       "4                      NaN             NaN           NaN   \n",
       "5              Region Code  Root Blog Name  Root Post Id   \n",
       "6                      NaN             NaN           NaN   \n",
       "7   COL.Norte de Santander             NaN           NaN   \n",
       "8                      NaN             NaN           NaN   \n",
       "9               COL.Bogota             NaN           NaN   \n",
       "10              COL.Bogota             NaN           NaN   \n",
       "\n",
       "                               Unnamed: 98  \n",
       "0                                      NaN  \n",
       "1                                      NaN  \n",
       "2                                      NaN  \n",
       "3                                      NaN  \n",
       "4                                      NaN  \n",
       "5                             Weblog Title  \n",
       "6                        hitman_gt (Tor 🍾)  \n",
       "7              areacucuta (areacucuta.com)  \n",
       "8                          Daniel Chávarro  \n",
       "9   alvarojimeneze1 (alvaro jimenez estra)  \n",
       "10      OmarLaguado (Omar Elias Laguado N)  \n",
       "\n",
       "[11 rows x 99 columns]"
      ]
     },
     "execution_count": 50,
     "metadata": {},
     "output_type": "execute_result"
    }
   ],
   "source": [
    "# Definimos la ubicación del archivo\n",
    "url = \"https://github.com/terrok9/BX/blob/main/007/medicos_venezolanos.xlsx?raw=true\" \n",
    "df = pd.read_excel(url)\n",
    "#Importamos la base de datos que descargamos con los tweets de brandwatch \n",
    "\n",
    "df.head(11)"
   ]
  },
  {
   "cell_type": "code",
   "execution_count": 51,
   "metadata": {},
   "outputs": [
    {
     "name": "stdout",
     "output_type": "stream",
     "text": [
      "Escriba la fila donde se encuentran los nombres de las columnas - 5\n"
     ]
    },
    {
     "data": {
      "text/html": [
       "<div>\n",
       "<style scoped>\n",
       "    .dataframe tbody tr th:only-of-type {\n",
       "        vertical-align: middle;\n",
       "    }\n",
       "\n",
       "    .dataframe tbody tr th {\n",
       "        vertical-align: top;\n",
       "    }\n",
       "\n",
       "    .dataframe thead th {\n",
       "        text-align: right;\n",
       "    }\n",
       "</style>\n",
       "<table border=\"1\" class=\"dataframe\">\n",
       "  <thead>\n",
       "    <tr style=\"text-align: right;\">\n",
       "      <th></th>\n",
       "      <th>Date</th>\n",
       "      <th>Title</th>\n",
       "      <th>Snippet</th>\n",
       "      <th>Url</th>\n",
       "      <th>Account_Type</th>\n",
       "      <th>Author</th>\n",
       "      <th>City</th>\n",
       "      <th>Gender</th>\n",
       "      <th>Hashtags</th>\n",
       "      <th>Impact</th>\n",
       "      <th>Impressions</th>\n",
       "      <th>Mentioned_Authors</th>\n",
       "      <th>Thread_Author</th>\n",
       "      <th>Thread_Created_Date</th>\n",
       "      <th>Thread_Entry_Type</th>\n",
       "      <th>Twitter_Followers</th>\n",
       "      <th>Twitter_Following</th>\n",
       "      <th>Twitter_Reply_Count</th>\n",
       "      <th>Reach_(new)</th>\n",
       "    </tr>\n",
       "  </thead>\n",
       "  <tbody>\n",
       "    <tr>\n",
       "      <th>0</th>\n",
       "      <td>2021-01-14 23:59:41.0</td>\n",
       "      <td>@jonathanb120 Demasiado raro que todos son Ven...</td>\n",
       "      <td>@jonathanb120 Demasiado raro que todos son Ven...</td>\n",
       "      <td>http://twitter.com/hitman_gt/statuses/13498688...</td>\n",
       "      <td>individual</td>\n",
       "      <td>hitman_gt</td>\n",
       "      <td>NaN</td>\n",
       "      <td>male</td>\n",
       "      <td>NaN</td>\n",
       "      <td>0</td>\n",
       "      <td>416</td>\n",
       "      <td>@jonathanb120</td>\n",
       "      <td>jonathanb120</td>\n",
       "      <td>NaN</td>\n",
       "      <td>reply</td>\n",
       "      <td>416</td>\n",
       "      <td>731</td>\n",
       "      <td>0</td>\n",
       "      <td>0</td>\n",
       "    </tr>\n",
       "    <tr>\n",
       "      <th>1</th>\n",
       "      <td>2021-01-14 23:57:54.0</td>\n",
       "      <td>Autoridades están tras el rastro de un hombre ...</td>\n",
       "      <td>Autoridades están tras el rastro de un hombre ...</td>\n",
       "      <td>http://twitter.com/areacucuta/statuses/1349868...</td>\n",
       "      <td>individual</td>\n",
       "      <td>areacucuta</td>\n",
       "      <td>Cucuta</td>\n",
       "      <td>unknown</td>\n",
       "      <td>NaN</td>\n",
       "      <td>45.5</td>\n",
       "      <td>47831</td>\n",
       "      <td>NaN</td>\n",
       "      <td>NaN</td>\n",
       "      <td>NaN</td>\n",
       "      <td>post</td>\n",
       "      <td>47831</td>\n",
       "      <td>332</td>\n",
       "      <td>0</td>\n",
       "      <td>11507</td>\n",
       "    </tr>\n",
       "    <tr>\n",
       "      <th>2</th>\n",
       "      <td>2021-01-14 23:57:44.0</td>\n",
       "      <td>\"Lo de Fabra no es poner huevos\": Chicho Serna</td>\n",
       "      <td>...compitió, Santos estaba jugándose la final ...</td>\n",
       "      <td>https://www.rcnradio.com/deportes/futbol-inter...</td>\n",
       "      <td>NaN</td>\n",
       "      <td>Daniel Chávarro</td>\n",
       "      <td>NaN</td>\n",
       "      <td>male</td>\n",
       "      <td>NaN</td>\n",
       "      <td>28.5</td>\n",
       "      <td>0</td>\n",
       "      <td>NaN</td>\n",
       "      <td>NaN</td>\n",
       "      <td>NaN</td>\n",
       "      <td>post</td>\n",
       "      <td>0</td>\n",
       "      <td>0</td>\n",
       "      <td>0</td>\n",
       "      <td>229</td>\n",
       "    </tr>\n",
       "    <tr>\n",
       "      <th>3</th>\n",
       "      <td>2021-01-14 23:56:53.0</td>\n",
       "      <td>RT @RepublicaNow Uribe tuvo las pelotas de met...</td>\n",
       "      <td>RT @RepublicaNow Uribe tuvo las pelotas de met...</td>\n",
       "      <td>http://twitter.com/alvarojimeneze1/statuses/13...</td>\n",
       "      <td>individual</td>\n",
       "      <td>alvarojimeneze1</td>\n",
       "      <td>Bogota</td>\n",
       "      <td>male</td>\n",
       "      <td>NaN</td>\n",
       "      <td>0</td>\n",
       "      <td>887</td>\n",
       "      <td>@republicanow</td>\n",
       "      <td>RepublicaNow</td>\n",
       "      <td>2021-01-14T23:49:57.000+0000</td>\n",
       "      <td>share</td>\n",
       "      <td>887</td>\n",
       "      <td>873</td>\n",
       "      <td>0</td>\n",
       "      <td>0</td>\n",
       "    </tr>\n",
       "    <tr>\n",
       "      <th>4</th>\n",
       "      <td>2021-01-14 23:56:39.0</td>\n",
       "      <td>Fuerza Disponible de la policía nacional, logr...</td>\n",
       "      <td>Fuerza Disponible de la policía nacional, logr...</td>\n",
       "      <td>http://twitter.com/OmarLaguado/statuses/134986...</td>\n",
       "      <td>individual</td>\n",
       "      <td>OmarLaguado</td>\n",
       "      <td>Bogota</td>\n",
       "      <td>male</td>\n",
       "      <td>NaN</td>\n",
       "      <td>0</td>\n",
       "      <td>1618</td>\n",
       "      <td>NaN</td>\n",
       "      <td>NaN</td>\n",
       "      <td>NaN</td>\n",
       "      <td>post</td>\n",
       "      <td>1618</td>\n",
       "      <td>736</td>\n",
       "      <td>0</td>\n",
       "      <td>838</td>\n",
       "    </tr>\n",
       "  </tbody>\n",
       "</table>\n",
       "</div>"
      ],
      "text/plain": [
       "                    Date                                              Title  \\\n",
       "0  2021-01-14 23:59:41.0  @jonathanb120 Demasiado raro que todos son Ven...   \n",
       "1  2021-01-14 23:57:54.0  Autoridades están tras el rastro de un hombre ...   \n",
       "2  2021-01-14 23:57:44.0     \"Lo de Fabra no es poner huevos\": Chicho Serna   \n",
       "3  2021-01-14 23:56:53.0  RT @RepublicaNow Uribe tuvo las pelotas de met...   \n",
       "4  2021-01-14 23:56:39.0  Fuerza Disponible de la policía nacional, logr...   \n",
       "\n",
       "                                             Snippet  \\\n",
       "0  @jonathanb120 Demasiado raro que todos son Ven...   \n",
       "1  Autoridades están tras el rastro de un hombre ...   \n",
       "2  ...compitió, Santos estaba jugándose la final ...   \n",
       "3  RT @RepublicaNow Uribe tuvo las pelotas de met...   \n",
       "4  Fuerza Disponible de la policía nacional, logr...   \n",
       "\n",
       "                                                 Url Account_Type  \\\n",
       "0  http://twitter.com/hitman_gt/statuses/13498688...   individual   \n",
       "1  http://twitter.com/areacucuta/statuses/1349868...   individual   \n",
       "2  https://www.rcnradio.com/deportes/futbol-inter...          NaN   \n",
       "3  http://twitter.com/alvarojimeneze1/statuses/13...   individual   \n",
       "4  http://twitter.com/OmarLaguado/statuses/134986...   individual   \n",
       "\n",
       "            Author    City   Gender Hashtags Impact Impressions  \\\n",
       "0        hitman_gt     NaN     male      NaN      0         416   \n",
       "1       areacucuta  Cucuta  unknown      NaN   45.5       47831   \n",
       "2  Daniel Chávarro     NaN     male      NaN   28.5           0   \n",
       "3  alvarojimeneze1  Bogota     male      NaN      0         887   \n",
       "4      OmarLaguado  Bogota     male      NaN      0        1618   \n",
       "\n",
       "  Mentioned_Authors Thread_Author           Thread_Created_Date  \\\n",
       "0     @jonathanb120  jonathanb120                           NaN   \n",
       "1               NaN           NaN                           NaN   \n",
       "2               NaN           NaN                           NaN   \n",
       "3     @republicanow  RepublicaNow  2021-01-14T23:49:57.000+0000   \n",
       "4               NaN           NaN                           NaN   \n",
       "\n",
       "  Thread_Entry_Type Twitter_Followers Twitter_Following Twitter_Reply_Count  \\\n",
       "0             reply               416               731                   0   \n",
       "1              post             47831               332                   0   \n",
       "2              post                 0                 0                   0   \n",
       "3             share               887               873                   0   \n",
       "4              post              1618               736                   0   \n",
       "\n",
       "  Reach_(new)  \n",
       "0           0  \n",
       "1       11507  \n",
       "2         229  \n",
       "3           0  \n",
       "4         838  "
      ]
     },
     "execution_count": 51,
     "metadata": {},
     "output_type": "execute_result"
    }
   ],
   "source": [
    "df=fn.limpieza_base(df)\n",
    "\n",
    "drop_vars=['Query_Name', 'Domain', 'Sentiment', 'Page_Type', 'Language', 'Country_Code', \n",
    "           'Continent_Code', 'Continent', 'Country', 'City_Code', 'Added', 'Assignment',\n",
    "           'Avatar', 'Category_Details', 'Checked', 'Display_URLs', 'Expanded_URLs', \n",
    "           'Facebook_Author_ID', 'Facebook_Comments', 'Facebook_Likes', 'Facebook_Role', \n",
    "           'Facebook_Shares', 'Facebook_Subtype', 'Full_Name', 'Full_Text', 'Interest',\n",
    "           'Instagram_Comments', 'Instagram_Followers', 'Instagram_Following', \n",
    "           'Instagram_Interactions_Count', 'Instagram_Likes', 'Instagram_Posts', \n",
    "           'Last_Assignment_Date', 'Latitude', 'Location_Name', 'Longitude', 'Starred',\n",
    "           'Media_Filter', 'Media_URLs', 'Original_Url', 'Priority', 'Professions', \n",
    "           'Resource_Id', 'Short_URLs', 'Status', 'Subtype', 'Thread_Id', 'Thread_URL',\n",
    "           'Total_Monthly_Visitors', 'Twitter_Author_ID', 'Twitter_Channel_Role',\n",
    "           'Twitter_Reply_to', 'Twitter_Retweet_of', 'Twitter_Retweets', 'Item_Review',\n",
    "           'Twitter_Tweets', 'Twitter_Verified', 'Updated', 'Blog_Name', 'Copyright', \n",
    "           'Linkedin_Comments', 'Linkedin_Engagement', 'Linkedin_Impressions', 'Region', \n",
    "           'Linkedin_Likes', 'Linkedin_Shares', 'Linkedin_Sponsored', 'Region_Code',\n",
    "           'Linkedin_Video_Views', 'Page_Type_Name', 'Parent_Blog_Name', 'Reddit_Score',\n",
    "           'Parent_Post_Id', 'Pub_Type', 'Publisher_Sub_Type', 'Rating', 'Root_Blog_Name', \n",
    "           'Root_Post_Id', 'Weblog_Title']\n",
    "df=df.drop(drop_vars, axis=1)\n",
    "df.head()"
   ]
  },
  {
   "cell_type": "code",
   "execution_count": 52,
   "metadata": {},
   "outputs": [],
   "source": [
    "df=df[df['Thread_Entry_Type']=='share'].reset_index(drop=True)"
   ]
  },
  {
   "cell_type": "code",
   "execution_count": 53,
   "metadata": {},
   "outputs": [],
   "source": [
    "#with pd.ExcelWriter('medicos_clean.xlsx') as writer:  \n",
    "#    df.to_excel(writer)"
   ]
  },
  {
   "cell_type": "code",
   "execution_count": 54,
   "metadata": {},
   "outputs": [],
   "source": [
    "prueba=df.iloc[0:10, :]"
   ]
  },
  {
   "cell_type": "code",
   "execution_count": 55,
   "metadata": {},
   "outputs": [
    {
     "data": {
      "text/plain": [
       "['ChefVctorAguil1',\n",
       " 'ChuckLWolf',\n",
       " 'GRULLACARIBE',\n",
       " 'Karlos_artu',\n",
       " 'LauritaOrjuelaN',\n",
       " 'Oscar16720574',\n",
       " 'PanAmPost_es',\n",
       " 'RepublicaNow',\n",
       " 'SANTAMARIAURIBE',\n",
       " 'alvarojimeneze1',\n",
       " 'avillarreal24',\n",
       " 'caferotjes',\n",
       " 'calderongregory',\n",
       " 'cb_inmobiliaria',\n",
       " 'dw_espanol',\n",
       " 'maikerj20',\n",
       " 'pasionfutsal']"
      ]
     },
     "execution_count": 55,
     "metadata": {},
     "output_type": "execute_result"
    }
   ],
   "source": [
    "autores=list(prueba['Author'])\n",
    "autores.extend(list(prueba['Thread_Author']))\n",
    "autores=list(set(autores))\n",
    "autores.sort()\n",
    "autores"
   ]
  },
  {
   "cell_type": "code",
   "execution_count": 56,
   "metadata": {},
   "outputs": [],
   "source": [
    "n_autores=len(autores)\n",
    "n_tweets=len(prueba)\n",
    "\n",
    "#array[fila][columna]\n",
    "\n",
    "matriz= np.zeros((n_autores, n_autores), dtype=int)\n",
    "\n",
    "for i in range(n_tweets):\n",
    "    retweeter=prueba.loc[i, 'Author']\n",
    "    pos_retweeter=autores.index(retweeter)\n",
    "    creador=prueba.loc[i, 'Thread_Author']\n",
    "    pos_creador=autores.index(creador)\n",
    "    matriz[pos_retweeter][pos_creador]=1\n",
    "\n"
   ]
  },
  {
   "cell_type": "code",
   "execution_count": 57,
   "metadata": {},
   "outputs": [
    {
     "data": {
      "text/plain": [
       "array([[0, 0, 0, 0, 0, 0, 0, 0, 0, 0, 0, 0, 0, 0, 0, 0, 0],\n",
       "       [0, 0, 0, 0, 0, 0, 0, 1, 0, 0, 0, 0, 0, 0, 0, 0, 0],\n",
       "       [0, 0, 0, 0, 0, 0, 0, 0, 1, 0, 0, 0, 0, 0, 0, 0, 0],\n",
       "       [0, 0, 0, 0, 0, 0, 0, 0, 1, 0, 0, 0, 0, 0, 0, 0, 0],\n",
       "       [0, 0, 0, 0, 0, 0, 0, 0, 0, 0, 0, 0, 0, 0, 0, 0, 1],\n",
       "       [0, 0, 0, 0, 0, 0, 0, 1, 0, 0, 0, 0, 0, 0, 0, 0, 0],\n",
       "       [0, 0, 0, 0, 0, 0, 0, 0, 0, 0, 0, 0, 0, 0, 0, 0, 0],\n",
       "       [0, 0, 0, 0, 0, 0, 0, 0, 0, 0, 0, 0, 0, 0, 0, 0, 0],\n",
       "       [0, 0, 0, 0, 0, 0, 0, 0, 0, 0, 0, 0, 0, 0, 0, 0, 0],\n",
       "       [0, 0, 0, 0, 0, 0, 0, 1, 0, 0, 0, 0, 0, 0, 0, 0, 0],\n",
       "       [0, 0, 0, 0, 0, 0, 0, 0, 0, 0, 0, 0, 0, 0, 1, 0, 0],\n",
       "       [0, 0, 0, 0, 0, 0, 0, 0, 0, 0, 0, 0, 0, 0, 0, 0, 0],\n",
       "       [0, 0, 0, 0, 0, 0, 0, 0, 0, 0, 0, 1, 0, 0, 0, 0, 0],\n",
       "       [0, 0, 0, 0, 0, 0, 1, 0, 0, 0, 0, 0, 0, 0, 0, 0, 0],\n",
       "       [0, 0, 0, 0, 0, 0, 0, 0, 0, 0, 0, 0, 0, 0, 0, 0, 0],\n",
       "       [1, 0, 0, 0, 0, 0, 0, 0, 0, 0, 0, 0, 0, 0, 0, 0, 0],\n",
       "       [0, 0, 0, 0, 0, 0, 0, 0, 0, 0, 0, 0, 0, 0, 0, 0, 0]])"
      ]
     },
     "execution_count": 57,
     "metadata": {},
     "output_type": "execute_result"
    }
   ],
   "source": [
    "matriz"
   ]
  },
  {
   "cell_type": "code",
   "execution_count": 58,
   "metadata": {},
   "outputs": [
    {
     "data": {
      "image/svg+xml": [
       "<?xml version=\"1.0\" encoding=\"UTF-8\"?>\n",
       "<svg xmlns=\"http://www.w3.org/2000/svg\" xmlns:xlink=\"http://www.w3.org/1999/xlink\" width=\"600pt\" height=\"600pt\" viewBox=\"0 0 600 600\" version=\"1.1\">\n",
       "<defs>\n",
       "<g>\n",
       "<symbol overflow=\"visible\" id=\"glyph0-0\">\n",
       "<path style=\"stroke:none;\" d=\"M 0.453125 0 L 0.453125 -10.042969 L 8.421875 -10.042969 L 8.421875 0 Z M 7.164062 -1.257812 L 7.164062 -8.785156 L 1.710938 -8.785156 L 1.710938 -1.257812 Z M 7.164062 -1.257812 \"/>\n",
       "</symbol>\n",
       "<symbol overflow=\"visible\" id=\"glyph0-1\">\n",
       "<path style=\"stroke:none;\" d=\"M 5.296875 -10.316406 C 6.570312 -10.316406 7.554688 -9.980469 8.257812 -9.3125 C 8.960938 -8.640625 9.347656 -7.878906 9.425781 -7.027344 L 8.101562 -7.027344 C 7.949219 -7.675781 7.652344 -8.1875 7.203125 -8.566406 C 6.753906 -8.945312 6.121094 -9.132812 5.3125 -9.132812 C 4.324219 -9.132812 3.523438 -8.785156 2.914062 -8.089844 C 2.304688 -7.394531 2.003906 -6.328125 2.003906 -4.894531 C 2.003906 -3.71875 2.277344 -2.765625 2.828125 -2.035156 C 3.375 -1.304688 4.195312 -0.9375 5.285156 -0.9375 C 6.289062 -0.9375 7.050781 -1.320312 7.574219 -2.09375 C 7.851562 -2.5 8.058594 -3.03125 8.195312 -3.691406 L 9.523438 -3.691406 C 9.40625 -2.632812 9.011719 -1.746094 8.347656 -1.03125 C 7.550781 -0.171875 6.472656 0.257812 5.121094 0.257812 C 3.953125 0.257812 2.972656 -0.09375 2.179688 -0.800781 C 1.136719 -1.734375 0.617188 -3.175781 0.617188 -5.125 C 0.617188 -6.609375 1.007812 -7.824219 1.789062 -8.769531 C 2.636719 -9.800781 3.808594 -10.316406 5.296875 -10.316406 Z M 5.296875 -10.316406 \"/>\n",
       "</symbol>\n",
       "<symbol overflow=\"visible\" id=\"glyph0-2\">\n",
       "<path style=\"stroke:none;\" d=\"M 0.902344 -10.078125 L 2.132812 -10.078125 L 2.132812 -6.328125 C 2.425781 -6.699219 2.6875 -6.960938 2.917969 -7.109375 C 3.316406 -7.367188 3.808594 -7.5 4.402344 -7.5 C 5.464844 -7.5 6.183594 -7.128906 6.5625 -6.382812 C 6.765625 -5.976562 6.871094 -5.417969 6.871094 -4.695312 L 6.871094 0 L 5.605469 0 L 5.605469 -4.613281 C 5.605469 -5.152344 5.539062 -5.546875 5.398438 -5.796875 C 5.175781 -6.199219 4.757812 -6.398438 4.140625 -6.398438 C 3.632812 -6.398438 3.167969 -6.222656 2.753906 -5.871094 C 2.339844 -5.519531 2.132812 -4.859375 2.132812 -3.882812 L 2.132812 0 L 0.902344 0 Z M 0.902344 -10.078125 \"/>\n",
       "</symbol>\n",
       "<symbol overflow=\"visible\" id=\"glyph0-3\">\n",
       "<path style=\"stroke:none;\" d=\"M 3.953125 -7.484375 C 4.472656 -7.484375 4.972656 -7.363281 5.460938 -7.121094 C 5.949219 -6.875 6.320312 -6.558594 6.578125 -6.171875 C 6.824219 -5.804688 6.984375 -5.375 7.070312 -4.882812 C 7.140625 -4.542969 7.179688 -4.007812 7.179688 -3.265625 L 1.8125 -3.265625 C 1.835938 -2.523438 2.007812 -1.929688 2.335938 -1.480469 C 2.664062 -1.03125 3.175781 -0.804688 3.863281 -0.804688 C 4.503906 -0.804688 5.015625 -1.019531 5.398438 -1.441406 C 5.617188 -1.6875 5.773438 -1.972656 5.867188 -2.296875 L 7.074219 -2.296875 C 7.042969 -2.027344 6.9375 -1.726562 6.757812 -1.398438 C 6.578125 -1.066406 6.375 -0.796875 6.152344 -0.585938 C 5.777344 -0.222656 5.316406 0.0234375 4.765625 0.148438 C 4.46875 0.222656 4.132812 0.257812 3.757812 0.257812 C 2.847656 0.257812 2.074219 -0.0703125 1.441406 -0.734375 C 0.808594 -1.398438 0.492188 -2.328125 0.492188 -3.519531 C 0.492188 -4.695312 0.8125 -5.652344 1.449219 -6.382812 C 2.085938 -7.117188 2.921875 -7.484375 3.953125 -7.484375 Z M 5.914062 -4.246094 C 5.863281 -4.777344 5.746094 -5.203125 5.5625 -5.523438 C 5.226562 -6.117188 4.664062 -6.414062 3.875 -6.414062 C 3.3125 -6.414062 2.835938 -6.207031 2.453125 -5.800781 C 2.070312 -5.390625 1.867188 -4.875 1.84375 -4.246094 Z M 5.914062 -4.246094 \"/>\n",
       "</symbol>\n",
       "<symbol overflow=\"visible\" id=\"glyph0-4\">\n",
       "<path style=\"stroke:none;\" d=\"M 1.210938 -8.4375 C 1.226562 -8.945312 1.316406 -9.320312 1.476562 -9.554688 C 1.765625 -9.976562 2.316406 -10.1875 3.136719 -10.1875 C 3.214844 -10.1875 3.296875 -10.183594 3.375 -10.179688 C 3.457031 -10.175781 3.550781 -10.167969 3.65625 -10.15625 L 3.65625 -9.039062 C 3.53125 -9.046875 3.4375 -9.050781 3.378906 -9.054688 C 3.324219 -9.054688 3.269531 -9.058594 3.21875 -9.058594 C 2.84375 -9.058594 2.621094 -8.960938 2.550781 -8.765625 C 2.476562 -8.574219 2.441406 -8.078125 2.441406 -7.289062 L 3.65625 -7.289062 L 3.65625 -6.316406 L 2.425781 -6.316406 L 2.425781 0 L 1.210938 0 L 1.210938 -6.316406 L 0.191406 -6.316406 L 0.191406 -7.289062 L 1.210938 -7.289062 Z M 1.210938 -8.4375 \"/>\n",
       "</symbol>\n",
       "<symbol overflow=\"visible\" id=\"glyph0-5\">\n",
       "<path style=\"stroke:none;\" d=\"M 1.859375 -10.042969 L 4.742188 -1.492188 L 7.59375 -10.042969 L 9.117188 -10.042969 L 5.453125 0 L 4.011719 0 L 0.355469 -10.042969 Z M 1.859375 -10.042969 \"/>\n",
       "</symbol>\n",
       "<symbol overflow=\"visible\" id=\"glyph0-6\">\n",
       "<path style=\"stroke:none;\" d=\"M 3.726562 -7.53125 C 4.550781 -7.53125 5.222656 -7.332031 5.738281 -6.929688 C 6.257812 -6.53125 6.566406 -5.839844 6.671875 -4.859375 L 5.476562 -4.859375 C 5.402344 -5.3125 5.234375 -5.6875 4.976562 -5.984375 C 4.71875 -6.28125 4.300781 -6.433594 3.726562 -6.433594 C 2.941406 -6.433594 2.382812 -6.050781 2.042969 -5.285156 C 1.824219 -4.789062 1.714844 -4.175781 1.714844 -3.445312 C 1.714844 -2.710938 1.871094 -2.09375 2.179688 -1.59375 C 2.492188 -1.09375 2.976562 -0.839844 3.644531 -0.839844 C 4.15625 -0.839844 4.558594 -0.996094 4.855469 -1.308594 C 5.15625 -1.621094 5.363281 -2.046875 5.476562 -2.589844 L 6.671875 -2.589844 C 6.535156 -1.621094 6.195312 -0.910156 5.648438 -0.460938 C 5.101562 -0.0117188 4.398438 0.210938 3.546875 0.210938 C 2.589844 0.210938 1.828125 -0.136719 1.257812 -0.835938 C 0.6875 -1.535156 0.402344 -2.410156 0.402344 -3.460938 C 0.402344 -4.746094 0.714844 -5.746094 1.339844 -6.460938 C 1.964844 -7.175781 2.757812 -7.53125 3.726562 -7.53125 Z M 3.726562 -7.53125 \"/>\n",
       "</symbol>\n",
       "<symbol overflow=\"visible\" id=\"glyph0-7\">\n",
       "<path style=\"stroke:none;\" d=\"M 1.148438 -9.367188 L 2.390625 -9.367188 L 2.390625 -7.320312 L 3.5625 -7.320312 L 3.5625 -6.316406 L 2.390625 -6.316406 L 2.390625 -1.539062 C 2.390625 -1.28125 2.480469 -1.113281 2.652344 -1.023438 C 2.75 -0.976562 2.90625 -0.949219 3.132812 -0.949219 C 3.191406 -0.949219 3.253906 -0.953125 3.320312 -0.953125 C 3.390625 -0.957031 3.46875 -0.960938 3.5625 -0.96875 L 3.5625 0 C 3.421875 0.0390625 3.273438 0.0703125 3.121094 0.0898438 C 2.96875 0.109375 2.804688 0.117188 2.625 0.117188 C 2.050781 0.117188 1.660156 -0.03125 1.457031 -0.324219 C 1.25 -0.617188 1.148438 -1 1.148438 -1.46875 L 1.148438 -6.316406 L 0.15625 -6.316406 L 0.15625 -7.320312 L 1.148438 -7.320312 Z M 1.148438 -9.367188 \"/>\n",
       "</symbol>\n",
       "<symbol overflow=\"visible\" id=\"glyph0-8\">\n",
       "<path style=\"stroke:none;\" d=\"M 3.808594 -0.792969 C 4.625 -0.792969 5.183594 -1.101562 5.484375 -1.71875 C 5.789062 -2.335938 5.941406 -3.023438 5.941406 -3.78125 C 5.941406 -4.464844 5.832031 -5.019531 5.613281 -5.449219 C 5.265625 -6.125 4.667969 -6.460938 3.820312 -6.460938 C 3.070312 -6.460938 2.523438 -6.171875 2.179688 -5.597656 C 1.839844 -5.023438 1.667969 -4.332031 1.667969 -3.519531 C 1.667969 -2.742188 1.839844 -2.09375 2.179688 -1.570312 C 2.523438 -1.050781 3.066406 -0.792969 3.808594 -0.792969 Z M 3.855469 -7.53125 C 4.796875 -7.53125 5.597656 -7.21875 6.25 -6.589844 C 6.898438 -5.960938 7.226562 -5.035156 7.226562 -3.8125 C 7.226562 -2.632812 6.9375 -1.660156 6.363281 -0.890625 C 5.789062 -0.117188 4.898438 0.265625 3.691406 0.265625 C 2.683594 0.265625 1.882812 -0.0742188 1.292969 -0.753906 C 0.699219 -1.4375 0.402344 -2.351562 0.402344 -3.5 C 0.402344 -4.730469 0.714844 -5.710938 1.339844 -6.4375 C 1.964844 -7.167969 2.804688 -7.53125 3.855469 -7.53125 Z M 3.855469 -7.53125 \"/>\n",
       "</symbol>\n",
       "<symbol overflow=\"visible\" id=\"glyph0-9\">\n",
       "<path style=\"stroke:none;\" d=\"M 0.9375 -7.320312 L 2.105469 -7.320312 L 2.105469 -6.054688 C 2.203125 -6.300781 2.4375 -6.601562 2.808594 -6.957031 C 3.183594 -7.308594 3.613281 -7.484375 4.101562 -7.484375 C 4.125 -7.484375 4.164062 -7.484375 4.21875 -7.476562 C 4.273438 -7.472656 4.367188 -7.464844 4.5 -7.453125 L 4.5 -6.152344 C 4.425781 -6.164062 4.359375 -6.175781 4.296875 -6.179688 C 4.234375 -6.183594 4.167969 -6.1875 4.09375 -6.1875 C 3.476562 -6.1875 3 -5.988281 2.664062 -5.589844 C 2.332031 -5.191406 2.167969 -4.730469 2.167969 -4.210938 L 2.167969 0 L 0.9375 0 Z M 0.9375 -7.320312 \"/>\n",
       "</symbol>\n",
       "<symbol overflow=\"visible\" id=\"glyph0-10\">\n",
       "<path style=\"stroke:none;\" d=\"M 6.21875 -4.117188 L 4.695312 -8.550781 L 3.078125 -4.117188 Z M 3.984375 -10.042969 L 5.523438 -10.042969 L 9.167969 0 L 7.675781 0 L 6.65625 -3.007812 L 2.6875 -3.007812 L 1.601562 0 L 0.203125 0 Z M 3.984375 -10.042969 \"/>\n",
       "</symbol>\n",
       "<symbol overflow=\"visible\" id=\"glyph0-11\">\n",
       "<path style=\"stroke:none;\" d=\"M 3.484375 -7.453125 C 4.058594 -7.453125 4.5625 -7.308594 4.992188 -7.027344 C 5.222656 -6.867188 5.460938 -6.636719 5.703125 -6.328125 L 5.703125 -7.253906 L 6.835938 -7.253906 L 6.835938 -0.59375 C 6.835938 0.335938 6.699219 1.070312 6.425781 1.605469 C 5.914062 2.601562 4.953125 3.097656 3.535156 3.097656 C 2.746094 3.097656 2.082031 2.921875 1.546875 2.566406 C 1.007812 2.214844 0.707031 1.660156 0.640625 0.910156 L 1.894531 0.910156 C 1.953125 1.238281 2.070312 1.492188 2.25 1.667969 C 2.527344 1.941406 2.964844 2.078125 3.5625 2.078125 C 4.503906 2.078125 5.121094 1.746094 5.414062 1.078125 C 5.585938 0.6875 5.667969 -0.0117188 5.652344 -1.019531 C 5.40625 -0.644531 5.109375 -0.367188 4.765625 -0.183594 C 4.417969 0 3.960938 0.0898438 3.390625 0.0898438 C 2.597656 0.0898438 1.902344 -0.191406 1.308594 -0.753906 C 0.714844 -1.316406 0.417969 -2.25 0.417969 -3.546875 C 0.417969 -4.773438 0.714844 -5.730469 1.316406 -6.417969 C 1.914062 -7.105469 2.640625 -7.453125 3.484375 -7.453125 Z M 5.703125 -3.691406 C 5.703125 -4.597656 5.515625 -5.269531 5.140625 -5.707031 C 4.765625 -6.144531 4.289062 -6.363281 3.710938 -6.363281 C 2.84375 -6.363281 2.253906 -5.957031 1.933594 -5.148438 C 1.765625 -4.714844 1.679688 -4.148438 1.679688 -3.445312 C 1.679688 -2.621094 1.847656 -1.992188 2.183594 -1.5625 C 2.519531 -1.132812 2.96875 -0.914062 3.535156 -0.914062 C 4.417969 -0.914062 5.039062 -1.316406 5.398438 -2.113281 C 5.601562 -2.5625 5.703125 -3.089844 5.703125 -3.691406 Z M 5.703125 -3.691406 \"/>\n",
       "</symbol>\n",
       "<symbol overflow=\"visible\" id=\"glyph0-12\">\n",
       "<path style=\"stroke:none;\" d=\"M 2.132812 -7.320312 L 2.132812 -2.460938 C 2.132812 -2.085938 2.191406 -1.78125 2.3125 -1.546875 C 2.53125 -1.109375 2.9375 -0.890625 3.535156 -0.890625 C 4.390625 -0.890625 4.972656 -1.273438 5.285156 -2.039062 C 5.453125 -2.449219 5.539062 -3.011719 5.539062 -3.726562 L 5.539062 -7.320312 L 6.765625 -7.320312 L 6.765625 0 L 5.605469 0 L 5.617188 -1.078125 C 5.460938 -0.800781 5.261719 -0.566406 5.023438 -0.375 C 4.554688 0.0078125 3.984375 0.199219 3.316406 0.199219 C 2.273438 0.199219 1.5625 -0.148438 1.183594 -0.847656 C 0.976562 -1.222656 0.875 -1.71875 0.875 -2.34375 L 0.875 -7.320312 Z M 2.132812 -7.320312 \"/>\n",
       "</symbol>\n",
       "<symbol overflow=\"visible\" id=\"glyph0-13\">\n",
       "<path style=\"stroke:none;\" d=\"M 0.902344 -7.289062 L 2.152344 -7.289062 L 2.152344 0 L 0.902344 0 Z M 0.902344 -10.042969 L 2.152344 -10.042969 L 2.152344 -8.648438 L 0.902344 -8.648438 Z M 0.902344 -10.042969 \"/>\n",
       "</symbol>\n",
       "<symbol overflow=\"visible\" id=\"glyph0-14\">\n",
       "<path style=\"stroke:none;\" d=\"M 0.9375 -10.042969 L 2.167969 -10.042969 L 2.167969 0 L 0.9375 0 Z M 0.9375 -10.042969 \"/>\n",
       "</symbol>\n",
       "<symbol overflow=\"visible\" id=\"glyph0-15\">\n",
       "<path style=\"stroke:none;\" d=\"M 1.339844 -6.929688 L 1.339844 -7.875 C 2.226562 -7.960938 2.847656 -8.105469 3.199219 -8.308594 C 3.550781 -8.511719 3.8125 -8.992188 3.984375 -9.75 L 4.957031 -9.75 L 4.957031 0 L 3.644531 0 L 3.644531 -6.929688 Z M 1.339844 -6.929688 \"/>\n",
       "</symbol>\n",
       "<symbol overflow=\"visible\" id=\"glyph0-16\">\n",
       "<path style=\"stroke:none;\" d=\"M 0.875 -10.042969 L 2.058594 -10.042969 L 2.058594 -4.210938 L 5.214844 -7.320312 L 6.789062 -7.320312 L 3.984375 -4.578125 L 6.945312 0 L 5.375 0 L 3.089844 -3.691406 L 2.058594 -2.75 L 2.058594 0 L 0.875 0 Z M 0.875 -10.042969 \"/>\n",
       "</symbol>\n",
       "<symbol overflow=\"visible\" id=\"glyph0-17\">\n",
       "<path style=\"stroke:none;\" d=\"M 1.066406 -10.042969 L 2.425781 -10.042969 L 2.425781 -1.195312 L 7.511719 -1.195312 L 7.511719 0 L 1.066406 0 Z M 1.066406 -10.042969 \"/>\n",
       "</symbol>\n",
       "<symbol overflow=\"visible\" id=\"glyph0-18\">\n",
       "<path style=\"stroke:none;\" d=\"M 1.730469 -10.042969 L 3.625 -1.875 L 5.890625 -10.042969 L 7.367188 -10.042969 L 9.640625 -1.875 L 11.53125 -10.042969 L 13.023438 -10.042969 L 10.382812 0 L 8.953125 0 L 6.636719 -8.328125 L 4.304688 0 L 2.878906 0 L 0.253906 -10.042969 Z M 1.730469 -10.042969 \"/>\n",
       "</symbol>\n",
       "<symbol overflow=\"visible\" id=\"glyph0-19\">\n",
       "<path style=\"stroke:none;\" d=\"M 5.40625 -10.300781 C 6.351562 -10.300781 7.167969 -10.121094 7.855469 -9.753906 C 8.851562 -9.230469 9.464844 -8.3125 9.6875 -7 L 8.339844 -7 C 8.175781 -7.734375 7.835938 -8.269531 7.320312 -8.601562 C 6.804688 -8.9375 6.15625 -9.105469 5.375 -9.105469 C 4.445312 -9.105469 3.660156 -8.757812 3.023438 -8.058594 C 2.390625 -7.363281 2.070312 -6.324219 2.070312 -4.941406 C 2.070312 -3.75 2.332031 -2.777344 2.859375 -2.027344 C 3.382812 -1.277344 4.234375 -0.902344 5.421875 -0.902344 C 6.328125 -0.902344 7.078125 -1.164062 7.671875 -1.691406 C 8.265625 -2.21875 8.570312 -3.070312 8.585938 -4.246094 L 5.441406 -4.246094 L 5.441406 -5.375 L 9.851562 -5.375 L 9.851562 0 L 8.976562 0 L 8.648438 -1.292969 C 8.1875 -0.785156 7.78125 -0.433594 7.421875 -0.238281 C 6.828125 0.0976562 6.066406 0.265625 5.148438 0.265625 C 3.957031 0.265625 2.933594 -0.117188 2.078125 -0.890625 C 1.144531 -1.855469 0.675781 -3.179688 0.675781 -4.867188 C 0.675781 -6.546875 1.132812 -7.886719 2.042969 -8.878906 C 2.910156 -9.828125 4.03125 -10.300781 5.40625 -10.300781 Z M 5.40625 -10.300781 \"/>\n",
       "</symbol>\n",
       "<symbol overflow=\"visible\" id=\"glyph0-20\">\n",
       "<path style=\"stroke:none;\" d=\"M 5.734375 -5.441406 C 6.375 -5.441406 6.878906 -5.570312 7.25 -5.824219 C 7.621094 -6.078125 7.804688 -6.539062 7.804688 -7.203125 C 7.804688 -7.921875 7.546875 -8.40625 7.027344 -8.667969 C 6.75 -8.804688 6.378906 -8.875 5.914062 -8.875 L 2.589844 -8.875 L 2.589844 -5.441406 Z M 1.230469 -10.042969 L 5.878906 -10.042969 C 6.644531 -10.042969 7.277344 -9.929688 7.773438 -9.707031 C 8.714844 -9.277344 9.1875 -8.488281 9.1875 -7.335938 C 9.1875 -6.734375 9.0625 -6.242188 8.816406 -5.859375 C 8.566406 -5.476562 8.21875 -5.167969 7.773438 -4.9375 C 8.164062 -4.777344 8.460938 -4.566406 8.65625 -4.304688 C 8.855469 -4.046875 8.964844 -3.625 8.988281 -3.042969 L 9.039062 -1.695312 C 9.050781 -1.3125 9.082031 -1.027344 9.132812 -0.839844 C 9.214844 -0.523438 9.359375 -0.316406 9.570312 -0.226562 L 9.570312 0 L 7.902344 0 C 7.855469 -0.0859375 7.820312 -0.199219 7.792969 -0.335938 C 7.765625 -0.472656 7.742188 -0.734375 7.726562 -1.128906 L 7.640625 -2.804688 C 7.609375 -3.460938 7.367188 -3.898438 6.910156 -4.121094 C 6.652344 -4.246094 6.242188 -4.304688 5.6875 -4.304688 L 2.589844 -4.304688 L 2.589844 0 L 1.230469 0 Z M 1.230469 -10.042969 \"/>\n",
       "</symbol>\n",
       "<symbol overflow=\"visible\" id=\"glyph0-21\">\n",
       "<path style=\"stroke:none;\" d=\"M 2.542969 -10.042969 L 2.542969 -3.835938 C 2.542969 -3.105469 2.679688 -2.5 2.953125 -2.015625 C 3.359375 -1.289062 4.042969 -0.921875 5.003906 -0.921875 C 6.15625 -0.921875 6.941406 -1.316406 7.355469 -2.105469 C 7.578125 -2.535156 7.691406 -3.109375 7.691406 -3.835938 L 7.691406 -10.042969 L 9.070312 -10.042969 L 9.070312 -4.402344 C 9.070312 -3.167969 8.90625 -2.21875 8.570312 -1.550781 C 7.960938 -0.339844 6.808594 0.265625 5.113281 0.265625 C 3.417969 0.265625 2.265625 -0.339844 1.660156 -1.550781 C 1.328125 -2.21875 1.164062 -3.167969 1.164062 -4.402344 L 1.164062 -10.042969 Z M 2.542969 -10.042969 \"/>\n",
       "</symbol>\n",
       "<symbol overflow=\"visible\" id=\"glyph0-22\">\n",
       "<path style=\"stroke:none;\" d=\"M 1.375 -10.042969 L 2.75 -10.042969 L 2.75 0 L 1.375 0 Z M 1.375 -10.042969 \"/>\n",
       "</symbol>\n",
       "<symbol overflow=\"visible\" id=\"glyph0-23\">\n",
       "<path style=\"stroke:none;\" d=\"M 4.839844 -5.796875 C 5.414062 -5.796875 5.859375 -5.875 6.179688 -6.035156 C 6.679688 -6.285156 6.929688 -6.738281 6.929688 -7.390625 C 6.929688 -8.046875 6.664062 -8.488281 6.132812 -8.714844 C 5.832031 -8.84375 5.382812 -8.90625 4.792969 -8.90625 L 2.367188 -8.90625 L 2.367188 -5.796875 Z M 5.296875 -1.164062 C 6.132812 -1.164062 6.726562 -1.402344 7.082031 -1.886719 C 7.304688 -2.191406 7.417969 -2.5625 7.417969 -2.992188 C 7.417969 -3.722656 7.089844 -4.21875 6.4375 -4.484375 C 6.09375 -4.625 5.636719 -4.695312 5.066406 -4.695312 L 2.367188 -4.695312 L 2.367188 -1.164062 Z M 1.03125 -10.042969 L 5.34375 -10.042969 C 6.519531 -10.042969 7.359375 -9.691406 7.855469 -8.988281 C 8.148438 -8.574219 8.292969 -8.097656 8.292969 -7.554688 C 8.292969 -6.921875 8.113281 -6.402344 7.75 -5.996094 C 7.5625 -5.78125 7.296875 -5.585938 6.945312 -5.40625 C 7.460938 -5.210938 7.84375 -4.992188 8.101562 -4.742188 C 8.550781 -4.304688 8.777344 -3.703125 8.777344 -2.933594 C 8.777344 -2.285156 8.574219 -1.699219 8.167969 -1.175781 C 7.5625 -0.390625 6.597656 0 5.277344 0 L 1.03125 0 Z M 1.03125 -10.042969 \"/>\n",
       "</symbol>\n",
       "<symbol overflow=\"visible\" id=\"glyph0-24\">\n",
       "<path style=\"stroke:none;\" d=\"M 1.195312 -10.042969 L 8.515625 -10.042969 L 8.515625 -8.8125 L 2.523438 -8.8125 L 2.523438 -5.761719 L 8.066406 -5.761719 L 8.066406 -4.601562 L 2.523438 -4.601562 L 2.523438 -1.195312 L 8.621094 -1.195312 L 8.621094 0 L 1.195312 0 Z M 1.195312 -10.042969 \"/>\n",
       "</symbol>\n",
       "<symbol overflow=\"visible\" id=\"glyph0-25\">\n",
       "<path style=\"stroke:none;\" d=\"M 1.066406 -10.042969 L 2.390625 -10.042969 L 2.390625 -5.148438 L 7.289062 -10.042969 L 9.167969 -10.042969 L 4.992188 -5.996094 L 9.28125 0 L 7.511719 0 L 4 -5.039062 L 2.390625 -3.5 L 2.390625 0 L 1.066406 0 Z M 1.066406 -10.042969 \"/>\n",
       "</symbol>\n",
       "<symbol overflow=\"visible\" id=\"glyph0-26\">\n",
       "<path style=\"stroke:none;\" d=\"M 1.84375 -1.949219 C 1.84375 -1.59375 1.976562 -1.3125 2.234375 -1.109375 C 2.496094 -0.902344 2.804688 -0.800781 3.15625 -0.800781 C 3.589844 -0.800781 4.011719 -0.898438 4.414062 -1.101562 C 5.097656 -1.433594 5.441406 -1.976562 5.441406 -2.734375 L 5.441406 -3.726562 C 5.289062 -3.628906 5.097656 -3.550781 4.859375 -3.484375 C 4.625 -3.421875 4.390625 -3.375 4.164062 -3.351562 L 3.417969 -3.253906 C 2.972656 -3.195312 2.636719 -3.101562 2.414062 -2.972656 C 2.035156 -2.757812 1.84375 -2.417969 1.84375 -1.949219 Z M 4.828125 -4.4375 C 5.109375 -4.472656 5.296875 -4.589844 5.394531 -4.792969 C 5.449219 -4.902344 5.476562 -5.058594 5.476562 -5.265625 C 5.476562 -5.683594 5.328125 -5.988281 5.027344 -6.175781 C 4.730469 -6.367188 4.300781 -6.460938 3.746094 -6.460938 C 3.101562 -6.460938 2.648438 -6.285156 2.378906 -5.941406 C 2.226562 -5.75 2.128906 -5.464844 2.085938 -5.085938 L 0.9375 -5.085938 C 0.960938 -5.988281 1.253906 -6.617188 1.816406 -6.96875 C 2.378906 -7.320312 3.03125 -7.5 3.773438 -7.5 C 4.632812 -7.5 5.335938 -7.335938 5.871094 -7.007812 C 6.40625 -6.679688 6.671875 -6.167969 6.671875 -5.476562 L 6.671875 -1.257812 C 6.671875 -1.128906 6.699219 -1.027344 6.75 -0.949219 C 6.804688 -0.871094 6.914062 -0.835938 7.082031 -0.835938 C 7.136719 -0.835938 7.199219 -0.835938 7.265625 -0.84375 C 7.335938 -0.851562 7.40625 -0.859375 7.484375 -0.875 L 7.484375 0.0351562 C 7.292969 0.0898438 7.148438 0.125 7.046875 0.136719 C 6.945312 0.148438 6.8125 0.15625 6.636719 0.15625 C 6.214844 0.15625 5.90625 0.0078125 5.714844 -0.292969 C 5.613281 -0.453125 5.542969 -0.679688 5.503906 -0.96875 C 5.253906 -0.640625 4.890625 -0.359375 4.421875 -0.117188 C 3.953125 0.125 3.4375 0.246094 2.871094 0.246094 C 2.191406 0.246094 1.636719 0.0390625 1.207031 -0.371094 C 0.777344 -0.785156 0.5625 -1.300781 0.5625 -1.921875 C 0.5625 -2.601562 0.773438 -3.125 1.195312 -3.5 C 1.621094 -3.875 2.175781 -4.105469 2.863281 -4.191406 Z M 4.828125 -4.4375 \"/>\n",
       "</symbol>\n",
       "<symbol overflow=\"visible\" id=\"glyph0-27\">\n",
       "<path style=\"stroke:none;\" d=\"M 1.632812 -2.296875 C 1.671875 -1.886719 1.773438 -1.570312 1.941406 -1.351562 C 2.25 -0.957031 2.789062 -0.757812 3.554688 -0.757812 C 4.011719 -0.757812 4.410156 -0.859375 4.757812 -1.054688 C 5.105469 -1.253906 5.277344 -1.5625 5.277344 -1.976562 C 5.277344 -2.289062 5.136719 -2.53125 4.859375 -2.695312 C 4.683594 -2.792969 4.332031 -2.910156 3.808594 -3.042969 L 2.828125 -3.289062 C 2.203125 -3.445312 1.746094 -3.617188 1.449219 -3.808594 C 0.921875 -4.140625 0.65625 -4.601562 0.65625 -5.1875 C 0.65625 -5.882812 0.90625 -6.441406 1.40625 -6.871094 C 1.90625 -7.296875 2.574219 -7.511719 3.417969 -7.511719 C 4.519531 -7.511719 5.316406 -7.1875 5.804688 -6.542969 C 6.109375 -6.132812 6.257812 -5.691406 6.25 -5.214844 L 5.085938 -5.214844 C 5.0625 -5.492188 4.964844 -5.746094 4.792969 -5.976562 C 4.507812 -6.296875 4.019531 -6.460938 3.320312 -6.460938 C 2.855469 -6.460938 2.503906 -6.371094 2.265625 -6.195312 C 2.027344 -6.015625 1.90625 -5.78125 1.90625 -5.488281 C 1.90625 -5.171875 2.0625 -4.914062 2.378906 -4.722656 C 2.5625 -4.609375 2.828125 -4.507812 3.1875 -4.421875 L 4 -4.226562 C 4.882812 -4.011719 5.476562 -3.804688 5.777344 -3.601562 C 6.253906 -3.289062 6.492188 -2.792969 6.492188 -2.117188 C 6.492188 -1.46875 6.246094 -0.90625 5.753906 -0.429688 C 5.257812 0.0429688 4.503906 0.28125 3.492188 0.28125 C 2.402344 0.28125 1.632812 0.03125 1.179688 -0.460938 C 0.726562 -0.957031 0.484375 -1.566406 0.453125 -2.296875 Z M 1.632812 -2.296875 \"/>\n",
       "</symbol>\n",
       "<symbol overflow=\"visible\" id=\"glyph0-28\">\n",
       "<path style=\"stroke:none;\" d=\"M 0 1.75 L 0 1.058594 L 7.785156 1.058594 L 7.785156 1.75 Z M 0 1.75 \"/>\n",
       "</symbol>\n",
       "<symbol overflow=\"visible\" id=\"glyph0-29\">\n",
       "<path style=\"stroke:none;\" d=\"M 5.398438 -10.316406 C 7.171875 -10.316406 8.484375 -9.746094 9.335938 -8.605469 C 10.003906 -7.71875 10.335938 -6.582031 10.335938 -5.195312 C 10.335938 -3.695312 9.957031 -2.449219 9.195312 -1.457031 C 8.300781 -0.289062 7.027344 0.292969 5.375 0.292969 C 3.828125 0.292969 2.613281 -0.214844 1.730469 -1.238281 C 0.941406 -2.222656 0.546875 -3.464844 0.546875 -4.96875 C 0.546875 -6.328125 0.882812 -7.488281 1.558594 -8.457031 C 2.425781 -9.695312 3.703125 -10.316406 5.398438 -10.316406 Z M 5.539062 -0.921875 C 6.734375 -0.921875 7.601562 -1.351562 8.136719 -2.210938 C 8.671875 -3.070312 8.941406 -4.058594 8.941406 -5.175781 C 8.941406 -6.355469 8.632812 -7.304688 8.015625 -8.023438 C 7.398438 -8.746094 6.554688 -9.105469 5.484375 -9.105469 C 4.445312 -9.105469 3.59375 -8.75 2.9375 -8.035156 C 2.28125 -7.320312 1.953125 -6.269531 1.953125 -4.882812 C 1.953125 -3.769531 2.238281 -2.832031 2.800781 -2.066406 C 3.363281 -1.304688 4.273438 -0.921875 5.539062 -0.921875 Z M 5.539062 -0.921875 \"/>\n",
       "</symbol>\n",
       "<symbol overflow=\"visible\" id=\"glyph0-30\">\n",
       "<path style=\"stroke:none;\" d=\"M 2.132812 -8.621094 L 0.902344 -8.621094 L 0.902344 -10.042969 L 2.132812 -10.042969 Z M -0.257812 1.851562 C 0.292969 1.835938 0.625 1.785156 0.734375 1.707031 C 0.847656 1.625 0.902344 1.375 0.902344 0.957031 L 0.902344 -7.289062 L 2.132812 -7.289062 L 2.132812 1.085938 C 2.132812 1.621094 2.046875 2.019531 1.875 2.28125 C 1.585938 2.730469 1.042969 2.953125 0.238281 2.953125 C 0.179688 2.953125 0.117188 2.949219 0.0507812 2.945312 C -0.015625 2.941406 -0.117188 2.933594 -0.257812 2.917969 Z M -0.257812 1.851562 \"/>\n",
       "</symbol>\n",
       "<symbol overflow=\"visible\" id=\"glyph0-31\">\n",
       "<path style=\"stroke:none;\" d=\"M 1.066406 -10.042969 L 2.671875 -10.042969 L 7.746094 -1.90625 L 7.746094 -10.042969 L 9.039062 -10.042969 L 9.039062 0 L 7.511719 0 L 2.367188 -8.128906 L 2.367188 0 L 1.066406 0 Z M 1.066406 -10.042969 \"/>\n",
       "</symbol>\n",
       "<symbol overflow=\"visible\" id=\"glyph0-32\">\n",
       "<path style=\"stroke:none;\" d=\"M 4.09375 -9.828125 C 5.1875 -9.828125 5.949219 -9.546875 6.382812 -8.980469 C 6.8125 -8.414062 7.027344 -7.828125 7.027344 -7.226562 L 5.8125 -7.226562 C 5.738281 -7.613281 5.621094 -7.914062 5.460938 -8.132812 C 5.164062 -8.542969 4.71875 -8.75 4.117188 -8.75 C 3.429688 -8.75 2.878906 -8.433594 2.476562 -7.796875 C 2.070312 -7.160156 1.84375 -6.25 1.796875 -5.066406 C 2.078125 -5.480469 2.4375 -5.789062 2.863281 -5.996094 C 3.257812 -6.179688 3.695312 -6.269531 4.175781 -6.269531 C 4.996094 -6.269531 5.710938 -6.007812 6.324219 -5.484375 C 6.933594 -4.960938 7.238281 -4.175781 7.238281 -3.136719 C 7.238281 -2.25 6.949219 -1.460938 6.371094 -0.777344 C 5.792969 -0.0898438 4.96875 0.253906 3.898438 0.253906 C 2.980469 0.253906 2.191406 -0.09375 1.523438 -0.789062 C 0.859375 -1.484375 0.527344 -2.65625 0.527344 -4.300781 C 0.527344 -5.515625 0.675781 -6.546875 0.96875 -7.398438 C 1.539062 -9.019531 2.582031 -9.828125 4.09375 -9.828125 Z M 4.007812 -0.839844 C 4.652344 -0.839844 5.136719 -1.058594 5.457031 -1.492188 C 5.78125 -1.929688 5.941406 -2.441406 5.941406 -3.035156 C 5.941406 -3.535156 5.796875 -4.015625 5.507812 -4.46875 C 5.222656 -4.921875 4.699219 -5.148438 3.945312 -5.148438 C 3.414062 -5.148438 2.953125 -4.972656 2.554688 -4.621094 C 2.15625 -4.269531 1.953125 -3.742188 1.953125 -3.035156 C 1.953125 -2.414062 2.136719 -1.894531 2.5 -1.472656 C 2.859375 -1.050781 3.363281 -0.839844 4.007812 -0.839844 Z M 4.007812 -0.839844 \"/>\n",
       "</symbol>\n",
       "<symbol overflow=\"visible\" id=\"glyph0-33\">\n",
       "<path style=\"stroke:none;\" d=\"M 7.320312 -9.625 L 7.320312 -8.550781 C 7.007812 -8.246094 6.589844 -7.714844 6.066406 -6.960938 C 5.546875 -6.203125 5.082031 -5.386719 4.683594 -4.511719 C 4.285156 -3.660156 3.984375 -2.882812 3.78125 -2.179688 C 3.648438 -1.730469 3.476562 -1.003906 3.265625 0 L 1.90625 0 C 2.21875 -1.867188 2.902344 -3.726562 3.957031 -5.578125 C 4.582031 -6.664062 5.238281 -7.597656 5.925781 -8.386719 L 0.511719 -8.386719 L 0.511719 -9.625 Z M 7.320312 -9.625 \"/>\n",
       "</symbol>\n",
       "<symbol overflow=\"visible\" id=\"glyph0-34\">\n",
       "<path style=\"stroke:none;\" d=\"M 0.4375 0 C 0.484375 -0.84375 0.65625 -1.578125 0.960938 -2.203125 C 1.265625 -2.828125 1.855469 -3.394531 2.734375 -3.902344 L 4.046875 -4.664062 C 4.632812 -5.003906 5.046875 -5.296875 5.285156 -5.539062 C 5.65625 -5.914062 5.84375 -6.347656 5.84375 -6.835938 C 5.84375 -7.40625 5.671875 -7.859375 5.332031 -8.191406 C 4.992188 -8.527344 4.535156 -8.695312 3.964844 -8.695312 C 3.121094 -8.695312 2.539062 -8.375 2.214844 -7.738281 C 2.042969 -7.398438 1.945312 -6.921875 1.929688 -6.316406 L 0.675781 -6.316406 C 0.691406 -7.167969 0.847656 -7.863281 1.148438 -8.402344 C 1.679688 -9.351562 2.621094 -9.824219 3.972656 -9.824219 C 5.09375 -9.824219 5.910156 -9.519531 6.429688 -8.914062 C 6.945312 -8.308594 7.203125 -7.632812 7.203125 -6.890625 C 7.203125 -6.105469 6.929688 -5.4375 6.378906 -4.882812 C 6.058594 -4.558594 5.488281 -4.164062 4.664062 -3.703125 L 3.726562 -3.1875 C 3.28125 -2.941406 2.929688 -2.703125 2.671875 -2.480469 C 2.21875 -2.085938 1.929688 -1.644531 1.8125 -1.164062 L 7.15625 -1.164062 L 7.15625 0 Z M 0.4375 0 \"/>\n",
       "</symbol>\n",
       "<symbol overflow=\"visible\" id=\"glyph0-35\">\n",
       "<path style=\"stroke:none;\" d=\"M 3.789062 -9.789062 C 5.054688 -9.789062 5.96875 -9.265625 6.535156 -8.222656 C 6.972656 -7.417969 7.191406 -6.3125 7.191406 -4.90625 C 7.191406 -3.578125 6.992188 -2.476562 6.597656 -1.605469 C 6.023438 -0.359375 5.082031 0.265625 3.78125 0.265625 C 2.605469 0.265625 1.730469 -0.242188 1.15625 -1.265625 C 0.675781 -2.117188 0.4375 -3.261719 0.4375 -4.695312 C 0.4375 -5.808594 0.582031 -6.761719 0.867188 -7.5625 C 1.40625 -9.046875 2.378906 -9.789062 3.789062 -9.789062 Z M 3.773438 -0.855469 C 4.410156 -0.855469 4.917969 -1.136719 5.296875 -1.703125 C 5.675781 -2.265625 5.867188 -3.320312 5.867188 -4.859375 C 5.867188 -5.972656 5.726562 -6.886719 5.453125 -7.605469 C 5.179688 -8.324219 4.652344 -8.679688 3.863281 -8.679688 C 3.136719 -8.679688 2.609375 -8.339844 2.273438 -7.660156 C 1.9375 -6.976562 1.769531 -5.976562 1.769531 -4.648438 C 1.769531 -3.648438 1.878906 -2.847656 2.09375 -2.242188 C 2.421875 -1.316406 2.980469 -0.855469 3.773438 -0.855469 Z M 3.773438 -0.855469 \"/>\n",
       "</symbol>\n",
       "<symbol overflow=\"visible\" id=\"glyph0-36\">\n",
       "<path style=\"stroke:none;\" d=\"M 1.730469 -2.496094 C 1.8125 -1.792969 2.136719 -1.308594 2.707031 -1.039062 C 3 -0.902344 3.335938 -0.835938 3.71875 -0.835938 C 4.449219 -0.835938 4.988281 -1.066406 5.339844 -1.53125 C 5.691406 -1.996094 5.867188 -2.511719 5.867188 -3.078125 C 5.867188 -3.761719 5.65625 -4.289062 5.238281 -4.664062 C 4.820312 -5.035156 4.324219 -5.222656 3.738281 -5.222656 C 3.316406 -5.222656 2.953125 -5.140625 2.648438 -4.976562 C 2.34375 -4.8125 2.085938 -4.585938 1.875 -4.292969 L 0.804688 -4.355469 L 1.550781 -9.625 L 6.636719 -9.625 L 6.636719 -8.4375 L 2.476562 -8.4375 L 2.058594 -5.714844 C 2.285156 -5.886719 2.5 -6.019531 2.707031 -6.105469 C 3.070312 -6.253906 3.492188 -6.328125 3.972656 -6.328125 C 4.871094 -6.328125 5.628906 -6.039062 6.253906 -5.460938 C 6.878906 -4.882812 7.191406 -4.148438 7.191406 -3.261719 C 7.191406 -2.335938 6.90625 -1.519531 6.332031 -0.8125 C 5.761719 -0.105469 4.847656 0.246094 3.59375 0.246094 C 2.796875 0.246094 2.09375 0.0234375 1.480469 -0.425781 C 0.867188 -0.875 0.523438 -1.566406 0.453125 -2.496094 Z M 1.730469 -2.496094 \"/>\n",
       "</symbol>\n",
       "<symbol overflow=\"visible\" id=\"glyph0-37\">\n",
       "<path style=\"stroke:none;\" d=\"M 4.628906 -3.464844 L 4.628906 -7.902344 L 1.492188 -3.464844 Z M 4.648438 0 L 4.648438 -2.390625 L 0.355469 -2.390625 L 0.355469 -3.59375 L 4.839844 -9.816406 L 5.878906 -9.816406 L 5.878906 -3.464844 L 7.320312 -3.464844 L 7.320312 -2.390625 L 5.878906 -2.390625 L 5.878906 0 Z M 4.648438 0 \"/>\n",
       "</symbol>\n",
       "<symbol overflow=\"visible\" id=\"glyph0-38\">\n",
       "<path style=\"stroke:none;\" d=\"M 1.195312 -10.042969 L 5.714844 -10.042969 C 6.609375 -10.042969 7.328125 -9.789062 7.875 -9.285156 C 8.421875 -8.78125 8.695312 -8.074219 8.695312 -7.164062 C 8.695312 -6.378906 8.453125 -5.699219 7.964844 -5.117188 C 7.476562 -4.535156 6.726562 -4.246094 5.714844 -4.246094 L 2.554688 -4.246094 L 2.554688 0 L 1.195312 0 Z M 7.320312 -7.15625 C 7.320312 -7.894531 7.046875 -8.398438 6.5 -8.660156 C 6.199219 -8.800781 5.789062 -8.875 5.265625 -8.875 L 2.554688 -8.875 L 2.554688 -5.394531 L 5.265625 -5.394531 C 5.875 -5.394531 6.371094 -5.523438 6.75 -5.78125 C 7.132812 -6.042969 7.320312 -6.5 7.320312 -7.15625 Z M 7.320312 -7.15625 \"/>\n",
       "</symbol>\n",
       "<symbol overflow=\"visible\" id=\"glyph0-39\">\n",
       "<path style=\"stroke:none;\" d=\"M 0.902344 -7.320312 L 2.070312 -7.320312 L 2.070312 -6.28125 C 2.417969 -6.710938 2.785156 -7.019531 3.171875 -7.203125 C 3.558594 -7.390625 3.988281 -7.484375 4.464844 -7.484375 C 5.503906 -7.484375 6.203125 -7.125 6.570312 -6.398438 C 6.769531 -6 6.871094 -5.433594 6.871094 -4.695312 L 6.871094 0 L 5.617188 0 L 5.617188 -4.613281 C 5.617188 -5.0625 5.554688 -5.421875 5.421875 -5.695312 C 5.203125 -6.148438 4.804688 -6.378906 4.230469 -6.378906 C 3.9375 -6.378906 3.699219 -6.347656 3.515625 -6.289062 C 3.175781 -6.1875 2.878906 -5.988281 2.625 -5.6875 C 2.421875 -5.445312 2.285156 -5.195312 2.226562 -4.9375 C 2.164062 -4.679688 2.132812 -4.3125 2.132812 -3.835938 L 2.132812 0 L 0.902344 0 Z M 0.902344 -7.320312 \"/>\n",
       "</symbol>\n",
       "<symbol overflow=\"visible\" id=\"glyph0-40\">\n",
       "<path style=\"stroke:none;\" d=\"M 0.902344 -7.320312 L 2.117188 -7.320312 L 2.117188 -6.28125 C 2.410156 -6.640625 2.675781 -6.90625 2.914062 -7.070312 C 3.320312 -7.347656 3.777344 -7.484375 4.292969 -7.484375 C 4.875 -7.484375 5.34375 -7.34375 5.703125 -7.054688 C 5.902344 -6.890625 6.085938 -6.648438 6.25 -6.328125 C 6.523438 -6.722656 6.84375 -7.011719 7.210938 -7.203125 C 7.582031 -7.390625 7.996094 -7.484375 8.457031 -7.484375 C 9.441406 -7.484375 10.109375 -7.128906 10.464844 -6.417969 C 10.65625 -6.035156 10.753906 -5.519531 10.753906 -4.875 L 10.753906 0 L 9.476562 0 L 9.476562 -5.085938 C 9.476562 -5.574219 9.351562 -5.910156 9.109375 -6.089844 C 8.867188 -6.273438 8.566406 -6.363281 8.21875 -6.363281 C 7.734375 -6.363281 7.316406 -6.203125 6.96875 -5.878906 C 6.621094 -5.554688 6.445312 -5.015625 6.445312 -4.257812 L 6.445312 0 L 5.195312 0 L 5.195312 -4.777344 C 5.195312 -5.273438 5.136719 -5.636719 5.015625 -5.867188 C 4.828125 -6.207031 4.480469 -6.378906 3.972656 -6.378906 C 3.507812 -6.378906 3.085938 -6.199219 2.703125 -5.835938 C 2.324219 -5.476562 2.132812 -4.828125 2.132812 -3.882812 L 2.132812 0 L 0.902344 0 Z M 0.902344 -7.320312 \"/>\n",
       "</symbol>\n",
       "<symbol overflow=\"visible\" id=\"glyph0-41\">\n",
       "<path style=\"stroke:none;\" d=\"M 3.992188 -0.828125 C 4.566406 -0.828125 5.042969 -1.066406 5.425781 -1.546875 C 5.804688 -2.027344 5.996094 -2.75 5.996094 -3.703125 C 5.996094 -4.289062 5.910156 -4.789062 5.742188 -5.210938 C 5.421875 -6.015625 4.839844 -6.417969 3.992188 -6.417969 C 3.140625 -6.417969 2.554688 -5.992188 2.242188 -5.140625 C 2.074219 -4.683594 1.988281 -4.105469 1.988281 -3.40625 C 1.988281 -2.839844 2.074219 -2.359375 2.242188 -1.960938 C 2.5625 -1.203125 3.144531 -0.828125 3.992188 -0.828125 Z M 0.804688 -7.289062 L 2.003906 -7.289062 L 2.003906 -6.316406 C 2.25 -6.648438 2.519531 -6.90625 2.808594 -7.089844 C 3.222656 -7.363281 3.710938 -7.5 4.273438 -7.5 C 5.101562 -7.5 5.804688 -7.179688 6.382812 -6.546875 C 6.960938 -5.910156 7.253906 -5 7.253906 -3.820312 C 7.253906 -2.226562 6.835938 -1.085938 6 -0.402344 C 5.472656 0.03125 4.859375 0.246094 4.15625 0.246094 C 3.605469 0.246094 3.140625 0.125 2.769531 -0.117188 C 2.550781 -0.253906 2.304688 -0.488281 2.039062 -0.820312 L 2.039062 2.917969 L 0.804688 2.917969 Z M 0.804688 -7.289062 \"/>\n",
       "</symbol>\n",
       "<symbol overflow=\"visible\" id=\"glyph0-42\">\n",
       "<path style=\"stroke:none;\" d=\"M 0.804688 -10.078125 L 2.003906 -10.078125 L 2.003906 -6.433594 C 2.273438 -6.785156 2.59375 -7.050781 2.96875 -7.234375 C 3.339844 -7.421875 3.746094 -7.511719 4.183594 -7.511719 C 5.09375 -7.511719 5.835938 -7.199219 6.402344 -6.574219 C 6.96875 -5.945312 7.253906 -5.023438 7.253906 -3.800781 C 7.253906 -2.644531 6.972656 -1.679688 6.414062 -0.914062 C 5.851562 -0.148438 5.074219 0.234375 4.082031 0.234375 C 3.523438 0.234375 3.054688 0.0976562 2.671875 -0.171875 C 2.445312 -0.332031 2.203125 -0.585938 1.941406 -0.9375 L 1.941406 0 L 0.804688 0 Z M 4.007812 -0.855469 C 4.671875 -0.855469 5.167969 -1.117188 5.5 -1.648438 C 5.828125 -2.175781 5.996094 -2.875 5.996094 -3.738281 C 5.996094 -4.507812 5.828125 -5.148438 5.5 -5.652344 C 5.167969 -6.160156 4.683594 -6.414062 4.039062 -6.414062 C 3.480469 -6.414062 2.988281 -6.203125 2.566406 -5.789062 C 2.144531 -5.375 1.933594 -4.691406 1.933594 -3.738281 C 1.933594 -3.050781 2.019531 -2.492188 2.195312 -2.0625 C 2.519531 -1.257812 3.121094 -0.855469 4.007812 -0.855469 Z M 4.007812 -0.855469 \"/>\n",
       "</symbol>\n",
       "<symbol overflow=\"visible\" id=\"glyph0-43\">\n",
       "<path style=\"stroke:none;\" d=\"M 1.46875 -7.320312 L 2.878906 -1.550781 L 4.304688 -7.320312 L 5.6875 -7.320312 L 7.125 -1.585938 L 8.621094 -7.320312 L 9.851562 -7.320312 L 7.726562 0 L 6.445312 0 L 4.957031 -5.667969 L 3.515625 0 L 2.234375 0 L 0.125 -7.320312 Z M 1.46875 -7.320312 \"/>\n",
       "</symbol>\n",
       "<symbol overflow=\"visible\" id=\"glyph0-44\">\n",
       "<path style=\"stroke:none;\" d=\"M 1.953125 -3.242188 C 1.984375 -2.671875 2.121094 -2.207031 2.359375 -1.851562 C 2.808594 -1.1875 3.605469 -0.855469 4.742188 -0.855469 C 5.253906 -0.855469 5.71875 -0.925781 6.140625 -1.074219 C 6.949219 -1.355469 7.355469 -1.863281 7.355469 -2.589844 C 7.355469 -3.136719 7.183594 -3.527344 6.84375 -3.757812 C 6.496094 -3.988281 5.953125 -4.1875 5.214844 -4.355469 L 3.855469 -4.664062 C 2.96875 -4.863281 2.335938 -5.082031 1.96875 -5.324219 C 1.332031 -5.742188 1.011719 -6.371094 1.011719 -7.203125 C 1.011719 -8.105469 1.324219 -8.847656 1.949219 -9.425781 C 2.574219 -10.003906 3.457031 -10.296875 4.601562 -10.296875 C 5.652344 -10.296875 6.546875 -10.039062 7.285156 -9.53125 C 8.019531 -9.023438 8.386719 -8.210938 8.386719 -7.09375 L 7.109375 -7.09375 C 7.039062 -7.632812 6.894531 -8.046875 6.671875 -8.332031 C 6.257812 -8.855469 5.554688 -9.117188 4.558594 -9.117188 C 3.757812 -9.117188 3.179688 -8.949219 2.828125 -8.613281 C 2.476562 -8.277344 2.304688 -7.882812 2.304688 -7.4375 C 2.304688 -6.945312 2.507812 -6.585938 2.917969 -6.359375 C 3.1875 -6.210938 3.796875 -6.03125 4.742188 -5.8125 L 6.152344 -5.488281 C 6.832031 -5.335938 7.355469 -5.121094 7.726562 -4.851562 C 8.363281 -4.382812 8.679688 -3.703125 8.679688 -2.808594 C 8.679688 -1.695312 8.277344 -0.902344 7.46875 -0.421875 C 6.660156 0.0546875 5.71875 0.292969 4.648438 0.292969 C 3.398438 0.292969 2.421875 -0.0234375 1.714844 -0.664062 C 1.007812 -1.296875 0.664062 -2.15625 0.675781 -3.242188 Z M 1.953125 -3.242188 \"/>\n",
       "</symbol>\n",
       "<symbol overflow=\"visible\" id=\"glyph0-45\">\n",
       "<path style=\"stroke:none;\" d=\"M 8.375 -10.042969 L 8.375 -8.84375 L 4.992188 -8.84375 L 4.992188 0 L 3.609375 0 L 3.609375 -8.84375 L 0.226562 -8.84375 L 0.226562 -10.042969 Z M 8.375 -10.042969 \"/>\n",
       "</symbol>\n",
       "<symbol overflow=\"visible\" id=\"glyph0-46\">\n",
       "<path style=\"stroke:none;\" d=\"M 1.03125 -10.042969 L 2.980469 -10.042969 L 5.867188 -1.550781 L 8.730469 -10.042969 L 10.65625 -10.042969 L 10.65625 0 L 9.367188 0 L 9.367188 -5.925781 C 9.367188 -6.132812 9.371094 -6.472656 9.378906 -6.945312 C 9.386719 -7.417969 9.390625 -7.925781 9.390625 -8.46875 L 6.527344 0 L 5.179688 0 L 2.296875 -8.46875 L 2.296875 -8.164062 C 2.296875 -7.917969 2.300781 -7.542969 2.3125 -7.039062 C 2.324219 -6.535156 2.332031 -6.164062 2.332031 -5.925781 L 2.332031 0 L 1.03125 0 Z M 1.03125 -10.042969 \"/>\n",
       "</symbol>\n",
       "<symbol overflow=\"visible\" id=\"glyph0-47\">\n",
       "<path style=\"stroke:none;\" d=\"M 1.503906 -7.320312 L 3.460938 -1.359375 L 5.503906 -7.320312 L 6.851562 -7.320312 L 4.085938 0 L 2.773438 0 L 0.0742188 -7.320312 Z M 1.503906 -7.320312 \"/>\n",
       "</symbol>\n",
       "<symbol overflow=\"visible\" id=\"glyph0-48\">\n",
       "<path style=\"stroke:none;\" d=\"M 0.355469 -0.96875 L 4.695312 -6.21875 L 0.675781 -6.21875 L 0.675781 -7.320312 L 6.351562 -7.320312 L 6.351562 -6.316406 L 2.039062 -1.101562 L 6.480469 -1.101562 L 6.480469 0 L 0.355469 0 Z M 0.355469 -0.96875 \"/>\n",
       "</symbol>\n",
       "<symbol overflow=\"visible\" id=\"glyph0-49\">\n",
       "<path style=\"stroke:none;\" d=\"M 1.679688 -3.574219 C 1.679688 -2.789062 1.847656 -2.136719 2.179688 -1.605469 C 2.511719 -1.078125 3.046875 -0.8125 3.78125 -0.8125 C 4.351562 -0.8125 4.816406 -1.058594 5.183594 -1.546875 C 5.550781 -2.039062 5.734375 -2.742188 5.734375 -3.65625 C 5.734375 -4.582031 5.546875 -5.265625 5.167969 -5.710938 C 4.789062 -6.15625 4.324219 -6.378906 3.765625 -6.378906 C 3.148438 -6.378906 2.644531 -6.140625 2.257812 -5.667969 C 1.875 -5.195312 1.679688 -4.496094 1.679688 -3.574219 Z M 3.535156 -7.453125 C 4.09375 -7.453125 4.5625 -7.332031 4.941406 -7.09375 C 5.160156 -6.957031 5.410156 -6.71875 5.6875 -6.378906 L 5.6875 -10.078125 L 6.871094 -10.078125 L 6.871094 0 L 5.761719 0 L 5.761719 -1.019531 C 5.476562 -0.566406 5.136719 -0.242188 4.742188 -0.0390625 C 4.351562 0.160156 3.902344 0.257812 3.398438 0.257812 C 2.582031 0.257812 1.875 -0.0820312 1.277344 -0.769531 C 0.679688 -1.453125 0.382812 -2.367188 0.382812 -3.507812 C 0.382812 -4.574219 0.65625 -5.496094 1.199219 -6.277344 C 1.742188 -7.058594 2.523438 -7.453125 3.535156 -7.453125 Z M 3.535156 -7.453125 \"/>\n",
       "</symbol>\n",
       "<symbol overflow=\"visible\" id=\"glyph0-50\">\n",
       "<path style=\"stroke:none;\" d=\"M 5.476562 -7.320312 L 6.835938 -7.320312 C 6.664062 -6.851562 6.277344 -5.78125 5.679688 -4.109375 C 5.234375 -2.851562 4.859375 -1.824219 4.558594 -1.03125 C 3.847656 0.835938 3.347656 1.976562 3.054688 2.386719 C 2.765625 2.796875 2.261719 3 1.550781 3 C 1.378906 3 1.246094 2.992188 1.152344 2.980469 C 1.058594 2.96875 0.945312 2.941406 0.804688 2.90625 L 0.804688 1.785156 C 1.019531 1.84375 1.175781 1.878906 1.273438 1.894531 C 1.367188 1.90625 1.453125 1.914062 1.523438 1.914062 C 1.75 1.914062 1.917969 1.875 2.027344 1.800781 C 2.132812 1.726562 2.222656 1.632812 2.296875 1.523438 C 2.320312 1.488281 2.402344 1.300781 2.542969 0.964844 C 2.683594 0.625 2.785156 0.375 2.851562 0.210938 L 0.144531 -7.320312 L 1.539062 -7.320312 L 3.5 -1.359375 Z M 5.476562 -7.320312 \"/>\n",
       "</symbol>\n",
       "</g>\n",
       "</defs>\n",
       "<g id=\"surface26\">\n",
       "<rect x=\"0\" y=\"0\" width=\"600\" height=\"600\" style=\"fill:rgb(100%,100%,100%);fill-opacity:1;stroke:none;\"/>\n",
       "<path style=\"fill:none;stroke-width:1;stroke-linecap:butt;stroke-linejoin:miter;stroke:rgb(26.666667%,26.666667%,26.666667%);stroke-opacity:1;stroke-miterlimit:10;\" d=\"M 358.753906 349.949219 L 261.640625 238.566406 \"/>\n",
       "<path style=\" stroke:none;fill-rule:nonzero;fill:rgb(26.666667%,26.666667%,26.666667%);fill-opacity:1;\" d=\"M 252.265625 227.8125 L 265.132812 235.519531 L 258.144531 241.613281 L 252.265625 227.8125 \"/>\n",
       "<path style=\"fill:none;stroke-width:1;stroke-linecap:butt;stroke-linejoin:miter;stroke:rgb(26.666667%,26.666667%,26.666667%);stroke-opacity:1;stroke-miterlimit:10;\" d=\"M 181.59375 559.3125 L 85.753906 486.738281 \"/>\n",
       "<path style=\" stroke:none;fill-rule:nonzero;fill:rgb(26.666667%,26.666667%,26.666667%);fill-opacity:1;\" d=\"M 74.378906 478.125 L 88.550781 483.042969 L 82.953125 490.433594 L 74.378906 478.125 \"/>\n",
       "<path style=\"fill:none;stroke-width:1;stroke-linecap:butt;stroke-linejoin:miter;stroke:rgb(26.666667%,26.666667%,26.666667%);stroke-opacity:1;stroke-miterlimit:10;\" d=\"M 184.675781 403.3125 L 87.382812 459.890625 \"/>\n",
       "<path style=\" stroke:none;fill-rule:nonzero;fill:rgb(26.666667%,26.666667%,26.666667%);fill-opacity:1;\" d=\"M 75.050781 467.0625 L 85.054688 455.882812 L 89.714844 463.898438 L 75.050781 467.0625 \"/>\n",
       "<path style=\"fill:none;stroke-width:1;stroke-linecap:butt;stroke-linejoin:miter;stroke:rgb(26.666667%,26.666667%,26.666667%);stroke-opacity:1;stroke-miterlimit:10;\" d=\"M 312.640625 580 L 413.191406 552.722656 \"/>\n",
       "<path style=\" stroke:none;fill-rule:nonzero;fill:rgb(26.666667%,26.666667%,26.666667%);fill-opacity:1;\" d=\"M 426.960938 548.988281 L 414.40625 557.195312 L 411.980469 548.25 L 426.960938 548.988281 \"/>\n",
       "<path style=\"fill:none;stroke-width:1;stroke-linecap:butt;stroke-linejoin:miter;stroke:rgb(26.666667%,26.666667%,26.666667%);stroke-opacity:1;stroke-miterlimit:10;\" d=\"M 393.09375 171.472656 L 268.726562 212.648438 \"/>\n",
       "<path style=\" stroke:none;fill-rule:nonzero;fill:rgb(26.666667%,26.666667%,26.666667%);fill-opacity:1;\" d=\"M 255.183594 217.132812 L 267.269531 208.25 L 270.183594 217.050781 L 255.183594 217.132812 \"/>\n",
       "<path style=\"fill:none;stroke-width:1;stroke-linecap:butt;stroke-linejoin:miter;stroke:rgb(26.666667%,26.666667%,26.666667%);stroke-opacity:1;stroke-miterlimit:10;\" d=\"M 127.382812 109.835938 L 227.953125 203.71875 \"/>\n",
       "<path style=\" stroke:none;fill-rule:nonzero;fill:rgb(26.666667%,26.666667%,26.666667%);fill-opacity:1;\" d=\"M 238.382812 213.453125 L 224.789062 207.105469 L 231.117188 200.328125 L 238.382812 213.453125 \"/>\n",
       "<path style=\"fill:none;stroke-width:1;stroke-linecap:butt;stroke-linejoin:miter;stroke:rgb(26.666667%,26.666667%,26.666667%);stroke-opacity:1;stroke-miterlimit:10;\" d=\"M 371.457031 20 L 254.347656 21.886719 \"/>\n",
       "<path style=\" stroke:none;fill-rule:nonzero;fill:rgb(26.666667%,26.666667%,26.666667%);fill-opacity:1;\" d=\"M 240.082031 22.117188 L 254.273438 17.25 L 254.421875 26.519531 L 240.082031 22.117188 \"/>\n",
       "<path style=\"fill:none;stroke-width:1;stroke-linecap:butt;stroke-linejoin:miter;stroke:rgb(26.666667%,26.666667%,26.666667%);stroke-opacity:1;stroke-miterlimit:10;\" d=\"M 33.324219 196.421875 L 22.441406 304.089844 \"/>\n",
       "<path style=\" stroke:none;fill-rule:nonzero;fill:rgb(26.666667%,26.666667%,26.666667%);fill-opacity:1;\" d=\"M 21.003906 318.28125 L 17.828125 303.621094 L 27.050781 304.554688 L 21.003906 318.28125 \"/>\n",
       "<path style=\"fill:none;stroke-width:1;stroke-linecap:butt;stroke-linejoin:miter;stroke:rgb(26.666667%,26.666667%,26.666667%);stroke-opacity:1;stroke-miterlimit:10;\" d=\"M 580 354.320312 L 537.476562 448.746094 \"/>\n",
       "<path style=\" stroke:none;fill-rule:nonzero;fill:rgb(26.666667%,26.666667%,26.666667%);fill-opacity:1;\" d=\"M 531.617188 461.753906 L 533.25 446.84375 L 541.703125 450.648438 L 531.617188 461.753906 \"/>\n",
       "<path style=\"fill:none;stroke-width:1;stroke-linecap:butt;stroke-linejoin:miter;stroke:rgb(26.666667%,26.666667%,26.666667%);stroke-opacity:1;stroke-miterlimit:10;\" d=\"M 522.128906 105.464844 L 566.324219 209.449219 \"/>\n",
       "<path style=\" stroke:none;fill-rule:nonzero;fill:rgb(26.666667%,26.666667%,26.666667%);fill-opacity:1;\" d=\"M 571.90625 222.578125 L 562.058594 211.261719 L 570.589844 207.636719 L 571.90625 222.578125 \"/>\n",
       "<path style=\"fill-rule:nonzero;fill:rgb(100%,0%,0%);fill-opacity:1;stroke-width:1;stroke-linecap:butt;stroke-linejoin:miter;stroke:rgb(0%,0%,0%);stroke-opacity:1;stroke-miterlimit:10;\" d=\"M 585.816406 231.78125 C 585.816406 237.304688 581.339844 241.78125 575.816406 241.78125 C 570.292969 241.78125 565.816406 237.304688 565.816406 231.78125 C 565.816406 226.257812 570.292969 221.78125 575.816406 221.78125 C 581.339844 221.78125 585.816406 226.257812 585.816406 231.78125 \"/>\n",
       "<path style=\"fill-rule:nonzero;fill:rgb(100%,0%,0%);fill-opacity:1;stroke-width:1;stroke-linecap:butt;stroke-linejoin:miter;stroke:rgb(0%,0%,0%);stroke-opacity:1;stroke-miterlimit:10;\" d=\"M 368.753906 349.949219 C 368.753906 355.472656 364.273438 359.949219 358.753906 359.949219 C 353.230469 359.949219 348.753906 355.472656 348.753906 349.949219 C 348.753906 344.425781 353.230469 339.949219 358.753906 339.949219 C 364.273438 339.949219 368.753906 344.425781 368.753906 349.949219 \"/>\n",
       "<path style=\"fill-rule:nonzero;fill:rgb(100%,0%,0%);fill-opacity:1;stroke-width:1;stroke-linecap:butt;stroke-linejoin:miter;stroke:rgb(0%,0%,0%);stroke-opacity:1;stroke-miterlimit:10;\" d=\"M 191.59375 559.3125 C 191.59375 564.835938 187.117188 569.3125 181.59375 569.3125 C 176.070312 569.3125 171.59375 564.835938 171.59375 559.3125 C 171.59375 553.789062 176.070312 549.3125 181.59375 549.3125 C 187.117188 549.3125 191.59375 553.789062 191.59375 559.3125 \"/>\n",
       "<path style=\"fill-rule:nonzero;fill:rgb(100%,0%,0%);fill-opacity:1;stroke-width:1;stroke-linecap:butt;stroke-linejoin:miter;stroke:rgb(0%,0%,0%);stroke-opacity:1;stroke-miterlimit:10;\" d=\"M 194.675781 403.3125 C 194.675781 408.835938 190.199219 413.3125 184.675781 413.3125 C 179.152344 413.3125 174.675781 408.835938 174.675781 403.3125 C 174.675781 397.792969 179.152344 393.3125 184.675781 393.3125 C 190.199219 393.3125 194.675781 397.792969 194.675781 403.3125 \"/>\n",
       "<path style=\"fill-rule:nonzero;fill:rgb(100%,0%,0%);fill-opacity:1;stroke-width:1;stroke-linecap:butt;stroke-linejoin:miter;stroke:rgb(0%,0%,0%);stroke-opacity:1;stroke-miterlimit:10;\" d=\"M 322.640625 580 C 322.640625 585.523438 318.164062 590 312.640625 590 C 307.117188 590 302.640625 585.523438 302.640625 580 C 302.640625 574.476562 307.117188 570 312.640625 570 C 318.164062 570 322.640625 574.476562 322.640625 580 \"/>\n",
       "<path style=\"fill-rule:nonzero;fill:rgb(100%,0%,0%);fill-opacity:1;stroke-width:1;stroke-linecap:butt;stroke-linejoin:miter;stroke:rgb(0%,0%,0%);stroke-opacity:1;stroke-miterlimit:10;\" d=\"M 403.09375 171.472656 C 403.09375 176.996094 398.617188 181.472656 393.09375 181.472656 C 387.570312 181.472656 383.09375 176.996094 383.09375 171.472656 C 383.09375 165.949219 387.570312 161.472656 393.09375 161.472656 C 398.617188 161.472656 403.09375 165.949219 403.09375 171.472656 \"/>\n",
       "<path style=\"fill-rule:nonzero;fill:rgb(100%,0%,0%);fill-opacity:1;stroke-width:1;stroke-linecap:butt;stroke-linejoin:miter;stroke:rgb(0%,0%,0%);stroke-opacity:1;stroke-miterlimit:10;\" d=\"M 537.511719 470.871094 C 537.511719 476.394531 533.035156 480.871094 527.511719 480.871094 C 521.988281 480.871094 517.511719 476.394531 517.511719 470.871094 C 517.511719 465.347656 521.988281 460.871094 527.511719 460.871094 C 533.035156 460.871094 537.511719 465.347656 537.511719 470.871094 \"/>\n",
       "<path style=\"fill-rule:nonzero;fill:rgb(100%,0%,0%);fill-opacity:1;stroke-width:1;stroke-linecap:butt;stroke-linejoin:miter;stroke:rgb(0%,0%,0%);stroke-opacity:1;stroke-miterlimit:10;\" d=\"M 255.691406 220.277344 C 255.691406 225.800781 251.214844 230.277344 245.691406 230.277344 C 240.167969 230.277344 235.691406 225.800781 235.691406 220.277344 C 235.691406 214.753906 240.167969 210.277344 245.691406 210.277344 C 251.214844 210.277344 255.691406 214.753906 255.691406 220.277344 \"/>\n",
       "<path style=\"fill-rule:nonzero;fill:rgb(100%,0%,0%);fill-opacity:1;stroke-width:1;stroke-linecap:butt;stroke-linejoin:miter;stroke:rgb(0%,0%,0%);stroke-opacity:1;stroke-miterlimit:10;\" d=\"M 76.40625 472.089844 C 76.40625 477.613281 71.929688 482.089844 66.40625 482.089844 C 60.882812 482.089844 56.40625 477.613281 56.40625 472.089844 C 56.40625 466.566406 60.882812 462.089844 66.40625 462.089844 C 71.929688 462.089844 76.40625 466.566406 76.40625 472.089844 \"/>\n",
       "<path style=\"fill-rule:nonzero;fill:rgb(100%,0%,0%);fill-opacity:1;stroke-width:1;stroke-linecap:butt;stroke-linejoin:miter;stroke:rgb(0%,0%,0%);stroke-opacity:1;stroke-miterlimit:10;\" d=\"M 137.382812 109.835938 C 137.382812 115.359375 132.90625 119.835938 127.382812 119.835938 C 121.859375 119.835938 117.382812 115.359375 117.382812 109.835938 C 117.382812 104.3125 121.859375 99.835938 127.382812 99.835938 C 132.90625 99.835938 137.382812 104.3125 137.382812 109.835938 \"/>\n",
       "<path style=\"fill-rule:nonzero;fill:rgb(100%,0%,0%);fill-opacity:1;stroke-width:1;stroke-linecap:butt;stroke-linejoin:miter;stroke:rgb(0%,0%,0%);stroke-opacity:1;stroke-miterlimit:10;\" d=\"M 381.457031 20 C 381.457031 25.523438 376.980469 30 371.457031 30 C 365.933594 30 361.457031 25.523438 361.457031 20 C 361.457031 14.476562 365.933594 10 371.457031 10 C 376.980469 10 381.457031 14.476562 381.457031 20 \"/>\n",
       "<path style=\"fill-rule:nonzero;fill:rgb(100%,0%,0%);fill-opacity:1;stroke-width:1;stroke-linecap:butt;stroke-linejoin:miter;stroke:rgb(0%,0%,0%);stroke-opacity:1;stroke-miterlimit:10;\" d=\"M 30 328.230469 C 30 333.753906 25.523438 338.230469 20 338.230469 C 14.476562 338.230469 10 333.753906 10 328.230469 C 10 322.707031 14.476562 318.230469 20 318.230469 C 25.523438 318.230469 30 322.707031 30 328.230469 \"/>\n",
       "<path style=\"fill-rule:nonzero;fill:rgb(100%,0%,0%);fill-opacity:1;stroke-width:1;stroke-linecap:butt;stroke-linejoin:miter;stroke:rgb(0%,0%,0%);stroke-opacity:1;stroke-miterlimit:10;\" d=\"M 43.324219 196.421875 C 43.324219 201.945312 38.847656 206.421875 33.324219 206.421875 C 27.800781 206.421875 23.324219 201.945312 23.324219 196.421875 C 23.324219 190.898438 27.800781 186.421875 33.324219 186.421875 C 38.847656 186.421875 43.324219 190.898438 43.324219 196.421875 \"/>\n",
       "<path style=\"fill-rule:nonzero;fill:rgb(100%,0%,0%);fill-opacity:1;stroke-width:1;stroke-linecap:butt;stroke-linejoin:miter;stroke:rgb(0%,0%,0%);stroke-opacity:1;stroke-miterlimit:10;\" d=\"M 590 354.320312 C 590 359.839844 585.523438 364.320312 580 364.320312 C 574.476562 364.320312 570 359.839844 570 354.320312 C 570 348.796875 574.476562 344.320312 580 344.320312 C 585.523438 344.320312 590 348.796875 590 354.320312 \"/>\n",
       "<path style=\"fill-rule:nonzero;fill:rgb(100%,0%,0%);fill-opacity:1;stroke-width:1;stroke-linecap:butt;stroke-linejoin:miter;stroke:rgb(0%,0%,0%);stroke-opacity:1;stroke-miterlimit:10;\" d=\"M 240.085938 22.277344 C 240.085938 27.800781 235.609375 32.277344 230.085938 32.277344 C 224.5625 32.277344 220.085938 27.800781 220.085938 22.277344 C 220.085938 16.753906 224.5625 12.277344 230.085938 12.277344 C 235.609375 12.277344 240.085938 16.753906 240.085938 22.277344 \"/>\n",
       "<path style=\"fill-rule:nonzero;fill:rgb(100%,0%,0%);fill-opacity:1;stroke-width:1;stroke-linecap:butt;stroke-linejoin:miter;stroke:rgb(0%,0%,0%);stroke-opacity:1;stroke-miterlimit:10;\" d=\"M 532.128906 105.464844 C 532.128906 110.988281 527.648438 115.464844 522.128906 115.464844 C 516.605469 115.464844 512.128906 110.988281 512.128906 105.464844 C 512.128906 99.941406 516.605469 95.464844 522.128906 95.464844 C 527.648438 95.464844 532.128906 99.941406 532.128906 105.464844 \"/>\n",
       "<path style=\"fill-rule:nonzero;fill:rgb(100%,0%,0%);fill-opacity:1;stroke-width:1;stroke-linecap:butt;stroke-linejoin:miter;stroke:rgb(0%,0%,0%);stroke-opacity:1;stroke-miterlimit:10;\" d=\"M 446.613281 546.371094 C 446.613281 551.890625 442.136719 556.371094 436.613281 556.371094 C 431.089844 556.371094 426.613281 551.890625 426.613281 546.371094 C 426.613281 540.847656 431.089844 536.371094 436.613281 536.371094 C 442.136719 536.371094 446.613281 540.847656 446.613281 546.371094 \"/>\n",
       "<g style=\"fill:rgb(0%,0%,0%);fill-opacity:1;\">\n",
       "  <use xlink:href=\"#glyph0-1\" x=\"526.339844\" y=\"238.546875\"/>\n",
       "  <use xlink:href=\"#glyph0-2\" x=\"536.450195\" y=\"238.546875\"/>\n",
       "  <use xlink:href=\"#glyph0-3\" x=\"544.236328\" y=\"238.546875\"/>\n",
       "  <use xlink:href=\"#glyph0-4\" x=\"552.022461\" y=\"238.546875\"/>\n",
       "  <use xlink:href=\"#glyph0-5\" x=\"555.912109\" y=\"238.546875\"/>\n",
       "  <use xlink:href=\"#glyph0-6\" x=\"565.25\" y=\"238.546875\"/>\n",
       "  <use xlink:href=\"#glyph0-7\" x=\"572.25\" y=\"238.546875\"/>\n",
       "  <use xlink:href=\"#glyph0-8\" x=\"576.139648\" y=\"238.546875\"/>\n",
       "  <use xlink:href=\"#glyph0-9\" x=\"583.925781\" y=\"238.546875\"/>\n",
       "  <use xlink:href=\"#glyph0-10\" x=\"588.587891\" y=\"238.546875\"/>\n",
       "  <use xlink:href=\"#glyph0-11\" x=\"597.925781\" y=\"238.546875\"/>\n",
       "  <use xlink:href=\"#glyph0-12\" x=\"605.711914\" y=\"238.546875\"/>\n",
       "  <use xlink:href=\"#glyph0-13\" x=\"613.498047\" y=\"238.546875\"/>\n",
       "  <use xlink:href=\"#glyph0-14\" x=\"616.608398\" y=\"238.546875\"/>\n",
       "  <use xlink:href=\"#glyph0-15\" x=\"619.71875\" y=\"238.546875\"/>\n",
       "</g>\n",
       "<g style=\"fill:rgb(0%,0%,0%);fill-opacity:1;\">\n",
       "  <use xlink:href=\"#glyph0-1\" x=\"320.828125\" y=\"356.71875\"/>\n",
       "  <use xlink:href=\"#glyph0-2\" x=\"330.938477\" y=\"356.71875\"/>\n",
       "  <use xlink:href=\"#glyph0-12\" x=\"338.724609\" y=\"356.71875\"/>\n",
       "  <use xlink:href=\"#glyph0-6\" x=\"346.510742\" y=\"356.71875\"/>\n",
       "  <use xlink:href=\"#glyph0-16\" x=\"353.510742\" y=\"356.71875\"/>\n",
       "  <use xlink:href=\"#glyph0-17\" x=\"360.510742\" y=\"356.71875\"/>\n",
       "  <use xlink:href=\"#glyph0-18\" x=\"368.296875\" y=\"356.71875\"/>\n",
       "  <use xlink:href=\"#glyph0-8\" x=\"381.510742\" y=\"356.71875\"/>\n",
       "  <use xlink:href=\"#glyph0-14\" x=\"389.296875\" y=\"356.71875\"/>\n",
       "  <use xlink:href=\"#glyph0-4\" x=\"392.407227\" y=\"356.71875\"/>\n",
       "</g>\n",
       "<g style=\"fill:rgb(0%,0%,0%);fill-opacity:1;\">\n",
       "  <use xlink:href=\"#glyph0-19\" x=\"127.539062\" y=\"566.078125\"/>\n",
       "  <use xlink:href=\"#glyph0-20\" x=\"138.428711\" y=\"566.078125\"/>\n",
       "  <use xlink:href=\"#glyph0-21\" x=\"148.539062\" y=\"566.078125\"/>\n",
       "  <use xlink:href=\"#glyph0-17\" x=\"158.649414\" y=\"566.078125\"/>\n",
       "  <use xlink:href=\"#glyph0-17\" x=\"166.435547\" y=\"566.078125\"/>\n",
       "  <use xlink:href=\"#glyph0-10\" x=\"174.22168\" y=\"566.078125\"/>\n",
       "  <use xlink:href=\"#glyph0-1\" x=\"183.55957\" y=\"566.078125\"/>\n",
       "  <use xlink:href=\"#glyph0-10\" x=\"193.669922\" y=\"566.078125\"/>\n",
       "  <use xlink:href=\"#glyph0-20\" x=\"203.007812\" y=\"566.078125\"/>\n",
       "  <use xlink:href=\"#glyph0-22\" x=\"213.118164\" y=\"566.078125\"/>\n",
       "  <use xlink:href=\"#glyph0-23\" x=\"217.007812\" y=\"566.078125\"/>\n",
       "  <use xlink:href=\"#glyph0-24\" x=\"226.345703\" y=\"566.078125\"/>\n",
       "</g>\n",
       "<g style=\"fill:rgb(0%,0%,0%);fill-opacity:1;\">\n",
       "  <use xlink:href=\"#glyph0-25\" x=\"148.855469\" y=\"409.945312\"/>\n",
       "  <use xlink:href=\"#glyph0-26\" x=\"158.193359\" y=\"409.945312\"/>\n",
       "  <use xlink:href=\"#glyph0-9\" x=\"165.979492\" y=\"409.945312\"/>\n",
       "  <use xlink:href=\"#glyph0-14\" x=\"170.641602\" y=\"409.945312\"/>\n",
       "  <use xlink:href=\"#glyph0-8\" x=\"173.751953\" y=\"409.945312\"/>\n",
       "  <use xlink:href=\"#glyph0-27\" x=\"181.538086\" y=\"409.945312\"/>\n",
       "  <use xlink:href=\"#glyph0-28\" x=\"188.538086\" y=\"409.945312\"/>\n",
       "  <use xlink:href=\"#glyph0-26\" x=\"196.324219\" y=\"409.945312\"/>\n",
       "  <use xlink:href=\"#glyph0-9\" x=\"204.110352\" y=\"409.945312\"/>\n",
       "  <use xlink:href=\"#glyph0-7\" x=\"208.772461\" y=\"409.945312\"/>\n",
       "  <use xlink:href=\"#glyph0-12\" x=\"212.662109\" y=\"409.945312\"/>\n",
       "</g>\n",
       "<g style=\"fill:rgb(0%,0%,0%);fill-opacity:1;\">\n",
       "  <use xlink:href=\"#glyph0-17\" x=\"263.621094\" y=\"586.765625\"/>\n",
       "  <use xlink:href=\"#glyph0-26\" x=\"271.407227\" y=\"586.765625\"/>\n",
       "  <use xlink:href=\"#glyph0-12\" x=\"279.193359\" y=\"586.765625\"/>\n",
       "  <use xlink:href=\"#glyph0-9\" x=\"286.979492\" y=\"586.765625\"/>\n",
       "  <use xlink:href=\"#glyph0-13\" x=\"291.641602\" y=\"586.765625\"/>\n",
       "  <use xlink:href=\"#glyph0-7\" x=\"294.751953\" y=\"586.765625\"/>\n",
       "  <use xlink:href=\"#glyph0-26\" x=\"298.641602\" y=\"586.765625\"/>\n",
       "  <use xlink:href=\"#glyph0-29\" x=\"306.427734\" y=\"586.765625\"/>\n",
       "  <use xlink:href=\"#glyph0-9\" x=\"317.317383\" y=\"586.765625\"/>\n",
       "  <use xlink:href=\"#glyph0-30\" x=\"321.979492\" y=\"586.765625\"/>\n",
       "  <use xlink:href=\"#glyph0-12\" x=\"325.089844\" y=\"586.765625\"/>\n",
       "  <use xlink:href=\"#glyph0-3\" x=\"332.875977\" y=\"586.765625\"/>\n",
       "  <use xlink:href=\"#glyph0-14\" x=\"340.662109\" y=\"586.765625\"/>\n",
       "  <use xlink:href=\"#glyph0-26\" x=\"343.772461\" y=\"586.765625\"/>\n",
       "  <use xlink:href=\"#glyph0-31\" x=\"351.558594\" y=\"586.765625\"/>\n",
       "</g>\n",
       "<g style=\"fill:rgb(0%,0%,0%);fill-opacity:1;\">\n",
       "  <use xlink:href=\"#glyph0-29\" x=\"343.238281\" y=\"178.238281\"/>\n",
       "  <use xlink:href=\"#glyph0-27\" x=\"354.12793\" y=\"178.238281\"/>\n",
       "  <use xlink:href=\"#glyph0-6\" x=\"361.12793\" y=\"178.238281\"/>\n",
       "  <use xlink:href=\"#glyph0-26\" x=\"368.12793\" y=\"178.238281\"/>\n",
       "  <use xlink:href=\"#glyph0-9\" x=\"375.914062\" y=\"178.238281\"/>\n",
       "  <use xlink:href=\"#glyph0-15\" x=\"380.576172\" y=\"178.238281\"/>\n",
       "  <use xlink:href=\"#glyph0-32\" x=\"388.362305\" y=\"178.238281\"/>\n",
       "  <use xlink:href=\"#glyph0-33\" x=\"396.148438\" y=\"178.238281\"/>\n",
       "  <use xlink:href=\"#glyph0-34\" x=\"403.93457\" y=\"178.238281\"/>\n",
       "  <use xlink:href=\"#glyph0-35\" x=\"411.720703\" y=\"178.238281\"/>\n",
       "  <use xlink:href=\"#glyph0-36\" x=\"419.506836\" y=\"178.238281\"/>\n",
       "  <use xlink:href=\"#glyph0-33\" x=\"427.292969\" y=\"178.238281\"/>\n",
       "  <use xlink:href=\"#glyph0-37\" x=\"435.079102\" y=\"178.238281\"/>\n",
       "</g>\n",
       "<g style=\"fill:rgb(0%,0%,0%);fill-opacity:1;\">\n",
       "  <use xlink:href=\"#glyph0-38\" x=\"478.917969\" y=\"477.503906\"/>\n",
       "  <use xlink:href=\"#glyph0-26\" x=\"488.255859\" y=\"477.503906\"/>\n",
       "  <use xlink:href=\"#glyph0-39\" x=\"496.041992\" y=\"477.503906\"/>\n",
       "  <use xlink:href=\"#glyph0-10\" x=\"503.828125\" y=\"477.503906\"/>\n",
       "  <use xlink:href=\"#glyph0-40\" x=\"513.166016\" y=\"477.503906\"/>\n",
       "  <use xlink:href=\"#glyph0-38\" x=\"524.828125\" y=\"477.503906\"/>\n",
       "  <use xlink:href=\"#glyph0-8\" x=\"534.166016\" y=\"477.503906\"/>\n",
       "  <use xlink:href=\"#glyph0-27\" x=\"541.952148\" y=\"477.503906\"/>\n",
       "  <use xlink:href=\"#glyph0-7\" x=\"548.952148\" y=\"477.503906\"/>\n",
       "  <use xlink:href=\"#glyph0-28\" x=\"552.841797\" y=\"477.503906\"/>\n",
       "  <use xlink:href=\"#glyph0-3\" x=\"560.62793\" y=\"477.503906\"/>\n",
       "  <use xlink:href=\"#glyph0-27\" x=\"568.414062\" y=\"477.503906\"/>\n",
       "</g>\n",
       "<g style=\"fill:rgb(0%,0%,0%);fill-opacity:1;\">\n",
       "  <use xlink:href=\"#glyph0-20\" x=\"200.074219\" y=\"226.925781\"/>\n",
       "  <use xlink:href=\"#glyph0-3\" x=\"210.18457\" y=\"226.925781\"/>\n",
       "  <use xlink:href=\"#glyph0-41\" x=\"217.970703\" y=\"226.925781\"/>\n",
       "  <use xlink:href=\"#glyph0-12\" x=\"225.756836\" y=\"226.925781\"/>\n",
       "  <use xlink:href=\"#glyph0-42\" x=\"233.542969\" y=\"226.925781\"/>\n",
       "  <use xlink:href=\"#glyph0-14\" x=\"241.329102\" y=\"226.925781\"/>\n",
       "  <use xlink:href=\"#glyph0-13\" x=\"244.439453\" y=\"226.925781\"/>\n",
       "  <use xlink:href=\"#glyph0-6\" x=\"247.549805\" y=\"226.925781\"/>\n",
       "  <use xlink:href=\"#glyph0-26\" x=\"254.549805\" y=\"226.925781\"/>\n",
       "  <use xlink:href=\"#glyph0-31\" x=\"262.335938\" y=\"226.925781\"/>\n",
       "  <use xlink:href=\"#glyph0-8\" x=\"272.446289\" y=\"226.925781\"/>\n",
       "  <use xlink:href=\"#glyph0-43\" x=\"280.232422\" y=\"226.925781\"/>\n",
       "</g>\n",
       "<g style=\"fill:rgb(0%,0%,0%);fill-opacity:1;\">\n",
       "  <use xlink:href=\"#glyph0-44\" x=\"-0.460938\" y=\"478.855469\"/>\n",
       "  <use xlink:href=\"#glyph0-10\" x=\"8.876953\" y=\"478.855469\"/>\n",
       "  <use xlink:href=\"#glyph0-31\" x=\"18.214844\" y=\"478.855469\"/>\n",
       "  <use xlink:href=\"#glyph0-45\" x=\"28.325195\" y=\"478.855469\"/>\n",
       "  <use xlink:href=\"#glyph0-10\" x=\"36.876953\" y=\"478.855469\"/>\n",
       "  <use xlink:href=\"#glyph0-46\" x=\"46.214844\" y=\"478.855469\"/>\n",
       "  <use xlink:href=\"#glyph0-10\" x=\"57.876953\" y=\"478.855469\"/>\n",
       "  <use xlink:href=\"#glyph0-20\" x=\"67.214844\" y=\"478.855469\"/>\n",
       "  <use xlink:href=\"#glyph0-22\" x=\"77.325195\" y=\"478.855469\"/>\n",
       "  <use xlink:href=\"#glyph0-10\" x=\"81.214844\" y=\"478.855469\"/>\n",
       "  <use xlink:href=\"#glyph0-21\" x=\"90.552734\" y=\"478.855469\"/>\n",
       "  <use xlink:href=\"#glyph0-20\" x=\"100.663086\" y=\"478.855469\"/>\n",
       "  <use xlink:href=\"#glyph0-22\" x=\"110.773438\" y=\"478.855469\"/>\n",
       "  <use xlink:href=\"#glyph0-23\" x=\"114.663086\" y=\"478.855469\"/>\n",
       "  <use xlink:href=\"#glyph0-24\" x=\"124.000977\" y=\"478.855469\"/>\n",
       "</g>\n",
       "<g style=\"fill:rgb(0%,0%,0%);fill-opacity:1;\">\n",
       "  <use xlink:href=\"#glyph0-26\" x=\"77.546875\" y=\"116.46875\"/>\n",
       "  <use xlink:href=\"#glyph0-14\" x=\"85.333008\" y=\"116.46875\"/>\n",
       "  <use xlink:href=\"#glyph0-47\" x=\"88.443359\" y=\"116.46875\"/>\n",
       "  <use xlink:href=\"#glyph0-26\" x=\"95.443359\" y=\"116.46875\"/>\n",
       "  <use xlink:href=\"#glyph0-9\" x=\"103.229492\" y=\"116.46875\"/>\n",
       "  <use xlink:href=\"#glyph0-8\" x=\"107.891602\" y=\"116.46875\"/>\n",
       "  <use xlink:href=\"#glyph0-30\" x=\"115.677734\" y=\"116.46875\"/>\n",
       "  <use xlink:href=\"#glyph0-13\" x=\"118.788086\" y=\"116.46875\"/>\n",
       "  <use xlink:href=\"#glyph0-40\" x=\"121.898438\" y=\"116.46875\"/>\n",
       "  <use xlink:href=\"#glyph0-3\" x=\"133.560547\" y=\"116.46875\"/>\n",
       "  <use xlink:href=\"#glyph0-39\" x=\"141.34668\" y=\"116.46875\"/>\n",
       "  <use xlink:href=\"#glyph0-3\" x=\"149.132812\" y=\"116.46875\"/>\n",
       "  <use xlink:href=\"#glyph0-48\" x=\"156.918945\" y=\"116.46875\"/>\n",
       "  <use xlink:href=\"#glyph0-3\" x=\"163.918945\" y=\"116.46875\"/>\n",
       "  <use xlink:href=\"#glyph0-15\" x=\"171.705078\" y=\"116.46875\"/>\n",
       "</g>\n",
       "<g style=\"fill:rgb(0%,0%,0%);fill-opacity:1;\">\n",
       "  <use xlink:href=\"#glyph0-26\" x=\"333.667969\" y=\"26.632812\"/>\n",
       "  <use xlink:href=\"#glyph0-47\" x=\"341.454102\" y=\"26.632812\"/>\n",
       "  <use xlink:href=\"#glyph0-13\" x=\"348.454102\" y=\"26.632812\"/>\n",
       "  <use xlink:href=\"#glyph0-14\" x=\"351.564453\" y=\"26.632812\"/>\n",
       "  <use xlink:href=\"#glyph0-14\" x=\"354.674805\" y=\"26.632812\"/>\n",
       "  <use xlink:href=\"#glyph0-26\" x=\"357.785156\" y=\"26.632812\"/>\n",
       "  <use xlink:href=\"#glyph0-9\" x=\"365.571289\" y=\"26.632812\"/>\n",
       "  <use xlink:href=\"#glyph0-9\" x=\"370.233398\" y=\"26.632812\"/>\n",
       "  <use xlink:href=\"#glyph0-3\" x=\"374.895508\" y=\"26.632812\"/>\n",
       "  <use xlink:href=\"#glyph0-26\" x=\"382.681641\" y=\"26.632812\"/>\n",
       "  <use xlink:href=\"#glyph0-14\" x=\"390.467773\" y=\"26.632812\"/>\n",
       "  <use xlink:href=\"#glyph0-34\" x=\"393.578125\" y=\"26.632812\"/>\n",
       "  <use xlink:href=\"#glyph0-37\" x=\"401.364258\" y=\"26.632812\"/>\n",
       "</g>\n",
       "<g style=\"fill:rgb(0%,0%,0%);fill-opacity:1;\">\n",
       "  <use xlink:href=\"#glyph0-6\" x=\"-10.296875\" y=\"334.933594\"/>\n",
       "  <use xlink:href=\"#glyph0-26\" x=\"-3.296875\" y=\"334.933594\"/>\n",
       "  <use xlink:href=\"#glyph0-4\" x=\"4.489258\" y=\"334.933594\"/>\n",
       "  <use xlink:href=\"#glyph0-3\" x=\"8.378906\" y=\"334.933594\"/>\n",
       "  <use xlink:href=\"#glyph0-9\" x=\"16.165039\" y=\"334.933594\"/>\n",
       "  <use xlink:href=\"#glyph0-8\" x=\"20.827148\" y=\"334.933594\"/>\n",
       "  <use xlink:href=\"#glyph0-7\" x=\"28.613281\" y=\"334.933594\"/>\n",
       "  <use xlink:href=\"#glyph0-30\" x=\"32.50293\" y=\"334.933594\"/>\n",
       "  <use xlink:href=\"#glyph0-3\" x=\"35.613281\" y=\"334.933594\"/>\n",
       "  <use xlink:href=\"#glyph0-27\" x=\"43.399414\" y=\"334.933594\"/>\n",
       "</g>\n",
       "<g style=\"fill:rgb(0%,0%,0%);fill-opacity:1;\">\n",
       "  <use xlink:href=\"#glyph0-6\" x=\"-17.378906\" y=\"203.070312\"/>\n",
       "  <use xlink:href=\"#glyph0-26\" x=\"-10.378906\" y=\"203.070312\"/>\n",
       "  <use xlink:href=\"#glyph0-14\" x=\"-2.592773\" y=\"203.070312\"/>\n",
       "  <use xlink:href=\"#glyph0-49\" x=\"0.517578\" y=\"203.070312\"/>\n",
       "  <use xlink:href=\"#glyph0-3\" x=\"8.303711\" y=\"203.070312\"/>\n",
       "  <use xlink:href=\"#glyph0-9\" x=\"16.089844\" y=\"203.070312\"/>\n",
       "  <use xlink:href=\"#glyph0-8\" x=\"20.751953\" y=\"203.070312\"/>\n",
       "  <use xlink:href=\"#glyph0-39\" x=\"28.538086\" y=\"203.070312\"/>\n",
       "  <use xlink:href=\"#glyph0-11\" x=\"36.324219\" y=\"203.070312\"/>\n",
       "  <use xlink:href=\"#glyph0-9\" x=\"44.110352\" y=\"203.070312\"/>\n",
       "  <use xlink:href=\"#glyph0-3\" x=\"48.772461\" y=\"203.070312\"/>\n",
       "  <use xlink:href=\"#glyph0-11\" x=\"56.558594\" y=\"203.070312\"/>\n",
       "  <use xlink:href=\"#glyph0-8\" x=\"64.344727\" y=\"203.070312\"/>\n",
       "  <use xlink:href=\"#glyph0-9\" x=\"72.130859\" y=\"203.070312\"/>\n",
       "  <use xlink:href=\"#glyph0-50\" x=\"76.792969\" y=\"203.070312\"/>\n",
       "</g>\n",
       "<g style=\"fill:rgb(0%,0%,0%);fill-opacity:1;\">\n",
       "  <use xlink:href=\"#glyph0-6\" x=\"533.257812\" y=\"360.96875\"/>\n",
       "  <use xlink:href=\"#glyph0-42\" x=\"540.257812\" y=\"360.96875\"/>\n",
       "  <use xlink:href=\"#glyph0-28\" x=\"548.043945\" y=\"360.96875\"/>\n",
       "  <use xlink:href=\"#glyph0-13\" x=\"555.830078\" y=\"360.96875\"/>\n",
       "  <use xlink:href=\"#glyph0-39\" x=\"558.94043\" y=\"360.96875\"/>\n",
       "  <use xlink:href=\"#glyph0-40\" x=\"566.726562\" y=\"360.96875\"/>\n",
       "  <use xlink:href=\"#glyph0-8\" x=\"578.388672\" y=\"360.96875\"/>\n",
       "  <use xlink:href=\"#glyph0-42\" x=\"586.174805\" y=\"360.96875\"/>\n",
       "  <use xlink:href=\"#glyph0-13\" x=\"593.960938\" y=\"360.96875\"/>\n",
       "  <use xlink:href=\"#glyph0-14\" x=\"597.071289\" y=\"360.96875\"/>\n",
       "  <use xlink:href=\"#glyph0-13\" x=\"600.181641\" y=\"360.96875\"/>\n",
       "  <use xlink:href=\"#glyph0-26\" x=\"603.291992\" y=\"360.96875\"/>\n",
       "  <use xlink:href=\"#glyph0-9\" x=\"611.078125\" y=\"360.96875\"/>\n",
       "  <use xlink:href=\"#glyph0-13\" x=\"615.740234\" y=\"360.96875\"/>\n",
       "  <use xlink:href=\"#glyph0-26\" x=\"618.850586\" y=\"360.96875\"/>\n",
       "</g>\n",
       "<g style=\"fill:rgb(0%,0%,0%);fill-opacity:1;\">\n",
       "  <use xlink:href=\"#glyph0-49\" x=\"193.003906\" y=\"28.925781\"/>\n",
       "  <use xlink:href=\"#glyph0-43\" x=\"200.790039\" y=\"28.925781\"/>\n",
       "  <use xlink:href=\"#glyph0-28\" x=\"210.900391\" y=\"28.925781\"/>\n",
       "  <use xlink:href=\"#glyph0-3\" x=\"218.686523\" y=\"28.925781\"/>\n",
       "  <use xlink:href=\"#glyph0-27\" x=\"226.472656\" y=\"28.925781\"/>\n",
       "  <use xlink:href=\"#glyph0-41\" x=\"233.472656\" y=\"28.925781\"/>\n",
       "  <use xlink:href=\"#glyph0-26\" x=\"241.258789\" y=\"28.925781\"/>\n",
       "  <use xlink:href=\"#glyph0-39\" x=\"249.044922\" y=\"28.925781\"/>\n",
       "  <use xlink:href=\"#glyph0-8\" x=\"256.831055\" y=\"28.925781\"/>\n",
       "  <use xlink:href=\"#glyph0-14\" x=\"264.617188\" y=\"28.925781\"/>\n",
       "</g>\n",
       "<g style=\"fill:rgb(0%,0%,0%);fill-opacity:1;\">\n",
       "  <use xlink:href=\"#glyph0-40\" x=\"491.628906\" y=\"112.09375\"/>\n",
       "  <use xlink:href=\"#glyph0-26\" x=\"503.291016\" y=\"112.09375\"/>\n",
       "  <use xlink:href=\"#glyph0-13\" x=\"511.077148\" y=\"112.09375\"/>\n",
       "  <use xlink:href=\"#glyph0-16\" x=\"514.1875\" y=\"112.09375\"/>\n",
       "  <use xlink:href=\"#glyph0-3\" x=\"521.1875\" y=\"112.09375\"/>\n",
       "  <use xlink:href=\"#glyph0-9\" x=\"528.973633\" y=\"112.09375\"/>\n",
       "  <use xlink:href=\"#glyph0-30\" x=\"533.635742\" y=\"112.09375\"/>\n",
       "  <use xlink:href=\"#glyph0-34\" x=\"536.746094\" y=\"112.09375\"/>\n",
       "  <use xlink:href=\"#glyph0-35\" x=\"544.532227\" y=\"112.09375\"/>\n",
       "</g>\n",
       "<g style=\"fill:rgb(0%,0%,0%);fill-opacity:1;\">\n",
       "  <use xlink:href=\"#glyph0-41\" x=\"399.320312\" y=\"553.070312\"/>\n",
       "  <use xlink:href=\"#glyph0-26\" x=\"407.106445\" y=\"553.070312\"/>\n",
       "  <use xlink:href=\"#glyph0-27\" x=\"414.892578\" y=\"553.070312\"/>\n",
       "  <use xlink:href=\"#glyph0-13\" x=\"421.892578\" y=\"553.070312\"/>\n",
       "  <use xlink:href=\"#glyph0-8\" x=\"425.00293\" y=\"553.070312\"/>\n",
       "  <use xlink:href=\"#glyph0-39\" x=\"432.789062\" y=\"553.070312\"/>\n",
       "  <use xlink:href=\"#glyph0-4\" x=\"440.575195\" y=\"553.070312\"/>\n",
       "  <use xlink:href=\"#glyph0-12\" x=\"444.464844\" y=\"553.070312\"/>\n",
       "  <use xlink:href=\"#glyph0-7\" x=\"452.250977\" y=\"553.070312\"/>\n",
       "  <use xlink:href=\"#glyph0-27\" x=\"456.140625\" y=\"553.070312\"/>\n",
       "  <use xlink:href=\"#glyph0-26\" x=\"463.140625\" y=\"553.070312\"/>\n",
       "  <use xlink:href=\"#glyph0-14\" x=\"470.926758\" y=\"553.070312\"/>\n",
       "</g>\n",
       "</g>\n",
       "</svg>\n"
      ],
      "text/plain": [
       "<igraph.drawing.Plot at 0x7fcf97a1af40>"
      ]
     },
     "execution_count": 58,
     "metadata": {
      "image/svg+xml": {
       "isolated": true
      }
     },
     "output_type": "execute_result"
    }
   ],
   "source": [
    "adjacency=np.matrix(matriz)\n",
    "g = ig.Graph.Adjacency(adjacency.astype(bool).tolist())\n",
    "ig.plot(g, layout = 'kk', vertex_label=autores)"
   ]
  },
  {
   "cell_type": "code",
   "execution_count": 59,
   "metadata": {},
   "outputs": [
    {
     "data": {
      "text/plain": [
       "['091969',\n",
       " '0Showbiz',\n",
       " '10WIL',\n",
       " '1111_aladin',\n",
       " '13Hectorhugof',\n",
       " '16Sergioc',\n",
       " '17cartagenero',\n",
       " '18_fvl',\n",
       " '1927ivanovic',\n",
       " '1999marca']"
      ]
     },
     "execution_count": 59,
     "metadata": {},
     "output_type": "execute_result"
    }
   ],
   "source": [
    "autores=list(df['Author'])\n",
    "autores.extend(list(df['Thread_Author']))\n",
    "autores=list(set(autores))\n",
    "autores.sort()\n",
    "autores[0:10]"
   ]
  },
  {
   "cell_type": "code",
   "execution_count": 60,
   "metadata": {},
   "outputs": [],
   "source": [
    "n_autores=len(autores)\n",
    "n_tweets=len(df)\n",
    "\n",
    "\n",
    "\n",
    "matriz= np.zeros((n_autores, n_autores), dtype=int)\n",
    "\n",
    "for i in range(n_tweets):\n",
    "    retweeter=df.loc[i, 'Author']\n",
    "    pos_retweeter=autores.index(retweeter)\n",
    "    creador=df.loc[i, 'Thread_Author']\n",
    "    pos_creador=autores.index(creador)\n",
    "    if matriz[pos_retweeter][pos_creador]==1:\n",
    "        matriz[pos_retweeter][pos_creador]+=1\n",
    "    else:\n",
    "        matriz[pos_retweeter][pos_creador]=1\n",
    "    #array[fila][columna]\n",
    "    \n",
    "\n",
    "\n"
   ]
  },
  {
   "cell_type": "code",
   "execution_count": 61,
   "metadata": {},
   "outputs": [],
   "source": [
    "adjacency=np.matrix(matriz)\n",
    "g = ig.Graph.Adjacency(adjacency.astype(bool).tolist())\n",
    "g.vs[\"label\"]=autores\n",
    "#layout = g.layout_grid_fruchterman_reingold()\n",
    "#ig.plot(g, layout = layout, vertex_label_dist=0.5)"
   ]
  },
  {
   "cell_type": "code",
   "execution_count": 62,
   "metadata": {},
   "outputs": [],
   "source": [
    "g.write_graphml('prueba1.GraphML')"
   ]
  },
  {
   "cell_type": "code",
   "execution_count": 63,
   "metadata": {},
   "outputs": [],
   "source": [
    "prueba_2=df[['Author', 'Thread_Author']]\n",
    "g = ig.Graph.DataFrame(prueba_2, directed=True)\n",
    "#layout = g.layout_grid_fruchterman_reingold()\n",
    "#ig.plot(g, layout = layout, vertex_label_dist=0.5)"
   ]
  },
  {
   "cell_type": "code",
   "execution_count": 64,
   "metadata": {},
   "outputs": [],
   "source": [
    "g.write_graphml('prueba2.GraphML')"
   ]
  }
 ],
 "metadata": {
  "kernelspec": {
   "display_name": "Python 3",
   "language": "python",
   "name": "python3"
  },
  "language_info": {
   "codemirror_mode": {
    "name": "ipython",
    "version": 3
   },
   "file_extension": ".py",
   "mimetype": "text/x-python",
   "name": "python",
   "nbconvert_exporter": "python",
   "pygments_lexer": "ipython3",
   "version": "3.8.5"
  },
  "varInspector": {
   "cols": {
    "lenName": 16,
    "lenType": 16,
    "lenVar": 40
   },
   "kernels_config": {
    "python": {
     "delete_cmd_postfix": "",
     "delete_cmd_prefix": "del ",
     "library": "var_list.py",
     "varRefreshCmd": "print(var_dic_list())"
    },
    "r": {
     "delete_cmd_postfix": ") ",
     "delete_cmd_prefix": "rm(",
     "library": "var_list.r",
     "varRefreshCmd": "cat(var_dic_list()) "
    }
   },
   "types_to_exclude": [
    "module",
    "function",
    "builtin_function_or_method",
    "instance",
    "_Feature"
   ],
   "window_display": false
  }
 },
 "nbformat": 4,
 "nbformat_minor": 4
}
