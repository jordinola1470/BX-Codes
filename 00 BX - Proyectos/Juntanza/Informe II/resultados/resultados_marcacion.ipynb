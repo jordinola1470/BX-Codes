{
 "cells": [
  {
   "cell_type": "code",
   "execution_count": 1,
   "metadata": {},
   "outputs": [],
   "source": [
    "import pandas as pd\n",
    "import numpy as np\n",
    "import warnings\n",
    "warnings.filterwarnings('ignore')"
   ]
  },
  {
   "cell_type": "code",
   "execution_count": 2,
   "metadata": {},
   "outputs": [],
   "source": [
    "juntanza_base  = pd.read_excel(r'C:\\Users\\Dell\\Documents\\BX-Codes\\BX-Codes\\00 BX - Proyectos\\Juntanza\\Informe II\\base_finales_marcadas\\juntanza_base.xlsx',sheet_name='linea_base_marcada') \n",
    "juntanza_final = pd.read_excel(r'C:\\Users\\Dell\\Documents\\BX-Codes\\BX-Codes\\00 BX - Proyectos\\Juntanza\\Informe II\\base_finales_marcadas\\juntanza_final.xlsx',sheet_name='linea_final_marcada')"
   ]
  },
  {
   "cell_type": "code",
   "execution_count": 3,
   "metadata": {},
   "outputs": [],
   "source": [
    "def resultados (base_marcada):\n",
    "    \n",
    "    base_marcada.replace({'NO APLICA':0,\n",
    "                        'NO':1,\n",
    "                        'SI':2,},inplace=True)\n",
    "\n",
    "    columnas_suma = ['¿La pieza aborda temas de biodiversidad?',\n",
    "                    '¿La pieza aborda temas de emprendimiento y empleabilidad en relación a los pueblos étnicos?',\n",
    "                    '¿La pieza aborda temas de paz en relación a los pueblos étnicos?',\n",
    "                    '¿Se ajusta la pieza comunicativa al mapa semántico deseado?',\n",
    "                    \n",
    "                    '¿Se representa a las personas o grupos por su pertenencia étnica en marcos narrativos que los estigmatizan, marginalizan-inferiorizan, exotizan, caricaturiza o en los cuales se los clasifica como amenaza, o como culpable de un incidente o crisis, o se uti',\n",
    "                    '¿El uso de imágenes invade la privacidad, viola la autonomía o lesiona la dignidad de los pueblos o personas de origen étnico?',\n",
    "                    \n",
    "                    ' ¿Se incluyen citas o referencias de personas de origen étnico, favorables al mapa semántico?',\n",
    "                    '¿Se incluyen citas o referencias de expertos u otras fuentes legítimas favorables al mapa semántico?',\n",
    "                    '¿La pieza cubre pluralidad de fuentes u ofrece una visión amplia, global o compleja de la situación? ',\n",
    "                    ' ¿La pieza comunicativa incluye la voz de alguno de los personajes del directorio de referentes?',\n",
    "                    \n",
    "                    'El agente asistió a la acción de estrategia de sensibilización y pedagogía del Programa Juntanza étnica',\n",
    "                    '¿El agente incluyó contenidos-material-recursos suministrados o transferidos durante el proceso pedagógico?',\n",
    "                    \n",
    "                    'La pieza comunicativa acompaña, referencia o hace parte de un evento (presencial o virtual)',\n",
    "                    '¿La pieza ocupa un lugar protagónico o destacado en el agente?']\n",
    "\n",
    "\n",
    "    mapa_semantico      = ['¿La pieza aborda temas de biodiversidad?',\n",
    "                        '¿La pieza aborda temas de emprendimiento y empleabilidad en relación a los pueblos étnicos?',\n",
    "                        '¿La pieza aborda temas de paz en relación a los pueblos étnicos?',\n",
    "                        '¿Se ajusta la pieza comunicativa al mapa semántico deseado?']\n",
    "\n",
    "    framing             = ['¿Se representa a las personas o grupos por su pertenencia étnica en marcos narrativos que los estigmatizan, marginalizan-inferiorizan, exotizan, caricaturiza o en los cuales se los clasifica como amenaza, o como culpable de un incidente o crisis, o se uti',\n",
    "                           '¿El uso de imágenes invade la privacidad, viola la autonomía o lesiona la dignidad de los pueblos o personas de origen étnico?']\n",
    "\n",
    "    fuentes_legitimas   = [' ¿Se incluyen citas o referencias de personas de origen étnico, favorables al mapa semántico?',\n",
    "                        '¿Se incluyen citas o referencias de expertos u otras fuentes legítimas favorables al mapa semántico?',\n",
    "                        '¿La pieza cubre pluralidad de fuentes u ofrece una visión amplia, global o compleja de la situación? ',\n",
    "                        ' ¿La pieza comunicativa incluye la voz de alguno de los personajes del directorio de referentes?']\n",
    "\n",
    "    proceso_pedagogico  = ['El agente asistió a la acción de estrategia de sensibilización y pedagogía del Programa Juntanza étnica',\n",
    "                        '¿El agente incluyó contenidos-material-recursos suministrados o transferidos durante el proceso pedagógico?']\n",
    "\n",
    "    relevancia          = ['La pieza comunicativa acompaña, referencia o hace parte de un evento (presencial o virtual)',\n",
    "                        '¿La pieza ocupa un lugar protagónico o destacado en el agente?']\n",
    "\n",
    "\n",
    "    base_marcada['Mapa_Semantico'] = base_marcada[mapa_semantico].sum(axis=1)\n",
    "    base_marcada['Framing'] = base_marcada[framing].sum(axis=1)\n",
    "    base_marcada['Fuentes_Legitimas'] = base_marcada[fuentes_legitimas].sum(axis=1)\n",
    "    base_marcada['Proceso_Pedagogico'] = base_marcada[proceso_pedagogico].sum(axis=1)\n",
    "    base_marcada['Relevancia'] = base_marcada[relevancia].sum(axis=1)\n",
    "\n",
    "    base_marcada['Suma_Valor_Pieza'] = base_marcada[columnas_suma].sum(axis=1)\n",
    "    base_marcada['ID'] = 1\n",
    "\n",
    "    #------------------------------------------------------------------------------------------------------------------------------------\n",
    "\n",
    "    base_resumida = base_marcada.groupby(by=['Nombre de agente'])[['ID','Mapa_Semantico','Framing','Fuentes_Legitimas','Proceso_Pedagogico','Relevancia','Suma_Valor_Pieza']].sum().reset_index()\n",
    "\n",
    "    base_resumida['Puntaje_Agente_Total'] = base_resumida['Suma_Valor_Pieza'] / base_resumida['ID']\n",
    "    base_resumida['Puntaje_Mapa_Semantico'] = base_resumida['Mapa_Semantico'] / base_resumida['ID']\n",
    "    base_resumida['Puntaje_Framing'] = base_resumida['Framing'] / base_resumida['ID']\n",
    "    base_resumida['Puntaje_Fuentes_Legitimas'] = base_resumida['Fuentes_Legitimas'] / base_resumida['ID']\n",
    "    base_resumida['Puntaje_Proceso_Pedagogico'] = base_resumida['Proceso_Pedagogico'] / base_resumida['ID']\n",
    "    base_resumida['Puntaje_Relevancia'] = base_resumida['Relevancia'] / base_resumida['ID']\n",
    "\n",
    "\n",
    "    base_resumida = base_resumida[['Nombre de agente','ID','Puntaje_Agente_Total', 'Puntaje_Mapa_Semantico', 'Puntaje_Framing', 'Puntaje_Fuentes_Legitimas', 'Puntaje_Proceso_Pedagogico', 'Puntaje_Relevancia']]\n",
    "\n",
    "    return base_resumida"
   ]
  },
  {
   "cell_type": "code",
   "execution_count": 4,
   "metadata": {},
   "outputs": [],
   "source": [
    "def acumulados (base):\n",
    "    \n",
    "    base.replace({  'NO APLICA':0,\n",
    "                    'NO':0,\n",
    "                    'N/A':0,\n",
    "                    ' ':0,\n",
    "                    'SI':1,},inplace=True)\n",
    "    \n",
    "    base.drop(columns=['Tipo de Agente', 'Titular', 'Link',\n",
    "                        'Tipo de pieza comunicativa', 'Medio de captura','Fecha de la pieza comunicativa (dd/mm/aaaa)',\n",
    "                        'Fecha de la marcación (dd/mm/aaaa)',\n",
    "                        'Temáticas del mapa semántico identificadas',\n",
    "                        'Contexto: Cita(s)/referencia(s)',\n",
    "                        'Síntesis analítica',\n",
    "                        'Contexto: Cita(s)/referencia(s)2',\n",
    "                        'Síntesis analítica3',\n",
    "                        'Contexto: cita(s)/referencia(s)4',\n",
    "                        'Contexto: cita(s)/referencia(s)6',\n",
    "                        'Comentario: síntesis comprensiva',\n",
    "                        '¿Quién/quiénes?',\n",
    "                        'Comentario-explicación del lugar protagónico',\n",
    "                        'Responsable',\n",
    "                        'Cantidad de citas o referencias de personas de origen étnico favorables al mapa semántico, dentro de la pieza comunicativa',\n",
    "                        'Cantidad de citas o referencias de personas de origen étnico favorables al mapa semántico, dentro de la pieza comunicativa5' \n",
    "                       ],inplace=True)\n",
    "\n",
    "\n",
    "\n",
    "    base = base.groupby(by=['Nombre de agente']).sum().reset_index()\n",
    "    \n",
    "    return base"
   ]
  },
  {
   "cell_type": "code",
   "execution_count": 5,
   "metadata": {},
   "outputs": [],
   "source": [
    "###BASE\n",
    "resultados_base_acumulados = acumulados(juntanza_base)\n",
    "resultados_base_puntaje    = resultados(juntanza_base) \n",
    "\n",
    "resultados_base = pd.merge(left=resultados_base_acumulados,right=resultados_base_puntaje,\n",
    "                           left_on='Nombre de agente',right_on='Nombre de agente',\n",
    "                           how='inner')"
   ]
  },
  {
   "cell_type": "code",
   "execution_count": 6,
   "metadata": {},
   "outputs": [],
   "source": [
    "###FINAL\n",
    "resultados_final_acumulados = acumulados(juntanza_final)\n",
    "resultados_final_puntaje    = resultados(juntanza_final) \n",
    "\n",
    "resultados_final = pd.merge(left=resultados_final_acumulados,right=resultados_final_puntaje,\n",
    "                           left_on='Nombre de agente',right_on='Nombre de agente',\n",
    "                           how='inner')"
   ]
  },
  {
   "cell_type": "code",
   "execution_count": 7,
   "metadata": {},
   "outputs": [],
   "source": [
    "resultados_base.to_excel(r'C:\\Users\\Dell\\Documents\\BX-Codes\\BX-Codes\\00 BX - Proyectos\\Juntanza\\Informe II\\resultados\\resultados_base.xlsx',index='False')\n",
    "resultados_final.to_excel(r'C:\\Users\\Dell\\Documents\\BX-Codes\\BX-Codes\\00 BX - Proyectos\\Juntanza\\Informe II\\resultados\\resultados_final.xlsx',index='False')"
   ]
  }
 ],
 "metadata": {
  "kernelspec": {
   "display_name": "base",
   "language": "python",
   "name": "python3"
  },
  "language_info": {
   "codemirror_mode": {
    "name": "ipython",
    "version": 3
   },
   "file_extension": ".py",
   "mimetype": "text/x-python",
   "name": "python",
   "nbconvert_exporter": "python",
   "pygments_lexer": "ipython3",
   "version": "3.11.5"
  },
  "orig_nbformat": 4,
  "vscode": {
   "interpreter": {
    "hash": "40d3a090f54c6569ab1632332b64b2c03c39dcf918b08424e98f38b5ae0af88f"
   }
  }
 },
 "nbformat": 4,
 "nbformat_minor": 2
}
