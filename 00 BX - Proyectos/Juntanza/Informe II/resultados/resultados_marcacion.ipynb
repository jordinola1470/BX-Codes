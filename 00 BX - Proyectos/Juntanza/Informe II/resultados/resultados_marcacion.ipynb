{
 "cells": [
  {
   "cell_type": "code",
   "execution_count": 73,
   "metadata": {},
   "outputs": [],
   "source": [
    "import pandas as pd\n",
    "import numpy as np\n",
    "import warnings\n",
    "warnings.filterwarnings('ignore')"
   ]
  },
  {
   "cell_type": "code",
   "execution_count": 74,
   "metadata": {},
   "outputs": [],
   "source": [
    "ruta_base = '/Users/josealonsoordinolaaucca/Documents/Documentos Barometro Xenofobia/BX-Codes/BX-Codes/00 BX - Proyectos/Juntanza/Informe II/base_finales_marcadas/Matriz Daniel Cortes.xlsx'\n",
    "\n",
    "base_marcada = pd.read_excel(ruta_base,header=1)"
   ]
  },
  {
   "cell_type": "code",
   "execution_count": 75,
   "metadata": {},
   "outputs": [],
   "source": [
    "base_marcada.replace({'NO APLICA':0,\n",
    "                      'NO':1,\n",
    "                      'SI':2,},inplace=True)\n",
    "\n",
    "columnas_suma = ['¿La pieza aborda temas de biodiversidad?',\n",
    "                '¿La pieza aborda temas de emprendimiento y empleabilidad en relación a los pueblos étnicos?',\n",
    "                '¿La pieza aborda temas de paz en relación a los pueblos étnicos?',\n",
    "                '¿Se ajusta la pieza comunicativa al mapa semántico deseado?',\n",
    "                \n",
    "                '¿Se representa a las personas o grupos por su pertenencia étnica en marcos narrativos que los estigmatizan, marginalizan-inferiorizan, exotizan, caricaturiza o en los cuales se los clasifica como amenaza, o como culpable de un incidente o crisis, o se utilizan adjetivos calificativos, de personalidad o valorativos negativos para referirse a la población étnica, a sus acciones, historia, discursos, territorio o cultura? ',\n",
    "                '¿El uso de imágenes invade la privacidad, viola la autonomía o lesiona la dignidad de los pueblos o personas de origen étnico?',\n",
    "                \n",
    "                ' ¿Se incluyen citas o referencias de personas de origen étnico, favorables al mapa semántico?',\n",
    "                '¿Se incluyen citas o referencias de expertos u otras fuentes legítimas favorables al mapa semántico?',\n",
    "                '¿La pieza cubre pluralidad de fuentes u ofrece una visión amplia, global o compleja de la situación? ',\n",
    "                ' ¿La pieza comunicativa incluye la voz de alguno de los personajes del directorio de referentes?',\n",
    "                \n",
    "                'El agente asistió a la acción de estrategia de sensibilización y pedagogía del Programa Juntanza étnica',\n",
    "                '¿El agente incluyó contenidos-material-recursos suministrados o transferidos durante el proceso pedagógico?',\n",
    "                \n",
    "                'La pieza comunicativa acompaña, referencia o hace parte de un evento (presencial o virtual)',\n",
    "                '¿La pieza ocupa un lugar protagónico o destacado en el agente?']\n",
    "\n",
    "\n",
    "mapa_semantico      = ['¿La pieza aborda temas de biodiversidad?',\n",
    "                       '¿La pieza aborda temas de emprendimiento y empleabilidad en relación a los pueblos étnicos?',\n",
    "                       '¿La pieza aborda temas de paz en relación a los pueblos étnicos?',\n",
    "                       '¿Se ajusta la pieza comunicativa al mapa semántico deseado?']\n",
    "\n",
    "framing             = ['¿Se representa a las personas o grupos por su pertenencia étnica en marcos narrativos que los estigmatizan, marginalizan-inferiorizan, exotizan, caricaturiza o en los cuales se los clasifica como amenaza, o como culpable de un incidente o crisis, o se utilizan adjetivos calificativos, de personalidad o valorativos negativos para referirse a la población étnica, a sus acciones, historia, discursos, territorio o cultura? ',\n",
    "                       '¿El uso de imágenes invade la privacidad, viola la autonomía o lesiona la dignidad de los pueblos o personas de origen étnico?']\n",
    "\n",
    "fuentes_legitimas   = [' ¿Se incluyen citas o referencias de personas de origen étnico, favorables al mapa semántico?',\n",
    "                       '¿Se incluyen citas o referencias de expertos u otras fuentes legítimas favorables al mapa semántico?',\n",
    "                       '¿La pieza cubre pluralidad de fuentes u ofrece una visión amplia, global o compleja de la situación? ',\n",
    "                       ' ¿La pieza comunicativa incluye la voz de alguno de los personajes del directorio de referentes?']\n",
    "\n",
    "proceso_pedagogico  = ['El agente asistió a la acción de estrategia de sensibilización y pedagogía del Programa Juntanza étnica',\n",
    "                       '¿El agente incluyó contenidos-material-recursos suministrados o transferidos durante el proceso pedagógico?']\n",
    "\n",
    "relevancia          = ['La pieza comunicativa acompaña, referencia o hace parte de un evento (presencial o virtual)',\n",
    "                       '¿La pieza ocupa un lugar protagónico o destacado en el agente?']\n",
    "\n",
    "\n",
    "base_marcada['Mapa_Semantico'] = base_marcada[mapa_semantico].sum(axis=1)\n",
    "base_marcada['Framing'] = base_marcada[framing].sum(axis=1)\n",
    "base_marcada['Fuentes_Legitimas'] = base_marcada[fuentes_legitimas].sum(axis=1)\n",
    "base_marcada['Proceso_Pedagogico'] = base_marcada[proceso_pedagogico].sum(axis=1)\n",
    "base_marcada['Relevancia'] = base_marcada[relevancia].sum(axis=1)\n",
    "\n",
    "base_marcada['Suma_Valor_Pieza'] = base_marcada[columnas_suma].sum(axis=1)\n",
    "base_marcada['ID'] = 1\n",
    "\n",
    "#------------------------------------------------------------------------------------------------------------------------------------\n",
    "\n",
    "base_resumida = base_marcada.groupby(by=['Nombre de agente'])['ID','Mapa_Semantico','Framing','Fuentes_Legitimas','Proceso_Pedagogico','Relevancia','Suma_Valor_Pieza'].sum().reset_index()\n",
    "\n",
    "base_resumida['Puntaje_Agente_Total'] = base_resumida['Suma_Valor_Pieza'] / base_resumida['ID']\n",
    "base_resumida['Puntaje_Mapa_Semantico'] = base_resumida['Mapa_Semantico'] / base_resumida['ID']\n",
    "base_resumida['Puntaje_Framing'] = base_resumida['Framing'] / base_resumida['ID']\n",
    "base_resumida['Puntaje_Fuentes_Legitimas'] = base_resumida['Fuentes_Legitimas'] / base_resumida['ID']\n",
    "base_resumida['Puntaje_Proceso_Pedagogico'] = base_resumida['Proceso_Pedagogico'] / base_resumida['ID']\n",
    "base_resumida['Puntaje_Relevancia'] = base_resumida['Relevancia'] / base_resumida['ID']\n",
    "\n",
    "\n",
    "base_resumida = base_resumida[['Nombre de agente','ID','Puntaje_Agente_Total', 'Puntaje_Mapa_Semantico', 'Puntaje_Framing', 'Puntaje_Fuentes_Legitimas', 'Puntaje_Proceso_Pedagogico', 'Puntaje_Relevancia']]"
   ]
  },
  {
   "cell_type": "code",
   "execution_count": 76,
   "metadata": {},
   "outputs": [
    {
     "data": {
      "text/html": [
       "<div>\n",
       "<style scoped>\n",
       "    .dataframe tbody tr th:only-of-type {\n",
       "        vertical-align: middle;\n",
       "    }\n",
       "\n",
       "    .dataframe tbody tr th {\n",
       "        vertical-align: top;\n",
       "    }\n",
       "\n",
       "    .dataframe thead th {\n",
       "        text-align: right;\n",
       "    }\n",
       "</style>\n",
       "<table border=\"1\" class=\"dataframe\">\n",
       "  <thead>\n",
       "    <tr style=\"text-align: right;\">\n",
       "      <th></th>\n",
       "      <th>Nombre de agente</th>\n",
       "      <th>ID</th>\n",
       "      <th>Puntaje_Agente_Total</th>\n",
       "      <th>Puntaje_Mapa_Semantico</th>\n",
       "      <th>Puntaje_Framing</th>\n",
       "      <th>Puntaje_Fuentes_Legitimas</th>\n",
       "      <th>Puntaje_Proceso_Pedagogico</th>\n",
       "      <th>Puntaje_Relevancia</th>\n",
       "    </tr>\n",
       "  </thead>\n",
       "  <tbody>\n",
       "    <tr>\n",
       "      <th>0</th>\n",
       "      <td>Daniel Samper Ospina</td>\n",
       "      <td>25</td>\n",
       "      <td>4.64</td>\n",
       "      <td>1.6</td>\n",
       "      <td>0.44</td>\n",
       "      <td>0.84</td>\n",
       "      <td>0.8</td>\n",
       "      <td>0.96</td>\n",
       "    </tr>\n",
       "    <tr>\n",
       "      <th>1</th>\n",
       "      <td>Valora Analitik</td>\n",
       "      <td>5</td>\n",
       "      <td>0.00</td>\n",
       "      <td>0.0</td>\n",
       "      <td>0.00</td>\n",
       "      <td>0.00</td>\n",
       "      <td>0.0</td>\n",
       "      <td>0.00</td>\n",
       "    </tr>\n",
       "  </tbody>\n",
       "</table>\n",
       "</div>"
      ],
      "text/plain": [
       "       Nombre de agente  ID  Puntaje_Agente_Total  Puntaje_Mapa_Semantico  \\\n",
       "0  Daniel Samper Ospina  25                  4.64                     1.6   \n",
       "1       Valora Analitik   5                  0.00                     0.0   \n",
       "\n",
       "   Puntaje_Framing  Puntaje_Fuentes_Legitimas  Puntaje_Proceso_Pedagogico  \\\n",
       "0             0.44                       0.84                         0.8   \n",
       "1             0.00                       0.00                         0.0   \n",
       "\n",
       "   Puntaje_Relevancia  \n",
       "0                0.96  \n",
       "1                0.00  "
      ]
     },
     "execution_count": 76,
     "metadata": {},
     "output_type": "execute_result"
    }
   ],
   "source": [
    "base_resumida\n"
   ]
  }
 ],
 "metadata": {
  "kernelspec": {
   "display_name": "base",
   "language": "python",
   "name": "python3"
  },
  "language_info": {
   "codemirror_mode": {
    "name": "ipython",
    "version": 3
   },
   "file_extension": ".py",
   "mimetype": "text/x-python",
   "name": "python",
   "nbconvert_exporter": "python",
   "pygments_lexer": "ipython3",
   "version": "3.9.13"
  },
  "orig_nbformat": 4,
  "vscode": {
   "interpreter": {
    "hash": "40d3a090f54c6569ab1632332b64b2c03c39dcf918b08424e98f38b5ae0af88f"
   }
  }
 },
 "nbformat": 4,
 "nbformat_minor": 2
}
