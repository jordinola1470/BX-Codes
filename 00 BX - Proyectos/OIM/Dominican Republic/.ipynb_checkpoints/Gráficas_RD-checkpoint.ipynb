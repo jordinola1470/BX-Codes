{
 "cells": [
  {
   "cell_type": "code",
   "execution_count": 5,
   "id": "2b251b13",
   "metadata": {},
   "outputs": [
    {
     "name": "stderr",
     "output_type": "stream",
     "text": [
      "[nltk_data] Downloading package stopwords to\n",
      "[nltk_data]     C:\\Users\\JOSE\\AppData\\Roaming\\nltk_data...\n",
      "[nltk_data]   Package stopwords is already up-to-date!\n"
     ]
    }
   ],
   "source": [
    "import numpy as np\n",
    "from numpy.random import seed\n",
    "from numpy.random import randint\n",
    "import matplotlib.pyplot as plt\n",
    "%matplotlib inline\n",
    "import sys\n",
    "import pandas as pd\n",
    "import wordcloud\n",
    "from wordcloud import WordCloud, STOPWORDS, ImageColorGenerator\n",
    "import logging\n",
    "logging.basicConfig(format='%(asctime)s : %(levelname)s : %(message)s', level=logging.ERROR)\n",
    "from jupyterthemes import jtplot\n",
    "# choose which theme to inherit plotting style from\n",
    "# onedork | grade3 | oceans16 | chesterish | monokai | solarizedl | solarizedd\n",
    "jtplot.style(theme='solarizedl', context='notebook', ticks=True, grid=False)\n",
    "from pprint import pprint\n",
    "import re\n",
    "import matplotlib.colors as mcolors\n",
    "from matplotlib.ticker import MaxNLocator\n",
    "import nltk\n",
    "import seaborn as sns\n",
    "from collections import Counter\n",
    "nltk.download('stopwords')\n",
    "from nltk.corpus import stopwords"
   ]
  },
  {
   "cell_type": "code",
   "execution_count": 6,
   "id": "approved-disposal",
   "metadata": {},
   "outputs": [
    {
     "data": {
      "text/html": [
       "<div>\n",
       "<style scoped>\n",
       "    .dataframe tbody tr th:only-of-type {\n",
       "        vertical-align: middle;\n",
       "    }\n",
       "\n",
       "    .dataframe tbody tr th {\n",
       "        vertical-align: top;\n",
       "    }\n",
       "\n",
       "    .dataframe thead th {\n",
       "        text-align: right;\n",
       "    }\n",
       "</style>\n",
       "<table border=\"1\" class=\"dataframe\">\n",
       "  <thead>\n",
       "    <tr style=\"text-align: right;\">\n",
       "      <th></th>\n",
       "      <th>Date</th>\n",
       "      <th>Count</th>\n",
       "    </tr>\n",
       "  </thead>\n",
       "  <tbody>\n",
       "    <tr>\n",
       "      <th>0</th>\n",
       "      <td>2020-04-01 00:00:00</td>\n",
       "      <td>9</td>\n",
       "    </tr>\n",
       "    <tr>\n",
       "      <th>1</th>\n",
       "      <td>2020-04-02 00:00:00</td>\n",
       "      <td>1</td>\n",
       "    </tr>\n",
       "    <tr>\n",
       "      <th>2</th>\n",
       "      <td>2020-04-03 00:00:00</td>\n",
       "      <td>13</td>\n",
       "    </tr>\n",
       "    <tr>\n",
       "      <th>3</th>\n",
       "      <td>2020-04-04 00:00:00</td>\n",
       "      <td>5</td>\n",
       "    </tr>\n",
       "    <tr>\n",
       "      <th>4</th>\n",
       "      <td>2020-04-05 00:00:00</td>\n",
       "      <td>4</td>\n",
       "    </tr>\n",
       "    <tr>\n",
       "      <th>...</th>\n",
       "      <td>...</td>\n",
       "      <td>...</td>\n",
       "    </tr>\n",
       "    <tr>\n",
       "      <th>361</th>\n",
       "      <td>2021-03-28 00:00:00</td>\n",
       "      <td>24</td>\n",
       "    </tr>\n",
       "    <tr>\n",
       "      <th>362</th>\n",
       "      <td>2021-03-29 00:00:00</td>\n",
       "      <td>35</td>\n",
       "    </tr>\n",
       "    <tr>\n",
       "      <th>363</th>\n",
       "      <td>2021-03-30 00:00:00</td>\n",
       "      <td>24</td>\n",
       "    </tr>\n",
       "    <tr>\n",
       "      <th>364</th>\n",
       "      <td>2021-03-31 00:00:00</td>\n",
       "      <td>26</td>\n",
       "    </tr>\n",
       "    <tr>\n",
       "      <th>365</th>\n",
       "      <td>2021-04-01 00:00:00</td>\n",
       "      <td>8</td>\n",
       "    </tr>\n",
       "  </tbody>\n",
       "</table>\n",
       "<p>366 rows × 2 columns</p>\n",
       "</div>"
      ],
      "text/plain": [
       "                    Date  Count\n",
       "0    2020-04-01 00:00:00      9\n",
       "1    2020-04-02 00:00:00      1\n",
       "2    2020-04-03 00:00:00     13\n",
       "3    2020-04-04 00:00:00      5\n",
       "4    2020-04-05 00:00:00      4\n",
       "..                   ...    ...\n",
       "361  2021-03-28 00:00:00     24\n",
       "362  2021-03-29 00:00:00     35\n",
       "363  2021-03-30 00:00:00     24\n",
       "364  2021-03-31 00:00:00     26\n",
       "365  2021-04-01 00:00:00      8\n",
       "\n",
       "[366 rows x 2 columns]"
      ]
     },
     "execution_count": 6,
     "metadata": {},
     "output_type": "execute_result"
    }
   ],
   "source": [
    "base_merge = pd.read_csv('xenofobia_volume.csv')\n",
    "base_merge"
   ]
  },
  {
   "cell_type": "code",
   "execution_count": 7,
   "id": "metric-bacteria",
   "metadata": {},
   "outputs": [],
   "source": [
    "base_merge.to_excel(\"Base_Diagramación_RD.xlsx\")"
   ]
  },
  {
   "cell_type": "code",
   "execution_count": 8,
   "id": "outside-pleasure",
   "metadata": {},
   "outputs": [
    {
     "data": {
      "text/html": [
       "<div>\n",
       "<style scoped>\n",
       "    .dataframe tbody tr th:only-of-type {\n",
       "        vertical-align: middle;\n",
       "    }\n",
       "\n",
       "    .dataframe tbody tr th {\n",
       "        vertical-align: top;\n",
       "    }\n",
       "\n",
       "    .dataframe thead th {\n",
       "        text-align: right;\n",
       "    }\n",
       "</style>\n",
       "<table border=\"1\" class=\"dataframe\">\n",
       "  <thead>\n",
       "    <tr style=\"text-align: right;\">\n",
       "      <th></th>\n",
       "      <th>Fecha</th>\n",
       "      <th>Volumen</th>\n",
       "      <th>Mes</th>\n",
       "      <th>Semana</th>\n",
       "      <th>Fecha Semanal</th>\n",
       "    </tr>\n",
       "  </thead>\n",
       "  <tbody>\n",
       "    <tr>\n",
       "      <th>0</th>\n",
       "      <td>2020-04-01</td>\n",
       "      <td>9</td>\n",
       "      <td>Apr 2020</td>\n",
       "      <td>2</td>\n",
       "      <td>2Apr 2020</td>\n",
       "    </tr>\n",
       "    <tr>\n",
       "      <th>1</th>\n",
       "      <td>2020-04-02</td>\n",
       "      <td>1</td>\n",
       "      <td>Apr 2020</td>\n",
       "      <td>3</td>\n",
       "      <td>3Apr 2020</td>\n",
       "    </tr>\n",
       "    <tr>\n",
       "      <th>2</th>\n",
       "      <td>2020-04-03</td>\n",
       "      <td>13</td>\n",
       "      <td>Apr 2020</td>\n",
       "      <td>4</td>\n",
       "      <td>4Apr 2020</td>\n",
       "    </tr>\n",
       "    <tr>\n",
       "      <th>3</th>\n",
       "      <td>2020-04-04</td>\n",
       "      <td>5</td>\n",
       "      <td>Apr 2020</td>\n",
       "      <td>5</td>\n",
       "      <td>5Apr 2020</td>\n",
       "    </tr>\n",
       "    <tr>\n",
       "      <th>4</th>\n",
       "      <td>2020-04-05</td>\n",
       "      <td>4</td>\n",
       "      <td>Apr 2020</td>\n",
       "      <td>6</td>\n",
       "      <td>6Apr 2020</td>\n",
       "    </tr>\n",
       "    <tr>\n",
       "      <th>...</th>\n",
       "      <td>...</td>\n",
       "      <td>...</td>\n",
       "      <td>...</td>\n",
       "      <td>...</td>\n",
       "      <td>...</td>\n",
       "    </tr>\n",
       "    <tr>\n",
       "      <th>361</th>\n",
       "      <td>2021-03-28</td>\n",
       "      <td>24</td>\n",
       "      <td>Mar 2021</td>\n",
       "      <td>6</td>\n",
       "      <td>6Mar 2021</td>\n",
       "    </tr>\n",
       "    <tr>\n",
       "      <th>362</th>\n",
       "      <td>2021-03-29</td>\n",
       "      <td>35</td>\n",
       "      <td>Mar 2021</td>\n",
       "      <td>0</td>\n",
       "      <td>0Mar 2021</td>\n",
       "    </tr>\n",
       "    <tr>\n",
       "      <th>363</th>\n",
       "      <td>2021-03-30</td>\n",
       "      <td>24</td>\n",
       "      <td>Mar 2021</td>\n",
       "      <td>1</td>\n",
       "      <td>1Mar 2021</td>\n",
       "    </tr>\n",
       "    <tr>\n",
       "      <th>364</th>\n",
       "      <td>2021-03-31</td>\n",
       "      <td>26</td>\n",
       "      <td>Mar 2021</td>\n",
       "      <td>2</td>\n",
       "      <td>2Mar 2021</td>\n",
       "    </tr>\n",
       "    <tr>\n",
       "      <th>365</th>\n",
       "      <td>2021-04-01</td>\n",
       "      <td>8</td>\n",
       "      <td>Apr 2021</td>\n",
       "      <td>3</td>\n",
       "      <td>3Apr 2021</td>\n",
       "    </tr>\n",
       "  </tbody>\n",
       "</table>\n",
       "<p>366 rows × 5 columns</p>\n",
       "</div>"
      ],
      "text/plain": [
       "         Fecha  Volumen       Mes  Semana Fecha Semanal\n",
       "0   2020-04-01        9  Apr 2020       2     2Apr 2020\n",
       "1   2020-04-02        1  Apr 2020       3     3Apr 2020\n",
       "2   2020-04-03       13  Apr 2020       4     4Apr 2020\n",
       "3   2020-04-04        5  Apr 2020       5     5Apr 2020\n",
       "4   2020-04-05        4  Apr 2020       6     6Apr 2020\n",
       "..         ...      ...       ...     ...           ...\n",
       "361 2021-03-28       24  Mar 2021       6     6Mar 2021\n",
       "362 2021-03-29       35  Mar 2021       0     0Mar 2021\n",
       "363 2021-03-30       24  Mar 2021       1     1Mar 2021\n",
       "364 2021-03-31       26  Mar 2021       2     2Mar 2021\n",
       "365 2021-04-01        8  Apr 2021       3     3Apr 2021\n",
       "\n",
       "[366 rows x 5 columns]"
      ]
     },
     "execution_count": 8,
     "metadata": {},
     "output_type": "execute_result"
    }
   ],
   "source": [
    "base_merge.rename(columns={\"Date\": \"Fecha\", \"Count\": \"Volumen\"}, inplace = True)\n",
    "base_merge['Fecha'] = pd.to_datetime(base_merge['Fecha'])\n",
    "base_merge['Mes'] = base_merge['Fecha'].dt.strftime('%b %Y')\n",
    "base_merge['Semana'] = base_merge['Fecha'].dt.dayofweek\n",
    "base_merge[\"Fecha Semanal\"] = base_merge[\"Semana\"].astype(str) + base_merge[\"Mes\"].astype(str)\n",
    "base_merge"
   ]
  },
  {
   "cell_type": "code",
   "execution_count": 9,
   "id": "republican-discussion",
   "metadata": {},
   "outputs": [
    {
     "data": {
      "text/html": [
       "<div>\n",
       "<style scoped>\n",
       "    .dataframe tbody tr th:only-of-type {\n",
       "        vertical-align: middle;\n",
       "    }\n",
       "\n",
       "    .dataframe tbody tr th {\n",
       "        vertical-align: top;\n",
       "    }\n",
       "\n",
       "    .dataframe thead th {\n",
       "        text-align: right;\n",
       "    }\n",
       "</style>\n",
       "<table border=\"1\" class=\"dataframe\">\n",
       "  <thead>\n",
       "    <tr style=\"text-align: right;\">\n",
       "      <th></th>\n",
       "      <th>Mes</th>\n",
       "      <th>Volumen</th>\n",
       "    </tr>\n",
       "  </thead>\n",
       "  <tbody>\n",
       "    <tr>\n",
       "      <th>0</th>\n",
       "      <td>Apr 2020</td>\n",
       "      <td>541</td>\n",
       "    </tr>\n",
       "    <tr>\n",
       "      <th>9</th>\n",
       "      <td>May 2020</td>\n",
       "      <td>902</td>\n",
       "    </tr>\n",
       "    <tr>\n",
       "      <th>7</th>\n",
       "      <td>Jun 2020</td>\n",
       "      <td>1552</td>\n",
       "    </tr>\n",
       "    <tr>\n",
       "      <th>6</th>\n",
       "      <td>Jul 2020</td>\n",
       "      <td>1029</td>\n",
       "    </tr>\n",
       "    <tr>\n",
       "      <th>2</th>\n",
       "      <td>Aug 2020</td>\n",
       "      <td>1552</td>\n",
       "    </tr>\n",
       "  </tbody>\n",
       "</table>\n",
       "</div>"
      ],
      "text/plain": [
       "        Mes  Volumen\n",
       "0  Apr 2020      541\n",
       "9  May 2020      902\n",
       "7  Jun 2020     1552\n",
       "6  Jul 2020     1029\n",
       "2  Aug 2020     1552"
      ]
     },
     "execution_count": 9,
     "metadata": {},
     "output_type": "execute_result"
    }
   ],
   "source": [
    "months = [\"Apr 2020\", \"May 2020\", \"Jun 2020\", \n",
    "          \"Jul 2020\", \"Aug 2020\", \"Sep 2020\", \"Oct 2020\", \"Nov 2020\", \"Dec 2020\", \"Jan 2021\", \"Feb 2021\", \"Mar 2021\", \"Apr 2021\" ]\n",
    "diagramación = pd.DataFrame( base_merge[[\"Fecha\", \"Volumen\", \"Mes\"]])\n",
    "diagramación = pd.DataFrame(diagramación.groupby(diagramación['Mes'])['Volumen'].sum())\n",
    "diagramación.reset_index(inplace=True)\n",
    "diagramación['Mes'] = pd.Categorical(diagramación['Mes'], categories=months, ordered=True)\n",
    "diagramación.sort_values(inplace=True, by=\"Mes\")\n",
    "diagramación.to_excel(\"Base_Diagramación_RD.xlsx\")\n",
    "diagramación.head()"
   ]
  },
  {
   "cell_type": "code",
   "execution_count": 42,
   "id": "enclosed-bunch",
   "metadata": {},
   "outputs": [
    {
     "data": {
      "image/png": "[encoded data removed]",
      "text/plain": [
       "<Figure size 576x504 with 1 Axes>"
      ]
     },
     "metadata": {},
     "output_type": "display_data"
    }
   ],
   "source": [
    "g = sns.barplot(x = 'Mes', y = 'Volumen', data = base_merge[['Mes', 'Volumen']])\n",
    "for item in g.get_xticklabels():\n",
    "    item.set_rotation(90)"
   ]
  },
  {
   "cell_type": "code",
   "execution_count": 43,
   "id": "attempted-stomach",
   "metadata": {},
   "outputs": [
    {
     "data": {
      "image/png": "[encoded data removed]",
      "text/plain": [
       "<Figure size 576x504 with 1 Axes>"
      ]
     },
     "metadata": {},
     "output_type": "display_data"
    }
   ],
   "source": [
    "g = sns.barplot(x = 'Semana', y = 'Volumen', data = base_merge[['Semana', 'Volumen']])\n",
    "for item in g.get_xticklabels():\n",
    "    item.set_rotation(90)"
   ]
  },
  {
   "cell_type": "code",
   "execution_count": 44,
   "id": "fresh-contamination",
   "metadata": {},
   "outputs": [
    {
     "data": {
      "image/png": "[encoded data removed]",
      "text/plain": [
       "<Figure size 576x504 with 1 Axes>"
      ]
     },
     "metadata": {},
     "output_type": "display_data"
    }
   ],
   "source": [
    "g = sns.barplot(x = 'Fecha Semanal', y = 'Volumen', data = base_merge[['Fecha Semanal', 'Volumen']], ci = None)\n",
    "for item in g.get_xticklabels():\n",
    "    item.set_rotation(90)\n",
    "for ind, label in enumerate(g.get_xticklabels()):\n",
    "    if ind % 10 == 0:  # every 10th label is kept\n",
    "        label.set_visible(True)\n",
    "    else:\n",
    "        label.set_visible(False)"
   ]
  },
  {
   "cell_type": "code",
   "execution_count": null,
   "id": "acute-investing",
   "metadata": {},
   "outputs": [],
   "source": []
  }
 ],
 "metadata": {
  "kernelspec": {
   "display_name": "Python 3 (ipykernel)",
   "language": "python",
   "name": "python3"
  },
  "language_info": {
   "codemirror_mode": {
    "name": "ipython",
    "version": 3
   },
   "file_extension": ".py",
   "mimetype": "text/x-python",
   "name": "python",
   "nbconvert_exporter": "python",
   "pygments_lexer": "ipython3",
   "version": "3.8.10"
  }
 },
 "nbformat": 4,
 "nbformat_minor": 5
}
