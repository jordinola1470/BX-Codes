{
  "cells": [
    {
      "cell_type": "code",
      "metadata": {},
      "source": [
        "import sqlite3\n",
        "\n",
        "conn = sqlite3.connect('friends.sqlite')\n",
        "cur = conn.cursor()\n",
        "\n",
        "cur.execute('SELECT * FROM People')\n",
        "count = 0\n",
        "print('People:')\n",
        "for row in cur:\n",
        "    if count < 5: print(row)\n",
        "    count = count + 1\n",
        "print(count, 'rows.')\n",
        "\n",
        "cur.execute('SELECT * FROM Follows')\n",
        "count = 0\n",
        "print('Follows:')\n",
        "for row in cur:\n",
        "    if count < 5: print(row)\n",
        "    count = count + 1\n",
        "print(count, 'rows.')\n",
        "\n",
        "cur.execute('''SELECT * FROM Follows JOIN People\n",
        "            ON Follows.to_id = People.id\n",
        "            WHERE Follows.from_id = 2''')\n",
        "count = 0\n",
        "print('Connections for id=2:')\n",
        "for row in cur:\n",
        "    if count < 5: print(row)\n",
        "    count = count + 1\n",
        "print(count, 'rows.')\n",
        "\n",
        "cur.close()\n"
      ],
      "outputs": [],
      "execution_count": null
    }
  ],
  "metadata": {
    "anaconda-cloud": {},
    "kernelspec": {
      "display_name": "Python 3",
      "language": "python",
      "name": "python3"
    },
    "language_info": {
      "codemirror_mode": {
        "name": "ipython",
        "version": 3
      },
      "file_extension": ".py",
      "mimetype": "text/x-python",
      "name": "python",
      "nbconvert_exporter": "python",
      "pygments_lexer": "ipython3",
      "version": "3.6.1"
    }
  },
  "nbformat": 4,
  "nbformat_minor": 4
}