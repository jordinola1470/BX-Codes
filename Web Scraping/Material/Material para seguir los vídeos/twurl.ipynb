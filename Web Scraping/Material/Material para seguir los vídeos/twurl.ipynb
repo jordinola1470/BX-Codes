{
  "cells": [
    {
      "cell_type": "code",
      "metadata": {},
      "source": [
        "import urllib.request, urllib.parse, urllib.error\n",
        "import oauth\n",
        "import hidden\n",
        "\n",
        "# https://apps.twitter.com/\n",
        "# Create App and get the four strings, put them in hidden.py\n",
        "\n",
        "def augment(url, parameters):\n",
        "    secrets = hidden.oauth()\n",
        "    consumer = oauth.OAuthConsumer(secrets['consumer_key'],\n",
        "                                   secrets['consumer_secret'])\n",
        "    token = oauth.OAuthToken(secrets['token_key'], secrets['token_secret'])\n",
        "\n",
        "    oauth_request = oauth.OAuthRequest.from_consumer_and_token(consumer,\n",
        "                    token=token, http_method='GET', http_url=url,\n",
        "                    parameters=parameters)\n",
        "    oauth_request.sign_request(oauth.OAuthSignatureMethod_HMAC_SHA1(),\n",
        "                               consumer, token)\n",
        "    return oauth_request.to_url()\n",
        "\n",
        "\n",
        "def test_me():\n",
        "    print('* Calling Twitter...')\n",
        "    url = augment('https://api.twitter.com/1.1/statuses/user_timeline.json',\n",
        "                  {'screen_name': 'drchuck', 'count': '2'})\n",
        "    print(url)\n",
        "    connection = urllib.request.urlopen(url)\n",
        "    data = connection.read()\n",
        "    print(data)\n",
        "    headers = dict(connection.getheaders())\n",
        "    print(headers)\n"
      ],
      "outputs": [],
      "execution_count": null
    }
  ],
  "metadata": {
    "anaconda-cloud": {},
    "kernelspec": {
      "display_name": "Python 3",
      "language": "python",
      "name": "python3"
    },
    "language_info": {
      "codemirror_mode": {
        "name": "ipython",
        "version": 3
      },
      "file_extension": ".py",
      "mimetype": "text/x-python",
      "name": "python",
      "nbconvert_exporter": "python",
      "pygments_lexer": "ipython3",
      "version": "3.6.1"
    }
  },
  "nbformat": 4,
  "nbformat_minor": 4
}