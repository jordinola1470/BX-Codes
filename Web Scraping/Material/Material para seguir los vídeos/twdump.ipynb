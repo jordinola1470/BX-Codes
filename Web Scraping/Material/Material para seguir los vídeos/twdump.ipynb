{
  "cells": [
    {
      "cell_type": "code",
      "metadata": {},
      "source": [
        "import sqlite3\n",
        "\n",
        "conn = sqlite3.connect('spider.sqlite')\n",
        "cur = conn.cursor()\n",
        "cur.execute('SELECT * FROM Twitter')\n",
        "count = 0\n",
        "for row in cur:\n",
        "    print(row)\n",
        "    count = count + 1\n",
        "print(count, 'rows.')\n",
        "cur.close()\n"
      ],
      "outputs": [],
      "execution_count": null
    }
  ],
  "metadata": {
    "anaconda-cloud": {},
    "kernelspec": {
      "display_name": "Python 3",
      "language": "python",
      "name": "python3"
    },
    "language_info": {
      "codemirror_mode": {
        "name": "ipython",
        "version": 3
      },
      "file_extension": ".py",
      "mimetype": "text/x-python",
      "name": "python",
      "nbconvert_exporter": "python",
      "pygments_lexer": "ipython3",
      "version": "3.6.1"
    }
  },
  "nbformat": 4,
  "nbformat_minor": 4
}