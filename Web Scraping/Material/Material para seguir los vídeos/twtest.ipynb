{
  "cells": [
    {
      "cell_type": "code",
      "metadata": {},
      "source": [
        "import urllib.request, urllib.parse, urllib.error\n",
        "from twurl import augment\n",
        "import ssl\n",
        "\n",
        "# https://apps.twitter.com/\n",
        "# Create App and get the four strings, put them in hidden.py\n",
        "\n",
        "print('* Calling Twitter...')\n",
        "url = augment('https://api.twitter.com/1.1/statuses/user_timeline.json',\n",
        "              {'screen_name': 'drchuck', 'count': '2'})\n",
        "print(url)\n",
        "\n",
        "# Ignore SSL certificate errors\n",
        "ctx = ssl.create_default_context()\n",
        "ctx.check_hostname = False\n",
        "ctx.verify_mode = ssl.CERT_NONE\n",
        "\n",
        "connection = urllib.request.urlopen(url, context=ctx)\n",
        "data = connection.read()\n",
        "print(data)\n",
        "\n",
        "print ('======================================')\n",
        "headers = dict(connection.getheaders())\n",
        "print(headers)\n"
      ],
      "outputs": [],
      "execution_count": null
    }
  ],
  "metadata": {
    "anaconda-cloud": {},
    "kernelspec": {
      "display_name": "Python 3",
      "language": "python",
      "name": "python3"
    },
    "language_info": {
      "codemirror_mode": {
        "name": "ipython",
        "version": 3
      },
      "file_extension": ".py",
      "mimetype": "text/x-python",
      "name": "python",
      "nbconvert_exporter": "python",
      "pygments_lexer": "ipython3",
      "version": "3.6.1"
    }
  },
  "nbformat": 4,
  "nbformat_minor": 4
}