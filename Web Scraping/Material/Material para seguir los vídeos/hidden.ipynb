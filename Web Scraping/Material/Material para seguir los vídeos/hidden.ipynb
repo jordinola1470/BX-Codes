{
 "cells": [
  {
   "cell_type": "code",
   "execution_count": null,
   "metadata": {},
   "outputs": [],
   "source": [
    "# Keep this file separate\n",
    "\n",
    "# https://apps.twitter.com/\n",
    "# Create new App and get the four strings\n",
    "\n",
    "def oauth():\n",
    "    return {\"consumer_key\": \"h7Lu...Ng\",\n",
    "            \"consumer_secret\": \"dNKenAC3New...mmn7Q\",\n",
    "            \"token_key\": \"10185562-eibxCp9n2...P4GEQQOSGI\",\n",
    "            \"token_secret\": \"H0ycCFemmC4wyf1...qoIpBo\"}\n"
   ]
  }
 ],
 "metadata": {
  "anaconda-cloud": {},
  "kernelspec": {
   "display_name": "Python 3",
   "language": "python",
   "name": "python3"
  },
  "language_info": {
   "codemirror_mode": {
    "name": "ipython",
    "version": 3
   },
   "file_extension": ".py",
   "mimetype": "text/x-python",
   "name": "python",
   "nbconvert_exporter": "python",
   "pygments_lexer": "ipython3",
   "version": "3.8.3"
  }
 },
 "nbformat": 4,
 "nbformat_minor": 4
}
