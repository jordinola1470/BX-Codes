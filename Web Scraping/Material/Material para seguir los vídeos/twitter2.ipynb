{
  "cells": [
    {
      "cell_type": "code",
      "metadata": {},
      "source": [
        "import urllib.request, urllib.parse, urllib.error\n",
        "import twurl\n",
        "import json\n",
        "import ssl\n",
        "\n",
        "# https://apps.twitter.com/\n",
        "# Create App and get the four strings, put them in hidden.py\n",
        "\n",
        "TWITTER_URL = 'https://api.twitter.com/1.1/friends/list.json'\n",
        "\n",
        "# Ignore SSL certificate errors\n",
        "ctx = ssl.create_default_context()\n",
        "ctx.check_hostname = False\n",
        "ctx.verify_mode = ssl.CERT_NONE\n",
        "\n",
        "while True:\n",
        "    print('')\n",
        "    acct = input('Enter Twitter Account:')\n",
        "    if (len(acct) < 1): break\n",
        "    url = twurl.augment(TWITTER_URL,\n",
        "                        {'screen_name': acct, 'count': '5'})\n",
        "    print('Retrieving', url)\n",
        "    connection = urllib.request.urlopen(url, context=ctx)\n",
        "    data = connection.read().decode()\n",
        "\n",
        "    js = json.loads(data)\n",
        "    print(json.dumps(js, indent=2))\n",
        "\n",
        "    headers = dict(connection.getheaders())\n",
        "    print('Remaining', headers['x-rate-limit-remaining'])\n",
        "\n",
        "    for u in js['users']:\n",
        "        print(u['screen_name'])\n",
        "        if 'status' not in u:\n",
        "            print('   * No status found')\n",
        "            continue\n",
        "        s = u['status']['text']\n",
        "        print('  ', s[:50])\n"
      ],
      "outputs": [],
      "execution_count": null
    }
  ],
  "metadata": {
    "anaconda-cloud": {},
    "kernelspec": {
      "display_name": "Python 3",
      "language": "python",
      "name": "python3"
    },
    "language_info": {
      "codemirror_mode": {
        "name": "ipython",
        "version": 3
      },
      "file_extension": ".py",
      "mimetype": "text/x-python",
      "name": "python",
      "nbconvert_exporter": "python",
      "pygments_lexer": "ipython3",
      "version": "3.6.1"
    }
  },
  "nbformat": 4,
  "nbformat_minor": 4
}