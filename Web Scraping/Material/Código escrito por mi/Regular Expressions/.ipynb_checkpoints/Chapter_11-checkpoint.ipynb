{
 "cells": [
  {
   "cell_type": "code",
   "execution_count": 8,
   "metadata": {},
   "outputs": [],
   "source": [
    "import re"
   ]
  },
  {
   "cell_type": "code",
   "execution_count": 33,
   "metadata": {},
   "outputs": [
    {
     "data": {
      "text/plain": [
       "<_io.TextIOWrapper name='data.txt' mode='r' encoding='cp1252'>"
      ]
     },
     "execution_count": 33,
     "metadata": {},
     "output_type": "execute_result"
    }
   ],
   "source": [
    "text = open(\"data.txt\",\"r\")\n",
    "text"
   ]
  },
  {
   "cell_type": "markdown",
   "metadata": {},
   "source": [
    "### Now we create the variables to use\n",
    "The idea is extracting the sum of the numbers in the text... <br>\n",
    "An optional task would be using List Comprehension"
   ]
  },
  {
   "cell_type": "code",
   "execution_count": 10,
   "metadata": {},
   "outputs": [],
   "source": [
    "number = list()\n",
    "numbers = list()"
   ]
  },
  {
   "cell_type": "code",
   "execution_count": 11,
   "metadata": {},
   "outputs": [
    {
     "name": "stdout",
     "output_type": "stream",
     "text": [
      "456843\n"
     ]
    }
   ],
   "source": [
    "for line in text:\n",
    "    line = line.rstrip()\n",
    "    number = re.findall('[0-9]+', line)\n",
    "    for num in number:\n",
    "        num = int(num)\n",
    "        numbers.append(num)\n",
    "print(sum(numbers))\n",
    "    "
   ]
  },
  {
   "cell_type": "code",
   "execution_count": 40,
   "metadata": {},
   "outputs": [
    {
     "name": "stdout",
     "output_type": "stream",
     "text": [
      "456843\n"
     ]
    }
   ],
   "source": [
    "#One hot way to do it\n",
    "text = open(\"data.txt\",\"r\")\n",
    "print( sum( [ int(number) for number in re.findall('[0-9]+',text.read()) ] ) )"
   ]
  }
 ],
 "metadata": {
  "kernelspec": {
   "display_name": "Python 3",
   "language": "python",
   "name": "python3"
  },
  "language_info": {
   "codemirror_mode": {
    "name": "ipython",
    "version": 3
   },
   "file_extension": ".py",
   "mimetype": "text/x-python",
   "name": "python",
   "nbconvert_exporter": "python",
   "pygments_lexer": "ipython3",
   "version": "3.8.4"
  }
 },
 "nbformat": 4,
 "nbformat_minor": 2
}
