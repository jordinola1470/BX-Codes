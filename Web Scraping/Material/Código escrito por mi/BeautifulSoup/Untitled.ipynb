{
 "cells": [
  {
   "cell_type": "code",
   "execution_count": 45,
   "metadata": {},
   "outputs": [
    {
     "name": "stdout",
     "output_type": "stream",
     "text": [
      "Requirement already satisfied: pdfkit in c:\\users\\user\\appdata\\local\\packages\\pythonsoftwarefoundation.python.3.8_qbz5n2kfra8p0\\localcache\\local-packages\\python38\\site-packages (0.6.1)\n"
     ]
    },
    {
     "name": "stderr",
     "output_type": "stream",
     "text": [
      "WARNING: You are using pip version 20.1.1; however, version 20.2.2 is available.\n",
      "You should consider upgrading via the 'C:\\Users\\user\\AppData\\Local\\Microsoft\\WindowsApps\\PythonSoftwareFoundation.Python.3.8_qbz5n2kfra8p0\\python.exe -m pip install --upgrade pip' command.\n"
     ]
    }
   ],
   "source": [
    "!pip3 install pdfkit\n",
    "import urllib.request, urllib.parse, urllib.error\n",
    "from urllib.request import urlopen\n",
    "from bs4 import BeautifulSoup\n",
    "import numpy as np\n",
    "import cv2\n",
    "import ssl\n",
    "import pdfkit\n",
    "path_wkhtmltopdf = r'C:\\Program Files\\wkhtmltopdf\\bin\\wkhtmltopdf.exe'\n",
    "config = pdfkit.configuration(wkhtmltopdf=path_wkhtmltopdf)\n",
    "options = {'enable-local-file-access': None}\n",
    "ctx = ssl.create_default_context()\n",
    "ctx.check_hostname = False\n",
    "ctx.verify_mode = ssl.CERT_NONE"
   ]
  },
  {
   "cell_type": "code",
   "execution_count": 48,
   "metadata": {},
   "outputs": [
    {
     "name": "stdout",
     "output_type": "stream",
     "text": [
      "Loading pages (1/6)\r\n",
      "[>                                                           ] 0%\r",
      "[======>                                                     ] 10%\r",
      "[==========>                                                 ] 18%\r",
      "[===============>                                            ] 26%\r",
      "[============================================================] 100%\r",
      "Counting pages (2/6)                                               \r\n",
      "[============================================================] Object 1 of 1\r",
      "Resolving links (4/6)                                                       \r\n",
      "[============================================================] Object 1 of 1\r",
      "Loading headers and footers (5/6)                                           \r\n",
      "Printing pages (6/6)\r\n",
      "[>                                                           ] Preparing\r",
      "[==============================>                             ] Page 1 of 2\r",
      "[============================================================] Page 2 of 2\r",
      "Done                                                                      \r\n"
     ]
    },
    {
     "data": {
      "text/plain": [
       "True"
      ]
     },
     "execution_count": 48,
     "metadata": {},
     "output_type": "execute_result"
    }
   ],
   "source": [
    "auto_path = r'C:\\Users\\user\\Desktop\\Online courses\\Python\\libro'\n",
    "libro = list()\n",
    "libro.append(auto_path + '\\Data.html')\n",
    "pdfkit.from_url('http://www.ebooks7-24.com.ezproxy.uniandes.edu.co:8080/stage.aspx?il=10495&pg=72', 'out.pdf', configuration = config, options = options)"
   ]
  },
  {
   "cell_type": "code",
   "execution_count": 6,
   "metadata": {},
   "outputs": [
    {
     "name": "stdout",
     "output_type": "stream",
     "text": [
      "Enter URL - http://www.ebooks7-24.com.ezproxy.uniandes.edu.co:8080/stage.aspx?il=10495&pg=72\n",
      "<html>\n",
      "<head>\n",
      "<meta charset=\"utf-8\"/>\n",
      "<meta content=\"text/html; charset=utf-8\" http-equiv=\"Content-Type\"/>\n",
      "<meta content=\"width=device-width, initial-scale=1\" name=\"viewport\"/>\n",
      "<meta contenido=\"no-cache\" http-equiv=\"Pragma\">\n",
      "<meta contenido=\"-1\" http-equiv=\"Expires\"/>\n",
      "<link href=\"https://biblioteca.uniandes.edu.co/templates/bibliotecasp2/favicon.ico\" rel=\"icon\"/>\n",
      "<script>\n",
      "function preload(){\n",
      "\ttry{\n",
      "\t\tvar x = '_';\n",
      "\t\tvar xe = document.getElementsByName(\"url\");\n",
      "\t\t//document.getElementsByName\n",
      "\t\t//var \n",
      "\t\tfor (var i = 0; i < xe.length; i++) {\n",
      "\t\t\tx = x + xe[i].value;\n",
      "\t\t}\n",
      "\t\n",
      "\t} catch(e) {\n",
      "\t//nada\n",
      "\t//location.reload();\n",
      "\t\n",
      "\t}\n",
      "\n",
      "}\n",
      "\n",
      "function nbot2(){\n",
      "var boton = \"botingre2\";\n",
      "var nombre = \"Ingresando...\";\n",
      "\n",
      "\tvar strun = document.getElementById(\"fidname\").value;\n",
      "\tvar nun = strun.indexOf(\"@\");\n",
      "\t\n",
      "\tif (nun >= 0) {\n",
      "    \talert(\"Usuario inválido; por favor omita '@uniandes.edu.co'\");\n",
      "    } else {\n",
      "\t\n",
      "\t\t\tif (document.getElementById(\"esprem\").checked || document.getElementById(\"egre\").checked) {\n",
      "\t\t\t\t\n",
      "\t\t\t\tif (document.getElementById(\"egre\").checked) {\n",
      "\t\t\t\t\tdocument.getElementById(\"formtodos\").action = \"https://ezproxyegre.uniandes.edu.co:8843/login\";\n",
      "\t\t\t\t} else {\n",
      "\t\t\t\t\tdocument.getElementById(\"formtodos\").action = \"/login\";\n",
      "\t\t\t\t}\n",
      "\t\t\t\t\tvar bot = document.getElementById(boton);\n",
      "\t\t\t\t\tbot.value = nombre;\n",
      "\t\t\t\t\tbot.disabled = true;\n",
      "\t\t\t\t\ttry {\n",
      "\t\t\t\t\t\tdocument.formtodos.submit();\n",
      "\t\t\t\t\t} catch(err) {\n",
      "\t\t\t\t\t\tlocation.reload();\n",
      "\t\t\t\t\t}\n",
      "\t\t\t} else {\n",
      "\t\t\t\talert(\"Por favor seleccione su perfil\");\n",
      "\t\t\t}\n",
      "    }\n",
      "}\n",
      "\n",
      "\n",
      "</script>\n",
      "<style>\n",
      "body\n",
      "{\n",
      "background-image:url('https://biblioteca.uniandes.edu.co/images/_configezproxy/fondoezproxylogon.gif');\n",
      "background-repeat:no-repeat;\n",
      "margin: 30px 0px 0px 0px ;\n",
      "}\n",
      "\n",
      ".mybot {\n",
      "\t-moz-box-shadow:inset 0px 1px 0px 0px #fffcff;\n",
      "\t-webkit-box-shadow:inset 0px 1px 0px 0px #fffcff;\n",
      "\tbox-shadow:inset 0px 1px 0px 0px #fffcff;\n",
      "\tbackground-color:#d6d6d6;\n",
      "\t-moz-border-radius:28px;\n",
      "\t-webkit-border-radius:28px;\n",
      "\tborder-radius:28px;\n",
      "\tborder:1px solid #d4d4d4;\n",
      "\tcolor:#383238;\n",
      "\tfont-family:arial;\n",
      "\tfont-size:18px;\n",
      "\tfont-weight:bold;\n",
      "\tpadding:9px 24px;\n",
      "\n",
      "}.mybot:hover {\n",
      "\tbackground-color:#ffffff;\n",
      "\tcursor: pointer;\n",
      "}.xxmybot:active {\n",
      "\tposition:relative;\n",
      "\ttop:1px;\n",
      "}\n",
      "\n",
      "</style>\n",
      "</meta></head>\n",
      "<body onload=\"javascript:preload();\">\n",
      "<!-- bbbbbbbbbbbbbbbbbbbbbbbbbbbbbbbbbbbbbbbbbbb -->\n",
      "<div id=\"users-todos\" name=\"users-todos\" style=\"position: absolute; width: 95%; height: 95%; z-index: 1; left: 4px; top: 140px\">\n",
      "<p><font color=\"#4b5864\" face=\"Verdana\" size=\"3\"><strong>Apreciado Usuario:</strong></font></p></div></body></html>\n",
      "<p><font color=\"#4b5864\" face=\"Verdana\" size=\"2\">Para acceder al recurso electrónico que desea consultar, debe tener un perfil vigente en el Sistema de Bibliotecas, como Estudiante, Profesor, Empleado o Egresado de la Universidad. </font>\n",
      "</p>\n",
      "<hr/>\n",
      "<font color=\"#4b5864\" face=\"Verdana\" size=\"2\">\n",
      "<form action=\"#\" id=\"formtodos\" method=\"post\" name=\"formtodos\" onsubmit=\"javascript:setTimeout('nbot2()', 200); return false;\">\n",
      "<b>Perfil:</b> <br/>\n",
      "<label><input id=\"esprem\" name=\"R1\" style=\"font-weight: 700\" type=\"radio\" value=\"V1\"/>Estudiantes, Profesores, \n",
      "\tEmpleados</label><br/>\n",
      "<label><input id=\"egre\" name=\"R1\" style=\"font-weight: 700\" type=\"radio\" value=\"V2\"/>Egresados</label>\n",
      "<br/><br/>\n",
      "<input id=\"fidname\" name=\"user\" placeholder=\"Usuario\" size=\"10\" style=\"color: #333333; background: #FAFFBD;\" type=\"text\"><i>@uniandes.edu.co</i><br/>\n",
      "<br/>\n",
      "<input id=\"pass2\" name=\"pass\" placeholder=\"Contraseña\" size=\"10\" style=\"color: #333333; background: #FAFFBD;\" type=\"password\"/></input></form></font>\n",
      "<br/><br/>\n",
      "<label title=\"Acepto Normas, Términos y Condiciones de uso para la consulta de contenidos en Bases de Datos, Colecciones de eBooks y Recursos Electrónicos del Sistema de Bibliotecas de la Universidad de los Andes.\"><input checked=\"true\" disabled=\"\" name=\"C1\" type=\"checkbox\" value=\"ON\"/>\n",
      "<i><font color=\"#4b5864\" face=\"Verdana\" size=\"1\">Acepto <a href=\"javascript:window.open('https://biblioteca.uniandes.edu.co/Normas_Terminos_y_Condiciones.php', 'Termcon', 'width=500, height=650');\">\n",
      "<font color=\"#4b5864\" face=\"Verdana\" size=\"1\">Normas, Términos y Condiciones de uso</font></a>...</font></i></label>\n",
      "<br/><br/>\n",
      "<!-- <input onclick=\"javascript:nbot2('botingre2','Ingresando...');\" id=\"botingre2\" name=\"botingre2\" class=\"mybot\" type=\"button\" value=\"Ingresar\" /> -->\n",
      "<input class=\"mybot\" id=\"botingre2\" name=\"botingre2\" type=\"submit\" value=\"Ingresar\">\n",
      "<input name=\"url\" type=\"hidden\" value=\"http://www.ebooks7-24.com/stage.aspx?il=10495&amp;pg=72\"/>\n",
      "</input>\n",
      "<hr/>\n",
      "<p>\n",
      "<font color=\"#4B5864\" face=\"Verdana\" size=\"2\">Si usted es <b>Egresado</b> de la \n",
      "Universidad y desea consultar las Bases de Datos, debe tener activa su cuenta de \n",
      "correo institucional de egresado, y posteriormente autenticarse ingresando su usuario y clave asignados.</font></p>\n",
      "<p>\n",
      "<br/>\n",
      "<i><font color=\"#4b5864\" face=\"Verdana\" size=\"2\">Si tiene alguna duda sobre los datos a suministrar, <a href=\"https://biblioteca.uniandes.edu.co/index.php?option=com_wrapper&amp;view=wrapper&amp;Itemid=462&amp;lang=es\">contacte al Sistema de Bibliotecas</a> o comuníquese al Punto de Información, al teléfono 3394949, extensión 3322. </font></i>\n",
      "</p>\n",
      "\n",
      "\n",
      "\n"
     ]
    }
   ],
   "source": [
    "url = input('Enter URL - ')\n",
    "html = urllib.request.urlopen(url, context=ctx).read()\n",
    "soup = BeautifulSoup(html, 'html.parser')\n",
    "print(soup)"
   ]
  },
  {
   "cell_type": "code",
   "execution_count": null,
   "metadata": {},
   "outputs": [],
   "source": []
  }
 ],
 "metadata": {
  "kernelspec": {
   "display_name": "Python 3",
   "language": "python",
   "name": "python3"
  },
  "language_info": {
   "codemirror_mode": {
    "name": "ipython",
    "version": 3
   },
   "file_extension": ".py",
   "mimetype": "text/x-python",
   "name": "python",
   "nbconvert_exporter": "python",
   "pygments_lexer": "ipython3",
   "version": "3.8.5"
  }
 },
 "nbformat": 4,
 "nbformat_minor": 2
}
