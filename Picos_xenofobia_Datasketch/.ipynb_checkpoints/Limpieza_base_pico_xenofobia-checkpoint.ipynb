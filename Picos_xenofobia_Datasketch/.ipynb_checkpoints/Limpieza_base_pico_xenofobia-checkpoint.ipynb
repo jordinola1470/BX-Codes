{
 "cells": [
  {
   "cell_type": "code",
   "execution_count": 2,
   "id": "ea868890",
   "metadata": {},
   "outputs": [],
   "source": [
    "import pandas as pd\n",
    "import numpy as np\n",
    "import time\n",
    "import os"
   ]
  },
  {
   "cell_type": "code",
   "execution_count": 11,
   "id": "d80eb009",
   "metadata": {},
   "outputs": [
    {
     "data": {
      "text/html": [
       "<div>\n",
       "<style scoped>\n",
       "    .dataframe tbody tr th:only-of-type {\n",
       "        vertical-align: middle;\n",
       "    }\n",
       "\n",
       "    .dataframe tbody tr th {\n",
       "        vertical-align: top;\n",
       "    }\n",
       "\n",
       "    .dataframe thead th {\n",
       "        text-align: right;\n",
       "    }\n",
       "</style>\n",
       "<table border=\"1\" class=\"dataframe\">\n",
       "  <thead>\n",
       "    <tr style=\"text-align: right;\">\n",
       "      <th></th>\n",
       "      <th>Date</th>\n",
       "      <th>Title</th>\n",
       "      <th>Snippet</th>\n",
       "      <th>Llamados a la acción</th>\n",
       "      <th>Sanciones Judiciales</th>\n",
       "      <th>Insultos</th>\n",
       "      <th>No es Xenofobia</th>\n",
       "      <th>Impact</th>\n",
       "      <th>Impressions</th>\n",
       "      <th>pais</th>\n",
       "    </tr>\n",
       "  </thead>\n",
       "  <tbody>\n",
       "    <tr>\n",
       "      <th>0</th>\n",
       "      <td>2023-02-02 18:20:10.000</td>\n",
       "      <td>RT @maraseminario La C93 fue aprobada por refe...</td>\n",
       "      <td>RT @maraseminario La C93 fue aprobada por refe...</td>\n",
       "      <td>0.0</td>\n",
       "      <td>0.0</td>\n",
       "      <td>0.0</td>\n",
       "      <td>1.0</td>\n",
       "      <td>50.0</td>\n",
       "      <td>80693.0</td>\n",
       "      <td>Peru</td>\n",
       "    </tr>\n",
       "  </tbody>\n",
       "</table>\n",
       "</div>"
      ],
      "text/plain": [
       "                      Date                                              Title  \\\n",
       "0  2023-02-02 18:20:10.000  RT @maraseminario La C93 fue aprobada por refe...   \n",
       "\n",
       "                                             Snippet  Llamados a la acción  \\\n",
       "0  RT @maraseminario La C93 fue aprobada por refe...                   0.0   \n",
       "\n",
       "   Sanciones Judiciales  Insultos No es Xenofobia  Impact  Impressions  pais  \n",
       "0                   0.0       0.0             1.0    50.0      80693.0  Peru  "
      ]
     },
     "execution_count": 11,
     "metadata": {},
     "output_type": "execute_result"
    }
   ],
   "source": [
    "paises = ['Peru','Colombia','Ecuador']\n",
    "#Pegar base sitios\n",
    "xenofobia = pd.DataFrame()\n",
    "for pais in paises:\n",
    "    base = pd.read_excel('Base_Pico_Xenofobia_'+pais+'.xlsx')\n",
    "    base['pais'] = pais\n",
    "    #base['Country Code'] = base['Country Code'].fillna(0)\n",
    "    #base['Country Code'] = base['Country Code'].replace(0,base['Country Code'][0])\n",
    "    xenofobia = xenofobia.append(base, ignore_index=True)\n",
    "xenofobia.head(1)"
   ]
  },
  {
   "cell_type": "code",
   "execution_count": 12,
   "id": "e0ff4c21",
   "metadata": {},
   "outputs": [
    {
     "name": "stdout",
     "output_type": "stream",
     "text": [
      "[ 0.  1. nan]\n",
      "[ 0.  1. nan]\n",
      "[ 0.  1. nan]\n",
      "[1.0 0.0 ',' nan]\n",
      "[0. 1.]\n",
      "[0. 1.]\n",
      "[0. 1.]\n",
      "[1. 0.]\n"
     ]
    }
   ],
   "source": [
    "# Validación de columnas\n",
    "print(pd.unique(xenofobia['Llamados a la acción']))\n",
    "print(pd.unique(xenofobia['Sanciones Judiciales']))\n",
    "print(pd.unique(xenofobia['Insultos']))\n",
    "print(pd.unique(xenofobia['No es Xenofobia']))\n",
    "di = {',':0,1:1,0:0,1.0:1,0.0:0}\n",
    "xenofobia['No es Xenofobia'] = xenofobia['No es Xenofobia'].map(di).fillna(0)\n",
    "xenofobia['Insultos'] = xenofobia['Insultos'].map(di).fillna(0)\n",
    "xenofobia['Sanciones Judiciales'] = xenofobia['Sanciones Judiciales'].map(di).fillna(0)\n",
    "xenofobia['Llamados a la acción'] = xenofobia['Llamados a la acción'].map(di).fillna(0)\n",
    "print(pd.unique(xenofobia['Llamados a la acción']))\n",
    "print(pd.unique(xenofobia['Sanciones Judiciales']))\n",
    "print(pd.unique(xenofobia['Insultos']))\n",
    "print(pd.unique(xenofobia['No es Xenofobia']))"
   ]
  },
  {
   "cell_type": "code",
   "execution_count": 15,
   "id": "26ee70b8",
   "metadata": {},
   "outputs": [
    {
     "name": "stderr",
     "output_type": "stream",
     "text": [
      "C:\\Users\\JOSE\\AppData\\Local\\Temp/ipykernel_21052/4091161479.py:2: SettingWithCopyWarning: \n",
      "A value is trying to be set on a copy of a slice from a DataFrame.\n",
      "Try using .loc[row_indexer,col_indexer] = value instead\n",
      "\n",
      "See the caveats in the documentation: https://pandas.pydata.org/pandas-docs/stable/user_guide/indexing.html#returning-a-view-versus-a-copy\n",
      "  xenofobia_limpio['Xenofobia'] = 1\n"
     ]
    },
    {
     "data": {
      "text/html": [
       "<div>\n",
       "<style scoped>\n",
       "    .dataframe tbody tr th:only-of-type {\n",
       "        vertical-align: middle;\n",
       "    }\n",
       "\n",
       "    .dataframe tbody tr th {\n",
       "        vertical-align: top;\n",
       "    }\n",
       "\n",
       "    .dataframe thead th {\n",
       "        text-align: right;\n",
       "    }\n",
       "</style>\n",
       "<table border=\"1\" class=\"dataframe\">\n",
       "  <thead>\n",
       "    <tr style=\"text-align: right;\">\n",
       "      <th></th>\n",
       "      <th>Llamados a la acción</th>\n",
       "      <th>Sanciones Judiciales</th>\n",
       "      <th>Insultos</th>\n",
       "      <th>No es Xenofobia</th>\n",
       "      <th>Impact</th>\n",
       "      <th>Impressions</th>\n",
       "      <th>Xenofobia</th>\n",
       "    </tr>\n",
       "    <tr>\n",
       "      <th>pais</th>\n",
       "      <th></th>\n",
       "      <th></th>\n",
       "      <th></th>\n",
       "      <th></th>\n",
       "      <th></th>\n",
       "      <th></th>\n",
       "      <th></th>\n",
       "    </tr>\n",
       "  </thead>\n",
       "  <tbody>\n",
       "    <tr>\n",
       "      <th>Colombia</th>\n",
       "      <td>51.0</td>\n",
       "      <td>89.0</td>\n",
       "      <td>1074.0</td>\n",
       "      <td>0.0</td>\n",
       "      <td>6901.8</td>\n",
       "      <td>2030720.0</td>\n",
       "      <td>1117</td>\n",
       "    </tr>\n",
       "    <tr>\n",
       "      <th>Ecuador</th>\n",
       "      <td>51.0</td>\n",
       "      <td>20.0</td>\n",
       "      <td>174.0</td>\n",
       "      <td>0.0</td>\n",
       "      <td>781.8</td>\n",
       "      <td>299917.0</td>\n",
       "      <td>178</td>\n",
       "    </tr>\n",
       "    <tr>\n",
       "      <th>Peru</th>\n",
       "      <td>1.0</td>\n",
       "      <td>3.0</td>\n",
       "      <td>31.0</td>\n",
       "      <td>0.0</td>\n",
       "      <td>227.2</td>\n",
       "      <td>25170.0</td>\n",
       "      <td>32</td>\n",
       "    </tr>\n",
       "  </tbody>\n",
       "</table>\n",
       "</div>"
      ],
      "text/plain": [
       "          Llamados a la acción  Sanciones Judiciales  Insultos  \\\n",
       "pais                                                             \n",
       "Colombia                  51.0                  89.0    1074.0   \n",
       "Ecuador                   51.0                  20.0     174.0   \n",
       "Peru                       1.0                   3.0      31.0   \n",
       "\n",
       "          No es Xenofobia  Impact  Impressions  Xenofobia  \n",
       "pais                                                       \n",
       "Colombia              0.0  6901.8    2030720.0       1117  \n",
       "Ecuador               0.0   781.8     299917.0        178  \n",
       "Peru                  0.0   227.2      25170.0         32  "
      ]
     },
     "execution_count": 15,
     "metadata": {},
     "output_type": "execute_result"
    }
   ],
   "source": [
    "xenofobia_limpio = xenofobia[xenofobia['No es Xenofobia'] == 0]\n",
    "xenofobia_limpio['Xenofobia'] = 1\n",
    "xenofobia_limpio = xenofobia_limpio.groupby('pais').sum()\n",
    "xenofobia_limpio"
   ]
  },
  {
   "cell_type": "code",
   "execution_count": 16,
   "id": "71ce180a",
   "metadata": {},
   "outputs": [],
   "source": [
    "xenofobia_limpio.to_excel('picos_xenofobia_limpio.xlsx')"
   ]
  },
  {
   "cell_type": "code",
   "execution_count": null,
   "id": "43083844",
   "metadata": {},
   "outputs": [],
   "source": []
  }
 ],
 "metadata": {
  "kernelspec": {
   "display_name": "Python 3 (ipykernel)",
   "language": "python",
   "name": "python3"
  },
  "language_info": {
   "codemirror_mode": {
    "name": "ipython",
    "version": 3
   },
   "file_extension": ".py",
   "mimetype": "text/x-python",
   "name": "python",
   "nbconvert_exporter": "python",
   "pygments_lexer": "ipython3",
   "version": "3.8.10"
  }
 },
 "nbformat": 4,
 "nbformat_minor": 5
}
