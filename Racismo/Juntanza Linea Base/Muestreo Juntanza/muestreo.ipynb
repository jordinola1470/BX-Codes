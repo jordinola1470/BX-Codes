{
 "cells": [
  {
   "cell_type": "code",
   "execution_count": 71,
   "metadata": {},
   "outputs": [],
   "source": [
    "import pandas as pd\n",
    "import random\n",
    "import scipy.stats\n",
    "\n",
    "from scipy.stats import norm"
   ]
  },
  {
   "cell_type": "code",
   "execution_count": 72,
   "metadata": {},
   "outputs": [],
   "source": [
    "el_espectador    = pd.read_excel('matriz_base.xlsx',header=0,sheet_name='EL_ESPECTADOR')\n",
    "el_universal     = pd.read_excel('matriz_base.xlsx',header=0,sheet_name='EL_UNIVERSAL')\n",
    "semana           = pd.read_excel('matriz_base.xlsx',header=0,sheet_name='SEMANA')\n",
    "caracol_noticias = pd.read_excel('matriz_base.xlsx',header=0,sheet_name='CARACOL_NOTICIAS')\n"
   ]
  },
  {
   "cell_type": "code",
   "execution_count": 73,
   "metadata": {},
   "outputs": [],
   "source": [
    "def muestreo_aleatorio(df):\n",
    "    def calcular_tamano_muestra(poblacion,margen_error=0.03):\n",
    "        z_critical = norm.ppf(1 - (1 - 0.95) / 2)\n",
    "        muestra_representativa = ((z_critical**2) * (0.5**2) * poblacion) / (((margen_error **2)*(poblacion-1)) + ((z_critical**2) * (0.5**2)))\n",
    "        return muestra_representativa\n",
    "    poblacion = df[df.columns[0]].count()\n",
    "    muestra = round(calcular_tamano_muestra(poblacion=poblacion))\n",
    "    df = df.sample(muestra)\n",
    "    return df\n"
   ]
  },
  {
   "cell_type": "code",
   "execution_count": 74,
   "metadata": {},
   "outputs": [],
   "source": [
    "el_espectador,el_universal,semana,caracol_noticias = muestreo_aleatorio(el_espectador),muestreo_aleatorio(el_universal),muestreo_aleatorio(semana),muestreo_aleatorio(caracol_noticias)"
   ]
  },
  {
   "cell_type": "code",
   "execution_count": 75,
   "metadata": {},
   "outputs": [],
   "source": [
    "with pd.ExcelWriter('matriz_juntanza_aleatorizacion.xlsx') as writer:\n",
    "\n",
    "    el_espectador.to_excel(writer,sheet_name='el_espectador_muestra')\n",
    "    el_universal.to_excel(writer,sheet_name='el_universal_muestra')\n",
    "    semana.to_excel(writer,sheet_name='semana_muestra')\n",
    "    caracol_noticias.to_excel(writer,sheet_name='caracol_noticias_muestra')"
   ]
  }
 ],
 "metadata": {
  "kernelspec": {
   "display_name": "Python 3",
   "language": "python",
   "name": "python3"
  },
  "language_info": {
   "codemirror_mode": {
    "name": "ipython",
    "version": 3
   },
   "file_extension": ".py",
   "mimetype": "text/x-python",
   "name": "python",
   "nbconvert_exporter": "python",
   "pygments_lexer": "ipython3",
   "version": "3.9.13"
  },
  "orig_nbformat": 4,
  "vscode": {
   "interpreter": {
    "hash": "40d3a090f54c6569ab1632332b64b2c03c39dcf918b08424e98f38b5ae0af88f"
   }
  }
 },
 "nbformat": 4,
 "nbformat_minor": 2
}
