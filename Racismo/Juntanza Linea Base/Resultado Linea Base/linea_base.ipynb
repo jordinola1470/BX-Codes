{
 "cells": [
  {
   "cell_type": "code",
   "execution_count": 7,
   "metadata": {},
   "outputs": [],
   "source": [
    "import pandas as pd\n",
    "from funciones.funciones import Data_Processing\n"
   ]
  },
  {
   "cell_type": "code",
   "execution_count": 2,
   "metadata": {},
   "outputs": [
    {
     "name": "stdout",
     "output_type": "stream",
     "text": [
      "lista medios\n",
      " ['Radio Nacional de Colombia', 'El Espectador', 'Noticias Caracol', 'Caracol TV', 'El Espectador ', 'Revista Semana', 'El Universal', 'Publimetro', 'Fundación Gabo', 'Caracol Televisión', 'Noticias Caracol ', 'Portafolio', 'Revista Fucsia', 'Banco de Bogotá', 'Caracol Noticias', 'Corferias', 'Colprensa', 'Revista Cromos', 'Revista Semana ', 'Revista Bocas', 'Filbo', 'El Tiempo', 'Forbes ', 'RTVC Noticias', 'Caracol Ahora', 'Radiónica ']\n",
      "\n",
      "tamaño base original\n",
      " (1482, 36)\n",
      "\n",
      "validacion_datos Nombre de agente\n",
      "False    1482\n",
      "Name: count, dtype: int64\n"
     ]
    }
   ],
   "source": [
    "\n",
    "archivo = 'matriz_juntanza.xlsx' \n",
    "hoja    = 'Base de datos'\n",
    "\n",
    "data = Data_Processing(archivo,hoja)\n",
    "matriz = data.matriz_base()"
   ]
  },
  {
   "cell_type": "code",
   "execution_count": 8,
   "metadata": {},
   "outputs": [
    {
     "ename": "AttributeError",
     "evalue": "'Data_Processing' object has no attribute 'linea_base'",
     "output_type": "error",
     "traceback": [
      "\u001b[0;31m---------------------------------------------------------------------------\u001b[0m",
      "\u001b[0;31mAttributeError\u001b[0m                            Traceback (most recent call last)",
      "Cell \u001b[0;32mIn[8], line 3\u001b[0m\n\u001b[1;32m      1\u001b[0m \u001b[39m#LINEA BASE\u001b[39;00m\n\u001b[0;32m----> 3\u001b[0m matriz_fecha \u001b[39m=\u001b[39m data\u001b[39m.\u001b[39;49mlinea_base(matriz,\u001b[39m'\u001b[39m\u001b[39m01-08-2022\u001b[39m\u001b[39m'\u001b[39m,\u001b[39m'\u001b[39m\u001b[39m31-01-2023\u001b[39m\u001b[39m'\u001b[39m)\n\u001b[1;32m      4\u001b[0m matriz_fecha\n",
      "\u001b[0;31mAttributeError\u001b[0m: 'Data_Processing' object has no attribute 'linea_base'"
     ]
    }
   ],
   "source": [
    "#LINEA BASE\n",
    "\n",
    "matriz_fecha = data.linea_base(matriz,'01-08-2022','31-01-2023')\n",
    "matriz_fecha"
   ]
  },
  {
   "cell_type": "code",
   "execution_count": 5,
   "metadata": {},
   "outputs": [
    {
     "data": {
      "text/plain": [
       "0      2022-05-20\n",
       "1      2022-06-11\n",
       "2      2022-06-26\n",
       "3      2022-07-19\n",
       "4      2022-08-06\n",
       "          ...    \n",
       "2019   2023-05-07\n",
       "2020   2022-08-22\n",
       "2021   2022-08-29\n",
       "2022   2022-12-20\n",
       "2023   2022-12-19\n",
       "Name: FECHA, Length: 1482, dtype: datetime64[ns]"
      ]
     },
     "execution_count": 5,
     "metadata": {},
     "output_type": "execute_result"
    }
   ],
   "source": [
    "matriz['FECHA']"
   ]
  }
 ],
 "metadata": {
  "kernelspec": {
   "display_name": "Python 3",
   "language": "python",
   "name": "python3"
  },
  "language_info": {
   "codemirror_mode": {
    "name": "ipython",
    "version": 3
   },
   "file_extension": ".py",
   "mimetype": "text/x-python",
   "name": "python",
   "nbconvert_exporter": "python",
   "pygments_lexer": "ipython3",
   "version": "3.11.5"
  },
  "orig_nbformat": 4,
  "vscode": {
   "interpreter": {
    "hash": "aee8b7b246df8f9039afb4144a1f6fd8d2ca17a180786b69acc140d282b71a49"
   }
  }
 },
 "nbformat": 4,
 "nbformat_minor": 2
}
