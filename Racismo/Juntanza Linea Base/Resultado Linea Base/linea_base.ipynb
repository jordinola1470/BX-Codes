{
 "cells": [
  {
   "cell_type": "code",
   "execution_count": 1,
   "metadata": {},
   "outputs": [],
   "source": [
    "import pandas as pd\n",
    "from funciones.funciones import Data_Processing\n"
   ]
  },
  {
   "cell_type": "code",
   "execution_count": 2,
   "metadata": {},
   "outputs": [
    {
     "name": "stdout",
     "output_type": "stream",
     "text": [
      "lista medios\n",
      " ['Radio Nacional de Colombia', 'El Espectador', 'Noticias Caracol', 'Caracol TV', 'El Espectador ', 'Revista Semana', 'El Universal', 'Publimetro', 'Fundación Gabo', 'Caracol Televisión', 'Noticias Caracol ', 'Portafolio', 'Revista Fucsia', 'Banco de Bogotá', 'Caracol Noticias', 'Corferias', 'Colprensa', 'Revista Cromos', 'Revista Semana ', 'Revista Bocas', 'Filbo', 'El Tiempo', 'Forbes ', 'RTVC Noticias', 'Caracol Ahora', 'Radiónica ']\n",
      "\n",
      "tamaño base original\n",
      " (1482, 36)\n",
      "\n",
      "validacion_datos Nombre de agente\n",
      "False    1482\n",
      "Name: count, dtype: int64\n"
     ]
    }
   ],
   "source": [
    "\n",
    "archivo = 'matriz_juntanza.xlsx' \n",
    "hoja    = 'Base de datos'\n",
    "\n",
    "data = Data_Processing(archivo,hoja)\n",
    "matriz = data.matriz_base()"
   ]
  },
  {
   "cell_type": "code",
   "execution_count": 4,
   "metadata": {},
   "outputs": [
    {
     "data": {
      "text/plain": [
       "Index(['Código único de identificación', 'Nombre de agente', 'Tipo de Agente',\n",
       "       'Fecha de la pieza comunicativa (dd/mm/aaaa)',\n",
       "       'Localización de la pieza en el medio o plataforma: página o horario (formato 24 horas)',\n",
       "       'Medio de captura', 'Titular', 'Link',\n",
       "       'Sección del medio en la que se ubica la pieza comunicativa',\n",
       "       'Tipo de pieza comunicativa', 'Reach (alcance)',\n",
       "       'Se identifican múltiples temáticas el mapa semántico en la pieza',\n",
       "       'Temáticas del mapa semántico identificadas', 'Tematicas seleccionadas',\n",
       "       'Mapa semántico deseado',\n",
       "       'Cantidad de estereotipos discriminatorios raciales en el título de la pieza',\n",
       "       'Descripción de los estereotipos raciales en el titular de la pieza',\n",
       "       'Estereotipos para discriminar en el título o titular',\n",
       "       'Cantidad de estereotipos raciales en el cuerpo de la pieza',\n",
       "       'Descripción de los estereotipos raciales en el cuerpo de la pieza',\n",
       "       'Estereotipos para discriminar en el cuerpo de la pieza comunic.',\n",
       "       'Descripción de la posición del autor/a de la pieza (identificación de relaciones de tensión, similitud, complementariedad o contradicción)',\n",
       "       'Posición autor/a justifica, apoya, induce a la discriminación o es un discurso de odio',\n",
       "       'Cantidad de citas o referencias de personas étnicas favorables al mapa semántico',\n",
       "       'Descripción de la inclusión de puntos de vista étnico favorable al mapa semántico',\n",
       "       'Inclusión de voces y puntos de vista de personas con origen étnico favorables al mapa semántico',\n",
       "       'Cantidad de citas o referencias de expertos o fuentes legítimas favorables al mapa semántico',\n",
       "       'Descripción de la inclusión de expertos o fuentes legítimas favorables al mapa semántico',\n",
       "       'Expertos o fuentes legítimas', 'Observaciones',\n",
       "       'Fecha de la marcación (dd/mm/aaaa)', 'Responsable', 'FECHA', 'Year',\n",
       "       'Month', 'Day'],\n",
       "      dtype='object')"
      ]
     },
     "execution_count": 4,
     "metadata": {},
     "output_type": "execute_result"
    }
   ],
   "source": [
    "matriz.columns"
   ]
  }
 ],
 "metadata": {
  "kernelspec": {
   "display_name": "Python 3",
   "language": "python",
   "name": "python3"
  },
  "language_info": {
   "codemirror_mode": {
    "name": "ipython",
    "version": 3
   },
   "file_extension": ".py",
   "mimetype": "text/x-python",
   "name": "python",
   "nbconvert_exporter": "python",
   "pygments_lexer": "ipython3",
   "version": "3.11.5"
  },
  "orig_nbformat": 4,
  "vscode": {
   "interpreter": {
    "hash": "aee8b7b246df8f9039afb4144a1f6fd8d2ca17a180786b69acc140d282b71a49"
   }
  }
 },
 "nbformat": 4,
 "nbformat_minor": 2
}
