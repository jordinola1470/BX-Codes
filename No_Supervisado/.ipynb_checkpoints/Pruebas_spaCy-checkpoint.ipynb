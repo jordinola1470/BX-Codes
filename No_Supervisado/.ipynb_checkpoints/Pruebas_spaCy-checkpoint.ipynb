{
 "cells": [
  {
   "cell_type": "markdown",
   "metadata": {
    "colab_type": "text",
    "id": "view-in-github"
   },
   "source": [
    "<a href=\"https://colab.research.google.com/github/terrok9/BX/blob/main/Pruebas_spaCy.ipynb\" target=\"_parent\"><img src=\"https://colab.research.google.com/assets/colab-badge.svg\" alt=\"Open In Colab\"/></a>"
   ]
  },
  {
   "cell_type": "code",
   "execution_count": null,
   "metadata": {
    "id": "GAJedNUTCmZj"
   },
   "outputs": [],
   "source": [
    "# Análisis no supervisado, espacio de trabajo\n",
    "# Instalación de programación acelerada por GPU\n",
    "!pip install -U pip setuptools wheel\n",
    "!pip install -U spacy[cuda110,transformers,lookups]\n",
    "!python -m spacy download es_core_news_sm\n",
    "!pip install torch===1.7.1+cu110 torchvision===0.8.2+cu110 torchaudio===0.7.2 -f https://download.pytorch.org/whl/torch_stable.html --user\n",
    "!pip install cupy-cuda110\n",
    "!pip install thinc-gpu-ops"
   ]
  },
  {
   "cell_type": "code",
   "execution_count": 36,
   "metadata": {
    "id": "gfkiOYV1CpWz"
   },
   "outputs": [],
   "source": [
    "import spacy\n",
    "import pandas as pd\n",
    "import requests\n",
    "import io\n",
    "from spacy.matcher import Matcher"
   ]
  },
  {
   "cell_type": "code",
   "execution_count": 3,
   "metadata": {
    "id": "6hZIy3m1Cu6W"
   },
   "outputs": [],
   "source": [
    "username = 'diegobermu7'\n",
    "token = 'f27e201806532f825d8327ca2ea52a34d44fb60e'\n",
    "github_session = requests.Session()\n",
    "github_session.auth = (username, token)"
   ]
  },
  {
   "cell_type": "code",
   "execution_count": 70,
   "metadata": {
    "colab": {
     "base_uri": "https://localhost:8080/",
     "height": 221
    },
    "id": "DjCiEJUbCva4",
    "outputId": "e8c009a7-a410-43e8-a172-105ad5c4c0ab"
   },
   "outputs": [
    {
     "data": {
      "text/html": [
       "<div>\n",
       "<style scoped>\n",
       "    .dataframe tbody tr th:only-of-type {\n",
       "        vertical-align: middle;\n",
       "    }\n",
       "\n",
       "    .dataframe tbody tr th {\n",
       "        vertical-align: top;\n",
       "    }\n",
       "\n",
       "    .dataframe thead th {\n",
       "        text-align: right;\n",
       "    }\n",
       "</style>\n",
       "<table border=\"1\" class=\"dataframe\">\n",
       "  <thead>\n",
       "    <tr style=\"text-align: right;\">\n",
       "      <th></th>\n",
       "      <th>ID</th>\n",
       "      <th>Snippet</th>\n",
       "      <th>Victima</th>\n",
       "      <th>Victimario</th>\n",
       "      <th>Xenofobia</th>\n",
       "      <th>Denuncia</th>\n",
       "      <th>Positiva</th>\n",
       "      <th>Clean_Text</th>\n",
       "    </tr>\n",
       "  </thead>\n",
       "  <tbody>\n",
       "    <tr>\n",
       "      <th>0</th>\n",
       "      <td>215099</td>\n",
       "      <td>@Bogota Con esa mano de ñeros colombianos y ve...</td>\n",
       "      <td>NaN</td>\n",
       "      <td>NaN</td>\n",
       "      <td>NaN</td>\n",
       "      <td>NaN</td>\n",
       "      <td>NaN</td>\n",
       "      <td>Con esa mano de neros colombianos y venecos qu...</td>\n",
       "    </tr>\n",
       "    <tr>\n",
       "      <th>1</th>\n",
       "      <td>215100</td>\n",
       "      <td>@RamiroLujanG @jsanchezcristo UD es venezolano...</td>\n",
       "      <td>NaN</td>\n",
       "      <td>NaN</td>\n",
       "      <td>NaN</td>\n",
       "      <td>NaN</td>\n",
       "      <td>NaN</td>\n",
       "      <td>UD es venezolano No sea metido</td>\n",
       "    </tr>\n",
       "    <tr>\n",
       "      <th>2</th>\n",
       "      <td>215101</td>\n",
       "      <td>@_El__Patriota_ Tengo 6 excelentes trabajadore...</td>\n",
       "      <td>NaN</td>\n",
       "      <td>NaN</td>\n",
       "      <td>NaN</td>\n",
       "      <td>NaN</td>\n",
       "      <td>NaN</td>\n",
       "      <td>Tengo 6 excelentes trabajadores Venezolanos A ...</td>\n",
       "    </tr>\n",
       "    <tr>\n",
       "      <th>3</th>\n",
       "      <td>215102</td>\n",
       "      <td>@rodolfaso3 @_El__Patriota_ Tu y yo conocemos ...</td>\n",
       "      <td>NaN</td>\n",
       "      <td>NaN</td>\n",
       "      <td>NaN</td>\n",
       "      <td>NaN</td>\n",
       "      <td>NaN</td>\n",
       "      <td>Tu y yo conocemos bien el tema Asi es Colombia...</td>\n",
       "    </tr>\n",
       "    <tr>\n",
       "      <th>4</th>\n",
       "      <td>215103</td>\n",
       "      <td>@IsaacMadriid @VezNancy @_El__Patriota_ Es que...</td>\n",
       "      <td>NaN</td>\n",
       "      <td>NaN</td>\n",
       "      <td>NaN</td>\n",
       "      <td>NaN</td>\n",
       "      <td>NaN</td>\n",
       "      <td>Es que Venezuela debio en su momento meterlos ...</td>\n",
       "    </tr>\n",
       "  </tbody>\n",
       "</table>\n",
       "</div>"
      ],
      "text/plain": [
       "       ID  ...                                         Clean_Text\n",
       "0  215099  ...  Con esa mano de neros colombianos y venecos qu...\n",
       "1  215100  ...                     UD es venezolano No sea metido\n",
       "2  215101  ...  Tengo 6 excelentes trabajadores Venezolanos A ...\n",
       "3  215102  ...  Tu y yo conocemos bien el tema Asi es Colombia...\n",
       "4  215103  ...  Es que Venezuela debio en su momento meterlos ...\n",
       "\n",
       "[5 rows x 8 columns]"
      ]
     },
     "execution_count": 70,
     "metadata": {
      "tags": []
     },
     "output_type": "execute_result"
    }
   ],
   "source": [
    "# Reading the downloaded content and making it a pandas dataframe\n",
    "url = \"https://github.com/terrok9/BX/blob/main/No_Supervisado/estudiante_14.xlsx?raw=true\" # Make sure the url is the raw version of the file on GitHub\n",
    "df = pd.read_excel(url)\n",
    "#Eliminamos todos los @Usuario (i.e. @ClaudiaLopez)\n",
    "df['Clean_Text']=df['Snippet'].replace('@\\\\w+', '', regex=True)\n",
    "#Eliminamos todos los hashtags\n",
    "df['Clean_Text']=df['Clean_Text'].replace('#\\\\w+', '', regex=True)\n",
    "#Eliminamos los URL: Todo lo que empieza por \n",
    "df['Clean_Text']=df['Clean_Text'].replace(r\"http\\S+\", '', regex=True)\n",
    "#Eliminamos todos los signos de puntuación\n",
    "df['Clean_Text']=df['Clean_Text'].replace(r'[^\\w\\s]+', ' ', regex=True)\n",
    "#Eliminamos los asentos de las letras\n",
    "df['Clean_Text']=df['Clean_Text'].str.normalize('NFKD')\\\n",
    "        .str.encode('ascii', errors='ignore')\\\n",
    "        .str.decode('utf-8')\n",
    "#Eliminamos los dobles espacios\n",
    "df['Clean_Text']=df['Clean_Text'].replace('\\s+', ' ', regex=True).str.strip()\n",
    "#Eliminamos las filas que sean RT\n",
    "df=df[~df.Snippet.str.startswith('RT')].reset_index(drop=True)\n",
    "#Eliminamos las letras repetivas dentro de las palabras\n",
    "df['Clean_Text']=df['Clean_Text'].replace(r'(.)\\1+', r'\\1\\1', regex=True)\n",
    "\n",
    "\n",
    "df.head()"
   ]
  },
  {
   "cell_type": "code",
   "execution_count": 71,
   "metadata": {
    "colab": {
     "base_uri": "https://localhost:8080/"
    },
    "id": "qTcn3QFHC1zA",
    "outputId": "4a7fce38-0e1c-435c-f1b3-bab8cb26af8f"
   },
   "outputs": [
    {
     "data": {
      "text/plain": [
       "['UD es venezolano No sea metido',\n",
       " 'Tengo 6 excelentes trabajadores Venezolanos A los malos que se los lleven y encarcelan al que la cague Sea de donde sea',\n",
       " 'Tu y yo conocemos bien el tema Asi es Colombiano siempre con competencias xra el trabajo y no se fueron en un viaje de 2 anos fueron 40 anos para construir lo mejor de Vzla Venezolano siempre fue burocrata',\n",
       " 'Es que Venezuela debio en su momento meterlos a la carcel deportarlos a todos los bandidos que fueron a danarles el pais Es lo mismo que pido en estos momentos a los venezolanos que vienen a hacer lo mismo aca Los hijos a que te refieres los he visto que vienen a trabajar']"
      ]
     },
     "execution_count": 71,
     "metadata": {
      "tags": []
     },
     "output_type": "execute_result"
    }
   ],
   "source": [
    "text_list=df.Clean_Text.to_list()\n",
    "text_list[1:5]"
   ]
  },
  {
   "cell_type": "code",
   "execution_count": 72,
   "metadata": {
    "colab": {
     "base_uri": "https://localhost:8080/"
    },
    "id": "Wn3Vzye5DeQp",
    "outputId": "5788cf10-0d24-4d53-c2f2-61911cf15d7d"
   },
   "outputs": [
    {
     "name": "stdout",
     "output_type": "stream",
     "text": [
      "['tok2vec', 'morphologizer', 'parser', 'ner', 'attribute_ruler', 'lemmatizer']\n"
     ]
    }
   ],
   "source": [
    "# Le decimos a spaCy que vamos con toda\n",
    "spacy.prefer_gpu\n",
    "# Corremos los datos en el core de español\n",
    "nlp = spacy.load(\"es_core_news_sm\")\n",
    "#Vemos cuales son los componentes del pipeline\n",
    "print(nlp.pipe_names)\n",
    "#Aplicamos el pipe a cada objeto de nuestra lista de tweets\n",
    "docs = list(nlp.pipe(text_list))"
   ]
  },
  {
   "cell_type": "code",
   "execution_count": 73,
   "metadata": {
    "colab": {
     "base_uri": "https://localhost:8080/"
    },
    "id": "6rRc5-6-E1Fa",
    "outputId": "8baa33aa-2aa3-45eb-dafe-cbfcb5149c7b"
   },
   "outputs": [
    {
     "name": "stdout",
     "output_type": "stream",
     "text": [
      "[('UD', 'PROPN', 'nsubj'), ('es', 'AUX', 'cop'), ('venezolano', 'ADJ', 'ROOT'), ('No', 'ADV', 'advmod'), ('sea', 'AUX', 'aux'), ('metido', 'VERB', 'punct')]\n",
      "[('Tengo', 'VERB', 'ROOT'), ('6', 'NUM', 'nummod'), ('excelentes', 'ADJ', 'amod'), ('trabajadores', 'NOUN', 'obj'), ('Venezolanos', 'ADJ', 'amod'), ('A', 'ADP', 'case'), ('los', 'DET', 'det'), ('malos', 'ADJ', 'amod'), ('que', 'PRON', 'nsubj'), ('se', 'PRON', 'iobj'), ('los', 'PRON', 'obj'), ('lleven', 'VERB', 'appos'), ('y', 'CCONJ', 'cc'), ('encarcelan', 'VERB', 'conj'), ('al', 'ADP', 'case'), ('que', 'PRON', 'iobj'), ('la', 'DET', 'det'), ('cague', 'NOUN', 'nsubj'), ('Sea', 'AUX', 'ccomp'), ('de', 'ADP', 'case'), ('donde', 'PRON', 'ccomp'), ('sea', 'AUX', 'ROOT')]\n",
      "[('Tu', 'DET', 'nsubj'), ('y', 'CCONJ', 'cc'), ('yo', 'PRON', 'nsubj'), ('conocemos', 'VERB', 'ROOT'), ('bien', 'ADV', 'advmod'), ('el', 'DET', 'det'), ('tema', 'NOUN', 'nsubj'), ('Asi', 'PROPN', 'appos'), ('es', 'AUX', 'cop'), ('Colombiano', 'PROPN', 'ccomp'), ('siempre', 'ADV', 'advmod'), ('con', 'ADP', 'case'), ('competencias', 'NOUN', 'nmod'), ('xra', 'VERB', 'advmod'), ('el', 'DET', 'det'), ('trabajo', 'NOUN', 'obj'), ('y', 'CCONJ', 'cc'), ('no', 'ADV', 'advmod'), ('se', 'PRON', 'obj'), ('fueron', 'VERB', 'conj'), ('en', 'ADP', 'case'), ('un', 'DET', 'det'), ('viaje', 'NOUN', 'obl'), ('de', 'ADP', 'case'), ('2', 'NUM', 'nummod'), ('anos', 'ADJ', 'nmod'), ('fueron', 'AUX', 'cop'), ('40', 'NUM', 'nummod'), ('anos', 'NOUN', 'obj'), ('para', 'ADP', 'mark'), ('construir', 'VERB', 'acl'), ('lo', 'PRON', 'det'), ('mejor', 'ADJ', 'obj'), ('de', 'ADP', 'case'), ('Vzla', 'PROPN', 'nmod'), ('Venezolano', 'PROPN', 'flat'), ('siempre', 'ADV', 'advmod'), ('fue', 'AUX', 'advcl'), ('burocrata', 'VERB', 'ROOT')]\n",
      "[('Es', 'AUX', 'ROOT'), ('que', 'SCONJ', 'mark'), ('Venezuela', 'PROPN', 'nsubj'), ('debio', 'VERB', 'ccomp'), ('en', 'ADP', 'case'), ('su', 'DET', 'det'), ('momento', 'NOUN', 'obl'), ('meterlos', 'ADJ', 'amod'), ('a', 'ADP', 'case'), ('la', 'DET', 'det'), ('carcel', 'NOUN', 'nmod'), ('deportarlos', 'VERB', 'xcomp'), ('a', 'ADP', 'case'), ('todos', 'DET', 'det'), ('los', 'DET', 'det'), ('bandidos', 'NOUN', 'obj'), ('que', 'PRON', 'nsubj'), ('fueron', 'AUX', 'aux'), ('a', 'ADP', 'mark'), ('danarles', 'ADJ', 'acl'), ('el', 'DET', 'det'), ('pais', 'NOUN', 'nsubj'), ('Es', 'AUX', 'cop'), ('lo', 'PRON', 'det'), ('mismo', 'PRON', 'fixed'), ('que', 'PRON', 'obj'), ('pido', 'VERB', 'ccomp'), ('en', 'ADP', 'case'), ('estos', 'DET', 'det'), ('momentos', 'NOUN', 'obl'), ('a', 'ADP', 'case'), ('los', 'DET', 'det'), ('venezolanos', 'NOUN', 'obj'), ('que', 'PRON', 'nsubj'), ('vienen', 'VERB', 'acl'), ('a', 'ADP', 'mark'), ('hacer', 'VERB', 'xcomp'), ('lo', 'PRON', 'det'), ('mismo', 'PRON', 'det'), ('aca', 'VERB', 'obj'), ('Los', 'DET', 'det'), ('hijos', 'NOUN', 'obj'), ('a', 'ADP', 'mark'), ('que', 'SCONJ', 'mark'), ('te', 'PRON', 'obj'), ('refieres', 'NOUN', 'acl'), ('los', 'PRON', 'obj'), ('he', 'AUX', 'aux'), ('visto', 'VERB', 'ccomp'), ('que', 'SCONJ', 'mark'), ('vienen', 'VERB', 'xcomp'), ('a', 'ADP', 'mark'), ('trabajar', 'VERB', 'advcl')]\n",
      "[('En', 'ADP', 'case'), ('tanta', 'DET', 'det'), ('desesperacion', 'NOUN', 'obl'), ('se', 'PRON', 'obj'), ('Atreveran', 'VERB', 'ROOT'), ('los', 'DET', 'det'), ('narcos', 'NOUN', 'nsubj'), ('VENEZOLANOS', 'VERB', 'advcl'), ('a', 'ADP', 'mark'), ('lanzar', 'VERB', 'xcomp'), ('un', 'DET', 'det'), ('ataque', 'NOUN', 'obj'), ('Dicen', 'PROPN', 'appos'), ('q', 'CCONJ', 'cc'), ('tienen', 'VERB', 'conj'), ('misiles', 'NOUN', 'obj')]\n",
      "[('Soberano', 'PROPN', 'nsubj'), ('Y', 'CCONJ', 'flat'), ('los', 'DET', 'det'), ('venezolanos', 'NOUN', 'appos'), ('que', 'PRON', 'nsubj'), ('deambulan', 'VERB', 'acl'), ('sin', 'ADP', 'case'), ('patria', 'NOUN', 'obl'), ('son', 'AUX', 'cop'), ('soberanos', 'ADJ', 'ROOT'), ('Soberano', 'PROPN', 'nmod'), ('violador', 'ADJ', 'amod')]\n",
      "[('Honorable', 'PROPN', 'nsubj'), ('Amigo', 'PROPN', 'flat'), ('si', 'SCONJ', 'mark'), ('has', 'AUX', 'aux'), ('leido', 'VERB', 'acl'), ('la', 'DET', 'det'), ('novela', 'NOUN', 'obj'), ('Los', 'DET', 'det'), ('Miserables', 'PROPN', 'appos'), ('te', 'PRON', 'obj'), ('pido', 'VERB', 'csubj'), ('ten', 'VERB', 'obj'), ('cuidado', 'ADJ', 'obj'), ('con', 'ADP', 'case'), ('esos', 'DET', 'det'), ('miserables', 'NOUN', 'amod'), ('Venezolanos', 'PROPN', 'obj'), ('porq', 'VERB', 'advcl'), ('lo', 'PRON', 'det'), ('de', 'ADP', 'case'), ('ellos', 'PRON', 'nsubj'), ('no', 'ADV', 'advmod'), ('es', 'AUX', 'cop'), ('de', 'ADP', 'case'), ('hambre', 'NOUN', 'conj'), ('es', 'AUX', 'cop'), ('animadversion', 'NOUN', 'ROOT'), ('contra', 'ADP', 'case'), ('Colombia', 'PROPN', 'nmod'), ('mientras', 'SCONJ', 'mark'), ('de', 'ADP', 'case'), ('fondo', 'NOUN', 'obl'), ('aman', 'VERB', 'advcl'), ('a', 'ADP', 'case'), ('su', 'DET', 'det'), ('dictador', 'NOUN', 'obj'), ('Que', 'SCONJ', 'mark'), ('no', 'ADV', 'advmod'), ('te', 'PRON', 'obj'), ('enganen', 'VERB', 'advcl'), ('Por', 'ADP', 'case'), ('ello', 'PRON', 'obl'), ('prefiero', 'VERB', 'advcl'), ('a', 'ADP', 'case'), ('mi', 'DET', 'det'), ('perro', 'NOUN', 'obl'), ('OSCR', 'PROPN', 'flat'), ('SANTODOMINGO', 'ADV', 'advmod')]\n",
      "[('sr', 'AUX', 'ROOT'), ('presidente', 'NOUN', 'obj'), ('si', 'SCONJ', 'mark'), ('no', 'ADV', 'advmod'), ('somos', 'AUX', 'cop'), ('capaces', 'ADJ', 'advcl'), ('de', 'ADP', 'mark'), ('controlar', 'VERB', 'acl'), ('a', 'ADP', 'case'), ('los', 'DET', 'det'), ('honorables', 'ADJ', 'amod'), ('hermanos', 'NOUN', 'obj'), ('venezolanos', 'ADJ', 'amod'), ('que', 'PRON', 'nsubj'), ('nos', 'PRON', 'obj'), ('tiene', 'VERB', 'acl'), ('jodidos', 'NOUN', 'obj'), ('el', 'DET', 'det'), ('pais', 'NOUN', 'obj'), ('con', 'ADP', 'case'), ('la', 'DET', 'det'), ('seguridad', 'NOUN', 'nmod'), ('la', 'DET', 'det'), ('salud', 'NOUN', 'appos'), ('y', 'CCONJ', 'cc'), ('el', 'DET', 'det'), ('desempleo', 'NOUN', 'conj'), ('acaparando', 'VERB', 'advcl'), ('todo', 'DET', 'det'), ('lo', 'PRON', 'det'), ('que', 'PRON', 'nsubj'), ('es', 'AUX', 'cop'), ('de', 'ADP', 'case'), ('nosotros', 'PRON', 'ccomp'), ('los', 'DET', 'det'), ('colombianos', 'NOUN', 'obj'), ('imaginese', 'VERB', 'xcomp'), ('usted', 'PRON', 'obj'), ('con', 'ADP', 'case'), ('10', 'NUM', 'nummod'), ('mil', 'NUM', 'nummod'), ('delincuentes', 'NOUN', 'obl'), ('mas', 'ADV', 'advmod'), ('en', 'ADP', 'case'), ('la', 'DET', 'det'), ('calle', 'NOUN', 'nmod')]\n",
      "[('Contagiado', 'ADJ', 'nsubj'), ('con', 'ADP', 'case'), ('COVID', 'PROPN', 'obl'), ('19', 'NUM', 'nummod'), ('sigue', 'VERB', 'ROOT'), ('entre', 'ADP', 'case'), ('los', 'DET', 'det'), ('Yukpa', 'PROPN', 'obl'), ('sin', 'ADP', 'mark'), ('ser', 'AUX', 'aux'), ('aislado', 'ADJ', 'advcl'), ('El', 'DET', 'det'), ('portador', 'NOUN', 'nsubj'), ('del', 'ADP', 'case'), ('virus', 'NOUN', 'nmod'), ('que', 'PRON', 'nsubj'), ('no', 'ADV', 'advmod'), ('hace', 'VERB', 'acl'), ('parte', 'NOUN', 'compound'), ('de', 'ADP', 'case'), ('la', 'DET', 'det'), ('etnia', 'NOUN', 'obj'), ('indigena', 'ADJ', 'amod'), ('venezolana', 'ADJ', 'amod'), ('tiene', 'VERB', 'conj'), ('contacto', 'NOUN', 'obj'), ('con', 'ADP', 'case'), ('todos', 'PRON', 'obj'), ('en', 'ADP', 'case'), ('el', 'DET', 'det'), ('campamento', 'NOUN', 'obl'), ('en', 'ADP', 'case'), ('El', 'DET', 'det'), ('Escobal', 'PROPN', 'nmod')]\n",
      "[('Usted', 'PROPN', 'nsubj'), ('da', 'VERB', 'ROOT'), ('la', 'DET', 'det'), ('razon', 'NOUN', 'obj'), ('usted', 'PRON', 'obj'), ('es', 'AUX', 'cop'), ('un', 'DET', 'det'), ('Pobre', 'ADJ', 'conj'), ('mental', 'ADJ', 'amod'), ('resentido', 'ADJ', 'amod'), ('social', 'ADJ', 'amod'), ('que', 'PRON', 'nsubj'), ('cree', 'VERB', 'acl'), ('q', 'SCONJ', 'cc'), ('los', 'DET', 'det'), ('politicos', 'NOUN', 'obj'), ('que', 'PRON', 'obj'), ('usted', 'PRON', 'nsubj'), ('idolatra', 'VERB', 'csubj'), ('son', 'AUX', 'cop'), ('su', 'DET', 'det'), ('salvacion', 'NOUN', 'ccomp'), ('y', 'CCONJ', 'cc'), ('no', 'ADV', 'advmod'), ('se', 'PRON', 'obj'), ('da', 'ADP', 'conj'), ('cuenta', 'NOUN', 'compound'), ('q', 'CCONJ', 'cc'), ('ellos', 'PRON', 'nsubj'), ('son', 'AUX', 'cop'), ('el', 'DET', 'det'), ('reflejo', 'NOUN', 'csubj'), ('de', 'ADP', 'case'), ('los', 'DET', 'det'), ('vecinos', 'NOUN', 'nmod'), ('venezolanos', 'ADJ', 'amod')]\n",
      "[('Pinches', 'PROPN', 'nsubj'), ('que', 'PRON', 'nsubj'), ('creen', 'VERB', 'acl'), ('que', 'SCONJ', 'mark'), ('la', 'DET', 'det'), ('crisis', 'NOUN', 'nsubj'), ('de', 'ADP', 'case'), ('su', 'DET', 'det'), ('pais', 'NOUN', 'nmod'), ('se', 'PRON', 'obj'), ('debe', 'VERB', 'ccomp'), ('a', 'ADP', 'case'), ('La', 'DET', 'det'), ('crisis', 'NOUN', 'obj'), ('economica', 'ADJ', 'amod'), ('es', 'AUX', 'cop'), ('un', 'DET', 'det'), ('fenomeno', 'NOUN', 'conj'), ('mundial', 'ADJ', 'amod'), ('de', 'ADP', 'case'), ('la', 'DET', 'det'), ('globalizacion', 'NOUN', 'nmod'), ('regular', 'ADJ', 'amod'), ('mercados', 'NOUN', 'amod'), ('controlar', 'VERB', 'xcomp'), ('gobiernos', 'NOUN', 'obj'), ('establecer', 'VERB', 'xcomp'), ('politicas', 'NOUN', 'obj'), ('mundiales', 'ADJ', 'amod'), ('y', 'CCONJ', 'cc'), ('sobre', 'ADP', 'advmod'), ('todo', 'PRON', 'fixed'), ('controlar', 'VERB', 'conj'), ('la', 'DET', 'det'), ('opinion', 'NOUN', 'obj'), ('publica', 'VERB', 'ROOT')]\n",
      "[('Pues', 'SCONJ', 'mark'), ('si', 'SCONJ', 'mark'), ('todo', 'PRON', 'nsubj'), ('es', 'AUX', 'ROOT'), ('para', 'ADP', 'mark'), ('que', 'SCONJ', 'mark'), ('se', 'PRON', 'obj'), ('vallan', 'VERB', 'ccomp'), ('esa', 'DET', 'det'), ('manada', 'NOUN', 'obj'), ('de', 'ADP', 'case'), ('venecos', 'NOUN', 'nmod'), ('HEDIONDOS', 'ADJ', 'amod'), ('de', 'ADP', 'case'), ('Colombia', 'PROPN', 'nmod'), ('adelante', 'ADV', 'punct')]\n",
      "[('comediante', 'ADV', 'advmod'), ('Yedinson', 'PROPN', 'ROOT'), ('Ned', 'PROPN', 'flat'), ('Florez', 'PROPN', 'flat'), ('Duart', 'PROPN', 'flat'), ('Por', 'ADP', 'case'), ('medio', 'NOUN', 'fixed'), ('de', 'ADP', 'fixed'), ('su', 'DET', 'det'), ('cuenta', 'NOUN', 'obl'), ('de', 'ADP', 'case'), ('Instagram', 'PROPN', 'nmod'), ('la', 'DET', 'det'), ('venezolana', 'NOUN', 'nsubj'), ('Shannon', 'PROPN', 'appos'), ('de', 'ADP', 'case'), ('Lima', 'PROPN', 'flat'), ('dio', 'VERB', 'ROOT'), ('a', 'ADP', 'case'), ('conocer', 'NOUN', 'compound'), ('como', 'SCONJ', 'mark'), ('piensa', 'VERB', 'obl'), ('ayudar', 'VERB', 'xcomp'), ('a', 'ADP', 'case'), ('los', 'DET', 'det'), ('colombianos', 'NOUN', 'obj'), ('Por', 'ADP', 'case'), ('medio', 'NOUN', 'fixed'), ('de', 'ADP', 'fixed'), ('una', 'DET', 'det'), ('transmision', 'NOUN', 'obl'), ('en', 'ADP', 'case'), ('vivo', 'NOUN', 'nmod'), ('en', 'ADP', 'case'), ('sus', 'DET', 'det'), ('cuentas', 'NOUN', 'obl'), ('de', 'ADP', 'case'), ('Instagram', 'PROPN', 'nmod'), ('el', 'DET', 'det'), ('cantante', 'NOUN', 'obj'), ('de', 'ADP', 'case'), ('musica', 'NOUN', 'nmod'), ('popular', 'ADJ', 'amod'), ('Pipe', 'PROPN', 'appos'), ('Bueno', 'PROPN', 'flat'), ('y', 'CCONJ', 'cc'), ('la', 'DET', 'det'), ('i', 'CCONJ', 'cc'), ('Stephanie', 'PROPN', 'conj'), ('Mendoza', 'PROPN', 'flat'), ('exreina', 'PROPN', 'flat'), ('del', 'ADP', 'case'), ('Carnaval', 'PROPN', 'flat'), ('de', 'ADP', 'case'), ('Barranquilla', 'PROPN', 'flat'), ('2017', 'NUM', 'nummod'), ('manifesto', 'NOUN', 'obj')]\n",
      "[('Mentir', 'VERB', 'ROOT'), ('ocultar', 'VERB', 'xcomp'), ('informacion', 'ADV', 'xcomp'), ('e', 'CCONJ', 'cc'), ('intentar', 'VERB', 'conj'), ('hacerse', 'VERB', 'xcomp'), ('las', 'DET', 'det'), ('victimas', 'NOUN', 'obj'), ('como', 'SCONJ', 'mark'), ('el', 'DET', 'det'), ('desgobierno', 'NOUN', 'nmod'), ('venezolano', 'ADJ', 'amod'), ('para', 'ADP', 'mark'), ('obtener', 'VERB', 'advcl'), ('el', 'DET', 'det'), ('reconocimiento', 'NOUN', 'obj'), ('internacional', 'ADJ', 'amod'), ('que', 'PRON', 'nsubj'), ('perdio', 'VERB', 'acl')]\n",
      "[('La', 'DET', 'det'), ('izquierda', 'NOUN', 'nsubj'), ('piensa', 'VERB', 'ROOT'), ('en', 'ADP', 'case'), ('sus', 'DET', 'det'), ('ciudadanos', 'NOUN', 'obl'), ('Preguntele', 'VERB', 'obj'), ('a', 'ADP', 'case'), ('los', 'DET', 'det'), ('5', 'NUM', 'nummod'), ('millones', 'NOUN', 'obj'), ('de', 'ADP', 'case'), ('CIUDADANOS', 'PROPN', 'nmod'), ('Venezolanos', 'PROPN', 'amod'), ('que', 'PRON', 'nsubj'), ('huyen', 'VERB', 'acl'), ('despavoridos', 'ADJ', 'obj'), ('de', 'ADP', 'case'), ('su', 'DET', 'det'), ('pais', 'NOUN', 'obl'), ('O', 'CCONJ', 'cc'), ('este', 'DET', 'det'), ('tuit', 'NOUN', 'nsubj'), ('era', 'AUX', 'cop'), ('un', 'DET', 'det'), ('chiste', 'NOUN', 'conj'), ('suyo', 'DET', 'punct')]\n",
      "[('Estos', 'PRON', 'nsubj'), ('son', 'AUX', 'cop'), ('mis', 'DET', 'det'), ('bienes', 'NOUN', 'ROOT'), ('y', 'CCONJ', 'cc'), ('propiedades', 'NOUN', 'conj'), ('alrededor', 'ADV', 'advmod'), ('del', 'ADP', 'case'), ('mundo', 'NOUN', 'obl'), ('3', 'NUM', 'nummod'), ('Apartamentos', 'PROPN', 'flat'), ('en', 'ADP', 'case'), ('Miami', 'PROPN', 'nmod'), ('1', 'NUM', 'nummod'), ('Carro', 'PROPN', 'flat'), ('deportivo', 'ADJ', 'amod'), ('porsche', 'NOUN', 'obl'), ('1', 'NUM', 'compound'), ('Yate', 'PROPN', 'appos'), ('de', 'ADP', 'case'), ('lujo', 'NOUN', 'nmod'), ('en', 'ADP', 'case'), ('la', 'DET', 'det'), ('Rivera', 'PROPN', 'obl'), ('Francesa', 'PROPN', 'flat'), ('1', 'NUM', 'nummod'), ('Casa', 'PROPN', 'flat'), ('de', 'ADP', 'case'), ('campo', 'NOUN', 'flat'), ('en', 'ADP', 'case'), ('inglaterra', 'NOUN', 'obl'), ('1', 'NUM', 'nummod'), ('Cabanita', 'PROPN', 'appos'), ('en', 'ADP', 'case'), ('bora', 'NOUN', 'obl'), ('bora', 'NOUN', 'amod'), ('3', 'NUM', 'nummod'), ('Resorts', 'PROPN', 'obj'), ('en', 'ADP', 'case'), ('Punta', 'PROPN', 'nmod'), ('Cana', 'PROPN', 'flat'), ('mis', 'DET', 'det'), ('numeros', 'NOUN', 'nsubj'), ('se', 'PRON', 'obj'), ('parecen', 'VERB', 'conj'), ('a', 'ADP', 'case'), ('los', 'DET', 'det'), ('venezolanos', 'NOUN', 'nmod')]\n",
      "[('Y', 'CCONJ', 'ROOT'), ('ahora', 'ADV', 'advmod'), ('que', 'SCONJ', 'mark'), ('Que', 'SCONJ', 'mark'), ('van', 'AUX', 'aux'), ('a', 'ADP', 'mark'), ('inventar', 'VERB', 'advcl'), ('por', 'ADP', 'case'), ('los', 'DET', 'det'), ('que', 'PRON', 'obl'), ('ayudaron', 'VERB', 'ccomp'), ('a', 'ADP', 'mark'), ('volar', 'VERB', 'xcomp'), ('para', 'ADP', 'case'), ('venezuela', 'NOUN', 'obl'), ('Son', 'AUX', 'punct'), ('Uds', 'PROPN', 'flat'), ('los', 'DET', 'det'), ('patrocinadores', 'NOUN', 'nsubj'), ('de', 'ADP', 'case'), ('la', 'DET', 'det'), ('impunidad', 'NOUN', 'nmod'), ('en', 'ADP', 'case'), ('Colombia', 'PROPN', 'nmod'), ('y', 'CCONJ', 'cc'), ('la', 'DET', 'det'), ('CORRUPCION', 'PROPN', 'conj'), ('ll', 'ADP', 'case'), ('minimo', 'NOUN', 'nmod'), ('que', 'PRON', 'nsubj'), ('les', 'PRON', 'obj'), ('puede', 'AUX', 'aux'), ('mandar', 'VERB', 'acl'), ('Dios', 'PROPN', 'nsubj'), ('es', 'AUX', 'cop'), ('pandemia', 'NOUN', 'ROOT'), ('a', 'ADP', 'case'), ('todos', 'DET', 'det'), ('estos', 'DET', 'det'), ('bandidos', 'NOUN', 'nmod'), ('con', 'ADP', 'case'), ('corazon', 'NOUN', 'nmod'), ('venezolano', 'ADJ', 'amod')]\n",
      "[('Muchos', 'DET', 'det'), ('venezolanos', 'NOUN', 'nsubj'), ('y', 'CCONJ', 'cc'), ('muchachos', 'NOUN', 'conj'), ('en', 'ADP', 'case'), ('ese', 'DET', 'det'), ('grupo', 'NOUN', 'nmod'), ('del', 'ADP', 'case'), ('Barrio', 'PROPN', 'nmod'), ('el', 'DET', 'det'), ('Dorado', 'ADJ', 'appos'), ('Localidad', 'PROPN', 'flat'), ('de', 'ADP', 'case'), ('Santa', 'PROPN', 'flat'), ('Fe', 'PROPN', 'flat'), ('son', 'AUX', 'cop'), ('ya', 'ADV', 'advmod'), ('de', 'ADP', 'case'), ('buenas', 'NOUN', 'ROOT'), ('que', 'PRON', 'mark'), ('a', 'ADP', 'case'), ('la', 'DET', 'det'), ('casa', 'NOUN', 'obl'), ('de', 'ADP', 'case'), ('estas', 'DET', 'det'), ('personas', 'NOUN', 'nmod'), ('le', 'PRON', 'obj'), ('llegaran', 'VERB', 'acl'), ('las', 'DET', 'det'), ('cosas', 'NOUN', 'nsubj'), ('y', 'CCONJ', 'cc'), ('los', 'DET', 'det'), ('que', 'PRON', 'nsubj'), ('verdaderamente', 'ADV', 'advmod'), ('lo', 'PRON', 'obj'), ('requieren', 'VERB', 'conj'), ('jamas', 'NOUN', 'obj'), ('seran', 'VERB', 'advcl'), ('atendidos', 'ADJ', 'obj')]\n",
      "[('Que', 'SCONJ', 'mark'), ('alguien', 'PRON', 'nsubj'), ('le', 'PRON', 'iobj'), ('cuente', 'VERB', 'ROOT'), ('que', 'SCONJ', 'mark'), ('en', 'ADP', 'case'), ('2022', 'NOUN', 'obl'), ('nuevamente', 'ADV', 'advmod'), ('va', 'AUX', 'aux'), ('a', 'ADP', 'mark'), ('decir', 'VERB', 'ccomp'), ('quien', 'PRON', 'nsubj'), ('sera', 'ADJ', 'amod'), ('presidente', 'NOUN', 'obj'), ('Tambien', 'PROPN', 'obj'), ('le', 'PRON', 'iobj'), ('cuentan', 'VERB', 'ccomp'), ('que', 'SCONJ', 'mark'), ('su', 'DET', 'det'), ('comandante', 'NOUN', 'nsubj'), ('en', 'ADP', 'case'), ('jefe', 'NOUN', 'nmod'), ('venezolano', 'ADJ', 'amod'), ('va', 'AUX', 'ccomp'), ('arrastrar', 'VERB', 'xcomp'), ('a', 'ADP', 'case'), ('varios', 'PRON', 'obj'), ('de', 'ADP', 'case'), ('sus', 'DET', 'det'), ('idolos', 'NOUN', 'nmod'), ('de', 'ADP', 'case'), ('izquierda', 'NOUN', 'nmod')]\n"
     ]
    }
   ],
   "source": [
    "for doc in docs[1:20]:\n",
    "    print([(token.text, token.pos_, token.dep_) for token in doc])"
   ]
  },
  {
   "cell_type": "code",
   "execution_count": 74,
   "metadata": {
    "colab": {
     "base_uri": "https://localhost:8080/"
    },
    "id": "d2ITBIDbE9u7",
    "outputId": "cb6620f4-e86e-43bc-c4fb-c7f33b4834cb"
   },
   "outputs": [
    {
     "name": "stdout",
     "output_type": "stream",
     "text": [
      "[('UD', 'ORG'), ('No sea metido', 'MISC')]\n",
      "[('Tengo', 'MISC'), ('Venezolanos A', 'ORG'), ('Sea de donde', 'MISC')]\n",
      "[('Asi', 'LOC'), ('Colombiano', 'LOC'), ('Vzla Venezolano', 'PER')]\n",
      "[('Venezuela', 'LOC'), ('Los hijos a que te refieres los he visto', 'MISC')]\n",
      "[('Atreveran', 'MISC'), ('Dicen', 'LOC')]\n",
      "[('Soberano', 'PER'), ('Soberano', 'PER')]\n",
      "[('Honorable Amigo', 'MISC'), ('Los Miserables', 'MISC'), ('Venezolanos', 'LOC'), ('Colombia', 'LOC'), ('Que no te enganen', 'MISC'), ('Por ello prefiero', 'MISC'), ('OSCR', 'MISC')]\n",
      "[]\n",
      "[('COVID', 'LOC'), ('Yukpa', 'LOC'), ('El portador del virus', 'MISC'), ('El Escobal', 'MISC')]\n",
      "[('Usted', 'PER'), ('Pobre', 'LOC')]\n",
      "[('La crisis economica', 'MISC')]\n",
      "[('HEDIONDOS', 'MISC'), ('de Colombia', 'LOC')]\n",
      "[('Yedinson Ned Florez Duart', 'PER'), ('Instagram', 'PER'), ('Shannon', 'PER'), ('Lima', 'LOC'), ('Por medio de una transmision', 'MISC'), ('Instagram', 'LOC'), ('Pipe Bueno', 'PER'), ('Stephanie Mendoza', 'PER'), ('Carnaval de Barranquilla', 'LOC')]\n",
      "[('Mentir', 'PER')]\n",
      "[('Preguntele', 'LOC'), ('CIUDADANOS Venezolanos', 'LOC'), ('O', 'MISC')]\n",
      "[('Miami 1 Carro', 'MISC'), ('Yate', 'MISC'), ('Rivera Francesa 1 Casa', 'LOC'), ('Cabanita', 'LOC'), ('Punta Cana', 'LOC')]\n",
      "[('Que', 'PER'), ('Son Uds', 'ORG'), ('Colombia', 'LOC'), ('CORRUPCION', 'ORG'), ('Dios', 'MISC')]\n",
      "[('Barrio el Dorado Localidad de Santa Fe', 'LOC')]\n",
      "[('Tambien', 'PER')]\n"
     ]
    }
   ],
   "source": [
    "for doc in docs[1:20]:\n",
    "    print([(ent.text, ent.label_) for ent in doc.ents])"
   ]
  },
  {
   "cell_type": "code",
   "execution_count": 76,
   "metadata": {
    "id": "j0MdDe2JQzAi"
   },
   "outputs": [],
   "source": [
    "if 'textcat' not in nlp.pipe_names:\n",
    "  nlp.add_pipe(\"textcat\", last=True) \n",
    "else:\n",
    "  textcat = nlp.get_pipe(\"textcat\")"
   ]
  },
  {
   "cell_type": "code",
   "execution_count": 80,
   "metadata": {
    "colab": {
     "base_uri": "https://localhost:8080/",
     "height": 476
    },
    "id": "UQyDblsBjHq4",
    "outputId": "6218a191-d46e-4c8c-8c63-eab429461788"
   },
   "outputs": [
    {
     "data": {
      "text/html": [
       "<span class=\"tex2jax_ignore\"><div class=\"entities\" style=\"line-height: 2.5; direction: ltr\">\n",
       "<mark class=\"entity\" style=\"background: #7aecec; padding: 0.45em 0.6em; margin: 0 0.25em; line-height: 1; border-radius: 0.35em;\">\n",
       "    UD\n",
       "    <span style=\"font-size: 0.8em; font-weight: bold; line-height: 1; border-radius: 0.35em; vertical-align: middle; margin-left: 0.5rem\">ORG</span>\n",
       "</mark>\n",
       " es venezolano \n",
       "<mark class=\"entity\" style=\"background: #ddd; padding: 0.45em 0.6em; margin: 0 0.25em; line-height: 1; border-radius: 0.35em;\">\n",
       "    No sea metido\n",
       "    <span style=\"font-size: 0.8em; font-weight: bold; line-height: 1; border-radius: 0.35em; vertical-align: middle; margin-left: 0.5rem\">MISC</span>\n",
       "</mark>\n",
       "</div></span>"
      ],
      "text/plain": [
       "<IPython.core.display.HTML object>"
      ]
     },
     "metadata": {
      "tags": []
     },
     "output_type": "display_data"
    },
    {
     "data": {
      "text/html": [
       "<span class=\"tex2jax_ignore\"><svg xmlns=\"http://www.w3.org/2000/svg\" xmlns:xlink=\"http://www.w3.org/1999/xlink\" xml:lang=\"es\" id=\"e539eafad1d94baba8179a9241af7fd7-0\" class=\"displacy\" width=\"1100\" height=\"399.5\" direction=\"ltr\" style=\"max-width: none; height: 399.5px; color: #000000; background: #ffffff; font-family: Arial; direction: ltr\">\n",
       "<text class=\"displacy-token\" fill=\"currentColor\" text-anchor=\"middle\" y=\"309.5\">\n",
       "    <tspan class=\"displacy-word\" fill=\"currentColor\" x=\"50\">UD</tspan>\n",
       "    <tspan class=\"displacy-tag\" dy=\"2em\" fill=\"currentColor\" x=\"50\">PROPN</tspan>\n",
       "</text>\n",
       "\n",
       "<text class=\"displacy-token\" fill=\"currentColor\" text-anchor=\"middle\" y=\"309.5\">\n",
       "    <tspan class=\"displacy-word\" fill=\"currentColor\" x=\"225\">es</tspan>\n",
       "    <tspan class=\"displacy-tag\" dy=\"2em\" fill=\"currentColor\" x=\"225\">AUX</tspan>\n",
       "</text>\n",
       "\n",
       "<text class=\"displacy-token\" fill=\"currentColor\" text-anchor=\"middle\" y=\"309.5\">\n",
       "    <tspan class=\"displacy-word\" fill=\"currentColor\" x=\"400\">venezolano</tspan>\n",
       "    <tspan class=\"displacy-tag\" dy=\"2em\" fill=\"currentColor\" x=\"400\">ADJ</tspan>\n",
       "</text>\n",
       "\n",
       "<text class=\"displacy-token\" fill=\"currentColor\" text-anchor=\"middle\" y=\"309.5\">\n",
       "    <tspan class=\"displacy-word\" fill=\"currentColor\" x=\"575\">No</tspan>\n",
       "    <tspan class=\"displacy-tag\" dy=\"2em\" fill=\"currentColor\" x=\"575\">ADV</tspan>\n",
       "</text>\n",
       "\n",
       "<text class=\"displacy-token\" fill=\"currentColor\" text-anchor=\"middle\" y=\"309.5\">\n",
       "    <tspan class=\"displacy-word\" fill=\"currentColor\" x=\"750\">sea</tspan>\n",
       "    <tspan class=\"displacy-tag\" dy=\"2em\" fill=\"currentColor\" x=\"750\">AUX</tspan>\n",
       "</text>\n",
       "\n",
       "<text class=\"displacy-token\" fill=\"currentColor\" text-anchor=\"middle\" y=\"309.5\">\n",
       "    <tspan class=\"displacy-word\" fill=\"currentColor\" x=\"925\">metido</tspan>\n",
       "    <tspan class=\"displacy-tag\" dy=\"2em\" fill=\"currentColor\" x=\"925\">VERB</tspan>\n",
       "</text>\n",
       "\n",
       "<g class=\"displacy-arrow\">\n",
       "    <path class=\"displacy-arc\" id=\"arrow-e539eafad1d94baba8179a9241af7fd7-0-0\" stroke-width=\"2px\" d=\"M70,264.5 C70,89.5 395.0,89.5 395.0,264.5\" fill=\"none\" stroke=\"currentColor\"/>\n",
       "    <text dy=\"1.25em\" style=\"font-size: 0.8em; letter-spacing: 1px\">\n",
       "        <textPath xlink:href=\"#arrow-e539eafad1d94baba8179a9241af7fd7-0-0\" class=\"displacy-label\" startOffset=\"50%\" side=\"left\" fill=\"currentColor\" text-anchor=\"middle\">nsubj</textPath>\n",
       "    </text>\n",
       "    <path class=\"displacy-arrowhead\" d=\"M70,266.5 L62,254.5 78,254.5\" fill=\"currentColor\"/>\n",
       "</g>\n",
       "\n",
       "<g class=\"displacy-arrow\">\n",
       "    <path class=\"displacy-arc\" id=\"arrow-e539eafad1d94baba8179a9241af7fd7-0-1\" stroke-width=\"2px\" d=\"M245,264.5 C245,177.0 390.0,177.0 390.0,264.5\" fill=\"none\" stroke=\"currentColor\"/>\n",
       "    <text dy=\"1.25em\" style=\"font-size: 0.8em; letter-spacing: 1px\">\n",
       "        <textPath xlink:href=\"#arrow-e539eafad1d94baba8179a9241af7fd7-0-1\" class=\"displacy-label\" startOffset=\"50%\" side=\"left\" fill=\"currentColor\" text-anchor=\"middle\">cop</textPath>\n",
       "    </text>\n",
       "    <path class=\"displacy-arrowhead\" d=\"M245,266.5 L237,254.5 253,254.5\" fill=\"currentColor\"/>\n",
       "</g>\n",
       "\n",
       "<g class=\"displacy-arrow\">\n",
       "    <path class=\"displacy-arc\" id=\"arrow-e539eafad1d94baba8179a9241af7fd7-0-2\" stroke-width=\"2px\" d=\"M595,264.5 C595,89.5 920.0,89.5 920.0,264.5\" fill=\"none\" stroke=\"currentColor\"/>\n",
       "    <text dy=\"1.25em\" style=\"font-size: 0.8em; letter-spacing: 1px\">\n",
       "        <textPath xlink:href=\"#arrow-e539eafad1d94baba8179a9241af7fd7-0-2\" class=\"displacy-label\" startOffset=\"50%\" side=\"left\" fill=\"currentColor\" text-anchor=\"middle\">advmod</textPath>\n",
       "    </text>\n",
       "    <path class=\"displacy-arrowhead\" d=\"M595,266.5 L587,254.5 603,254.5\" fill=\"currentColor\"/>\n",
       "</g>\n",
       "\n",
       "<g class=\"displacy-arrow\">\n",
       "    <path class=\"displacy-arc\" id=\"arrow-e539eafad1d94baba8179a9241af7fd7-0-3\" stroke-width=\"2px\" d=\"M770,264.5 C770,177.0 915.0,177.0 915.0,264.5\" fill=\"none\" stroke=\"currentColor\"/>\n",
       "    <text dy=\"1.25em\" style=\"font-size: 0.8em; letter-spacing: 1px\">\n",
       "        <textPath xlink:href=\"#arrow-e539eafad1d94baba8179a9241af7fd7-0-3\" class=\"displacy-label\" startOffset=\"50%\" side=\"left\" fill=\"currentColor\" text-anchor=\"middle\">aux</textPath>\n",
       "    </text>\n",
       "    <path class=\"displacy-arrowhead\" d=\"M770,266.5 L762,254.5 778,254.5\" fill=\"currentColor\"/>\n",
       "</g>\n",
       "\n",
       "<g class=\"displacy-arrow\">\n",
       "    <path class=\"displacy-arc\" id=\"arrow-e539eafad1d94baba8179a9241af7fd7-0-4\" stroke-width=\"2px\" d=\"M420,264.5 C420,2.0 925.0,2.0 925.0,264.5\" fill=\"none\" stroke=\"currentColor\"/>\n",
       "    <text dy=\"1.25em\" style=\"font-size: 0.8em; letter-spacing: 1px\">\n",
       "        <textPath xlink:href=\"#arrow-e539eafad1d94baba8179a9241af7fd7-0-4\" class=\"displacy-label\" startOffset=\"50%\" side=\"left\" fill=\"currentColor\" text-anchor=\"middle\">punct</textPath>\n",
       "    </text>\n",
       "    <path class=\"displacy-arrowhead\" d=\"M925.0,266.5 L933.0,254.5 917.0,254.5\" fill=\"currentColor\"/>\n",
       "</g>\n",
       "</svg></span>"
      ],
      "text/plain": [
       "<IPython.core.display.HTML object>"
      ]
     },
     "metadata": {
      "tags": []
     },
     "output_type": "display_data"
    }
   ],
   "source": [
    "from spacy import displacy\n",
    "displacy.render(docs[1], style = \"ent\",jupyter = True)\n",
    "displacy.render(docs[1], style = \"dep\",jupyter = True)"
   ]
  },
  {
   "cell_type": "code",
   "execution_count": 81,
   "metadata": {
    "colab": {
     "base_uri": "https://localhost:8080/"
    },
    "id": "PUqtnqtOjPUw",
    "outputId": "6274d703-0362-4c05-d83b-d6c369ca4738"
   },
   "outputs": [
    {
     "name": "stdout",
     "output_type": "stream",
     "text": [
      "[nltk_data] Downloading package stopwords to /root/nltk_data...\n",
      "[nltk_data]   Unzipping corpora/stopwords.zip.\n"
     ]
    }
   ],
   "source": [
    "from sklearn.feature_extraction.text import TfidfVectorizer\n",
    "from sklearn.cluster import KMeans\n",
    "import numpy as np\n",
    "import nltk\n",
    "nltk.download('stopwords')\n",
    "from nltk.corpus import stopwords"
   ]
  },
  {
   "cell_type": "code",
   "execution_count": 83,
   "metadata": {
    "id": "1j_oneYAkoSz"
   },
   "outputs": [],
   "source": [
    "vectorizer = TfidfVectorizer(stop_words=stopwords.words(\"spanish\"))\n",
    "X = vectorizer.fit_transform(text_list)"
   ]
  },
  {
   "cell_type": "code",
   "execution_count": 84,
   "metadata": {
    "colab": {
     "base_uri": "https://localhost:8080/"
    },
    "id": "IUybE-18kqnd",
    "outputId": "08da69c1-3dea-42b2-d2f7-f97b6895026d"
   },
   "outputs": [
    {
     "data": {
      "text/plain": [
       "KMeans(algorithm='auto', copy_x=True, init='k-means++', max_iter=100,\n",
       "       n_clusters=2, n_init=1, n_jobs=None, precompute_distances='auto',\n",
       "       random_state=None, tol=0.0001, verbose=0)"
      ]
     },
     "execution_count": 84,
     "metadata": {
      "tags": []
     },
     "output_type": "execute_result"
    }
   ],
   "source": [
    "true_k = 2\n",
    "model = KMeans(n_clusters=true_k, init='k-means++', max_iter=100, n_init=1)\n",
    "model.fit(X)"
   ]
  },
  {
   "cell_type": "code",
   "execution_count": 85,
   "metadata": {
    "id": "RQXYGpGDk0Kf"
   },
   "outputs": [],
   "source": [
    "order_centroids = model.cluster_centers_.argsort()[:, ::-1]\n",
    "terms = vectorizer.get_feature_names()"
   ]
  },
  {
   "cell_type": "code",
   "execution_count": 86,
   "metadata": {
    "colab": {
     "base_uri": "https://localhost:8080/"
    },
    "id": "fSqb7Rpek1wc",
    "outputId": "d6accae7-a2dc-458b-f09e-8ca6be5599a6"
   },
   "outputs": [
    {
     "name": "stdout",
     "output_type": "stream",
     "text": [
      "Cluster 0:\n",
      " venezolanos\n",
      " venezolano\n",
      " pais\n",
      " si\n",
      " colombia\n",
      " mas\n",
      " estan\n",
      " colombianos\n",
      " venezolana\n",
      " venezuela\n",
      "Cluster 1:\n",
      " venecos\n",
      " hptas\n",
      " hijueputas\n",
      " mierda\n",
      " pais\n",
      " colombia\n",
      " hps\n",
      " plaga\n",
      " mas\n",
      " extranjeros\n"
     ]
    }
   ],
   "source": [
    "for i in range(true_k):\n",
    "    print(\"Cluster %d:\" % i)\n",
    "    for ind in order_centroids[i, :10]:\n",
    "        print(' %s' % terms[ind])"
   ]
  },
  {
   "cell_type": "code",
   "execution_count": 98,
   "metadata": {
    "colab": {
     "base_uri": "https://localhost:8080/"
    },
    "id": "PU-CHt3gk4Mu",
    "outputId": "fea31ea9-4b28-4379-f871-3f1f3bc8b6ce"
   },
   "outputs": [
    {
     "name": "stdout",
     "output_type": "stream",
     "text": [
      "0.5963137887345836\n"
     ]
    },
    {
     "name": "stderr",
     "output_type": "stream",
     "text": [
      "/usr/local/lib/python3.6/dist-packages/ipykernel_launcher.py:1: UserWarning: [W007] The model you're using has no word vectors loaded, so the result of the Doc.similarity method will be based on the tagger, parser and NER, which may not give useful similarity judgements. This may happen if you're using one of the small models, e.g. `en_core_web_sm`, which don't ship with word vectors and only use context-sensitive tensors. You can always add your own word vectors, or use one of the larger models instead if available.\n",
      "  \"\"\"Entry point for launching an IPython kernel.\n"
     ]
    }
   ],
   "source": [
    "print(docs[1].similarity(docs[3]))"
   ]
  },
  {
   "cell_type": "code",
   "execution_count": 99,
   "metadata": {
    "colab": {
     "base_uri": "https://localhost:8080/"
    },
    "id": "sYaNMxEympOl",
    "outputId": "5e0eed09-8ec9-416e-d97e-556b33b27b21"
   },
   "outputs": [
    {
     "data": {
      "text/plain": [
       "Tu y yo conocemos bien el tema Asi es Colombiano siempre con competencias xra el trabajo y no se fueron en un viaje de 2 anos fueron 40 anos para construir lo mejor de Vzla Venezolano siempre fue burocrata"
      ]
     },
     "execution_count": 99,
     "metadata": {
      "tags": []
     },
     "output_type": "execute_result"
    }
   ],
   "source": [
    "docs[3]"
   ]
  },
  {
   "cell_type": "code",
   "execution_count": null,
   "metadata": {
    "id": "CNQ3gVSxm_cD"
   },
   "outputs": [],
   "source": []
  }
 ],
 "metadata": {
  "colab": {
   "authorship_tag": "ABX9TyO8R+M/9sqAE379vXgI0TpF",
   "include_colab_link": true,
   "name": "Pruebas_spaCy.ipynb",
   "provenance": []
  },
  "kernelspec": {
   "display_name": "Python 3",
   "language": "python",
   "name": "python3"
  },
  "language_info": {
   "codemirror_mode": {
    "name": "ipython",
    "version": 3
   },
   "file_extension": ".py",
   "mimetype": "text/x-python",
   "name": "python",
   "nbconvert_exporter": "python",
   "pygments_lexer": "ipython3",
   "version": "3.8.3"
  }
 },
 "nbformat": 4,
 "nbformat_minor": 1
}
