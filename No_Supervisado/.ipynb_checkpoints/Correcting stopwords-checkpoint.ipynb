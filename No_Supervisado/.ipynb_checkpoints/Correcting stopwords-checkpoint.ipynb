{
 "cells": [
  {
   "cell_type": "code",
   "execution_count": 4,
   "id": "e33437df",
   "metadata": {},
   "outputs": [
    {
     "name": "stdout",
     "output_type": "stream",
     "text": [
      "['de', 'la', 'que', 'el', 'en', 'y', 'a', 'los', 'del', 'se', 'las', 'por', 'un', 'para', 'con', 'no', 'una', 'su', 'al', 'lo', 'como', 'más', 'pero', 'sus', 'le', 'ya', 'o', 'este', 'sí', 'porque', 'esta', 'entre', 'cuando', 'muy', 'sin', 'sobre', 'también', 'me', 'hasta', 'hay', 'donde', 'quien', 'desde', 'todo', 'nos', 'durante', 'todos', 'uno', 'les', 'ni', 'contra', 'otros', 'ese', 'eso', 'ante', 'ellos', 'e', 'esto', 'mí', 'antes', 'algunos', 'qué', 'unos', 'yo', 'otro', 'otras', 'otra', 'él', 'tanto', 'esa', 'estos', 'mucho', 'quienes', 'nada', 'muchos', 'cual', 'poco', 'ella', 'estar', 'estas', 'algunas', 'algo', 'nosotros', 'mi', 'mis', 'tú', 'te', 'ti', 'tu', 'tus', 'ellas', 'nosotras', 'vosotros', 'vosotras', 'os', 'mío', 'mía', 'míos', 'mías', 'tuyo', 'tuya', 'tuyos', 'tuyas', 'suyo', 'suya', 'suyos', 'suyas', 'nuestro', 'nuestra', 'nuestros', 'nuestras', 'vuestro', 'vuestra', 'vuestros', 'vuestras', 'esos', 'esas', 'estoy', 'estás', 'está', 'estamos', 'estáis', 'están', 'esté', 'estés', 'estemos', 'estéis', 'estén', 'estaré', 'estarás', 'estará', 'estaremos', 'estaréis', 'estarán', 'estaría', 'estarías', 'estaríamos', 'estaríais', 'estarían', 'estaba', 'estabas', 'estábamos', 'estabais', 'estaban', 'estuve', 'estuviste', 'estuvo', 'estuvimos', 'estuvisteis', 'estuvieron', 'estuviera', 'estuvieras', 'estuviéramos', 'estuvierais', 'estuvieran', 'estuviese', 'estuvieses', 'estuviésemos', 'estuvieseis', 'estuviesen', 'estando', 'estado', 'estada', 'estados', 'estadas', 'estad', 'he', 'has', 'ha', 'hemos', 'habéis', 'han', 'haya', 'hayas', 'hayamos', 'hayáis', 'hayan', 'habré', 'habrás', 'habrá', 'habremos', 'habréis', 'habrán', 'habría', 'habrías', 'habríamos', 'habríais', 'habrían', 'había', 'habías', 'habíamos', 'habíais', 'habían', 'hube', 'hubiste', 'hubo', 'hubimos', 'hubisteis', 'hubieron', 'hubiera', 'hubieras', 'hubiéramos', 'hubierais', 'hubieran', 'hubiese', 'hubieses', 'hubiésemos', 'hubieseis', 'hubiesen', 'habiendo', 'habido', 'habida', 'habidos', 'habidas', 'soy', 'eres', 'es', 'somos', 'sois', 'son', 'sea', 'seas', 'seamos', 'seáis', 'sean', 'seré', 'serás', 'será', 'seremos', 'seréis', 'serán', 'sería', 'serías', 'seríamos', 'seríais', 'serían', 'era', 'eras', 'éramos', 'erais', 'eran', 'fui', 'fuiste', 'fue', 'fuimos', 'fuisteis', 'fueron', 'fuera', 'fueras', 'fuéramos', 'fuerais', 'fueran', 'fuese', 'fueses', 'fuésemos', 'fueseis', 'fuesen', 'sintiendo', 'sentido', 'sentida', 'sentidos', 'sentidas', 'siente', 'sentid', 'tengo', 'tienes', 'tiene', 'tenemos', 'tenéis', 'tienen', 'tenga', 'tengas', 'tengamos', 'tengáis', 'tengan', 'tendré', 'tendrás', 'tendrá', 'tendremos', 'tendréis', 'tendrán', 'tendría', 'tendrías', 'tendríamos', 'tendríais', 'tendrían', 'tenía', 'tenías', 'teníamos', 'teníais', 'tenían', 'tuve', 'tuviste', 'tuvo', 'tuvimos', 'tuvisteis', 'tuvieron', 'tuviera', 'tuvieras', 'tuviéramos', 'tuvierais', 'tuvieran', 'tuviese', 'tuvieses', 'tuviésemos', 'tuvieseis', 'tuviesen', 'teniendo', 'tenido', 'tenida', 'tenidos', 'tenidas', 'tened']\n"
     ]
    }
   ],
   "source": [
    "import nltk\n",
    "from nltk.corpus import stopwords\n",
    "print(stopwords.words('spanish'))"
   ]
  },
  {
   "cell_type": "code",
   "execution_count": 12,
   "id": "fe466173",
   "metadata": {},
   "outputs": [
    {
     "name": "stdout",
     "output_type": "stream",
     "text": [
      "['has', 'ella', 'estuviesemos', 'vuestras', 'habriamos', 'tuvieseis', 'tengo', 'mias', 'fui', 'vuestro', 'seré', 'otro', 'habías', 'para', 'lo', 'hubiera', 'estar', 'contra', 'tendríais', 'sentid', 'tendre', 'unos', 'otra', 'ti', 'hubiésemos', 'ante', 'esteis', 'suya', 'teníamos', 'mio', 'hubieses', 'estarian', 'estuviera', 'seríamos', 'tenían', 'tuyos', 'está', 'habria', 'tuviéramos', 'tengáis', 'quienes', 'sólo', 'esas', 'estareis', 'estariais', 'habidos', 'nosotros', 'sintiendo', 'hubisteis', 'su', 'sin', 'nosotras', 'se', 'una', 'estare', 'sean', 'habría', 'estoy', 'fuesemos', 'tengais', 'tendrias', 'tendra', 'tuyas', 'estara', 'estuviste', 'hayamos', 'estuviéramos', 'fuisteis', 'pa', 'yo', 'había', 'hubieras', 'el', 'tuvierais', 'tendréis', 'mío', 'de', 'tengamos', 'estad', 'serás', 'tened', 'habran', 'en', 'fuimos', 'teníais', 'sereis', 'seremos', 'ha', 'hayáis', 'tuvimos', 'hube', 'fuerais', 'tendrían', 'estuviesen', 'no', 'estaras', 'estuvieron', 'somos', 'qué', 'tenida', 'otros', 'estuvisteis', 'tuvieses', 'todos', 'sí', 'poco', 'tuya', 'habíais', 'las', 'más', 'del', 'muy', 'antes', 'nuestros', 'fuiste', 'habiamos', 'estáis', 'habrían', 'habrías', 'seríais', 'están', 'nuestro', 'habiendo', 'estan', 'estaríamos', 'estás', 'desde', 'tú', 'estuvieras', 'tambien', 'tendremos', 'eramos', 'tus', 'fueses', 'estaban', 'estaremos', 'tuvieramos', 'habida', 'hubieran', 'estado', 'nos', 'ellas', 'tiene', 'estarían', 'estuvo', 'todo', 'algunos', 'tuvo', 'eres', 'los', 'tenidos', 'o', 'tendrás', 'vuestros', 'esté', 'mías', 'estes', 'cual', 'haya', 'y', 'seais', 'tenia', 'estamos', 'serias', 'tenidas', 'así', 'seas', 'tuvisteis', 'éramos', 'fueron', 'sus', 'habreis', 'estados', 'estéis', 'tienen', 'hubiesen', 'estando', 'esta', 'solo', 'tenía', 'esa', 'habian', 'por', 'tendreis', 'habríais', 'estarias', 'son', 'tu', 'seran', 'tengas', 'mi', 'mia', 'será', 'estaríais', 'sentidas', 'suyos', 'él', 'sera', 'seras', 'entre', 'donde', 'habras', 'mios', 'tuvieras', 'habre', 'seamos', 'con', 'seria', 'estuvierais', 'tendríamos', 'os', 'hayan', 'hubimos', 'habidas', 'siente', 'sentido', 'estaria', 'habremos', 'tendrá', 'tuviesemos', 'eso', 'durante', 'otras', 'suyo', 'algo', 'tenian', 'habían', 'hasta', 'habréis', 'habeis', 'tenéis', 'teneis', 'ellos', 'teniais', 'seáis', 'habia', 'tienes', 'tanto', 'cuando', 'tuyo', 'fueras', 'teniendo', 'un', 'algunas', 'hubierais', 'es', 'tuviste', 'serías', 'tendrian', 'estará', 'tuviésemos', 'tendrán', 'soy', 'serán', 'nuestra', 'sentida', 'tenemos', 'estarías', 'habra', 'habrán', 'hubiste', 'tengan', 'hubiéramos', 'estuviésemos', 'porque', 'estariamos', 'habrias', 'muchos', 'estais', 'seréis', 'fue', 'tendrías', 'que', 'habrás', 'tuve', 'también', 'al', 'tendran', 'sobre', 'hubieramos', 'mía', 'fuésemos', 'estos', 'estuvieran', 'me', 'vosotros', 'tendría', 'habriais', 'han', 'ya', 'estadas', 'estaré', 'estaran', 'habéis', 'estés', 'eran', 'tenías', 'les', 'como', 'le', 'sere', 'pero', 'habias', 'habré', 'habíamos', 'hubieseis', 'estuvieramos', 'estuvieseis', 'tuvieron', 'míos', 'teniamos', 'estuvieses', 'estabas', 'mis', 'ese', 'estarás', 'habido', 'vosotras', 'fuéramos', 'erais', 'estas', 'mucho', 'quien', 'la', 'hubiese', 'este', 'te', 'estarán', 'nada', 'hubieron', 'fueran', 'tendria', 'suyas', 'tendras', 'habrá', 'fuesen', 'tendriais', 'asi', 'ni', 'estaba', 'vuestra', 'esos', 'estada', 'sea', 'hay', 'seriamos', 'serian', 'mí', 'sois', 'eras', 'fuera', 'estaría', 'era', 'hemos', 'tenido', 'fueseis', 'tenias', 'esten', 'tenga', 'estabamos', 'estuvimos', 'esto', 'estabais', 'habiais', 'and', 'tuviesen', 'a', 'estuviese', 'estuve', 'he', 'fuese', 'habríamos', 'sentidos', 'estemos', 'tuvieran', 'tuviera', 'fueramos', 'tendriamos', 'uno', 'estén', 'e', 'habrian', 'hayas', 'hubo', 'tendré', 'estaréis', 'hayais', 'seriais', 'si', 'nuestras', 'hubiesemos', 'serían', 'mas', 'tuviese', 'estábamos', 'sería']\n"
     ]
    }
   ],
   "source": [
    "vector = stopwords.words('spanish')\n",
    "special_characters = \"áéóíú\"\n",
    "#Result = [Number ** 2 for list in Numbers for Number in list if Number %2 == 0]\n",
    "# Example: $tackoverflow\n",
    "for palabra in vector:\n",
    "    for letra in palabra:\n",
    "        if letra in special_characters:\n",
    "            escogida = palabra\n",
    "            # Convertir la palabra a sin tilde\n",
    "            if letra == 'á':\n",
    "                nueva_palabra = escogida.replace(letra, 'a')\n",
    "            elif letra == 'é':\n",
    "                nueva_palabra = escogida.replace(letra, 'e')\n",
    "            elif letra == 'í':\n",
    "                nueva_palabra = escogida.replace(letra, 'i')\n",
    "            elif letra == 'ó':\n",
    "                nueva_palabra = escogida.replace(letra, 'o')\n",
    "            else:\n",
    "                nueva_palabra = escogida.replace(letra, 'u')\n",
    "            vector.append(nueva_palabra)\n",
    "vector.extend(['solo','sólo','así','asi','si','sí','pa','and'])\n",
    "vector = set(vector)\n",
    "vector = list(vector)\n",
    "print(vector)"
   ]
  },
  {
   "cell_type": "code",
   "execution_count": null,
   "id": "114c0755",
   "metadata": {},
   "outputs": [],
   "source": []
  }
 ],
 "metadata": {
  "kernelspec": {
   "display_name": "Python 3 (ipykernel)",
   "language": "python",
   "name": "python3"
  },
  "language_info": {
   "codemirror_mode": {
    "name": "ipython",
    "version": 3
   },
   "file_extension": ".py",
   "mimetype": "text/x-python",
   "name": "python",
   "nbconvert_exporter": "python",
   "pygments_lexer": "ipython3",
   "version": "3.8.10"
  }
 },
 "nbformat": 4,
 "nbformat_minor": 5
}
