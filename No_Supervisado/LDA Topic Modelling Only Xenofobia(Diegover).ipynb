{
 "cells": [
  {
   "cell_type": "markdown",
   "id": "right-clinton",
   "metadata": {
    "id": "facial-violation"
   },
   "source": [
    "# LDA\n",
    "Modelamiento de Tópicos con LDA (Latent Dirichet Allocation) para categorías de la base Barómetro Migrante"
   ]
  },
  {
   "cell_type": "markdown",
   "id": "korean-express",
   "metadata": {
    "id": "polyphonic-peeing"
   },
   "source": [
    "# Procesamiento de texto a través spaCy\n",
    "Si usted no posee una GPU, no intente correr ninguno de los paquetes que se instalan por !pip. Se le hará una lista de requisitos y formas para correr con exito spaCy desde una GPU con arquitectura Turing:\n",
    " 1. Instale la versión y el paquete de spaCy en Español para procesar texto en este lenguaje\n",
    " 2. La versión de CUDA es 11.0, válido para GPUs NVIDIA con versión cuDNN 8.0+. Esto lo necesita su equipo para asignar la memoria a la tarjeta gráfica. Se instala por fuera de Python [CUDA](https://developer.nvidia.com/cuda-downloads).\n",
    " 3. Instale la versión de Pytorch compatible con su versión de CUDA, recuerde que spaCy tiene transformers, esto tiene que estar especificado para que descargue los paquetes de clasificación\n",
    " 4. Thinc GPU OPS y CuPy son necesarios para que el equipo reconozca la tarjeta gráfica y la vuelva accesible desde Jupyter.\n",
    " \n",
    "Con esto podrá iniciar a correr modelos complejos en su equipo de trabajo, recuerde que no debe de correr ninguna línea que instale un paquete."
   ]
  },
  {
   "cell_type": "code",
<<<<<<< HEAD
<<<<<<< HEAD
   "execution_count": 1,
=======
   "execution_count": 2,
>>>>>>> d4b10f90f9101a528988cd1cd24253f8e47702f9
=======
   "execution_count": 2,
>>>>>>> main
   "id": "animated-injection",
   "metadata": {
    "colab": {
     "base_uri": "https://localhost:8080/"
    },
    "executionInfo": {
     "elapsed": 26250,
     "status": "ok",
     "timestamp": 1617678321222,
     "user": {
      "displayName": "Diego Alejandro Bermudez Sierra",
      "photoUrl": "https://lh3.googleusercontent.com/a-/AOh14Giaky64TFemsJXXopg9ctEkZ2B3Iz-B3Kh0Jyl9QA=s64",
      "userId": "09605770473678301910"
     },
     "user_tz": 300
    },
    "id": "YqiDPc9667SO",
    "outputId": "887538bb-0a55-415d-861a-7288baf1f7c9",
    "scrolled": false
   },
   "outputs": [
    {
     "data": {
      "text/plain": [
       "'\\n!pip install lda2vec\\n!pip install git+https://github.com/bmabey/pyLDAvis.git@master#egg=pyLDAvis\\n!pip install tensorflow\\n!pip install keras\\n!pip install -U pip setuptools wheel\\n!pip install -U spacy[cuda110,transformers,lookups]\\n!python -m spacy download es_core_news_sm\\n!python -m spacy download en_core_web_sm\\n!python -m spacy download es_dep_news_trf\\n!pip install torch===1.7.1+cu110 torchvision===0.8.2+cu110 torchaudio===0.7.2 -f https://download.pytorch.org/whl/torch_stable.html --user\\n!pip install cupy-cuda110\\n!pip install thinc-gpu-ops\\n!pip install gensim\\n!pip install -q wordcloud\\n!python --version\\n!pip install --upgrade gensim\\n!pip install spacy_spanish_lemmatizer\\n!python -m spacy_spanish_lemmatizer download wiki\\n'"
      ]
     },
<<<<<<< HEAD
<<<<<<< HEAD
     "execution_count": 1,
=======
     "execution_count": 2,
>>>>>>> d4b10f90f9101a528988cd1cd24253f8e47702f9
=======
     "execution_count": 2,
>>>>>>> main
     "metadata": {},
     "output_type": "execute_result"
    }
   ],
   "source": [
    "#from google.colab import drive\n",
    "#drive.mount('/content/drive')\n",
    "'''\n",
    "!pip install lda2vec\n",
    "!pip install git+https://github.com/bmabey/pyLDAvis.git@master#egg=pyLDAvis\n",
    "!pip install tensorflow\n",
    "!pip install keras\n",
    "!pip install -U pip setuptools wheel\n",
    "!pip install -U spacy[cuda110,transformers,lookups]\n",
    "!python -m spacy download es_core_news_sm\n",
    "!python -m spacy download en_core_web_sm\n",
    "!python -m spacy download es_dep_news_trf\n",
    "!pip install torch===1.7.1+cu110 torchvision===0.8.2+cu110 torchaudio===0.7.2 -f https://download.pytorch.org/whl/torch_stable.html --user\n",
    "!pip install cupy-cuda110\n",
    "!pip install thinc-gpu-ops\n",
    "!pip install gensim\n",
    "!pip install -q wordcloud\n",
    "!python --version\n",
    "!pip install --upgrade gensim\n",
    "!pip install spacy_spanish_lemmatizer\n",
    "!python -m spacy_spanish_lemmatizer download wiki\n",
<<<<<<< HEAD
<<<<<<< HEAD
=======
    "!pip install python-Levenshtein\n",
>>>>>>> d4b10f90f9101a528988cd1cd24253f8e47702f9
=======
    "!pip install python-Levenshtein\n",
>>>>>>> main
    "'''"
   ]
  },
  {
   "cell_type": "code",
<<<<<<< HEAD
<<<<<<< HEAD
   "execution_count": 2,
=======
   "execution_count": 4,
>>>>>>> d4b10f90f9101a528988cd1cd24253f8e47702f9
=======
   "execution_count": 4,
>>>>>>> main
   "id": "musical-afternoon",
   "metadata": {
    "id": "phantom-health"
   },
   "outputs": [
    {
     "name": "stderr",
     "output_type": "stream",
     "text": [
      "C:\\Users\\JOSE\\anaconda3\\lib\\site-packages\\gensim\\similarities\\__init__.py:15: UserWarning: The gensim.similarities.levenshtein submodule is disabled, because the optional Levenshtein package <https://pypi.org/project/python-Levenshtein/> is unavailable. Install Levenhstein (e.g. `pip install python-Levenshtein`) to suppress this warning.\n",
      "  warnings.warn(msg)\n",
      "[nltk_data] Downloading package stopwords to\n",
      "[nltk_data]     C:\\Users\\JOSE\\AppData\\Roaming\\nltk_data...\n",
      "[nltk_data]   Package stopwords is already up-to-date!\n"
     ]
    }
   ],
   "source": [
    "#Espacio de trabajo\n",
    "import tqdm\n",
    "import numpy as np\n",
    "from numpy.random import seed\n",
    "from numpy.random import randint\n",
<<<<<<< HEAD
<<<<<<< HEAD
    "import lda2vec as l2v\n",
=======
    "#import lda2vec as l2v\n",
>>>>>>> d4b10f90f9101a528988cd1cd24253f8e47702f9
=======
    "#import lda2vec as l2v\n",
>>>>>>> main
    "import gensim\n",
    "from gensim import corpora, similarities, models\n",
    "from gensim.models.phrases import Phraser\n",
    "#from gensim.models.wrappers import LdaMallet\n",
    "from gensim.models import CoherenceModel\n",
    "import matplotlib.pyplot as plt\n",
    "%matplotlib inline\n",
    "try:\n",
    "    import seaborn\n",
    "except:\n",
    "    pass\n",
    "import sys\n",
    "import pandas as pd\n",
    "import spacy\n",
    "from spacy_spanish_lemmatizer import SpacyCustomLemmatizer\n",
    "import wordcloud\n",
    "import nltk\n",
    "nltk.download('stopwords')\n",
    "from nltk.corpus import stopwords\n",
    "from pprint import pprint\n",
    "import re\n",
    "import logging\n",
    "import pyLDAvis\n",
    "logging.basicConfig(format='%(asctime)s : %(levelname)s : %(message)s', level=logging.ERROR)\n",
    "from jupyterthemes import jtplot\n",
    "jtplot.style(theme='monokai', context='notebook', ticks=True, grid=False)\n",
    "import matplotlib.colors as mcolors\n",
    "from matplotlib.ticker import MaxNLocator\n",
    "pyLDAvis.enable_notebook()\n",
    "import pyLDAvis.gensim"
   ]
  },
  {
   "cell_type": "code",
<<<<<<< HEAD
<<<<<<< HEAD
   "execution_count": 3,
=======
   "execution_count": 5,
>>>>>>> d4b10f90f9101a528988cd1cd24253f8e47702f9
=======
   "execution_count": 5,
>>>>>>> main
   "id": "narrow-member",
   "metadata": {
    "colab": {
     "base_uri": "https://localhost:8080/",
     "height": 619
    },
    "executionInfo": {
     "elapsed": 29054,
     "status": "ok",
     "timestamp": 1617678885266,
     "user": {
      "displayName": "Diego Alejandro Bermudez Sierra",
      "photoUrl": "https://lh3.googleusercontent.com/a-/AOh14Giaky64TFemsJXXopg9ctEkZ2B3Iz-B3Kh0Jyl9QA=s64",
      "userId": "09605770473678301910"
     },
     "user_tz": 300
    },
    "id": "republican-keyboard",
    "outputId": "1072cc05-4c23-4894-a6e3-e447413aa7ae"
   },
   "outputs": [
    {
     "name": "stderr",
     "output_type": "stream",
     "text": [
      "C:\\Users\\JOSE\\anaconda3\\lib\\site-packages\\ipykernel\\ipkernel.py:287: DeprecationWarning: `should_run_async` will not call `transform_cell` automatically in the future. Please pass the result to `transformed_cell` argument and any exception that happen during thetransform in `preprocessing_exc_tuple` in IPython 7.17 and above.\n",
      "  and should_run_async(code)\n"
     ]
    },
    {
     "data": {
      "text/html": [
       "<div>\n",
       "<style scoped>\n",
       "    .dataframe tbody tr th:only-of-type {\n",
       "        vertical-align: middle;\n",
       "    }\n",
       "\n",
       "    .dataframe tbody tr th {\n",
       "        vertical-align: top;\n",
       "    }\n",
       "\n",
       "    .dataframe thead th {\n",
       "        text-align: right;\n",
       "    }\n",
       "</style>\n",
       "<table border=\"1\" class=\"dataframe\">\n",
       "  <thead>\n",
       "    <tr style=\"text-align: right;\">\n",
       "      <th></th>\n",
       "      <th>Unnamed: 0</th>\n",
       "      <th>ID</th>\n",
       "      <th>Snippet</th>\n",
       "      <th>Victima</th>\n",
       "      <th>Victimario</th>\n",
       "      <th>Xenofobia</th>\n",
       "      <th>Denuncia</th>\n",
       "      <th>Positiva</th>\n",
       "      <th>Tag 666 777</th>\n",
       "      <th>Marcados</th>\n",
       "    </tr>\n",
       "  </thead>\n",
       "  <tbody>\n",
       "    <tr>\n",
       "      <th>0</th>\n",
       "      <td>0</td>\n",
       "      <td>0</td>\n",
       "      <td>Una vez llegué a mi casa y habían 5 venezolano...</td>\n",
       "      <td>0</td>\n",
       "      <td>0</td>\n",
       "      <td>0</td>\n",
       "      <td>0</td>\n",
       "      <td>1</td>\n",
       "      <td>0</td>\n",
       "      <td>1</td>\n",
       "    </tr>\n",
       "    <tr>\n",
       "      <th>1</th>\n",
       "      <td>1</td>\n",
       "      <td>1</td>\n",
       "      <td>Soy venezolano y es triste admitir esa realida...</td>\n",
       "      <td>1</td>\n",
       "      <td>0</td>\n",
       "      <td>0</td>\n",
       "      <td>0</td>\n",
       "      <td>1</td>\n",
       "      <td>0</td>\n",
       "      <td>1</td>\n",
       "    </tr>\n",
       "    <tr>\n",
       "      <th>2</th>\n",
       "      <td>2</td>\n",
       "      <td>2</td>\n",
       "      <td>Hice Dulce de lechosa venezolano oyendo y bail...</td>\n",
       "      <td>0</td>\n",
       "      <td>0</td>\n",
       "      <td>0</td>\n",
       "      <td>0</td>\n",
       "      <td>0</td>\n",
       "      <td>0</td>\n",
       "      <td>1</td>\n",
       "    </tr>\n",
       "    <tr>\n",
       "      <th>3</th>\n",
       "      <td>3</td>\n",
       "      <td>3</td>\n",
       "      <td>@Roberto_MunozC Me refería al mercado interno ...</td>\n",
       "      <td>0</td>\n",
       "      <td>0</td>\n",
       "      <td>0</td>\n",
       "      <td>0</td>\n",
       "      <td>0</td>\n",
       "      <td>0</td>\n",
       "      <td>1</td>\n",
       "    </tr>\n",
       "    <tr>\n",
       "      <th>4</th>\n",
       "      <td>4</td>\n",
       "      <td>4</td>\n",
       "      <td>@kenin_nunez @SOMOSRIOCRECID Estos venecos, ha...</td>\n",
       "      <td>0</td>\n",
       "      <td>0</td>\n",
       "      <td>1</td>\n",
       "      <td>0</td>\n",
       "      <td>0</td>\n",
       "      <td>0</td>\n",
       "      <td>1</td>\n",
       "    </tr>\n",
       "    <tr>\n",
       "      <th>...</th>\n",
       "      <td>...</td>\n",
       "      <td>...</td>\n",
       "      <td>...</td>\n",
       "      <td>...</td>\n",
       "      <td>...</td>\n",
       "      <td>...</td>\n",
       "      <td>...</td>\n",
       "      <td>...</td>\n",
       "      <td>...</td>\n",
       "      <td>...</td>\n",
       "    </tr>\n",
       "    <tr>\n",
       "      <th>562545</th>\n",
       "      <td>562545</td>\n",
       "      <td>562547</td>\n",
       "      <td>@kikscamp Creo que estamos viendo marchas dife...</td>\n",
       "      <td>0</td>\n",
       "      <td>0</td>\n",
       "      <td>0</td>\n",
       "      <td>0</td>\n",
       "      <td>0</td>\n",
       "      <td>0</td>\n",
       "      <td>0</td>\n",
       "    </tr>\n",
       "    <tr>\n",
       "      <th>562546</th>\n",
       "      <td>562546</td>\n",
       "      <td>562548</td>\n",
       "      <td>@WRadioColombia Llora por los venezolanos, por...</td>\n",
       "      <td>0</td>\n",
       "      <td>0</td>\n",
       "      <td>0</td>\n",
       "      <td>0</td>\n",
       "      <td>0</td>\n",
       "      <td>0</td>\n",
       "      <td>0</td>\n",
       "    </tr>\n",
       "    <tr>\n",
       "      <th>562547</th>\n",
       "      <td>562547</td>\n",
       "      <td>562549</td>\n",
       "      <td>Un pastor cristiano fue atacado por un migrant...</td>\n",
       "      <td>0</td>\n",
       "      <td>0</td>\n",
       "      <td>0</td>\n",
       "      <td>0</td>\n",
       "      <td>0</td>\n",
       "      <td>0</td>\n",
       "      <td>0</td>\n",
       "    </tr>\n",
       "    <tr>\n",
       "      <th>562548</th>\n",
       "      <td>562548</td>\n",
       "      <td>562550</td>\n",
       "      <td>@NoticiasRCN Están cagaos porque su guarida ve...</td>\n",
       "      <td>0</td>\n",
       "      <td>0</td>\n",
       "      <td>0</td>\n",
       "      <td>0</td>\n",
       "      <td>0</td>\n",
       "      <td>0</td>\n",
       "      <td>0</td>\n",
       "    </tr>\n",
       "    <tr>\n",
       "      <th>562549</th>\n",
       "      <td>562549</td>\n",
       "      <td>562551</td>\n",
       "      <td>Ante la masiva llegada de población migrante d...</td>\n",
       "      <td>0</td>\n",
       "      <td>0</td>\n",
       "      <td>0</td>\n",
       "      <td>0</td>\n",
       "      <td>0</td>\n",
       "      <td>0</td>\n",
       "      <td>0</td>\n",
       "    </tr>\n",
       "  </tbody>\n",
       "</table>\n",
       "<p>562550 rows × 10 columns</p>\n",
       "</div>"
      ],
      "text/plain": [
       "        Unnamed: 0      ID                                            Snippet  \\\n",
       "0                0       0  Una vez llegué a mi casa y habían 5 venezolano...   \n",
       "1                1       1  Soy venezolano y es triste admitir esa realida...   \n",
       "2                2       2  Hice Dulce de lechosa venezolano oyendo y bail...   \n",
       "3                3       3  @Roberto_MunozC Me refería al mercado interno ...   \n",
       "4                4       4  @kenin_nunez @SOMOSRIOCRECID Estos venecos, ha...   \n",
       "...            ...     ...                                                ...   \n",
       "562545      562545  562547  @kikscamp Creo que estamos viendo marchas dife...   \n",
       "562546      562546  562548  @WRadioColombia Llora por los venezolanos, por...   \n",
       "562547      562547  562549  Un pastor cristiano fue atacado por un migrant...   \n",
       "562548      562548  562550  @NoticiasRCN Están cagaos porque su guarida ve...   \n",
       "562549      562549  562551  Ante la masiva llegada de población migrante d...   \n",
       "\n",
       "        Victima  Victimario  Xenofobia  Denuncia  Positiva  Tag 666 777  \\\n",
       "0             0           0          0         0         1            0   \n",
       "1             1           0          0         0         1            0   \n",
       "2             0           0          0         0         0            0   \n",
       "3             0           0          0         0         0            0   \n",
       "4             0           0          1         0         0            0   \n",
       "...         ...         ...        ...       ...       ...          ...   \n",
       "562545        0           0          0         0         0            0   \n",
       "562546        0           0          0         0         0            0   \n",
       "562547        0           0          0         0         0            0   \n",
       "562548        0           0          0         0         0            0   \n",
       "562549        0           0          0         0         0            0   \n",
       "\n",
       "        Marcados  \n",
       "0              1  \n",
       "1              1  \n",
       "2              1  \n",
       "3              1  \n",
       "4              1  \n",
       "...          ...  \n",
       "562545         0  \n",
       "562546         0  \n",
       "562547         0  \n",
       "562548         0  \n",
       "562549         0  \n",
       "\n",
       "[562550 rows x 10 columns]"
      ]
     },
<<<<<<< HEAD
<<<<<<< HEAD
     "execution_count": 3,
=======
     "execution_count": 5,
>>>>>>> d4b10f90f9101a528988cd1cd24253f8e47702f9
=======
     "execution_count": 5,
>>>>>>> main
     "metadata": {},
     "output_type": "execute_result"
    }
   ],
   "source": [
    "path='/Users/diegoalejandrobermudezsierra/OneDrive - Universidad de los Andes/BX/LDA/Base_final_supervisada.xlsx'\n",
    "base_entera = pd.read_excel(r'C:\\Users\\JOSE\\Desktop\\Trabajo\\BX\\Supervisado\\Base_final_supervisada.xlsx')\n",
    "base_entera"
   ]
  },
  {
   "cell_type": "code",
<<<<<<< HEAD
<<<<<<< HEAD
   "execution_count": 4,
=======
   "execution_count": 6,
>>>>>>> d4b10f90f9101a528988cd1cd24253f8e47702f9
=======
   "execution_count": 6,
>>>>>>> main
   "id": "public-cooper",
   "metadata": {},
   "outputs": [
    {
     "name": "stderr",
     "output_type": "stream",
     "text": [
      "C:\\Users\\JOSE\\anaconda3\\lib\\site-packages\\ipykernel\\ipkernel.py:287: DeprecationWarning: `should_run_async` will not call `transform_cell` automatically in the future. Please pass the result to `transformed_cell` argument and any exception that happen during thetransform in `preprocessing_exc_tuple` in IPython 7.17 and above.\n",
      "  and should_run_async(code)\n"
     ]
    },
    {
     "data": {
      "text/html": [
       "<div>\n",
       "<style scoped>\n",
       "    .dataframe tbody tr th:only-of-type {\n",
       "        vertical-align: middle;\n",
       "    }\n",
       "\n",
       "    .dataframe tbody tr th {\n",
       "        vertical-align: top;\n",
       "    }\n",
       "\n",
       "    .dataframe thead th {\n",
       "        text-align: right;\n",
       "    }\n",
       "</style>\n",
       "<table border=\"1\" class=\"dataframe\">\n",
       "  <thead>\n",
       "    <tr style=\"text-align: right;\">\n",
       "      <th></th>\n",
       "      <th>Unnamed: 0</th>\n",
       "      <th>ID</th>\n",
       "      <th>Snippet</th>\n",
       "      <th>Victima</th>\n",
       "      <th>Victimario</th>\n",
       "      <th>Xenofobia</th>\n",
       "      <th>Denuncia</th>\n",
       "      <th>Positiva</th>\n",
       "      <th>Tag 666 777</th>\n",
       "      <th>Marcados</th>\n",
       "    </tr>\n",
       "  </thead>\n",
       "  <tbody>\n",
       "    <tr>\n",
       "      <th>4</th>\n",
       "      <td>4</td>\n",
       "      <td>4</td>\n",
       "      <td>@kenin_nunez @SOMOSRIOCRECID Estos venecos, ha...</td>\n",
       "      <td>0</td>\n",
       "      <td>0</td>\n",
       "      <td>1</td>\n",
       "      <td>0</td>\n",
       "      <td>0</td>\n",
       "      <td>0</td>\n",
       "      <td>1</td>\n",
       "    </tr>\n",
       "    <tr>\n",
       "      <th>7</th>\n",
       "      <td>7</td>\n",
       "      <td>7</td>\n",
       "      <td>@BrianSnow007 @anGspot @iKarlyzr Eso es falso,...</td>\n",
       "      <td>1</td>\n",
       "      <td>0</td>\n",
       "      <td>1</td>\n",
       "      <td>1</td>\n",
       "      <td>0</td>\n",
       "      <td>0</td>\n",
       "      <td>1</td>\n",
       "    </tr>\n",
       "    <tr>\n",
       "      <th>9</th>\n",
       "      <td>9</td>\n",
       "      <td>9</td>\n",
       "      <td>@fabrorejon Vergacion, ya se puso veneco</td>\n",
       "      <td>1</td>\n",
       "      <td>0</td>\n",
       "      <td>1</td>\n",
       "      <td>0</td>\n",
       "      <td>0</td>\n",
       "      <td>0</td>\n",
       "      <td>1</td>\n",
       "    </tr>\n",
       "    <tr>\n",
       "      <th>10</th>\n",
       "      <td>10</td>\n",
       "      <td>10</td>\n",
       "      <td>@Salas91Adrian @Camilousuga11 @SaqueLargoWin A...</td>\n",
       "      <td>1</td>\n",
       "      <td>0</td>\n",
       "      <td>1</td>\n",
       "      <td>0</td>\n",
       "      <td>0</td>\n",
       "      <td>0</td>\n",
       "      <td>1</td>\n",
       "    </tr>\n",
       "    <tr>\n",
       "      <th>11</th>\n",
       "      <td>11</td>\n",
       "      <td>11</td>\n",
       "      <td>Si cuando la generación equivocada la que no l...</td>\n",
       "      <td>0</td>\n",
       "      <td>0</td>\n",
       "      <td>1</td>\n",
       "      <td>0</td>\n",
       "      <td>0</td>\n",
       "      <td>0</td>\n",
       "      <td>1</td>\n",
       "    </tr>\n",
       "    <tr>\n",
       "      <th>...</th>\n",
       "      <td>...</td>\n",
       "      <td>...</td>\n",
       "      <td>...</td>\n",
       "      <td>...</td>\n",
       "      <td>...</td>\n",
       "      <td>...</td>\n",
       "      <td>...</td>\n",
       "      <td>...</td>\n",
       "      <td>...</td>\n",
       "      <td>...</td>\n",
       "    </tr>\n",
       "    <tr>\n",
       "      <th>549958</th>\n",
       "      <td>549958</td>\n",
       "      <td>549960</td>\n",
       "      <td>No estoy en contra de las ayudas al pueblo Ven...</td>\n",
       "      <td>0</td>\n",
       "      <td>0</td>\n",
       "      <td>1</td>\n",
       "      <td>0</td>\n",
       "      <td>0</td>\n",
       "      <td>0</td>\n",
       "      <td>1</td>\n",
       "    </tr>\n",
       "    <tr>\n",
       "      <th>549960</th>\n",
       "      <td>549960</td>\n",
       "      <td>549962</td>\n",
       "      <td>Eso sí no permitiré que otra venezolana me lle...</td>\n",
       "      <td>0</td>\n",
       "      <td>0</td>\n",
       "      <td>1</td>\n",
       "      <td>0</td>\n",
       "      <td>0</td>\n",
       "      <td>0</td>\n",
       "      <td>1</td>\n",
       "    </tr>\n",
       "    <tr>\n",
       "      <th>549968</th>\n",
       "      <td>549968</td>\n",
       "      <td>549970</td>\n",
       "      <td>@NoticiasCaracol Rara vez estoy de acuerdo con...</td>\n",
       "      <td>0</td>\n",
       "      <td>0</td>\n",
       "      <td>1</td>\n",
       "      <td>0</td>\n",
       "      <td>0</td>\n",
       "      <td>0</td>\n",
       "      <td>1</td>\n",
       "    </tr>\n",
       "    <tr>\n",
       "      <th>549971</th>\n",
       "      <td>549971</td>\n",
       "      <td>549973</td>\n",
       "      <td>@AlbertoBernalLe Además los tm en bgta.llenos ...</td>\n",
       "      <td>0</td>\n",
       "      <td>0</td>\n",
       "      <td>1</td>\n",
       "      <td>0</td>\n",
       "      <td>0</td>\n",
       "      <td>0</td>\n",
       "      <td>1</td>\n",
       "    </tr>\n",
       "    <tr>\n",
       "      <th>549984</th>\n",
       "      <td>549984</td>\n",
       "      <td>549986</td>\n",
       "      <td>@ActualidadRT @clayito2018 Por algo le Dicen l...</td>\n",
       "      <td>0</td>\n",
       "      <td>0</td>\n",
       "      <td>1</td>\n",
       "      <td>0</td>\n",
       "      <td>0</td>\n",
       "      <td>0</td>\n",
       "      <td>1</td>\n",
       "    </tr>\n",
       "  </tbody>\n",
       "</table>\n",
       "<p>30435 rows × 10 columns</p>\n",
       "</div>"
      ],
      "text/plain": [
       "        Unnamed: 0      ID                                            Snippet  \\\n",
       "4                4       4  @kenin_nunez @SOMOSRIOCRECID Estos venecos, ha...   \n",
       "7                7       7  @BrianSnow007 @anGspot @iKarlyzr Eso es falso,...   \n",
       "9                9       9           @fabrorejon Vergacion, ya se puso veneco   \n",
       "10              10      10  @Salas91Adrian @Camilousuga11 @SaqueLargoWin A...   \n",
       "11              11      11  Si cuando la generación equivocada la que no l...   \n",
       "...            ...     ...                                                ...   \n",
       "549958      549958  549960  No estoy en contra de las ayudas al pueblo Ven...   \n",
       "549960      549960  549962  Eso sí no permitiré que otra venezolana me lle...   \n",
       "549968      549968  549970  @NoticiasCaracol Rara vez estoy de acuerdo con...   \n",
       "549971      549971  549973  @AlbertoBernalLe Además los tm en bgta.llenos ...   \n",
       "549984      549984  549986  @ActualidadRT @clayito2018 Por algo le Dicen l...   \n",
       "\n",
       "        Victima  Victimario  Xenofobia  Denuncia  Positiva  Tag 666 777  \\\n",
       "4             0           0          1         0         0            0   \n",
       "7             1           0          1         1         0            0   \n",
       "9             1           0          1         0         0            0   \n",
       "10            1           0          1         0         0            0   \n",
       "11            0           0          1         0         0            0   \n",
       "...         ...         ...        ...       ...       ...          ...   \n",
       "549958        0           0          1         0         0            0   \n",
       "549960        0           0          1         0         0            0   \n",
       "549968        0           0          1         0         0            0   \n",
       "549971        0           0          1         0         0            0   \n",
       "549984        0           0          1         0         0            0   \n",
       "\n",
       "        Marcados  \n",
       "4              1  \n",
       "7              1  \n",
       "9              1  \n",
       "10             1  \n",
       "11             1  \n",
       "...          ...  \n",
       "549958         1  \n",
       "549960         1  \n",
       "549968         1  \n",
       "549971         1  \n",
       "549984         1  \n",
       "\n",
       "[30435 rows x 10 columns]"
      ]
     },
<<<<<<< HEAD
<<<<<<< HEAD
     "execution_count": 4,
=======
     "execution_count": 6,
>>>>>>> d4b10f90f9101a528988cd1cd24253f8e47702f9
=======
     "execution_count": 6,
>>>>>>> main
     "metadata": {},
     "output_type": "execute_result"
    }
   ],
   "source": [
    "df = base_entera[base_entera['Xenofobia'] == 1]\n",
    "df"
   ]
  },
  {
   "cell_type": "code",
<<<<<<< HEAD
<<<<<<< HEAD
   "execution_count": 5,
=======
   "execution_count": 7,
>>>>>>> d4b10f90f9101a528988cd1cd24253f8e47702f9
=======
   "execution_count": 7,
>>>>>>> main
   "id": "special-kitty",
   "metadata": {
    "id": "T5KOVtvH0N74"
   },
   "outputs": [
    {
     "name": "stdout",
     "output_type": "stream",
     "text": [
      "62\n"
     ]
    },
    {
     "name": "stderr",
     "output_type": "stream",
     "text": [
      "C:\\Users\\JOSE\\anaconda3\\lib\\site-packages\\ipykernel\\ipkernel.py:287: DeprecationWarning: `should_run_async` will not call `transform_cell` automatically in the future. Please pass the result to `transformed_cell` argument and any exception that happen during thetransform in `preprocessing_exc_tuple` in IPython 7.17 and above.\n",
      "  and should_run_async(code)\n"
     ]
    },
    {
     "data": {
      "text/html": [
       "<div>\n",
       "<style scoped>\n",
       "    .dataframe tbody tr th:only-of-type {\n",
       "        vertical-align: middle;\n",
       "    }\n",
       "\n",
       "    .dataframe tbody tr th {\n",
       "        vertical-align: top;\n",
       "    }\n",
       "\n",
       "    .dataframe thead th {\n",
       "        text-align: right;\n",
       "    }\n",
       "</style>\n",
       "<table border=\"1\" class=\"dataframe\">\n",
       "  <thead>\n",
       "    <tr style=\"text-align: right;\">\n",
       "      <th></th>\n",
       "      <th>Unnamed: 0</th>\n",
       "      <th>ID</th>\n",
       "      <th>Snippet</th>\n",
       "      <th>Victima</th>\n",
       "      <th>Victimario</th>\n",
       "      <th>Xenofobia</th>\n",
       "      <th>Denuncia</th>\n",
       "      <th>Positiva</th>\n",
       "      <th>Tag 666 777</th>\n",
       "      <th>Marcados</th>\n",
       "    </tr>\n",
       "  </thead>\n",
       "  <tbody>\n",
       "    <tr>\n",
       "      <th>15</th>\n",
       "      <td>15</td>\n",
       "      <td>15</td>\n",
       "      <td>@SdrodriguezT xenofobia?? Hermanos venezolanos...</td>\n",
       "      <td>0</td>\n",
       "      <td>0</td>\n",
       "      <td>1</td>\n",
       "      <td>0</td>\n",
       "      <td>0</td>\n",
       "      <td>0</td>\n",
       "      <td>1</td>\n",
       "    </tr>\n",
       "    <tr>\n",
       "      <th>243</th>\n",
       "      <td>243</td>\n",
       "      <td>243</td>\n",
       "      <td>@capimoniu @MigracionCol @BOG_ELDORADO Y con l...</td>\n",
       "      <td>0</td>\n",
       "      <td>0</td>\n",
       "      <td>1</td>\n",
       "      <td>0</td>\n",
       "      <td>0</td>\n",
       "      <td>0</td>\n",
       "      <td>1</td>\n",
       "    </tr>\n",
       "    <tr>\n",
       "      <th>269</th>\n",
       "      <td>269</td>\n",
       "      <td>269</td>\n",
       "      <td>@yimmys Venecos!!</td>\n",
       "      <td>0</td>\n",
       "      <td>0</td>\n",
       "      <td>1</td>\n",
       "      <td>0</td>\n",
       "      <td>0</td>\n",
       "      <td>0</td>\n",
       "      <td>1</td>\n",
       "    </tr>\n",
       "    <tr>\n",
       "      <th>818</th>\n",
       "      <td>818</td>\n",
       "      <td>818</td>\n",
       "      <td>@Victor_mz73 @ColombiaHumana_ Puras palabras d...</td>\n",
       "      <td>0</td>\n",
       "      <td>0</td>\n",
       "      <td>1</td>\n",
       "      <td>0</td>\n",
       "      <td>0</td>\n",
       "      <td>0</td>\n",
       "      <td>1</td>\n",
       "    </tr>\n",
       "    <tr>\n",
       "      <th>1337</th>\n",
       "      <td>1337</td>\n",
       "      <td>1337</td>\n",
       "      <td>@alejandraoraa Amor, primero que los venezolan...</td>\n",
       "      <td>0</td>\n",
       "      <td>0</td>\n",
       "      <td>1</td>\n",
       "      <td>0</td>\n",
       "      <td>0</td>\n",
       "      <td>0</td>\n",
       "      <td>1</td>\n",
       "    </tr>\n",
       "  </tbody>\n",
       "</table>\n",
       "</div>"
      ],
      "text/plain": [
       "      Unnamed: 0    ID                                            Snippet  \\\n",
       "15            15    15  @SdrodriguezT xenofobia?? Hermanos venezolanos...   \n",
       "243          243   243  @capimoniu @MigracionCol @BOG_ELDORADO Y con l...   \n",
       "269          269   269                                  @yimmys Venecos!!   \n",
       "818          818   818  @Victor_mz73 @ColombiaHumana_ Puras palabras d...   \n",
       "1337        1337  1337  @alejandraoraa Amor, primero que los venezolan...   \n",
       "\n",
       "      Victima  Victimario  Xenofobia  Denuncia  Positiva  Tag 666 777  \\\n",
       "15          0           0          1         0         0            0   \n",
       "243         0           0          1         0         0            0   \n",
       "269         0           0          1         0         0            0   \n",
       "818         0           0          1         0         0            0   \n",
       "1337        0           0          1         0         0            0   \n",
       "\n",
       "      Marcados  \n",
       "15           1  \n",
       "243          1  \n",
       "269          1  \n",
       "818          1  \n",
       "1337         1  "
      ]
     },
<<<<<<< HEAD
<<<<<<< HEAD
     "execution_count": 5,
=======
     "execution_count": 7,
>>>>>>> d4b10f90f9101a528988cd1cd24253f8e47702f9
=======
     "execution_count": 7,
>>>>>>> main
     "metadata": {},
     "output_type": "execute_result"
    }
   ],
   "source": [
    "seed(1)\n",
    "values = list(set(randint(0, 22255, 500)))\n",
    "\n",
    "temp=df.loc[df['ID'].isin(values)]\n",
    "print(len(temp))\n",
    "del values\n",
    "\n",
    "temp.head()"
   ]
  },
  {
   "cell_type": "code",
<<<<<<< HEAD
<<<<<<< HEAD
   "execution_count": 6,
=======
   "execution_count": 8,
>>>>>>> d4b10f90f9101a528988cd1cd24253f8e47702f9
=======
   "execution_count": 8,
>>>>>>> main
   "id": "closing-sleeve",
   "metadata": {
    "id": "valuable-reserve"
   },
   "outputs": [
    {
     "name": "stderr",
     "output_type": "stream",
     "text": [
      "C:\\Users\\JOSE\\anaconda3\\lib\\site-packages\\ipykernel\\ipkernel.py:287: DeprecationWarning: `should_run_async` will not call `transform_cell` automatically in the future. Please pass the result to `transformed_cell` argument and any exception that happen during thetransform in `preprocessing_exc_tuple` in IPython 7.17 and above.\n",
      "  and should_run_async(code)\n",
      "<>:16: DeprecationWarning: invalid escape sequence \\.\n",
      "<>:16: DeprecationWarning: invalid escape sequence \\.\n",
<<<<<<< HEAD
<<<<<<< HEAD
      "<ipython-input-6-85578270f296>:16: DeprecationWarning: invalid escape sequence \\.\n",
      "  df['Clean_Text'] = df['Clean_Text'].map(lambda x: re.sub('[,\\.!?]', '', x))\n",
      "<ipython-input-6-85578270f296>:2: SettingWithCopyWarning: \n",
=======
      "<ipython-input-8-85578270f296>:16: DeprecationWarning: invalid escape sequence \\.\n",
      "  df['Clean_Text'] = df['Clean_Text'].map(lambda x: re.sub('[,\\.!?]', '', x))\n",
      "<ipython-input-8-85578270f296>:2: SettingWithCopyWarning: \n",
>>>>>>> d4b10f90f9101a528988cd1cd24253f8e47702f9
=======
      "<ipython-input-8-85578270f296>:16: DeprecationWarning: invalid escape sequence \\.\n",
      "  df['Clean_Text'] = df['Clean_Text'].map(lambda x: re.sub('[,\\.!?]', '', x))\n",
      "<ipython-input-8-85578270f296>:2: SettingWithCopyWarning: \n",
>>>>>>> main
      "A value is trying to be set on a copy of a slice from a DataFrame.\n",
      "Try using .loc[row_indexer,col_indexer] = value instead\n",
      "\n",
      "See the caveats in the documentation: https://pandas.pydata.org/pandas-docs/stable/user_guide/indexing.html#returning-a-view-versus-a-copy\n",
      "  df['Clean_Text']=df['Snippet'].replace(r\"http\\S+\", '', regex=True)\n",
<<<<<<< HEAD
<<<<<<< HEAD
      "<ipython-input-6-85578270f296>:4: SettingWithCopyWarning: \n",
=======
      "<ipython-input-8-85578270f296>:4: SettingWithCopyWarning: \n",
>>>>>>> d4b10f90f9101a528988cd1cd24253f8e47702f9
=======
      "<ipython-input-8-85578270f296>:4: SettingWithCopyWarning: \n",
>>>>>>> main
      "A value is trying to be set on a copy of a slice from a DataFrame.\n",
      "Try using .loc[row_indexer,col_indexer] = value instead\n",
      "\n",
      "See the caveats in the documentation: https://pandas.pydata.org/pandas-docs/stable/user_guide/indexing.html#returning-a-view-versus-a-copy\n",
      "  df['Clean_Text']=df['Clean_Text'].replace('#\\\\w+', '', regex=True)\n",
<<<<<<< HEAD
<<<<<<< HEAD
      "<ipython-input-6-85578270f296>:6: SettingWithCopyWarning: \n",
=======
      "<ipython-input-8-85578270f296>:6: SettingWithCopyWarning: \n",
>>>>>>> d4b10f90f9101a528988cd1cd24253f8e47702f9
=======
      "<ipython-input-8-85578270f296>:6: SettingWithCopyWarning: \n",
>>>>>>> main
      "A value is trying to be set on a copy of a slice from a DataFrame.\n",
      "Try using .loc[row_indexer,col_indexer] = value instead\n",
      "\n",
      "See the caveats in the documentation: https://pandas.pydata.org/pandas-docs/stable/user_guide/indexing.html#returning-a-view-versus-a-copy\n",
      "  df['Clean_Text']=df['Clean_Text'].replace(r'([^0-9a-zA-Z])\\1+', r'\\1', regex=True)\n",
<<<<<<< HEAD
<<<<<<< HEAD
      "<ipython-input-6-85578270f296>:8: SettingWithCopyWarning: \n",
=======
      "<ipython-input-8-85578270f296>:8: SettingWithCopyWarning: \n",
>>>>>>> d4b10f90f9101a528988cd1cd24253f8e47702f9
=======
      "<ipython-input-8-85578270f296>:8: SettingWithCopyWarning: \n",
>>>>>>> main
      "A value is trying to be set on a copy of a slice from a DataFrame.\n",
      "Try using .loc[row_indexer,col_indexer] = value instead\n",
      "\n",
      "See the caveats in the documentation: https://pandas.pydata.org/pandas-docs/stable/user_guide/indexing.html#returning-a-view-versus-a-copy\n",
      "  df['Clean_Text']=df['Clean_Text'].replace(r'^[^0-9a-zA-Z@#]+', '', regex=True)\n",
<<<<<<< HEAD
<<<<<<< HEAD
      "<ipython-input-6-85578270f296>:10: SettingWithCopyWarning: \n",
=======
      "<ipython-input-8-85578270f296>:10: SettingWithCopyWarning: \n",
>>>>>>> d4b10f90f9101a528988cd1cd24253f8e47702f9
=======
      "<ipython-input-8-85578270f296>:10: SettingWithCopyWarning: \n",
>>>>>>> main
      "A value is trying to be set on a copy of a slice from a DataFrame.\n",
      "Try using .loc[row_indexer,col_indexer] = value instead\n",
      "\n",
      "See the caveats in the documentation: https://pandas.pydata.org/pandas-docs/stable/user_guide/indexing.html#returning-a-view-versus-a-copy\n",
      "  df['Clean_Text']=df['Clean_Text'].replace(r'()\\1+', r'\\1\\1', regex=True)\n",
<<<<<<< HEAD
<<<<<<< HEAD
      "<ipython-input-6-85578270f296>:12: SettingWithCopyWarning: \n",
=======
      "<ipython-input-8-85578270f296>:12: SettingWithCopyWarning: \n",
>>>>>>> d4b10f90f9101a528988cd1cd24253f8e47702f9
=======
      "<ipython-input-8-85578270f296>:12: SettingWithCopyWarning: \n",
>>>>>>> main
      "A value is trying to be set on a copy of a slice from a DataFrame.\n",
      "Try using .loc[row_indexer,col_indexer] = value instead\n",
      "\n",
      "See the caveats in the documentation: https://pandas.pydata.org/pandas-docs/stable/user_guide/indexing.html#returning-a-view-versus-a-copy\n",
      "  df['Clean_Text']=df['Clean_Text'].replace(r'(.)\\1+', r'\\1\\1', regex=True)\n",
<<<<<<< HEAD
<<<<<<< HEAD
      "<ipython-input-6-85578270f296>:14: SettingWithCopyWarning: \n",
=======
      "<ipython-input-8-85578270f296>:14: SettingWithCopyWarning: \n",
>>>>>>> d4b10f90f9101a528988cd1cd24253f8e47702f9
=======
      "<ipython-input-8-85578270f296>:14: SettingWithCopyWarning: \n",
>>>>>>> main
      "A value is trying to be set on a copy of a slice from a DataFrame.\n",
      "Try using .loc[row_indexer,col_indexer] = value instead\n",
      "\n",
      "See the caveats in the documentation: https://pandas.pydata.org/pandas-docs/stable/user_guide/indexing.html#returning-a-view-versus-a-copy\n",
      "  df['Clean_Text']=df['Clean_Text'].replace('\"', '', regex=True)\n",
<<<<<<< HEAD
<<<<<<< HEAD
      "<ipython-input-6-85578270f296>:16: SettingWithCopyWarning: \n",
=======
      "<ipython-input-8-85578270f296>:16: SettingWithCopyWarning: \n",
>>>>>>> d4b10f90f9101a528988cd1cd24253f8e47702f9
=======
      "<ipython-input-8-85578270f296>:16: SettingWithCopyWarning: \n",
>>>>>>> main
      "A value is trying to be set on a copy of a slice from a DataFrame.\n",
      "Try using .loc[row_indexer,col_indexer] = value instead\n",
      "\n",
      "See the caveats in the documentation: https://pandas.pydata.org/pandas-docs/stable/user_guide/indexing.html#returning-a-view-versus-a-copy\n",
      "  df['Clean_Text'] = df['Clean_Text'].map(lambda x: re.sub('[,\\.!?]', '', x))\n",
<<<<<<< HEAD
<<<<<<< HEAD
      "<ipython-input-6-85578270f296>:18: SettingWithCopyWarning: \n",
=======
      "<ipython-input-8-85578270f296>:18: SettingWithCopyWarning: \n",
>>>>>>> d4b10f90f9101a528988cd1cd24253f8e47702f9
=======
      "<ipython-input-8-85578270f296>:18: SettingWithCopyWarning: \n",
>>>>>>> main
      "A value is trying to be set on a copy of a slice from a DataFrame.\n",
      "Try using .loc[row_indexer,col_indexer] = value instead\n",
      "\n",
      "See the caveats in the documentation: https://pandas.pydata.org/pandas-docs/stable/user_guide/indexing.html#returning-a-view-versus-a-copy\n",
      "  df['Clean_Text'] = df['Clean_Text'].map(lambda x: x.lower())\n"
     ]
    },
    {
     "data": {
      "text/html": [
       "<div>\n",
       "<style scoped>\n",
       "    .dataframe tbody tr th:only-of-type {\n",
       "        vertical-align: middle;\n",
       "    }\n",
       "\n",
       "    .dataframe tbody tr th {\n",
       "        vertical-align: top;\n",
       "    }\n",
       "\n",
       "    .dataframe thead th {\n",
       "        text-align: right;\n",
       "    }\n",
       "</style>\n",
       "<table border=\"1\" class=\"dataframe\">\n",
       "  <thead>\n",
       "    <tr style=\"text-align: right;\">\n",
       "      <th></th>\n",
       "      <th>index</th>\n",
       "      <th>Unnamed: 0</th>\n",
       "      <th>ID</th>\n",
       "      <th>Snippet</th>\n",
       "      <th>Victima</th>\n",
       "      <th>Victimario</th>\n",
       "      <th>Xenofobia</th>\n",
       "      <th>Denuncia</th>\n",
       "      <th>Positiva</th>\n",
       "      <th>Tag 666 777</th>\n",
       "      <th>Marcados</th>\n",
       "      <th>Clean_Text</th>\n",
       "    </tr>\n",
       "  </thead>\n",
       "  <tbody>\n",
       "    <tr>\n",
       "      <th>0</th>\n",
       "      <td>0</td>\n",
       "      <td>4</td>\n",
       "      <td>4</td>\n",
       "      <td>@kenin_nunez @SOMOSRIOCRECID Estos venecos, ha...</td>\n",
       "      <td>0</td>\n",
       "      <td>0</td>\n",
       "      <td>1</td>\n",
       "      <td>0</td>\n",
       "      <td>0</td>\n",
       "      <td>0</td>\n",
       "      <td>1</td>\n",
       "      <td>@kenin_nunez @somosriocrecid estos venecos has...</td>\n",
       "    </tr>\n",
       "    <tr>\n",
       "      <th>1</th>\n",
       "      <td>1</td>\n",
       "      <td>7</td>\n",
       "      <td>7</td>\n",
       "      <td>@BrianSnow007 @anGspot @iKarlyzr Eso es falso,...</td>\n",
       "      <td>1</td>\n",
       "      <td>0</td>\n",
       "      <td>1</td>\n",
       "      <td>1</td>\n",
       "      <td>0</td>\n",
       "      <td>0</td>\n",
       "      <td>1</td>\n",
       "      <td>@briansnow007 @angspot @ikarlyzr eso es falso ...</td>\n",
       "    </tr>\n",
       "    <tr>\n",
       "      <th>2</th>\n",
       "      <td>2</td>\n",
       "      <td>9</td>\n",
       "      <td>9</td>\n",
       "      <td>@fabrorejon Vergacion, ya se puso veneco</td>\n",
       "      <td>1</td>\n",
       "      <td>0</td>\n",
       "      <td>1</td>\n",
       "      <td>0</td>\n",
       "      <td>0</td>\n",
       "      <td>0</td>\n",
       "      <td>1</td>\n",
       "      <td>@fabrorejon vergacion ya se puso veneco</td>\n",
       "    </tr>\n",
       "    <tr>\n",
       "      <th>3</th>\n",
       "      <td>3</td>\n",
       "      <td>10</td>\n",
       "      <td>10</td>\n",
       "      <td>@Salas91Adrian @Camilousuga11 @SaqueLargoWin A...</td>\n",
       "      <td>1</td>\n",
       "      <td>0</td>\n",
       "      <td>1</td>\n",
       "      <td>0</td>\n",
       "      <td>0</td>\n",
       "      <td>0</td>\n",
       "      <td>1</td>\n",
       "      <td>@salas91adrian @camilousuga11 @saquelargowin a...</td>\n",
       "    </tr>\n",
       "    <tr>\n",
       "      <th>4</th>\n",
       "      <td>4</td>\n",
       "      <td>11</td>\n",
       "      <td>11</td>\n",
       "      <td>Si cuando la generación equivocada la que no l...</td>\n",
       "      <td>0</td>\n",
       "      <td>0</td>\n",
       "      <td>1</td>\n",
       "      <td>0</td>\n",
       "      <td>0</td>\n",
       "      <td>0</td>\n",
       "      <td>1</td>\n",
       "      <td>si cuando la generación equivocada la que no l...</td>\n",
       "    </tr>\n",
       "    <tr>\n",
       "      <th>5</th>\n",
       "      <td>5</td>\n",
       "      <td>12</td>\n",
       "      <td>12</td>\n",
       "      <td>@mitsukiruki Douglas Bravo, un guerrillero com...</td>\n",
       "      <td>0</td>\n",
       "      <td>0</td>\n",
       "      <td>1</td>\n",
       "      <td>0</td>\n",
       "      <td>0</td>\n",
       "      <td>0</td>\n",
       "      <td>1</td>\n",
       "      <td>@mitsukiruki douglas bravo un guerrillero comu...</td>\n",
       "    </tr>\n",
       "    <tr>\n",
       "      <th>6</th>\n",
       "      <td>6</td>\n",
       "      <td>13</td>\n",
       "      <td>13</td>\n",
       "      <td>Están peor que los venecos estos hijos de puta.</td>\n",
       "      <td>0</td>\n",
       "      <td>0</td>\n",
       "      <td>1</td>\n",
       "      <td>0</td>\n",
       "      <td>0</td>\n",
       "      <td>0</td>\n",
       "      <td>1</td>\n",
       "      <td>están peor que los venecos estos hijos de puta</td>\n",
       "    </tr>\n",
       "    <tr>\n",
       "      <th>7</th>\n",
       "      <td>7</td>\n",
       "      <td>14</td>\n",
       "      <td>14</td>\n",
       "      <td>De la que me salve, esperanza con Cali, ratas ...</td>\n",
       "      <td>0</td>\n",
       "      <td>1</td>\n",
       "      <td>1</td>\n",
       "      <td>0</td>\n",
       "      <td>0</td>\n",
       "      <td>0</td>\n",
       "      <td>1</td>\n",
       "      <td>de la que me salve esperanza con cali ratas co...</td>\n",
       "    </tr>\n",
       "    <tr>\n",
       "      <th>8</th>\n",
       "      <td>8</td>\n",
       "      <td>15</td>\n",
       "      <td>15</td>\n",
       "      <td>@SdrodriguezT xenofobia?? Hermanos venezolanos...</td>\n",
       "      <td>0</td>\n",
       "      <td>0</td>\n",
       "      <td>1</td>\n",
       "      <td>0</td>\n",
       "      <td>0</td>\n",
       "      <td>0</td>\n",
       "      <td>1</td>\n",
       "      <td>@sdrodriguezt xenofobia hermanos venezolanos n...</td>\n",
       "    </tr>\n",
       "    <tr>\n",
       "      <th>9</th>\n",
       "      <td>9</td>\n",
       "      <td>23</td>\n",
       "      <td>23</td>\n",
       "      <td>@FontirroigPablo @norte_canal Con todo el resp...</td>\n",
       "      <td>0</td>\n",
       "      <td>0</td>\n",
       "      <td>1</td>\n",
       "      <td>0</td>\n",
       "      <td>0</td>\n",
       "      <td>0</td>\n",
       "      <td>1</td>\n",
       "      <td>@fontirroigpablo @norte_canal con todo el resp...</td>\n",
       "    </tr>\n",
       "    <tr>\n",
       "      <th>10</th>\n",
       "      <td>10</td>\n",
       "      <td>25</td>\n",
       "      <td>25</td>\n",
       "      <td>Parece que algunos venezolanos hacen estragos ...</td>\n",
       "      <td>0</td>\n",
       "      <td>0</td>\n",
       "      <td>1</td>\n",
       "      <td>0</td>\n",
       "      <td>0</td>\n",
       "      <td>0</td>\n",
       "      <td>1</td>\n",
       "      <td>parece que algunos venezolanos hacen estragos ...</td>\n",
       "    </tr>\n",
       "  </tbody>\n",
       "</table>\n",
       "</div>"
      ],
      "text/plain": [
       "    index  Unnamed: 0  ID                                            Snippet  \\\n",
       "0       0           4   4  @kenin_nunez @SOMOSRIOCRECID Estos venecos, ha...   \n",
       "1       1           7   7  @BrianSnow007 @anGspot @iKarlyzr Eso es falso,...   \n",
       "2       2           9   9           @fabrorejon Vergacion, ya se puso veneco   \n",
       "3       3          10  10  @Salas91Adrian @Camilousuga11 @SaqueLargoWin A...   \n",
       "4       4          11  11  Si cuando la generación equivocada la que no l...   \n",
       "5       5          12  12  @mitsukiruki Douglas Bravo, un guerrillero com...   \n",
       "6       6          13  13    Están peor que los venecos estos hijos de puta.   \n",
       "7       7          14  14  De la que me salve, esperanza con Cali, ratas ...   \n",
       "8       8          15  15  @SdrodriguezT xenofobia?? Hermanos venezolanos...   \n",
       "9       9          23  23  @FontirroigPablo @norte_canal Con todo el resp...   \n",
       "10     10          25  25  Parece que algunos venezolanos hacen estragos ...   \n",
       "\n",
       "    Victima  Victimario  Xenofobia  Denuncia  Positiva  Tag 666 777  Marcados  \\\n",
       "0         0           0          1         0         0            0         1   \n",
       "1         1           0          1         1         0            0         1   \n",
       "2         1           0          1         0         0            0         1   \n",
       "3         1           0          1         0         0            0         1   \n",
       "4         0           0          1         0         0            0         1   \n",
       "5         0           0          1         0         0            0         1   \n",
       "6         0           0          1         0         0            0         1   \n",
       "7         0           1          1         0         0            0         1   \n",
       "8         0           0          1         0         0            0         1   \n",
       "9         0           0          1         0         0            0         1   \n",
       "10        0           0          1         0         0            0         1   \n",
       "\n",
       "                                           Clean_Text  \n",
       "0   @kenin_nunez @somosriocrecid estos venecos has...  \n",
       "1   @briansnow007 @angspot @ikarlyzr eso es falso ...  \n",
       "2             @fabrorejon vergacion ya se puso veneco  \n",
       "3   @salas91adrian @camilousuga11 @saquelargowin a...  \n",
       "4   si cuando la generación equivocada la que no l...  \n",
       "5   @mitsukiruki douglas bravo un guerrillero comu...  \n",
       "6      están peor que los venecos estos hijos de puta  \n",
       "7   de la que me salve esperanza con cali ratas co...  \n",
       "8   @sdrodriguezt xenofobia hermanos venezolanos n...  \n",
       "9   @fontirroigpablo @norte_canal con todo el resp...  \n",
       "10  parece que algunos venezolanos hacen estragos ...  "
      ]
     },
<<<<<<< HEAD
<<<<<<< HEAD
     "execution_count": 6,
=======
     "execution_count": 8,
>>>>>>> d4b10f90f9101a528988cd1cd24253f8e47702f9
=======
     "execution_count": 8,
>>>>>>> main
     "metadata": {},
     "output_type": "execute_result"
    }
   ],
   "source": [
    "#Eliminamos los URL: Todo lo que empieza por  HTTP\n",
    "df['Clean_Text']=df['Snippet'].replace(r\"http\\S+\", '', regex=True)\n",
    "#Eliminamos todos los hashtags\n",
    "df['Clean_Text']=df['Clean_Text'].replace('#\\\\w+', '', regex=True)\n",
    "#Eliminamos los signos de puntuación repetidos dentro de los tweets\n",
    "df['Clean_Text']=df['Clean_Text'].replace(r'([^0-9a-zA-Z])\\1+', r'\\1', regex=True)\n",
    "#Eliminamos los signos de puntuación al inicio de un tweet\n",
    "df['Clean_Text']=df['Clean_Text'].replace(r'^[^0-9a-zA-Z@#]+', '', regex=True)\n",
    "#Eliminamos los dobles espacios\n",
    "df['Clean_Text']=df['Clean_Text'].replace(r'()\\1+', r'\\1\\1', regex=True)\n",
    "#Eliminamos las letras repetivas dentro de las palabras\n",
    "df['Clean_Text']=df['Clean_Text'].replace(r'(.)\\1+', r'\\1\\1', regex=True)\n",
    "# Quitar las comillas de los textos\n",
    "df['Clean_Text']=df['Clean_Text'].replace('\"', '', regex=True)\n",
    "# Remover puntuaciones innecesarias\n",
    "df['Clean_Text'] = df['Clean_Text'].map(lambda x: re.sub('[,\\.!?]', '', x))\n",
    "# Remover mayúsculas de inicio de texto\n",
    "df['Clean_Text'] = df['Clean_Text'].map(lambda x: x.lower())\n",
    "df=df.reset_index(drop=True)\n",
    "df=df.reset_index()\n",
    "df = df.astype({\"Clean_Text\": str})\n",
    "df.head(11)"
   ]
  },
  {
   "cell_type": "code",
<<<<<<< HEAD
<<<<<<< HEAD
   "execution_count": 11,
=======
   "execution_count": 9,
>>>>>>> d4b10f90f9101a528988cd1cd24253f8e47702f9
=======
   "execution_count": 9,
>>>>>>> main
   "id": "endangered-extra",
   "metadata": {},
   "outputs": [
    {
     "name": "stderr",
     "output_type": "stream",
     "text": [
      "C:\\Users\\JOSE\\anaconda3\\lib\\site-packages\\ipykernel\\ipkernel.py:287: DeprecationWarning: `should_run_async` will not call `transform_cell` automatically in the future. Please pass the result to `transformed_cell` argument and any exception that happen during thetransform in `preprocessing_exc_tuple` in IPython 7.17 and above.\n",
      "  and should_run_async(code)\n"
     ]
    },
    {
     "data": {
      "text/html": [
       "<div>\n",
       "<style scoped>\n",
       "    .dataframe tbody tr th:only-of-type {\n",
       "        vertical-align: middle;\n",
       "    }\n",
       "\n",
       "    .dataframe tbody tr th {\n",
       "        vertical-align: top;\n",
       "    }\n",
       "\n",
       "    .dataframe thead th {\n",
       "        text-align: right;\n",
       "    }\n",
       "</style>\n",
       "<table border=\"1\" class=\"dataframe\">\n",
       "  <thead>\n",
       "    <tr style=\"text-align: right;\">\n",
       "      <th></th>\n",
       "      <th>index</th>\n",
       "      <th>Unnamed: 0</th>\n",
       "      <th>ID</th>\n",
       "      <th>Snippet</th>\n",
       "      <th>Victima</th>\n",
       "      <th>Victimario</th>\n",
       "      <th>Xenofobia</th>\n",
       "      <th>Denuncia</th>\n",
       "      <th>Positiva</th>\n",
       "      <th>Tag 666 777</th>\n",
       "      <th>Marcados</th>\n",
       "      <th>Clean_Text</th>\n",
       "    </tr>\n",
       "  </thead>\n",
       "  <tbody>\n",
       "    <tr>\n",
       "      <th>0</th>\n",
       "      <td>0</td>\n",
       "      <td>4</td>\n",
       "      <td>4</td>\n",
       "      <td>@kenin_nunez @SOMOSRIOCRECID Estos venecos, ha...</td>\n",
       "      <td>0</td>\n",
       "      <td>0</td>\n",
       "      <td>1</td>\n",
       "      <td>0</td>\n",
       "      <td>0</td>\n",
       "      <td>0</td>\n",
       "      <td>1</td>\n",
       "      <td>estos venecos hasta en la sopa 👎🤢</td>\n",
       "    </tr>\n",
       "    <tr>\n",
       "      <th>1</th>\n",
       "      <td>1</td>\n",
       "      <td>7</td>\n",
       "      <td>7</td>\n",
       "      <td>@BrianSnow007 @anGspot @iKarlyzr Eso es falso,...</td>\n",
       "      <td>1</td>\n",
       "      <td>0</td>\n",
       "      <td>1</td>\n",
       "      <td>1</td>\n",
       "      <td>0</td>\n",
       "      <td>0</td>\n",
       "      <td>1</td>\n",
<<<<<<< HEAD
<<<<<<< HEAD
       "      <td>eso es falso en venezuela así como en todos...</td>\n",
=======
       "      <td>eso es falso en venezuela así como en todos lo...</td>\n",
>>>>>>> d4b10f90f9101a528988cd1cd24253f8e47702f9
=======
       "      <td>eso es falso en venezuela así como en todos lo...</td>\n",
>>>>>>> main
       "    </tr>\n",
       "    <tr>\n",
       "      <th>2</th>\n",
       "      <td>2</td>\n",
       "      <td>9</td>\n",
       "      <td>9</td>\n",
       "      <td>@fabrorejon Vergacion, ya se puso veneco</td>\n",
       "      <td>1</td>\n",
       "      <td>0</td>\n",
       "      <td>1</td>\n",
       "      <td>0</td>\n",
       "      <td>0</td>\n",
       "      <td>0</td>\n",
       "      <td>1</td>\n",
       "      <td>vergacion ya se puso veneco</td>\n",
       "    </tr>\n",
       "    <tr>\n",
       "      <th>3</th>\n",
       "      <td>3</td>\n",
       "      <td>10</td>\n",
       "      <td>10</td>\n",
       "      <td>@Salas91Adrian @Camilousuga11 @SaqueLargoWin A...</td>\n",
       "      <td>1</td>\n",
       "      <td>0</td>\n",
       "      <td>1</td>\n",
       "      <td>0</td>\n",
       "      <td>0</td>\n",
       "      <td>0</td>\n",
       "      <td>1</td>\n",
       "      <td>aprende venezolano</td>\n",
       "    </tr>\n",
       "    <tr>\n",
       "      <th>4</th>\n",
       "      <td>4</td>\n",
       "      <td>11</td>\n",
       "      <td>11</td>\n",
       "      <td>Si cuando la generación equivocada la que no l...</td>\n",
       "      <td>0</td>\n",
       "      <td>0</td>\n",
       "      <td>1</td>\n",
       "      <td>0</td>\n",
       "      <td>0</td>\n",
       "      <td>0</td>\n",
       "      <td>1</td>\n",
       "      <td>si cuando la generación equivocada la que no l...</td>\n",
       "    </tr>\n",
       "    <tr>\n",
       "      <th>5</th>\n",
       "      <td>5</td>\n",
       "      <td>12</td>\n",
       "      <td>12</td>\n",
       "      <td>@mitsukiruki Douglas Bravo, un guerrillero com...</td>\n",
       "      <td>0</td>\n",
       "      <td>0</td>\n",
       "      <td>1</td>\n",
       "      <td>0</td>\n",
       "      <td>0</td>\n",
       "      <td>0</td>\n",
       "      <td>1</td>\n",
<<<<<<< HEAD
<<<<<<< HEAD
       "      <td>douglas bravo un guerrillero comunista venezo...</td>\n",
=======
       "      <td>douglas bravo un guerrillero comunista venezol...</td>\n",
>>>>>>> d4b10f90f9101a528988cd1cd24253f8e47702f9
=======
       "      <td>douglas bravo un guerrillero comunista venezol...</td>\n",
>>>>>>> main
       "    </tr>\n",
       "    <tr>\n",
       "      <th>6</th>\n",
       "      <td>6</td>\n",
       "      <td>13</td>\n",
       "      <td>13</td>\n",
       "      <td>Están peor que los venecos estos hijos de puta.</td>\n",
       "      <td>0</td>\n",
       "      <td>0</td>\n",
       "      <td>1</td>\n",
       "      <td>0</td>\n",
       "      <td>0</td>\n",
       "      <td>0</td>\n",
       "      <td>1</td>\n",
       "      <td>están peor que los venecos estos hijos de puta</td>\n",
       "    </tr>\n",
       "    <tr>\n",
       "      <th>7</th>\n",
       "      <td>7</td>\n",
       "      <td>14</td>\n",
       "      <td>14</td>\n",
       "      <td>De la que me salve, esperanza con Cali, ratas ...</td>\n",
       "      <td>0</td>\n",
       "      <td>1</td>\n",
       "      <td>1</td>\n",
       "      <td>0</td>\n",
       "      <td>0</td>\n",
       "      <td>0</td>\n",
       "      <td>1</td>\n",
       "      <td>de la que me salve esperanza con cali ratas co...</td>\n",
       "    </tr>\n",
       "    <tr>\n",
       "      <th>8</th>\n",
       "      <td>8</td>\n",
       "      <td>15</td>\n",
       "      <td>15</td>\n",
       "      <td>@SdrodriguezT xenofobia?? Hermanos venezolanos...</td>\n",
       "      <td>0</td>\n",
       "      <td>0</td>\n",
       "      <td>1</td>\n",
       "      <td>0</td>\n",
       "      <td>0</td>\n",
       "      <td>0</td>\n",
       "      <td>1</td>\n",
<<<<<<< HEAD
<<<<<<< HEAD
       "      <td>xenofobia hermanos venezolanos no señores cua...</td>\n",
=======
       "      <td>xenofobia hermanos venezolanos no señores cuan...</td>\n",
>>>>>>> d4b10f90f9101a528988cd1cd24253f8e47702f9
=======
       "      <td>xenofobia hermanos venezolanos no señores cuan...</td>\n",
>>>>>>> main
       "    </tr>\n",
       "    <tr>\n",
       "      <th>9</th>\n",
       "      <td>9</td>\n",
       "      <td>23</td>\n",
       "      <td>23</td>\n",
       "      <td>@FontirroigPablo @norte_canal Con todo el resp...</td>\n",
       "      <td>0</td>\n",
       "      <td>0</td>\n",
       "      <td>1</td>\n",
       "      <td>0</td>\n",
       "      <td>0</td>\n",
       "      <td>0</td>\n",
       "      <td>1</td>\n",
<<<<<<< HEAD
<<<<<<< HEAD
       "      <td>con todo el respeto que ustedes se merecen a...</td>\n",
=======
       "      <td>con todo el respeto que ustedes se merecen ami...</td>\n",
>>>>>>> d4b10f90f9101a528988cd1cd24253f8e47702f9
=======
       "      <td>con todo el respeto que ustedes se merecen ami...</td>\n",
>>>>>>> main
       "    </tr>\n",
       "    <tr>\n",
       "      <th>10</th>\n",
       "      <td>10</td>\n",
       "      <td>25</td>\n",
       "      <td>25</td>\n",
       "      <td>Parece que algunos venezolanos hacen estragos ...</td>\n",
       "      <td>0</td>\n",
       "      <td>0</td>\n",
       "      <td>1</td>\n",
       "      <td>0</td>\n",
       "      <td>0</td>\n",
       "      <td>0</td>\n",
       "      <td>1</td>\n",
       "      <td>parece que algunos venezolanos hacen estragos ...</td>\n",
       "    </tr>\n",
       "  </tbody>\n",
       "</table>\n",
       "</div>"
      ],
      "text/plain": [
       "    index  Unnamed: 0  ID                                            Snippet  \\\n",
       "0       0           4   4  @kenin_nunez @SOMOSRIOCRECID Estos venecos, ha...   \n",
       "1       1           7   7  @BrianSnow007 @anGspot @iKarlyzr Eso es falso,...   \n",
       "2       2           9   9           @fabrorejon Vergacion, ya se puso veneco   \n",
       "3       3          10  10  @Salas91Adrian @Camilousuga11 @SaqueLargoWin A...   \n",
       "4       4          11  11  Si cuando la generación equivocada la que no l...   \n",
       "5       5          12  12  @mitsukiruki Douglas Bravo, un guerrillero com...   \n",
       "6       6          13  13    Están peor que los venecos estos hijos de puta.   \n",
       "7       7          14  14  De la que me salve, esperanza con Cali, ratas ...   \n",
       "8       8          15  15  @SdrodriguezT xenofobia?? Hermanos venezolanos...   \n",
       "9       9          23  23  @FontirroigPablo @norte_canal Con todo el resp...   \n",
       "10     10          25  25  Parece que algunos venezolanos hacen estragos ...   \n",
       "\n",
       "    Victima  Victimario  Xenofobia  Denuncia  Positiva  Tag 666 777  Marcados  \\\n",
       "0         0           0          1         0         0            0         1   \n",
       "1         1           0          1         1         0            0         1   \n",
       "2         1           0          1         0         0            0         1   \n",
       "3         1           0          1         0         0            0         1   \n",
       "4         0           0          1         0         0            0         1   \n",
       "5         0           0          1         0         0            0         1   \n",
       "6         0           0          1         0         0            0         1   \n",
       "7         0           1          1         0         0            0         1   \n",
       "8         0           0          1         0         0            0         1   \n",
       "9         0           0          1         0         0            0         1   \n",
       "10        0           0          1         0         0            0         1   \n",
       "\n",
       "                                           Clean_Text  \n",
       "0                   estos venecos hasta en la sopa 👎🤢  \n",
<<<<<<< HEAD
<<<<<<< HEAD
       "1      eso es falso en venezuela así como en todos...  \n",
       "2                         vergacion ya se puso veneco  \n",
       "3                                 aprende venezolano   \n",
       "4   si cuando la generación equivocada la que no l...  \n",
       "5    douglas bravo un guerrillero comunista venezo...  \n",
       "6      están peor que los venecos estos hijos de puta  \n",
       "7   de la que me salve esperanza con cali ratas co...  \n",
       "8    xenofobia hermanos venezolanos no señores cua...  \n",
       "9     con todo el respeto que ustedes se merecen a...  \n",
       "10  parece que algunos venezolanos hacen estragos ...  "
      ]
     },
     "execution_count": 11,
=======
=======
>>>>>>> main
       "1   eso es falso en venezuela así como en todos lo...  \n",
       "2                         vergacion ya se puso veneco  \n",
       "3                                  aprende venezolano  \n",
       "4   si cuando la generación equivocada la que no l...  \n",
       "5   douglas bravo un guerrillero comunista venezol...  \n",
       "6      están peor que los venecos estos hijos de puta  \n",
       "7   de la que me salve esperanza con cali ratas co...  \n",
       "8   xenofobia hermanos venezolanos no señores cuan...  \n",
       "9   con todo el respeto que ustedes se merecen ami...  \n",
       "10  parece que algunos venezolanos hacen estragos ...  "
      ]
     },
     "execution_count": 9,
<<<<<<< HEAD
>>>>>>> d4b10f90f9101a528988cd1cd24253f8e47702f9
=======
>>>>>>> main
     "metadata": {},
     "output_type": "execute_result"
    }
   ],
   "source": [
    "#Eliminamos algunos autores\n",
    "df['Clean_Text']=df['Clean_Text'].replace(r'@\\w+', '', regex=True)\n",
<<<<<<< HEAD
<<<<<<< HEAD
=======
    "df['Clean_Text']=df['Clean_Text'].str.strip()\n",
>>>>>>> d4b10f90f9101a528988cd1cd24253f8e47702f9
=======
    "df['Clean_Text']=df['Clean_Text'].str.strip()\n",
>>>>>>> main
    "df.head(11)"
   ]
  },
  {
   "cell_type": "code",
<<<<<<< HEAD
<<<<<<< HEAD
   "execution_count": 7,
=======
   "execution_count": 10,
>>>>>>> d4b10f90f9101a528988cd1cd24253f8e47702f9
=======
   "execution_count": 10,
>>>>>>> main
   "id": "impressed-mistake",
   "metadata": {},
   "outputs": [
    {
     "name": "stderr",
     "output_type": "stream",
     "text": [
      "C:\\Users\\JOSE\\anaconda3\\lib\\site-packages\\ipykernel\\ipkernel.py:287: DeprecationWarning: `should_run_async` will not call `transform_cell` automatically in the future. Please pass the result to `transformed_cell` argument and any exception that happen during thetransform in `preprocessing_exc_tuple` in IPython 7.17 and above.\n",
      "  and should_run_async(code)\n",
<<<<<<< HEAD
<<<<<<< HEAD
      "<ipython-input-7-e62ef73ba666>:14: UserWarning: FixedFormatter should only be used together with FixedLocator\n",
=======
      "<ipython-input-10-e62ef73ba666>:14: UserWarning: FixedFormatter should only be used together with FixedLocator\n",
>>>>>>> d4b10f90f9101a528988cd1cd24253f8e47702f9
=======
      "<ipython-input-10-e62ef73ba666>:14: UserWarning: FixedFormatter should only be used together with FixedLocator\n",
>>>>>>> main
      "  ax.set_xticklabels(ax.get_xticks(), rotation = 45)\n"
     ]
    },
    {
     "data": {
<<<<<<< HEAD
<<<<<<< HEAD
      "image/png": "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\n",
=======
      "image/png": "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\n",
>>>>>>> d4b10f90f9101a528988cd1cd24253f8e47702f9
=======
      "image/png": "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\n",
>>>>>>> main
      "text/plain": [
       "<Figure size 576x504 with 1 Axes>"
      ]
     },
     "metadata": {},
     "output_type": "display_data"
    }
   ],
   "source": [
    "from matplotlib.ticker import MaxNLocator\n",
    "usuarios=df['Clean_Text'].str.extractall(r'(@\\w+)').value_counts()\n",
    "temp=pd.DataFrame(usuarios, columns=['count']).reset_index().reset_index()\n",
    "\n",
    "def format_fn(tick_val, tick_pos):\n",
    "    labels=list(temp[0])\n",
    "    if int(tick_val) in temp['index']:\n",
    "        return labels[int(tick_val)]\n",
    "    else:\n",
    "        return ''\n",
    "\n",
    "fig, ax = plt.subplots()\n",
    "ax.hist(temp['index'], weights=temp['count'])\n",
    "ax.set_xticklabels(ax.get_xticks(), rotation = 45)\n",
    "ax.xaxis.set_major_formatter(format_fn)\n",
    "ax.xaxis.set_major_locator(MaxNLocator(integer=True))\n",
    "\n",
    "plt.show()"
   ]
  },
  {
   "cell_type": "code",
<<<<<<< HEAD
<<<<<<< HEAD
   "execution_count": 8,
=======
   "execution_count": 11,
>>>>>>> d4b10f90f9101a528988cd1cd24253f8e47702f9
=======
   "execution_count": 11,
>>>>>>> main
   "id": "insured-basement",
   "metadata": {},
   "outputs": [
    {
     "name": "stderr",
     "output_type": "stream",
     "text": [
      "C:\\Users\\JOSE\\anaconda3\\lib\\site-packages\\ipykernel\\ipkernel.py:287: DeprecationWarning: `should_run_async` will not call `transform_cell` automatically in the future. Please pass the result to `transformed_cell` argument and any exception that happen during thetransform in `preprocessing_exc_tuple` in IPython 7.17 and above.\n",
      "  and should_run_async(code)\n"
     ]
    },
    {
<<<<<<< HEAD
<<<<<<< HEAD
     "data": {
      "text/plain": [
       "['@ivanduque',\n",
       " '@claudialopez',\n",
       " '@noticiascaracol',\n",
       " '@citytv',\n",
       " '@policiacolombia',\n",
       " '@petrogustavo',\n",
       " '@bluradioco',\n",
       " '@eltiempo',\n",
       " '@migracioncol',\n",
       " '@noticiasrcn']"
      ]
     },
     "execution_count": 8,
     "metadata": {},
     "output_type": "execute_result"
=======
=======
>>>>>>> main
     "ename": "ValueError",
     "evalue": "cannot convert float NaN to integer",
     "output_type": "error",
     "traceback": [
      "\u001b[1;31m---------------------------------------------------------------------------\u001b[0m",
      "\u001b[1;31mValueError\u001b[0m                                Traceback (most recent call last)",
      "\u001b[1;32m<ipython-input-11-3c1713cea6ad>\u001b[0m in \u001b[0;36m<module>\u001b[1;34m\u001b[0m\n\u001b[1;32m----> 1\u001b[1;33m \u001b[0mtemp\u001b[0m\u001b[1;33m=\u001b[0m\u001b[0mtemp\u001b[0m\u001b[1;33m[\u001b[0m\u001b[0mtemp\u001b[0m\u001b[1;33m[\u001b[0m\u001b[1;34m'count'\u001b[0m\u001b[1;33m]\u001b[0m\u001b[1;33m>\u001b[0m\u001b[0mround\u001b[0m\u001b[1;33m(\u001b[0m\u001b[0mtemp\u001b[0m\u001b[1;33m[\u001b[0m\u001b[1;34m'count'\u001b[0m\u001b[1;33m]\u001b[0m\u001b[1;33m.\u001b[0m\u001b[0mmean\u001b[0m\u001b[1;33m(\u001b[0m\u001b[1;33m)\u001b[0m\u001b[1;33m)\u001b[0m\u001b[1;33m]\u001b[0m\u001b[1;33m\u001b[0m\u001b[1;33m\u001b[0m\u001b[0m\n\u001b[0m\u001b[0;32m      2\u001b[0m \u001b[0musuarios\u001b[0m\u001b[1;33m=\u001b[0m\u001b[0mlist\u001b[0m\u001b[1;33m(\u001b[0m\u001b[0mtemp\u001b[0m\u001b[1;33m[\u001b[0m\u001b[1;36m0\u001b[0m\u001b[1;33m]\u001b[0m\u001b[1;33m)\u001b[0m\u001b[1;33m\u001b[0m\u001b[1;33m\u001b[0m\u001b[0m\n\u001b[0;32m      3\u001b[0m \u001b[0musuarios\u001b[0m\u001b[1;33m[\u001b[0m\u001b[1;36m0\u001b[0m\u001b[1;33m:\u001b[0m\u001b[1;36m10\u001b[0m\u001b[1;33m]\u001b[0m\u001b[1;33m\u001b[0m\u001b[1;33m\u001b[0m\u001b[0m\n",
      "\u001b[1;31mValueError\u001b[0m: cannot convert float NaN to integer"
     ]
<<<<<<< HEAD
>>>>>>> d4b10f90f9101a528988cd1cd24253f8e47702f9
=======
>>>>>>> main
    }
   ],
   "source": [
    "temp=temp[temp['count']>round(temp['count'].mean())]\n",
    "usuarios=list(temp[0])\n",
    "usuarios[0:10]"
   ]
  },
  {
   "cell_type": "code",
   "execution_count": 12,
   "id": "anticipated-refrigerator",
   "metadata": {
    "colab": {
     "base_uri": "https://localhost:8080/"
    },
    "id": "streaming-wagon",
    "outputId": "a16f308a-9977-4310-83d0-84d266deb618"
   },
   "outputs": [
    {
     "name": "stderr",
     "output_type": "stream",
     "text": [
      "C:\\Users\\JOSE\\anaconda3\\lib\\site-packages\\ipykernel\\ipkernel.py:287: DeprecationWarning: `should_run_async` will not call `transform_cell` automatically in the future. Please pass the result to `transformed_cell` argument and any exception that happen during thetransform in `preprocessing_exc_tuple` in IPython 7.17 and above.\n",
      "  and should_run_async(code)\n"
     ]
    },
    {
     "name": "stdout",
     "output_type": "stream",
     "text": [
      "['transformer', 'morphologizer', 'attribute_ruler', 'lemmatizer']\n",
      "---------SPACY-----------\n",
<<<<<<< HEAD
<<<<<<< HEAD
      "Wall time: 2h 4min 12s\n"
=======
      "Wall time: 2h 3min 41s\n"
>>>>>>> d4b10f90f9101a528988cd1cd24253f8e47702f9
=======
      "Wall time: 2h 3min 41s\n"
>>>>>>> main
     ]
    }
   ],
   "source": [
    "# Le decimos a spaCy que vamos con toda\n",
    "#spacy.prefer_gpu()\n",
    "#spacy.require_gpu()\n",
    "# Corremos los datos en el core de español\n",
    "#nlp = spacy.load(\"es_core_news_sm\", exclude=[\"ner\", \"parser\"])\n",
    "nlp = spacy.load(\"es_dep_news_trf\", exclude=[\"ner\", \"parser\", \"lemmatizer\"])\n",
    "lemmatizer_spa = SpacyCustomLemmatizer()\n",
    "nlp.add_pipe(\"spanish_lemmatizer\", name = 'lemmatizer', after = 'attribute_ruler')\n",
    "#nlp.replace_pipe(\"lemmatizer\", \"spanish_lemmatizer\")\n",
    "#Vemos cuales son los componentes del pipeline\n",
    "print(nlp.pipe_names)\n",
    "#Aplicamos el pipe a cada objeto de nuestra lista de tweets\n",
    "print('---------SPACY-----------')\n",
    "%time docs = list(nlp.pipe(df.Clean_Text.to_list()))"
   ]
  },
  {
   "cell_type": "code",
   "execution_count": 13,
   "id": "imposed-richardson",
   "metadata": {
    "id": "reduced-blackjack"
   },
   "outputs": [
    {
     "name": "stdout",
     "output_type": "stream",
     "text": [
      "---------TOKENIZATION-----------\n"
     ]
    },
    {
     "name": "stderr",
     "output_type": "stream",
     "text": [
      "C:\\Users\\JOSE\\anaconda3\\lib\\site-packages\\ipykernel\\ipkernel.py:287: DeprecationWarning: `should_run_async` will not call `transform_cell` automatically in the future. Please pass the result to `transformed_cell` argument and any exception that happen during thetransform in `preprocessing_exc_tuple` in IPython 7.17 and above.\n",
      "  and should_run_async(code)\n",
      "C:\\Users\\JOSE\\anaconda3\\lib\\asyncio\\events.py:81: DeprecationWarning: `run_cell_async` will not call `transform_cell` automatically in the future. Please pass the result to `transformed_cell` argument and any exception that happen during thetransform in `preprocessing_exc_tuple` in IPython 7.17 and above.\n",
      "  self._context.run(self._callback, *self._args)\n",
      "<ipython-input-13-c7d59a9bcb15>:6: VisibleDeprecationWarning: Creating an ndarray from ragged nested sequences (which is a list-or-tuple of lists-or-tuples-or ndarrays with different lengths or shapes) is deprecated. If you meant to do this, you must specify 'dtype=object' when creating the ndarray\n",
      "  tokens=np.array(tokens)\n"
     ]
    },
    {
     "name": "stdout",
     "output_type": "stream",
     "text": [
      "---------POS-----------\n"
     ]
    },
    {
     "name": "stderr",
     "output_type": "stream",
     "text": [
      "<ipython-input-13-c7d59a9bcb15>:16: VisibleDeprecationWarning: Creating an ndarray from ragged nested sequences (which is a list-or-tuple of lists-or-tuples-or ndarrays with different lengths or shapes) is deprecated. If you meant to do this, you must specify 'dtype=object' when creating the ndarray\n",
      "  pos=np.array(pos)\n"
     ]
    },
    {
     "name": "stdout",
     "output_type": "stream",
     "text": [
      "---------STOPWORDS-----------\n",
<<<<<<< HEAD
<<<<<<< HEAD
      "Wall time: 4.37 s\n",
=======
      "Wall time: 1.43 s\n",
>>>>>>> d4b10f90f9101a528988cd1cd24253f8e47702f9
=======
      "Wall time: 1.43 s\n",
>>>>>>> main
      "---------N-GRAMS-----------\n",
      "['venecos', 'sopa']\n",
      "---------LEMMATIZER-----------\n"
     ]
    },
    {
     "name": "stderr",
     "output_type": "stream",
     "text": [
      "<ipython-input-13-c7d59a9bcb15>:41: VisibleDeprecationWarning: Creating an ndarray from ragged nested sequences (which is a list-or-tuple of lists-or-tuples-or ndarrays with different lengths or shapes) is deprecated. If you meant to do this, you must specify 'dtype=object' when creating the ndarray\n",
      "  lemma=np.array(lemma)\n"
     ]
    },
    {
     "name": "stdout",
     "output_type": "stream",
     "text": [
      "---------Datos lemmatized-----------\n",
<<<<<<< HEAD
<<<<<<< HEAD
      "   index                                      lemmatized\n",
      "0      0  [  , este, venecos, hasta, en, el, sopa, 👎, 🤢]\n",
      "---------STOPWORDS-----------\n",
      "Wall time: 5.16 s\n",
=======
=======
>>>>>>> main
      "   index                                  lemmatized\n",
      "0      0  [este, venecos, hasta, en, el, sopa, 👎, 🤢]\n",
      "---------STOPWORDS-----------\n",
      "Wall time: 1.46 s\n",
<<<<<<< HEAD
>>>>>>> d4b10f90f9101a528988cd1cd24253f8e47702f9
=======
>>>>>>> main
      "--------BASE-FINAL--------\n"
     ]
    },
    {
     "data": {
      "text/html": [
       "<div>\n",
       "<style scoped>\n",
       "    .dataframe tbody tr th:only-of-type {\n",
       "        vertical-align: middle;\n",
       "    }\n",
       "\n",
       "    .dataframe tbody tr th {\n",
       "        vertical-align: top;\n",
       "    }\n",
       "\n",
       "    .dataframe thead th {\n",
       "        text-align: right;\n",
       "    }\n",
       "</style>\n",
       "<table border=\"1\" class=\"dataframe\">\n",
       "  <thead>\n",
       "    <tr style=\"text-align: right;\">\n",
       "      <th></th>\n",
       "      <th>Unnamed: 0</th>\n",
       "      <th>ID</th>\n",
       "      <th>Snippet</th>\n",
       "      <th>Victima</th>\n",
       "      <th>Victimario</th>\n",
       "      <th>Xenofobia</th>\n",
       "      <th>Denuncia</th>\n",
       "      <th>Positiva</th>\n",
       "      <th>Tag 666 777</th>\n",
       "      <th>Marcados</th>\n",
       "      <th>Clean_Text</th>\n",
       "      <th>tokens</th>\n",
       "      <th>pos</th>\n",
       "      <th>words</th>\n",
       "      <th>lemmatized</th>\n",
       "      <th>lem_words</th>\n",
       "    </tr>\n",
       "  </thead>\n",
       "  <tbody>\n",
       "    <tr>\n",
       "      <th>0</th>\n",
       "      <td>4</td>\n",
       "      <td>4</td>\n",
       "      <td>@kenin_nunez @SOMOSRIOCRECID Estos venecos, ha...</td>\n",
       "      <td>0</td>\n",
       "      <td>0</td>\n",
       "      <td>1</td>\n",
       "      <td>0</td>\n",
       "      <td>0</td>\n",
       "      <td>0</td>\n",
       "      <td>1</td>\n",
       "      <td>estos venecos hasta en la sopa 👎🤢</td>\n",
<<<<<<< HEAD
<<<<<<< HEAD
       "      <td>[  , estos, venecos, hasta, en, la, sopa, 👎, 🤢]</td>\n",
       "      <td>[(  , SPACE), (estos, DET), (venecos, NOUN), (...</td>\n",
       "      <td>[venecos, sopa]</td>\n",
       "      <td>[  , este, venecos, hasta, en, el, sopa, 👎, 🤢]</td>\n",
       "      <td>[  , venecos, sopa]</td>\n",
=======
=======
>>>>>>> main
       "      <td>[estos, venecos, hasta, en, la, sopa, 👎, 🤢]</td>\n",
       "      <td>[(estos, DET), (venecos, NOUN), (hasta, ADV), ...</td>\n",
       "      <td>[venecos, sopa]</td>\n",
       "      <td>[este, venecos, hasta, en, el, sopa, 👎, 🤢]</td>\n",
       "      <td>[venecos, sopa]</td>\n",
<<<<<<< HEAD
>>>>>>> d4b10f90f9101a528988cd1cd24253f8e47702f9
=======
>>>>>>> main
       "    </tr>\n",
       "    <tr>\n",
       "      <th>1</th>\n",
       "      <td>7</td>\n",
       "      <td>7</td>\n",
       "      <td>@BrianSnow007 @anGspot @iKarlyzr Eso es falso,...</td>\n",
       "      <td>1</td>\n",
       "      <td>0</td>\n",
       "      <td>1</td>\n",
       "      <td>1</td>\n",
       "      <td>0</td>\n",
       "      <td>0</td>\n",
       "      <td>1</td>\n",
<<<<<<< HEAD
<<<<<<< HEAD
       "      <td>eso es falso en venezuela así como en todos...</td>\n",
       "      <td>[   , eso, es, falso, en, venezuela, así, como...</td>\n",
       "      <td>[(   , SPACE), (eso, PRON), (es, AUX), (falso,...</td>\n",
       "      <td>[falso, venezuela, así, países, xenofobia, nac...</td>\n",
       "      <td>[   , eso, es, falso, en, venezuela, así, como...</td>\n",
       "      <td>[   , falso, venezuela, así, país, xenofobia, ...</td>\n",
=======
=======
>>>>>>> main
       "      <td>eso es falso en venezuela así como en todos lo...</td>\n",
       "      <td>[eso, es, falso, en, venezuela, así, como, en,...</td>\n",
       "      <td>[(eso, PRON), (es, AUX), (falso, ADJ), (en, AD...</td>\n",
       "      <td>[falso, venezuela, así, países, xenofobia, nac...</td>\n",
       "      <td>[eso, es, falso, en, venezuela, así, como, en,...</td>\n",
       "      <td>[falso, venezuela, así, país, xenofobia, nacid...</td>\n",
<<<<<<< HEAD
>>>>>>> d4b10f90f9101a528988cd1cd24253f8e47702f9
=======
>>>>>>> main
       "    </tr>\n",
       "    <tr>\n",
       "      <th>2</th>\n",
       "      <td>9</td>\n",
       "      <td>9</td>\n",
       "      <td>@fabrorejon Vergacion, ya se puso veneco</td>\n",
       "      <td>1</td>\n",
       "      <td>0</td>\n",
       "      <td>1</td>\n",
       "      <td>0</td>\n",
       "      <td>0</td>\n",
       "      <td>0</td>\n",
       "      <td>1</td>\n",
       "      <td>vergacion ya se puso veneco</td>\n",
<<<<<<< HEAD
<<<<<<< HEAD
       "      <td>[ , vergacion, ya, se, puso, veneco]</td>\n",
       "      <td>[( , SPACE), (vergacion, NOUN), (ya, ADV), (se...</td>\n",
       "      <td>[vergacion, puso, veneco]</td>\n",
       "      <td>[ , vergacion, ya, se, poner, veneco]</td>\n",
=======
=======
>>>>>>> main
       "      <td>[vergacion, ya, se, puso, veneco]</td>\n",
       "      <td>[(vergacion, NOUN), (ya, ADV), (se, PRON), (pu...</td>\n",
       "      <td>[vergacion, puso, veneco]</td>\n",
       "      <td>[vergacion, ya, se, poner, veneco]</td>\n",
<<<<<<< HEAD
>>>>>>> d4b10f90f9101a528988cd1cd24253f8e47702f9
=======
>>>>>>> main
       "      <td>[vergacion, poner, veneco]</td>\n",
       "    </tr>\n",
       "    <tr>\n",
       "      <th>3</th>\n",
       "      <td>10</td>\n",
       "      <td>10</td>\n",
       "      <td>@Salas91Adrian @Camilousuga11 @SaqueLargoWin A...</td>\n",
       "      <td>1</td>\n",
       "      <td>0</td>\n",
       "      <td>1</td>\n",
       "      <td>0</td>\n",
       "      <td>0</td>\n",
       "      <td>0</td>\n",
       "      <td>1</td>\n",
       "      <td>aprende venezolano</td>\n",
<<<<<<< HEAD
<<<<<<< HEAD
       "      <td>[   , aprende, venezolano]</td>\n",
       "      <td>[(   , SPACE), (aprende, VERB), (venezolano, A...</td>\n",
       "      <td>[aprende, venezolano]</td>\n",
       "      <td>[   , aprender, venezolano]</td>\n",
       "      <td>[   , aprender, venezolano]</td>\n",
=======
=======
>>>>>>> main
       "      <td>[aprende, venezolano]</td>\n",
       "      <td>[(aprende, VERB), (venezolano, ADJ)]</td>\n",
       "      <td>[aprende, venezolano]</td>\n",
       "      <td>[aprender, venezolano]</td>\n",
       "      <td>[aprender, venezolano]</td>\n",
<<<<<<< HEAD
>>>>>>> d4b10f90f9101a528988cd1cd24253f8e47702f9
=======
>>>>>>> main
       "    </tr>\n",
       "    <tr>\n",
       "      <th>4</th>\n",
       "      <td>11</td>\n",
       "      <td>11</td>\n",
       "      <td>Si cuando la generación equivocada la que no l...</td>\n",
       "      <td>0</td>\n",
       "      <td>0</td>\n",
       "      <td>1</td>\n",
       "      <td>0</td>\n",
       "      <td>0</td>\n",
       "      <td>0</td>\n",
       "      <td>1</td>\n",
       "      <td>si cuando la generación equivocada la que no l...</td>\n",
       "      <td>[si, cuando, la, generación, equivocada, la, q...</td>\n",
       "      <td>[(si, SCONJ), (cuando, SCONJ), (la, DET), (gen...</td>\n",
       "      <td>[si, generación, equivocada, no, gusta, ni, tr...</td>\n",
       "      <td>[si, cuando, el, generación, equivocado, el, q...</td>\n",
       "      <td>[si, generación, equivocado, no, gustar, ni, t...</td>\n",
       "    </tr>\n",
       "    <tr>\n",
       "      <th>5</th>\n",
       "      <td>12</td>\n",
       "      <td>12</td>\n",
       "      <td>@mitsukiruki Douglas Bravo, un guerrillero com...</td>\n",
       "      <td>0</td>\n",
       "      <td>0</td>\n",
       "      <td>1</td>\n",
       "      <td>0</td>\n",
       "      <td>0</td>\n",
       "      <td>0</td>\n",
       "      <td>1</td>\n",
<<<<<<< HEAD
<<<<<<< HEAD
       "      <td>douglas bravo un guerrillero comunista venezo...</td>\n",
       "      <td>[ , douglas, bravo, un, guerrillero, comunista...</td>\n",
       "      <td>[( , SPACE), (douglas, NOUN), (bravo, ADJ), (u...</td>\n",
       "      <td>[douglas, bravo, guerrillero, comunista, venez...</td>\n",
       "      <td>[ , douglas, bravo, un, guerrillero, comunista...</td>\n",
=======
=======
>>>>>>> main
       "      <td>douglas bravo un guerrillero comunista venezol...</td>\n",
       "      <td>[douglas, bravo, un, guerrillero, comunista, v...</td>\n",
       "      <td>[(douglas, NOUN), (bravo, ADJ), (un, DET), (gu...</td>\n",
       "      <td>[douglas, bravo, guerrillero, comunista, venez...</td>\n",
       "      <td>[douglas, bravo, un, guerrillero, comunista, v...</td>\n",
<<<<<<< HEAD
>>>>>>> d4b10f90f9101a528988cd1cd24253f8e47702f9
=======
>>>>>>> main
       "      <td>[douglas, bravo, guerrillero, comunista, venez...</td>\n",
       "    </tr>\n",
       "    <tr>\n",
       "      <th>6</th>\n",
       "      <td>13</td>\n",
       "      <td>13</td>\n",
       "      <td>Están peor que los venecos estos hijos de puta.</td>\n",
       "      <td>0</td>\n",
       "      <td>0</td>\n",
       "      <td>1</td>\n",
       "      <td>0</td>\n",
       "      <td>0</td>\n",
       "      <td>0</td>\n",
       "      <td>1</td>\n",
       "      <td>están peor que los venecos estos hijos de puta</td>\n",
       "      <td>[están, peor, que, los, venecos, estos, hijos,...</td>\n",
       "      <td>[(están, AUX), (peor, ADJ), (que, SCONJ), (los...</td>\n",
       "      <td>[peor, venecos, hijos, puta]</td>\n",
       "      <td>[están, peor, que, el, venecos, este, hijo, de...</td>\n",
       "      <td>[peor, venecos, hijo, puta]</td>\n",
       "    </tr>\n",
       "    <tr>\n",
       "      <th>7</th>\n",
       "      <td>14</td>\n",
       "      <td>14</td>\n",
       "      <td>De la que me salve, esperanza con Cali, ratas ...</td>\n",
       "      <td>0</td>\n",
       "      <td>1</td>\n",
       "      <td>1</td>\n",
       "      <td>0</td>\n",
       "      <td>0</td>\n",
       "      <td>0</td>\n",
       "      <td>1</td>\n",
       "      <td>de la que me salve esperanza con cali ratas co...</td>\n",
       "      <td>[de, la, que, me, salve, esperanza, con, cali,...</td>\n",
       "      <td>[(de, ADP), (la, DET), (que, PRON), (me, PRON)...</td>\n",
       "      <td>[salve, esperanza, cali, ratas, cero, físico, ...</td>\n",
       "      <td>[de, el, que, me, salvar, esperanza, con, cali...</td>\n",
       "      <td>[salvar, esperanza, cali, rata, cero, físico, ...</td>\n",
       "    </tr>\n",
       "    <tr>\n",
       "      <th>8</th>\n",
       "      <td>15</td>\n",
       "      <td>15</td>\n",
       "      <td>@SdrodriguezT xenofobia?? Hermanos venezolanos...</td>\n",
       "      <td>0</td>\n",
       "      <td>0</td>\n",
       "      <td>1</td>\n",
       "      <td>0</td>\n",
       "      <td>0</td>\n",
       "      <td>0</td>\n",
       "      <td>1</td>\n",
<<<<<<< HEAD
<<<<<<< HEAD
       "      <td>xenofobia hermanos venezolanos no señores cua...</td>\n",
       "      <td>[ , xenofobia, hermanos, venezolanos, no, seño...</td>\n",
       "      <td>[( , SPACE), (xenofobia, NOUN), (hermanos, NOU...</td>\n",
       "      <td>[xenofobia, hermanos, venezolanos, no, señores...</td>\n",
       "      <td>[ , xenofobia, hermano, venezolano, no, señor,...</td>\n",
=======
=======
>>>>>>> main
       "      <td>xenofobia hermanos venezolanos no señores cuan...</td>\n",
       "      <td>[xenofobia, hermanos, venezolanos, no, señores...</td>\n",
       "      <td>[(xenofobia, NOUN), (hermanos, NOUN), (venezol...</td>\n",
       "      <td>[xenofobia, hermanos, venezolanos, no, señores...</td>\n",
       "      <td>[xenofobia, hermano, venezolano, no, señor, cu...</td>\n",
<<<<<<< HEAD
>>>>>>> d4b10f90f9101a528988cd1cd24253f8e47702f9
=======
>>>>>>> main
       "      <td>[xenofobia, hermano, venezolano, no, señor, ro...</td>\n",
       "    </tr>\n",
       "    <tr>\n",
       "      <th>9</th>\n",
       "      <td>23</td>\n",
       "      <td>23</td>\n",
       "      <td>@FontirroigPablo @norte_canal Con todo el resp...</td>\n",
       "      <td>0</td>\n",
       "      <td>0</td>\n",
       "      <td>1</td>\n",
       "      <td>0</td>\n",
       "      <td>0</td>\n",
       "      <td>0</td>\n",
       "      <td>1</td>\n",
<<<<<<< HEAD
<<<<<<< HEAD
       "      <td>con todo el respeto que ustedes se merecen a...</td>\n",
       "      <td>[  , con, todo, el, respeto, que, ustedes, se,...</td>\n",
       "      <td>[(  , SPACE), (con, ADP), (todo, DET), (el, DE...</td>\n",
       "      <td>[respeto, ustedes, merecen, amigos, chilenos, ...</td>\n",
       "      <td>[  , con, todo, el, respeto, que, ustedes, se,...</td>\n",
       "      <td>[  , respeto, ustedes, merecer, amigo, chileno...</td>\n",
=======
=======
>>>>>>> main
       "      <td>con todo el respeto que ustedes se merecen ami...</td>\n",
       "      <td>[con, todo, el, respeto, que, ustedes, se, mer...</td>\n",
       "      <td>[(con, ADP), (todo, DET), (el, DET), (respeto,...</td>\n",
       "      <td>[respeto, ustedes, merecen, amigos, chilenos, ...</td>\n",
       "      <td>[con, todo, el, respeto, que, ustedes, se, mer...</td>\n",
       "      <td>[respeto, ustedes, merecer, amigo, chileno, ve...</td>\n",
<<<<<<< HEAD
>>>>>>> d4b10f90f9101a528988cd1cd24253f8e47702f9
=======
>>>>>>> main
       "    </tr>\n",
       "    <tr>\n",
       "      <th>10</th>\n",
       "      <td>25</td>\n",
       "      <td>25</td>\n",
       "      <td>Parece que algunos venezolanos hacen estragos ...</td>\n",
       "      <td>0</td>\n",
       "      <td>0</td>\n",
       "      <td>1</td>\n",
       "      <td>0</td>\n",
       "      <td>0</td>\n",
       "      <td>0</td>\n",
       "      <td>1</td>\n",
       "      <td>parece que algunos venezolanos hacen estragos ...</td>\n",
       "      <td>[parece, que, algunos, venezolanos, hacen, est...</td>\n",
       "      <td>[(parece, VERB), (que, SCONJ), (algunos, DET),...</td>\n",
       "      <td>[parece, venezolanos, hacen, estragos, van]</td>\n",
       "      <td>[parecer, que, algún, venezolano, hacer, estra...</td>\n",
       "      <td>[parecer, algún, venezolano, hacer, estrago, van]</td>\n",
       "    </tr>\n",
       "  </tbody>\n",
       "</table>\n",
       "</div>"
      ],
      "text/plain": [
       "    Unnamed: 0  ID                                            Snippet  \\\n",
       "0            4   4  @kenin_nunez @SOMOSRIOCRECID Estos venecos, ha...   \n",
       "1            7   7  @BrianSnow007 @anGspot @iKarlyzr Eso es falso,...   \n",
       "2            9   9           @fabrorejon Vergacion, ya se puso veneco   \n",
       "3           10  10  @Salas91Adrian @Camilousuga11 @SaqueLargoWin A...   \n",
       "4           11  11  Si cuando la generación equivocada la que no l...   \n",
       "5           12  12  @mitsukiruki Douglas Bravo, un guerrillero com...   \n",
       "6           13  13    Están peor que los venecos estos hijos de puta.   \n",
       "7           14  14  De la que me salve, esperanza con Cali, ratas ...   \n",
       "8           15  15  @SdrodriguezT xenofobia?? Hermanos venezolanos...   \n",
       "9           23  23  @FontirroigPablo @norte_canal Con todo el resp...   \n",
       "10          25  25  Parece que algunos venezolanos hacen estragos ...   \n",
       "\n",
       "    Victima  Victimario  Xenofobia  Denuncia  Positiva  Tag 666 777  Marcados  \\\n",
       "0         0           0          1         0         0            0         1   \n",
       "1         1           0          1         1         0            0         1   \n",
       "2         1           0          1         0         0            0         1   \n",
       "3         1           0          1         0         0            0         1   \n",
       "4         0           0          1         0         0            0         1   \n",
       "5         0           0          1         0         0            0         1   \n",
       "6         0           0          1         0         0            0         1   \n",
       "7         0           1          1         0         0            0         1   \n",
       "8         0           0          1         0         0            0         1   \n",
       "9         0           0          1         0         0            0         1   \n",
       "10        0           0          1         0         0            0         1   \n",
       "\n",
       "                                           Clean_Text  \\\n",
       "0                   estos venecos hasta en la sopa 👎🤢   \n",
<<<<<<< HEAD
<<<<<<< HEAD
       "1      eso es falso en venezuela así como en todos...   \n",
       "2                         vergacion ya se puso veneco   \n",
       "3                                 aprende venezolano    \n",
       "4   si cuando la generación equivocada la que no l...   \n",
       "5    douglas bravo un guerrillero comunista venezo...   \n",
       "6      están peor que los venecos estos hijos de puta   \n",
       "7   de la que me salve esperanza con cali ratas co...   \n",
       "8    xenofobia hermanos venezolanos no señores cua...   \n",
       "9     con todo el respeto que ustedes se merecen a...   \n",
       "10  parece que algunos venezolanos hacen estragos ...   \n",
       "\n",
       "                                               tokens  \\\n",
       "0     [  , estos, venecos, hasta, en, la, sopa, 👎, 🤢]   \n",
       "1   [   , eso, es, falso, en, venezuela, así, como...   \n",
       "2                [ , vergacion, ya, se, puso, veneco]   \n",
       "3                          [   , aprende, venezolano]   \n",
       "4   [si, cuando, la, generación, equivocada, la, q...   \n",
       "5   [ , douglas, bravo, un, guerrillero, comunista...   \n",
       "6   [están, peor, que, los, venecos, estos, hijos,...   \n",
       "7   [de, la, que, me, salve, esperanza, con, cali,...   \n",
       "8   [ , xenofobia, hermanos, venezolanos, no, seño...   \n",
       "9   [  , con, todo, el, respeto, que, ustedes, se,...   \n",
       "10  [parece, que, algunos, venezolanos, hacen, est...   \n",
       "\n",
       "                                                  pos  \\\n",
       "0   [(  , SPACE), (estos, DET), (venecos, NOUN), (...   \n",
       "1   [(   , SPACE), (eso, PRON), (es, AUX), (falso,...   \n",
       "2   [( , SPACE), (vergacion, NOUN), (ya, ADV), (se...   \n",
       "3   [(   , SPACE), (aprende, VERB), (venezolano, A...   \n",
       "4   [(si, SCONJ), (cuando, SCONJ), (la, DET), (gen...   \n",
       "5   [( , SPACE), (douglas, NOUN), (bravo, ADJ), (u...   \n",
       "6   [(están, AUX), (peor, ADJ), (que, SCONJ), (los...   \n",
       "7   [(de, ADP), (la, DET), (que, PRON), (me, PRON)...   \n",
       "8   [( , SPACE), (xenofobia, NOUN), (hermanos, NOU...   \n",
       "9   [(  , SPACE), (con, ADP), (todo, DET), (el, DE...   \n",
=======
=======
>>>>>>> main
       "1   eso es falso en venezuela así como en todos lo...   \n",
       "2                         vergacion ya se puso veneco   \n",
       "3                                  aprende venezolano   \n",
       "4   si cuando la generación equivocada la que no l...   \n",
       "5   douglas bravo un guerrillero comunista venezol...   \n",
       "6      están peor que los venecos estos hijos de puta   \n",
       "7   de la que me salve esperanza con cali ratas co...   \n",
       "8   xenofobia hermanos venezolanos no señores cuan...   \n",
       "9   con todo el respeto que ustedes se merecen ami...   \n",
       "10  parece que algunos venezolanos hacen estragos ...   \n",
       "\n",
       "                                               tokens  \\\n",
       "0         [estos, venecos, hasta, en, la, sopa, 👎, 🤢]   \n",
       "1   [eso, es, falso, en, venezuela, así, como, en,...   \n",
       "2                   [vergacion, ya, se, puso, veneco]   \n",
       "3                               [aprende, venezolano]   \n",
       "4   [si, cuando, la, generación, equivocada, la, q...   \n",
       "5   [douglas, bravo, un, guerrillero, comunista, v...   \n",
       "6   [están, peor, que, los, venecos, estos, hijos,...   \n",
       "7   [de, la, que, me, salve, esperanza, con, cali,...   \n",
       "8   [xenofobia, hermanos, venezolanos, no, señores...   \n",
       "9   [con, todo, el, respeto, que, ustedes, se, mer...   \n",
       "10  [parece, que, algunos, venezolanos, hacen, est...   \n",
       "\n",
       "                                                  pos  \\\n",
       "0   [(estos, DET), (venecos, NOUN), (hasta, ADV), ...   \n",
       "1   [(eso, PRON), (es, AUX), (falso, ADJ), (en, AD...   \n",
       "2   [(vergacion, NOUN), (ya, ADV), (se, PRON), (pu...   \n",
       "3                [(aprende, VERB), (venezolano, ADJ)]   \n",
       "4   [(si, SCONJ), (cuando, SCONJ), (la, DET), (gen...   \n",
       "5   [(douglas, NOUN), (bravo, ADJ), (un, DET), (gu...   \n",
       "6   [(están, AUX), (peor, ADJ), (que, SCONJ), (los...   \n",
       "7   [(de, ADP), (la, DET), (que, PRON), (me, PRON)...   \n",
       "8   [(xenofobia, NOUN), (hermanos, NOUN), (venezol...   \n",
       "9   [(con, ADP), (todo, DET), (el, DET), (respeto,...   \n",
<<<<<<< HEAD
>>>>>>> d4b10f90f9101a528988cd1cd24253f8e47702f9
=======
>>>>>>> main
       "10  [(parece, VERB), (que, SCONJ), (algunos, DET),...   \n",
       "\n",
       "                                                words  \\\n",
       "0                                     [venecos, sopa]   \n",
       "1   [falso, venezuela, así, países, xenofobia, nac...   \n",
       "2                           [vergacion, puso, veneco]   \n",
       "3                               [aprende, venezolano]   \n",
       "4   [si, generación, equivocada, no, gusta, ni, tr...   \n",
       "5   [douglas, bravo, guerrillero, comunista, venez...   \n",
       "6                        [peor, venecos, hijos, puta]   \n",
       "7   [salve, esperanza, cali, ratas, cero, físico, ...   \n",
       "8   [xenofobia, hermanos, venezolanos, no, señores...   \n",
       "9   [respeto, ustedes, merecen, amigos, chilenos, ...   \n",
       "10        [parece, venezolanos, hacen, estragos, van]   \n",
       "\n",
       "                                           lemmatized  \\\n",
<<<<<<< HEAD
<<<<<<< HEAD
       "0      [  , este, venecos, hasta, en, el, sopa, 👎, 🤢]   \n",
       "1   [   , eso, es, falso, en, venezuela, así, como...   \n",
       "2               [ , vergacion, ya, se, poner, veneco]   \n",
       "3                         [   , aprender, venezolano]   \n",
       "4   [si, cuando, el, generación, equivocado, el, q...   \n",
       "5   [ , douglas, bravo, un, guerrillero, comunista...   \n",
       "6   [están, peor, que, el, venecos, este, hijo, de...   \n",
       "7   [de, el, que, me, salvar, esperanza, con, cali...   \n",
       "8   [ , xenofobia, hermano, venezolano, no, señor,...   \n",
       "9   [  , con, todo, el, respeto, que, ustedes, se,...   \n",
       "10  [parecer, que, algún, venezolano, hacer, estra...   \n",
       "\n",
       "                                            lem_words  \n",
       "0                                 [  , venecos, sopa]  \n",
       "1   [   , falso, venezuela, así, país, xenofobia, ...  \n",
       "2                          [vergacion, poner, veneco]  \n",
       "3                         [   , aprender, venezolano]  \n",
=======
=======
>>>>>>> main
       "0          [este, venecos, hasta, en, el, sopa, 👎, 🤢]   \n",
       "1   [eso, es, falso, en, venezuela, así, como, en,...   \n",
       "2                  [vergacion, ya, se, poner, veneco]   \n",
       "3                              [aprender, venezolano]   \n",
       "4   [si, cuando, el, generación, equivocado, el, q...   \n",
       "5   [douglas, bravo, un, guerrillero, comunista, v...   \n",
       "6   [están, peor, que, el, venecos, este, hijo, de...   \n",
       "7   [de, el, que, me, salvar, esperanza, con, cali...   \n",
       "8   [xenofobia, hermano, venezolano, no, señor, cu...   \n",
       "9   [con, todo, el, respeto, que, ustedes, se, mer...   \n",
       "10  [parecer, que, algún, venezolano, hacer, estra...   \n",
       "\n",
       "                                            lem_words  \n",
       "0                                     [venecos, sopa]  \n",
       "1   [falso, venezuela, así, país, xenofobia, nacid...  \n",
       "2                          [vergacion, poner, veneco]  \n",
       "3                              [aprender, venezolano]  \n",
<<<<<<< HEAD
>>>>>>> d4b10f90f9101a528988cd1cd24253f8e47702f9
=======
>>>>>>> main
       "4   [si, generación, equivocado, no, gustar, ni, t...  \n",
       "5   [douglas, bravo, guerrillero, comunista, venez...  \n",
       "6                         [peor, venecos, hijo, puta]  \n",
       "7   [salvar, esperanza, cali, rata, cero, físico, ...  \n",
       "8   [xenofobia, hermano, venezolano, no, señor, ro...  \n",
<<<<<<< HEAD
<<<<<<< HEAD
       "9   [  , respeto, ustedes, merecer, amigo, chileno...  \n",
=======
       "9   [respeto, ustedes, merecer, amigo, chileno, ve...  \n",
>>>>>>> d4b10f90f9101a528988cd1cd24253f8e47702f9
=======
       "9   [respeto, ustedes, merecer, amigo, chileno, ve...  \n",
>>>>>>> main
       "10  [parecer, algún, venezolano, hacer, estrago, van]  "
      ]
     },
     "execution_count": 13,
     "metadata": {},
     "output_type": "execute_result"
    }
   ],
   "source": [
    "print('---------TOKENIZATION-----------')\n",
    "tokens=[]\n",
    "for doc in docs:\n",
    "    tokens.append([(token.text) for token in doc])\n",
    "\n",
    "tokens=np.array(tokens)\n",
    "tokens=pd.DataFrame(tokens).reset_index()\n",
    "tokens.columns=['index', 'tokens']\n",
    "\n",
    "tokens.head()\n",
    "print('---------POS-----------')\n",
    "pos=[]\n",
    "for doc in docs:\n",
    "    pos.append([(token.text, token.pos_) for token in doc])\n",
    "\n",
    "pos=np.array(pos)\n",
    "pos=pd.DataFrame(pos).reset_index()\n",
    "pos.columns=['index', 'pos']\n",
    "df=pd.merge(df, tokens, how='inner', on='index')\n",
    "df=pd.merge(df, pos, how='inner', on='index')\n",
    "print('---------STOPWORDS-----------')\n",
    "spanish_stopwords=stopwords.words('spanish')\n",
    "spanish_stopwords.extend(['ser', 'haber'])\n",
    "spanish_stopwords.extend(usuarios)\n",
    "spanish_stopwords.remove('no')\n",
    "spanish_stopwords.remove('ni')\n",
    "# ,'venezolano', 'venezolanos', 'venezolana', 'venezolanas', 'veneco', 'veneca', 'venecos', 'venecas'\n",
    "%time df['words']=df['tokens'].map(lambda tokens: [token.lower() for token in tokens if token.isalpha() and token.lower() not in spanish_stopwords and len(token)>1])\n",
    "#N-GRAMS\n",
    "tokens = df['words'].tolist()\n",
    "bigram_model = gensim.models.phrases.Phrases(tokens, min_count=5, threshold=20)\n",
    "trigram_model = gensim.models.phrases.Phrases(bigram_model[tokens], min_count=2, threshold=20)\n",
    "tokens = list(trigram_model[bigram_model[tokens]])\n",
    "print('---------N-GRAMS-----------')\n",
    "print(trigram_model[bigram_model[tokens[0]]])\n",
    "print('---------LEMMATIZER-----------')\n",
    "lemma=[]\n",
    "for doc in docs:\n",
    "    lemma.append([(token.lemma_) for token in doc])\n",
    "data_lemmatized = lemma\n",
    "lemma=np.array(lemma)\n",
    "lemma=pd.DataFrame(lemma).reset_index()\n",
    "lemma.columns=['index', 'lemmatized']\n",
    "\n",
    "print('---------Datos lemmatized-----------')\n",
    "print(lemma[:1])\n",
    "\n",
    "#MERGE LISTS INTO DF\n",
    "df=pd.merge(df, lemma, how='inner', on='index')\n",
    "df=df.drop(['index'], axis=1)\n",
    "\n",
    "print('---------STOPWORDS-----------')\n",
    "%time df['lem_words']=df['lemmatized'].map(lambda tokens: [token.lower() for token in tokens if token.lower() not in spanish_stopwords and len(token)>1])\n",
    "\n",
    "print('--------BASE-FINAL--------')\n",
    "df.head(11)"
   ]
  },
  {
<<<<<<< HEAD
<<<<<<< HEAD
=======
=======
>>>>>>> main
   "cell_type": "markdown",
   "id": "interracial-medication",
   "metadata": {},
   "source": [
    "# Análisis descriptivo\n",
    "Gráficas despúes del preproceso"
   ]
  },
  {
   "cell_type": "code",
   "execution_count": null,
   "id": "solar-worry",
   "metadata": {},
   "outputs": [],
   "source": []
  },
  {
<<<<<<< HEAD
>>>>>>> d4b10f90f9101a528988cd1cd24253f8e47702f9
=======
>>>>>>> main
   "cell_type": "code",
   "execution_count": 14,
   "id": "amateur-cinema",
   "metadata": {},
   "outputs": [
    {
     "name": "stdout",
     "output_type": "stream",
     "text": [
      "[['  ', 'este', 'venecos', 'hasta', 'en', 'el', 'sopa', '👎', '🤢']]\n",
      "['  ', 'venecos', 'sopa']\n"
     ]
    },
    {
     "name": "stderr",
     "output_type": "stream",
     "text": [
      "C:\\Users\\JOSE\\anaconda3\\lib\\site-packages\\ipykernel\\ipkernel.py:287: DeprecationWarning: `should_run_async` will not call `transform_cell` automatically in the future. Please pass the result to `transformed_cell` argument and any exception that happen during thetransform in `preprocessing_exc_tuple` in IPython 7.17 and above.\n",
      "  and should_run_async(code)\n"
     ]
    },
    {
     "data": {
      "text/plain": [
       "1096"
      ]
     },
     "execution_count": 14,
     "metadata": {},
     "output_type": "execute_result"
    }
   ],
   "source": [
    "print(data_lemmatized[:1])\n",
    "print(df.loc[0, 'lem_words'])\n",
    "len(spanish_stopwords)"
   ]
  },
  {
   "cell_type": "code",
   "execution_count": 15,
   "id": "auburn-custom",
   "metadata": {
    "colab": {
     "base_uri": "https://localhost:8080/"
    },
    "executionInfo": {
     "elapsed": 10330,
     "status": "ok",
     "timestamp": 1616184146711,
     "user": {
      "displayName": "Diego Alejandro Bermudez Sierra",
      "photoUrl": "https://lh3.googleusercontent.com/a-/AOh14Giaky64TFemsJXXopg9ctEkZ2B3Iz-B3Kh0Jyl9QA=s64",
      "userId": "09605770473678301910"
     },
     "user_tz": 300
    },
    "id": "organic-spencer",
    "outputId": "91cdd35e-bc33-426f-8768-f536f18ec85a"
   },
   "outputs": [
    {
     "name": "stderr",
     "output_type": "stream",
     "text": [
      "C:\\Users\\JOSE\\anaconda3\\lib\\site-packages\\ipykernel\\ipkernel.py:287: DeprecationWarning: `should_run_async` will not call `transform_cell` automatically in the future. Please pass the result to `transformed_cell` argument and any exception that happen during thetransform in `preprocessing_exc_tuple` in IPython 7.17 and above.\n",
      "  and should_run_async(code)\n",
      "C:\\Users\\JOSE\\anaconda3\\lib\\asyncio\\events.py:81: DeprecationWarning: `run_cell_async` will not call `transform_cell` automatically in the future. Please pass the result to `transformed_cell` argument and any exception that happen during thetransform in `preprocessing_exc_tuple` in IPython 7.17 and above.\n",
      "  self._context.run(self._callback, *self._args)\n"
     ]
    },
    {
     "name": "stdout",
     "output_type": "stream",
     "text": [
      "--------CORPUS----------\n",
      "[[(0, 1), (1, 1), (2, 1)]]\n",
      "Wall time: 1min 27s\n"
     ]
    }
   ],
   "source": [
    "data_lemmatized=list(df['lem_words'])\n",
    "dictionary = corpora.Dictionary(data_lemmatized)\n",
    "texts = data_lemmatized\n",
    "dictionary.save('tweets_x.dict');\n",
    "corpus = [dictionary.doc2bow(text) for text in texts]\n",
    "corpora.MmCorpus.serialize('tweets_x.mm', corpus)\n",
    "corpora.SvmLightCorpus.serialize('tweets_x.svmlight', corpus)\n",
    "corpora.BleiCorpus.serialize('tweets_x.lda-c', corpus)\n",
    "corpora.LowCorpus.serialize('tweets_x.low', corpus)\n",
    "print('--------CORPUS----------')\n",
    "print(corpus[:1])\n",
    "##Then the dictionary and corpus can be used to train using LDA\n",
    "np.random.seed(123456)\n",
    "mm = corpora.MmCorpus('tweets_x.mm')\n",
    "num_topics=10\n",
    "%time lda = gensim.models.ldamodel.LdaModel(corpus=mm, id2word=dictionary, num_topics=num_topics, update_every=0, passes=10, alpha=[0.01]*num_topics, eta=[0.01]*len(dictionary.keys()))"
   ]
  },
  {
   "cell_type": "code",
   "execution_count": 16,
   "id": "painful-jumping",
   "metadata": {
    "colab": {
     "base_uri": "https://localhost:8080/"
    },
    "executionInfo": {
     "elapsed": 474,
     "status": "ok",
     "timestamp": 1616184147204,
     "user": {
      "displayName": "Diego Alejandro Bermudez Sierra",
      "photoUrl": "https://lh3.googleusercontent.com/a-/AOh14Giaky64TFemsJXXopg9ctEkZ2B3Iz-B3Kh0Jyl9QA=s64",
      "userId": "09605770473678301910"
     },
     "user_tz": 300
    },
    "id": "pleasant-travel",
    "outputId": "34ffa097-9cbc-40b5-f277-ad23557e1894"
   },
   "outputs": [
    {
     "name": "stderr",
     "output_type": "stream",
     "text": [
      "C:\\Users\\JOSE\\anaconda3\\lib\\site-packages\\ipykernel\\ipkernel.py:287: DeprecationWarning: `should_run_async` will not call `transform_cell` automatically in the future. Please pass the result to `transformed_cell` argument and any exception that happen during thetransform in `preprocessing_exc_tuple` in IPython 7.17 and above.\n",
      "  and should_run_async(code)\n",
      "C:\\Users\\JOSE\\anaconda3\\lib\\asyncio\\events.py:81: DeprecationWarning: `run_cell_async` will not call `transform_cell` automatically in the future. Please pass the result to `transformed_cell` argument and any exception that happen during thetransform in `preprocessing_exc_tuple` in IPython 7.17 and above.\n",
      "  self._context.run(self._callback, *self._args)\n"
     ]
    },
    {
     "data": {
      "text/plain": [
       "[[('  ', 1), ('sopa', 1), ('venecos', 1)]]"
      ]
     },
     "execution_count": 16,
     "metadata": {},
     "output_type": "execute_result"
    }
   ],
   "source": [
    "[[(dictionary[id], freq) for id, freq in cp] for cp in corpus[:1]]"
   ]
  },
  {
   "cell_type": "code",
<<<<<<< HEAD
<<<<<<< HEAD
   "execution_count": 17,
=======
   "execution_count": 1,
>>>>>>> d4b10f90f9101a528988cd1cd24253f8e47702f9
=======
   "execution_count": 1,
>>>>>>> main
   "id": "unavailable-tonight",
   "metadata": {
    "colab": {
     "base_uri": "https://localhost:8080/"
    },
    "executionInfo": {
     "elapsed": 366,
     "status": "ok",
     "timestamp": 1616184149888,
     "user": {
      "displayName": "Diego Alejandro Bermudez Sierra",
      "photoUrl": "https://lh3.googleusercontent.com/a-/AOh14Giaky64TFemsJXXopg9ctEkZ2B3Iz-B3Kh0Jyl9QA=s64",
      "userId": "09605770473678301910"
     },
     "user_tz": 300
    },
    "id": "appreciated-agreement",
    "outputId": "2c7df0e7-b941-42ff-b8d5-1094e0f10184"
   },
   "outputs": [
    {
<<<<<<< HEAD
<<<<<<< HEAD
     "name": "stdout",
     "output_type": "stream",
     "text": [
      "[(0,\n",
      "  '0.063*\"no\" + 0.053*\"venezolano\" + 0.023*\"venecos\" + 0.018*\"hacer\" + '\n",
      "  '0.015*\"si\" + 0.012*\"  \" + 0.009*\"ni\" + 0.009*\"robar\" + 0.009*\"venir\" + '\n",
      "  '0.009*\"decir\"'),\n",
      " (1,\n",
      "  '0.049*\"venezolano\" + 0.042*\"no\" + 0.040*\"venecos\" + 0.019*\"  \" + '\n",
      "  '0.011*\"colombiano\" + 0.010*\"colombia\" + 0.010*\"mas\" + 0.009*\"tener\" + '\n",
      "  '0.007*\"si\" + 0.007*\"venir\"'),\n",
      " (2,\n",
      "  '0.074*\"venezolano\" + 0.043*\"no\" + 0.017*\"colombiano\" + 0.017*\"colombia\" + '\n",
      "  '0.015*\"decir\" + 0.015*\"tener\" + 0.013*\"si\" + 0.008*\"  \" + 0.007*\"problema\" '\n",
      "  '+ 0.006*\"hacer\"'),\n",
      " (3,\n",
      "  '0.051*\"venezolano\" + 0.050*\"no\" + 0.027*\"país\" + 0.022*\"tener\" + '\n",
      "  '0.015*\"venecos\" + 0.014*\"  \" + 0.010*\"hacer\" + 0.010*\"si\" + 0.008*\"decir\" + '\n",
      "  '0.007*\"colombia\"'),\n",
      " (4,\n",
      "  '0.053*\"venezolano\" + 0.035*\"no\" + 0.023*\"venecos\" + 0.016*\"país\" + '\n",
      "  '0.013*\"tener\" + 0.012*\"hacer\" + 0.009*\"colombia\" + 0.007*\"mierda\" + '\n",
      "  '0.007*\"solo\" + 0.006*\"gente\"'),\n",
      " (5,\n",
      "  '0.067*\"venezolano\" + 0.030*\"no\" + 0.017*\"país\" + 0.017*\"  \" + '\n",
      "  '0.013*\"venecos\" + 0.012*\"malparido\" + 0.011*\"hacer\" + 0.009*\"colombia\" + '\n",
      "  '0.009*\"si\" + 0.008*\"robar\"'),\n",
      " (6,\n",
      "  '0.070*\"venezolano\" + 0.025*\"no\" + 0.014*\"colombia\" + 0.012*\"si\" + '\n",
      "  '0.011*\"país\" + 0.010*\"  \" + 0.008*\"colombiano\" + 0.008*\"venecos\" + '\n",
      "  '0.007*\"decir\" + 0.007*\"aquí\"'),\n",
      " (7,\n",
      "  '0.055*\"venezolano\" + 0.051*\"no\" + 0.022*\"hacer\" + 0.019*\"si\" + '\n",
      "  '0.014*\"tener\" + 0.011*\"robar\" + 0.009*\"  \" + 0.008*\"seguir\" + 0.008*\"gente\" '\n",
      "  '+ 0.008*\"venecos\"'),\n",
      " (8,\n",
      "  '0.063*\"veneco\" + 0.041*\"venezolano\" + 0.038*\"venecos\" + 0.017*\"  \" + '\n",
      "  '0.017*\"no\" + 0.011*\"hptas\" + 0.010*\"veneca\" + 0.010*\"decir\" + 0.009*\"hp\" + '\n",
      "  '0.009*\"tener\"'),\n",
      " (9,\n",
      "  '0.054*\"venezolano\" + 0.030*\"no\" + 0.022*\"colombia\" + 0.020*\"  \" + '\n",
      "  '0.018*\"colombiano\" + 0.017*\"venecos\" + 0.017*\"tener\" + 0.015*\"país\" + '\n",
      "  '0.009*\"si\" + 0.009*\"venir\"')]\n"
     ]
    },
    {
     "name": "stderr",
     "output_type": "stream",
     "text": [
      "C:\\Users\\JOSE\\anaconda3\\lib\\site-packages\\ipykernel\\ipkernel.py:287: DeprecationWarning: `should_run_async` will not call `transform_cell` automatically in the future. Please pass the result to `transformed_cell` argument and any exception that happen during thetransform in `preprocessing_exc_tuple` in IPython 7.17 and above.\n",
      "  and should_run_async(code)\n"
=======
=======
>>>>>>> main
     "ename": "NameError",
     "evalue": "name 'pprint' is not defined",
     "output_type": "error",
     "traceback": [
      "\u001b[1;31m---------------------------------------------------------------------------\u001b[0m",
      "\u001b[1;31mNameError\u001b[0m                                 Traceback (most recent call last)",
      "\u001b[1;32m<ipython-input-1-b5fbd58e5f50>\u001b[0m in \u001b[0;36m<module>\u001b[1;34m\u001b[0m\n\u001b[1;32m----> 1\u001b[1;33m \u001b[0mpprint\u001b[0m\u001b[1;33m(\u001b[0m\u001b[0mlda\u001b[0m\u001b[1;33m.\u001b[0m\u001b[0mprint_topics\u001b[0m\u001b[1;33m(\u001b[0m\u001b[1;33m)\u001b[0m\u001b[1;33m)\u001b[0m\u001b[1;33m\u001b[0m\u001b[1;33m\u001b[0m\u001b[0m\n\u001b[0m\u001b[0;32m      2\u001b[0m \u001b[0mdoc_lda\u001b[0m \u001b[1;33m=\u001b[0m \u001b[0mlda\u001b[0m\u001b[1;33m[\u001b[0m\u001b[0mcorpus\u001b[0m\u001b[1;33m]\u001b[0m\u001b[1;33m\u001b[0m\u001b[1;33m\u001b[0m\u001b[0m\n",
      "\u001b[1;31mNameError\u001b[0m: name 'pprint' is not defined"
<<<<<<< HEAD
>>>>>>> d4b10f90f9101a528988cd1cd24253f8e47702f9
=======
>>>>>>> main
     ]
    }
   ],
   "source": [
    "pprint(lda.print_topics())\n",
    "doc_lda = lda[corpus]"
   ]
  },
  {
   "cell_type": "code",
   "execution_count": 18,
   "id": "novel-synthetic",
   "metadata": {
    "colab": {
     "base_uri": "https://localhost:8080/",
     "height": 882
    },
    "executionInfo": {
     "elapsed": 5044,
     "status": "ok",
     "timestamp": 1616184169776,
     "user": {
      "displayName": "Diego Alejandro Bermudez Sierra",
      "photoUrl": "https://lh3.googleusercontent.com/a-/AOh14Giaky64TFemsJXXopg9ctEkZ2B3Iz-B3Kh0Jyl9QA=s64",
      "userId": "09605770473678301910"
     },
     "user_tz": 300
    },
    "id": "negative-impact",
    "outputId": "af82b0ae-0f23-4c7f-986d-5980b80be4b7"
   },
   "outputs": [
    {
     "name": "stderr",
     "output_type": "stream",
     "text": [
      "C:\\Users\\JOSE\\anaconda3\\lib\\site-packages\\ipykernel\\ipkernel.py:287: DeprecationWarning: `should_run_async` will not call `transform_cell` automatically in the future. Please pass the result to `transformed_cell` argument and any exception that happen during thetransform in `preprocessing_exc_tuple` in IPython 7.17 and above.\n",
      "  and should_run_async(code)\n"
     ]
    },
    {
     "data": {
      "text/html": [
       "\n",
       "<link rel=\"stylesheet\" type=\"text/css\" href=\"https://cdn.jsdelivr.net/gh/bmabey/pyLDAvis@3.2.2/pyLDAvis/js/ldavis.v1.0.0.css\">\n",
       "\n",
       "\n",
       "<div id=\"ldavis_el170819634885204486136445408\"></div>\n",
       "<script type=\"text/javascript\">\n",
       "\n",
       "var ldavis_el170819634885204486136445408_data = {\"mdsDat\": {\"x\": [-0.021020712210707865, -0.03031331122193939, -0.05155149915326597, -0.004242039052366714, -0.019826205521866574, -0.01924784001751725, -0.039964168891454585, -0.0018737421257370313, 0.007635116301760504, 0.18040440189309515], \"y\": [-0.005556297958741617, 0.007143639496883142, 0.03587327037984472, -0.02003425806348089, -0.005807462958079532, 0.006862763192280657, -0.0634980273812685, -0.040371529839696225, 0.0933997444140324, -0.008011841281774132], \"topics\": [1, 2, 3, 4, 5, 6, 7, 8, 9, 10], \"cluster\": [1, 1, 1, 1, 1, 1, 1, 1, 1, 1], \"Freq\": [13.04546670183823, 11.787344544961377, 11.65169774977257, 10.66137430538266, 10.35331374920546, 9.262977519502385, 8.897247718643259, 8.745445165945002, 8.690676157289925, 6.904456387459125]}, \"tinfo\": {\"Term\": [\"veneco\", \"venecos\", \"malparido\", \"pa\\u00eds\", \"  \", \"hptas\", \"hp\", \"colombiano\", \"veneca\", \"hpta\", \"colombia\", \"hacer\", \"no\", \"hijueputa\", \"decir\", \"venezolano\", \"mierda\", \"mas\", \"tener\", \"robar\", \"plaga\", \"si\", \"venecas\", \"hambre\", \"rata\", \"hps\", \"gente\", \"    \", \"ni\", \"comer\", \"destruida\", \"taquilla\", \"guardado\", \"pellisquese\", \"destruccion\", \"dise\\u00f1o\", \"147\", \"todoelpais\", \"refrigerio\", \"arraigado\", \"-blinde\", \"quibo\", \"elpuente\", \"inconformes\", \"desestimar\", \"hijueputaas\", \"mega\", \"fraudulento\", \"supervisar\", \"divaza\", \"mamahuevos\", \"cansones\", \"difamar\", \"nadien\", \"pelotudos\", \"lance\", \"xdxd\", \"frotera\", \"berna\", \"nobleza\", \"respir\\u00e1ndole\", \"rev\\u00f3lver\", \"invadirnos\", \"advertido\", \"huev\\u00f3n\", \"dividir\", \"arraigo\", \"confundido\", \"4-la\", \"6-duque\", \"2-no\", \"5-la\", \"1-no\", \"3-los\", \"vnzl\", \"germ\\u00e1n\", \"\\u00e8l\", \"pacotilla\", \"amarrarse\", \"escritora\", \"distinguir\", \"6-\", \"5-\", \"defenderse\", \"oportuno\", \"malnacido\", \"policias\", \"presidente\", \"pa\\u00eds\", \"tristemente\", \"tener\", \"actuar\", \"ja\", \"aprovechar\", \"no\", \"dolar\", \"polic\\u00eda\", \"pantalones\", \"jodido\", \"favor\", \"venezolano\", \"problema\", \"venezuela\", \"  \", \"joder\", \"frontera\", \"decir\", \"dejar\", \"venecos\", \"hacer\", \"mal\", \"si\", \"pasar\", \"mierda\", \"ciudadano\", \"as\\u00ed\", \"puede\", \"se\\u00f1or\", \"llegar\", \"aqu\\u00ed\", \"   \", \"verdad\", \"colombia\", \"bogot\\u00e1\", \"ver\", \"bien\", \"solo\", \"colombiano\", \"gente\", \"robar\", \"querer\", \"desorientado\", \"deliberadamente\", \"inmaculados\", \"part\\u00edcipe\", \"aga\", \"poste\", \"xa\", \"traera\", \"echados\", \"acechar\", \"desencadenar\", \"jueputaa\", \"bikini\", \"rufi\\u00e1n\", \"preferian\", \"tiraronpor\", \"hoo\", \"corderito\", \"borges\", \"noguera\", \"f\\u00f3rmula\", \"narcopoliticos\", \"mesera\", \"metersen\", \"cangreburguer\", \"republica\", \"diligente\", \"barbaridad\", \"mojon\", \"discordia\", \"fernanda\", \"obrar\", \"cachupe\", \"grabado\", \"bla\", \"boleto\", \"stop\", \"gancho\", \"p*tas\", \"amaz\\u00f3nico\", \"mat\\u00e1ndonos\", \"trofeo\", \"activamente\", \"8000\", \"u$15\", \"organicense\", \"shite\", \"futbol\", \"reproducci\\u00f3n\", \"dm\", \"sentimental\", \"abrirle\", \"deme\", \"rebotar\", \"infulas\", \"estigma\", \"shows\", \"congresistas\", \"horario\", \"cintura\", \"vandalicos\", \"podamos\", \"bajar\", \"bomba\", \"venirse\", \"seguir\", \"queda\", \"saqueo\", \"hacer\", \"toque\", \"emergencia\", \"usted\", \"si\", \"importar\", \"no\", \"gente\", \"d\\u00eda\", \"robar\", \"matar\", \"viejo\", \"cambiar\", \"venezolano\", \"pensar\", \"bogot\\u00e1\", \"puerta\", \"entrar\", \"hacendar\", \"da\\u00f1o\", \"perdonar\", \"dejar\", \"tener\", \"salir\", \"querer\", \"rata\", \"ahora\", \"ciudad\", \"as\\u00ed\", \"dar\", \"  \", \"bien\", \"ver\", \"ac\\u00e1\", \"colombia\", \"venecos\", \"pa\\u00eds\", \"colombiano\", \"   \", \"venir\", \"baile\", \"inmortal\", \"sum\\u00e1ndole\", \"problemita\", \"rotundamente\", \"curies\", \"fachada\", \"untese\", \"but\", \"extremista\", \"lobo\", \"blanquita\", \"bullero\", \"cegar\", \"capricho\", \"cu\\u00f1ada\", \"sendero\", \"innombrables\", \"tajante\", \"temita\", \"izquierdoso\", \"criminalizar\", \"motocarro\", \"energ\\u00fameno\", \"llegarle\", \"alludas\", \"adentrar\", \"traslado\", \"septiembre\", \"edtos\", \"yoga\", \"costear\", \"chernobyl\", \"pecador\", \"sobrina\", \"desnutrici\\u00f3n\", \"radiaci\\u00f3n\", \"mutante\", \"tipica\", \"filo\", \"cucharas\", \"escasamente\", \"parto\", \"esque\", \"tatuado\", \"suplir\", \"cond\\u00f3n\", \"petrismo\", \"choc\\u00f3\", \"sed\", \"f\\u00e1brica\", \"consciencia\", \"deducir\", \"\\ud83c\\udffd\\u200d\", \"cuadrito\", \"desamparado\", \"indicador\", \"tira\", \"guajira\", \"l\\u00f3pez\", \"admirar\", \"aporofobia\", \"justo\", \"ni\\u00f1o\", \"claudia\", \"estigmatizar\", \"morir\", \"sufrido\", \"embarazo\", \"urgencias\", \"decir\", \"mujer\", \"colombiano\", \"venezolano\", \"problema\", \"incre\\u00edble\", \"colombia\", \"xenofobia\", \"hijo\", \"no\", \"matar\", \"hambre\", \"tener\", \"si\", \"traer\", \"claro\", \"hermano\", \"entonces\", \"mismo\", \"parecer\", \"cosa\", \"   \", \"gobierno\", \"ahora\", \"pueblo\", \"  \", \"ni\", \"tan\", \"hacer\", \"robar\", \"delincuente\", \"venir\", \"querer\", \"dejar\", \"solo\", \"mas\", \"pa\\u00eds\", \"venezuela\", \"33%\", \"delinquiendoasesinar\", \"prostituci\\u00f3ncorrupto\", \"tacho\", \"colombiabandas\", \"ciudadse\", \"censar\", \"aquii\", \"debiera\", \"bicitaxismicro\", \"je\", \"pastoseg\\u00fan\", \"chancleta\", \"delinquirque\", \"invadirdesestabilizarexigirgrupos\", \"esperamossacan\", \"autoridadse\", \"obama\", \"port\\u00f3n\", \"bisicletas\", \"t\\u00e9trico\", \"correlaci\\u00f3n\", \"pille\", \"ubiera\", \"entreguenlo\", \"garbanzo\", \"quisas\", \"uchi\", \"delicar\", \"analizalo\", \"j\\u00e1\", \"significado\", \"ciclas\", \"maleducado\", \"descolombianizar\", \"asignarle\", \"farias\", \"brutalmente\", \"escriba\", \"treinta\", \"branse\", \"vestidura\", \"nocturno\", \"apag\\u00f3n\", \"arrendatario\", \"allanar\", \"150\", \"ba\\u00f1ar\", \"\\u2066\\u2069\", \"contigo\", \"insulto\", \"mugroso\", \"vino\", \"gana\", \"rasgar\", \"plomo\", \"pario\", \"no\", \"da\", \"ni\", \"hablar\", \"hacer\", \"noticiero\", \"fastidio\", \"venecos\", \"venezolano\", \"trabajar\", \"delinquir\", \"ustedes\", \"si\", \"odio\", \"pa\", \"venir\", \"extranjero\", \"referir\", \"robar\", \"decir\", \"saber\", \"  \", \"llegar\", \"bien\", \"coste\\u00f1o\", \"persona\", \"creer\", \"verdad\", \"mamado\", \"aqu\\u00ed\", \"tener\", \"malo\", \"colombia\", \"pa\\u00eds\", \"veneco\", \"colombiano\", \"ver\", \"   \", \"venezuela\", \"ahora\", \"querer\", \"master\", \"otorque\", \"milloneshora\", \"ydefiende\", \"despavoridas\", \"andresiniesta\", \"dominicano\", \"parrilleros\", \"jakomel\", \"besar\", \"matarse\", \"ciertoy\", \"anotar\", \"camion\", \"asesores\", \"mit\\u00f3mano\", \"perol\", \"zerofirerabbitx\", \"tyler\", \"durden\", \"exterm\\u00ednelos\", \"exceder\", \"fumigacion\", \"escrupuloso\", \"desinfeccion\", \"familias-venezolanas-y-cartageneras-invaden-terreno-y-construyen-ranchitos-con-palitos-del-monte\", \"llenitas\", \"camarera\", \"deberiamos\", \"s\\u00e1bana\", \"iniciativo\", \"ll\\u00e1menlo\", \"others\", \"direccionar\", \"\\u00e9se\", \"realizada\", \"apestar\", \"irradiar\", \"oyente\", \"jmm\", \"balacera\", \"complementar\", \"ex\\u00edjanle\", \"aprendido\", \"avisp\\u00f3n\", \"malparido\", \"boyac\\u00e1\", \"librar\", \"and\", \"gestionar\", \"panfleto\", \"cruda\", \"permanencia\", \"this\", \"ventaquemada\", \"hogar\", \"fijo\", \"like\", \"ojal\\u00e1\", \"\\ud83c\\udffb\\u200d\", \"empezar\", \"colapsar\", \"paga\", \"venezolano\", \"peso\", \"social\", \"cu\\u00e1ntos\", \"vivir\", \"pa\\u00eds\", \"  \", \"frontera\", \"entrada\", \"rappi\", \"entrar\", \"no\", \"cerrar\", \"robar\", \"llegar\", \"deportar\", \"hacer\", \"sacar\", \"pais\", \"deben\", \"hora\", \"venecos\", \"   \", \"ver\", \"venir\", \"colombia\", \"si\", \"salud\", \"seguir\", \"tener\", \"mal\", \"bien\", \"colombiano\", \"ir\", \"decir\", \"pedir\", \"querer\", \"dejar\", \"solo\", \"ahora\", \"labio\", \"diploma\", \"m19\", \"izq\", \"puticas\", \"internamente\", \"inadaptado\", \"t\\u00e9cnica\", \"debieran\", \"aumentarlos\", \"incorporaci\\u00f3n\", \"dirada\", \"as\\u00eds\", \"art\", \"quibd\\u00f3\", \"venezolanosdesde\", \"grupitos\", \"seguirle\", \"hjpts\", \"corre\", \"arribar\", \"venecoshptas\", \"fundillo\", \"ff\", \"zuela\", \"ratazuela\", \"50mil\", \"320\", \"todoo\", \"soteldo\", \"apertura\", \"tuitear\", \"pene\", \"burocr\\u00e1tico\", \"bumangueses\", \"detestable\", \"ratero\", \"pdta\", \"escolar\", \"antemano\", \"jajajjaa\", \"bajenle\", \"papita\", \"capucho\", \"estresar\", \"quiz\\u00e1\", \"uber\", \"             \", \"obligacion\", \"hait\\u00ed\", \"ar\", \"factor\", \"drasticas\", \"torcoroma\", \"aislamiento\", \"corriente\", \"abrazar\", \"quack\", \"cuatro\", \"bendecir\", \"incomodar\", \"rio\", \"querido\", \"alterar\", \"virus\", \"quiz\\u00e1s\", \"meter\", \"delincuentes\", \"conjunto\", \"pescar\", \"venezolano\", \"dios\", \"pelear\", \"aqu\\u00ed\", \"aire\", \"armas\", \"per\\u00fa\", \"dar\", \"van\", \"colombia\", \"parir\", \"ciudadano\", \"expulsar\", \"si\", \"medido\", \"no\", \"creer\", \"comer\", \"pa\\u00eds\", \"delincuente\", \"colombiano\", \"ver\", \"ni\", \"  \", \"mismo\", \"decir\", \"venezuela\", \"peor\", \"mano\", \"venir\", \"problema\", \"vez\", \"venecos\", \"querer\", \"ir\", \"robar\", \"dejar\", \"hacer\", \"gente\", \"llegar\", \"solo\", \"tener\", \"   \", \"veneco\", \"chovinista\", \"estancia\", \"dep\\u00f3rtelos\", \"muu\", \"eficaz\", \"aberrado\", \"farianos\", \"regalao\", \"back\", \"publicacion\", \"comunal\", \"intimidaci\\u00f3n\", \"conservador\", \"continuidad\", \"hummbueno\", \"pasados\", \"se\\u00f1ores\", \"fufurufa\", \"cuyos\", \"trasladados\", \"colombiche\", \"riveros\", \"pavor\", \"matadero\", \"burrada\", \"perd\\u00f3name\", \"masaje\", \"rifa\", \"valencia\", \"metrolinea\", \"criar\", \"pecuecas\", \"cuidador\", \"cr\\u00edminales\", \"pr\\u00f3spero\", \"nutrir\", \"mca\", \"\\u00e1lvarez\", \"marcado\", \"desayunar\", \"degollar\", \"plant\\u00f3n\", \"tunja\", \"nicol\\u00e1s\", \"desarmado\", \"man\\u00ed\", \"ech\\u00e1ndole\", \"sin\\u00f3nimo\", \"\\u00a8pichar\\u00a8\", \"guerrero\", \"ineptos\", \"boyacense\", \"critica\", \"ca\\u00edda\", \"p\\u00e9simo\", \"junior\", \"pinta\", \"expulsados\", \"difundir\", \"adue\\u00f1arse\", \"escuchar\", \"pro\", \"sapa\", \"caro\", \"saludo\", \"ojo\", \"gam\\u00edn\", \"mierda\", \"pedir\", \"venecos\", \"totalmente\", \"venezolano\", \"generar\", \"gobierno\", \"pa\\u00eds\", \"solo\", \"no\", \"ciudad\", \"gente\", \"tomar\", \"hacer\", \"mayor\\u00eda\", \"as\\u00ed\", \"tener\", \"acabar\", \"duque\", \"volver\", \"inseguridad\", \"peor\", \"situaci\\u00f3n\", \"colombia\", \"ver\", \"culpa\", \"sacar\", \"ahora\", \"decir\", \"   \", \"colombiano\", \"venezuela\", \"querer\", \"mismo\", \"  \", \"venir\", \"dar\", \"transmileno\", \"cos\", \"px\", \"bene\", \"hegem\\u00f3nico\", \"anteponer\", \"repetitivo\", \"fallido\", \"habladera\", \"260\", \"emergente\", \"talv\", \"esquinaque\", \"paralelas\", \"teatro\", \"discusion\", \"se\\u00f1alados\", \"ongs\", \"l\\u00e1grima\", \"sepultar\", \"canalla\", \"yano\", \"maniatado\", \"oluc\", \"enpezar\", \"parecen\", \"meno\", \"bicho\", \"luisito\", \"pdt\", \"portas\", \"partidiario\", \"broma\", \"qliar\", \"habra\", \"favorest\\u00e1n\", \"rebuscado\", \"monta\", \"vamonos\", \"atendio\", \"venezolanosprimero\", \"fastidiado\", \"pe\\u00f1aloca\", \"tetona\", \"canserbero\", \"venido\", \"caracter\", \"medallo\", \"triunfo\", \"quitado\", \"brujas\", \"llev\\u00e1rselo\", \"operario\", \"confirmado\", \"2500\", \"obra\", \"1800\", \"bgta\", \"hijueputas\", \"2400\", \"competencia\", \"multitud\", \"contradecir\", \"traqueto\", \"mas\", \"venecos\", \"pasaje\", \"twitteros\", \"indicaci\\u00f3n\", \"peste\", \"puedes\", \"teletrabajo\", \"  \", \"no\", \"cada\", \"venezolano\", \"solo\", \"transmi\", \"van\", \"colombiano\", \"vendedor\", \"pandemia\", \"favor\", \"mano\", \"hamp\\u00f3n\", \"ladr\\u00f3n\", \"venir\", \"    \", \"ni\", \"putos\", \"colombia\", \"d\\u00eda\", \"bueno\", \"ahora\", \"migrante\", \"cali\", \"puta\", \"querer\", \"tener\", \"ciudad\", \"mierda\", \"si\", \"pa\\u00eds\", \"hacer\", \"hijo\", \"ver\", \"robar\", \"decir\", \"misericordioso\", \"aceptable\", \"mocho\", \"pre\\u00f1a\", \"recreaci\\u00f3n\", \"goma\", \"aparicion\", \"asociado\", \"churrias\", \"venecoslos\", \"chaburras\", \"zambo\", \"compradas\", \"dram\\u00e1tico\", \"duroo\", \"ajajaja\", \"moriran\", \"cagon\", \"troyano\", \"mon\\u00f3mero\", \"indicio\", \"putisima\", \"motoen\", \"pieen\", \"xenofofos\", \"mamadosaburridos\", \"incendiario\", \"magn\\u00edfico\", \"valedores\", \"destilar\", \"expreso\", \"refr\\u00e1n\", \"lamezuelas\", \"menguar\", \"garrote\", \"diganlo\", \"d\\u00edganle\", \"deprimente\", \"trompas\", \"deb\\u00eda\", \"hijueputass\", \"donkin\", \"donuts\", \"plana\", \"patrocinador\", \"ests\", \"hamburgu\\u00e9s\", \"depender\", \"ligadura\", \"debate\", \"hpts\", \"gratis\", \"llevarse\", \"venecas\", \"bobo\", \"re\", \"vacunar\", \"exportar\", \"venecovirus\", \"excelente\", \"culear\", \"pago\", \"mejor\", \"primero\", \"colombia\", \"colombiano\", \"vago\", \"  \", \"puto\", \"hp\", \"venezolano\", \"hijueputa\", \"tener\", \"salud\", \"gran\", \"par\\u00e1sito\", \"querer\", \"ac\\u00e1\", \"marchar\", \"pa\\u00eds\", \"venir\", \"educaci\\u00f3n\", \"plaga\", \"no\", \"venecos\", \"robar\", \"hermano\", \"mierda\", \"dar\", \"   \", \"si\", \"pues\", \"venezuela\", \"hijo\", \"veneco\", \"dejar\", \"solo\", \"ver\", \"hacer\", \"decir\", \"ahora\", \"sudaca\", \"jordan\", \"prro\", \"an\\u00f3nimo\", \"jajajajajajajajajajajjajajajajajajajaja\", \"ajajajajaj\", \"elevado\", \"cicr\", \"hpp\", \"difunto\", \"boy\", \"hcer\", \"censurar\", \"desfavorable\", \"parroquia\", \"ta\", \"per\", \"unx\", \"chirrete\", \"guaidog\", \"venecaa\", \"semen\", \"forzar\", \"burda\", \"negarlo\", \"cerra\", \"face\", \"largate\", \"libreto\", \"jajajajjajajajajajajjaja\", \"jajajajajajja\", \"hijuepuuta\", \"c\\u00e1llate\", \"veneco\", \"hpta\", \"callate\", \"rival\", \"pirobos\", \"callese\", \"venecolandia\", \"mlp\", \"fari\\u00f1ez\", \"hptas\", \"huele\", \"prestarle\", \"uy\", \"jajajajajajaja\", \"arquero\", \"internet\", \"jueputa\", \"hp\", \"gubernamental\", \"veneca\", \"jajajaja\", \"setenta\", \"triple\", \"muertos\", \"hps\", \"cariaco\", \"puro\", \"t\\u00edpico\", \"jajajajajaja\", \"venecos\", \"hijueputa\", \"maldito\", \"hambre\", \"jajaja\", \"gonorrea\", \"rata\", \"plaga\", \"comer\", \"voy\", \"perro\", \"  \", \"    \", \"venezolano\", \"extranjeros\", \"seguro\", \"pais\", \"decir\", \"   \", \"mierda\", \"ir\", \"no\", \"gente\", \"tener\", \"malparido\", \"si\", \"ver\", \"frontera\", \"colombia\", \"pa\\u00eds\", \"querer\", \"hacer\"], \"Freq\": [2485.0, 6496.0, 701.0, 4491.0, 4827.0, 504.0, 578.0, 3200.0, 670.0, 301.0, 4085.0, 3990.0, 15136.0, 667.0, 2649.0, 21597.0, 1246.0, 1033.0, 4622.0, 2303.0, 850.0, 4048.0, 405.0, 512.0, 655.0, 360.0, 1402.0, 831.0, 1498.0, 488.0, 3.828947920864388, 2.8727997211144602, 2.872463434127206, 2.872391640516544, 2.8706146593571273, 2.8704258885947653, 2.8623982199399136, 3.800569799635113, 2.8682695799999114, 3.7989928404755506, 3.7984874277437766, 3.796498280391658, 3.7850852393892787, 2.8476217732917766, 2.8482943472662856, 10.19322255228434, 2.8437443825428224, 2.84421586297105, 6.489402322432141, 1.9158571482793982, 1.915819286972283, 1.9157757107508862, 1.9157560657330435, 1.9157149897866448, 1.9156753425688167, 1.9156749853866741, 1.915652840093833, 1.9156517685474053, 1.915646053633124, 1.9155926549028057, 8.242220824266322, 2.8215015789769238, 3.7231498558630824, 3.718594354816409, 27.977848632996018, 29.67462382792827, 4.609220883737403, 5.46303443513171, 20.982357790176334, 20.97355682218276, 20.06964454628576, 20.893069398170116, 20.864189078848348, 20.8602257857941, 16.21811664191286, 7.147041082830431, 16.40756605034593, 10.916346372341948, 4.496773158787382, 9.763936050562139, 30.690738444643333, 4.470755654338525, 4.470221667035344, 10.010593179682003, 8.034102933968313, 7.310624074860964, 21.47422188891712, 336.5669837647154, 1309.438284269759, 15.878777890432112, 1069.9782553100108, 58.28918249085929, 21.604849113378865, 127.10104234123374, 2465.377811359734, 47.87769736106292, 179.7820594344173, 33.416623971366874, 73.58189877917656, 180.51714599879475, 2502.332550192631, 257.4601115950595, 293.114478832335, 696.6077264846306, 130.65074704892706, 187.9567985508472, 396.17047652712915, 244.84430116061588, 712.6605549469641, 495.84621672267764, 153.4001406189415, 469.2326838611995, 175.63526048258862, 216.51855712073106, 106.17626088371536, 196.50072112986462, 135.8023193700791, 146.3545771259155, 207.25836147515105, 186.70648960433175, 244.045813337199, 143.55277182041885, 364.2352612059947, 162.35001641903386, 222.44236294909055, 175.5019886815431, 199.37902627793397, 269.6067961459601, 187.0777647255463, 195.0515103066944, 170.44582113940712, 3.0430565791258584, 3.9852382287066597, 2.0302032213142014, 2.0301727228546436, 2.03016110439386, 2.0301402879849553, 2.0301402879849553, 2.030128185421639, 2.0300218442319635, 2.0300021573956353, 2.030001350558081, 2.0299776295339806, 2.0299716589360774, 2.0299590722702283, 2.029957135860098, 2.029934221673552, 2.029930832955823, 2.029894525265873, 2.0298858114202853, 2.029861929028674, 2.0298483741577593, 2.029801093477069, 2.0296929772447743, 2.0296913635696656, 2.029459155721498, 2.028788028243716, 2.028591643982965, 2.0283859004065836, 2.030055570041739, 2.0268049829024157, 4.919015212850382, 4.918526592027414, 2.984330423623492, 4.8323569866833855, 36.612103949808805, 2.9804763219934487, 4.808768929411854, 3.881207821787529, 2.965843193371123, 2.9597273647084767, 4.754265116199377, 4.751806198068469, 5.588100746149865, 2.9331549766905867, 2.9332040324138964, 2.9331407763496284, 2.9261738954345597, 3.8090274886973834, 2.9201913563359065, 2.9234264521941844, 2.910153974423665, 18.738159313679514, 4.597125434096862, 3.7365457210968995, 2.899103850013092, 2.8934624418324555, 2.8998648591944387, 16.15775081117441, 3.7005236516414217, 7.486428144233652, 7.33794292447507, 8.629107635152428, 44.536131737418145, 30.592483888093508, 5.805236223330412, 356.0377646657502, 51.00373124627948, 110.01896438047034, 990.4228671521287, 55.146848543023545, 33.40850961153616, 259.8345133900925, 835.6975218555532, 94.17933606214027, 2252.581971715942, 350.4516500309243, 211.69203208038704, 500.1041171612231, 270.74615865752213, 38.141395468953036, 49.45951904160852, 2445.976941928191, 143.04909170683632, 214.3927820178118, 79.14518206551709, 168.95806303208425, 174.99808252905595, 95.40682386208123, 22.703900151515647, 254.9323078308513, 621.6371001088063, 166.93936321651873, 283.60584284390967, 149.0443104190252, 246.31865984871197, 188.37267624234542, 196.91138773430865, 203.7296582084304, 408.68787827895426, 179.20435777862141, 225.78389276111187, 168.16039631602416, 314.2937194587995, 346.06991020472, 269.40025550527145, 209.95285694000157, 185.61281157645206, 173.5573520817671, 4.191347246471261, 3.15607739145456, 3.1554138276893444, 3.1284080585292284, 2.1097753103095873, 2.1096261679729342, 2.1096111739840087, 2.109559652085892, 2.1094353933904344, 2.109401736670612, 2.1093824358976336, 2.1093616995299707, 2.109351012325098, 2.1092790730803594, 2.1091916613151342, 2.1090792063981927, 2.1090110954059456, 2.1087638540991946, 2.108517410345046, 2.1085091157979807, 2.1084204279485914, 2.109009659811261, 2.107087398528902, 2.1063965584646835, 2.105353838192276, 2.1044435116518705, 2.1034196136208805, 2.1004930741015504, 2.0979043778646065, 2.103687112763733, 5.113428436152125, 5.015681665283357, 5.976878343818484, 9.564925218734126, 3.07027285423343, 14.807494329333664, 4.923424289466546, 4.923690672035755, 3.0421884749337975, 3.0478542886214086, 3.0474602976358116, 3.0372235504731955, 21.95065617514779, 3.0314400180214665, 3.003861925113852, 3.8690868658521635, 7.149541628591427, 7.826100396889983, 17.995346535489787, 12.30900703410268, 11.505900913398747, 3.000013893317683, 2.986208576790786, 30.461149859060452, 36.79118066697923, 2.96899962477779, 8.366901037288304, 10.416317088114976, 82.57203738224834, 56.53136046659878, 11.730466204557715, 8.893653905168593, 59.713301850907825, 201.8069119906099, 114.92556901297093, 50.413950802065074, 117.67086502242141, 8.754411429458893, 15.08753482734883, 6.7628204944761965, 676.3498426949097, 113.73959680841084, 760.2888214335024, 3258.8120409858693, 305.0005102957939, 32.63582441728698, 756.91179230222, 185.767166988429, 195.11469787096306, 1878.7178299475772, 245.39512943479343, 142.79223559340446, 654.5821744366935, 562.8137149542607, 108.75251697455556, 102.12497480033397, 86.34130415948648, 101.76234230698024, 161.17304376793973, 121.451963652027, 135.07189577593238, 243.0662656270457, 176.77401999121338, 200.86350807259274, 113.44698560529731, 329.2180151404933, 187.32621515914, 132.9209793526689, 272.81084828905966, 215.58796760538297, 131.70321733941833, 193.15900190742605, 170.8229351365993, 149.57509252337977, 151.37147193122513, 140.3767409839395, 172.9014210227212, 133.80902163532045, 2.9531305910357157, 2.953003319935682, 2.9529717940668663, 2.9529271324193775, 2.9528646644941317, 2.9528570749331204, 2.952819127128065, 2.95266937925119, 2.952666752095456, 2.95247526163302, 2.9473639841981862, 6.756111617295956, 2.9475084777635914, 5.774358698383902, 5.767522839162376, 5.763541238693436, 5.76036938600315, 1.9699501048880785, 1.9698835502761343, 1.969938428640369, 1.9698514405949332, 1.9698215202101776, 1.9697720421105085, 1.9696854919243618, 1.9696691451775685, 1.9696240456707907, 1.9695701889782307, 1.9695563234340756, 1.9695443552801732, 1.9695304897360182, 10.134024391909493, 5.625659348553872, 4.679233792805489, 3.781426964894696, 5.573308308135941, 2.8876104946386243, 7.2385064504158025, 2.8715034028295614, 6.325639890115489, 6.308959202637696, 5.443300879451663, 7.111789972148449, 4.597857643925089, 5.436441667734718, 12.64576508843778, 10.700163608851419, 14.138888616785577, 9.073520436508328, 12.640329795129007, 14.22220681756626, 19.571207985266454, 9.373557384338351, 6.763767149106691, 100.81964440346961, 5.164752314093819, 40.18774372297365, 6.416061336190246, 2513.589074563695, 205.69003134431546, 378.8201453758262, 185.94291835205584, 728.4355478886716, 26.58276437657747, 27.79505079501636, 920.4253427225273, 2135.942532197646, 203.40604520035916, 173.52774164150912, 123.66283123838038, 618.7451405063568, 75.76085687218752, 122.77793979996726, 368.541273628206, 124.13232848828032, 25.593384532661567, 369.2536928764526, 361.27633098535114, 193.88470972213506, 494.55406648060045, 202.52858919648745, 179.15361933589517, 62.180446686221664, 128.8679903752977, 144.50156129950028, 126.72432470581508, 61.31209348506428, 161.85358631559816, 357.7187931512242, 104.6699478021655, 324.6483716065637, 317.40196150407337, 203.13866846880975, 213.29427640461026, 168.28097769875333, 160.79478417330066, 142.9432119161977, 144.2925004195112, 128.2444413836177, 10.235534369298051, 7.445755821653999, 7.445680418219222, 7.4454048838635725, 4.654513426877664, 3.724858243140348, 3.70713560125221, 2.7946225096495625, 2.794211759360121, 2.794194467595003, 2.7912769783065716, 9.932285566236795, 4.552253329628612, 7.229380846545499, 5.427669632150436, 1.8640365470472482, 1.8639557576528445, 1.8639125282400497, 1.8638763856162375, 1.8638712831281699, 1.8638548417777299, 1.863830888430968, 1.8638257859429004, 1.863822667755748, 1.8638172817961212, 1.8638128879869518, 1.8638117541007144, 1.8637931867135795, 1.8637700837814957, 1.8637672490659025, 5.421004081904791, 5.401633903313936, 7.999671154353635, 4.485845014371889, 3.6084563167403774, 3.5876633943933394, 3.5611809143793653, 4.4108633852753565, 8.27418501239063, 3.505839045326593, 2.6923833892959, 2.68972867814295, 2.6927776982349014, 2.686595750469442, 2.689751639339254, 458.64214266249803, 35.86270131679325, 12.642507253817032, 8.9534151842581, 8.805873907067792, 26.46989614451284, 17.810663208962985, 9.216194453625848, 7.69579191054447, 10.25381715098739, 26.08540212478051, 22.784872458773144, 9.536893765878304, 101.31216381917024, 53.78727246937738, 111.20136624393668, 21.73639733623493, 40.6670022494972, 2613.264018826773, 64.7523152271317, 107.28663761648343, 16.999629533935046, 188.764373534911, 660.597477420864, 658.3639573818289, 181.7670254985241, 68.47091328435621, 33.9216513582481, 144.40838580116116, 1183.0003835448376, 102.50641815968608, 325.4681656336111, 212.58483790079478, 116.7018120964522, 444.3054665005712, 160.7275940157365, 139.2455659146477, 108.70710679687458, 94.17008654346141, 519.6570872118614, 232.02819297385662, 226.56233518712202, 242.63307717830236, 350.16123256331895, 342.8322636224425, 103.05687003687406, 148.90688441899758, 271.76092739040337, 114.08273445239419, 136.37768641686844, 199.84109955148898, 128.03715488602103, 173.4011039870523, 130.59043991504913, 141.74202963655497, 132.7941069972301, 133.82528128356043, 125.58071281274351, 3.8165901704019234, 2.8747131289543337, 2.8744468296532433, 3.7846149792740316, 1.9178983452350493, 1.9177887820940291, 1.917770014333762, 1.91776342025583, 1.9177542899940785, 1.9176899977342436, 1.9176883492147607, 1.9176295097501388, 1.9175950176501881, 1.9175752354163929, 1.9175603987410463, 1.9175368122315213, 1.9175302181535894, 1.9175302181535894, 1.9175275551605786, 1.917458824579059, 1.9174275027088832, 1.9173860361034276, 1.9173821050185067, 1.9173444426887811, 1.9172570711561852, 1.9172413468165017, 1.917231328890413, 1.91717997116806, 1.9171074363108105, 1.9170460606623687, 11.413344571092319, 3.672778656696153, 2.7799308672366734, 3.623061845274466, 2.7677822931209244, 2.7608676415543227, 9.93192003741555, 2.7697191767041893, 2.7575693344965306, 2.7522240734776893, 2.751751075195276, 2.749288694324526, 3.554568396942078, 2.739465039916488, 5.078598536227891, 6.613596909679666, 11.437669617345836, 12.112606971288393, 3.506501880332006, 2.7217348324498825, 3.5020551892405587, 24.17784208671499, 2.7168780404347554, 2.706146178600808, 17.05898308577559, 4.8395911092234325, 5.46413094000704, 4.808507133089857, 17.89479159388854, 9.475887810284082, 14.173264440753142, 12.323152836229063, 38.33523813254372, 7.021020130481983, 74.76790014759118, 10.045478175188764, 119.66450552746412, 47.12611791017315, 37.95250161780764, 11.895200221878106, 2424.7300248648794, 95.5949199398652, 45.56679499770462, 229.41919538121348, 19.132451326951465, 34.04758199818105, 25.163494421749363, 214.16292566778844, 154.58938800105184, 482.6579045674887, 40.281582695930446, 87.70130953456689, 66.05309776877083, 409.01842361452225, 56.34791357932871, 878.7100904316703, 133.28727808195003, 95.00306796786289, 384.0023829200624, 121.94587794451384, 289.8890406993767, 200.41528359569253, 180.00629993903362, 348.11998352026484, 123.01080732786448, 236.00973482931283, 158.16406808206742, 102.23106200199358, 102.43250398149429, 185.71819169088116, 134.64488713601233, 97.57473401388651, 274.24985186598053, 150.78068105081735, 115.57745138852101, 163.9404316555641, 128.7068408295229, 185.77466134534174, 128.83049297889934, 124.166609191956, 129.36477154924265, 164.32753852225866, 133.13202305323043, 120.81594921327951, 3.950554498683841, 2.9641427285697315, 2.9639558837059727, 2.9637044835763784, 2.956416559470683, 4.814020156001754, 1.9778930774345418, 1.9778135404749366, 1.977786987554272, 1.9777516648616449, 1.9777336381081663, 1.9777232849051547, 1.977708181408997, 1.9776872313981975, 1.9776821156978859, 1.9776150025818944, 1.9776117139174085, 1.9775952705949786, 1.9775922255352694, 1.9775907639066088, 1.9775500819088936, 1.9775310807363078, 1.977515002821043, 1.9775033097917596, 1.9774975850795062, 1.9774692051230163, 1.9774247472512614, 1.977412688814813, 1.976310499002458, 1.9763063577212534, 4.789450665429431, 3.8419169996589524, 2.9065930489034004, 17.330341989445984, 9.574490135561675, 3.7486492568128464, 3.7191901311618216, 2.8568219133631163, 2.8511403191552374, 2.856695238879212, 2.8554238655494126, 2.8553537073737116, 20.573425098434825, 2.8429332742269064, 2.841673106716837, 2.844624622191804, 3.6375557344288776, 8.298014747317785, 4.406403104018445, 3.6064651875880327, 11.653886867936697, 6.611319633655908, 2.7960797930976233, 4.309152666677436, 22.324697889571947, 22.85228152432716, 33.0808154063447, 16.830254513050832, 10.908217518434721, 12.401509927748119, 69.66492474883779, 11.930478654703268, 8.55245603894505, 23.118826075681916, 14.842171569607695, 75.6486064194172, 24.75726113423362, 246.06477183017506, 211.185634780533, 764.4333172955592, 38.52421676120528, 1759.8246050338762, 76.86038622547392, 199.47514390667328, 528.032319674878, 233.67636589057727, 1167.5203494181037, 177.3064388230956, 215.6628489210539, 98.38149237056915, 406.93416348244943, 124.49714051201552, 167.2750045915183, 419.7883261644661, 91.75416400540507, 103.13523885829107, 95.91024078968492, 86.39054808702198, 107.97668306563898, 90.0131966707431, 301.9857021638775, 186.5433551009201, 77.0924694706921, 111.37035874993133, 144.1757370561512, 183.88400165562925, 152.19790349848103, 192.97916723712677, 132.63884869038662, 145.076739529912, 99.8725796694435, 136.21102236436747, 106.17342306630758, 100.14783357877621, 2.895117629078352, 2.8949909608458264, 2.8945767150192303, 4.717501392222574, 4.717558380954787, 4.717077568457791, 2.861957609832034, 1.931813263347798, 1.931736759566528, 1.9317122160999232, 1.9316372687336085, 1.9316292472103767, 1.9316223032051911, 1.931618711478371, 1.9315910551818554, 1.9315892593184452, 1.9315129949856298, 1.9314874937252065, 1.9314645066735572, 1.9314603163256003, 1.9314555273565066, 1.9314410407249984, 1.9314180536733492, 1.9314135041527103, 1.9313645369437284, 1.9313617832864995, 1.9313117385594716, 1.9313032381393302, 1.9312689970103112, 1.9312549892757125, 3.753794393915476, 5.530495462530541, 6.37894562331675, 5.463591648705397, 6.17835965283157, 3.668687229668672, 2.8095500054531986, 7.801890573405582, 5.312339722234783, 3.648535008274374, 3.64655309341499, 2.790363240228169, 2.7881801886668547, 2.789873807586804, 8.452343680398606, 3.6174447814703075, 11.450610914783878, 2.7901695264283335, 2.7903287596506954, 2.7709779722342103, 3.5808455640694254, 2.7630254101573883, 4.373952242973971, 9.565169837790487, 6.6181239801395675, 43.14530522901894, 3.5610132458105794, 7.209337060547926, 113.27696467792641, 3.5585469267273786, 11.571413617963604, 8.242881834595359, 6.3528457417566635, 5.685193531160905, 332.9414217969306, 1322.1734050803057, 26.203534007148573, 5.494016448253908, 6.649830307817524, 37.855655163452695, 17.08491350807789, 5.532209434569139, 636.6807674655015, 1374.706112656567, 127.59076420704783, 1613.9733680704621, 232.7982546634641, 12.611642835071873, 145.96949433926562, 369.93727311167004, 49.43763133164913, 49.90653270471637, 118.83393882947234, 121.31526845740017, 36.531321312660786, 121.84138843319768, 234.67769133100794, 131.00968969764529, 188.83587085239728, 30.01365122712535, 335.28125845960676, 116.94163707535547, 124.56399015523603, 169.03854846409982, 68.03518287086668, 50.26967448432068, 80.78344924741587, 168.32824856813798, 281.91746169331725, 121.59117437599558, 135.33173047343854, 235.19880779189646, 232.89605690588112, 203.99978518796183, 90.46019344494273, 125.61376282995401, 124.663171620752, 124.48732833798579, 5.233726778332903, 6.126697092302064, 2.101995766123517, 2.1019070111872833, 2.1017977926464484, 2.101783515713006, 2.101775901348503, 2.101688574105613, 2.1016752489677337, 2.1016621617787448, 2.1014575257327355, 2.101343072316305, 2.100458616289543, 2.0991232471148895, 2.098493872298967, 2.09449585503729, 2.0916842509446836, 2.095968758670773, 2.094939153820679, 2.091890076735146, 2.085049522025071, 4.074955180100526, 5.017913321131854, 5.017445513612722, 5.017944730385428, 5.017890478038346, 4.043594943998548, 2.059956383806562, 2.0557473058788274, 3.0282294314225395, 4.983797636875477, 3.0358052482049023, 3.0241605053914316, 3.927782601453139, 5.70822113719162, 11.416339480462453, 2.9993129304281334, 2.996273133349338, 3.8454753663105503, 5.442445075510818, 6.174313996617216, 2.9685863522221116, 2.9653842739998533, 3.773379469863807, 2.9533523883412003, 6.06515303941377, 3.7671511576495234, 5.986215874410279, 3.7149325597369685, 8.623268751055528, 31.352044949363854, 85.81477121123578, 26.291380302834046, 170.59619701581585, 49.657116175905394, 44.22424045298329, 26.18794296824769, 9.52437929657581, 14.094735025072664, 34.200904223890625, 10.270337647398815, 20.40847660189361, 167.06867514394057, 122.02131808103772, 722.8941209411433, 589.0398672207692, 28.672597670656714, 665.3506627769096, 82.90280218011985, 140.7789243151101, 1767.9314147481232, 148.1821120326512, 550.9318003324476, 115.39254930523944, 113.59616843177241, 40.61149099922975, 274.80628299808757, 192.63393441907218, 31.35616432055979, 492.21088729898094, 284.0959599786201, 51.65249085128488, 153.2936958382014, 969.2720522387259, 557.7579867367062, 279.0937793622441, 77.26540081947411, 175.50443160295808, 164.53606136671155, 201.70853605986267, 294.47324232725435, 104.44420484763491, 157.20588017602196, 110.84110099559825, 187.0617577047562, 137.84906914177742, 137.8232107599264, 142.29614735718067, 154.2367957967716, 141.2694112189133, 122.66646034225441, 3.370932967699745, 2.2505508267005774, 2.2504366449895117, 2.2503663211542198, 2.250255542209378, 2.2502413640167784, 2.2502045007160207, 2.2500307705960383, 2.2500124334669436, 2.249576123220024, 2.2490326258370548, 2.2448948621089033, 2.243833766174779, 2.2425726632037217, 2.2265979990809166, 4.339117504338377, 2.2217106815706873, 2.2146474841029007, 3.2499914724880035, 3.246726707338827, 3.2483880134263177, 3.2388285088482314, 2.189055090291068, 3.239222851645057, 3.2233171880595677, 2.184630359944709, 3.219187364119272, 4.207322319128094, 1.1282491474660454, 1.1281807140564333, 3.1708149627795845, 6.1854161118416995, 10.030873147324547, 1631.0423867930663, 209.55307563063386, 6.847096102785636, 6.792539173834176, 5.866843466691698, 21.223004542996897, 19.581012556592675, 8.330435248260189, 8.298869676427596, 277.3640058749094, 12.530992868135352, 4.038303518025296, 29.368246886122254, 25.662313852199368, 7.201668124157853, 9.339341066384275, 16.03180186089515, 245.50320097069593, 12.49763517275822, 266.79482645353244, 102.38569679752833, 17.703408499830314, 54.31840865023534, 40.031672345514934, 133.91849318585318, 16.733239016227795, 114.38954295248479, 22.851521575154838, 25.9497099751217, 978.1547626616349, 178.74260938225584, 103.61434645285352, 132.23419347273295, 80.63127696016734, 32.39204779175557, 150.89953676190416, 174.07130400893573, 115.71377253018541, 46.25569170591034, 50.3452178200729, 453.4692385332698, 147.6104138559275, 1074.3995341376128, 71.38113071438208, 52.211869506616225, 126.27638234423964, 263.808764493832, 203.62291008728332, 166.02162344009926, 127.60810103231373, 452.91700435897815, 144.71455998499047, 230.24520932186246, 99.90577287234096, 195.17082594652194, 138.77369916931335, 105.13948744713217, 132.06464194967356, 124.54203020847798, 108.46670923609113, 107.42919522806808], \"Total\": [2485.0, 6496.0, 701.0, 4491.0, 4827.0, 504.0, 578.0, 3200.0, 670.0, 301.0, 4085.0, 3990.0, 15136.0, 667.0, 2649.0, 21597.0, 1246.0, 1033.0, 4622.0, 2303.0, 850.0, 4048.0, 405.0, 512.0, 655.0, 360.0, 1402.0, 831.0, 1498.0, 488.0, 3.9203912916752346, 2.963379162702384, 2.96304287571513, 2.962971082104468, 2.9611941009450513, 2.9610053301826893, 2.9529776615278376, 3.921884091829689, 2.960708700211441, 3.9219161469087456, 3.92195993233021, 3.921935953454109, 3.9222881737903594, 2.959814426596351, 2.962393426344884, 10.616849501464156, 2.9625898132131656, 2.965989094482413, 6.790108306537056, 2.006436589867322, 2.0063987285602067, 2.00635515233881, 2.0063355073209674, 2.0062944313745685, 2.0062547841567406, 2.006254426974598, 2.006232281681757, 2.0062312101353292, 2.006225495221048, 2.0061720964907295, 8.71600948007069, 2.9576801094306298, 3.921693458181272, 3.9169135931068606, 30.760605919758138, 32.66892819402601, 4.8920786454145855, 5.8397313883392625, 23.080373747403435, 23.077346762100227, 22.125160330250345, 23.08354806239365, 23.081518943491275, 23.082098466524826, 18.269270249188168, 7.748390337763338, 19.286497616061954, 12.56970956413255, 4.892853344306124, 11.701808307294534, 43.326493811694455, 4.889845213737082, 4.889672948555257, 12.473504770413275, 9.67191723618107, 8.677638602200966, 31.422874232246922, 856.0355790370609, 4491.423076730968, 22.342826730110925, 4622.887586431491, 119.97418679338425, 34.917726889199905, 333.44636140602296, 15136.392680235831, 97.16640100425485, 557.0293618518135, 62.953251700733745, 181.6902863671692, 612.6261893190448, 21597.187030986064, 1108.7715570602852, 1358.7582779286665, 4827.263318426821, 442.61369060596274, 811.6984526373651, 2649.4148405160245, 1278.2234602706562, 6496.613283137952, 3990.195547593702, 665.1249281462935, 4048.5146961702317, 859.7285843470659, 1246.0933704945385, 368.6981639577431, 1096.0704313675053, 580.9759903524598, 662.9884351598316, 1244.3246807985852, 1073.6577725853901, 1794.7456570847567, 668.2267790141616, 4085.134005218686, 879.2659089917798, 1769.347443165418, 1045.9881568236106, 1447.5433730461903, 3200.869206343831, 1402.8083238367644, 2303.3068651102585, 1742.3197315231348, 3.133071295391093, 4.14874541472792, 2.120217937579436, 2.1201874391198783, 2.1201758206590946, 2.12015500425019, 2.12015500425019, 2.1201429016868736, 2.1200365604971982, 2.12001687366087, 2.120016066823316, 2.1199923457992154, 2.119986375201312, 2.119973788535463, 2.1199718521253326, 2.1199489379387866, 2.119945549221058, 2.119909241531108, 2.11990052768552, 2.1198766452939086, 2.119863090422994, 2.119815809742304, 2.119707693510009, 2.1197060798349003, 2.1194738719867328, 2.1188027445089506, 2.1186063602482, 2.1184006166718183, 2.120155838766876, 2.1168196991676504, 5.145219655516766, 5.160174956979014, 3.13451110149639, 5.145198089223379, 41.59138542363707, 3.139704517258692, 5.141392187287775, 4.140867400710951, 3.1355277161182347, 3.1323908637894617, 5.1499091783415, 5.149445468470645, 6.166649658972466, 3.1237693112537768, 3.1239965642860583, 3.123943752377054, 3.1181312523912004, 4.13417532897641, 3.1200558373791925, 3.1276030202158274, 3.120634111023707, 23.408816544483187, 5.1337525051391015, 4.123023953201193, 3.1256198590960786, 3.1189944611706313, 3.1300831273685508, 21.102968806971685, 4.1174445156449435, 9.222802027206079, 9.115039307952953, 11.125525480777064, 77.89578963907884, 52.055762712479826, 7.093564441885407, 1046.0953376902326, 98.7664747610035, 259.25901673961505, 3990.195547593702, 119.31946209052563, 64.4186699449686, 862.123844108966, 4048.5146961702317, 254.59173672214794, 15136.392680235831, 1402.8083238367644, 750.1285581454026, 2303.3068651102585, 1056.1956459709636, 82.24532619064605, 117.01688092842866, 21597.187030986064, 493.40596385614, 879.2659089917798, 227.01989356180454, 646.2322021241955, 680.5280762192322, 302.4398739864332, 42.252255796904166, 1278.2234602706562, 4622.887586431491, 759.2851523210902, 1742.3197315231348, 655.9200141481746, 1467.7738655735518, 1013.9925736411554, 1096.0704313675053, 1207.2860416142614, 4827.263318426821, 1045.9881568236106, 1769.347443165418, 1043.6107835921373, 4085.134005218686, 6496.613283137952, 4491.423076730968, 3200.869206343831, 1794.7456570847567, 2036.0717938129812, 4.302768197770459, 3.2511211720419095, 3.2507000575741816, 3.249715174738204, 2.199396010437164, 2.199246868100511, 2.1992318741115855, 2.1991803522134687, 2.1990560935180112, 2.199022436798189, 2.1990031360252105, 2.1989823996575475, 2.198971712452675, 2.1988997732079363, 2.198812361442711, 2.1986999065257695, 2.1986317955335224, 2.1983845542267715, 2.1981381104726228, 2.1981298159255576, 2.1980411280761682, 2.198685860569681, 2.1967080986564786, 2.1960172585922604, 2.194974538319853, 2.1940642117794473, 2.1930403137484573, 2.1901137742291272, 2.1875250779921833, 2.1971071644837856, 5.342947626446363, 5.332632839047582, 6.394542529793913, 10.539500903445392, 3.2424654502218186, 16.768402023988685, 5.341701559395268, 5.3420318102146025, 3.235322454725426, 3.241797911126091, 3.2438727871340682, 3.240478764015466, 26.946909375566833, 3.2348766623999587, 3.2325228739014773, 4.28181216169459, 8.41553940135, 9.42958857751473, 23.832314137686048, 15.637976219470678, 14.55599657605273, 3.2552234033733543, 3.241993466063002, 44.35052659512015, 55.369069986479055, 3.230784301180011, 10.503202173345334, 13.569654473151301, 146.75489374173802, 96.06623874933194, 15.583568119873544, 11.385615689984917, 108.46801927392592, 466.5112927019103, 240.50139321299278, 90.75735173782002, 258.8969999518436, 11.422172631831517, 22.67444363002129, 8.33676520271173, 2649.4148405160245, 285.3217310383874, 3200.869206343831, 21597.187030986064, 1108.7715570602852, 62.098686722428766, 4085.134005218686, 628.9204861800024, 676.6231959868827, 15136.392680235831, 1056.1956459709636, 512.1473912875083, 4622.887586431491, 4048.5146961702317, 400.513614575849, 386.88672036215627, 300.467361290641, 395.5442430448376, 835.3786415518483, 534.3951233697112, 654.2998064540492, 1794.7456570847567, 1117.309679241454, 1467.7738655735518, 512.939299246334, 4827.263318426821, 1498.485957524365, 733.9531610704972, 3990.195547593702, 2303.3068651102585, 738.8838843550467, 2036.0717938129812, 1742.3197315231348, 1278.2234602706562, 1447.5433730461903, 1033.8732521203192, 4491.423076730968, 1358.7582779286665, 3.0434479927155724, 3.043320721615539, 3.043289195746723, 3.0432445340992342, 3.0431820661739883, 3.043174476612977, 3.0431365288079215, 3.042986780931047, 3.0429841537753126, 3.0427926633128766, 3.037681385878043, 6.971177267190739, 3.0422898103287594, 5.987846069644867, 5.9879413057822255, 5.987798255205201, 5.987915810570467, 2.0602675065679352, 2.060200951955991, 2.0602585630145174, 2.06016884227479, 2.0601389218900343, 2.0600894437903654, 2.060002893604219, 2.0599865468574254, 2.059941447350648, 2.0598875906580876, 2.0598737251139325, 2.0598617569600304, 2.0598478914158753, 10.887636286404963, 5.985396190338691, 4.991422185862663, 4.018532787654551, 5.994388466879691, 3.0472676030893795, 7.944840823056946, 3.0485249611272662, 6.97346904345992, 6.96211242286442, 5.973029689616489, 7.925338487345426, 5.025286980648263, 6.00699634005429, 14.901859153644432, 12.812581730982727, 17.700466413597063, 10.818513141090992, 16.218742045599125, 18.786346124638087, 27.79610234417773, 11.884128541247474, 8.088496057301851, 202.80831128587562, 5.967906147899086, 74.20297878313472, 7.901197124503476, 15136.392680235831, 644.873239015936, 1498.485957524365, 615.5417742865653, 3990.195547593702, 50.017942195341895, 53.78187534073978, 6496.613283137952, 21597.187030986064, 833.9172509590404, 673.2779180081457, 421.93553007287056, 4048.5146961702317, 218.08472857585133, 432.6612753583512, 2036.0717938129812, 442.1362748917141, 48.597560651837945, 2303.3068651102585, 2649.4148405160245, 1079.207125419867, 4827.263318426821, 1244.3246807985852, 1045.9881568236106, 196.76237142040273, 660.0424763714216, 816.8108936941238, 668.2267790141616, 203.72490892780206, 1073.6577725853901, 4622.887586431491, 529.39745209813, 4085.134005218686, 4491.423076730968, 2485.7736484695224, 3200.869206343831, 1769.347443165418, 1794.7456570847567, 1358.7582779286665, 1467.7738655735518, 1742.3197315231348, 10.326378560088349, 7.536600012444299, 7.536524609009522, 7.536249074653872, 4.7454118529468925, 3.815702433930648, 3.815868174201669, 2.885466700439862, 2.8850559501504205, 2.8850386583853025, 2.8821211690968713, 10.35427743250101, 4.756665264123123, 7.558004467705438, 5.682810070708111, 1.9548807378375472, 1.9547999484431435, 1.9547567190303488, 1.9547205764065365, 1.954715473918469, 1.954699032568029, 1.954675079221267, 1.9546699767331994, 1.954666858546047, 1.9546614725864202, 1.9546570787772508, 1.9546559448910135, 1.9546373775038786, 1.9546142745717947, 1.9546114398562016, 5.688274890772489, 5.670519263202312, 8.482632112022234, 4.757392441795255, 3.815940260509956, 3.82250655504794, 3.8188183784058785, 4.776344083319691, 9.430526113386618, 3.818648439950224, 2.8869216385621725, 2.8841868293137454, 2.887888817877733, 2.880894799319595, 2.884900659182803, 701.1755383587661, 46.47580711545833, 15.161629114660935, 10.530272751186015, 10.442085501326442, 35.11564082468976, 22.788664762864975, 11.499805908129064, 9.481127792593034, 13.298812119451737, 40.11836140996853, 34.402927975876885, 12.291137131371155, 233.49970221825734, 112.46667638857842, 288.8955969763358, 36.361274603232665, 83.68598947175741, 21597.187030986064, 161.50346564019654, 327.2029600470507, 26.979922398780147, 783.1778628073513, 4491.423076730968, 4827.263318426821, 811.6984526373651, 205.864252991287, 74.9509364151492, 646.2322021241955, 15136.392680235831, 399.880938423114, 2303.3068651102585, 1244.3246807985852, 509.6648579697279, 3990.195547593702, 838.331353076004, 702.8828569334999, 479.5304945899893, 382.3763827069012, 6496.613283137952, 1794.7456570847567, 1769.347443165418, 2036.0717938129812, 4085.134005218686, 4048.5146961702317, 481.3052067025113, 1046.0953376902326, 4622.887586431491, 665.1249281462935, 1045.9881568236106, 3200.869206343831, 949.433908214853, 2649.4148405160245, 1027.678406142605, 1742.3197315231348, 1278.2234602706562, 1447.5433730461903, 1467.7738655735518, 3.9224577740622286, 2.965292644937259, 2.9650263456361685, 3.9233939962506517, 2.008477861217974, 2.0083682980769537, 2.0083495303166865, 2.0083429362387544, 2.008333805977003, 2.008269513717168, 2.008267865197685, 2.008209025733063, 2.0081745336331127, 2.008154751399317, 2.0081399147239707, 2.0081163282144456, 2.008109734136514, 2.008109734136514, 2.008107071143503, 2.0080383405619835, 2.0080070186918078, 2.007965552086352, 2.007961621001431, 2.0079239586717055, 2.0078365871391095, 2.0078208627994263, 2.0078108448733376, 2.0077594871509845, 2.007686952293735, 2.0076255766452933, 12.561111378556623, 3.9105592563739373, 2.96641480513227, 3.9308758342124817, 2.9589833078627894, 2.9550344520384106, 11.641601595686089, 2.9699713032782835, 2.961758233549238, 2.958652106323362, 2.96053444061924, 2.9599335290159345, 3.923576638163303, 2.959876360819192, 5.853273545388946, 7.841064989107771, 14.455892943792172, 15.413123401778964, 3.9123415131261465, 2.9584750925538126, 3.919600968811674, 33.67801729275319, 2.9633263291259775, 2.962048794946552, 24.558449172051333, 5.8990601715359645, 6.812357908492427, 5.886597812910588, 28.736369755440183, 13.50742423531223, 22.34844389025291, 19.273800376759414, 80.04051459773522, 9.699877016490383, 201.5886235455271, 15.41685551657465, 384.34994568466317, 115.15293761357317, 88.25640596393131, 19.297856286803768, 21597.187030986064, 302.57537589399453, 113.8196818787161, 1073.6577725853901, 39.26665215750177, 87.87205931525394, 58.40529477810991, 1207.2860416142614, 784.8329535697127, 4085.134005218686, 118.73367343694918, 368.6981639577431, 252.16192482275176, 4048.5146961702317, 204.43169315511213, 15136.392680235831, 816.8108936941238, 488.11210248994865, 4491.423076730968, 738.8838843550467, 3200.869206343831, 1769.347443165418, 1498.485957524365, 4827.263318426821, 835.3786415518483, 2649.4148405160245, 1358.7582779286665, 628.20333015971, 640.7213711952248, 2036.0717938129812, 1108.7715570602852, 614.0628183337737, 6496.613283137952, 1742.3197315231348, 949.433908214853, 2303.3068651102585, 1278.2234602706562, 3990.195547593702, 1402.8083238367644, 1244.3246807985852, 1447.5433730461903, 4622.887586431491, 1794.7456570847567, 2485.7736484695224, 4.040837235282043, 3.054425465167934, 3.0542386203041754, 3.053987220174581, 3.0542507906989176, 5.025380011184385, 2.0681758140327444, 2.0680962770731393, 2.068069724152475, 2.0680344014598475, 2.068016374706369, 2.0680060215033573, 2.0679909180071996, 2.0679699679964, 2.0679648522960887, 2.067897739180097, 2.0678944505156114, 2.0678780071931815, 2.067874962133472, 2.0678735005048114, 2.0678328185070964, 2.0678138173345104, 2.067797739419246, 2.0677860463899624, 2.067780321677709, 2.067751941721219, 2.067707483849464, 2.0676954254130155, 2.066593405696938, 2.0665890943194563, 5.027959440816248, 4.035797277421033, 3.0511080317109105, 19.776019499463054, 10.936108166792046, 4.060217333526885, 4.033945463037469, 3.047859575239832, 3.04214994392304, 3.0506323590245423, 3.0494065541289412, 3.0498685854536394, 25.607465976657153, 3.04911599572921, 3.054399935234101, 3.0604106560316486, 4.0315766287410435, 10.036793248687417, 5.008038715303511, 4.026370616248106, 14.866516241227291, 7.9259223241667, 3.062509608660019, 5.013408186623186, 34.315273370331795, 35.60274166447412, 56.25796792978243, 26.538449619428352, 15.810634100822208, 18.61952931191554, 180.119139640223, 18.958017713017995, 12.780548016889593, 47.451029528885066, 26.463738493767448, 233.61585141879618, 53.52394186555444, 1246.0933704945385, 1027.678406142605, 6496.613283137952, 103.84761206304252, 21597.187030986064, 271.4979757453954, 1117.309679241454, 4491.423076730968, 1447.5433730461903, 15136.392680235831, 1013.9925736411554, 1402.8083238367644, 437.667877518002, 3990.195547593702, 689.4068211568344, 1096.0704313675053, 4622.887586431491, 435.2935679480572, 547.0908507718844, 507.3356650909614, 428.4039322949544, 628.20333015971, 488.3911308622859, 4085.134005218686, 1769.347443165418, 392.71010168793595, 838.331353076004, 1467.7738655735518, 2649.4148405160245, 1794.7456570847567, 3200.869206343831, 1358.7582779286665, 1742.3197315231348, 835.3786415518483, 4827.263318426821, 2036.0717938129812, 1207.2860416142614, 2.9856297232307374, 2.985503054998212, 2.9850888091716157, 4.911599543544863, 4.911682123956934, 4.911236065103846, 2.9861148008975618, 2.022325357500183, 2.022248853718913, 2.0222243102523083, 2.022149362885994, 2.022141341362762, 2.0221343973575765, 2.022130805630756, 2.0221031493342405, 2.0221013534708305, 2.022025089138015, 2.0219995878775916, 2.0219766008259423, 2.0219724104779857, 2.021967621508892, 2.021953134877384, 2.0219301478257345, 2.0219255983050957, 2.021876631096114, 2.021873877438885, 2.0218238327118567, 2.0218153322917156, 2.0217810911626963, 2.021767083428098, 3.9450715926614004, 5.8759346731698265, 6.855901815454761, 5.9044661187196175, 6.836675085018213, 3.957196983652322, 2.9901638447987913, 8.851369026232456, 5.885741020271867, 3.9529253668214808, 3.9571591619776307, 2.9844482857863035, 2.9822601108936313, 2.987256573381637, 9.715504927170073, 3.9433704143121426, 13.632214862359861, 2.990290813740109, 2.9906023980636878, 2.98278003371434, 3.949127104370909, 2.9816071132987796, 4.930739961282036, 11.687729601738166, 7.875241676234108, 66.95075841085352, 3.942769493104015, 8.827044612466938, 220.21725677251152, 3.9540509396180585, 15.690551216931718, 10.638615863377138, 7.808358916996351, 6.923130769941848, 1033.8732521203192, 6496.613283137952, 49.949001625648066, 6.827540687231777, 8.761915028866916, 86.5272171691112, 31.313261383539064, 6.923174967056584, 4827.263318426821, 15136.392680235831, 554.4300228992606, 21597.187030986064, 1447.5433730461903, 21.881700873219145, 784.8329535697127, 3200.869206343831, 162.9753354710548, 166.03607643435367, 612.6261893190448, 640.7213711952248, 104.5792812858612, 701.6478121645545, 2036.0717938129812, 831.6705720898423, 1498.485957524365, 82.92731233645684, 4085.134005218686, 750.1285581454026, 849.7177940309846, 1467.7738655735518, 314.91350586967366, 194.82689961546137, 448.1881069522188, 1742.3197315231348, 4622.887586431491, 1013.9925736411554, 1246.0933704945385, 4048.5146961702317, 4491.423076730968, 3990.195547593702, 676.6231959868827, 1769.347443165418, 2303.3068651102585, 2649.4148405160245, 5.334469757992166, 6.383379256763718, 2.1916627543224547, 2.191573999386221, 2.191464780845386, 2.1914505039119434, 2.1914428895474405, 2.1913555623045506, 2.1913422371666713, 2.1913291499776824, 2.191124513931673, 2.1910100605152425, 2.1901256044884807, 2.188790235313827, 2.1881608604979044, 2.1841628432362277, 2.181351239143621, 2.1903755734353614, 2.1903376453796204, 2.1876706000677326, 2.183778197946147, 4.272820082292004, 5.315434287535807, 5.315000015590444, 5.315579000934897, 5.315603501278286, 4.286614868059769, 2.185663482291927, 2.185124696868881, 3.2249139677005565, 5.308094761689814, 3.2351599852846236, 3.226921871695191, 4.2598583346611285, 6.3497178418199836, 13.619386410601148, 3.2263279310462822, 3.2310851300085, 4.25832537453516, 6.30449958660865, 7.31841330828947, 3.2303315043296874, 3.230477872947213, 4.25296959120304, 3.2204398810230024, 7.314687100259296, 4.2550425418771285, 7.366293193627605, 4.243097920636192, 11.312633145077463, 52.46690568029232, 173.17980107808063, 43.069664003174495, 405.69196182539883, 96.37845722783221, 86.41042388538986, 48.006936970573946, 13.607415232304065, 22.35164864105625, 71.48308522214234, 15.518687244388753, 37.90429226696547, 581.5920160151758, 386.6616818135226, 4085.134005218686, 3200.869206343831, 61.03105695644684, 4827.263318426821, 270.0209598252141, 578.2806141665383, 21597.187030986064, 667.0371733768752, 4622.887586431491, 481.3052067025113, 476.4249130239121, 107.52843511657436, 1742.3197315231348, 1043.6107835921373, 75.12884263943307, 4491.423076730968, 2036.0717938129812, 159.53215243299135, 850.5758327298678, 15136.392680235831, 6496.613283137952, 2303.3068651102585, 300.467361290641, 1246.0933704945385, 1207.2860416142614, 1794.7456570847567, 4048.5146961702317, 577.9819676295187, 1358.7582779286665, 676.6231959868827, 2485.7736484695224, 1278.2234602706562, 1447.5433730461903, 1769.347443165418, 3990.195547593702, 2649.4148405160245, 1467.7738655735518, 3.4598655372025986, 2.339483396203431, 2.3393692144923652, 2.3392988906570733, 2.3391881117122315, 2.339173933519632, 2.3391370702188743, 2.338963340098892, 2.338945002969797, 2.3385086927228778, 2.3379651953399083, 2.333827431611757, 2.3327663356776327, 2.3315052327065753, 2.336950180590145, 4.557967917201915, 2.334942582207099, 2.334732727277317, 3.4424864230375736, 3.441690880364049, 3.444191498176396, 3.441451962762089, 2.3290732178104667, 3.4515808137075474, 3.4351060906066273, 2.3281972768192536, 3.436913440480507, 4.52992006090537, 1.2171817169688992, 1.217113283559287, 3.4331358735699884, 6.750732751509662, 11.157493159609546, 2485.7736484695224, 301.56074164114284, 7.835244531129157, 7.834441167598895, 6.685268446332304, 27.447704441379962, 25.145697202863335, 9.911151223438193, 9.931117720307927, 504.0230591518464, 16.26313786161477, 4.517668370855309, 43.25124888628454, 37.622605559790316, 8.845222442484603, 12.01979699586052, 22.90797473899969, 578.2806141665383, 17.31705596001853, 670.010596215752, 212.2388279288512, 26.7634952917212, 105.07329175018377, 73.17659300547545, 360.43992807503963, 26.729633003304365, 313.7877982434109, 40.39076725775287, 49.21750826580755, 6496.613283137952, 667.0371733768752, 361.4006238395931, 512.1473912875083, 256.84104179752524, 70.31733518302835, 655.9200141481746, 850.5758327298678, 488.11210248994865, 126.39893734613028, 146.57746893172856, 4827.263318426821, 831.6705720898423, 21597.187030986064, 258.50720950058906, 157.482674201505, 702.8828569334999, 2649.4148405160245, 1794.7456570847567, 1246.0933704945385, 949.433908214853, 15136.392680235831, 1402.8083238367644, 4622.887586431491, 701.1755383587661, 4048.5146961702317, 1769.347443165418, 811.6984526373651, 4085.134005218686, 4491.423076730968, 1742.3197315231348, 3990.195547593702], \"Category\": [\"Default\", \"Default\", \"Default\", \"Default\", \"Default\", \"Default\", \"Default\", \"Default\", \"Default\", \"Default\", \"Default\", \"Default\", \"Default\", \"Default\", \"Default\", \"Default\", \"Default\", \"Default\", \"Default\", \"Default\", \"Default\", \"Default\", \"Default\", \"Default\", \"Default\", \"Default\", \"Default\", \"Default\", \"Default\", \"Default\", \"Topic1\", \"Topic1\", \"Topic1\", \"Topic1\", \"Topic1\", \"Topic1\", \"Topic1\", \"Topic1\", \"Topic1\", \"Topic1\", \"Topic1\", \"Topic1\", \"Topic1\", \"Topic1\", \"Topic1\", \"Topic1\", \"Topic1\", \"Topic1\", \"Topic1\", \"Topic1\", \"Topic1\", \"Topic1\", \"Topic1\", \"Topic1\", \"Topic1\", \"Topic1\", \"Topic1\", \"Topic1\", \"Topic1\", \"Topic1\", \"Topic1\", \"Topic1\", \"Topic1\", \"Topic1\", \"Topic1\", \"Topic1\", \"Topic1\", \"Topic1\", \"Topic1\", \"Topic1\", \"Topic1\", \"Topic1\", \"Topic1\", \"Topic1\", \"Topic1\", \"Topic1\", \"Topic1\", \"Topic1\", \"Topic1\", \"Topic1\", \"Topic1\", \"Topic1\", \"Topic1\", \"Topic1\", \"Topic1\", \"Topic1\", \"Topic1\", \"Topic1\", \"Topic1\", \"Topic1\", \"Topic1\", \"Topic1\", \"Topic1\", \"Topic1\", \"Topic1\", \"Topic1\", \"Topic1\", \"Topic1\", \"Topic1\", \"Topic1\", \"Topic1\", \"Topic1\", \"Topic1\", \"Topic1\", \"Topic1\", \"Topic1\", \"Topic1\", \"Topic1\", \"Topic1\", \"Topic1\", \"Topic1\", \"Topic1\", \"Topic1\", \"Topic1\", \"Topic1\", \"Topic1\", \"Topic1\", \"Topic1\", \"Topic1\", \"Topic1\", \"Topic1\", \"Topic1\", \"Topic1\", \"Topic1\", \"Topic1\", \"Topic1\", \"Topic1\", \"Topic1\", \"Topic1\", \"Topic1\", \"Topic1\", \"Topic2\", \"Topic2\", \"Topic2\", \"Topic2\", \"Topic2\", \"Topic2\", \"Topic2\", \"Topic2\", \"Topic2\", \"Topic2\", \"Topic2\", \"Topic2\", \"Topic2\", \"Topic2\", \"Topic2\", \"Topic2\", \"Topic2\", \"Topic2\", \"Topic2\", \"Topic2\", \"Topic2\", \"Topic2\", \"Topic2\", \"Topic2\", \"Topic2\", \"Topic2\", \"Topic2\", \"Topic2\", \"Topic2\", \"Topic2\", \"Topic2\", \"Topic2\", \"Topic2\", \"Topic2\", \"Topic2\", \"Topic2\", \"Topic2\", \"Topic2\", \"Topic2\", \"Topic2\", \"Topic2\", \"Topic2\", \"Topic2\", \"Topic2\", \"Topic2\", \"Topic2\", \"Topic2\", \"Topic2\", \"Topic2\", \"Topic2\", \"Topic2\", \"Topic2\", \"Topic2\", \"Topic2\", \"Topic2\", \"Topic2\", \"Topic2\", \"Topic2\", \"Topic2\", \"Topic2\", \"Topic2\", \"Topic2\", \"Topic2\", \"Topic2\", \"Topic2\", \"Topic2\", \"Topic2\", \"Topic2\", \"Topic2\", \"Topic2\", \"Topic2\", \"Topic2\", \"Topic2\", \"Topic2\", \"Topic2\", \"Topic2\", \"Topic2\", \"Topic2\", \"Topic2\", \"Topic2\", \"Topic2\", \"Topic2\", \"Topic2\", \"Topic2\", \"Topic2\", \"Topic2\", \"Topic2\", \"Topic2\", \"Topic2\", \"Topic2\", \"Topic2\", \"Topic2\", \"Topic2\", \"Topic2\", \"Topic2\", \"Topic2\", \"Topic2\", \"Topic2\", \"Topic2\", \"Topic2\", \"Topic2\", \"Topic2\", \"Topic2\", \"Topic2\", \"Topic2\", \"Topic2\", \"Topic2\", \"Topic2\", \"Topic3\", \"Topic3\", \"Topic3\", \"Topic3\", \"Topic3\", \"Topic3\", \"Topic3\", \"Topic3\", \"Topic3\", \"Topic3\", \"Topic3\", \"Topic3\", \"Topic3\", \"Topic3\", \"Topic3\", \"Topic3\", \"Topic3\", \"Topic3\", \"Topic3\", \"Topic3\", \"Topic3\", \"Topic3\", \"Topic3\", \"Topic3\", \"Topic3\", \"Topic3\", \"Topic3\", \"Topic3\", \"Topic3\", \"Topic3\", \"Topic3\", \"Topic3\", \"Topic3\", \"Topic3\", \"Topic3\", \"Topic3\", \"Topic3\", \"Topic3\", \"Topic3\", \"Topic3\", \"Topic3\", \"Topic3\", \"Topic3\", \"Topic3\", \"Topic3\", \"Topic3\", \"Topic3\", \"Topic3\", \"Topic3\", \"Topic3\", \"Topic3\", \"Topic3\", \"Topic3\", \"Topic3\", \"Topic3\", \"Topic3\", \"Topic3\", \"Topic3\", \"Topic3\", \"Topic3\", \"Topic3\", \"Topic3\", \"Topic3\", \"Topic3\", \"Topic3\", \"Topic3\", \"Topic3\", \"Topic3\", \"Topic3\", \"Topic3\", \"Topic3\", \"Topic3\", \"Topic3\", \"Topic3\", \"Topic3\", \"Topic3\", \"Topic3\", \"Topic3\", \"Topic3\", \"Topic3\", \"Topic3\", \"Topic3\", \"Topic3\", \"Topic3\", \"Topic3\", \"Topic3\", \"Topic3\", \"Topic3\", \"Topic3\", \"Topic3\", \"Topic3\", \"Topic3\", \"Topic3\", \"Topic3\", \"Topic3\", \"Topic3\", \"Topic3\", \"Topic3\", \"Topic3\", \"Topic3\", \"Topic3\", \"Topic3\", \"Topic3\", \"Topic3\", \"Topic3\", \"Topic3\", \"Topic3\", \"Topic3\", \"Topic4\", \"Topic4\", \"Topic4\", \"Topic4\", \"Topic4\", \"Topic4\", \"Topic4\", \"Topic4\", \"Topic4\", \"Topic4\", \"Topic4\", \"Topic4\", \"Topic4\", \"Topic4\", \"Topic4\", \"Topic4\", \"Topic4\", \"Topic4\", \"Topic4\", \"Topic4\", \"Topic4\", \"Topic4\", \"Topic4\", \"Topic4\", \"Topic4\", \"Topic4\", \"Topic4\", \"Topic4\", \"Topic4\", \"Topic4\", \"Topic4\", \"Topic4\", \"Topic4\", \"Topic4\", \"Topic4\", \"Topic4\", \"Topic4\", \"Topic4\", \"Topic4\", \"Topic4\", \"Topic4\", \"Topic4\", \"Topic4\", \"Topic4\", \"Topic4\", \"Topic4\", \"Topic4\", \"Topic4\", \"Topic4\", \"Topic4\", \"Topic4\", \"Topic4\", \"Topic4\", \"Topic4\", \"Topic4\", \"Topic4\", \"Topic4\", \"Topic4\", \"Topic4\", \"Topic4\", \"Topic4\", \"Topic4\", \"Topic4\", \"Topic4\", \"Topic4\", \"Topic4\", \"Topic4\", \"Topic4\", \"Topic4\", \"Topic4\", \"Topic4\", \"Topic4\", \"Topic4\", \"Topic4\", \"Topic4\", \"Topic4\", \"Topic4\", \"Topic4\", \"Topic4\", \"Topic4\", \"Topic4\", \"Topic4\", \"Topic4\", \"Topic4\", \"Topic4\", \"Topic4\", \"Topic4\", \"Topic4\", \"Topic4\", \"Topic4\", \"Topic4\", \"Topic4\", \"Topic4\", \"Topic4\", \"Topic4\", \"Topic4\", \"Topic4\", \"Topic4\", \"Topic5\", \"Topic5\", \"Topic5\", \"Topic5\", \"Topic5\", \"Topic5\", \"Topic5\", \"Topic5\", \"Topic5\", \"Topic5\", \"Topic5\", \"Topic5\", \"Topic5\", \"Topic5\", \"Topic5\", \"Topic5\", \"Topic5\", \"Topic5\", \"Topic5\", \"Topic5\", \"Topic5\", \"Topic5\", \"Topic5\", \"Topic5\", \"Topic5\", \"Topic5\", \"Topic5\", \"Topic5\", \"Topic5\", \"Topic5\", \"Topic5\", \"Topic5\", \"Topic5\", \"Topic5\", \"Topic5\", \"Topic5\", \"Topic5\", \"Topic5\", \"Topic5\", \"Topic5\", \"Topic5\", \"Topic5\", \"Topic5\", \"Topic5\", \"Topic5\", \"Topic5\", \"Topic5\", \"Topic5\", \"Topic5\", \"Topic5\", \"Topic5\", \"Topic5\", \"Topic5\", \"Topic5\", \"Topic5\", \"Topic5\", \"Topic5\", \"Topic5\", \"Topic5\", \"Topic5\", \"Topic5\", \"Topic5\", \"Topic5\", \"Topic5\", \"Topic5\", \"Topic5\", \"Topic5\", \"Topic5\", \"Topic5\", \"Topic5\", \"Topic5\", \"Topic5\", \"Topic5\", \"Topic5\", \"Topic5\", \"Topic5\", \"Topic5\", \"Topic5\", \"Topic5\", \"Topic5\", \"Topic5\", \"Topic5\", \"Topic5\", \"Topic5\", \"Topic5\", \"Topic5\", \"Topic5\", \"Topic5\", \"Topic5\", \"Topic5\", \"Topic5\", \"Topic5\", \"Topic5\", \"Topic5\", \"Topic5\", \"Topic5\", \"Topic5\", \"Topic5\", \"Topic5\", \"Topic5\", \"Topic5\", \"Topic5\", \"Topic5\", \"Topic6\", \"Topic6\", \"Topic6\", \"Topic6\", \"Topic6\", \"Topic6\", \"Topic6\", \"Topic6\", \"Topic6\", \"Topic6\", \"Topic6\", \"Topic6\", \"Topic6\", \"Topic6\", \"Topic6\", \"Topic6\", \"Topic6\", \"Topic6\", \"Topic6\", \"Topic6\", \"Topic6\", \"Topic6\", \"Topic6\", \"Topic6\", \"Topic6\", \"Topic6\", \"Topic6\", \"Topic6\", \"Topic6\", \"Topic6\", \"Topic6\", \"Topic6\", \"Topic6\", \"Topic6\", \"Topic6\", \"Topic6\", \"Topic6\", \"Topic6\", \"Topic6\", \"Topic6\", \"Topic6\", \"Topic6\", \"Topic6\", \"Topic6\", \"Topic6\", \"Topic6\", \"Topic6\", \"Topic6\", \"Topic6\", \"Topic6\", \"Topic6\", \"Topic6\", \"Topic6\", \"Topic6\", \"Topic6\", \"Topic6\", \"Topic6\", \"Topic6\", \"Topic6\", \"Topic6\", \"Topic6\", \"Topic6\", \"Topic6\", \"Topic6\", \"Topic6\", \"Topic6\", \"Topic6\", \"Topic6\", \"Topic6\", \"Topic6\", \"Topic6\", \"Topic6\", \"Topic6\", \"Topic6\", \"Topic6\", \"Topic6\", \"Topic6\", \"Topic6\", \"Topic6\", \"Topic6\", \"Topic6\", \"Topic6\", \"Topic6\", \"Topic6\", \"Topic6\", \"Topic6\", \"Topic6\", \"Topic6\", \"Topic6\", \"Topic6\", \"Topic6\", \"Topic6\", \"Topic6\", \"Topic6\", \"Topic6\", \"Topic6\", \"Topic6\", \"Topic6\", \"Topic6\", \"Topic6\", \"Topic6\", \"Topic6\", \"Topic6\", \"Topic6\", \"Topic6\", \"Topic6\", \"Topic6\", \"Topic6\", \"Topic6\", \"Topic6\", \"Topic6\", \"Topic6\", \"Topic6\", \"Topic6\", \"Topic7\", \"Topic7\", \"Topic7\", \"Topic7\", \"Topic7\", \"Topic7\", \"Topic7\", \"Topic7\", \"Topic7\", \"Topic7\", \"Topic7\", \"Topic7\", \"Topic7\", \"Topic7\", \"Topic7\", \"Topic7\", \"Topic7\", \"Topic7\", \"Topic7\", \"Topic7\", \"Topic7\", \"Topic7\", \"Topic7\", \"Topic7\", \"Topic7\", \"Topic7\", \"Topic7\", \"Topic7\", \"Topic7\", \"Topic7\", \"Topic7\", \"Topic7\", \"Topic7\", \"Topic7\", \"Topic7\", \"Topic7\", \"Topic7\", \"Topic7\", \"Topic7\", \"Topic7\", \"Topic7\", \"Topic7\", \"Topic7\", \"Topic7\", \"Topic7\", \"Topic7\", \"Topic7\", \"Topic7\", \"Topic7\", \"Topic7\", \"Topic7\", \"Topic7\", \"Topic7\", \"Topic7\", \"Topic7\", \"Topic7\", \"Topic7\", \"Topic7\", \"Topic7\", \"Topic7\", \"Topic7\", \"Topic7\", \"Topic7\", \"Topic7\", \"Topic7\", \"Topic7\", \"Topic7\", \"Topic7\", \"Topic7\", \"Topic7\", \"Topic7\", \"Topic7\", \"Topic7\", \"Topic7\", \"Topic7\", \"Topic7\", \"Topic7\", \"Topic7\", \"Topic7\", \"Topic7\", \"Topic7\", \"Topic7\", \"Topic7\", \"Topic7\", \"Topic7\", \"Topic7\", \"Topic7\", \"Topic7\", \"Topic7\", \"Topic7\", \"Topic7\", \"Topic7\", \"Topic7\", \"Topic7\", \"Topic7\", \"Topic7\", \"Topic7\", \"Topic7\", \"Topic7\", \"Topic7\", \"Topic7\", \"Topic7\", \"Topic7\", \"Topic7\", \"Topic8\", \"Topic8\", \"Topic8\", \"Topic8\", \"Topic8\", \"Topic8\", \"Topic8\", \"Topic8\", \"Topic8\", \"Topic8\", \"Topic8\", \"Topic8\", \"Topic8\", \"Topic8\", \"Topic8\", \"Topic8\", \"Topic8\", \"Topic8\", \"Topic8\", \"Topic8\", \"Topic8\", \"Topic8\", \"Topic8\", \"Topic8\", \"Topic8\", \"Topic8\", \"Topic8\", \"Topic8\", \"Topic8\", \"Topic8\", \"Topic8\", \"Topic8\", \"Topic8\", \"Topic8\", \"Topic8\", \"Topic8\", \"Topic8\", \"Topic8\", \"Topic8\", \"Topic8\", \"Topic8\", \"Topic8\", \"Topic8\", \"Topic8\", \"Topic8\", \"Topic8\", \"Topic8\", \"Topic8\", \"Topic8\", \"Topic8\", \"Topic8\", \"Topic8\", \"Topic8\", \"Topic8\", \"Topic8\", \"Topic8\", \"Topic8\", \"Topic8\", \"Topic8\", \"Topic8\", \"Topic8\", \"Topic8\", \"Topic8\", \"Topic8\", \"Topic8\", \"Topic8\", \"Topic8\", \"Topic8\", \"Topic8\", \"Topic8\", \"Topic8\", \"Topic8\", \"Topic8\", \"Topic8\", \"Topic8\", \"Topic8\", \"Topic8\", \"Topic8\", \"Topic8\", \"Topic8\", \"Topic8\", \"Topic8\", \"Topic8\", \"Topic8\", \"Topic8\", \"Topic8\", \"Topic8\", \"Topic8\", \"Topic8\", \"Topic8\", \"Topic8\", \"Topic8\", \"Topic8\", \"Topic8\", \"Topic8\", \"Topic8\", \"Topic8\", \"Topic8\", \"Topic8\", \"Topic8\", \"Topic8\", \"Topic8\", \"Topic8\", \"Topic8\", \"Topic8\", \"Topic8\", \"Topic8\", \"Topic8\", \"Topic9\", \"Topic9\", \"Topic9\", \"Topic9\", \"Topic9\", \"Topic9\", \"Topic9\", \"Topic9\", \"Topic9\", \"Topic9\", \"Topic9\", \"Topic9\", \"Topic9\", \"Topic9\", \"Topic9\", \"Topic9\", \"Topic9\", \"Topic9\", \"Topic9\", \"Topic9\", \"Topic9\", \"Topic9\", \"Topic9\", \"Topic9\", \"Topic9\", \"Topic9\", \"Topic9\", \"Topic9\", \"Topic9\", \"Topic9\", \"Topic9\", \"Topic9\", \"Topic9\", \"Topic9\", \"Topic9\", \"Topic9\", \"Topic9\", \"Topic9\", \"Topic9\", \"Topic9\", \"Topic9\", \"Topic9\", \"Topic9\", \"Topic9\", \"Topic9\", \"Topic9\", \"Topic9\", \"Topic9\", \"Topic9\", \"Topic9\", \"Topic9\", \"Topic9\", \"Topic9\", \"Topic9\", \"Topic9\", \"Topic9\", \"Topic9\", \"Topic9\", \"Topic9\", \"Topic9\", \"Topic9\", \"Topic9\", \"Topic9\", \"Topic9\", \"Topic9\", \"Topic9\", \"Topic9\", \"Topic9\", \"Topic9\", \"Topic9\", \"Topic9\", \"Topic9\", \"Topic9\", \"Topic9\", \"Topic9\", \"Topic9\", \"Topic9\", \"Topic9\", \"Topic9\", \"Topic9\", \"Topic9\", \"Topic9\", \"Topic9\", \"Topic9\", \"Topic9\", \"Topic9\", \"Topic9\", \"Topic9\", \"Topic9\", \"Topic9\", \"Topic9\", \"Topic9\", \"Topic9\", \"Topic9\", \"Topic9\", \"Topic9\", \"Topic9\", \"Topic9\", \"Topic9\", \"Topic9\", \"Topic9\", \"Topic10\", \"Topic10\", \"Topic10\", \"Topic10\", \"Topic10\", \"Topic10\", \"Topic10\", \"Topic10\", \"Topic10\", \"Topic10\", \"Topic10\", \"Topic10\", \"Topic10\", \"Topic10\", \"Topic10\", \"Topic10\", \"Topic10\", \"Topic10\", \"Topic10\", \"Topic10\", \"Topic10\", \"Topic10\", \"Topic10\", \"Topic10\", \"Topic10\", \"Topic10\", \"Topic10\", \"Topic10\", \"Topic10\", \"Topic10\", \"Topic10\", \"Topic10\", \"Topic10\", \"Topic10\", \"Topic10\", \"Topic10\", \"Topic10\", \"Topic10\", \"Topic10\", \"Topic10\", \"Topic10\", \"Topic10\", \"Topic10\", \"Topic10\", \"Topic10\", \"Topic10\", \"Topic10\", \"Topic10\", \"Topic10\", \"Topic10\", \"Topic10\", \"Topic10\", \"Topic10\", \"Topic10\", \"Topic10\", \"Topic10\", \"Topic10\", \"Topic10\", \"Topic10\", \"Topic10\", \"Topic10\", \"Topic10\", \"Topic10\", \"Topic10\", \"Topic10\", \"Topic10\", \"Topic10\", \"Topic10\", \"Topic10\", \"Topic10\", \"Topic10\", \"Topic10\", \"Topic10\", \"Topic10\", \"Topic10\", \"Topic10\", \"Topic10\", \"Topic10\", \"Topic10\", \"Topic10\", \"Topic10\", \"Topic10\", \"Topic10\", \"Topic10\", \"Topic10\", \"Topic10\", \"Topic10\", \"Topic10\", \"Topic10\", \"Topic10\", \"Topic10\", \"Topic10\", \"Topic10\", \"Topic10\"], \"logprob\": [30.0, 29.0, 28.0, 27.0, 26.0, 25.0, 24.0, 23.0, 22.0, 21.0, 20.0, 19.0, 18.0, 17.0, 16.0, 15.0, 14.0, 13.0, 12.0, 11.0, 10.0, 9.0, 8.0, 7.0, 6.0, 5.0, 4.0, 3.0, 2.0, 1.0, -9.4588, -9.7461, -9.7463, -9.7463, -9.7469, -9.747, -9.7498, -9.4663, -9.7477, -9.4667, -9.4668, -9.4673, -9.4704, -9.7549, -9.7547, -8.4797, -9.7563, -9.7561, -8.9313, -10.1513, -10.1513, -10.1513, -10.1513, -10.1513, -10.1514, -10.1514, -10.1514, -10.1514, -10.1514, -10.1514, -8.6922, -9.7642, -9.4869, -9.4881, -7.47, -7.4111, -9.2734, -9.1034, -7.7577, -7.7582, -7.8022, -7.762, -7.7634, -7.7636, -8.0153, -8.8347, -8.0037, -8.4112, -9.2981, -8.5227, -7.3775, -9.3039, -9.304, -8.4978, -8.7177, -8.8121, -7.7346, -4.9826, -3.6241, -8.0364, -3.826, -6.736, -7.7285, -5.9564, -2.9913, -6.9328, -5.6097, -7.2924, -6.503, -5.6056, -2.9764, -5.2506, -5.1209, -4.2552, -5.9289, -5.5652, -4.8196, -5.3008, -4.2324, -4.5952, -5.7684, -4.6503, -5.633, -5.4237, -6.1363, -5.5208, -5.8902, -5.8154, -5.4675, -5.5719, -5.3041, -5.8347, -4.9036, -5.7117, -5.3968, -5.6338, -5.5062, -5.2045, -5.5699, -5.5282, -5.663, -9.5871, -9.3174, -9.9919, -9.9919, -9.9919, -9.9919, -9.9919, -9.9919, -9.992, -9.992, -9.992, -9.992, -9.992, -9.992, -9.992, -9.992, -9.992, -9.992, -9.992, -9.992, -9.9921, -9.9921, -9.9921, -9.9921, -9.9922, -9.9926, -9.9927, -9.9928, -9.9919, -9.9936, -9.1069, -9.107, -9.6066, -9.1247, -7.0996, -9.6079, -9.1296, -9.3439, -9.6129, -9.6149, -9.141, -9.1415, -8.9794, -9.6239, -9.6239, -9.6239, -9.6263, -9.3626, -9.6284, -9.6273, -9.6318, -7.7694, -9.1746, -9.3818, -9.6356, -9.6376, -9.6353, -7.9176, -9.3915, -8.6869, -8.707, -8.5449, -6.9037, -7.2793, -8.9413, -4.825, -6.7681, -5.9994, -3.8019, -6.69, -7.1912, -5.14, -3.9717, -6.1548, -2.9802, -4.8408, -5.3449, -4.4852, -5.0988, -7.0587, -6.7989, -2.8978, -5.7368, -5.3322, -6.3287, -5.5704, -5.5352, -6.1419, -7.5775, -5.159, -4.2677, -5.5824, -5.0524, -5.6958, -5.1934, -5.4616, -5.4173, -5.3832, -4.6871, -5.5115, -5.2804, -5.5751, -4.9497, -4.8534, -5.1038, -5.3531, -5.4763, -5.5435, -9.2554, -9.5391, -9.5393, -9.5479, -9.9419, -9.9419, -9.9419, -9.942, -9.942, -9.942, -9.942, -9.9421, -9.9421, -9.9421, -9.9421, -9.9422, -9.9422, -9.9423, -9.9425, -9.9425, -9.9425, -9.9422, -9.9431, -9.9435, -9.944, -9.9444, -9.9449, -9.9463, -9.9475, -9.9447, -9.0566, -9.0759, -8.9005, -8.4303, -9.5667, -7.9933, -9.0944, -9.0944, -9.5759, -9.574, -9.5741, -9.5775, -7.5996, -9.5794, -9.5885, -9.3354, -8.7214, -8.631, -7.7983, -8.1781, -8.2456, -9.5898, -9.5944, -7.272, -7.0832, -9.6002, -8.5642, -8.3451, -6.2748, -6.6536, -8.2262, -8.5031, -6.5989, -5.3811, -5.9442, -6.7682, -5.9205, -8.5189, -7.9746, -8.777, -4.1717, -5.9545, -4.0547, -2.5993, -4.9681, -7.203, -4.0592, -5.4639, -5.4148, -3.1501, -5.1856, -5.727, -4.2044, -4.3555, -5.9994, -6.0622, -6.2301, -6.0658, -5.606, -5.8889, -5.7826, -5.1951, -5.5136, -5.3858, -5.9571, -4.8917, -5.4556, -5.7987, -5.0797, -5.3151, -5.8079, -5.4249, -5.5478, -5.6806, -5.6687, -5.7441, -5.5357, -5.792, -9.5167, -9.5168, -9.5168, -9.5168, -9.5168, -9.5168, -9.5169, -9.5169, -9.5169, -9.517, -9.5187, -8.6892, -9.5187, -8.8462, -8.8474, -8.8481, -8.8486, -9.9216, -9.9216, -9.9216, -9.9217, -9.9217, -9.9217, -9.9217, -9.9217, -9.9218, -9.9218, -9.9218, -9.9218, -9.9218, -8.2837, -8.8723, -9.0565, -9.2695, -8.8816, -9.5392, -8.6202, -9.5448, -8.755, -8.7576, -8.9052, -8.6379, -9.074, -8.9065, -8.0623, -8.2294, -7.9507, -8.3943, -8.0627, -7.9448, -7.6256, -8.3617, -8.688, -5.9863, -8.9578, -6.9061, -8.7408, -2.7701, -5.2732, -4.6626, -5.3742, -4.0087, -7.3193, -7.2748, -3.7748, -2.9329, -5.2844, -5.4433, -5.7821, -4.1719, -6.272, -5.7892, -4.6901, -5.7783, -7.3573, -4.6881, -4.71, -5.3323, -4.396, -5.2887, -5.4114, -6.4696, -5.7408, -5.6263, -5.7576, -6.4836, -5.5129, -4.7199, -5.9488, -4.8169, -4.8394, -5.2857, -5.2369, -5.474, -5.5195, -5.6372, -5.6278, -5.7457, -8.2444, -8.5626, -8.5627, -8.5627, -9.0325, -9.2553, -9.26, -9.5426, -9.5427, -9.5427, -9.5438, -8.2745, -9.0547, -8.5921, -8.8788, -9.9475, -9.9476, -9.9476, -9.9476, -9.9476, -9.9476, -9.9477, -9.9477, -9.9477, -9.9477, -9.9477, -9.9477, -9.9477, -9.9477, -9.9477, -8.88, -8.8836, -8.4909, -9.0694, -9.287, -9.2928, -9.3002, -9.0862, -8.4572, -9.3159, -9.5799, -9.5809, -9.5797, -9.582, -9.5808, -4.442, -6.9906, -8.0332, -8.3783, -8.3949, -7.2943, -7.6905, -8.3493, -8.5296, -8.2426, -7.3089, -7.4442, -8.3151, -5.9521, -6.5853, -5.8589, -7.4913, -6.8649, -2.7019, -6.3997, -5.8948, -7.7371, -5.3298, -4.0771, -4.0805, -5.3676, -6.3439, -7.0462, -5.5976, -3.4945, -5.9404, -4.785, -5.211, -5.8107, -4.4738, -5.4906, -5.6341, -5.8816, -6.0252, -4.3171, -5.1234, -5.1473, -5.0787, -4.7119, -4.7331, -5.935, -5.567, -4.9654, -5.8334, -5.6549, -5.2728, -5.718, -5.4147, -5.6982, -5.6163, -5.6815, -5.6738, -5.7373, -9.1197, -9.4031, -9.4032, -9.1281, -9.8078, -9.8078, -9.8078, -9.8079, -9.8079, -9.8079, -9.8079, -9.8079, -9.8079, -9.8079, -9.808, -9.808, -9.808, -9.808, -9.808, -9.808, -9.808, -9.808, -9.808, -9.8081, -9.8081, -9.8081, -9.8081, -9.8082, -9.8082, -9.8082, -8.0242, -9.1581, -9.4366, -9.1717, -9.441, -9.4435, -8.1633, -9.4403, -9.4447, -9.4466, -9.4468, -9.4477, -9.1908, -9.4512, -8.834, -8.5699, -8.0221, -7.9648, -9.2044, -9.4577, -9.2057, -7.2736, -9.4595, -9.4635, -7.6223, -8.8822, -8.7608, -8.8886, -7.5745, -8.2103, -7.8077, -7.9475, -6.8126, -8.5101, -6.1446, -8.1519, -5.6743, -6.6062, -6.8227, -7.9829, -2.6655, -5.8989, -6.6398, -5.0235, -7.5076, -6.9313, -7.2336, -5.0923, -5.4182, -4.2797, -6.7631, -5.9851, -6.2686, -4.4453, -6.4275, -3.6806, -5.5665, -5.9051, -4.5084, -5.6554, -4.7895, -5.1586, -5.266, -4.6065, -5.6467, -4.9951, -5.3954, -5.8318, -5.8298, -5.2348, -5.5564, -5.8784, -4.845, -5.4432, -5.7091, -5.3595, -5.6015, -5.2345, -5.6005, -5.6374, -5.5964, -5.3571, -5.5677, -5.6647, -9.0449, -9.3321, -9.3322, -9.3323, -9.3347, -8.8472, -9.7367, -9.7367, -9.7367, -9.7368, -9.7368, -9.7368, -9.7368, -9.7368, -9.7368, -9.7368, -9.7368, -9.7368, -9.7368, -9.7368, -9.7369, -9.7369, -9.7369, -9.7369, -9.7369, -9.7369, -9.7369, -9.7369, -9.7375, -9.7375, -8.8523, -9.0728, -9.3517, -7.5663, -8.1596, -9.0973, -9.1052, -9.369, -9.371, -9.3691, -9.3695, -9.3695, -7.3947, -9.3739, -9.3743, -9.3733, -9.1274, -8.3027, -8.9357, -9.136, -7.9631, -8.5299, -9.3905, -8.958, -7.313, -7.2897, -6.9198, -7.5955, -8.0292, -7.9009, -6.175, -7.9396, -8.2725, -7.2781, -7.7213, -6.0926, -7.2096, -4.9131, -5.066, -3.7796, -6.7674, -2.9458, -6.0767, -5.123, -4.1496, -4.9648, -3.3561, -5.2408, -5.045, -5.8299, -4.4101, -5.5944, -5.2991, -4.379, -5.8996, -5.7827, -5.8553, -5.9598, -5.7368, -5.9188, -4.7083, -5.1901, -6.0737, -5.7059, -5.4477, -5.2044, -5.3935, -5.1561, -5.5311, -5.4415, -5.8148, -5.5045, -5.7537, -5.8121, -9.3385, -9.3385, -9.3387, -8.8502, -8.8502, -8.8503, -9.35, -9.7431, -9.7431, -9.7431, -9.7432, -9.7432, -9.7432, -9.7432, -9.7432, -9.7432, -9.7432, -9.7432, -9.7432, -9.7432, -9.7432, -9.7433, -9.7433, -9.7433, -9.7433, -9.7433, -9.7433, -9.7433, -9.7433, -9.7433, -9.0788, -8.6912, -8.5485, -8.7034, -8.5805, -9.1017, -9.3685, -8.3472, -8.7315, -9.1072, -9.1077, -9.3753, -9.3761, -9.3755, -8.2671, -9.1158, -7.9635, -9.3754, -9.3754, -9.3823, -9.1259, -9.3852, -8.9259, -8.1434, -8.5117, -6.6369, -9.1315, -8.4261, -5.6717, -9.1322, -7.953, -8.2922, -8.5526, -8.6637, -4.5936, -3.2145, -7.1356, -8.6979, -8.5069, -6.7677, -7.5633, -8.6909, -3.9452, -3.1755, -5.5527, -3.0151, -4.9513, -7.8669, -5.4181, -4.4882, -6.5008, -6.4914, -5.6238, -5.6031, -6.8033, -5.5988, -4.9433, -5.5262, -5.1606, -6.9999, -4.5865, -5.6398, -5.5767, -5.2714, -6.1815, -6.4841, -6.0097, -5.2756, -4.7599, -5.6009, -5.4938, -4.9411, -4.9509, -5.0834, -5.8966, -5.5683, -5.5759, -5.5773, -8.7401, -8.5826, -9.6523, -9.6524, -9.6524, -9.6524, -9.6525, -9.6525, -9.6525, -9.6525, -9.6526, -9.6527, -9.6531, -9.6537, -9.654, -9.6559, -9.6573, -9.6552, -9.6557, -9.6572, -9.6604, -8.9904, -8.7822, -8.7823, -8.7822, -8.7822, -8.9981, -9.6726, -9.6746, -9.2873, -8.789, -9.2848, -9.2886, -9.0272, -8.6533, -7.9602, -9.2969, -9.2979, -9.0483, -8.701, -8.5748, -9.3071, -9.3082, -9.0673, -9.3123, -8.5927, -9.0689, -8.6058, -9.0829, -8.2408, -6.95, -5.943, -7.126, -5.2559, -6.4901, -6.606, -7.1299, -8.1414, -7.7494, -6.863, -8.066, -7.3793, -5.2768, -5.591, -3.812, -4.0167, -7.0393, -3.8949, -5.9776, -5.448, -2.9177, -5.3968, -4.0836, -5.6469, -5.6626, -6.6912, -4.7792, -5.1344, -6.9498, -4.1963, -4.7459, -6.4507, -5.3629, -3.5187, -4.0713, -4.7637, -6.048, -5.2276, -5.2921, -5.0884, -4.71, -5.7466, -5.3377, -5.6871, -5.1638, -5.4691, -5.4693, -5.4373, -5.3567, -5.4446, -5.5858, -8.95, -9.354, -9.354, -9.3541, -9.3541, -9.3541, -9.3541, -9.3542, -9.3542, -9.3544, -9.3547, -9.3565, -9.357, -9.3575, -9.3647, -8.6975, -9.3669, -9.3701, -8.9865, -8.9875, -8.987, -8.9899, -9.3817, -8.9898, -8.9947, -9.3837, -8.996, -8.7283, -10.0445, -10.0445, -9.0112, -8.343, -7.8595, -2.7682, -4.8202, -8.2413, -8.2493, -8.3958, -7.1101, -7.1906, -8.0452, -8.049, -4.5398, -7.6369, -8.7693, -6.7852, -6.9201, -8.1908, -7.9309, -7.3906, -4.6618, -7.6396, -4.5787, -5.5364, -7.2914, -6.1703, -6.4755, -5.2679, -7.3478, -5.4255, -7.0361, -6.909, -3.2795, -4.9792, -5.5245, -5.2806, -5.7753, -6.6872, -5.1485, -5.0057, -5.414, -6.331, -6.2462, -4.0482, -5.1706, -3.1856, -5.8971, -6.2098, -5.3267, -4.5899, -4.8489, -5.053, -5.3162, -4.0494, -5.1904, -4.726, -5.5609, -4.8913, -5.2323, -5.5099, -5.2819, -5.3405, -5.4787, -5.4883], \"loglift\": [30.0, 29.0, 28.0, 27.0, 26.0, 25.0, 24.0, 23.0, 22.0, 21.0, 20.0, 19.0, 18.0, 17.0, 16.0, 15.0, 14.0, 13.0, 12.0, 11.0, 10.0, 9.0, 8.0, 7.0, 6.0, 5.0, 4.0, 3.0, 2.0, 1.0, 2.0131, 2.0057, 2.0057, 2.0057, 2.0057, 2.0057, 2.0056, 2.0053, 2.005, 2.0049, 2.0047, 2.0042, 2.0011, 1.9981, 1.9975, 1.996, 1.9958, 1.9948, 1.9914, 1.9905, 1.9905, 1.9905, 1.9905, 1.9905, 1.9905, 1.9905, 1.9905, 1.9905, 1.9905, 1.9905, 1.9808, 1.9896, 1.9848, 1.9848, 1.9419, 1.9406, 1.9772, 1.97, 1.9414, 1.9411, 1.9392, 1.937, 1.9357, 1.9355, 1.9176, 1.9559, 1.8751, 1.8957, 1.9523, 1.8557, 1.6919, 1.9471, 1.947, 1.8168, 1.8512, 1.8653, 1.656, 1.1032, 0.8042, 1.6952, 0.5733, 1.3149, 1.5567, 1.0722, 0.222, 1.329, 0.9059, 1.4034, 1.1328, 0.8148, -0.1186, 0.5766, 0.503, 0.1009, 0.8166, 0.5738, 0.1365, 0.3841, -0.1733, -0.0486, 0.5698, -0.1183, 0.4485, 0.2866, 0.7919, 0.3179, 0.5832, 0.526, 0.2443, 0.2874, 0.0415, 0.4988, -0.3806, 0.3474, -0.037, 0.2517, 0.0543, -0.4375, 0.022, -0.4321, -0.2878, 2.109, 2.0979, 2.0948, 2.0948, 2.0948, 2.0948, 2.0948, 2.0948, 2.0948, 2.0948, 2.0948, 2.0948, 2.0948, 2.0948, 2.0948, 2.0948, 2.0948, 2.0948, 2.0948, 2.0948, 2.0948, 2.0948, 2.0948, 2.0948, 2.0947, 2.0947, 2.0947, 2.0947, 2.0947, 2.0947, 2.0932, 2.0902, 2.089, 2.0754, 2.0106, 2.0861, 2.0713, 2.0734, 2.0825, 2.0814, 2.0582, 2.0578, 2.0396, 2.0752, 2.0751, 2.0751, 2.0746, 2.0562, 2.0719, 2.0706, 2.0683, 1.9156, 2.0277, 2.0397, 2.0629, 2.0631, 2.0617, 1.8711, 2.0314, 1.9296, 1.9213, 1.884, 1.5791, 1.6066, 1.9377, 1.0604, 1.4773, 1.281, 0.7447, 1.3663, 1.4816, 0.9388, 0.5603, 1.1437, 0.2331, 0.7511, 0.873, 0.6109, 0.7769, 1.3697, 1.277, -0.04, 0.9, 0.7269, 1.0844, 0.7966, 0.78, 0.9844, 1.517, 0.5259, 0.1317, 0.6234, 0.3228, 0.6563, 0.3533, 0.4549, 0.4214, 0.3588, -0.3309, 0.374, 0.0794, 0.3126, -0.4266, -0.7943, -0.6756, -0.5862, -0.1308, -0.3241, 2.1235, 2.12, 2.12, 2.1117, 2.1081, 2.1081, 2.1081, 2.1081, 2.1081, 2.1081, 2.1081, 2.1081, 2.1081, 2.1081, 2.1081, 2.1081, 2.1081, 2.1081, 2.1081, 2.1081, 2.1081, 2.1081, 2.1081, 2.1081, 2.108, 2.108, 2.108, 2.1079, 2.1079, 2.1063, 2.1058, 2.0884, 2.0822, 2.0527, 2.0952, 2.0254, 2.0682, 2.0682, 2.0882, 2.088, 2.0873, 2.0849, 1.9446, 2.0848, 2.0764, 2.0484, 1.9867, 1.9633, 1.8688, 1.9103, 1.9146, 2.0681, 2.0675, 1.774, 1.741, 2.0652, 1.9223, 1.8853, 1.5746, 1.6195, 1.8657, 1.9027, 1.5528, 1.3117, 1.4113, 1.5618, 1.3612, 1.8837, 1.7423, 1.9405, 0.7843, 1.23, 0.7122, 0.2585, 0.859, 1.5064, 0.4639, 0.9302, 0.9062, 0.0632, 0.6902, 0.8725, 0.1949, 0.1766, 0.846, 0.8178, 0.9027, 0.7921, 0.5043, 0.6681, 0.572, 0.1504, 0.3059, 0.1608, 0.6409, -0.5356, 0.0704, 0.441, -0.5331, -0.219, 0.4251, -0.2055, -0.1726, 0.0043, -0.1082, 0.153, -1.1075, -0.1682, 2.2084, 2.2084, 2.2084, 2.2084, 2.2084, 2.2084, 2.2084, 2.2084, 2.2084, 2.2084, 2.2084, 2.2072, 2.2069, 2.2022, 2.201, 2.2004, 2.1998, 2.1937, 2.1937, 2.1937, 2.1937, 2.1937, 2.1937, 2.1937, 2.1937, 2.1937, 2.1937, 2.1937, 2.1937, 2.1937, 2.1668, 2.1766, 2.174, 2.1777, 2.1657, 2.1847, 2.1454, 2.1787, 2.141, 2.14, 2.1457, 2.1302, 2.1497, 2.1387, 2.0744, 2.0584, 2.0139, 2.0626, 1.9893, 1.9602, 1.8877, 2.0012, 2.0597, 1.5396, 2.094, 1.6253, 2.0303, 0.4432, 1.0959, 0.8634, 1.0415, 0.5378, 1.6064, 1.5785, 0.2843, -0.0751, 0.8276, 0.8827, 1.0112, 0.3601, 1.1812, 0.979, 0.5293, 0.9683, 1.5973, 0.4079, 0.2461, 0.5218, -0.0398, 0.4231, 0.4741, 1.0866, 0.605, 0.5064, 0.5759, 1.0377, 0.3464, -0.3205, 0.6176, -0.2938, -0.4112, -0.2659, -0.47, -0.1142, -0.1739, -0.0133, -0.0811, -0.3705, 2.259, 2.2557, 2.2557, 2.2557, 2.2485, 2.2438, 2.239, 2.2359, 2.2359, 2.2359, 2.2358, 2.2263, 2.2239, 2.2234, 2.2219, 2.2203, 2.2203, 2.2203, 2.2203, 2.2203, 2.2203, 2.2203, 2.2203, 2.2203, 2.2203, 2.2203, 2.2203, 2.2203, 2.2203, 2.2203, 2.2197, 2.2193, 2.2092, 2.2091, 2.212, 2.2045, 2.198, 2.1883, 2.1371, 2.1824, 2.1981, 2.1981, 2.1979, 2.198, 2.1978, 1.8434, 2.0086, 2.0862, 2.1056, 2.0974, 1.9852, 2.0214, 2.0465, 2.0592, 2.0078, 1.8374, 1.8558, 2.0142, 1.4329, 1.5302, 1.3131, 1.7533, 1.5462, 0.1559, 1.3539, 1.1528, 1.806, 0.845, 0.3511, 0.2756, 0.7715, 1.1671, 1.4751, 0.7693, -0.2812, 0.9066, 0.311, 0.5009, 0.7937, 0.0728, 0.6162, 0.6489, 0.7837, 0.8666, -0.258, 0.2221, 0.2125, 0.1406, -0.1889, -0.201, 0.7266, 0.3184, -0.566, 0.5048, 0.2306, -0.5058, 0.2643, -0.4586, 0.2049, -0.2411, 0.0034, -0.1132, -0.1907, 2.3518, 2.3481, 2.3481, 2.3431, 2.333, 2.333, 2.333, 2.333, 2.333, 2.333, 2.333, 2.333, 2.333, 2.333, 2.333, 2.333, 2.333, 2.333, 2.333, 2.333, 2.333, 2.333, 2.333, 2.333, 2.333, 2.333, 2.333, 2.333, 2.333, 2.333, 2.2833, 2.3164, 2.3142, 2.2976, 2.3123, 2.3112, 2.2203, 2.3093, 2.3077, 2.3068, 2.306, 2.3053, 2.2804, 2.3018, 2.2372, 2.2089, 2.145, 2.1382, 2.2696, 2.2957, 2.2665, 2.0477, 2.2923, 2.2888, 2.0148, 2.1812, 2.1586, 2.1769, 1.9055, 2.0247, 1.9237, 1.9319, 1.643, 2.0559, 1.3873, 1.9508, 1.2123, 1.4857, 1.5352, 1.8953, 0.1923, 1.2269, 1.4637, 0.8359, 1.6602, 1.431, 1.5371, 0.6498, 0.7544, 0.2433, 1.2982, 0.9431, 1.0395, 0.0868, 1.0905, -0.4673, 0.5662, 0.7425, -0.0801, 0.5776, -0.0225, 0.2012, 0.2599, -0.2503, 0.4635, -0.0391, 0.2285, 0.5635, 0.5458, -0.0154, 0.2708, 0.5397, -0.7859, -0.068, 0.2732, -0.2635, 0.0835, -0.6879, -0.0086, 0.0744, -0.0358, -0.9578, -0.2221, -0.6449, 2.3968, 2.3894, 2.3894, 2.3894, 2.3869, 2.3765, 2.3748, 2.3748, 2.3748, 2.3748, 2.3748, 2.3748, 2.3748, 2.3748, 2.3748, 2.3748, 2.3748, 2.3748, 2.3748, 2.3748, 2.3748, 2.3748, 2.3748, 2.3748, 2.3748, 2.3748, 2.3748, 2.3748, 2.3748, 2.3748, 2.3708, 2.3702, 2.3709, 2.2874, 2.2865, 2.3396, 2.3382, 2.3547, 2.3546, 2.3537, 2.3537, 2.3535, 2.2005, 2.3494, 2.3472, 2.3463, 2.3166, 2.2292, 2.2914, 2.3093, 2.176, 2.2381, 2.3284, 2.2681, 1.9895, 1.9761, 1.8884, 1.964, 2.0483, 2.013, 1.4695, 1.9563, 2.0177, 1.7004, 1.8411, 1.2918, 1.6484, 0.7973, 0.8371, 0.2795, 1.4278, -0.0879, 1.1575, 0.6964, 0.2787, 0.5957, -0.1428, 0.6757, 0.5469, 0.9268, 0.1365, 0.7079, 0.5396, 0.0204, 0.8625, 0.7509, 0.7537, 0.8182, 0.6585, 0.7283, -0.1853, 0.1697, 0.7914, 0.4009, 0.099, -0.2484, -0.048, -0.3892, 0.0927, -0.0663, 0.2954, -1.1484, -0.5343, -0.0701, 2.4059, 2.4059, 2.4058, 2.3963, 2.3963, 2.3963, 2.3942, 2.3908, 2.3908, 2.3908, 2.3908, 2.3908, 2.3908, 2.3908, 2.3908, 2.3908, 2.3908, 2.3908, 2.3908, 2.3908, 2.3908, 2.3908, 2.3908, 2.3908, 2.3908, 2.3908, 2.3908, 2.3908, 2.3908, 2.3908, 2.3869, 2.376, 2.3645, 2.359, 2.3354, 2.3609, 2.3743, 2.3104, 2.3341, 2.3565, 2.3549, 2.3694, 2.3693, 2.3683, 2.2974, 2.3504, 2.2622, 2.3674, 2.3673, 2.363, 2.3387, 2.3605, 2.3168, 2.2362, 2.2627, 1.9973, 2.3348, 2.2342, 1.7719, 2.3312, 2.1321, 2.1815, 2.2303, 2.2396, 1.3035, 0.8446, 1.7915, 2.2193, 2.1608, 1.61, 1.8308, 2.2123, 0.4109, 0.0378, 0.9675, -0.1572, 0.6092, 1.8856, 0.7546, 0.2788, 1.2438, 1.2346, 0.7966, 0.7724, 1.3849, 0.6859, 0.2761, 0.5885, 0.3653, 1.4203, -0.0635, 0.5781, 0.5166, 0.2753, 0.9044, 1.0819, 0.7232, 0.0996, -0.3605, 0.3157, 0.2166, -0.409, -0.5227, -0.5368, 0.4244, -0.2085, -0.4798, -0.6213, 2.4239, 2.4019, 2.4011, 2.4011, 2.4011, 2.4011, 2.4011, 2.4011, 2.4011, 2.4011, 2.4011, 2.4011, 2.4011, 2.4011, 2.4011, 2.401, 2.4009, 2.3989, 2.3984, 2.3982, 2.3967, 2.3955, 2.3853, 2.3853, 2.3853, 2.3853, 2.3846, 2.3837, 2.3819, 2.38, 2.3799, 2.3793, 2.378, 2.3618, 2.3364, 2.2665, 2.37, 2.3675, 2.3409, 2.2959, 2.2729, 2.3584, 2.3573, 2.3233, 2.3563, 2.2556, 2.3211, 2.2355, 2.31, 2.1715, 1.928, 1.7408, 1.9493, 1.5766, 1.7798, 1.7731, 1.8369, 2.0862, 1.9818, 1.7057, 2.0301, 1.8238, 1.1956, 1.2896, 0.7111, 0.7502, 1.6875, 0.4612, 1.2621, 1.0301, -0.0598, 0.9385, 0.3158, 1.0148, 1.0093, 1.4692, 0.596, 0.7533, 1.5691, 0.2319, 0.4735, 1.3152, 0.7294, -0.3054, -0.0122, 0.3324, 1.0848, 0.4828, 0.4499, 0.2571, -0.178, 0.732, 0.2861, 0.6339, -0.144, 0.2159, 0.0913, -0.0775, -0.8102, -0.4885, -0.0391, 2.647, 2.6342, 2.6342, 2.6342, 2.6342, 2.6342, 2.6342, 2.6342, 2.6342, 2.6342, 2.6342, 2.6342, 2.6341, 2.6341, 2.6246, 2.6238, 2.6233, 2.6202, 2.6155, 2.6147, 2.6145, 2.6123, 2.611, 2.6095, 2.6094, 2.6094, 2.6076, 2.5991, 2.5971, 2.5971, 2.5935, 2.5855, 2.5666, 2.2516, 2.309, 2.5382, 2.5303, 2.5424, 2.4158, 2.4229, 2.4993, 2.4934, 2.0757, 2.4123, 2.5608, 2.2859, 2.2904, 2.4674, 2.4207, 2.3161, 1.8163, 2.3469, 1.7522, 1.944, 2.2597, 2.0132, 2.0698, 1.6829, 2.2046, 1.6639, 2.1034, 2.0329, 0.7796, 1.3561, 1.4237, 1.319, 1.5144, 1.8979, 1.2036, 1.0866, 1.2336, 1.6677, 1.6044, 0.3079, 0.9441, -0.3278, 1.3861, 1.569, 0.9563, 0.3661, 0.4967, 0.6574, 0.6661, -0.8361, 0.4015, -0.3266, 0.7245, -0.3592, 0.1275, 0.6292, -0.7588, -0.9123, -0.1035, -0.9418]}, \"token.table\": {\"Topic\": [1, 2, 3, 4, 5, 6, 7, 8, 9, 10, 1, 2, 3, 4, 5, 6, 7, 8, 9, 10, 1, 2, 3, 4, 5, 6, 7, 8, 9, 10, 2, 5, 6, 1, 1, 5, 1, 1, 4, 8, 8, 1, 5, 8, 8, 9, 8, 1, 5, 6, 4, 1, 5, 1, 1, 5, 6, 1, 1, 5, 2, 7, 6, 8, 2, 8, 10, 1, 2, 3, 4, 5, 6, 7, 8, 9, 10, 2, 9, 2, 1, 2, 3, 4, 5, 6, 7, 8, 9, 1, 2, 3, 4, 5, 6, 7, 8, 9, 10, 3, 2, 3, 8, 5, 6, 7, 8, 1, 2, 1, 2, 3, 4, 5, 6, 7, 8, 9, 10, 1, 2, 3, 4, 6, 7, 8, 10, 2, 3, 4, 6, 9, 10, 1, 4, 3, 1, 6, 7, 1, 2, 4, 5, 10, 5, 5, 6, 8, 10, 4, 9, 6, 5, 3, 5, 6, 5, 1, 2, 3, 4, 5, 6, 7, 8, 9, 4, 1, 2, 3, 4, 5, 6, 7, 8, 9, 10, 6, 1, 2, 3, 4, 5, 6, 7, 8, 9, 10, 1, 10, 1, 1, 3, 4, 6, 6, 5, 4, 9, 1, 2, 3, 4, 5, 6, 7, 8, 9, 10, 6, 8, 6, 4, 5, 7, 3, 1, 2, 3, 4, 5, 6, 7, 8, 9, 10, 6, 5, 2, 4, 5, 5, 6, 8, 1, 5, 2, 8, 8, 4, 1, 2, 3, 4, 5, 6, 7, 8, 9, 10, 2, 4, 2, 3, 4, 7, 3, 1, 2, 3, 5, 6, 8, 9, 1, 2, 3, 4, 5, 6, 7, 8, 9, 10, 2, 1, 2, 4, 5, 6, 7, 8, 9, 10, 2, 10, 6, 7, 1, 2, 4, 5, 9, 4, 8, 8, 4, 1, 2, 3, 4, 5, 6, 7, 8, 9, 10, 3, 6, 10, 6, 7, 3, 2, 1, 2, 3, 4, 5, 6, 7, 8, 9, 10, 9, 1, 2, 3, 4, 5, 6, 7, 8, 9, 10, 10, 4, 5, 8, 9, 10, 5, 1, 2, 3, 4, 5, 6, 7, 8, 9, 10, 5, 8, 2, 1, 8, 1, 3, 6, 2, 4, 8, 1, 3, 4, 8, 10, 1, 2, 3, 4, 5, 6, 7, 8, 9, 7, 3, 4, 10, 10, 1, 2, 3, 4, 5, 6, 7, 8, 9, 10, 9, 4, 3, 10, 1, 3, 5, 9, 7, 9, 4, 10, 5, 2, 9, 1, 2, 3, 4, 5, 6, 7, 8, 9, 10, 1, 2, 3, 4, 5, 6, 7, 8, 9, 10, 4, 1, 2, 3, 4, 5, 6, 7, 8, 9, 10, 1, 2, 3, 4, 5, 6, 7, 8, 9, 10, 1, 3, 4, 5, 7, 8, 9, 1, 2, 3, 4, 5, 6, 7, 8, 9, 10, 4, 1, 2, 3, 4, 5, 6, 7, 8, 9, 10, 7, 1, 2, 3, 4, 5, 6, 7, 8, 9, 10, 2, 7, 8, 9, 5, 9, 7, 3, 4, 8, 1, 2, 4, 5, 8, 9, 1, 2, 3, 4, 5, 6, 7, 8, 9, 3, 7, 1, 4, 6, 7, 9, 7, 4, 8, 2, 6, 4, 6, 8, 1, 2, 3, 4, 5, 6, 7, 8, 9, 10, 3, 1, 2, 3, 4, 5, 6, 7, 8, 9, 10, 1, 2, 3, 4, 5, 6, 7, 8, 9, 10, 7, 3, 7, 3, 4, 5, 5, 7, 1, 2, 3, 4, 6, 8, 5, 6, 7, 8, 3, 7, 2, 6, 9, 1, 2, 3, 4, 5, 6, 7, 8, 9, 10, 3, 7, 1, 3, 4, 5, 10, 3, 4, 10, 1, 2, 3, 4, 5, 6, 7, 8, 9, 10, 1, 2, 3, 4, 5, 6, 7, 8, 9, 10, 1, 2, 3, 4, 5, 6, 7, 8, 9, 10, 5, 8, 9, 1, 2, 3, 4, 5, 6, 7, 8, 9, 10, 5, 4, 6, 9, 1, 2, 3, 4, 5, 6, 7, 8, 9, 10, 3, 1, 5, 7, 1, 2, 3, 4, 5, 6, 7, 8, 9, 10, 2, 4, 1, 2, 3, 4, 5, 6, 7, 8, 9, 10, 1, 2, 3, 4, 5, 6, 7, 8, 9, 10, 4, 1, 2, 3, 4, 5, 6, 7, 8, 9, 10, 4, 2, 2, 9, 1, 2, 3, 4, 5, 6, 7, 8, 9, 10, 9, 7, 3, 7, 7, 4, 2, 1, 10, 5, 3, 8, 2, 5, 9, 1, 1, 6, 1, 1, 7, 9, 10, 2, 4, 9, 2, 1, 2, 3, 4, 5, 6, 7, 8, 9, 10, 6, 6, 5, 2, 8, 1, 1, 2, 4, 5, 6, 7, 8, 1, 1, 5, 6, 2, 1, 2, 3, 4, 5, 6, 7, 8, 9, 10, 5, 9, 9, 9, 6, 1, 2, 3, 4, 5, 6, 7, 8, 9, 10, 5, 9, 1, 2, 3, 4, 5, 6, 7, 8, 9, 10, 9, 2, 7, 3, 1, 2, 3, 4, 5, 6, 7, 8, 9, 10, 7, 10, 1, 1, 2, 3, 4, 7, 1, 2, 3, 5, 6, 7, 8, 9, 10, 8, 1, 2, 3, 4, 5, 6, 7, 8, 9, 10, 3, 8, 1, 2, 3, 4, 5, 6, 7, 8, 9, 10, 1, 2, 3, 4, 5, 6, 7, 8, 9, 10, 1, 2, 3, 4, 5, 6, 7, 8, 9, 10, 4, 3, 6, 4, 1, 3, 5, 1, 2, 3, 4, 5, 6, 7, 8, 9, 10, 4, 3, 8, 7, 2, 1, 2, 3, 4, 5, 6, 7, 8, 9, 10, 6, 6, 9, 5, 1, 3, 4, 5, 6, 7, 8, 9, 2, 3, 9, 9, 1, 3, 4, 5, 6, 7, 9, 1, 2, 3, 4, 5, 6, 7, 8, 9, 10, 5, 1, 2, 3, 4, 5, 6, 7, 8, 9, 10, 1, 2, 3, 4, 5, 6, 7, 8, 9, 10, 3, 5, 10, 3, 1, 3, 4, 5, 6, 9, 8, 5, 7, 4, 8, 10, 8, 1, 2, 4, 5, 6, 7, 8, 9, 1, 2, 3, 4, 5, 6, 7, 8, 9, 10, 8, 2, 6, 2, 4, 5, 6, 8, 9, 3, 10, 1, 1, 2, 3, 4, 5, 6, 7, 8, 9, 10, 1, 7, 5, 6, 2, 1, 3, 6, 2, 1, 3, 4, 5, 6, 7, 10, 1, 2, 3, 4, 5, 6, 7, 8, 9, 10, 2, 4, 9, 1, 2, 3, 4, 5, 6, 7, 8, 9, 1, 2, 3, 4, 5, 6, 7, 8, 9, 10, 1, 2, 5, 1, 2, 3, 4, 5, 6, 7, 8, 9, 10, 9, 1, 2, 3, 4, 5, 6, 7, 8, 9, 10, 2, 1, 2, 3, 4, 5, 6, 7, 8, 9, 10, 1, 2, 3, 4, 5, 6, 7, 8, 9, 10, 6, 10, 1, 2, 3, 4, 5, 6, 7, 8, 9, 10, 1, 4, 7, 8, 10, 7, 8, 1, 2, 3, 4, 5, 6, 7, 8, 9, 10, 8, 1, 2, 3, 4, 5, 6, 7, 8, 9, 10, 1, 2, 3, 4, 5, 6, 7, 8, 9, 10, 6, 1, 2, 3, 4, 5, 6, 7, 8, 9, 10, 9, 1, 2, 3, 4, 5, 6, 7, 8, 9, 10, 10, 8, 1, 2, 3, 4, 5, 6, 7, 8, 9, 10, 1, 2, 3, 4, 5, 6, 7, 8, 9, 10, 1, 2, 3, 4, 5, 6, 7, 8, 9, 10, 1, 1, 2, 3, 4, 5, 6, 7, 8, 9, 10, 6, 9, 10, 6, 1, 2, 3, 5, 6, 8, 2, 1, 2, 3, 4, 5, 6, 7, 8, 9, 10, 2, 1, 2, 3, 4, 5, 6, 7, 8, 9, 10, 10, 1, 2, 3, 4, 5, 6, 7, 8, 9, 10, 1, 2, 3, 4, 5, 6, 7, 8, 9, 10, 1, 2, 3, 4, 5, 6, 7, 8, 9, 10, 1, 2, 3, 6, 7, 8, 9, 10, 5, 6, 7, 10, 1, 5, 7, 1, 2, 3, 4, 5, 6, 7, 8, 9, 10, 6, 9, 1, 2, 4, 6, 1, 6, 1, 2, 3, 4, 5, 7, 8, 9, 10, 1, 4, 8, 3, 4, 9, 9, 2, 3, 5, 7, 2, 5, 2, 3, 3, 1, 2, 3, 4, 5, 6, 7, 8, 9, 10, 4, 6, 8, 9, 10, 6, 7, 10, 7, 4, 1, 1, 2, 3, 4, 5, 6, 7, 8, 9, 10, 5, 6, 3, 1, 2, 5, 7, 8, 9, 10, 1, 2, 3, 4, 5, 6, 7, 8, 9, 10, 1, 2, 3, 4, 5, 6, 7, 8, 9, 10, 1, 2, 3, 4, 5, 6, 7, 8, 9, 10, 1, 3, 4, 8, 10, 10, 10, 10, 6, 5, 4, 5, 1, 2, 3, 4, 5, 6, 7, 8, 9, 10, 1, 2, 3, 4, 5, 6, 7, 8, 9, 10, 10, 4, 5, 9, 10, 2, 1, 2, 3, 4, 7, 8, 1, 2, 3, 4, 5, 6, 7, 8, 9, 4, 6, 1, 2, 3, 4, 5, 6, 7, 8, 9, 10, 9, 1, 10, 2, 5, 8, 10, 9, 4, 5, 7, 8, 1, 2, 3, 4, 5, 6, 7, 8, 9, 10, 3, 5, 1, 3, 4, 5, 7, 8, 9, 10, 8, 5, 3, 8, 8, 1, 2, 3, 4, 5, 6, 7, 8, 9, 10, 6, 9, 1, 2, 3, 4, 5, 6, 7, 8, 9, 10, 1, 2, 3, 4, 5, 6, 7, 8, 9, 10, 4, 1, 5, 1, 2, 3, 4, 5, 6, 7, 8, 9, 10, 1, 2, 3, 4, 5, 6, 7, 8, 9, 10, 1, 2, 3, 4, 5, 6, 7, 8, 9, 10, 9, 1, 8, 1, 2, 3, 4, 5, 6, 7, 8, 9, 10, 7, 7, 1, 2, 3, 4, 6, 7, 8, 9, 10, 1, 2, 3, 4, 5, 6, 7, 8, 9, 10, 7, 5, 7, 1, 2, 3, 4, 5, 6, 7, 8, 9, 10, 5, 2, 1, 2, 3, 4, 5, 6, 7, 8, 9, 10, 7, 8, 1, 2, 3, 4, 5, 6, 7, 8, 9, 10, 1, 1, 2, 3, 4, 5, 6, 7, 8, 9, 10, 9, 8, 2, 1, 2, 3, 4, 5, 6, 7, 8, 9, 10, 2, 7, 1, 2, 3, 4, 5, 6, 7, 8, 9, 10, 1, 2, 3, 4, 5, 6, 7, 8, 9, 10, 5, 9, 1, 2, 3, 4, 5, 6, 7, 8, 9, 10, 5, 1, 10, 9, 2, 8, 10, 9, 1, 2, 3, 4, 5, 6, 7, 8, 9, 10, 9, 3, 9, 1, 2, 3, 4, 5, 7, 8, 9, 10, 4, 7, 1, 2, 3, 4, 5, 6, 7, 8, 9, 10, 5, 6, 8, 3, 7, 1, 2, 10, 1, 2, 3, 4, 5, 6, 7, 8, 9, 10, 7, 1, 2, 3, 4, 5, 6, 7, 8, 9, 10, 1, 2, 3, 4, 5, 6, 7, 8, 9, 10, 1, 4, 2, 1, 2, 4, 5, 6, 8, 10, 7, 4, 6, 1, 2, 3, 5, 6, 7, 8, 10, 2, 1, 2, 3, 4, 5, 6, 7, 8, 9, 10, 1, 2, 3, 4, 5, 6, 7, 8, 9, 10, 1, 2, 3, 4, 5, 6, 7, 8, 9, 10, 8, 8, 8, 1, 6, 2, 5, 5, 4, 5, 2, 1, 2, 3, 4, 5, 6, 7, 8, 9, 10, 1, 7, 1, 2, 3, 4, 5, 6, 7, 8, 9, 10, 1, 2, 3, 4, 5, 6, 7, 8, 9, 1, 2, 3, 4, 5, 6, 7, 8, 9, 10, 1, 2, 3, 4, 5, 6, 7, 8, 9, 2, 4, 5, 7, 9, 1, 2, 3, 5, 6, 7, 8, 10, 6, 8, 8, 1, 2, 3, 4, 5, 6, 7, 8, 9, 10, 4, 5, 1, 2, 3, 5, 6, 7, 8, 9, 5, 10, 8, 3, 5, 8, 2, 1, 2, 4, 5, 6, 7, 8, 9, 10, 7, 1, 2, 3, 4, 5, 7, 8, 1, 2, 3, 4, 5, 6, 7, 8, 9, 10, 4, 9, 7, 1, 2, 3, 4, 5, 6, 7, 8, 9, 10, 8, 6, 3, 7, 1, 2, 3, 4, 5, 6, 7, 8, 9, 10, 1, 2, 3, 4, 5, 6, 7, 8, 9, 10, 1, 1, 6, 1, 2, 3, 4, 5, 6, 7, 8, 9, 10, 1, 2, 3, 4, 5, 6, 7, 8, 9, 10, 10, 1, 2, 3, 5, 6, 7, 8, 9, 7, 5, 7, 10, 5, 1, 3, 4, 5, 6, 7, 8, 9, 10, 1, 2, 3, 4, 5, 6, 7, 8, 9, 10, 1, 2, 3, 4, 5, 6, 7, 8, 9, 1, 4, 6, 1, 2, 3, 4, 5, 6, 7, 8, 9, 10, 1, 2, 3, 4, 5, 6, 7, 8, 9, 3, 6, 8, 9, 4, 1, 3, 4, 6, 7, 9, 10, 10, 1, 2, 3, 4, 5, 6, 7, 8, 9, 10, 9, 7, 1, 2, 3, 4, 6, 7, 8, 9, 10, 2, 4, 6, 1, 2, 3, 6, 9, 10, 1, 2, 3, 4, 5, 6, 7, 8, 9, 10, 8, 4, 2, 2, 1, 2, 3, 4, 5, 6, 7, 8, 9, 10, 10, 9, 1, 2, 3, 4, 5, 6, 7, 8, 9, 10, 1, 3, 7, 8, 9, 1, 2, 3, 4, 5, 6, 7, 8, 9, 10, 3, 4, 10, 2, 7, 7, 1, 2, 3, 4, 5, 6, 7, 8, 9, 10, 1, 2, 3, 4, 5, 6, 7, 8, 9, 10, 2, 3, 4, 6, 7, 8, 1, 2, 3, 4, 5, 6, 7, 8, 9, 10, 1, 2, 3, 4, 5, 6, 7, 8, 9, 10, 1, 2, 3, 4, 5, 6, 7, 8, 9, 10, 1, 2, 3, 4, 5, 6, 7, 8, 9, 10, 6, 9, 1, 2, 3, 4, 5, 6, 7, 8, 9, 10, 1, 2, 3, 4, 5, 6, 7, 8, 9, 10, 8, 3, 4, 5, 7, 9, 10, 8, 2, 6, 1, 2, 4, 5, 6, 7, 8, 9, 1, 2, 3, 4, 5, 6, 7, 8, 9, 10, 1, 2, 3, 4, 5, 6, 7, 8, 9, 10, 6, 1, 4, 8, 6, 9, 1, 6, 7, 3, 1, 2, 4, 5, 6, 7, 8, 9, 10, 4, 5, 1, 2, 3, 4, 5, 6, 7, 8, 9, 10, 6, 2, 6, 1, 2, 4, 5, 6, 7, 9, 5, 2, 8, 9, 1, 2, 4, 5, 6, 7, 8, 9, 1, 9, 7, 8, 2, 2, 1, 1, 7, 1, 3, 4, 5, 6, 10, 7, 1, 2, 3, 4, 5, 6, 7, 8, 9, 10, 3, 2, 1, 2, 3, 4, 5, 6, 7, 8, 9, 10, 1, 2, 3, 4, 5, 6, 7, 8, 9, 10, 1, 2, 3, 4, 5, 6, 7, 8, 9, 10, 1, 2, 3, 4, 5, 6, 7, 8, 9, 10, 1, 4, 7, 9, 1, 5, 6, 7, 1, 2, 3, 4, 5, 6, 7, 8, 9, 3, 4, 1, 2, 3, 4, 5, 6, 7, 8, 9, 10, 6, 1, 2, 3, 4, 5, 6, 7, 8, 9, 10, 10, 3, 2, 3, 8, 1, 4, 6, 7, 8, 9, 10, 8, 1, 2, 3, 4, 5, 6, 7, 8, 9, 10, 7, 2, 2, 1, 2, 3, 4, 5, 6, 7, 8, 9, 10, 4, 3, 7, 1, 2, 3, 4, 5, 6, 7, 8, 9, 10, 3, 1, 2, 3, 4, 5, 6, 7, 8, 9, 10, 1, 2, 3, 4, 5, 6, 7, 8, 9, 10, 6, 2, 10, 3, 8, 3, 1, 3, 5, 10, 4, 3, 8, 1, 2, 3, 4, 5, 6, 7, 8, 9, 10, 1, 3, 8, 3, 8, 3, 1, 2, 3, 4, 5, 6, 7, 8, 9, 10, 8, 4, 5, 3, 1, 2, 3, 2, 1, 6, 1, 2, 3, 4, 5, 6, 7, 8, 9, 10, 1, 2, 3, 4, 5, 6, 7, 8, 9, 6, 1, 2, 3, 4, 5, 6, 7, 8, 9, 10, 1, 2, 3, 4, 5, 6, 7, 8, 9, 10, 1, 2, 3, 4, 5, 6, 7, 8, 9, 10, 2, 1, 3, 8, 9, 8, 8, 9, 7, 3, 4, 1, 2, 3, 4, 5, 6, 7, 9, 10, 1, 3, 4, 6, 9, 8, 2, 9, 9, 6, 1, 4, 5, 6, 7, 1, 8, 5, 6, 4, 1, 3, 4, 5, 7, 8, 9, 10, 2, 1, 6, 4, 4, 3, 10, 3, 5, 1, 2, 3, 4, 5, 6, 7, 8, 9, 10, 1, 2, 3, 4, 5, 6, 7, 8, 9, 10, 1, 2, 5, 7, 9, 10, 2, 3, 5, 6, 7, 8, 9, 1, 2, 3, 4, 5, 6, 7, 8, 9, 9, 7, 8, 1, 2, 3, 4, 5, 6, 7, 8, 9, 10, 2, 6, 1, 2, 3, 4, 5, 6, 7, 8, 9, 10, 1, 2, 3, 4, 5, 6, 7, 8, 9, 10, 10, 1, 2, 3, 4, 5, 6, 7, 8, 9, 10, 1, 2, 3, 4, 5, 6, 7, 8, 9, 10, 1, 5, 7, 9, 10, 1, 2, 3, 4, 5, 6, 7, 8, 9, 10, 6, 9, 1, 3, 5, 8, 9, 1, 2, 3, 4, 5, 6, 7, 8, 9, 10, 6, 8, 1, 2, 3, 4, 5, 6, 7, 8, 9, 10, 8, 1, 2, 3, 4, 5, 6, 7, 8, 9, 10, 2, 5, 2, 5, 1, 2, 3, 4, 5, 6, 7, 8, 9, 10, 1, 2, 3, 4, 5, 6, 7, 8, 9, 10, 4, 1, 2, 3, 4, 5, 6, 7, 8, 9, 10, 1, 2, 4, 5, 6, 7, 8, 10, 4, 10, 1, 2, 3, 4, 5, 6, 7, 8, 9, 10, 1, 2, 3, 4, 5, 6, 7, 8, 9, 10, 1, 5, 1, 2, 3, 4, 5, 6, 7, 8, 9, 10, 1, 2, 3, 4, 5, 6, 7, 8, 9, 10, 2, 1, 1, 2, 3, 4, 5, 6, 7, 8, 9, 10, 9, 8, 5, 3, 9, 5, 6, 1, 7, 7, 1, 2, 5, 5, 4, 10, 1, 3, 4, 5, 7, 8, 9, 10, 1, 2, 3, 4, 5, 7, 8], \"Freq\": [0.144388228696658, 0.08472709546188396, 0.06815455845222451, 0.10254257274726787, 0.13630911690444902, 0.07209053599201863, 0.028173312916421073, 0.1319588259394134, 0.13775921389279422, 0.09384199081719666, 0.13595241143880762, 0.10363585462138615, 0.13539522942471416, 0.0897063042690493, 0.12926622726968595, 0.07410520787443203, 0.08469166614220804, 0.02173009854964548, 0.11255076684688173, 0.11366513087506867, 0.10340632804151899, 0.17194308034810715, 0.09017993724551075, 0.015631189122555195, 0.06372715565349427, 0.12264471465389462, 0.03727437406147777, 0.15751429038882545, 0.06132235732694731, 0.17795507616447453, 0.06487977640434522, 0.12975955280869045, 0.7785573168521427, 1.019898231755627, 0.9098188057472604, 0.04332470503558383, 1.0159237027373358, 0.11299137284109356, 0.790939609887655, 0.05649568642054678, 1.0145153063084418, 0.9039482517401356, 0.045197412587006776, 1.0116207557979462, 0.8888616105743891, 0.12698023008205558, 0.9890099678163125, 0.9097959628954697, 0.04332361728073666, 0.9961352506609269, 0.9857240889873709, 0.9098639489043162, 0.04332685470972934, 0.8180506226253584, 0.9097388297170813, 0.04332089665319435, 0.9961097705526984, 0.81802180338199, 0.9099832929879166, 0.043332537761329365, 0.9603782165322253, 0.9949496334351035, 0.7339602626818676, 0.14679205253637354, 0.8116599984409625, 0.08543789457273289, 0.08543789457273289, 0.21364891844920972, 0.055135204761086375, 0.062027105356222176, 0.034459502975678985, 0.011486500991892995, 0.15391911329136612, 0.2113516182508311, 0.15162181309298753, 0.06891900595135797, 0.04135140357081478, 0.9433887177258059, 0.9399410184883663, 0.9729756564441777, 0.4834373255630877, 0.058345884119683, 0.016670252605623714, 0.058345884119683, 0.10835664193655414, 0.10002151563374229, 0.03334050521124743, 0.07501613672530671, 0.06668101042249486, 0.059409121652225824, 0.16097955544474093, 0.11594360838579555, 0.09582116395520293, 0.09773758723430699, 0.0881554708387867, 0.06899123804774611, 0.08048977772237047, 0.18493484643354166, 0.04695237033804944, 0.9119759392755973, 0.06417015617397094, 0.7700418740876512, 0.12834031234794188, 0.053707050444076025, 0.16112115133222807, 0.6444846053289123, 0.053707050444076025, 1.0212122133710986, 0.9433179930229862, 0.08788819792045525, 0.1676007495227286, 0.13694207582954657, 0.09810775581818261, 0.08584428634090978, 0.0565482203674247, 0.09810775581818261, 0.11514035231439486, 0.0838003747613643, 0.0701742975643945, 0.10186760979662009, 0.050933804898310044, 0.10186760979662009, 0.050933804898310044, 0.48387114653394536, 0.10186760979662009, 0.050933804898310044, 0.050933804898310044, 0.0814383671374532, 0.203595917843633, 0.0407191835687266, 0.6922261206683522, 0.9156826406938791, 0.8550026876328539, 0.15609656523506912, 0.8585311087928802, 0.9115503499225048, 0.10309409060547252, 0.7216586342383077, 0.10309409060547252, 0.8175188828528555, 0.9577348838167342, 0.9709454801661409, 0.8546787165590121, 0.09496430183989023, 1.0482997742251885, 1.0511565818415298, 1.0139752468998526, 1.0180736445407004, 0.85495701638974, 0.832362751190691, 0.9126407124454081, 0.8757186898906387, 1.0474444196190744, 0.7904710860666616, 0.17566024134814703, 0.08783012067407352, 1.0413431273882459, 0.38087085270472537, 0.13795322223950685, 0.04498474638244788, 0.053981695658937456, 0.026990847829468728, 0.1139613575022013, 0.06597762802759023, 0.13495423914734364, 0.0389867801981215, 0.9858734907425741, 0.17417095537780175, 0.14250350894547414, 0.08010001156412273, 0.15088606829520793, 0.0707860567310852, 0.21328956567655935, 0.03446163288223885, 0.0549523335149214, 0.0530895425483139, 0.026079073532505073, 1.0205120449321403, 0.09104145347611377, 0.03414054505354266, 0.1138018168451422, 0.07966127179159954, 0.07966127179159954, 0.3869261772734835, 0.06828109010708532, 0.10242163516062798, 0.022760363369028442, 0.011380181684514221, 0.11305538176144525, 0.7913876723301168, 1.019909618198441, 1.0220604291974273, 0.06710572081574384, 0.8723743706046698, 0.9960124548284576, 0.9959391817818648, 0.8798464030625206, 0.9844885289885736, 0.9126770818956872, 0.17973297551163223, 0.17973297551163223, 0.06203980880604564, 0.08576091217306309, 0.07846211113705773, 0.08028681139605906, 0.1523624716266121, 0.05565335789954094, 0.07207566023055302, 0.0538286576405396, 0.9959293709305617, 1.0119088089984283, 0.9958822689580833, 1.00201809608081, 1.0398971591797552, 0.9670853823942659, 0.9296340904612657, 0.07702598597177471, 0.5776948947883103, 0.038512992985887354, 0.06418832164314558, 0.07702598597177471, 0.025675328657258235, 0.025675328657258235, 0.07702598597177471, 0.05135065731451647, 0.012837664328629117, 1.0135362739032137, 1.0391691828165264, 0.9441084864968387, 0.831907294710962, 0.09243414385677357, 0.1480667198392595, 0.6663002392766677, 1.0179983029299118, 0.9968969115207251, 1.0398474180859119, 0.11328820051363998, 0.7930174035954798, 0.9892100272743565, 0.9859363854038331, 0.16826194336125702, 0.1711300446685512, 0.08126287037333436, 0.1711300446685512, 0.13002059259733498, 0.08508700544972657, 0.05831805991498113, 0.05927409368407918, 0.021988776689255182, 0.053537891069490876, 0.9434022894652243, 0.9707519414813893, 0.889607297836544, 0.02404344048206876, 0.02404344048206876, 0.04808688096413752, 0.9095115996887763, 0.18676372830340296, 0.15563644025283582, 0.03112728805056716, 0.020751525367044773, 0.041503050734089546, 0.041503050734089546, 0.5187881341761194, 0.18424460489518935, 0.24338484844179334, 0.07278799205735875, 0.0966715519511796, 0.08188649106452861, 0.09894617670297207, 0.08074917868863238, 0.06368949305018891, 0.026158184645613303, 0.04890443216353792, 0.9555039283184937, 0.038420338033401266, 0.5955152395177196, 0.0576305070501019, 0.019210169016700633, 0.07684067606680253, 0.15368135213360506, 0.038420338033401266, 0.019210169016700633, 0.019210169016700633, 0.9434404934950292, 0.8554447277429326, 0.12616828163341054, 0.8831779714338738, 0.02151657092292626, 0.15061599646048382, 0.02151657092292626, 0.7745965532253453, 0.02151657092292626, 0.8370961237128951, 0.8751583907567982, 1.0128820608414413, 0.9840824786590158, 0.10709437961550058, 0.11650927013114899, 0.10121007304322033, 0.13063160590462158, 0.06355051098062672, 0.08473401464083563, 0.10827124092995663, 0.1471076643070063, 0.042367007320417815, 0.09767948909985218, 0.9095160199988443, 1.013861751780829, 0.869166959117936, 1.0175849273044684, 0.9672207337659956, 0.9094811205113168, 0.9570870553203097, 0.13527405966907283, 0.07575347341468079, 0.0937900147038905, 0.10461193947741633, 0.06493154864115497, 0.1442923303136777, 0.0685388568989969, 0.2308677285018843, 0.07394981928575982, 0.009018270644604856, 0.9130854198046144, 0.07699142176776501, 0.215575980949742, 0.11805351337723967, 0.07185866031658067, 0.06672589886539634, 0.046194853060659, 0.10265522902368668, 0.25663807255921667, 0.015398284353553001, 0.02566380725592167, 0.8933990473672189, 0.03643291926782799, 0.03643291926782799, 0.03643291926782799, 0.14573167707131196, 0.7650913046243879, 1.0232076921367639, 0.09400353105230995, 0.4187430019602898, 0.1794612865544099, 0.01709155110041999, 0.08545775550209996, 0.03418310220083998, 0.10254930660251994, 0.04272887775104998, 0.008545775550209996, 0.008545775550209996, 0.926170397214009, 0.9891355226091609, 0.943630410562815, 0.10292825823220281, 0.8234260658576225, 0.9968324888385778, 0.9095819338980503, 1.0135558497347854, 0.07335565130807298, 0.07335565130807298, 0.8069121643888028, 0.14964664870279037, 0.07482332435139519, 0.11223498652709278, 0.037411662175697594, 0.6359982569868591, 0.021074358342241358, 0.1475205083956895, 0.021074358342241358, 0.021074358342241358, 0.042148716684482716, 0.1053717917112068, 0.48471024187155126, 0.08429743336896543, 0.08429743336896543, 0.7978604276972361, 0.9095457757413996, 0.9858249774863637, 0.8573511926212836, 0.8590337339163838, 0.1600476388106342, 0.06001786455398782, 0.022506699207745434, 0.0550163758411555, 0.2575766687108644, 0.08502530811814941, 0.015004466138496955, 0.15754689445421802, 0.08252456376173326, 0.10753200732589484, 0.912773321316767, 0.9860993485284726, 0.9383001163952492, 0.871463131974495, 0.08391967261112085, 0.7552770535000877, 0.041959836305560425, 0.041959836305560425, 0.9898938678040584, 0.9126826317124841, 1.0017185110411282, 0.8550796695750861, 0.9657844369333808, 0.7589884266572026, 0.10842691809388608, 0.09073044753142159, 0.18540569712942673, 0.12919226768061118, 0.06508923409862853, 0.10157865321452635, 0.05621342944881555, 0.174557491446322, 0.1203164630307982, 0.024655012916147172, 0.05226862738223201, 0.2874980413847376, 0.05695715914225934, 0.06238165048914118, 0.037971439428172896, 0.05695715914225934, 0.23867761926280107, 0.0895041072235504, 0.029834702407850133, 0.12476330097828237, 0.016273474040645525, 0.9858126844369995, 0.0956352287443857, 0.14216047516057334, 0.2636430630250633, 0.08788102100835443, 0.031016830944125093, 0.06978786962428146, 0.08012681327232316, 0.12148258786448994, 0.07237260553629188, 0.033601566856135516, 0.10810748184304232, 0.07068566120506614, 0.478167708151918, 0.06236970106329365, 0.016631920283544974, 0.08315960141772487, 0.08315960141772487, 0.04989576085063492, 0.029105860496203704, 0.02494788042531746, 0.055003572394631946, 0.055003572394631946, 0.055003572394631946, 0.6050392963409514, 0.08250535859194792, 0.08250535859194792, 0.055003572394631946, 0.08910356417561736, 0.07686406360204355, 0.18530603868390755, 0.07955675372822979, 0.0856765040150167, 0.11823357554072304, 0.07392658346438584, 0.08200465384294456, 0.17698317829387736, 0.03231228151423487, 0.9858102258639166, 0.08435208769695575, 0.06560717931985448, 0.2374355061099495, 0.06654442473870954, 0.06248302792367093, 0.09060039048932285, 0.06029612194634244, 0.11559360165879122, 0.1840125172352109, 0.033116004799545594, 0.9671961785788518, 0.09628935599065143, 0.047120323144361334, 0.02253580672121629, 0.06555871046172011, 0.043022903740503826, 0.1946274216832316, 0.1720916149620153, 0.053266452250147596, 0.06760742016364887, 0.23765032542373543, 0.06373262393235091, 0.06373262393235091, 0.7647914871882109, 0.12746524786470181, 1.0401545314295089, 0.9131896343758394, 0.9671103306829345, 0.83179457265414, 0.08555981649774673, 0.8555981649774673, 0.8562037647799978, 0.7581871606005577, 0.047386697537534855, 0.14216009261260457, 0.047386697537534855, 0.047386697537534855, 0.045322489130530906, 0.045322489130530906, 0.056653111413163634, 0.056653111413163634, 0.056653111413163634, 0.4305636467400436, 0.11330622282632727, 0.056653111413163634, 0.1359674673915927, 0.9215957334575351, 0.9671222356852909, 0.05323014882007902, 0.7452220834811062, 0.05323014882007902, 0.05323014882007902, 0.05323014882007902, 0.967132033323359, 0.12806788348615908, 0.7684073009169545, 0.9434366155012829, 0.9959969187840637, 0.970808317220248, 0.8475926426595727, 1.0048557796574744, 0.1406083252547333, 0.07794591943468912, 0.2063274337977065, 0.11768305483276592, 0.10087118985665651, 0.10087118985665651, 0.07794591943468912, 0.022925270421967386, 0.07947427079615361, 0.07488921671176013, 0.9376231499360097, 0.060987270652277235, 0.06606954320663366, 0.06606954320663366, 0.315100898370099, 0.005082272554356436, 0.13722135896762377, 0.11689226875019804, 0.13213908641326733, 0.07115181576099011, 0.02541136277178218, 0.09059624519125382, 0.10773607536257211, 0.12732445270122159, 0.17751966963151086, 0.05509231126495165, 0.16282838662752375, 0.08814769802392264, 0.03427966034263658, 0.13589436778688074, 0.020812650922315067, 0.994439207168364, 0.9096342664803414, 0.9795887632537519, 0.08776293042228075, 0.08776293042228075, 0.7898663738005268, 0.050566293182869856, 0.8596269841087876, 0.036121249652349106, 0.036121249652349106, 0.6682431185684585, 0.05418187447852366, 0.018060624826174553, 0.18060624826174554, 0.17399553397149034, 0.6263839222973653, 0.03479910679429807, 0.13919642717719227, 0.9248204836819364, 0.983249353618511, 0.19331532060385714, 0.06443844020128571, 0.6443844020128572, 0.24190872501540847, 0.0916706747426811, 0.08657785947919883, 0.08912426711093997, 0.040742522107858274, 0.053474560266563984, 0.19607338764406793, 0.030556891580893704, 0.16806290369491536, 0.002546407631741142, 0.9094022271939846, 0.9671764669642094, 0.07412919764700386, 0.11119379647050578, 0.11119379647050578, 0.6300981799995328, 0.03706459882350193, 0.9096284554631464, 0.08962586718135122, 0.8962586718135123, 0.11164984937174724, 0.06047700174302975, 0.04807146292394673, 0.3194426245913879, 0.11630192642890337, 0.0635783864478005, 0.09149084879073732, 0.07598392526688354, 0.04652077057156135, 0.06512907880018588, 0.06295111297599403, 0.16897404009345765, 0.10602292711746363, 0.06543602533030958, 0.08945684475535993, 0.1772570812745095, 0.08283041181051846, 0.0430718141414696, 0.13667017948735546, 0.06792093768462514, 0.1289512506599889, 0.3141120208384345, 0.04298375021999629, 0.20830586645075128, 0.07604817346614728, 0.029757980921535896, 0.0826610581153775, 0.04298375021999629, 0.052903077193841595, 0.019838653947690597, 0.17679349929863789, 0.08839674964931894, 0.7955707468438704, 0.10009790939581686, 0.11678089429511967, 0.08758567072133976, 0.1668298489930281, 0.2273056692530008, 0.10009790939581686, 0.08967104383375261, 0.039622089135844175, 0.056305074035146986, 0.01459761178688996, 1.0232197861330712, 0.9858743418949508, 0.9958503880419676, 0.7930843568648128, 0.14946696679741983, 0.03510209068727284, 0.25515068069458535, 0.13625650256027413, 0.06529743751503442, 0.08907627314189667, 0.06944929770385164, 0.046802787583030456, 0.05321929878392979, 0.09964464453161323, 0.9253565842756393, 0.8016992965537366, 0.16033985931074732, 0.9837979773270822, 0.19167227610430707, 0.19949563431264614, 0.11735037312508596, 0.03911679104169532, 0.10405066417090955, 0.10092132088757393, 0.054763507458373446, 0.06336920148754642, 0.10796234327507909, 0.022687738804183285, 0.9641468926485876, 0.9709389444423808, 0.06902302388759857, 0.10285783951877432, 0.17864782653260805, 0.1150383731459976, 0.05278231238463419, 0.16511390028013773, 0.08526373539056292, 0.12180533627223275, 0.059549275510869346, 0.0487221345088931, 0.14762975528290992, 0.03473641300774351, 0.03473641300774351, 0.20841847804646105, 0.05210461951161526, 0.40815285284098624, 0.008684103251935877, 0.017368206503871754, 0.05210461951161526, 0.03473641300774351, 0.9857653117833265, 0.1113953064462343, 0.12030693096193305, 0.09802786967268619, 0.25843711095526356, 0.06832245462035703, 0.07723407913605579, 0.1113953064462343, 0.043072851825877265, 0.0906015159096039, 0.022279061289246862, 1.0020297666663054, 0.9739464446318342, 0.13575348872416249, 0.8145209323449749, 0.1883590726314154, 0.16089004120600067, 0.06082428387056123, 0.045127694484609945, 0.22956261976953754, 0.12557271508761028, 0.0941795363157077, 0.02943110509865866, 0.03139317877190257, 0.03531732611839039, 0.9284806432791536, 0.9822415249602293, 0.9285670971300314, 0.982189648904006, 0.9834026676879766, 1.0009361310417757, 0.9433890767615026, 1.0126946587582448, 0.8578149308626082, 1.0231950790709492, 0.89453962151797, 0.05963597476786467, 0.9575268856515178, 1.0536493259051918, 0.9302573743196859, 1.0131048143863868, 1.0203063169979514, 1.0152165900910468, 0.996842249315805, 0.2529942805894158, 0.6957342716208935, 0.06324857014735395, 0.8552459121592018, 0.07342474689033078, 0.07342474689033078, 0.8076722157936387, 0.9440168015759639, 0.08262404012928865, 0.11236869457583255, 0.03965953926205855, 0.10575877136548946, 0.12889350260169027, 0.3172763140964684, 0.04626946247240164, 0.08592900173446019, 0.05618434728791628, 0.026439692841372365, 1.0117045294406264, 0.9959122652931676, 0.8407967282368144, 0.944813580857366, 0.9890701059900412, 1.0131694021013142, 0.7154975460218903, 0.04616113200141228, 0.06924169800211842, 0.06924169800211842, 0.04616113200141228, 0.02308056600070614, 0.04616113200141228, 0.9967920292623115, 0.9183037723743241, 0.030610125745810804, 0.030610125745810804, 0.9592010177151505, 0.4939979201030417, 0.030874870006440108, 0.1132078566902804, 0.07204136334836025, 0.030874870006440108, 0.07204136334836025, 0.030874870006440108, 0.051458116677400176, 0.08233298668384029, 0.02058324667096007, 1.048254241863807, 0.9286972547489417, 0.9286551767225248, 0.9137467664704021, 1.0123758461947183, 0.17912929792507568, 0.11881024862377468, 0.07859754908957402, 0.11149884870846546, 0.10235959881432895, 0.08408109902605593, 0.18826854781921218, 0.04935194942833717, 0.05483549936481908, 0.03472914959771875, 1.0231668120940143, 0.9140095849922618, 0.055990402636902206, 0.2826182228338873, 0.04132624956533258, 0.10531528115036368, 0.09998286185161108, 0.13197737764412662, 0.05732350746159035, 0.15597326448851329, 0.050657983338149616, 0.019996572370322215, 0.9298496817795936, 0.9433799573394872, 0.9921676724396271, 0.9102878695814111, 0.2632698133853698, 0.06268328890127851, 0.10656159113217349, 0.012536657780255703, 0.1567082222531963, 0.006268328890127852, 0.043878302230894964, 0.012536657780255703, 0.3259531022866483, 0.006268328890127852, 0.9822376109833132, 0.8550161619271243, 1.019812880330652, 0.132307546282104, 0.088205030854736, 0.66153773141052, 0.044102515427368, 0.044102515427368, 0.01552344996961715, 0.5122738489973659, 0.0310468999392343, 0.0620937998784686, 0.01552344996961715, 0.07761724984808575, 0.07761724984808575, 0.01552344996961715, 0.1862813996354058, 0.9890466237101385, 0.1869187366134323, 0.08653645213584829, 0.07961353596498043, 0.04499895511064111, 0.3842218474831664, 0.0553833293669429, 0.0034614580854339314, 0.04499895511064111, 0.05192187128150897, 0.062306245537810764, 0.910739654788544, 0.9891800366255512, 0.09354200105449595, 0.19719665087164012, 0.2578725434475294, 0.06320405476655132, 0.03792243285993079, 0.1390489204864129, 0.02528162190662053, 0.11123913638913033, 0.0429787572412549, 0.030337946287944634, 0.06800597868048774, 0.1360119573609755, 0.04371812915174212, 0.12629681754947725, 0.3303147535909405, 0.077721118491986, 0.04857569905749125, 0.04371812915174212, 0.09229382820923338, 0.029145419434494748, 0.1547431398053135, 0.2615159062709798, 0.05570753032991286, 0.0665395501162848, 0.22283012131965144, 0.06344468732017854, 0.0711818443104442, 0.05106523613575346, 0.03868578495132838, 0.013926882582478215, 0.9708801268877524, 0.9257891251484472, 1.0129118460843898, 0.8604039055177438, 0.8545687758161548, 0.08545687758161548, 1.0231922597222902, 0.03886316586889141, 0.07217445089936976, 0.12214137844508728, 0.05551880838413058, 0.12214137844508728, 0.033311285030478345, 0.3886316586889141, 0.06107068922254364, 0.044415046707304465, 0.06107068922254364, 1.002037768187028, 0.9273923902169107, 0.989053943503211, 0.9821814394266315, 0.9618484538359937, 0.0330551734108153, 0.0661103468216306, 0.5509195568469216, 0.0991655202324459, 0.05509195568469217, 0.044073564547753734, 0.0991655202324459, 0.0330551734108153, 0.011018391136938433, 0.011018391136938433, 0.8542228483305496, 0.13671124769842188, 0.8202674861905314, 1.023187956535871, 0.19585052822626928, 0.04196797033420056, 0.02797864688946704, 0.05595729377893408, 0.02797864688946704, 0.11191458755786816, 0.05595729377893408, 0.4756369971209397, 0.07348934260681599, 0.14697868521363197, 0.7348934260681599, 0.9419575618895445, 0.11304352903131729, 0.037681176343772424, 0.037681176343772424, 0.07536235268754485, 0.07536235268754485, 0.6405799978441312, 0.037681176343772424, 0.13086829037808215, 0.019828528845163965, 0.03965705769032793, 0.2260452288348692, 0.07138270384259027, 0.2617365807561643, 0.06741699807355747, 0.07138270384259027, 0.047588469228393514, 0.06345129230452468, 1.0231754181473431, 0.11308730551965174, 0.13344302051318907, 0.10856381329886568, 0.2804565176887363, 0.11082555940925871, 0.047496668318253735, 0.038449683876681594, 0.06785238331179104, 0.049758414428646765, 0.0520201605390398, 0.13152437823952653, 0.019341820329342136, 0.1276560141736581, 0.14699783450300025, 0.09284073758084226, 0.06189382505389483, 0.10444582977844753, 0.015473456263473708, 0.027078548461078992, 0.2746538486766583, 0.9094950404016938, 1.0388211559351705, 0.8728762163939098, 0.9094084273437205, 0.11877183758263338, 0.029692959395658344, 0.029692959395658344, 0.05938591879131669, 0.7126310254958003, 0.029692959395658344, 0.9889605510718712, 1.0231973790774154, 0.9670357744394041, 0.8810749209329787, 0.10069360047511285, 0.8055488038009028, 1.005210917638534, 0.05578087377937711, 0.05578087377937711, 0.5206214886075197, 0.05578087377937711, 0.14874899674500563, 0.11156174755875423, 0.03718724918625141, 0.018593624593125704, 0.29544933461167855, 0.10936522330929538, 0.03754328561363871, 0.11589449037253689, 0.09304205565119159, 0.04080791914525947, 0.05223413650593212, 0.19424569513143508, 0.048969502974311366, 0.01469085089229341, 1.0108164987804507, 0.9717758103172408, 0.9960536559975371, 0.029067293362390365, 0.05813458672478073, 0.6685477473349785, 0.029067293362390365, 0.0872018800871711, 0.11626917344956146, 0.9254124045498879, 0.8587106599766647, 1.0114669691742484, 0.23161310630709184, 0.05790327657677296, 0.02833564598437826, 0.048047399712641395, 0.22422119865899318, 0.09732678403329924, 0.02217572294429603, 0.11334258393751304, 0.048047399712641395, 0.12935838384172682, 0.9968940717780436, 0.9671750427457202, 1.023190627474905, 0.9960349735183383, 0.9675448382568645, 0.0687002085206026, 0.8244025022472312, 0.0687002085206026, 0.9434571548679227, 0.1681490504306819, 0.0747329113025253, 0.1681490504306819, 0.018683227825631324, 0.03736645565126265, 0.4670806956407831, 0.056049683476893965, 0.08875375908350948, 0.1232691098382076, 0.009861528787056609, 0.4980072037463587, 0.1084768166576227, 0.06903070150939626, 0.029584586361169826, 0.039446115148226435, 0.009861528787056609, 0.024653821967641522, 0.9659811853220016, 0.9709013829360342, 0.9449238768506057, 0.19152997313233897, 0.18048016699008865, 0.125231136278837, 0.055249030711251625, 0.09208171785208603, 0.0036832687140834416, 0.283611690984425, 0.04788249328308474, 0.018416343570417208, 0.13330402794342128, 0.2494995175411628, 0.044909913157409304, 0.047048480450619275, 0.06273130726749236, 0.09195839360802857, 0.15397684511111762, 0.047048480450619275, 0.06629558608950897, 0.10336408583848174, 0.9034134439361028, 0.09576631027135063, 0.8618967924421557, 0.10203079962342675, 0.13872608720729074, 0.15841624152058362, 0.08234064531013387, 0.08860569440981796, 0.08950070142405855, 0.17810639583387652, 0.06623051905380332, 0.08234064531013387, 0.014320112227849367, 0.9126375414045691, 0.05688497707696739, 0.014221244269241847, 0.028442488538483694, 0.028442488538483694, 0.04266373280772554, 0.09954870988469293, 0.028442488538483694, 0.05688497707696739, 0.17065493123090217, 0.4550798166157391, 0.9717798835524921, 0.029385532992262584, 0.15322456488822633, 0.11124523204213692, 0.11124523204213692, 0.0419793328460894, 0.1469276649613129, 0.09445349890370115, 0.0629689992691341, 0.2392821972227096, 0.012593799853826821, 0.04619476376689614, 0.057743454708620176, 0.034646072825172104, 0.05196910923775816, 0.15013298224241245, 0.04619476376689614, 0.07506649112120622, 0.005774345470862017, 0.4965937104941335, 0.04042041829603412, 0.9959615084780209, 0.871664569620695, 0.013628165637322031, 0.027256331274644063, 0.5655688739488642, 0.027256331274644063, 0.07495491100527117, 0.09539715946125421, 0.054512662549288125, 0.03407041409330508, 0.03407041409330508, 0.07495491100527117, 1.012472693050704, 0.05774653626510138, 0.05774653626510138, 0.11549307253020276, 0.6929584351812166, 0.9934505243651219, 0.9889979644799909, 0.07798008519508476, 0.10397344692677968, 0.060109649004544505, 0.3021728301309535, 0.055235893679851704, 0.058485063896313576, 0.08447842562800849, 0.08610301073623942, 0.08447842562800849, 0.0893521809527013, 0.8776195921828008, 0.09845295490559003, 0.2571532404250486, 0.13371968502102527, 0.1013918490818763, 0.07494180149529987, 0.07053346023087047, 0.08228903693601555, 0.11608631996330765, 0.04555285973243718, 0.020572259234003888, 0.12430468484160234, 0.248108141115295, 0.06841769951967226, 0.182447198719126, 0.11127274207595048, 0.04661425681560088, 0.10200001356962128, 0.05112531392678806, 0.038594599729045886, 0.026815728383168248, 1.01403591585094, 0.06833970180344386, 0.16596784723693508, 0.2792164959397849, 0.07810251634679298, 0.019525629086698245, 0.037098695264726665, 0.041003821082066315, 0.03514613235605684, 0.019525629086698245, 0.2577383039444168, 0.9400611064714254, 0.11474548163319959, 0.05737274081659979, 0.0382484938777332, 0.31555007449129885, 0.0191242469388666, 0.05737274081659979, 0.0095621234694333, 0.35379856836903206, 0.0191242469388666, 0.0095621234694333, 0.8569613900796369, 1.0179811872621585, 0.05990667313308837, 0.10982890074399534, 0.2862207716358667, 0.01996889104436279, 0.12646964328096433, 0.029953336566544184, 0.07654741567005736, 0.0033281485073937984, 0.2562674350693225, 0.023297039551756587, 0.1359693261266549, 0.0709405179791243, 0.2881958542901925, 0.023646839326374767, 0.08424186510021012, 0.02512476678427319, 0.053205388484343225, 0.13301347121085808, 0.16404994782672494, 0.022168911868476346, 0.11243751172114225, 0.06296500656383966, 0.034480836927816956, 0.16640751734729053, 0.04647417151140546, 0.03897833739666264, 0.017990001875382758, 0.028484169636022703, 0.22187668979638736, 0.26835086130779284, 0.9418990067270816, 0.04995067217353998, 0.040868731778350896, 0.027245821185567263, 0.10444231454467451, 0.018163880790378176, 0.027245821185567263, 0.08627843375429634, 0.5131296323281834, 0.018163880790378176, 0.10898328474226905, 0.13664164045877447, 0.8198498427526468, 0.8887924053367724, 0.9959628292435192, 0.024926242370196156, 0.04985248474039231, 0.12463121185098079, 0.6480823016251, 0.09970496948078462, 0.024926242370196156, 0.9434204575371616, 0.13860688681870165, 0.11768509258191649, 0.020921794236785154, 0.03138269135517773, 0.24583108228222555, 0.18568092385146823, 0.12030031686151463, 0.03922836419397216, 0.07322627982874803, 0.03138269135517773, 0.9714763574351293, 0.07781689183002857, 0.05360719214957524, 0.019021906891784762, 0.05706572067535429, 0.025938963943342858, 0.04150234230934857, 0.03285602099490095, 0.024209699680453334, 0.2438262610674229, 0.42539900867082286, 0.855086373326678, 0.08878039725204348, 0.03329264896951631, 0.02496948672713723, 0.19143273157471877, 0.02774387414126359, 0.11097549656505436, 0.02496948672713723, 0.08045723500966441, 0.0471645860401481, 0.3717679134929321, 0.04642514116330167, 0.016580407558322026, 0.0663216302332881, 0.016580407558322026, 0.023212570581650833, 0.029844733604979645, 0.029844733604979645, 0.016580407558322026, 0.05968946720995929, 0.696377117449525, 0.07737741218750573, 0.06348915871795342, 0.015872289679488356, 0.08332952081731386, 0.0535689776682732, 0.005952108629808133, 0.04166476040865693, 0.07737741218750573, 0.029760543149040666, 0.5495780301522842, 0.11435780178387243, 0.038119267261290814, 0.019059633630645407, 0.019059633630645407, 0.05717890089193622, 0.09529816815322703, 0.5908486425500076, 0.07623853452258163, 0.12297749776324036, 0.06148874888162018, 0.06148874888162018, 0.7993537354610624, 0.910255151444044, 0.032509112551573, 0.9671344258000195, 0.0589178588163309, 0.36921858191567364, 0.07855714508844121, 0.0589178588163309, 0.08641285959728533, 0.043206429798642663, 0.031422858035376484, 0.16104214743130446, 0.05499000156190884, 0.05499000156190884, 0.9958425910476998, 0.9331372477160519, 0.13423753415370568, 0.13423753415370568, 0.0447458447179019, 0.6264418260506265, 1.0135770584272275, 0.9958830864443119, 0.0322068002651921, 0.01610340013259605, 0.5314122043756697, 0.0644136005303842, 0.09662040079557631, 0.048310200397788154, 0.1288272010607684, 0.048310200397788154, 0.0322068002651921, 0.11413030104782004, 0.11413030104782004, 0.7989121073347403, 0.7616724754953422, 0.09520905943691778, 0.09520905943691778, 0.9158439267692153, 0.06726525460126534, 0.06726525460126534, 0.06726525460126534, 0.8071830552151841, 0.9598096170490779, 0.8790011200251577, 0.9432992545489527, 0.9227585934964738, 0.9097589391968102, 0.11437803508830469, 0.16806568421138648, 0.07703010526355214, 0.1844054035097157, 0.12138077193044579, 0.06535887719331696, 0.20074512280804496, 0.044350666666893655, 0.02100821052642331, 0.0023342456140470346, 0.7195253403644656, 0.07195253403644655, 0.035976267018223276, 0.10792880105466983, 0.035976267018223276, 0.995833285117592, 0.0831960806280163, 0.7487647256521467, 0.9671151723949432, 1.0020138297291141, 1.0199675325605493, 0.07899444010907161, 0.09900636493670309, 0.12007154896578885, 0.06424881128871159, 0.13481717778614888, 0.12217806736869744, 0.07688792170616304, 0.06635532969162015, 0.10321940174252024, 0.13481717778614888, 0.8374606038055554, 1.0195254424670466, 0.9099010816737977, 0.6300524679000404, 0.028638748540910926, 0.17183249124546557, 0.05727749708182185, 0.028638748540910926, 0.028638748540910926, 0.08591624562273278, 0.30758324077457155, 0.10122992734352988, 0.007786917487963837, 0.03893458743981918, 0.03504112869583727, 0.11291030357547563, 0.0038934587439819184, 0.027254211207873427, 0.054508422415746854, 0.3153701582625354, 0.042405058903816926, 0.11779183028838035, 0.02355836605767607, 0.03769338569228171, 0.14606186955759162, 0.03769338569228171, 0.08481011780763385, 0.009423346423070427, 0.018846692846140854, 0.4805906675765918, 0.04063594583453227, 0.020317972917266135, 0.020317972917266135, 0.020317972917266135, 0.04063594583453227, 0.04063594583453227, 0.04063594583453227, 0.24381567500719362, 0.04063594583453227, 0.5282672958489195, 0.05315952923094534, 0.02657976461547267, 0.15947858769283602, 0.02657976461547267, 0.6910738800022894, 0.8549975053250618, 0.8738366643439641, 0.8216162073883806, 1.013330552362196, 1.039841185694713, 0.987595346222543, 1.047491033254724, 0.29596915499982324, 0.12878047202282386, 0.04518613053432416, 0.04744543706104037, 0.10618740675566178, 0.14911423076326974, 0.009037226106864832, 0.07681642190835107, 0.07003850232820245, 0.07455711538163487, 0.40728649549517987, 0.13759678901864186, 0.005503871560745674, 0.04953484404671107, 0.10457355965416781, 0.04953484404671107, 0.044030972485965394, 0.005503871560745674, 0.11007743121491348, 0.09356581653267645, 0.8548895894049291, 0.04365292049574115, 0.04365292049574115, 0.1746116819829646, 0.6984467279318584, 0.9433996325331168, 0.08426317355760059, 0.08426317355760059, 0.028087724519200195, 0.14043862259600098, 0.6460176639416044, 0.028087724519200195, 0.07375445825922886, 0.1382896092360541, 0.5531584369442164, 0.018438614564807214, 0.009219307282403607, 0.018438614564807214, 0.1290703019536505, 0.04609653641201803, 0.02765792184721082, 0.9184730034090756, 1.0197687853902544, 0.16817554042672048, 0.03277997821876755, 0.1824277048696629, 0.07411125510330055, 0.037055627551650275, 0.12826947998648172, 0.044181709773121476, 0.17387640620389744, 0.1068912333220681, 0.051307791994592684, 0.9296785355463277, 0.9968825354897636, 0.8830177897665907, 0.06595597296553203, 0.8574276485519164, 0.06595597296553203, 0.8215700137940467, 0.9427074450830155, 0.08135943723609271, 0.813594372360927, 0.08135943723609271, 0.08135943723609271, 0.166355295522348, 0.1261728569903799, 0.09643785247672348, 0.16314070043979056, 0.17117718814618418, 0.09965244755928093, 0.03857514099068939, 0.05786271148603409, 0.07232838935754261, 0.008840136477032986, 0.9111723006732021, 1.0231979726291498, 0.06965459493203573, 0.02321819831067858, 0.11609099155339289, 0.04643639662135716, 0.04643639662135716, 0.06965459493203573, 0.603673156077643, 0.04643639662135716, 1.0061687828081651, 0.8817534634696489, 0.9095030230903095, 0.9892267806549866, 0.9891311299957847, 0.062456905548846885, 0.010409484258141147, 0.5933406027140454, 0.07286638980698804, 0.020818968516282295, 0.04163793703256459, 0.07286638980698804, 0.08327587406512918, 0.010409484258141147, 0.020818968516282295, 1.0117953941337838, 0.9150539486997161, 0.23003197373223067, 0.08419470933990142, 0.09471904800738909, 0.10524338667487677, 0.1713963725847993, 0.04510430857494719, 0.07367037067241373, 0.07667732457741022, 0.05562864724243487, 0.060139078099929584, 0.1881568417828234, 0.035971160929069185, 0.035971160929069185, 0.12174854468300339, 0.02490311141243251, 0.033204148549910016, 0.060874272341501695, 0.1549526932329134, 0.05534024758318336, 0.2877692874325535, 0.9953881706001041, 0.806671068120369, 0.11523872401719558, 0.047223498906009014, 0.14733731658674812, 0.09633593776825838, 0.19833869540523785, 0.0906691178995373, 0.03400091921232649, 0.15678201636794992, 0.12278109715562344, 0.03588985916856685, 0.06989077838089335, 0.017114116713324412, 0.021392645891655515, 0.004278529178331103, 0.06132558488941248, 0.6546149642846587, 0.017114116713324412, 0.02994970424831772, 0.0028523527855540687, 0.051342350139973236, 0.14261763927770343, 0.10308017861204286, 0.12762307828157687, 0.05890295920688163, 0.299423375968315, 0.034360059537347616, 0.05890295920688163, 0.034360059537347616, 0.04908579933906802, 0.2159775170918993, 0.01963431973562721, 0.9406269671538914, 0.996810839007659, 0.9891538548701512, 0.07023333702145032, 0.13422371075210507, 0.02809333480858013, 0.13266296992940618, 0.07023333702145032, 0.1591955639152874, 0.059308151262558055, 0.18884963954656642, 0.03277555727667682, 0.1217377841705139, 0.9802606045980831, 0.9861446856006431, 0.17303607433953275, 0.1464151398257585, 0.09317327079820995, 0.013310467256887136, 0.06655233628443567, 0.03993140177066141, 0.026620934513774272, 0.4126244849635012, 0.013310467256887136, 0.11026496697366246, 0.12767522491687233, 0.13541311733607672, 0.07931339729684493, 0.07641168763964329, 0.022246440705212603, 0.04255840830562411, 0.32208977194938243, 0.03578775243882027, 0.048361827620027394, 0.9672548054411388, 0.9683937056743389, 0.9672180559936041, 0.061541628435937475, 0.2565812508636778, 0.2319645994893028, 0.11172172546831725, 0.09373263407935092, 0.02082947423985576, 0.03692497706156248, 0.056807657017788435, 0.05870124558504805, 0.07006277698860573, 1.04090002605271, 0.9708909083344694, 0.07687768437084108, 0.19001842740717323, 0.10298708660999464, 0.10443760895661429, 0.056570371518166074, 0.07687768437084108, 0.17986477098083573, 0.050768282131687506, 0.10878917599647323, 0.052218804478307145, 0.9915850466129236, 1.0032469036841762, 0.08315736047395197, 0.06848253215501927, 0.014674828318932702, 0.05869931327573081, 0.21033920590470206, 0.2739301286200771, 0.0733741415946635, 0.18098954926683666, 0.029349656637865405, 0.004891609439644234, 1.0126275283267312, 0.10144568421733713, 0.08940975558138188, 0.20117195005810923, 0.04814371454382101, 0.024071857271910507, 0.09456801071107698, 0.03094953077817065, 0.03954662266099583, 0.28714286888636104, 0.08425150045168676, 0.93899836232892, 0.9892058683062487, 0.9435263202202253, 0.15610773638361983, 0.12488618910689586, 0.041628729702298625, 0.08065566379820358, 0.07024848137262893, 0.31221547276723965, 0.10927541546853388, 0.005203591212787328, 0.07545207258541625, 0.023416160457542974, 0.9435270385013832, 0.9677782610473977, 0.1741442536636552, 0.04333543639556397, 0.04092791215136597, 0.08346084046553061, 0.036915371744369305, 0.04092791215136597, 0.19741698802423585, 0.10833859098890992, 0.14124142232628256, 0.13321634151228923, 0.1524228053269481, 0.0666849773305398, 0.14924733021597003, 0.12384352932814534, 0.02857927599880277, 0.012701900443912343, 0.1778266062147728, 0.21593230754650983, 0.06350950221956171, 0.012701900443912343, 0.9288100766806845, 0.9373002804091147, 0.10534145311223907, 0.11372088688253082, 0.19272697671671013, 0.06464134622796489, 0.04668541672019686, 0.1472386219636978, 0.11970619671845349, 0.06942959409670302, 0.10294732917787, 0.03710892098272058, 1.0230803144606984, 0.10089645263762796, 0.8071716211010237, 0.9125491575086302, 0.9433268835385417, 0.9038149891040259, 0.11297687363800324, 0.9142144159811253, 0.06180063887559955, 0.139051437470099, 0.45577971170754666, 0.019312699648624858, 0.07338825866477446, 0.0695257187350495, 0.03476285936752475, 0.038625399297249716, 0.054075559016149605, 0.05021301908642463, 0.9168628894378248, 0.9104532373797016, 0.9406569114633829, 0.027331143988219696, 0.10932457595287878, 0.05466228797643939, 0.15032129193520832, 0.027331143988219696, 0.027331143988219696, 0.027331143988219696, 0.013665571994109848, 0.5466228797643939, 0.7573125760768044, 0.1682916835726232, 0.11565890855877416, 0.063086677395695, 0.3995489568394016, 0.03504815410871944, 0.10864927773703027, 0.01752407705435972, 0.11565890855877416, 0.05607704657395111, 0.063086677395695, 0.028038523286975554, 0.09399719031518433, 0.09399719031518433, 0.7519775225214747, 0.935973460592167, 0.9823223817644218, 0.9968626582040324, 0.9434781978737722, 0.8733354722881967, 0.10410507967503825, 0.06606668517838966, 0.12479262755918047, 0.25292195638999676, 0.03603637373366709, 0.12012124577889029, 0.0527198800918463, 0.12612730806783481, 0.06139530339809948, 0.05538924110915497, 0.9838917260615846, 0.07931212079713176, 0.09860425828832597, 0.4330013081356923, 0.01929213749119421, 0.06645069580300228, 0.042871416647098246, 0.09002997495890631, 0.060019983305937545, 0.1050349707853907, 0.006430712497064737, 0.1628525403690567, 0.14884656123792483, 0.12413789994055073, 0.1660897713946485, 0.07815600618928766, 0.05807196064275896, 0.07716501709982078, 0.09084066653446368, 0.06401789517956022, 0.02992787050189967, 0.9969234461482512, 0.9949680524225502, 0.9434511222339126, 0.019992825696318405, 0.09996412848159202, 0.5398062938005969, 0.09996412848159202, 0.13994977987422882, 0.03998565139263681, 0.03998565139263681, 0.9851689383645438, 0.9707477274791705, 1.0224056326830757, 0.2091089082828139, 0.014936350591629564, 0.014936350591629564, 0.014936350591629564, 0.029872701183259128, 0.029872701183259128, 0.6422630754400712, 0.04480905177488869, 0.9689593941456615, 0.07795135455386683, 0.013756121391858852, 0.03209761658100399, 0.34848840859375757, 0.013756121391858852, 0.06419523316200798, 0.04585373797286284, 0.17882957809416508, 0.013756121391858852, 0.21551256847245534, 0.0856532141583014, 0.05139192849498084, 0.0428266070791507, 0.02997862495540549, 0.4325487314994221, 0.12419716052953703, 0.07708789274247126, 0.03854394637123563, 0.11563183911370689, 0.00428266070791507, 0.08561062906706016, 0.06848850325364812, 0.12413541214723724, 0.07704956616035415, 0.05992744034694211, 0.06848850325364812, 0.32532039045482863, 0.07704956616035415, 0.07704956616035415, 0.03424425162682406, 0.9891560805583177, 0.9891198850833182, 0.8112372648749386, 0.8271369372427321, 0.10339211715534151, 0.9603245889805975, 0.9431034959846708, 0.9288007839664737, 0.10603862265759505, 0.8483089812607604, 0.9567767443350756, 0.0924510749589735, 0.13867661243846024, 0.041602983731538076, 0.28428705549884353, 0.05315936810140976, 0.013867661243846025, 0.09013979808499917, 0.02773532248769205, 0.1479217199343576, 0.10863001307679386, 0.875119663177287, 0.079556333016117, 0.0716965890930273, 0.059747157577522754, 0.10754488363954096, 0.059747157577522754, 0.48992669213568657, 0.059747157577522754, 0.03584829454651365, 0.01194943151550455, 0.03584829454651365, 0.0716965890930273, 0.026382236422114253, 0.026382236422114253, 0.10552894568845701, 0.052764472844228506, 0.026382236422114253, 0.026382236422114253, 0.1582934185326855, 0.052764472844228506, 0.527644728442285, 0.0497949262167186, 0.09105357936771401, 0.06259933581530339, 0.11381697420964251, 0.19775699268925387, 0.1451166421172942, 0.03129966790765169, 0.09247629154533454, 0.03556780444051329, 0.17926173438018694, 0.09034181198524412, 0.10841017438229293, 0.060227874656829404, 0.036136724794097644, 0.18670641143617117, 0.12045574931365881, 0.060227874656829404, 0.301139373284147, 0.04215951225978058, 0.028477338773123036, 0.05695467754624607, 0.740410808101199, 0.08543201631936911, 0.028477338773123036, 0.5241984982265082, 0.09530881785936512, 0.015884802976560853, 0.04765440892968256, 0.09530881785936512, 0.09530881785936512, 0.11119362083592597, 0.015884802976560853, 1.019477983708373, 0.9890557002696703, 0.9891813838227177, 0.1590583377034194, 0.02994039297946718, 0.22642422190722056, 0.07859353157110135, 0.11040519911178523, 0.04865313859163417, 0.03929676578555068, 0.10104882630570174, 0.08794990437718485, 0.11414774823421864, 0.7593785986420444, 0.12656309977367405, 0.04211105287376741, 0.08422210574753482, 0.12633315862130223, 0.050533263448520896, 0.33688842299013927, 0.016844421149506964, 0.04211105287376741, 0.2863551595416184, 1.0396931628227344, 0.8558162756789895, 1.0211141433203248, 0.8164201576284563, 0.07422001432985967, 0.07422001432985967, 0.9433128237144118, 0.0185997312974168, 0.0371994625948336, 0.0092998656487084, 0.0371994625948336, 0.24179650686641843, 0.0371994625948336, 0.1766974473254596, 0.3812944915970444, 0.0743989251896672, 0.9671658139115632, 0.08008168071063226, 0.14014294124360646, 0.10010210088829032, 0.04004084035531613, 0.06006126053297419, 0.04004084035531613, 0.5205309246191097, 0.20471577100541088, 0.17447366847052062, 0.10933683224152627, 0.08607367644545684, 0.09421578097408113, 0.12445788350897138, 0.10003156992309849, 0.0476894693819423, 0.04303683822272842, 0.015121051267445122, 1.0041345574362186, 0.9315497605398622, 0.9672125865471314, 0.29144437690175046, 0.05989193077660113, 0.03851785882658734, 0.07057896675160802, 0.14716939123915743, 0.08549628780005514, 0.11755739572507581, 0.05187665379534596, 0.10954211874382065, 0.02783082285158045, 0.9892336344742592, 1.0101107699891143, 0.9488115321220735, 0.9911300605654036, 0.14304085706321795, 0.1235795159661815, 0.08465683377210859, 0.03211121281011015, 0.1274717841855888, 0.07298002911388671, 0.20531714857373462, 0.06908776089447942, 0.10606430897884869, 0.03503041397466562, 0.17571653399375678, 0.043929133498439195, 0.026357480099063517, 0.07028661359750271, 0.07907244029719056, 0.4041480281856406, 0.035143306798751356, 0.026357480099063517, 0.035143306798751356, 0.10542992039625407, 1.0124972255447164, 0.9968823580104909, 1.011321813392255, 0.08106914575451425, 0.2898221960723884, 0.08512260304223995, 0.07498895982292568, 0.11349680405631994, 0.07296223117906282, 0.03648111558953141, 0.10336316083700567, 0.11755026134404566, 0.024320743726354274, 0.07481654067012196, 0.07004101679756099, 0.11779625552317075, 0.07800022325182927, 0.12097993810487806, 0.1623678116670732, 0.17191885941219515, 0.10983704906890245, 0.05093892130731708, 0.04297971485304879, 0.8565521119193881, 0.023667375413202678, 0.5443496345036616, 0.047334750826405356, 0.047334750826405356, 0.023667375413202678, 0.1183368770660134, 0.07100212623960804, 0.14200425247921608, 0.9672340088991421, 0.7826219043956226, 0.0869579893772914, 0.0869579893772914, 1.0231225970682345, 0.15009128046989914, 0.027289323721799846, 0.20466992791349883, 0.1432689495394492, 0.013644661860899923, 0.006822330930449962, 0.05457864744359969, 0.05457864744359969, 0.34111654652249807, 0.13180969879132906, 0.1545355089277651, 0.0878731325275527, 0.19544196717334997, 0.09847851059122285, 0.10605378063670154, 0.0878731325275527, 0.05151183630925503, 0.04848172829106356, 0.03939140423648914, 0.03424347069213993, 0.017121735346069963, 0.03424347069213993, 0.20546082415283956, 0.03424347069213993, 0.4280433836517491, 0.06848694138427985, 0.1369738827685597, 0.05136520603820989, 0.20727690892460807, 0.15545768169345606, 0.6218307267738242, 0.006191817593734102, 0.07430181112480923, 0.11145271668721385, 0.09287726390601153, 0.40246814359271665, 0.11764453428094794, 0.06810999353107512, 0.11145271668721385, 0.006191817593734102, 0.012383635187468205, 0.09245645776824855, 0.02311411444206214, 0.05778528610515534, 0.17335585831546602, 0.02311411444206214, 0.01155705722103107, 0.05778528610515534, 0.4391681743991806, 0.12712762943134176, 0.8483933242937399, 0.10604916553671749, 1.0059484714433755, 0.9407337695829808, 0.9708316335625667, 0.12442681912608271, 0.10665155925092804, 0.017775259875154673, 0.017775259875154673, 0.5865835758801041, 0.035550519750309345, 0.10665155925092804, 0.8974957472787412, 0.10228364909073323, 0.08229718892357846, 0.09405393019837538, 0.12344578338536769, 0.02586483080455323, 0.061135054628944, 0.04114859446178923, 0.08582421130601754, 0.1798781415043929, 0.20456729818146646, 0.9405193040349291, 0.9836489395997297, 0.05390619171354807, 0.04042964378516105, 0.04042964378516105, 0.5390619171354807, 0.04042964378516105, 0.05390619171354807, 0.13476547928387017, 0.0808592875703221, 0.013476547928387017, 0.8089505538907268, 0.08988339487674742, 0.08988339487674742, 0.6683029644197629, 0.1272958027466215, 0.031823950686655375, 0.031823950686655375, 0.031823950686655375, 0.06364790137331075, 0.32314275032396833, 0.08437616258459174, 0.05026665005039508, 0.12207615012238805, 0.06462855006479368, 0.053857125053994724, 0.1256666251259877, 0.1113047251115891, 0.03410951253419666, 0.03231427503239684, 1.0139232979803907, 0.9707790873997825, 0.9433272548425374, 0.9434087523355287, 0.39367522595157234, 0.09462223531773697, 0.033877096595239166, 0.10513581701970774, 0.06424966595648807, 0.11798575021100537, 0.0841086536157662, 0.05256790850985387, 0.02219533914860497, 0.03154074510591232, 0.8854124897270179, 0.9125861141627553, 0.05431104499806056, 0.10603584975811824, 0.0801734473780894, 0.05431104499806056, 0.031034882856034608, 0.04913856452205479, 0.13707073261415284, 0.11379457047212689, 0.31552130903635184, 0.05948352547406633, 0.1054962618073012, 0.0527481309036506, 0.6329775708438072, 0.0527481309036506, 0.1582443927109518, 0.23178805260967442, 0.09469939892613156, 0.2750792064044774, 0.09379749988873984, 0.051408245131328564, 0.12175637004788345, 0.04689874994436992, 0.042389254757411274, 0.03337026438349398, 0.008117091336525563, 0.9231578272830261, 0.98577552346743, 0.8549313155059164, 0.09144020749872814, 0.9144020749872813, 0.967101900523598, 0.14426658302206288, 0.09552787254163622, 0.22029897137152843, 0.148165679860497, 0.07798193676868263, 0.06433509783416318, 0.14036748618362874, 0.050688258899643714, 0.03899096838434132, 0.017545935772953592, 0.23408884748833267, 0.11360194069286733, 0.1325355974750119, 0.1015532500133208, 0.0705709025516297, 0.043031038141237626, 0.06196469492338218, 0.09466828391072278, 0.11704442374416633, 0.0344248305129901, 0.03193535121594475, 0.0638707024318895, 0.15967675607972373, 0.0638707024318895, 0.09580605364783425, 0.5429009706710607, 0.09690780686588005, 0.34798712465475107, 0.1233372087383928, 0.048453903432940024, 0.12774210905047825, 0.01761960124834183, 0.008809800624170914, 0.044049003120854566, 0.154171510922991, 0.039644102808769115, 0.1297618337603126, 0.1539840427289043, 0.11592057149254593, 0.14187293824460845, 0.05190473350412505, 0.08131741582312924, 0.07785710025618757, 0.029412682319004194, 0.17993640948096684, 0.03633331345288753, 0.03824240479450186, 0.047803005993127326, 0.02230806946345942, 0.10197974611867162, 0.06055047425796128, 0.04461613892691884, 0.09241914492004616, 0.18165142277388382, 0.04461613892691884, 0.36330284554776765, 0.12494753682959764, 0.08255462254812701, 0.22312060148142435, 0.02008085413332819, 0.05354894435554184, 0.04016170826665638, 0.04016170826665638, 0.18072768719995372, 0.18072768719995372, 0.05578015037035609, 0.9957789620778629, 0.9361498782917022, 0.0925854052818071, 0.05925465938035654, 0.08147515664799025, 0.07406832422544568, 0.09999223770435166, 0.05555124316908426, 0.10369565391562395, 0.05925465938035654, 0.30738354553559954, 0.07036490801417339, 0.04823501313742088, 0.1326462861279074, 0.04823501313742088, 0.09647002627484176, 0.09647002627484176, 0.0602937664217761, 0.02411750656871044, 0.36176259853065657, 0.0602937664217761, 0.07235251970613132, 1.0049952251948318, 0.11656617031232247, 0.058283085156161235, 0.029141542578080618, 0.6411139367177736, 0.058283085156161235, 0.08742462773424185, 0.8468166129614864, 0.16987741167007925, 0.8493870583503962, 0.010124893111957413, 0.5163695487098281, 0.010124893111957413, 0.1518733966793612, 0.020249786223914826, 0.10124893111957413, 0.17212318290327602, 0.020249786223914826, 0.09757106972058803, 0.16300108118027648, 0.09814501718953267, 0.07346527602491335, 0.08150054059013824, 0.08666606781063996, 0.08322238299697214, 0.09642317478269875, 0.15783555395977475, 0.06198632664602063, 0.13743040078244637, 0.0874557095888295, 0.037481018395212645, 0.037481018395212645, 0.037481018395212645, 0.4747595663393601, 0.04997469119361685, 0.037481018395212645, 0.07496203679042529, 0.012493672798404213, 0.9959465400471911, 1.0199044674549411, 0.9709267675917428, 1.0057731264427892, 0.8927358732166975, 0.1275336961738139, 0.2594562811916868, 0.6486407029792169, 0.0648640702979217, 0.936031327172469, 0.026684122916385028, 0.08005236874915508, 0.0933944302073476, 0.4536300895785455, 0.10673649166554011, 0.04002618437457754, 0.12007855312373263, 0.053368245832770056, 0.026684122916385028, 0.8378147839607325, 0.1675629567921465, 0.025917794293984817, 0.22716184410610224, 0.033540674968686235, 0.14940846122414778, 0.04116355564338765, 0.10367117717593927, 0.04421270791326822, 0.06860592607231275, 0.07775338288195445, 0.2302109963759828, 0.9961048005106781, 0.08589883374556985, 0.8589883374556985, 0.023145355734543006, 0.011572677867271503, 0.05786338933635751, 0.17359016800907254, 0.0347180336018145, 0.16201749014180103, 0.5091978261599461, 1.0464337843234475, 0.9701617175651683, 1.003289503756899, 0.9126315957623896, 0.08230865801386106, 0.020577164503465264, 0.5350062770900968, 0.12346298702079159, 0.08230865801386106, 0.020577164503465264, 0.16461731602772212, 0.020577164503465264, 1.0132709103687751, 0.9273111727536607, 0.9670729656892415, 1.004649921395609, 0.9615212535811417, 0.9439293040294395, 0.9178512274788297, 1.0143084745488304, 0.9672604463012275, 0.10376780712181831, 0.051883903560909155, 0.051883903560909155, 0.15565171068272746, 0.6226068427309098, 0.8934906587785846, 0.9672050661592324, 0.0846608860303403, 0.21707919494959052, 0.0937782122182231, 0.1602044458727978, 0.14110147671723383, 0.0712019759434657, 0.0160638604262697, 0.05426979873739763, 0.12113019078187151, 0.040376730260623835, 0.9093405600942547, 0.943407890614372, 0.13899092812386898, 0.12416522912398963, 0.10933953012411027, 0.17976160037353722, 0.08154134449933648, 0.05652297743704006, 0.08246795068682894, 0.092660618749246, 0.09636704349921583, 0.03891745987468332, 0.14194864544116761, 0.06799220832055929, 0.0703778998405789, 0.045328138880372855, 0.19204816736157973, 0.08230635744067702, 0.13240587936108913, 0.06679936256054947, 0.10616327264087326, 0.09423481504077515, 0.12380065606794431, 0.21994371875900745, 0.04609598896146863, 0.0908749496668953, 0.12643471258002822, 0.12248362781190235, 0.03424273465709098, 0.08297278013064353, 0.07638763885043373, 0.07902169536251764, 0.09141808438236124, 0.07064124702273368, 0.1495932289893184, 0.016621469887702044, 0.21400142480416381, 0.056097460870994396, 0.0789519819665847, 0.06856356328677093, 0.23893362963571688, 0.016621469887702044, 0.2267253359313945, 0.151150223954263, 0.5668133398284863, 0.03778755598856575, 0.15648781236586917, 0.07824390618293459, 0.07824390618293459, 0.7041951556464112, 0.1234286868878276, 0.4242861111769074, 0.023142878791467675, 0.06942863637440302, 0.038571464652446125, 0.10028580809635992, 0.05785719697866919, 0.11571439395733837, 0.04628575758293535, 0.7673627221058775, 0.19184068052646938, 0.11375636207570788, 0.3403131504113614, 0.0841223517870781, 0.06882737873488208, 0.1424344365485754, 0.0822104801555536, 0.03536962518320329, 0.07265112199793108, 0.0391933684462523, 0.021030587946769524, 0.9959615084780209, 0.11429828767682929, 0.04444933409654472, 0.08254876332215448, 0.08889866819308943, 0.0634990487093496, 0.12064819254776424, 0.10159847793495937, 0.03809942922560976, 0.01904971461280488, 0.3301950532886179, 0.8717250836162239, 0.9096566346684156, 0.9613430774862185, 0.9142752328287349, 0.9891331798771718, 0.03736432738325221, 0.03736432738325221, 0.03736432738325221, 0.03736432738325221, 0.11209298214975663, 0.03736432738325221, 0.6725578928985397, 0.9891074105576978, 0.22021500264149055, 0.09200763808993782, 0.09502428196173907, 0.13122400842335394, 0.09200763808993782, 0.13122400842335394, 0.07390777485913039, 0.06033287743602481, 0.06184119937192543, 0.043741336141117984, 0.9671673520383584, 0.9621147274347066, 0.9584409991443547, 0.1158449543097026, 0.20649548358829717, 0.13906334600503745, 0.1528955793554497, 0.08472242927127503, 0.10102470429140376, 0.020995354192590025, 0.058045979238337125, 0.07261922508966431, 0.04816581255947123, 1.0024399069329581, 0.09963341629367299, 0.7970673303493839, 0.21908669760461177, 0.10442450072743177, 0.12285235379697856, 0.03480816690914393, 0.06347371612843893, 0.05528355920864035, 0.18427853069546785, 0.12285235379697856, 0.05937863766853964, 0.032760627679194285, 0.9252218862639751, 0.1191920757513683, 0.015281035352739525, 0.13752931817465572, 0.08251759090479344, 0.32701415654862587, 0.07334896969314972, 0.1191920757513683, 0.08863000504588925, 0.01833724242328743, 0.015281035352739525, 0.13747429175902837, 0.08980732627474215, 0.10431466359604664, 0.024178895535507502, 0.0925706286216573, 0.08911650068801337, 0.16165318729453587, 0.1609623617078071, 0.09533393096857244, 0.04421283755064229, 0.996201693814822, 0.9724992410348755, 0.8670857198761507, 0.7879411640933037, 0.1750980364651786, 0.9228781329762964, 0.8836383352270841, 0.9341839036715104, 1.0232212700786902, 0.8775840621659212, 0.9857899903820795, 0.9098609366132955, 0.9890505471057525, 0.1648606565349717, 0.06539926870808795, 0.18121047371199367, 0.10899878118014657, 0.1321610221809277, 0.05994932964908062, 0.08583654017936543, 0.03269963435404397, 0.054499390590073284, 0.11172375070965024, 1.0123577967202213, 0.9280676787227695, 0.9890692275804438, 0.14444239886445542, 0.8666543931867324, 0.9098643699338878, 0.23145706660497806, 0.1345479396526134, 0.14168633516472956, 0.07744077555568425, 0.05883768422107854, 0.035475662545062056, 0.09085230651784186, 0.061000834376265245, 0.11918957355078777, 0.04975245356929435, 1.0042659297269323, 0.21094536892145524, 0.843781475685821, 0.9272646056093358, 0.0736938440089675, 0.147387688017935, 0.736938440089675, 0.9434189494887494, 1.019917954315133, 0.9961712396023927, 0.05940577624166758, 0.12338122757884805, 0.027418050573077345, 0.10967220229230938, 0.12795090267436093, 0.15765379079519473, 0.22391407968013166, 0.09824801455352715, 0.02970288812083379, 0.043411913407372466, 0.016761724910246696, 0.4609474350317842, 0.016761724910246696, 0.016761724910246696, 0.192759836467837, 0.025142587365370048, 0.07542776209611014, 0.15085552419222029, 0.03352344982049339, 1.0128124847633149, 0.05777696646849804, 0.0962949441141634, 0.05777696646849804, 0.019258988822832678, 0.05777696646849804, 0.06740646087991438, 0.37555028204523727, 0.06740646087991438, 0.1637014049940778, 0.038517977645665356, 0.06115714711663276, 0.12231429423326552, 0.14629748918096466, 0.2434294287191461, 0.06595378610617258, 0.1283100929701903, 0.06115714711663276, 0.04676723014801329, 0.0683521056009425, 0.05636050812709294, 0.1672851997077657, 0.062419850637226014, 0.2721505487783054, 0.13233008335091914, 0.07490382076467121, 0.05492946856075889, 0.10236855504505066, 0.03994870440782465, 0.07740061479016025, 0.017477558178423284, 0.9433326397049544, 0.04570028654508721, 0.2742017192705233, 0.5941037250861337, 0.04570028654508721, 1.0048131476778415, 0.8666599258893384, 0.1444433209815564, 0.9671771505905743, 0.9131945671196725, 0.861807399187533, 0.03806866553215227, 0.009517166383038067, 0.0285514991491142, 0.13324032936253294, 0.019034332766076134, 0.0571029982982284, 0.009517166383038067, 0.19034332766076134, 0.5139269846840556, 0.7161135067317673, 0.04475709417073546, 0.13427128251220635, 0.04475709417073546, 0.04475709417073546, 1.0031423775833246, 0.9709783374956236, 0.9393363935785768, 0.9131012308622254, 1.0228715991146997, 0.03905111114514666, 0.03905111114514666, 0.03905111114514666, 0.07810222229029332, 0.8200733340480798, 0.14646562295411958, 0.7323281147705979, 1.0231641412793142, 0.995845860740109, 0.9707942179106287, 0.09903253321418928, 0.02475813330354732, 0.09903253321418928, 0.02475813330354732, 0.02475813330354732, 0.02475813330354732, 0.1237906665177366, 0.5694370659815884, 0.960308354463765, 0.13835188236219367, 0.7609353529920652, 0.9708724226599329, 0.9709333031515702, 0.9094297327579367, 0.8566291021809291, 0.8396542099714029, 0.11995060142448613, 0.09627387128560781, 0.3015808016175666, 0.11019298520641857, 0.0417573417624323, 0.10555328056614832, 0.11367276368662127, 0.03247793248189179, 0.025518375521486406, 0.11483268984668883, 0.05915623416344576, 0.0900611522178215, 0.08295106125325666, 0.11139142511151608, 0.2938837598686807, 0.035550454822824276, 0.1137614554330377, 0.021330272893694567, 0.13509172832673227, 0.1019113038254296, 0.014220181929129713, 0.09248287859887544, 0.02312071964971886, 0.02312071964971886, 0.02312071964971886, 0.13872431789831316, 0.670500869841847, 0.20830322930474698, 0.0416606458609494, 0.062490968791424094, 0.0833212917218988, 0.0416606458609494, 0.0208303229304747, 0.5415883961923421, 0.03277020093928974, 0.06554040187857949, 0.1146957032875141, 0.049155301408934614, 0.03277020093928974, 0.14746590422680383, 0.06554040187857949, 0.01638510046964487, 0.4751679136197013, 0.9152795732279486, 0.9677762420448255, 0.8495107043919927, 0.19494594270551333, 0.1108516144796056, 0.04204716411295385, 0.02420897327715525, 0.11339992745614827, 0.19749425568205597, 0.061159511437023785, 0.186026847287614, 0.03312806869505455, 0.03695053815986853, 0.7679615812399665, 0.10970879731999522, 0.02454359114180452, 0.09203846678176694, 0.14112564906537597, 0.06749487563996243, 0.05522308006906017, 0.07363077342541355, 0.12885385349447373, 0.30065899148710534, 0.06749487563996243, 0.04908718228360904, 0.11940109671674352, 0.03582032901502306, 0.05820803464941247, 0.02089519192543012, 0.02089519192543012, 0.03582032901502306, 0.04776043868669741, 0.13432623380633646, 0.12835617897049928, 0.3985011602921315, 0.8710317070315099, 0.06408803340104097, 0.1848693271183874, 0.029579092338941987, 0.017254470531049493, 0.15529023477944542, 0.029579092338941987, 0.06901788212419797, 0.014789546169470993, 0.42150206582992333, 0.014789546169470993, 0.02775795778609325, 0.03499916416507409, 0.003620603189490424, 0.08166471638517289, 0.050286155409589216, 0.04867699843648236, 0.00643662789242742, 0.014884702001238408, 0.07522808849274547, 0.6561337557843201, 0.0397682351748883, 0.0397682351748883, 0.0795364703497766, 0.0397682351748883, 0.795364703497766, 0.10974949083864992, 0.05325851869589463, 0.015546561815853635, 0.14161224624341925, 0.08004170439845436, 0.04217582116380095, 0.11759973492388294, 0.20349064079760895, 0.08589090587372603, 0.15053997481093914, 0.9960330235356499, 0.9126880824911078, 0.22369714557949136, 0.04473942911589827, 0.08947885823179653, 0.04473942911589827, 0.6263520076225758, 0.1158484202785443, 0.11325549000852093, 0.15089928125011026, 0.09890176887089154, 0.12098797849234064, 0.11228314115726216, 0.0814920942007346, 0.07473195456817366, 0.08186251281073795, 0.04972869839294827, 0.9959582380261494, 1.0108261599467632, 0.21563806069072, 0.08757996321568493, 0.09861945437732587, 0.10524314907431045, 0.030910575252594677, 0.1162826402359514, 0.09788348829988315, 0.06550098089240301, 0.11554667415850868, 0.06697291304728847, 1.0143607066387486, 0.06974213798918875, 0.08545867612759749, 0.09479037064727766, 0.18123133040852568, 0.1193474614885413, 0.09135237792950075, 0.052061032583478925, 0.11541832695393912, 0.1394842759783775, 0.05156989076665365, 0.8458371033569201, 0.14097285055948666, 0.15038937177514264, 0.7519468588757132, 0.125469986608642, 0.12773070708807702, 0.07516895594121346, 0.09495026013626963, 0.12829588720793575, 0.11303602397174957, 0.10568868241358584, 0.07121269510220223, 0.0802555770199422, 0.07856003666036594, 0.21549570373765017, 0.08230738684424138, 0.15413928809012478, 0.19005523871306648, 0.05537042387703511, 0.031426456795073984, 0.07482489713112854, 0.09427937038522195, 0.05836341976228025, 0.04339844033605455, 0.8832430326070065, 0.12376583914691641, 0.07653940052506673, 0.14656480951608522, 0.09282437936018731, 0.08305339205911497, 0.1595927925841817, 0.11236635396233201, 0.05374043015589792, 0.07979639629209084, 0.0700254089910185, 0.14590494750040625, 0.4620323337512865, 0.20669867562557553, 0.012158745625033855, 0.1094287106253047, 0.02431749125006771, 0.02431749125006771, 0.012158745625033855, 0.8654266442623513, 0.12363237775176446, 0.15377851911865906, 0.05456657130016934, 0.044645376518320366, 0.07440896086386728, 0.12897553216403662, 0.3720448043193364, 0.014881792172773457, 0.04960597390924485, 0.0992119478184897, 0.01984238956369794, 0.06767300573335679, 0.1366228606314939, 0.11619327399500883, 0.08299519571072059, 0.24132449214347987, 0.07788779905159932, 0.02681383246038665, 0.09831738568808439, 0.14173025729061517, 0.010214793318242535, 0.8757875811000712, 0.05473672381875445, 0.08081434604572697, 0.1498022024262256, 0.08278542765659835, 0.10249624376531226, 0.12023597826315476, 0.03153730577394223, 0.1892238346436534, 0.12614922309576893, 0.03942163221742779, 0.0768721828239842, 0.03955729458633044, 0.05538021242086262, 0.1344948015935235, 0.15031771942805566, 0.05538021242086262, 0.05538021242086262, 0.04746875350359653, 0.0632916713381287, 0.03955729458633044, 0.36392711019424007, 0.9433272548425374, 0.9968935393280919, 0.17967295148286588, 0.08109133208518726, 0.2957448581930359, 0.1717228208862789, 0.11766193282948739, 0.027030444028395755, 0.03657060074430014, 0.058830966414743696, 0.031800522386347944, 0.0015900261193173974, 0.9406313026521864, 0.9891426094409873, 0.928844035097327, 0.9358130286082441, 0.912821002533268, 1.0231452234076954, 0.9960969995320806, 0.19967896752559255, 0.7987158701023702, 0.984297316179317, 0.8295959338244528, 0.0518497458640283, 0.0518497458640283, 1.0482344394630136, 0.8015418189308637, 0.18497118898404546, 0.04445761322869301, 0.053349135874431616, 0.03556609058295441, 0.4801422228698845, 0.12448131704034043, 0.14226436233181763, 0.026674567937215808, 0.09780674910312463, 0.02254764659570083, 0.09019058638280332, 0.6764293978710249, 0.09019058638280332, 0.02254764659570083, 0.04509529319140166, 0.02254764659570083], \"Term\": [\"  \", \"  \", \"  \", \"  \", \"  \", \"  \", \"  \", \"  \", \"  \", \"  \", \"   \", \"   \", \"   \", \"   \", \"   \", \"   \", \"   \", \"   \", \"   \", \"   \", \"    \", \"    \", \"    \", \"    \", \"    \", \"    \", \"    \", \"    \", \"    \", \"    \", \"             \", \"             \", \"             \", \"-blinde\", \"1-no\", \"1-no\", \"147\", \"150\", \"150\", \"150\", \"1800\", \"2-no\", \"2-no\", \"2400\", \"2500\", \"2500\", \"260\", \"3-los\", \"3-los\", \"320\", \"33%\", \"4-la\", \"4-la\", \"5-\", \"5-la\", \"5-la\", \"50mil\", \"6-\", \"6-duque\", \"6-duque\", \"8000\", \"aberrado\", \"abrazar\", \"abrazar\", \"abrirle\", \"abrirle\", \"abrirle\", \"acabar\", \"acabar\", \"acabar\", \"acabar\", \"acabar\", \"acabar\", \"acabar\", \"acabar\", \"acabar\", \"acabar\", \"acechar\", \"aceptable\", \"activamente\", \"actuar\", \"actuar\", \"actuar\", \"actuar\", \"actuar\", \"actuar\", \"actuar\", \"actuar\", \"actuar\", \"ac\\u00e1\", \"ac\\u00e1\", \"ac\\u00e1\", \"ac\\u00e1\", \"ac\\u00e1\", \"ac\\u00e1\", \"ac\\u00e1\", \"ac\\u00e1\", \"ac\\u00e1\", \"ac\\u00e1\", \"adentrar\", \"admirar\", \"admirar\", \"admirar\", \"adue\\u00f1arse\", \"adue\\u00f1arse\", \"adue\\u00f1arse\", \"adue\\u00f1arse\", \"advertido\", \"aga\", \"ahora\", \"ahora\", \"ahora\", \"ahora\", \"ahora\", \"ahora\", \"ahora\", \"ahora\", \"ahora\", \"ahora\", \"aire\", \"aire\", \"aire\", \"aire\", \"aire\", \"aire\", \"aire\", \"aire\", \"aislamiento\", \"aislamiento\", \"aislamiento\", \"aislamiento\", \"ajajaja\", \"ajajajajaj\", \"allanar\", \"allanar\", \"alludas\", \"alterar\", \"alterar\", \"alterar\", \"amarrarse\", \"amaz\\u00f3nico\", \"analizalo\", \"and\", \"and\", \"andresiniesta\", \"anotar\", \"antemano\", \"anteponer\", \"an\\u00f3nimo\", \"apag\\u00f3n\", \"aparicion\", \"apertura\", \"apestar\", \"aporofobia\", \"aporofobia\", \"aporofobia\", \"aprendido\", \"aprovechar\", \"aprovechar\", \"aprovechar\", \"aprovechar\", \"aprovechar\", \"aprovechar\", \"aprovechar\", \"aprovechar\", \"aprovechar\", \"aquii\", \"aqu\\u00ed\", \"aqu\\u00ed\", \"aqu\\u00ed\", \"aqu\\u00ed\", \"aqu\\u00ed\", \"aqu\\u00ed\", \"aqu\\u00ed\", \"aqu\\u00ed\", \"aqu\\u00ed\", \"aqu\\u00ed\", \"ar\", \"armas\", \"armas\", \"armas\", \"armas\", \"armas\", \"armas\", \"armas\", \"armas\", \"armas\", \"armas\", \"arquero\", \"arquero\", \"arraigado\", \"arraigo\", \"arrendatario\", \"arrendatario\", \"arribar\", \"art\", \"asesores\", \"asignarle\", \"asociado\", \"as\\u00ed\", \"as\\u00ed\", \"as\\u00ed\", \"as\\u00ed\", \"as\\u00ed\", \"as\\u00ed\", \"as\\u00ed\", \"as\\u00ed\", \"as\\u00ed\", \"as\\u00ed\", \"as\\u00eds\", \"atendio\", \"aumentarlos\", \"autoridadse\", \"avisp\\u00f3n\", \"back\", \"baile\", \"bajar\", \"bajar\", \"bajar\", \"bajar\", \"bajar\", \"bajar\", \"bajar\", \"bajar\", \"bajar\", \"bajar\", \"bajenle\", \"balacera\", \"barbaridad\", \"ba\\u00f1ar\", \"ba\\u00f1ar\", \"bendecir\", \"bendecir\", \"bene\", \"berna\", \"besar\", \"bgta\", \"bgta\", \"bicho\", \"bicitaxismicro\", \"bien\", \"bien\", \"bien\", \"bien\", \"bien\", \"bien\", \"bien\", \"bien\", \"bien\", \"bien\", \"bikini\", \"bisicletas\", \"bla\", \"bla\", \"bla\", \"bla\", \"blanquita\", \"bobo\", \"bobo\", \"bobo\", \"bobo\", \"bobo\", \"bobo\", \"bobo\", \"bogot\\u00e1\", \"bogot\\u00e1\", \"bogot\\u00e1\", \"bogot\\u00e1\", \"bogot\\u00e1\", \"bogot\\u00e1\", \"bogot\\u00e1\", \"bogot\\u00e1\", \"bogot\\u00e1\", \"bogot\\u00e1\", \"boleto\", \"bomba\", \"bomba\", \"bomba\", \"bomba\", \"bomba\", \"bomba\", \"bomba\", \"bomba\", \"bomba\", \"borges\", \"boy\", \"boyacense\", \"boyacense\", \"boyac\\u00e1\", \"boyac\\u00e1\", \"boyac\\u00e1\", \"boyac\\u00e1\", \"boyac\\u00e1\", \"branse\", \"broma\", \"brujas\", \"brutalmente\", \"bueno\", \"bueno\", \"bueno\", \"bueno\", \"bueno\", \"bueno\", \"bueno\", \"bueno\", \"bueno\", \"bueno\", \"bullero\", \"bumangueses\", \"burda\", \"burocr\\u00e1tico\", \"burrada\", \"but\", \"cachupe\", \"cada\", \"cada\", \"cada\", \"cada\", \"cada\", \"cada\", \"cada\", \"cada\", \"cada\", \"cada\", \"cagon\", \"cali\", \"cali\", \"cali\", \"cali\", \"cali\", \"cali\", \"cali\", \"cali\", \"cali\", \"cali\", \"callate\", \"callese\", \"callese\", \"callese\", \"callese\", \"callese\", \"camarera\", \"cambiar\", \"cambiar\", \"cambiar\", \"cambiar\", \"cambiar\", \"cambiar\", \"cambiar\", \"cambiar\", \"cambiar\", \"cambiar\", \"camion\", \"canalla\", \"cangreburguer\", \"canserbero\", \"canserbero\", \"cansones\", \"capricho\", \"capucho\", \"caracter\", \"caracter\", \"caracter\", \"cariaco\", \"cariaco\", \"cariaco\", \"cariaco\", \"cariaco\", \"caro\", \"caro\", \"caro\", \"caro\", \"caro\", \"caro\", \"caro\", \"caro\", \"caro\", \"ca\\u00edda\", \"cegar\", \"censar\", \"censurar\", \"cerra\", \"cerrar\", \"cerrar\", \"cerrar\", \"cerrar\", \"cerrar\", \"cerrar\", \"cerrar\", \"cerrar\", \"cerrar\", \"cerrar\", \"chaburras\", \"chancleta\", \"chernobyl\", \"chirrete\", \"choc\\u00f3\", \"choc\\u00f3\", \"choc\\u00f3\", \"choc\\u00f3\", \"chovinista\", \"churrias\", \"ciclas\", \"cicr\", \"ciertoy\", \"cintura\", \"cintura\", \"ciudad\", \"ciudad\", \"ciudad\", \"ciudad\", \"ciudad\", \"ciudad\", \"ciudad\", \"ciudad\", \"ciudad\", \"ciudad\", \"ciudadano\", \"ciudadano\", \"ciudadano\", \"ciudadano\", \"ciudadano\", \"ciudadano\", \"ciudadano\", \"ciudadano\", \"ciudadano\", \"ciudadano\", \"ciudadse\", \"claro\", \"claro\", \"claro\", \"claro\", \"claro\", \"claro\", \"claro\", \"claro\", \"claro\", \"claro\", \"claudia\", \"claudia\", \"claudia\", \"claudia\", \"claudia\", \"claudia\", \"claudia\", \"claudia\", \"claudia\", \"claudia\", \"colapsar\", \"colapsar\", \"colapsar\", \"colapsar\", \"colapsar\", \"colapsar\", \"colapsar\", \"colombia\", \"colombia\", \"colombia\", \"colombia\", \"colombia\", \"colombia\", \"colombia\", \"colombia\", \"colombia\", \"colombia\", \"colombiabandas\", \"colombiano\", \"colombiano\", \"colombiano\", \"colombiano\", \"colombiano\", \"colombiano\", \"colombiano\", \"colombiano\", \"colombiano\", \"colombiano\", \"colombiche\", \"comer\", \"comer\", \"comer\", \"comer\", \"comer\", \"comer\", \"comer\", \"comer\", \"comer\", \"comer\", \"competencia\", \"competencia\", \"competencia\", \"competencia\", \"complementar\", \"compradas\", \"comunal\", \"cond\\u00f3n\", \"confirmado\", \"confirmado\", \"confundido\", \"congresistas\", \"congresistas\", \"congresistas\", \"congresistas\", \"congresistas\", \"conjunto\", \"conjunto\", \"conjunto\", \"conjunto\", \"conjunto\", \"conjunto\", \"conjunto\", \"conjunto\", \"conjunto\", \"consciencia\", \"conservador\", \"contigo\", \"contigo\", \"contigo\", \"contigo\", \"contigo\", \"continuidad\", \"contradecir\", \"contradecir\", \"corderito\", \"corre\", \"correlaci\\u00f3n\", \"corriente\", \"cos\", \"cosa\", \"cosa\", \"cosa\", \"cosa\", \"cosa\", \"cosa\", \"cosa\", \"cosa\", \"cosa\", \"cosa\", \"costear\", \"coste\\u00f1o\", \"coste\\u00f1o\", \"coste\\u00f1o\", \"coste\\u00f1o\", \"coste\\u00f1o\", \"coste\\u00f1o\", \"coste\\u00f1o\", \"coste\\u00f1o\", \"coste\\u00f1o\", \"coste\\u00f1o\", \"creer\", \"creer\", \"creer\", \"creer\", \"creer\", \"creer\", \"creer\", \"creer\", \"creer\", \"creer\", \"criar\", \"criminalizar\", \"critica\", \"cruda\", \"cruda\", \"cruda\", \"cr\\u00edminales\", \"cr\\u00edminales\", \"cuadrito\", \"cuadrito\", \"cuadrito\", \"cuadrito\", \"cuadrito\", \"cuadrito\", \"cuatro\", \"cuatro\", \"cuatro\", \"cuatro\", \"cucharas\", \"cuidador\", \"culear\", \"culear\", \"culear\", \"culpa\", \"culpa\", \"culpa\", \"culpa\", \"culpa\", \"culpa\", \"culpa\", \"culpa\", \"culpa\", \"culpa\", \"curies\", \"cuyos\", \"cu\\u00e1ntos\", \"cu\\u00e1ntos\", \"cu\\u00e1ntos\", \"cu\\u00e1ntos\", \"cu\\u00e1ntos\", \"cu\\u00f1ada\", \"c\\u00e1llate\", \"c\\u00e1llate\", \"da\", \"da\", \"da\", \"da\", \"da\", \"da\", \"da\", \"da\", \"da\", \"da\", \"dar\", \"dar\", \"dar\", \"dar\", \"dar\", \"dar\", \"dar\", \"dar\", \"dar\", \"dar\", \"da\\u00f1o\", \"da\\u00f1o\", \"da\\u00f1o\", \"da\\u00f1o\", \"da\\u00f1o\", \"da\\u00f1o\", \"da\\u00f1o\", \"da\\u00f1o\", \"da\\u00f1o\", \"da\\u00f1o\", \"debate\", \"debate\", \"debate\", \"deben\", \"deben\", \"deben\", \"deben\", \"deben\", \"deben\", \"deben\", \"deben\", \"deben\", \"deben\", \"deberiamos\", \"debiera\", \"debieran\", \"deb\\u00eda\", \"decir\", \"decir\", \"decir\", \"decir\", \"decir\", \"decir\", \"decir\", \"decir\", \"decir\", \"decir\", \"deducir\", \"defenderse\", \"defenderse\", \"degollar\", \"dejar\", \"dejar\", \"dejar\", \"dejar\", \"dejar\", \"dejar\", \"dejar\", \"dejar\", \"dejar\", \"dejar\", \"deliberadamente\", \"delicar\", \"delincuente\", \"delincuente\", \"delincuente\", \"delincuente\", \"delincuente\", \"delincuente\", \"delincuente\", \"delincuente\", \"delincuente\", \"delincuente\", \"delincuentes\", \"delincuentes\", \"delincuentes\", \"delincuentes\", \"delincuentes\", \"delincuentes\", \"delincuentes\", \"delincuentes\", \"delincuentes\", \"delincuentes\", \"delinquiendoasesinar\", \"delinquir\", \"delinquir\", \"delinquir\", \"delinquir\", \"delinquir\", \"delinquir\", \"delinquir\", \"delinquir\", \"delinquir\", \"delinquir\", \"delinquirque\", \"deme\", \"depender\", \"depender\", \"deportar\", \"deportar\", \"deportar\", \"deportar\", \"deportar\", \"deportar\", \"deportar\", \"deportar\", \"deportar\", \"deportar\", \"deprimente\", \"dep\\u00f3rtelos\", \"desamparado\", \"desarmado\", \"desayunar\", \"descolombianizar\", \"desencadenar\", \"desestimar\", \"desfavorable\", \"desinfeccion\", \"desnutrici\\u00f3n\", \"desnutrici\\u00f3n\", \"desorientado\", \"despavoridas\", \"destilar\", \"destruccion\", \"destruida\", \"detestable\", \"difamar\", \"difundir\", \"difundir\", \"difundir\", \"difunto\", \"diganlo\", \"diganlo\", \"diganlo\", \"diligente\", \"dios\", \"dios\", \"dios\", \"dios\", \"dios\", \"dios\", \"dios\", \"dios\", \"dios\", \"dios\", \"diploma\", \"dirada\", \"direccionar\", \"discordia\", \"discusion\", \"dise\\u00f1o\", \"distinguir\", \"distinguir\", \"distinguir\", \"distinguir\", \"distinguir\", \"distinguir\", \"distinguir\", \"divaza\", \"dividir\", \"dividir\", \"dividir\", \"dm\", \"dolar\", \"dolar\", \"dolar\", \"dolar\", \"dolar\", \"dolar\", \"dolar\", \"dolar\", \"dolar\", \"dolar\", \"dominicano\", \"donkin\", \"donuts\", \"dram\\u00e1tico\", \"drasticas\", \"duque\", \"duque\", \"duque\", \"duque\", \"duque\", \"duque\", \"duque\", \"duque\", \"duque\", \"duque\", \"durden\", \"duroo\", \"d\\u00eda\", \"d\\u00eda\", \"d\\u00eda\", \"d\\u00eda\", \"d\\u00eda\", \"d\\u00eda\", \"d\\u00eda\", \"d\\u00eda\", \"d\\u00eda\", \"d\\u00eda\", \"d\\u00edganle\", \"echados\", \"ech\\u00e1ndole\", \"edtos\", \"educaci\\u00f3n\", \"educaci\\u00f3n\", \"educaci\\u00f3n\", \"educaci\\u00f3n\", \"educaci\\u00f3n\", \"educaci\\u00f3n\", \"educaci\\u00f3n\", \"educaci\\u00f3n\", \"educaci\\u00f3n\", \"educaci\\u00f3n\", \"eficaz\", \"elevado\", \"elpuente\", \"embarazo\", \"embarazo\", \"embarazo\", \"embarazo\", \"embarazo\", \"emergencia\", \"emergencia\", \"emergencia\", \"emergencia\", \"emergencia\", \"emergencia\", \"emergencia\", \"emergencia\", \"emergencia\", \"emergente\", \"empezar\", \"empezar\", \"empezar\", \"empezar\", \"empezar\", \"empezar\", \"empezar\", \"empezar\", \"empezar\", \"empezar\", \"energ\\u00fameno\", \"enpezar\", \"entonces\", \"entonces\", \"entonces\", \"entonces\", \"entonces\", \"entonces\", \"entonces\", \"entonces\", \"entonces\", \"entonces\", \"entrada\", \"entrada\", \"entrada\", \"entrada\", \"entrada\", \"entrada\", \"entrada\", \"entrada\", \"entrada\", \"entrada\", \"entrar\", \"entrar\", \"entrar\", \"entrar\", \"entrar\", \"entrar\", \"entrar\", \"entrar\", \"entrar\", \"entrar\", \"entreguenlo\", \"escasamente\", \"escolar\", \"escriba\", \"escritora\", \"escritora\", \"escrupuloso\", \"escuchar\", \"escuchar\", \"escuchar\", \"escuchar\", \"escuchar\", \"escuchar\", \"escuchar\", \"escuchar\", \"escuchar\", \"escuchar\", \"esperamossacan\", \"esque\", \"esquinaque\", \"estancia\", \"estigma\", \"estigmatizar\", \"estigmatizar\", \"estigmatizar\", \"estigmatizar\", \"estigmatizar\", \"estigmatizar\", \"estigmatizar\", \"estigmatizar\", \"estigmatizar\", \"estigmatizar\", \"estresar\", \"ests\", \"ests\", \"exceder\", \"excelente\", \"excelente\", \"excelente\", \"excelente\", \"excelente\", \"excelente\", \"excelente\", \"excelente\", \"exportar\", \"exportar\", \"exportar\", \"expreso\", \"expulsados\", \"expulsados\", \"expulsados\", \"expulsados\", \"expulsados\", \"expulsados\", \"expulsados\", \"expulsar\", \"expulsar\", \"expulsar\", \"expulsar\", \"expulsar\", \"expulsar\", \"expulsar\", \"expulsar\", \"expulsar\", \"expulsar\", \"exterm\\u00ednelos\", \"extranjero\", \"extranjero\", \"extranjero\", \"extranjero\", \"extranjero\", \"extranjero\", \"extranjero\", \"extranjero\", \"extranjero\", \"extranjero\", \"extranjeros\", \"extranjeros\", \"extranjeros\", \"extranjeros\", \"extranjeros\", \"extranjeros\", \"extranjeros\", \"extranjeros\", \"extranjeros\", \"extranjeros\", \"extremista\", \"ex\\u00edjanle\", \"face\", \"fachada\", \"factor\", \"factor\", \"factor\", \"factor\", \"factor\", \"factor\", \"fallido\", \"familias-venezolanas-y-cartageneras-invaden-terreno-y-construyen-ranchitos-con-palitos-del-monte\", \"farianos\", \"farias\", \"fari\\u00f1ez\", \"fari\\u00f1ez\", \"fastidiado\", \"fastidio\", \"fastidio\", \"fastidio\", \"fastidio\", \"fastidio\", \"fastidio\", \"fastidio\", \"fastidio\", \"favor\", \"favor\", \"favor\", \"favor\", \"favor\", \"favor\", \"favor\", \"favor\", \"favor\", \"favor\", \"favorest\\u00e1n\", \"fernanda\", \"ff\", \"fijo\", \"fijo\", \"fijo\", \"fijo\", \"fijo\", \"fijo\", \"filo\", \"forzar\", \"fraudulento\", \"frontera\", \"frontera\", \"frontera\", \"frontera\", \"frontera\", \"frontera\", \"frontera\", \"frontera\", \"frontera\", \"frontera\", \"frotera\", \"fufurufa\", \"fumigacion\", \"fundillo\", \"futbol\", \"f\\u00e1brica\", \"f\\u00e1brica\", \"f\\u00e1brica\", \"f\\u00f3rmula\", \"gam\\u00edn\", \"gam\\u00edn\", \"gam\\u00edn\", \"gam\\u00edn\", \"gam\\u00edn\", \"gam\\u00edn\", \"gam\\u00edn\", \"gana\", \"gana\", \"gana\", \"gana\", \"gana\", \"gana\", \"gana\", \"gana\", \"gana\", \"gana\", \"gancho\", \"garbanzo\", \"garrote\", \"generar\", \"generar\", \"generar\", \"generar\", \"generar\", \"generar\", \"generar\", \"generar\", \"generar\", \"gente\", \"gente\", \"gente\", \"gente\", \"gente\", \"gente\", \"gente\", \"gente\", \"gente\", \"gente\", \"germ\\u00e1n\", \"gestionar\", \"gestionar\", \"gobierno\", \"gobierno\", \"gobierno\", \"gobierno\", \"gobierno\", \"gobierno\", \"gobierno\", \"gobierno\", \"gobierno\", \"gobierno\", \"goma\", \"gonorrea\", \"gonorrea\", \"gonorrea\", \"gonorrea\", \"gonorrea\", \"gonorrea\", \"gonorrea\", \"gonorrea\", \"gonorrea\", \"gonorrea\", \"grabado\", \"gran\", \"gran\", \"gran\", \"gran\", \"gran\", \"gran\", \"gran\", \"gran\", \"gran\", \"gran\", \"gratis\", \"gratis\", \"gratis\", \"gratis\", \"gratis\", \"gratis\", \"gratis\", \"gratis\", \"gratis\", \"gratis\", \"grupitos\", \"guaidog\", \"guajira\", \"guajira\", \"guajira\", \"guajira\", \"guajira\", \"guajira\", \"guajira\", \"guajira\", \"guajira\", \"guajira\", \"guardado\", \"gubernamental\", \"gubernamental\", \"gubernamental\", \"gubernamental\", \"guerrero\", \"habladera\", \"hablar\", \"hablar\", \"hablar\", \"hablar\", \"hablar\", \"hablar\", \"hablar\", \"hablar\", \"hablar\", \"hablar\", \"habra\", \"hacendar\", \"hacendar\", \"hacendar\", \"hacendar\", \"hacendar\", \"hacendar\", \"hacendar\", \"hacendar\", \"hacendar\", \"hacendar\", \"hacer\", \"hacer\", \"hacer\", \"hacer\", \"hacer\", \"hacer\", \"hacer\", \"hacer\", \"hacer\", \"hacer\", \"hait\\u00ed\", \"hambre\", \"hambre\", \"hambre\", \"hambre\", \"hambre\", \"hambre\", \"hambre\", \"hambre\", \"hambre\", \"hambre\", \"hamburgu\\u00e9s\", \"hamp\\u00f3n\", \"hamp\\u00f3n\", \"hamp\\u00f3n\", \"hamp\\u00f3n\", \"hamp\\u00f3n\", \"hamp\\u00f3n\", \"hamp\\u00f3n\", \"hamp\\u00f3n\", \"hamp\\u00f3n\", \"hamp\\u00f3n\", \"hcer\", \"hegem\\u00f3nico\", \"hermano\", \"hermano\", \"hermano\", \"hermano\", \"hermano\", \"hermano\", \"hermano\", \"hermano\", \"hermano\", \"hermano\", \"hijo\", \"hijo\", \"hijo\", \"hijo\", \"hijo\", \"hijo\", \"hijo\", \"hijo\", \"hijo\", \"hijo\", \"hijueputa\", \"hijueputa\", \"hijueputa\", \"hijueputa\", \"hijueputa\", \"hijueputa\", \"hijueputa\", \"hijueputa\", \"hijueputa\", \"hijueputa\", \"hijueputaas\", \"hijueputas\", \"hijueputas\", \"hijueputas\", \"hijueputas\", \"hijueputas\", \"hijueputas\", \"hijueputas\", \"hijueputas\", \"hijueputas\", \"hijueputas\", \"hijueputass\", \"hijueputass\", \"hijuepuuta\", \"hjpts\", \"hogar\", \"hogar\", \"hogar\", \"hogar\", \"hogar\", \"hogar\", \"hoo\", \"hora\", \"hora\", \"hora\", \"hora\", \"hora\", \"hora\", \"hora\", \"hora\", \"hora\", \"hora\", \"horario\", \"hp\", \"hp\", \"hp\", \"hp\", \"hp\", \"hp\", \"hp\", \"hp\", \"hp\", \"hp\", \"hpp\", \"hps\", \"hps\", \"hps\", \"hps\", \"hps\", \"hps\", \"hps\", \"hps\", \"hps\", \"hps\", \"hpta\", \"hpta\", \"hpta\", \"hpta\", \"hpta\", \"hpta\", \"hpta\", \"hpta\", \"hpta\", \"hpta\", \"hptas\", \"hptas\", \"hptas\", \"hptas\", \"hptas\", \"hptas\", \"hptas\", \"hptas\", \"hptas\", \"hptas\", \"hpts\", \"hpts\", \"hpts\", \"hpts\", \"hpts\", \"hpts\", \"hpts\", \"hpts\", \"huele\", \"huele\", \"huele\", \"huele\", \"huev\\u00f3n\", \"huev\\u00f3n\", \"hummbueno\", \"importar\", \"importar\", \"importar\", \"importar\", \"importar\", \"importar\", \"importar\", \"importar\", \"importar\", \"importar\", \"inadaptado\", \"incendiario\", \"incomodar\", \"incomodar\", \"incomodar\", \"incomodar\", \"inconformes\", \"incorporaci\\u00f3n\", \"incre\\u00edble\", \"incre\\u00edble\", \"incre\\u00edble\", \"incre\\u00edble\", \"incre\\u00edble\", \"incre\\u00edble\", \"incre\\u00edble\", \"incre\\u00edble\", \"incre\\u00edble\", \"indicaci\\u00f3n\", \"indicaci\\u00f3n\", \"indicaci\\u00f3n\", \"indicador\", \"indicador\", \"indicador\", \"indicio\", \"ineptos\", \"ineptos\", \"ineptos\", \"ineptos\", \"infulas\", \"iniciativo\", \"inmaculados\", \"inmortal\", \"innombrables\", \"inseguridad\", \"inseguridad\", \"inseguridad\", \"inseguridad\", \"inseguridad\", \"inseguridad\", \"inseguridad\", \"inseguridad\", \"inseguridad\", \"inseguridad\", \"insulto\", \"insulto\", \"insulto\", \"insulto\", \"insulto\", \"internamente\", \"internet\", \"internet\", \"intimidaci\\u00f3n\", \"invadirdesestabilizarexigirgrupos\", \"invadirnos\", \"ir\", \"ir\", \"ir\", \"ir\", \"ir\", \"ir\", \"ir\", \"ir\", \"ir\", \"ir\", \"irradiar\", \"izq\", \"izquierdoso\", \"ja\", \"ja\", \"ja\", \"ja\", \"ja\", \"ja\", \"ja\", \"jajaja\", \"jajaja\", \"jajaja\", \"jajaja\", \"jajaja\", \"jajaja\", \"jajaja\", \"jajaja\", \"jajaja\", \"jajaja\", \"jajajaja\", \"jajajaja\", \"jajajaja\", \"jajajaja\", \"jajajaja\", \"jajajaja\", \"jajajaja\", \"jajajaja\", \"jajajaja\", \"jajajaja\", \"jajajajajaja\", \"jajajajajaja\", \"jajajajajaja\", \"jajajajajaja\", \"jajajajajaja\", \"jajajajajaja\", \"jajajajajaja\", \"jajajajajaja\", \"jajajajajaja\", \"jajajajajaja\", \"jajajajajajaja\", \"jajajajajajaja\", \"jajajajajajaja\", \"jajajajajajaja\", \"jajajajajajaja\", \"jajajajajajajajajajajjajajajajajajajaja\", \"jajajajajajja\", \"jajajajjajajajajajajjaja\", \"jajajjaa\", \"jakomel\", \"je\", \"jmm\", \"joder\", \"joder\", \"joder\", \"joder\", \"joder\", \"joder\", \"joder\", \"joder\", \"joder\", \"joder\", \"jodido\", \"jodido\", \"jodido\", \"jodido\", \"jodido\", \"jodido\", \"jodido\", \"jodido\", \"jodido\", \"jodido\", \"jordan\", \"jueputa\", \"jueputa\", \"jueputa\", \"jueputa\", \"jueputaa\", \"junior\", \"junior\", \"junior\", \"junior\", \"junior\", \"junior\", \"justo\", \"justo\", \"justo\", \"justo\", \"justo\", \"justo\", \"justo\", \"justo\", \"justo\", \"j\\u00e1\", \"labio\", \"ladr\\u00f3n\", \"ladr\\u00f3n\", \"ladr\\u00f3n\", \"ladr\\u00f3n\", \"ladr\\u00f3n\", \"ladr\\u00f3n\", \"ladr\\u00f3n\", \"ladr\\u00f3n\", \"ladr\\u00f3n\", \"ladr\\u00f3n\", \"lamezuelas\", \"lance\", \"largate\", \"librar\", \"librar\", \"librar\", \"libreto\", \"ligadura\", \"like\", \"like\", \"like\", \"like\", \"llegar\", \"llegar\", \"llegar\", \"llegar\", \"llegar\", \"llegar\", \"llegar\", \"llegar\", \"llegar\", \"llegar\", \"llegarle\", \"llenitas\", \"llevarse\", \"llevarse\", \"llevarse\", \"llevarse\", \"llevarse\", \"llevarse\", \"llevarse\", \"llevarse\", \"llev\\u00e1rselo\", \"ll\\u00e1menlo\", \"lobo\", \"luisito\", \"l\\u00e1grima\", \"l\\u00f3pez\", \"l\\u00f3pez\", \"l\\u00f3pez\", \"l\\u00f3pez\", \"l\\u00f3pez\", \"l\\u00f3pez\", \"l\\u00f3pez\", \"l\\u00f3pez\", \"l\\u00f3pez\", \"l\\u00f3pez\", \"m19\", \"magn\\u00edfico\", \"mal\", \"mal\", \"mal\", \"mal\", \"mal\", \"mal\", \"mal\", \"mal\", \"mal\", \"mal\", \"maldito\", \"maldito\", \"maldito\", \"maldito\", \"maldito\", \"maldito\", \"maldito\", \"maldito\", \"maldito\", \"maldito\", \"maleducado\", \"malnacido\", \"malnacido\", \"malo\", \"malo\", \"malo\", \"malo\", \"malo\", \"malo\", \"malo\", \"malo\", \"malo\", \"malo\", \"malparido\", \"malparido\", \"malparido\", \"malparido\", \"malparido\", \"malparido\", \"malparido\", \"malparido\", \"malparido\", \"malparido\", \"mamado\", \"mamado\", \"mamado\", \"mamado\", \"mamado\", \"mamado\", \"mamado\", \"mamado\", \"mamado\", \"mamado\", \"mamadosaburridos\", \"mamahuevos\", \"maniatado\", \"mano\", \"mano\", \"mano\", \"mano\", \"mano\", \"mano\", \"mano\", \"mano\", \"mano\", \"mano\", \"man\\u00ed\", \"marcado\", \"marchar\", \"marchar\", \"marchar\", \"marchar\", \"marchar\", \"marchar\", \"marchar\", \"marchar\", \"marchar\", \"mas\", \"mas\", \"mas\", \"mas\", \"mas\", \"mas\", \"mas\", \"mas\", \"mas\", \"mas\", \"masaje\", \"master\", \"matadero\", \"matar\", \"matar\", \"matar\", \"matar\", \"matar\", \"matar\", \"matar\", \"matar\", \"matar\", \"matar\", \"matarse\", \"mat\\u00e1ndonos\", \"mayor\\u00eda\", \"mayor\\u00eda\", \"mayor\\u00eda\", \"mayor\\u00eda\", \"mayor\\u00eda\", \"mayor\\u00eda\", \"mayor\\u00eda\", \"mayor\\u00eda\", \"mayor\\u00eda\", \"mayor\\u00eda\", \"mca\", \"medallo\", \"medido\", \"medido\", \"medido\", \"medido\", \"medido\", \"medido\", \"medido\", \"medido\", \"medido\", \"medido\", \"mega\", \"mejor\", \"mejor\", \"mejor\", \"mejor\", \"mejor\", \"mejor\", \"mejor\", \"mejor\", \"mejor\", \"mejor\", \"menguar\", \"meno\", \"mesera\", \"meter\", \"meter\", \"meter\", \"meter\", \"meter\", \"meter\", \"meter\", \"meter\", \"meter\", \"meter\", \"metersen\", \"metrolinea\", \"mierda\", \"mierda\", \"mierda\", \"mierda\", \"mierda\", \"mierda\", \"mierda\", \"mierda\", \"mierda\", \"mierda\", \"migrante\", \"migrante\", \"migrante\", \"migrante\", \"migrante\", \"migrante\", \"migrante\", \"migrante\", \"migrante\", \"migrante\", \"milloneshora\", \"misericordioso\", \"mismo\", \"mismo\", \"mismo\", \"mismo\", \"mismo\", \"mismo\", \"mismo\", \"mismo\", \"mismo\", \"mismo\", \"mit\\u00f3mano\", \"mlp\", \"mlp\", \"mocho\", \"mojon\", \"monta\", \"monta\", \"mon\\u00f3mero\", \"morir\", \"morir\", \"morir\", \"morir\", \"morir\", \"morir\", \"morir\", \"morir\", \"morir\", \"morir\", \"moriran\", \"motocarro\", \"motoen\", \"muertos\", \"muertos\", \"muertos\", \"muertos\", \"muertos\", \"muertos\", \"muertos\", \"muertos\", \"muertos\", \"mugroso\", \"mugroso\", \"mujer\", \"mujer\", \"mujer\", \"mujer\", \"mujer\", \"mujer\", \"mujer\", \"mujer\", \"mujer\", \"mujer\", \"multitud\", \"multitud\", \"multitud\", \"mutante\", \"muu\", \"nadien\", \"narcopoliticos\", \"negarlo\", \"ni\", \"ni\", \"ni\", \"ni\", \"ni\", \"ni\", \"ni\", \"ni\", \"ni\", \"ni\", \"nicol\\u00e1s\", \"ni\\u00f1o\", \"ni\\u00f1o\", \"ni\\u00f1o\", \"ni\\u00f1o\", \"ni\\u00f1o\", \"ni\\u00f1o\", \"ni\\u00f1o\", \"ni\\u00f1o\", \"ni\\u00f1o\", \"ni\\u00f1o\", \"no\", \"no\", \"no\", \"no\", \"no\", \"no\", \"no\", \"no\", \"no\", \"no\", \"nobleza\", \"nocturno\", \"noguera\", \"noticiero\", \"noticiero\", \"noticiero\", \"noticiero\", \"noticiero\", \"noticiero\", \"noticiero\", \"nutrir\", \"obama\", \"obligacion\", \"obra\", \"obra\", \"obra\", \"obra\", \"obra\", \"obra\", \"obra\", \"obra\", \"obrar\", \"odio\", \"odio\", \"odio\", \"odio\", \"odio\", \"odio\", \"odio\", \"odio\", \"odio\", \"odio\", \"ojal\\u00e1\", \"ojal\\u00e1\", \"ojal\\u00e1\", \"ojal\\u00e1\", \"ojal\\u00e1\", \"ojal\\u00e1\", \"ojal\\u00e1\", \"ojal\\u00e1\", \"ojal\\u00e1\", \"ojal\\u00e1\", \"ojo\", \"ojo\", \"ojo\", \"ojo\", \"ojo\", \"ojo\", \"ojo\", \"ojo\", \"ojo\", \"ojo\", \"oluc\", \"ongs\", \"operario\", \"oportuno\", \"oportuno\", \"organicense\", \"others\", \"otorque\", \"oyente\", \"oyente\", \"p*tas\", \"pa\", \"pa\", \"pa\", \"pa\", \"pa\", \"pa\", \"pa\", \"pa\", \"pa\", \"pa\", \"pacotilla\", \"pacotilla\", \"paga\", \"paga\", \"paga\", \"paga\", \"paga\", \"paga\", \"paga\", \"paga\", \"paga\", \"paga\", \"pago\", \"pago\", \"pago\", \"pago\", \"pago\", \"pago\", \"pago\", \"pago\", \"pago\", \"pais\", \"pais\", \"pais\", \"pais\", \"pais\", \"pais\", \"pais\", \"pais\", \"pais\", \"pais\", \"pandemia\", \"pandemia\", \"pandemia\", \"pandemia\", \"pandemia\", \"pandemia\", \"pandemia\", \"pandemia\", \"pandemia\", \"panfleto\", \"panfleto\", \"panfleto\", \"panfleto\", \"panfleto\", \"pantalones\", \"pantalones\", \"pantalones\", \"pantalones\", \"pantalones\", \"pantalones\", \"pantalones\", \"pantalones\", \"papita\", \"paralelas\", \"parecen\", \"parecer\", \"parecer\", \"parecer\", \"parecer\", \"parecer\", \"parecer\", \"parecer\", \"parecer\", \"parecer\", \"parecer\", \"pario\", \"pario\", \"parir\", \"parir\", \"parir\", \"parir\", \"parir\", \"parir\", \"parir\", \"parir\", \"parrilleros\", \"parroquia\", \"partidiario\", \"parto\", \"parto\", \"parto\", \"part\\u00edcipe\", \"par\\u00e1sito\", \"par\\u00e1sito\", \"par\\u00e1sito\", \"par\\u00e1sito\", \"par\\u00e1sito\", \"par\\u00e1sito\", \"par\\u00e1sito\", \"par\\u00e1sito\", \"par\\u00e1sito\", \"pasados\", \"pasaje\", \"pasaje\", \"pasaje\", \"pasaje\", \"pasaje\", \"pasaje\", \"pasaje\", \"pasar\", \"pasar\", \"pasar\", \"pasar\", \"pasar\", \"pasar\", \"pasar\", \"pasar\", \"pasar\", \"pasar\", \"pastoseg\\u00fan\", \"patrocinador\", \"pavor\", \"pa\\u00eds\", \"pa\\u00eds\", \"pa\\u00eds\", \"pa\\u00eds\", \"pa\\u00eds\", \"pa\\u00eds\", \"pa\\u00eds\", \"pa\\u00eds\", \"pa\\u00eds\", \"pa\\u00eds\", \"pdt\", \"pdta\", \"pecador\", \"pecuecas\", \"pedir\", \"pedir\", \"pedir\", \"pedir\", \"pedir\", \"pedir\", \"pedir\", \"pedir\", \"pedir\", \"pedir\", \"pelear\", \"pelear\", \"pelear\", \"pelear\", \"pelear\", \"pelear\", \"pelear\", \"pelear\", \"pelear\", \"pelear\", \"pellisquese\", \"pelotudos\", \"pene\", \"pensar\", \"pensar\", \"pensar\", \"pensar\", \"pensar\", \"pensar\", \"pensar\", \"pensar\", \"pensar\", \"pensar\", \"peor\", \"peor\", \"peor\", \"peor\", \"peor\", \"peor\", \"peor\", \"peor\", \"peor\", \"peor\", \"per\", \"perdonar\", \"perdonar\", \"perdonar\", \"perdonar\", \"perdonar\", \"perdonar\", \"perdonar\", \"perdonar\", \"perd\\u00f3name\", \"permanencia\", \"permanencia\", \"permanencia\", \"perol\", \"perro\", \"perro\", \"perro\", \"perro\", \"perro\", \"perro\", \"perro\", \"perro\", \"perro\", \"persona\", \"persona\", \"persona\", \"persona\", \"persona\", \"persona\", \"persona\", \"persona\", \"persona\", \"persona\", \"per\\u00fa\", \"per\\u00fa\", \"per\\u00fa\", \"per\\u00fa\", \"per\\u00fa\", \"per\\u00fa\", \"per\\u00fa\", \"per\\u00fa\", \"per\\u00fa\", \"pescar\", \"pescar\", \"pescar\", \"peso\", \"peso\", \"peso\", \"peso\", \"peso\", \"peso\", \"peso\", \"peso\", \"peso\", \"peso\", \"peste\", \"peste\", \"peste\", \"peste\", \"peste\", \"peste\", \"peste\", \"peste\", \"peste\", \"petrismo\", \"petrismo\", \"pe\\u00f1aloca\", \"pieen\", \"pille\", \"pinta\", \"pinta\", \"pinta\", \"pinta\", \"pinta\", \"pinta\", \"pinta\", \"pirobos\", \"plaga\", \"plaga\", \"plaga\", \"plaga\", \"plaga\", \"plaga\", \"plaga\", \"plaga\", \"plaga\", \"plaga\", \"plana\", \"plant\\u00f3n\", \"plomo\", \"plomo\", \"plomo\", \"plomo\", \"plomo\", \"plomo\", \"plomo\", \"plomo\", \"plomo\", \"podamos\", \"podamos\", \"podamos\", \"policias\", \"policias\", \"policias\", \"policias\", \"policias\", \"policias\", \"polic\\u00eda\", \"polic\\u00eda\", \"polic\\u00eda\", \"polic\\u00eda\", \"polic\\u00eda\", \"polic\\u00eda\", \"polic\\u00eda\", \"polic\\u00eda\", \"polic\\u00eda\", \"polic\\u00eda\", \"portas\", \"port\\u00f3n\", \"poste\", \"preferian\", \"presidente\", \"presidente\", \"presidente\", \"presidente\", \"presidente\", \"presidente\", \"presidente\", \"presidente\", \"presidente\", \"presidente\", \"prestarle\", \"pre\\u00f1a\", \"primero\", \"primero\", \"primero\", \"primero\", \"primero\", \"primero\", \"primero\", \"primero\", \"primero\", \"primero\", \"pro\", \"pro\", \"pro\", \"pro\", \"pro\", \"problema\", \"problema\", \"problema\", \"problema\", \"problema\", \"problema\", \"problema\", \"problema\", \"problema\", \"problema\", \"problemita\", \"prostituci\\u00f3ncorrupto\", \"prro\", \"pr\\u00f3spero\", \"pr\\u00f3spero\", \"publicacion\", \"pueblo\", \"pueblo\", \"pueblo\", \"pueblo\", \"pueblo\", \"pueblo\", \"pueblo\", \"pueblo\", \"pueblo\", \"pueblo\", \"puede\", \"puede\", \"puede\", \"puede\", \"puede\", \"puede\", \"puede\", \"puede\", \"puede\", \"puede\", \"puedes\", \"puedes\", \"puedes\", \"puedes\", \"puedes\", \"puedes\", \"puerta\", \"puerta\", \"puerta\", \"puerta\", \"puerta\", \"puerta\", \"puerta\", \"puerta\", \"puerta\", \"puerta\", \"pues\", \"pues\", \"pues\", \"pues\", \"pues\", \"pues\", \"pues\", \"pues\", \"pues\", \"pues\", \"puro\", \"puro\", \"puro\", \"puro\", \"puro\", \"puro\", \"puro\", \"puro\", \"puro\", \"puro\", \"puta\", \"puta\", \"puta\", \"puta\", \"puta\", \"puta\", \"puta\", \"puta\", \"puta\", \"puta\", \"puticas\", \"putisima\", \"puto\", \"puto\", \"puto\", \"puto\", \"puto\", \"puto\", \"puto\", \"puto\", \"puto\", \"puto\", \"putos\", \"putos\", \"putos\", \"putos\", \"putos\", \"putos\", \"putos\", \"putos\", \"putos\", \"putos\", \"px\", \"p\\u00e9simo\", \"p\\u00e9simo\", \"p\\u00e9simo\", \"p\\u00e9simo\", \"p\\u00e9simo\", \"p\\u00e9simo\", \"qliar\", \"quack\", \"quack\", \"queda\", \"queda\", \"queda\", \"queda\", \"queda\", \"queda\", \"queda\", \"queda\", \"querer\", \"querer\", \"querer\", \"querer\", \"querer\", \"querer\", \"querer\", \"querer\", \"querer\", \"querer\", \"querido\", \"querido\", \"querido\", \"querido\", \"querido\", \"querido\", \"querido\", \"querido\", \"querido\", \"querido\", \"quibd\\u00f3\", \"quibo\", \"quisas\", \"quitado\", \"quiz\\u00e1\", \"quiz\\u00e1\", \"quiz\\u00e1s\", \"quiz\\u00e1s\", \"quiz\\u00e1s\", \"radiaci\\u00f3n\", \"rappi\", \"rappi\", \"rappi\", \"rappi\", \"rappi\", \"rappi\", \"rappi\", \"rappi\", \"rappi\", \"rasgar\", \"rasgar\", \"rata\", \"rata\", \"rata\", \"rata\", \"rata\", \"rata\", \"rata\", \"rata\", \"rata\", \"rata\", \"ratazuela\", \"ratero\", \"ratero\", \"re\", \"re\", \"re\", \"re\", \"re\", \"re\", \"re\", \"realizada\", \"rebotar\", \"rebuscado\", \"recreaci\\u00f3n\", \"referir\", \"referir\", \"referir\", \"referir\", \"referir\", \"referir\", \"referir\", \"referir\", \"refrigerio\", \"refr\\u00e1n\", \"regalao\", \"repetitivo\", \"reproducci\\u00f3n\", \"republica\", \"respir\\u00e1ndole\", \"rev\\u00f3lver\", \"rifa\", \"rio\", \"rio\", \"rio\", \"rio\", \"rio\", \"rival\", \"riveros\", \"robar\", \"robar\", \"robar\", \"robar\", \"robar\", \"robar\", \"robar\", \"robar\", \"robar\", \"robar\", \"rotundamente\", \"rufi\\u00e1n\", \"saber\", \"saber\", \"saber\", \"saber\", \"saber\", \"saber\", \"saber\", \"saber\", \"saber\", \"saber\", \"sacar\", \"sacar\", \"sacar\", \"sacar\", \"sacar\", \"sacar\", \"sacar\", \"sacar\", \"sacar\", \"sacar\", \"salir\", \"salir\", \"salir\", \"salir\", \"salir\", \"salir\", \"salir\", \"salir\", \"salir\", \"salir\", \"salud\", \"salud\", \"salud\", \"salud\", \"salud\", \"salud\", \"salud\", \"salud\", \"salud\", \"salud\", \"saludo\", \"saludo\", \"saludo\", \"saludo\", \"sapa\", \"sapa\", \"sapa\", \"sapa\", \"saqueo\", \"saqueo\", \"saqueo\", \"saqueo\", \"saqueo\", \"saqueo\", \"saqueo\", \"saqueo\", \"saqueo\", \"sed\", \"sed\", \"seguir\", \"seguir\", \"seguir\", \"seguir\", \"seguir\", \"seguir\", \"seguir\", \"seguir\", \"seguir\", \"seguir\", \"seguirle\", \"seguro\", \"seguro\", \"seguro\", \"seguro\", \"seguro\", \"seguro\", \"seguro\", \"seguro\", \"seguro\", \"seguro\", \"semen\", \"sendero\", \"sentimental\", \"septiembre\", \"sepultar\", \"setenta\", \"setenta\", \"setenta\", \"setenta\", \"setenta\", \"setenta\", \"setenta\", \"se\\u00f1alados\", \"se\\u00f1or\", \"se\\u00f1or\", \"se\\u00f1or\", \"se\\u00f1or\", \"se\\u00f1or\", \"se\\u00f1or\", \"se\\u00f1or\", \"se\\u00f1or\", \"se\\u00f1or\", \"se\\u00f1or\", \"se\\u00f1ores\", \"shite\", \"shows\", \"si\", \"si\", \"si\", \"si\", \"si\", \"si\", \"si\", \"si\", \"si\", \"si\", \"significado\", \"sin\\u00f3nimo\", \"sin\\u00f3nimo\", \"situaci\\u00f3n\", \"situaci\\u00f3n\", \"situaci\\u00f3n\", \"situaci\\u00f3n\", \"situaci\\u00f3n\", \"situaci\\u00f3n\", \"situaci\\u00f3n\", \"situaci\\u00f3n\", \"situaci\\u00f3n\", \"situaci\\u00f3n\", \"sobrina\", \"social\", \"social\", \"social\", \"social\", \"social\", \"social\", \"social\", \"social\", \"social\", \"social\", \"solo\", \"solo\", \"solo\", \"solo\", \"solo\", \"solo\", \"solo\", \"solo\", \"solo\", \"solo\", \"soteldo\", \"stop\", \"sudaca\", \"sufrido\", \"sufrido\", \"sum\\u00e1ndole\", \"supervisar\", \"suplir\", \"s\\u00e1bana\", \"ta\", \"tacho\", \"tajante\", \"talv\", \"tan\", \"tan\", \"tan\", \"tan\", \"tan\", \"tan\", \"tan\", \"tan\", \"tan\", \"tan\", \"taquilla\", \"tatuado\", \"teatro\", \"teletrabajo\", \"teletrabajo\", \"temita\", \"tener\", \"tener\", \"tener\", \"tener\", \"tener\", \"tener\", \"tener\", \"tener\", \"tener\", \"tener\", \"tetona\", \"this\", \"this\", \"tipica\", \"tira\", \"tira\", \"tira\", \"tiraronpor\", \"todoelpais\", \"todoo\", \"tomar\", \"tomar\", \"tomar\", \"tomar\", \"tomar\", \"tomar\", \"tomar\", \"tomar\", \"tomar\", \"tomar\", \"toque\", \"toque\", \"toque\", \"toque\", \"toque\", \"toque\", \"toque\", \"toque\", \"toque\", \"torcoroma\", \"totalmente\", \"totalmente\", \"totalmente\", \"totalmente\", \"totalmente\", \"totalmente\", \"totalmente\", \"totalmente\", \"totalmente\", \"totalmente\", \"trabajar\", \"trabajar\", \"trabajar\", \"trabajar\", \"trabajar\", \"trabajar\", \"trabajar\", \"trabajar\", \"trabajar\", \"trabajar\", \"traer\", \"traer\", \"traer\", \"traer\", \"traer\", \"traer\", \"traer\", \"traer\", \"traer\", \"traer\", \"traera\", \"transmi\", \"transmi\", \"transmi\", \"transmi\", \"transmileno\", \"traqueto\", \"traqueto\", \"trasladados\", \"traslado\", \"treinta\", \"triple\", \"triple\", \"triple\", \"triple\", \"triple\", \"triple\", \"triple\", \"triple\", \"triple\", \"tristemente\", \"tristemente\", \"tristemente\", \"tristemente\", \"tristemente\", \"triunfo\", \"trofeo\", \"trompas\", \"troyano\", \"tuitear\", \"tunja\", \"tunja\", \"tunja\", \"tunja\", \"tunja\", \"twitteros\", \"twitteros\", \"tyler\", \"t\\u00e9cnica\", \"t\\u00e9trico\", \"t\\u00edpico\", \"t\\u00edpico\", \"t\\u00edpico\", \"t\\u00edpico\", \"t\\u00edpico\", \"t\\u00edpico\", \"t\\u00edpico\", \"t\\u00edpico\", \"u$15\", \"uber\", \"uber\", \"ubiera\", \"uchi\", \"untese\", \"unx\", \"urgencias\", \"urgencias\", \"usted\", \"usted\", \"usted\", \"usted\", \"usted\", \"usted\", \"usted\", \"usted\", \"usted\", \"usted\", \"ustedes\", \"ustedes\", \"ustedes\", \"ustedes\", \"ustedes\", \"ustedes\", \"ustedes\", \"ustedes\", \"ustedes\", \"ustedes\", \"uy\", \"uy\", \"uy\", \"uy\", \"uy\", \"uy\", \"vacunar\", \"vacunar\", \"vacunar\", \"vacunar\", \"vacunar\", \"vacunar\", \"vacunar\", \"vago\", \"vago\", \"vago\", \"vago\", \"vago\", \"vago\", \"vago\", \"vago\", \"vago\", \"valedores\", \"valencia\", \"vamonos\", \"van\", \"van\", \"van\", \"van\", \"van\", \"van\", \"van\", \"van\", \"van\", \"van\", \"vandalicos\", \"vandalicos\", \"vendedor\", \"vendedor\", \"vendedor\", \"vendedor\", \"vendedor\", \"vendedor\", \"vendedor\", \"vendedor\", \"vendedor\", \"vendedor\", \"veneca\", \"veneca\", \"veneca\", \"veneca\", \"veneca\", \"veneca\", \"veneca\", \"veneca\", \"veneca\", \"veneca\", \"venecaa\", \"venecas\", \"venecas\", \"venecas\", \"venecas\", \"venecas\", \"venecas\", \"venecas\", \"venecas\", \"venecas\", \"venecas\", \"veneco\", \"veneco\", \"veneco\", \"veneco\", \"veneco\", \"veneco\", \"veneco\", \"veneco\", \"veneco\", \"veneco\", \"venecolandia\", \"venecolandia\", \"venecolandia\", \"venecolandia\", \"venecolandia\", \"venecos\", \"venecos\", \"venecos\", \"venecos\", \"venecos\", \"venecos\", \"venecos\", \"venecos\", \"venecos\", \"venecos\", \"venecoshptas\", \"venecoslos\", \"venecovirus\", \"venecovirus\", \"venecovirus\", \"venecovirus\", \"venecovirus\", \"venezolano\", \"venezolano\", \"venezolano\", \"venezolano\", \"venezolano\", \"venezolano\", \"venezolano\", \"venezolano\", \"venezolano\", \"venezolano\", \"venezolanosdesde\", \"venezolanosprimero\", \"venezuela\", \"venezuela\", \"venezuela\", \"venezuela\", \"venezuela\", \"venezuela\", \"venezuela\", \"venezuela\", \"venezuela\", \"venezuela\", \"venido\", \"venir\", \"venir\", \"venir\", \"venir\", \"venir\", \"venir\", \"venir\", \"venir\", \"venir\", \"venir\", \"venirse\", \"venirse\", \"ventaquemada\", \"ventaquemada\", \"ver\", \"ver\", \"ver\", \"ver\", \"ver\", \"ver\", \"ver\", \"ver\", \"ver\", \"ver\", \"verdad\", \"verdad\", \"verdad\", \"verdad\", \"verdad\", \"verdad\", \"verdad\", \"verdad\", \"verdad\", \"verdad\", \"vestidura\", \"vez\", \"vez\", \"vez\", \"vez\", \"vez\", \"vez\", \"vez\", \"vez\", \"vez\", \"vez\", \"viejo\", \"viejo\", \"viejo\", \"viejo\", \"viejo\", \"viejo\", \"viejo\", \"viejo\", \"vino\", \"vino\", \"virus\", \"virus\", \"virus\", \"virus\", \"virus\", \"virus\", \"virus\", \"virus\", \"virus\", \"virus\", \"vivir\", \"vivir\", \"vivir\", \"vivir\", \"vivir\", \"vivir\", \"vivir\", \"vivir\", \"vivir\", \"vivir\", \"vnzl\", \"vnzl\", \"volver\", \"volver\", \"volver\", \"volver\", \"volver\", \"volver\", \"volver\", \"volver\", \"volver\", \"volver\", \"voy\", \"voy\", \"voy\", \"voy\", \"voy\", \"voy\", \"voy\", \"voy\", \"voy\", \"voy\", \"xa\", \"xdxd\", \"xenofobia\", \"xenofobia\", \"xenofobia\", \"xenofobia\", \"xenofobia\", \"xenofobia\", \"xenofobia\", \"xenofobia\", \"xenofobia\", \"xenofobia\", \"xenofofos\", \"yano\", \"ydefiende\", \"yoga\", \"zambo\", \"zerofirerabbitx\", \"zuela\", \"\\u00a8pichar\\u00a8\", \"\\u00a8pichar\\u00a8\", \"\\u00e1lvarez\", \"\\u00e8l\", \"\\u00e8l\", \"\\u00e8l\", \"\\u00e9se\", \"\\u2066\\u2069\", \"\\u2066\\u2069\", \"\\ud83c\\udffb\\u200d\", \"\\ud83c\\udffb\\u200d\", \"\\ud83c\\udffb\\u200d\", \"\\ud83c\\udffb\\u200d\", \"\\ud83c\\udffb\\u200d\", \"\\ud83c\\udffb\\u200d\", \"\\ud83c\\udffb\\u200d\", \"\\ud83c\\udffb\\u200d\", \"\\ud83c\\udffd\\u200d\", \"\\ud83c\\udffd\\u200d\", \"\\ud83c\\udffd\\u200d\", \"\\ud83c\\udffd\\u200d\", \"\\ud83c\\udffd\\u200d\", \"\\ud83c\\udffd\\u200d\", \"\\ud83c\\udffd\\u200d\"]}, \"R\": 30, \"lambda.step\": 0.01, \"plot.opts\": {\"xlab\": \"PC1\", \"ylab\": \"PC2\"}, \"topic.order\": [4, 8, 3, 1, 6, 7, 5, 2, 10, 9]};\n",
       "\n",
       "function LDAvis_load_lib(url, callback){\n",
       "  var s = document.createElement('script');\n",
       "  s.src = url;\n",
       "  s.async = true;\n",
       "  s.onreadystatechange = s.onload = callback;\n",
       "  s.onerror = function(){console.warn(\"failed to load library \" + url);};\n",
       "  document.getElementsByTagName(\"head\")[0].appendChild(s);\n",
       "}\n",
       "\n",
       "if(typeof(LDAvis) !== \"undefined\"){\n",
       "   // already loaded: just create the visualization\n",
       "   !function(LDAvis){\n",
       "       new LDAvis(\"#\" + \"ldavis_el170819634885204486136445408\", ldavis_el170819634885204486136445408_data);\n",
       "   }(LDAvis);\n",
       "}else if(typeof define === \"function\" && define.amd){\n",
       "   // require.js is available: use it to load d3/LDAvis\n",
       "   require.config({paths: {d3: \"https://d3js.org/d3.v5\"}});\n",
       "   require([\"d3\"], function(d3){\n",
       "      window.d3 = d3;\n",
       "      LDAvis_load_lib(\"https://cdn.jsdelivr.net/gh/bmabey/pyLDAvis@3.2.2/pyLDAvis/js/ldavis.v3.0.0.js\", function(){\n",
       "        new LDAvis(\"#\" + \"ldavis_el170819634885204486136445408\", ldavis_el170819634885204486136445408_data);\n",
       "      });\n",
       "    });\n",
       "}else{\n",
       "    // require.js not available: dynamically load d3 & LDAvis\n",
       "    LDAvis_load_lib(\"https://d3js.org/d3.v5.js\", function(){\n",
       "         LDAvis_load_lib(\"https://cdn.jsdelivr.net/gh/bmabey/pyLDAvis@3.2.2/pyLDAvis/js/ldavis.v3.0.0.js\", function(){\n",
       "                 new LDAvis(\"#\" + \"ldavis_el170819634885204486136445408\", ldavis_el170819634885204486136445408_data);\n",
       "            })\n",
       "         });\n",
       "}\n",
       "</script>"
      ],
      "text/plain": [
       "<IPython.core.display.HTML object>"
      ]
     },
     "execution_count": 18,
     "metadata": {},
     "output_type": "execute_result"
    }
   ],
   "source": [
    "vis = pyLDAvis.gensim.prepare(topic_model=lda, corpus=corpus, dictionary=dictionary)\n",
    "pyLDAvis.display(vis)"
   ]
  },
  {
   "cell_type": "code",
   "execution_count": 19,
   "id": "defined-input",
   "metadata": {},
   "outputs": [
    {
     "name": "stderr",
     "output_type": "stream",
     "text": [
      "C:\\Users\\JOSE\\anaconda3\\lib\\site-packages\\ipykernel\\ipkernel.py:287: DeprecationWarning: `should_run_async` will not call `transform_cell` automatically in the future. Please pass the result to `transformed_cell` argument and any exception that happen during thetransform in `preprocessing_exc_tuple` in IPython 7.17 and above.\n",
      "  and should_run_async(code)\n"
     ]
    }
   ],
   "source": [
    "# Archivo HTML\n",
    "pyLDAvis.save_html(vis, 'ldax.html')"
   ]
  },
  {
   "cell_type": "markdown",
   "id": "acoustic-elite",
   "metadata": {
    "id": "iraqi-strain"
   },
   "source": [
    "# Compute Model Perplexity and Coherence Score\n",
    "Model perplexity and topic coherence provide a convenient measure to judge how good a given topic model is. Topic coherence score, in particular, has been more helpful."
   ]
  },
  {
   "cell_type": "code",
   "execution_count": 20,
   "id": "accomplished-perception",
   "metadata": {
    "colab": {
     "base_uri": "https://localhost:8080/"
    },
    "executionInfo": {
     "elapsed": 1470,
     "status": "ok",
     "timestamp": 1616184472052,
     "user": {
      "displayName": "Diego Alejandro Bermudez Sierra",
      "photoUrl": "https://lh3.googleusercontent.com/a-/AOh14Giaky64TFemsJXXopg9ctEkZ2B3Iz-B3Kh0Jyl9QA=s64",
      "userId": "09605770473678301910"
     },
     "user_tz": 300
    },
    "id": "dirty-morning",
    "outputId": "7342afd3-f2ca-4533-dcb7-4485e723b688"
   },
   "outputs": [
    {
     "name": "stderr",
     "output_type": "stream",
     "text": [
      "C:\\Users\\JOSE\\anaconda3\\lib\\site-packages\\ipykernel\\ipkernel.py:287: DeprecationWarning: `should_run_async` will not call `transform_cell` automatically in the future. Please pass the result to `transformed_cell` argument and any exception that happen during thetransform in `preprocessing_exc_tuple` in IPython 7.17 and above.\n",
      "  and should_run_async(code)\n"
     ]
    },
    {
     "name": "stdout",
     "output_type": "stream",
     "text": [
      "\n",
      "Perplexity:  -7.875373756775187\n",
      "\n",
      "Coherence Score:  0.37468495554538905\n"
     ]
    }
   ],
   "source": [
    "# Compute Perplexity\n",
    "print('\\nPerplexity: ', lda.log_perplexity(corpus))  # a measure of how good the model is. lower the better.\n",
    "\n",
    "# Compute Coherence Score\n",
    "coherence_model_lda = CoherenceModel(model=lda, texts=data_lemmatized, dictionary=dictionary, coherence='c_v')\n",
    "with np.errstate(invalid='ignore'):\n",
    "    coherence_lda = coherence_model_lda.get_coherence()\n",
    "print('\\nCoherence Score: ', coherence_lda)\n"
   ]
  },
  {
   "cell_type": "markdown",
   "id": "sixth-degree",
   "metadata": {
    "id": "aggressive-williams"
   },
   "source": [
    "# LDA Mallet"
   ]
  },
  {
   "cell_type": "code",
   "execution_count": 18,
   "id": "several-turning",
   "metadata": {
    "id": "silver-supervision",
    "outputId": "af1bf68d-9020-4b61-933a-f131348b5095"
   },
   "outputs": [
    {
     "data": {
      "text/plain": [
       "\"\\nmallet_path = '/Users/diegoalejandrobermudezsierra/OneDrive - Universidad de los Andes/BX/LDA/mallet' # update this path\\nimport os\\nos.environ['MALLET_HOME'] = '/Users/diegoalejandrobermudezsierra/OneDrive - Universidad de los Andes/BX/LDA/mallet-2.0.8'\\nprint('----MALLET----')\\nldamallet = gensim.models.wrappers.LdaMallet(mallet_path, corpus=corpus, num_topics=10, id2word=dictionary)\\n\""
      ]
     },
     "execution_count": 18,
     "metadata": {},
     "output_type": "execute_result"
    }
   ],
   "source": [
    "'''\n",
    "mallet_path = '/Users/diegoalejandrobermudezsierra/OneDrive - Universidad de los Andes/BX/LDA/mallet' # update this path\n",
    "import os\n",
    "os.environ['MALLET_HOME'] = '/Users/diegoalejandrobermudezsierra/OneDrive - Universidad de los Andes/BX/LDA/mallet-2.0.8'\n",
    "print('----MALLET----')\n",
    "ldamallet = gensim.models.wrappers.LdaMallet(mallet_path, corpus=corpus, num_topics=10, id2word=dictionary)\n",
    "'''"
   ]
  },
  {
   "cell_type": "code",
   "execution_count": 19,
   "id": "subject-moderator",
   "metadata": {
    "id": "labeled-testimony",
    "outputId": "551c25ab-c919-4cf2-dfad-d9e53b35b569"
   },
   "outputs": [
    {
     "data": {
      "text/plain": [
       "\"\\n# Convert mallet to gensim type\\nmallet_model = gensim.models.wrappers.ldamallet.malletmodel2ldamodel(ldamallet)\\n# Compute Perplexity\\nprint('\\nPerplexity: ', mallet_model.log_perplexity(corpus))  # a measure of how good the model is. lower the better.\\n\\n# Show Topics\\npprint(ldamallet.show_topics(formatted=False))\\n\\n# Compute Coherence Score\\ncoherence_model_ldamallet = CoherenceModel(model=ldamallet, texts=df['Clean_Text'].to_list(), dictionary=dictionary, coherence='c_v')\\nwith np.errstate(invalid='ignore'):\\n    coherence_ldamallet = coherence_model_ldamallet.get_coherence()\\nprint('\\nCoherence Score: ', coherence_ldamallet)\\n\""
      ]
     },
     "execution_count": 19,
     "metadata": {},
     "output_type": "execute_result"
    }
   ],
   "source": [
    "'''\n",
    "# Convert mallet to gensim type\n",
    "mallet_model = gensim.models.wrappers.ldamallet.malletmodel2ldamodel(ldamallet)\n",
    "# Compute Perplexity\n",
    "print('\\nPerplexity: ', mallet_model.log_perplexity(corpus))  # a measure of how good the model is. lower the better.\n",
    "\n",
    "# Show Topics\n",
    "pprint(ldamallet.show_topics(formatted=False))\n",
    "\n",
    "# Compute Coherence Score\n",
    "coherence_model_ldamallet = CoherenceModel(model=ldamallet, texts=df['Clean_Text'].to_list(), dictionary=dictionary, coherence='c_v')\n",
    "with np.errstate(invalid='ignore'):\n",
    "    coherence_ldamallet = coherence_model_ldamallet.get_coherence()\n",
    "print('\\nCoherence Score: ', coherence_ldamallet)\n",
    "'''"
   ]
  },
  {
   "cell_type": "markdown",
   "id": "headed-director",
   "metadata": {
    "id": "suburban-simple"
   },
   "source": [
    "# Optimal number of topics"
   ]
  },
  {
   "cell_type": "code",
   "execution_count": 21,
   "id": "mental-trouble",
   "metadata": {
    "id": "charged-electronics"
   },
   "outputs": [
    {
     "name": "stderr",
     "output_type": "stream",
     "text": [
      "C:\\Users\\JOSE\\anaconda3\\lib\\site-packages\\ipykernel\\ipkernel.py:287: DeprecationWarning: `should_run_async` will not call `transform_cell` automatically in the future. Please pass the result to `transformed_cell` argument and any exception that happen during thetransform in `preprocessing_exc_tuple` in IPython 7.17 and above.\n",
      "  and should_run_async(code)\n"
     ]
    }
   ],
   "source": [
    "def compute_coherence_values(dictionary, corpus, texts, limit, start=2, step=3):\n",
    "    \"\"\"\n",
    "    Compute c_v coherence for various number of topics\n",
    "\n",
    "    Parameters:\n",
    "    ----------\n",
    "    dictionary : Gensim dictionary\n",
    "    corpus : Gensim corpus\n",
    "    texts : List of input texts\n",
    "    limit : Max num of topics\n",
    "\n",
    "    Returns:\n",
    "    -------\n",
    "    model_list : List of LDA topic models\n",
    "    coherence_values : Coherence values corresponding to the LDA model with respective number of topics\n",
    "    \"\"\"\n",
    "    coherence_values = []\n",
    "    model_list = []\n",
    "    for num_topics in range(start, limit, step):\n",
    "        model = gensim.models.ldamodel.LdaModel(corpus=mm, id2word=dictionary, num_topics=num_topics, update_every=0, passes=10, alpha=[0.01]*num_topics, eta=[0.01]*len(dictionary.keys()))\n",
    "        model_list.append(model)\n",
    "        coherencemodel = CoherenceModel(model=model, texts=texts, dictionary=dictionary, coherence='c_v')\n",
    "        coherence_values.append(coherencemodel.get_coherence())\n",
    "\n",
    "    return model_list, coherence_values"
   ]
  },
  {
   "cell_type": "code",
   "execution_count": 22,
   "id": "suspended-witness",
   "metadata": {
    "id": "olympic-trace"
   },
   "outputs": [
    {
     "name": "stderr",
     "output_type": "stream",
     "text": [
      "C:\\Users\\JOSE\\anaconda3\\lib\\site-packages\\ipykernel\\ipkernel.py:287: DeprecationWarning: `should_run_async` will not call `transform_cell` automatically in the future. Please pass the result to `transformed_cell` argument and any exception that happen during thetransform in `preprocessing_exc_tuple` in IPython 7.17 and above.\n",
      "  and should_run_async(code)\n"
     ]
    }
   ],
   "source": [
    "# Can take a long time to run.\n",
    "%time model_list, coherence_values = compute_coherence_values(dictionary=dictionary, corpus=mm, texts=data_lemmatized, start=4, limit=20, step=2)"
   ]
  },
  {
   "cell_type": "code",
   "execution_count": 23,
   "id": "subsequent-speaking",
   "metadata": {
    "id": "matched-examination"
   },
   "outputs": [
    {
     "name": "stderr",
     "output_type": "stream",
     "text": [
      "C:\\Users\\JOSE\\anaconda3\\lib\\site-packages\\ipykernel\\ipkernel.py:287: DeprecationWarning: `should_run_async` will not call `transform_cell` automatically in the future. Please pass the result to `transformed_cell` argument and any exception that happen during thetransform in `preprocessing_exc_tuple` in IPython 7.17 and above.\n",
      "  and should_run_async(code)\n"
     ]
    },
    {
     "data": {
      "image/png": "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\n",
      "text/plain": [
       "<Figure size 576x504 with 1 Axes>"
      ]
     },
     "metadata": {},
     "output_type": "display_data"
    }
   ],
   "source": [
    "# Show graph\n",
    "limit=20; start=4; step=2;\n",
    "x = range(start, limit, step)\n",
    "plt.plot(x, coherence_values)\n",
    "plt.xlabel(\"Num Topics\")\n",
    "plt.ylabel(\"Coherence score\")\n",
    "plt.legend((\"coherence_values\"), loc='best')\n",
    "plt.show()"
   ]
  },
  {
   "cell_type": "code",
   "execution_count": 24,
   "id": "dense-lounge",
   "metadata": {
    "id": "polish-classics"
   },
   "outputs": [
    {
     "name": "stdout",
     "output_type": "stream",
     "text": [
      "Num Topics = 4  has Coherence Value of 0.36\n",
      "Num Topics = 6  has Coherence Value of 0.37\n",
      "Num Topics = 8  has Coherence Value of 0.37\n",
      "Num Topics = 10  has Coherence Value of 0.38\n",
      "Num Topics = 12  has Coherence Value of 0.36\n",
      "Num Topics = 14  has Coherence Value of 0.38\n",
      "Num Topics = 16  has Coherence Value of 0.38\n",
      "Num Topics = 18  has Coherence Value of 0.37\n"
     ]
    },
    {
     "name": "stderr",
     "output_type": "stream",
     "text": [
      "C:\\Users\\JOSE\\anaconda3\\lib\\site-packages\\ipykernel\\ipkernel.py:287: DeprecationWarning: `should_run_async` will not call `transform_cell` automatically in the future. Please pass the result to `transformed_cell` argument and any exception that happen during thetransform in `preprocessing_exc_tuple` in IPython 7.17 and above.\n",
      "  and should_run_async(code)\n"
     ]
    }
   ],
   "source": [
    "# Print the coherence scores\n",
    "for m, cv in zip(x, coherence_values):\n",
    "    print(\"Num Topics =\", m, \" has Coherence Value of\", round(cv, 2))"
   ]
  },
  {
   "cell_type": "code",
   "execution_count": 25,
   "id": "julian-electricity",
   "metadata": {
    "id": "active-bridges"
   },
   "outputs": [
    {
     "name": "stdout",
     "output_type": "stream",
     "text": [
      "[(0,\n",
      "  '0.063*\"venezolano\" + 0.041*\"no\" + 0.035*\"país\" + 0.015*\"si\" + 0.011*\"venir\" '\n",
      "  '+ 0.011*\"colombia\" + 0.011*\"hacer\" + 0.011*\"venecos\" + 0.011*\"  \" + '\n",
      "  '0.007*\"querer\"'),\n",
      " (1,\n",
      "  '0.047*\"no\" + 0.041*\"venezolano\" + 0.024*\"venecos\" + 0.014*\"robar\" + '\n",
      "  '0.014*\"tener\" + 0.012*\"si\" + 0.012*\"hacer\" + 0.010*\"veneco\" + '\n",
      "  '0.007*\"querer\" + 0.007*\"dar\"'),\n",
      " (2,\n",
      "  '0.047*\"venezolano\" + 0.035*\"  \" + 0.030*\"no\" + 0.021*\"venecos\" + '\n",
      "  '0.016*\"colombiano\" + 0.015*\"hacer\" + 0.015*\"colombia\" + 0.012*\"si\" + '\n",
      "  '0.012*\"país\" + 0.010*\"veneca\"'),\n",
      " (3,\n",
      "  '0.051*\"venezolano\" + 0.038*\"no\" + 0.017*\"hacer\" + 0.016*\"tener\" + '\n",
      "  '0.014*\"si\" + 0.011*\"venecos\" + 0.010*\"decir\" + 0.009*\"país\" + 0.009*\"  \" + '\n",
      "  '0.008*\"colombiano\"'),\n",
      " (4,\n",
      "  '0.074*\"venezolano\" + 0.026*\"veneco\" + 0.020*\"decir\" + 0.018*\"  \" + '\n",
      "  '0.016*\"si\" + 0.016*\"no\" + 0.014*\"tener\" + 0.010*\"ver\" + 0.009*\"bogotá\" + '\n",
      "  '0.007*\"hacer\"'),\n",
      " (5,\n",
      "  '0.066*\"venezolano\" + 0.064*\"no\" + 0.018*\"decir\" + 0.012*\"colombiano\" + '\n",
      "  '0.011*\"hacer\" + 0.007*\"país\" + 0.007*\"  \" + 0.007*\"si\" + 0.006*\"tener\" + '\n",
      "  '0.006*\"dar\"'),\n",
      " (6,\n",
      "  '0.046*\"venezolano\" + 0.042*\"venecos\" + 0.032*\"no\" + 0.016*\"si\" + '\n",
      "  '0.014*\"mas\" + 0.012*\"   \" + 0.009*\"hijo\" + 0.009*\"frontera\" + 0.009*\"puta\" '\n",
      "  '+ 0.009*\"hijueputa\"'),\n",
      " (7,\n",
      "  '0.056*\"no\" + 0.052*\"venezolano\" + 0.025*\"tener\" + 0.020*\"colombia\" + '\n",
      "  '0.014*\"  \" + 0.012*\"venecos\" + 0.009*\"ni\" + 0.007*\"decir\" + '\n",
      "  '0.006*\"gobierno\" + 0.005*\"venir\"'),\n",
      " (8,\n",
      "  '0.071*\"venecos\" + 0.040*\"no\" + 0.030*\"venezolano\" + 0.018*\"tener\" + '\n",
      "  '0.017*\"robar\" + 0.017*\"  \" + 0.012*\"ni\" + 0.012*\"colombia\" + 0.011*\"país\" + '\n",
      "  '0.011*\"hacer\"'),\n",
      " (9,\n",
      "  '0.071*\"venezolano\" + 0.040*\"no\" + 0.035*\"país\" + 0.020*\"  \" + '\n",
      "  '0.015*\"colombiano\" + 0.014*\"tener\" + 0.009*\"presidente\" + 0.008*\"colombia\" '\n",
      "  '+ 0.007*\"querer\" + 0.006*\"problema\"'),\n",
      " (10,\n",
      "  '0.078*\"venezolano\" + 0.035*\"no\" + 0.027*\"malparido\" + 0.018*\"si\" + '\n",
      "  '0.012*\"tener\" + 0.012*\"venecos\" + 0.010*\"veneco\" + 0.009*\"   \" + '\n",
      "  '0.009*\"país\" + 0.009*\"  \"'),\n",
      " (11,\n",
      "  '0.060*\"venezolano\" + 0.056*\"no\" + 0.016*\"colombia\" + 0.010*\"si\" + '\n",
      "  '0.009*\"colombiano\" + 0.009*\"hacer\" + 0.008*\"  \" + 0.008*\"país\" + '\n",
      "  '0.008*\"tener\" + 0.007*\"solo\"'),\n",
      " (12,\n",
      "  '0.067*\"venezolano\" + 0.015*\"no\" + 0.015*\"colombia\" + 0.013*\"veneco\" + '\n",
      "  '0.012*\"tener\" + 0.012*\"colombiano\" + 0.012*\"  \" + 0.010*\"país\" + '\n",
      "  '0.009*\"ahora\" + 0.009*\"venecos\"'),\n",
      " (13,\n",
      "  '0.062*\"venezolano\" + 0.040*\"no\" + 0.023*\"hacer\" + 0.015*\"colombia\" + '\n",
      "  '0.012*\"tener\" + 0.011*\"país\" + 0.010*\"robar\" + 0.010*\"  \" + '\n",
      "  '0.009*\"colombiano\" + 0.008*\"venecos\"')]\n"
     ]
    },
    {
     "name": "stderr",
     "output_type": "stream",
     "text": [
      "C:\\Users\\JOSE\\anaconda3\\lib\\site-packages\\ipykernel\\ipkernel.py:287: DeprecationWarning: `should_run_async` will not call `transform_cell` automatically in the future. Please pass the result to `transformed_cell` argument and any exception that happen during thetransform in `preprocessing_exc_tuple` in IPython 7.17 and above.\n",
      "  and should_run_async(code)\n"
     ]
    }
   ],
   "source": [
    "# Select the model and print the topics\n",
    "optimal_model = model_list[5]\n",
    "model_topics = optimal_model.show_topics(formatted=False)\n",
    "pprint(optimal_model.print_topics(num_words=10))"
   ]
  },
  {
   "cell_type": "code",
   "execution_count": 26,
   "id": "perfect-confidence",
   "metadata": {},
   "outputs": [
    {
     "name": "stderr",
     "output_type": "stream",
     "text": [
      "C:\\Users\\JOSE\\anaconda3\\lib\\site-packages\\ipykernel\\ipkernel.py:287: DeprecationWarning: `should_run_async` will not call `transform_cell` automatically in the future. Please pass the result to `transformed_cell` argument and any exception that happen during thetransform in `preprocessing_exc_tuple` in IPython 7.17 and above.\n",
      "  and should_run_async(code)\n"
     ]
    },
    {
     "data": {
      "text/html": [
       "\n",
       "<link rel=\"stylesheet\" type=\"text/css\" href=\"https://cdn.jsdelivr.net/gh/bmabey/pyLDAvis@3.2.2/pyLDAvis/js/ldavis.v1.0.0.css\">\n",
       "\n",
       "\n",
       "<div id=\"ldavis_el170819693761055209796448529\"></div>\n",
       "<script type=\"text/javascript\">\n",
       "\n",
       "var ldavis_el170819693761055209796448529_data = {\"mdsDat\": {\"x\": [0.019021476259992683, -0.017168623456103475, 0.0423723435313866, -0.08156473300108291, -0.09737822273730519, -0.07052749268816225, -0.002552483765006773, 0.08161783274664458, 0.12725993063816252, 0.11050230355528118, -0.14134689278957493, 0.13170083981100233, -0.09907228751224909, -0.0028639905929853577], \"y\": [-0.012623586302325686, -0.055139503666575385, 0.052387734911677294, 0.06541225909432134, 0.002701884231206483, -0.10139070609118375, -0.1399066323640745, -0.11973958172702454, -0.04929040098958678, 0.1247775599346568, -0.05063534958121558, 0.025398718217488663, 0.13013641043103996, 0.12791119390159567], \"topics\": [1, 2, 3, 4, 5, 6, 7, 8, 9, 10, 11, 12, 13, 14], \"cluster\": [1, 1, 1, 1, 1, 1, 1, 1, 1, 1, 1, 1, 1, 1], \"Freq\": [9.043848432395139, 8.96760624106568, 8.605852825190068, 8.486006606115746, 7.843397780771942, 7.458048397001766, 7.279623996110176, 7.072120757368696, 6.32412456637249, 5.892806859141178, 5.860788195839547, 5.813408673951223, 5.709513112953256, 5.642853555723096]}, \"tinfo\": {\"Term\": [\"venecos\", \"malparido\", \"pa\\u00eds\", \"venezolano\", \"veneco\", \"  \", \"no\", \"decir\", \"robar\", \"si\", \"tener\", \"mas\", \"frontera\", \"colombiano\", \"hptas\", \"hacer\", \"puta\", \"colombia\", \"veneca\", \"hijueputa\", \"hps\", \"ni\", \"plaga\", \"hijo\", \"   \", \"cerrar\", \"mierda\", \"matar\", \"hp\", \"aprovechar\", \"descolombianizar\", \"px\", \"regalito\", \"certificado\", \"desorientado\", \"biblia\", \"prole\", \"haberlo\", \"vienendelinquirinvadirasesinardesestabilizar\", \"estavan\", \"trochar\", \"ineficazineficiente\", \"uchi\", \"modelito\", \"incondicional\", \"masburro\", \"pilicia\", \"haca\", \"pico-vargas\", \"gobiernomillares\", \"qje\", \"precariasruina\", \"riveros\", \"redundancia\", \"pa\\u00edscomprobado\", \"transgredir\", \"recientemente\", \"ruiz\", \"interpreta\", \"pille\", \"increpando:\\u00bfy\", \"inmortal\", \"planeaci\\u00f3n\", \"subirme\", \"privilegiar\", \"amaz\\u00f3nico\", \"realista\", \"boyacos\", \"derrumbar\", \"gancho\", \"acorralado\", \"lamentar\", \"soc\", \"estadounidense\", \"mono\", \"estadio\", \"aparentar\", \"estaca\", \"fachos\", \"firmar\", \"quitado\", \"13\", \"lote\", \"jeje\", \"vendedor\", \"a\\u00f1o\", \"dem\\u00f3crata\", \"central\", \"llegar\", \"hacer\", \"maburro\", \"servir\", \"bogota\", \"ambulante\", \"duela\", \"venezolano\", \"alcaldesa\", \"no\", \"tener\", \"calle\", \"si\", \"decir\", \"sol\", \"creer\", \"ciudadano\", \"gobierno\", \"bogot\\u00e1\", \"poner\", \"d\\u00eda\", \"querer\", \"mierda\", \"tomar\", \"ciudad\", \"cada\", \"trabajar\", \"colombiano\", \"vez\", \"vender\", \"delincuente\", \"ac\\u00e1\", \"pa\\u00eds\", \"venir\", \"venecos\", \"  \", \"colombia\", \"problema\", \"ver\", \"gente\", \"pedir\", \"ni\", \"robar\", \"ahora\", \"asignarle\", \"33%\", \"brutalmente\", \"misericordioso\", \"m\\u00edrame\", \"mo\\u00f1o\", \"sue\", \"rueda\", \"babe\", \"entones\", \"denigrante\", \"vivi\", \"jodete\", \"larguensen\", \"deber\\u00e1s\", \"misiones\", \"viga\", \"abstener\", \"indiscutible\", \"enviarlo\", \"1millon\", \"dd\", \"m19\", \"reintegrado\", \"consolidar\", \"mesera\", \"primaria\", \"embarrado\", \"cu\\u00f1ada\", \"aceptable\", \"branse\", \"nose\", \"bobazo\", \"inescrupuloso\", \"invadirnos\", \"apariencia\", \"\\u2066\\u2069\", \"censar\", \"taquilla\", \"juzgados\", \"horno\", \"tate\", \"dejarla\", \"facatativ\\u00e1\", \"honrado\", \"beneficiado\", \"rancho\", \"qie\", \"equilibrio\", \"jajajajaj\", \"tunja\", \"pre\\u00f1ar\", \"agalla\", \"pedido\", \"ni\\u00f1o\", \"dejarlos\", \"generalizado\", \"car\\u00e1cter\", \"mayor\\u00eda\", \"hacer\", \"quieto\", \"aprovechado\", \"salida\", \"brazo\", \"rateros\", \"saquear\", \"venezolano\", \"incre\\u00edble\", \"llegar\", \"dejar\", \"no\", \"robar\", \"saber\", \"all\\u00e1\", \"colombia\", \"mal\", \"ac\\u00e1\", \"despu\\u00e9s\", \"as\\u00ed\", \"bueno\", \"comer\", \"meter\", \"entrar\", \"marcha\", \"matar\", \"venir\", \"tener\", \"colombiano\", \"pa\\u00eds\", \"da\\u00f1o\", \"atracar\", \"venezuela\", \"  \", \"ahora\", \"sacar\", \"ver\", \"si\", \"venecos\", \"   \", \"querer\", \"seguir\", \"muu\", \"nocturno\", \"apag\\u00f3n\", \"min\", \"bvc\", \"folclor\", \"insatisfechas\", \"pae\", \"isieron\", \"matadero\", \"nones\", \"hepatitis\", \"busetero\", \"desgarrador\", \"chimoltrufia\", \"agilizar\", \"dollar\", \"marrana\", \"cachones\", \"extragero\", \"google\", \"quind\\u00edo\", \"ajajaja\", \"hacsr\", \"rita\", \"inmersos\", \"deliberadamente\", \"santrich\", \"5-\", \"xenofofos\", \"pieen\", \"mamadosaburridos\", \"motoen\", \"6-\", \"tuberculosis\", \"menguar\", \"lectura\", \"araucano\", \"jakomel\", \"haz\", \"congresistas\", \"liderar\", \"p*tas\", \"t\\u00ed\", \"cachupe\", \"precariedad\", \"cr\\u00eda\", \"abrirle\", \"hamburguesa\", \"callejeras\", \"enterrar\", \"empleo\", \"enloquecer\", \"emergencia\", \"salario\", \"sistema\", \"4-\", \"salud\", \"alto\", \"decir\", \"despues\", \"no\", \"caso\", \"venezolano\", \"desempleo\", \"voz\", \"permitir\", \"colombiano\", \"trabajo\", \"cantidad\", \"dar\", \"ingresar\", \"pasar\", \"bajar\", \"seguir\", \"c\\u00f3mo\", \"negar\", \"puede\", \"hacer\", \"pueblo\", \"saber\", \"quitar\", \"gobierno\", \"parecer\", \"migraci\\u00f3n\", \"cosa\", \"xenofobia\", \"pa\\u00eds\", \"dejar\", \"si\", \"  \", \"ni\", \"tener\", \"ver\", \"querer\", \"solo\", \"colombia\", \"problema\", \"llegar\", \"venecos\", \"gente\", \"   \", \"cos\", \"wow\", \"je\", \"respir\\u00e1ndole\", \"turbay\", \"duque-uribe\", \"irritante\", \"aguardiente\", \"llorenlo\", \"roble\", \"comediantes\", \"masacrado\", \"alimentarse\", \"buffet\", \"verbo\", \"venezolanosdesde\", \"challenge\", \"xa\", \"horrendos\", \"carcajada\", \"mierdita\", \"hijueputicas\", \"procesados\", \"j\\u00e1\", \"chia\", \"abuelitos\", \"avispado\", \"martar\", \"aaa\", \"desaf\\u00edo\", \"venequitos\", \"500mil\", \"desechable\", \"hps\", \"venezolanosqu\\u00e9\", \"temer\", \"hptas\", \"muertos\", \"arrendatario\", \"allanar\", \"jueputa\", \"pacotilla\", \"delinquiendoasesinar\", \"misericordia\", \"queso\", \"colombiabandas\", \"ciudadse\", \"prostituci\\u00f3ncorrupto\", \"venecos\", \"larguense\", \"hijueputaas\", \"despreciable\", \"pinta\", \"escritora\", \"plomo\", \"co\\u00f1o\", \"hambre\", \"robar\", \"matar\", \"ni\", \"coste\\u00f1o\", \"mierda\", \"mendigar\", \"pa\", \"maldito\", \"purga\", \"desgraciado\", \"\\ud83c\\udffb\\u200d\", \"tener\", \"no\", \"morir\", \"  \", \"limpieza\", \"plaga\", \"gente\", \"bien\", \"colombia\", \"venir\", \"venezolano\", \"hacer\", \"veneco\", \"colombiano\", \"pa\\u00eds\", \"si\", \"venezuela\", \"va\", \"decir\", \"saber\", \"rata\", \"seguir\", \"ver\", \"   \", \"teletrabajo\", \"partidiario\", \"entregado\", \"complementar\", \"publicacion\", \"mojon\", \"acogerlos\", \"elimineme\", \"meca\", \"ure\\u00f1a\", \"condon\", \"finland\\u00e9s\", \"raudo\", \"adulador\", \"preferian\", \"homof\\u00f3bicos\", \"veloz\", \"llenitas\", \"vacunado\", \"tirarlos\", \"mill\", \"contarle\", \"tr\\u00edo\", \"apostado\", \"discutirlo\", \"talv\", \"venezolanda\", \"extranjer\\u00eda\", \"lit\", \"palestinos\", \"simpat\\u00eda\", \"caerse\", \"chovinista\", \"denominado\", \"listado\", \"tetona\", \"puteadero\", \"transmileno\", \"viejito\", \"jua\", \"voluptuoso\", \"face\", \"bajita\", \"pa\\u00f1o\", \"sinverguenzura\", \"lol\", \"twitteros\", \"comporte\", \"decorar\", \"4200\", \"ideol\\u00f3gico\", \"2400\", \"var\", \"menor\", \"ansioso\", \"bgta\", \"2500\", \"idea\", \"tener\", \"no\", \"ja\", \"aguantar\", \"colombia\", \"ni\", \"robarse\", \"denuncia\", \"vago\", \"canserbero\", \"cond\\u00f3n\", \"pasaje\", \"cubanos\", \"venezolano\", \"antecedente\", \"cientos\", \"siquiera\", \"verdad\", \"frontera\", \"nadie\", \"gobierno\", \"exigir\", \"  \", \"transporte\", \"500\", \"atraco\", \"alcalde\", \"salir\", \"persona\", \"familia\", \"control\", \"entrar\", \"delincuencia\", \"decir\", \"gente\", \"venecos\", \"respetar\", \"peque\\u00f1o\", \"venir\", \"delincuente\", \"ver\", \"saber\", \"solo\", \"bueno\", \"pasar\", \"calle\", \"mismo\", \"vivir\", \"colombiano\", \"pa\\u00eds\", \"robar\", \"si\", \"ahora\", \"   \", \"hacer\", \"veneco\", \"pellisquese\", \"capturada\", \"furg\\u00f3n\", \"parrandada\", \"posteriormente\", \"envien\", \"agh\", \"free\", \"pichurria\", \"heredar\", \"psdt\", \"corre\", \"uriberto\", \"tracamanada\", \"minar\", \"mercadito\", \"lecho\", \"impreso\", \"potencias\", \"uu\", \"jaajajj\", \"soto\", \"alivio\", \"trasnmilenio\", \"guerrear\", \"pdta\", \"madurista\", \"venezolanosya\", \"diab\\u00f3lico\", \"chuzma\", \"isabu\", \"mediante\", \"uribestia\", \"joderse\", \"hueso\", \"tapado\", \"seriamente\", \"desmadres\", \"cuadrito\", \"ojito\", \"deber\\u00edamos\", \"bienvenido\", \"hp's\", \"estrago\", \"acabe\", \"meterle\", \"odioso\", \"pa\\u00eds\", \"casualidad\", \"querido\", \"odio\", \"exigir\", \"ambos\", \"devolver\", \"d\\u00eda\", \"deportarlos\", \"delincuencia\", \"venezolano\", \"venir\", \"delincuentes\", \"retornar\", \"ac\\u00e1\", \"vida\", \"no\", \"gran\", \"delinquir\", \"si\", \"ir\", \"deportados\", \"vivir\", \"querer\", \"deben\", \"hacer\", \"colombia\", \"mierda\", \"  \", \"   \", \"dejar\", \"bien\", \"venecos\", \"hacendar\", \"trabajar\", \"robar\", \"aqu\\u00ed\", \"ver\", \"solo\", \"as\\u00ed\", \"ni\", \"tener\", \"colombiano\", \"fugado\", \"realizada\", \"supervisar\", \"hijue%&$/\", \"oportuno\", \"adornar\", \"graterol\", \"62\", \"magistrado\", \"balsero\", \"faustino\", \"polinal\", \"back\", \"clienta\", \"plenamente\", \"n\\u00e1utico\", \"nelly\", \"altivo\", \"280\", \"motonave\", \"tripulado\", \"interdicci\\u00f3n\", \"arc\", \"detallar\", \"buque\", \"milla\", \"funesto\", \"elmundo\", \"ascendiente\", \"categoria\", \"95\", \"expedir\", \"direccionar\", \"elpuente\", \"arraigado\", \"quibo\", \"todoelpais\", \"-blinde\", \"organicense\", \"u$15\", \"8000\", \"00\", \"competente\", \"desfalcar\", \"gubernamental\", \"confundido\", \"sub\", \"desgraciadamente\", \"pueblerino\", \"ratas\", \"tope\", \"regresar\", \"vigilar\", \"actuar\", \"pa\\u00eds\", \"presidente\", \"valle\", \"gobernar\", \"debe\", \"permitir\", \"debes\", \"venezolano\", \"visa\", \"d1\", \"deportar\", \"  \", \"expulsar\", \"suficiente\", \"colombiano\", \"traer\", \"no\", \"deben\", \"frontera\", \"problema\", \"ilegal\", \"polic\\u00eda\", \"tener\", \"respetar\", \"hermano\", \"querer\", \"cierre\", \"favor\", \"se\\u00f1or\", \"venezuela\", \"colombia\", \"poner\", \"delincuente\", \"solo\", \"gobierno\", \"seguir\", \"veneco\", \"si\", \"bien\", \"aqu\\u00ed\", \"hacer\", \"venecos\", \"ahora\", \"sucedido\", \"tra\\u00eddo\", \"invadirdesestabilizarexigirgrupos\", \"creerlo\", \"delinquirque\", \"esperamossacan\", \"autoridadse\", \"pastoseg\\u00fan\", \"rabiar\", \"firmados\", \"zipaquire\\u00f1o\", \"legislativo\", \"quejas\", \"hermanas\", \"pacifistas\", \"albino\", \"franja\", \"compraventa\", \"sinergia\", \"logrado\", \"rumichaca\", \"traumatica\", \"adoptivo\", \"entrado\", \"hablenme\", \"militarize\", \"creaci\\u00f3n\", \"jj\", \"coneja\", \"gallard\\u00eda\", \"noctura\", \"divertido\", \"r\\u00e9plica\", \"terco\", \"everywhere\", \"diganlo\", \"vistos\", \"queda\", \"setenta\", \"malucos\", \"puta\", \"toque\", \"triple\", \"impotencia\", \"dm\", \"d\\u00edgalo\", \"hijueputas\", \"naturalizar\", \"desanimar\", \"mas\", \"sapiar\", \"hijo\", \"cerrar\", \"hijueputa\", \"frontera\", \"150\", \"integridad\", \"venecos\", \"bla\", \"chao\", \"duque\", \"   \", \"mil\", \"           \", \"trochas\", \"favor\", \"si\", \"venezolano\", \"entrar\", \"ver\", \"seguir\", \"no\", \"seguro\", \"indocumentados\", \"asqueroso\", \"abrir\", \"mismo\", \"vez\", \"pasar\", \"    \", \"dejar\", \"  \", \"pa\\u00eds\", \"tener\", \"colombia\", \"venezuela\", \"colombiano\", \"hacer\", \"veneco\", \"ahora\", \"casacarro\", \"instar\", \"bisicletas\", \"inpec\", \"prro\", \"concientes\", \"satisfacer\", \"perol\", \"exijir\", \"ydefiende\", \"racional\", \"wifi\", \"milloneshora\", \"vendran\", \"alien\", \"otorque\", \"grafitis\", \"debiera\", \"aqu\\u00eddeportenlos\", \"1300\", \"divertirte\", \"ciertoy\", \"bago\", \"echese\", \"largate\", \"deacuerdo\", \"favorest\\u00e1n\", \"venezolanosprimero\", \"manifestarse\", \"bene\", \"circular\", \"oyente\", \"hegem\\u00f3nico\", \"anteponer\", \"cruda\", \"dilo\", \"visas\", \"boyac\\u00e1\", \"contradecir\", \"atentamente\", \"organizarnos\", \"basar\", \"panfleto\", \"ventaquemada\", \"reconstruir\", \"quieran\", \"mill\\u00f3n\", \"inminente\", \"desviar\", \"amenaza\", \"indicaci\\u00f3n\", \"guerra\", \"peso\", \"paga\", \"protecci\\u00f3n\", \"no\", \"multitud\", \"venezolano\", \"calle\", \"pedir\", \"salir\", \"colombia\", \"cada\", \"solo\", \"ayudar\", \"muerto\", \"hablar\", \"xenofobia\", \"ciudad\", \"colombiano\", \"si\", \"venezuela\", \"   \", \"hacer\", \"bucaramanga\", \"pueblo\", \"veneco\", \"  \", \"pa\\u00eds\", \"tener\", \"mas\", \"querer\", \"decir\", \"ahora\", \"dejar\", \"ver\", \"creer\", \"seguir\", \"gente\", \"venecos\", \"archivo\", \"refr\\u00e1n\", \"coreano\", \"adjuntos\", \"orgasmo\", \"esquivar\", \"ajajajajaj\", \"aparicion\", \"monja\", \"meg\\u00e1fono\", \"lim\\u00f3n\", \"premiarlos\", \"acechar\", \"pack\", \"dbemos\", \"rubio\", \"calumniador\", \"rastrillo\", \"ponce\", \"mu\\u00f1eca\", \"inflable\", \"\\u00f1o\", \"\\u00a8pichar\\u00a8\", \"carnicero\", \"panamericano\", \"apertura\", \"blanquita\", \"apostar\", \"digalo\", \"igualado\", \"ratificar\", \"gocho\", \"andresiniesta\", \"marcado\", \"atte\", \"descargar\", \"apagar\", \"factor\", \"diga\", \"callate\", \"siguiente\", \"llamarlas\", \"sudaca\", \"s\\u00e1quelos\", \"mlp\", \"clasificar\", \"atracados\", \"traduccion\", \"desbloquear\", \"culear\", \"d\\u00edganlo\", \"veneco\", \"alem\\u00e1n\", \"nombre\", \"xd\", \"decir\", \"bogot\\u00e1\", \"suba\", \"cosa\", \"f\\u00e1brica\", \"venezolano\", \"capturar\", \"restaurantes\", \"puro\", \"ver\", \"si\", \"  \", \"extranjeros\", \"libre\", \"usted\", \"due\\u00f1o\", \"tener\", \"comunismo\", \"fastidiar\", \"claudia\", \"alguien\", \"quedar\", \"saqueo\", \"grande\", \"no\", \"tan\", \"   \", \"hacer\", \"colombia\", \"ladr\\u00f3n\", \"querer\", \"robar\", \"venezuela\", \"ustedes\", \"ciudad\", \"da\", \"venir\", \"venecos\", \"dar\", \"persona\", \"solo\", \"pa\\u00eds\", \"desinfeccion\", \"ficti\", \"simult\\u00e1neo\", \"emular\", \"enpezar\", \"escrupuloso\", \"hoo\", \"bacteria\", \"poblacion\", \"fumigacion\", \"masaje\", \"pa\\u00ecs\", \"desquite\", \"huyy\", \"diseminado\", \"palabras\", \"carechimbas\", \"trasladados\", \"neeh\", \"frontero\", \"venezolanoshagan\", \"prohiban\", \"chernobyl\", \"inutiles\", \"incomparable\", \"referirnos\", \"chuchento\", \"descenso\", \"71\", \"misses\", \"radiaci\\u00f3n\", \"mutante\", \"c\\u00e9sar\", \"piroba\", \"gabinete\", \"humildad\", \"robadera\", \"\\u00e1lvarez\", \"encartado\", \"lidiar\", \"desbandado\", \"componer\", \"impunemente\", \"aquii\", \"chite\", \"burocr\\u00e1tico\", \"hp\", \"queriendo\", \"obra\", \"barata\", \"exterminarlos\", \"z\\u00e1ngano\", \"gallo\", \"encartar\", \"apodo\", \"est\\u00e1mos\", \"plaga\", \"barra\", \"     \", \"hpta\", \"monda\", \"vale\", \"come\", \"mano\", \"llevarse\", \"venezolano\", \"subsidio\", \"veneco\", \"19\", \"ahora\", \"violar\", \"duro\", \"maldito\", \"colombia\", \"colombiano\", \"verga\", \"creer\", \"covid\", \"tener\", \"solo\", \"gente\", \"  \", \"hacendar\", \"dar\", \"pa\\u00eds\", \"recibir\", \"venir\", \"acabar\", \"venezuela\", \"no\", \"hacer\", \"venecos\", \"mismo\", \"si\", \"robar\", \"trabajar\", \"llegar\", \"mierda\", \"gobierno\", \"querer\", \"torcoroma\", \"primicia\", \"turco\", \"hediondos\", \"hacerla\", \"fco\", \"venecosesos\", \"venezoiano\", \"quemas\", \"coliseo\", \"venecaa\", \"operario\", \"reino\", \"pitar\", \"remitir\", \"habren\", \"impedido\", \"obama\", \"liquidar\", \"rasgar\", \"contagiarte\", \"cansona\", \"colombianosfuera\", \"jodios\", \"lincharlos\", \"arreciar\", \"olvidarte\", \"pagadas\", \"fundillo\", \"fest\\u00edn\", \"caracter\", \"capitolio\", \"hambrientos\", \"97%\", \"novio\", \"miel\", \"espejo\", \"pana\", \"matarlo\", \"aprovechar\", \"cv\", \"ninguno\", \"pela\", \"agradable\", \"rellenarlo\", \"             \", \"plata\", \"cubrir\", \"agosto\", \"rata\", \"triplehijueputas\", \"parabrisas\", \"andar\", \"toca\", \"robar\", \"darles\", \"no\", \"da\\u00f1ar\", \"venecos\", \"meter\", \"pedir\", \"pa\", \"sem\\u00e1foro\", \"bala\", \"llenar\", \"dar\", \"cara\", \"peor\", \"venezolano\", \"veneco\", \"venecas\", \"hijueputa\", \"pues\", \"tener\", \"aqu\\u00ed\", \"si\", \"querer\", \"hacer\", \"as\\u00ed\", \"bien\", \"ahora\", \"    \", \"ver\", \"gente\", \"venir\", \"colombia\", \"decir\", \"  \", \"colombiano\", \"pa\\u00eds\", \"   \", \"qliar\", \"trofeo\", \"mat\\u00e1ndonos\", \"vnzl\", \"2-no\", \"csale\", \"desadactados\", \"4-la\", \"6-duque\", \"3-los\", \"5-la\", \"1-no\", \"exacerbar\", \"vamonos\", \"ubiera\", \"dirada\", \"pelabolas\", \"desgarrar\", \"lance\", \"recaudo\", \"cante\", \"politizado\", \"mercury\", \"fenomeno\", \"venzolanos\", \"dividir\", \"hijuepuuta\", \"desatados\", \"iluminaci\\u00f3n\", \"amargar\", \"huev\\u00f3n\", \"fari\\u00f1ez\", \"malparido\", \"\\u00e8l\", \"denotar\", \"distinguir\", \"orto\", \"emblem\\u00e1tico\", \"sello\", \"arto\", \"venecofobia\", \"americano\", \"p\\u00edcaros\", \"protegernos\", \"rival\", \"venezolanos\", \"mio\", \"germ\\u00e1n\", \"re\", \"v\\u00e1ndalo\", \"venezolano\", \"ladr\\u00f3n\", \"mk\", \"bobo\", \"molestar\", \"estan\", \"si\", \"jodido\", \"   \", \"asco\", \"no\", \"hoy\", \"veneco\", \"joder\", \"mierda\", \"hacendar\", \"tener\", \"ahora\", \"ayudar\", \"venir\", \"venecos\", \"pais\", \"pa\\u00eds\", \"  \", \"robar\", \"parecer\", \"matar\", \"hambre\", \"polic\\u00eda\", \"mundo\", \"hacer\", \"dejar\", \"mismo\", \"colombiano\", \"colombia\", \"solo\", \"decir\", \"ver\", \"ex\\u00edjanle\", \"nomas\", \"vacilar\", \"bullero\", \"south\", \"tod\", \"familias-venezolanas-y-cartageneras-invaden-terreno-y-construyen-ranchitos-con-palitos-del-monte\", \"peinado\", \"106\", \"conversar\", \"militalizar\", \"ligado\", \"tontazo\", \"desacreditar\", \"vallanse\", \"corderito\", \"detonante\", \"oooops\", \"multados\", \"pantallero\", \"maskedzombie\", \"d\\u00edaz\", \"disimuladamente\", \"halcon31\", \"tracto\", \"convencernos\", \"selva\", \"colores\", \"voticos\", \"tokio\", \"u\\u00f1a\", \"agrupar\", \"guevas\", \"diomedes\", \"calladito\", \"oso\", \"jajajajajaja\", \"jumm\", \"veneca\", \"pinche\", \"retraso\", \"lucia\", \"devuelvanlos\", \"mama\", \"home\", \"callese\", \"  \", \"venecas\", \"venecovid\", \"perra\", \"humanitaria\", \"ceja\", \"clasismo\", \"berraquitos\", \"defender\", \"aqu\\u00ed\", \"confiar\", \"ayuda\", \"impuesto\", \"colombiano\", \"mejor\", \"venezolano\", \"venecos\", \"hacer\", \"escoria\", \"colombia\", \"no\", \"venezuela\", \"jajajaja\", \"si\", \"dios\", \"ustedes\", \"hablar\", \"pa\\u00eds\", \"dar\", \"ayudar\", \"primero\", \"sacar\", \"gobierno\", \"se\\u00f1or\", \"decir\", \"as\\u00ed\", \"ahora\", \"querer\", \"veneco\", \"presidente\", \"seguir\", \"tener\", \"gente\", \"pasar\"], \"Freq\": [6496.0, 706.0, 4615.0, 21573.0, 2326.0, 4836.0, 15152.0, 2602.0, 2317.0, 4015.0, 4576.0, 1033.0, 819.0, 3168.0, 487.0, 3979.0, 434.0, 4041.0, 634.0, 643.0, 356.0, 1493.0, 829.0, 659.0, 1771.0, 403.0, 1234.0, 1041.0, 550.0, 345.0, 5.406026074890908, 2.7545400057146012, 2.753798140190384, 2.7534522169135713, 2.7438993363866095, 2.740003304291138, 3.5716823473412522, 2.698395444556401, 1.83786882688302, 1.837856445949705, 1.8378377507404, 1.8378308174177436, 1.8377571508645212, 1.8377495984951993, 1.837740931841879, 1.8377330080445575, 1.8377278080525654, 1.8377093604619263, 1.8376969795286118, 1.8376935128672836, 1.8376776652726408, 1.8376420081846945, 1.8376250463060533, 1.837623065356723, 1.8375957034940973, 1.837501856019572, 1.8374961607902471, 1.8374575322783053, 1.83745220847698, 1.8374014466503896, 2.6544933978784497, 2.647607370387476, 2.654661035715531, 2.652349515465675, 2.6479451222483013, 2.6456165163104712, 2.6427411683574635, 2.6368555202783184, 7.899069626158918, 3.3894654660447214, 2.602433059002105, 9.340517806374333, 5.406004284448275, 3.3105263685608146, 7.932983973931896, 6.635938085627235, 3.278355503817214, 3.281200147055601, 3.2650883432958406, 5.735667433920313, 2.5316564632339182, 14.311168361253575, 4.420757839791861, 6.587586083897312, 56.30509333003318, 117.34095514626117, 7.910348161171283, 9.672664571069301, 239.9833585856026, 563.6473416771199, 21.129041290516433, 64.36556426954395, 82.54709360389742, 34.54993932752004, 11.84168324989679, 1746.6360509595602, 80.18353579608261, 1281.6636939356101, 531.1722922590969, 150.2836116156126, 461.77665786903515, 336.6294707822194, 17.70953646120757, 139.92857140966592, 80.33870751902784, 164.16204753849854, 141.134478276417, 98.8429374611945, 126.82934586777303, 221.04007895765378, 170.8245664974778, 86.21605740142833, 146.35483442770993, 99.01447974940575, 124.95052636109563, 283.6629743679955, 101.8566111440419, 57.54563115297753, 111.58301688949436, 135.65987916426928, 320.535477737888, 194.008995251334, 361.40224055674736, 295.48955882209634, 234.81880181504707, 131.93155027720636, 145.29992344271565, 131.2851189679282, 114.30717086581201, 118.30456021472081, 123.16267997146535, 114.61757770208102, 2.930880300246988, 2.9306963973998004, 2.9301854470326476, 4.775420210321573, 1.955309333687273, 1.955226957979354, 1.9552253620267417, 1.9552241343708858, 1.9551334106031477, 1.9550850409624323, 1.9550839360721621, 1.9550392493990136, 1.9549422645864114, 1.9548496993348898, 1.9547919995096708, 1.9544990808224947, 1.9542832589230583, 1.9535044340481864, 1.952987345401755, 1.950685490672271, 1.952332636533897, 1.9511267101868184, 2.8636973246047854, 2.862738279850293, 2.855547162909799, 1.9448288356469496, 1.9441821065421538, 1.9305739096782002, 1.9305165781497378, 5.5362648375305, 5.5355680200667905, 2.8244157746579845, 2.817846833705172, 3.6853671433102866, 3.686235832593798, 2.823885918390654, 13.495117974145273, 2.81502224311232, 2.818844672384705, 2.802121053255678, 2.824363967580873, 2.808242636414665, 2.8115631999732296, 2.779115273581736, 13.024711678221399, 2.7739696768280506, 8.71467321393739, 8.00875931139936, 2.774227975620095, 12.189235887293586, 16.80504512237597, 8.090565387001444, 6.2057517355174605, 12.36621966607831, 164.27894315202076, 22.333030157753118, 5.457509732261063, 11.972684269216508, 202.01003643026752, 789.0507885157098, 8.699223410524262, 17.28616836285798, 24.56940074176825, 25.94241890780845, 9.931598375358565, 117.41478957995622, 2106.0424026614496, 26.58445345661203, 238.6769465422883, 235.26979101453358, 1344.8826352122333, 350.84309681090247, 203.29129272277805, 112.50807108480252, 505.76797018708504, 141.44435566759827, 187.7727955807131, 65.4850058102742, 188.64085237592718, 153.75312791450145, 104.41350157546205, 90.02822703645029, 123.25734718755494, 50.577936283342616, 160.83858395292975, 241.71320464716084, 399.0421621112455, 316.97566632779814, 364.64048722771963, 71.64669501288033, 74.15614929394164, 168.37495307654237, 340.77627165197345, 170.8814766975449, 121.16393663687664, 175.79766287465796, 253.08590992869213, 253.9440826210806, 155.40960297850637, 135.73469131531942, 121.8659122194295, 2.9972012888505977, 4.882414495238895, 5.770166320981728, 1.999611727422443, 1.999475535340834, 1.9994057899149582, 1.9993739803457244, 1.9993296825752358, 1.9993176656268585, 1.999230248218075, 1.9992243575571058, 1.999222001292718, 1.999164744068097, 1.9991527271197198, 1.9990770910328748, 1.9990507008717324, 1.9990023974517848, 1.9989597490663675, 1.9985094669418788, 1.996205275997151, 1.995309424276949, 1.9947415645595143, 1.9910745102929432, 1.9960066429092682, 1.9871609907714192, 1.9897528815978844, 3.8478850701255154, 1.983560383160581, 4.760598453912283, 4.77352162157304, 4.77409607883076, 4.773600792056467, 4.773928312806356, 4.756306282703656, 5.546340054265721, 3.7772541600928213, 2.888078679406942, 2.886433299985014, 2.871355564168148, 2.8790341585547714, 17.151318223464248, 11.690645344794863, 2.8658748932023674, 2.8545841455094063, 2.8553438051479993, 2.8342856346887224, 5.237735866133292, 17.330439557205377, 2.7987458633026665, 5.744505188041088, 2.785225382619629, 141.34371250543606, 2.778769453823781, 37.23470022053987, 31.830802003544896, 83.0842725047519, 6.150449014293621, 169.70975779266837, 56.132506113313944, 573.534567206174, 23.669867101679618, 2074.3665563063905, 82.50016775812266, 2138.590376306454, 70.68482513190791, 21.514230144044237, 84.91441509987096, 403.9367338569327, 123.35828988380804, 66.61513052175582, 188.50299078690497, 45.205166019372875, 143.14857332618092, 28.94397850617728, 158.09338190137368, 83.69472217224708, 28.480653987049823, 105.65040881688945, 354.4405540260002, 94.80148143174789, 142.76822324370752, 63.91703060676207, 135.51628236229303, 87.44686020335214, 78.06671116678656, 95.5193390550918, 91.07336598732827, 241.04706834874796, 128.1469278839339, 214.756571535119, 225.03897756099806, 132.3331916058741, 192.64733185285928, 134.01027880641448, 133.0658729597339, 124.87564120897775, 162.18774754217068, 108.59847633822207, 105.74342282484663, 125.32526169442637, 101.32102748105213, 99.27677019851738, 3.0907889414041176, 3.089984330411056, 3.0896362774894257, 8.825686206589147, 2.0626473489148016, 2.062618538125561, 2.0625158416026235, 2.062372949381794, 2.062359705712546, 2.0622539887036395, 2.0622086814141083, 2.0620945999825193, 2.061902218260817, 2.0618985007396247, 2.0605750631951603, 2.059983047945284, 2.059699354609296, 2.058902643348768, 2.058120802173009, 2.0459475466836987, 2.0560840652497694, 2.0519522727895856, 2.04792062105652, 10.679734844635396, 4.913748879099334, 2.978741923287445, 2.978402002443423, 2.026853196114596, 2.978261666018413, 14.31553934486154, 4.735714930438772, 3.835050160119906, 6.390392442251017, 227.6292947966435, 5.483948785238698, 2.92550167587678, 292.2122142417467, 50.16358040289017, 12.237860431350686, 10.652607163114775, 15.939201112676152, 10.267147613866909, 2.898259680579496, 13.61813794546503, 6.64982012334687, 2.8918908697418364, 2.8904003760887926, 2.8880583377376343, 2269.1328237090192, 11.336056705476524, 8.280428079509322, 7.727488159575728, 31.851476219356364, 8.827745713329689, 38.97340294652128, 20.699329004784854, 164.49326433975884, 547.361753361877, 289.29874827307515, 376.1534561420158, 74.67586308651796, 295.5923034704777, 71.63813525447205, 123.41695259277475, 102.95031810950167, 17.035535287501773, 32.42181088563895, 43.695015460317, 587.6178684082007, 1287.9284957992215, 73.50628630916135, 541.0460714783379, 40.53817824926932, 151.41533705697475, 208.5569984220144, 174.28353484073764, 375.5442882493583, 242.1103037979159, 969.8249657999519, 347.9002950804217, 244.81256995260966, 286.84328091529676, 350.3521043973468, 317.13789643452355, 145.34203755517447, 95.1514716659493, 173.59427667151292, 122.3428863698911, 99.28235147468021, 106.27805720480245, 116.91981106479626, 110.99316033899044, 6.622554842020965, 5.676685482227887, 2.817415726579016, 2.799979912225666, 1.8958151150986546, 1.8957893450290362, 1.8957687289733411, 1.8957028005452337, 1.8956542669141188, 1.895631288602042, 1.8956194773201336, 1.8955855467284692, 1.895566004425675, 1.8955432408641786, 1.895534006589232, 1.8955183297968807, 1.8955058742632318, 1.8954594881379183, 1.8953469588339171, 1.8952644946111377, 1.8931595094244602, 1.893004030004428, 1.8914722141161837, 1.8955501128827437, 1.8905524373813807, 1.8900744025899558, 1.7912281465539734, 1.887421159172143, 1.8749478012250105, 1.8745228098268842, 2.736160334815256, 2.7319997570753363, 3.600778597856176, 4.416578041011661, 2.7381961703151236, 2.7364416580752584, 2.735807070110901, 2.737722215784722, 2.7322211649234758, 4.365413715289774, 2.7204208352945485, 2.7038912683894516, 2.7187953881533566, 4.294756049906074, 2.692409628621474, 2.699585089756187, 5.677431096242184, 2.6856582998825664, 2.669217854468234, 2.6764135021574815, 2.67209723024695, 3.419994043211541, 4.6232565763596245, 29.036168242037423, 2.6084496680512435, 6.173748893058881, 5.61170625168464, 41.25032223892313, 734.4102600622833, 1641.620560580809, 17.31723251899802, 73.26377190817132, 598.4921233395568, 279.7583914232809, 7.4745502807109645, 8.731916645522094, 24.323784591398464, 6.564273682072748, 5.510725374881919, 21.21004033752947, 23.84507634215446, 1545.9524963068022, 18.514599289718532, 18.83519269981078, 21.7733156472338, 119.71262500707398, 135.88413397486713, 89.98000517155269, 162.91554885700612, 114.07120629462028, 425.4903753943959, 24.963323845132013, 13.195303011487782, 31.85261351074472, 62.68300051591535, 109.83061420653969, 99.08688663805296, 54.00348644796032, 79.7128039864156, 96.4323633067824, 79.56756387404528, 204.1530753973613, 140.63805897773122, 340.71429561739626, 54.95278022050454, 40.57901879737772, 159.44185342471874, 90.41148547320905, 143.1139235703501, 108.15716086165772, 120.99410528502953, 92.30157920335122, 92.62083944184187, 87.38888995558096, 88.58471739414293, 86.73529226986817, 136.1621895900423, 135.70286386916075, 113.67490385599793, 121.62432436358436, 98.65774969472726, 99.8626413257764, 99.77706407858702, 94.03953331448386, 3.035641914226311, 2.997481669108892, 3.937005539173061, 3.934684195901846, 2.026305809798183, 2.0262408742633267, 2.0261749177294948, 2.0261518431526433, 2.0261134535911562, 2.026106510798121, 2.0260381038667474, 2.024734696574333, 2.0244855728242555, 2.0243536597565917, 2.0223275893891572, 2.020928616592615, 2.0164337707018705, 2.016116240020419, 2.0150909528489933, 3.9035032955827074, 2.0036859858905225, 1.9955520954504888, 2.9262294177895662, 1.9886489171757977, 1.9902657711537604, 2.897371902739594, 3.814811156559179, 1.9694945679915525, 2.8747818920020247, 3.7868643725955557, 2.8669126444964994, 7.983099509707971, 10.416845783359502, 2.867230175177951, 4.537585316267923, 2.8543670174823457, 3.6644723245799726, 3.6448111515041766, 34.13101559956591, 2.8106143525752745, 27.579015231770928, 17.063153784544518, 4.825451485078902, 13.944046020851633, 15.707177296868046, 4.700787510142529, 5.385301979433618, 992.4109521323396, 22.406415518553157, 36.67381273181699, 76.79384496316645, 177.4083638212938, 13.80430148264417, 87.86665563405815, 179.95570562418564, 37.47581151124713, 116.62691277200031, 1779.7738925748417, 318.1063484450543, 40.84151094755781, 15.629534000360254, 181.25961769849343, 102.80974180146688, 1139.4141036787198, 99.84790381920003, 126.91849096582898, 423.60593410165416, 143.2505147350474, 24.257997977834822, 125.03522649993089, 207.38763819391076, 86.77420306601294, 309.5936020410912, 311.874811067769, 142.3611576496556, 308.01293226682833, 173.86379516602577, 135.75582682976204, 121.3002586884724, 308.1854402537673, 95.96112897923524, 103.12614366645067, 162.71921725193138, 111.96488442497436, 123.03643395793124, 115.77529834314487, 103.43749444530177, 100.67470062175265, 105.34783090324107, 102.30285583317784, 8.420410061404695, 4.270769952622626, 7.3526436275426015, 4.15452491032756, 10.161152582580169, 2.1391155471668277, 2.139031835046332, 2.138927992154003, 2.1389176277962276, 2.1389110504153312, 2.138883345689739, 2.13877950279741, 2.1387675439230533, 2.1387368494788714, 2.137475188234259, 2.1389044730344353, 2.1388131869601805, 2.1348011839281424, 2.1384538227857672, 2.1385845731453985, 2.1386477558649153, 2.1384918918691356, 2.1384516303254686, 2.138675061961363, 2.138572614271042, 2.1385947381886017, 2.122649771694488, 3.0885435377777486, 3.0830338850471297, 3.0818601215290378, 4.074915480994533, 5.008913135337815, 4.989707980379543, 4.031072254457824, 4.031262001930947, 4.031219747241554, 4.031305053878631, 4.031350896230331, 3.0888887506175067, 3.0890916528524226, 3.089041425580125, 3.0846188345285133, 3.0768945975816404, 3.0574032268971023, 13.94828572476808, 5.682569682602081, 7.763501120418439, 15.352115662247208, 2.95472532824493, 2.955508036571564, 9.19061339175312, 116.56413695322884, 8.375873618784453, 57.991828190498396, 959.5127259863631, 238.7879658637866, 13.758501577763354, 25.735252059666163, 159.01459471398016, 95.89989727440071, 10.189409010909742, 1942.6496055367534, 44.276603387256394, 11.948806578823088, 121.82051826465919, 557.7669003918429, 71.64508051230835, 56.26346788783165, 397.5431901326564, 94.64981540919868, 1109.1326713723856, 103.47635761359182, 143.672309246454, 171.43476909540647, 48.04136546181472, 105.86728420207373, 397.0330213635743, 63.77608378312477, 64.70934795984085, 185.78073682254265, 39.407635391413386, 90.19361354257882, 90.82610086761248, 128.9583526047186, 217.6753417443519, 76.12768119544108, 88.39221162437565, 104.40015673988385, 94.1006830329465, 92.1488863108358, 114.83407370685374, 132.48673716326266, 92.13022408877332, 89.61102820846, 114.88812144087886, 124.2002768590087, 90.37131284841713, 2.908339733698053, 2.908339733698053, 5.661242370399428, 2.891850319558926, 5.652052539789938, 5.6506583809111275, 5.632399546794978, 6.50869268834214, 3.7544504973180413, 1.9409170097711081, 1.9407723657874316, 1.9406631566752581, 1.940601774957955, 1.9405438786378488, 1.9405314861144816, 1.9404792051565263, 1.9404445448177337, 1.9404428021191351, 1.9403926511261336, 1.9403390147359347, 1.9403173278200423, 1.9402067632756255, 1.9399724671307144, 1.9397902583105808, 1.93926396333383, 1.9392091651445658, 1.938997717714613, 1.9389460176561903, 1.9373299551558363, 1.9302582778762492, 3.7095194675184757, 2.807738778068532, 2.80199677981961, 3.6482907204256194, 2.8028081028338065, 10.756624309600094, 2.7901419757866384, 70.5553508846197, 18.922573020501652, 5.1411730875751855, 242.99896794109893, 74.12771881063615, 61.279020462026224, 14.121145608234558, 2.722631187512499, 6.936060474650742, 112.63378600598989, 2.7092397105819943, 3.435516903206097, 383.52425929899505, 2.6945555385577484, 251.45433706444706, 160.79849296981527, 232.4358536584104, 248.01675022257228, 11.453212695266755, 5.924939389732914, 1116.9569677213947, 20.724836282578824, 15.052544428532114, 131.67295253352643, 309.8822840305214, 54.13407393709606, 26.935797047958527, 35.26369667595164, 124.11519866271142, 436.56951374052545, 1237.3409139159987, 121.82434157809728, 232.3007999387546, 155.86030786592943, 841.5264934928152, 44.82028401449438, 27.492450608828168, 32.17218344162934, 50.427628202639006, 107.05663000476777, 88.3049266455185, 106.34143269619983, 101.74530602229548, 125.24113376576189, 222.70968083384918, 216.0920485707168, 181.4431108995728, 171.98667373862207, 109.0369056687531, 142.37549509661935, 144.4281307045458, 111.86781652918653, 101.85265005970219, 3.070465773257635, 6.008174295952566, 2.052219337564671, 2.052202022244735, 2.0521483447529327, 2.0521292979010033, 2.0519395219945036, 2.051931903253732, 3.961268683769879, 7.771042170355029, 2.037451966957187, 4.877997822822412, 7.738579408538871, 2.028741322110144, 2.028242121436387, 7.724173754964852, 2.9625476954496333, 2.95717163491588, 2.958462665170314, 2.0164045029620876, 2.9549234137753797, 10.481450064104282, 2.0075757676330803, 2.0085649918610287, 3.871760600424314, 3.867646134101103, 3.85540593443829, 3.8553238598217927, 2.9161810780312036, 4.787652024298339, 16.795177421776845, 9.410274504737114, 4.787480948937371, 4.7842256687893885, 21.340574960526308, 3.8501008667162746, 14.629356425788353, 38.8340681535204, 7.073138503752263, 4.568992086307161, 2.9232464211779208, 2.902332285146329, 26.036248697937, 11.009981504607515, 5.194562389102558, 4.453396741945902, 143.86571814404317, 8.69476600604894, 6.908263412546528, 27.456927756698715, 6.805587721002374, 39.44821346191557, 57.04765701976012, 34.66581352046024, 19.233065035954553, 1324.4031537931517, 7.821732423161497, 1421.093141478341, 143.77974550272214, 173.84109130939018, 139.93656453046512, 384.16228705078925, 100.25623435651686, 174.7077438505748, 95.73290761717071, 50.67346941316036, 95.85088451063598, 90.76363797251405, 117.85829599073574, 225.36516681044398, 247.6569041552477, 133.72302984745787, 144.41986379102144, 214.08763521569938, 36.68362731731193, 70.245111289017, 144.73524087266037, 194.55646409082294, 190.12864034489064, 179.33279047580461, 91.86595063280306, 103.20709732776722, 117.02476696397606, 92.55055682630771, 88.36367922034991, 97.08063238475215, 75.43466504867484, 78.25236905394, 79.47781164690726, 85.61471010910302, 13.74451529571508, 3.0403447102289953, 3.039714823989556, 13.685096887628307, 3.9270648049862102, 2.0308508489579276, 2.0308005096887918, 2.030797121468754, 2.030519932800886, 2.030398279567142, 2.030163201634031, 2.0301248018069344, 2.0301146371468204, 2.0299924998816423, 2.030267107048529, 2.028261442129864, 2.0280157155052057, 2.0277561133127726, 2.0277686981300564, 2.027280149069344, 2.027087988590048, 2.0189020489783194, 4.852092115492682, 2.010909883284, 3.876883975473426, 12.310767721203312, 2.0036063329764446, 2.928745454744169, 2.932527030994163, 2.9322169281887835, 3.8294388916255833, 2.930126557769169, 3.8142661196079435, 2.9147937326906885, 2.908757860708767, 5.427614203078916, 20.810385517170744, 25.862785651744193, 3.6805375923360972, 5.780071695058902, 17.82692934406684, 6.289063016667235, 2.8214853797212993, 3.547119813244876, 6.95553493338881, 5.555381076522053, 2.7870320222495133, 4.847874588264469, 2.7837348001211373, 10.010414784893062, 7.793892220699327, 571.6395230178509, 19.62631039156719, 64.09176643226138, 18.532718166108985, 437.81331433037275, 195.56701766506802, 14.476385022171383, 147.19402619699883, 8.867706921764485, 1634.5043178376106, 34.56660791983606, 18.298777384180863, 71.99325045085966, 219.36967518119383, 362.05865173368403, 398.96205499380824, 57.94356559814021, 31.24504481870726, 118.67597833640741, 20.367575490844967, 319.73820616237464, 19.561192029313688, 18.215931854688716, 47.17767906869398, 34.300150551547375, 73.29557639191401, 46.4210308050686, 46.3071453077772, 355.59027765885514, 75.17619469379515, 112.70429537638614, 159.13650408070382, 158.71056674479186, 71.75931999493547, 103.80995059137078, 107.14948352083047, 84.03451205111537, 52.334831350086965, 70.85299114141186, 60.70085647027169, 86.90113981580919, 104.65893398209562, 68.10866973021047, 57.19757893356762, 60.543699853531606, 61.83486338434277, 2.0004351258046196, 2.0004315955273837, 2.0003828135146744, 2.0003693342743203, 2.0003195894587287, 2.000272733051784, 2.0002554025999, 2.0001780574350123, 2.0001632944574816, 2.0001626525888936, 2.000161689786011, 2.000158640910217, 2.000067014169239, 2.000066211833504, 2.0000652490306217, 2.0000426231628845, 2.0000368463455898, 1.999739500722068, 1.9881571425136524, 1.981612329453227, 1.9798035437714463, 2.888430791738775, 5.6621487549854175, 2.8883335486476502, 1.9533338459935472, 1.9516121939726256, 1.9501644593717538, 1.9542180199739065, 2.8432798296332, 1.9446301079364328, 4.665862476719193, 4.665995343516967, 4.563968084869362, 5.403825532288074, 2.8001664793611285, 5.0807201176468215, 2.779890492525864, 2.778124391105204, 2.763124884999918, 19.265038673770448, 6.206491829964507, 4.845417832802534, 10.880146270411158, 2.7507708402812394, 2.7449247011791598, 3.4572348367487318, 170.51210292019115, 15.204305832012194, 31.794916873523167, 12.237779210071347, 4.624381398267125, 7.353446810366994, 7.23239873890851, 3.352494399578455, 3.8992415933549567, 5.092291724556383, 188.5312643942073, 9.247499599152508, 97.60518716781093, 74.99151493402054, 16.451885267262593, 41.71964046653824, 7.397633685852968, 136.14052270282704, 18.081914398418228, 1479.0518930588794, 38.193427542883995, 288.83127264306466, 16.52827661542848, 200.67217279693503, 30.868798064656545, 65.33307694354046, 71.38500424997211, 321.639014501834, 261.85662711666083, 24.569502306723763, 100.9676234699533, 22.640240458396583, 272.2203092323564, 138.1799189310061, 132.43642745356482, 257.7341465167098, 83.62621874072795, 111.03935294200559, 226.90071027631893, 56.901619541575606, 138.2222925277302, 60.164098932201874, 100.99914178511233, 324.57275447628535, 154.261202112766, 189.3987831684381, 75.9091456726757, 130.67576651105904, 100.70977715561705, 72.2041569423386, 79.88096174263633, 77.7565769784199, 75.45365518263543, 76.60769895972692, 3.0978267816791134, 2.107525268453758, 2.107375489572462, 2.1070649490863724, 2.1069188311129077, 2.106663204244297, 2.0833265085149506, 2.0772982666750464, 3.039743454697707, 2.074419997269639, 2.92626740882144, 4.971587963924594, 3.0233422692709544, 3.9557143728137487, 2.035113625727987, 2.033286832719866, 2.975900405507372, 2.0197865188251347, 3.885263544156728, 5.733243340090677, 1.9916435286222116, 1.9909584613479279, 1.992740368442632, 1.992737344214423, 1.9917212035362102, 1.9927402092727262, 2.9290379202006647, 1.9871157814836717, 1.9927672681567012, 1.9925950463186959, 12.628845927239238, 2.89236835731742, 7.66643824679782, 2.8017710753517, 12.192880828790136, 2.7996830845282674, 4.308778372579234, 22.575223080232572, 6.860105788130773, 144.82836615493366, 6.065126600499997, 24.4404651707833, 4.8856400349053954, 6.632110815155863, 3.495394368748312, 9.958839519932765, 100.46840104056322, 12.878282996555532, 6.720713698202722, 139.61105678397226, 8.86174057090588, 7.9252294131343515, 65.05442640156349, 70.92906418899636, 312.87045846348025, 46.47037470068602, 1028.0998237650035, 48.16198152446848, 521.3411465506657, 78.47292823810609, 142.23277104187872, 80.31817349505953, 45.241190833763575, 19.355755791532417, 39.99850341303176, 154.2759073700718, 45.92809174536137, 99.49160206961129, 906.6975495252736, 218.81305449846275, 71.97484867045313, 94.89587537437099, 88.63443179553548, 305.5645139493078, 125.44497592104715, 266.2884509044264, 161.98106528813872, 256.99787923024644, 119.05286530983636, 108.77310742596055, 126.35829029343647, 92.32167269664683, 128.51082769704277, 111.66961260912802, 121.95006320043359, 151.64796893217147, 128.1748442198617, 136.7835982325534, 121.49592217210879, 120.50447447639223, 93.3902350282939, 5.8073442323202755, 4.8285904841196166, 4.827041613372738, 17.88601046695641, 21.463311608036957, 2.9073051153686014, 2.9007453945086383, 22.32381842296442, 22.31072711979258, 22.308893737059496, 22.307853236081375, 22.302643227577946, 3.7684534891924297, 5.587540901896483, 1.9404671043308472, 1.9402555962443992, 1.9402419959461574, 1.9399134002346174, 1.9391467811245355, 1.9384498830836006, 1.93776752329251, 1.9363058820446988, 1.935546922872707, 1.9331731236911012, 1.930345824909506, 30.810704670276984, 5.493034148993083, 1.9101582925608591, 1.910708870151746, 2.802148547315642, 28.37270582795989, 7.97218905704213, 571.4013570678709, 16.940666554850107, 3.6395445473988355, 35.28722251423665, 2.789964555994315, 2.7809574067519205, 2.76858082270147, 3.554240662972297, 2.6615996261303874, 11.163503729207095, 2.722399524931855, 6.274926237675168, 5.492670223771169, 20.96038320917831, 15.164490115326982, 5.770183840416564, 35.06980783389484, 103.31402340861908, 1670.4154679632938, 143.89488219119607, 24.424032129237602, 32.8359197663844, 23.725951018680817, 89.87525293898918, 383.90368109948724, 48.51199744976776, 199.96679957457573, 33.40180222622578, 753.3457592582174, 91.61315970251293, 216.50434203412362, 76.2774959208658, 132.9110337120034, 94.92140254799745, 259.4660871606177, 136.51669976015697, 81.8779774283766, 151.5217843752745, 254.81386721999917, 87.348986597831, 189.01158488191555, 184.50585547323598, 136.01915020109024, 74.19338746891502, 95.76716976613629, 71.258894575735, 74.3901872236278, 62.93635745888007, 152.07617130027108, 100.05528439813209, 84.06299446557091, 125.59319033287818, 134.8638039275091, 97.44497759335644, 113.61184157944872, 83.7895077878072, 2.900066554832453, 1.9703183782933074, 1.970243291224052, 1.970172993659214, 1.9701685131550817, 1.970143947632424, 1.9701048590963712, 1.9699931554933432, 1.9699222399279352, 1.9699047814118327, 1.9697943138099445, 1.9696648426905288, 1.9695077160456054, 1.9692832273385517, 1.9681593933020003, 1.967939076098794, 1.9573119382970146, 1.9527038170467836, 1.9462926791335677, 1.9502909883213477, 1.9502889798194951, 2.8612555010356657, 1.9445125284916729, 1.9428708099774585, 1.9404967607877903, 1.93152462851248, 4.5984310012931715, 1.9087594960154048, 3.683932606819431, 1.9094176666224587, 8.324056707567602, 3.5631975434612744, 9.164913227118873, 2.722675053218089, 4.964241297692757, 2.7194648492572058, 27.15683118369184, 8.301021972321863, 222.93732786286702, 7.1095533353888145, 4.587699730395347, 4.561934668631332, 4.594054012256122, 12.685037675852332, 7.207683791897955, 13.73385385921205, 747.3859603801183, 108.5965334743675, 4.9300658661715655, 29.429387375749613, 31.576568556169647, 4.783254886762682, 7.1070318930632, 4.80871867324882, 80.08345059975746, 187.31547836759378, 10.03666668516747, 75.33118442457675, 42.05108740918343, 334.4999970970049, 90.23551900336396, 994.567361612139, 441.1477918459828, 319.37324164107116, 25.56432529086815, 311.91843425324254, 645.6456241094604, 139.934343690322, 42.139332946575365, 264.2962398016329, 52.883984792742226, 62.15590172855435, 77.05551478298673, 246.60491052430336, 109.55848844161208, 70.46338180683274, 55.443233921226884, 81.72025724544127, 91.35352653054126, 68.75749752943622, 126.01344083458815, 82.61724304876255, 90.65078572237893, 94.76645198240135, 99.04340155918099, 72.30265038325425, 76.37651508472165, 111.47948141341085, 80.03603265202223, 70.94142749575094], \"Total\": [6496.0, 706.0, 4615.0, 21573.0, 2326.0, 4836.0, 15152.0, 2602.0, 2317.0, 4015.0, 4576.0, 1033.0, 819.0, 3168.0, 487.0, 3979.0, 434.0, 4041.0, 634.0, 643.0, 356.0, 1493.0, 829.0, 659.0, 1771.0, 403.0, 1234.0, 1041.0, 550.0, 345.0, 5.641887673814023, 2.8847892870523593, 2.884047421528142, 2.8837014982513294, 2.885768862526109, 2.8856318202229065, 3.806565726964703, 2.885306179189314, 1.9681181082207788, 1.968105727287464, 1.968087032078159, 1.9680800987555025, 1.96800643220228, 1.9679988798329582, 1.9679902131796378, 1.9679822893823165, 1.9679770893903243, 1.9679586417996853, 1.9679462608663707, 1.9679427942050425, 1.9679269466103997, 1.9678912895224534, 1.9678743276438122, 1.9678723466944819, 1.9678449848318562, 1.9677511373573309, 1.967745442128006, 1.9677068136160643, 1.967701489814739, 1.9676507279881486, 2.8904655011742766, 2.883455257929251, 2.8943476070143794, 2.8921663908479935, 2.888224150947608, 2.8900382506489537, 2.8894475312362515, 2.887765956692522, 9.435338689156213, 3.8346130795588342, 2.887876081214772, 12.355117398309861, 6.659965776174479, 3.824538645182028, 10.372436342773398, 8.52793331019189, 3.82109893194292, 3.831230779460636, 3.819874261906121, 7.58134337505236, 2.892650443457473, 23.806970179424503, 5.77644376428878, 9.609781464739621, 160.0541861646933, 432.97950589920936, 12.346968763258655, 16.232539155779307, 1239.55998944386, 3979.658531145112, 47.19467615040783, 215.6729157724174, 306.83900778267196, 94.91845529552481, 22.040614355583852, 21573.14043553735, 306.6703357661699, 15152.19260343916, 4576.515266253947, 774.1072890545031, 4015.923239341934, 2602.8001972378765, 40.63331189512397, 808.7907881518871, 369.2024020859979, 1102.5430299118434, 879.9814624483706, 518.0548981103703, 752.3899660560047, 1734.892341679249, 1234.2535803333508, 441.2456892419094, 1006.2920720812712, 557.7358390602232, 828.7466131388989, 3168.2813832898755, 605.0546758425087, 241.24657038355573, 731.9721753677206, 1026.4733137614717, 4615.278912158447, 2030.0284311127941, 6496.836621909126, 4836.25884808757, 4041.2898330942985, 1107.2316365505585, 1765.204293328162, 1390.8530170759711, 1032.370226796587, 1493.766175939615, 2317.2232535345265, 1453.084022126155, 3.060546259505139, 3.0603623566579516, 3.059851406290799, 5.011487249769866, 2.0849752929454244, 2.0848929172375055, 2.084891321284893, 2.084890093629037, 2.084799369861299, 2.084751000220584, 2.0847498953303134, 2.084705208657165, 2.0846082238445627, 2.084515658593041, 2.084457958767822, 2.084165040080646, 2.0839492181812096, 2.0831703933063377, 2.0826533046599063, 2.0803514499304225, 2.0848057165464833, 2.083757508804511, 3.060048757833508, 3.060155060844836, 3.0599030772773945, 2.0841386461848033, 2.084865880476066, 2.0818417422811963, 2.0844299744831045, 5.982627775482586, 5.99143582091659, 3.058740143441616, 3.052236723115278, 4.026558167001125, 4.030401398103267, 3.0615476228225846, 15.705530317249753, 3.0522750200979147, 3.060356002570071, 3.0421895299183026, 3.069660455835271, 3.0644543560102147, 3.0696818562839137, 3.0530203639891287, 16.695523573676343, 3.061911404724966, 10.864046478150692, 9.915600206200885, 3.0653812391485835, 16.80221111001323, 25.649436716576695, 10.925775649424525, 8.044058696794998, 18.835030486158093, 453.7515630569758, 40.20500274452914, 6.979221287852547, 18.68760415996347, 682.0155201678572, 3979.658531145112, 12.801310423876334, 31.265531659387527, 50.2198731392666, 54.13787716630873, 15.907434382205166, 429.37182324573575, 21573.14043553735, 59.93245214040065, 1239.55998944386, 1276.7426693895736, 15152.19260343916, 2317.2232535345265, 1076.7113936022474, 480.40338861292753, 4041.2898330942985, 667.5607077594983, 1026.4733137614717, 228.2818239631685, 1094.8240482664523, 846.1489166121246, 481.0415348126632, 393.6865989386228, 647.8018316689097, 168.96072342631635, 1041.7977895546353, 2030.0284311127941, 4576.515266253947, 3168.2813832898755, 4615.278912158447, 299.6122008486654, 323.2329149118295, 1363.4023397133094, 4836.25884808757, 1453.084022126155, 837.1520340556991, 1765.204293328162, 4015.923239341934, 6496.836621909126, 1771.692241352486, 1734.892341679249, 1053.696284802309, 3.126648233635795, 5.1165007192190295, 6.113740717081014, 2.1290586722076403, 2.128922480126031, 2.1288527347001556, 2.128820925130922, 2.128776627360433, 2.128764610412056, 2.128677193003272, 2.1286713023423034, 2.1286689460779153, 2.128611688853294, 2.1285996719049174, 2.128524035818072, 2.1284976456569296, 2.128449342236982, 2.128406693851565, 2.127956411727076, 2.125652220782348, 2.1247563690621463, 2.124188509344712, 2.1226850491197675, 2.128305719462987, 2.126133492359727, 2.129075087209756, 4.119337086190875, 2.1248980668171686, 5.105362759308044, 5.121454697092965, 5.1225915150844585, 5.122101475416475, 5.122544332294828, 5.104295050552504, 6.085674236666886, 4.107258332656914, 3.1168249778963006, 3.120651808683859, 3.1177983708736203, 3.127284060311745, 21.040088777395834, 14.04005264653099, 3.1233292687358913, 3.1176356085415704, 3.1225536572448576, 3.113031231181536, 6.131852449356961, 23.125037230400228, 3.1060717512415827, 7.133360147513297, 3.110761092481225, 296.6539682598795, 3.110626672247724, 64.39536814082142, 54.568847064448285, 188.8554786172396, 8.100068979197415, 481.21058115972414, 131.1937131761741, 2602.8001972378765, 45.597009146453054, 15152.19260343916, 239.14705605357372, 21573.14043553735, 225.48019453999606, 46.608010940548745, 322.21228452318667, 3168.2813832898755, 602.2298606886171, 252.27055210576398, 1205.6726941242475, 148.39020354825539, 859.6994668134275, 77.84137335983196, 1053.696284802309, 402.32033105693057, 77.53329891316622, 584.1704283828512, 3979.658531145112, 513.7361493333735, 1076.7113936022474, 290.2720094360255, 1102.5430299118434, 522.9777121079647, 431.72838303879945, 645.892795242927, 628.8581172620493, 4615.278912158447, 1276.7426693895736, 4015.923239341934, 4836.25884808757, 1493.766175939615, 4576.515266253947, 1765.204293328162, 1734.892341679249, 1454.7184775531364, 4041.2898330942985, 1107.2316365505585, 1239.55998944386, 6496.836621909126, 1390.8530170759711, 1771.692241352486, 3.219923096053606, 3.2191184850605445, 3.218770432138914, 9.3637257240288, 2.19178150356429, 2.1917526927750495, 2.191649996252112, 2.1915071040312823, 2.1914938603620344, 2.191388143353128, 2.1913428360635967, 2.1912287546320077, 2.1910363729103053, 2.191032655389113, 2.1897092178446487, 2.1891172025947725, 2.1888335092587843, 2.1880367979982562, 2.1872549568224975, 2.175252689946025, 2.1873152376595826, 2.1896740204263994, 2.1903238013300035, 11.427063781365511, 5.259698595178011, 3.2071720036701836, 3.21381778462602, 2.1900731066951105, 3.2210384788865114, 15.492116284352988, 5.234907678738725, 4.2256717670448225, 7.305148393285146, 356.93408560846774, 6.281134148568871, 3.1982316092426513, 487.4630363397316, 70.49126839181724, 15.357147939298912, 13.414089027846847, 21.65475461990179, 13.27976286149519, 3.208605529256148, 18.43338149868626, 8.244655819982746, 3.207943439027113, 3.2082582403485587, 3.207847092090026, 6496.836621909126, 15.346318900096179, 11.163870616473465, 10.312367967956254, 56.548302287168596, 12.381920690259973, 75.91402983071139, 35.661413521408726, 491.88499233810046, 2317.2232535345265, 1041.7977895546353, 1493.766175939615, 199.40617455550228, 1234.2535803333508, 199.7048736942551, 434.8986126592912, 355.68645733149043, 30.435019884391398, 75.4552284130604, 115.31849268729555, 4576.515266253947, 15152.19260343916, 254.02762163898302, 4836.25884808757, 107.44871591338178, 829.2946317187381, 1390.8530170759711, 1060.1705621449935, 4041.2898330942985, 2030.0284311127941, 21573.14043553735, 3979.658531145112, 2326.877376885268, 3168.2813832898755, 4615.278912158447, 4015.923239341934, 1363.4023397133094, 573.0025868149093, 2602.8001972378765, 1076.7113936022474, 647.8814189881322, 1053.696284802309, 1765.204293328162, 1771.692241352486, 6.752519967713421, 5.806650607920343, 2.9710049965478555, 2.9743621904265356, 2.0257802407911094, 2.025754470721491, 2.025733854665796, 2.0256679262376887, 2.0256193926065738, 2.025596414294497, 2.0255846030125886, 2.0255506724209242, 2.02553113011813, 2.0255083665566334, 2.025499132281687, 2.0254834554893355, 2.0254709999556866, 2.0254246138303733, 2.025312084526372, 2.0252296203035924, 2.023124635116915, 2.0229691556968827, 2.0214373398086387, 2.025797147200871, 2.0205175630738355, 2.0255245321910036, 1.9211932722464287, 2.025399667056001, 2.0240737546262184, 2.026925954304863, 2.9652717317095183, 2.9612191311842695, 3.927238317455259, 4.8806214279390705, 2.9731689835004094, 2.9743402977760187, 2.973731380376855, 2.979112397242102, 2.97582924253204, 4.891762918007575, 2.98259960703853, 2.964775413378497, 2.982907108518226, 4.893303919855406, 2.960924292661616, 2.9695982064068933, 6.798219313779654, 2.980898508731792, 2.9641280222070496, 2.9731506181057545, 2.9760856596133007, 3.927964276857425, 5.82143540004805, 55.697991097716276, 2.988665523279287, 8.676191190112899, 7.775260436412195, 98.43782181460446, 4576.515266253947, 15152.19260343916, 35.28184401461287, 241.84059995270252, 4041.2898330942985, 1493.766175939615, 11.66148331786026, 14.394556624031809, 58.08831389659966, 9.825442582545096, 7.743390377744195, 49.722912140194026, 58.65488653477522, 21573.14043553735, 42.43625499793908, 44.72223543087542, 55.52376487510712, 663.7303794602603, 819.1812696095211, 451.9265132075717, 1102.5430299118434, 657.4557565594087, 4836.25884808757, 74.03197856800327, 27.843461952399505, 108.71959134912153, 315.0656031108702, 757.7903251540006, 662.0859515422552, 252.9999851874702, 474.2435325568041, 647.8018316689097, 490.36864389724724, 2602.8001972378765, 1390.8530170759711, 6496.836621909126, 277.74734383336687, 164.33303122636744, 2030.0284311127941, 731.9721753677206, 1765.204293328162, 1076.7113936022474, 1454.7184775531364, 846.1489166121246, 859.6994668134275, 774.1072890545031, 825.3630090927435, 789.0453608521284, 3168.2813832898755, 4615.278912158447, 2317.2232535345265, 4015.923239341934, 1453.084022126155, 1771.692241352486, 3979.658531145112, 2326.877376885268, 3.164958884374904, 3.1623453714958085, 4.165662681415339, 4.163341028620791, 2.1556227799467758, 2.1555578444119194, 2.1554918878780875, 2.155468813301236, 2.155430423739749, 2.155423480946714, 2.15535507401534, 2.1540516667229257, 2.1538025429728482, 2.1536706299051844, 2.15164455953775, 2.1502455867412076, 2.15452987170834, 2.155315643059332, 2.1548707911513922, 4.175063157577308, 2.1551006970620374, 2.155589489751462, 3.166237412372239, 2.1545443848071333, 2.157129204732616, 3.1607893451172284, 4.171021941869405, 2.154974467583712, 3.1495691018343748, 4.156671793176236, 3.1526012511949544, 9.196166197703999, 12.184622295803957, 3.1567821965576965, 5.156236657613326, 3.1574818309386754, 4.174714744909127, 4.1588936544073025, 54.14170390308487, 3.1542325174127477, 47.19804355166066, 27.30393249648649, 6.118525812162477, 22.020826102768932, 25.966599709158956, 6.088905723105761, 7.203836034200024, 4615.278912158447, 43.02894223556055, 82.0997286182051, 216.47549708496942, 657.4557565594087, 24.352416959438163, 275.43946722884783, 752.3899660560047, 101.14380556866722, 490.36864389724724, 21573.14043553735, 2030.0284311127941, 117.97203518418837, 31.81648659677047, 1026.4733137614717, 464.3111415995077, 15152.19260343916, 470.32025383141547, 674.5621305293851, 4015.923239341934, 939.3718647028608, 64.79982677726188, 789.0453608521284, 1734.892341679249, 489.53834410136915, 3979.658531145112, 4041.2898330942985, 1234.2535803333508, 4836.25884808757, 1771.692241352486, 1276.7426693895736, 1060.1705621449935, 6496.836621909126, 679.0555189965854, 828.7466131388989, 2317.2232535345265, 1090.901346431418, 1765.204293328162, 1454.7184775531364, 1094.8240482664523, 1493.766175939615, 4576.515266253947, 3168.2813832898755, 8.658592110538127, 4.400169169736456, 7.590773618490759, 4.38567735191476, 10.757469231996803, 2.2678724945144406, 2.267788782393945, 2.267684939501616, 2.2676745751438405, 2.267667997762944, 2.267640293037352, 2.267536450145023, 2.2675244912706662, 2.2674937968264843, 2.266232135581872, 2.2678533626684585, 2.2677873349534377, 2.2635581312757553, 2.2674430194550137, 2.2676049571168475, 2.2676783271895107, 2.267526064374787, 2.267490930908115, 2.2677382581637056, 2.2676320397042815, 2.267678190808065, 2.2642520816863403, 3.3165287490580466, 3.316285759645504, 3.316215098595336, 4.388387856328174, 5.437849759177737, 5.43922903473122, 4.382551819683998, 4.3830257157837265, 4.383410874530187, 4.383804949716483, 4.3839568316883915, 3.3282647620928643, 3.328612766708844, 3.328569195012647, 3.326291128913974, 3.3200714414774333, 3.319582664331147, 17.013319254772174, 6.4958781798612835, 9.543321775137239, 22.01694846845463, 3.3046655217487184, 3.3060595063346967, 12.630512406108672, 259.917199262756, 11.643672481657049, 126.89634672349462, 4615.278912158447, 877.8529443021956, 22.799194757033746, 51.82959218543248, 612.2245255545175, 322.21228452318667, 16.615863095665492, 21573.14043553735, 122.55197300901372, 20.726917606043813, 526.0886134931145, 4836.25884808757, 257.947740734017, 187.09269994279703, 3168.2813832898755, 400.0870801871206, 15152.19260343916, 489.53834410136915, 819.1812696095211, 1107.2316365505585, 165.1353650460047, 565.5070003637551, 4576.515266253947, 277.74734383336687, 295.44953138018826, 1734.892341679249, 136.32613037022838, 621.0469323879726, 673.5154171342853, 1363.4023397133094, 4041.2898330942985, 518.0548981103703, 731.9721753677206, 1454.7184775531364, 1102.5430299118434, 1053.696284802309, 2326.877376885268, 4015.923239341934, 1060.1705621449935, 1090.901346431418, 3979.658531145112, 6496.836621909126, 1453.084022126155, 3.0380837370895404, 3.0380837370895404, 5.939061453163029, 3.035271805902577, 5.939272263935045, 5.93958099464417, 5.938261762730215, 6.9036190070923835, 4.004199034552549, 2.0706610131625953, 2.070516369178919, 2.0704071600667455, 2.0703457783494423, 2.0702878820293362, 2.0702754895059687, 2.0702232085480134, 2.070188548209221, 2.0701868055106223, 2.0701366545176207, 2.070083018127422, 2.0700613312115297, 2.069950766667113, 2.0697164705222018, 2.069534261702068, 2.069007966725317, 2.068953168536053, 2.0687417211061003, 2.0686900210476775, 2.067112081064745, 2.0600022812677365, 4.019079816606989, 3.0300669800291162, 3.0340849050853365, 4.0047664380212575, 3.042109878465339, 12.768615309325277, 3.0403131011326794, 97.2160198251688, 24.478567436895194, 5.951481592768391, 434.34525238816576, 117.85970987143406, 96.89198291780411, 19.600416800565917, 3.0326418791111247, 8.836728398320577, 218.4370969878035, 3.0297815482623474, 4.006394099187031, 1033.7586339938218, 3.0396330741737607, 659.5294328840796, 403.48227150306826, 643.2020468685167, 819.1812696095211, 17.747463698897302, 7.857734558574, 6496.836621909126, 40.346476858784264, 27.62820887297102, 545.8047924935104, 1771.692241352486, 183.48394294530524, 67.79414166384392, 100.21423062598774, 621.0469323879726, 4015.923239341934, 21573.14043553735, 647.8018316689097, 1765.204293328162, 1053.696284802309, 15152.19260343916, 151.06010179590285, 70.37635109037292, 98.37153877474918, 212.68909799984448, 825.3630090927435, 605.0546758425087, 859.6994668134275, 819.2135406807421, 1276.7426693895736, 4836.25884808757, 4615.278912158447, 4576.515266253947, 4041.2898330942985, 1363.4023397133094, 3168.2813832898755, 3979.658531145112, 2326.877376885268, 1453.084022126155, 3.2039461708727996, 6.27027668080688, 2.181410846319193, 2.181393530999257, 2.181339853507455, 2.1813208066555254, 2.1811310307490257, 2.181123412008254, 4.224205404061865, 8.310424546692149, 2.181013824451667, 5.236247628683142, 8.309275635012972, 2.1807090661251562, 2.181134069385909, 8.308883318866586, 3.199578211930556, 3.1953874013881345, 3.1980930960386877, 2.1815090064629934, 3.200332254169483, 11.368423714246498, 2.1782669819954803, 2.1795939078432385, 4.205940856077148, 4.212505574832438, 4.214440476199351, 4.214621003660052, 3.189125553728727, 5.240124330289258, 18.454008629942876, 10.337613816730018, 5.2402202243213125, 5.240470705312751, 24.57527922146, 4.21869892041553, 17.422043030709403, 49.93707486282429, 8.283525390380614, 5.210811397227628, 3.2082300587946198, 3.19637247323908, 37.7321741384909, 14.317754066796478, 6.254508999929557, 5.248611352378718, 374.33359858115216, 12.301185769776504, 9.296076598155521, 55.64117298402128, 9.227643415682554, 97.24914539387264, 167.11648241956442, 85.36357081653638, 38.422202537785004, 15152.19260343916, 11.28125762009466, 21573.14043553735, 774.1072890545031, 1032.370226796587, 757.7903251540006, 4041.2898330942985, 557.7358390602232, 1454.7184775531364, 569.0446263254742, 214.00172644278308, 614.3501770880013, 628.8581172620493, 1006.2920720812712, 3168.2813832898755, 4015.923239341934, 1363.4023397133094, 1771.692241352486, 3979.658531145112, 135.3897738547888, 513.7361493333735, 2326.877376885268, 4836.25884808757, 4615.278912158447, 4576.515266253947, 1033.7586339938218, 1734.892341679249, 2602.8001972378765, 1453.084022126155, 1276.7426693895736, 1765.204293328162, 808.7907881518871, 1053.696284802309, 1390.8530170759711, 6496.836621909126, 14.291659244449276, 3.172012494936419, 3.1717518882580755, 14.287960759467872, 4.174932265253233, 2.1601497829308722, 2.1600994436617365, 2.1600960554416986, 2.1598188667738305, 2.1596972135400865, 2.159462135606976, 2.159423735779879, 2.159413571119765, 2.159291433854587, 2.1597235434895548, 2.1599117053710075, 2.1597014327249417, 2.159616351450271, 2.1596460617874524, 2.159433413534594, 2.159625701053856, 2.152944195105438, 5.185190337258451, 2.1568008435658683, 4.175762688108443, 13.273446933405161, 2.160453990418566, 3.162440124716098, 3.1675244026107423, 3.169441182316337, 4.1700817352084725, 3.17491800785399, 4.184009504376024, 3.166063520560367, 3.161934950449508, 6.212080572966166, 27.281925560881263, 35.42865549816695, 4.174816296033534, 7.176605721915937, 26.322042570465165, 8.104703837024484, 3.1680104983489223, 4.15214300503226, 9.211884400818187, 7.134474816332345, 3.1509842579467553, 6.16246195471501, 3.1651684817148067, 15.114656846603376, 11.13465048722693, 2326.877376885268, 35.2936882724609, 166.3450321888009, 35.86422522672255, 2602.8001972378765, 879.9814624483706, 27.068664881293852, 645.892795242927, 14.166934961181148, 21573.14043553735, 97.3115389772471, 41.288141748682946, 306.16002598110583, 1765.204293328162, 4015.923239341934, 4836.25884808757, 250.5601161854483, 101.67933770654285, 856.4178681359006, 52.91594783844719, 4576.515266253947, 51.02592459707105, 45.67915355696758, 232.8143458863662, 137.45057998286563, 596.9014828018195, 261.53256617756324, 263.92487096208123, 15152.19260343916, 732.2710565054023, 1771.692241352486, 3979.658531145112, 4041.2898330942985, 696.9149656674144, 1734.892341679249, 2317.2232535345265, 1363.4023397133094, 418.94387444746513, 1006.2920720812712, 645.1592110783512, 2030.0284311127941, 6496.836621909126, 1205.6726941242475, 662.0859515422552, 1454.7184775531364, 4615.278912158447, 2.129885707354602, 2.129882177077366, 2.1298333950646566, 2.1298199158243025, 2.129770171008711, 2.1297233146017662, 2.1297059841498824, 2.1296286389849945, 2.129613876007464, 2.129613234138876, 2.129612271335993, 2.129609222460199, 2.1295175957192214, 2.129516793383486, 2.129515830580604, 2.1294932047128667, 2.129487427895572, 2.1291900822720504, 2.1285701516014863, 2.127259470956853, 2.1300455483346497, 3.120284907253187, 6.117283442046798, 3.1224592670253584, 2.1249256127367633, 2.1253310047467693, 2.1253515908013965, 2.1322124177837907, 3.111905810622352, 2.128555709747765, 5.120617560348785, 5.1209970813584915, 5.101762752017123, 6.096882416979711, 3.1380611985893974, 6.104447539877272, 3.116263949242668, 3.1170369318644346, 3.1102110174574187, 30.967563044718645, 8.083421406631633, 6.067423990636978, 15.916173071173494, 3.1010534562360434, 3.104690864434363, 4.142593559480277, 550.1303563735603, 26.999047789044134, 68.9776901947269, 20.841912810190024, 6.1275733622244015, 11.061629846794911, 10.871782002539046, 4.108023277716366, 5.024656094202615, 7.109803398772005, 829.2946317187381, 16.023243572184974, 393.78575108539405, 278.29946853801835, 35.0683238427822, 125.72669081881241, 11.881664615185713, 645.1633552823605, 41.93762770565949, 21573.14043553735, 122.64310652513619, 2326.877376885268, 38.32503026971372, 1453.084022126155, 98.8516446649308, 308.09289623561256, 355.68645733149043, 4041.2898330942985, 3168.2813832898755, 78.7131955169716, 808.7907881518871, 69.72361756348263, 4576.515266253947, 1454.7184775531364, 1390.8530170759711, 4836.25884808757, 679.0555189965854, 1205.6726941242475, 4615.278912158447, 378.4515762915001, 2030.0284311127941, 436.68819306812844, 1363.4023397133094, 15152.19260343916, 3979.658531145112, 6496.836621909126, 825.3630090927435, 4015.923239341934, 2317.2232535345265, 828.7466131388989, 1239.55998944386, 1234.2535803333508, 1102.5430299118434, 1734.892341679249, 3.2819533020903524, 2.2364432302855515, 2.236293451404255, 2.2359829109181657, 2.235836792944701, 2.2355811660760905, 2.233811858073091, 2.2349964350525546, 3.271080909146418, 2.2330002683245813, 3.1544474809623675, 5.371135538878345, 3.2666668133090297, 4.306354841607692, 2.230786607386712, 2.2320437447949177, 3.2782761256369635, 2.2289386788744863, 4.307512726759371, 6.37618964583739, 2.2198654715319925, 2.219247996415524, 2.2239718569019478, 2.2253271640820707, 2.2242402820331226, 2.226240676746811, 3.273073032841253, 2.220769299334305, 2.2273222925121923, 2.227698990439131, 14.718198884869201, 3.275642466788094, 9.444256697719517, 3.236022662472428, 16.595351900279308, 3.2448515629907204, 5.297435942878199, 35.93847423009617, 9.413723661327028, 345.43287718775287, 8.3148283779208, 45.656459110603286, 6.428777378910048, 9.401078162592267, 4.3085824527780225, 16.585787793557646, 358.7056656700554, 24.430044065635876, 10.424854302145768, 647.8814189881322, 15.6137828427497, 13.41315732534232, 246.94649649661238, 286.15767285829475, 2317.2232535345265, 169.2936231803891, 15152.19260343916, 188.2166208443586, 6496.836621909126, 393.6865989386228, 1032.370226796587, 434.8986126592912, 182.42004784245088, 50.67130063831533, 152.40458543955984, 1205.6726941242475, 190.44701181812692, 633.2507345388418, 21573.14043553735, 2326.877376885268, 399.9584050889166, 643.2020468685167, 578.0483920830433, 4576.515266253947, 1090.901346431418, 4015.923239341934, 1734.892341679249, 3979.658531145112, 1094.8240482664523, 1060.1705621449935, 1453.084022126155, 819.2135406807421, 1765.204293328162, 1390.8530170759711, 2030.0284311127941, 4041.2898330942985, 2602.8001972378765, 4836.25884808757, 3168.2813832898755, 4615.278912158447, 1771.692241352486, 5.9370937877251855, 4.970025488419187, 4.969836198911929, 18.52448760770171, 22.39512533095763, 3.0370546707735113, 3.0353905191173953, 23.363241230105096, 23.361518148586224, 23.3618318359637, 23.362669134532595, 23.36104016374869, 4.002494149546542, 5.9382892969764205, 2.070216659735757, 2.070005151649309, 2.0699915513510674, 2.069662955639527, 2.0688963365294453, 2.0681994384885103, 2.0675170786974197, 2.068186668025538, 2.0702425857681153, 2.0694232896244475, 2.068136961903849, 33.04566858468595, 5.933877436874579, 2.0679862448476065, 2.07090462276854, 3.0398109351555496, 31.08421275945091, 8.833772437296167, 706.2977232419767, 19.436981856440877, 3.9938932204382303, 43.74078889131236, 3.0329402223120927, 3.038500770194976, 3.0300773977883866, 4.003256805732358, 2.9314643607430195, 14.618052017105073, 3.028611319733736, 7.884740848960644, 6.925844029073889, 38.53400812540416, 26.687666223770275, 7.874452470964416, 84.70933133309721, 421.62119635680176, 21573.14043553735, 696.9149656674144, 59.35377111562592, 93.36340484263881, 58.41954817519672, 443.5469939603948, 4015.923239341934, 181.49915241049956, 1771.692241352486, 104.09515030158072, 15152.19260343916, 554.7235694662802, 2326.877376885268, 450.3358130066097, 1234.2535803333508, 679.0555189965854, 4576.515266253947, 1453.084022126155, 569.0446263254742, 2030.0284311127941, 6496.836621909126, 695.6238334167385, 4615.278912158447, 4836.25884808757, 2317.2232535345265, 522.9777121079647, 1041.7977895546353, 491.88499233810046, 565.5070003637551, 363.74953252951184, 3979.658531145112, 1276.7426693895736, 825.3630090927435, 3168.2813832898755, 4041.2898330942985, 1454.7184775531364, 2602.8001972378765, 1765.204293328162, 3.081751478813328, 2.099919172358523, 2.0998440852892672, 2.0997737877244296, 2.099769307220297, 2.0997447416976396, 2.0997056531615867, 2.0995939495585585, 2.0995230339931505, 2.099505575477048, 2.09939510787516, 2.099265636755744, 2.099108510110821, 2.098884021403767, 2.0977601873672156, 2.0975398701640096, 2.0996622976421446, 2.098931320777577, 2.09247133804937, 2.0970318748723753, 2.0988775017606778, 3.0828061315679873, 2.098327982244967, 2.098210898896473, 2.1006267331541535, 2.095614667153583, 5.0433808224440355, 2.0945643232454496, 4.054593244890342, 2.104113197113902, 9.920261105182494, 4.0652704349854725, 11.827212653615915, 3.0704438453656286, 6.032964715286938, 3.071186207797695, 46.18184699248384, 11.892999358583547, 634.8917451555969, 9.974422843903927, 5.898642382836307, 5.9395699991797395, 6.023720658250858, 21.720381247563687, 10.797107927523838, 24.753106699287606, 4836.25884808757, 399.9584050889166, 6.964842150030565, 74.69994044007206, 88.98984909462561, 6.956569055423428, 11.963868161283184, 7.018776389916187, 332.2648885775622, 1090.901346431418, 19.63638868329968, 354.8141690875126, 156.61083966566832, 3168.2813832898755, 565.4845610310997, 21573.14043553735, 6496.836621909126, 3979.658531145112, 84.35393635853417, 4041.2898330942985, 15152.19260343916, 1363.4023397133094, 200.97825800212175, 4015.923239341934, 306.181639279808, 418.94387444746513, 614.3501770880013, 4615.278912158447, 1205.6726941242475, 569.0446263254742, 380.96686314553466, 837.1520340556991, 1102.5430299118434, 673.5154171342853, 2602.8001972378765, 1094.8240482664523, 1453.084022126155, 1734.892341679249, 2326.877376885268, 877.8529443021956, 1053.696284802309, 4576.515266253947, 1390.8530170759711, 859.6994668134275], \"Category\": [\"Default\", \"Default\", \"Default\", \"Default\", \"Default\", \"Default\", \"Default\", \"Default\", \"Default\", \"Default\", \"Default\", \"Default\", \"Default\", \"Default\", \"Default\", \"Default\", \"Default\", \"Default\", \"Default\", \"Default\", \"Default\", \"Default\", \"Default\", \"Default\", \"Default\", \"Default\", \"Default\", \"Default\", \"Default\", \"Default\", \"Topic1\", \"Topic1\", \"Topic1\", \"Topic1\", \"Topic1\", \"Topic1\", \"Topic1\", \"Topic1\", \"Topic1\", \"Topic1\", \"Topic1\", \"Topic1\", \"Topic1\", \"Topic1\", \"Topic1\", \"Topic1\", \"Topic1\", \"Topic1\", \"Topic1\", \"Topic1\", \"Topic1\", \"Topic1\", \"Topic1\", \"Topic1\", \"Topic1\", \"Topic1\", \"Topic1\", \"Topic1\", \"Topic1\", \"Topic1\", \"Topic1\", \"Topic1\", \"Topic1\", \"Topic1\", \"Topic1\", \"Topic1\", \"Topic1\", \"Topic1\", \"Topic1\", \"Topic1\", \"Topic1\", \"Topic1\", \"Topic1\", \"Topic1\", \"Topic1\", \"Topic1\", \"Topic1\", \"Topic1\", \"Topic1\", \"Topic1\", \"Topic1\", \"Topic1\", \"Topic1\", \"Topic1\", \"Topic1\", \"Topic1\", \"Topic1\", \"Topic1\", \"Topic1\", \"Topic1\", \"Topic1\", \"Topic1\", \"Topic1\", \"Topic1\", \"Topic1\", \"Topic1\", \"Topic1\", \"Topic1\", \"Topic1\", \"Topic1\", \"Topic1\", \"Topic1\", \"Topic1\", \"Topic1\", \"Topic1\", \"Topic1\", \"Topic1\", \"Topic1\", \"Topic1\", \"Topic1\", \"Topic1\", \"Topic1\", \"Topic1\", \"Topic1\", \"Topic1\", \"Topic1\", \"Topic1\", \"Topic1\", \"Topic1\", \"Topic1\", \"Topic1\", \"Topic1\", \"Topic1\", \"Topic1\", \"Topic1\", \"Topic1\", \"Topic1\", \"Topic1\", \"Topic1\", \"Topic1\", \"Topic1\", \"Topic1\", \"Topic2\", \"Topic2\", \"Topic2\", \"Topic2\", \"Topic2\", \"Topic2\", \"Topic2\", \"Topic2\", \"Topic2\", \"Topic2\", \"Topic2\", \"Topic2\", \"Topic2\", \"Topic2\", \"Topic2\", \"Topic2\", \"Topic2\", \"Topic2\", \"Topic2\", \"Topic2\", \"Topic2\", \"Topic2\", \"Topic2\", \"Topic2\", \"Topic2\", \"Topic2\", \"Topic2\", \"Topic2\", \"Topic2\", \"Topic2\", \"Topic2\", \"Topic2\", \"Topic2\", \"Topic2\", \"Topic2\", \"Topic2\", \"Topic2\", \"Topic2\", \"Topic2\", \"Topic2\", \"Topic2\", \"Topic2\", \"Topic2\", \"Topic2\", \"Topic2\", \"Topic2\", \"Topic2\", \"Topic2\", \"Topic2\", \"Topic2\", \"Topic2\", \"Topic2\", \"Topic2\", \"Topic2\", \"Topic2\", \"Topic2\", \"Topic2\", \"Topic2\", \"Topic2\", \"Topic2\", \"Topic2\", \"Topic2\", \"Topic2\", \"Topic2\", \"Topic2\", \"Topic2\", \"Topic2\", \"Topic2\", \"Topic2\", \"Topic2\", \"Topic2\", \"Topic2\", \"Topic2\", \"Topic2\", \"Topic2\", \"Topic2\", \"Topic2\", \"Topic2\", \"Topic2\", \"Topic2\", \"Topic2\", \"Topic2\", \"Topic2\", \"Topic2\", \"Topic2\", \"Topic2\", \"Topic2\", \"Topic2\", \"Topic2\", \"Topic2\", \"Topic2\", \"Topic2\", \"Topic2\", \"Topic2\", \"Topic2\", \"Topic2\", \"Topic2\", \"Topic2\", \"Topic2\", \"Topic2\", \"Topic2\", \"Topic3\", \"Topic3\", \"Topic3\", \"Topic3\", \"Topic3\", \"Topic3\", \"Topic3\", \"Topic3\", \"Topic3\", \"Topic3\", \"Topic3\", \"Topic3\", \"Topic3\", \"Topic3\", \"Topic3\", \"Topic3\", \"Topic3\", \"Topic3\", \"Topic3\", \"Topic3\", \"Topic3\", \"Topic3\", \"Topic3\", \"Topic3\", \"Topic3\", \"Topic3\", \"Topic3\", \"Topic3\", \"Topic3\", \"Topic3\", \"Topic3\", \"Topic3\", \"Topic3\", \"Topic3\", \"Topic3\", \"Topic3\", \"Topic3\", \"Topic3\", \"Topic3\", \"Topic3\", \"Topic3\", \"Topic3\", \"Topic3\", \"Topic3\", \"Topic3\", \"Topic3\", \"Topic3\", \"Topic3\", \"Topic3\", \"Topic3\", \"Topic3\", \"Topic3\", \"Topic3\", \"Topic3\", \"Topic3\", \"Topic3\", \"Topic3\", \"Topic3\", \"Topic3\", \"Topic3\", \"Topic3\", \"Topic3\", \"Topic3\", \"Topic3\", \"Topic3\", \"Topic3\", \"Topic3\", \"Topic3\", \"Topic3\", \"Topic3\", \"Topic3\", \"Topic3\", \"Topic3\", \"Topic3\", \"Topic3\", \"Topic3\", \"Topic3\", \"Topic3\", \"Topic3\", \"Topic3\", \"Topic3\", \"Topic3\", \"Topic3\", \"Topic3\", \"Topic3\", \"Topic3\", \"Topic3\", \"Topic3\", \"Topic3\", \"Topic3\", \"Topic3\", \"Topic3\", \"Topic3\", \"Topic3\", \"Topic3\", \"Topic3\", \"Topic3\", \"Topic3\", \"Topic3\", \"Topic3\", \"Topic3\", \"Topic3\", \"Topic4\", \"Topic4\", \"Topic4\", \"Topic4\", \"Topic4\", \"Topic4\", \"Topic4\", \"Topic4\", \"Topic4\", \"Topic4\", \"Topic4\", \"Topic4\", \"Topic4\", \"Topic4\", \"Topic4\", \"Topic4\", \"Topic4\", \"Topic4\", \"Topic4\", \"Topic4\", \"Topic4\", \"Topic4\", \"Topic4\", \"Topic4\", \"Topic4\", \"Topic4\", \"Topic4\", \"Topic4\", \"Topic4\", \"Topic4\", \"Topic4\", \"Topic4\", \"Topic4\", \"Topic4\", \"Topic4\", \"Topic4\", \"Topic4\", \"Topic4\", \"Topic4\", \"Topic4\", \"Topic4\", \"Topic4\", \"Topic4\", \"Topic4\", \"Topic4\", \"Topic4\", \"Topic4\", \"Topic4\", \"Topic4\", \"Topic4\", \"Topic4\", \"Topic4\", \"Topic4\", \"Topic4\", \"Topic4\", \"Topic4\", \"Topic4\", \"Topic4\", \"Topic4\", \"Topic4\", \"Topic4\", \"Topic4\", \"Topic4\", \"Topic4\", \"Topic4\", \"Topic4\", \"Topic4\", \"Topic4\", \"Topic4\", \"Topic4\", \"Topic4\", \"Topic4\", \"Topic4\", \"Topic4\", \"Topic4\", \"Topic4\", \"Topic4\", \"Topic4\", \"Topic4\", \"Topic4\", \"Topic4\", \"Topic4\", \"Topic4\", \"Topic4\", \"Topic4\", \"Topic4\", \"Topic4\", \"Topic4\", \"Topic4\", \"Topic4\", \"Topic4\", \"Topic4\", \"Topic5\", \"Topic5\", \"Topic5\", \"Topic5\", \"Topic5\", \"Topic5\", \"Topic5\", \"Topic5\", \"Topic5\", \"Topic5\", \"Topic5\", \"Topic5\", \"Topic5\", \"Topic5\", \"Topic5\", \"Topic5\", \"Topic5\", \"Topic5\", \"Topic5\", \"Topic5\", \"Topic5\", \"Topic5\", \"Topic5\", \"Topic5\", \"Topic5\", \"Topic5\", \"Topic5\", \"Topic5\", \"Topic5\", \"Topic5\", \"Topic5\", \"Topic5\", \"Topic5\", \"Topic5\", \"Topic5\", \"Topic5\", \"Topic5\", \"Topic5\", \"Topic5\", \"Topic5\", \"Topic5\", \"Topic5\", \"Topic5\", \"Topic5\", \"Topic5\", \"Topic5\", \"Topic5\", \"Topic5\", \"Topic5\", \"Topic5\", \"Topic5\", \"Topic5\", \"Topic5\", \"Topic5\", \"Topic5\", \"Topic5\", \"Topic5\", \"Topic5\", \"Topic5\", \"Topic5\", \"Topic5\", \"Topic5\", \"Topic5\", \"Topic5\", \"Topic5\", \"Topic5\", \"Topic5\", \"Topic5\", \"Topic5\", \"Topic5\", \"Topic5\", \"Topic5\", \"Topic5\", \"Topic5\", \"Topic5\", \"Topic5\", \"Topic5\", \"Topic5\", \"Topic5\", \"Topic5\", \"Topic5\", \"Topic5\", \"Topic5\", \"Topic5\", \"Topic5\", \"Topic5\", \"Topic5\", \"Topic5\", \"Topic5\", \"Topic5\", \"Topic5\", \"Topic5\", \"Topic5\", \"Topic5\", \"Topic5\", \"Topic5\", \"Topic5\", \"Topic5\", \"Topic5\", \"Topic5\", \"Topic5\", \"Topic5\", \"Topic5\", \"Topic5\", \"Topic5\", \"Topic5\", \"Topic5\", \"Topic5\", \"Topic5\", \"Topic5\", \"Topic5\", \"Topic5\", \"Topic5\", \"Topic5\", \"Topic6\", \"Topic6\", \"Topic6\", \"Topic6\", \"Topic6\", \"Topic6\", \"Topic6\", \"Topic6\", \"Topic6\", \"Topic6\", \"Topic6\", \"Topic6\", \"Topic6\", \"Topic6\", \"Topic6\", \"Topic6\", \"Topic6\", \"Topic6\", \"Topic6\", \"Topic6\", \"Topic6\", \"Topic6\", \"Topic6\", \"Topic6\", \"Topic6\", \"Topic6\", \"Topic6\", \"Topic6\", \"Topic6\", \"Topic6\", \"Topic6\", \"Topic6\", \"Topic6\", \"Topic6\", \"Topic6\", \"Topic6\", \"Topic6\", \"Topic6\", \"Topic6\", \"Topic6\", \"Topic6\", \"Topic6\", \"Topic6\", \"Topic6\", \"Topic6\", \"Topic6\", \"Topic6\", \"Topic6\", \"Topic6\", \"Topic6\", \"Topic6\", \"Topic6\", \"Topic6\", \"Topic6\", \"Topic6\", \"Topic6\", \"Topic6\", \"Topic6\", \"Topic6\", \"Topic6\", \"Topic6\", \"Topic6\", \"Topic6\", \"Topic6\", \"Topic6\", \"Topic6\", \"Topic6\", \"Topic6\", \"Topic6\", \"Topic6\", \"Topic6\", \"Topic6\", \"Topic6\", \"Topic6\", \"Topic6\", \"Topic6\", \"Topic6\", \"Topic6\", \"Topic6\", \"Topic6\", \"Topic6\", \"Topic6\", \"Topic6\", \"Topic6\", \"Topic6\", \"Topic6\", \"Topic6\", \"Topic6\", \"Topic6\", \"Topic6\", \"Topic7\", \"Topic7\", \"Topic7\", \"Topic7\", \"Topic7\", \"Topic7\", \"Topic7\", \"Topic7\", \"Topic7\", \"Topic7\", \"Topic7\", \"Topic7\", \"Topic7\", \"Topic7\", \"Topic7\", \"Topic7\", \"Topic7\", \"Topic7\", \"Topic7\", \"Topic7\", \"Topic7\", \"Topic7\", \"Topic7\", \"Topic7\", \"Topic7\", \"Topic7\", \"Topic7\", \"Topic7\", \"Topic7\", \"Topic7\", \"Topic7\", \"Topic7\", \"Topic7\", \"Topic7\", \"Topic7\", \"Topic7\", \"Topic7\", \"Topic7\", \"Topic7\", \"Topic7\", \"Topic7\", \"Topic7\", \"Topic7\", \"Topic7\", \"Topic7\", \"Topic7\", \"Topic7\", \"Topic7\", \"Topic7\", \"Topic7\", \"Topic7\", \"Topic7\", \"Topic7\", \"Topic7\", \"Topic7\", \"Topic7\", \"Topic7\", \"Topic7\", \"Topic7\", \"Topic7\", \"Topic7\", \"Topic7\", \"Topic7\", \"Topic7\", \"Topic7\", \"Topic7\", \"Topic7\", \"Topic7\", \"Topic7\", \"Topic7\", \"Topic7\", \"Topic7\", \"Topic7\", \"Topic7\", \"Topic7\", \"Topic7\", \"Topic7\", \"Topic7\", \"Topic7\", \"Topic7\", \"Topic7\", \"Topic7\", \"Topic7\", \"Topic7\", \"Topic7\", \"Topic7\", \"Topic7\", \"Topic7\", \"Topic7\", \"Topic7\", \"Topic7\", \"Topic7\", \"Topic7\", \"Topic7\", \"Topic7\", \"Topic7\", \"Topic7\", \"Topic8\", \"Topic8\", \"Topic8\", \"Topic8\", \"Topic8\", \"Topic8\", \"Topic8\", \"Topic8\", \"Topic8\", \"Topic8\", \"Topic8\", \"Topic8\", \"Topic8\", \"Topic8\", \"Topic8\", \"Topic8\", \"Topic8\", \"Topic8\", \"Topic8\", \"Topic8\", \"Topic8\", \"Topic8\", \"Topic8\", \"Topic8\", \"Topic8\", \"Topic8\", \"Topic8\", \"Topic8\", \"Topic8\", \"Topic8\", \"Topic8\", \"Topic8\", \"Topic8\", \"Topic8\", \"Topic8\", \"Topic8\", \"Topic8\", \"Topic8\", \"Topic8\", \"Topic8\", \"Topic8\", \"Topic8\", \"Topic8\", \"Topic8\", \"Topic8\", \"Topic8\", \"Topic8\", \"Topic8\", \"Topic8\", \"Topic8\", \"Topic8\", \"Topic8\", \"Topic8\", \"Topic8\", \"Topic8\", \"Topic8\", \"Topic8\", \"Topic8\", \"Topic8\", \"Topic8\", \"Topic8\", \"Topic8\", \"Topic8\", \"Topic8\", \"Topic8\", \"Topic8\", \"Topic8\", \"Topic8\", \"Topic8\", \"Topic8\", \"Topic8\", \"Topic8\", \"Topic8\", \"Topic8\", \"Topic8\", \"Topic8\", \"Topic8\", \"Topic8\", \"Topic8\", \"Topic8\", \"Topic8\", \"Topic8\", \"Topic8\", \"Topic8\", \"Topic8\", \"Topic8\", \"Topic8\", \"Topic8\", \"Topic8\", \"Topic8\", \"Topic9\", \"Topic9\", \"Topic9\", \"Topic9\", \"Topic9\", \"Topic9\", \"Topic9\", \"Topic9\", \"Topic9\", \"Topic9\", \"Topic9\", \"Topic9\", \"Topic9\", \"Topic9\", \"Topic9\", \"Topic9\", \"Topic9\", \"Topic9\", \"Topic9\", \"Topic9\", \"Topic9\", \"Topic9\", \"Topic9\", \"Topic9\", \"Topic9\", \"Topic9\", \"Topic9\", \"Topic9\", \"Topic9\", \"Topic9\", \"Topic9\", \"Topic9\", \"Topic9\", \"Topic9\", \"Topic9\", \"Topic9\", \"Topic9\", \"Topic9\", \"Topic9\", \"Topic9\", \"Topic9\", \"Topic9\", \"Topic9\", \"Topic9\", \"Topic9\", \"Topic9\", \"Topic9\", \"Topic9\", \"Topic9\", \"Topic9\", \"Topic9\", \"Topic9\", \"Topic9\", \"Topic9\", \"Topic9\", \"Topic9\", \"Topic9\", \"Topic9\", \"Topic9\", \"Topic9\", \"Topic9\", \"Topic9\", \"Topic9\", \"Topic9\", \"Topic9\", \"Topic9\", \"Topic9\", \"Topic9\", \"Topic9\", \"Topic9\", \"Topic9\", \"Topic9\", \"Topic9\", \"Topic9\", \"Topic9\", \"Topic9\", \"Topic9\", \"Topic9\", \"Topic9\", \"Topic9\", \"Topic9\", \"Topic9\", \"Topic9\", \"Topic9\", \"Topic9\", \"Topic9\", \"Topic9\", \"Topic9\", \"Topic9\", \"Topic9\", \"Topic10\", \"Topic10\", \"Topic10\", \"Topic10\", \"Topic10\", \"Topic10\", \"Topic10\", \"Topic10\", \"Topic10\", \"Topic10\", \"Topic10\", \"Topic10\", \"Topic10\", \"Topic10\", \"Topic10\", \"Topic10\", \"Topic10\", \"Topic10\", \"Topic10\", \"Topic10\", \"Topic10\", \"Topic10\", \"Topic10\", \"Topic10\", \"Topic10\", \"Topic10\", \"Topic10\", \"Topic10\", \"Topic10\", \"Topic10\", \"Topic10\", \"Topic10\", \"Topic10\", \"Topic10\", \"Topic10\", \"Topic10\", \"Topic10\", \"Topic10\", \"Topic10\", \"Topic10\", \"Topic10\", \"Topic10\", \"Topic10\", \"Topic10\", \"Topic10\", \"Topic10\", \"Topic10\", \"Topic10\", \"Topic10\", \"Topic10\", \"Topic10\", \"Topic10\", \"Topic10\", \"Topic10\", \"Topic10\", \"Topic10\", \"Topic10\", \"Topic10\", \"Topic10\", \"Topic10\", \"Topic10\", \"Topic10\", \"Topic10\", \"Topic10\", \"Topic10\", \"Topic10\", \"Topic10\", \"Topic10\", \"Topic10\", \"Topic10\", \"Topic10\", \"Topic10\", \"Topic10\", \"Topic10\", \"Topic10\", \"Topic10\", \"Topic10\", \"Topic10\", \"Topic10\", \"Topic10\", \"Topic10\", \"Topic10\", \"Topic10\", \"Topic10\", \"Topic10\", \"Topic10\", \"Topic10\", \"Topic10\", \"Topic10\", \"Topic10\", \"Topic10\", \"Topic10\", \"Topic10\", \"Topic10\", \"Topic10\", \"Topic10\", \"Topic10\", \"Topic11\", \"Topic11\", \"Topic11\", \"Topic11\", \"Topic11\", \"Topic11\", \"Topic11\", \"Topic11\", \"Topic11\", \"Topic11\", \"Topic11\", \"Topic11\", \"Topic11\", \"Topic11\", \"Topic11\", \"Topic11\", \"Topic11\", \"Topic11\", \"Topic11\", \"Topic11\", \"Topic11\", \"Topic11\", \"Topic11\", \"Topic11\", \"Topic11\", \"Topic11\", \"Topic11\", \"Topic11\", \"Topic11\", \"Topic11\", \"Topic11\", \"Topic11\", \"Topic11\", \"Topic11\", \"Topic11\", \"Topic11\", \"Topic11\", \"Topic11\", \"Topic11\", \"Topic11\", \"Topic11\", \"Topic11\", \"Topic11\", \"Topic11\", \"Topic11\", \"Topic11\", \"Topic11\", \"Topic11\", \"Topic11\", \"Topic11\", \"Topic11\", \"Topic11\", \"Topic11\", \"Topic11\", \"Topic11\", \"Topic11\", \"Topic11\", \"Topic11\", \"Topic11\", \"Topic11\", \"Topic11\", \"Topic11\", \"Topic11\", \"Topic11\", \"Topic11\", \"Topic11\", \"Topic11\", \"Topic11\", \"Topic11\", \"Topic11\", \"Topic11\", \"Topic11\", \"Topic11\", \"Topic11\", \"Topic11\", \"Topic11\", \"Topic11\", \"Topic11\", \"Topic11\", \"Topic11\", \"Topic11\", \"Topic11\", \"Topic11\", \"Topic11\", \"Topic11\", \"Topic11\", \"Topic11\", \"Topic11\", \"Topic11\", \"Topic11\", \"Topic11\", \"Topic11\", \"Topic11\", \"Topic11\", \"Topic11\", \"Topic11\", \"Topic11\", \"Topic11\", \"Topic11\", \"Topic11\", \"Topic12\", \"Topic12\", \"Topic12\", \"Topic12\", \"Topic12\", \"Topic12\", \"Topic12\", \"Topic12\", \"Topic12\", \"Topic12\", \"Topic12\", \"Topic12\", \"Topic12\", \"Topic12\", \"Topic12\", \"Topic12\", \"Topic12\", \"Topic12\", \"Topic12\", \"Topic12\", \"Topic12\", \"Topic12\", \"Topic12\", \"Topic12\", \"Topic12\", \"Topic12\", \"Topic12\", \"Topic12\", \"Topic12\", \"Topic12\", \"Topic12\", \"Topic12\", \"Topic12\", \"Topic12\", \"Topic12\", \"Topic12\", \"Topic12\", \"Topic12\", \"Topic12\", \"Topic12\", \"Topic12\", \"Topic12\", \"Topic12\", \"Topic12\", \"Topic12\", \"Topic12\", \"Topic12\", \"Topic12\", \"Topic12\", \"Topic12\", \"Topic12\", \"Topic12\", \"Topic12\", \"Topic12\", \"Topic12\", \"Topic12\", \"Topic12\", \"Topic12\", \"Topic12\", \"Topic12\", \"Topic12\", \"Topic12\", \"Topic12\", \"Topic12\", \"Topic12\", \"Topic12\", \"Topic12\", \"Topic12\", \"Topic12\", \"Topic12\", \"Topic12\", \"Topic12\", \"Topic12\", \"Topic12\", \"Topic12\", \"Topic12\", \"Topic12\", \"Topic12\", \"Topic12\", \"Topic12\", \"Topic12\", \"Topic12\", \"Topic12\", \"Topic12\", \"Topic12\", \"Topic12\", \"Topic12\", \"Topic12\", \"Topic12\", \"Topic12\", \"Topic12\", \"Topic13\", \"Topic13\", \"Topic13\", \"Topic13\", \"Topic13\", \"Topic13\", \"Topic13\", \"Topic13\", \"Topic13\", \"Topic13\", \"Topic13\", \"Topic13\", \"Topic13\", \"Topic13\", \"Topic13\", \"Topic13\", \"Topic13\", \"Topic13\", \"Topic13\", \"Topic13\", \"Topic13\", \"Topic13\", \"Topic13\", \"Topic13\", \"Topic13\", \"Topic13\", \"Topic13\", \"Topic13\", \"Topic13\", \"Topic13\", \"Topic13\", \"Topic13\", \"Topic13\", \"Topic13\", \"Topic13\", \"Topic13\", \"Topic13\", \"Topic13\", \"Topic13\", \"Topic13\", \"Topic13\", \"Topic13\", \"Topic13\", \"Topic13\", \"Topic13\", \"Topic13\", \"Topic13\", \"Topic13\", \"Topic13\", \"Topic13\", \"Topic13\", \"Topic13\", \"Topic13\", \"Topic13\", \"Topic13\", \"Topic13\", \"Topic13\", \"Topic13\", \"Topic13\", \"Topic13\", \"Topic13\", \"Topic13\", \"Topic13\", \"Topic13\", \"Topic13\", \"Topic13\", \"Topic13\", \"Topic13\", \"Topic13\", \"Topic13\", \"Topic13\", \"Topic13\", \"Topic13\", \"Topic13\", \"Topic13\", \"Topic13\", \"Topic13\", \"Topic13\", \"Topic13\", \"Topic13\", \"Topic13\", \"Topic13\", \"Topic13\", \"Topic13\", \"Topic13\", \"Topic13\", \"Topic13\", \"Topic13\", \"Topic14\", \"Topic14\", \"Topic14\", \"Topic14\", \"Topic14\", \"Topic14\", \"Topic14\", \"Topic14\", \"Topic14\", \"Topic14\", \"Topic14\", \"Topic14\", \"Topic14\", \"Topic14\", \"Topic14\", \"Topic14\", \"Topic14\", \"Topic14\", \"Topic14\", \"Topic14\", \"Topic14\", \"Topic14\", \"Topic14\", \"Topic14\", \"Topic14\", \"Topic14\", \"Topic14\", \"Topic14\", \"Topic14\", \"Topic14\", \"Topic14\", \"Topic14\", \"Topic14\", \"Topic14\", \"Topic14\", \"Topic14\", \"Topic14\", \"Topic14\", \"Topic14\", \"Topic14\", \"Topic14\", \"Topic14\", \"Topic14\", \"Topic14\", \"Topic14\", \"Topic14\", \"Topic14\", \"Topic14\", \"Topic14\", \"Topic14\", \"Topic14\", \"Topic14\", \"Topic14\", \"Topic14\", \"Topic14\", \"Topic14\", \"Topic14\", \"Topic14\", \"Topic14\", \"Topic14\", \"Topic14\", \"Topic14\", \"Topic14\", \"Topic14\", \"Topic14\", \"Topic14\", \"Topic14\", \"Topic14\", \"Topic14\", \"Topic14\", \"Topic14\", \"Topic14\", \"Topic14\", \"Topic14\", \"Topic14\", \"Topic14\", \"Topic14\", \"Topic14\", \"Topic14\", \"Topic14\", \"Topic14\", \"Topic14\", \"Topic14\", \"Topic14\", \"Topic14\", \"Topic14\", \"Topic14\", \"Topic14\", \"Topic14\", \"Topic14\"], \"logprob\": [30.0, 29.0, 28.0, 27.0, 26.0, 25.0, 24.0, 23.0, 22.0, 21.0, 20.0, 19.0, 18.0, 17.0, 16.0, 15.0, 14.0, 13.0, 12.0, 11.0, 10.0, 9.0, 8.0, 7.0, 6.0, 5.0, 4.0, 3.0, 2.0, 1.0, -8.7476, -9.4218, -9.4221, -9.4222, -9.4257, -9.4271, -9.162, -9.4424, -9.8265, -9.8265, -9.8265, -9.8265, -9.8265, -9.8265, -9.8265, -9.8265, -9.8265, -9.8265, -9.8266, -9.8266, -9.8266, -9.8266, -9.8266, -9.8266, -9.8266, -9.8267, -9.8267, -9.8267, -9.8267, -9.8267, -9.4588, -9.4614, -9.4588, -9.4596, -9.4613, -9.4622, -9.4633, -9.4655, -8.3683, -9.2144, -9.4786, -8.2007, -8.7476, -9.238, -8.364, -8.5426, -9.2477, -9.2469, -9.2518, -8.6884, -9.5062, -7.774, -8.9488, -8.5499, -6.4043, -5.67, -8.3669, -8.1658, -4.9545, -4.1006, -7.3844, -6.2705, -6.0217, -6.8927, -7.9634, -2.9696, -6.0508, -3.2792, -4.16, -5.4225, -4.3, -4.6161, -7.561, -5.4939, -6.0488, -5.3342, -5.4854, -5.8415, -5.5922, -5.0367, -5.2944, -5.9782, -5.449, -5.8398, -5.6072, -4.7873, -5.8115, -6.3825, -5.7203, -5.5249, -4.6651, -5.1672, -4.5451, -4.7464, -4.9763, -5.5528, -5.4563, -5.5577, -5.6962, -5.6618, -5.6216, -5.6935, -9.3513, -9.3514, -9.3515, -8.8631, -9.7561, -9.7561, -9.7561, -9.7561, -9.7561, -9.7562, -9.7562, -9.7562, -9.7562, -9.7563, -9.7563, -9.7565, -9.7566, -9.757, -9.7572, -9.7584, -9.7576, -9.7582, -9.3745, -9.3748, -9.3773, -9.7614, -9.7618, -9.7688, -9.7688, -8.7153, -8.7154, -9.3883, -9.3906, -9.1222, -9.122, -9.3885, -7.8243, -9.3916, -9.3903, -9.3962, -9.3883, -9.394, -9.3929, -9.4045, -7.8598, -9.4063, -8.2616, -8.3461, -9.4062, -7.9261, -7.6049, -8.3359, -8.6011, -7.9116, -5.325, -7.3205, -8.7296, -7.944, -5.1183, -3.7558, -8.2634, -7.5767, -7.2251, -7.1707, -8.1309, -5.6609, -2.774, -7.1463, -4.9515, -4.9659, -3.2225, -4.5663, -5.112, -5.7036, -4.2005, -5.4747, -5.1914, -6.2448, -5.1868, -5.3913, -5.7782, -5.9265, -5.6123, -6.5031, -5.3462, -4.9389, -4.4375, -4.6678, -4.5277, -6.1549, -6.1204, -5.3004, -4.5954, -5.2856, -5.6295, -5.2573, -4.8929, -4.8895, -5.3805, -5.5159, -5.6237, -9.2877, -8.7998, -8.6327, -9.6925, -9.6925, -9.6926, -9.6926, -9.6926, -9.6926, -9.6927, -9.6927, -9.6927, -9.6927, -9.6927, -9.6927, -9.6928, -9.6928, -9.6928, -9.693, -9.6942, -9.6946, -9.6949, -9.6968, -9.6943, -9.6987, -9.6974, -9.0379, -9.7005, -8.8251, -8.8223, -8.8222, -8.8223, -8.8223, -8.826, -8.6723, -9.0564, -9.3248, -9.3254, -9.3306, -9.328, -7.5434, -7.9266, -9.3326, -9.3365, -9.3362, -9.3436, -8.7295, -7.533, -9.3563, -8.6372, -9.3611, -5.4342, -9.3634, -6.7682, -6.925, -5.9656, -8.5689, -5.2513, -6.3577, -4.0336, -7.2212, -2.748, -5.9726, -2.7175, -6.1272, -7.3167, -5.9438, -4.3842, -5.5703, -6.1865, -5.1463, -6.5742, -5.4215, -7.0201, -5.3222, -5.9583, -7.0362, -5.7253, -4.5149, -5.8336, -5.4242, -6.2278, -5.4763, -5.9144, -6.0279, -5.8261, -5.8738, -4.9004, -5.5323, -5.0159, -4.9692, -5.5001, -5.1246, -5.4875, -5.4946, -5.5581, -5.2967, -5.6978, -5.7244, -5.5545, -5.7671, -5.7875, -9.243, -9.2432, -9.2434, -8.1937, -9.6474, -9.6474, -9.6475, -9.6475, -9.6476, -9.6476, -9.6476, -9.6477, -9.6478, -9.6478, -9.6484, -9.6487, -9.6488, -9.6492, -9.6496, -9.6555, -9.6506, -9.6526, -9.6546, -8.0031, -8.7794, -9.2799, -9.28, -9.6649, -9.2801, -7.7101, -8.8163, -9.0272, -8.5166, -4.9437, -8.6696, -9.2979, -4.6939, -6.4561, -7.8669, -8.0056, -7.6026, -8.0425, -9.3073, -7.76, -8.4768, -9.3095, -9.31, -9.3108, -2.6443, -7.9434, -8.2575, -8.3266, -6.9103, -8.1935, -6.7085, -7.3413, -5.2685, -4.0663, -4.7039, -4.4414, -6.0582, -4.6824, -6.0998, -5.5558, -5.7372, -7.5361, -6.8926, -6.5942, -3.9953, -3.2106, -6.074, -4.0779, -6.6692, -5.3514, -5.0312, -5.2107, -4.443, -4.882, -3.4943, -4.5195, -4.8709, -4.7125, -4.5125, -4.6121, -5.3923, -5.8159, -5.2147, -5.5646, -5.7734, -5.7053, -5.6099, -5.6619, -8.4022, -8.5563, -9.2568, -9.263, -9.653, -9.653, -9.653, -9.6531, -9.6531, -9.6531, -9.6531, -9.6531, -9.6531, -9.6532, -9.6532, -9.6532, -9.6532, -9.6532, -9.6533, -9.6533, -9.6544, -9.6545, -9.6553, -9.6531, -9.6558, -9.656, -9.7098, -9.6574, -9.6641, -9.6643, -9.2861, -9.2876, -9.0115, -8.8073, -9.2854, -9.286, -9.2862, -9.2855, -9.2875, -8.8189, -9.2919, -9.298, -9.2925, -8.8353, -9.3022, -9.2996, -8.5562, -9.3047, -9.3109, -9.3082, -9.3098, -9.063, -8.7616, -6.9241, -9.3339, -8.4724, -8.5678, -6.573, -3.6936, -2.8892, -7.441, -5.9986, -3.8982, -4.6587, -8.2812, -8.1257, -7.1012, -8.411, -8.586, -7.2382, -7.1211, -2.9493, -7.3741, -7.3569, -7.212, -5.5076, -5.3809, -5.7931, -5.1994, -5.5558, -4.2394, -7.0752, -7.7128, -6.8315, -6.1546, -5.5937, -5.6967, -6.3036, -5.9142, -5.7238, -5.9161, -4.9738, -5.3465, -4.4616, -6.2862, -6.5894, -5.221, -5.7883, -5.329, -5.6091, -5.4969, -5.7676, -5.7641, -5.8223, -5.8087, -5.8298, -5.3788, -5.3822, -5.5593, -5.4917, -5.701, -5.6889, -5.6897, -5.7489, -9.1319, -9.1445, -8.8719, -8.8724, -9.5361, -9.5361, -9.5361, -9.5361, -9.5362, -9.5362, -9.5362, -9.5368, -9.537, -9.537, -9.538, -9.5387, -9.5409, -9.5411, -9.5416, -8.8804, -9.5473, -9.5514, -9.1686, -9.5548, -9.554, -9.1785, -8.9034, -9.5645, -9.1863, -8.9107, -9.189, -8.165, -7.8989, -9.1889, -8.7299, -9.1934, -8.9436, -8.949, -6.7121, -9.2089, -6.9252, -7.4054, -8.6684, -7.6072, -7.4882, -8.6945, -8.5586, -3.3421, -7.1329, -6.6402, -5.9012, -5.0638, -7.6173, -5.7665, -5.0496, -6.6186, -5.4833, -2.758, -4.4799, -6.5326, -7.4931, -5.0423, -5.6094, -3.204, -5.6386, -5.3987, -4.1935, -5.2777, -7.0535, -5.4137, -4.9077, -5.779, -4.507, -4.4997, -5.2839, -4.5121, -5.084, -5.3314, -5.444, -4.5116, -5.6783, -5.6063, -5.1503, -5.5241, -5.4298, -5.4906, -5.6033, -5.6304, -5.585, -5.6143, -8.0874, -8.7663, -8.223, -8.7939, -7.8995, -9.4577, -9.4577, -9.4578, -9.4578, -9.4578, -9.4578, -9.4578, -9.4578, -9.4578, -9.4584, -9.4578, -9.4578, -9.4597, -9.458, -9.4579, -9.4579, -9.458, -9.458, -9.4579, -9.4579, -9.4579, -9.4654, -9.0904, -9.0922, -9.0925, -8.8132, -8.6068, -8.6107, -8.824, -8.824, -8.824, -8.824, -8.824, -9.0903, -9.0902, -9.0902, -9.0916, -9.0941, -9.1005, -7.5827, -8.4807, -8.1686, -7.4868, -9.1347, -9.1344, -7.9999, -5.4596, -8.0927, -6.1578, -3.3516, -4.7425, -7.5964, -6.9702, -5.1491, -5.6548, -7.8967, -2.6463, -6.4276, -7.7374, -5.4155, -3.8941, -5.9463, -6.188, -4.2328, -5.6679, -3.2067, -5.5787, -5.2505, -5.0739, -6.346, -5.5559, -4.234, -6.0627, -6.0482, -4.9935, -6.5441, -5.7161, -5.7091, -5.3586, -4.8351, -5.8857, -5.7363, -5.5698, -5.6737, -5.6947, -5.4746, -5.3316, -5.6949, -5.7226, -5.4741, -5.3962, -5.7141, -9.1216, -9.1216, -8.4555, -9.1272, -8.4571, -8.4574, -8.4606, -8.316, -8.8662, -9.526, -9.5261, -9.5261, -9.5261, -9.5262, -9.5262, -9.5262, -9.5262, -9.5262, -9.5263, -9.5263, -9.5263, -9.5264, -9.5265, -9.5266, -9.5268, -9.5269, -9.527, -9.527, -9.5278, -9.5315, -8.8782, -9.1568, -9.1588, -8.8949, -9.1585, -7.8136, -9.1631, -5.9327, -7.2488, -8.5519, -4.6961, -5.8834, -6.0737, -7.5415, -9.1875, -8.2524, -5.465, -9.1925, -8.955, -4.2397, -9.1979, -4.6619, -5.109, -4.7405, -4.6756, -7.7509, -8.41, -3.1708, -7.1578, -7.4776, -5.3088, -4.453, -6.1977, -6.8957, -6.6263, -5.3679, -4.1102, -3.0684, -5.3866, -4.7411, -5.1402, -3.4539, -6.3865, -6.8752, -6.718, -6.2686, -5.5158, -5.7083, -5.5225, -5.5667, -5.3589, -4.7833, -4.8134, -4.9882, -5.0417, -5.4975, -5.2307, -5.2164, -5.4718, -5.5656, -8.9555, -8.2842, -9.3584, -9.3584, -9.3585, -9.3585, -9.3586, -9.3586, -8.7008, -8.027, -9.3657, -8.4926, -8.0311, -9.3699, -9.3702, -8.033, -8.9913, -8.9931, -8.9927, -9.376, -8.9939, -7.7277, -9.3804, -9.3799, -8.7236, -8.7247, -8.7279, -8.7279, -9.0071, -8.5113, -7.2563, -7.8356, -8.5114, -8.512, -7.0167, -8.7293, -7.3943, -6.4181, -8.1211, -8.5581, -9.0047, -9.0118, -6.8179, -7.6786, -8.4297, -8.5837, -5.1085, -7.9146, -8.1446, -6.7647, -8.1596, -6.4024, -6.0335, -6.5316, -7.1207, -2.8886, -8.0205, -2.8182, -5.1091, -4.9192, -5.1362, -4.1263, -5.4696, -4.9142, -5.5158, -6.152, -5.5146, -5.5691, -5.3079, -4.6596, -4.5653, -5.1816, -5.1046, -4.711, -6.475, -5.8254, -5.1025, -4.8066, -4.8297, -4.8881, -5.557, -5.4406, -5.315, -5.5496, -5.5959, -5.5018, -5.7541, -5.7174, -5.7019, -5.6275, -7.3861, -8.8947, -8.895, -7.3904, -8.6388, -9.2983, -9.2983, -9.2983, -9.2984, -9.2985, -9.2986, -9.2986, -9.2986, -9.2987, -9.2986, -9.2995, -9.2997, -9.2998, -9.2998, -9.3, -9.3001, -9.3042, -8.4273, -9.3081, -8.6517, -7.4962, -9.3118, -8.9321, -8.9309, -8.931, -8.664, -8.9317, -8.668, -8.9369, -8.939, -8.3152, -6.9713, -6.7539, -8.7037, -8.2523, -7.126, -8.1679, -8.9695, -8.7406, -8.0672, -8.292, -8.9817, -8.4282, -8.9829, -7.7031, -7.9534, -3.6582, -7.0298, -5.8464, -7.0872, -3.9249, -4.7308, -7.3342, -5.015, -7.8243, -2.6076, -6.4638, -7.0999, -5.7301, -4.616, -4.1149, -4.0179, -5.9472, -6.5649, -5.2303, -6.9928, -4.2392, -7.0332, -7.1044, -6.1528, -6.4716, -5.7122, -6.169, -6.1714, -4.1329, -5.6869, -5.2819, -4.937, -4.9396, -5.7334, -5.3642, -5.3325, -5.5755, -6.0491, -5.7461, -5.9008, -5.5419, -5.356, -5.7856, -5.9602, -5.9034, -5.8823, -9.3079, -9.3079, -9.3079, -9.3079, -9.308, -9.308, -9.308, -9.308, -9.308, -9.308, -9.308, -9.308, -9.3081, -9.3081, -9.3081, -9.3081, -9.3081, -9.3083, -9.3141, -9.3174, -9.3183, -8.9406, -8.2675, -8.9406, -9.3317, -9.3326, -9.3334, -9.3313, -8.9563, -9.3362, -8.461, -8.461, -8.4831, -8.3142, -8.9716, -8.3758, -8.9789, -8.9795, -8.9849, -7.043, -8.1757, -8.4232, -7.6143, -8.9894, -8.9915, -8.7608, -4.8625, -7.2797, -6.542, -7.4967, -8.4699, -8.0061, -8.0227, -8.7916, -8.6405, -8.3735, -4.762, -7.7769, -5.4203, -5.6839, -7.2008, -6.2703, -8.0001, -5.0876, -7.1064, -2.7021, -6.3586, -4.3354, -7.1962, -4.6996, -6.5715, -5.8218, -5.7332, -4.2278, -4.4335, -6.7998, -5.3865, -6.8815, -4.3947, -5.0727, -5.1152, -4.4493, -5.5749, -5.2914, -4.5768, -5.9599, -5.0724, -5.9042, -5.3862, -4.2188, -4.9626, -4.7574, -5.6717, -5.1285, -5.389, -5.7218, -5.6207, -5.6477, -5.6778, -5.6626, -8.8625, -9.2476, -9.2477, -9.2479, -9.2479, -9.248, -9.2592, -9.2621, -8.8814, -9.2635, -8.9194, -8.3894, -8.8868, -8.618, -9.2826, -9.2835, -8.9026, -9.2902, -8.636, -8.2469, -9.3042, -9.3045, -9.3036, -9.3036, -9.3042, -9.3036, -8.9185, -9.3065, -9.3036, -9.3037, -7.4572, -8.9311, -7.9563, -8.9629, -7.4923, -8.9636, -8.5325, -6.8763, -8.0674, -5.0176, -8.1906, -6.7969, -8.4069, -8.1012, -8.7417, -7.6947, -5.3833, -7.4376, -8.088, -5.0543, -7.8114, -7.9231, -5.8179, -5.7315, -4.2474, -6.1543, -3.0577, -6.1186, -3.7367, -5.6304, -5.0357, -5.6072, -6.1811, -7.0302, -6.3043, -4.9544, -6.1661, -5.3931, -3.1833, -4.6049, -5.7168, -5.4404, -5.5086, -4.271, -5.1613, -4.4086, -4.9057, -4.4441, -5.2136, -5.3039, -5.154, -5.4679, -5.1371, -5.2776, -5.1895, -4.9716, -5.1398, -5.0748, -5.1933, -5.2015, -5.4564, -8.216, -8.4006, -8.4009, -7.0911, -6.9088, -8.9079, -8.9102, -6.8695, -6.8701, -6.8701, -6.8702, -6.8704, -8.6485, -8.2546, -9.3122, -9.3123, -9.3123, -9.3125, -9.3129, -9.3132, -9.3136, -9.3143, -9.3147, -9.316, -9.3174, -6.5473, -8.2716, -9.3279, -9.3276, -8.9447, -6.6297, -7.8992, -3.627, -7.1454, -8.6833, -6.4116, -8.9491, -8.9523, -8.9568, -8.707, -8.9962, -7.5625, -8.9736, -8.1386, -8.2717, -6.9325, -7.2562, -8.2224, -6.4178, -5.3373, -2.5543, -5.006, -6.7796, -6.4836, -6.8085, -5.4767, -4.0247, -6.0933, -4.677, -6.4665, -3.3506, -5.4575, -4.5975, -5.6407, -5.0854, -5.4221, -4.4165, -5.0587, -5.5699, -4.9544, -4.4346, -5.5052, -4.7333, -4.7574, -5.0623, -5.6684, -5.4132, -5.7088, -5.6658, -5.833, -4.9507, -5.3694, -5.5436, -5.1421, -5.0709, -5.3958, -5.2423, -5.5468, -8.8986, -9.2852, -9.2852, -9.2853, -9.2853, -9.2853, -9.2853, -9.2853, -9.2854, -9.2854, -9.2854, -9.2855, -9.2856, -9.2857, -9.2863, -9.2864, -9.2918, -9.2942, -9.2974, -9.2954, -9.2954, -8.9121, -9.2984, -9.2992, -9.3004, -9.3051, -8.4377, -9.3169, -8.6594, -9.3166, -7.8442, -8.6927, -7.748, -8.9618, -8.3611, -8.9629, -6.6617, -7.847, -4.5565, -8.0019, -8.44, -8.4456, -8.4386, -7.423, -7.9882, -7.3435, -3.3468, -5.2757, -8.368, -6.5814, -6.511, -8.3983, -8.0023, -8.3929, -5.5803, -4.7306, -7.6571, -5.6415, -6.2245, -4.1507, -5.461, -3.0611, -3.874, -4.197, -6.7222, -4.2206, -3.4931, -5.0222, -6.2224, -4.3863, -5.9953, -5.8337, -5.6188, -4.4556, -5.2669, -5.7083, -5.948, -5.5601, -5.4486, -5.7328, -5.127, -5.5492, -5.4564, -5.412, -5.3678, -5.6825, -5.6277, -5.2495, -5.5809, -5.7015], \"loglift\": [30.0, 29.0, 28.0, 27.0, 26.0, 25.0, 24.0, 23.0, 22.0, 21.0, 20.0, 19.0, 18.0, 17.0, 16.0, 15.0, 14.0, 13.0, 12.0, 11.0, 10.0, 9.0, 8.0, 7.0, 6.0, 5.0, 4.0, 3.0, 2.0, 1.0, 2.3604, 2.3569, 2.3569, 2.3569, 2.3527, 2.3513, 2.3394, 2.3361, 2.3346, 2.3346, 2.3346, 2.3346, 2.3346, 2.3346, 2.3346, 2.3346, 2.3346, 2.3346, 2.3346, 2.3346, 2.3346, 2.3346, 2.3346, 2.3346, 2.3346, 2.3346, 2.3346, 2.3346, 2.3346, 2.3346, 2.3179, 2.3178, 2.3166, 2.3165, 2.3162, 2.3147, 2.3138, 2.3122, 2.2254, 2.2797, 2.299, 2.1234, 2.1945, 2.2588, 2.135, 2.1522, 2.2499, 2.2481, 2.2462, 2.1241, 2.2698, 1.8941, 2.1356, 2.0255, 1.3584, 1.0975, 1.9578, 1.8854, 0.7611, 0.4486, 1.5995, 1.1939, 1.0901, 1.3925, 1.7818, -0.1107, 1.0616, -0.0669, 0.2495, 0.7639, 0.2401, 0.3577, 1.5726, 0.6487, 0.878, 0.4986, 0.5729, 0.7465, 0.6227, 0.3427, 0.4255, 0.7703, 0.4751, 0.6745, 0.5111, -0.0101, 0.6213, 0.9698, 0.5221, 0.3794, -0.264, 0.0552, -0.486, -0.3922, -0.4424, 0.2758, -0.0941, 0.0428, 0.2024, -0.1327, -0.5315, -0.1368, 2.3683, 2.3683, 2.3683, 2.3633, 2.3473, 2.3473, 2.3473, 2.3473, 2.3473, 2.3473, 2.3473, 2.3473, 2.3473, 2.3473, 2.3473, 2.3473, 2.3473, 2.3473, 2.3473, 2.3472, 2.3459, 2.3458, 2.3452, 2.3449, 2.3424, 2.3424, 2.3417, 2.3361, 2.3348, 2.334, 2.3324, 2.3318, 2.3316, 2.323, 2.3223, 2.3307, 2.2599, 2.3306, 2.3293, 2.3294, 2.3283, 2.3242, 2.3237, 2.3176, 2.1633, 2.3128, 2.1911, 2.198, 2.3118, 2.0906, 1.9887, 2.1111, 2.1521, 1.9908, 1.3956, 1.8236, 2.1656, 1.9663, 1.1948, 0.7934, 2.0252, 1.8189, 1.6966, 1.6759, 1.9405, 1.1149, 0.0849, 1.5987, 0.7642, 0.7202, -0.0103, 0.5238, 0.7445, 0.96, 0.3333, 0.8598, 0.7129, 1.1628, 0.653, 0.7062, 0.884, 0.9361, 0.7522, 1.2054, 0.5432, 0.2835, -0.0281, 0.1094, -0.1267, 0.9808, 0.9394, 0.32, -0.2411, 0.2711, 0.4787, 0.1049, -0.3527, -0.8304, -0.0221, -0.1364, 0.2544, 2.4104, 2.4059, 2.3949, 2.39, 2.39, 2.39, 2.39, 2.39, 2.39, 2.39, 2.39, 2.39, 2.39, 2.39, 2.39, 2.39, 2.39, 2.39, 2.39, 2.3899, 2.3899, 2.3899, 2.3887, 2.3885, 2.3851, 2.3851, 2.3846, 2.3839, 2.3828, 2.3824, 2.3823, 2.3823, 2.3822, 2.3821, 2.3599, 2.369, 2.3765, 2.3747, 2.3704, 2.37, 2.2484, 2.2696, 2.3667, 2.3646, 2.3633, 2.3589, 2.2951, 2.1643, 2.3485, 2.2362, 2.3422, 1.7114, 2.3399, 1.9049, 1.9137, 1.6316, 2.1774, 1.4105, 1.6038, 0.9402, 1.7971, 0.4642, 1.3884, 0.1414, 1.2927, 1.6797, 1.1192, 0.393, 0.8672, 1.1212, 0.597, 1.2641, 0.66, 1.4634, 0.5559, 0.8827, 1.4512, 0.7427, 0.0343, 0.7628, 0.4323, 0.9395, 0.3564, 0.6642, 0.7425, 0.5414, 0.5205, -0.4994, 0.1538, -0.4758, -0.6149, 0.029, -0.7151, -0.1254, -0.1151, -0.0025, -0.7628, 0.1308, -0.0088, -1.4954, -0.1667, -0.4291, 2.4258, 2.4258, 2.4258, 2.4076, 2.406, 2.406, 2.406, 2.406, 2.406, 2.406, 2.406, 2.406, 2.406, 2.406, 2.406, 2.406, 2.4059, 2.4059, 2.4059, 2.4055, 2.4049, 2.4018, 2.3995, 2.3991, 2.3987, 2.3929, 2.3907, 2.3893, 2.3884, 2.3878, 2.3665, 2.3698, 2.333, 2.0169, 2.331, 2.3776, 1.955, 2.1266, 2.2397, 2.2363, 2.1603, 2.2095, 2.365, 2.164, 2.2518, 2.363, 2.3624, 2.3617, 1.4148, 2.1639, 2.168, 2.1782, 1.8927, 2.1284, 1.8, 1.9228, 1.3714, 1.0237, 1.1855, 1.0877, 1.4846, 1.0375, 1.4415, 1.2072, 1.2269, 1.8865, 1.622, 1.4963, 0.4141, 0.0016, 1.2267, 0.2764, 1.492, 0.7662, 0.5693, 0.6613, 0.0908, 0.3403, -0.6353, 0.0297, 0.215, 0.0647, -0.1114, -0.0719, 0.2281, 0.6713, -0.2409, 0.2919, 0.591, 0.1728, -0.2478, -0.3035, 2.5261, 2.5229, 2.4924, 2.4851, 2.4792, 2.4792, 2.4792, 2.4792, 2.4792, 2.4792, 2.4792, 2.4792, 2.4792, 2.4792, 2.4792, 2.4792, 2.4792, 2.4792, 2.4792, 2.4792, 2.4791, 2.4791, 2.479, 2.479, 2.479, 2.4763, 2.4755, 2.4749, 2.469, 2.4673, 2.4651, 2.4649, 2.4587, 2.4456, 2.4632, 2.4621, 2.4621, 2.461, 2.4601, 2.4317, 2.4535, 2.4534, 2.4528, 2.415, 2.4504, 2.4502, 2.3653, 2.4412, 2.4407, 2.4404, 2.4378, 2.407, 2.3151, 1.8941, 2.4094, 2.2052, 2.2194, 1.6757, 0.7159, 0.323, 1.8338, 1.3513, 0.6356, 0.8704, 2.1007, 2.0456, 1.675, 2.1422, 2.2054, 1.6935, 1.6454, -0.0903, 1.7161, 1.6808, 1.6094, 0.8327, 0.749, 0.9316, 0.6334, 0.7939, 0.1148, 1.4584, 1.7988, 1.3178, 0.9308, 0.614, 0.6461, 1.0012, 0.7622, 0.6408, 0.7269, 0.0, 0.254, -0.4025, 0.9253, 1.1469, 0.0014, 0.4541, 0.0331, 0.2474, 0.0587, 0.3299, 0.3174, 0.3642, 0.3136, 0.3375, -0.6016, -0.9812, -0.4693, -0.9516, -0.1443, -0.3304, -1.1405, -0.6631, 2.5542, 2.5423, 2.5394, 2.5394, 2.534, 2.534, 2.534, 2.534, 2.534, 2.534, 2.534, 2.534, 2.534, 2.534, 2.5339, 2.5339, 2.5296, 2.5291, 2.5288, 2.5286, 2.523, 2.5187, 2.517, 2.5158, 2.5154, 2.5089, 2.5066, 2.5059, 2.5046, 2.5027, 2.5009, 2.4544, 2.4391, 2.4997, 2.4681, 2.495, 2.4655, 2.4639, 2.1345, 2.4805, 2.0586, 2.1258, 2.3585, 2.1389, 2.0932, 2.3371, 2.3049, 1.0589, 1.9434, 1.79, 1.5595, 1.286, 2.0282, 1.4533, 1.1653, 1.603, 1.1597, 0.1009, 0.7425, 1.5351, 1.8851, 0.8619, 1.0882, 0.0082, 1.0461, 0.9254, 0.3467, 0.7153, 1.6133, 0.7536, 0.4718, 0.8657, 0.0422, 0.0342, 0.436, -0.1579, 0.2745, 0.3547, 0.428, -0.4525, 0.6391, 0.5119, -0.0602, 0.3193, -0.0677, 0.065, 0.2365, -0.1013, -1.1755, -0.8371, 2.5922, 2.5902, 2.5882, 2.5659, 2.5631, 2.5616, 2.5616, 2.5616, 2.5616, 2.5616, 2.5616, 2.5616, 2.5616, 2.5616, 2.5616, 2.5616, 2.5615, 2.5615, 2.5615, 2.5615, 2.5615, 2.5615, 2.5615, 2.5615, 2.5615, 2.5615, 2.5555, 2.5489, 2.5472, 2.5468, 2.546, 2.5379, 2.5338, 2.5365, 2.5364, 2.5363, 2.5363, 2.5362, 2.5455, 2.5454, 2.5454, 2.5447, 2.544, 2.5378, 2.4215, 2.4863, 2.4137, 2.2595, 2.5082, 2.508, 2.3022, 1.8182, 2.2907, 1.837, 1.0494, 1.3182, 2.115, 1.92, 1.272, 1.4082, 2.1311, 0.2127, 1.602, 2.0693, 1.1572, 0.4601, 1.3391, 1.4185, 0.5444, 1.1786, 0.0055, 1.066, 0.8793, 0.7547, 1.3854, 0.9446, 0.1754, 1.1488, 1.1015, 0.386, 1.379, 0.6906, 0.6165, 0.2618, -0.3012, 0.7024, 0.5061, -0.0142, 0.1591, 0.1834, -0.3887, -0.7914, 0.1771, 0.1208, -0.9249, -1.3371, -0.1574, 2.6054, 2.6054, 2.6011, 2.6006, 2.5994, 2.5991, 2.5961, 2.5901, 2.5846, 2.5843, 2.5843, 2.5843, 2.5843, 2.5843, 2.5843, 2.5843, 2.5843, 2.5843, 2.5843, 2.5843, 2.5843, 2.5843, 2.5843, 2.5843, 2.5842, 2.5842, 2.5842, 2.5842, 2.5842, 2.584, 2.5689, 2.5728, 2.5694, 2.5558, 2.5671, 2.4775, 2.5631, 2.3285, 2.3916, 2.5027, 2.0682, 2.1853, 2.1909, 2.3211, 2.5412, 2.4068, 1.9867, 2.5372, 2.4953, 1.6575, 2.5285, 1.6847, 1.729, 1.6312, 1.4542, 2.211, 2.3667, 0.8883, 1.9828, 2.0417, 1.2271, 0.9055, 1.4283, 1.726, 1.6046, 1.0388, 0.4299, -0.2095, 0.978, 0.621, 0.7379, -0.2417, 1.434, 1.7091, 1.5314, 1.2097, 0.6065, 0.7245, 0.5591, 0.5631, 0.3272, -0.429, -0.4124, -0.5787, -0.5079, 0.123, -0.4535, -0.6672, -0.386, -0.0089, 2.7182, 2.7181, 2.6997, 2.6997, 2.6997, 2.6997, 2.6997, 2.6997, 2.6965, 2.6937, 2.6927, 2.6899, 2.6896, 2.6886, 2.6881, 2.6878, 2.6838, 2.6833, 2.6829, 2.6821, 2.681, 2.6796, 2.6792, 2.6791, 2.678, 2.6754, 2.6718, 2.6717, 2.6713, 2.6705, 2.6666, 2.6668, 2.6704, 2.6697, 2.6197, 2.6694, 2.5861, 2.5093, 2.6028, 2.6294, 2.6678, 2.6643, 2.3898, 2.4981, 2.5751, 2.5965, 1.8045, 2.4138, 2.4639, 2.0545, 2.4563, 1.8585, 1.686, 1.8596, 2.0688, 0.3236, 2.3946, 0.0408, 1.0774, 0.9793, 1.0716, 0.4075, 1.0446, 0.6413, 0.9784, 1.3202, 0.903, 0.8252, 0.6163, 0.1176, -0.0252, 0.4388, 0.2538, -0.1618, 1.455, 0.7711, -0.0166, -0.4524, -0.4286, -0.4787, 0.3402, -0.0612, -0.3412, 0.0071, 0.0902, -0.1397, 0.3885, 0.1607, -0.1014, -1.5684, 2.7924, 2.789, 2.7889, 2.7883, 2.7702, 2.7697, 2.7697, 2.7697, 2.7697, 2.7697, 2.7697, 2.7697, 2.7697, 2.7697, 2.7696, 2.7685, 2.7685, 2.7684, 2.7684, 2.7683, 2.7681, 2.7672, 2.765, 2.7614, 2.7572, 2.7561, 2.7561, 2.7547, 2.7544, 2.7536, 2.7462, 2.7512, 2.7389, 2.7487, 2.748, 2.6964, 2.5607, 2.5167, 2.7054, 2.615, 2.4417, 2.5778, 2.7156, 2.6739, 2.5505, 2.5813, 2.7087, 2.5915, 2.703, 2.4194, 2.4747, 1.4277, 2.2446, 1.8777, 2.1712, 1.0489, 1.3274, 2.2056, 1.3526, 2.3629, 0.2513, 1.7964, 2.0177, 1.3839, 0.7462, 0.4252, 0.3364, 1.3672, 1.6515, 0.8551, 1.8767, 0.1702, 1.8727, 1.9121, 1.2351, 1.4433, 0.7342, 1.1026, 1.0911, -0.9207, 0.5551, 0.0765, -0.3878, -0.4058, 0.5581, 0.0153, -0.2425, 0.0449, 0.7514, 0.178, 0.4679, -0.3196, -1.2969, -0.0423, 0.3826, -0.3478, -1.4812, 2.7742, 2.7742, 2.7742, 2.7742, 2.7742, 2.7742, 2.7742, 2.7742, 2.7742, 2.7742, 2.7742, 2.7742, 2.7742, 2.7742, 2.7742, 2.7742, 2.7742, 2.7742, 2.7686, 2.766, 2.7637, 2.7597, 2.7596, 2.7589, 2.7527, 2.7516, 2.7509, 2.7497, 2.7466, 2.7465, 2.7439, 2.7438, 2.7255, 2.7162, 2.723, 2.6533, 2.7227, 2.7218, 2.7186, 2.3622, 2.5727, 2.612, 2.4565, 2.717, 2.7137, 2.656, 1.6655, 2.2627, 2.0624, 2.3044, 2.5554, 2.4286, 2.4293, 2.6336, 2.5833, 2.5031, 1.3556, 2.2872, 1.442, 1.5256, 2.08, 1.7337, 2.363, 1.2811, 1.9956, 0.1568, 1.6703, 0.7504, 1.9959, 0.8571, 1.673, 1.286, 1.2309, 0.306, 0.3437, 1.6726, 0.7561, 1.7121, 0.0148, 0.4829, 0.4853, -0.0951, 0.7425, 0.452, -0.1757, 0.9421, 0.1499, 0.8547, 0.2343, -1.0065, -0.4134, -0.6983, 0.4506, -0.5884, -0.299, 0.3965, 0.0949, 0.0722, 0.155, -0.2831, 2.7873, 2.7856, 2.7856, 2.7856, 2.7856, 2.7856, 2.7753, 2.7718, 2.7717, 2.7713, 2.7699, 2.7677, 2.7676, 2.7601, 2.7532, 2.7517, 2.7482, 2.7465, 2.7418, 2.7387, 2.7365, 2.7365, 2.7352, 2.7346, 2.7346, 2.7342, 2.7339, 2.7338, 2.7337, 2.7335, 2.6919, 2.7206, 2.6364, 2.7009, 2.5367, 2.6974, 2.6384, 2.38, 2.5286, 1.9758, 2.5295, 2.2201, 2.5705, 2.4961, 2.6358, 2.3349, 1.5723, 2.2047, 2.406, 1.3102, 2.2786, 2.3188, 1.5111, 1.4501, 0.8427, 1.5522, 0.1546, 1.482, 0.3223, 1.2322, 0.8629, 1.1559, 1.4507, 1.8826, 1.5073, 0.789, 1.4227, 0.9942, -0.3244, 0.4809, 1.13, 0.9313, 0.9699, 0.1385, 0.6821, 0.1316, 0.4738, 0.1051, 0.6262, 0.5681, 0.4027, 0.6619, 0.225, 0.3229, 0.0328, -0.4378, -0.1659, -0.7205, -0.4161, -0.8004, -0.0979, 2.8409, 2.8342, 2.8339, 2.828, 2.8205, 2.8194, 2.8177, 2.8175, 2.817, 2.8169, 2.8168, 2.8167, 2.8028, 2.8022, 2.7983, 2.7983, 2.7983, 2.7983, 2.7983, 2.7982, 2.7982, 2.7971, 2.7958, 2.7949, 2.7941, 2.793, 2.7858, 2.7836, 2.7825, 2.7816, 2.7718, 2.7604, 2.6511, 2.7256, 2.7701, 2.6483, 2.7795, 2.7745, 2.7728, 2.7441, 2.7665, 2.5934, 2.7564, 2.6347, 2.6312, 2.2541, 2.2978, 2.5521, 1.9812, 1.4567, 0.3047, 1.2855, 1.9751, 1.8181, 1.962, 1.2667, 0.5154, 1.5436, 0.6815, 1.7263, -0.1383, 1.0621, 0.4884, 1.0874, 0.6345, 0.8954, -0.007, 0.498, 0.9243, 0.268, -0.3755, 0.7881, -0.3323, -0.4032, 0.0277, 0.9102, 0.4763, 0.9311, 0.8346, 1.1087, -0.4015, 0.3167, 0.5788, -0.3649, -0.537, 0.1598, -0.2685, -0.1847, 2.814, 2.8111, 2.8111, 2.8111, 2.8111, 2.8111, 2.8111, 2.8111, 2.8111, 2.8111, 2.8111, 2.8111, 2.8111, 2.811, 2.811, 2.811, 2.8046, 2.8026, 2.8024, 2.8022, 2.8014, 2.8002, 2.7987, 2.7979, 2.7955, 2.7932, 2.7824, 2.7819, 2.7789, 2.7777, 2.6994, 2.743, 2.6198, 2.7546, 2.6798, 2.7532, 2.3438, 2.5152, 1.8282, 2.5362, 2.6234, 2.6109, 2.6038, 2.337, 2.4706, 2.2857, 1.0075, 1.5711, 2.5293, 1.9433, 1.8387, 2.5002, 2.354, 2.4966, 1.4519, 1.1128, 2.2036, 1.3251, 1.5599, 0.6265, 1.0395, -0.2021, 0.1851, 0.3522, 1.681, 0.3132, -0.2809, 0.5982, 1.3126, 0.1538, 1.1187, 0.9667, 0.7987, -0.0546, 0.4764, 0.7859, 0.9474, 0.5481, 0.3841, 0.5929, -0.1532, 0.2906, 0.1004, -0.0325, -0.2819, 0.3782, 0.2504, -0.8401, 0.0196, 0.3801]}, \"token.table\": {\"Topic\": [1, 2, 3, 4, 5, 6, 7, 8, 9, 10, 11, 12, 13, 14, 1, 2, 3, 4, 5, 6, 7, 8, 9, 10, 11, 12, 13, 14, 1, 2, 3, 4, 5, 6, 7, 8, 9, 10, 11, 12, 13, 14, 1, 2, 3, 4, 5, 6, 7, 8, 9, 10, 11, 12, 13, 14, 1, 2, 3, 5, 7, 8, 9, 10, 12, 13, 1, 4, 6, 7, 10, 11, 12, 7, 7, 13, 14, 1, 3, 7, 10, 14, 9, 3, 5, 8, 9, 12, 1, 3, 5, 6, 9, 11, 12, 14, 2, 13, 5, 2, 5, 7, 13, 2, 2, 3, 9, 13, 5, 3, 13, 1, 3, 5, 6, 7, 8, 13, 14, 4, 3, 13, 7, 11, 7, 7, 12, 4, 1, 2, 3, 4, 5, 6, 7, 8, 9, 10, 11, 12, 13, 14, 2, 3, 5, 7, 2, 4, 1, 2, 3, 4, 5, 6, 7, 8, 9, 10, 11, 12, 13, 14, 1, 2, 3, 6, 11, 13, 14, 10, 2, 5, 1, 1, 2, 3, 4, 5, 6, 7, 8, 11, 12, 13, 14, 1, 2, 3, 4, 5, 6, 7, 8, 9, 10, 11, 12, 13, 14, 10, 8, 7, 5, 2, 7, 6, 3, 3, 11, 12, 8, 9, 11, 12, 14, 1, 2, 3, 4, 5, 6, 7, 8, 9, 10, 11, 12, 13, 14, 4, 1, 2, 3, 4, 5, 6, 7, 8, 9, 10, 11, 12, 13, 14, 3, 10, 8, 1, 2, 3, 4, 5, 6, 7, 8, 9, 10, 11, 12, 14, 1, 2, 3, 4, 5, 6, 7, 8, 9, 10, 11, 12, 13, 14, 1, 2, 3, 4, 9, 10, 12, 13, 1, 2, 3, 4, 5, 6, 7, 8, 9, 10, 11, 13, 14, 9, 4, 6, 4, 5, 12, 1, 2, 3, 4, 5, 6, 7, 8, 9, 10, 11, 12, 13, 14, 7, 1, 2, 3, 4, 5, 6, 7, 8, 9, 11, 12, 13, 14, 13, 1, 6, 7, 8, 9, 13, 14, 1, 2, 3, 4, 5, 7, 9, 10, 11, 12, 13, 14, 2, 3, 4, 6, 7, 9, 10, 11, 13, 14, 1, 10, 13, 1, 2, 3, 4, 5, 6, 7, 8, 9, 10, 11, 12, 13, 14, 10, 5, 1, 2, 3, 5, 7, 8, 11, 9, 4, 10, 13, 3, 1, 10, 2, 10, 13, 1, 11, 5, 10, 1, 2, 5, 6, 8, 11, 13, 1, 2, 3, 4, 5, 6, 7, 8, 9, 10, 11, 12, 13, 14, 11, 1, 2, 3, 4, 5, 6, 7, 8, 9, 10, 11, 12, 13, 14, 9, 3, 7, 10, 7, 12, 1, 3, 4, 13, 7, 1, 2, 3, 4, 6, 7, 8, 9, 10, 11, 12, 13, 14, 2, 1, 2, 3, 4, 5, 6, 7, 8, 9, 10, 11, 12, 13, 14, 1, 2, 3, 4, 5, 6, 7, 8, 9, 10, 11, 12, 13, 14, 9, 10, 1, 2, 3, 4, 5, 6, 7, 8, 9, 10, 11, 12, 13, 14, 1, 2, 4, 5, 6, 7, 10, 11, 13, 14, 10, 8, 4, 1, 2, 3, 4, 5, 6, 7, 8, 9, 10, 11, 12, 13, 14, 1, 2, 3, 4, 5, 6, 7, 8, 9, 10, 11, 12, 13, 14, 1, 2, 3, 4, 5, 6, 7, 8, 9, 10, 11, 12, 13, 14, 2, 7, 11, 9, 1, 3, 4, 5, 7, 9, 11, 12, 13, 14, 5, 1, 2, 3, 4, 5, 6, 7, 8, 9, 11, 12, 13, 14, 7, 1, 4, 8, 11, 14, 1, 3, 10, 11, 12, 9, 9, 2, 4, 8, 14, 1, 2, 5, 1, 1, 2, 3, 4, 5, 6, 7, 8, 9, 10, 11, 12, 13, 14, 2, 5, 6, 7, 10, 9, 1, 3, 4, 5, 6, 8, 9, 12, 14, 10, 2, 1, 2, 3, 5, 6, 7, 8, 9, 10, 11, 12, 13, 14, 1, 2, 3, 4, 5, 6, 7, 8, 9, 10, 11, 12, 13, 14, 1, 2, 3, 4, 5, 6, 7, 8, 9, 10, 11, 12, 13, 14, 1, 1, 3, 4, 5, 6, 7, 9, 10, 11, 14, 2, 1, 2, 5, 6, 11, 13, 14, 2, 1, 2, 3, 4, 5, 6, 8, 9, 10, 11, 12, 13, 14, 1, 2, 3, 4, 5, 6, 7, 8, 9, 10, 11, 12, 13, 14, 4, 14, 7, 11, 3, 3, 3, 3, 1, 2, 3, 4, 5, 6, 7, 8, 9, 10, 11, 12, 13, 14, 5, 14, 10, 14, 1, 2, 3, 4, 5, 6, 7, 8, 9, 10, 11, 12, 13, 14, 3, 9, 4, 6, 8, 11, 13, 14, 10, 4, 5, 12, 13, 1, 2, 3, 4, 5, 6, 7, 8, 9, 10, 11, 12, 13, 14, 12, 6, 1, 2, 4, 5, 6, 7, 8, 9, 10, 12, 1, 2, 3, 4, 5, 6, 7, 8, 9, 10, 11, 12, 13, 14, 3, 12, 4, 11, 10, 2, 5, 7, 13, 9, 1, 2, 3, 4, 5, 6, 7, 8, 9, 10, 11, 12, 13, 14, 1, 2, 3, 4, 5, 6, 7, 8, 10, 13, 7, 3, 5, 14, 2, 1, 2, 3, 4, 10, 11, 1, 2, 3, 4, 5, 6, 7, 8, 9, 10, 11, 12, 13, 14, 1, 4, 8, 10, 12, 13, 14, 11, 4, 3, 11, 5, 11, 6, 1, 2, 3, 4, 5, 6, 7, 9, 10, 11, 13, 14, 1, 2, 3, 4, 5, 6, 7, 8, 10, 11, 12, 14, 9, 9, 1, 2, 3, 4, 5, 6, 7, 8, 9, 10, 11, 12, 13, 14, 1, 2, 3, 4, 5, 6, 7, 8, 9, 10, 11, 12, 13, 14, 4, 10, 13, 4, 5, 9, 14, 1, 2, 3, 4, 5, 6, 7, 8, 9, 10, 11, 12, 13, 7, 12, 1, 2, 3, 4, 5, 6, 7, 8, 9, 10, 11, 12, 13, 14, 4, 1, 2, 3, 4, 5, 6, 7, 8, 9, 10, 11, 12, 13, 14, 12, 14, 1, 5, 10, 11, 4, 1, 2, 3, 4, 5, 6, 7, 8, 9, 10, 11, 12, 13, 14, 7, 5, 11, 5, 8, 1, 2, 3, 4, 5, 6, 7, 8, 10, 11, 14, 9, 5, 1, 4, 5, 8, 2, 5, 8, 10, 14, 7, 2, 3, 4, 13, 2, 12, 5, 3, 9, 1, 2, 3, 4, 5, 6, 7, 8, 9, 10, 11, 12, 13, 14, 14, 14, 14, 10, 6, 4, 1, 2, 3, 4, 5, 6, 7, 8, 9, 10, 11, 12, 13, 14, 1, 2, 3, 4, 5, 6, 7, 8, 9, 10, 11, 12, 13, 14, 1, 2, 3, 4, 5, 6, 7, 9, 10, 11, 12, 13, 14, 1, 4, 6, 8, 9, 11, 12, 13, 8, 1, 2, 3, 4, 5, 6, 7, 8, 9, 10, 11, 12, 13, 14, 8, 4, 6, 9, 3, 13, 1, 3, 6, 10, 1, 3, 5, 6, 7, 8, 9, 10, 11, 13, 14, 1, 5, 6, 7, 9, 12, 13, 2, 8, 10, 13, 2, 5, 12, 13, 11, 1, 2, 3, 4, 5, 6, 7, 8, 9, 10, 11, 12, 13, 14, 2, 3, 7, 8, 9, 1, 2, 3, 4, 5, 6, 7, 8, 9, 10, 11, 12, 13, 14, 1, 2, 3, 4, 5, 6, 7, 8, 9, 10, 11, 12, 13, 14, 1, 2, 3, 4, 5, 6, 7, 8, 9, 10, 11, 12, 13, 1, 2, 3, 4, 5, 6, 7, 8, 9, 10, 11, 12, 13, 14, 1, 2, 3, 4, 5, 6, 7, 8, 9, 10, 11, 12, 13, 14, 10, 2, 9, 1, 2, 3, 4, 5, 6, 7, 8, 9, 10, 11, 12, 13, 14, 1, 2, 3, 4, 5, 6, 7, 8, 9, 10, 11, 12, 13, 14, 2, 1, 4, 5, 6, 7, 8, 9, 10, 11, 12, 13, 14, 7, 8, 9, 11, 13, 14, 9, 1, 2, 3, 4, 5, 6, 7, 8, 9, 10, 11, 12, 13, 14, 5, 1, 2, 3, 4, 5, 6, 7, 8, 9, 10, 11, 12, 13, 14, 1, 2, 3, 4, 5, 6, 7, 8, 9, 10, 11, 12, 13, 14, 2, 2, 3, 5, 6, 8, 9, 12, 14, 3, 1, 2, 3, 4, 5, 6, 7, 8, 9, 10, 11, 12, 13, 14, 1, 2, 3, 4, 5, 6, 7, 8, 9, 10, 11, 12, 13, 14, 1, 2, 3, 4, 5, 6, 7, 8, 9, 10, 11, 12, 13, 14, 4, 1, 2, 3, 4, 5, 6, 7, 8, 9, 10, 11, 12, 13, 14, 8, 1, 2, 3, 10, 2, 5, 13, 1, 5, 6, 9, 1, 2, 3, 5, 6, 7, 9, 10, 11, 13, 14, 1, 2, 3, 4, 5, 6, 7, 8, 9, 10, 11, 12, 13, 14, 1, 2, 3, 4, 5, 6, 7, 8, 9, 10, 11, 12, 14, 1, 9, 14, 13, 4, 13, 8, 13, 6, 11, 13, 10, 10, 11, 1, 4, 1, 2, 3, 4, 5, 6, 7, 8, 9, 10, 11, 12, 13, 14, 7, 3, 13, 5, 7, 12, 13, 14, 1, 2, 3, 4, 5, 6, 7, 8, 9, 10, 11, 12, 14, 11, 6, 1, 3, 4, 1, 3, 4, 5, 7, 8, 10, 12, 13, 14, 1, 2, 3, 4, 5, 6, 7, 8, 9, 10, 11, 12, 13, 14, 11, 4, 9, 11, 7, 14, 1, 2, 3, 4, 5, 6, 7, 8, 9, 10, 11, 12, 13, 14, 2, 6, 14, 6, 10, 10, 8, 14, 9, 14, 1, 2, 3, 4, 5, 6, 7, 8, 9, 10, 11, 12, 13, 14, 13, 7, 5, 11, 14, 1, 3, 4, 6, 9, 12, 13, 8, 9, 3, 13, 8, 3, 1, 2, 3, 8, 9, 11, 12, 13, 1, 2, 3, 5, 6, 7, 10, 11, 12, 13, 14, 1, 2, 3, 4, 5, 6, 7, 8, 9, 10, 11, 12, 13, 14, 4, 1, 2, 3, 4, 5, 6, 7, 8, 9, 10, 11, 12, 13, 14, 1, 2, 3, 4, 5, 6, 7, 8, 9, 10, 11, 12, 13, 14, 14, 2, 8, 8, 10, 14, 9, 5, 7, 7, 2, 13, 2, 3, 5, 6, 7, 12, 1, 2, 3, 4, 5, 6, 7, 8, 9, 10, 11, 12, 13, 14, 11, 11, 11, 3, 11, 3, 2, 8, 1, 2, 3, 4, 5, 6, 7, 8, 9, 10, 11, 12, 13, 14, 5, 2, 6, 2, 1, 2, 3, 4, 5, 6, 7, 9, 10, 11, 13, 14, 4, 8, 10, 12, 11, 8, 12, 8, 10, 1, 1, 10, 1, 1, 2, 3, 4, 5, 6, 7, 8, 9, 10, 11, 12, 13, 14, 1, 1, 3, 6, 7, 10, 8, 9, 11, 8, 13, 1, 2, 3, 4, 5, 6, 7, 8, 9, 10, 11, 12, 13, 14, 9, 7, 1, 2, 3, 4, 5, 6, 7, 8, 9, 10, 11, 12, 13, 14, 4, 11, 3, 1, 2, 3, 4, 5, 6, 7, 8, 9, 10, 11, 12, 13, 14, 5, 14, 2, 5, 1, 1, 3, 6, 7, 10, 11, 1, 2, 3, 4, 5, 6, 7, 8, 9, 10, 11, 12, 13, 14, 14, 13, 1, 4, 5, 6, 7, 10, 11, 12, 13, 7, 1, 2, 3, 4, 5, 6, 7, 8, 9, 10, 11, 12, 13, 14, 9, 12, 13, 12, 11, 5, 8, 1, 3, 3, 8, 6, 1, 2, 3, 4, 5, 6, 7, 8, 9, 10, 11, 12, 13, 14, 11, 7, 11, 12, 7, 6, 1, 2, 4, 10, 12, 11, 8, 1, 2, 11, 1, 2, 3, 1, 2, 3, 4, 5, 6, 7, 8, 9, 10, 11, 12, 13, 14, 5, 9, 13, 1, 2, 5, 7, 8, 11, 13, 14, 1, 2, 3, 4, 5, 6, 7, 8, 9, 10, 11, 12, 13, 14, 1, 10, 3, 9, 1, 2, 3, 4, 5, 6, 7, 8, 9, 10, 11, 12, 13, 14, 1, 2, 3, 4, 5, 6, 7, 8, 9, 10, 11, 12, 13, 14, 7, 3, 4, 7, 1, 2, 3, 4, 5, 6, 7, 8, 9, 11, 13, 14, 6, 5, 14, 1, 1, 2, 3, 4, 5, 6, 7, 8, 9, 10, 11, 12, 13, 14, 8, 12, 1, 1, 2, 3, 4, 5, 6, 7, 8, 9, 10, 11, 12, 13, 14, 1, 2, 3, 4, 5, 6, 7, 8, 9, 10, 11, 12, 13, 14, 12, 3, 14, 1, 2, 3, 4, 5, 6, 7, 8, 9, 10, 11, 12, 13, 14, 2, 12, 3, 3, 12, 9, 3, 6, 8, 1, 2, 3, 4, 5, 6, 7, 8, 9, 10, 11, 12, 13, 14, 1, 2, 3, 4, 5, 6, 7, 8, 9, 10, 11, 12, 13, 14, 7, 1, 2, 3, 4, 5, 6, 7, 8, 9, 10, 11, 12, 13, 14, 1, 4, 1, 2, 4, 5, 6, 7, 8, 9, 10, 11, 12, 13, 4, 13, 1, 8, 14, 5, 2, 5, 6, 13, 11, 2, 4, 1, 2, 3, 4, 5, 6, 7, 8, 9, 10, 11, 12, 13, 14, 1, 2, 3, 4, 5, 6, 7, 8, 9, 10, 11, 12, 13, 14, 5, 6, 1, 2, 3, 4, 5, 6, 8, 9, 10, 11, 12, 13, 14, 1, 2, 3, 4, 5, 6, 7, 8, 9, 10, 11, 12, 13, 14, 1, 2, 3, 4, 5, 6, 7, 8, 9, 10, 11, 12, 13, 14, 6, 3, 5, 13, 1, 2, 3, 4, 6, 8, 9, 10, 11, 12, 13, 14, 3, 11, 11, 1, 2, 3, 4, 5, 6, 8, 9, 10, 12, 13, 14, 5, 10, 1, 2, 3, 4, 5, 6, 7, 8, 9, 10, 11, 12, 13, 14, 13, 12, 2, 8, 10, 6, 1, 2, 3, 4, 5, 7, 8, 9, 10, 11, 12, 13, 14, 1, 2, 8, 11, 14, 11, 1, 1, 1, 2, 3, 4, 5, 6, 7, 8, 9, 10, 13, 14, 2, 9, 2, 1, 3, 4, 5, 6, 8, 9, 10, 11, 12, 13, 14, 1, 2, 10, 1, 2, 3, 5, 6, 7, 8, 9, 11, 12, 13, 14, 3, 2, 4, 9, 11, 1, 9, 3, 9, 8, 13, 7, 1, 11, 8, 2, 1, 2, 3, 4, 5, 6, 7, 8, 9, 10, 11, 12, 13, 14, 4, 6, 3, 1, 2, 4, 5, 9, 13, 14, 6, 1, 2, 3, 4, 5, 6, 7, 8, 9, 10, 11, 12, 13, 14, 2, 5, 6, 9, 5, 8, 10, 11, 12, 13, 14, 3, 4, 1, 4, 12, 8, 1, 2, 3, 4, 5, 6, 7, 8, 9, 10, 11, 12, 13, 14, 6, 2, 1, 2, 3, 4, 5, 6, 7, 8, 9, 10, 11, 12, 13, 14, 12, 5, 4, 6, 11, 12, 5, 10, 13, 14, 2, 4, 1, 2, 3, 4, 5, 6, 7, 8, 9, 10, 11, 12, 13, 14, 1, 4, 12, 13, 9, 1, 4, 5, 7, 2, 6, 3, 8, 1, 2, 3, 5, 6, 7, 8, 9, 10, 11, 12, 13, 14, 3, 8, 3, 6, 8, 10, 11, 13, 14, 1, 2, 3, 4, 5, 6, 8, 9, 10, 11, 13, 14, 10, 12, 12, 5, 5, 1, 10, 1, 2, 3, 4, 5, 6, 7, 8, 9, 10, 11, 12, 13, 14, 1, 2, 3, 5, 6, 7, 8, 9, 10, 11, 12, 13, 14, 5, 1, 2, 4, 5, 8, 9, 10, 11, 4, 8, 5, 1, 12, 1, 14, 2, 1, 3, 4, 5, 7, 8, 9, 10, 12, 13, 14, 6, 7, 1, 2, 3, 4, 5, 6, 7, 8, 9, 10, 11, 12, 13, 14, 1, 2, 3, 4, 5, 6, 7, 8, 9, 10, 11, 12, 13, 14, 1, 2, 3, 4, 5, 6, 7, 8, 9, 11, 12, 13, 14, 8, 4, 5, 8, 13, 14, 3, 9, 1, 2, 3, 4, 5, 6, 7, 8, 9, 10, 11, 12, 13, 14, 10, 1, 2, 3, 4, 5, 6, 7, 8, 9, 10, 11, 12, 13, 14, 3, 4, 1, 2, 3, 4, 5, 6, 7, 8, 9, 10, 11, 12, 13, 14, 4, 11, 1, 14, 3, 1, 2, 3, 4, 5, 6, 7, 8, 9, 10, 11, 12, 13, 14, 6, 8, 12, 13, 1, 2, 3, 4, 5, 6, 7, 8, 9, 10, 11, 12, 13, 14, 5, 6, 11, 10, 1, 2, 3, 4, 5, 6, 7, 8, 9, 10, 11, 12, 13, 14, 1, 2, 3, 4, 5, 6, 7, 8, 9, 10, 11, 12, 13, 14, 3, 1, 2, 5, 6, 7, 9, 11, 12, 6, 13, 2, 1, 2, 3, 4, 5, 6, 7, 8, 9, 10, 11, 12, 13, 14, 1, 6, 12, 1, 2, 3, 4, 5, 6, 7, 8, 9, 10, 11, 12, 13, 14, 4, 1, 2, 3, 4, 5, 6, 7, 8, 9, 10, 11, 12, 13, 14, 1, 2, 3, 4, 5, 6, 7, 8, 9, 10, 11, 12, 13, 14, 14, 8, 5, 7, 9, 1, 2, 3, 4, 5, 6, 7, 8, 9, 10, 11, 12, 13, 14, 3, 6, 2, 3, 7, 8, 9, 10, 11, 12, 13, 14, 4, 6, 8, 2, 2, 1, 2, 3, 4, 5, 6, 7, 8, 9, 10, 11, 12, 13, 14, 11, 1, 2, 3, 4, 5, 7, 8, 9, 10, 12, 13, 9, 10, 13, 1, 5, 1, 3, 4, 5, 7, 8, 10, 11, 12, 13, 14, 1, 4, 5, 9, 10, 11, 12, 14, 10, 1, 10, 13, 1, 2, 3, 4, 5, 6, 7, 8, 9, 10, 11, 12, 13, 14, 3, 7, 2, 1, 2, 3, 4, 5, 6, 7, 8, 9, 10, 11, 12, 13, 14, 1, 2, 4, 5, 6, 7, 9, 10, 11, 13, 14, 14, 3, 9, 1, 2, 3, 4, 5, 6, 7, 8, 9, 10, 11, 12, 13, 14, 11, 3, 10, 2, 1, 2, 3, 4, 5, 6, 7, 8, 9, 10, 11, 12, 13, 14, 8, 11, 1, 2, 3, 5, 6, 7, 8, 9, 10, 12, 13, 7, 1, 2, 3, 4, 5, 6, 7, 8, 9, 10, 11, 12, 13, 14, 1, 2, 3, 4, 5, 7, 9, 12, 13, 1, 2, 3, 4, 5, 6, 7, 8, 9, 10, 11, 12, 13, 14, 1, 2, 3, 4, 5, 6, 7, 8, 9, 10, 11, 12, 13, 14, 8, 3, 14, 1, 2, 3, 4, 5, 6, 7, 8, 9, 10, 11, 12, 13, 14, 3, 2, 1, 8, 9, 12, 13, 7, 12, 1, 2, 3, 4, 5, 6, 7, 8, 9, 11, 12, 13, 1, 2, 3, 4, 5, 6, 7, 8, 9, 10, 11, 12, 13, 14, 6, 7, 6, 12, 14, 12, 7, 7, 9, 10, 13, 14, 9, 9, 14, 3, 1, 2, 3, 4, 5, 6, 7, 8, 9, 10, 11, 12, 13, 14, 8, 10, 1, 4, 14, 3, 1, 3, 4, 5, 6, 7, 8, 9, 10, 12, 13, 14, 12, 1, 2, 3, 4, 5, 6, 7, 8, 9, 10, 11, 12, 13, 14, 11, 5, 1, 2, 3, 5, 7, 8, 9, 10, 12, 10, 1, 4, 6, 7, 8, 9, 14, 3, 5, 11, 12, 1, 2, 3, 4, 5, 6, 7, 8, 9, 10, 11, 12, 13, 14, 6, 5, 1, 4, 5, 6, 7, 8, 9, 13, 14, 1, 2, 3, 4, 5, 6, 7, 8, 9, 10, 11, 12, 13, 14, 8, 11, 1, 2, 3, 4, 5, 6, 7, 8, 9, 10, 11, 12, 13, 14, 1, 5, 6, 2, 3, 10, 12, 14, 1, 2, 3, 4, 5, 6, 7, 8, 9, 10, 11, 12, 13, 14, 14, 7, 12, 13, 6, 1, 2, 3, 4, 5, 6, 7, 8, 9, 10, 11, 12, 13, 14, 1, 2, 3, 4, 5, 6, 7, 8, 9, 10, 12, 13, 14, 1, 2, 3, 4, 5, 6, 7, 8, 9, 10, 11, 12, 13, 14, 9, 1, 2, 3, 4, 6, 7, 8, 11, 12, 13, 14, 1, 2, 3, 4, 5, 6, 7, 8, 9, 10, 11, 12, 13, 14, 1, 2, 3, 4, 5, 6, 7, 8, 9, 10, 11, 12, 13, 14, 6, 1, 3, 1, 1, 5, 7, 14, 2, 4, 5, 6, 7, 10, 13, 14, 11, 12, 1, 2, 3, 4, 5, 6, 7, 8, 9, 10, 11, 12, 13, 14, 1, 1, 2, 3, 4, 5, 6, 7, 8, 9, 10, 11, 12, 13, 14, 7, 1, 3, 4, 5, 6, 7, 9, 10, 11, 12, 13, 14, 11, 1, 2, 3, 4, 5, 6, 7, 8, 9, 10, 11, 12, 13, 14, 7, 13, 10, 1, 2, 3, 4, 5, 6, 7, 8, 9, 10, 11, 12, 13, 14, 6, 6, 1, 3, 5, 10, 1, 2, 3, 4, 5, 6, 7, 8, 9, 10, 11, 12, 13, 14, 2, 4, 11, 14, 2, 1, 2, 3, 4, 5, 6, 7, 8, 9, 10, 11, 12, 13, 14, 12, 1, 1, 2, 3, 4, 5, 6, 7, 8, 9, 10, 11, 12, 13, 14, 4, 11, 1, 4, 1, 3, 4, 5, 6, 7, 8, 9, 10, 13, 14, 11, 13, 9, 6, 5, 7, 1, 2, 3, 4, 5, 6, 7, 8, 9, 10, 11, 12, 13, 14, 1, 2, 3, 4, 5, 6, 7, 8, 9, 10, 11, 12, 13, 14, 1, 2, 3, 4, 5, 6, 7, 8, 9, 10, 11, 12, 13, 14, 4, 8, 9, 12, 14, 1, 2, 3, 4, 5, 6, 7, 8, 9, 10, 11, 12, 13, 14, 1, 2, 3, 4, 5, 6, 7, 8, 9, 10, 11, 12, 13, 14, 5, 1, 13, 2, 6, 1, 13, 1, 2, 3, 4, 5, 7, 8, 9, 11, 13, 1, 2, 3, 4, 5, 6, 7, 8, 9, 10, 11, 12, 13, 14, 8, 12, 1, 2, 3, 4, 5, 6, 7, 8, 9, 10, 11, 12, 13, 14, 1, 2, 3, 5, 6, 7, 9, 10, 12, 13, 14, 1, 2, 3, 4, 10, 11, 4, 5, 7, 9, 12, 2, 5, 9, 13, 3, 1, 1, 2, 3, 4, 5, 6, 7, 8, 9, 10, 11, 12, 13, 14, 8, 9, 11, 2, 13, 12, 10, 1, 2, 3, 4, 5, 6, 7, 8, 9, 10, 11, 12, 13, 14, 7, 2, 3, 6, 7, 10, 13, 10, 5, 1, 2, 3, 4, 5, 6, 7, 8, 9, 10, 11, 12, 13, 14, 1, 7, 13, 1, 2, 3, 4, 5, 6, 7, 8, 9, 10, 11, 12, 14, 1, 6, 9, 1, 11, 10, 1, 1, 2, 3, 4, 5, 6, 7, 8, 9, 11, 12, 13, 14, 12, 2, 6, 12, 12, 1, 2, 3, 4, 5, 6, 7, 8, 9, 10, 11, 12, 13, 14, 4, 1, 2, 3, 7, 10, 12, 13, 14, 1, 2, 3, 4, 5, 6, 11, 13, 13, 14, 3, 11, 13, 1, 11, 1, 2, 3, 4, 5, 6, 7, 8, 9, 10, 11, 12, 13, 14, 5, 10, 11, 4, 10, 2, 1, 8, 8, 1, 2, 3, 4, 5, 6, 7, 8, 9, 10, 11, 12, 13, 14, 1, 2, 3, 4, 5, 6, 7, 8, 9, 10, 11, 12, 13, 14, 1, 2, 3, 4, 5, 7, 9, 10, 12, 13, 14, 1, 2, 3, 4, 5, 6, 7, 9, 11, 14, 1, 2, 3, 4, 5, 6, 7, 8, 9, 10, 11, 12, 13, 14, 1, 2, 3, 4, 5, 6, 7, 8, 9, 10, 11, 12, 13, 14, 3, 8, 1, 2, 3, 4, 5, 6, 7, 8, 9, 10, 11, 12, 13, 14, 1, 2, 3, 4, 5, 6, 7, 8, 9, 10, 11, 12, 13, 14, 9, 1, 2, 3, 4, 5, 6, 7, 8, 9, 10, 11, 12, 13, 14, 1, 2, 3, 4, 5, 6, 7, 8, 9, 10, 11, 13, 14, 13, 14, 1, 2, 3, 4, 5, 6, 7, 8, 9, 10, 11, 12, 13, 14, 6, 1, 2, 3, 4, 5, 6, 7, 8, 9, 10, 11, 12, 13, 14, 6, 7, 8, 10, 13, 1, 2, 3, 4, 5, 6, 7, 8, 9, 10, 11, 12, 13, 14, 1, 2, 3, 4, 5, 6, 7, 8, 9, 10, 11, 12, 13, 14, 2, 5, 9, 10, 12, 13, 5, 11, 8, 5, 1, 2, 3, 4, 5, 6, 8, 12, 13, 14, 1, 2, 3, 4, 5, 6, 7, 8, 9, 11, 12, 13, 14, 1, 9, 1, 2, 3, 4, 5, 6, 7, 8, 9, 1, 2, 3, 4, 5, 6, 7, 8, 9, 10, 11, 12, 13, 14, 6, 14, 5, 7, 1, 2, 4, 7, 10, 13, 1, 1, 2, 3, 4, 5, 7, 8, 9, 10, 11, 12, 13, 14, 8, 10, 2, 1, 2, 3, 4, 5, 6, 7, 8, 9, 10, 11, 12, 13, 14, 7, 10, 5, 1, 2, 3, 4, 5, 6, 7, 8, 9, 10, 11, 12, 13, 14, 6, 2, 2, 5, 4, 1, 2, 3, 4, 5, 6, 7, 8, 9, 10, 11, 12, 13, 14, 8, 5, 5, 1, 2, 3, 4, 5, 6, 7, 8, 9, 10, 11, 12, 13, 14, 14, 7, 14, 1, 2, 3, 4, 5, 6, 7, 8, 9, 10, 11, 12, 13, 14, 14, 3, 7, 8, 14, 1, 2, 3, 4, 5, 7, 8, 9, 11, 13, 12, 1, 2, 3, 4, 5, 6, 7, 8, 9, 10, 11, 12, 13, 14, 1, 2, 3, 4, 5, 6, 7, 8, 9, 10, 11, 12, 13, 14, 6, 14, 10, 14, 1, 2, 3, 4, 5, 6, 7, 8, 9, 10, 11, 12, 13, 14, 1, 5, 1, 2, 3, 4, 5, 6, 7, 9, 12, 11, 6, 8, 8, 1, 2, 3, 4, 5, 7, 8, 9, 10, 11, 12, 13, 14, 4, 6, 9, 12, 14, 7, 1, 1, 2, 3, 4, 5, 6, 7, 8, 12, 13, 14, 13, 5, 3, 1, 2, 3, 4, 7, 11, 4, 12, 3, 5, 3, 7, 13, 1, 5, 6, 2, 6, 1, 2, 3, 4, 5, 6, 7, 8, 9, 10, 11, 12, 13, 14, 1, 2, 3, 4, 5, 6, 7, 8, 9, 10, 11, 12, 13, 14, 6, 2, 14, 1, 2, 3, 4, 5, 6, 7, 8, 9, 10, 11, 12, 13, 14, 14, 5, 1, 2, 3, 5, 6, 7, 8, 9, 11, 12, 13, 14, 1, 2, 3, 4, 5, 6, 8, 9, 10, 11, 12, 13, 14, 14, 2, 5, 6, 7, 9, 10, 11, 14, 13, 5, 8, 5, 1, 2, 3, 4, 5, 6, 7, 9, 10, 11, 12, 13, 14, 1, 2, 3, 4, 5, 6, 7, 8, 9, 10, 11, 12, 13, 14, 9, 1, 2, 3, 4, 5, 6, 7, 8, 9, 10, 11, 12, 13, 14, 12, 1, 2, 3, 4, 5, 6, 7, 8, 9, 10, 11, 12, 13, 14, 1, 2, 3, 4, 5, 6, 7, 8, 9, 10, 11, 12, 13, 14, 13, 1, 2, 3, 4, 5, 6, 7, 8, 9, 10, 11, 12, 13, 14, 12, 8, 13, 14, 4, 12, 5, 1, 2, 3, 4, 5, 6, 7, 8, 9, 10, 11, 12, 13, 14, 2, 3, 6, 7, 9, 11, 13, 4, 11, 9, 4, 6, 1, 2, 3, 4, 5, 6, 7, 8, 9, 10, 11, 12, 13, 14, 1, 2, 3, 4, 5, 6, 7, 8, 9, 10, 11, 12, 13, 14, 1, 6, 9, 14, 13, 1, 2, 3, 4, 5, 6, 7, 8, 9, 10, 11, 12, 13, 14, 4, 1, 2, 3, 4, 5, 6, 7, 8, 9, 10, 11, 12, 13, 14, 1, 2, 3, 4, 5, 6, 8, 11, 12, 14, 1, 2, 3, 4, 5, 6, 7, 8, 9, 10, 11, 12, 13, 14, 1, 2, 3, 4, 5, 6, 7, 8, 9, 10, 11, 12, 13, 14, 5, 1, 2, 7, 8, 9, 10, 1, 2, 3, 4, 5, 6, 8, 10, 11, 12, 13, 14, 1, 2, 3, 4, 5, 6, 7, 8, 9, 10, 11, 12, 14, 2, 4, 9, 8, 2, 1, 2, 3, 4, 5, 6, 7, 8, 9, 10, 11, 12, 13, 14, 13, 5, 14, 1, 2, 3, 4, 5, 6, 7, 10, 13, 14, 1, 2, 3, 4, 5, 6, 7, 8, 9, 10, 11, 12, 13, 14, 9, 4, 4, 2, 3, 5, 10, 12, 13, 14, 1, 2, 3, 4, 5, 6, 7, 8, 9, 10, 11, 12, 13, 14, 3, 9, 8, 1, 6, 11, 12, 10, 11, 1, 2, 13, 10, 2, 5, 8, 1, 2, 3, 4, 5, 6, 7, 8, 9, 10, 11, 13], \"Freq\": [0.06099756222036245, 0.07050904649879185, 0.04652356440536119, 0.11186332597022403, 0.08787784387679336, 0.06368559038600555, 0.11537843972529575, 0.04611002161064687, 0.040320422484646366, 0.08250178754550717, 0.0533470205181475, 0.028327681437931036, 0.038252708511074755, 0.15445823382579915, 0.052492186751918635, 0.08748697791986439, 0.055878779445590804, 0.06265196483293514, 0.056443211561202834, 0.09821118811649293, 0.04289684078651415, 0.17497395583972877, 0.08127822464813209, 0.0637808290641592, 0.03612365539916981, 0.052492186751918635, 0.11288642312240567, 0.022012852508869106, 0.10742009943692413, 0.11596488007395218, 0.08910985521472115, 0.10009600174804294, 0.02685502485923103, 0.020751610118496706, 0.07812370868139937, 0.12450966071098023, 0.020751610118496706, 0.0244136589629373, 0.08056507457769309, 0.11230283122951158, 0.08788917226657428, 0.009765463585174921, 0.11173588652896285, 0.058407395231048764, 0.07110465506388546, 0.07618355899702013, 0.04571013539821207, 0.07618355899702013, 0.08126246293015481, 0.038091779498510066, 0.015236711799404026, 0.06348629916418344, 0.2488662927235991, 0.03555232753194273, 0.038091779498510066, 0.043170683431644735, 0.13275483366433555, 0.014750537073815061, 0.1917569819595958, 0.029501074147630122, 0.11800429659052049, 0.39826450099300664, 0.044251611221445185, 0.044251611221445185, 0.014750537073815061, 0.014750537073815061, 0.06029258377394809, 0.12058516754789618, 0.06029258377394809, 0.06029258377394809, 0.06029258377394809, 0.06029258377394809, 0.6029258377394808, 0.9124177435067219, 0.9019054207018532, 0.9417388885850754, 0.9525973126363542, 0.5880630712134756, 0.1680180203467073, 0.04200450508667682, 0.04200450508667682, 0.12601351526003046, 0.9167965816665207, 0.0563460794717463, 0.0563460794717463, 0.6198068741892093, 0.1126921589434926, 0.0563460794717463, 0.0782778246719545, 0.13046304111992418, 0.20874086579187867, 0.05218521644796967, 0.026092608223984834, 0.4435743398077422, 0.026092608223984834, 0.05218521644796967, 0.9593220049842508, 0.9377040623644515, 0.7637544001291569, 0.2572261104764842, 0.7716783314294526, 0.8820508311960605, 0.9417069754835207, 0.9802760753063666, 0.12345573878052131, 0.7407344326831279, 0.12345573878052131, 0.9416501667436251, 1.0090306161183829, 0.9793623363754225, 0.9416732254912423, 0.1795753706398966, 0.03591507412797932, 0.46689596366373115, 0.03591507412797932, 0.07183014825595864, 0.07183014825595864, 0.03591507412797932, 0.03591507412797932, 0.946595055298712, 0.9795671979147806, 0.9417196202778192, 0.8819567326841943, 0.9640394608858769, 0.9012881584360759, 0.9114964608772881, 0.9270639649068159, 0.931376641311369, 0.037613587509811384, 0.05642038126471708, 0.09403396877452846, 0.07992887345834919, 0.032911889071084964, 0.05642038126471708, 0.14575265160051912, 0.23508492193632116, 0.023508492193632116, 0.018806793754905692, 0.01410509531617927, 0.07052547658089635, 0.023508492193632116, 0.1034373656519813, 0.08648634724664553, 0.735133951596487, 0.043243173623322764, 0.12972952086996828, 0.960075088637213, 0.9354035257750122, 0.16945729510130159, 0.032059488262408405, 0.04808923239361261, 0.0664089399721317, 0.03892937860435307, 0.09388850133991034, 0.10075839168185499, 0.06182901307750193, 0.027479561367778634, 0.10304835512916988, 0.13739780683889316, 0.020609671025833977, 0.0664089399721317, 0.03434945170972329, 0.0385110107291899, 0.0385110107291899, 0.0385110107291899, 0.6161761716670384, 0.0385110107291899, 0.11553303218756972, 0.0770220214583798, 0.9261773783161411, 1.0029037782675712, 0.9872965273268627, 1.0388257375427492, 0.03152179005370379, 0.10244581767453731, 0.03152179005370379, 0.05516313259398163, 0.03940223756712974, 0.007880447513425948, 0.45706595577870496, 0.047282685080555685, 0.07880447513425948, 0.07092402762083352, 0.007880447513425948, 0.05516313259398163, 0.13249248487681894, 0.1831513761532497, 0.09060147862900118, 0.09547252586711952, 0.050658891276430765, 0.17633191001988402, 0.009742094476236687, 0.04481363459068876, 0.030200492876333727, 0.02045839840009704, 0.06234940464791479, 0.03994258735257041, 0.012664722819107691, 0.05260731017167811, 0.9798459161306797, 0.9663159319089673, 0.8818837941011348, 0.9874064373281274, 0.745892120651803, 0.12431535344196716, 0.9278624574035594, 0.939629885934278, 0.19184920403044253, 0.09592460201522127, 0.6714722141065489, 0.10637077819213223, 0.10637077819213223, 0.10637077819213223, 0.7445954473449256, 0.9839443805696765, 0.21088270542652565, 0.024809730050179488, 0.012404865025089744, 0.12404865025089745, 0.3018517156105171, 0.012404865025089744, 0.024809730050179488, 0.057889370117085476, 0.04548450509199573, 0.016539820033452994, 0.06615928013381198, 0.02067477504181624, 0.028944685058542738, 0.057889370117085476, 0.9126139706875672, 0.07914201673742981, 0.11768073793130868, 0.041291486993441644, 0.033033189594753314, 0.06813095353917871, 0.04679701859256719, 0.06193723049016246, 0.07019552788885079, 0.06400180483983454, 0.03647414684420679, 0.1383264814280295, 0.08671212268622745, 0.09428222863502508, 0.06262542194005316, 0.9422028957283878, 0.9258832994325759, 0.9660794023281839, 0.05078307451534045, 0.06347884314417555, 0.09521826471626334, 0.07617461177301067, 0.199958355904153, 0.1015661490306809, 0.04443519020092289, 0.012695768628835112, 0.08252249608742822, 0.09521826471626334, 0.10474009118788967, 0.03173942157208778, 0.038087305886505336, 0.2608664440925856, 0.07173827212546102, 0.05869494992083175, 0.022825813858101236, 0.04891245826735979, 0.1369548831486074, 0.06195578047198907, 0.013043322204629278, 0.04239079716504515, 0.09456408598356227, 0.022825813858101236, 0.026086644409258557, 0.08804242488124762, 0.05543411936967443, 0.05666735605982467, 0.05666735605982467, 0.028333678029912334, 0.19833574620938635, 0.028333678029912334, 0.5666735605982467, 0.028333678029912334, 0.028333678029912334, 0.13095615894995752, 0.13823150111384405, 0.08002876380275181, 0.014550684327773056, 0.07275342163886528, 0.021826026491659586, 0.007275342163886528, 0.029101368655546113, 0.08730410596663835, 0.24736163357214197, 0.021826026491659586, 0.08730410596663835, 0.058202737311092226, 0.9169541790537861, 0.9128100403661689, 0.947496858030084, 0.8200333229610045, 0.07454848390554586, 0.07454848390554586, 0.08534494337847953, 0.23521899028702897, 0.1332213750298217, 0.1332213750298217, 0.031223759772614462, 0.07701860743911568, 0.033305343757455426, 0.04371326368166025, 0.033305343757455426, 0.020815839848409644, 0.058284351575547, 0.04163167969681929, 0.012489503909045786, 0.058284351575547, 0.8835646729659148, 0.0838454811110392, 0.030489265858559707, 0.4268497220198359, 0.022866949393919783, 0.12957937989887877, 0.030489265858559707, 0.060978531717119415, 0.07622316464639928, 0.03811158232319964, 0.022866949393919783, 0.022866949393919783, 0.045733898787839566, 0.007622316464639927, 0.9869034831426079, 1.0380485446261325, 0.5748916020663846, 0.12319105758565385, 0.08212737172376923, 0.08212737172376923, 0.041063685861884615, 0.041063685861884615, 0.36873756416525005, 0.021070717952300005, 0.15803038464225003, 0.010535358976150003, 0.03160607692845001, 0.052676794880750014, 0.09481823078535002, 0.03160607692845001, 0.03160607692845001, 0.16856574361840004, 0.010535358976150003, 0.03160607692845001, 0.03594460527592308, 0.05391690791388462, 0.01797230263796154, 0.12580611846573078, 0.05391690791388462, 0.48525217122496156, 0.01797230263796154, 0.01797230263796154, 0.05391690791388462, 0.12580611846573078, 0.06840856762788, 0.06840856762788, 0.75249424390668, 0.18627516750629838, 0.060741902447706, 0.0283462211422628, 0.0283462211422628, 0.0566924422845256, 0.040494601631803996, 0.040494601631803996, 0.0890881235899688, 0.0769397431004276, 0.0121483804895412, 0.052642982121345196, 0.26321491060672597, 0.040494601631803996, 0.0323956813054432, 0.9560207728535105, 1.0037924875274353, 0.04712951225543183, 0.04712951225543183, 0.09425902451086365, 0.44773036642660236, 0.023564756127715913, 0.28277707353259096, 0.04712951225543183, 0.9541127660404698, 0.036654304248739326, 0.7697403892235258, 0.1466172169949573, 0.9813958879932155, 0.7851144535728065, 0.9258847517274125, 0.9798965652653017, 0.9040605699639113, 0.07533838083032594, 0.19901859575101816, 0.7960743830040726, 0.9872656809510686, 0.9486345611900935, 0.031984103481565086, 0.5437297591866065, 0.031984103481565086, 0.031984103481565086, 0.2238887243709556, 0.06396820696313017, 0.031984103481565086, 0.08684755268298948, 0.0926373895285221, 0.03473902107319579, 0.06368820530085895, 0.017369510536597896, 0.02894918422766316, 0.017369510536597896, 0.05500345003256, 0.060793286878092635, 0.023159347382130525, 0.04921361318702737, 0.4197631713011158, 0.0376339394959621, 0.017369510536597896, 0.9674131846928241, 0.0513336977566198, 0.07791721980915504, 0.05408371727929586, 0.07791721980915504, 0.059583756324647984, 0.1026673955132396, 0.08250058568028182, 0.05500039045352121, 0.03850027331746485, 0.043083639188591615, 0.052250370930845155, 0.1145841467781692, 0.01833346348450707, 0.17141788358014112, 0.9380589963800443, 0.9613376255729267, 0.882032193707171, 0.9795923454750327, 0.9126115746014423, 0.8983754635741296, 0.06511625752077324, 0.06511625752077324, 0.7813950902492789, 0.9991864609515697, 0.904626506106846, 0.028819786429132462, 0.019213190952754977, 0.028819786429132462, 0.028819786429132462, 0.07685276381101991, 0.019213190952754977, 0.06724616833464242, 0.048032977381887436, 0.0864593592873974, 0.1633121230984173, 0.06724616833464242, 0.3170176507204571, 0.048032977381887436, 0.9802171722393999, 0.04066216763325403, 0.08132433526650806, 0.020331083816627016, 0.10165541908313508, 0.030496625724940524, 0.030496625724940524, 0.08132433526650806, 0.32529734106603225, 0.020331083816627016, 0.020331083816627016, 0.030496625724940524, 0.10165541908313508, 0.04066216763325403, 0.06099325144988105, 0.10229954317987547, 0.17263047911603985, 0.053889937925112964, 0.06393721448742216, 0.07581126860651485, 0.09407904417434976, 0.05754349303867995, 0.07581126860651485, 0.050236382811545986, 0.016440998011051415, 0.03288199602210283, 0.10869326462861768, 0.01918116434622665, 0.07581126860651485, 0.9595434604791513, 0.952083461678371, 0.049499909389996474, 0.2289370809287337, 0.03712493204249736, 0.12993726214874074, 0.1206560291381164, 0.03403118770562258, 0.00928123301062434, 0.021656210358123457, 0.027843699031873018, 0.08043735275874428, 0.04021867637937214, 0.07734360842186949, 0.04021867637937214, 0.09899981877999295, 0.18395948468731624, 0.10117771657802392, 0.00919797423436581, 0.29433517549970595, 0.11957366504675555, 0.06438581964056068, 0.11037569081238974, 0.05518784540619487, 0.03679189693746324, 0.01839594846873162, 0.9487861221096636, 1.0103966850463324, 0.9334692260249281, 0.07327779515362948, 0.07327779515362948, 0.1042799392570881, 0.05636753473356113, 0.019728637156746397, 0.0648226649435953, 0.039457274313492795, 0.02536539063010251, 0.03382052084013668, 0.019728637156746397, 0.1042799392570881, 0.11273506946712226, 0.0648226649435953, 0.21137825525085427, 0.01757331417849176, 0.06677859387826869, 0.06853592529611786, 0.14937317051717997, 0.022845308432039288, 0.06853592529611786, 0.043933285446229396, 0.045690616864078576, 0.1687038161135209, 0.007029325671396703, 0.02108797701419011, 0.0509626111176261, 0.14410117626363242, 0.12301319924944232, 0.27022064186852235, 0.06235860966196669, 0.06697776593322348, 0.041572406441311126, 0.041572406441311126, 0.08776396915387905, 0.04850114084819632, 0.04850114084819632, 0.060049031526338295, 0.10855017237453461, 0.0577394533907099, 0.030024515763169148, 0.016167046949398772, 0.0577394533907099, 0.9593249254162328, 0.8820191392416882, 0.9391308716402419, 0.9181610961975963, 0.08992647094805974, 0.37255252249910464, 0.012846638706865676, 0.06423319353432838, 0.025693277413731352, 0.03853991612059703, 0.03853991612059703, 0.2183928580167165, 0.07707983224119407, 0.051386554827462703, 1.005730279509195, 0.019735037139422578, 0.039470074278845156, 0.039470074278845156, 0.039470074278845156, 0.039470074278845156, 0.05920511141826773, 0.05920511141826773, 0.11841022283653546, 0.039470074278845156, 0.019735037139422578, 0.374965705649029, 0.05920511141826773, 0.07894014855769031, 0.8819633217794673, 0.09596048204472674, 0.09596048204472674, 0.1439407230670901, 0.5757628922683604, 0.04798024102236337, 0.062409336505120434, 0.12481867301024087, 0.12481867301024087, 0.5616840285460839, 0.062409336505120434, 0.9385639580858723, 0.954175833405082, 0.9797801449678042, 0.14247497632731126, 0.14247497632731126, 0.7123748816365564, 0.11525794880356798, 0.11525794880356798, 0.6915476928214078, 1.0396336701638738, 0.10375688962485635, 0.0603676448726437, 0.04621897810561783, 0.16412453449750006, 0.03490004469199714, 0.11413257858734199, 0.08677848950442531, 0.0801757783464799, 0.027354089082916675, 0.04621897810561783, 0.06414062267718393, 0.1028136451737213, 0.035843289143132194, 0.032070311338591964, 0.03662476092514078, 0.03662476092514078, 0.6226209357273933, 0.03662476092514078, 0.1831238046257039, 0.9168378361071703, 0.07435593473254748, 0.07435593473254748, 0.024785311577515828, 0.024785311577515828, 0.024785311577515828, 0.5204915431278324, 0.049570623155031655, 0.12392655788757913, 0.09914124631006331, 0.9257313550160449, 0.9828857562981018, 0.05355417369822093, 0.03213250421893256, 0.03213250421893256, 0.09639751265679768, 0.05355417369822093, 0.10710834739644186, 0.11781918213608604, 0.03213250421893256, 0.03213250421893256, 0.02142166947928837, 0.03213250421893256, 0.3534575464082581, 0.04284333895857674, 0.27050015772045277, 0.07821691307579358, 0.133620559837814, 0.1205844076585151, 0.03259038044824732, 0.07821691307579358, 0.02933134240342259, 0.04888557067237098, 0.026072304358597857, 0.09451210329991723, 0.026072304358597857, 0.013036152179298929, 0.026072304358597857, 0.019554228268948395, 0.16023064804989867, 0.07954713023753834, 0.05568299116627685, 0.08295629296200428, 0.029546076945371386, 0.06704686691449661, 0.05568299116627685, 0.04431911541805708, 0.07159241721378451, 0.2227319646651074, 0.05341021601663289, 0.017045813622329646, 0.027273301795727435, 0.03181885209501534, 1.0388653530066627, 0.020025201771368694, 0.020025201771368694, 0.020025201771368694, 0.020025201771368694, 0.04005040354273739, 0.020025201771368694, 0.780982869083379, 0.020025201771368694, 0.04005040354273739, 0.020025201771368694, 1.001429403458435, 0.20318491554828746, 0.4802552549323158, 0.11082813575361135, 0.12929949171254657, 0.018471355958935225, 0.018471355958935225, 0.018471355958935225, 0.9804397670528218, 0.05170257546561672, 0.07386082209373816, 0.0443164932562429, 0.05170257546561672, 0.0886329865124858, 0.0886329865124858, 0.06647473988436435, 0.2732850417468312, 0.14772164418747633, 0.05908865767499054, 0.007386082209373817, 0.014772164418747635, 0.02954432883749527, 0.06145490347987628, 0.18200106030578744, 0.0520003029445107, 0.08390957975136953, 0.10872790615670419, 0.03309110187377953, 0.09927330562133861, 0.034272926940700235, 0.028363801606096743, 0.03545475200762093, 0.07090950401524186, 0.07918227948368675, 0.07445497921600396, 0.059091253346034885, 0.9128115891293337, 0.9524835540343817, 0.881977307156419, 0.7241840062089931, 0.9395795440160443, 0.9394423792648388, 0.9398688755926043, 0.9607521052647047, 0.1775033861313513, 0.07709743033987985, 0.026894452444144137, 0.059167795377117104, 0.03944519691807807, 0.12909337173189186, 0.059167795377117104, 0.08426928432498497, 0.17929634962762758, 0.041238160414354345, 0.06992557635477475, 0.014343707970210206, 0.023308525451591587, 0.019722598459039033, 1.0130962509350738, 0.8287799176631172, 0.8360498308660297, 0.13934163847767161, 0.19377158970200428, 0.10334484784106894, 0.03875431794040086, 0.04262974973444094, 0.11238752202716248, 0.05683966631258792, 0.04262974973444094, 0.052964234518547836, 0.18602072611392412, 0.045213370930467664, 0.01937715897020043, 0.043921560332454306, 0.036170696744374134, 0.023252590764240515, 0.8411183335656495, 0.14018638892760824, 0.12119690818794636, 0.04039896939598212, 0.08079793879196424, 0.04039896939598212, 0.1615958775839285, 0.5655855715437497, 0.9260539302770925, 0.30532975739225243, 0.7124361005819223, 0.9012061757993481, 0.9673438834469232, 0.05549597399751408, 0.1387399349937852, 0.26558787555953167, 0.03963998142679578, 0.06738796842555282, 0.03963998142679578, 0.03171198514143662, 0.03963998142679578, 0.09117195728163029, 0.13081193870842606, 0.04360397956947535, 0.02774798699875704, 0.007927996285359154, 0.01585599257071831, 0.9158508690790137, 0.9486629850872303, 0.041105094442451064, 0.010276273610612766, 0.020552547221225532, 0.07193391527428937, 0.0924864624955149, 0.2774593874865447, 0.08221018888490213, 0.0308288208318383, 0.3596695763714468, 0.010276273610612766, 0.0420064348798491, 0.03675563051986796, 0.08926367411967934, 0.16277493515941524, 0.05775884795979251, 0.06300965231977365, 0.026254021799905686, 0.0997652828396416, 0.010501608719962275, 0.09451447847966046, 0.06300965231977365, 0.2415370005591323, 0.010501608719962275, 0.005250804359981137, 0.06794309601482783, 0.8832602481927617, 0.9194334107683031, 0.9391931475155335, 0.9272993405795282, 0.6421368890994027, 0.10702281484990045, 0.10702281484990045, 0.16053422227485067, 0.9363453191795535, 0.07944902318071446, 0.17144262896891016, 0.3470667854736474, 0.01254458260748123, 0.054359857965752004, 0.020907637679135387, 0.03345222028661662, 0.06690444057323323, 0.11708277100315816, 0.03345222028661662, 0.01254458260748123, 0.02508916521496246, 0.01672611014330831, 0.008363055071654154, 0.09296068627720686, 0.023240171569301714, 0.023240171569301714, 0.023240171569301714, 0.04648034313860343, 0.5112837745246377, 0.06972051470790513, 0.09296068627720686, 0.11620085784650856, 0.023240171569301714, 0.9046457816535253, 0.14374902225981465, 0.14374902225981465, 0.7187451112990731, 0.982873424002193, 0.6160465657302714, 0.06160465657302713, 0.06160465657302713, 0.06160465657302713, 0.06160465657302713, 0.06160465657302713, 0.037176354599475714, 0.05948216735916114, 0.037176354599475714, 0.017348965479755334, 0.11896433471832228, 0.027262660039615524, 0.10657221651849705, 0.39902620603437267, 0.03469793095951067, 0.004956847279930095, 0.0024784236399650475, 0.13383487655811258, 0.0024784236399650475, 0.022305812759685427, 1.0403295909161172, 0.9137287014019033, 0.542923360286112, 0.1085846720572224, 0.1085846720572224, 0.0361948906857408, 0.1447795627429632, 0.9808275285659225, 0.9506248142400978, 0.9396182360850459, 0.9662797782434174, 1.0185274426105846, 0.9410207744714225, 0.9623083560666409, 0.11180120921567553, 0.04472048368627021, 0.08944096737254043, 0.08944096737254043, 0.424844595019567, 0.022360241843135106, 0.04472048368627021, 0.04472048368627021, 0.04472048368627021, 0.04472048368627021, 0.022360241843135106, 0.022360241843135106, 0.03667675438612704, 0.08068885964947949, 0.05134745614057785, 0.014670701754450814, 0.1026949122811557, 0.06601815789502867, 0.2860786842117909, 0.25673728070288926, 0.029341403508901628, 0.007335350877225407, 0.058682807017803255, 0.007335350877225407, 0.8796294236876798, 0.9212090630767534, 0.14508710149930368, 0.09539973797214488, 0.08347477072562677, 0.09142474888997218, 0.07552479256128136, 0.027824923575208924, 0.03179991265738163, 0.06359982531476326, 0.11726217792409475, 0.07055605620856549, 0.0655873198558496, 0.04769986898607244, 0.05863108896204738, 0.024843681763579397, 0.21668331394378548, 0.11646728124478468, 0.07042207703173028, 0.06771353560743296, 0.01895978997008123, 0.07583915988032491, 0.10563311554759541, 0.08396478415321687, 0.046045204213054414, 0.06500499418313564, 0.021668331394378546, 0.0054170828485946365, 0.05417082848594637, 0.05146228706164905, 0.9350868213383182, 0.8409869197750494, 0.1401644866291749, 0.08358500666499698, 0.16717001332999396, 0.16717001332999396, 0.5850950466549788, 0.21476339788959734, 0.11167696690259062, 0.030066875704543625, 0.04724794753571141, 0.08161009119804698, 0.1202675028181745, 0.05583848345129531, 0.02147633978895973, 0.08161009119804698, 0.2018775940162215, 0.004295267957791947, 0.004295267957791947, 0.02577160774675168, 0.8820310788938605, 0.8956559604449124, 0.05814975161533201, 0.12520755028662978, 0.040086211751845895, 0.09303960258453121, 0.14797255942965337, 0.07720307448503654, 0.053943173838903735, 0.04256066926739194, 0.09501916859696805, 0.03934387449718208, 0.07967753200058258, 0.03761175423629985, 0.03340517645987158, 0.07720307448503654, 0.9351785831080061, 0.08963850291134826, 0.10005424444682183, 0.1275139266767067, 0.09058538850548221, 0.04292548026740621, 0.032194110200554654, 0.12562015548843877, 0.04481925145567413, 0.07101641956004703, 0.009468855941339605, 0.08269467522103255, 0.03819105229673641, 0.03976919495362634, 0.1054199294802476, 0.8992919554234169, 0.9548525093280852, 0.1683265825769767, 0.08416329128848835, 0.08416329128848835, 0.5891430390194184, 0.9126823822751012, 0.062364677120205846, 0.21619754735004693, 0.03949762884279703, 0.06860114483222643, 0.060285854549532315, 0.09354701568030876, 0.027024693418755866, 0.014551757994714696, 0.10809877367502346, 0.04573409655481762, 0.0893893705389617, 0.0893893705389617, 0.05612820940818526, 0.027024693418755866, 0.9035950138063893, 1.0086195990710156, 0.8240729521648419, 1.0064079643142008, 0.9660963902756059, 0.01959788103589604, 0.09798940517948021, 0.03919576207179208, 0.03919576207179208, 0.01959788103589604, 0.15678304828716833, 0.03919576207179208, 0.13718516725127228, 0.39195762071792084, 0.01959788103589604, 0.01959788103589604, 0.9168756809625208, 0.9873692745420076, 0.1291423977375812, 0.1291423977375812, 0.7748543864254872, 0.9675334096880822, 0.05092586096803422, 0.20370344387213687, 0.05092586096803422, 0.10185172193606844, 0.5092586096803422, 0.9236626417350898, 0.0475283165665317, 0.8079813816310388, 0.0475283165665317, 0.0475283165665317, 0.9804232108780732, 0.9009554973706325, 0.9886458201143604, 0.12072154703132403, 0.8450508292192682, 0.08434485080765729, 0.08645347207784872, 0.10332244223938017, 0.02319483397210575, 0.16868970161531457, 0.06958450191631725, 0.1244086549412945, 0.14549486764320882, 0.092779335888423, 0.002108621270191432, 0.03795518286344578, 0.01897759143172289, 0.029520697782680048, 0.016868970161531455, 0.95437392730055, 0.9526052339944664, 0.9534979660928291, 0.9458495196632793, 0.9284828358099262, 0.9316992706058267, 0.07896047204059362, 0.063478026542438, 0.14863147678229388, 0.057285048343175764, 0.09444291753874923, 0.057285048343175764, 0.035609624645757905, 0.10682887393727372, 0.017030690047971173, 0.2275919488228875, 0.018578934597786735, 0.013934200948340051, 0.04954382559409796, 0.03251313554612678, 0.08525312738131013, 0.07020845784343188, 0.055163788305553615, 0.3761167384469565, 0.020059559383837678, 0.010029779691918839, 0.03008933907575652, 0.0250744492297971, 0.0250744492297971, 0.11032757661110723, 0.12035735630302608, 0.01504466953787826, 0.020059559383837678, 0.03510422892171594, 0.014342342450741462, 0.028684684901482925, 0.08605405470444878, 0.014342342450741462, 0.18645045185963902, 0.014342342450741462, 0.08605405470444878, 0.05736936980296585, 0.04302702735222439, 0.3298738763670536, 0.07171171225370732, 0.014342342450741462, 0.05736936980296585, 0.028041513256328636, 0.5888717783829013, 0.11216605302531454, 0.028041513256328636, 0.05608302651265727, 0.05608302651265727, 0.05608302651265727, 0.028041513256328636, 0.9667712405058733, 0.1730979161124034, 0.08778537174271887, 0.0717119938179957, 0.04698372008765236, 0.06182068432585836, 0.07418482119103004, 0.06429351169889269, 0.028437514789894848, 0.09273102648878755, 0.056875029579789696, 0.12487778233823389, 0.029673928476412016, 0.033383169535963514, 0.05440220220675536, 0.9883793583711399, 0.04069129758358004, 0.04069129758358004, 0.8545172492551808, 0.8154142718362937, 0.9877991426594656, 0.07388020161242265, 0.12929035282173962, 0.6279817137055925, 0.1477604032248453, 0.03409775584194921, 0.08524438960487303, 0.40917307010339055, 0.03409775584194921, 0.10229326752584764, 0.05114663376292382, 0.05114663376292382, 0.03409775584194921, 0.05114663376292382, 0.03409775584194921, 0.08524438960487303, 0.12279961476696234, 0.08186640984464157, 0.08186640984464157, 0.04093320492232078, 0.08186640984464157, 0.5321316639901701, 0.04093320492232078, 0.06616094630191514, 0.1323218926038303, 0.6616094630191515, 0.1323218926038303, 0.9594949336189423, 0.12026706439971756, 0.7216023863983053, 0.12026706439971756, 0.9800534135036192, 0.034798141976123305, 0.08202419180086208, 0.20878885185673982, 0.024855815697230933, 0.0745674470916928, 0.08450977337058517, 0.057168376103631145, 0.03976930511556949, 0.057168376103631145, 0.057168376103631145, 0.044740468255015674, 0.09196651807975445, 0.08699535494030826, 0.052197212964184954, 0.0964928812867387, 0.14473932193010805, 0.5789572877204322, 0.0964928812867387, 0.04824644064336935, 0.1457004695676339, 0.1410504545814328, 0.09920031970562308, 0.05425017483901262, 0.032550104903407574, 0.044950144866610454, 0.0589001898252137, 0.0790502547654184, 0.06975022479301622, 0.094550304719422, 0.037200119889608654, 0.0511501648482119, 0.0589001898252137, 0.037200119889608654, 0.06220593728754636, 0.07381771224788834, 0.1567589619646168, 0.06469417477904821, 0.05308239981870622, 0.051423574824371654, 0.055570637310208074, 0.03732356237252781, 0.04561768734420066, 0.05640004980737536, 0.09206478718556861, 0.12772952456376185, 0.032347087389524104, 0.09123537468840132, 0.07088276436268082, 0.06497586733245742, 0.07088276436268082, 0.15357932278580846, 0.02362758812089361, 0.15357932278580846, 0.02362758812089361, 0.02362758812089361, 0.011813794060446805, 0.017720691090670204, 0.02953448515111701, 0.27171726339027646, 0.08269655842312763, 0.05313027061658529, 0.06906935180156087, 0.04781724355492676, 0.10094751417151204, 0.05844329767824382, 0.05844329767824382, 0.06906935180156087, 0.010626054123317057, 0.031878162369951175, 0.05313027061658529, 0.010626054123317057, 0.2550252989596094, 0.09563448710985352, 0.08500843298653646, 0.10680472927790832, 0.24031064087529372, 0.023363534529542443, 0.09679178590810442, 0.02670118231947708, 0.12015532043764686, 0.003337647789934635, 0.06341530800875807, 0.06007766021882343, 0.023363534529542443, 0.09011649032823514, 0.00667529557986927, 0.10012943369803905, 0.043389421269150255, 0.9260444495449252, 0.959804579731274, 0.9495536395009067, 0.070235670420183, 0.10290342410398905, 0.0669688950518024, 0.014700489157712722, 0.08330277189370543, 0.004900163052570908, 0.2597086417862581, 0.11760391326170178, 0.11270375020913087, 0.04083469210475756, 0.03430114136799635, 0.013067101473522419, 0.011433713789332117, 0.0686022827359927, 0.11643623157780049, 0.06741044986083186, 0.040854818097473856, 0.05106852262184232, 0.06332496805108448, 0.17771845872401126, 0.21040231320199035, 0.024512890858484314, 0.03676933628772647, 0.06945319076570555, 0.038812077192600165, 0.008170963619494771, 0.024512890858484314, 0.06945319076570555, 0.9594820521984778, 0.04237463779215548, 0.02118731889607774, 0.02118731889607774, 0.5932449290901767, 0.02118731889607774, 0.04237463779215548, 0.04237463779215548, 0.1059365944803887, 0.02118731889607774, 0.02118731889607774, 0.02118731889607774, 0.04237463779215548, 0.6018345205677974, 0.12036690411355948, 0.06018345205677974, 0.06018345205677974, 0.06018345205677974, 0.06018345205677974, 0.9388532979433872, 0.12947593916645178, 0.037267555190343686, 0.22053171834285853, 0.06685107838267837, 0.07837712637969188, 0.033425539191339185, 0.026894111993031527, 0.032657135991538286, 0.044951587188352696, 0.16828030075639727, 0.01997848319482342, 0.04917780478725765, 0.04379898238865135, 0.04840940158745675, 1.01210203389469, 0.07825082003490325, 0.10533764235467745, 0.09931834850583873, 0.03611576309303227, 0.12339552390119359, 0.06019293848838712, 0.0270868223197742, 0.06019293848838712, 0.04213505694187098, 0.03009646924419356, 0.0270868223197742, 0.01504823462209678, 0.05718329156396776, 0.24077175395354847, 0.046211348155387195, 0.18406214943247443, 0.10025512820151798, 0.03916215945371796, 0.06657567107132054, 0.10652107371411286, 0.061876211936874384, 0.09790539863429491, 0.06892540063854362, 0.02349729567223078, 0.052477293667982074, 0.03602918669742053, 0.07832431890743592, 0.03759567307556925, 0.9772999745425511, 0.547195585081601, 0.049745053189236464, 0.14923515956770939, 0.024872526594618232, 0.049745053189236464, 0.024872526594618232, 0.049745053189236464, 0.024872526594618232, 0.9710300265081669, 0.1141997978397133, 0.03670707787705071, 0.04282492418989249, 0.05709989891985665, 0.16314256834244759, 0.2385960062008296, 0.10604266942259093, 0.028549949459928326, 0.03670707787705071, 0.04690348839845368, 0.05709989891985665, 0.03262851366848952, 0.022432103147086543, 0.020392821042805948, 0.1530112807139624, 0.07923798465544481, 0.023224926536940717, 0.08197032895390842, 0.12295549343086262, 0.056013058118504086, 0.12022314913239901, 0.06147774671543131, 0.06284391886466312, 0.060111574566199505, 0.036886648029258784, 0.036886648029258784, 0.04098516447695421, 0.06284391886466312, 0.05933609595757996, 0.10171902164156564, 0.016953170273594272, 0.033906340547188545, 0.02542975541039141, 0.3475399906086826, 0.10171902164156564, 0.05085951082078282, 0.016953170273594272, 0.07628926623117423, 0.05085951082078282, 0.016953170273594272, 0.016953170273594272, 0.07628926623117423, 0.9349856106167999, 0.09932369009125894, 0.12600766653368672, 0.057815282291926846, 0.06522749797037901, 0.0978412469555685, 0.18827027823268486, 0.11118323517678239, 0.04150840779933209, 0.04150840779933209, 0.035578635256570366, 0.025201533306737342, 0.057815282291926846, 0.04595573720640339, 0.00741221567845216, 1.010224777273423, 0.6479323106255768, 0.1619830776563942, 0.0809915388281971, 0.0809915388281971, 0.959347691768616, 0.8195677659205524, 1.0015290292515882, 0.20841211565985157, 0.6252363469795548, 0.06947070521995052, 0.06947070521995052, 0.015432140018480695, 0.13888926016632624, 0.015432140018480695, 0.03086428003696139, 0.37037136044353663, 0.21604996025872972, 0.03086428003696139, 0.07716070009240347, 0.015432140018480695, 0.015432140018480695, 0.06172856007392278, 0.03801640918856679, 0.03801640918856679, 0.04752051148570849, 0.08363610021484694, 0.106445945727987, 0.07413199791770524, 0.2319000960502574, 0.08363610021484694, 0.08363610021484694, 0.02851230689142509, 0.03991722964799513, 0.07983445929599026, 0.02851230689142509, 0.03611558872913845, 0.0790953035138543, 0.049434564696158936, 0.019773825878463575, 0.03954765175692715, 0.009886912939231787, 0.3658157787515761, 0.09886912939231787, 0.049434564696158936, 0.029660738817695362, 0.029660738817695362, 0.049434564696158936, 0.059321477635390724, 0.13841678114924502, 0.8478762939579678, 0.10598453674474598, 0.9528873342236261, 0.9883407031502207, 0.9036854451021631, 0.06454896036444022, 0.7488030198049547, 0.9671244211527062, 0.12370999230345714, 0.7422599538207428, 0.12370999230345714, 0.94781684366283, 0.8048833142569144, 0.9379928487982396, 0.8862282074857235, 0.8213385515228094, 0.07539464845097298, 0.022174896603227346, 0.31488353176582834, 0.04434979320645469, 0.039914813885809225, 0.0576547311683911, 0.06208971048903657, 0.09313456573355486, 0.07539464845097298, 0.022174896603227346, 0.05321975184774563, 0.03547983456516376, 0.026609875923872817, 0.07982962777161845, 0.9037280596247664, 0.9395848483854028, 0.9663409177568232, 0.04541955491392355, 0.6812933237088532, 0.0908391098278471, 0.0908391098278471, 0.04541955491392355, 0.026505784185709574, 0.26505784185709574, 0.03975867627856436, 0.4240925469713532, 0.013252892092854787, 0.013252892092854787, 0.026505784185709574, 0.03975867627856436, 0.03975867627856436, 0.03975867627856436, 0.026505784185709574, 0.026505784185709574, 0.013252892092854787, 0.9390175224397722, 0.9617942492376745, 1.0395842989912563, 0.19394187699804974, 0.775767507992199, 0.021931263008678915, 0.526350312208294, 0.021931263008678915, 0.06579378902603675, 0.04386252601735783, 0.06579378902603675, 0.021931263008678915, 0.021931263008678915, 0.17545010406943132, 0.021931263008678915, 0.06570825368216847, 0.28473576595606337, 0.07008880392764637, 0.10951375613694744, 0.013141650736433693, 0.013141650736433693, 0.026283301472867386, 0.170841459573638, 0.07446935417312425, 0.05256660294573477, 0.017522200981911592, 0.04818605270025687, 0.039424952209301076, 0.013141650736433693, 0.9391798424302391, 0.10757226335660948, 0.7530058434962663, 0.10757226335660948, 0.8819359962729977, 0.9525341300103058, 0.014522247084789107, 0.06898067365274825, 0.05445842656795915, 0.07987235896634008, 0.04356674125436732, 0.3194894358653603, 0.10165572959352374, 0.0617195501103537, 0.01089168531359183, 0.05082786479676187, 0.0617195501103537, 0.047197303025564595, 0.01089168531359183, 0.07987235896634008, 0.16601035418703755, 0.16601035418703755, 0.8300517709351878, 0.952511249317482, 0.9581259907891932, 0.9471118825564011, 0.8614873056725574, 0.0783170277884143, 0.9481596282310687, 0.9770574389523674, 0.04245845711251087, 0.07185277357501839, 0.10777916036252758, 0.02286224613750585, 0.05225656260001337, 0.058788632925015044, 0.029394316462507522, 0.10124709003752591, 0.02286224613750585, 0.04245845711251087, 0.04245845711251087, 0.08491691422502173, 0.14697158231253762, 0.17309986361254429, 0.966181170325334, 0.9192479243057056, 0.9898453923644089, 0.939180620908889, 0.9531398413036615, 0.06858586861463419, 0.02286195620487806, 0.02286195620487806, 0.02286195620487806, 0.02286195620487806, 0.02286195620487806, 0.8001684671707321, 0.9900771236321557, 0.9374026700170007, 0.0302611520005203, 0.9380957120161293, 0.9892364873887806, 0.9396512100673333, 0.5444494335050092, 0.04537078612541743, 0.04537078612541743, 0.09074157225083486, 0.04537078612541743, 0.04537078612541743, 0.1361123583762523, 0.04537078612541743, 0.0944894725360498, 0.05669368352162989, 0.018897894507209963, 0.11338736704325977, 0.018897894507209963, 0.11338736704325977, 0.3779578901441992, 0.11338736704325977, 0.03779578901441993, 0.018897894507209963, 0.018897894507209963, 0.11542588278161568, 0.1227545102598135, 0.034810980521439654, 0.04030745113008802, 0.05862901982558257, 0.05679686295603311, 0.1264188239989124, 0.2418447067805281, 0.025650196173692373, 0.021985882434593464, 0.07878274539062657, 0.005496470608648366, 0.04580392173873638, 0.03114666678234074, 0.912511711103562, 0.012983097140094458, 0.025966194280188915, 0.11684787426085012, 0.10386477712075566, 0.01622887142511807, 0.07140703427051952, 0.12333942283089736, 0.12983097140094457, 0.01622887142511807, 0.01622887142511807, 0.21097532852653494, 0.13632251997099182, 0.0032457742850236144, 0.012983097140094458, 0.1687954461510544, 0.05050572404519738, 0.04120203803687155, 0.03721474403330333, 0.06379670405709142, 0.23923764021409286, 0.05050572404519738, 0.04518933204043976, 0.0837331740749325, 0.07310039006541727, 0.034556548030924526, 0.05848031205233381, 0.029240156026166905, 0.023923764021409288, 0.9731393645808437, 0.11316405290786694, 0.7921483703550685, 0.08980973414002946, 0.7184778731202357, 0.17961946828005892, 0.9176021243237228, 0.9873286603864226, 0.9045602275728963, 0.9127102575340268, 0.9606878176092687, 0.9873290240461233, 0.015529067211995352, 0.5745754868438281, 0.015529067211995352, 0.015529067211995352, 0.3571685458758931, 0.015529067211995352, 0.0977569933418014, 0.047193031268455844, 0.47530124348944813, 0.030338377244007328, 0.020225584829338217, 0.09438606253691169, 0.013483723219558812, 0.020225584829338217, 0.08427327012224257, 0.013483723219558812, 0.04382210046356614, 0.030338377244007328, 0.006741861609779406, 0.020225584829338217, 0.9390465293052448, 0.9645647781327983, 0.7302782377775835, 0.9644358890011749, 0.9390684625152541, 0.9643942144097993, 0.9593471833271137, 0.9664010096431648, 0.052485186576899545, 0.18987288085172482, 0.06329096028390828, 0.04322309482803492, 0.14819346798183403, 0.06637832420019649, 0.044766776786179026, 0.18832919889358074, 0.0710093700746288, 0.04167941286989082, 0.0339610030791703, 0.01389313762329694, 0.040135730911746714, 0.0030873639162882086, 1.0097593250384416, 0.9613760213770083, 0.9278340663345275, 0.978671090462228, 0.035564433973169135, 0.08298367927072799, 0.04741924529755885, 0.13040292456828684, 0.04741924529755885, 0.08298367927072799, 0.023709622648779426, 0.011854811324389713, 0.07112886794633827, 0.11854811324389712, 0.035564433973169135, 0.30822509443413254, 0.7268662290075639, 0.08076291433417378, 0.08076291433417378, 0.08076291433417378, 0.9390891231211305, 0.18877056953267862, 0.7550822781307145, 1.0101722672710938, 0.9258617230173815, 0.7830381860792898, 0.8208319349348301, 0.11726170499069001, 0.7844083374028021, 0.051854708324443555, 0.029309182965989836, 0.11949128439980472, 0.08341844382627876, 0.09018210143381489, 0.038327393109371326, 0.13978225722241308, 0.09018210143381489, 0.03381828803768058, 0.03156373550183521, 0.027054630430144465, 0.029309182965989836, 0.2029097282260835, 0.03607284057352595, 1.016205568771193, 0.1362346710336528, 0.09082311402243519, 0.6357617981570464, 0.045411557011217595, 0.045411557011217595, 0.14065086527887938, 0.14065086527887938, 0.7032543263943969, 0.9861576734083707, 0.9993768511699576, 0.02737826815023635, 0.11407611729265145, 0.03650435753364847, 0.038025372430883816, 0.1733956982848302, 0.2692196368106574, 0.11255510239541609, 0.04563044691706058, 0.03650435753364847, 0.031941312841942404, 0.019773193664059583, 0.015210148972353527, 0.05019349160876664, 0.030420297944707055, 0.9469236501032179, 0.9194810856186758, 0.11242587323105642, 0.031014033994774183, 0.06590482223889514, 0.09304210198432256, 0.06590482223889514, 0.08141183923628223, 0.27912630595296767, 0.10467236473236287, 0.01163026274804032, 0.01163026274804032, 0.0426442967428145, 0.04652105099216128, 0.019383771246733864, 0.03489078824412096, 0.16319674051800906, 0.8159837025900453, 0.9408876863515794, 0.10775857072167207, 0.08780327984728835, 0.03591952357389069, 0.0838122216724116, 0.06385693079802789, 0.019955290874383715, 0.03991058174876743, 0.139687036120686, 0.027937407224137203, 0.2314813741428511, 0.055874814448274406, 0.019955290874383715, 0.06385693079802789, 0.019955290874383715, 0.9874594296280693, 0.9734723973119314, 0.982633471884265, 1.0118810303345585, 0.7853661650378505, 0.02822573947384877, 0.08467721842154631, 0.02822573947384877, 0.05645147894769754, 0.733869226320068, 0.05645147894769754, 0.07509881862610075, 0.047430832816484685, 0.0830039574288482, 0.047430832816484685, 0.21343874767418106, 0.039525694013737234, 0.09090909623159564, 0.015810277605494895, 0.043478263415110956, 0.047430832816484685, 0.05928854102060585, 0.10276680443571681, 0.12648222084395916, 0.007905138802747447, 0.9525144617239768, 0.9056153593253113, 0.021891824215894803, 0.10945912107947402, 0.043783648431789605, 0.0656754726476844, 0.043783648431789605, 0.39405283588610646, 0.1313509452953688, 0.15324276951126362, 0.021891824215894803, 0.8819740971003538, 0.09178050325573733, 0.06762773924106961, 0.054746265099913496, 0.01771202694408966, 0.08856013472044831, 0.08372958191751476, 0.1449165840880063, 0.19966284918791982, 0.049915712296979955, 0.04186479095875738, 0.061187002170491556, 0.02415276401466772, 0.043474975226401896, 0.030593501085245778, 0.9491176877665296, 0.8946219579718573, 0.9664528325487985, 0.897787362019567, 0.9390190788602256, 0.987385814253471, 0.9658751419409437, 0.791416468451221, 0.13190274474187016, 0.9394731572551428, 0.9660955770091877, 0.927872390293077, 0.04394631729941788, 0.05004997247989258, 0.05004997247989258, 0.01098657932485447, 0.166019420908912, 0.042725586263322936, 0.1757852691976715, 0.3027412969515454, 0.0024414620721898823, 0.02319388968580388, 0.0048829241443797645, 0.09399628977931046, 0.006103655180474706, 0.024414620721898823, 0.9401767989780715, 0.9239377369749785, 0.9391376649707542, 0.8979392011311502, 0.8832938771156902, 0.9602313739529547, 0.07058689848863585, 0.1411737969772717, 0.07058689848863585, 0.6352820863977227, 0.07058689848863585, 0.9560043001546759, 0.9708727112521396, 0.1839624819126166, 0.0919812409563083, 0.6438686866941581, 0.7823475114065863, 0.7164123035764154, 0.14328246071528308, 0.09418680363177766, 0.08268307189049184, 0.07261730661686674, 0.15026749587054605, 0.1013766359700813, 0.04601492696514329, 0.04242001079599147, 0.04242001079599147, 0.056799675472598746, 0.026602379651723462, 0.09490578686560802, 0.08052612218900075, 0.05104780960195583, 0.05751865870642911, 0.12699295648647504, 0.12699295648647504, 0.7619577389188503, 0.03858799414906705, 0.19293997074533525, 0.0771759882981341, 0.5016439239378717, 0.0771759882981341, 0.019293997074533525, 0.03858799414906705, 0.03858799414906705, 0.1487470289600516, 0.10974628356198929, 0.12335119474735985, 0.030837798686839963, 0.1478400348810269, 0.04172172763513642, 0.08525744342832225, 0.06076860329465522, 0.036279763160988195, 0.008162946711222344, 0.06802455592685286, 0.038093751319037604, 0.018139881580494097, 0.08253646119124813, 1.0162897040957468, 0.9449062913053866, 0.9412843887051329, 0.9376235870133224, 0.07016495617862276, 0.12332022601091273, 0.09780569649141355, 0.04039800507254038, 0.06591253459203956, 0.21262107932915988, 0.025514529519499184, 0.09567948569812194, 0.03189316189937398, 0.05740769141887317, 0.05315526983228997, 0.05528148062558157, 0.04252421586583197, 0.027640740312790783, 0.018944785240487483, 0.07199018391385244, 0.053045398673364955, 0.1098797543948274, 0.07577914096194993, 0.06441226981765744, 0.10230184029863242, 0.02273374228858498, 0.05683435572146245, 0.17429202421248485, 0.08714601210624243, 0.041678527529072466, 0.049256441625267454, 0.06820122686575494, 0.8819163475571745, 0.0587774781055439, 0.0587774781055439, 0.8228846934776146, 0.03084860013781695, 0.0205657334252113, 0.03084860013781695, 0.0616972002756339, 0.07198006698823955, 0.01028286671260565, 0.0616972002756339, 0.0822629337008452, 0.40103180179162035, 0.15424300068908475, 0.01028286671260565, 0.0616972002756339, 0.927158185801813, 0.16910155068434854, 0.7609569780795684, 1.0397510051577652, 0.06185397419451996, 0.08138680815068416, 0.05697076570547891, 0.08627001663972521, 0.04394887640136945, 0.097664169780821, 0.042321140238355766, 0.06673718268356102, 0.1562626716493136, 0.06022623803150628, 0.06348171035753365, 0.032554723260273664, 0.02441604244520525, 0.1253356845520536, 0.9666468337313663, 0.8960397862559643, 1.0162815201090878, 0.05743271191968047, 0.029452672779323317, 0.09424855289383462, 0.0559600782807143, 0.0559600782807143, 0.14137282934075193, 0.041233741891052646, 0.0868853846990038, 0.02798003914035715, 0.07068641467037597, 0.12370122567315794, 0.051542177363815805, 0.13990019570178577, 0.026507405501390986, 0.14172070181049273, 0.19825821583063613, 0.08895235539169226, 0.0874446883511551, 0.025127784008952613, 0.0778961304277531, 0.028896951610295506, 0.036184008972891764, 0.053773457779158595, 0.03995317657423466, 0.038696787373787025, 0.06457840490300822, 0.03819423169360797, 0.08015763098855884, 0.8945196743837045, 0.9397146198078342, 0.9531930279515153, 0.05082488872280145, 0.02032995548912058, 0.054890879820625564, 0.3334112700215775, 0.12807871958145967, 0.03049493323368087, 0.05082488872280145, 0.016263964391296463, 0.0630228620162738, 0.032527928782592926, 0.032527928782592926, 0.002032995548912058, 0.14434268397275613, 0.03456092433150498, 0.10588445782519525, 0.847075662601562, 0.9658501928684735, 0.9592988491429024, 0.8944612189270876, 0.9541583723511496, 0.9395542710786529, 0.927891905084727, 0.9660492230865793, 0.08461682062318007, 0.1218482216973793, 0.09477083909796168, 0.06430878367361685, 0.05753943802376244, 0.04400074672405364, 0.22000373362026818, 0.033846728249272026, 0.01353869129970881, 0.02369270977449042, 0.03723140107419923, 0.02369270977449042, 0.03723140107419923, 0.1421562586469425, 0.06823046517153587, 0.04700320934039138, 0.025775953509246885, 0.02729218606861435, 0.07732786052774065, 0.08945772100268037, 0.03942204654355406, 0.38057437240123343, 0.010613627915572247, 0.03942204654355406, 0.03487334886545167, 0.0545843721372287, 0.06368176749343349, 0.0379058139841866, 0.9120597980728392, 0.02332082130806138, 0.08240023528848354, 0.05752469255988474, 0.035758592672360784, 0.015547214205374254, 0.018656657046449105, 0.04353219977504791, 0.3606953695646827, 0.004664164261612276, 0.07307190676525899, 0.024875542728598807, 0.14769853495105542, 0.08706439955009582, 0.024875542728598807, 0.17914933527165655, 0.7165973410866262, 0.07324763156366872, 0.027467861836375767, 0.16022919404552532, 0.03204583880910506, 0.013733930918187883, 0.03204583880910506, 0.5173113979184103, 0.00915595394545859, 0.004577976972729295, 0.08240358550912731, 0.004577976972729295, 0.041201792754563656, 0.9133779646390179, 0.8426193586218627, 0.18523478818819877, 0.09261739409409939, 0.6483217586586957, 0.9874185812674638, 0.7786518309912104, 0.05989629469163156, 0.05989629469163156, 0.05989629469163156, 0.9390967649453935, 0.9773067878882662, 0.9143881438062761, 0.12438627777505006, 0.05047559098117973, 0.0829241851833667, 0.03965939291378407, 0.08833228421706453, 0.07751608614966887, 0.05047559098117973, 0.0829241851833667, 0.03425129388008624, 0.014421597423194208, 0.05588369001487756, 0.09554308292866164, 0.1658483703667334, 0.037856693235884795, 0.03635501980265057, 0.0636212846546385, 0.0381727707927831, 0.1454200792106023, 0.05998578267437344, 0.03999052178291563, 0.06543903564477102, 0.03635501980265057, 0.016359758911192755, 0.04544377475331322, 0.3108354193126624, 0.07452779059543367, 0.03453726881251804, 0.03635501980265057, 0.16343806183054557, 0.817190309152728, 0.016809826357075883, 0.014008188630896567, 0.053231116797406955, 0.6387734015688835, 0.016809826357075883, 0.033619652714151765, 0.02521473953561382, 0.0028016377261793133, 0.0420245658926897, 0.0420245658926897, 0.06723930542830353, 0.022413101809434507, 0.028016377261793134, 0.0538987734284906, 0.007186503123798747, 0.007186503123798747, 0.18684908121876742, 0.057492024990389974, 0.0035932515618993734, 0.0538987734284906, 0.07545828279988684, 0.057492024990389974, 0.07905153436178622, 0.269493867142453, 0.03952576718089311, 0.09701779217128309, 0.014373006247597494, 0.01641150077772152, 0.006154312791645571, 0.010257187986075951, 0.5990197783868355, 0.01641150077772152, 0.03487443915265823, 0.038977314347088614, 0.0841089414858228, 0.006154312791645571, 0.020514375972151902, 0.018462938374936712, 0.09641756706911395, 0.022565813569367092, 0.030771563958227853, 0.9696994789052906, 0.03217067157977028, 0.03217067157977028, 0.9007788042335677, 0.04494894688209526, 0.12360960392576198, 0.12360960392576198, 0.04494894688209526, 0.04494894688209526, 0.011237236720523815, 0.011237236720523815, 0.03371171016157145, 0.1348468406462858, 0.03371171016157145, 0.03371171016157145, 0.3595915750567621, 0.16381498791946447, 0.8190749395973224, 0.9391801962840108, 0.09142827252872776, 0.060952181685818514, 0.05079348473818209, 0.040634787790545676, 0.41650657485309317, 0.08126957558109135, 0.07111087863345493, 0.020317393895272838, 0.010158696947636419, 0.010158696947636419, 0.07111087863345493, 0.07111087863345493, 1.0080355013671907, 0.9465390986708566, 0.0363338283009728, 0.060556380501621335, 0.18166914150486402, 0.0060556380501621335, 0.08477893270226987, 0.024222552200648534, 0.2906706264077824, 0.09083457075243201, 0.09689020880259414, 0.0060556380501621335, 0.0363338283009728, 0.0181669141504864, 0.012111276100324267, 0.0545007424514592, 0.9657615218059877, 0.915115104715929, 0.10203864644053154, 0.7142705250837208, 0.10203864644053154, 0.9279383307222364, 0.06385254061179882, 0.06385254061179882, 0.04469677842825917, 0.08300830279533847, 0.09577881091769823, 0.02554101624471953, 0.03192627030589941, 0.08300830279533847, 0.02554101624471953, 0.10216406497887812, 0.09577881091769823, 0.019155762183539645, 0.268180670569555, 0.06282917354116647, 0.06282917354116647, 0.06282917354116647, 0.6911209089528312, 0.06282917354116647, 0.9412094183495359, 1.016265216466013, 1.0378951067851265, 0.033370902216960915, 0.4505071799289724, 0.10011270665088275, 0.016685451108480458, 0.0834272555424023, 0.016685451108480458, 0.033370902216960915, 0.06674180443392183, 0.033370902216960915, 0.0834272555424023, 0.0834272555424023, 0.016685451108480458, 0.21674006134664484, 0.7585902147132569, 0.9603134595302201, 0.04262795603238348, 0.0710465933873058, 0.0710465933873058, 0.05683727470984464, 0.04262795603238348, 0.3836516042914513, 0.12788386809715044, 0.0710465933873058, 0.01420931867746116, 0.08525591206476696, 0.01420931867746116, 0.01420931867746116, 1.0162188018997202, 0.993404251000575, 0.9260864042431234, 0.04043393604517056, 0.013477978681723521, 0.3032545203387792, 0.0673898934086176, 0.18195271220326753, 0.1347797868172352, 0.16173574418068223, 0.006738989340861761, 0.02021696802258528, 0.006738989340861761, 0.02021696802258528, 0.026955957363447042, 0.9393750422494894, 0.08129297603625806, 0.08129297603625806, 0.7316367843263225, 0.08129297603625806, 1.0404184326253239, 0.9168451137213358, 0.9394871951838789, 0.9568955734227504, 0.763578860455788, 0.127263143409298, 0.8820185273378321, 1.0164143343654743, 0.9607811482703439, 1.0102606358458401, 0.9924569800621907, 0.09367962071957082, 0.08729237385232737, 0.023419905179892706, 0.10219594987589545, 0.07664696240692159, 0.1522293836693026, 0.03938802234800137, 0.07238879782875927, 0.05642068066065061, 0.04683981035978541, 0.03512985776983906, 0.08942145614140852, 0.0521625160824883, 0.0713242566842187, 0.9125544696553519, 0.9515951308028211, 0.9395120485457847, 0.028343189760314812, 0.028343189760314812, 0.34011827712377773, 0.4818342259253518, 0.028343189760314812, 0.056686379520629625, 0.028343189760314812, 0.9280308816782993, 0.10946457700796543, 0.054732288503982714, 0.039805300730169246, 0.06965927627779618, 0.039805300730169246, 0.039805300730169246, 0.014926987773813467, 0.05970795109525387, 0.039805300730169246, 0.09951325182542312, 0.054732288503982714, 0.06468361368652502, 0.09951325182542312, 0.20897782883338853, 0.7141917168775861, 0.05951597640646551, 0.05951597640646551, 0.11903195281293102, 0.12992117879080298, 0.12992117879080298, 0.02165352979846716, 0.02165352979846716, 0.06496058939540149, 0.02165352979846716, 0.5846453045586134, 0.9622174506298774, 0.9320329185472421, 0.7284244730938495, 0.10406063901340708, 0.10406063901340708, 0.9667954017524144, 0.031087911721989825, 0.08438147467397238, 0.02886734659899055, 0.06661695368997819, 0.017764520983994184, 0.03552904196798837, 0.07105808393597673, 0.03997017221398692, 0.0910431700429702, 0.01332339073799564, 0.1154693863959622, 0.1487778632409513, 0.16876294934794475, 0.08660203979697165, 0.9503348071562684, 0.9594128897330535, 0.0661160112354652, 0.005509667602955433, 0.0661160112354652, 0.08815468164728693, 0.12121268726501953, 0.027548338014777168, 0.07713534644137607, 0.044077340823643466, 0.011019335205910866, 0.1157030196620641, 0.044077340823643466, 0.027548338014777168, 0.2699737125448162, 0.0330580056177326, 0.8987442531062545, 0.8177011165596734, 0.7388677581825475, 0.13853770465922766, 0.046179234886409216, 0.046179234886409216, 0.08408307861197932, 0.08408307861197932, 0.16816615722395864, 0.6726646288958346, 0.9861318535537016, 0.9626269889153907, 0.08322392667296956, 0.10187756541001447, 0.10618225127240945, 0.1147916229971994, 0.027263010461834856, 0.02869790574929985, 0.06313539264845967, 0.07174476437324963, 0.014348952874649925, 0.10331246069747946, 0.04017706804901979, 0.02869790574929985, 0.20662492139495892, 0.01147916229971994, 0.7284430985035537, 0.08093812205595041, 0.08093812205595041, 0.966698990513455, 0.9510357222975248, 0.06516220642291831, 0.7167842706521015, 0.06516220642291831, 0.06516220642291831, 0.9594554935365247, 0.9282767559932635, 0.9625179537751422, 0.9659935681132035, 0.03933935930566755, 0.009834839826416888, 0.03933935930566755, 0.03933935930566755, 0.03933935930566755, 0.13768775756983642, 0.049174199132084435, 0.049174199132084435, 0.3048800346189235, 0.049174199132084435, 0.088513558437752, 0.03933935930566755, 0.10818323809058576, 0.8546976497958471, 0.07122480414965392, 0.09687555961920079, 0.03229185320640026, 0.09687555961920079, 0.09687555961920079, 0.613545210921605, 0.03229185320640026, 0.9527141134415216, 0.04653382739381155, 0.04653382739381155, 0.06514735835133617, 0.3815773846292547, 0.009306765478762311, 0.018613530957524622, 0.30712326079915625, 0.02792029643628693, 0.018613530957524622, 0.018613530957524622, 0.009306765478762311, 0.037227061915049244, 0.9261565493658658, 0.8991834273282066, 0.9286101408710825, 1.0090243832922008, 0.9881062858647341, 0.1233851378296797, 0.7403108269780783, 0.19361709158398877, 0.1928103537023888, 0.08551421544959503, 0.04759753501439724, 0.06937945781759597, 0.07018619569919593, 0.03388299102719803, 0.029849301619198267, 0.05243796230399696, 0.029849301619198267, 0.06453903052799626, 0.027429087974398407, 0.05082448654079705, 0.05243796230399696, 0.0852992707700091, 0.05905334130231399, 0.05249185893539021, 0.07873778840308532, 0.13122964733847553, 0.07217630603616154, 0.0852992707700091, 0.05249185893539021, 0.045930376568466436, 0.03936889420154266, 0.26245929467695106, 0.0065614823669237765, 0.026245929467695106, 0.9874472672758273, 0.023844934840342672, 0.07153480452102802, 0.23844934840342671, 0.11922467420171336, 0.047689869680685344, 0.047689869680685344, 0.023844934840342672, 0.4292088271261681, 0.9126194858102866, 0.9661448272780777, 1.010237679133667, 0.692467574033848, 0.173116893508462, 0.16836235622075352, 0.8418117811037676, 0.9803765356091835, 0.4449654434130179, 0.02118883063871514, 0.04237766127743028, 0.02118883063871514, 0.06356649191614541, 0.14832181447100595, 0.04237766127743028, 0.02118883063871514, 0.08475532255486055, 0.02118883063871514, 0.08475532255486055, 0.9589975923759454, 0.8819607636484341, 0.07340156397828795, 0.21121674532527757, 0.11085134151823078, 0.06291562626710395, 0.05842165296231082, 0.043441741946333684, 0.05542567075911539, 0.05991964406390853, 0.03295580423514969, 0.04943370635272454, 0.09886741270544908, 0.028461830930356553, 0.04044575974313826, 0.07639754618148338, 0.033737579130870075, 0.10121273739261022, 0.01405732463786253, 0.28958088753996813, 0.025303184348152555, 0.12089299188561776, 0.025303184348152555, 0.08153248289960267, 0.008434394782717519, 0.019680254493007542, 0.19961400985764793, 0.011245859710290023, 0.04217197391358759, 0.022491719420580047, 0.005663334127200075, 0.008495001190800112, 0.0028316670636000375, 0.02406917004060032, 0.015574168849800207, 0.007079167659000094, 0.04813834008120064, 0.026900837104200357, 0.0014158335318000188, 0.03539583829500047, 0.004247500595400056, 0.8084409466578107, 0.009910834722600131, 0.8401269368077134, 0.09207941505282438, 0.09207941505282438, 0.13811912257923656, 0.04603970752641219, 0.5985161978433584, 0.9761618398224828, 0.9406967362863461, 0.04804984620745024, 0.09609969241490048, 0.05734981644115028, 0.049599841246400246, 0.05424982636325027, 0.07594975690855038, 0.10539966264860053, 0.06819978171380034, 0.020149935506350098, 0.015499950389500076, 0.21079932529720105, 0.1007496775317505, 0.030999900779000153, 0.06664978667485033, 0.9475488980300132, 0.04142974685505946, 0.3018452985154332, 0.11245217003516138, 0.011837070530016987, 0.03551121159005096, 0.07694095844511041, 0.053266817385076444, 0.10653363477015289, 0.07694095844511041, 0.023674141060033974, 0.01775560579502548, 0.04142974685505946, 0.08285949371011891, 0.01775560579502548, 0.9396700385210683, 0.9132115242573172, 0.025150938666941656, 0.059975315282707026, 0.07738750359058971, 0.0947996918984724, 0.04643250215435383, 0.05126922112876568, 0.0473998459492362, 0.37146001723483063, 0.08899562912917816, 0.027085626256706397, 0.06481203425711889, 0.019346875897647428, 0.016444844513000312, 0.011608125538588457, 0.9127298990451034, 0.9391380895571747, 1.0162693083115768, 0.9528902941321098, 0.9395506310556528, 0.0662316628925631, 0.1545405467493139, 0.05087359613486731, 0.2774050808108802, 0.049913716962511324, 0.019197583447119738, 0.0364754085495275, 0.023996979308899675, 0.0047993958617799344, 0.046074200273087375, 0.054713112824291255, 0.07007117958198705, 0.09214840054617475, 0.054713112824291255, 0.10622788983153905, 0.10622788983153905, 0.7435952288207734, 1.006069375303491, 0.08064332610270136, 0.29618094314083043, 0.045453511076068036, 0.01759490751331666, 0.057183449418279145, 0.13049556405709856, 0.060115934003831924, 0.057183449418279145, 0.03225733044108054, 0.04691975336884443, 0.04398726878329165, 0.09237326444491246, 0.020527392098869435, 0.01906114980609305, 0.9873523166789954, 0.8699277316233536, 0.1087409664529192, 0.9260557394162131, 0.10433529766474951, 0.08488295403233859, 0.03006271288645325, 0.08311455915666487, 0.10787208741609695, 0.09195653353503347, 0.09195653353503347, 0.049515056518864176, 0.02652592313510581, 0.044209871891843014, 0.015915553881063485, 0.09903011303772835, 0.008841974378368603, 0.15915553881063485, 0.08011822497880416, 0.16023644995760833, 0.06008866873410312, 0.36053201240461874, 0.0250369453058763, 0.09013300310115469, 0.02002955624470104, 0.04005911248940208, 0.01502216718352578, 0.00500738906117526, 0.0500738906117526, 0.03004433436705156, 0.01001477812235052, 0.0500738906117526, 0.9738856619258398, 0.17953968900702452, 0.08976984450351226, 0.5206650981203711, 0.0359079378014049, 0.01795396890070245, 0.0359079378014049, 0.0359079378014049, 0.0718158756028098, 0.9301263131673664, 0.9660703599418744, 0.9596290552268073, 0.025400915415866206, 0.22860823874279584, 0.007620274624759862, 0.027941006957452826, 0.04826173929014579, 0.07112256316442538, 0.08382302087235848, 0.07366265470601199, 0.10414375320505144, 0.038101373123799305, 0.04572164774855917, 0.1981271402437564, 0.022860823874279585, 0.020320732332692965, 0.1642331225798535, 0.8211656128992676, 0.9245415211643625, 0.13854527361696276, 0.06967773994771226, 0.03970010764462675, 0.23982105842468407, 0.01701433184769718, 0.11504929154157141, 0.06481650227694163, 0.04294093275847383, 0.011342887898464786, 0.03402866369539436, 0.0631960897200181, 0.03645928253077967, 0.10775743503541547, 0.021065363240006033, 0.9143629439257192, 0.1876179634747816, 0.020846440386086847, 0.18066915001275266, 0.03937660961816404, 0.04632542308019299, 0.07412067692830879, 0.10654847308444387, 0.05327423654222194, 0.09728338846840529, 0.09033457500637633, 0.03242779615613509, 0.037060338464154394, 0.011581355770048247, 0.020846440386086847, 0.1035512955248826, 0.03270040911312082, 0.010900136371040273, 0.05450068185520136, 0.119901500081443, 0.04905061366968123, 0.03270040911312082, 0.2943036820180874, 0.04360054548416109, 0.07085088641176178, 0.119901500081443, 0.04905061366968123, 0.005450068185520136, 0.005450068185520136, 0.9526553589163311, 0.9666724362906469, 0.988569841563133, 0.8819593574198108, 0.9627794709673885, 0.12021362808619063, 0.04274262331953444, 0.04541403727700535, 0.053428279149418056, 0.061442521021830766, 0.03205696748965083, 0.07212817685171437, 0.01068565582988361, 0.38468360987581, 0.056099693106888955, 0.02938555353217993, 0.04808545123447625, 0.005342827914941805, 0.04007120936206354, 0.9393822848133075, 0.9295215564924307, 0.03747049260940307, 0.03747049260940307, 0.07494098521880614, 0.07494098521880614, 0.03747049260940307, 0.03747049260940307, 0.03747049260940307, 0.07494098521880614, 0.5620573891410461, 0.07494098521880614, 0.7594916863733209, 0.10849881233904585, 0.054249406169522923, 0.9977078162235385, 0.9596169024707423, 0.056944640700173126, 0.06421416930019522, 0.08359957890025416, 0.072695286000221, 0.10783134090032782, 0.072695286000221, 0.058156228800176804, 0.12963992670039412, 0.026654938200081038, 0.021808585800066303, 0.09208069560027994, 0.05209828830015839, 0.10177340040030941, 0.058156228800176804, 0.9396042541151066, 0.05054438738451444, 0.05054438738451444, 0.01684812912817148, 0.01684812912817148, 0.06739251651268592, 0.01684812912817148, 0.0842406456408574, 0.05054438738451444, 0.01684812912817148, 0.2190256786662292, 0.4043550990761155, 0.10855542215783574, 0.7598879551048502, 0.10855542215783574, 1.0162607410476565, 0.9872864796332803, 0.017117557927717277, 0.08558778963858639, 0.051352673783151837, 0.017117557927717277, 0.03423511585543455, 0.03423511585543455, 0.1369404634217382, 0.10270534756630367, 0.051352673783151837, 0.4108213902652147, 0.03423511585543455, 0.028515762671839848, 0.028515762671839848, 0.08554728801551954, 0.028515762671839848, 0.057031525343679695, 0.45625220274943756, 0.1710945760310391, 0.14257881335919925, 0.9260035787109521, 0.7712749189898569, 0.09640936487373211, 0.09640936487373211, 0.015746319137234174, 0.0629852765489367, 0.10235107439202212, 0.2913069040388322, 0.0629852765489367, 0.09447791482340503, 0.03149263827446835, 0.015746319137234174, 0.0629852765489367, 0.015746319137234174, 0.07873159568617086, 0.007873159568617087, 0.14171687223510757, 0.015746319137234174, 0.9760774481692129, 0.881987840837544, 0.9592818813207975, 0.0467285949801609, 0.014018578494048271, 0.08878433046230572, 0.10280290895635398, 0.06542003297222526, 0.07476575196825744, 0.042055735482144814, 0.028037156988096543, 0.2383158343988206, 0.02336429749008045, 0.02336429749008045, 0.01869143799206436, 0.2009329584146919, 0.03271001648611263, 0.014186154155173094, 0.04255846246551928, 0.7093077077586547, 0.02837230831034619, 0.014186154155173094, 0.07093077077586547, 0.02837230831034619, 0.014186154155173094, 0.014186154155173094, 0.02837230831034619, 0.014186154155173094, 0.9558075963250359, 0.17728519880952937, 0.7091407952381175, 0.0604811773832729, 0.08247433279537213, 0.08247433279537213, 0.08797262164839693, 0.0659794662362977, 0.03848802197117366, 0.03298973311814885, 0.04398631082419847, 0.04123716639768606, 0.07147775508932251, 0.05498288853024809, 0.05773203295676049, 0.17319609887028148, 0.10721663263398377, 0.9763723588519614, 0.9594939295462338, 0.9261688679376175, 0.9592439808601374, 0.08187171789809497, 0.07744621963333308, 0.07302072136857118, 0.07744621963333308, 0.19914742191428506, 0.13055219881047575, 0.019914742191428504, 0.02655298958857134, 0.10399920922190442, 0.09514821269238063, 0.03540398611809512, 0.002212749132380945, 0.024340240456190397, 0.055318728309523627, 0.99017039750624, 0.9395978791186407, 0.05159073657474344, 0.07738610486211515, 0.36113515602320406, 0.07738610486211515, 0.21926063044265962, 0.01289768414368586, 0.03869305243105758, 0.06448842071842929, 0.05159073657474344, 0.02579536828737172, 0.01289768414368586, 0.8819169104500992, 0.07899496045676302, 0.06895322819531009, 0.08836724390078575, 0.2517127553537533, 0.1874456688804546, 0.0676143305604497, 0.03548078732380034, 0.04753086603754385, 0.02811685033206819, 0.00267779526972078, 0.03213354323664936, 0.055564251846706186, 0.030125196784358776, 0.02543905506234741, 0.08761082392110074, 0.06570811794082555, 0.08761082392110074, 0.04380541196055037, 0.08761082392110074, 0.021902705980275185, 0.021902705980275185, 0.5256649435266044, 0.021902705980275185, 0.04187313399428278, 0.3614312618453882, 0.12782325114044218, 0.05950392725503343, 0.10358091040691005, 0.04628083230947044, 0.033057737363907456, 0.024242340733532135, 0.044076983151876616, 0.05509622893984577, 0.03746543567909512, 0.03526158652150129, 0.019834642418344477, 0.011019245787969154, 0.08460821701203948, 0.08876603110857496, 0.13687787993991413, 0.08500419930694762, 0.10836715470652795, 0.07517063898339546, 0.07319072750885475, 0.05556951538544247, 0.08738009307639648, 0.02349494949788304, 0.021449040974190977, 0.06784496652759485, 0.04969577801097171, 0.04263409375177653, 0.9952526902978761, 0.9772303913138486, 0.9524176103186397, 0.04809280983468165, 0.012023202458670413, 0.05410441106401686, 0.04208120860534645, 0.030058006146676034, 0.012023202458670413, 0.13225522704537454, 0.12624362581603935, 0.012023202458670413, 0.3847424786774532, 0.024046404917340825, 0.030058006146676034, 0.0841624172106929, 0.006011601229335206, 0.9395532310692033, 0.9807959680499294, 0.06025783641160207, 0.06025783641160207, 0.06025783641160207, 0.7230940369392248, 0.06025783641160207, 0.8818912337642103, 0.8972880317236498, 0.028994882176453234, 0.05798976435290647, 0.14497441088226617, 0.05798976435290647, 0.014497441088226617, 0.04349232326467985, 0.028994882176453234, 0.028994882176453234, 0.04349232326467985, 0.46391811482325174, 0.05798976435290647, 0.04349232326467985, 0.09238920926071251, 0.013858381389106876, 0.023097302315178127, 0.13858381389106877, 0.023097302315178127, 0.35569845565374314, 0.046194604630356254, 0.04157514416732063, 0.004619460463035625, 0.07391136740857, 0.04157514416732063, 0.027716762778213753, 0.09238920926071251, 0.027716762778213753, 0.6940746535960327, 0.13881493071920656, 0.9511029968268615, 0.9165698320503998, 0.9528658609272997, 0.9309018481861194, 0.9295866699071004, 0.9013705983275062, 0.9350950352753521, 0.9580993764356026, 0.989139178520643, 0.9768212661228569, 0.9628249300161408, 0.8706071013636365, 0.0967341223737374, 0.9605135231912943, 0.04828711655709936, 0.04828711655709936, 0.03219141103806624, 0.2828245398344391, 0.018395092021752137, 0.04598773005438034, 0.0666822085788515, 0.04828711655709936, 0.027592638032628205, 0.03219141103806624, 0.043688343551661325, 0.18395092021752135, 0.013796319016314102, 0.10347239262235576, 0.966055005789235, 0.9262297662292703, 0.07530254948298139, 0.7530254948298138, 0.15060509896596277, 0.939506744998366, 0.1874335837518705, 0.05857299492245953, 0.046858395937967624, 0.05857299492245953, 0.046858395937967624, 0.03514379695347572, 0.011714598984491906, 0.4100109644572167, 0.011714598984491906, 0.03514379695347572, 0.023429197968983812, 0.08200219289144334, 0.9005888187483128, 0.0905661896179707, 0.06900281113750148, 0.06325257687604302, 0.10781689240234606, 0.07044036970286609, 0.044564315526303036, 0.03737652269947997, 0.09344130674869992, 0.047439432657032266, 0.033063847003386125, 0.0920037481833353, 0.03450140556875074, 0.12506759518672142, 0.0905661896179707, 0.9391905997040609, 0.9867158668289403, 0.0556506652785256, 0.0278253326392628, 0.0278253326392628, 0.0834759979177884, 0.0278253326392628, 0.0278253326392628, 0.0556506652785256, 0.0556506652785256, 0.6399826507030444, 0.9579088417526762, 0.02650258096259266, 0.02650258096259266, 0.15901548577555596, 0.02650258096259266, 0.05300516192518532, 0.6890671050274092, 0.9537289461190089, 0.2236609865398292, 0.07455366217994307, 0.14910732435988613, 0.5964292974395445, 0.07457296763719205, 0.05162743913344066, 0.16635508165219767, 0.009560636876563085, 0.08986998663969299, 0.040154674881564954, 0.03059403800500187, 0.10707913301750654, 0.08222147713844252, 0.028681910629689254, 0.06118807601000374, 0.040154674881564954, 0.14149742577313365, 0.07648509501250468, 0.9607668390607671, 1.033297920804108, 0.060334358364640496, 0.201114527882135, 0.4223405085524835, 0.0201114527882135, 0.040222905576427, 0.060334358364640496, 0.040222905576427, 0.080445811152854, 0.060334358364640496, 0.09421897200917849, 0.04885428178253699, 0.16633719749768547, 0.059323056450223496, 0.10817733823276049, 0.08607659171208899, 0.019774352150074496, 0.12329890164164098, 0.03954870430014899, 0.045364690226641496, 0.04420149304134299, 0.05583346489432799, 0.025590338076566996, 0.0825870001561935, 1.0139609374168244, 0.9391394340833714, 0.06955159289601341, 0.07908514457023333, 0.05221786257924995, 0.07583507013584018, 0.029467341538497897, 0.214938255927867, 0.20800476380116162, 0.04680107185526136, 0.04116760950231324, 0.013433640995491688, 0.049184459773816344, 0.026217267104104745, 0.040950937873353695, 0.05351789235300721, 1.0163402175557499, 0.8174436056933487, 0.9491300028059083, 0.6371107287996601, 0.10618512146661002, 0.05309256073330501, 0.05309256073330501, 0.05309256073330501, 0.11042550147318611, 0.10945685672342131, 0.04940088223800431, 0.0300279872427085, 0.0697424219830649, 0.07652293523141844, 0.043589013739415566, 0.03777714524082683, 0.16854418645907354, 0.02615340824364934, 0.029059342492943712, 0.13754755446660025, 0.05230681648729868, 0.059087329735652214, 0.9525651378546323, 0.15555057222552984, 0.7777528611276493, 0.9661875183474133, 0.9478796122157258, 0.08053681933293012, 0.020528993163295914, 0.04263713964684536, 0.08527427929369072, 0.11527819237850784, 0.06000782616963422, 0.03632052636583123, 0.08843258593419778, 0.08211597265318366, 0.022108146483549446, 0.1042241191367331, 0.15633617870509967, 0.04895375292785949, 0.05684951952912715, 0.06693724273148463, 0.07302244661616504, 0.08519285438552589, 0.06693724273148463, 0.24949335927189725, 0.024340815538721684, 0.09127805827020631, 0.054766834962123784, 0.042596427192762944, 0.07302244661616504, 0.024340815538721684, 0.03651122330808252, 0.11561887380892799, 0.04034607190485473, 0.05896733586094153, 0.2638012393778963, 0.04034607190485473, 0.06207087985362266, 0.006207087985362266, 0.2979402232973888, 0.05896733586094153, 0.024828351941449063, 0.02172480794876793, 0.0372425279121736, 0.04344961589753586, 0.024828351941449063, 0.0186212639560868, 0.9169586594637091, 0.06693445765209471, 0.026773783060837882, 0.013386891530418941, 0.053547566121675765, 0.026773783060837882, 0.06693445765209471, 0.2543509390779599, 0.026773783060837882, 0.013386891530418941, 0.04016067459125683, 0.3882198543821493, 0.0785396516553052, 0.07249813998951249, 0.09515380873623515, 0.05437360499213437, 0.1495274137283695, 0.06192549457437525, 0.030207558328963536, 0.036249069994756244, 0.10572645415137238, 0.08609154123754609, 0.09515380873623515, 0.09062267498689061, 0.016614157080929944, 0.02869718041251536, 0.10770930395009756, 0.03590310131669919, 0.03590310131669919, 0.09574160351119783, 0.017951550658349594, 0.08975775329174797, 0.05983850219449865, 0.047870801755598914, 0.3410794625086423, 0.011967700438899729, 0.10770930395009756, 0.005983850219449864, 0.017951550658349594, 0.03590310131669919, 0.927888916279621, 1.0162879138374021, 0.9760684577867542, 1.016271993603135, 1.0164405560152068, 0.10025642742939964, 0.10025642742939964, 0.7017949920057974, 0.03536799371700715, 0.5658878994721144, 0.017683996858503574, 0.017683996858503574, 0.017683996858503574, 0.08841998429251788, 0.17683996858503576, 0.0707359874340143, 0.820091262720614, 0.9288598239402585, 0.021705192957410635, 0.08440908372326358, 0.0771740194041267, 0.18208245203161144, 0.04461622996801075, 0.08682077182964254, 0.03738116564887387, 0.06390973481904243, 0.018087660797842197, 0.019293504851031675, 0.22790452605281167, 0.0036175321595684393, 0.07476233129774774, 0.05908635860628451, 1.036503007700103, 0.08642182983670633, 0.09478523272412953, 0.019514606737320785, 0.055756019249487955, 0.052968218287013556, 0.027878009624743978, 0.005575601924948796, 0.019514606737320785, 0.14496565004866868, 0.027878009624743978, 0.06411942213691114, 0.27878009624743977, 0.047392616362064766, 0.07527062598680874, 0.8825221249836726, 0.03951838687380993, 0.09220956937222316, 0.5137390293595291, 0.05269118249841324, 0.01317279562460331, 0.02634559124920662, 0.09220956937222316, 0.03951838687380993, 0.02634559124920662, 0.02634559124920662, 0.01317279562460331, 0.09220956937222316, 0.9391373819133542, 0.10079450822595562, 0.09725785881451858, 0.1167094305774223, 0.06542801411158523, 0.03536649411437039, 0.014146597645748157, 0.18744241880616308, 0.09902618352023711, 0.017683247057185197, 0.022988221174340757, 0.03359816940865187, 0.044208117642962994, 0.13085602822317047, 0.03359816940865187, 0.8820144875166561, 0.9670306993659162, 0.9260776732760924, 0.19109943822769973, 0.06949070481007263, 0.10230575985927359, 0.059839218030895876, 0.08879367836842614, 0.030884757693365614, 0.14670259904348668, 0.07721189423341404, 0.05404832596338983, 0.032815055049200965, 0.02123327091418886, 0.028954460337530262, 0.032815055049200965, 0.06176951538673123, 0.9278061164529825, 0.928129894475649, 1.0163163029627202, 0.9636909421115458, 0.987410938925971, 0.9261730186908856, 0.09454886554601308, 0.04328743241865659, 0.09568800850439878, 0.03531343170995669, 0.07518343525345618, 0.06379200566959918, 0.27225516705418223, 0.08429657892054178, 0.020504573250942595, 0.010252286625471297, 0.04556571833542799, 0.028478573959642494, 0.05012229016897079, 0.08201829300377038, 0.7322134607826558, 0.09152668259783198, 0.09152668259783198, 0.09152668259783198, 0.9592943213897829, 0.0367486029740382, 0.1706185138080345, 0.06562250531078251, 0.0866217070102329, 0.07874700637293901, 0.09712130785995811, 0.0866217070102329, 0.010499600849725201, 0.044623303611332106, 0.055122904461057304, 0.044623303611332106, 0.060372704885919906, 0.0131245010621565, 0.1443695116837215, 0.8942771150710755, 1.0387005451137576, 0.11921624675684798, 0.10386263921998119, 0.09844371891285174, 0.04244820907251405, 0.07676803768433392, 0.047867129379643505, 0.15443922875318944, 0.0668333504545966, 0.03522298199634145, 0.03522298199634145, 0.06593019707007503, 0.057801816609380836, 0.037029288765384596, 0.05960812337842399, 0.9131070021635909, 0.9614506652986778, 1.0508159550917668, 0.935206670978009, 0.05205323661581265, 0.07807985492371897, 0.05205323661581265, 0.026026618307906323, 0.026026618307906323, 0.07807985492371897, 0.026026618307906323, 0.49450574785022017, 0.05205323661581265, 0.05205323661581265, 0.07807985492371897, 0.1268272501475833, 0.7609635008854999, 0.9168676750594952, 0.9279213546351228, 0.9872739203038916, 0.9078074559305174, 0.06618183291971678, 0.050609636938606956, 0.18491982727567927, 0.12263104335123994, 0.05255616143624568, 0.025304818469303478, 0.05839573492916187, 0.029197867464580935, 0.13625671483471102, 0.009732622488193645, 0.11095189636540756, 0.01751872047874856, 0.06423530842207806, 0.07007488191499424, 0.08216780183974318, 0.05820219296981808, 0.18145389572943282, 0.04964304694484483, 0.04793121773985018, 0.10955706911965755, 0.09586243547970036, 0.035948413304887634, 0.06847316819978598, 0.03423658409989299, 0.020541950459935794, 0.09415060627470571, 0.022253779664930442, 0.10099792309468432, 0.057088645954159446, 0.17126593786247832, 0.06227852285908303, 0.12282708674985819, 0.03978905627108083, 0.10033762016185599, 0.07957811254216166, 0.07092831770062234, 0.04151901523938869, 0.027679343492925793, 0.012109712778155033, 0.15396634817939972, 0.03805909730277296, 0.020759507619694344, 0.5585670738700076, 0.09857066009470722, 0.06571377339647148, 0.03285688669823574, 0.2299982068876502, 0.048993985912862775, 0.00653253145504837, 0.088189174643153, 0.1927096779239269, 0.00653253145504837, 0.022863860092669296, 0.019597594365145108, 0.09145544037067718, 0.09145544037067718, 0.2351711323817413, 0.048993985912862775, 0.019597594365145108, 0.08165664318810463, 0.048993985912862775, 0.05525558266848897, 0.05065095077944822, 0.013813895667122243, 0.032232423223285234, 0.006906947833561121, 0.0782787421136927, 0.004604631889040748, 0.5594627745184508, 0.020720843500683366, 0.013813895667122243, 0.03683705511232598, 0.02532547538972411, 0.027627791334244485, 0.07597642616917233, 1.0088335549728826, 1.0399373061542951, 0.9905529905579791, 0.8068094551651112, 0.1008511818956389, 1.0162978882142164, 1.010595455373279, 0.010286370515871546, 0.020572741031743093, 0.05143185257935773, 0.010286370515871546, 0.09257733464284391, 0.010286370515871546, 0.7303323066268798, 0.05143185257935773, 0.010286370515871546, 0.010286370515871546, 0.03350636675607038, 0.16083056042913782, 0.08041528021456891, 0.03183104841826686, 0.04858423179630205, 0.05863614182312316, 0.060311460160926686, 0.06868805184994428, 0.08544123522797947, 0.12229823865965689, 0.04523359512069501, 0.06366209683653372, 0.09381782691699707, 0.046908913458498534, 0.9660222079398135, 0.9171280330032692, 0.12738542599484193, 0.07839103138144118, 0.0766618174539094, 0.0570640596085491, 0.03285506462310403, 0.11931576099969357, 0.10721126350697104, 0.05130001318344313, 0.05936967817859149, 0.05994608282110209, 0.04438315747331597, 0.0933775520867167, 0.038619111048209996, 0.05475844103850671, 0.03654092468382129, 0.03654092468382129, 0.06090154113970215, 0.085262157595583, 0.4506714044337959, 0.02436061645588086, 0.03654092468382129, 0.21924554810292773, 0.01218030822794043, 0.01218030822794043, 0.01218030822794043, 0.03703834327097221, 0.11111502981291664, 0.07407668654194442, 0.11111502981291664, 0.03703834327097221, 0.5555751490645832, 0.8490348357579648, 0.12129069082256641, 0.9125313858306104, 0.7621063423160803, 0.19052658557902008, 0.7030530236352734, 0.07811700262614149, 0.07811700262614149, 0.07811700262614149, 0.9415360224394479, 1.037111140333367, 0.07234593525156374, 0.11368646968102875, 0.22048285029047998, 0.068900890715775, 0.02411531175052125, 0.055120712572619995, 0.0482306235010425, 0.006890089071577499, 0.14813691503891624, 0.041340534429464997, 0.013780178143154999, 0.068900890715775, 0.0757909797873525, 0.041340534429464997, 0.9989513421994473, 0.9170047331097609, 0.9764447239171344, 0.8284206090336982, 0.09204673433707757, 0.9410008693698468, 0.9260904135389223, 0.1111314476535696, 0.0293263542419142, 0.024695877256348798, 0.1528057405236582, 0.0092609539711308, 0.0524787391697412, 0.0679136624549592, 0.0370438158845232, 0.09106604738278619, 0.038587308213045, 0.0416742928700886, 0.216088925993052, 0.0324133388989578, 0.09569652436835159, 0.907424683146731, 0.6286368851023827, 0.06286368851023827, 0.06286368851023827, 0.06286368851023827, 0.12572737702047654, 0.06286368851023827, 0.9592138125801101, 0.9873953405413024, 0.023610149773648018, 0.023610149773648018, 0.035415224660472026, 0.035415224660472026, 0.023610149773648018, 0.047220299547296035, 0.047220299547296035, 0.17707612330236014, 0.047220299547296035, 0.023610149773648018, 0.023610149773648018, 0.059025374434120044, 0.4131776210388403, 0.011805074886824009, 1.0382607635434198, 0.909055958009809, 0.9670247282639473, 0.10040914711564242, 0.0660586494181858, 0.1241902609061893, 0.023781113790546888, 0.07398568734836809, 0.09248210918546011, 0.023781113790546888, 0.08191272527855038, 0.08455507125527782, 0.023781113790546888, 0.15061372067346362, 0.10040914711564242, 0.05284691953454864, 1.0163916313469452, 0.15988465281787312, 0.7994232640893655, 1.0163260860692942, 0.941029889242263, 0.9457718104165707, 1.0402048099508778, 0.04616854919196377, 0.0538633073906244, 0.030779032794642513, 0.042321170092633455, 0.05001592829129408, 0.05001592829129408, 0.45014335462164673, 0.007694758198660628, 0.05001592829129408, 0.0538633073906244, 0.06540544468861534, 0.0269316536953122, 0.07310020288727596, 0.9183673057127902, 0.9803424794989871, 0.23209489686224646, 0.6962846905867394, 0.8965447404863747, 0.05400591700707379, 0.02520276126996777, 0.057606311474212045, 0.046805128072797283, 0.19802169569260392, 0.03240355020424428, 0.23042524589684818, 0.07200788934276506, 0.03960433913852078, 0.010801183401414758, 0.07560828380990331, 0.028803155737106022, 0.04320473360565903, 0.08640946721131806, 0.961155875903603, 0.02422002922986717, 0.16954020460907018, 0.14532017537920303, 0.04844005845973434, 0.43596052613760905, 0.09688011691946868, 0.02422002922986717, 0.02422002922986717, 0.03143024598138705, 0.0628604919627741, 0.0628604919627741, 0.03143024598138705, 0.1257209839255482, 0.5028839357021928, 0.09429073794416115, 0.0628604919627741, 0.16953053518039507, 0.8476526759019753, 0.9406747070148753, 0.1443867340647748, 0.721933670323874, 1.0163250629905074, 0.9626912382467079, 0.053080772347845466, 0.15147439913897365, 0.03883958952281376, 0.23605839409976806, 0.049196813395564094, 0.0703428121357627, 0.02934546763945928, 0.04186044648569927, 0.016398937798521362, 0.04617595643267858, 0.04358665046449099, 0.13507546134045229, 0.05869093527891856, 0.030208569628855143, 0.6002666907115565, 0.08575238438736521, 0.17150476877473042, 0.912663512425381, 0.9259637766796863, 0.9592831804954888, 1.0164115843684, 0.9661549490562555, 0.9887660015617203, 0.06129776316306108, 0.18853705942577878, 0.13281182018663235, 0.11330798645293108, 0.10030543063046359, 0.0770865809474859, 0.06222651715038018, 0.05015271531523179, 0.04643769936595536, 0.028791373606892323, 0.009287539873191072, 0.039936421454721614, 0.0390076674674025, 0.0510814693025509, 0.10034019698076865, 0.1445376646984882, 0.11228545852609825, 0.10750735390796642, 0.05136462464491729, 0.06450441234477985, 0.05853178157211505, 0.05255915079945025, 0.04658652002678545, 0.047781046181318405, 0.022695996936126242, 0.029863153863324006, 0.06330988619024688, 0.09795114467170274, 0.036650948436530266, 0.036650948436530266, 0.5864151749844843, 0.018325474218265133, 0.10995284530959079, 0.036650948436530266, 0.036650948436530266, 0.036650948436530266, 0.018325474218265133, 0.018325474218265133, 0.07330189687306053, 0.039824871609168054, 0.4978108951146007, 0.019912435804584027, 0.019912435804584027, 0.07964974321833611, 0.059737307413752085, 0.019912435804584027, 0.09956217902292014, 0.09956217902292014, 0.039824871609168054, 0.09765234200497543, 0.12008598814125357, 0.06334205967890298, 0.05014579724579819, 0.14515888676415267, 0.07389906962538681, 0.036949534812693405, 0.05542430221904011, 0.18474767406346704, 0.04486729227255628, 0.029031777352830534, 0.06994019089545538, 0.014515888676415267, 0.011876636189794308, 0.047796122738136146, 0.06857704566776056, 0.353275689803615, 0.010390461464812206, 0.07896750713257276, 0.06442086108183567, 0.07896750713257276, 0.04987421503109859, 0.07481132254664788, 0.014546646050737088, 0.10182652235515961, 0.02285901522258685, 0.014546646050737088, 0.01870283063666197, 0.9412216196307946, 0.9869612307779834, 0.04657967504438154, 0.27249109900963203, 0.009315935008876309, 0.037263740035505234, 0.037263740035505234, 0.06288256130991508, 0.0815144313276677, 0.10946223635429662, 0.0512376425488197, 0.013973902513314462, 0.10713325260207754, 0.06986951256657231, 0.037263740035505234, 0.060553577557696005, 0.026765309201483786, 0.20265162681123436, 0.09559039000529923, 0.022941693601271816, 0.019118078001059847, 0.08794315880487528, 0.03441254040190772, 0.07647231200423939, 0.04588338720254363, 0.17588631760975057, 0.0611778496033915, 0.09176677440508726, 0.022941693601271816, 0.03441254040190772, 0.9169554565060573, 0.020878881625863915, 0.11578288901615444, 0.14994833167665902, 0.10059824783370795, 0.06168760480368884, 0.038910643030019114, 0.08731168679906728, 0.1480502515288532, 0.0740251257644266, 0.026573122069281346, 0.034165442660504586, 0.0370125628822133, 0.03226736251269877, 0.0721270456166208, 0.08605846180061685, 0.09929822515455791, 0.03971929006182317, 0.03309940838485264, 0.08605846180061685, 0.013239763353941055, 0.04633917173879369, 0.29789467546367376, 0.04633917173879369, 0.13239763353941056, 0.09267834347758738, 0.019859645030911584, 0.006619881676970528, 0.9900737196316043, 0.991398463853655, 0.10415521881898399, 0.04385482897641431, 0.13704634055129472, 0.07674595070872504, 0.0493366825984661, 0.010963707244103577, 0.021927414488207154, 0.032891121732310735, 0.1425281941733465, 0.021927414488207154, 0.021927414488207154, 0.24668341299233051, 0.021927414488207154, 0.07126409708667325, 0.9581492974766279, 0.29674565195536257, 0.02781990487081524, 0.06027646055343302, 0.16228277841308889, 0.1159162702950635, 0.04172985730622286, 0.00463665081180254, 0.0695497621770381, 0.10200631785965587, 0.00463665081180254, 0.03245655568261778, 0.02781990487081524, 0.023183254059012698, 0.02781990487081524, 0.04085206385455201, 0.04085206385455201, 0.7761892132364882, 0.04085206385455201, 0.04085206385455201, 0.08166108540472225, 0.03711867518396466, 0.06681361533113639, 0.11729501358132832, 0.0757220973752879, 0.07869159139000508, 0.13511197766963137, 0.03563392817660607, 0.09650855547830811, 0.03711867518396466, 0.05345089226490911, 0.05938988029434345, 0.025240699125095967, 0.10244754350774246, 0.11504203951759429, 0.06299921211677782, 0.05353687986208392, 0.07893577170363071, 0.030379066712438316, 0.10557970726290038, 0.032869154147884085, 0.10881682092897987, 0.06175416839905494, 0.09014116516313665, 0.0326201454043395, 0.06623632578285732, 0.09561935752111733, 0.06573830829576817, 0.11397291801990213, 0.03799097267330071, 0.03799097267330071, 0.6838375081194128, 0.07598194534660142, 0.03799097267330071, 1.0117116647081987, 0.9390405862892787, 0.9661197948625455, 1.0131971315292423, 0.0900515303896772, 0.05403091823380632, 0.05403091823380632, 0.1801030607793544, 0.39622673371457967, 0.05403091823380632, 0.01801030607793544, 0.03602061215587088, 0.07204122431174176, 0.03602061215587088, 0.09001592182800547, 0.02118021690070717, 0.4394895006896738, 0.015885162675530376, 0.05824559647694472, 0.0635406507021215, 0.12178624717906623, 0.08472086760282868, 0.05295054225176792, 0.02118021690070717, 0.010590108450353585, 0.010590108450353585, 0.005295054225176793, 0.7507546086628732, 0.15015092173257466, 0.442986287862989, 0.04922069865144322, 0.14766209595432966, 0.14766209595432966, 0.02461034932572161, 0.04922069865144322, 0.02461034932572161, 0.02461034932572161, 0.07383104797716483, 0.07767825991326384, 0.08111535105986843, 0.08592727866511488, 0.06392989532684547, 0.08317760574783119, 0.0797405146012266, 0.07149149584937557, 0.026809310943515838, 0.12029819013116082, 0.04193251198857605, 0.09486371564628682, 0.05911796772159903, 0.06667956824412914, 0.04674443959382249, 0.9278204451769704, 0.9524855864512216, 0.10478531726817096, 0.8382825381453677, 0.14777234184033403, 0.07388617092016701, 0.11082925638025053, 0.07388617092016701, 0.5172031964411691, 0.036943085460083507, 1.0372847182974108, 0.04892243983374864, 0.08969113969520583, 0.09784487966749728, 0.00815373997229144, 0.02446121991687432, 0.02446121991687432, 0.040768699861457196, 0.1223060995843716, 0.02446121991687432, 0.3098421189470747, 0.09784487966749728, 0.03261495988916576, 0.06522991977833152, 0.9874645531903528, 0.9469665588430074, 0.9592826156364949, 0.06413932774324685, 0.20845281516555228, 0.02672471989301952, 0.021379775914415616, 0.04810449580743514, 0.016034831935811712, 0.29931686280181863, 0.04810449580743514, 0.03741460785022733, 0.010689887957207808, 0.1282786554864937, 0.04275955182883123, 0.016034831935811712, 0.02672471989301952, 0.9221721463209411, 0.9633579563979691, 0.9873985568748487, 0.06964634140175627, 0.08330248677464965, 0.12017407928146179, 0.07237757047633495, 0.04779650880512685, 0.12017407928146179, 0.09695863214754304, 0.05052773787970553, 0.024581061671208094, 0.10242109029670039, 0.060087039640730894, 0.057355810566152216, 0.04233405065596949, 0.053258966954284205, 0.9501242321030686, 0.9802781106121692, 0.9789671019626047, 1.0366500259858369, 0.938018369692246, 0.11602714491426659, 0.08718423883388393, 0.04217182479934736, 0.12848203617625, 0.16038403835606718, 0.02294322074575893, 0.08674722510539329, 0.039549742428403485, 0.03911272869991284, 0.0699221965585034, 0.05943386707472789, 0.06686310045906887, 0.05659327783953869, 0.02425426193123087, 0.9988098087379067, 1.0086270230219345, 0.9875423408532755, 0.03494576923314581, 0.017472884616572905, 0.09435357692949368, 0.03494576923314581, 0.04892407692640413, 0.13978307693258324, 0.045429500003089554, 0.09085900000617911, 0.017472884616572905, 0.031451192309831226, 0.03494576923314581, 0.24811496155533524, 0.059407807696347875, 0.108331884622752, 0.9524967298563176, 0.9124493552704016, 0.9505192034075408, 0.19490275394588882, 0.04305991075548707, 0.047592532940275184, 0.09745137697294441, 0.049858844032669235, 0.09745137697294441, 0.06572302167942763, 0.04305991075548707, 0.14277759882082555, 0.0883861326033682, 0.013597866554364338, 0.047592532940275184, 0.029462044201122733, 0.04305991075548707, 0.9527854278931066, 0.07917335163032309, 0.7125601646729078, 0.07917335163032309, 0.07917335163032309, 0.01696932736540483, 0.025453991048107246, 0.08484663682702416, 0.03393865473080966, 0.11030062787513141, 0.01696932736540483, 0.6278651125199788, 0.05090798209621449, 0.008484663682702415, 0.025453991048107246, 0.9140897885686643, 0.1508301789935036, 0.11463093603506273, 0.0627453544612975, 0.0796383345085699, 0.04585237441402509, 0.12428406749064697, 0.09411803169194626, 0.027752752934804663, 0.03016603579870072, 0.04947229870986918, 0.08687818310025808, 0.06636527875714159, 0.03619924295844087, 0.03137267723064875, 0.10627171480142064, 0.15442608557081436, 0.20424095188398028, 0.05147536185693812, 0.03487040641921615, 0.05147536185693812, 0.02490743315658296, 0.01328396435017758, 0.07306180392597669, 0.036530901962988346, 0.03154941533167175, 0.08468527273238206, 0.09962973262633185, 0.03320991087544395, 0.9286471070499996, 0.9520968044603243, 0.8113640354687157, 0.16227280709374314, 0.06748530841678793, 0.03249292627474975, 0.06248639668221105, 0.039991293876615076, 0.11497496989526834, 0.05498802908034573, 0.237448307392402, 0.06248639668221105, 0.029993470407461306, 0.03749183800932663, 0.09747877882424924, 0.017496191071019095, 0.11497496989526834, 0.029993470407461306, 1.0163886896215846, 1.0070113510242966, 0.17559979148819643, 0.13507676268322802, 0.04052302880496841, 0.013507676268322801, 0.33769190670807003, 0.04052302880496841, 0.04052302880496841, 0.08104605760993681, 0.13507676268322802, 0.9393243077038044, 0.9282705030831994, 0.9662065553473319, 0.9874645531903528, 0.010320771336141659, 0.010320771336141659, 0.030962314008424977, 0.010320771336141659, 0.020641542672283318, 0.010320771336141659, 0.6295670515046412, 0.010320771336141659, 0.030962314008424977, 0.041283085344566636, 0.07224539935299161, 0.1032077133614166, 0.010320771336141659, 0.06404597848396185, 0.06404597848396185, 0.19213793545188557, 0.5764138063556566, 0.06404597848396185, 0.8819593043775028, 1.0162152218889138, 0.029935868202155658, 0.019957245468103773, 0.16963658647888205, 0.009978622734051886, 0.12972209554267453, 0.029935868202155658, 0.1995724546810377, 0.349251795691816, 0.039914490936207546, 0.009978622734051886, 0.019957245468103773, 1.0060310579192517, 0.9893950015731539, 0.9859219811420912, 0.03898721094930404, 0.6627825861381687, 0.11696163284791213, 0.03898721094930404, 0.03898721094930404, 0.03898721094930404, 0.9124997162114866, 0.8943370105314769, 0.14709734326650062, 0.8825840595990037, 0.9622676850946669, 0.9012763605320907, 0.9660824583719081, 1.016256841072373, 0.9873635171775261, 0.9285902305786314, 0.0820706605197251, 0.820706605197251, 0.09925061487216867, 0.056047406045459956, 0.031526665900571224, 0.10392123204262367, 0.09341234340909993, 0.044370863119322465, 0.08757407194603117, 0.06538864038636995, 0.07823283760512119, 0.13895086082103614, 0.040867900241481216, 0.07005925755682495, 0.05137678887500496, 0.040867900241481216, 0.15515204771934407, 0.08354341031041604, 0.07399559198922563, 0.08354341031041604, 0.031030409543868813, 0.08115645573011844, 0.019095636642380807, 0.054899955346844824, 0.011934772901488006, 0.12412163817547525, 0.04296518244535682, 0.038191273284761615, 0.054899955346844824, 0.14799118397845126, 0.9580693390806349, 0.10080379834736254, 0.8064303867789003, 0.14485100400918535, 0.05759136303979659, 0.0994759907051032, 0.16579331784183865, 0.03141347074897995, 0.07853367687244989, 0.02617789229081663, 0.034903856387755505, 0.11169234044081762, 0.0628269414979599, 0.036649049207143285, 0.0628269414979599, 0.04188462766530661, 0.04537501330408216, 0.952451667250565, 0.9875021312913899, 0.12050616605020381, 0.017215166578600543, 0.034430333157201086, 0.41316399788641306, 0.08607583289300272, 0.034430333157201086, 0.034430333157201086, 0.034430333157201086, 0.06886066631440217, 0.017215166578600543, 0.06886066631440217, 0.06886066631440217, 0.10339888782036422, 0.007953760601566478, 0.07953760601566477, 0.10339888782036422, 0.023861281804699434, 0.05567632421096534, 0.10339888782036422, 0.03181504240626591, 0.023861281804699434, 0.3340579452657921, 0.04772256360939887, 0.023861281804699434, 0.04772256360939887, 0.9533978249964268, 0.04386119819830441, 0.08772239639660882, 0.08772239639660882, 0.6140567747762619, 0.04386119819830441, 0.04386119819830441, 0.04386119819830441, 0.04386119819830441, 1.0103920001093583, 0.858894698025633, 0.1717789396051266, 0.98742465334915, 0.3498815078936883, 0.024991536278120594, 0.14994921766872357, 0.031239420347650742, 0.07497460883436179, 0.0062478840695301486, 0.03748730441718089, 0.09371826104295222, 0.04998307255624119, 0.0062478840695301486, 0.1437013335991934, 0.012495768139060297, 0.018743652208590447, 0.2404179255596725, 0.0746124596564501, 0.05388677641854729, 0.20725683237902803, 0.0746124596564501, 0.020725683237902803, 0.07046732300886953, 0.04145136647580561, 0.05803191306612785, 0.024870819885483363, 0.045596503123386166, 0.05388677641854729, 0.008290273295161122, 0.029015956533063925, 0.9171328863018609, 0.025201146686950195, 0.055127508377703555, 0.03780172003042529, 0.04410200670216284, 0.10395473008366955, 0.03465157669455652, 0.03780172003042529, 0.05040229337390039, 0.07560344006085058, 0.015750716679343874, 0.04725215003803162, 0.04095186336629407, 0.08347879840052252, 0.35124098194936837, 0.951038182789701, 0.05750597989030075, 0.06500675987599215, 0.025002599952304673, 0.012501299976152336, 0.10001039980921869, 0.03750389992845701, 0.08000831984737496, 0.022502339957074208, 0.02000207996184374, 0.04000415992368748, 0.02000207996184374, 0.18001871965659366, 0.06750701987122262, 0.27252833948012095, 0.03266179849224919, 0.029653474946910452, 0.01547137823317067, 0.10529132408685594, 0.04039748760883453, 0.017620180765555486, 0.04942245824485075, 0.04813317672541986, 0.062315273439159644, 0.24582300970482288, 0.12420078637184233, 0.0941175509184549, 0.09325802990550099, 0.04254629014121934, 1.023379318600895, 0.055565503799588925, 0.03909595004181603, 0.019240132894594503, 0.3492468923026794, 0.0524870825364538, 0.047407687452280856, 0.019086211831437747, 0.17192982754609648, 0.013237211431481018, 0.016161711631459384, 0.02909108093662689, 0.08019287390466989, 0.039249871104972786, 0.0678791888521294, 0.8953305502305017, 0.1435782719060778, 0.1435782719060778, 0.7178913595303891, 0.9551266816618774, 0.8948560134741205, 1.0410196771412923, 0.08098032853493012, 0.09762139204039086, 0.0991510719726477, 0.04496331922088278, 0.07166318712936576, 0.08251000846718695, 0.0900657002537889, 0.05733982049096083, 0.06586894496172621, 0.0757886875527251, 0.06855747332751096, 0.04204302116839245, 0.07741107535966417, 0.046122167654410684, 0.07785330792054829, 0.02595110264018276, 0.02595110264018276, 0.1297555132009138, 0.10380441056073104, 0.10380441056073104, 0.544973155443838, 0.9136102889463338, 0.9389470575235707, 0.9490770336232673, 0.7960345825664666, 0.9280852418834091, 0.02127031702622573, 0.12322114691054904, 0.051342144546062105, 0.10635158513112865, 0.06454441028647807, 0.06821170632548251, 0.09461623780631445, 0.07994705365029671, 0.09828353384531889, 0.06161057345527452, 0.0740793799878896, 0.02640453148083194, 0.025671072273031052, 0.10268428909212421, 0.09556516402760706, 0.11921015306536552, 0.025615404790904985, 0.11921015306536552, 0.07832402618757486, 0.15664805237514973, 0.040886126877790654, 0.0487677898903768, 0.03842310718635748, 0.04285654263093719, 0.06797934348355554, 0.06009768047096939, 0.07487579861956842, 0.032019255988631236, 0.069843356390584, 0.069843356390584, 0.7682769202964241, 0.069843356390584, 0.9670539412239291, 0.08214346665031798, 0.09970517331348941, 0.0759118933182249, 0.0662812799868083, 0.08101045331721014, 0.0696803199861318, 0.030024853327357607, 0.13142954664050877, 0.05495114665572996, 0.12406495997530785, 0.03285738666012719, 0.07307935998545531, 0.047586559990529034, 0.031157866660465442, 0.9133632829881488, 0.07533179367299649, 0.06327870668531706, 0.10245123939527523, 0.11902423400333445, 0.18079630481519157, 0.12806404924409404, 0.042185804456878036, 0.036159260963038314, 0.018079630481519157, 0.06026543493839719, 0.030132717469198596, 0.027119445722278736, 0.0557455273180174, 0.06026543493839719, 0.06352175092322271, 0.012704350184644542, 0.025408700369289085, 0.10163480147715634, 0.038113050553933624, 0.06352175092322271, 0.13974785203108997, 0.31760875461611354, 0.16515655240037905, 0.07622610110786725, 0.16857980621002563, 0.08594264630315034, 0.06445698472736275, 0.05949875513295023, 0.10742830787893791, 0.04958229594412519, 0.06445698472736275, 0.14544140143610057, 0.06776247112363776, 0.03636035035902514, 0.0264438911702001, 0.05619326873667522, 0.01818017517951257, 0.0512350391422627, 0.06891930245258178, 0.11630132288873175, 0.07322675885586814, 0.07538048705751133, 0.049535748637793156, 0.2218340047692476, 0.019383553814788627, 0.03445965122629089, 0.04522829223450679, 0.07538048705751133, 0.04307456403286362, 0.06891930245258178, 0.0559969332427227, 0.0559969332427227, 1.0081223603567366, 1.0161991760789413, 0.9597162841355236, 0.6870684496324388, 0.08588355620405486, 0.08588355620405486, 0.08588355620405486, 0.010116169572996148, 0.06069701743797689, 0.04046467829198459, 0.19220722188692682, 0.09104552615696533, 0.04046467829198459, 0.020232339145992297, 0.05058084786498074, 0.3136012567628806, 0.06069701743797689, 0.020232339145992297, 0.10116169572996148, 0.08975783685825235, 0.13055685361200342, 0.008159803350750214, 0.016319606701500428, 0.11423724691050301, 0.13055685361200342, 0.3590313474330094, 0.057118623455251503, 0.016319606701500428, 0.016319606701500428, 0.008159803350750214, 0.008159803350750214, 0.032639213403000855, 0.05739854954079294, 0.05739854954079294, 0.8609782431118941, 0.9867404771180769, 0.9593682558543964, 0.07730860990567531, 0.08491273547016796, 0.07097183860193143, 0.11532923772813858, 0.11025982068514346, 0.15841928259359694, 0.07477390138417775, 0.029149147997221837, 0.029149147997221837, 0.04942681616920225, 0.07097183860193143, 0.024079730954226736, 0.026614439475724287, 0.07984331842717286, 0.9716867954024461, 1.0058339687701987, 0.986535457050065, 0.06436661722867076, 0.06436661722867076, 0.4720218596769189, 0.10727769538111794, 0.04291107815244717, 0.04291107815244717, 0.04291107815244717, 0.021455539076223586, 0.08582215630489434, 0.04291107815244717, 0.03557695896129966, 0.1517950249015452, 0.0972436878275524, 0.06403852613033938, 0.03557695896129966, 0.014230783584519862, 0.10435907961981232, 0.11858986320433218, 0.028461567169039723, 0.011858986320433218, 0.07115391792259931, 0.007115391792259931, 0.2442951182009243, 0.014230783584519862, 0.9548822658063336, 0.9319321466179511, 0.9140614096754299, 0.02788293888068985, 0.02788293888068985, 0.19518057216482895, 0.5297758387331072, 0.0557658777613797, 0.08364881664206955, 0.0557658777613797, 0.06678772022990095, 0.0683779040448986, 0.14470672716478541, 0.08905029363986795, 0.10495213178984436, 0.04134477918993869, 0.08268955837987738, 0.031803676299952836, 0.14470672716478541, 0.04293496300493633, 0.019082205779971703, 0.022262573409966988, 0.08109937456487974, 0.06360735259990567, 0.9762851173589596, 0.96264636722853, 0.9659426169101561, 0.09040259110548238, 0.09040259110548238, 0.6328181377383766, 0.09040259110548238, 0.9642847561587554, 0.9624525039572022, 0.051448316790429466, 0.051448316790429466, 0.8746213854373008, 0.9289604461401527, 0.8277339088462231, 0.06367183914201716, 0.06367183914201716, 0.1040596327645377, 0.008671636063711475, 0.01734327212742295, 0.3815519868033049, 0.008671636063711475, 0.008671636063711475, 0.026014908191134424, 0.19077599340165244, 0.008671636063711475, 0.05202981638226885, 0.11273126882824917, 0.07804472457340327], \"Term\": [\"  \", \"  \", \"  \", \"  \", \"  \", \"  \", \"  \", \"  \", \"  \", \"  \", \"  \", \"  \", \"  \", \"  \", \"   \", \"   \", \"   \", \"   \", \"   \", \"   \", \"   \", \"   \", \"   \", \"   \", \"   \", \"   \", \"   \", \"   \", \"    \", \"    \", \"    \", \"    \", \"    \", \"    \", \"    \", \"    \", \"    \", \"    \", \"    \", \"    \", \"    \", \"    \", \"     \", \"     \", \"     \", \"     \", \"     \", \"     \", \"     \", \"     \", \"     \", \"     \", \"     \", \"     \", \"     \", \"     \", \"           \", \"           \", \"           \", \"           \", \"           \", \"           \", \"           \", \"           \", \"           \", \"           \", \"             \", \"             \", \"             \", \"             \", \"             \", \"             \", \"             \", \"-blinde\", \"00\", \"1-no\", \"106\", \"13\", \"13\", \"13\", \"13\", \"13\", \"1300\", \"150\", \"150\", \"150\", \"150\", \"150\", \"19\", \"19\", \"19\", \"19\", \"19\", \"19\", \"19\", \"19\", \"1millon\", \"2-no\", \"2400\", \"2500\", \"2500\", \"280\", \"3-los\", \"33%\", \"4-\", \"4-\", \"4-\", \"4-la\", \"4200\", \"5-\", \"5-la\", \"500\", \"500\", \"500\", \"500\", \"500\", \"500\", \"500\", \"500\", \"500mil\", \"6-\", \"6-duque\", \"62\", \"71\", \"8000\", \"95\", \"97%\", \"aaa\", \"abrir\", \"abrir\", \"abrir\", \"abrir\", \"abrir\", \"abrir\", \"abrir\", \"abrir\", \"abrir\", \"abrir\", \"abrir\", \"abrir\", \"abrir\", \"abrir\", \"abrirle\", \"abrirle\", \"abrirle\", \"abrirle\", \"abstener\", \"abuelitos\", \"acabar\", \"acabar\", \"acabar\", \"acabar\", \"acabar\", \"acabar\", \"acabar\", \"acabar\", \"acabar\", \"acabar\", \"acabar\", \"acabar\", \"acabar\", \"acabar\", \"acabe\", \"acabe\", \"acabe\", \"acabe\", \"acabe\", \"acabe\", \"acabe\", \"acechar\", \"aceptable\", \"acogerlos\", \"acorralado\", \"actuar\", \"actuar\", \"actuar\", \"actuar\", \"actuar\", \"actuar\", \"actuar\", \"actuar\", \"actuar\", \"actuar\", \"actuar\", \"actuar\", \"ac\\u00e1\", \"ac\\u00e1\", \"ac\\u00e1\", \"ac\\u00e1\", \"ac\\u00e1\", \"ac\\u00e1\", \"ac\\u00e1\", \"ac\\u00e1\", \"ac\\u00e1\", \"ac\\u00e1\", \"ac\\u00e1\", \"ac\\u00e1\", \"ac\\u00e1\", \"ac\\u00e1\", \"adjuntos\", \"adoptivo\", \"adornar\", \"adulador\", \"agalla\", \"agalla\", \"agh\", \"agilizar\", \"agosto\", \"agosto\", \"agosto\", \"agradable\", \"agradable\", \"agradable\", \"agradable\", \"agrupar\", \"aguantar\", \"aguantar\", \"aguantar\", \"aguantar\", \"aguantar\", \"aguantar\", \"aguantar\", \"aguantar\", \"aguantar\", \"aguantar\", \"aguantar\", \"aguantar\", \"aguantar\", \"aguantar\", \"aguardiente\", \"ahora\", \"ahora\", \"ahora\", \"ahora\", \"ahora\", \"ahora\", \"ahora\", \"ahora\", \"ahora\", \"ahora\", \"ahora\", \"ahora\", \"ahora\", \"ahora\", \"ajajaja\", \"ajajajajaj\", \"albino\", \"alcalde\", \"alcalde\", \"alcalde\", \"alcalde\", \"alcalde\", \"alcalde\", \"alcalde\", \"alcalde\", \"alcalde\", \"alcalde\", \"alcalde\", \"alcalde\", \"alcalde\", \"alcaldesa\", \"alcaldesa\", \"alcaldesa\", \"alcaldesa\", \"alcaldesa\", \"alcaldesa\", \"alcaldesa\", \"alcaldesa\", \"alcaldesa\", \"alcaldesa\", \"alcaldesa\", \"alcaldesa\", \"alcaldesa\", \"alcaldesa\", \"alem\\u00e1n\", \"alem\\u00e1n\", \"alem\\u00e1n\", \"alem\\u00e1n\", \"alem\\u00e1n\", \"alem\\u00e1n\", \"alem\\u00e1n\", \"alem\\u00e1n\", \"alguien\", \"alguien\", \"alguien\", \"alguien\", \"alguien\", \"alguien\", \"alguien\", \"alguien\", \"alguien\", \"alguien\", \"alguien\", \"alguien\", \"alguien\", \"alien\", \"alimentarse\", \"alivio\", \"allanar\", \"allanar\", \"allanar\", \"all\\u00e1\", \"all\\u00e1\", \"all\\u00e1\", \"all\\u00e1\", \"all\\u00e1\", \"all\\u00e1\", \"all\\u00e1\", \"all\\u00e1\", \"all\\u00e1\", \"all\\u00e1\", \"all\\u00e1\", \"all\\u00e1\", \"all\\u00e1\", \"all\\u00e1\", \"altivo\", \"alto\", \"alto\", \"alto\", \"alto\", \"alto\", \"alto\", \"alto\", \"alto\", \"alto\", \"alto\", \"alto\", \"alto\", \"alto\", \"amargar\", \"amaz\\u00f3nico\", \"ambos\", \"ambos\", \"ambos\", \"ambos\", \"ambos\", \"ambos\", \"ambulante\", \"ambulante\", \"ambulante\", \"ambulante\", \"ambulante\", \"ambulante\", \"ambulante\", \"ambulante\", \"ambulante\", \"ambulante\", \"ambulante\", \"ambulante\", \"amenaza\", \"amenaza\", \"amenaza\", \"amenaza\", \"amenaza\", \"amenaza\", \"amenaza\", \"amenaza\", \"amenaza\", \"amenaza\", \"americano\", \"americano\", \"americano\", \"andar\", \"andar\", \"andar\", \"andar\", \"andar\", \"andar\", \"andar\", \"andar\", \"andar\", \"andar\", \"andar\", \"andar\", \"andar\", \"andar\", \"andresiniesta\", \"ansioso\", \"antecedente\", \"antecedente\", \"antecedente\", \"antecedente\", \"antecedente\", \"antecedente\", \"antecedente\", \"anteponer\", \"apagar\", \"apagar\", \"apagar\", \"apag\\u00f3n\", \"aparentar\", \"aparicion\", \"apariencia\", \"apertura\", \"apertura\", \"apodo\", \"apodo\", \"apostado\", \"apostar\", \"aprovechado\", \"aprovechado\", \"aprovechado\", \"aprovechado\", \"aprovechado\", \"aprovechado\", \"aprovechado\", \"aprovechar\", \"aprovechar\", \"aprovechar\", \"aprovechar\", \"aprovechar\", \"aprovechar\", \"aprovechar\", \"aprovechar\", \"aprovechar\", \"aprovechar\", \"aprovechar\", \"aprovechar\", \"aprovechar\", \"aprovechar\", \"aquii\", \"aqu\\u00ed\", \"aqu\\u00ed\", \"aqu\\u00ed\", \"aqu\\u00ed\", \"aqu\\u00ed\", \"aqu\\u00ed\", \"aqu\\u00ed\", \"aqu\\u00ed\", \"aqu\\u00ed\", \"aqu\\u00ed\", \"aqu\\u00ed\", \"aqu\\u00ed\", \"aqu\\u00ed\", \"aqu\\u00ed\", \"aqu\\u00eddeportenlos\", \"araucano\", \"arc\", \"archivo\", \"arraigado\", \"arreciar\", \"arrendatario\", \"arrendatario\", \"arrendatario\", \"arto\", \"ascendiente\", \"asco\", \"asco\", \"asco\", \"asco\", \"asco\", \"asco\", \"asco\", \"asco\", \"asco\", \"asco\", \"asco\", \"asco\", \"asco\", \"asignarle\", \"asqueroso\", \"asqueroso\", \"asqueroso\", \"asqueroso\", \"asqueroso\", \"asqueroso\", \"asqueroso\", \"asqueroso\", \"asqueroso\", \"asqueroso\", \"asqueroso\", \"asqueroso\", \"asqueroso\", \"asqueroso\", \"as\\u00ed\", \"as\\u00ed\", \"as\\u00ed\", \"as\\u00ed\", \"as\\u00ed\", \"as\\u00ed\", \"as\\u00ed\", \"as\\u00ed\", \"as\\u00ed\", \"as\\u00ed\", \"as\\u00ed\", \"as\\u00ed\", \"as\\u00ed\", \"as\\u00ed\", \"atentamente\", \"atracados\", \"atracar\", \"atracar\", \"atracar\", \"atracar\", \"atracar\", \"atracar\", \"atracar\", \"atracar\", \"atracar\", \"atracar\", \"atracar\", \"atracar\", \"atracar\", \"atracar\", \"atraco\", \"atraco\", \"atraco\", \"atraco\", \"atraco\", \"atraco\", \"atraco\", \"atraco\", \"atraco\", \"atraco\", \"atte\", \"autoridadse\", \"avispado\", \"ayuda\", \"ayuda\", \"ayuda\", \"ayuda\", \"ayuda\", \"ayuda\", \"ayuda\", \"ayuda\", \"ayuda\", \"ayuda\", \"ayuda\", \"ayuda\", \"ayuda\", \"ayuda\", \"ayudar\", \"ayudar\", \"ayudar\", \"ayudar\", \"ayudar\", \"ayudar\", \"ayudar\", \"ayudar\", \"ayudar\", \"ayudar\", \"ayudar\", \"ayudar\", \"ayudar\", \"ayudar\", \"a\\u00f1o\", \"a\\u00f1o\", \"a\\u00f1o\", \"a\\u00f1o\", \"a\\u00f1o\", \"a\\u00f1o\", \"a\\u00f1o\", \"a\\u00f1o\", \"a\\u00f1o\", \"a\\u00f1o\", \"a\\u00f1o\", \"a\\u00f1o\", \"a\\u00f1o\", \"a\\u00f1o\", \"babe\", \"back\", \"bacteria\", \"bago\", \"bajar\", \"bajar\", \"bajar\", \"bajar\", \"bajar\", \"bajar\", \"bajar\", \"bajar\", \"bajar\", \"bajar\", \"bajita\", \"bala\", \"bala\", \"bala\", \"bala\", \"bala\", \"bala\", \"bala\", \"bala\", \"bala\", \"bala\", \"bala\", \"bala\", \"bala\", \"balsero\", \"barata\", \"barata\", \"barata\", \"barata\", \"barata\", \"barra\", \"barra\", \"barra\", \"barra\", \"barra\", \"basar\", \"bene\", \"beneficiado\", \"berraquitos\", \"berraquitos\", \"berraquitos\", \"bgta\", \"bgta\", \"bgta\", \"biblia\", \"bien\", \"bien\", \"bien\", \"bien\", \"bien\", \"bien\", \"bien\", \"bien\", \"bien\", \"bien\", \"bien\", \"bien\", \"bien\", \"bien\", \"bienvenido\", \"bienvenido\", \"bienvenido\", \"bienvenido\", \"bienvenido\", \"bisicletas\", \"bla\", \"bla\", \"bla\", \"bla\", \"bla\", \"bla\", \"bla\", \"bla\", \"bla\", \"blanquita\", \"bobazo\", \"bobo\", \"bobo\", \"bobo\", \"bobo\", \"bobo\", \"bobo\", \"bobo\", \"bobo\", \"bobo\", \"bobo\", \"bobo\", \"bobo\", \"bobo\", \"bogota\", \"bogota\", \"bogota\", \"bogota\", \"bogota\", \"bogota\", \"bogota\", \"bogota\", \"bogota\", \"bogota\", \"bogota\", \"bogota\", \"bogota\", \"bogota\", \"bogot\\u00e1\", \"bogot\\u00e1\", \"bogot\\u00e1\", \"bogot\\u00e1\", \"bogot\\u00e1\", \"bogot\\u00e1\", \"bogot\\u00e1\", \"bogot\\u00e1\", \"bogot\\u00e1\", \"bogot\\u00e1\", \"bogot\\u00e1\", \"bogot\\u00e1\", \"bogot\\u00e1\", \"bogot\\u00e1\", \"boyacos\", \"boyac\\u00e1\", \"boyac\\u00e1\", \"boyac\\u00e1\", \"boyac\\u00e1\", \"boyac\\u00e1\", \"boyac\\u00e1\", \"boyac\\u00e1\", \"boyac\\u00e1\", \"boyac\\u00e1\", \"boyac\\u00e1\", \"branse\", \"brazo\", \"brazo\", \"brazo\", \"brazo\", \"brazo\", \"brazo\", \"brazo\", \"brutalmente\", \"bucaramanga\", \"bucaramanga\", \"bucaramanga\", \"bucaramanga\", \"bucaramanga\", \"bucaramanga\", \"bucaramanga\", \"bucaramanga\", \"bucaramanga\", \"bucaramanga\", \"bucaramanga\", \"bucaramanga\", \"bucaramanga\", \"bueno\", \"bueno\", \"bueno\", \"bueno\", \"bueno\", \"bueno\", \"bueno\", \"bueno\", \"bueno\", \"bueno\", \"bueno\", \"bueno\", \"bueno\", \"bueno\", \"buffet\", \"bullero\", \"buque\", \"burocr\\u00e1tico\", \"busetero\", \"bvc\", \"cachones\", \"cachupe\", \"cada\", \"cada\", \"cada\", \"cada\", \"cada\", \"cada\", \"cada\", \"cada\", \"cada\", \"cada\", \"cada\", \"cada\", \"cada\", \"cada\", \"caerse\", \"calladito\", \"callate\", \"callate\", \"calle\", \"calle\", \"calle\", \"calle\", \"calle\", \"calle\", \"calle\", \"calle\", \"calle\", \"calle\", \"calle\", \"calle\", \"calle\", \"calle\", \"callejeras\", \"callejeras\", \"callese\", \"callese\", \"callese\", \"callese\", \"callese\", \"callese\", \"calumniador\", \"canserbero\", \"canserbero\", \"cansona\", \"cante\", \"cantidad\", \"cantidad\", \"cantidad\", \"cantidad\", \"cantidad\", \"cantidad\", \"cantidad\", \"cantidad\", \"cantidad\", \"cantidad\", \"cantidad\", \"cantidad\", \"cantidad\", \"cantidad\", \"capitolio\", \"capturada\", \"capturar\", \"capturar\", \"capturar\", \"capturar\", \"capturar\", \"capturar\", \"capturar\", \"capturar\", \"capturar\", \"capturar\", \"cara\", \"cara\", \"cara\", \"cara\", \"cara\", \"cara\", \"cara\", \"cara\", \"cara\", \"cara\", \"cara\", \"cara\", \"cara\", \"cara\", \"caracter\", \"caracter\", \"carcajada\", \"carechimbas\", \"carnicero\", \"car\\u00e1cter\", \"car\\u00e1cter\", \"car\\u00e1cter\", \"car\\u00e1cter\", \"casacarro\", \"caso\", \"caso\", \"caso\", \"caso\", \"caso\", \"caso\", \"caso\", \"caso\", \"caso\", \"caso\", \"caso\", \"caso\", \"caso\", \"caso\", \"casualidad\", \"casualidad\", \"casualidad\", \"casualidad\", \"casualidad\", \"casualidad\", \"casualidad\", \"casualidad\", \"casualidad\", \"casualidad\", \"categoria\", \"ceja\", \"ceja\", \"ceja\", \"censar\", \"central\", \"central\", \"central\", \"central\", \"central\", \"central\", \"cerrar\", \"cerrar\", \"cerrar\", \"cerrar\", \"cerrar\", \"cerrar\", \"cerrar\", \"cerrar\", \"cerrar\", \"cerrar\", \"cerrar\", \"cerrar\", \"cerrar\", \"cerrar\", \"certificado\", \"challenge\", \"chao\", \"chao\", \"chao\", \"chao\", \"chao\", \"chernobyl\", \"chia\", \"chimoltrufia\", \"chite\", \"chovinista\", \"chuchento\", \"chuzma\", \"cientos\", \"cientos\", \"cientos\", \"cientos\", \"cientos\", \"cientos\", \"cientos\", \"cientos\", \"cientos\", \"cientos\", \"cientos\", \"cientos\", \"cierre\", \"cierre\", \"cierre\", \"cierre\", \"cierre\", \"cierre\", \"cierre\", \"cierre\", \"cierre\", \"cierre\", \"cierre\", \"cierre\", \"ciertoy\", \"circular\", \"ciudad\", \"ciudad\", \"ciudad\", \"ciudad\", \"ciudad\", \"ciudad\", \"ciudad\", \"ciudad\", \"ciudad\", \"ciudad\", \"ciudad\", \"ciudad\", \"ciudad\", \"ciudad\", \"ciudadano\", \"ciudadano\", \"ciudadano\", \"ciudadano\", \"ciudadano\", \"ciudadano\", \"ciudadano\", \"ciudadano\", \"ciudadano\", \"ciudadano\", \"ciudadano\", \"ciudadano\", \"ciudadano\", \"ciudadano\", \"ciudadse\", \"clasificar\", \"clasificar\", \"clasismo\", \"clasismo\", \"clasismo\", \"clasismo\", \"claudia\", \"claudia\", \"claudia\", \"claudia\", \"claudia\", \"claudia\", \"claudia\", \"claudia\", \"claudia\", \"claudia\", \"claudia\", \"claudia\", \"claudia\", \"clienta\", \"coliseo\", \"colombia\", \"colombia\", \"colombia\", \"colombia\", \"colombia\", \"colombia\", \"colombia\", \"colombia\", \"colombia\", \"colombia\", \"colombia\", \"colombia\", \"colombia\", \"colombia\", \"colombiabandas\", \"colombiano\", \"colombiano\", \"colombiano\", \"colombiano\", \"colombiano\", \"colombiano\", \"colombiano\", \"colombiano\", \"colombiano\", \"colombiano\", \"colombiano\", \"colombiano\", \"colombiano\", \"colombiano\", \"colombianosfuera\", \"colores\", \"come\", \"come\", \"come\", \"come\", \"comediantes\", \"comer\", \"comer\", \"comer\", \"comer\", \"comer\", \"comer\", \"comer\", \"comer\", \"comer\", \"comer\", \"comer\", \"comer\", \"comer\", \"comer\", \"competente\", \"complementar\", \"componer\", \"comporte\", \"compraventa\", \"comunismo\", \"comunismo\", \"comunismo\", \"comunismo\", \"comunismo\", \"comunismo\", \"comunismo\", \"comunismo\", \"comunismo\", \"comunismo\", \"comunismo\", \"concientes\", \"condon\", \"cond\\u00f3n\", \"cond\\u00f3n\", \"cond\\u00f3n\", \"coneja\", \"confiar\", \"confiar\", \"confiar\", \"confiar\", \"confiar\", \"confundido\", \"congresistas\", \"congresistas\", \"congresistas\", \"congresistas\", \"consolidar\", \"contagiarte\", \"contarle\", \"contradecir\", \"contradecir\", \"control\", \"control\", \"control\", \"control\", \"control\", \"control\", \"control\", \"control\", \"control\", \"control\", \"control\", \"control\", \"control\", \"control\", \"convencernos\", \"conversar\", \"corderito\", \"coreano\", \"corre\", \"cos\", \"cosa\", \"cosa\", \"cosa\", \"cosa\", \"cosa\", \"cosa\", \"cosa\", \"cosa\", \"cosa\", \"cosa\", \"cosa\", \"cosa\", \"cosa\", \"cosa\", \"coste\\u00f1o\", \"coste\\u00f1o\", \"coste\\u00f1o\", \"coste\\u00f1o\", \"coste\\u00f1o\", \"coste\\u00f1o\", \"coste\\u00f1o\", \"coste\\u00f1o\", \"coste\\u00f1o\", \"coste\\u00f1o\", \"coste\\u00f1o\", \"coste\\u00f1o\", \"coste\\u00f1o\", \"coste\\u00f1o\", \"covid\", \"covid\", \"covid\", \"covid\", \"covid\", \"covid\", \"covid\", \"covid\", \"covid\", \"covid\", \"covid\", \"covid\", \"covid\", \"co\\u00f1o\", \"co\\u00f1o\", \"co\\u00f1o\", \"co\\u00f1o\", \"co\\u00f1o\", \"co\\u00f1o\", \"co\\u00f1o\", \"co\\u00f1o\", \"creaci\\u00f3n\", \"creer\", \"creer\", \"creer\", \"creer\", \"creer\", \"creer\", \"creer\", \"creer\", \"creer\", \"creer\", \"creer\", \"creer\", \"creer\", \"creer\", \"creerlo\", \"cruda\", \"cruda\", \"cruda\", \"cr\\u00eda\", \"csale\", \"cuadrito\", \"cuadrito\", \"cuadrito\", \"cuadrito\", \"cubanos\", \"cubanos\", \"cubanos\", \"cubanos\", \"cubanos\", \"cubanos\", \"cubanos\", \"cubanos\", \"cubanos\", \"cubanos\", \"cubanos\", \"cubrir\", \"cubrir\", \"cubrir\", \"cubrir\", \"cubrir\", \"cubrir\", \"cubrir\", \"culear\", \"culear\", \"culear\", \"culear\", \"cu\\u00f1ada\", \"cv\", \"cv\", \"cv\", \"c\\u00e9sar\", \"c\\u00f3mo\", \"c\\u00f3mo\", \"c\\u00f3mo\", \"c\\u00f3mo\", \"c\\u00f3mo\", \"c\\u00f3mo\", \"c\\u00f3mo\", \"c\\u00f3mo\", \"c\\u00f3mo\", \"c\\u00f3mo\", \"c\\u00f3mo\", \"c\\u00f3mo\", \"c\\u00f3mo\", \"c\\u00f3mo\", \"d1\", \"d1\", \"d1\", \"d1\", \"d1\", \"da\", \"da\", \"da\", \"da\", \"da\", \"da\", \"da\", \"da\", \"da\", \"da\", \"da\", \"da\", \"da\", \"da\", \"dar\", \"dar\", \"dar\", \"dar\", \"dar\", \"dar\", \"dar\", \"dar\", \"dar\", \"dar\", \"dar\", \"dar\", \"dar\", \"dar\", \"darles\", \"darles\", \"darles\", \"darles\", \"darles\", \"darles\", \"darles\", \"darles\", \"darles\", \"darles\", \"darles\", \"darles\", \"darles\", \"da\\u00f1ar\", \"da\\u00f1ar\", \"da\\u00f1ar\", \"da\\u00f1ar\", \"da\\u00f1ar\", \"da\\u00f1ar\", \"da\\u00f1ar\", \"da\\u00f1ar\", \"da\\u00f1ar\", \"da\\u00f1ar\", \"da\\u00f1ar\", \"da\\u00f1ar\", \"da\\u00f1ar\", \"da\\u00f1ar\", \"da\\u00f1o\", \"da\\u00f1o\", \"da\\u00f1o\", \"da\\u00f1o\", \"da\\u00f1o\", \"da\\u00f1o\", \"da\\u00f1o\", \"da\\u00f1o\", \"da\\u00f1o\", \"da\\u00f1o\", \"da\\u00f1o\", \"da\\u00f1o\", \"da\\u00f1o\", \"da\\u00f1o\", \"dbemos\", \"dd\", \"deacuerdo\", \"debe\", \"debe\", \"debe\", \"debe\", \"debe\", \"debe\", \"debe\", \"debe\", \"debe\", \"debe\", \"debe\", \"debe\", \"debe\", \"debe\", \"deben\", \"deben\", \"deben\", \"deben\", \"deben\", \"deben\", \"deben\", \"deben\", \"deben\", \"deben\", \"deben\", \"deben\", \"deben\", \"deben\", \"deber\\u00e1s\", \"deber\\u00edamos\", \"deber\\u00edamos\", \"deber\\u00edamos\", \"deber\\u00edamos\", \"deber\\u00edamos\", \"deber\\u00edamos\", \"deber\\u00edamos\", \"deber\\u00edamos\", \"deber\\u00edamos\", \"deber\\u00edamos\", \"deber\\u00edamos\", \"deber\\u00edamos\", \"debes\", \"debes\", \"debes\", \"debes\", \"debes\", \"debes\", \"debiera\", \"decir\", \"decir\", \"decir\", \"decir\", \"decir\", \"decir\", \"decir\", \"decir\", \"decir\", \"decir\", \"decir\", \"decir\", \"decir\", \"decir\", \"decorar\", \"defender\", \"defender\", \"defender\", \"defender\", \"defender\", \"defender\", \"defender\", \"defender\", \"defender\", \"defender\", \"defender\", \"defender\", \"defender\", \"defender\", \"dejar\", \"dejar\", \"dejar\", \"dejar\", \"dejar\", \"dejar\", \"dejar\", \"dejar\", \"dejar\", \"dejar\", \"dejar\", \"dejar\", \"dejar\", \"dejar\", \"dejarla\", \"dejarlos\", \"dejarlos\", \"dejarlos\", \"dejarlos\", \"dejarlos\", \"dejarlos\", \"dejarlos\", \"dejarlos\", \"deliberadamente\", \"delincuencia\", \"delincuencia\", \"delincuencia\", \"delincuencia\", \"delincuencia\", \"delincuencia\", \"delincuencia\", \"delincuencia\", \"delincuencia\", \"delincuencia\", \"delincuencia\", \"delincuencia\", \"delincuencia\", \"delincuencia\", \"delincuente\", \"delincuente\", \"delincuente\", \"delincuente\", \"delincuente\", \"delincuente\", \"delincuente\", \"delincuente\", \"delincuente\", \"delincuente\", \"delincuente\", \"delincuente\", \"delincuente\", \"delincuente\", \"delincuentes\", \"delincuentes\", \"delincuentes\", \"delincuentes\", \"delincuentes\", \"delincuentes\", \"delincuentes\", \"delincuentes\", \"delincuentes\", \"delincuentes\", \"delincuentes\", \"delincuentes\", \"delincuentes\", \"delincuentes\", \"delinquiendoasesinar\", \"delinquir\", \"delinquir\", \"delinquir\", \"delinquir\", \"delinquir\", \"delinquir\", \"delinquir\", \"delinquir\", \"delinquir\", \"delinquir\", \"delinquir\", \"delinquir\", \"delinquir\", \"delinquir\", \"delinquirque\", \"dem\\u00f3crata\", \"dem\\u00f3crata\", \"dem\\u00f3crata\", \"dem\\u00f3crata\", \"denigrante\", \"denominado\", \"denotar\", \"denuncia\", \"denuncia\", \"denuncia\", \"denuncia\", \"deportados\", \"deportados\", \"deportados\", \"deportados\", \"deportados\", \"deportados\", \"deportados\", \"deportados\", \"deportados\", \"deportados\", \"deportados\", \"deportar\", \"deportar\", \"deportar\", \"deportar\", \"deportar\", \"deportar\", \"deportar\", \"deportar\", \"deportar\", \"deportar\", \"deportar\", \"deportar\", \"deportar\", \"deportar\", \"deportarlos\", \"deportarlos\", \"deportarlos\", \"deportarlos\", \"deportarlos\", \"deportarlos\", \"deportarlos\", \"deportarlos\", \"deportarlos\", \"deportarlos\", \"deportarlos\", \"deportarlos\", \"deportarlos\", \"derrumbar\", \"derrumbar\", \"desacreditar\", \"desadactados\", \"desaf\\u00edo\", \"desaf\\u00edo\", \"desanimar\", \"desatados\", \"desbandado\", \"desbandado\", \"desbandado\", \"desbloquear\", \"descargar\", \"descenso\", \"descolombianizar\", \"desechable\", \"desempleo\", \"desempleo\", \"desempleo\", \"desempleo\", \"desempleo\", \"desempleo\", \"desempleo\", \"desempleo\", \"desempleo\", \"desempleo\", \"desempleo\", \"desempleo\", \"desempleo\", \"desempleo\", \"desfalcar\", \"desgarrador\", \"desgarrar\", \"desgraciadamente\", \"desgraciadamente\", \"desgraciadamente\", \"desgraciadamente\", \"desgraciadamente\", \"desgraciado\", \"desgraciado\", \"desgraciado\", \"desgraciado\", \"desgraciado\", \"desgraciado\", \"desgraciado\", \"desgraciado\", \"desgraciado\", \"desgraciado\", \"desgraciado\", \"desgraciado\", \"desgraciado\", \"desinfeccion\", \"desmadres\", \"desorientado\", \"despreciable\", \"despreciable\", \"despues\", \"despues\", \"despues\", \"despues\", \"despues\", \"despues\", \"despues\", \"despues\", \"despues\", \"despues\", \"despu\\u00e9s\", \"despu\\u00e9s\", \"despu\\u00e9s\", \"despu\\u00e9s\", \"despu\\u00e9s\", \"despu\\u00e9s\", \"despu\\u00e9s\", \"despu\\u00e9s\", \"despu\\u00e9s\", \"despu\\u00e9s\", \"despu\\u00e9s\", \"despu\\u00e9s\", \"despu\\u00e9s\", \"despu\\u00e9s\", \"desquite\", \"desviar\", \"desviar\", \"desviar\", \"detallar\", \"detonante\", \"devolver\", \"devolver\", \"devolver\", \"devolver\", \"devolver\", \"devolver\", \"devolver\", \"devolver\", \"devolver\", \"devolver\", \"devolver\", \"devolver\", \"devolver\", \"devolver\", \"devuelvanlos\", \"devuelvanlos\", \"devuelvanlos\", \"diab\\u00f3lico\", \"diga\", \"digalo\", \"diganlo\", \"diganlo\", \"dilo\", \"diomedes\", \"dios\", \"dios\", \"dios\", \"dios\", \"dios\", \"dios\", \"dios\", \"dios\", \"dios\", \"dios\", \"dios\", \"dios\", \"dios\", \"dios\", \"dirada\", \"direccionar\", \"discutirlo\", \"diseminado\", \"disimuladamente\", \"distinguir\", \"distinguir\", \"distinguir\", \"distinguir\", \"distinguir\", \"distinguir\", \"distinguir\", \"divertido\", \"divertirte\", \"dividir\", \"dividir\", \"dm\", \"dollar\", \"duela\", \"duela\", \"duela\", \"duela\", \"duela\", \"duela\", \"duela\", \"duela\", \"due\\u00f1o\", \"due\\u00f1o\", \"due\\u00f1o\", \"due\\u00f1o\", \"due\\u00f1o\", \"due\\u00f1o\", \"due\\u00f1o\", \"due\\u00f1o\", \"due\\u00f1o\", \"due\\u00f1o\", \"due\\u00f1o\", \"duque\", \"duque\", \"duque\", \"duque\", \"duque\", \"duque\", \"duque\", \"duque\", \"duque\", \"duque\", \"duque\", \"duque\", \"duque\", \"duque\", \"duque-uribe\", \"duro\", \"duro\", \"duro\", \"duro\", \"duro\", \"duro\", \"duro\", \"duro\", \"duro\", \"duro\", \"duro\", \"duro\", \"duro\", \"duro\", \"d\\u00eda\", \"d\\u00eda\", \"d\\u00eda\", \"d\\u00eda\", \"d\\u00eda\", \"d\\u00eda\", \"d\\u00eda\", \"d\\u00eda\", \"d\\u00eda\", \"d\\u00eda\", \"d\\u00eda\", \"d\\u00eda\", \"d\\u00eda\", \"d\\u00eda\", \"d\\u00edaz\", \"d\\u00edgalo\", \"d\\u00edgalo\", \"d\\u00edganlo\", \"d\\u00edganlo\", \"d\\u00edganlo\", \"echese\", \"elimineme\", \"elmundo\", \"elpuente\", \"embarrado\", \"emblem\\u00e1tico\", \"emergencia\", \"emergencia\", \"emergencia\", \"emergencia\", \"emergencia\", \"emergencia\", \"empleo\", \"empleo\", \"empleo\", \"empleo\", \"empleo\", \"empleo\", \"empleo\", \"empleo\", \"empleo\", \"empleo\", \"empleo\", \"empleo\", \"empleo\", \"empleo\", \"emular\", \"encartado\", \"encartar\", \"enloquecer\", \"enpezar\", \"enterrar\", \"entones\", \"entrado\", \"entrar\", \"entrar\", \"entrar\", \"entrar\", \"entrar\", \"entrar\", \"entrar\", \"entrar\", \"entrar\", \"entrar\", \"entrar\", \"entrar\", \"entrar\", \"entrar\", \"entregado\", \"enviarlo\", \"envien\", \"equilibrio\", \"escoria\", \"escoria\", \"escoria\", \"escoria\", \"escoria\", \"escoria\", \"escoria\", \"escoria\", \"escoria\", \"escoria\", \"escoria\", \"escoria\", \"escritora\", \"escritora\", \"escritora\", \"escritora\", \"escrupuloso\", \"espejo\", \"espejo\", \"esperamossacan\", \"esquivar\", \"estaca\", \"estadio\", \"estadio\", \"estadounidense\", \"estan\", \"estan\", \"estan\", \"estan\", \"estan\", \"estan\", \"estan\", \"estan\", \"estan\", \"estan\", \"estan\", \"estan\", \"estan\", \"estan\", \"estavan\", \"estrago\", \"estrago\", \"estrago\", \"estrago\", \"estrago\", \"est\\u00e1mos\", \"est\\u00e1mos\", \"est\\u00e1mos\", \"everywhere\", \"exacerbar\", \"exigir\", \"exigir\", \"exigir\", \"exigir\", \"exigir\", \"exigir\", \"exigir\", \"exigir\", \"exigir\", \"exigir\", \"exigir\", \"exigir\", \"exigir\", \"exigir\", \"exijir\", \"expedir\", \"expulsar\", \"expulsar\", \"expulsar\", \"expulsar\", \"expulsar\", \"expulsar\", \"expulsar\", \"expulsar\", \"expulsar\", \"expulsar\", \"expulsar\", \"expulsar\", \"expulsar\", \"expulsar\", \"exterminarlos\", \"exterminarlos\", \"extragero\", \"extranjeros\", \"extranjeros\", \"extranjeros\", \"extranjeros\", \"extranjeros\", \"extranjeros\", \"extranjeros\", \"extranjeros\", \"extranjeros\", \"extranjeros\", \"extranjeros\", \"extranjeros\", \"extranjeros\", \"extranjeros\", \"extranjer\\u00eda\", \"ex\\u00edjanle\", \"facatativ\\u00e1\", \"face\", \"fachos\", \"factor\", \"factor\", \"factor\", \"factor\", \"factor\", \"factor\", \"familia\", \"familia\", \"familia\", \"familia\", \"familia\", \"familia\", \"familia\", \"familia\", \"familia\", \"familia\", \"familia\", \"familia\", \"familia\", \"familia\", \"familias-venezolanas-y-cartageneras-invaden-terreno-y-construyen-ranchitos-con-palitos-del-monte\", \"fari\\u00f1ez\", \"fastidiar\", \"fastidiar\", \"fastidiar\", \"fastidiar\", \"fastidiar\", \"fastidiar\", \"fastidiar\", \"fastidiar\", \"fastidiar\", \"faustino\", \"favor\", \"favor\", \"favor\", \"favor\", \"favor\", \"favor\", \"favor\", \"favor\", \"favor\", \"favor\", \"favor\", \"favor\", \"favor\", \"favor\", \"favorest\\u00e1n\", \"fco\", \"fenomeno\", \"fest\\u00edn\", \"ficti\", \"finland\\u00e9s\", \"firmados\", \"firmar\", \"firmar\", \"folclor\", \"franja\", \"free\", \"frontera\", \"frontera\", \"frontera\", \"frontera\", \"frontera\", \"frontera\", \"frontera\", \"frontera\", \"frontera\", \"frontera\", \"frontera\", \"frontera\", \"frontera\", \"frontera\", \"frontero\", \"fugado\", \"fumigacion\", \"fundillo\", \"funesto\", \"furg\\u00f3n\", \"f\\u00e1brica\", \"f\\u00e1brica\", \"f\\u00e1brica\", \"f\\u00e1brica\", \"f\\u00e1brica\", \"gabinete\", \"gallard\\u00eda\", \"gallo\", \"gallo\", \"gallo\", \"gancho\", \"generalizado\", \"generalizado\", \"gente\", \"gente\", \"gente\", \"gente\", \"gente\", \"gente\", \"gente\", \"gente\", \"gente\", \"gente\", \"gente\", \"gente\", \"gente\", \"gente\", \"germ\\u00e1n\", \"germ\\u00e1n\", \"germ\\u00e1n\", \"gobernar\", \"gobernar\", \"gobernar\", \"gobernar\", \"gobernar\", \"gobernar\", \"gobernar\", \"gobernar\", \"gobierno\", \"gobierno\", \"gobierno\", \"gobierno\", \"gobierno\", \"gobierno\", \"gobierno\", \"gobierno\", \"gobierno\", \"gobierno\", \"gobierno\", \"gobierno\", \"gobierno\", \"gobierno\", \"gobiernomillares\", \"gocho\", \"google\", \"grafitis\", \"gran\", \"gran\", \"gran\", \"gran\", \"gran\", \"gran\", \"gran\", \"gran\", \"gran\", \"gran\", \"gran\", \"gran\", \"gran\", \"gran\", \"grande\", \"grande\", \"grande\", \"grande\", \"grande\", \"grande\", \"grande\", \"grande\", \"grande\", \"grande\", \"grande\", \"grande\", \"grande\", \"grande\", \"graterol\", \"gubernamental\", \"gubernamental\", \"gubernamental\", \"guerra\", \"guerra\", \"guerra\", \"guerra\", \"guerra\", \"guerra\", \"guerra\", \"guerra\", \"guerra\", \"guerra\", \"guerra\", \"guerra\", \"guerrear\", \"guevas\", \"guevas\", \"haberlo\", \"hablar\", \"hablar\", \"hablar\", \"hablar\", \"hablar\", \"hablar\", \"hablar\", \"hablar\", \"hablar\", \"hablar\", \"hablar\", \"hablar\", \"hablar\", \"hablar\", \"hablenme\", \"habren\", \"haca\", \"hacendar\", \"hacendar\", \"hacendar\", \"hacendar\", \"hacendar\", \"hacendar\", \"hacendar\", \"hacendar\", \"hacendar\", \"hacendar\", \"hacendar\", \"hacendar\", \"hacendar\", \"hacendar\", \"hacer\", \"hacer\", \"hacer\", \"hacer\", \"hacer\", \"hacer\", \"hacer\", \"hacer\", \"hacer\", \"hacer\", \"hacer\", \"hacer\", \"hacer\", \"hacer\", \"hacerla\", \"hacsr\", \"halcon31\", \"hambre\", \"hambre\", \"hambre\", \"hambre\", \"hambre\", \"hambre\", \"hambre\", \"hambre\", \"hambre\", \"hambre\", \"hambre\", \"hambre\", \"hambre\", \"hambre\", \"hambrientos\", \"hambrientos\", \"hamburguesa\", \"haz\", \"hediondos\", \"hegem\\u00f3nico\", \"hepatitis\", \"heredar\", \"hermanas\", \"hermano\", \"hermano\", \"hermano\", \"hermano\", \"hermano\", \"hermano\", \"hermano\", \"hermano\", \"hermano\", \"hermano\", \"hermano\", \"hermano\", \"hermano\", \"hermano\", \"hijo\", \"hijo\", \"hijo\", \"hijo\", \"hijo\", \"hijo\", \"hijo\", \"hijo\", \"hijo\", \"hijo\", \"hijo\", \"hijo\", \"hijo\", \"hijo\", \"hijue%&$/\", \"hijueputa\", \"hijueputa\", \"hijueputa\", \"hijueputa\", \"hijueputa\", \"hijueputa\", \"hijueputa\", \"hijueputa\", \"hijueputa\", \"hijueputa\", \"hijueputa\", \"hijueputa\", \"hijueputa\", \"hijueputa\", \"hijueputaas\", \"hijueputaas\", \"hijueputas\", \"hijueputas\", \"hijueputas\", \"hijueputas\", \"hijueputas\", \"hijueputas\", \"hijueputas\", \"hijueputas\", \"hijueputas\", \"hijueputas\", \"hijueputas\", \"hijueputas\", \"hijueputicas\", \"hijuepuuta\", \"home\", \"home\", \"home\", \"homof\\u00f3bicos\", \"honrado\", \"honrado\", \"honrado\", \"honrado\", \"hoo\", \"horno\", \"horrendos\", \"hoy\", \"hoy\", \"hoy\", \"hoy\", \"hoy\", \"hoy\", \"hoy\", \"hoy\", \"hoy\", \"hoy\", \"hoy\", \"hoy\", \"hoy\", \"hoy\", \"hp\", \"hp\", \"hp\", \"hp\", \"hp\", \"hp\", \"hp\", \"hp\", \"hp\", \"hp\", \"hp\", \"hp\", \"hp\", \"hp\", \"hp's\", \"hp's\", \"hps\", \"hps\", \"hps\", \"hps\", \"hps\", \"hps\", \"hps\", \"hps\", \"hps\", \"hps\", \"hps\", \"hps\", \"hps\", \"hpta\", \"hpta\", \"hpta\", \"hpta\", \"hpta\", \"hpta\", \"hpta\", \"hpta\", \"hpta\", \"hpta\", \"hpta\", \"hpta\", \"hpta\", \"hpta\", \"hptas\", \"hptas\", \"hptas\", \"hptas\", \"hptas\", \"hptas\", \"hptas\", \"hptas\", \"hptas\", \"hptas\", \"hptas\", \"hptas\", \"hptas\", \"hptas\", \"hueso\", \"huev\\u00f3n\", \"huev\\u00f3n\", \"huev\\u00f3n\", \"humanitaria\", \"humanitaria\", \"humanitaria\", \"humanitaria\", \"humanitaria\", \"humanitaria\", \"humanitaria\", \"humanitaria\", \"humanitaria\", \"humanitaria\", \"humanitaria\", \"humanitaria\", \"humildad\", \"humildad\", \"huyy\", \"idea\", \"idea\", \"idea\", \"idea\", \"idea\", \"idea\", \"idea\", \"idea\", \"idea\", \"idea\", \"idea\", \"idea\", \"ideol\\u00f3gico\", \"igualado\", \"ilegal\", \"ilegal\", \"ilegal\", \"ilegal\", \"ilegal\", \"ilegal\", \"ilegal\", \"ilegal\", \"ilegal\", \"ilegal\", \"ilegal\", \"ilegal\", \"ilegal\", \"ilegal\", \"iluminaci\\u00f3n\", \"impedido\", \"impotencia\", \"impotencia\", \"impotencia\", \"impreso\", \"impuesto\", \"impuesto\", \"impuesto\", \"impuesto\", \"impuesto\", \"impuesto\", \"impuesto\", \"impuesto\", \"impuesto\", \"impuesto\", \"impuesto\", \"impuesto\", \"impuesto\", \"impunemente\", \"impunemente\", \"impunemente\", \"impunemente\", \"impunemente\", \"incomparable\", \"incondicional\", \"increpando:\\u00bfy\", \"incre\\u00edble\", \"incre\\u00edble\", \"incre\\u00edble\", \"incre\\u00edble\", \"incre\\u00edble\", \"incre\\u00edble\", \"incre\\u00edble\", \"incre\\u00edble\", \"incre\\u00edble\", \"incre\\u00edble\", \"incre\\u00edble\", \"incre\\u00edble\", \"indicaci\\u00f3n\", \"indicaci\\u00f3n\", \"indiscutible\", \"indocumentados\", \"indocumentados\", \"indocumentados\", \"indocumentados\", \"indocumentados\", \"indocumentados\", \"indocumentados\", \"indocumentados\", \"indocumentados\", \"indocumentados\", \"indocumentados\", \"indocumentados\", \"ineficazineficiente\", \"inescrupuloso\", \"inflable\", \"ingresar\", \"ingresar\", \"ingresar\", \"ingresar\", \"ingresar\", \"ingresar\", \"ingresar\", \"ingresar\", \"ingresar\", \"ingresar\", \"ingresar\", \"ingresar\", \"inmersos\", \"inminente\", \"inminente\", \"inminente\", \"inminente\", \"inmortal\", \"inpec\", \"insatisfechas\", \"instar\", \"integridad\", \"integridad\", \"interdicci\\u00f3n\", \"interpreta\", \"inutiles\", \"invadirdesestabilizarexigirgrupos\", \"invadirnos\", \"ir\", \"ir\", \"ir\", \"ir\", \"ir\", \"ir\", \"ir\", \"ir\", \"ir\", \"ir\", \"ir\", \"ir\", \"ir\", \"ir\", \"irritante\", \"isabu\", \"isieron\", \"ja\", \"ja\", \"ja\", \"ja\", \"ja\", \"ja\", \"ja\", \"jaajajj\", \"jajajaja\", \"jajajaja\", \"jajajaja\", \"jajajaja\", \"jajajaja\", \"jajajaja\", \"jajajaja\", \"jajajaja\", \"jajajaja\", \"jajajaja\", \"jajajaja\", \"jajajaja\", \"jajajaja\", \"jajajaja\", \"jajajajaj\", \"jajajajaj\", \"jajajajaj\", \"jajajajaj\", \"jajajajajaja\", \"jajajajajaja\", \"jajajajajaja\", \"jajajajajaja\", \"jajajajajaja\", \"jajajajajaja\", \"jajajajajaja\", \"jakomel\", \"je\", \"jeje\", \"jeje\", \"jeje\", \"jj\", \"joder\", \"joder\", \"joder\", \"joder\", \"joder\", \"joder\", \"joder\", \"joder\", \"joder\", \"joder\", \"joder\", \"joder\", \"joder\", \"joder\", \"joderse\", \"jodete\", \"jodido\", \"jodido\", \"jodido\", \"jodido\", \"jodido\", \"jodido\", \"jodido\", \"jodido\", \"jodido\", \"jodido\", \"jodido\", \"jodido\", \"jodido\", \"jodido\", \"jodios\", \"jua\", \"jueputa\", \"jueputa\", \"jueputa\", \"jueputa\", \"jumm\", \"jumm\", \"jumm\", \"jumm\", \"juzgados\", \"j\\u00e1\", \"ladr\\u00f3n\", \"ladr\\u00f3n\", \"ladr\\u00f3n\", \"ladr\\u00f3n\", \"ladr\\u00f3n\", \"ladr\\u00f3n\", \"ladr\\u00f3n\", \"ladr\\u00f3n\", \"ladr\\u00f3n\", \"ladr\\u00f3n\", \"ladr\\u00f3n\", \"ladr\\u00f3n\", \"ladr\\u00f3n\", \"ladr\\u00f3n\", \"lamentar\", \"lamentar\", \"lamentar\", \"lance\", \"largate\", \"larguense\", \"larguense\", \"larguense\", \"larguense\", \"larguensen\", \"lecho\", \"lectura\", \"legislativo\", \"libre\", \"libre\", \"libre\", \"libre\", \"libre\", \"libre\", \"libre\", \"libre\", \"libre\", \"libre\", \"libre\", \"libre\", \"libre\", \"liderar\", \"liderar\", \"lidiar\", \"lidiar\", \"lidiar\", \"lidiar\", \"lidiar\", \"lidiar\", \"ligado\", \"limpieza\", \"limpieza\", \"limpieza\", \"limpieza\", \"limpieza\", \"limpieza\", \"limpieza\", \"limpieza\", \"limpieza\", \"limpieza\", \"limpieza\", \"limpieza\", \"lim\\u00f3n\", \"lincharlos\", \"liquidar\", \"listado\", \"lit\", \"llamarlas\", \"llamarlas\", \"llegar\", \"llegar\", \"llegar\", \"llegar\", \"llegar\", \"llegar\", \"llegar\", \"llegar\", \"llegar\", \"llegar\", \"llegar\", \"llegar\", \"llegar\", \"llegar\", \"llenar\", \"llenar\", \"llenar\", \"llenar\", \"llenar\", \"llenar\", \"llenar\", \"llenar\", \"llenar\", \"llenar\", \"llenar\", \"llenar\", \"llenar\", \"llenitas\", \"llevarse\", \"llevarse\", \"llevarse\", \"llevarse\", \"llevarse\", \"llevarse\", \"llevarse\", \"llevarse\", \"llorenlo\", \"logrado\", \"lol\", \"lote\", \"lote\", \"lucia\", \"lucia\", \"m19\", \"maburro\", \"maburro\", \"maburro\", \"maburro\", \"maburro\", \"maburro\", \"maburro\", \"maburro\", \"maburro\", \"maburro\", \"maburro\", \"madurista\", \"magistrado\", \"mal\", \"mal\", \"mal\", \"mal\", \"mal\", \"mal\", \"mal\", \"mal\", \"mal\", \"mal\", \"mal\", \"mal\", \"mal\", \"mal\", \"maldito\", \"maldito\", \"maldito\", \"maldito\", \"maldito\", \"maldito\", \"maldito\", \"maldito\", \"maldito\", \"maldito\", \"maldito\", \"maldito\", \"maldito\", \"maldito\", \"malparido\", \"malparido\", \"malparido\", \"malparido\", \"malparido\", \"malparido\", \"malparido\", \"malparido\", \"malparido\", \"malparido\", \"malparido\", \"malparido\", \"malparido\", \"malucos\", \"mama\", \"mama\", \"mama\", \"mama\", \"mama\", \"mamadosaburridos\", \"manifestarse\", \"mano\", \"mano\", \"mano\", \"mano\", \"mano\", \"mano\", \"mano\", \"mano\", \"mano\", \"mano\", \"mano\", \"mano\", \"mano\", \"mano\", \"marcado\", \"marcha\", \"marcha\", \"marcha\", \"marcha\", \"marcha\", \"marcha\", \"marcha\", \"marcha\", \"marcha\", \"marcha\", \"marcha\", \"marcha\", \"marcha\", \"marcha\", \"marrana\", \"martar\", \"mas\", \"mas\", \"mas\", \"mas\", \"mas\", \"mas\", \"mas\", \"mas\", \"mas\", \"mas\", \"mas\", \"mas\", \"mas\", \"mas\", \"masacrado\", \"masaje\", \"masburro\", \"maskedzombie\", \"matadero\", \"matar\", \"matar\", \"matar\", \"matar\", \"matar\", \"matar\", \"matar\", \"matar\", \"matar\", \"matar\", \"matar\", \"matar\", \"matar\", \"matar\", \"matarlo\", \"matarlo\", \"matarlo\", \"mat\\u00e1ndonos\", \"mayor\\u00eda\", \"mayor\\u00eda\", \"mayor\\u00eda\", \"mayor\\u00eda\", \"mayor\\u00eda\", \"mayor\\u00eda\", \"mayor\\u00eda\", \"mayor\\u00eda\", \"mayor\\u00eda\", \"mayor\\u00eda\", \"mayor\\u00eda\", \"mayor\\u00eda\", \"mayor\\u00eda\", \"mayor\\u00eda\", \"meca\", \"mediante\", \"mediante\", \"meg\\u00e1fono\", \"mejor\", \"mejor\", \"mejor\", \"mejor\", \"mejor\", \"mejor\", \"mejor\", \"mejor\", \"mejor\", \"mejor\", \"mejor\", \"mejor\", \"mejor\", \"mejor\", \"mendigar\", \"mendigar\", \"mendigar\", \"mendigar\", \"mendigar\", \"mendigar\", \"mendigar\", \"mendigar\", \"mendigar\", \"mendigar\", \"mendigar\", \"mendigar\", \"mendigar\", \"mendigar\", \"menguar\", \"menor\", \"menor\", \"menor\", \"menor\", \"menor\", \"menor\", \"menor\", \"menor\", \"mercadito\", \"mercury\", \"mesera\", \"meter\", \"meter\", \"meter\", \"meter\", \"meter\", \"meter\", \"meter\", \"meter\", \"meter\", \"meter\", \"meter\", \"meter\", \"meter\", \"meter\", \"meterle\", \"meterle\", \"miel\", \"mierda\", \"mierda\", \"mierda\", \"mierda\", \"mierda\", \"mierda\", \"mierda\", \"mierda\", \"mierda\", \"mierda\", \"mierda\", \"mierda\", \"mierda\", \"mierda\", \"mierdita\", \"migraci\\u00f3n\", \"migraci\\u00f3n\", \"migraci\\u00f3n\", \"migraci\\u00f3n\", \"migraci\\u00f3n\", \"migraci\\u00f3n\", \"migraci\\u00f3n\", \"migraci\\u00f3n\", \"migraci\\u00f3n\", \"migraci\\u00f3n\", \"migraci\\u00f3n\", \"migraci\\u00f3n\", \"migraci\\u00f3n\", \"migraci\\u00f3n\", \"mil\", \"mil\", \"mil\", \"mil\", \"mil\", \"mil\", \"mil\", \"mil\", \"mil\", \"mil\", \"mil\", \"mil\", \"mil\", \"mil\", \"militalizar\", \"militarize\", \"mill\", \"milla\", \"milloneshora\", \"mill\\u00f3n\", \"mill\\u00f3n\", \"mill\\u00f3n\", \"mill\\u00f3n\", \"mill\\u00f3n\", \"mill\\u00f3n\", \"mill\\u00f3n\", \"mill\\u00f3n\", \"mill\\u00f3n\", \"mill\\u00f3n\", \"mill\\u00f3n\", \"mill\\u00f3n\", \"mill\\u00f3n\", \"mill\\u00f3n\", \"min\", \"minar\", \"mio\", \"mio\", \"mio\", \"mio\", \"mio\", \"mio\", \"mio\", \"mio\", \"mio\", \"mio\", \"misericordia\", \"misericordia\", \"misericordia\", \"misericordioso\", \"misiones\", \"mismo\", \"mismo\", \"mismo\", \"mismo\", \"mismo\", \"mismo\", \"mismo\", \"mismo\", \"mismo\", \"mismo\", \"mismo\", \"mismo\", \"mismo\", \"mismo\", \"misses\", \"mk\", \"mk\", \"mk\", \"mk\", \"mk\", \"mk\", \"mk\", \"mk\", \"mk\", \"mk\", \"mk\", \"mlp\", \"mlp\", \"mlp\", \"modelito\", \"mojon\", \"molestar\", \"molestar\", \"molestar\", \"molestar\", \"molestar\", \"molestar\", \"molestar\", \"molestar\", \"molestar\", \"molestar\", \"molestar\", \"monda\", \"monda\", \"monda\", \"monda\", \"monda\", \"monda\", \"monda\", \"monda\", \"monja\", \"mono\", \"mono\", \"mono\", \"morir\", \"morir\", \"morir\", \"morir\", \"morir\", \"morir\", \"morir\", \"morir\", \"morir\", \"morir\", \"morir\", \"morir\", \"morir\", \"morir\", \"motoen\", \"motonave\", \"mo\\u00f1o\", \"muerto\", \"muerto\", \"muerto\", \"muerto\", \"muerto\", \"muerto\", \"muerto\", \"muerto\", \"muerto\", \"muerto\", \"muerto\", \"muerto\", \"muerto\", \"muerto\", \"muertos\", \"muertos\", \"muertos\", \"muertos\", \"muertos\", \"muertos\", \"muertos\", \"muertos\", \"muertos\", \"muertos\", \"muertos\", \"multados\", \"multitud\", \"multitud\", \"mundo\", \"mundo\", \"mundo\", \"mundo\", \"mundo\", \"mundo\", \"mundo\", \"mundo\", \"mundo\", \"mundo\", \"mundo\", \"mundo\", \"mundo\", \"mundo\", \"mutante\", \"muu\", \"mu\\u00f1eca\", \"m\\u00edrame\", \"nadie\", \"nadie\", \"nadie\", \"nadie\", \"nadie\", \"nadie\", \"nadie\", \"nadie\", \"nadie\", \"nadie\", \"nadie\", \"nadie\", \"nadie\", \"nadie\", \"naturalizar\", \"neeh\", \"negar\", \"negar\", \"negar\", \"negar\", \"negar\", \"negar\", \"negar\", \"negar\", \"negar\", \"negar\", \"negar\", \"nelly\", \"ni\", \"ni\", \"ni\", \"ni\", \"ni\", \"ni\", \"ni\", \"ni\", \"ni\", \"ni\", \"ni\", \"ni\", \"ni\", \"ni\", \"ninguno\", \"ninguno\", \"ninguno\", \"ninguno\", \"ninguno\", \"ninguno\", \"ninguno\", \"ninguno\", \"ninguno\", \"ni\\u00f1o\", \"ni\\u00f1o\", \"ni\\u00f1o\", \"ni\\u00f1o\", \"ni\\u00f1o\", \"ni\\u00f1o\", \"ni\\u00f1o\", \"ni\\u00f1o\", \"ni\\u00f1o\", \"ni\\u00f1o\", \"ni\\u00f1o\", \"ni\\u00f1o\", \"ni\\u00f1o\", \"ni\\u00f1o\", \"no\", \"no\", \"no\", \"no\", \"no\", \"no\", \"no\", \"no\", \"no\", \"no\", \"no\", \"no\", \"no\", \"no\", \"noctura\", \"nocturno\", \"nomas\", \"nombre\", \"nombre\", \"nombre\", \"nombre\", \"nombre\", \"nombre\", \"nombre\", \"nombre\", \"nombre\", \"nombre\", \"nombre\", \"nombre\", \"nombre\", \"nombre\", \"nones\", \"nose\", \"novio\", \"novio\", \"novio\", \"novio\", \"novio\", \"n\\u00e1utico\", \"obama\", \"obra\", \"obra\", \"obra\", \"obra\", \"obra\", \"obra\", \"obra\", \"obra\", \"obra\", \"obra\", \"obra\", \"obra\", \"odio\", \"odio\", \"odio\", \"odio\", \"odio\", \"odio\", \"odio\", \"odio\", \"odio\", \"odio\", \"odio\", \"odio\", \"odio\", \"odio\", \"odioso\", \"odioso\", \"ojito\", \"olvidarte\", \"oooops\", \"operario\", \"oportuno\", \"organicense\", \"organizarnos\", \"orgasmo\", \"orto\", \"oso\", \"otorque\", \"oyente\", \"oyente\", \"p*tas\", \"pa\", \"pa\", \"pa\", \"pa\", \"pa\", \"pa\", \"pa\", \"pa\", \"pa\", \"pa\", \"pa\", \"pa\", \"pa\", \"pa\", \"pacifistas\", \"pack\", \"pacotilla\", \"pacotilla\", \"pacotilla\", \"pae\", \"paga\", \"paga\", \"paga\", \"paga\", \"paga\", \"paga\", \"paga\", \"paga\", \"paga\", \"paga\", \"paga\", \"paga\", \"pagadas\", \"pais\", \"pais\", \"pais\", \"pais\", \"pais\", \"pais\", \"pais\", \"pais\", \"pais\", \"pais\", \"pais\", \"pais\", \"pais\", \"pais\", \"palabras\", \"palestinos\", \"pana\", \"pana\", \"pana\", \"pana\", \"pana\", \"pana\", \"pana\", \"pana\", \"pana\", \"panamericano\", \"panfleto\", \"panfleto\", \"panfleto\", \"panfleto\", \"panfleto\", \"panfleto\", \"pantallero\", \"parabrisas\", \"parabrisas\", \"parabrisas\", \"parabrisas\", \"parecer\", \"parecer\", \"parecer\", \"parecer\", \"parecer\", \"parecer\", \"parecer\", \"parecer\", \"parecer\", \"parecer\", \"parecer\", \"parecer\", \"parecer\", \"parecer\", \"parrandada\", \"partidiario\", \"pasaje\", \"pasaje\", \"pasaje\", \"pasaje\", \"pasaje\", \"pasaje\", \"pasaje\", \"pasaje\", \"pasaje\", \"pasar\", \"pasar\", \"pasar\", \"pasar\", \"pasar\", \"pasar\", \"pasar\", \"pasar\", \"pasar\", \"pasar\", \"pasar\", \"pasar\", \"pasar\", \"pasar\", \"pastoseg\\u00fan\", \"pa\\u00ecs\", \"pa\\u00eds\", \"pa\\u00eds\", \"pa\\u00eds\", \"pa\\u00eds\", \"pa\\u00eds\", \"pa\\u00eds\", \"pa\\u00eds\", \"pa\\u00eds\", \"pa\\u00eds\", \"pa\\u00eds\", \"pa\\u00eds\", \"pa\\u00eds\", \"pa\\u00eds\", \"pa\\u00eds\", \"pa\\u00edscomprobado\", \"pa\\u00f1o\", \"pdta\", \"pedido\", \"pedido\", \"pedido\", \"pedido\", \"pedido\", \"pedir\", \"pedir\", \"pedir\", \"pedir\", \"pedir\", \"pedir\", \"pedir\", \"pedir\", \"pedir\", \"pedir\", \"pedir\", \"pedir\", \"pedir\", \"pedir\", \"peinado\", \"pela\", \"pela\", \"pelabolas\", \"pellisquese\", \"peor\", \"peor\", \"peor\", \"peor\", \"peor\", \"peor\", \"peor\", \"peor\", \"peor\", \"peor\", \"peor\", \"peor\", \"peor\", \"peor\", \"peque\\u00f1o\", \"peque\\u00f1o\", \"peque\\u00f1o\", \"peque\\u00f1o\", \"peque\\u00f1o\", \"peque\\u00f1o\", \"peque\\u00f1o\", \"peque\\u00f1o\", \"peque\\u00f1o\", \"peque\\u00f1o\", \"peque\\u00f1o\", \"peque\\u00f1o\", \"peque\\u00f1o\", \"permitir\", \"permitir\", \"permitir\", \"permitir\", \"permitir\", \"permitir\", \"permitir\", \"permitir\", \"permitir\", \"permitir\", \"permitir\", \"permitir\", \"permitir\", \"permitir\", \"perol\", \"perra\", \"perra\", \"perra\", \"perra\", \"perra\", \"perra\", \"perra\", \"perra\", \"perra\", \"perra\", \"perra\", \"persona\", \"persona\", \"persona\", \"persona\", \"persona\", \"persona\", \"persona\", \"persona\", \"persona\", \"persona\", \"persona\", \"persona\", \"persona\", \"persona\", \"peso\", \"peso\", \"peso\", \"peso\", \"peso\", \"peso\", \"peso\", \"peso\", \"peso\", \"peso\", \"peso\", \"peso\", \"peso\", \"peso\", \"pichurria\", \"pico-vargas\", \"pieen\", \"pilicia\", \"pille\", \"pinche\", \"pinche\", \"pinche\", \"pinta\", \"pinta\", \"pinta\", \"pinta\", \"pinta\", \"pinta\", \"pinta\", \"pinta\", \"piroba\", \"pitar\", \"plaga\", \"plaga\", \"plaga\", \"plaga\", \"plaga\", \"plaga\", \"plaga\", \"plaga\", \"plaga\", \"plaga\", \"plaga\", \"plaga\", \"plaga\", \"plaga\", \"planeaci\\u00f3n\", \"plata\", \"plata\", \"plata\", \"plata\", \"plata\", \"plata\", \"plata\", \"plata\", \"plata\", \"plata\", \"plata\", \"plata\", \"plata\", \"plata\", \"plenamente\", \"plomo\", \"plomo\", \"plomo\", \"plomo\", \"plomo\", \"plomo\", \"plomo\", \"plomo\", \"plomo\", \"plomo\", \"plomo\", \"plomo\", \"poblacion\", \"polic\\u00eda\", \"polic\\u00eda\", \"polic\\u00eda\", \"polic\\u00eda\", \"polic\\u00eda\", \"polic\\u00eda\", \"polic\\u00eda\", \"polic\\u00eda\", \"polic\\u00eda\", \"polic\\u00eda\", \"polic\\u00eda\", \"polic\\u00eda\", \"polic\\u00eda\", \"polic\\u00eda\", \"polinal\", \"politizado\", \"ponce\", \"poner\", \"poner\", \"poner\", \"poner\", \"poner\", \"poner\", \"poner\", \"poner\", \"poner\", \"poner\", \"poner\", \"poner\", \"poner\", \"poner\", \"posteriormente\", \"potencias\", \"precariasruina\", \"precariedad\", \"preferian\", \"premiarlos\", \"presidente\", \"presidente\", \"presidente\", \"presidente\", \"presidente\", \"presidente\", \"presidente\", \"presidente\", \"presidente\", \"presidente\", \"presidente\", \"presidente\", \"presidente\", \"presidente\", \"pre\\u00f1ar\", \"pre\\u00f1ar\", \"pre\\u00f1ar\", \"pre\\u00f1ar\", \"primaria\", \"primero\", \"primero\", \"primero\", \"primero\", \"primero\", \"primero\", \"primero\", \"primero\", \"primero\", \"primero\", \"primero\", \"primero\", \"primero\", \"primero\", \"primicia\", \"privilegiar\", \"problema\", \"problema\", \"problema\", \"problema\", \"problema\", \"problema\", \"problema\", \"problema\", \"problema\", \"problema\", \"problema\", \"problema\", \"problema\", \"problema\", \"procesados\", \"prohiban\", \"prole\", \"prostituci\\u00f3ncorrupto\", \"protecci\\u00f3n\", \"protecci\\u00f3n\", \"protecci\\u00f3n\", \"protecci\\u00f3n\", \"protecci\\u00f3n\", \"protecci\\u00f3n\", \"protecci\\u00f3n\", \"protecci\\u00f3n\", \"protecci\\u00f3n\", \"protecci\\u00f3n\", \"protecci\\u00f3n\", \"protegernos\", \"protegernos\", \"prro\", \"psdt\", \"publicacion\", \"pueblerino\", \"pueblo\", \"pueblo\", \"pueblo\", \"pueblo\", \"pueblo\", \"pueblo\", \"pueblo\", \"pueblo\", \"pueblo\", \"pueblo\", \"pueblo\", \"pueblo\", \"pueblo\", \"pueblo\", \"puede\", \"puede\", \"puede\", \"puede\", \"puede\", \"puede\", \"puede\", \"puede\", \"puede\", \"puede\", \"puede\", \"puede\", \"puede\", \"puede\", \"pues\", \"pues\", \"pues\", \"pues\", \"pues\", \"pues\", \"pues\", \"pues\", \"pues\", \"pues\", \"pues\", \"pues\", \"pues\", \"pues\", \"purga\", \"purga\", \"purga\", \"purga\", \"purga\", \"puro\", \"puro\", \"puro\", \"puro\", \"puro\", \"puro\", \"puro\", \"puro\", \"puro\", \"puro\", \"puro\", \"puro\", \"puro\", \"puro\", \"puta\", \"puta\", \"puta\", \"puta\", \"puta\", \"puta\", \"puta\", \"puta\", \"puta\", \"puta\", \"puta\", \"puta\", \"puta\", \"puta\", \"puteadero\", \"px\", \"p\\u00edcaros\", \"qie\", \"qie\", \"qje\", \"qliar\", \"queda\", \"queda\", \"queda\", \"queda\", \"queda\", \"queda\", \"queda\", \"queda\", \"queda\", \"queda\", \"quedar\", \"quedar\", \"quedar\", \"quedar\", \"quedar\", \"quedar\", \"quedar\", \"quedar\", \"quedar\", \"quedar\", \"quedar\", \"quedar\", \"quedar\", \"quedar\", \"quejas\", \"quemas\", \"querer\", \"querer\", \"querer\", \"querer\", \"querer\", \"querer\", \"querer\", \"querer\", \"querer\", \"querer\", \"querer\", \"querer\", \"querer\", \"querer\", \"querido\", \"querido\", \"querido\", \"querido\", \"querido\", \"querido\", \"querido\", \"querido\", \"querido\", \"querido\", \"querido\", \"queriendo\", \"queriendo\", \"queriendo\", \"queriendo\", \"queriendo\", \"queriendo\", \"queso\", \"queso\", \"quibo\", \"quieran\", \"quieran\", \"quieto\", \"quieto\", \"quieto\", \"quieto\", \"quind\\u00edo\", \"quitado\", \"quitar\", \"quitar\", \"quitar\", \"quitar\", \"quitar\", \"quitar\", \"quitar\", \"quitar\", \"quitar\", \"quitar\", \"quitar\", \"quitar\", \"quitar\", \"quitar\", \"rabiar\", \"racional\", \"radiaci\\u00f3n\", \"rancho\", \"rancho\", \"rasgar\", \"rastrillo\", \"rata\", \"rata\", \"rata\", \"rata\", \"rata\", \"rata\", \"rata\", \"rata\", \"rata\", \"rata\", \"rata\", \"rata\", \"rata\", \"rata\", \"ratas\", \"rateros\", \"rateros\", \"rateros\", \"rateros\", \"rateros\", \"rateros\", \"ratificar\", \"raudo\", \"re\", \"re\", \"re\", \"re\", \"re\", \"re\", \"re\", \"re\", \"re\", \"re\", \"re\", \"re\", \"re\", \"re\", \"realista\", \"realizada\", \"recaudo\", \"recibir\", \"recibir\", \"recibir\", \"recibir\", \"recibir\", \"recibir\", \"recibir\", \"recibir\", \"recibir\", \"recibir\", \"recibir\", \"recibir\", \"recibir\", \"recientemente\", \"reconstruir\", \"reconstruir\", \"redundancia\", \"referirnos\", \"refr\\u00e1n\", \"regalito\", \"regresar\", \"regresar\", \"regresar\", \"regresar\", \"regresar\", \"regresar\", \"regresar\", \"regresar\", \"regresar\", \"regresar\", \"regresar\", \"regresar\", \"regresar\", \"reino\", \"reintegrado\", \"rellenarlo\", \"rellenarlo\", \"remitir\", \"respetar\", \"respetar\", \"respetar\", \"respetar\", \"respetar\", \"respetar\", \"respetar\", \"respetar\", \"respetar\", \"respetar\", \"respetar\", \"respetar\", \"respetar\", \"respetar\", \"respir\\u00e1ndole\", \"restaurantes\", \"restaurantes\", \"restaurantes\", \"restaurantes\", \"restaurantes\", \"restaurantes\", \"restaurantes\", \"restaurantes\", \"retornar\", \"retornar\", \"retornar\", \"retornar\", \"retornar\", \"retornar\", \"retornar\", \"retornar\", \"retraso\", \"retraso\", \"rita\", \"rival\", \"rival\", \"riveros\", \"robadera\", \"robar\", \"robar\", \"robar\", \"robar\", \"robar\", \"robar\", \"robar\", \"robar\", \"robar\", \"robar\", \"robar\", \"robar\", \"robar\", \"robar\", \"robarse\", \"robarse\", \"robarse\", \"roble\", \"rubio\", \"rueda\", \"ruiz\", \"rumichaca\", \"r\\u00e9plica\", \"saber\", \"saber\", \"saber\", \"saber\", \"saber\", \"saber\", \"saber\", \"saber\", \"saber\", \"saber\", \"saber\", \"saber\", \"saber\", \"saber\", \"sacar\", \"sacar\", \"sacar\", \"sacar\", \"sacar\", \"sacar\", \"sacar\", \"sacar\", \"sacar\", \"sacar\", \"sacar\", \"sacar\", \"sacar\", \"sacar\", \"salario\", \"salario\", \"salario\", \"salario\", \"salario\", \"salario\", \"salario\", \"salario\", \"salario\", \"salario\", \"salario\", \"salida\", \"salida\", \"salida\", \"salida\", \"salida\", \"salida\", \"salida\", \"salida\", \"salida\", \"salida\", \"salir\", \"salir\", \"salir\", \"salir\", \"salir\", \"salir\", \"salir\", \"salir\", \"salir\", \"salir\", \"salir\", \"salir\", \"salir\", \"salir\", \"salud\", \"salud\", \"salud\", \"salud\", \"salud\", \"salud\", \"salud\", \"salud\", \"salud\", \"salud\", \"salud\", \"salud\", \"salud\", \"salud\", \"santrich\", \"sapiar\", \"saquear\", \"saquear\", \"saquear\", \"saquear\", \"saquear\", \"saquear\", \"saquear\", \"saquear\", \"saquear\", \"saquear\", \"saquear\", \"saquear\", \"saquear\", \"saquear\", \"saqueo\", \"saqueo\", \"saqueo\", \"saqueo\", \"saqueo\", \"saqueo\", \"saqueo\", \"saqueo\", \"saqueo\", \"saqueo\", \"saqueo\", \"saqueo\", \"saqueo\", \"saqueo\", \"satisfacer\", \"seguir\", \"seguir\", \"seguir\", \"seguir\", \"seguir\", \"seguir\", \"seguir\", \"seguir\", \"seguir\", \"seguir\", \"seguir\", \"seguir\", \"seguir\", \"seguir\", \"seguro\", \"seguro\", \"seguro\", \"seguro\", \"seguro\", \"seguro\", \"seguro\", \"seguro\", \"seguro\", \"seguro\", \"seguro\", \"seguro\", \"seguro\", \"sello\", \"selva\", \"sem\\u00e1foro\", \"sem\\u00e1foro\", \"sem\\u00e1foro\", \"sem\\u00e1foro\", \"sem\\u00e1foro\", \"sem\\u00e1foro\", \"sem\\u00e1foro\", \"sem\\u00e1foro\", \"sem\\u00e1foro\", \"sem\\u00e1foro\", \"sem\\u00e1foro\", \"sem\\u00e1foro\", \"sem\\u00e1foro\", \"sem\\u00e1foro\", \"seriamente\", \"servir\", \"servir\", \"servir\", \"servir\", \"servir\", \"servir\", \"servir\", \"servir\", \"servir\", \"servir\", \"servir\", \"servir\", \"servir\", \"servir\", \"setenta\", \"setenta\", \"setenta\", \"setenta\", \"setenta\", \"se\\u00f1or\", \"se\\u00f1or\", \"se\\u00f1or\", \"se\\u00f1or\", \"se\\u00f1or\", \"se\\u00f1or\", \"se\\u00f1or\", \"se\\u00f1or\", \"se\\u00f1or\", \"se\\u00f1or\", \"se\\u00f1or\", \"se\\u00f1or\", \"se\\u00f1or\", \"se\\u00f1or\", \"si\", \"si\", \"si\", \"si\", \"si\", \"si\", \"si\", \"si\", \"si\", \"si\", \"si\", \"si\", \"si\", \"si\", \"siguiente\", \"siguiente\", \"siguiente\", \"siguiente\", \"siguiente\", \"siguiente\", \"simpat\\u00eda\", \"simult\\u00e1neo\", \"sinergia\", \"sinverguenzura\", \"siquiera\", \"siquiera\", \"siquiera\", \"siquiera\", \"siquiera\", \"siquiera\", \"siquiera\", \"siquiera\", \"siquiera\", \"siquiera\", \"sistema\", \"sistema\", \"sistema\", \"sistema\", \"sistema\", \"sistema\", \"sistema\", \"sistema\", \"sistema\", \"sistema\", \"sistema\", \"sistema\", \"sistema\", \"soc\", \"soc\", \"sol\", \"sol\", \"sol\", \"sol\", \"sol\", \"sol\", \"sol\", \"sol\", \"sol\", \"solo\", \"solo\", \"solo\", \"solo\", \"solo\", \"solo\", \"solo\", \"solo\", \"solo\", \"solo\", \"solo\", \"solo\", \"solo\", \"solo\", \"soto\", \"south\", \"sub\", \"sub\", \"suba\", \"suba\", \"suba\", \"suba\", \"suba\", \"suba\", \"subirme\", \"subsidio\", \"subsidio\", \"subsidio\", \"subsidio\", \"subsidio\", \"subsidio\", \"subsidio\", \"subsidio\", \"subsidio\", \"subsidio\", \"subsidio\", \"subsidio\", \"subsidio\", \"sucedido\", \"sudaca\", \"sue\", \"suficiente\", \"suficiente\", \"suficiente\", \"suficiente\", \"suficiente\", \"suficiente\", \"suficiente\", \"suficiente\", \"suficiente\", \"suficiente\", \"suficiente\", \"suficiente\", \"suficiente\", \"suficiente\", \"supervisar\", \"s\\u00e1quelos\", \"talv\", \"tan\", \"tan\", \"tan\", \"tan\", \"tan\", \"tan\", \"tan\", \"tan\", \"tan\", \"tan\", \"tan\", \"tan\", \"tan\", \"tan\", \"tapado\", \"taquilla\", \"tate\", \"teletrabajo\", \"temer\", \"tener\", \"tener\", \"tener\", \"tener\", \"tener\", \"tener\", \"tener\", \"tener\", \"tener\", \"tener\", \"tener\", \"tener\", \"tener\", \"tener\", \"terco\", \"tetona\", \"tirarlos\", \"toca\", \"toca\", \"toca\", \"toca\", \"toca\", \"toca\", \"toca\", \"toca\", \"toca\", \"toca\", \"toca\", \"toca\", \"toca\", \"toca\", \"tod\", \"todoelpais\", \"tokio\", \"tomar\", \"tomar\", \"tomar\", \"tomar\", \"tomar\", \"tomar\", \"tomar\", \"tomar\", \"tomar\", \"tomar\", \"tomar\", \"tomar\", \"tomar\", \"tomar\", \"tontazo\", \"tope\", \"tope\", \"tope\", \"tope\", \"toque\", \"toque\", \"toque\", \"toque\", \"toque\", \"toque\", \"toque\", \"toque\", \"toque\", \"toque\", \"torcoroma\", \"trabajar\", \"trabajar\", \"trabajar\", \"trabajar\", \"trabajar\", \"trabajar\", \"trabajar\", \"trabajar\", \"trabajar\", \"trabajar\", \"trabajar\", \"trabajar\", \"trabajar\", \"trabajar\", \"trabajo\", \"trabajo\", \"trabajo\", \"trabajo\", \"trabajo\", \"trabajo\", \"trabajo\", \"trabajo\", \"trabajo\", \"trabajo\", \"trabajo\", \"trabajo\", \"trabajo\", \"trabajo\", \"tracamanada\", \"tracto\", \"traduccion\", \"traduccion\", \"traer\", \"traer\", \"traer\", \"traer\", \"traer\", \"traer\", \"traer\", \"traer\", \"traer\", \"traer\", \"traer\", \"traer\", \"traer\", \"traer\", \"transgredir\", \"transmileno\", \"transporte\", \"transporte\", \"transporte\", \"transporte\", \"transporte\", \"transporte\", \"transporte\", \"transporte\", \"transporte\", \"trasladados\", \"trasnmilenio\", \"traumatica\", \"tra\\u00eddo\", \"triple\", \"triple\", \"triple\", \"triple\", \"triple\", \"triple\", \"triple\", \"triple\", \"triple\", \"triple\", \"triple\", \"triple\", \"triple\", \"triplehijueputas\", \"triplehijueputas\", \"triplehijueputas\", \"triplehijueputas\", \"triplehijueputas\", \"tripulado\", \"trochar\", \"trochas\", \"trochas\", \"trochas\", \"trochas\", \"trochas\", \"trochas\", \"trochas\", \"trochas\", \"trochas\", \"trochas\", \"trochas\", \"trofeo\", \"tr\\u00edo\", \"tuberculosis\", \"tunja\", \"tunja\", \"tunja\", \"tunja\", \"tunja\", \"tunja\", \"turbay\", \"turco\", \"twitteros\", \"twitteros\", \"t\\u00ed\", \"u$15\", \"ubiera\", \"uchi\", \"ure\\u00f1a\", \"uriberto\", \"uribestia\", \"uribestia\", \"usted\", \"usted\", \"usted\", \"usted\", \"usted\", \"usted\", \"usted\", \"usted\", \"usted\", \"usted\", \"usted\", \"usted\", \"usted\", \"usted\", \"ustedes\", \"ustedes\", \"ustedes\", \"ustedes\", \"ustedes\", \"ustedes\", \"ustedes\", \"ustedes\", \"ustedes\", \"ustedes\", \"ustedes\", \"ustedes\", \"ustedes\", \"ustedes\", \"uu\", \"u\\u00f1a\", \"u\\u00f1a\", \"va\", \"va\", \"va\", \"va\", \"va\", \"va\", \"va\", \"va\", \"va\", \"va\", \"va\", \"va\", \"va\", \"va\", \"vacilar\", \"vacunado\", \"vago\", \"vago\", \"vago\", \"vago\", \"vago\", \"vago\", \"vago\", \"vago\", \"vago\", \"vago\", \"vago\", \"vago\", \"vale\", \"vale\", \"vale\", \"vale\", \"vale\", \"vale\", \"vale\", \"vale\", \"vale\", \"vale\", \"vale\", \"vale\", \"vale\", \"vallanse\", \"valle\", \"valle\", \"valle\", \"valle\", \"valle\", \"valle\", \"valle\", \"valle\", \"vamonos\", \"var\", \"var\", \"veloz\", \"vendedor\", \"vendedor\", \"vendedor\", \"vendedor\", \"vendedor\", \"vendedor\", \"vendedor\", \"vendedor\", \"vendedor\", \"vendedor\", \"vendedor\", \"vendedor\", \"vendedor\", \"vender\", \"vender\", \"vender\", \"vender\", \"vender\", \"vender\", \"vender\", \"vender\", \"vender\", \"vender\", \"vender\", \"vender\", \"vender\", \"vender\", \"vendran\", \"veneca\", \"veneca\", \"veneca\", \"veneca\", \"veneca\", \"veneca\", \"veneca\", \"veneca\", \"veneca\", \"veneca\", \"veneca\", \"veneca\", \"veneca\", \"veneca\", \"venecaa\", \"venecas\", \"venecas\", \"venecas\", \"venecas\", \"venecas\", \"venecas\", \"venecas\", \"venecas\", \"venecas\", \"venecas\", \"venecas\", \"venecas\", \"venecas\", \"venecas\", \"veneco\", \"veneco\", \"veneco\", \"veneco\", \"veneco\", \"veneco\", \"veneco\", \"veneco\", \"veneco\", \"veneco\", \"veneco\", \"veneco\", \"veneco\", \"veneco\", \"venecofobia\", \"venecos\", \"venecos\", \"venecos\", \"venecos\", \"venecos\", \"venecos\", \"venecos\", \"venecos\", \"venecos\", \"venecos\", \"venecos\", \"venecos\", \"venecos\", \"venecos\", \"venecosesos\", \"venecovid\", \"venecovid\", \"venecovid\", \"venequitos\", \"venezoiano\", \"venezolanda\", \"venezolano\", \"venezolano\", \"venezolano\", \"venezolano\", \"venezolano\", \"venezolano\", \"venezolano\", \"venezolano\", \"venezolano\", \"venezolano\", \"venezolano\", \"venezolano\", \"venezolano\", \"venezolano\", \"venezolanos\", \"venezolanos\", \"venezolanos\", \"venezolanos\", \"venezolanos\", \"venezolanos\", \"venezolanos\", \"venezolanosdesde\", \"venezolanoshagan\", \"venezolanosprimero\", \"venezolanosqu\\u00e9\", \"venezolanosya\", \"venezuela\", \"venezuela\", \"venezuela\", \"venezuela\", \"venezuela\", \"venezuela\", \"venezuela\", \"venezuela\", \"venezuela\", \"venezuela\", \"venezuela\", \"venezuela\", \"venezuela\", \"venezuela\", \"venir\", \"venir\", \"venir\", \"venir\", \"venir\", \"venir\", \"venir\", \"venir\", \"venir\", \"venir\", \"venir\", \"venir\", \"venir\", \"venir\", \"ventaquemada\", \"ventaquemada\", \"ventaquemada\", \"ventaquemada\", \"venzolanos\", \"ver\", \"ver\", \"ver\", \"ver\", \"ver\", \"ver\", \"ver\", \"ver\", \"ver\", \"ver\", \"ver\", \"ver\", \"ver\", \"ver\", \"verbo\", \"verdad\", \"verdad\", \"verdad\", \"verdad\", \"verdad\", \"verdad\", \"verdad\", \"verdad\", \"verdad\", \"verdad\", \"verdad\", \"verdad\", \"verdad\", \"verdad\", \"verga\", \"verga\", \"verga\", \"verga\", \"verga\", \"verga\", \"verga\", \"verga\", \"verga\", \"verga\", \"vez\", \"vez\", \"vez\", \"vez\", \"vez\", \"vez\", \"vez\", \"vez\", \"vez\", \"vez\", \"vez\", \"vez\", \"vez\", \"vez\", \"vida\", \"vida\", \"vida\", \"vida\", \"vida\", \"vida\", \"vida\", \"vida\", \"vida\", \"vida\", \"vida\", \"vida\", \"vida\", \"vida\", \"viejito\", \"vienendelinquirinvadirasesinardesestabilizar\", \"viga\", \"vigilar\", \"vigilar\", \"vigilar\", \"vigilar\", \"violar\", \"violar\", \"violar\", \"violar\", \"violar\", \"violar\", \"violar\", \"violar\", \"violar\", \"violar\", \"violar\", \"violar\", \"visa\", \"visa\", \"visa\", \"visa\", \"visa\", \"visa\", \"visa\", \"visa\", \"visa\", \"visa\", \"visa\", \"visa\", \"visa\", \"visas\", \"visas\", \"visas\", \"vistos\", \"vivi\", \"vivir\", \"vivir\", \"vivir\", \"vivir\", \"vivir\", \"vivir\", \"vivir\", \"vivir\", \"vivir\", \"vivir\", \"vivir\", \"vivir\", \"vivir\", \"vivir\", \"vnzl\", \"voluptuoso\", \"voticos\", \"voz\", \"voz\", \"voz\", \"voz\", \"voz\", \"voz\", \"voz\", \"voz\", \"voz\", \"voz\", \"v\\u00e1ndalo\", \"v\\u00e1ndalo\", \"v\\u00e1ndalo\", \"v\\u00e1ndalo\", \"v\\u00e1ndalo\", \"v\\u00e1ndalo\", \"v\\u00e1ndalo\", \"v\\u00e1ndalo\", \"v\\u00e1ndalo\", \"v\\u00e1ndalo\", \"v\\u00e1ndalo\", \"v\\u00e1ndalo\", \"v\\u00e1ndalo\", \"v\\u00e1ndalo\", \"wifi\", \"wow\", \"xa\", \"xd\", \"xd\", \"xd\", \"xd\", \"xd\", \"xd\", \"xd\", \"xenofobia\", \"xenofobia\", \"xenofobia\", \"xenofobia\", \"xenofobia\", \"xenofobia\", \"xenofobia\", \"xenofobia\", \"xenofobia\", \"xenofobia\", \"xenofobia\", \"xenofobia\", \"xenofobia\", \"xenofobia\", \"xenofofos\", \"ydefiende\", \"zipaquire\\u00f1o\", \"z\\u00e1ngano\", \"z\\u00e1ngano\", \"z\\u00e1ngano\", \"z\\u00e1ngano\", \"\\u00a8pichar\\u00a8\", \"\\u00e1lvarez\", \"\\u00e8l\", \"\\u00e8l\", \"\\u00e8l\", \"\\u00f1o\", \"\\u2066\\u2069\", \"\\u2066\\u2069\", \"\\u2066\\u2069\", \"\\ud83c\\udffb\\u200d\", \"\\ud83c\\udffb\\u200d\", \"\\ud83c\\udffb\\u200d\", \"\\ud83c\\udffb\\u200d\", \"\\ud83c\\udffb\\u200d\", \"\\ud83c\\udffb\\u200d\", \"\\ud83c\\udffb\\u200d\", \"\\ud83c\\udffb\\u200d\", \"\\ud83c\\udffb\\u200d\", \"\\ud83c\\udffb\\u200d\", \"\\ud83c\\udffb\\u200d\", \"\\ud83c\\udffb\\u200d\"]}, \"R\": 30, \"lambda.step\": 0.01, \"plot.opts\": {\"xlab\": \"PC1\", \"ylab\": \"PC2\"}, \"topic.order\": [4, 14, 6, 9, 8, 1, 10, 7, 12, 5, 13, 2, 11, 3]};\n",
       "\n",
       "function LDAvis_load_lib(url, callback){\n",
       "  var s = document.createElement('script');\n",
       "  s.src = url;\n",
       "  s.async = true;\n",
       "  s.onreadystatechange = s.onload = callback;\n",
       "  s.onerror = function(){console.warn(\"failed to load library \" + url);};\n",
       "  document.getElementsByTagName(\"head\")[0].appendChild(s);\n",
       "}\n",
       "\n",
       "if(typeof(LDAvis) !== \"undefined\"){\n",
       "   // already loaded: just create the visualization\n",
       "   !function(LDAvis){\n",
       "       new LDAvis(\"#\" + \"ldavis_el170819693761055209796448529\", ldavis_el170819693761055209796448529_data);\n",
       "   }(LDAvis);\n",
       "}else if(typeof define === \"function\" && define.amd){\n",
       "   // require.js is available: use it to load d3/LDAvis\n",
       "   require.config({paths: {d3: \"https://d3js.org/d3.v5\"}});\n",
       "   require([\"d3\"], function(d3){\n",
       "      window.d3 = d3;\n",
       "      LDAvis_load_lib(\"https://cdn.jsdelivr.net/gh/bmabey/pyLDAvis@3.2.2/pyLDAvis/js/ldavis.v3.0.0.js\", function(){\n",
       "        new LDAvis(\"#\" + \"ldavis_el170819693761055209796448529\", ldavis_el170819693761055209796448529_data);\n",
       "      });\n",
       "    });\n",
       "}else{\n",
       "    // require.js not available: dynamically load d3 & LDAvis\n",
       "    LDAvis_load_lib(\"https://d3js.org/d3.v5.js\", function(){\n",
       "         LDAvis_load_lib(\"https://cdn.jsdelivr.net/gh/bmabey/pyLDAvis@3.2.2/pyLDAvis/js/ldavis.v3.0.0.js\", function(){\n",
       "                 new LDAvis(\"#\" + \"ldavis_el170819693761055209796448529\", ldavis_el170819693761055209796448529_data);\n",
       "            })\n",
       "         });\n",
       "}\n",
       "</script>"
      ],
      "text/plain": [
       "<IPython.core.display.HTML object>"
      ]
     },
     "execution_count": 26,
     "metadata": {},
     "output_type": "execute_result"
    }
   ],
   "source": [
    "visx = pyLDAvis.gensim.prepare(topic_model=optimal_model, corpus=corpus, dictionary=dictionary, mds='mmds')\n",
    "pyLDAvis.display(visx)"
   ]
  },
  {
   "cell_type": "code",
   "execution_count": 27,
   "id": "following-mongolia",
   "metadata": {},
   "outputs": [
    {
     "name": "stderr",
     "output_type": "stream",
     "text": [
      "C:\\Users\\JOSE\\anaconda3\\lib\\site-packages\\ipykernel\\ipkernel.py:287: DeprecationWarning: `should_run_async` will not call `transform_cell` automatically in the future. Please pass the result to `transformed_cell` argument and any exception that happen during thetransform in `preprocessing_exc_tuple` in IPython 7.17 and above.\n",
      "  and should_run_async(code)\n"
     ]
    }
   ],
   "source": [
    "# Archivo HTML\n",
    "pyLDAvis.save_html(visx, 'ldax2.html')"
   ]
  },
  {
   "cell_type": "code",
   "execution_count": 28,
   "id": "atlantic-second",
   "metadata": {},
   "outputs": [
    {
     "name": "stderr",
     "output_type": "stream",
     "text": [
      "C:\\Users\\JOSE\\anaconda3\\lib\\site-packages\\ipykernel\\ipkernel.py:287: DeprecationWarning: `should_run_async` will not call `transform_cell` automatically in the future. Please pass the result to `transformed_cell` argument and any exception that happen during thetransform in `preprocessing_exc_tuple` in IPython 7.17 and above.\n",
      "  and should_run_async(code)\n",
      "100%|██████████| 540/540 [4:26:03<00:00, 29.56s/it]  \n"
     ]
    }
   ],
   "source": [
    "# supporting function\n",
    "def compute_coherence_values(corpus, dictionary, k, a, b):\n",
    "    \n",
    "    lda_model = gensim.models.LdaMulticore(corpus=corpus,\n",
    "                                           id2word=dictionary,\n",
    "                                           num_topics=k, \n",
    "                                           random_state=100,\n",
    "                                           chunksize=100,\n",
    "                                           passes=10,\n",
    "                                           alpha=a,\n",
    "                                           eta=b)\n",
    "    \n",
    "    coherence_model_lda = CoherenceModel(model=lda_model, texts=data_lemmatized, dictionary=dictionary, coherence='c_v')\n",
    "    \n",
    "    return coherence_model_lda.get_coherence()\n",
    "grid = {}\n",
    "grid['Validation_Set'] = {}\n",
    "# Topics range\n",
    "min_topics = 2\n",
    "max_topics = 11\n",
    "step_size = 1\n",
    "topics_range = range(min_topics, max_topics, step_size)\n",
    "# Alpha parameter\n",
    "alpha = list(np.arange(0.01, 1, 0.3))\n",
    "alpha.append('symmetric')\n",
    "alpha.append('asymmetric')\n",
    "# Beta parameter\n",
    "beta = list(np.arange(0.01, 1, 0.3))\n",
    "beta.append('symmetric')\n",
    "# Validation sets\n",
    "num_of_docs = len(corpus)\n",
    "corpus_sets = [# gensim.utils.ClippedCorpus(corpus, num_of_docs*0.25), \n",
    "               # gensim.utils.ClippedCorpus(corpus, num_of_docs*0.5), \n",
    "               gensim.utils.ClippedCorpus(corpus, int(num_of_docs*0.75)), \n",
    "               corpus]\n",
    "corpus_title = ['75% Corpus', '100% Corpus']\n",
    "model_results = {'Validation_Set': [],\n",
    "                 'Topics': [],\n",
    "                 'Alpha': [],\n",
    "                 'Beta': [],\n",
    "                 'Coherence': []\n",
    "                }\n",
    "# Can take a long time to run\n",
    "if 1 == 1:\n",
    "    pbar = tqdm.tqdm(total=540)\n",
    "    \n",
    "    # iterate through validation corpuses\n",
    "    for i in range(len(corpus_sets)):\n",
    "        # iterate through number of topics\n",
    "        for k in topics_range:\n",
    "            # iterate through alpha values\n",
    "            for a in alpha:\n",
    "                # iterare through beta values\n",
    "                for b in beta:\n",
    "                    # get the coherence score for the given parameters\n",
    "                    cv = compute_coherence_values(corpus=corpus_sets[i], dictionary=dictionary, \n",
    "                                                  k=k, a=a, b=b)\n",
    "                    # Save the model results\n",
    "                    model_results['Validation_Set'].append(corpus_title[i])\n",
    "                    model_results['Topics'].append(k)\n",
    "                    model_results['Alpha'].append(a)\n",
    "                    model_results['Beta'].append(b)\n",
    "                    model_results['Coherence'].append(cv)\n",
    "                    pbar.update(1)\n",
    "    pd.DataFrame(model_results).to_csv('lda_tuning_results.csv', index=False)\n",
    "    pbar.close()"
   ]
  },
  {
   "cell_type": "code",
   "execution_count": 29,
   "id": "offshore-prime",
   "metadata": {
    "scrolled": true
   },
   "outputs": [
    {
     "name": "stderr",
     "output_type": "stream",
     "text": [
      "C:\\Users\\JOSE\\anaconda3\\lib\\site-packages\\ipykernel\\ipkernel.py:287: DeprecationWarning: `should_run_async` will not call `transform_cell` automatically in the future. Please pass the result to `transformed_cell` argument and any exception that happen during thetransform in `preprocessing_exc_tuple` in IPython 7.17 and above.\n",
      "  and should_run_async(code)\n"
     ]
    },
    {
     "data": {
      "text/html": [
       "<div>\n",
       "<style scoped>\n",
       "    .dataframe tbody tr th:only-of-type {\n",
       "        vertical-align: middle;\n",
       "    }\n",
       "\n",
       "    .dataframe tbody tr th {\n",
       "        vertical-align: top;\n",
       "    }\n",
       "\n",
       "    .dataframe thead th {\n",
       "        text-align: right;\n",
       "    }\n",
       "</style>\n",
       "<table border=\"1\" class=\"dataframe\">\n",
       "  <thead>\n",
       "    <tr style=\"text-align: right;\">\n",
       "      <th></th>\n",
       "      <th>Validation_Set</th>\n",
       "      <th>Topics</th>\n",
       "      <th>Alpha</th>\n",
       "      <th>Beta</th>\n",
       "      <th>Coherence</th>\n",
       "    </tr>\n",
       "  </thead>\n",
       "  <tbody>\n",
       "    <tr>\n",
       "      <th>28</th>\n",
       "      <td>75% Corpus</td>\n",
       "      <td>2</td>\n",
       "      <td>asymmetric</td>\n",
       "      <td>0.9099999999999999</td>\n",
       "      <td>0.296034</td>\n",
       "    </tr>\n",
       "    <tr>\n",
       "      <th>451</th>\n",
       "      <td>100% Corpus</td>\n",
       "      <td>8</td>\n",
       "      <td>0.01</td>\n",
       "      <td>0.31</td>\n",
       "      <td>0.302996</td>\n",
       "    </tr>\n",
       "    <tr>\n",
       "      <th>198</th>\n",
       "      <td>75% Corpus</td>\n",
       "      <td>8</td>\n",
       "      <td>0.9099999999999999</td>\n",
       "      <td>0.9099999999999999</td>\n",
       "      <td>0.309380</td>\n",
       "    </tr>\n",
       "    <tr>\n",
       "      <th>27</th>\n",
       "      <td>75% Corpus</td>\n",
       "      <td>2</td>\n",
       "      <td>asymmetric</td>\n",
       "      <td>0.61</td>\n",
       "      <td>0.311865</td>\n",
       "    </tr>\n",
       "    <tr>\n",
       "      <th>298</th>\n",
       "      <td>100% Corpus</td>\n",
       "      <td>2</td>\n",
       "      <td>asymmetric</td>\n",
       "      <td>0.9099999999999999</td>\n",
       "      <td>0.312070</td>\n",
       "    </tr>\n",
       "    <tr>\n",
       "      <th>...</th>\n",
       "      <td>...</td>\n",
       "      <td>...</td>\n",
       "      <td>...</td>\n",
       "      <td>...</td>\n",
       "      <td>...</td>\n",
       "    </tr>\n",
       "    <tr>\n",
       "      <th>537</th>\n",
       "      <td>100% Corpus</td>\n",
       "      <td>10</td>\n",
       "      <td>asymmetric</td>\n",
       "      <td>0.61</td>\n",
       "      <td>0.543275</td>\n",
       "    </tr>\n",
       "    <tr>\n",
       "      <th>176</th>\n",
       "      <td>75% Corpus</td>\n",
       "      <td>7</td>\n",
       "      <td>asymmetric</td>\n",
       "      <td>0.31</td>\n",
       "      <td>0.549555</td>\n",
       "    </tr>\n",
       "    <tr>\n",
       "      <th>266</th>\n",
       "      <td>75% Corpus</td>\n",
       "      <td>10</td>\n",
       "      <td>asymmetric</td>\n",
       "      <td>0.31</td>\n",
       "      <td>0.550511</td>\n",
       "    </tr>\n",
       "    <tr>\n",
       "      <th>207</th>\n",
       "      <td>75% Corpus</td>\n",
       "      <td>8</td>\n",
       "      <td>asymmetric</td>\n",
       "      <td>0.61</td>\n",
       "      <td>0.551414</td>\n",
       "    </tr>\n",
       "    <tr>\n",
       "      <th>507</th>\n",
       "      <td>100% Corpus</td>\n",
       "      <td>9</td>\n",
       "      <td>asymmetric</td>\n",
       "      <td>0.61</td>\n",
       "      <td>0.571083</td>\n",
       "    </tr>\n",
       "  </tbody>\n",
       "</table>\n",
       "<p>540 rows × 5 columns</p>\n",
       "</div>"
      ],
      "text/plain": [
       "    Validation_Set  Topics               Alpha                Beta  Coherence\n",
       "28      75% Corpus       2          asymmetric  0.9099999999999999   0.296034\n",
       "451    100% Corpus       8                0.01                0.31   0.302996\n",
       "198     75% Corpus       8  0.9099999999999999  0.9099999999999999   0.309380\n",
       "27      75% Corpus       2          asymmetric                0.61   0.311865\n",
       "298    100% Corpus       2          asymmetric  0.9099999999999999   0.312070\n",
       "..             ...     ...                 ...                 ...        ...\n",
       "537    100% Corpus      10          asymmetric                0.61   0.543275\n",
       "176     75% Corpus       7          asymmetric                0.31   0.549555\n",
       "266     75% Corpus      10          asymmetric                0.31   0.550511\n",
       "207     75% Corpus       8          asymmetric                0.61   0.551414\n",
       "507    100% Corpus       9          asymmetric                0.61   0.571083\n",
       "\n",
       "[540 rows x 5 columns]"
      ]
     },
     "execution_count": 29,
     "metadata": {},
     "output_type": "execute_result"
    }
   ],
   "source": [
    "tabla_tunning = pd.read_csv('lda_tuning_results.csv')\n",
    "tabla_tunning = tabla_tunning.sort_values(by = 'Coherence')\n",
    "tabla_tunning"
   ]
  },
  {
   "cell_type": "code",
   "execution_count": 46,
   "id": "imposed-symposium",
   "metadata": {},
   "outputs": [
    {
     "name": "stderr",
     "output_type": "stream",
     "text": [
      "C:\\Users\\JOSE\\anaconda3\\lib\\site-packages\\ipykernel\\ipkernel.py:287: DeprecationWarning: `should_run_async` will not call `transform_cell` automatically in the future. Please pass the result to `transformed_cell` argument and any exception that happen during thetransform in `preprocessing_exc_tuple` in IPython 7.17 and above.\n",
      "  and should_run_async(code)\n"
     ]
    }
   ],
   "source": [
    "tabla_tunning.to_excel('mejor_modelo.xlsx')"
   ]
  },
  {
   "cell_type": "code",
   "execution_count": 34,
   "id": "geographic-calibration",
   "metadata": {},
   "outputs": [
    {
     "name": "stderr",
     "output_type": "stream",
     "text": [
      "C:\\Users\\JOSE\\anaconda3\\lib\\site-packages\\ipykernel\\ipkernel.py:287: DeprecationWarning: `should_run_async` will not call `transform_cell` automatically in the future. Please pass the result to `transformed_cell` argument and any exception that happen during thetransform in `preprocessing_exc_tuple` in IPython 7.17 and above.\n",
      "  and should_run_async(code)\n",
      "C:\\Users\\JOSE\\anaconda3\\lib\\asyncio\\events.py:81: DeprecationWarning: `run_cell_async` will not call `transform_cell` automatically in the future. Please pass the result to `transformed_cell` argument and any exception that happen during thetransform in `preprocessing_exc_tuple` in IPython 7.17 and above.\n",
      "  self._context.run(self._callback, *self._args)\n"
     ]
    },
    {
     "name": "stdout",
     "output_type": "stream",
     "text": [
      "[(0,\n",
      "  '0.072*\"venezolano\" + 0.038*\"no\" + 0.022*\"colombia\" + 0.021*\"país\" + '\n",
      "  '0.013*\"  \" + 0.012*\"colombiano\" + 0.012*\"tener\" + 0.011*\"hacer\" + '\n",
      "  '0.007*\"si\" + 0.007*\"venir\"'),\n",
      " (1,\n",
      "  '0.150*\"venecos\" + 0.029*\"mierda\" + 0.016*\"hijueputa\" + 0.016*\"  \" + '\n",
      "  '0.012*\"hp\" + 0.011*\"puta\" + 0.011*\"hijo\" + 0.010*\"plaga\" + 0.008*\"maldito\" '\n",
      "  '+ 0.008*\"pa\"'),\n",
      " (2,\n",
      "  '0.004*\"trata\" + 0.004*\"joven\" + 0.004*\"ojala\" + 0.003*\"campaña\" + '\n",
      "  '0.003*\"rápido\" + 0.003*\"excelente\" + 0.003*\"real\" + 0.003*\"plan\" + '\n",
      "  '0.003*\"valer\" + 0.003*\"minuto\"'),\n",
      " (3,\n",
      "  '0.006*\"paro\" + 0.005*\"periodista\" + 0.005*\"coronavirus\" + 0.004*\"realizar\" '\n",
      "  '+ 0.003*\"presencia\" + 0.003*\"denunciar\" + 0.002*\"acoger\" + 0.002*\"dictador\" '\n",
      "  '+ 0.002*\"muestra\" + 0.002*\"permiso\"'),\n",
      " (4,\n",
      "  '0.005*\"🏻\\u200d\" + 0.005*\"dolar\" + 0.005*\"ecuador\" + 0.004*\"mañana\" + '\n",
      "  '0.004*\"ignorante\" + 0.004*\"metido\" + 0.003*\"mamar\" + 0.003*\"perú\" + '\n",
      "  '0.003*\"cansar\" + 0.002*\"dolor\"'),\n",
      " (5,\n",
      "  '0.028*\"veneca\" + 0.019*\"hptas\" + 0.018*\"venecas\" + 0.004*\"negro\" + '\n",
      "  '0.004*\"re\" + 0.004*\"parce\" + 0.003*\"verga\" + 0.003*\"peste\" + 0.003*\"man\" + '\n",
      "  '0.003*\"mitad\"'),\n",
      " (6,\n",
      "  '0.088*\"veneco\" + 0.030*\"malparido\" + 0.011*\"hpta\" + 0.005*\"puro\" + 0.004*\"  '\n",
      "  '\" + 0.002*\"chiste\" + 0.002*\"muerto\" + 0.002*\":(\" + 0.002*\"infiltrado\" + '\n",
      "  '0.002*\"fastidiar\"'),\n",
      " (7,\n",
      "  '0.033*\"pedir\" + 0.012*\"plata\" + 0.008*\"vender\" + 0.008*\"limosna\" + '\n",
      "  '0.007*\"semáforo\" + 0.006*\"vendedor\" + 0.005*\"subir\" + 0.004*\"cobarde\" + '\n",
      "  '0.004*\"niño\" + 0.004*\"vayan\"'),\n",
      " (8,\n",
      "  '0.060*\"venezolano\" + 0.055*\"no\" + 0.018*\"si\" + 0.016*\"tener\" + '\n",
      "  '0.015*\"decir\" + 0.013*\"hacer\" + 0.013*\"robar\" + 0.011*\"  \" + 0.008*\"ver\" + '\n",
      "  '0.008*\"ni\"')]\n"
     ]
    },
    {
     "data": {
      "text/html": [
       "\n",
       "<link rel=\"stylesheet\" type=\"text/css\" href=\"https://cdn.jsdelivr.net/gh/bmabey/pyLDAvis@3.2.2/pyLDAvis/js/ldavis.v1.0.0.css\">\n",
       "\n",
       "\n",
       "<div id=\"ldavis_el170819712226051526503686910\"></div>\n",
       "<script type=\"text/javascript\">\n",
       "\n",
       "var ldavis_el170819712226051526503686910_data = {\"mdsDat\": {\"x\": [-0.30432663509678176, -0.27953556722480705, 0.032591434806778716, 0.06379884649174578, 0.09590430928040143, 0.09337674909674362, 0.10023698939643694, 0.10062401264131775, 0.09732986060816501], \"y\": [-0.022867700420823374, -0.004020797536730817, 0.19796505416848695, -0.06333287497342394, -0.009349474848929647, -0.02982814986919119, -0.018788353024011356, -0.025667167170002756, -0.02411053632537382], \"topics\": [1, 2, 3, 4, 5, 6, 7, 8, 9], \"cluster\": [1, 1, 1, 1, 1, 1, 1, 1, 1], \"Freq\": [37.862253875794686, 32.86495176933268, 7.0727163225703436, 4.969187605565134, 3.8099761352434953, 3.5048289687876086, 3.4751500940471685, 3.2302704588172473, 3.2106647698416415]}, \"tinfo\": {\"Term\": [\"venecos\", \"venezolano\", \"veneco\", \"no\", \"colombia\", \"mierda\", \"pedir\", \"  \", \"pa\\u00eds\", \"decir\", \"malparido\", \"robar\", \"veneca\", \"si\", \"hijueputa\", \"tener\", \"hijo\", \"plaga\", \"hptas\", \"hacer\", \"colombiano\", \"hp\", \"venecas\", \"puta\", \"plata\", \"problema\", \"rata\", \"pa\", \"gobierno\", \"mano\", \"frontera\", \"salud\", \"cerrar\", \"duque\", \"migraci\\u00f3n\", \"desempleo\", \"generar\", \"entrar\", \"presidente\", \"recibir\", \"crisis\", \"entrada\", \"sistema\", \"guajira\", \"suficiente\", \"empleo\", \"miseria\", \"pobreza\", \"aumentar\", \"protesta\", \"deportar\", \"destruir\", \"violencia\", \"ingresar\", \"ingreso\", \"momento\", \"oportunidad\", \"social\", \"cierre\", \"educaci\\u00f3n\", \"gobierno\", \"problema\", \"colombia\", \"vandalismo\", \"exigir\", \"control\", \"nacional\", \"pa\\u00eds\", \"morir\", \"situaci\\u00f3n\", \"venezuela\", \"necesitar\", \"migrante\", \"venezolano\", \"seguir\", \"traer\", \"sacar\", \"colombiano\", \"dejar\", \"favor\", \"no\", \"venir\", \"debe\", \"  \", \"hacer\", \"tener\", \"llegar\", \"ahora\", \"ciudad\", \"mas\", \"si\", \"solo\", \"   \", \"ac\\u00e1\", \"aqu\\u00ed\", \"querer\", \"atracar\", \"respetar\", \"amigo\", \"andar\", \"gustar\", \"gana\", \"visto\", \"supermercado\", \"perder\", \"barrio\", \"tratar\", \"toque\", \"bogotano\", \"flojo\", \"noche\", \"acento\", \"asi\", \"generalizar\", \"sentir\", \"queda\", \"voy\", \"matar\", \"ayer\", \"violar\", \"leer\", \"paisa\", \"conjunto\", \"vivo\", \"escuchar\", \"cuento\", \"policia\", \"decir\", \"nadie\", \"robar\", \"saquear\", \"da\", \"miedo\", \"sentar\", \"ni\", \"malo\", \"nunca\", \"saber\", \"si\", \"no\", \"ver\", \"venezolano\", \"tener\", \"polic\\u00eda\", \"gente\", \"comer\", \"querer\", \"hacer\", \"pasar\", \"d\\u00eda\", \"as\\u00ed\", \"creer\", \"cosa\", \"bien\", \"bogot\\u00e1\", \"  \", \"bueno\", \"verdad\", \"dar\", \"colombiano\", \"solo\", \"ir\", \"   \", \"trabajar\", \"venir\", \"pa\\u00eds\", \"ahora\", \"hijueputa\", \"venecos\", \"hps\", \"hijueputas\", \"jajaja\", \"jajajaja\", \"maldito\", \"odio\", \"mierda\", \"puta\", \"coger\", \"putos\", \"triple\", \"plomo\", \"sapo\", \"jaja\", \"fastidio\", \"mk\", \"hp\", \"tambien\", \"hpts\", \"puto\", \"hdp\", \"detestar\", \"brutos\", \"largar\", \"perra\", \"gonorrea\", \"cagar\", \"llevarse\", \"pa\", \"madre\", \"hijo\", \"plaga\", \"extranjeros\", \"rata\", \"  \", \"asqueroso\", \"jajajajaja\", \"   \", \"ladr\\u00f3n\", \"comer\", \"tan\", \"puro\", \"pais\", \"limosna\", \"vendedor\", \"sem\\u00e1foro\", \"cobarde\", \"ambulante\", \"vayan\", \"patio\", \"embarazado\", \"pronto\", \"vender\", \"tarde\", \"plata\", \"dulce\", \"mont\\u00f3n\", \"and\\u00e9n\", \"argentino\", \"incluir\", \"venezolanos\", \"restaurantes\", \"largo\", \"especial\", \"pedir\", \"obra\", \"producto\", \"venta\", \"\\ud83c\\udffd\\u200d\", \"aire\", \"maleta\", \"gastar\", \"parto\", \"tm\", \"sostener\", \"puente\", \"vidrio\", \"bonito\", \"subir\", \"hospital\", \"espacio\", \"lleno\", \"ni\\u00f1o\", \"mano\", \"mujer\", \"calle\", \"bus\", \"venezolano\", \"veneco\", \"hpta\", \"malparido\", \"chiste\", \"distinguir\", \"pinta\", \"fastidiar\", \"bala\", \"huev\\u00f3n\", \"jajajajajajaja\", \"dividir\", \"fijo\", \":(\", \"1-no\", \"3-los\", \"4-la\", \"5-la\", \"6-duque\", \"2-no\", \"mijo\", \"\\u00e8l\", \"cariaco\", \"vnzl\", \"gol\", \"valla\", \"revoluci\\u00f3n\", \"disculpa\", \"cale\\u00f1o\", \"celebrar\", \"paila\", \"camiseta\", \"pueda\", \"infiltrado\", \"pm\", \"puro\", \"monda\", \"perro\", \"muerto\", \"dizque\", \"cara\", \"  \", \"hoy\", \"jajajajaja\", \"jugar\", \"hambre\", \"paro\", \"periodista\", \"presencia\", \"denunciar\", \"muestra\", \"realizar\", \"acoger\", \"permiso\", \"mentiroso\", \"pago\", \"pasaporte\", \"mejores\", \"villa\", \"requerir\", \"bandera\", \"onu\", \"perdonar\", \"soldado\", \"cambuches\", \"80%\", \"punta\", \"gubernamental\", \"yopal\", \"rosario\", \"entrevista\", \"seguidor\", \"profesor\", \"incremento\", \"dignidad\", \"hola\", \"dictador\", \"coronavirus\", \"mundial\", \"paramilitar\", \"literal\", \"cifras\", \"est\\u00fapido\", \"cubano\", \"cauca\", \"veneca\", \"hptas\", \"venecas\", \"negro\", \"re\", \"parce\", \"peste\", \"verga\", \"confundir\", \"colectivo\", \"man\", \"narco\", \"gonorreas\", \"jajajajajaja\", \"bla\", \"ignorancia\", \"cami\\u00f3n\", \"siglo\", \"60\", \"mitad\", \"jueputa\", \"apuesto\", \"deseo\", \"chao\", \"xxi\", \"guardar\", \"infiltrar\", \"like\", \"petristas\", \"ome\", \"coca\", \"regi\\u00f3n\", \"mil\", \"escribir\", \"  \", \"ecuador\", \"ma\\u00f1ana\", \"ignorante\", \"mamar\", \"dolar\", \"per\\u00fa\", \"metido\", \"panfleto\", \"cansar\", \"personaje\", \"palacio\", \"disturbio\", \"revuelto\", \"ja\", \"ataque\", \"miembro\", \"\\ud83c\\udffb\\u200d\", \"famoso\", \"retornar\", \"vendar\", \"dolor\", \"marrano\", \"show\", \"aprovechado\", \"cliente\", \"valle\", \"relaci\\u00f3n\", \"manifestar\", \"rojo\", \"miraflores\", \"tiendas\", \"programa\", \"gallo\", \"municipio\", \"cabeza\", \"ojala\", \"campa\\u00f1a\", \"r\\u00e1pido\", \"joven\", \"trata\", \"minuto\", \"real\", \"plan\", \"excelente\", \"ni\\u00f1a\", \"valer\", \"considerar\", \"culpar\", \"suelo\", \"mar\\u00eda\", \"demas\", \"duela\", \"pico\", \"ave\", \"fondo\", \"atravesar\", \"echarle\", \"lavar\", \"atentar\", \"criollo\", \"placa\", \"lastimar\", \"nombrar\", \"desarrollar\", \"tapa\", \"delicuentes\", \"\\u00e9sta\", \"finca\", \"san\", \"escorias\", \"adivinar\"], \"Freq\": [4086.0, 17772.0, 1261.0, 12210.0, 3344.0, 799.0, 698.0, 3618.0, 3562.0, 2113.0, 440.0, 1780.0, 367.0, 3266.0, 436.0, 3750.0, 557.0, 566.0, 258.0, 3203.0, 2608.0, 357.0, 248.0, 304.0, 256.0, 965.0, 437.0, 300.0, 893.0, 483.0, 634.0584736597177, 412.012364608446, 309.9575193897267, 460.53431942077003, 355.5829282493986, 206.84695555505868, 228.29791914606332, 483.4037167480484, 712.1347112458442, 302.2157045076186, 175.38025780693968, 160.93703725424288, 162.25434267111743, 195.6093551068403, 140.30218268396953, 263.74454786212027, 140.98669385557614, 180.87920347372912, 139.7689244473476, 187.2390253146135, 361.2439247084679, 133.60918640454625, 129.60387798397906, 113.67751119080384, 132.58019704671, 207.59806180660422, 174.29873048753268, 274.33766053297677, 104.50906051338593, 137.6003962403194, 865.5811869855793, 933.1536803418733, 3185.7061354285074, 162.11703904179373, 458.42517113558034, 347.9400688459744, 222.68197181205363, 2987.225926966481, 248.57574778964033, 390.0450113228612, 983.0427666283911, 291.95239920152073, 245.76591642675672, 10308.134692273505, 679.2706115326502, 298.53428204619655, 525.7951424679503, 1738.4700187878914, 766.152991046843, 424.12195423289114, 5415.624025850821, 1020.5855397584864, 408.1270931974724, 1790.3314473273856, 1601.642224994286, 1731.2961280744282, 664.1431949531833, 708.6903440478063, 547.4291388627224, 581.9421427071471, 1064.6929457000979, 616.1788806358898, 609.9966014439883, 501.723251963732, 502.09860605066063, 543.640633503147, 234.06094801558447, 225.05768298327766, 233.6318200397234, 192.50454094594556, 263.0857988563657, 153.16527108930742, 146.83111987022303, 131.03504663946507, 129.79272647637373, 227.99411274388692, 150.44857397204484, 93.759301268912, 114.48546551403308, 91.2952131867588, 99.72133809277042, 127.29969248415314, 140.6656194298153, 77.89669059802645, 90.0033804722018, 74.66952756960028, 106.86794723327385, 686.1253865845737, 132.20391142669772, 67.56670802644574, 90.26827046293788, 83.05812573371155, 68.31018095503319, 91.02218148393959, 146.86198782903153, 83.41711692723324, 96.57500909173712, 1893.658511888226, 334.93828684652254, 1569.2826819280606, 333.99232212378297, 480.79359624838565, 170.89718574052867, 166.76889859463768, 1009.3798342799645, 372.2856951205128, 229.46926715597596, 706.7391361737353, 2190.177506350081, 6775.907184750858, 1043.9979045468442, 7389.473287713825, 2002.0863636453082, 341.3541863259216, 725.3166946815686, 316.16308125915435, 837.5605402568762, 1588.5581096986577, 489.2112483028307, 447.0753039449835, 584.2290451787339, 467.8737429817178, 377.9013024551687, 519.5111445260931, 438.8136329846296, 1316.1555143085986, 439.1960271012125, 392.64559030215986, 530.9609688439816, 867.1827811232363, 563.7647402782065, 448.078771758899, 574.994400031683, 421.998830728978, 534.247254667579, 564.6019184819363, 433.26278501504856, 431.93117175692004, 3998.0508964188093, 216.56429437319557, 145.66739536917117, 159.88294208082596, 139.41630263108007, 223.19393625973416, 140.90156024302019, 767.5389362294893, 291.34049177973463, 114.79479378891216, 56.063012385535416, 64.03952530100061, 46.08520156197472, 41.57457479310605, 56.12468278111801, 39.616062580981215, 40.643858097071615, 324.44688531317206, 60.60008083225285, 30.024577869941197, 157.65502467899518, 27.46911395137941, 22.535868054583272, 22.180327565580914, 94.21751695545129, 47.60997296786905, 43.58185259787933, 42.36768260253429, 25.171086133991817, 219.40435489773847, 86.8133638086347, 289.29862662438416, 262.99459174453494, 88.19988186237414, 160.77765855950335, 430.6548325248705, 50.73271529209937, 51.50926839274556, 131.3910582052791, 93.22713452349774, 80.36631636303629, 75.99838294214597, 56.51947989753353, 61.48977171900729, 145.4741232921649, 111.80513691077013, 131.13333481005418, 77.77407356923104, 66.57181801961465, 77.23935219831327, 63.27750282904083, 50.05497591607192, 51.969738007959165, 154.0259645220235, 43.073030272280846, 233.7014079854432, 33.10627897445411, 41.97182242172985, 27.420413766678664, 36.309811521883674, 29.340169633195387, 25.88788876869491, 25.53416451703066, 32.614940748519246, 32.53702785062758, 612.8037001376659, 44.67355027922345, 27.185166491565894, 32.54621865990641, 23.839738036693888, 20.889688531626916, 20.56748557753668, 21.293631347775612, 21.03646283878368, 36.91102149720773, 25.12966224138773, 41.10162127393843, 37.33995060158532, 72.5686839302845, 87.4771823015061, 36.60846928574183, 37.47777355683433, 60.121485154687775, 77.31610046262745, 76.78086534680446, 60.83938270693583, 66.74204173405506, 46.339424733387524, 44.57683997770253, 1257.2508093884546, 154.76701593534617, 426.4001286289344, 34.37955620475853, 27.869195843601574, 27.53057994743792, 28.342686945322697, 25.805606366915445, 22.004822440062473, 20.8613549571509, 21.54202835466896, 19.25086565560228, 30.289914448641376, 16.089167116307145, 16.089167116307145, 16.089167116307145, 16.089167116307145, 16.089167116307145, 15.383145679006374, 17.25952318293502, 13.473462049189528, 13.669234639320127, 12.613568146253138, 15.192789194037749, 13.333634737618013, 14.969156626291225, 11.91232022536631, 17.70130711986045, 15.284734464041708, 10.472325574756267, 15.51321565597792, 17.457101697806838, 28.908992898184724, 15.667346826174436, 64.56166929740557, 16.91944018155184, 26.09681423502957, 32.19154652489848, 22.336326464394023, 25.039381874701757, 51.56948619175096, 24.778350641819834, 18.621532595459364, 18.15035314416947, 20.522794140022796, 76.46999415679994, 70.41392445553993, 36.45378908880427, 33.168187459718986, 31.00789013255658, 50.19068701052002, 32.84077914175721, 27.27312424805644, 23.917658048707253, 19.938053717674737, 20.89504770913679, 25.193314811854503, 17.40441860076025, 20.20040168136619, 18.267516194303724, 16.985743997374943, 21.376917175443044, 14.685078810012849, 14.41267868840834, 16.435109295624663, 18.811192536551637, 12.567677036199298, 12.814098463456945, 11.686663816474594, 13.02158562763849, 13.797814275037954, 14.060090075689557, 12.517596654233651, 14.87053014551436, 13.584111877126144, 32.300388520898316, 60.12852331461097, 18.824123539139656, 14.668633313845637, 13.652058752990564, 16.429726239928442, 16.669849522729187, 16.92485835172927, 14.404834412438001, 364.3081318176402, 254.01171165656268, 239.18487818073714, 55.483931893657385, 51.797763505395146, 46.710160089863294, 42.51228859524786, 45.342110904323796, 25.926442960115814, 25.07357704664748, 41.54620311728028, 23.711398166885967, 25.40235831929882, 23.968840609465573, 19.690887243781777, 23.94430285310415, 20.853507697117916, 15.276077807501983, 17.57153787350283, 32.72177861280017, 15.346850311393888, 14.099771138153361, 14.85920084386129, 13.521384646507759, 11.961125573440798, 12.87391701759871, 11.12465114916116, 9.456766505002944, 12.258742159997421, 10.440475079362129, 11.88418057090344, 23.304990625661052, 20.950393622952213, 13.59991521011041, 21.053719225508736, 54.73559255519154, 51.31044699512358, 49.77966441116687, 42.02880539945982, 56.99353026303275, 36.22857681448385, 48.468166675760216, 24.80343431488019, 33.621934310306095, 24.70242403810229, 24.050464824660818, 25.915999258343952, 20.352581611549507, 18.328996802512354, 17.55584789863576, 17.346995212601907, 59.05003610147535, 16.317504075501923, 17.639845769313574, 19.23599352130962, 29.089819136479885, 15.91737290667469, 16.331282964055948, 16.676914149841053, 21.779440215171498, 11.940347270098382, 11.867957515144987, 12.09010795364286, 16.375301255866724, 10.154186140204438, 19.75981487313385, 18.12819324024304, 16.477010595081275, 17.991634081944582, 25.205669746548114, 44.4173060039061, 41.422540818919394, 37.955602132796216, 44.58024260003141, 44.690488243116036, 30.426309395996274, 35.65953006848589, 34.09933381756948, 36.05471080977377, 23.796521075252745, 30.65747896190191, 26.297607108790874, 14.6756653440694, 14.517038317110618, 19.14156328820905, 13.869038894835086, 13.85435063412813, 13.824228658517654, 11.978415148482261, 19.244260152665472, 11.069932228909344, 12.057282795961068, 11.936512183531418, 12.22807057194526, 10.244992923751965, 9.31518509134667, 13.818131405796727, 8.374485891826149, 7.859762427756915, 8.305280315296919, 11.69919332376283, 11.179489381750157, 9.227608288424268, 17.36861019004206, 13.522262041699, 12.141865123441058], \"Total\": [4086.0, 17772.0, 1261.0, 12210.0, 3344.0, 799.0, 698.0, 3618.0, 3562.0, 2113.0, 440.0, 1780.0, 367.0, 3266.0, 436.0, 3750.0, 557.0, 566.0, 258.0, 3203.0, 2608.0, 357.0, 248.0, 304.0, 256.0, 965.0, 437.0, 300.0, 893.0, 483.0, 638.1786430518983, 415.4661117086039, 313.71681618255684, 466.42733915946394, 360.1491339250521, 210.26203720674695, 232.2516234052549, 492.5324429266526, 726.5330192888839, 308.59069411190484, 179.1318803199245, 164.65488347840898, 166.06406800277784, 200.25616364782155, 143.65315311542938, 270.0608964174794, 144.50232559847845, 185.47809679471897, 143.39066798812237, 192.27707293316897, 371.31220815229096, 137.4077515409786, 133.36795105411542, 116.99840132545299, 136.4973811906498, 213.90672622686415, 179.6245789200906, 282.8274065115577, 107.83326713676527, 142.0188427177733, 893.9499061082296, 965.4219763770635, 3344.9365197010625, 167.43529485329634, 483.76871872937335, 366.87786126217713, 233.03272446963382, 3562.8143181071678, 261.8108090715322, 425.33201283953395, 1175.033576781099, 317.4505197149602, 262.4379392955508, 17772.41705458817, 843.373033922799, 328.32856930427437, 638.0781254853424, 2608.9585320376045, 1012.8365776111267, 504.4258615943648, 12210.12291638913, 1561.9091873708253, 493.8330798220101, 3618.7269373843806, 3203.727362252811, 3750.347384913367, 1015.3056662189218, 1158.351068221631, 779.7322507246148, 859.7183445095197, 3266.920007135418, 1188.655046023633, 1326.9705241160566, 856.2169951590134, 865.2023335112908, 1387.7564587085872, 237.43322868357012, 229.9249243659213, 238.80017345192203, 196.89289993410083, 270.079112486829, 157.4562984367929, 150.94709373318145, 134.75907214170792, 134.15649425113858, 235.96589526642637, 155.81043211234308, 97.11343046532535, 118.84163897840565, 94.92934782103934, 103.7019257961698, 132.5713131523645, 146.6192474336945, 81.21732634699059, 93.99943471698296, 78.0009571825166, 111.72572152595981, 718.2734642034678, 138.5028721476915, 70.82550566986822, 94.63603156659282, 87.27671986508969, 71.82617667531501, 95.77872135943369, 154.59816308809997, 87.9037618387718, 101.80904192812527, 2113.2628534713863, 362.32990283661513, 1780.9690236697481, 364.6874846031525, 539.7852496217434, 184.0397598300791, 179.95182058359978, 1212.8568857730106, 428.5406665702475, 256.7969389313012, 886.5010989581888, 3266.920007135418, 12210.12291638913, 1506.0653048250665, 17772.41705458817, 3750.347384913367, 435.8683976546612, 1112.6104080464142, 401.7038374646489, 1387.7564587085872, 3203.727362252811, 711.3081524841099, 634.8935193317574, 907.2660402539176, 686.3418367540031, 517.407648460662, 835.0584093537378, 657.6729886996458, 3618.7269373843806, 679.214352000695, 581.288353774834, 987.1044253724389, 2608.9585320376045, 1188.655046023633, 756.982893599482, 1326.9705241160566, 679.0490719392398, 1561.9091873708253, 3562.8143181071678, 1158.351068221631, 436.7025156738011, 4086.497954208505, 221.3756701943945, 149.22646824978915, 164.0875707515733, 143.27365060525605, 229.7433963840563, 145.406810397244, 799.3531213116136, 304.4944906370201, 120.90486234275551, 59.536672619612325, 68.05409126440107, 49.43724951821784, 45.197883769897075, 61.202849952976116, 43.25856328631924, 44.782890763368634, 357.9479236064245, 67.09106593207446, 33.354215947675534, 176.89698786267095, 30.8244288836667, 26.079501093881795, 25.97982005709541, 110.53077821408539, 56.4670142473145, 51.79305079661955, 50.63118871678901, 30.38173307030266, 300.8885836591336, 130.7790161463414, 557.2888886827881, 566.6971415574402, 153.38454682838167, 437.2302226291259, 3618.7269373843806, 71.33414494391863, 78.6047755296747, 1326.9705241160566, 494.44421993733033, 401.7038374646489, 602.1265101633581, 210.9555179589489, 551.3634197247131, 149.08715619867394, 115.37571477955339, 136.9181394284741, 81.48389932390606, 69.84193030176822, 81.41472665381869, 66.8479802732429, 53.676352067439566, 56.49126841617003, 167.90143496619663, 47.32154701783372, 256.7943191463353, 36.41491938715861, 46.39102181536975, 30.88752177970856, 40.95027570049624, 33.145910834878805, 29.32345841764779, 28.982616512809265, 37.07433904504496, 37.105332072264815, 698.9678451333245, 51.090467110826054, 31.100839116436823, 37.53861816741708, 27.533282092494222, 24.235001430374858, 24.25500521752173, 25.11230596038561, 24.840423554010314, 44.22599434182908, 30.06134384403289, 53.10166327023269, 48.32058781406137, 117.06881150597685, 161.3755338455186, 53.02465272873394, 63.851192009185404, 238.54773351896478, 466.0335092458207, 483.6613843010266, 265.1319079204384, 589.7629103490041, 163.88569003712675, 17772.41705458817, 1261.997420725766, 158.3102599923001, 440.6432758207307, 38.06024794824895, 31.294564485655016, 30.990915953724528, 31.925160752023714, 29.470587501232945, 25.303847131286496, 24.254049164041042, 25.403608383348946, 22.78661228903757, 36.07726844386601, 19.26204571399008, 19.26204571399008, 19.26204571399008, 19.26204571399008, 19.26204571399008, 18.555526305477635, 21.28860438832655, 16.669128549244398, 16.953771821919283, 15.796665784886564, 19.731754383129328, 17.480892919704846, 19.714573894856596, 15.808859241371934, 23.605495067515836, 20.701773364503477, 14.206749665865313, 21.543268573800326, 24.797379822673165, 45.87055052784588, 21.911522471611175, 210.9555179589489, 25.128097754193366, 95.76406523345207, 176.65127501977506, 65.09863258914079, 138.9436347469263, 3618.7269373843806, 491.31585426803514, 78.6047755296747, 71.36038662486384, 450.72862853941103, 80.57116481724752, 76.06617847145985, 40.13324771892222, 36.785157575402216, 34.820298260099996, 56.771979882736595, 37.349524082654675, 31.28909517444623, 27.855051675800652, 23.606647701169816, 24.830358531503915, 29.98415374716606, 20.823930975188194, 24.249617950173263, 22.04602491392349, 20.550538392914337, 26.112797576780245, 18.275123636513566, 18.049467203550975, 20.603625210947563, 23.662168824013484, 15.907562158281689, 16.22608714181816, 14.922743306478237, 16.653900908575906, 17.675772081573488, 18.029143822354705, 16.12813393032021, 19.199749684468635, 17.9285958269233, 48.27492841902262, 104.59824929026504, 27.906029413261983, 20.097432389934166, 18.371044297277006, 34.56633173055453, 62.39502360842038, 100.38647000740377, 26.75725502498024, 367.9186194202839, 258.17926673071344, 248.1739340761457, 59.19485423783788, 55.63536454580968, 50.499142071740444, 46.155336703117385, 49.489344527728356, 29.61859375334077, 28.818075744360847, 48.02748392328638, 27.506934333779363, 29.542418715432923, 27.90343455138516, 23.027163391062007, 28.111014463483603, 24.65993909658814, 18.618700201193114, 21.678523362688914, 40.478246091165964, 19.01684346001794, 17.70736111958692, 18.760033435320928, 17.15220898358288, 15.34382819999465, 16.67574841255103, 14.817180661561686, 12.742352336388873, 16.598056433128967, 14.200370682851574, 16.46690852216014, 51.5801074844726, 141.50982628960006, 48.83905568839475, 3618.7269373843806, 58.820549452258504, 55.42865262219559, 53.794812629570316, 45.51408133750739, 61.9547869736137, 39.7931566273514, 53.29284211221887, 28.15907281483, 38.55253777982247, 28.38342844183098, 27.75644867683714, 30.144912793258356, 23.966933081916768, 21.632474632193244, 21.169261258162557, 21.022368898150695, 71.56252350943807, 20.008591137493525, 21.67620573131153, 23.70616034814801, 35.880246545158464, 19.71971361010058, 20.66997268974322, 21.2647816859565, 27.918756662333653, 15.346377030248986, 15.46240034117222, 15.904180334819781, 21.615605229585217, 13.516999571236406, 26.439269268397513, 24.78371974886087, 24.058079711908945, 29.13500355983801, 69.77264503167305, 48.01697773989178, 45.16525041672942, 41.57263753121318, 49.37757340341158, 49.743325690255865, 34.252145100624276, 40.27616575238971, 38.60299383212155, 41.40903715670871, 27.54973069601456, 35.82362718290078, 30.85019419293865, 18.416080182776906, 18.23160804627702, 24.265811353536137, 17.601066786684342, 17.609293128269915, 17.590939741243282, 15.530830508106083, 25.167054800491798, 14.587846166753529, 16.07244389806963, 15.998363626786704, 16.41375950561349, 13.781292542385808, 12.940095493861914, 19.334786788100736, 11.959790136720045, 11.228582580953523, 11.873539298962292, 16.76996302623079, 16.134541833974417, 13.465310778836223, 31.494386553619915, 25.01550959879629, 29.945410571318185], \"Category\": [\"Default\", \"Default\", \"Default\", \"Default\", \"Default\", \"Default\", \"Default\", \"Default\", \"Default\", \"Default\", \"Default\", \"Default\", \"Default\", \"Default\", \"Default\", \"Default\", \"Default\", \"Default\", \"Default\", \"Default\", \"Default\", \"Default\", \"Default\", \"Default\", \"Default\", \"Default\", \"Default\", \"Default\", \"Default\", \"Default\", \"Topic1\", \"Topic1\", \"Topic1\", \"Topic1\", \"Topic1\", \"Topic1\", \"Topic1\", \"Topic1\", \"Topic1\", \"Topic1\", \"Topic1\", \"Topic1\", \"Topic1\", \"Topic1\", \"Topic1\", \"Topic1\", \"Topic1\", \"Topic1\", \"Topic1\", \"Topic1\", \"Topic1\", \"Topic1\", \"Topic1\", \"Topic1\", \"Topic1\", \"Topic1\", \"Topic1\", \"Topic1\", \"Topic1\", \"Topic1\", \"Topic1\", \"Topic1\", \"Topic1\", \"Topic1\", \"Topic1\", \"Topic1\", \"Topic1\", \"Topic1\", \"Topic1\", \"Topic1\", \"Topic1\", \"Topic1\", \"Topic1\", \"Topic1\", \"Topic1\", \"Topic1\", \"Topic1\", \"Topic1\", \"Topic1\", \"Topic1\", \"Topic1\", \"Topic1\", \"Topic1\", \"Topic1\", \"Topic1\", \"Topic1\", \"Topic1\", \"Topic1\", \"Topic1\", \"Topic1\", \"Topic1\", \"Topic1\", \"Topic1\", \"Topic1\", \"Topic1\", \"Topic1\", \"Topic2\", \"Topic2\", \"Topic2\", \"Topic2\", \"Topic2\", \"Topic2\", \"Topic2\", \"Topic2\", \"Topic2\", \"Topic2\", \"Topic2\", \"Topic2\", \"Topic2\", \"Topic2\", \"Topic2\", \"Topic2\", \"Topic2\", \"Topic2\", \"Topic2\", \"Topic2\", \"Topic2\", \"Topic2\", \"Topic2\", \"Topic2\", \"Topic2\", \"Topic2\", \"Topic2\", \"Topic2\", \"Topic2\", \"Topic2\", \"Topic2\", \"Topic2\", \"Topic2\", \"Topic2\", \"Topic2\", \"Topic2\", \"Topic2\", \"Topic2\", \"Topic2\", \"Topic2\", \"Topic2\", \"Topic2\", \"Topic2\", \"Topic2\", \"Topic2\", \"Topic2\", \"Topic2\", \"Topic2\", \"Topic2\", \"Topic2\", \"Topic2\", \"Topic2\", \"Topic2\", \"Topic2\", \"Topic2\", \"Topic2\", \"Topic2\", \"Topic2\", \"Topic2\", \"Topic2\", \"Topic2\", \"Topic2\", \"Topic2\", \"Topic2\", \"Topic2\", \"Topic2\", \"Topic2\", \"Topic2\", \"Topic2\", \"Topic2\", \"Topic2\", \"Topic3\", \"Topic3\", \"Topic3\", \"Topic3\", \"Topic3\", \"Topic3\", \"Topic3\", \"Topic3\", \"Topic3\", \"Topic3\", \"Topic3\", \"Topic3\", \"Topic3\", \"Topic3\", \"Topic3\", \"Topic3\", \"Topic3\", \"Topic3\", \"Topic3\", \"Topic3\", \"Topic3\", \"Topic3\", \"Topic3\", \"Topic3\", \"Topic3\", \"Topic3\", \"Topic3\", \"Topic3\", \"Topic3\", \"Topic3\", \"Topic3\", \"Topic3\", \"Topic3\", \"Topic3\", \"Topic3\", \"Topic3\", \"Topic3\", \"Topic3\", \"Topic3\", \"Topic3\", \"Topic3\", \"Topic3\", \"Topic3\", \"Topic3\", \"Topic3\", \"Topic4\", \"Topic4\", \"Topic4\", \"Topic4\", \"Topic4\", \"Topic4\", \"Topic4\", \"Topic4\", \"Topic4\", \"Topic4\", \"Topic4\", \"Topic4\", \"Topic4\", \"Topic4\", \"Topic4\", \"Topic4\", \"Topic4\", \"Topic4\", \"Topic4\", \"Topic4\", \"Topic4\", \"Topic4\", \"Topic4\", \"Topic4\", \"Topic4\", \"Topic4\", \"Topic4\", \"Topic4\", \"Topic4\", \"Topic4\", \"Topic4\", \"Topic4\", \"Topic4\", \"Topic4\", \"Topic4\", \"Topic4\", \"Topic4\", \"Topic4\", \"Topic4\", \"Topic4\", \"Topic4\", \"Topic4\", \"Topic4\", \"Topic4\", \"Topic4\", \"Topic5\", \"Topic5\", \"Topic5\", \"Topic5\", \"Topic5\", \"Topic5\", \"Topic5\", \"Topic5\", \"Topic5\", \"Topic5\", \"Topic5\", \"Topic5\", \"Topic5\", \"Topic5\", \"Topic5\", \"Topic5\", \"Topic5\", \"Topic5\", \"Topic5\", \"Topic5\", \"Topic5\", \"Topic5\", \"Topic5\", \"Topic5\", \"Topic5\", \"Topic5\", \"Topic5\", \"Topic5\", \"Topic5\", \"Topic5\", \"Topic5\", \"Topic5\", \"Topic5\", \"Topic5\", \"Topic5\", \"Topic5\", \"Topic5\", \"Topic5\", \"Topic5\", \"Topic5\", \"Topic5\", \"Topic5\", \"Topic5\", \"Topic5\", \"Topic5\", \"Topic6\", \"Topic6\", \"Topic6\", \"Topic6\", \"Topic6\", \"Topic6\", \"Topic6\", \"Topic6\", \"Topic6\", \"Topic6\", \"Topic6\", \"Topic6\", \"Topic6\", \"Topic6\", \"Topic6\", \"Topic6\", \"Topic6\", \"Topic6\", \"Topic6\", \"Topic6\", \"Topic6\", \"Topic6\", \"Topic6\", \"Topic6\", \"Topic6\", \"Topic6\", \"Topic6\", \"Topic6\", \"Topic6\", \"Topic6\", \"Topic6\", \"Topic6\", \"Topic6\", \"Topic6\", \"Topic6\", \"Topic6\", \"Topic6\", \"Topic6\", \"Topic6\", \"Topic7\", \"Topic7\", \"Topic7\", \"Topic7\", \"Topic7\", \"Topic7\", \"Topic7\", \"Topic7\", \"Topic7\", \"Topic7\", \"Topic7\", \"Topic7\", \"Topic7\", \"Topic7\", \"Topic7\", \"Topic7\", \"Topic7\", \"Topic7\", \"Topic7\", \"Topic7\", \"Topic7\", \"Topic7\", \"Topic7\", \"Topic7\", \"Topic7\", \"Topic7\", \"Topic7\", \"Topic7\", \"Topic7\", \"Topic7\", \"Topic7\", \"Topic7\", \"Topic7\", \"Topic7\", \"Topic7\", \"Topic8\", \"Topic8\", \"Topic8\", \"Topic8\", \"Topic8\", \"Topic8\", \"Topic8\", \"Topic8\", \"Topic8\", \"Topic8\", \"Topic8\", \"Topic8\", \"Topic8\", \"Topic8\", \"Topic8\", \"Topic8\", \"Topic8\", \"Topic8\", \"Topic8\", \"Topic8\", \"Topic8\", \"Topic8\", \"Topic8\", \"Topic8\", \"Topic8\", \"Topic8\", \"Topic8\", \"Topic8\", \"Topic8\", \"Topic8\", \"Topic8\", \"Topic8\", \"Topic8\", \"Topic8\", \"Topic8\", \"Topic9\", \"Topic9\", \"Topic9\", \"Topic9\", \"Topic9\", \"Topic9\", \"Topic9\", \"Topic9\", \"Topic9\", \"Topic9\", \"Topic9\", \"Topic9\", \"Topic9\", \"Topic9\", \"Topic9\", \"Topic9\", \"Topic9\", \"Topic9\", \"Topic9\", \"Topic9\", \"Topic9\", \"Topic9\", \"Topic9\", \"Topic9\", \"Topic9\", \"Topic9\", \"Topic9\", \"Topic9\", \"Topic9\", \"Topic9\", \"Topic9\", \"Topic9\", \"Topic9\", \"Topic9\", \"Topic9\", \"Topic9\"], \"logprob\": [30.0, 29.0, 28.0, 27.0, 26.0, 25.0, 24.0, 23.0, 22.0, 21.0, 20.0, 19.0, 18.0, 17.0, 16.0, 15.0, 14.0, 13.0, 12.0, 11.0, 10.0, 9.0, 8.0, 7.0, 6.0, 5.0, 4.0, 3.0, 2.0, 1.0, -5.4148, -5.8459, -6.1305, -5.7346, -5.9932, -6.535, -6.4363, -5.6861, -5.2987, -6.1558, -6.7, -6.7859, -6.7778, -6.5908, -6.9231, -6.292, -6.9183, -6.6691, -6.9269, -6.6346, -5.9774, -6.972, -7.0025, -7.1336, -6.9798, -6.5313, -6.7062, -6.2526, -7.2177, -6.9426, -5.1035, -5.0284, -3.8005, -6.7786, -5.7391, -6.0149, -6.4612, -3.8648, -6.3512, -5.9007, -4.9763, -6.1903, -6.3626, -2.6263, -5.3459, -6.1681, -5.602, -4.4062, -5.2256, -5.8169, -3.2699, -4.9388, -5.8554, -4.3768, -4.4882, -4.4103, -5.3684, -5.3035, -5.5617, -5.5006, -4.8965, -5.4434, -5.4535, -5.6489, -5.6481, -5.5687, -6.2698, -6.309, -6.2716, -6.4653, -6.1529, -6.6939, -6.7361, -6.8499, -6.8595, -6.2961, -6.7118, -7.1847, -6.9849, -7.2113, -7.123, -6.8788, -6.779, -7.37, -7.2255, -7.4123, -7.0538, -5.1943, -6.841, -7.5123, -7.2226, -7.3059, -7.5013, -7.2143, -6.7359, -7.3015, -7.1551, -4.1791, -5.9114, -4.367, -5.9143, -5.55, -6.5843, -6.6088, -4.8083, -5.8057, -6.2896, -5.1647, -4.0337, -2.9043, -4.7746, -2.8176, -4.1234, -5.8925, -5.1388, -5.9691, -4.9949, -4.3548, -5.5326, -5.6227, -5.3551, -5.5772, -5.7908, -5.4725, -5.6413, -4.5429, -5.6404, -5.7525, -5.4507, -4.9601, -5.3908, -5.6204, -5.371, -5.6804, -5.4445, -5.3893, -5.654, -4.121, -1.8957, -4.8113, -5.2079, -5.1148, -5.2518, -4.7812, -5.2412, -3.546, -4.5147, -5.4461, -6.1628, -6.0297, -6.3587, -6.4617, -6.1617, -6.51, -6.4844, -4.4071, -6.0849, -6.7872, -5.1288, -6.8762, -7.0741, -7.09, -5.6436, -6.3262, -6.4146, -6.4428, -6.9635, -4.7983, -5.7255, -4.5218, -4.6171, -5.7096, -5.1092, -4.1239, -6.2627, -6.2475, -5.3111, -5.6542, -5.8026, -5.8585, -6.1546, -6.0704, -4.8562, -5.1195, -4.96, -5.4824, -5.638, -5.4893, -5.6887, -5.9231, -5.8856, -4.7991, -6.0733, -4.3822, -6.3365, -6.0992, -6.525, -6.2442, -6.4573, -6.5825, -6.5962, -6.3515, -6.3539, -3.4182, -6.0369, -6.5336, -6.3536, -6.6649, -6.797, -6.8125, -6.7778, -6.79, -6.2277, -6.6122, -6.1202, -6.2162, -5.5517, -5.3649, -6.236, -6.2125, -5.7399, -5.4883, -5.4953, -5.728, -5.6354, -6.0002, -6.039, -2.4339, -4.5287, -3.5152, -6.0331, -6.2431, -6.2553, -6.2262, -6.32, -6.4793, -6.5327, -6.5006, -6.6131, -6.1598, -6.7925, -6.7925, -6.7925, -6.7925, -6.7925, -6.8373, -6.7222, -6.9699, -6.9555, -7.0358, -6.8498, -6.9803, -6.8646, -7.093, -6.697, -6.8438, -7.2219, -6.8289, -6.7109, -6.2065, -6.819, -5.403, -6.7421, -6.3088, -6.0989, -6.4644, -6.3502, -5.6277, -6.3606, -6.6463, -6.6719, -6.5491, -5.1502, -5.2327, -5.8911, -5.9855, -6.0529, -5.5713, -5.9955, -6.1812, -6.3125, -6.4945, -6.4476, -6.2605, -6.6304, -6.4814, -6.582, -6.6548, -6.4248, -6.8003, -6.819, -6.6877, -6.5527, -6.956, -6.9366, -7.0287, -6.9205, -6.8626, -6.8438, -6.96, -6.7877, -6.8782, -6.012, -5.3906, -6.552, -6.8014, -6.8732, -6.688, -6.6735, -6.6583, -6.8196, -3.5806, -3.9412, -4.0014, -5.4625, -5.5313, -5.6347, -5.7288, -5.6644, -6.2234, -6.2568, -5.7518, -6.3127, -6.2438, -6.3019, -6.4985, -6.3029, -6.4411, -6.7523, -6.6123, -5.9906, -6.7477, -6.8325, -6.78, -6.8744, -6.997, -6.9234, -7.0695, -7.2319, -6.9724, -7.1329, -7.0034, -6.33, -6.4365, -6.8686, -6.4315, -5.403, -5.4677, -5.4979, -5.6672, -5.3626, -5.8157, -5.5246, -6.1946, -5.8904, -6.1986, -6.2254, -6.1507, -6.3923, -6.4971, -6.5402, -6.5521, -5.3272, -6.6133, -6.5354, -6.4488, -6.0352, -6.6381, -6.6125, -6.5915, -6.3246, -6.9256, -6.9317, -6.9132, -6.6098, -7.0877, -6.4219, -6.5081, -6.6036, -6.5156, -6.1785, -5.6058, -5.6756, -5.763, -5.6022, -5.5997, -5.9842, -5.8254, -5.8702, -5.8144, -6.2299, -5.9766, -6.13, -6.7133, -6.7241, -6.4476, -6.7698, -6.7709, -6.773, -6.9164, -6.4423, -6.9952, -6.9098, -6.9199, -6.8957, -7.0727, -7.1678, -6.7735, -7.2743, -7.3377, -7.2826, -6.9399, -6.9854, -7.1773, -6.5448, -6.7951, -6.9028], \"loglift\": [30.0, 29.0, 28.0, 27.0, 26.0, 25.0, 24.0, 23.0, 22.0, 21.0, 20.0, 19.0, 18.0, 17.0, 16.0, 15.0, 14.0, 13.0, 12.0, 11.0, 10.0, 9.0, 8.0, 7.0, 6.0, 5.0, 4.0, 3.0, 2.0, 1.0, 0.9647, 0.9629, 0.9592, 0.9585, 0.9585, 0.9548, 0.954, 0.9525, 0.9512, 0.9503, 0.95, 0.9484, 0.948, 0.9477, 0.9476, 0.9475, 0.9466, 0.9461, 0.9456, 0.9447, 0.9437, 0.9432, 0.9426, 0.9424, 0.9421, 0.9413, 0.9411, 0.9407, 0.9399, 0.9396, 0.939, 0.9372, 0.9224, 0.9389, 0.9174, 0.9182, 0.9258, 0.795, 0.9193, 0.8846, 0.7928, 0.8875, 0.9056, 0.4265, 0.7548, 0.8761, 0.7777, 0.5653, 0.6921, 0.7978, 0.1582, 0.5457, 0.7806, 0.2675, 0.2779, 0.1982, 0.5468, 0.4799, 0.6175, 0.581, -0.1499, 0.3142, 0.194, 0.4367, 0.427, 0.0341, 1.0985, 1.0914, 1.0909, 1.0902, 1.0865, 1.0851, 1.0851, 1.0847, 1.0797, 1.0784, 1.0777, 1.0776, 1.0754, 1.0737, 1.0736, 1.0722, 1.0713, 1.071, 1.0693, 1.0691, 1.0683, 1.067, 1.0662, 1.0657, 1.0655, 1.0632, 1.0626, 1.0618, 1.0614, 1.0604, 1.06, 1.003, 1.0342, 0.9862, 1.0248, 0.997, 1.0387, 1.0367, 0.9291, 0.972, 1.0002, 0.8861, 0.7129, 0.5239, 0.7463, 0.2352, 0.4851, 0.8683, 0.6849, 0.8733, 0.6078, 0.4113, 0.7385, 0.762, 0.6726, 0.7296, 0.7986, 0.6381, 0.7081, 0.1014, 0.6768, 0.7204, 0.4927, 0.0113, 0.3668, 0.5884, 0.2765, 0.6371, 0.04, -0.7294, 0.1294, 2.6379, 2.627, 2.627, 2.6248, 2.623, 2.6216, 2.62, 2.6175, 2.6083, 2.6048, 2.5971, 2.5888, 2.5881, 2.5787, 2.5654, 2.5623, 2.561, 2.5519, 2.5507, 2.5472, 2.5438, 2.5338, 2.5337, 2.5029, 2.4908, 2.4892, 2.4783, 2.4763, 2.4707, 2.4608, 2.3331, 2.2392, 1.9933, 1.8812, 2.0956, 1.6485, 0.5204, 2.3081, 2.2263, 0.3364, 0.9805, 1.0398, 0.5792, 1.3319, 0.4554, 2.9774, 2.9705, 2.9587, 2.9553, 2.954, 2.9493, 2.947, 2.9321, 2.9185, 2.9157, 2.9078, 2.9077, 2.9067, 2.9018, 2.8828, 2.8816, 2.88, 2.8773, 2.8752, 2.8738, 2.8705, 2.8704, 2.8677, 2.8674, 2.8592, 2.8579, 2.8534, 2.837, 2.837, 2.8357, 2.8211, 2.8227, 2.7458, 2.7441, 2.5237, 2.3896, 2.6314, 2.4691, 1.6237, 1.2056, 1.1615, 1.5299, 0.823, 1.7387, -2.9863, 3.2638, 3.2449, 3.2347, 3.1658, 3.1516, 3.1492, 3.1485, 3.1347, 3.1279, 3.1169, 3.1027, 3.0989, 3.0927, 3.0876, 3.0876, 3.0876, 3.0876, 3.0876, 3.0801, 3.0577, 3.0547, 3.0522, 3.0425, 3.0061, 2.9967, 2.9922, 2.9845, 2.9797, 2.9642, 2.9626, 2.9392, 2.9166, 2.8059, 2.9321, 2.0835, 2.872, 1.9675, 1.5651, 2.1979, 1.5539, -0.9834, 0.2804, 1.8274, 1.8985, 0.1782, 3.2988, 3.2738, 3.2549, 3.2475, 3.2351, 3.2278, 3.2224, 3.2137, 3.1986, 3.1821, 3.1785, 3.1769, 3.1716, 3.1683, 3.163, 3.1605, 3.1509, 3.1323, 3.126, 3.125, 3.1216, 3.1154, 3.115, 3.1066, 3.105, 3.1033, 3.1024, 3.0976, 3.0955, 3.0735, 2.9492, 2.7974, 2.9573, 3.0361, 3.0541, 2.6072, 2.0311, 1.5708, 2.7318, 3.3497, 3.3433, 3.3226, 3.2948, 3.2881, 3.2815, 3.2773, 3.272, 3.2264, 3.2203, 3.2146, 3.2111, 3.2085, 3.2075, 3.203, 3.1991, 3.1919, 3.1617, 3.1495, 3.1468, 3.1451, 3.1317, 3.1264, 3.1217, 3.1105, 3.1008, 3.0729, 3.0613, 3.0565, 3.052, 3.0334, 2.5651, 1.4493, 2.0811, -1.7873, 3.3606, 3.3554, 3.355, 3.3529, 3.3491, 3.3388, 3.3377, 3.3057, 3.2958, 3.2937, 3.2893, 3.2814, 3.2691, 3.2669, 3.2454, 3.2404, 3.2404, 3.2287, 3.2265, 3.2237, 3.2228, 3.2184, 3.197, 3.1896, 3.1843, 3.1816, 3.168, 3.1584, 3.155, 3.1465, 3.1414, 3.1199, 3.0541, 2.9506, 2.4144, 3.3608, 3.3522, 3.3477, 3.3365, 3.3316, 3.3203, 3.3169, 3.3146, 3.3002, 3.2922, 3.283, 3.279, 3.2117, 3.2109, 3.2015, 3.2004, 3.1989, 3.1977, 3.179, 3.1704, 3.1627, 3.1513, 3.1458, 3.1443, 3.1422, 3.11, 3.1028, 3.0823, 3.082, 3.0813, 3.0786, 3.0718, 3.0608, 2.8435, 2.8235, 2.536]}, \"token.table\": {\"Topic\": [1, 2, 3, 4, 5, 6, 7, 9, 1, 2, 3, 4, 5, 6, 7, 1, 5, 1, 5, 1, 5, 1, 5, 1, 5, 1, 5, 1, 2, 3, 7, 1, 2, 6, 1, 2, 3, 5, 1, 2, 5, 1, 2, 6, 1, 2, 3, 4, 7, 1, 2, 3, 9, 1, 2, 3, 4, 5, 7, 8, 1, 2, 4, 1, 2, 4, 1, 2, 3, 1, 2, 3, 4, 1, 2, 4, 1, 2, 3, 8, 1, 2, 7, 1, 2, 3, 4, 1, 2, 3, 4, 6, 1, 2, 3, 4, 1, 2, 3, 1, 2, 3, 7, 1, 2, 8, 1, 2, 9, 1, 2, 1, 2, 9, 1, 2, 6, 1, 2, 6, 9, 1, 2, 4, 1, 2, 3, 5, 1, 2, 6, 1, 2, 3, 4, 1, 2, 3, 4, 7, 1, 2, 7, 1, 2, 1, 2, 3, 4, 1, 2, 3, 4, 1, 2, 3, 1, 2, 3, 4, 5, 1, 2, 3, 4, 5, 1, 2, 3, 4, 7, 8, 1, 2, 3, 5, 1, 2, 4, 5, 1, 2, 3, 4, 6, 1, 2, 6, 1, 2, 5, 7, 1, 2, 7, 1, 2, 9, 1, 2, 4, 8, 1, 2, 3, 4, 5, 7, 2, 5, 1, 2, 3, 6, 8, 1, 2, 5, 6, 8, 1, 2, 1, 2, 7, 1, 2, 3, 5, 1, 2, 1, 2, 4, 6, 1, 2, 3, 4, 1, 2, 3, 4, 8, 1, 2, 4, 1, 2, 6, 7, 1, 2, 3, 4, 1, 2, 7, 1, 2, 3, 4, 6, 1, 2, 3, 4, 1, 2, 3, 4, 5, 6, 1, 2, 7, 1, 2, 3, 1, 2, 9, 1, 2, 4, 1, 2, 6, 1, 2, 3, 4, 1, 2, 3, 4, 1, 2, 9, 1, 2, 4, 1, 2, 3, 6, 1, 2, 3, 4, 1, 2, 9, 1, 2, 3, 4, 1, 2, 3, 4, 5, 1, 2, 3, 4, 6, 1, 2, 3, 4, 5, 7, 1, 2, 3, 4, 7, 1, 2, 9, 1, 2, 9, 1, 2, 6, 1, 2, 3, 1, 2, 9, 1, 2, 1, 2, 3, 7, 1, 2, 3, 1, 2, 3, 1, 2, 6, 1, 2, 4, 6, 1, 2, 5, 1, 2, 5, 1, 2, 8, 1, 2, 5, 1, 2, 3, 5, 7, 1, 2, 8, 1, 2, 8, 1, 2, 9, 1, 2, 4, 1, 2, 4, 1, 2, 3, 4, 1, 2, 4, 9, 1, 2, 8, 1, 2, 5, 1, 2, 4, 1, 2, 4, 1, 2, 1, 2, 3, 4, 1, 2, 6, 1, 2, 3, 9, 1, 2, 3, 7, 9, 1, 2, 6, 1, 2, 4, 6, 1, 2, 4, 1, 2, 3, 6, 1, 2, 4, 9, 1, 2, 4, 1, 2, 3, 1, 2, 8, 1, 2, 3, 5, 1, 2, 3, 1, 2, 3, 4, 1, 2, 5, 1, 2, 6, 9, 1, 2, 3, 4, 1, 2, 6, 8, 9, 1, 2, 6, 1, 2, 8, 1, 2, 3, 9, 1, 2, 4, 1, 2, 1, 2, 4, 1, 2, 3, 4, 1, 2, 3, 4, 6, 1, 2, 3, 5, 8, 1, 2, 3, 5, 7, 1, 2, 3, 7, 1, 2, 1, 2, 7, 1, 2, 6, 1, 2, 3, 1, 2, 3, 4, 9, 1, 2, 3, 4, 5, 1, 2, 3, 1, 2, 3, 4, 7, 1, 2, 3, 1, 2, 3, 1, 2, 6, 1, 2, 3, 4, 9, 1, 2, 3, 4, 5, 6, 7, 8, 1, 2, 3, 5, 1, 2, 3, 1, 2, 3, 5, 1, 2, 3, 7, 1, 2, 3, 1, 2, 5, 1, 2, 3, 4, 7, 1, 2, 3, 8, 1, 2, 4, 1, 2, 6, 1, 2, 5, 1, 2, 7, 1, 2, 1, 2, 6, 1, 2, 3, 4, 5, 7, 1, 2, 8, 1, 2, 3, 4, 1, 2, 3, 7, 1, 2, 3, 5, 7, 1, 2, 3, 5, 7, 1, 2, 3, 5, 7, 1, 2, 5, 1, 2, 4, 9, 1, 2, 3, 7, 1, 2, 3, 4, 5, 6, 8, 1, 2, 3, 4, 7, 1, 2, 3, 1, 2, 3, 4, 1, 2, 3, 9, 1, 2, 4, 9, 1, 2, 4, 6, 1, 2, 7, 1, 2, 4, 1, 2, 3, 6, 1, 2, 3, 4, 1, 2, 3, 4, 8, 9, 1, 2, 3, 1, 2, 3, 4, 5, 1, 2, 3, 1, 2, 4, 1, 2, 3, 1, 2, 3, 5, 1, 2, 8, 1, 2, 3, 4, 7, 1, 2, 8, 1, 2, 3, 4, 1, 2, 3, 5, 8, 1, 2, 6, 9, 1, 2, 3, 4, 5, 6, 7, 9, 1, 2, 3, 1, 2, 4, 8, 1, 2, 4, 6, 1, 2, 6, 8, 1, 2, 3, 8, 1, 2, 3, 1, 2, 6, 8, 1, 2, 3, 1, 2, 1, 2, 6, 1, 2, 3, 5, 1, 2, 3, 4, 6, 7, 9, 1, 2, 9, 1, 2, 8, 1, 2, 1, 2, 4, 7, 1, 2, 3, 1, 2, 3, 2, 3, 5, 6, 9, 1, 2, 3, 4, 1, 2, 3, 4, 1, 2, 3, 5, 8, 1, 2, 6, 1, 2, 4, 9, 1, 2, 6, 1, 2, 6, 8, 1, 2, 6, 9, 1, 2, 3, 1, 2, 7, 1, 2, 3, 4, 1, 2, 3, 7, 1, 2, 3, 4, 6, 1, 2, 9, 1, 2, 4, 1, 2, 3, 4, 5, 6, 7, 9, 1, 2, 3, 4, 1, 2, 9, 1, 2, 3, 6, 7, 1, 2, 4, 1, 2, 3, 1, 2, 9, 1, 2, 7, 1, 2, 6, 1, 2, 5, 1, 2, 3, 4, 5, 7, 1, 2, 6, 2, 5, 7, 1, 2, 3, 1, 2, 3, 4, 7, 1, 2, 8, 1, 2, 8, 1, 2, 3, 6, 1, 2, 3, 7, 1, 2, 6, 1, 2, 4, 1, 2, 6, 1, 2, 3, 4, 1, 2, 4, 1, 2, 3, 4, 1, 2, 4, 1, 2, 3, 4, 1, 2, 3, 6, 1, 2, 6, 1, 2, 6, 1, 2, 3, 7, 1, 2, 3, 5, 7, 8, 9, 1, 2, 8, 1, 2, 8, 1, 2, 7, 1, 2, 3, 7, 9, 1, 2, 9, 1, 2, 5, 1, 2, 9, 1, 2, 3, 1, 2, 9, 1, 2, 3, 4, 1, 2, 3, 1, 2, 5, 6, 1, 2, 4, 5, 1, 2, 7, 9, 1, 2, 4, 5, 9, 1, 2, 6, 1, 2, 1, 2, 4, 1, 2, 4, 6, 1, 2, 3, 6, 7, 1, 2, 6, 8, 1, 2, 4, 1, 2, 3, 1, 2, 4, 5, 6, 1, 2, 4, 6, 8, 1, 2, 3, 4, 6, 9, 1, 2, 3, 4, 5, 1, 2, 3, 7, 1, 2, 3, 5, 1, 2, 3, 1, 2, 1, 2, 3, 4, 1, 2, 3, 7, 1, 2, 3, 5, 7, 1, 2, 9, 1, 2, 4, 6, 9, 1, 2, 4, 1, 2, 3, 7, 8, 9, 1, 2, 8, 1, 2, 6, 1, 2, 3, 1, 2, 4, 1, 2, 8, 1, 2, 4, 5, 1, 2, 8, 1, 2, 3, 1, 2, 4, 6, 8, 1, 2, 6, 1, 2, 9, 1, 2, 3, 1, 2, 3, 4, 1, 2, 1, 2, 4, 6, 8, 9, 1, 2, 3, 1, 2, 3, 1, 2, 6, 1, 2, 3, 4, 1, 2, 4, 1, 2, 3, 1, 2, 1, 2, 4, 8, 1, 2, 3, 4, 7, 1, 2, 7, 1, 2, 4, 6, 1, 2, 1, 2, 3, 9, 1, 2, 6, 1, 2, 3, 4, 5, 9, 1, 2, 4, 1, 2, 3, 4, 5, 1, 2, 9, 1, 2, 3, 1, 2, 4, 1, 2, 3, 4, 1, 2, 3, 4, 5, 7, 1, 2, 9, 1, 2, 4, 9, 1, 2, 3, 4, 5, 6, 7, 9, 1, 2, 8, 1, 2, 4, 1, 2, 1, 2, 3, 4, 1, 2, 3, 5, 6, 1, 2, 9, 1, 2, 7, 1, 2, 3, 7, 1, 2, 3, 9, 1, 2, 3, 4, 5, 1, 2, 8, 1, 2, 1, 2, 3, 4, 1, 2, 4, 8, 1, 2, 4, 1, 2, 4, 1, 2, 3, 7, 1, 2, 3, 4, 7, 1, 2, 3, 5, 1, 2, 3, 4, 7, 9, 1, 2, 3, 4, 5, 6, 7, 8, 9, 1, 2, 4, 1, 2, 3, 4, 1, 2, 3, 4, 1, 2, 4, 8, 1, 2, 3, 4, 5, 7, 1, 2, 3, 4, 1, 2, 3, 5, 7, 1, 2, 4, 5, 1, 2, 6, 1, 2, 1, 2, 8, 1, 2, 4, 1, 2, 4, 1, 5, 1, 2, 3, 4, 5, 1, 2, 7, 1, 2, 6, 1, 2, 5, 1, 2, 4, 9, 1, 2, 8, 1, 2, 4], \"Freq\": [0.49464909372073645, 0.36366380298127887, 0.11910265887912704, 0.0019343819307514833, 0.014369694342725304, 0.00027634027582164046, 0.0058031457922544495, 0.00027634027582164046, 0.4596937075194969, 0.43331783905526344, 0.09872110768041654, 0.0007535962418352408, 0.005275173692846686, 0.0007535962418352408, 0.0007535962418352408, 0.05191556571136663, 0.8306490513818661, 0.05389230052207129, 0.8083845078310694, 0.05191556571136663, 0.8306490513818661, 0.05191556571136663, 0.8306490513818661, 0.05191556571136663, 0.8306490513818661, 0.05191556571136663, 0.8306490513818661, 0.04612860310038959, 0.04612860310038959, 0.04612860310038959, 0.8303148558070126, 0.04853514805096816, 0.04853514805096816, 0.7765623688154906, 0.027718284757504243, 0.055436569515008485, 0.027718284757504243, 0.8315485427251272, 0.007543110015442766, 0.9579749719612314, 0.015086220030885533, 0.026774102871752668, 0.026774102871752668, 0.8835453947678381, 0.5862999716640411, 0.4076069524118533, 0.0035037846912193693, 0.0011679282304064564, 0.0011679282304064564, 0.46751738356224937, 0.033394098825874956, 0.033394098825874956, 0.40072918591049944, 0.6120769596116474, 0.37380722639188063, 0.009496257483396506, 0.002589888404562683, 0.0008632961348542278, 0.0008632961348542278, 0.0008632961348542278, 0.041262634247120504, 0.041262634247120504, 0.8665153191895306, 0.014318046418237135, 0.014318046418237135, 0.959309110021888, 0.008375203296921653, 0.9798987857398334, 0.004187601648460827, 0.005078903303952024, 0.9802283376627408, 0.005078903303952024, 0.005078903303952024, 0.032375533625910585, 0.032375533625910585, 0.8741394078995858, 0.047026111754554775, 0.047026111754554775, 0.047026111754554775, 0.7994438998274311, 0.056473688724507594, 0.056473688724507594, 0.7906316421431063, 0.5802111027171067, 0.4149318443733891, 0.002311598018793254, 0.001155799009396627, 0.0244198600105611, 0.0244198600105611, 0.0244198600105611, 0.8791149603801995, 0.0244198600105611, 0.013640773875233934, 0.9616745582039923, 0.006820386937616967, 0.006820386937616967, 0.014018532089873349, 0.23831504552784694, 0.7149451365835408, 0.35160579790986235, 0.6436921190575536, 0.0011022125326327974, 0.0011022125326327974, 0.04723830405817372, 0.04723830405817372, 0.850289473047127, 0.06092449445588629, 0.06092449445588629, 0.7310939334706354, 0.004211710406097838, 0.9855402350268941, 0.06855021560887123, 0.06855021560887123, 0.7540523716975834, 0.9763536355908236, 0.006973954539934454, 0.006973954539934454, 0.06438805699914535, 0.06438805699914535, 0.06438805699914535, 0.7726566839897442, 0.007220066880155795, 0.953048828180565, 0.021660200640467385, 0.03393213657373351, 0.03393213657373351, 0.03393213657373351, 0.8822355509170712, 0.045359651179947426, 0.045359651179947426, 0.8164737212390537, 0.004237900561311674, 0.9662413279790617, 0.004237900561311674, 0.016951602245246698, 0.34249101236084667, 0.6227109315651758, 0.03233306760049951, 0.0011975210222407227, 0.0011975210222407227, 0.04342697287622278, 0.04342697287622278, 0.8685394575244556, 0.016829118288779355, 0.9592597424604232, 0.32843069992440505, 0.6675049873463603, 0.0015205124996500235, 0.0015205124996500235, 0.008541984727921713, 0.35022137384479024, 0.008541984727921713, 0.623564885138285, 0.038491413635749476, 0.038491413635749476, 0.8468110999864885, 0.3445156883253853, 0.6463349879266844, 0.002944578532695601, 0.002944578532695601, 0.0014722892663478005, 0.11593446624714904, 0.585774145248753, 0.006101814013007844, 0.2806834445983608, 0.006101814013007844, 0.01433226445043116, 0.4013034046120725, 0.10032585115301812, 0.01433226445043116, 0.10032585115301812, 0.358306611260779, 0.039501343948039905, 0.019750671974019952, 0.829528222908838, 0.05925201592205986, 0.04236301747283103, 0.04236301747283103, 0.08472603494566205, 0.7625343145109585, 0.24247031729305743, 0.6409355240333966, 0.001695596624426975, 0.11360497383660732, 0.001695596624426975, 0.0554032974338026, 0.0554032974338026, 0.7756461640732365, 0.04641821163647108, 0.04641821163647108, 0.7426913861835372, 0.13925463490941323, 0.04055160055680577, 0.04055160055680577, 0.8515836116929212, 0.022140915654695347, 0.022140915654695347, 0.9077775418425093, 0.025938629661972017, 0.05187725932394403, 0.025938629661972017, 0.8819134085070486, 0.0071971630929435, 0.7844907771308415, 0.0071971630929435, 0.0071971630929435, 0.17992907732358748, 0.0071971630929435, 0.05898392466902938, 0.8257749453664114, 0.3363573726676265, 0.03737304140751405, 0.03737304140751405, 0.5232225797051968, 0.03737304140751405, 0.048305040461637985, 0.048305040461637985, 0.7245756069245698, 0.048305040461637985, 0.09661008092327597, 0.9881523208485133, 0.003187588131769398, 0.058301528447860164, 0.058301528447860164, 0.8162213982700423, 0.026274132563710934, 0.026274132563710934, 0.026274132563710934, 0.8933205071661717, 0.9737254818295376, 0.009273576017424167, 0.4339482742029266, 0.028929884946861772, 0.028929884946861772, 0.46287815914978836, 0.7015228618434932, 0.28984308368670836, 0.0012824915207376476, 0.003847474562212943, 0.03581821397330137, 0.07163642794660274, 0.03581821397330137, 0.07163642794660274, 0.7880007074126302, 0.01227236310850696, 0.01227236310850696, 0.957244322463543, 0.06072785299403724, 0.06072785299403724, 0.06072785299403724, 0.7287342359284469, 0.02481289785927089, 0.008270965953090298, 0.9511610846053842, 0.008270965953090298, 0.03470044318263273, 0.03470044318263273, 0.8675110795658183, 0.9524844436464024, 0.04633869703866678, 0.0005979186714666682, 0.0002989593357333341, 0.0002989593357333341, 0.6661662033557186, 0.3323165122608792, 0.0003832947084900567, 0.0003832947084900567, 0.004978792367588487, 0.7866491940789808, 0.19915169470353947, 0.0024893961837942433, 0.0024893961837942433, 0.0024893961837942433, 0.03376257523661828, 0.03376257523661828, 0.8778269561520753, 0.013922500769050078, 0.9467300522954053, 0.013922500769050078, 0.03241470681662327, 0.03241470681662327, 0.842782377232205, 0.9485445614046286, 0.04361124420251166, 0.002725702762656979, 0.39197596784075306, 0.009560389459530562, 0.5736233675718337, 0.24931985521239883, 0.7305651571340058, 0.013528984391370479, 0.0019327120559100683, 0.3117979824923616, 0.6818759617122675, 0.001456999918188606, 0.001456999918188606, 0.0725621342790885, 0.0725621342790885, 0.7256213427908851, 0.9769338639635498, 0.0055824792226488555, 0.0055824792226488555, 0.7969201426656379, 0.009961501783320474, 0.009961501783320474, 0.16934553031644806, 0.011376077417871427, 0.9442144256833285, 0.011376077417871427, 0.011376077417871427, 0.05430037174442911, 0.05430037174442911, 0.8145055761664367, 0.10374496161064463, 0.8910951166914297, 0.0018525886001900826, 0.0018525886001900826, 0.4518265631639958, 0.5379370068163268, 0.002026128085937201, 0.005065320214843002, 0.0010130640429686004, 0.8261900967570934, 0.16604800964235703, 0.0020249757273458173, 0.0020249757273458173, 0.0020249757273458173, 0.09464038024018956, 0.8962444008745952, 0.007571230419215165, 0.0004732019012009478, 0.0004732019012009478, 0.0004732019012009478, 0.7562918015922029, 0.23498361459392203, 0.004936630558695841, 0.0009873261117391682, 0.0009873261117391682, 0.119260847318011, 0.0596304236590055, 0.715565083908066, 0.05681473811329014, 0.05681473811329014, 0.7954063335860618, 0.02718487743188812, 0.02718487743188812, 0.8971009552523079, 0.9722276619893373, 0.010772605673012048, 0.010772605673012048, 0.08905843571888133, 0.08905843571888133, 0.7124674857510507, 0.9844858479919537, 0.004755970280154366, 0.05330480904779331, 0.05330480904779331, 0.05330480904779331, 0.7995721357168997, 0.9751997139698314, 0.007277609805745011, 0.007277609805745011, 0.03834429180221543, 0.03834429180221543, 0.8819187114509548, 0.08285874533630193, 0.18643217700667933, 0.6628699626904154, 0.05208401236652246, 0.05208401236652246, 0.05208401236652246, 0.7812601854978368, 0.06325567105961641, 0.06325567105961641, 0.7590680527153969, 0.03195443095104857, 0.03195443095104857, 0.89472406662936, 0.03317309314703479, 0.03317309314703479, 0.8625004218229044, 0.039364486529223155, 0.039364486529223155, 0.8660187036429094, 0.030722611527382884, 0.06144522305476577, 0.5376457017292005, 0.33794872680121174, 0.015361305763691442, 0.01614080281521904, 0.03228160563043808, 0.9200257604674853, 0.05574097707168269, 0.08361146560752404, 0.808244167539399, 0.05678819659118528, 0.05678819659118528, 0.7950347522765939, 0.027461271831145145, 0.027461271831145145, 0.9062219704277897, 0.9883640200652809, 0.006431869978732847, 0.002143956659577616, 0.2850871752329547, 0.7040550681167443, 0.0015750672664804125, 0.00630026906592165, 0.06221829152690988, 0.06221829152690988, 0.06221829152690988, 0.7466194983229185, 0.01700086125192772, 0.01700086125192772, 0.9350473688560247, 0.9717020457224839, 0.007041319171902057, 0.014082638343804113, 0.018630178122827513, 0.018630178122827513, 0.9315089061413757, 0.9775572972693165, 0.011108605650787688, 0.0037028685502625623, 0.9778027629597258, 0.006073309086706371, 0.9806460608563969, 0.010151615536815702, 0.0020303231073631406, 0.0020303231073631406, 0.060045991956458156, 0.060045991956458156, 0.780597895433956, 0.03997520002743093, 0.03997520002743093, 0.2798264001920165, 0.559652800384033, 0.5733116581665076, 0.08190166545235823, 0.020475416363089558, 0.2866558290832538, 0.020475416363089558, 0.006468382159431841, 0.9508521774364807, 0.03234191079715921, 0.3602125391283424, 0.01566141474471054, 0.57947234555429, 0.01566141474471054, 0.026950304556025567, 0.026950304556025567, 0.8893600503488437, 0.36861914091648945, 0.320538383405643, 0.01602691917028215, 0.27245762589479655, 0.02414931784614048, 0.04829863569228096, 0.02414931784614048, 0.8693754424610574, 0.9467333919459379, 0.04547627646901885, 0.002067103475864493, 0.39769325698925495, 0.013039123179975572, 0.5737214199189251, 0.04997853137826024, 0.04997853137826024, 0.7996565020521639, 0.03132325653009001, 0.03132325653009001, 0.03132325653009001, 0.8770511828425201, 0.02311681026901454, 0.02311681026901454, 0.9246724107605817, 0.8405595991050923, 0.15264879512050022, 0.0019824518846818214, 0.0019824518846818214, 0.0438854177758179, 0.0438854177758179, 0.8338229377405401, 0.07426490308502391, 0.07426490308502391, 0.07426490308502391, 0.6683841277652153, 0.010534150112199216, 0.9586076602101287, 0.010534150112199216, 0.010534150112199216, 0.07946897306239097, 0.03973448653119548, 0.03973448653119548, 0.03973448653119548, 0.7549552440927142, 0.9934522361451721, 0.0015669593630050034, 0.0015669593630050034, 0.04156607725865136, 0.20783038629325679, 0.6650572361384217, 0.006350968553991673, 0.971698188760726, 0.006350968553991673, 0.006350968553991673, 0.03982111406166718, 0.03982111406166718, 0.8362433952950109, 0.012312643680581511, 0.9603862070853579, 0.981693891552111, 0.004305674962947855, 0.004305674962947855, 0.34333671268700217, 0.6516207243405147, 0.0008987872059869167, 0.0017975744119738334, 0.9687343710008224, 0.02796577283489672, 0.0011186309133958687, 0.0011186309133958687, 0.0011186309133958687, 0.05067973078232725, 0.05067973078232725, 0.05067973078232725, 0.7601959617349088, 0.05067973078232725, 0.019307609507823554, 0.019307609507823554, 0.8495348183442364, 0.09653804753911777, 0.019307609507823554, 0.03384963193543802, 0.03384963193543802, 0.03384963193543802, 0.8462407983859503, 0.97874640375461, 0.009987208201577653, 0.05996732352038535, 0.05996732352038535, 0.7795752057650095, 0.0628631835632581, 0.0628631835632581, 0.8172213863223553, 0.014810475209166977, 0.9737887450027287, 0.0037026188022917443, 0.5000425500856286, 0.49598477658306106, 0.0028092278094698237, 0.0006242728465488497, 0.00031213642327442486, 0.5834996566609341, 0.2573610652953169, 0.10871286378853903, 0.0022186298732354906, 0.0465912273379453, 0.032441801396355524, 0.032441801396355524, 0.8759286377015992, 0.26557141727661904, 0.19917856295746428, 0.5185820242766412, 0.010766408808511582, 0.0017944014680852636, 0.002289888342999515, 0.002289888342999515, 0.9892317641757904, 0.006701224063857807, 0.006701224063857807, 0.9783787133232398, 0.05577681652560342, 0.05577681652560342, 0.7808754313584478, 0.056577456817068536, 0.01885915227235618, 0.01885915227235618, 0.6977886340771786, 0.1885915227235618, 0.2584895213471286, 0.6798070876373303, 0.0020353505617884144, 0.004070701123576829, 0.05088376404471036, 0.0020353505617884144, 0.0020353505617884144, 0.0020353505617884144, 0.008381107424158712, 0.03911183464607399, 0.9051596018091409, 0.03911183464607399, 0.004517208233054154, 0.009034416466108308, 0.9802341865727515, 0.006316709984865403, 0.006316709984865403, 0.006316709984865403, 0.9790900476541374, 0.003873277713825958, 0.003873277713825958, 0.003873277713825958, 0.9838125393117934, 0.029981217413977027, 0.029981217413977027, 0.8994365224193108, 0.039519682315957705, 0.039519682315957705, 0.8694330109510695, 0.035573244832519536, 0.035573244832519536, 0.035573244832519536, 0.035573244832519536, 0.8537578759804688, 0.018589152952088038, 0.018589152952088038, 0.018589152952088038, 0.929457647604402, 0.03016963404570917, 0.03016963404570917, 0.8749193873255658, 0.06200345336418879, 0.06200345336418879, 0.8060448937344543, 0.02180047957769651, 0.28340623451005464, 0.6322139077531989, 0.06748922233189557, 0.06748922233189557, 0.7423814456508512, 0.9743722880698825, 0.008547125333946337, 0.9743776682003524, 0.007326147881205657, 0.007326147881205657, 0.39234704312504853, 0.5918231492256624, 0.00396310144570756, 0.00396310144570756, 0.002642067630471707, 0.002642067630471707, 0.046226796379171965, 0.046226796379171965, 0.8320823348250953, 0.016339108403748002, 0.032678216807496004, 0.914990070609888, 0.016339108403748002, 0.006094306810806459, 0.006094306810806459, 0.9750890897290335, 0.006094306810806459, 0.0069796504505575474, 0.0069796504505575474, 0.9701714126274991, 0.0069796504505575474, 0.0069796504505575474, 0.012721873362802012, 0.03816562008840604, 0.6615374148657046, 0.24171559389323824, 0.03816562008840604, 0.03583788218466313, 0.03583788218466313, 0.03583788218466313, 0.03583788218466313, 0.8601091724319152, 0.04123022895008377, 0.04123022895008377, 0.8658348079517592, 0.020252109025894503, 0.020252109025894503, 0.020252109025894503, 0.9113449061652525, 0.05258496248877765, 0.05258496248877765, 0.05258496248877765, 0.7887744373316647, 0.3363210477847631, 0.15414714690134976, 0.11210701592825437, 0.09809363893722257, 0.25224078583857235, 0.014013376991031796, 0.02802675398206359, 0.23662932092689745, 0.5662923919618058, 0.18808997304445693, 0.004044945656870041, 0.0020224728284350207, 0.1176142990219475, 0.009047253770919039, 0.8504418544663896, 0.026972834196315944, 0.026972834196315944, 0.026972834196315944, 0.8901035284784261, 0.051720249670166155, 0.10344049934033231, 0.051720249670166155, 0.7240834953823262, 0.06250639273667088, 0.06250639273667088, 0.06250639273667088, 0.7500767128400505, 0.010566799806016032, 0.9510119825414428, 0.010566799806016032, 0.010566799806016032, 0.078478445235285, 0.078478445235285, 0.706306007117565, 0.00670748591292061, 0.00670748591292061, 0.9725854573734884, 0.05443348694925427, 0.05443348694925427, 0.05443348694925427, 0.7620688172895598, 0.65399024362071, 0.33487452233590576, 0.007879400525550723, 0.0019698501313876807, 0.28925028539210346, 0.4317794115273428, 0.01676813248649875, 0.25152198729748126, 0.004192033121624687, 0.004192033121624687, 0.06582902941619703, 0.032914514708098516, 0.822862867702463, 0.06117189313496608, 0.22174811261425204, 0.6652443378427562, 0.03058594656748304, 0.00764648664187076, 0.004352682234784781, 0.017410728939139124, 0.9706481383570063, 0.04122860378845037, 0.04122860378845037, 0.8658006795574579, 0.12134204302283183, 0.8680623077787201, 0.0023335008273621506, 0.0022694094177141953, 0.0022694094177141953, 0.02496350359485615, 0.9667684119462472, 0.02197122232534037, 0.02197122232534037, 0.9227913376642957, 0.02082141137348119, 0.04164282274696238, 0.02082141137348119, 0.04164282274696238, 0.8744992776862099, 0.06287655062679667, 0.06287655062679667, 0.7545186075215601, 0.7980790125675136, 0.03721611975703431, 0.0020675622087241285, 0.15920229007175787, 0.050710675609801595, 0.050710675609801595, 0.050710675609801595, 0.050710675609801595, 0.8113708097568255, 0.041210243722358576, 0.041210243722358576, 0.08242048744471715, 0.7829946307248129, 0.6769658966996202, 0.30940365725446556, 0.008142201506696463, 0.002326343287627561, 0.0011631716438137805, 0.0011631716438137805, 0.0011631716438137805, 0.0011631716438137805, 0.040374594698635656, 0.9550679987332434, 0.0013922274034012295, 0.01804121068603361, 0.01804121068603361, 0.01804121068603361, 0.9201017449877141, 0.033350949585979714, 0.033350949585979714, 0.033350949585979714, 0.8337737396494929, 0.03590013085018829, 0.03590013085018829, 0.8616031404045189, 0.03590013085018829, 0.018764246010642433, 0.037528492021284866, 0.018764246010642433, 0.9006838085108367, 0.05433608481793736, 0.929147050386729, 0.005433608481793736, 0.047568378466042824, 0.047568378466042824, 0.047568378466042824, 0.8086624339227281, 0.002502023131802266, 0.035028323845231725, 0.9607768826120702, 0.9884794005199091, 0.005553255059100613, 0.9373644704737648, 0.03429382209050359, 0.022862548060335726, 0.04697348786979867, 0.04697348786979867, 0.04697348786979867, 0.7985492937865775, 0.296799177140158, 0.27559923591586105, 0.20493276516820436, 0.021199941224297, 0.02826658829906267, 0.148399588570079, 0.021199941224297, 0.029195251773640716, 0.029195251773640716, 0.8758575532092214, 0.07398091527116395, 0.07398091527116395, 0.7398091527116395, 0.9757628426810916, 0.006920303848802068, 0.02470462770911019, 0.12352313854555096, 0.02470462770911019, 0.8152527144006363, 0.022329956439926312, 0.022329956439926312, 0.9155282140369788, 0.9723864399635586, 0.004674934807517108, 0.009349869615034216, 0.03979608841791936, 0.15918435367167744, 0.676533503104629, 0.03979608841791936, 0.03979608841791936, 0.021555895103579963, 0.021555895103579963, 0.021555895103579963, 0.9053475943503585, 0.95106844856038, 0.01909776001125261, 0.0038195520022505217, 0.02291731201350313, 0.5717479253330815, 0.18114785753127335, 0.03396522328711375, 0.18114785753127335, 0.016982611643556876, 0.028718880939221692, 0.028718880939221692, 0.8902853091158724, 0.01131512243671648, 0.7467980808232877, 0.23007415621323507, 0.003771707478905493, 0.035834549773847896, 0.2150072986430874, 0.6808564457031101, 0.03432297504087073, 0.03432297504087073, 0.24026082528609513, 0.6178135507356731, 0.9569471434002774, 0.03003869956861857, 0.004291242795516939, 0.004291242795516939, 0.06623797763338976, 0.9245717711327321, 0.0027599157347245737, 0.036354469308198016, 0.036354469308198016, 0.8725072633967523, 0.9198283885696193, 0.06930213886483433, 0.0031500972211288333, 0.0031500972211288333, 0.01689336029077999, 0.01689336029077999, 0.01689336029077999, 0.9291348159928994, 0.14181392876404897, 0.8319200821100314, 0.02226148881761234, 0.000824499585837494, 0.001648999171674988, 0.03629799546986728, 0.03629799546986728, 0.8711518912768147, 0.6694797558761553, 0.15878686517575477, 0.1652241705207178, 0.4435663782491766, 0.5549493683560599, 0.0010646903466099142, 0.0002456977722945956, 8.189925743153187e-05, 8.189925743153187e-05, 8.189925743153187e-05, 8.189925743153187e-05, 0.009643022463879207, 0.9643022463879207, 0.009643022463879207, 0.009643022463879207, 0.08361350730810135, 0.08361350730810135, 0.6689080584648108, 0.08956493054675002, 0.8917551780524241, 0.003894127415076088, 0.003894127415076088, 0.003894127415076088, 0.058719369182755055, 0.01957312306091835, 0.8807905377413258, 0.006877256968006182, 0.006877256968006182, 0.9696932324888717, 0.020825967128064688, 0.020825967128064688, 0.9163425536348462, 0.07042069691938423, 0.07042069691938423, 0.7042069691938423, 0.04866052562130402, 0.04866052562130402, 0.8272289355621683, 0.9686870307287244, 0.011134333686537063, 0.0055671668432685315, 0.0033234893389403764, 0.255908679098409, 0.7278441652279424, 0.0033234893389403764, 0.0033234893389403764, 0.0033234893389403764, 0.04236094902837244, 0.04236094902837244, 0.8472189805674488, 0.07038907727097558, 0.7038907727097558, 0.07038907727097558, 0.7436111742862926, 0.13965380590254764, 0.11063483324747281, 0.011457809156276456, 0.9509981599709459, 0.011457809156276456, 0.011457809156276456, 0.011457809156276456, 0.036027663756368934, 0.036027663756368934, 0.8646639301528545, 0.0355125329081627, 0.0355125329081627, 0.8878133227040674, 0.049757599906187604, 0.049757599906187604, 0.09951519981237521, 0.7463639985928141, 0.01980231661320846, 0.01980231661320846, 0.01980231661320846, 0.9307088808207975, 0.01241138814696563, 0.01241138814696563, 0.9432654991693878, 0.04025696252021262, 0.04025696252021262, 0.845396212924465, 0.04027328073943169, 0.04027328073943169, 0.8457388955280655, 0.30647757830228156, 0.6874657605037416, 0.001405860450927897, 0.001405860450927897, 0.014959315089438355, 0.014959315089438355, 0.9424368506346165, 0.838382170190367, 0.1585824995505716, 0.001964738932484958, 0.0005613539807099879, 0.07153404888097929, 0.04721247226144633, 0.877007439280806, 0.007453981304311796, 0.9690175695605335, 0.007453981304311796, 0.007453981304311796, 0.03829539891540421, 0.07659079783080842, 0.03829539891540421, 0.8042033772234884, 0.0262928944267971, 0.01314644721339855, 0.9202513049378984, 0.031960016562469946, 0.031960016562469946, 0.8629204471866885, 0.01770945415353812, 0.01770945415353812, 0.8500537993698297, 0.10625672492122872, 0.33415456958715073, 0.01044233029959846, 0.35503923018634764, 0.27150058778955993, 0.01044233029959846, 0.01044233029959846, 0.01044233029959846, 0.03523182557207283, 0.03523182557207283, 0.8807956393018208, 0.025129949085583744, 0.025129949085583744, 0.9046781670810148, 0.021665966959189334, 0.021665966959189334, 0.9316365792451413, 0.060248017834428215, 0.060248017834428215, 0.060248017834428215, 0.7229762140131386, 0.060248017834428215, 0.056847446168860706, 0.056847446168860706, 0.79586424636405, 0.03226751998854099, 0.03226751998854099, 0.9034905596791477, 0.07727918240436063, 0.07727918240436063, 0.6955126416392458, 0.24881014859629091, 0.28233775727238686, 0.4640926885164859, 0.051809453139766586, 0.025904726569883293, 0.880760703376032, 0.0038941671424987637, 0.07398917570747651, 0.0038941671424987637, 0.9112351113447107, 0.020227662536757746, 0.020227662536757746, 0.9304724766908564, 0.04563808842108583, 0.09127617684217167, 0.7302094147373733, 0.04563808842108583, 0.9758564656845968, 0.005391472186102745, 0.005391472186102745, 0.01078294437220549, 0.009822310288569221, 0.9527640979912144, 0.019644620577138443, 0.009822310288569221, 0.18354163878470503, 0.7823462353198052, 0.004588540969617626, 0.025236975332896944, 0.002294270484808813, 0.024916996675764046, 0.024916996675764046, 0.8970118803275057, 0.9799967532059196, 0.016516799211335725, 0.9664167823289735, 0.03003867812169371, 0.0010358164869549555, 0.032153473295564526, 0.032153473295564526, 0.8681437789802422, 0.032153473295564526, 0.05546575088940605, 0.05546575088940605, 0.05546575088940605, 0.7765205124516846, 0.05546575088940605, 0.04034906826470077, 0.04034906826470077, 0.08069813652940154, 0.7262832287646139, 0.01770185071138818, 0.01770185071138818, 0.9204962369921853, 0.9725548509103675, 0.010401656159469171, 0.0052008280797345855, 0.08065368253831906, 0.08065368253831906, 0.04032684126915953, 0.685556301575712, 0.08065368253831906, 0.16948621654653798, 0.01883180183850422, 0.772103875378673, 0.01883180183850422, 0.01883180183850422, 0.04226155292177414, 0.04226155292177414, 0.04226155292177414, 0.04226155292177414, 0.8029695055137086, 0.04226155292177414, 0.004740335828497247, 0.41240921707926054, 0.2701991422243431, 0.004740335828497247, 0.3081218288523211, 0.02298892168904467, 0.009852395009590573, 0.9556823159302855, 0.003284131669863524, 0.005653007505002415, 0.08479511257503622, 0.8931751857903816, 0.005653007505002415, 0.01679637030421791, 0.01679637030421791, 0.940596737036203, 0.01282035549461364, 0.961526662096023, 0.39199961678163137, 0.603852350851116, 0.0021617625925457614, 0.0007205875308485871, 0.006861373813458239, 0.6198107678157275, 0.3682270613222588, 0.0022871246044860794, 0.017974178980648337, 0.017974178980648337, 0.017974178980648337, 0.017974178980648337, 0.9346573069937135, 0.024828579913684236, 0.024828579913684236, 0.8938288768926325, 0.01761432315845802, 0.01761432315845802, 0.01761432315845802, 0.8807161579229009, 0.052842969475374056, 0.9786426025228264, 0.009721615256849269, 0.0032405384189497562, 0.38774638083142215, 0.019387319041571108, 0.019387319041571108, 0.4459083379561355, 0.019387319041571108, 0.09693659520785554, 0.06467301181804667, 0.06467301181804667, 0.7760761418165601, 0.04123776308784506, 0.04123776308784506, 0.8247552617569012, 0.008698491498977452, 0.9785802936349633, 0.004349245749488726, 0.03450344103880463, 0.03450344103880463, 0.8970894670089204, 0.04613353519502209, 0.04613353519502209, 0.8304036335103976, 0.05072389620659737, 0.05072389620659737, 0.05072389620659737, 0.7608584430989606, 0.041724153715541834, 0.041724153715541834, 0.8344830743108367, 0.11679035246295796, 0.8809810721845243, 0.0011229841582976728, 0.046262873020613035, 0.046262873020613035, 0.09252574604122607, 0.046262873020613035, 0.7402059683298086, 0.06701180737766102, 0.06701180737766102, 0.8041416885319322, 0.024054283283065435, 0.024054283283065435, 0.9140627647564866, 0.1985333128259336, 0.7975173418632673, 0.0011280301865109863, 0.8243504658616965, 0.10030119736720261, 0.07209148560767688, 0.0015672062088625408, 0.9916572937938319, 0.0024069351791112426, 0.031751690044747406, 0.31751690044747405, 0.031751690044747406, 0.031751690044747406, 0.06350338008949481, 0.5397787307607059, 0.02212492967792499, 0.02212492967792499, 0.9292470464728495, 0.07677806665196966, 0.915852652205638, 0.0027420738089989163, 0.05657461498060799, 0.05657461498060799, 0.7920446097285119, 0.8051004391754771, 0.17311438014671526, 0.01897143892018797, 0.0011857149325117482, 0.007303634158148921, 0.021910902474446763, 0.9567760747175087, 0.05557042972707422, 0.9280261764421395, 0.005557042972707422, 0.010638361847715763, 0.9574525662944186, 0.04837935758358387, 0.04837935758358387, 0.04837935758358387, 0.7740697213373419, 0.3259951261965057, 0.6703561749956315, 0.0018365922602620042, 0.0009182961301310021, 0.00030609871004366734, 0.05370944207673092, 0.05370944207673092, 0.8056416311509639, 0.9755271079911768, 0.006021772271550475, 0.006021772271550475, 0.006021772271550475, 0.9169307463981938, 0.07523534329421078, 0.9687887159860622, 0.007071450481650089, 0.010607175722475133, 0.007071450481650089, 0.05471919204978768, 0.05471919204978768, 0.8207878807468152, 0.5182327724605079, 0.47448585010994554, 0.0008412869682800453, 0.0008412869682800453, 0.0033651478731201814, 0.0008412869682800453, 0.06653062519016413, 0.033265312595082065, 0.8316328148770517, 0.0061967262085545075, 0.43377083459881555, 0.0061967262085545075, 0.5391151801442422, 0.0061967262085545075, 0.05484979698234598, 0.05484979698234598, 0.8227469547351897, 0.9745696280506008, 0.0069612116289328625, 0.0069612116289328625, 0.0074206506775917475, 0.9721052387645189, 0.0074206506775917475, 0.01490511420719471, 0.04471534262158413, 0.9092119666388773, 0.01490511420719471, 0.2956189388700196, 0.5713085110746446, 0.12621932221416568, 0.0033215611108990965, 0.0016607805554495483, 0.0016607805554495483, 0.08422088602405153, 0.08422088602405153, 0.6737670881924123, 0.021132022577857342, 0.021132022577857342, 0.9086769708478657, 0.021132022577857342, 0.46155724319388247, 0.5338172159873787, 0.003199703592331941, 0.0005332839320553235, 0.00026664196602766175, 0.00026664196602766175, 0.00026664196602766175, 0.00026664196602766175, 0.03782252791665789, 0.15129011166663156, 0.7564505583331578, 0.022611136615060725, 0.0904445464602429, 0.8366120547572469, 0.010297236903365833, 0.9679402689163883, 0.3740524956092238, 0.6214572958546947, 0.0014726476205087554, 0.0014726476205087554, 0.9106731121010232, 0.07918896626965419, 0.0030457294719097765, 0.0030457294719097765, 0.0030457294719097765, 0.02010319949709129, 0.04020639899418258, 0.9046439773691081, 0.0064180554950195885, 0.9627083242529382, 0.012836110990039177, 0.014694193712981038, 0.014694193712981038, 0.9404283976307865, 0.014694193712981038, 0.02791453793593846, 0.05582907587187692, 0.02791453793593846, 0.8653506760140922, 0.0572053158035639, 0.0572053158035639, 0.0572053158035639, 0.0572053158035639, 0.7436691054463308, 0.06516195959664726, 0.06516195959664726, 0.7819435151597671, 0.9675379384134113, 0.011944912819918658, 0.012282790117960752, 0.012282790117960752, 0.012282790117960752, 0.9457748390829779, 0.042183128153780614, 0.042183128153780614, 0.042183128153780614, 0.8014794349218317, 0.0086673352525762, 0.0086673352525762, 0.9707415482885344, 0.005955875244314193, 0.06551462768745613, 0.9172047876243857, 0.0027179923690072113, 0.0027179923690072113, 0.0027179923690072113, 0.9893492223186249, 0.004029432034119974, 0.012088296102359921, 0.012088296102359921, 0.004029432034119974, 0.9630342561546736, 0.0007923946464366836, 0.0007923946464366836, 0.0015847892928733671, 0.9960400705709113, 0.007096540931859313, 0.012969540323742883, 0.9783438153646047, 0.00024470830799514876, 0.0007341249239854462, 0.00024470830799514876, 0.5799998935619655, 0.4157566175329223, 0.0006189366345733043, 0.0025320135050726084, 0.0001125339335587826, 0.0006752036013526956, 5.62669667793913e-05, 5.62669667793913e-05, 0.0001688009003381739, 0.03410238948480129, 0.03410238948480129, 0.8866621266048337, 0.836571838817442, 0.1599954279732239, 0.0008510395104958719, 0.0008510395104958719, 0.6536871722476117, 0.3418892752010036, 0.0032012104419569627, 0.0006402420883913926, 0.026639233110290247, 0.026639233110290247, 0.8790946926395782, 0.026639233110290247, 0.28086431487719093, 0.6931970324628541, 0.0006639818318609714, 0.023239364115134, 0.0006639818318609714, 0.0006639818318609714, 0.3182585696042708, 0.6760844208350185, 0.0017203165924555178, 0.0017203165924555178, 0.020206369866946017, 0.020206369866946017, 0.020206369866946017, 0.020206369866946017, 0.9092866440125708, 0.02069511248182702, 0.16556089985461617, 0.7657191618275997, 0.02069511248182702, 0.04802167281439342, 0.04802167281439342, 0.8163684378446882, 0.014119207346873018, 0.9601060995873653, 0.9747469236237359, 0.007498053258644123, 0.007498053258644123, 0.006624837718092338, 0.9738511445595737, 0.006624837718092338, 0.010440732407016054, 0.9501066490384609, 0.010440732407016054, 0.0633044981528158, 0.8229584759866054, 0.008950490418337974, 0.9577024747621632, 0.008950490418337974, 0.008950490418337974, 0.008950490418337974, 0.06517278393408685, 0.06517278393408685, 0.7820734072090422, 0.0616291525652406, 0.0616291525652406, 0.8011789833481278, 0.059991138531673836, 0.059991138531673836, 0.7798848009117598, 0.061978828422280044, 0.12395765684456009, 0.061978828422280044, 0.6817671126450805, 0.013973794536020162, 0.13973794536020162, 0.8244538776251895, 0.03631968018344633, 0.03631968018344633, 0.8716723244027118], \"Term\": [\"  \", \"  \", \"  \", \"  \", \"  \", \"  \", \"  \", \"  \", \"   \", \"   \", \"   \", \"   \", \"   \", \"   \", \"   \", \"1-no\", \"1-no\", \"2-no\", \"2-no\", \"3-los\", \"3-los\", \"4-la\", \"4-la\", \"5-la\", \"5-la\", \"6-duque\", \"6-duque\", \"60\", \"60\", \"60\", \"60\", \"80%\", \"80%\", \"80%\", \":(\", \":(\", \":(\", \":(\", \"acento\", \"acento\", \"acento\", \"acoger\", \"acoger\", \"acoger\", \"ac\\u00e1\", \"ac\\u00e1\", \"ac\\u00e1\", \"ac\\u00e1\", \"ac\\u00e1\", \"adivinar\", \"adivinar\", \"adivinar\", \"adivinar\", \"ahora\", \"ahora\", \"ahora\", \"ahora\", \"ahora\", \"ahora\", \"ahora\", \"aire\", \"aire\", \"aire\", \"ambulante\", \"ambulante\", \"ambulante\", \"amigo\", \"amigo\", \"amigo\", \"andar\", \"andar\", \"andar\", \"andar\", \"and\\u00e9n\", \"and\\u00e9n\", \"and\\u00e9n\", \"aprovechado\", \"aprovechado\", \"aprovechado\", \"aprovechado\", \"apuesto\", \"apuesto\", \"apuesto\", \"aqu\\u00ed\", \"aqu\\u00ed\", \"aqu\\u00ed\", \"aqu\\u00ed\", \"argentino\", \"argentino\", \"argentino\", \"argentino\", \"argentino\", \"asi\", \"asi\", \"asi\", \"asi\", \"asqueroso\", \"asqueroso\", \"asqueroso\", \"as\\u00ed\", \"as\\u00ed\", \"as\\u00ed\", \"as\\u00ed\", \"ataque\", \"ataque\", \"ataque\", \"atentar\", \"atentar\", \"atentar\", \"atracar\", \"atracar\", \"atravesar\", \"atravesar\", \"atravesar\", \"aumentar\", \"aumentar\", \"aumentar\", \"ave\", \"ave\", \"ave\", \"ave\", \"ayer\", \"ayer\", \"ayer\", \"bala\", \"bala\", \"bala\", \"bala\", \"bandera\", \"bandera\", \"bandera\", \"barrio\", \"barrio\", \"barrio\", \"barrio\", \"bien\", \"bien\", \"bien\", \"bien\", \"bien\", \"bla\", \"bla\", \"bla\", \"bogotano\", \"bogotano\", \"bogot\\u00e1\", \"bogot\\u00e1\", \"bogot\\u00e1\", \"bogot\\u00e1\", \"bonito\", \"bonito\", \"bonito\", \"bonito\", \"brutos\", \"brutos\", \"brutos\", \"bueno\", \"bueno\", \"bueno\", \"bueno\", \"bueno\", \"bus\", \"bus\", \"bus\", \"bus\", \"bus\", \"cabeza\", \"cabeza\", \"cabeza\", \"cabeza\", \"cabeza\", \"cabeza\", \"cagar\", \"cagar\", \"cagar\", \"cagar\", \"cale\\u00f1o\", \"cale\\u00f1o\", \"cale\\u00f1o\", \"cale\\u00f1o\", \"calle\", \"calle\", \"calle\", \"calle\", \"calle\", \"cambuches\", \"cambuches\", \"cambuches\", \"camiseta\", \"camiseta\", \"camiseta\", \"camiseta\", \"cami\\u00f3n\", \"cami\\u00f3n\", \"cami\\u00f3n\", \"campa\\u00f1a\", \"campa\\u00f1a\", \"campa\\u00f1a\", \"cansar\", \"cansar\", \"cansar\", \"cansar\", \"cara\", \"cara\", \"cara\", \"cara\", \"cara\", \"cara\", \"cariaco\", \"cariaco\", \"cauca\", \"cauca\", \"cauca\", \"cauca\", \"cauca\", \"celebrar\", \"celebrar\", \"celebrar\", \"celebrar\", \"celebrar\", \"cerrar\", \"cerrar\", \"chao\", \"chao\", \"chao\", \"chiste\", \"chiste\", \"chiste\", \"chiste\", \"cierre\", \"cierre\", \"cifras\", \"cifras\", \"cifras\", \"cifras\", \"ciudad\", \"ciudad\", \"ciudad\", \"ciudad\", \"cliente\", \"cliente\", \"cliente\", \"cliente\", \"cliente\", \"cobarde\", \"cobarde\", \"cobarde\", \"coca\", \"coca\", \"coca\", \"coca\", \"coger\", \"coger\", \"coger\", \"coger\", \"colectivo\", \"colectivo\", \"colectivo\", \"colombia\", \"colombia\", \"colombia\", \"colombia\", \"colombia\", \"colombiano\", \"colombiano\", \"colombiano\", \"colombiano\", \"comer\", \"comer\", \"comer\", \"comer\", \"comer\", \"comer\", \"confundir\", \"confundir\", \"confundir\", \"conjunto\", \"conjunto\", \"conjunto\", \"considerar\", \"considerar\", \"considerar\", \"control\", \"control\", \"control\", \"coronavirus\", \"coronavirus\", \"coronavirus\", \"cosa\", \"cosa\", \"cosa\", \"cosa\", \"creer\", \"creer\", \"creer\", \"creer\", \"criollo\", \"criollo\", \"criollo\", \"crisis\", \"crisis\", \"crisis\", \"cubano\", \"cubano\", \"cubano\", \"cubano\", \"cuento\", \"cuento\", \"cuento\", \"cuento\", \"culpar\", \"culpar\", \"culpar\", \"da\", \"da\", \"da\", \"da\", \"dar\", \"dar\", \"dar\", \"dar\", \"dar\", \"debe\", \"debe\", \"debe\", \"debe\", \"debe\", \"decir\", \"decir\", \"decir\", \"decir\", \"decir\", \"decir\", \"dejar\", \"dejar\", \"dejar\", \"dejar\", \"dejar\", \"delicuentes\", \"delicuentes\", \"delicuentes\", \"demas\", \"demas\", \"demas\", \"denunciar\", \"denunciar\", \"denunciar\", \"deportar\", \"deportar\", \"deportar\", \"desarrollar\", \"desarrollar\", \"desarrollar\", \"desempleo\", \"desempleo\", \"deseo\", \"deseo\", \"deseo\", \"deseo\", \"destruir\", \"destruir\", \"destruir\", \"detestar\", \"detestar\", \"detestar\", \"dictador\", \"dictador\", \"dictador\", \"dignidad\", \"dignidad\", \"dignidad\", \"dignidad\", \"disculpa\", \"disculpa\", \"disculpa\", \"distinguir\", \"distinguir\", \"distinguir\", \"disturbio\", \"disturbio\", \"disturbio\", \"dividir\", \"dividir\", \"dividir\", \"dizque\", \"dizque\", \"dizque\", \"dizque\", \"dizque\", \"dolar\", \"dolar\", \"dolar\", \"dolor\", \"dolor\", \"dolor\", \"duela\", \"duela\", \"duela\", \"dulce\", \"dulce\", \"dulce\", \"duque\", \"duque\", \"duque\", \"d\\u00eda\", \"d\\u00eda\", \"d\\u00eda\", \"d\\u00eda\", \"echarle\", \"echarle\", \"echarle\", \"echarle\", \"ecuador\", \"ecuador\", \"ecuador\", \"educaci\\u00f3n\", \"educaci\\u00f3n\", \"educaci\\u00f3n\", \"embarazado\", \"embarazado\", \"embarazado\", \"empleo\", \"empleo\", \"empleo\", \"entrada\", \"entrada\", \"entrar\", \"entrar\", \"entrar\", \"entrar\", \"entrevista\", \"entrevista\", \"entrevista\", \"escorias\", \"escorias\", \"escorias\", \"escorias\", \"escribir\", \"escribir\", \"escribir\", \"escribir\", \"escribir\", \"escuchar\", \"escuchar\", \"escuchar\", \"espacio\", \"espacio\", \"espacio\", \"espacio\", \"especial\", \"especial\", \"especial\", \"est\\u00fapido\", \"est\\u00fapido\", \"est\\u00fapido\", \"est\\u00fapido\", \"excelente\", \"excelente\", \"excelente\", \"excelente\", \"exigir\", \"exigir\", \"exigir\", \"extranjeros\", \"extranjeros\", \"extranjeros\", \"famoso\", \"famoso\", \"famoso\", \"fastidiar\", \"fastidiar\", \"fastidiar\", \"fastidiar\", \"fastidio\", \"fastidio\", \"fastidio\", \"favor\", \"favor\", \"favor\", \"favor\", \"fijo\", \"fijo\", \"fijo\", \"finca\", \"finca\", \"finca\", \"finca\", \"flojo\", \"flojo\", \"flojo\", \"flojo\", \"fondo\", \"fondo\", \"fondo\", \"fondo\", \"fondo\", \"frontera\", \"frontera\", \"frontera\", \"gallo\", \"gallo\", \"gallo\", \"gana\", \"gana\", \"gana\", \"gana\", \"gastar\", \"gastar\", \"gastar\", \"generalizar\", \"generalizar\", \"generar\", \"generar\", \"generar\", \"gente\", \"gente\", \"gente\", \"gente\", \"gobierno\", \"gobierno\", \"gobierno\", \"gobierno\", \"gobierno\", \"gol\", \"gol\", \"gol\", \"gol\", \"gol\", \"gonorrea\", \"gonorrea\", \"gonorrea\", \"gonorrea\", \"gonorrea\", \"gonorreas\", \"gonorreas\", \"gonorreas\", \"gonorreas\", \"guajira\", \"guajira\", \"guardar\", \"guardar\", \"guardar\", \"gubernamental\", \"gubernamental\", \"gubernamental\", \"gustar\", \"gustar\", \"gustar\", \"hacer\", \"hacer\", \"hacer\", \"hacer\", \"hacer\", \"hambre\", \"hambre\", \"hambre\", \"hambre\", \"hambre\", \"hdp\", \"hdp\", \"hdp\", \"hijo\", \"hijo\", \"hijo\", \"hijo\", \"hijo\", \"hijueputa\", \"hijueputa\", \"hijueputa\", \"hijueputas\", \"hijueputas\", \"hijueputas\", \"hola\", \"hola\", \"hola\", \"hospital\", \"hospital\", \"hospital\", \"hospital\", \"hospital\", \"hoy\", \"hoy\", \"hoy\", \"hoy\", \"hoy\", \"hoy\", \"hoy\", \"hoy\", \"hp\", \"hp\", \"hp\", \"hp\", \"hps\", \"hps\", \"hps\", \"hpta\", \"hpta\", \"hpta\", \"hpta\", \"hptas\", \"hptas\", \"hptas\", \"hptas\", \"hpts\", \"hpts\", \"hpts\", \"huev\\u00f3n\", \"huev\\u00f3n\", \"huev\\u00f3n\", \"ignorancia\", \"ignorancia\", \"ignorancia\", \"ignorancia\", \"ignorancia\", \"ignorante\", \"ignorante\", \"ignorante\", \"ignorante\", \"incluir\", \"incluir\", \"incluir\", \"incremento\", \"incremento\", \"incremento\", \"infiltrado\", \"infiltrado\", \"infiltrado\", \"infiltrar\", \"infiltrar\", \"infiltrar\", \"ingresar\", \"ingresar\", \"ingreso\", \"ingreso\", \"ingreso\", \"ir\", \"ir\", \"ir\", \"ir\", \"ir\", \"ir\", \"ja\", \"ja\", \"ja\", \"jaja\", \"jaja\", \"jaja\", \"jaja\", \"jajaja\", \"jajaja\", \"jajaja\", \"jajaja\", \"jajajaja\", \"jajajaja\", \"jajajaja\", \"jajajaja\", \"jajajaja\", \"jajajajaja\", \"jajajajaja\", \"jajajajaja\", \"jajajajaja\", \"jajajajaja\", \"jajajajajaja\", \"jajajajajaja\", \"jajajajajaja\", \"jajajajajaja\", \"jajajajajaja\", \"jajajajajajaja\", \"jajajajajajaja\", \"jajajajajajaja\", \"joven\", \"joven\", \"joven\", \"joven\", \"jueputa\", \"jueputa\", \"jueputa\", \"jueputa\", \"jugar\", \"jugar\", \"jugar\", \"jugar\", \"jugar\", \"jugar\", \"jugar\", \"ladr\\u00f3n\", \"ladr\\u00f3n\", \"ladr\\u00f3n\", \"ladr\\u00f3n\", \"ladr\\u00f3n\", \"largar\", \"largar\", \"largar\", \"largo\", \"largo\", \"largo\", \"largo\", \"lastimar\", \"lastimar\", \"lastimar\", \"lastimar\", \"lavar\", \"lavar\", \"lavar\", \"lavar\", \"leer\", \"leer\", \"leer\", \"leer\", \"like\", \"like\", \"like\", \"limosna\", \"limosna\", \"limosna\", \"literal\", \"literal\", \"literal\", \"literal\", \"llegar\", \"llegar\", \"llegar\", \"llegar\", \"lleno\", \"lleno\", \"lleno\", \"lleno\", \"lleno\", \"lleno\", \"llevarse\", \"llevarse\", \"llevarse\", \"madre\", \"madre\", \"madre\", \"madre\", \"madre\", \"maldito\", \"maldito\", \"maldito\", \"maleta\", \"maleta\", \"maleta\", \"malo\", \"malo\", \"malo\", \"malparido\", \"malparido\", \"malparido\", \"malparido\", \"mamar\", \"mamar\", \"mamar\", \"man\", \"man\", \"man\", \"man\", \"man\", \"manifestar\", \"manifestar\", \"manifestar\", \"mano\", \"mano\", \"mano\", \"mano\", \"marrano\", \"marrano\", \"marrano\", \"marrano\", \"marrano\", \"mar\\u00eda\", \"mar\\u00eda\", \"mar\\u00eda\", \"mar\\u00eda\", \"mas\", \"mas\", \"mas\", \"mas\", \"mas\", \"mas\", \"mas\", \"mas\", \"matar\", \"matar\", \"matar\", \"ma\\u00f1ana\", \"ma\\u00f1ana\", \"ma\\u00f1ana\", \"ma\\u00f1ana\", \"mejores\", \"mejores\", \"mejores\", \"mejores\", \"mentiroso\", \"mentiroso\", \"mentiroso\", \"mentiroso\", \"metido\", \"metido\", \"metido\", \"metido\", \"miedo\", \"miedo\", \"miedo\", \"miembro\", \"miembro\", \"miembro\", \"miembro\", \"mierda\", \"mierda\", \"mierda\", \"migraci\\u00f3n\", \"migraci\\u00f3n\", \"migrante\", \"migrante\", \"migrante\", \"mijo\", \"mijo\", \"mijo\", \"mijo\", \"mil\", \"mil\", \"mil\", \"mil\", \"mil\", \"mil\", \"mil\", \"minuto\", \"minuto\", \"minuto\", \"miraflores\", \"miraflores\", \"miraflores\", \"miseria\", \"miseria\", \"mitad\", \"mitad\", \"mitad\", \"mitad\", \"mk\", \"mk\", \"mk\", \"momento\", \"momento\", \"momento\", \"monda\", \"monda\", \"monda\", \"monda\", \"monda\", \"mont\\u00f3n\", \"mont\\u00f3n\", \"mont\\u00f3n\", \"mont\\u00f3n\", \"morir\", \"morir\", \"morir\", \"morir\", \"muerto\", \"muerto\", \"muerto\", \"muerto\", \"muerto\", \"muestra\", \"muestra\", \"muestra\", \"mujer\", \"mujer\", \"mujer\", \"mujer\", \"mundial\", \"mundial\", \"mundial\", \"municipio\", \"municipio\", \"municipio\", \"municipio\", \"nacional\", \"nacional\", \"nacional\", \"nacional\", \"nadie\", \"nadie\", \"nadie\", \"narco\", \"narco\", \"narco\", \"necesitar\", \"necesitar\", \"necesitar\", \"necesitar\", \"negro\", \"negro\", \"negro\", \"negro\", \"ni\", \"ni\", \"ni\", \"ni\", \"ni\", \"ni\\u00f1a\", \"ni\\u00f1a\", \"ni\\u00f1a\", \"ni\\u00f1o\", \"ni\\u00f1o\", \"ni\\u00f1o\", \"no\", \"no\", \"no\", \"no\", \"no\", \"no\", \"no\", \"no\", \"noche\", \"noche\", \"noche\", \"noche\", \"nombrar\", \"nombrar\", \"nombrar\", \"nunca\", \"nunca\", \"nunca\", \"nunca\", \"nunca\", \"obra\", \"obra\", \"obra\", \"odio\", \"odio\", \"odio\", \"ojala\", \"ojala\", \"ojala\", \"ome\", \"ome\", \"ome\", \"onu\", \"onu\", \"onu\", \"oportunidad\", \"oportunidad\", \"oportunidad\", \"pa\", \"pa\", \"pa\", \"pa\", \"pa\", \"pa\", \"pago\", \"pago\", \"pago\", \"paila\", \"paila\", \"paila\", \"pais\", \"pais\", \"pais\", \"paisa\", \"paisa\", \"paisa\", \"paisa\", \"paisa\", \"palacio\", \"palacio\", \"palacio\", \"panfleto\", \"panfleto\", \"panfleto\", \"paramilitar\", \"paramilitar\", \"paramilitar\", \"paramilitar\", \"parce\", \"parce\", \"parce\", \"parce\", \"paro\", \"paro\", \"paro\", \"parto\", \"parto\", \"parto\", \"pasaporte\", \"pasaporte\", \"pasaporte\", \"pasar\", \"pasar\", \"pasar\", \"pasar\", \"patio\", \"patio\", \"patio\", \"pa\\u00eds\", \"pa\\u00eds\", \"pa\\u00eds\", \"pa\\u00eds\", \"pedir\", \"pedir\", \"pedir\", \"perder\", \"perder\", \"perder\", \"perder\", \"perdonar\", \"perdonar\", \"perdonar\", \"perdonar\", \"periodista\", \"periodista\", \"periodista\", \"permiso\", \"permiso\", \"permiso\", \"perra\", \"perra\", \"perra\", \"perra\", \"perro\", \"perro\", \"perro\", \"perro\", \"perro\", \"perro\", \"perro\", \"personaje\", \"personaje\", \"personaje\", \"per\\u00fa\", \"per\\u00fa\", \"per\\u00fa\", \"peste\", \"peste\", \"peste\", \"petristas\", \"petristas\", \"petristas\", \"petristas\", \"petristas\", \"pico\", \"pico\", \"pico\", \"pinta\", \"pinta\", \"pinta\", \"placa\", \"placa\", \"placa\", \"plaga\", \"plaga\", \"plaga\", \"plan\", \"plan\", \"plan\", \"plata\", \"plata\", \"plata\", \"plata\", \"plomo\", \"plomo\", \"plomo\", \"pm\", \"pm\", \"pm\", \"pm\", \"pobreza\", \"pobreza\", \"pobreza\", \"pobreza\", \"policia\", \"policia\", \"policia\", \"policia\", \"polic\\u00eda\", \"polic\\u00eda\", \"polic\\u00eda\", \"polic\\u00eda\", \"polic\\u00eda\", \"presencia\", \"presencia\", \"presencia\", \"presidente\", \"presidente\", \"problema\", \"problema\", \"problema\", \"producto\", \"producto\", \"producto\", \"producto\", \"profesor\", \"profesor\", \"profesor\", \"profesor\", \"profesor\", \"programa\", \"programa\", \"programa\", \"programa\", \"pronto\", \"pronto\", \"pronto\", \"protesta\", \"protesta\", \"protesta\", \"pueda\", \"pueda\", \"pueda\", \"pueda\", \"pueda\", \"puente\", \"puente\", \"puente\", \"puente\", \"puente\", \"punta\", \"punta\", \"punta\", \"punta\", \"punta\", \"punta\", \"puro\", \"puro\", \"puro\", \"puro\", \"puro\", \"puta\", \"puta\", \"puta\", \"puta\", \"puto\", \"puto\", \"puto\", \"puto\", \"putos\", \"putos\", \"putos\", \"queda\", \"queda\", \"querer\", \"querer\", \"querer\", \"querer\", \"rata\", \"rata\", \"rata\", \"rata\", \"re\", \"re\", \"re\", \"re\", \"re\", \"real\", \"real\", \"real\", \"realizar\", \"realizar\", \"realizar\", \"realizar\", \"realizar\", \"recibir\", \"recibir\", \"recibir\", \"regi\\u00f3n\", \"regi\\u00f3n\", \"regi\\u00f3n\", \"regi\\u00f3n\", \"regi\\u00f3n\", \"regi\\u00f3n\", \"relaci\\u00f3n\", \"relaci\\u00f3n\", \"relaci\\u00f3n\", \"requerir\", \"requerir\", \"requerir\", \"respetar\", \"respetar\", \"respetar\", \"restaurantes\", \"restaurantes\", \"restaurantes\", \"retornar\", \"retornar\", \"retornar\", \"revoluci\\u00f3n\", \"revoluci\\u00f3n\", \"revoluci\\u00f3n\", \"revoluci\\u00f3n\", \"revuelto\", \"revuelto\", \"revuelto\", \"robar\", \"robar\", \"robar\", \"rojo\", \"rojo\", \"rojo\", \"rojo\", \"rojo\", \"rosario\", \"rosario\", \"rosario\", \"r\\u00e1pido\", \"r\\u00e1pido\", \"r\\u00e1pido\", \"saber\", \"saber\", \"saber\", \"sacar\", \"sacar\", \"sacar\", \"sacar\", \"salud\", \"salud\", \"san\", \"san\", \"san\", \"san\", \"san\", \"san\", \"sapo\", \"sapo\", \"sapo\", \"saquear\", \"saquear\", \"saquear\", \"seguidor\", \"seguidor\", \"seguidor\", \"seguir\", \"seguir\", \"seguir\", \"seguir\", \"sem\\u00e1foro\", \"sem\\u00e1foro\", \"sem\\u00e1foro\", \"sentar\", \"sentar\", \"sentar\", \"sentir\", \"sentir\", \"show\", \"show\", \"show\", \"show\", \"si\", \"si\", \"si\", \"si\", \"si\", \"siglo\", \"siglo\", \"siglo\", \"sistema\", \"sistema\", \"sistema\", \"sistema\", \"situaci\\u00f3n\", \"situaci\\u00f3n\", \"social\", \"social\", \"social\", \"social\", \"soldado\", \"soldado\", \"soldado\", \"solo\", \"solo\", \"solo\", \"solo\", \"solo\", \"solo\", \"sostener\", \"sostener\", \"sostener\", \"subir\", \"subir\", \"subir\", \"subir\", \"subir\", \"suelo\", \"suelo\", \"suelo\", \"suficiente\", \"suficiente\", \"suficiente\", \"supermercado\", \"supermercado\", \"supermercado\", \"tambien\", \"tambien\", \"tambien\", \"tambien\", \"tan\", \"tan\", \"tan\", \"tan\", \"tan\", \"tan\", \"tapa\", \"tapa\", \"tapa\", \"tarde\", \"tarde\", \"tarde\", \"tarde\", \"tener\", \"tener\", \"tener\", \"tener\", \"tener\", \"tener\", \"tener\", \"tener\", \"tiendas\", \"tiendas\", \"tiendas\", \"tm\", \"tm\", \"tm\", \"toque\", \"toque\", \"trabajar\", \"trabajar\", \"trabajar\", \"trabajar\", \"traer\", \"traer\", \"traer\", \"traer\", \"traer\", \"trata\", \"trata\", \"trata\", \"tratar\", \"tratar\", \"tratar\", \"triple\", \"triple\", \"triple\", \"triple\", \"valer\", \"valer\", \"valer\", \"valer\", \"valla\", \"valla\", \"valla\", \"valla\", \"valla\", \"valle\", \"valle\", \"valle\", \"vandalismo\", \"vandalismo\", \"vayan\", \"vayan\", \"vayan\", \"vayan\", \"vendar\", \"vendar\", \"vendar\", \"vendar\", \"vendedor\", \"vendedor\", \"vendedor\", \"vender\", \"vender\", \"vender\", \"veneca\", \"veneca\", \"veneca\", \"veneca\", \"venecas\", \"venecas\", \"venecas\", \"venecas\", \"venecas\", \"veneco\", \"veneco\", \"veneco\", \"veneco\", \"venecos\", \"venecos\", \"venecos\", \"venecos\", \"venecos\", \"venecos\", \"venezolano\", \"venezolano\", \"venezolano\", \"venezolano\", \"venezolano\", \"venezolano\", \"venezolano\", \"venezolano\", \"venezolano\", \"venezolanos\", \"venezolanos\", \"venezolanos\", \"venezuela\", \"venezuela\", \"venezuela\", \"venezuela\", \"venir\", \"venir\", \"venir\", \"venir\", \"venta\", \"venta\", \"venta\", \"venta\", \"ver\", \"ver\", \"ver\", \"ver\", \"ver\", \"ver\", \"verdad\", \"verdad\", \"verdad\", \"verdad\", \"verga\", \"verga\", \"verga\", \"verga\", \"verga\", \"vidrio\", \"vidrio\", \"vidrio\", \"vidrio\", \"villa\", \"villa\", \"villa\", \"violar\", \"violar\", \"violencia\", \"violencia\", \"violencia\", \"visto\", \"visto\", \"visto\", \"vivo\", \"vivo\", \"vivo\", \"vnzl\", \"vnzl\", \"voy\", \"voy\", \"voy\", \"voy\", \"voy\", \"xxi\", \"xxi\", \"xxi\", \"yopal\", \"yopal\", \"yopal\", \"\\u00e8l\", \"\\u00e8l\", \"\\u00e8l\", \"\\u00e9sta\", \"\\u00e9sta\", \"\\u00e9sta\", \"\\u00e9sta\", \"\\ud83c\\udffb\\u200d\", \"\\ud83c\\udffb\\u200d\", \"\\ud83c\\udffb\\u200d\", \"\\ud83c\\udffd\\u200d\", \"\\ud83c\\udffd\\u200d\", \"\\ud83c\\udffd\\u200d\"]}, \"R\": 30, \"lambda.step\": 0.01, \"plot.opts\": {\"xlab\": \"PC1\", \"ylab\": \"PC2\"}, \"topic.order\": [1, 9, 2, 8, 7, 4, 6, 5, 3]};\n",
       "\n",
       "function LDAvis_load_lib(url, callback){\n",
       "  var s = document.createElement('script');\n",
       "  s.src = url;\n",
       "  s.async = true;\n",
       "  s.onreadystatechange = s.onload = callback;\n",
       "  s.onerror = function(){console.warn(\"failed to load library \" + url);};\n",
       "  document.getElementsByTagName(\"head\")[0].appendChild(s);\n",
       "}\n",
       "\n",
       "if(typeof(LDAvis) !== \"undefined\"){\n",
       "   // already loaded: just create the visualization\n",
       "   !function(LDAvis){\n",
       "       new LDAvis(\"#\" + \"ldavis_el170819712226051526503686910\", ldavis_el170819712226051526503686910_data);\n",
       "   }(LDAvis);\n",
       "}else if(typeof define === \"function\" && define.amd){\n",
       "   // require.js is available: use it to load d3/LDAvis\n",
       "   require.config({paths: {d3: \"https://d3js.org/d3.v5\"}});\n",
       "   require([\"d3\"], function(d3){\n",
       "      window.d3 = d3;\n",
       "      LDAvis_load_lib(\"https://cdn.jsdelivr.net/gh/bmabey/pyLDAvis@3.2.2/pyLDAvis/js/ldavis.v3.0.0.js\", function(){\n",
       "        new LDAvis(\"#\" + \"ldavis_el170819712226051526503686910\", ldavis_el170819712226051526503686910_data);\n",
       "      });\n",
       "    });\n",
       "}else{\n",
       "    // require.js not available: dynamically load d3 & LDAvis\n",
       "    LDAvis_load_lib(\"https://d3js.org/d3.v5.js\", function(){\n",
       "         LDAvis_load_lib(\"https://cdn.jsdelivr.net/gh/bmabey/pyLDAvis@3.2.2/pyLDAvis/js/ldavis.v3.0.0.js\", function(){\n",
       "                 new LDAvis(\"#\" + \"ldavis_el170819712226051526503686910\", ldavis_el170819712226051526503686910_data);\n",
       "            })\n",
       "         });\n",
       "}\n",
       "</script>"
      ],
      "text/plain": [
       "<IPython.core.display.HTML object>"
      ]
     },
     "execution_count": 34,
     "metadata": {},
     "output_type": "execute_result"
    }
   ],
   "source": [
    "\n",
    "\n",
    "#corpus = corpora.MmCorpus('tweets_x.mm')\n",
    "#dictionary = corpora.Dictionary('tweets_x.dict')\n",
    "# EL mejor modelo\n",
    "\n",
    "lda_final_model = gensim.models.LdaMulticore(corpus=mm,\n",
    "                                             id2word=dictionary,\n",
    "                                             num_topics=9,\n",
    "                                             random_state=100,\n",
    "                                             chunksize=100,\n",
    "                                             passes=10,\n",
    "                                             alpha=0.31,\n",
    "                                             eta=0.61)\n",
    "\n",
    "[[(dictionary[id], freq) for id, freq in cp] for cp in corpus[:1]]\n",
    "\n",
    "pprint(lda_final_model.print_topics())\n",
    "doc_lda = lda_final_model[corpus]\n",
    "\n",
    "visxx = pyLDAvis.gensim.prepare(topic_model=lda_final_model, corpus=corpus, dictionary=dictionary)\n",
    "pyLDAvis.display(visxx)\n"
   ]
  },
  {
   "cell_type": "code",
   "execution_count": 35,
   "id": "going-matrix",
   "metadata": {},
   "outputs": [
    {
     "name": "stderr",
     "output_type": "stream",
     "text": [
      "C:\\Users\\JOSE\\anaconda3\\lib\\site-packages\\ipykernel\\ipkernel.py:287: DeprecationWarning: `should_run_async` will not call `transform_cell` automatically in the future. Please pass the result to `transformed_cell` argument and any exception that happen during thetransform in `preprocessing_exc_tuple` in IPython 7.17 and above.\n",
      "  and should_run_async(code)\n"
     ]
    }
   ],
   "source": [
    "pyLDAvis.save_html(visxx, 'ldax3.html')"
   ]
  },
  {
   "cell_type": "code",
   "execution_count": 47,
   "id": "periodic-observation",
   "metadata": {},
   "outputs": [
    {
     "name": "stderr",
     "output_type": "stream",
     "text": [
      "C:\\Users\\JOSE\\anaconda3\\lib\\site-packages\\ipykernel\\ipkernel.py:287: DeprecationWarning: `should_run_async` will not call `transform_cell` automatically in the future. Please pass the result to `transformed_cell` argument and any exception that happen during thetransform in `preprocessing_exc_tuple` in IPython 7.17 and above.\n",
      "  and should_run_async(code)\n"
     ]
    },
    {
     "name": "stdout",
     "output_type": "stream",
     "text": [
      "\n",
      "Perplexity:  -7.860545734350947\n",
      "\n",
      "Coherence Score:  0.515500834428575\n"
     ]
    }
   ],
   "source": [
    "# Compute Perplexity\n",
    "print('\\nPerplexity: ', lda_final_model.log_perplexity(corpus))  # a measure of how good the model is. lower the better.\n",
    "\n",
    "# Compute Coherence Score\n",
    "coherence_model_lda = CoherenceModel(model=lda_final_model, texts=data_lemmatized, dictionary=dictionary, coherence='c_v')\n",
    "with np.errstate(invalid='ignore'):\n",
    "    coherence_lda = coherence_model_lda.get_coherence()\n",
    "print('\\nCoherence Score: ', coherence_lda)"
   ]
  },
  {
   "cell_type": "markdown",
   "id": "aerial-terrace",
   "metadata": {
    "id": "regional-garbage"
   },
   "source": [
    "# Finding the dominant topic in each sentence"
   ]
  },
  {
   "cell_type": "code",
   "execution_count": 42,
   "id": "written-costa",
   "metadata": {
    "id": "worst-stage"
   },
   "outputs": [
    {
     "name": "stderr",
     "output_type": "stream",
     "text": [
      "C:\\Users\\JOSE\\anaconda3\\lib\\site-packages\\ipykernel\\ipkernel.py:287: DeprecationWarning: `should_run_async` will not call `transform_cell` automatically in the future. Please pass the result to `transformed_cell` argument and any exception that happen during thetransform in `preprocessing_exc_tuple` in IPython 7.17 and above.\n",
      "  and should_run_async(code)\n"
     ]
    },
    {
     "data": {
      "text/html": [
       "<div>\n",
       "<style scoped>\n",
       "    .dataframe tbody tr th:only-of-type {\n",
       "        vertical-align: middle;\n",
       "    }\n",
       "\n",
       "    .dataframe tbody tr th {\n",
       "        vertical-align: top;\n",
       "    }\n",
       "\n",
       "    .dataframe thead th {\n",
       "        text-align: right;\n",
       "    }\n",
       "</style>\n",
       "<table border=\"1\" class=\"dataframe\">\n",
       "  <thead>\n",
       "    <tr style=\"text-align: right;\">\n",
       "      <th></th>\n",
       "      <th>Document_No</th>\n",
       "      <th>Dominant_Topic</th>\n",
       "      <th>Topic_Perc_Contrib</th>\n",
       "      <th>Keywords</th>\n",
       "      <th>Text</th>\n",
       "    </tr>\n",
       "  </thead>\n",
       "  <tbody>\n",
       "    <tr>\n",
       "      <th>0</th>\n",
       "      <td>0</td>\n",
       "      <td>1.0</td>\n",
       "      <td>0.5663</td>\n",
       "      <td>venecos, mierda, hijueputa,   , hp, puta, hijo...</td>\n",
       "      <td>@kenin_nunez @SOMOSRIOCRECID Estos venecos, ha...</td>\n",
       "    </tr>\n",
       "    <tr>\n",
       "      <th>1</th>\n",
       "      <td>1</td>\n",
       "      <td>0.0</td>\n",
       "      <td>0.8600</td>\n",
       "      <td>venezolano, no, colombia, país,   , colombiano...</td>\n",
       "      <td>@BrianSnow007 @anGspot @iKarlyzr Eso es falso,...</td>\n",
       "    </tr>\n",
       "    <tr>\n",
       "      <th>2</th>\n",
       "      <td>2</td>\n",
       "      <td>6.0</td>\n",
       "      <td>0.4184</td>\n",
       "      <td>veneco, malparido, hpta, puro,   , chiste, mue...</td>\n",
       "      <td>@fabrorejon Vergacion, ya se puso veneco</td>\n",
       "    </tr>\n",
       "    <tr>\n",
       "      <th>3</th>\n",
       "      <td>3</td>\n",
       "      <td>8.0</td>\n",
       "      <td>0.5610</td>\n",
       "      <td>venezolano, no, si, tener, decir, hacer, robar...</td>\n",
       "      <td>@Salas91Adrian @Camilousuga11 @SaqueLargoWin A...</td>\n",
       "    </tr>\n",
       "    <tr>\n",
       "      <th>4</th>\n",
       "      <td>4</td>\n",
       "      <td>8.0</td>\n",
       "      <td>0.5112</td>\n",
       "      <td>venezolano, no, si, tener, decir, hacer, robar...</td>\n",
       "      <td>Si cuando la generación equivocada la que no l...</td>\n",
       "    </tr>\n",
       "    <tr>\n",
       "      <th>5</th>\n",
       "      <td>5</td>\n",
       "      <td>6.0</td>\n",
       "      <td>0.4359</td>\n",
       "      <td>veneco, malparido, hpta, puro,   , chiste, mue...</td>\n",
       "      <td>@mitsukiruki Douglas Bravo, un guerrillero com...</td>\n",
       "    </tr>\n",
       "    <tr>\n",
       "      <th>6</th>\n",
       "      <td>6</td>\n",
       "      <td>1.0</td>\n",
       "      <td>0.5135</td>\n",
       "      <td>venecos, mierda, hijueputa,   , hp, puta, hijo...</td>\n",
       "      <td>Están peor que los venecos estos hijos de puta.</td>\n",
       "    </tr>\n",
       "    <tr>\n",
       "      <th>7</th>\n",
       "      <td>7</td>\n",
       "      <td>8.0</td>\n",
       "      <td>0.4506</td>\n",
       "      <td>venezolano, no, si, tener, decir, hacer, robar...</td>\n",
       "      <td>De la que me salve, esperanza con Cali, ratas ...</td>\n",
       "    </tr>\n",
       "    <tr>\n",
       "      <th>8</th>\n",
       "      <td>8</td>\n",
       "      <td>8.0</td>\n",
       "      <td>0.8598</td>\n",
       "      <td>venezolano, no, si, tener, decir, hacer, robar...</td>\n",
       "      <td>@SdrodriguezT xenofobia?? Hermanos venezolanos...</td>\n",
       "    </tr>\n",
       "    <tr>\n",
       "      <th>9</th>\n",
       "      <td>9</td>\n",
       "      <td>8.0</td>\n",
       "      <td>0.6821</td>\n",
       "      <td>venezolano, no, si, tener, decir, hacer, robar...</td>\n",
       "      <td>@FontirroigPablo @norte_canal Con todo el resp...</td>\n",
       "    </tr>\n",
       "  </tbody>\n",
       "</table>\n",
       "</div>"
      ],
      "text/plain": [
       "   Document_No  Dominant_Topic  Topic_Perc_Contrib  \\\n",
       "0            0             1.0              0.5663   \n",
       "1            1             0.0              0.8600   \n",
       "2            2             6.0              0.4184   \n",
       "3            3             8.0              0.5610   \n",
       "4            4             8.0              0.5112   \n",
       "5            5             6.0              0.4359   \n",
       "6            6             1.0              0.5135   \n",
       "7            7             8.0              0.4506   \n",
       "8            8             8.0              0.8598   \n",
       "9            9             8.0              0.6821   \n",
       "\n",
       "                                            Keywords  \\\n",
       "0  venecos, mierda, hijueputa,   , hp, puta, hijo...   \n",
       "1  venezolano, no, colombia, país,   , colombiano...   \n",
       "2  veneco, malparido, hpta, puro,   , chiste, mue...   \n",
       "3  venezolano, no, si, tener, decir, hacer, robar...   \n",
       "4  venezolano, no, si, tener, decir, hacer, robar...   \n",
       "5  veneco, malparido, hpta, puro,   , chiste, mue...   \n",
       "6  venecos, mierda, hijueputa,   , hp, puta, hijo...   \n",
       "7  venezolano, no, si, tener, decir, hacer, robar...   \n",
       "8  venezolano, no, si, tener, decir, hacer, robar...   \n",
       "9  venezolano, no, si, tener, decir, hacer, robar...   \n",
       "\n",
       "                                                Text  \n",
       "0  @kenin_nunez @SOMOSRIOCRECID Estos venecos, ha...  \n",
       "1  @BrianSnow007 @anGspot @iKarlyzr Eso es falso,...  \n",
       "2           @fabrorejon Vergacion, ya se puso veneco  \n",
       "3  @Salas91Adrian @Camilousuga11 @SaqueLargoWin A...  \n",
       "4  Si cuando la generación equivocada la que no l...  \n",
       "5  @mitsukiruki Douglas Bravo, un guerrillero com...  \n",
       "6    Están peor que los venecos estos hijos de puta.  \n",
       "7  De la que me salve, esperanza con Cali, ratas ...  \n",
       "8  @SdrodriguezT xenofobia?? Hermanos venezolanos...  \n",
       "9  @FontirroigPablo @norte_canal Con todo el resp...  "
      ]
     },
     "execution_count": 42,
     "metadata": {},
     "output_type": "execute_result"
    }
   ],
   "source": [
    "def format_topics_sentences(ldamodel, corpus, texts):\n",
    "    # Init output\n",
    "    sent_topics_df = pd.DataFrame()\n",
    "    \n",
    "    # Get main topic in each document\n",
    "    for i, row in enumerate(ldamodel[corpus]):\n",
    "        row = sorted(row, key=lambda x: (x[1]), reverse=True)\n",
    "        # Get the Dominant topic, Perc Contribution and Keywords for each document\n",
    "        for j, (topic_num, prop_topic) in enumerate(row):\n",
    "            if j == 0:  # => dominant topic\n",
    "                wp = ldamodel.show_topic(topic_num)\n",
    "                topic_keywords = \", \".join([word for word, prop in wp])\n",
    "                sent_topics_df = sent_topics_df.append(pd.Series([int(topic_num), round(prop_topic,4), topic_keywords]), ignore_index=True)\n",
    "            else:\n",
    "                break\n",
    "    sent_topics_df.columns = ['Dominant_Topic', 'Perc_Contribution', 'Topic_Keywords']\n",
    "\n",
    "    # Add original text to the end of the output\n",
    "    contents = pd.Series(texts)\n",
    "    sent_topics_df = pd.concat([sent_topics_df, contents], axis=1)\n",
    "    return(sent_topics_df)\n",
    "\n",
    "\n",
    "df_topic_sents_keywords = format_topics_sentences(ldamodel=lda_final_model, corpus=corpus, texts=df['Snippet'])\n",
    "\n",
    "# Format\n",
    "df_dominant_topic = df_topic_sents_keywords.reset_index()\n",
    "df_dominant_topic.columns = ['Document_No', 'Dominant_Topic', 'Topic_Perc_Contrib', 'Keywords', 'Text']\n",
    "\n",
    "# Show\n",
    "df_dominant_topic.head(10)"
   ]
  },
  {
   "cell_type": "code",
   "execution_count": 43,
   "id": "built-messenger",
   "metadata": {},
   "outputs": [
    {
     "name": "stderr",
     "output_type": "stream",
     "text": [
      "C:\\Users\\JOSE\\anaconda3\\lib\\site-packages\\ipykernel\\ipkernel.py:287: DeprecationWarning: `should_run_async` will not call `transform_cell` automatically in the future. Please pass the result to `transformed_cell` argument and any exception that happen during thetransform in `preprocessing_exc_tuple` in IPython 7.17 and above.\n",
      "  and should_run_async(code)\n"
     ]
    }
   ],
   "source": [
    "df_dominant_topic.to_excel('Topico_dominante_por_frase_snippet.xlsx')"
   ]
  },
  {
   "cell_type": "markdown",
   "id": "occupied-continuity",
   "metadata": {
    "id": "comprehensive-wireless"
   },
   "source": [
    "# Find the most representative document for each topic"
   ]
  },
  {
   "cell_type": "code",
   "execution_count": 44,
   "id": "canadian-today",
   "metadata": {
    "id": "considered-register"
   },
   "outputs": [
    {
     "name": "stderr",
     "output_type": "stream",
     "text": [
      "C:\\Users\\JOSE\\anaconda3\\lib\\site-packages\\ipykernel\\ipkernel.py:287: DeprecationWarning: `should_run_async` will not call `transform_cell` automatically in the future. Please pass the result to `transformed_cell` argument and any exception that happen during thetransform in `preprocessing_exc_tuple` in IPython 7.17 and above.\n",
      "  and should_run_async(code)\n"
     ]
    },
    {
     "data": {
      "text/html": [
       "<div>\n",
       "<style scoped>\n",
       "    .dataframe tbody tr th:only-of-type {\n",
       "        vertical-align: middle;\n",
       "    }\n",
       "\n",
       "    .dataframe tbody tr th {\n",
       "        vertical-align: top;\n",
       "    }\n",
       "\n",
       "    .dataframe thead th {\n",
       "        text-align: right;\n",
       "    }\n",
       "</style>\n",
       "<table border=\"1\" class=\"dataframe\">\n",
       "  <thead>\n",
       "    <tr style=\"text-align: right;\">\n",
       "      <th></th>\n",
       "      <th>Topic_Num</th>\n",
       "      <th>Topic_Perc_Contrib</th>\n",
       "      <th>Keywords</th>\n",
       "      <th>Text</th>\n",
       "    </tr>\n",
       "  </thead>\n",
       "  <tbody>\n",
       "    <tr>\n",
       "      <th>0</th>\n",
       "      <td>0.0</td>\n",
       "      <td>0.9215</td>\n",
       "      <td>venezolano, no, colombia, país,   , colombiano...</td>\n",
       "      <td>Sin ese 4% que los venezolanos aportan estaría...</td>\n",
       "    </tr>\n",
       "    <tr>\n",
       "      <th>1</th>\n",
       "      <td>1.0</td>\n",
       "      <td>0.8269</td>\n",
       "      <td>venecos, mierda, hijueputa,   , hp, puta, hijo...</td>\n",
       "      <td>@elviejomiguelc Tremendo coñazo.. Disculpe me ...</td>\n",
       "    </tr>\n",
       "    <tr>\n",
       "      <th>2</th>\n",
       "      <td>2.0</td>\n",
       "      <td>0.8136</td>\n",
       "      <td>trata, joven, ojala, campaña, rápido, excelent...</td>\n",
       "      <td>@CaracolRadio Veneco,esto es lo que heredamos ...</td>\n",
       "    </tr>\n",
       "    <tr>\n",
       "      <th>3</th>\n",
       "      <td>3.0</td>\n",
       "      <td>0.8104</td>\n",
       "      <td>paro, periodista, coronavirus, realizar, prese...</td>\n",
       "      <td>HIDRUITANGO..GRAN FRACASO DE LA INFENIERIA COL...</td>\n",
       "    </tr>\n",
       "    <tr>\n",
       "      <th>4</th>\n",
       "      <td>4.0</td>\n",
       "      <td>0.8117</td>\n",
       "      <td>🏻‍, dolar, ecuador, mañana, ignorante, metido,...</td>\n",
       "      <td>Caracas FC avanzó a la tercera fase de la Copa...</td>\n",
       "    </tr>\n",
       "  </tbody>\n",
       "</table>\n",
       "</div>"
      ],
      "text/plain": [
       "   Topic_Num  Topic_Perc_Contrib  \\\n",
       "0        0.0              0.9215   \n",
       "1        1.0              0.8269   \n",
       "2        2.0              0.8136   \n",
       "3        3.0              0.8104   \n",
       "4        4.0              0.8117   \n",
       "\n",
       "                                            Keywords  \\\n",
       "0  venezolano, no, colombia, país,   , colombiano...   \n",
       "1  venecos, mierda, hijueputa,   , hp, puta, hijo...   \n",
       "2  trata, joven, ojala, campaña, rápido, excelent...   \n",
       "3  paro, periodista, coronavirus, realizar, prese...   \n",
       "4  🏻‍, dolar, ecuador, mañana, ignorante, metido,...   \n",
       "\n",
       "                                                Text  \n",
       "0  Sin ese 4% que los venezolanos aportan estaría...  \n",
       "1  @elviejomiguelc Tremendo coñazo.. Disculpe me ...  \n",
       "2  @CaracolRadio Veneco,esto es lo que heredamos ...  \n",
       "3  HIDRUITANGO..GRAN FRACASO DE LA INFENIERIA COL...  \n",
       "4  Caracas FC avanzó a la tercera fase de la Copa...  "
      ]
     },
     "execution_count": 44,
     "metadata": {},
     "output_type": "execute_result"
    }
   ],
   "source": [
    "# Group top 5 sentences under each topic\n",
    "sent_topics_sorteddf_mallet = pd.DataFrame()\n",
    "\n",
    "sent_topics_outdf_grpd = df_topic_sents_keywords.groupby('Dominant_Topic')\n",
    "\n",
    "for i, grp in sent_topics_outdf_grpd:\n",
    "    sent_topics_sorteddf_mallet = pd.concat([sent_topics_sorteddf_mallet, \n",
    "                                             grp.sort_values(['Perc_Contribution'], ascending=[0]).head(1)], \n",
    "                                            axis=0)\n",
    "\n",
    "# Reset Index    \n",
    "sent_topics_sorteddf_mallet.reset_index(drop=True, inplace=True)\n",
    "\n",
    "# Format\n",
    "sent_topics_sorteddf_mallet.columns = ['Topic_Num', \"Topic_Perc_Contrib\", \"Keywords\", \"Text\"]\n",
    "\n",
    "# Show\n",
    "sent_topics_sorteddf_mallet.head()"
   ]
  },
  {
   "cell_type": "code",
   "execution_count": 45,
   "id": "republican-enclosure",
   "metadata": {},
   "outputs": [
    {
     "name": "stderr",
     "output_type": "stream",
     "text": [
      "C:\\Users\\JOSE\\anaconda3\\lib\\site-packages\\ipykernel\\ipkernel.py:287: DeprecationWarning: `should_run_async` will not call `transform_cell` automatically in the future. Please pass the result to `transformed_cell` argument and any exception that happen during thetransform in `preprocessing_exc_tuple` in IPython 7.17 and above.\n",
      "  and should_run_async(code)\n"
     ]
    }
   ],
   "source": [
    "sent_topics_sorteddf_mallet.to_excel('tweets_representativos_por_topico_snippet.xlsx')"
   ]
  },
  {
   "cell_type": "markdown",
   "id": "incorporate-kitty",
   "metadata": {
    "id": "elect-skirt"
   },
   "source": [
    "# Topic distribution across documents"
   ]
  },
  {
   "cell_type": "code",
   "execution_count": 40,
   "id": "accessible-failing",
   "metadata": {
    "id": "municipal-light"
   },
   "outputs": [
    {
     "name": "stderr",
     "output_type": "stream",
     "text": [
      "C:\\Users\\JOSE\\anaconda3\\lib\\site-packages\\ipykernel\\ipkernel.py:287: DeprecationWarning: `should_run_async` will not call `transform_cell` automatically in the future. Please pass the result to `transformed_cell` argument and any exception that happen during thetransform in `preprocessing_exc_tuple` in IPython 7.17 and above.\n",
      "  and should_run_async(code)\n"
     ]
    },
    {
     "data": {
      "text/html": [
       "<div>\n",
       "<style scoped>\n",
       "    .dataframe tbody tr th:only-of-type {\n",
       "        vertical-align: middle;\n",
       "    }\n",
       "\n",
       "    .dataframe tbody tr th {\n",
       "        vertical-align: top;\n",
       "    }\n",
       "\n",
       "    .dataframe thead th {\n",
       "        text-align: right;\n",
       "    }\n",
       "</style>\n",
       "<table border=\"1\" class=\"dataframe\">\n",
       "  <thead>\n",
       "    <tr style=\"text-align: right;\">\n",
       "      <th></th>\n",
       "      <th>Dominant_Topic</th>\n",
       "      <th>Topic_Keywords</th>\n",
       "      <th>Num_Documents</th>\n",
       "      <th>Perc_Documents</th>\n",
       "    </tr>\n",
       "  </thead>\n",
       "  <tbody>\n",
       "    <tr>\n",
       "      <th>0.0</th>\n",
       "      <td>1.0</td>\n",
       "      <td>venecos, mierda, hijueputa,   , hp, puta, hijo...</td>\n",
       "      <td>13305.0</td>\n",
       "      <td>0.4372</td>\n",
       "    </tr>\n",
       "    <tr>\n",
       "      <th>1.0</th>\n",
       "      <td>0.0</td>\n",
       "      <td>venezolano, no, colombia, país,   , colombiano...</td>\n",
       "      <td>2863.0</td>\n",
       "      <td>0.0941</td>\n",
       "    </tr>\n",
       "    <tr>\n",
       "      <th>2.0</th>\n",
       "      <td>6.0</td>\n",
       "      <td>veneco, malparido, hpta, puro,   , chiste, mue...</td>\n",
       "      <td>167.0</td>\n",
       "      <td>0.0055</td>\n",
       "    </tr>\n",
       "    <tr>\n",
       "      <th>3.0</th>\n",
       "      <td>8.0</td>\n",
       "      <td>venezolano, no, si, tener, decir, hacer, robar...</td>\n",
       "      <td>232.0</td>\n",
       "      <td>0.0076</td>\n",
       "    </tr>\n",
       "    <tr>\n",
       "      <th>4.0</th>\n",
       "      <td>8.0</td>\n",
       "      <td>venezolano, no, si, tener, decir, hacer, robar...</td>\n",
       "      <td>195.0</td>\n",
       "      <td>0.0064</td>\n",
       "    </tr>\n",
       "    <tr>\n",
       "      <th>...</th>\n",
       "      <td>...</td>\n",
       "      <td>...</td>\n",
       "      <td>...</td>\n",
       "      <td>...</td>\n",
       "    </tr>\n",
       "    <tr>\n",
       "      <th>30430.0</th>\n",
       "      <td>0.0</td>\n",
       "      <td>venezolano, no, colombia, país,   , colombiano...</td>\n",
       "      <td>NaN</td>\n",
       "      <td>NaN</td>\n",
       "    </tr>\n",
       "    <tr>\n",
       "      <th>30431.0</th>\n",
       "      <td>0.0</td>\n",
       "      <td>venezolano, no, colombia, país,   , colombiano...</td>\n",
       "      <td>NaN</td>\n",
       "      <td>NaN</td>\n",
       "    </tr>\n",
       "    <tr>\n",
       "      <th>30432.0</th>\n",
       "      <td>0.0</td>\n",
       "      <td>venezolano, no, colombia, país,   , colombiano...</td>\n",
       "      <td>NaN</td>\n",
       "      <td>NaN</td>\n",
       "    </tr>\n",
       "    <tr>\n",
       "      <th>30433.0</th>\n",
       "      <td>0.0</td>\n",
       "      <td>venezolano, no, colombia, país,   , colombiano...</td>\n",
       "      <td>NaN</td>\n",
       "      <td>NaN</td>\n",
       "    </tr>\n",
       "    <tr>\n",
       "      <th>30434.0</th>\n",
       "      <td>8.0</td>\n",
       "      <td>venezolano, no, si, tener, decir, hacer, robar...</td>\n",
       "      <td>NaN</td>\n",
       "      <td>NaN</td>\n",
       "    </tr>\n",
       "  </tbody>\n",
       "</table>\n",
       "<p>30435 rows × 4 columns</p>\n",
       "</div>"
      ],
      "text/plain": [
       "         Dominant_Topic                                     Topic_Keywords  \\\n",
       "0.0                 1.0  venecos, mierda, hijueputa,   , hp, puta, hijo...   \n",
       "1.0                 0.0  venezolano, no, colombia, país,   , colombiano...   \n",
       "2.0                 6.0  veneco, malparido, hpta, puro,   , chiste, mue...   \n",
       "3.0                 8.0  venezolano, no, si, tener, decir, hacer, robar...   \n",
       "4.0                 8.0  venezolano, no, si, tener, decir, hacer, robar...   \n",
       "...                 ...                                                ...   \n",
       "30430.0             0.0  venezolano, no, colombia, país,   , colombiano...   \n",
       "30431.0             0.0  venezolano, no, colombia, país,   , colombiano...   \n",
       "30432.0             0.0  venezolano, no, colombia, país,   , colombiano...   \n",
       "30433.0             0.0  venezolano, no, colombia, país,   , colombiano...   \n",
       "30434.0             8.0  venezolano, no, si, tener, decir, hacer, robar...   \n",
       "\n",
       "         Num_Documents  Perc_Documents  \n",
       "0.0            13305.0          0.4372  \n",
       "1.0             2863.0          0.0941  \n",
       "2.0              167.0          0.0055  \n",
       "3.0              232.0          0.0076  \n",
       "4.0              195.0          0.0064  \n",
       "...                ...             ...  \n",
       "30430.0            NaN             NaN  \n",
       "30431.0            NaN             NaN  \n",
       "30432.0            NaN             NaN  \n",
       "30433.0            NaN             NaN  \n",
       "30434.0            NaN             NaN  \n",
       "\n",
       "[30435 rows x 4 columns]"
      ]
     },
     "execution_count": 40,
     "metadata": {},
     "output_type": "execute_result"
    }
   ],
   "source": [
    "# Number of Documents for Each Topic\n",
    "topic_counts = df_topic_sents_keywords['Dominant_Topic'].value_counts()\n",
    "\n",
    "# Percentage of Documents for Each Topic\n",
    "topic_contribution = round(topic_counts/topic_counts.sum(), 4)\n",
    "\n",
    "# Topic Number and Keywords\n",
    "topic_num_keywords = df_topic_sents_keywords[['Dominant_Topic', 'Topic_Keywords']]\n",
    "\n",
    "# Concatenate Column wise\n",
    "df_dominant_topics = pd.concat([topic_num_keywords, topic_counts, topic_contribution], axis=1)\n",
    "\n",
    "# Change Column names\n",
    "df_dominant_topics.columns = ['Dominant_Topic', 'Topic_Keywords', 'Num_Documents', 'Perc_Documents']\n",
    "\n",
    "# Show\n",
    "df_dominant_topics"
   ]
  },
  {
   "cell_type": "code",
   "execution_count": 41,
   "id": "induced-holly",
   "metadata": {},
   "outputs": [
    {
     "name": "stderr",
     "output_type": "stream",
     "text": [
      "C:\\Users\\JOSE\\anaconda3\\lib\\site-packages\\ipykernel\\ipkernel.py:287: DeprecationWarning: `should_run_async` will not call `transform_cell` automatically in the future. Please pass the result to `transformed_cell` argument and any exception that happen during thetransform in `preprocessing_exc_tuple` in IPython 7.17 and above.\n",
      "  and should_run_async(code)\n"
     ]
    }
   ],
   "source": [
    "df_dominant_topics.to_excel('distribución_de_topicos_a_traves_de_documentos.xlsx')"
   ]
  },
  {
   "cell_type": "code",
   "execution_count": null,
   "id": "twelve-wrong",
   "metadata": {},
   "outputs": [],
   "source": []
  }
 ],
 "metadata": {
  "colab": {
   "collapsed_sections": [],
   "name": "LDA Topic Modelling-2.ipynb",
   "provenance": []
  },
  "kernelspec": {
   "display_name": "Python 3",
   "language": "python",
   "name": "python3"
  },
  "language_info": {
   "codemirror_mode": {
    "name": "ipython",
    "version": 3
   },
   "file_extension": ".py",
   "mimetype": "text/x-python",
   "name": "python",
   "nbconvert_exporter": "python",
   "pygments_lexer": "ipython3",
   "version": "3.8.3"
  },
  "varInspector": {
   "cols": {
    "lenName": 16,
    "lenType": 16,
    "lenVar": 40
   },
   "kernels_config": {
    "python": {
     "delete_cmd_postfix": "",
     "delete_cmd_prefix": "del ",
     "library": "var_list.py",
     "varRefreshCmd": "print(var_dic_list())"
    },
    "r": {
     "delete_cmd_postfix": ") ",
     "delete_cmd_prefix": "rm(",
     "library": "var_list.r",
     "varRefreshCmd": "cat(var_dic_list()) "
    }
   },
   "types_to_exclude": [
    "module",
    "function",
    "builtin_function_or_method",
    "instance",
    "_Feature"
   ],
   "window_display": false
  }
 },
 "nbformat": 4,
 "nbformat_minor": 5
}
