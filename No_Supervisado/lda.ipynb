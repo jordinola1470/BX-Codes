{
 "cells": [
  {
   "cell_type": "code",
   "execution_count": null,
   "metadata": {
    "id": "1IY21ubY2YI5"
   },
   "outputs": [],
   "source": [
    "# Análisis no supervisado, espacio de trabajo\n",
    "# Instalación de programación acelerada por GPU\n",
    "!pip install -U pip setuptools wheel\n",
    "!pip install -U spacy[cuda110,transformers,lookups]\n",
    "!python -m spacy download es_dep_news_trf\n",
    "!pip install torch===1.7.1+cu110 torchvision===0.8.2+cu110 torchaudio===0.7.2 -f https://download.pytorch.org/whl/torch_stable.html --user\n",
    "!pip install cupy-cuda110\n",
    "!pip install thinc-gpu-ops\n",
    "!pip install -q wordcloud\n",
    "!pip install pyLDAvis\n",
    "\n",
    "import pandas as pd\n",
    "import numpy as np\n",
    "import spacy\n",
    "from spacy.matcher import Matcher\n",
    "import wordcloud\n",
    "import nltk\n",
    "nltk.download('stopwords')\n",
    "from nltk.corpus import stopwords\n",
    "from itertools import chain\n",
    "from gensim import Phrases, corpora, models\n",
    "import matplotlib\n",
    "import pyLDAvis\n",
    "import pyLDAvis.gensim\n",
    "import sys\n",
    "#Antes de hacer esto necesitamos importar el archivo de funciones que se encuentra en el repositorio.\n",
    "sys.path.append('../')\n",
    "import funciones as fn"
   ]
  },
  {
   "cell_type": "code",
   "execution_count": null,
   "metadata": {
    "colab": {
     "base_uri": "https://localhost:8080/",
     "height": 313
    },
    "id": "Q16EkuGZ3TiT",
    "outputId": "589c4f2b-3f3d-4e93-c091-757dd6f24558"
   },
   "outputs": [
    {
     "data": {
      "text/html": [
       "<div>\n",
       "<style scoped>\n",
       "    .dataframe tbody tr th:only-of-type {\n",
       "        vertical-align: middle;\n",
       "    }\n",
       "\n",
       "    .dataframe tbody tr th {\n",
       "        vertical-align: top;\n",
       "    }\n",
       "\n",
       "    .dataframe thead th {\n",
       "        text-align: right;\n",
       "    }\n",
       "</style>\n",
       "<table border=\"1\" class=\"dataframe\">\n",
       "  <thead>\n",
       "    <tr style=\"text-align: right;\">\n",
       "      <th></th>\n",
       "      <th>ID</th>\n",
       "      <th>Snippet</th>\n",
       "      <th>Victima</th>\n",
       "      <th>Victimario</th>\n",
       "      <th>Xenofobia</th>\n",
       "      <th>Denuncia</th>\n",
       "      <th>Positiva</th>\n",
       "    </tr>\n",
       "  </thead>\n",
       "  <tbody>\n",
       "    <tr>\n",
       "      <th>0</th>\n",
       "      <td>16547</td>\n",
       "      <td>..crítico. El agresor fue capturado e identifi...</td>\n",
       "      <td>NaN</td>\n",
       "      <td>1.0</td>\n",
       "      <td>NaN</td>\n",
       "      <td>NaN</td>\n",
       "      <td>NaN</td>\n",
       "    </tr>\n",
       "    <tr>\n",
       "      <th>1</th>\n",
       "      <td>16548</td>\n",
       "      <td>@EnriquePenalosa Esa sociedad es civilizada. A...</td>\n",
       "      <td>NaN</td>\n",
       "      <td>1.0</td>\n",
       "      <td>1.0</td>\n",
       "      <td>NaN</td>\n",
       "      <td>NaN</td>\n",
       "    </tr>\n",
       "    <tr>\n",
       "      <th>2</th>\n",
       "      <td>16549</td>\n",
       "      <td>Cuánto pseudoprogresista xenófobo y clasista,c...</td>\n",
       "      <td>NaN</td>\n",
       "      <td>NaN</td>\n",
       "      <td>NaN</td>\n",
       "      <td>1.0</td>\n",
       "      <td>1.0</td>\n",
       "    </tr>\n",
       "    <tr>\n",
       "      <th>3</th>\n",
       "      <td>16550</td>\n",
       "      <td>Perdón amigos venecos, pero el diablito no me ...</td>\n",
       "      <td>NaN</td>\n",
       "      <td>NaN</td>\n",
       "      <td>1.0</td>\n",
       "      <td>NaN</td>\n",
       "      <td>NaN</td>\n",
       "    </tr>\n",
       "    <tr>\n",
       "      <th>4</th>\n",
       "      <td>16551</td>\n",
       "      <td>El texto del reconocimiento señala: “Víctor Ba...</td>\n",
       "      <td>NaN</td>\n",
       "      <td>NaN</td>\n",
       "      <td>NaN</td>\n",
       "      <td>NaN</td>\n",
       "      <td>1.0</td>\n",
       "    </tr>\n",
       "    <tr>\n",
       "      <th>5</th>\n",
       "      <td>16552</td>\n",
       "      <td>@WSJForero Y además si el Gobierno le da esa v...</td>\n",
       "      <td>NaN</td>\n",
       "      <td>1.0</td>\n",
       "      <td>1.0</td>\n",
       "      <td>NaN</td>\n",
       "      <td>NaN</td>\n",
       "    </tr>\n",
       "    <tr>\n",
       "      <th>6</th>\n",
       "      <td>16553</td>\n",
       "      <td>asustados, que volvimos a escuchar los sonidos...</td>\n",
       "      <td>NaN</td>\n",
       "      <td>NaN</td>\n",
       "      <td>NaN</td>\n",
       "      <td>NaN</td>\n",
       "      <td>NaN</td>\n",
       "    </tr>\n",
       "    <tr>\n",
       "      <th>7</th>\n",
       "      <td>16554</td>\n",
       "      <td>#Colombia | El presidente @IvanDuque presentó ...</td>\n",
       "      <td>NaN</td>\n",
       "      <td>NaN</td>\n",
       "      <td>NaN</td>\n",
       "      <td>NaN</td>\n",
       "      <td>NaN</td>\n",
       "    </tr>\n",
       "  </tbody>\n",
       "</table>\n",
       "</div>"
      ],
      "text/plain": [
       "      ID                                            Snippet  ...  Denuncia  Positiva\n",
       "0  16547  ..crítico. El agresor fue capturado e identifi...  ...       NaN       NaN\n",
       "1  16548  @EnriquePenalosa Esa sociedad es civilizada. A...  ...       NaN       NaN\n",
       "2  16549  Cuánto pseudoprogresista xenófobo y clasista,c...  ...       1.0       1.0\n",
       "3  16550  Perdón amigos venecos, pero el diablito no me ...  ...       NaN       NaN\n",
       "4  16551  El texto del reconocimiento señala: “Víctor Ba...  ...       NaN       1.0\n",
       "5  16552  @WSJForero Y además si el Gobierno le da esa v...  ...       NaN       NaN\n",
       "6  16553  asustados, que volvimos a escuchar los sonidos...  ...       NaN       NaN\n",
       "7  16554  #Colombia | El presidente @IvanDuque presentó ...  ...       NaN       NaN\n",
       "\n",
       "[8 rows x 7 columns]"
      ]
     },
     "execution_count": 151,
     "metadata": {
      "tags": []
     },
     "output_type": "execute_result"
    }
   ],
   "source": [
    "path='/content/drive/MyDrive/Colab Notebooks/Copia de estudiante_2.xlsx'\n",
    "df=pd.read_excel(path)\n",
    "\n",
    "df.head(8)"
   ]
  },
  {
   "cell_type": "code",
   "execution_count": null,
   "metadata": {
    "colab": {
     "base_uri": "https://localhost:8080/",
     "height": 221
    },
    "id": "oWivBKX73djp",
    "outputId": "d87f0eff-a7fd-41b9-f989-86d3f7fe0b28"
   },
   "outputs": [
    {
     "data": {
      "text/html": [
       "<div>\n",
       "<style scoped>\n",
       "    .dataframe tbody tr th:only-of-type {\n",
       "        vertical-align: middle;\n",
       "    }\n",
       "\n",
       "    .dataframe tbody tr th {\n",
       "        vertical-align: top;\n",
       "    }\n",
       "\n",
       "    .dataframe thead th {\n",
       "        text-align: right;\n",
       "    }\n",
       "</style>\n",
       "<table border=\"1\" class=\"dataframe\">\n",
       "  <thead>\n",
       "    <tr style=\"text-align: right;\">\n",
       "      <th></th>\n",
       "      <th>index</th>\n",
       "      <th>ID</th>\n",
       "      <th>Snippet</th>\n",
       "      <th>Victima</th>\n",
       "      <th>Victimario</th>\n",
       "      <th>Xenofobia</th>\n",
       "      <th>Denuncia</th>\n",
       "      <th>Positiva</th>\n",
       "      <th>Clean_Text</th>\n",
       "    </tr>\n",
       "  </thead>\n",
       "  <tbody>\n",
       "    <tr>\n",
       "      <th>0</th>\n",
       "      <td>0</td>\n",
       "      <td>16547</td>\n",
       "      <td>..crítico. El agresor fue capturado e identifi...</td>\n",
       "      <td>NaN</td>\n",
       "      <td>1.0</td>\n",
       "      <td>NaN</td>\n",
       "      <td>NaN</td>\n",
       "      <td>NaN</td>\n",
       "      <td>crítico. El agresor fue capturado e identifica...</td>\n",
       "    </tr>\n",
       "    <tr>\n",
       "      <th>1</th>\n",
       "      <td>1</td>\n",
       "      <td>16548</td>\n",
       "      <td>@EnriquePenalosa Esa sociedad es civilizada. A...</td>\n",
       "      <td>NaN</td>\n",
       "      <td>1.0</td>\n",
       "      <td>1.0</td>\n",
       "      <td>NaN</td>\n",
       "      <td>NaN</td>\n",
       "      <td>@EnriquePenalosa Esa sociedad es civilizada. A...</td>\n",
       "    </tr>\n",
       "    <tr>\n",
       "      <th>2</th>\n",
       "      <td>2</td>\n",
       "      <td>16549</td>\n",
       "      <td>Cuánto pseudoprogresista xenófobo y clasista,c...</td>\n",
       "      <td>NaN</td>\n",
       "      <td>NaN</td>\n",
       "      <td>NaN</td>\n",
       "      <td>1.0</td>\n",
       "      <td>1.0</td>\n",
       "      <td>Cuánto pseudoprogresista xenófobo y clasista,c...</td>\n",
       "    </tr>\n",
       "    <tr>\n",
       "      <th>3</th>\n",
       "      <td>3</td>\n",
       "      <td>16550</td>\n",
       "      <td>Perdón amigos venecos, pero el diablito no me ...</td>\n",
       "      <td>NaN</td>\n",
       "      <td>NaN</td>\n",
       "      <td>1.0</td>\n",
       "      <td>NaN</td>\n",
       "      <td>NaN</td>\n",
       "      <td>Perdón amigos venecos, pero el diablito no me ...</td>\n",
       "    </tr>\n",
       "    <tr>\n",
       "      <th>4</th>\n",
       "      <td>4</td>\n",
       "      <td>16551</td>\n",
       "      <td>El texto del reconocimiento señala: “Víctor Ba...</td>\n",
       "      <td>NaN</td>\n",
       "      <td>NaN</td>\n",
       "      <td>NaN</td>\n",
       "      <td>NaN</td>\n",
       "      <td>1.0</td>\n",
       "      <td>El texto del reconocimiento señala: “Víctor Ba...</td>\n",
       "    </tr>\n",
       "  </tbody>\n",
       "</table>\n",
       "</div>"
      ],
      "text/plain": [
       "   index     ID  ... Positiva                                         Clean_Text\n",
       "0      0  16547  ...      NaN  crítico. El agresor fue capturado e identifica...\n",
       "1      1  16548  ...      NaN  @EnriquePenalosa Esa sociedad es civilizada. A...\n",
       "2      2  16549  ...      1.0  Cuánto pseudoprogresista xenófobo y clasista,c...\n",
       "3      3  16550  ...      NaN  Perdón amigos venecos, pero el diablito no me ...\n",
       "4      4  16551  ...      1.0  El texto del reconocimiento señala: “Víctor Ba...\n",
       "\n",
       "[5 rows x 9 columns]"
      ]
     },
     "execution_count": 152,
     "metadata": {
      "tags": []
     },
     "output_type": "execute_result"
    }
   ],
   "source": [
    "#Eliminamos los URL: Todo lo que empieza por  HTTP\n",
    "df['Clean_Text']=df['Snippet'].replace(r\"http\\S+\", '', regex=True)\n",
    "#Eliminamos todos los hashtags\n",
    "df['Clean_Text']=df['Clean_Text'].replace('#\\\\w+', '', regex=True)\n",
    "#Eliminamos los signos de puntuación repetidos dentro de los tweets\n",
    "df['Clean_Text']=df['Clean_Text'].replace(r'([^0-9a-zA-Z])\\1+', r'\\1', regex=True)\n",
    "#Eliminamos los signos de puntuación al inicio de un tweet\n",
    "df['Clean_Text']=df['Clean_Text'].replace(r'^[^0-9a-zA-Z@#]+', '', regex=True)\n",
    "#Eliminamos los dobles espacios\n",
    "df['Clean_Text']=df['Clean_Text'].replace(r'()\\1+', r'\\1\\1', regex=True)\n",
    "df=df.reset_index()\n",
    "df.head()"
   ]
  },
  {
   "cell_type": "code",
   "execution_count": null,
   "metadata": {
    "colab": {
     "base_uri": "https://localhost:8080/"
    },
    "id": "hPYQTsghHUdt",
    "outputId": "dcbfa13e-8449-410b-a46c-bf70840f0b97"
   },
   "outputs": [
    {
     "name": "stdout",
     "output_type": "stream",
     "text": [
      "['tok2vec', 'morphologizer', 'parser', 'attribute_ruler', 'lemmatizer']\n"
     ]
    }
   ],
   "source": [
    "# Le decimos a spaCy que vamos con toda\n",
    "spacy.prefer_gpu\n",
    "# Corremos los datos en el core de español\n",
    "nlp = spacy.load(\"es_core_news_sm\", exclude=[\"ner\"])\n",
    "#Vemos cuales son los componentes del pipeline\n",
    "print(nlp.pipe_names)"
   ]
  },
  {
   "cell_type": "code",
   "execution_count": null,
   "metadata": {
    "colab": {
     "base_uri": "https://localhost:8080/"
    },
    "id": "ANEOCcucHT-C",
    "outputId": "4510c026-545b-460c-a4f6-757bb484ee1c"
   },
   "outputs": [
    {
     "name": "stdout",
     "output_type": "stream",
     "text": [
      "CPU times: user 4 µs, sys: 0 ns, total: 4 µs\n",
      "Wall time: 7.87 µs\n"
     ]
    }
   ],
   "source": [
    "%time\n",
    "#Aplicamos el pipe a cada objeto de nuestra lista de tweets\n",
    "docs = list(nlp.pipe(df.Clean_Text.to_list()))"
   ]
  },
  {
   "cell_type": "code",
   "execution_count": null,
   "metadata": {
    "colab": {
     "base_uri": "https://localhost:8080/",
     "height": 254
    },
    "id": "rMGYlp1AMMHe",
    "outputId": "748abcbf-1371-4256-9767-20a464f1b202"
   },
   "outputs": [
    {
     "name": "stderr",
     "output_type": "stream",
     "text": [
      "/usr/local/lib/python3.7/dist-packages/ipykernel_launcher.py:6: VisibleDeprecationWarning: Creating an ndarray from ragged nested sequences (which is a list-or-tuple of lists-or-tuples-or ndarrays with different lengths or shapes) is deprecated. If you meant to do this, you must specify 'dtype=object' when creating the ndarray\n",
      "  \n"
     ]
    },
    {
     "data": {
      "text/html": [
       "<div>\n",
       "<style scoped>\n",
       "    .dataframe tbody tr th:only-of-type {\n",
       "        vertical-align: middle;\n",
       "    }\n",
       "\n",
       "    .dataframe tbody tr th {\n",
       "        vertical-align: top;\n",
       "    }\n",
       "\n",
       "    .dataframe thead th {\n",
       "        text-align: right;\n",
       "    }\n",
       "</style>\n",
       "<table border=\"1\" class=\"dataframe\">\n",
       "  <thead>\n",
       "    <tr style=\"text-align: right;\">\n",
       "      <th></th>\n",
       "      <th>index</th>\n",
       "      <th>tokens</th>\n",
       "    </tr>\n",
       "  </thead>\n",
       "  <tbody>\n",
       "    <tr>\n",
       "      <th>0</th>\n",
       "      <td>0</td>\n",
       "      <td>[crítico, ., El, agresor, fue, capturado, e, i...</td>\n",
       "    </tr>\n",
       "    <tr>\n",
       "      <th>1</th>\n",
       "      <td>1</td>\n",
       "      <td>[@EnriquePenalosa, Esa, sociedad, es, civiliza...</td>\n",
       "    </tr>\n",
       "    <tr>\n",
       "      <th>2</th>\n",
       "      <td>2</td>\n",
       "      <td>[Cuánto, pseudoprogresista, xenófobo, y, clasi...</td>\n",
       "    </tr>\n",
       "    <tr>\n",
       "      <th>3</th>\n",
       "      <td>3</td>\n",
       "      <td>[Perdón, amigos, venecos, ,, pero, el, diablit...</td>\n",
       "    </tr>\n",
       "    <tr>\n",
       "      <th>4</th>\n",
       "      <td>4</td>\n",
       "      <td>[El, texto, del, reconocimiento, señala, :, “,...</td>\n",
       "    </tr>\n",
       "  </tbody>\n",
       "</table>\n",
       "</div>"
      ],
      "text/plain": [
       "   index                                             tokens\n",
       "0      0  [crítico, ., El, agresor, fue, capturado, e, i...\n",
       "1      1  [@EnriquePenalosa, Esa, sociedad, es, civiliza...\n",
       "2      2  [Cuánto, pseudoprogresista, xenófobo, y, clasi...\n",
       "3      3  [Perdón, amigos, venecos, ,, pero, el, diablit...\n",
       "4      4  [El, texto, del, reconocimiento, señala, :, “,..."
      ]
     },
     "execution_count": 143,
     "metadata": {
      "tags": []
     },
     "output_type": "execute_result"
    }
   ],
   "source": [
    "#TOKENIZATION\n",
    "tokens=[]\n",
    "for doc in docs:\n",
    "    tokens.append([(token.text) for token in doc])\n",
    "\n",
    "tokens=np.array(tokens)\n",
    "tokens=pd.DataFrame(tokens).reset_index()\n",
    "tokens.columns=['index', 'tokens']\n",
    "tokens.head()"
   ]
  },
  {
   "cell_type": "code",
   "execution_count": null,
   "metadata": {
    "colab": {
     "base_uri": "https://localhost:8080/",
     "height": 254
    },
    "id": "JtKxP8s_PnRL",
    "outputId": "b95a8a50-fe56-481d-8a37-7d6d0019747e"
   },
   "outputs": [
    {
     "name": "stderr",
     "output_type": "stream",
     "text": [
      "/usr/local/lib/python3.7/dist-packages/ipykernel_launcher.py:6: VisibleDeprecationWarning: Creating an ndarray from ragged nested sequences (which is a list-or-tuple of lists-or-tuples-or ndarrays with different lengths or shapes) is deprecated. If you meant to do this, you must specify 'dtype=object' when creating the ndarray\n",
      "  \n"
     ]
    },
    {
     "data": {
      "text/html": [
       "<div>\n",
       "<style scoped>\n",
       "    .dataframe tbody tr th:only-of-type {\n",
       "        vertical-align: middle;\n",
       "    }\n",
       "\n",
       "    .dataframe tbody tr th {\n",
       "        vertical-align: top;\n",
       "    }\n",
       "\n",
       "    .dataframe thead th {\n",
       "        text-align: right;\n",
       "    }\n",
       "</style>\n",
       "<table border=\"1\" class=\"dataframe\">\n",
       "  <thead>\n",
       "    <tr style=\"text-align: right;\">\n",
       "      <th></th>\n",
       "      <th>index</th>\n",
       "      <th>pos</th>\n",
       "    </tr>\n",
       "  </thead>\n",
       "  <tbody>\n",
       "    <tr>\n",
       "      <th>0</th>\n",
       "      <td>0</td>\n",
       "      <td>[(crítico, ADJ), (., PUNCT), (El, DET), (agres...</td>\n",
       "    </tr>\n",
       "    <tr>\n",
       "      <th>1</th>\n",
       "      <td>1</td>\n",
       "      <td>[(@EnriquePenalosa, ADJ), (Esa, DET), (socieda...</td>\n",
       "    </tr>\n",
       "    <tr>\n",
       "      <th>2</th>\n",
       "      <td>2</td>\n",
       "      <td>[(Cuánto, PROPN), (pseudoprogresista, VERB), (...</td>\n",
       "    </tr>\n",
       "    <tr>\n",
       "      <th>3</th>\n",
       "      <td>3</td>\n",
       "      <td>[(Perdón, PROPN), (amigos, NOUN), (venecos, AD...</td>\n",
       "    </tr>\n",
       "    <tr>\n",
       "      <th>4</th>\n",
       "      <td>4</td>\n",
       "      <td>[(El, DET), (texto, NOUN), (del, ADP), (recono...</td>\n",
       "    </tr>\n",
       "  </tbody>\n",
       "</table>\n",
       "</div>"
      ],
      "text/plain": [
       "   index                                                pos\n",
       "0      0  [(crítico, ADJ), (., PUNCT), (El, DET), (agres...\n",
       "1      1  [(@EnriquePenalosa, ADJ), (Esa, DET), (socieda...\n",
       "2      2  [(Cuánto, PROPN), (pseudoprogresista, VERB), (...\n",
       "3      3  [(Perdón, PROPN), (amigos, NOUN), (venecos, AD...\n",
       "4      4  [(El, DET), (texto, NOUN), (del, ADP), (recono..."
      ]
     },
     "execution_count": 144,
     "metadata": {
      "tags": []
     },
     "output_type": "execute_result"
    }
   ],
   "source": [
    "#POS\n",
    "pos=[]\n",
    "for doc in docs:\n",
    "    pos.append([(token.text, token.pos_) for token in doc])\n",
    "\n",
    "pos=np.array(pos)\n",
    "pos=pd.DataFrame(pos).reset_index()\n",
    "pos.columns=['index', 'pos']\n",
    "pos.head()"
   ]
  },
  {
   "cell_type": "code",
   "execution_count": null,
   "metadata": {
    "colab": {
     "base_uri": "https://localhost:8080/",
     "height": 254
    },
    "id": "Jl6EZRmIX1r0",
    "outputId": "93a5eed6-36f0-48f6-e9fd-a99d142384e7"
   },
   "outputs": [
    {
     "name": "stderr",
     "output_type": "stream",
     "text": [
      "/usr/local/lib/python3.7/dist-packages/ipykernel_launcher.py:6: VisibleDeprecationWarning: Creating an ndarray from ragged nested sequences (which is a list-or-tuple of lists-or-tuples-or ndarrays with different lengths or shapes) is deprecated. If you meant to do this, you must specify 'dtype=object' when creating the ndarray\n",
      "  \n"
     ]
    },
    {
     "data": {
      "text/html": [
       "<div>\n",
       "<style scoped>\n",
       "    .dataframe tbody tr th:only-of-type {\n",
       "        vertical-align: middle;\n",
       "    }\n",
       "\n",
       "    .dataframe tbody tr th {\n",
       "        vertical-align: top;\n",
       "    }\n",
       "\n",
       "    .dataframe thead th {\n",
       "        text-align: right;\n",
       "    }\n",
       "</style>\n",
       "<table border=\"1\" class=\"dataframe\">\n",
       "  <thead>\n",
       "    <tr style=\"text-align: right;\">\n",
       "      <th></th>\n",
       "      <th>index</th>\n",
       "      <th>lemmatized</th>\n",
       "    </tr>\n",
       "  </thead>\n",
       "  <tbody>\n",
       "    <tr>\n",
       "      <th>0</th>\n",
       "      <td>0</td>\n",
       "      <td>[crítico, ., el, agresor, ser, capturar, e, id...</td>\n",
       "    </tr>\n",
       "    <tr>\n",
       "      <th>1</th>\n",
       "      <td>1</td>\n",
       "      <td>[@enriquepenalós, ese, sociedad, ser, civiliza...</td>\n",
       "    </tr>\n",
       "    <tr>\n",
       "      <th>2</th>\n",
       "      <td>2</td>\n",
       "      <td>[Cuánto, pseudoprogresistar, xenófobo, y, clas...</td>\n",
       "    </tr>\n",
       "    <tr>\n",
       "      <th>3</th>\n",
       "      <td>3</td>\n",
       "      <td>[Perdón, amigo, veneco, ,, pero, el, diablito,...</td>\n",
       "    </tr>\n",
       "    <tr>\n",
       "      <th>4</th>\n",
       "      <td>4</td>\n",
       "      <td>[el, texto, del, reconocimiento, señalar, :, “...</td>\n",
       "    </tr>\n",
       "  </tbody>\n",
       "</table>\n",
       "</div>"
      ],
      "text/plain": [
       "   index                                         lemmatized\n",
       "0      0  [crítico, ., el, agresor, ser, capturar, e, id...\n",
       "1      1  [@enriquepenalós, ese, sociedad, ser, civiliza...\n",
       "2      2  [Cuánto, pseudoprogresistar, xenófobo, y, clas...\n",
       "3      3  [Perdón, amigo, veneco, ,, pero, el, diablito,...\n",
       "4      4  [el, texto, del, reconocimiento, señalar, :, “..."
      ]
     },
     "execution_count": 148,
     "metadata": {
      "tags": []
     },
     "output_type": "execute_result"
    }
   ],
   "source": [
    "#LEMATIZER\n",
    "lemma=[]\n",
    "for doc in docs:\n",
    "    lemma.append([(token.lemma_) for token in doc])\n",
    "\n",
    "lemma=np.array(lemma)\n",
    "lemma=pd.DataFrame(lemma).reset_index()\n",
    "lemma.columns=['index', 'lemmatized']\n",
    "lemma.head()"
   ]
  },
  {
   "cell_type": "code",
   "execution_count": null,
   "metadata": {
    "colab": {
     "base_uri": "https://localhost:8080/",
     "height": 337
    },
    "id": "oRQbtq-BZ-ME",
    "outputId": "6179fd69-0750-4702-f466-75272012eb91"
   },
   "outputs": [
    {
     "data": {
      "text/html": [
       "<div>\n",
       "<style scoped>\n",
       "    .dataframe tbody tr th:only-of-type {\n",
       "        vertical-align: middle;\n",
       "    }\n",
       "\n",
       "    .dataframe tbody tr th {\n",
       "        vertical-align: top;\n",
       "    }\n",
       "\n",
       "    .dataframe thead th {\n",
       "        text-align: right;\n",
       "    }\n",
       "</style>\n",
       "<table border=\"1\" class=\"dataframe\">\n",
       "  <thead>\n",
       "    <tr style=\"text-align: right;\">\n",
       "      <th></th>\n",
       "      <th>index</th>\n",
       "      <th>ID</th>\n",
       "      <th>Snippet</th>\n",
       "      <th>Victima</th>\n",
       "      <th>Victimario</th>\n",
       "      <th>Xenofobia</th>\n",
       "      <th>Denuncia</th>\n",
       "      <th>Positiva</th>\n",
       "      <th>Clean_Text</th>\n",
       "      <th>tokens</th>\n",
       "      <th>pos</th>\n",
       "      <th>lemmatized</th>\n",
       "    </tr>\n",
       "  </thead>\n",
       "  <tbody>\n",
       "    <tr>\n",
       "      <th>0</th>\n",
       "      <td>0</td>\n",
       "      <td>16547</td>\n",
       "      <td>..crítico. El agresor fue capturado e identifi...</td>\n",
       "      <td>NaN</td>\n",
       "      <td>1.0</td>\n",
       "      <td>NaN</td>\n",
       "      <td>NaN</td>\n",
       "      <td>NaN</td>\n",
       "      <td>crítico. El agresor fue capturado e identifica...</td>\n",
       "      <td>[crítico, ., El, agresor, fue, capturado, e, i...</td>\n",
       "      <td>[(crítico, ADJ), (., PUNCT), (El, DET), (agres...</td>\n",
       "      <td>[crítico, ., el, agresor, ser, capturar, e, id...</td>\n",
       "    </tr>\n",
       "    <tr>\n",
       "      <th>1</th>\n",
       "      <td>1</td>\n",
       "      <td>16548</td>\n",
       "      <td>@EnriquePenalosa Esa sociedad es civilizada. A...</td>\n",
       "      <td>NaN</td>\n",
       "      <td>1.0</td>\n",
       "      <td>1.0</td>\n",
       "      <td>NaN</td>\n",
       "      <td>NaN</td>\n",
       "      <td>@EnriquePenalosa Esa sociedad es civilizada. A...</td>\n",
       "      <td>[@EnriquePenalosa, Esa, sociedad, es, civiliza...</td>\n",
       "      <td>[(@EnriquePenalosa, ADJ), (Esa, DET), (socieda...</td>\n",
       "      <td>[@enriquepenalós, ese, sociedad, ser, civiliza...</td>\n",
       "    </tr>\n",
       "    <tr>\n",
       "      <th>2</th>\n",
       "      <td>2</td>\n",
       "      <td>16549</td>\n",
       "      <td>Cuánto pseudoprogresista xenófobo y clasista,c...</td>\n",
       "      <td>NaN</td>\n",
       "      <td>NaN</td>\n",
       "      <td>NaN</td>\n",
       "      <td>1.0</td>\n",
       "      <td>1.0</td>\n",
       "      <td>Cuánto pseudoprogresista xenófobo y clasista,c...</td>\n",
       "      <td>[Cuánto, pseudoprogresista, xenófobo, y, clasi...</td>\n",
       "      <td>[(Cuánto, PROPN), (pseudoprogresista, VERB), (...</td>\n",
       "      <td>[Cuánto, pseudoprogresistar, xenófobo, y, clas...</td>\n",
       "    </tr>\n",
       "    <tr>\n",
       "      <th>3</th>\n",
       "      <td>3</td>\n",
       "      <td>16550</td>\n",
       "      <td>Perdón amigos venecos, pero el diablito no me ...</td>\n",
       "      <td>NaN</td>\n",
       "      <td>NaN</td>\n",
       "      <td>1.0</td>\n",
       "      <td>NaN</td>\n",
       "      <td>NaN</td>\n",
       "      <td>Perdón amigos venecos, pero el diablito no me ...</td>\n",
       "      <td>[Perdón, amigos, venecos, ,, pero, el, diablit...</td>\n",
       "      <td>[(Perdón, PROPN), (amigos, NOUN), (venecos, AD...</td>\n",
       "      <td>[Perdón, amigo, veneco, ,, pero, el, diablito,...</td>\n",
       "    </tr>\n",
       "    <tr>\n",
       "      <th>4</th>\n",
       "      <td>4</td>\n",
       "      <td>16551</td>\n",
       "      <td>El texto del reconocimiento señala: “Víctor Ba...</td>\n",
       "      <td>NaN</td>\n",
       "      <td>NaN</td>\n",
       "      <td>NaN</td>\n",
       "      <td>NaN</td>\n",
       "      <td>1.0</td>\n",
       "      <td>El texto del reconocimiento señala: “Víctor Ba...</td>\n",
       "      <td>[El, texto, del, reconocimiento, señala, :, “,...</td>\n",
       "      <td>[(El, DET), (texto, NOUN), (del, ADP), (recono...</td>\n",
       "      <td>[el, texto, del, reconocimiento, señalar, :, “...</td>\n",
       "    </tr>\n",
       "  </tbody>\n",
       "</table>\n",
       "</div>"
      ],
      "text/plain": [
       "   index  ...                                         lemmatized\n",
       "0      0  ...  [crítico, ., el, agresor, ser, capturar, e, id...\n",
       "1      1  ...  [@enriquepenalós, ese, sociedad, ser, civiliza...\n",
       "2      2  ...  [Cuánto, pseudoprogresistar, xenófobo, y, clas...\n",
       "3      3  ...  [Perdón, amigo, veneco, ,, pero, el, diablito,...\n",
       "4      4  ...  [el, texto, del, reconocimiento, señalar, :, “...\n",
       "\n",
       "[5 rows x 12 columns]"
      ]
     },
     "execution_count": 153,
     "metadata": {
      "tags": []
     },
     "output_type": "execute_result"
    }
   ],
   "source": [
    "#MERGE LISTS INTO DF\n",
    "df=pd.merge(df, tokens, how='inner', on='index')\n",
    "df=pd.merge(df, pos, how='inner', on='index')\n",
    "df=pd.merge(df, lemma, how='inner', on='index')\n",
    "df=df.drop(['index'], axis=1)\n",
    "df.head()"
   ]
  },
  {
   "cell_type": "code",
   "execution_count": null,
   "metadata": {
    "colab": {
     "base_uri": "https://localhost:8080/",
     "height": 386
    },
    "id": "k_K18M0i1XwK",
    "outputId": "8f9526cd-20e2-41b1-c3db-89657e0fb06a"
   },
   "outputs": [
    {
     "data": {
      "text/html": [
       "<div>\n",
       "<style scoped>\n",
       "    .dataframe tbody tr th:only-of-type {\n",
       "        vertical-align: middle;\n",
       "    }\n",
       "\n",
       "    .dataframe tbody tr th {\n",
       "        vertical-align: top;\n",
       "    }\n",
       "\n",
       "    .dataframe thead th {\n",
       "        text-align: right;\n",
       "    }\n",
       "</style>\n",
       "<table border=\"1\" class=\"dataframe\">\n",
       "  <thead>\n",
       "    <tr style=\"text-align: right;\">\n",
       "      <th></th>\n",
       "      <th>index</th>\n",
       "      <th>ID</th>\n",
       "      <th>Snippet</th>\n",
       "      <th>Victima</th>\n",
       "      <th>Victimario</th>\n",
       "      <th>Xenofobia</th>\n",
       "      <th>Denuncia</th>\n",
       "      <th>Positiva</th>\n",
       "      <th>Clean_Text</th>\n",
       "      <th>tokens</th>\n",
       "      <th>pos</th>\n",
       "      <th>lemmatized</th>\n",
       "      <th>words</th>\n",
       "    </tr>\n",
       "  </thead>\n",
       "  <tbody>\n",
       "    <tr>\n",
       "      <th>0</th>\n",
       "      <td>0</td>\n",
       "      <td>16547</td>\n",
       "      <td>..crítico. El agresor fue capturado e identifi...</td>\n",
       "      <td>NaN</td>\n",
       "      <td>1.0</td>\n",
       "      <td>NaN</td>\n",
       "      <td>NaN</td>\n",
       "      <td>NaN</td>\n",
       "      <td>crítico. El agresor fue capturado e identifica...</td>\n",
       "      <td>[crítico, ., El, agresor, fue, capturado, e, i...</td>\n",
       "      <td>[(crítico, ADJ), (., PUNCT), (El, DET), (agres...</td>\n",
       "      <td>[crítico, ., el, agresor, ser, capturar, e, id...</td>\n",
       "      <td>[crítico, agresor, capturar, identificado, fél...</td>\n",
       "    </tr>\n",
       "    <tr>\n",
       "      <th>1</th>\n",
       "      <td>1</td>\n",
       "      <td>16548</td>\n",
       "      <td>@EnriquePenalosa Esa sociedad es civilizada. A...</td>\n",
       "      <td>NaN</td>\n",
       "      <td>1.0</td>\n",
       "      <td>1.0</td>\n",
       "      <td>NaN</td>\n",
       "      <td>NaN</td>\n",
       "      <td>@EnriquePenalosa Esa sociedad es civilizada. A...</td>\n",
       "      <td>[@EnriquePenalosa, Esa, sociedad, es, civiliza...</td>\n",
       "      <td>[(@EnriquePenalosa, ADJ), (Esa, DET), (socieda...</td>\n",
       "      <td>[@enriquepenalós, ese, sociedad, ser, civiliza...</td>\n",
       "      <td>[sociedad, civilizar, aquí, haber, poder, metr...</td>\n",
       "    </tr>\n",
       "    <tr>\n",
       "      <th>2</th>\n",
       "      <td>2</td>\n",
       "      <td>16549</td>\n",
       "      <td>Cuánto pseudoprogresista xenófobo y clasista,c...</td>\n",
       "      <td>NaN</td>\n",
       "      <td>NaN</td>\n",
       "      <td>NaN</td>\n",
       "      <td>1.0</td>\n",
       "      <td>1.0</td>\n",
       "      <td>Cuánto pseudoprogresista xenófobo y clasista,c...</td>\n",
       "      <td>[Cuánto, pseudoprogresista, xenófobo, y, clasi...</td>\n",
       "      <td>[(Cuánto, PROPN), (pseudoprogresista, VERB), (...</td>\n",
       "      <td>[Cuánto, pseudoprogresistar, xenófobo, y, clas...</td>\n",
       "      <td>[cuánto, pseudoprogresistar, xenófobo, clasist...</td>\n",
       "    </tr>\n",
       "    <tr>\n",
       "      <th>3</th>\n",
       "      <td>3</td>\n",
       "      <td>16550</td>\n",
       "      <td>Perdón amigos venecos, pero el diablito no me ...</td>\n",
       "      <td>NaN</td>\n",
       "      <td>NaN</td>\n",
       "      <td>1.0</td>\n",
       "      <td>NaN</td>\n",
       "      <td>NaN</td>\n",
       "      <td>Perdón amigos venecos, pero el diablito no me ...</td>\n",
       "      <td>[Perdón, amigos, venecos, ,, pero, el, diablit...</td>\n",
       "      <td>[(Perdón, PROPN), (amigos, NOUN), (venecos, AD...</td>\n",
       "      <td>[Perdón, amigo, veneco, ,, pero, el, diablito,...</td>\n",
       "      <td>[perdón, amigo, veneco, diablito, gustar, xdxd]</td>\n",
       "    </tr>\n",
       "    <tr>\n",
       "      <th>4</th>\n",
       "      <td>4</td>\n",
       "      <td>16551</td>\n",
       "      <td>El texto del reconocimiento señala: “Víctor Ba...</td>\n",
       "      <td>NaN</td>\n",
       "      <td>NaN</td>\n",
       "      <td>NaN</td>\n",
       "      <td>NaN</td>\n",
       "      <td>1.0</td>\n",
       "      <td>El texto del reconocimiento señala: “Víctor Ba...</td>\n",
       "      <td>[El, texto, del, reconocimiento, señala, :, “,...</td>\n",
       "      <td>[(El, DET), (texto, NOUN), (del, ADP), (recono...</td>\n",
       "      <td>[el, texto, del, reconocimiento, señalar, :, “...</td>\n",
       "      <td>[texto, reconocimiento, señalar, víctor, bauti...</td>\n",
       "    </tr>\n",
       "  </tbody>\n",
       "</table>\n",
       "</div>"
      ],
      "text/plain": [
       "   index  ...                                              words\n",
       "0      0  ...  [crítico, agresor, capturar, identificado, fél...\n",
       "1      1  ...  [sociedad, civilizar, aquí, haber, poder, metr...\n",
       "2      2  ...  [cuánto, pseudoprogresistar, xenófobo, clasist...\n",
       "3      3  ...    [perdón, amigo, veneco, diablito, gustar, xdxd]\n",
       "4      4  ...  [texto, reconocimiento, señalar, víctor, bauti...\n",
       "\n",
       "[5 rows x 13 columns]"
      ]
     },
     "execution_count": 194,
     "metadata": {
      "tags": []
     },
     "output_type": "execute_result"
    }
   ],
   "source": [
    "#REMOVE STOPWORDS\n",
    "spanish_stopwords=stopwords.words('spanish')+['ser']\n",
    "df['words']=df['lemmatized'].map(lambda tokens: [token.lower() for token in tokens if token.isalpha() and token.lower() not in spanish_stopwords and len(token)>1])\n",
    "df.head()"
   ]
  },
  {
   "cell_type": "code",
   "execution_count": null,
   "metadata": {
    "colab": {
     "base_uri": "https://localhost:8080/"
    },
    "id": "Gk-ej9wY24Ss",
    "outputId": "b63bde9b-d713-477a-ffc1-7c530de69ad7"
   },
   "outputs": [
    {
     "name": "stderr",
     "output_type": "stream",
     "text": [
      "/usr/local/lib/python3.7/dist-packages/gensim/models/phrases.py:598: UserWarning: For a faster implementation, use the gensim.models.phrases.Phraser class\n",
      "  warnings.warn(\"For a faster implementation, use the gensim.models.phrases.Phraser class\")\n"
     ]
    }
   ],
   "source": [
    "#LDA\n",
    "tokens = df['words'].tolist()\n",
    "bigram_model = Phrases(tokens)\n",
    "trigram_model = Phrases(bigram_model[tokens], min_count=1)\n",
    "tokens = list(trigram_model[bigram_model[tokens]])"
   ]
  },
  {
   "cell_type": "code",
   "execution_count": null,
   "metadata": {
    "id": "oPOq0Orq4h_p"
   },
   "outputs": [],
   "source": [
    "dictionary_LDA = corpora.Dictionary(tokens)\n",
    "dictionary_LDA.filter_extremes(no_below=3)\n",
    "corpus = [dictionary_LDA.doc2bow(tok) for tok in tokens]"
   ]
  },
  {
   "cell_type": "code",
   "execution_count": null,
   "metadata": {
    "id": "4ycKWFKW4xBO"
   },
   "outputs": [],
   "source": [
    "np.random.seed(123456)\n",
    "num_topics = 5\n",
    "%time lda_model = models.LdaModel(corpus, num_topics=num_topics, \\\n",
    "                                  id2word=dictionary_LDA, \\\n",
    "                                  passes=4, update_every=0, \\\n",
    "                                  alpha=[0.01]*num_topics, \\\n",
    "                                  eta=[0.01]*len(dictionary_LDA.keys()))"
   ]
  },
  {
   "cell_type": "code",
   "execution_count": null,
   "metadata": {
    "colab": {
     "base_uri": "https://localhost:8080/"
    },
    "id": "8n5qCsCa5OrN",
    "outputId": "f247b781-fc99-4c61-c438-b574fa3cf2fc"
   },
   "outputs": [
    {
     "name": "stdout",
     "output_type": "stream",
     "text": [
      "0: 0.026*\"haber\" + 0.008*\"hacer\" + 0.008*\"año\" + 0.008*\"venezolana\" + 0.007*\"tener\" + 0.007*\"ir\" + 0.007*\"colombia\" + 0.006*\"deber\" + 0.006*\"si\" + 0.006*\"decir\" + 0.005*\"poder\" + 0.005*\"migrant\" + 0.004*\"venezuela\" + 0.004*\"hoy\" + 0.004*\"nacionalidad\" + 0.004*\"mujer\" + 0.004*\"país\" + 0.003*\"colombiano\" + 0.003*\"saber\" + 0.003*\"así\"\n",
      "\n",
      "1: 0.018*\"colombia\" + 0.015*\"hacer\" + 0.013*\"país\" + 0.012*\"haber\" + 0.011*\"migrant\" + 0.009*\"tener\" + 0.008*\"venezuela\" + 0.007*\"venezolanos\" + 0.007*\"veneco\" + 0.006*\"colombiano\" + 0.006*\"llegar\" + 0.006*\"si\" + 0.005*\"mismo\" + 0.005*\"poder\" + 0.005*\"persona\" + 0.004*\"ir\" + 0.004*\"venezolana\" + 0.004*\"decir\" + 0.003*\"dar\" + 0.003*\"seguir\"\n",
      "\n",
      "2: 0.019*\"haber\" + 0.019*\"tener\" + 0.010*\"país\" + 0.008*\"colombia\" + 0.008*\"ver\" + 0.008*\"poder\" + 0.006*\"si\" + 0.005*\"año\" + 0.004*\"persona\" + 0.004*\"hacer\" + 0.004*\"venezolana\" + 0.004*\"venezuela\" + 0.004*\"pueblo\" + 0.004*\"mujer\" + 0.003*\"llegar\" + 0.003*\"solo\" + 0.003*\"joven\" + 0.003*\"millón\" + 0.003*\"ciudad\" + 0.003*\"veneca\"\n",
      "\n",
      "3: 0.021*\"haber\" + 0.017*\"tener\" + 0.013*\"colombia\" + 0.012*\"veneco\" + 0.010*\"si\" + 0.010*\"decir\" + 0.009*\"poder\" + 0.009*\"hacer\" + 0.008*\"querer\" + 0.008*\"ver\" + 0.007*\"país\" + 0.006*\"vivir\" + 0.006*\"colombiano\" + 0.005*\"solo\" + 0.005*\"venezuela\" + 0.004*\"llegar\" + 0.004*\"pasar\" + 0.004*\"venezolana\" + 0.004*\"venezolanos\" + 0.004*\"dar\"\n",
      "\n",
      "4: 0.021*\"haber\" + 0.015*\"si\" + 0.014*\"decir\" + 0.012*\"ir\" + 0.010*\"veneco\" + 0.008*\"hacer\" + 0.007*\"colombiano\" + 0.007*\"venezuela\" + 0.006*\"tener\" + 0.006*\"país\" + 0.006*\"colombia\" + 0.006*\"ver\" + 0.006*\"así\" + 0.006*\"venezolanos\" + 0.005*\"dejar\" + 0.004*\"llegar\" + 0.004*\"parecer\" + 0.004*\"bien\" + 0.004*\"año\" + 0.004*\"gente\"\n",
      "\n"
     ]
    }
   ],
   "source": [
    "for i, topic in lda_model.show_topics(formatted=True, num_topics=num_topics, num_words=20):\n",
    "    print(str(i)+\": \"+ topic)\n",
    "    print()"
   ]
  },
  {
   "cell_type": "code",
   "execution_count": null,
   "metadata": {
    "colab": {
     "base_uri": "https://localhost:8080/"
    },
    "id": "ATr1-zje5VuM",
    "outputId": "14191eba-6616-463d-d415-829e374c00c2"
   },
   "outputs": [
    {
     "data": {
      "text/plain": [
       "[(3, 0.99503106)]"
      ]
     },
     "execution_count": 228,
     "metadata": {
      "tags": []
     },
     "output_type": "execute_result"
    }
   ],
   "source": [
    "lda_model[corpus[0]]"
   ]
  },
  {
   "cell_type": "code",
   "execution_count": null,
   "metadata": {
    "colab": {
     "base_uri": "https://localhost:8080/"
    },
    "id": "8zEHimov65i8",
    "outputId": "845404ca-cdf6-48d5-edd1-1a0a6bafdb9d"
   },
   "outputs": [
    {
     "name": "stdout",
     "output_type": "stream",
     "text": [
      "..crítico. El agresor fue capturado e identificado como Félix Manuel Rivero Goitia de nacionalidad venezolana, el cual fue capturado y dejado a disposición de las autoridades competentes.\n"
     ]
    }
   ],
   "source": [
    "print(df.Snippet.loc[0])"
   ]
  },
  {
   "cell_type": "code",
   "execution_count": null,
   "metadata": {
    "colab": {
     "base_uri": "https://localhost:8080/",
     "height": 882
    },
    "id": "jhYZUZkO69jv",
    "outputId": "191dc329-d7e9-4cc2-e416-4130245ec767"
   },
   "outputs": [
    {
     "data": {
      "text/html": [
       "\n",
       "<link rel=\"stylesheet\" type=\"text/css\" href=\"https://cdn.jsdelivr.net/gh/bmabey/pyLDAvis@3.2.2/pyLDAvis/js/ldavis.v1.0.0.css\">\n",
       "\n",
       "\n",
       "<div id=\"ldavis_el591396441332054564833179201\"></div>\n",
       "<script type=\"text/javascript\">\n",
       "\n",
       "var ldavis_el591396441332054564833179201_data = {\"mdsDat\": {\"x\": [0.01264604533392331, 0.011646415693652188, 0.0781328772528343, 0.022692175393005335, -0.12511751367341511], \"y\": [0.002796281606150149, -0.07499457611049458, -0.036035994663813055, 0.11633646830248065, -0.008102179134323168], \"topics\": [1, 2, 3, 4, 5], \"cluster\": [1, 1, 1, 1, 1], \"Freq\": [23.064963563951416, 22.17696285004698, 19.080182061656462, 18.484311409118483, 17.193580115226663]}, \"tinfo\": {\"Term\": [\"migrant\", \"veneco\", \"tener\", \"ir\", \"decir\", \"colombia\", \"ver\", \"hacer\", \"haber\", \"pa\\u00eds\", \"venezolana\", \"a\\u00f1o\", \"mismo\", \"querer\", \"vivir\", \"dejar\", \"deber\", \"si\", \"bien\", \"venecos\", \"veneca\", \"parecer\", \"venezolanos\", \"nacionalidad\", \"poblaci\\u00f3n\", \"poder\", \"llegar\", \"as\\u00ed\", \"mujer\", \"mill\\u00f3n\", \"zurdo\", \"crucial_encuentro_conjunto_americano\", \"tener_soportar\", \"cinco_desaf\\u00edo\", \"itag\\u00fc\\u00ed\", \"caso_quedar_registrado\", \"caso_xenofobia_presentar\", \"ciudadano_molesto\", \"domingo_noviembre_grave\", \"fuerte_insulto\", \"internet_seg\\u00fan\", \"per\\u00fa_luego\", \"problema_pedido\", \"video_hora\", \"volver_viral\", \"juan_carlos_casta\\u00f1eda\", \"much\\u00edsimos\", \"saquen\", \"inmigrante_ascender\", \"mill\\u00f3n_principalmente\", \"onu_migraci\\u00f3n_colombia\", \"seg\\u00fan_cifra_proyectado\", \"tener_flujo\", \"m\\u00ednimo_diferencia\", \"poder_participar_consulta\", \"se\\u00f1orita_hermoso\", \"trabajar_prepago\", \"bogotano_soachuno\", \"medio_desalojado\", \"seg\\u00fan_informaci\\u00f3n_obtenido\", \"d\\u00eda_migrante\", \"tres_miembro_familia\", \"decisi\\u00f3n_t\\u00e9cnico_delantero_peruano\", \"quedar_cumplir_jornada_suspensi\\u00f3n\", \"aldair_rodr\\u00edguez_sensible_bajo\", \"vanidad\", \"joel_graterol_infectado_virus\", \"nuevo_zaguero_felipe_jaramillo\", \"tener_dos_futbolista\", \"a\\u00fan_poder_utilizar\", \"medio_local\", \"venezolano_residir_unidos\", \"par\\u00e1sito\", \"color\", \"comer\", \"querer\", \"vivir\", \"ay\", \"solamente\", \"hermano\", \"veneco\", \"tener\", \"revoluci\\u00f3n\", \"amarillo\", \"poder\", \"trav\\u00e9s\", \"contar\", \"malparido\", \"coca\", \"ver\", \"colombia\", \"haber\", \"decir\", \"solo\", \"si\", \"presidente\", \"hacer\", \"colombiano\", \"dos\", \"pasar\", \"dar\", \"encontrar\", \"entrar\", \"llegar\", \"pa\\u00eds\", \"mundo\", \"hecho\", \"cara\", \"mil\", \"alguno\", \"venezolana\", \"venezuela\", \"pueblo\", \"venezolanos\", \"saber\", \"ciudadano\", \"aqu\\u00ed\", \"as\\u00ed\", \"a\\u00f1o\", \"excusa_ir_expulsi\\u00f3n\", \"falta_dt_hoy\", \"haber_seguir_pesadilla\", \"mismo_problema_americo\", \"problema_ra\\u00edz_cruz_hoy\", \"t\\u00e9cnico_hora_cambio_t\\u00e9cnico\", \"americo_tener_nacional\", \"coraz\\u00f3n_am\\u00e9rica_cali_l\\u00edder\", \"gol_n\\u00famero_certamen_alcanzar\", \"oriana_altuve_usme_convertir\", \"pascual_guerrero_atacante_lograr\", \"primero_lugar_hist\\u00f3rico_venezolana\", \"perder_independiente_santa_fe\", \"tarek_william\", \"copei\", \"madre_beb\\u00e9\", \"equipo_levantar\", \"ida_final_campeonato\", \"fabi\\u00e1n_\\u00e1ngel_veterano_sherman\", \"pared_casa\", \"chile_per\\u00fa\", \"alexander_miguel\", \"ataque_registrar\", \"a\\u00f1o_edad_hijo\", \"barrio_luisa\", \"castillo_ramos\", \"precisar_ministro\", \"p\\u00e9rez_fallecer\", \"polic\\u00eda_fiscal_aduanera\", \"alegre_subir_\\u00e1nimo\", \"colombia_buscar_mejor\", \"hacer_cuento_navidad_integraci\\u00f3n\", \"oportunidad_cumplir_sue\\u00f1o_diciembre\", \"conocer_abc_integraci\\u00f3n_aqu\\u00ed\", \"anotar_primero\", \"si_inmigrante\", \"vuelo_respetar_derecho_volver\", \"casa_vuelo\", \"dejar_mil_hoy_cumplir\", \"lugar_residencia_nacimiento_autoricir\", \"hablar_mal\", \"adjuntos_tema_eltoro_malcon\", \"ahora_poder_acceder\", \"venezolano_apenas_archivos\", \"perfil_onlyfans_tener_duda\", \"sabor_casero_impresionante_menos\", \"pues_tratar_lolita\", \"venecos\", \"parecer\", \"ir\", \"dejar\", \"decir\", \"si\", \"as\\u00ed\", \"bien\", \"situaci\\u00f3n\", \"veneco\", \"haber\", \"delincuente\", \"gente\", \"colombiano\", \"ac\\u00e1\", \"bueno\", \"venezolanos\", \"venezuela\", \"mal\", \"pais\", \"votar\", \"ver\", \"mejor\", \"mas\", \"mismo\", \"nacionalidad\", \"hacer\", \"usted\", \"llegar\", \"ni\\u00f1o\", \"persona\", \"pa\\u00eds\", \"colombia\", \"tener\", \"pasar\", \"a\\u00f1o\", \"pueblo\", \"seguir\", \"ahora\", \"saber\", \"poder\", \"solo\", \"venezolano_gran_importancia\", \"reconciliaci\\u00f3n_adem\\u00e1s_buscar_resaltar\", \"cifra_actualizado\", \"importancia_memoria_identidad_herramienta\", \"fila_diezmada_adem\\u00e1s_guti\\u00e9rrez\", \"transformaci\\u00f3n_crear\", \"colombia_mill\\u00f3n_mil\", \"trabajar_hora_devengar\", \"gana_candidato_t\\u00edtulo\", \"imponer_visitante_lograr\", \"instancia\", \"dios_bendigar\", \"amanecer\", \"n\\u00facleo_familiar_gobernador_arauca\", \"nuevo_mano_diciembre\", \"familiar_ni\\u00f1o\", \"primero_movimiento\", \"retorno_delantero\", \"venta_informal\", \"municipio_ciudad_mayor\", \"presencia_poblaci\\u00f3n_migrante\", \"broma_vacil\\u00f3n\", \"honesto_colombiano\", \"humor_sugerir\", \"c\\u00e1tedra_permanente\", \"feria_libro\", \"im\\u00e1genes_urbanas\", \"noviembre_pm_hora\", \"oeste_caracas\", \"querer_narrar\", \"partido_vuelta_gol_delantera\", \"tres_punto_llegar_c\\u00f3modo\", \"amarillo_tampoco_lateral_gabriel\", \"oportunidad_crecer_futuro\", \"haber_aprender_junto\", \"haber_superar_adversidad\", \"querer_conocer_integraci\\u00f3n\", \"conocer_integraci\\u00f3n\", \"dejar_atr\\u00e1s_har\\u00edar_si\", \"lejos_navidad_pong\\u00e1mono_zapato\", \"millones_haber\", \"buscar_oportunidad_inclusi\\u00f3n\", \"vallenata_kena_romero_venezolana\", \"rosero_suspendido_acumulaci\\u00f3n_tarjeta\", \"gonz\\u00e1lez_lesi\\u00f3n_central_dany\", \"hijo_puta\", \"costa_g\\u00fciria\", \"partido_ida_semifinal_liga\", \"migrant\", \"eleccion_mejor_topic_mes\", \"joel_graterol_delantero_santiago\", \"aprobada_llegar_poblaci\\u00f3n\", \"dem\\u00e1s_diputado_realizar_estudio\", \"suarez_momento_presidente_encargado\", \"factibilidad_adquirir_alguno_vacuna\", \"p\\u00e9same_familia_dip_bolivia\", \"colombia\", \"hacer\", \"pa\\u00eds\", \"mismo\", \"grande\", \"problema\", \"venezolano_colombiano_retornado\", \"quedar\", \"venezolanos\", \"navidad\", \"llegar\", \"venezuela\", \"total\", \"v\\u00eda\", \"nacional\", \"persona\", \"oportunidad\", \"colombiano\", \"veneco\", \"ni\\u00f1o\", \"muerte\", \"igual\", \"sacar\", \"tener\", \"general\", \"haber\", \"claro\", \"seguir\", \"ejemplo\", \"aqu\\u00ed\", \"poder\", \"dar\", \"migraci\\u00f3n\", \"vida\", \"si\", \"venezolana\", \"ahora\", \"ir\", \"gente\", \"ciudad\", \"decir\", \"deber\", \"venir\", \"solo\", \"cuota_creatividad_venezolana_ysaura\", \"viso_m\\u00e1ximo_artillerar_torneo\", \"ausente_pagar_sanci\\u00f3n_aquel\", \"duelo_decisivo_pastuso_seguramente\", \"tarjeta_rojo_tolima_cara\", \"venezolano_lesionado_jhon\", \"am\\u00e9rica_tratar_igualar_carta\", \"paraguayar_fany_gauto_poner\", \"carmen_zambrano\", \"ganar_primero_lugar\", \"international_youth\", \"music_festival\", \"f\\u00e1cil_est\\u00e1r\", \"negociar_gobierno\", \"condenar_prisi\\u00f3n_seis\", \"asumir_responsabilidad\", \"foco_inseguridad\", \"segundo_t\\u00edtulo\", \"gracias_apoyo\", \"altura_miembro\", \"intentar_tom\\u00e1ndola\", \"mano_evitar\", \"medio_forcejeo\", \"mujer_propinar\", \"primero_cortadura\", \"seguir_agredir\", \"superior_sujeto_nacionalidad\", \"supuestamente_momento\", \"tomar_taxi\", \"manipulaci\\u00f3n\", \"urgencia\", \"equipo_ganar_tener_convicci\\u00f3n\", \"gana_ganar_d\\u00eda\", \"gol_mensaje_manejar_diariamente\", \"extender_pa\\u00eds\", \"departamento_fronterizo_hoy\", \"venezolano_solo_problem\\u00e1tica\", \"venezolano_fortalecer_medio\", \"empresa_migrant\", \"barrera_complicir_b\\u00fasqueda_trabajo\", \"comunicado_plan_esperar_atender\", \"comunidad_acogida_agregar_gifmm\", \"abogar_migrant_venezolano\", \"situaci\\u00f3n_vivir_frontera_unimos\", \"nete_campa\\u00f1a_medio_comunicaci\\u00f3n\", \"colombia_requerir_mill\\u00f3n_d\\u00f3lares\", \"colombia_ofrecer_asistencia\", \"armar\", \"veneca\", \"tener\", \"sena_si\", \"cerca_provecho_oferta_formaci\\u00f3n\", \"venezolano_retornar_pa\\u00eds\", \"recibir\", \"joven\", \"pandemia\", \"ver\", \"haber\", \"primero\", \"huir\", \"pa\\u00eds\", \"mill\\u00f3n\", \"poder\", \"ciudad\", \"historia\", \"persona\", \"atender\", \"siempre\", \"mujer\", \"venir\", \"cantar\", \"pueblo\", \"a\\u00f1o\", \"colombia\", \"vez\", \"nuevo\", \"salir\", \"encontrar\", \"\\u00fanico\", \"venezolana\", \"gobierno\", \"seguir\", \"si\", \"solo\", \"hoy\", \"llegar\", \"venezuela\", \"aqu\\u00ed\", \"hacer\", \"migrant\", \"pasar\", \"ir\", \"querer\", \"regresar\\u00e9_pa\\u00eds_valer_pena\", \"respuesta_ciudadano_derrota_nacional\", \"so\\u00f1ar_c\\u00f3mo_populismo_destruir\", \"carrera_producto_imparable\", \"venecos_hps\", \"unidas_refugiados_acnur\", \"destacado_revolucionario\", \"mientras_caminant\", \"regresar_pa\\u00eds_descender\", \"lanzar_tercio_permitir\", \"local_pr\\u00f3ximo_a\\u00f1o\", \"puerto_carre\\u00f1o_capital\", \"servicio_energ\\u00eda\", \"barrio_\\u00e1ngeles\", \"mujer_bello\", \"dejar_aliento\", \"descender\", \"dos_hombre_nacionalidad\", \"debido_crisis_pol\\u00edtico\", \"juego_disputar\", \"desarrollo_videojuego\", \"establecido_seattle\", \"joven_barranquillero\", \"norteamericano_tiny_build\", \"reconocido_compa\\u00f1\\u00eda\", \"trabajar_experto\", \"trabajar_publicado\", \"agregar_aunque\", \"detalle_investigar\", \"directo_decir\", \"diciembre_joven_venezolano\", \"compartirl_material_venezolana_constar\", \"buenas_nuevo_comunidad_gustar\", \"alguno_imagen_v\\u00eddeo_esperar\", \"disfrutir_archivos_adjuntos_tema\", \"ruta_atenci\\u00f3n_migrant\", \"votar_nuevo_constituci\\u00f3n_tinte\", \"pasaporte_vencido\", \"explotaci\\u00f3n_sexual\", \"par\\u00eds\", \"am\\u00e9rica_latina_pensar\", \"socialista_festejar_triunfo_hoy\", \"copaverde_malcon_hernanhin_and\", \"others_like_this\", \"poder_ver_link\", \"reputacion_membresias_pagas\", \"reputacion_usuario_membresia_gold\", \"momento_roblox_free_fire\", \"otorgar_tiquet_gratis\", \"experto_juego_free_fire\", \"hijo_pedir_caridad_sem\\u00e1foro\", \"parecer_hacer_ofrecimiento\", \"venezolano_emprendedor_emplear\", \"confiamos\", \"solo_usario_mas_punto\", \"trabajo_mesera_convencer_viajar\", \"mes_pasar_vender\", \"deber\", \"venezolana\", \"a\\u00f1o\", \"haber\", \"venezolano_radicado_colombia\", \"poblaci\\u00f3n\", \"nud_igual_pack_seguir\", \"veneca_super_rico_dificil\", \"traer_onlyfans_mia_francis\", \"disfrutable_archivos_adjuntos_tema\", \"nacionalidad\", \"d\\u00f3nde\", \"hoy\", \"actriz\", \"ir\", \"robar\", \"asesinar\", \"mujer\", \"llevar\", \"varios\", \"hacer\", \"conocer\", \"hablar\", \"gobierno\", \"migrant\", \"hora\", \"dos\", \"ciudadano\", \"saber\", \"familia\", \"ayudar\", \"polic\\u00eda\", \"poder\", \"equipo\", \"capturar\", \"colombia\", \"decir\", \"tener\", \"bogot\\u00e1\", \"si\", \"dar\", \"as\\u00ed\", \"venezuela\", \"solo\", \"colombiano\", \"pasar\", \"pa\\u00eds\", \"mismo\", \"veneco\"], \"Freq\": [581.0, 971.0, 1659.0, 801.0, 1037.0, 1482.0, 726.0, 1257.0, 2786.0, 1133.0, 580.0, 588.0, 390.0, 540.0, 399.0, 324.0, 416.0, 1231.0, 297.0, 143.0, 168.0, 242.0, 597.0, 285.0, 194.0, 865.0, 556.0, 442.0, 360.0, 249.0, 6.098532697438537, 6.098532697438537, 6.098532222918298, 5.083802008593295, 5.083802008593295, 5.083802008593295, 5.083802008593295, 5.083802008593295, 5.083802008593295, 5.083802008593295, 5.083802008593295, 5.083802008593295, 5.083802008593295, 5.083802008593295, 5.083802008593295, 5.083802008593295, 4.069070845227814, 4.069070845227814, 4.069070845227814, 4.069070845227814, 4.069070845227814, 4.069070845227814, 4.069070845227814, 4.069070845227814, 4.069070845227814, 4.069070845227814, 4.069070845227814, 4.069070845227814, 4.069070845227814, 4.069070845227814, 5.989071792098532, 8.792446260532424, 10.471631032862028, 10.471631032862028, 10.471631032862028, 5.017155166403095, 11.13608464182615, 11.13608464182615, 11.13608369278567, 11.13608369278567, 5.896498113050009, 6.76298583188242, 10.174953386659517, 10.761850458601824, 54.24912401387375, 274.41421947975545, 209.6742615479583, 12.102712739449807, 11.279364130131412, 122.14113009009584, 382.41578527449747, 551.5243820456701, 14.06552300426793, 8.116331791197197, 302.5940404746926, 80.07708224272217, 84.23138926053159, 20.44222943116074, 12.720640587948964, 247.32749571673457, 418.37038883152, 672.8037985650654, 313.75891710658453, 168.61956000826967, 333.64782936508766, 61.309282891088955, 299.90013213132136, 204.6306504546296, 98.2418233120884, 141.47115620640784, 126.58153864700468, 88.81804115916303, 46.9145254069707, 144.9957862545824, 233.21559784943793, 85.83201056389066, 52.140397826298425, 31.973431891961695, 67.71706754656259, 80.57494128592218, 136.99807788003415, 163.26549879330057, 107.48039831736651, 128.6263564486933, 99.3478047175538, 87.22511087984947, 88.31571023722381, 93.96754239302778, 90.08523037663113, 9.189111238848541, 9.189111238848541, 9.189111238848541, 9.189111238848541, 9.189111238848541, 9.189111238848541, 9.189110326346105, 8.169231902835472, 8.169231902835472, 8.169231902835472, 8.169231902835472, 8.169231902835472, 6.1294732308093325, 5.1095948072987, 5.1095948072987, 5.1095948072987, 5.1095948072987, 5.1095948072987, 5.1095948072987, 5.1095948072987, 4.08971547128563, 4.08971547128563, 4.08971547128563, 4.08971547128563, 4.08971547128563, 4.08971547128563, 4.08971547128563, 4.08971547128563, 4.08971547128563, 4.08971547128563, 12.916572367760482, 12.916571455258046, 12.916571455258046, 11.896693944249849, 5.059725180375514, 7.817175687695134, 19.631099273412804, 17.943396816527002, 21.986625763673775, 21.986623938668902, 12.078066578592185, 17.840866217726546, 10.14381417581281, 19.096420295591756, 19.096420295591756, 19.096420295591756, 19.096420295591756, 89.82768157824457, 134.80862779656698, 365.90442512096797, 164.6340838432629, 423.742800774114, 462.1777246117631, 187.01353460594706, 133.6840451934515, 85.94094679900401, 311.4539301149091, 658.8701506644809, 81.26383160911045, 121.65339406647881, 229.42190285438843, 82.7724171376776, 56.67350789245199, 185.12551596413155, 223.775279375494, 64.00331511616534, 44.31372808656526, 73.61519238397959, 187.4147436773465, 88.77728177322882, 77.7757070943294, 120.04287836571459, 94.63091190491936, 235.3968958101695, 82.22755828267195, 138.6868945531943, 87.40328670407563, 121.56660413471265, 202.43162837883725, 199.12077753745257, 202.6952904829276, 111.10726030380101, 124.41618864431938, 104.50104926239827, 97.55831462233391, 99.29207655221816, 98.23485122897536, 101.72172744042291, 92.48173506570002, 8.80257334681545, 7.825594972508925, 5.871638616436383, 5.871638223895872, 4.894660634670368, 4.894660634670368, 4.894660634670368, 4.894660634670368, 4.894660634670368, 4.894660634670368, 3.9176822603638417, 3.9176822603638417, 3.9176822603638417, 3.9176822603638417, 3.9176822603638417, 3.9176822603638417, 3.9176818678233314, 3.9176818678233314, 3.9176818678233314, 3.9176818678233314, 3.9176818678233314, 3.9176818678233314, 3.9176818678233314, 3.9176818678233314, 3.9176818678233314, 3.9176818678233314, 3.9176818678233314, 3.9176818678233314, 3.9176818678233314, 3.9176818678233314, 7.488349288706617, 7.488349288706617, 9.10505956843634, 6.511254329868551, 6.5112284221948755, 6.511189953224872, 6.511176999388034, 6.511370521859581, 6.511370521859581, 6.511370521859581, 6.511370521859581, 6.511370521859581, 8.102856540942035, 9.707435748743418, 9.707435748743418, 17.807914279274442, 8.80257334681545, 8.76781231447199, 304.0654466371353, 7.151102819823289, 12.833935338943702, 11.326741506326824, 11.326741506326824, 11.326741506326824, 11.326741506326824, 11.326741506326824, 484.15954069313534, 412.1554266583743, 352.977576935906, 141.85431746564282, 50.37057845082639, 80.84288275694433, 23.86991109820427, 77.73836465023625, 180.38732495747055, 33.74947743084831, 158.79321300205999, 203.9860565099073, 42.02240685833631, 56.56116840058552, 53.3223072296542, 121.87596505684617, 37.48864561353407, 162.26381124829027, 177.14548047866143, 76.02507919893515, 38.215420236778066, 55.46275212387028, 43.46269765655057, 234.69593889411655, 23.20295807855823, 322.478774575185, 47.478500127934076, 85.25915191654676, 38.385616381044244, 77.63281835784393, 134.5479640889401, 85.64897918677622, 61.2160959097634, 62.350380968142, 149.71027780186157, 101.55378484497157, 80.87759589934554, 115.74091487879933, 68.80722643550823, 65.25807612269355, 101.19262873360975, 71.28023164999644, 62.15594466228771, 66.62175557460603, 6.904764329484662, 6.904764329484662, 6.904764329484662, 6.904764329484662, 6.904764329484662, 6.904764329484662, 5.919777716469776, 5.9197765756251535, 4.934788821765645, 4.934788821765645, 4.934788821765645, 4.934788821765645, 4.934788821765645, 4.934788821765645, 4.934788821765645, 3.949801067906137, 3.949801067906137, 3.949801067906137, 3.949801067906137, 3.949801067906137, 3.949801067906137, 3.949801067906137, 3.949801067906137, 3.949801067906137, 3.949801067906137, 3.949801067906137, 3.949801067906137, 3.949801067906137, 3.949801067906137, 3.949801067906137, 5.889313362241539, 7.549741597210414, 7.549740076084251, 7.549740076084251, 6.564753843350905, 6.564753843350905, 6.564753843350905, 9.052475823712147, 9.043049404880422, 11.454647386980522, 8.194718104373084, 8.194718104373084, 10.469659633121013, 10.469659633121013, 10.469659633121013, 13.046702141769964, 8.790543222395826, 8.027414001090042, 83.00560344479541, 492.2724465942153, 7.854706857676246, 7.854706857676246, 40.23122239099449, 62.90213235720457, 87.78012641403393, 62.9182076184945, 204.11222899074556, 505.59055110822896, 81.24501551678327, 34.468432880452255, 258.23747555680825, 85.60458743778166, 197.71663578515958, 83.661184483003, 53.414728535354435, 115.76221570201932, 31.965091216086886, 58.863901380379126, 94.15729573953442, 70.37005257811056, 16.422131294492353, 98.07098299064317, 121.14409392559564, 210.88377156975397, 49.27577162627157, 56.16325139916677, 70.40000051000648, 63.103578137214754, 39.49819169307476, 105.29302229406724, 62.245681234831785, 76.55369814865746, 143.91195743117905, 88.05548675655359, 74.608719307174, 90.5935526889665, 104.61475822251792, 69.04391045124277, 110.11870377841768, 81.60429943196453, 73.44295863842171, 79.0817976624508, 68.3163071314724, 8.786075763792912, 8.786075056338792, 8.786075056338792, 7.810928785872299, 5.860634476304014, 5.860634476304014, 4.8854874983834025, 4.8854874983834025, 4.8854874983834025, 4.8854874983834025, 3.9103401667357294, 3.9103401667357294, 3.9103401667357294, 3.9103401667357294, 3.9103401667357294, 3.9103401667357294, 3.9103401667357294, 3.9103401667357294, 3.9103401667357294, 3.9103401667357294, 3.9103401667357294, 3.9103401667357294, 3.9103401667357294, 3.9103401667357294, 3.9103401667357294, 3.9103401667357294, 3.9103401667357294, 3.9103401667357294, 3.9103401667357294, 3.9103401667357294, 12.2560837516565, 6.4991680628010755, 6.4991673553469544, 6.4991673553469544, 6.4991673553469544, 6.4991680628010755, 11.275696661064169, 8.11284827349169, 6.475994695624779, 12.54523439985212, 8.751380798807569, 8.751380798807569, 12.378599241363931, 12.378599241363931, 11.543313113281059, 11.539507717566035, 11.532222355031493, 5.524020731153403, 5.524020731153403, 5.524020377426343, 9.882382041871653, 8.4800495050031, 7.757642634050167, 14.498178478829333, 12.478392719624047, 9.755485996249103, 10.8644203303816, 151.96891013391516, 193.6677275101094, 194.45346567394367, 626.6407195953083, 24.82837402689909, 76.52146934086718, 13.00167389414342, 13.00167389414342, 13.00167389414342, 13.001671064326937, 95.0949302072097, 30.77650395275675, 100.7776431557116, 13.44500284867067, 170.7487268778044, 62.99411458782712, 39.12487289991929, 94.85478632086034, 64.1032611581958, 51.45440029365785, 199.93457117695675, 62.747213099717236, 78.87588231405228, 66.7867534901465, 113.65184796639473, 43.87289746420692, 68.93513884449688, 72.98634939810053, 84.69978612613875, 66.92115279417276, 48.44682039921693, 44.93255054429434, 129.36418892017159, 45.47144098653192, 39.620416213275874, 169.52657441601815, 138.07653735278004, 178.24339395866917, 67.5514208404511, 142.1112217781251, 76.21369284058287, 80.00344533008996, 102.13593242884441, 79.58172343931587, 85.06222336160164, 73.8861970817806, 87.04700570582497, 68.58509054559497, 70.58116951721698], \"Total\": [581.0, 971.0, 1659.0, 801.0, 1037.0, 1482.0, 726.0, 1257.0, 2786.0, 1133.0, 580.0, 588.0, 390.0, 540.0, 399.0, 324.0, 416.0, 1231.0, 297.0, 143.0, 168.0, 242.0, 597.0, 285.0, 194.0, 865.0, 556.0, 442.0, 360.0, 249.0, 6.138102617170381, 6.138102617170381, 6.138102142650142, 5.12337192832514, 5.12337192832514, 5.12337192832514, 5.12337192832514, 5.12337192832514, 5.12337192832514, 5.12337192832514, 5.12337192832514, 5.12337192832514, 5.12337192832514, 5.12337192832514, 5.12337192832514, 5.12337192832514, 4.108640764959659, 4.108640764959659, 4.108640764959659, 4.108640764959659, 4.108640764959659, 4.108640764959659, 4.108640764959659, 4.108640764959659, 4.108640764959659, 4.108640764959659, 4.108640764959659, 4.108640764959659, 4.108640764959659, 4.108640764959659, 6.134893417114871, 9.18407127527222, 11.199869951463363, 11.199869951463363, 11.199869957871122, 5.123710056993378, 12.200937444633503, 12.200937444633503, 12.200936555509088, 12.200936584024788, 6.130585153680366, 7.139801718321745, 11.1897264128825, 12.172035731352313, 76.52881056097438, 540.6205601971367, 399.1971136343045, 14.18783332053109, 13.167571664649184, 240.17019411763025, 971.2472243838351, 1659.4314519755987, 18.192166439928876, 9.169637786289195, 865.9445567093868, 163.58271165827242, 175.2429487710264, 29.191881784302247, 16.20399656157177, 726.0741166322085, 1482.0610530478798, 2786.3839945082686, 1037.0421130199036, 495.3602608444452, 1231.5590109880166, 131.98949836587016, 1257.5057295552397, 745.5232308865441, 269.5523079321953, 451.0615547686503, 388.7958820276617, 236.1797612380745, 98.71696060310595, 556.147334252067, 1133.9092844268143, 258.3096871083783, 123.3286579446127, 59.24236056479935, 189.92118576195162, 250.8278654950754, 580.9517836803075, 797.7775253300641, 413.62394368868246, 597.2494452847706, 389.2258591239105, 300.9199882578817, 317.06950190281185, 442.4811036703904, 588.6020166622972, 9.228629676022555, 9.228629676022555, 9.228629676022555, 9.228629676022555, 9.228629676022555, 9.228629676022555, 9.228628763520119, 8.208750340009486, 8.208750340009486, 8.208750340009486, 8.208750340009486, 8.208750340009486, 6.168991667983345, 5.149113244472713, 5.149113244472713, 5.149113244472713, 5.149113244472713, 5.149113244472713, 5.149113244472713, 5.149113244472713, 4.129233908459643, 4.129233908459643, 4.129233908459643, 4.129233908459643, 4.129233908459643, 4.129233908459643, 4.129233908459643, 4.129233908459643, 4.129233908459643, 4.129233908459643, 13.30636875507832, 13.306367842575884, 13.306367842575884, 12.286490331567688, 5.146974011701508, 8.193940140644191, 22.38793934706509, 20.3602265941863, 25.420722657415265, 25.420721022551163, 13.262035286437804, 21.321087764729974, 11.227869545410849, 23.334018092190465, 23.334018104449434, 23.334018484730976, 23.33401857316274, 143.88876370345193, 242.48478301511568, 801.9202998011001, 324.8470789506033, 1037.0421130199036, 1231.5590109880166, 442.4811036703904, 297.1466308068065, 175.3069422654784, 971.2472243838351, 2786.3839945082686, 173.9649751930935, 303.87440046832296, 745.5232308865441, 186.8033035551726, 111.39675646334982, 597.2494452847706, 797.7775253300641, 139.75942108734017, 81.46637379606398, 174.06410607112534, 726.0741166322085, 241.71782682761935, 197.74792356544634, 390.59145199422517, 285.2256746622093, 1257.5057295552397, 232.90475381848552, 556.147334252067, 261.0825572260674, 458.04520447947186, 1133.9092844268143, 1482.0610530478798, 1659.4314519755987, 451.0615547686503, 588.6020166622972, 413.62394368868246, 348.1634976648763, 373.99968948109654, 389.2258591239105, 865.9445567093868, 495.3602608444452, 8.842520794580976, 7.86554242027445, 5.9115860642019085, 5.911585671661398, 4.9346080824358936, 4.9346080824358936, 4.9346080824358936, 4.9346080824358936, 4.9346080824358936, 4.9346080824358936, 3.957629708129368, 3.957629708129368, 3.957629708129368, 3.957629708129368, 3.957629708129368, 3.957629708129368, 3.9576293155888576, 3.9576293155888576, 3.9576293155888576, 3.9576293155888576, 3.9576293155888576, 3.9576293155888576, 3.9576293155888576, 3.9576293155888576, 3.9576293155888576, 3.9576293155888576, 3.9576293155888576, 3.9576293155888576, 3.9576293155888576, 3.9576293155888576, 7.878574656958452, 7.878574656958452, 9.845562906294745, 6.891333229954845, 6.891334520405139, 6.891336088751228, 6.891336589231421, 6.901595890111415, 6.901595919768931, 6.901595919768931, 6.901595919768931, 6.90159597908396, 8.858523904540187, 10.838989856898747, 10.83899000176088, 21.63240286738597, 9.817667937620273, 9.863925120332857, 581.0312173754737, 7.8642781440881375, 15.744463953264495, 13.729780263755442, 13.729780263755442, 13.729780263755442, 13.729780311290634, 13.729780311290634, 1482.0610530478798, 1257.5057295552397, 1133.9092844268143, 390.59145199422517, 100.70904870926934, 194.4552440851878, 38.389622185689625, 190.9012706434061, 597.2494452847706, 62.11763630681247, 556.147334252067, 797.7775253300641, 92.3408726650032, 142.3438435800527, 131.770581617389, 458.04520447947186, 83.01463451926463, 745.5232308865441, 971.2472243838351, 261.0825572260674, 92.21952365204824, 165.2002347783823, 112.80671623140827, 1659.4314519755987, 42.640504781204875, 2786.3839945082686, 134.7730424214205, 348.1634976648763, 96.24863106437249, 317.06950190281185, 865.9445567093868, 388.7958820276617, 216.34217551353274, 225.83923431007872, 1231.5590109880166, 580.9517836803075, 373.99968948109654, 801.9202998011001, 303.87440046832296, 261.90581833396755, 1037.0421130199036, 416.1520097082025, 240.47428414096936, 495.3602608444452, 6.944631680591113, 6.944631680591113, 6.944631680591113, 6.944631680591113, 6.944631680591113, 6.944631680591113, 5.9596450675762265, 5.959643926731604, 4.974656172872096, 4.974656172872096, 4.974656172872096, 4.974656172872096, 4.974656172872096, 4.974656172872096, 4.974656172872096, 3.9896684190125886, 3.9896684190125886, 3.9896684190125886, 3.9896684190125886, 3.9896684190125886, 3.9896684190125886, 3.9896684190125886, 3.9896684190125886, 3.9896684190125886, 3.9896684190125886, 3.9896684190125886, 3.9896684190125886, 3.9896684190125886, 3.9896684190125886, 3.9896684190125886, 5.960563757233821, 7.9398868984606885, 7.939885377334526, 7.939885377334526, 6.941867161164836, 6.941867161164836, 6.941867161164836, 9.907839509122775, 9.907763454312441, 12.887925997894552, 8.921477308343084, 8.9214773380006, 11.85724669267641, 11.85724669267641, 11.85724686953994, 15.83442096479256, 9.918215857603593, 8.92918092577492, 168.35154602357167, 1659.4314519755987, 8.918079917336565, 8.91808000576833, 75.5445943671942, 138.02280379456676, 221.57680837308587, 145.11129055602552, 726.0741166322085, 2786.3839945082686, 225.0007196820068, 68.66221754768182, 1133.9092844268143, 249.08436194542617, 865.9445567093868, 261.90581833396755, 139.1883072492675, 458.04520447947186, 67.75816485868046, 175.10357956109897, 360.8444164136578, 240.47428414096936, 25.894660465611278, 413.62394368868246, 588.6020166622972, 1482.0610530478798, 148.01101796778795, 182.97059406239472, 277.5162211171382, 236.1797612380745, 110.19536415086914, 580.9517836803075, 240.2598167823001, 348.1634976648763, 1231.5590109880166, 495.3602608444452, 355.5991984689147, 556.147334252067, 797.7775253300641, 317.06950190281185, 1257.5057295552397, 581.0312173754737, 451.0615547686503, 801.9202998011001, 540.6205601971367, 8.826041521169206, 8.826040813715085, 8.826040813715085, 7.850894543248594, 5.900600233680309, 5.900600233680309, 4.925453255759697, 4.925453255759697, 4.925453255759697, 4.925453255759697, 3.950305924112024, 3.950305924112024, 3.950305924112024, 3.950305924112024, 3.950305924112024, 3.950305924112024, 3.950305924112024, 3.950305924112024, 3.950305924112024, 3.950305924112024, 3.950305924112024, 3.950305924112024, 3.950305924112024, 3.950305924112024, 3.950305924112024, 3.950305924112024, 3.950305924112024, 3.950305924112024, 3.950305924112024, 3.950305924112024, 13.704417404893737, 6.876379835952414, 6.8763790548969475, 6.876379079430729, 6.876379079430729, 6.891188915185322, 12.729278090247625, 8.842115068049633, 6.8922509283528335, 14.689738276655998, 9.80308455290807, 9.803084651043196, 14.758329435837382, 14.758329435837382, 13.731818237444724, 13.731825489570497, 13.73183971222918, 5.914264409016006, 5.914264438673522, 5.914264084946462, 11.758244886041537, 9.82943221932899, 8.84636511301463, 18.728054107773065, 15.684018097616887, 11.810607060654675, 13.716182165724907, 416.1520097082025, 580.9517836803075, 588.6020166622972, 2786.3839945082686, 40.34258912732153, 194.23753465783403, 17.77900937878774, 17.77900937878774, 17.779009407303445, 17.779006672557344, 285.2256746622093, 61.45392587099312, 355.5991984689147, 18.66800501407879, 801.9202998011001, 185.3805358361203, 94.01320258506033, 360.8444164136578, 199.92691972663886, 143.0056238756698, 1257.5057295552397, 209.43950588017026, 303.0954523555566, 240.2598167823001, 581.0312173754737, 126.56714581640728, 269.5523079321953, 300.9199882578817, 389.2258591239105, 261.8437736193035, 151.57076057314853, 135.87660726529325, 865.9445567093868, 140.731254958539, 110.41839004061292, 1482.0610530478798, 1037.0421130199036, 1659.4314519755987, 289.3752699701869, 1231.5590109880166, 388.7958820276617, 442.4811036703904, 797.7775253300641, 495.3602608444452, 745.5232308865441, 451.0615547686503, 1133.9092844268143, 390.59145199422517, 971.2472243838351], \"Category\": [\"Default\", \"Default\", \"Default\", \"Default\", \"Default\", \"Default\", \"Default\", \"Default\", \"Default\", \"Default\", \"Default\", \"Default\", \"Default\", \"Default\", \"Default\", \"Default\", \"Default\", \"Default\", \"Default\", \"Default\", \"Default\", \"Default\", \"Default\", \"Default\", \"Default\", \"Default\", \"Default\", \"Default\", \"Default\", \"Default\", \"Topic1\", \"Topic1\", \"Topic1\", \"Topic1\", \"Topic1\", \"Topic1\", \"Topic1\", \"Topic1\", \"Topic1\", \"Topic1\", \"Topic1\", \"Topic1\", \"Topic1\", \"Topic1\", \"Topic1\", \"Topic1\", \"Topic1\", \"Topic1\", \"Topic1\", \"Topic1\", \"Topic1\", \"Topic1\", \"Topic1\", \"Topic1\", \"Topic1\", \"Topic1\", \"Topic1\", \"Topic1\", \"Topic1\", \"Topic1\", \"Topic1\", \"Topic1\", \"Topic1\", \"Topic1\", \"Topic1\", \"Topic1\", \"Topic1\", \"Topic1\", \"Topic1\", \"Topic1\", \"Topic1\", \"Topic1\", \"Topic1\", \"Topic1\", \"Topic1\", \"Topic1\", \"Topic1\", \"Topic1\", \"Topic1\", \"Topic1\", \"Topic1\", \"Topic1\", \"Topic1\", \"Topic1\", \"Topic1\", \"Topic1\", \"Topic1\", \"Topic1\", \"Topic1\", \"Topic1\", \"Topic1\", \"Topic1\", \"Topic1\", \"Topic1\", \"Topic1\", \"Topic1\", \"Topic1\", \"Topic1\", \"Topic1\", \"Topic1\", \"Topic1\", \"Topic1\", \"Topic1\", \"Topic1\", \"Topic1\", \"Topic1\", \"Topic1\", \"Topic1\", \"Topic1\", \"Topic1\", \"Topic1\", \"Topic1\", \"Topic1\", \"Topic1\", \"Topic1\", \"Topic1\", \"Topic1\", \"Topic1\", \"Topic1\", \"Topic2\", \"Topic2\", \"Topic2\", \"Topic2\", \"Topic2\", \"Topic2\", \"Topic2\", \"Topic2\", \"Topic2\", \"Topic2\", \"Topic2\", \"Topic2\", \"Topic2\", \"Topic2\", \"Topic2\", \"Topic2\", \"Topic2\", \"Topic2\", \"Topic2\", \"Topic2\", \"Topic2\", \"Topic2\", \"Topic2\", \"Topic2\", \"Topic2\", \"Topic2\", \"Topic2\", \"Topic2\", \"Topic2\", \"Topic2\", \"Topic2\", \"Topic2\", \"Topic2\", \"Topic2\", \"Topic2\", \"Topic2\", \"Topic2\", \"Topic2\", \"Topic2\", \"Topic2\", \"Topic2\", \"Topic2\", \"Topic2\", \"Topic2\", \"Topic2\", \"Topic2\", \"Topic2\", \"Topic2\", \"Topic2\", \"Topic2\", \"Topic2\", \"Topic2\", \"Topic2\", \"Topic2\", \"Topic2\", \"Topic2\", \"Topic2\", \"Topic2\", \"Topic2\", \"Topic2\", \"Topic2\", \"Topic2\", \"Topic2\", \"Topic2\", \"Topic2\", \"Topic2\", \"Topic2\", \"Topic2\", \"Topic2\", \"Topic2\", \"Topic2\", \"Topic2\", \"Topic2\", \"Topic2\", \"Topic2\", \"Topic2\", \"Topic2\", \"Topic2\", \"Topic2\", \"Topic2\", \"Topic2\", \"Topic2\", \"Topic2\", \"Topic2\", \"Topic2\", \"Topic2\", \"Topic2\", \"Topic2\", \"Topic2\", \"Topic3\", \"Topic3\", \"Topic3\", \"Topic3\", \"Topic3\", \"Topic3\", \"Topic3\", \"Topic3\", \"Topic3\", \"Topic3\", \"Topic3\", \"Topic3\", \"Topic3\", \"Topic3\", \"Topic3\", \"Topic3\", \"Topic3\", \"Topic3\", \"Topic3\", \"Topic3\", \"Topic3\", \"Topic3\", \"Topic3\", \"Topic3\", \"Topic3\", \"Topic3\", \"Topic3\", \"Topic3\", \"Topic3\", \"Topic3\", \"Topic3\", \"Topic3\", \"Topic3\", \"Topic3\", \"Topic3\", \"Topic3\", \"Topic3\", \"Topic3\", \"Topic3\", \"Topic3\", \"Topic3\", \"Topic3\", \"Topic3\", \"Topic3\", \"Topic3\", \"Topic3\", \"Topic3\", \"Topic3\", \"Topic3\", \"Topic3\", \"Topic3\", \"Topic3\", \"Topic3\", \"Topic3\", \"Topic3\", \"Topic3\", \"Topic3\", \"Topic3\", \"Topic3\", \"Topic3\", \"Topic3\", \"Topic3\", \"Topic3\", \"Topic3\", \"Topic3\", \"Topic3\", \"Topic3\", \"Topic3\", \"Topic3\", \"Topic3\", \"Topic3\", \"Topic3\", \"Topic3\", \"Topic3\", \"Topic3\", \"Topic3\", \"Topic3\", \"Topic3\", \"Topic3\", \"Topic3\", \"Topic3\", \"Topic3\", \"Topic3\", \"Topic3\", \"Topic3\", \"Topic3\", \"Topic3\", \"Topic3\", \"Topic3\", \"Topic3\", \"Topic3\", \"Topic3\", \"Topic3\", \"Topic3\", \"Topic3\", \"Topic3\", \"Topic3\", \"Topic3\", \"Topic3\", \"Topic3\", \"Topic4\", \"Topic4\", \"Topic4\", \"Topic4\", \"Topic4\", \"Topic4\", \"Topic4\", \"Topic4\", \"Topic4\", \"Topic4\", \"Topic4\", \"Topic4\", \"Topic4\", \"Topic4\", \"Topic4\", \"Topic4\", \"Topic4\", \"Topic4\", \"Topic4\", \"Topic4\", \"Topic4\", \"Topic4\", \"Topic4\", \"Topic4\", \"Topic4\", \"Topic4\", \"Topic4\", \"Topic4\", \"Topic4\", \"Topic4\", \"Topic4\", \"Topic4\", \"Topic4\", \"Topic4\", \"Topic4\", \"Topic4\", \"Topic4\", \"Topic4\", \"Topic4\", \"Topic4\", \"Topic4\", \"Topic4\", \"Topic4\", \"Topic4\", \"Topic4\", \"Topic4\", \"Topic4\", \"Topic4\", \"Topic4\", \"Topic4\", \"Topic4\", \"Topic4\", \"Topic4\", \"Topic4\", \"Topic4\", \"Topic4\", \"Topic4\", \"Topic4\", \"Topic4\", \"Topic4\", \"Topic4\", \"Topic4\", \"Topic4\", \"Topic4\", \"Topic4\", \"Topic4\", \"Topic4\", \"Topic4\", \"Topic4\", \"Topic4\", \"Topic4\", \"Topic4\", \"Topic4\", \"Topic4\", \"Topic4\", \"Topic4\", \"Topic4\", \"Topic4\", \"Topic4\", \"Topic4\", \"Topic4\", \"Topic4\", \"Topic4\", \"Topic4\", \"Topic4\", \"Topic4\", \"Topic4\", \"Topic4\", \"Topic4\", \"Topic4\", \"Topic4\", \"Topic4\", \"Topic4\", \"Topic5\", \"Topic5\", \"Topic5\", \"Topic5\", \"Topic5\", \"Topic5\", \"Topic5\", \"Topic5\", \"Topic5\", \"Topic5\", \"Topic5\", \"Topic5\", \"Topic5\", \"Topic5\", \"Topic5\", \"Topic5\", \"Topic5\", \"Topic5\", \"Topic5\", \"Topic5\", \"Topic5\", \"Topic5\", \"Topic5\", \"Topic5\", \"Topic5\", \"Topic5\", \"Topic5\", \"Topic5\", \"Topic5\", \"Topic5\", \"Topic5\", \"Topic5\", \"Topic5\", \"Topic5\", \"Topic5\", \"Topic5\", \"Topic5\", \"Topic5\", \"Topic5\", \"Topic5\", \"Topic5\", \"Topic5\", \"Topic5\", \"Topic5\", \"Topic5\", \"Topic5\", \"Topic5\", \"Topic5\", \"Topic5\", \"Topic5\", \"Topic5\", \"Topic5\", \"Topic5\", \"Topic5\", \"Topic5\", \"Topic5\", \"Topic5\", \"Topic5\", \"Topic5\", \"Topic5\", \"Topic5\", \"Topic5\", \"Topic5\", \"Topic5\", \"Topic5\", \"Topic5\", \"Topic5\", \"Topic5\", \"Topic5\", \"Topic5\", \"Topic5\", \"Topic5\", \"Topic5\", \"Topic5\", \"Topic5\", \"Topic5\", \"Topic5\", \"Topic5\", \"Topic5\", \"Topic5\", \"Topic5\", \"Topic5\", \"Topic5\", \"Topic5\", \"Topic5\", \"Topic5\", \"Topic5\", \"Topic5\", \"Topic5\", \"Topic5\", \"Topic5\", \"Topic5\", \"Topic5\", \"Topic5\", \"Topic5\", \"Topic5\", \"Topic5\", \"Topic5\", \"Topic5\", \"Topic5\", \"Topic5\", \"Topic5\", \"Topic5\", \"Topic5\", \"Topic5\", \"Topic5\"], \"logprob\": [30.0, 29.0, 28.0, 27.0, 26.0, 25.0, 24.0, 23.0, 22.0, 21.0, 20.0, 19.0, 18.0, 17.0, 16.0, 15.0, 14.0, 13.0, 12.0, 11.0, 10.0, 9.0, 8.0, 7.0, 6.0, 5.0, 4.0, 3.0, 2.0, 1.0, -8.5843, -8.5843, -8.5843, -8.7663, -8.7663, -8.7663, -8.7663, -8.7663, -8.7663, -8.7663, -8.7663, -8.7663, -8.7663, -8.7663, -8.7663, -8.7663, -8.9889, -8.9889, -8.9889, -8.9889, -8.9889, -8.9889, -8.9889, -8.9889, -8.9889, -8.9889, -8.9889, -8.9889, -8.9889, -8.9889, -8.6024, -8.2184, -8.0437, -8.0437, -8.0437, -8.7795, -7.9821, -7.9821, -7.9821, -7.9821, -8.618, -8.4809, -8.0724, -8.0163, -6.3988, -4.7777, -5.0468, -7.8989, -7.9694, -5.5872, -4.4458, -4.0797, -7.7486, -8.2985, -4.6799, -6.0093, -5.9588, -7.3747, -7.8491, -4.8816, -4.356, -3.8809, -4.6437, -5.2647, -4.5823, -6.2764, -4.6889, -5.0711, -5.8049, -5.4402, -5.5515, -5.9057, -6.544, -5.4156, -4.9404, -5.9399, -6.4384, -6.9274, -6.177, -6.0031, -5.4724, -5.297, -5.715, -5.5354, -5.7937, -5.9238, -5.9114, -5.8494, -5.8916, -8.1351, -8.1351, -8.1351, -8.1351, -8.1351, -8.1351, -8.1351, -8.2527, -8.2527, -8.2527, -8.2527, -8.2527, -8.54, -8.722, -8.722, -8.722, -8.722, -8.722, -8.722, -8.722, -8.9446, -8.9446, -8.9446, -8.9446, -8.9446, -8.9446, -8.9446, -8.9446, -8.9446, -8.9446, -7.7946, -7.7946, -7.7946, -7.8768, -8.7318, -8.2968, -7.376, -7.4659, -7.2626, -7.2626, -7.8617, -7.4716, -8.0362, -7.4036, -7.4036, -7.4036, -7.4036, -5.8552, -5.4492, -4.4507, -5.2494, -4.3039, -4.2171, -5.1219, -5.4576, -5.8994, -4.6118, -3.8625, -5.9554, -5.5519, -4.9175, -5.937, -6.3158, -5.132, -4.9424, -6.1941, -6.5618, -6.0542, -5.1198, -5.8669, -5.9992, -5.5652, -5.8031, -4.8918, -5.9436, -5.4209, -5.8825, -5.5526, -5.0427, -5.0592, -5.0414, -5.6426, -5.5294, -5.7039, -5.7726, -5.755, -5.7657, -5.7308, -5.8261, -8.0276, -8.1453, -8.4325, -8.4325, -8.6145, -8.6145, -8.6145, -8.6145, -8.6145, -8.6145, -8.8372, -8.8372, -8.8372, -8.8372, -8.8372, -8.8372, -8.8372, -8.8372, -8.8372, -8.8372, -8.8372, -8.8372, -8.8372, -8.8372, -8.8372, -8.8372, -8.8372, -8.8372, -8.8372, -8.8372, -8.1893, -8.1893, -7.9938, -8.3291, -8.3291, -8.3292, -8.3292, -8.3291, -8.3291, -8.3291, -8.3291, -8.3291, -8.1105, -7.9298, -7.9298, -7.323, -8.0276, -8.0316, -4.4854, -8.2354, -7.6506, -7.7755, -7.7755, -7.7755, -7.7755, -7.7755, -4.0203, -4.1813, -4.3363, -5.2479, -6.2833, -5.8102, -7.0301, -5.8493, -5.0076, -6.6837, -5.1351, -4.8846, -6.4645, -6.1673, -6.2263, -5.3997, -6.5786, -5.1134, -5.0257, -5.8716, -6.5594, -6.187, -6.4308, -4.7444, -7.0584, -4.4266, -6.3424, -5.757, -6.555, -5.8507, -5.3008, -5.7524, -6.0883, -6.0699, -5.194, -5.5821, -5.8097, -5.4513, -5.9714, -6.0243, -5.5856, -5.9361, -6.073, -6.0036, -8.2387, -8.2387, -8.2387, -8.2387, -8.2387, -8.2387, -8.3926, -8.3926, -8.5746, -8.5746, -8.5746, -8.5746, -8.5746, -8.5746, -8.5746, -8.7973, -8.7973, -8.7973, -8.7973, -8.7973, -8.7973, -8.7973, -8.7973, -8.7973, -8.7973, -8.7973, -8.7973, -8.7973, -8.7973, -8.7973, -8.3978, -8.1494, -8.1494, -8.1494, -8.2892, -8.2892, -8.2892, -7.9679, -7.9689, -7.7325, -8.0675, -8.0675, -7.8225, -7.8225, -7.8225, -7.6024, -7.9973, -8.0881, -5.752, -3.9719, -8.1098, -8.1098, -6.4763, -6.0294, -5.6961, -6.0291, -4.8523, -3.9452, -5.7735, -6.6309, -4.6171, -5.7212, -4.8841, -5.7442, -6.1929, -5.4194, -6.7063, -6.0957, -5.626, -5.9172, -7.3723, -5.5853, -5.374, -4.8196, -6.2735, -6.1427, -5.9168, -6.0262, -6.4947, -5.5142, -6.0399, -5.833, -5.2017, -5.693, -5.8587, -5.6646, -5.5207, -5.9362, -5.4694, -5.7691, -5.8744, -5.8005, -5.9468, -7.9254, -7.9254, -7.9254, -8.043, -8.3303, -8.3303, -8.5123, -8.5123, -8.5123, -8.5123, -8.7349, -8.7349, -8.7349, -8.7349, -8.7349, -8.7349, -8.7349, -8.7349, -8.7349, -8.7349, -8.7349, -8.7349, -8.7349, -8.7349, -8.7349, -8.7349, -8.7349, -8.7349, -8.7349, -8.7349, -7.5925, -8.2269, -8.2269, -8.2269, -8.2269, -8.2269, -7.6759, -8.0051, -8.2305, -7.5692, -7.9293, -7.9293, -7.5826, -7.5826, -7.6525, -7.6528, -7.6534, -8.3895, -8.3895, -8.3895, -7.8078, -7.9608, -8.0499, -7.4245, -7.5746, -7.8207, -7.7131, -5.0749, -4.8324, -4.8284, -3.6582, -6.8866, -5.761, -7.5335, -7.5335, -7.5335, -7.5335, -5.5437, -6.6718, -5.4856, -7.5, -4.9584, -5.9555, -6.4318, -5.5462, -5.9381, -6.1579, -4.8006, -5.9594, -5.7307, -5.8971, -5.3654, -6.3173, -5.8654, -5.8083, -5.6594, -5.895, -6.2181, -6.2934, -5.2359, -6.2815, -6.4192, -4.9655, -5.1708, -4.9154, -5.8857, -5.1419, -5.765, -5.7165, -5.4723, -5.7218, -5.6552, -5.796, -5.6321, -5.8705, -5.8418], \"loglift\": [30.0, 29.0, 28.0, 27.0, 26.0, 25.0, 24.0, 23.0, 22.0, 21.0, 20.0, 19.0, 18.0, 17.0, 16.0, 15.0, 14.0, 13.0, 12.0, 11.0, 10.0, 9.0, 8.0, 7.0, 6.0, 5.0, 4.0, 3.0, 2.0, 1.0, 1.4604, 1.4604, 1.4604, 1.4591, 1.4591, 1.4591, 1.4591, 1.4591, 1.4591, 1.4591, 1.4591, 1.4591, 1.4591, 1.4591, 1.4591, 1.4591, 1.4572, 1.4572, 1.4572, 1.4572, 1.4572, 1.4572, 1.4572, 1.4572, 1.4572, 1.4572, 1.4572, 1.4572, 1.4572, 1.4572, 1.4428, 1.4233, 1.3996, 1.3996, 1.3996, 1.4458, 1.3755, 1.3755, 1.3755, 1.3755, 1.4279, 1.4126, 1.3718, 1.3437, 1.1228, 0.7888, 0.823, 1.3079, 1.3121, 0.7907, 0.5348, 0.3653, 1.2096, 1.3448, 0.4154, 0.7525, 0.7342, 1.1106, 1.2248, 0.3899, 0.202, 0.0458, 0.2714, 0.3892, 0.1609, 0.7001, 0.0334, 0.174, 0.4575, 0.3073, 0.3447, 0.4889, 0.7229, 0.1225, -0.1146, 0.3651, 0.6059, 0.8501, 0.4356, 0.3313, 0.0222, -0.1196, 0.1192, -0.0686, 0.1013, 0.2285, 0.1887, -0.0826, -0.4101, 1.5018, 1.5018, 1.5018, 1.5018, 1.5018, 1.5018, 1.5018, 1.5013, 1.5013, 1.5013, 1.5013, 1.5013, 1.4997, 1.4984, 1.4984, 1.4984, 1.4984, 1.4984, 1.4984, 1.4984, 1.4965, 1.4965, 1.4965, 1.4965, 1.4965, 1.4965, 1.4965, 1.4965, 1.4965, 1.4965, 1.4764, 1.4764, 1.4764, 1.4739, 1.489, 1.459, 1.3747, 1.3798, 1.361, 1.361, 1.4126, 1.3279, 1.4046, 1.3057, 1.3057, 1.3057, 1.3057, 1.035, 0.919, 0.7215, 0.8265, 0.6111, 0.526, 0.6449, 0.7074, 0.7932, 0.3688, 0.0641, 0.745, 0.5907, 0.3276, 0.6922, 0.8303, 0.3348, 0.2349, 0.7251, 0.8972, 0.6455, 0.1518, 0.5045, 0.573, 0.3263, 0.4028, -0.1695, 0.465, 0.1173, 0.4118, 0.1796, -0.2169, -0.5012, -0.5964, 0.105, -0.048, 0.1304, 0.2339, 0.1799, 0.1293, -0.6355, -0.1722, 1.652, 1.6514, 1.6497, 1.6497, 1.6484, 1.6484, 1.6484, 1.6484, 1.6484, 1.6484, 1.6464, 1.6464, 1.6464, 1.6464, 1.6464, 1.6464, 1.6464, 1.6464, 1.6464, 1.6464, 1.6464, 1.6464, 1.6464, 1.6464, 1.6464, 1.6464, 1.6464, 1.6464, 1.6464, 1.6464, 1.6057, 1.6057, 1.5783, 1.5998, 1.5998, 1.5998, 1.5998, 1.5983, 1.5983, 1.5983, 1.5983, 1.5983, 1.5674, 1.5463, 1.5463, 1.462, 1.5474, 1.5387, 1.009, 1.5615, 1.4521, 1.4641, 1.4641, 1.4641, 1.4641, 1.4641, 0.5377, 0.541, 0.4895, 0.6437, 0.9637, 0.7788, 1.1814, 0.7581, 0.4593, 1.0465, 0.4031, 0.2927, 0.8692, 0.7336, 0.7518, 0.3326, 0.8615, 0.1317, -0.0451, 0.4227, 0.7756, 0.5651, 0.7027, -0.2994, 1.048, -0.4999, 0.6132, 0.2495, 0.7373, 0.2494, -0.2054, 0.1437, 0.3941, 0.3695, -0.4508, -0.0876, 0.1252, -0.2791, 0.1712, 0.2669, -0.6706, -0.1079, 0.3036, -0.3497, 1.6825, 1.6825, 1.6825, 1.6825, 1.6825, 1.6825, 1.6815, 1.6815, 1.6802, 1.6802, 1.6802, 1.6802, 1.6802, 1.6802, 1.6802, 1.6782, 1.6782, 1.6782, 1.6782, 1.6782, 1.6782, 1.6782, 1.6782, 1.6782, 1.6782, 1.6782, 1.6782, 1.6782, 1.6782, 1.6782, 1.6762, 1.6379, 1.6379, 1.6379, 1.6324, 1.6324, 1.6324, 1.598, 1.5969, 1.5704, 1.6033, 1.6033, 1.5638, 1.5638, 1.5638, 1.4946, 1.5676, 1.5818, 0.9811, 0.473, 1.5613, 1.5613, 1.0582, 0.9024, 0.7623, 0.8526, 0.4193, -0.0185, 0.6696, 0.9991, 0.2087, 0.6202, 0.2113, 0.547, 0.7305, 0.3128, 0.9369, 0.5981, 0.3448, 0.4594, 1.2328, 0.249, 0.1075, -0.2616, 0.5884, 0.5072, 0.3166, 0.3684, 0.6622, -0.0197, 0.3376, 0.1736, -0.4586, -0.0391, 0.1267, -0.1264, -0.3433, 0.1639, -0.7471, -0.2747, -0.1268, -0.6283, -0.3803, 1.7561, 1.7561, 1.7561, 1.7555, 1.7538, 1.7538, 1.7525, 1.7525, 1.7525, 1.7525, 1.7505, 1.7505, 1.7505, 1.7505, 1.7505, 1.7505, 1.7505, 1.7505, 1.7505, 1.7505, 1.7505, 1.7505, 1.7505, 1.7505, 1.7505, 1.7505, 1.7505, 1.7505, 1.7505, 1.7505, 1.6489, 1.7042, 1.7042, 1.7042, 1.7042, 1.7021, 1.6394, 1.6746, 1.6983, 1.6028, 1.6471, 1.6471, 1.5848, 1.5848, 1.587, 1.5867, 1.5861, 1.6924, 1.6924, 1.6924, 1.5868, 1.613, 1.6293, 1.5046, 1.532, 1.5695, 1.5276, 0.7533, 0.6621, 0.6531, 0.2685, 1.2752, 0.8291, 1.4477, 1.4477, 1.4477, 1.4477, 0.6622, 1.0691, 0.4997, 1.4324, 0.2138, 0.6813, 0.884, 0.4245, 0.6232, 0.7384, -0.0783, 0.5553, 0.4145, 0.4804, 0.129, 0.7012, 0.397, 0.3441, 0.2356, 0.3964, 0.62, 0.654, -0.1406, 0.6309, 0.7357, -0.4075, -0.2557, -0.4704, 0.3058, -0.3988, 0.1311, 0.0503, -0.2949, -0.0679, -0.4101, -0.0484, -0.8063, 0.021, -0.8612]}, \"token.table\": {\"Topic\": [3, 4, 5, 1, 3, 4, 5, 1, 2, 3, 4, 5, 2, 3, 4, 5, 5, 1, 2, 3, 4, 5, 2, 4, 1, 2, 2, 1, 2, 3, 4, 5, 5, 4, 3, 1, 2, 4, 1, 3, 2, 3, 5, 4, 2, 3, 4, 5, 1, 2, 3, 4, 5, 2, 4, 1, 2, 3, 4, 5, 4, 1, 2, 3, 4, 5, 2, 1, 2, 3, 4, 5, 4, 1, 4, 1, 2, 3, 4, 5, 1, 2, 3, 4, 5, 2, 1, 5, 2, 4, 2, 5, 1, 2, 3, 4, 5, 1, 1, 2, 3, 4, 5, 3, 5, 1, 2, 3, 4, 5, 3, 1, 2, 3, 4, 1, 2, 3, 4, 5, 1, 2, 3, 4, 5, 4, 5, 2, 4, 1, 1, 2, 4, 5, 2, 3, 1, 1, 2, 3, 4, 5, 1, 2, 3, 4, 5, 1, 1, 2, 3, 4, 5, 1, 2, 3, 5, 1, 2, 3, 4, 5, 2, 3, 1, 4, 1, 3, 4, 1, 2, 3, 4, 5, 1, 5, 1, 2, 3, 4, 5, 5, 4, 4, 4, 1, 2, 4, 5, 1, 2, 3, 4, 5, 2, 3, 1, 2, 3, 4, 5, 1, 5, 2, 2, 3, 5, 1, 4, 3, 1, 2, 3, 4, 5, 1, 2, 3, 4, 5, 5, 1, 2, 3, 4, 5, 1, 1, 2, 3, 4, 5, 5, 3, 2, 3, 4, 1, 2, 3, 4, 5, 3, 4, 5, 4, 5, 5, 5, 5, 3, 5, 3, 5, 1, 5, 5, 1, 1, 2, 3, 4, 5, 5, 4, 1, 1, 2, 3, 4, 5, 1, 2, 3, 4, 5, 3, 5, 4, 1, 2, 3, 4, 5, 1, 2, 3, 4, 5, 1, 2, 3, 4, 5, 4, 2, 5, 2, 5, 5, 4, 2, 3, 4, 5, 2, 1, 2, 3, 4, 5, 3, 3, 3, 4, 1, 4, 3, 4, 4, 1, 2, 3, 4, 5, 1, 2, 3, 4, 5, 1, 2, 3, 4, 5, 4, 2, 1, 3, 4, 1, 2, 3, 4, 5, 1, 2, 3, 4, 5, 3, 2, 3, 1, 2, 3, 4, 5, 2, 3, 1, 2, 3, 4, 5, 2, 1, 2, 3, 4, 5, 1, 2, 3, 4, 5, 3, 5, 1, 3, 4, 1, 2, 3, 4, 5, 3, 1, 2, 3, 4, 5, 1, 2, 3, 4, 5, 1, 2, 3, 4, 3, 2, 1, 2, 3, 4, 5, 3, 3, 3, 1, 3, 4, 4, 1, 1, 2, 3, 4, 5, 1, 2, 3, 4, 5, 1, 5, 1, 2, 3, 4, 5, 5, 1, 5, 5, 3, 1, 2, 3, 4, 5, 1, 2, 3, 4, 5, 5, 2, 3, 4, 2, 1, 2, 3, 4, 5, 1, 2, 3, 4, 5, 4, 4, 1, 2, 3, 4, 5, 1, 4, 1, 1, 2, 3, 4, 5, 3, 4, 5, 5, 1, 2, 3, 4, 5, 1, 2, 3, 4, 5, 1, 2, 3, 4, 5, 3, 1, 2, 3, 4, 5, 1, 1, 2, 3, 4, 5, 2, 5, 1, 1, 2, 3, 4, 5, 1, 2, 3, 4, 5, 5, 4, 1, 2, 3, 4, 5, 3, 4, 1, 1, 2, 3, 4, 5, 1, 2, 3, 4, 5, 1, 2, 3, 4, 5, 4, 3, 4, 5, 1, 2, 3, 4, 5, 5, 3, 1, 5, 1, 2, 3, 4, 5, 3, 1, 5, 3, 3, 1, 1, 2, 3, 4, 5, 3, 2, 2, 1, 5, 5, 1, 2, 3, 4, 5, 1, 2, 3, 4, 5, 4, 1, 2, 3, 4, 5, 1, 5, 2, 2, 3, 3, 1, 5, 3, 4, 5, 5, 1, 2, 3, 4, 5, 2, 1, 2, 3, 4, 5, 2, 2, 3, 4, 5, 1, 2, 3, 4, 5, 1, 1, 2, 3, 4, 5, 1, 2, 3, 4, 5, 1, 1, 3, 5, 1, 2, 3, 4, 5, 2, 2, 3, 1, 2, 3, 4, 5, 1, 2, 3, 4, 5, 4, 2, 3, 1, 2, 3, 4, 5, 1, 2, 1, 2, 3, 4, 5, 5, 2, 3, 4, 5, 2, 3, 4, 5, 1, 2, 3, 4, 5, 1, 1, 2, 3, 4, 5, 3, 3, 1, 2, 3, 4, 5, 3, 5, 5, 5, 1, 3, 5, 1, 3, 5, 5, 3, 1, 2, 3, 4, 5, 1, 2, 3, 4, 5, 1, 3, 5, 1, 2, 3, 4, 5, 2, 3, 4, 5, 1, 2, 3, 4, 5, 1, 2, 3, 4, 5, 1, 1, 2, 3, 4, 5, 4, 4, 1, 1, 4, 5, 5, 1, 1, 2, 3, 4, 5, 2, 1, 2, 3, 4, 5, 1, 2, 3, 4, 5, 3, 4, 5, 3, 5, 1, 3, 5, 1, 2, 3, 4, 5, 1, 3, 5, 5, 3, 4, 5, 4, 4, 2, 4, 1, 2, 3, 4, 5, 1, 5, 1, 1, 4, 1, 2, 3, 4, 5, 5, 3, 1, 5, 1, 2, 5, 1, 5, 3, 1, 2, 3, 4, 5, 1, 3, 2, 5, 4, 1, 2, 3, 4, 5, 3, 1, 1, 2, 3, 4, 5, 1, 2, 3, 4, 5, 1, 5, 1, 2, 3, 4, 5, 1, 2, 3, 4, 5, 5, 1, 2, 3, 4, 5, 2, 3, 4, 5, 1, 2, 3, 4, 5, 5, 4, 3, 4, 1, 2, 3, 4, 5, 1, 1, 2, 3, 4, 5, 4, 1, 2, 3, 4, 5, 1, 2, 3, 4, 5, 1, 2, 3, 4, 5, 3, 1, 2, 3, 4, 5, 1, 2, 3, 4, 5, 1, 2, 3, 4, 5, 1, 4, 1, 2, 3, 4, 5, 1, 1, 2, 3, 4, 5, 3, 5, 2, 4, 1, 2, 3, 4, 5, 1, 1, 2, 3, 4, 5], \"Freq\": [0.08433661084386873, 0.8433661084386873, 0.08433661084386873, 0.05356758792628528, 0.05356758792628528, 0.16070276377885584, 0.6963786430417086, 0.20342252667269695, 0.44431762404825914, 0.21948219983106776, 0.09635803895022486, 0.03747257070286523, 0.8442345999708409, 0.09380384444120454, 0.04690192222060227, 0.04690192222060227, 1.012579804410755, 0.22459911695794524, 0.26470610212900686, 0.2165777199237329, 0.1336899505702055, 0.1604279406842466, 0.890640914516796, 0.0890640914516796, 0.8928675098564096, 0.9687026912680149, 0.9687026912680149, 0.3229306275047431, 0.20332669139187529, 0.16345871268758602, 0.22326068074401992, 0.0877095531494364, 0.8725522445305209, 1.002589583870724, 1.0107059768081887, 0.8724444941502396, 0.10905556176877995, 0.10905556176877995, 0.10156859587587944, 0.9141173628829149, 0.97522613929126, 0.10200870905508527, 0.9180783814957675, 1.0067713650672465, 0.9714445786267102, 0.8011781535235745, 0.07283437759305222, 0.14566875518610445, 0.2775416729514836, 0.18923295883055696, 0.24600284647972406, 0.21761790265514053, 0.0693854182378709, 0.11199235498895604, 0.8959388399116484, 0.05318401950487912, 0.2340096858214681, 0.15955205851463733, 0.12764164681170986, 0.4148353521380571, 1.002589583870724, 0.2124384504112559, 0.4226169173074984, 0.08135940654048097, 0.10395924169061457, 0.18079868120106884, 0.9687026912680149, 0.044275107011191014, 0.3246841180820675, 0.0737918450186517, 0.47226780811937086, 0.08855021402238203, 1.0079728230315843, 0.845795106898733, 0.07048292557489443, 0.2309152495352749, 0.27050072088417915, 0.09896367837226067, 0.07917094269780854, 0.31668377079123416, 0.15290467489450743, 0.21066866318798802, 0.10023750909751043, 0.20557184069150444, 0.3295945214392716, 0.9687026912680149, 0.9015701314604629, 0.08196092104186027, 0.07759200356701039, 0.8535120392371143, 0.9687026912680149, 1.012579804410755, 0.21201653819511154, 0.4509558113991261, 0.09422957253116068, 0.030288076885015933, 0.2153818800712244, 0.9735579791043802, 0.2730019051321802, 0.2384447019508916, 0.13131737208889682, 0.12786165177076794, 0.23498898163276272, 1.0107060770558391, 0.8725522476436428, 0.13465383083155646, 0.5116845571599146, 0.17056151905330486, 0.008976922055437098, 0.17056151905330486, 1.0142581543767941, 0.2317080004956289, 0.07723600016520964, 0.03861800008260482, 0.6178880013216771, 0.20829863568505558, 0.21735509810614495, 0.03622584968435749, 0.19018571084287683, 0.3622584968435749, 0.540154033278238, 0.1350385083195595, 0.20255776247933924, 0.06751925415977975, 0.06751925415977975, 1.0050945887006442, 1.0189921614575284, 0.8840766047829622, 0.09823073386477359, 0.9759197789949497, 0.9759197789949497, 0.9687026912680149, 0.8970540738393799, 0.11213175922992248, 0.9687026912680149, 1.0149560430716706, 0.9759197789949497, 0.16418115593433982, 0.2405444842758932, 0.24818081711004855, 0.32072597903452427, 0.02672716491954369, 0.28911339689885585, 0.18941912210614695, 0.15286455468215368, 0.1262794147374313, 0.2425894019955917, 0.9759197789949497, 0.2077566811354386, 0.30421514023403506, 0.34873442904877194, 0.08161869616035088, 0.05935905175298246, 0.8022712144255734, 0.061713170340428725, 0.061713170340428725, 0.061713170340428725, 0.28203966303572786, 0.13427247115815752, 0.32657224140979013, 0.1423693035898052, 0.11470512611500894, 0.9769757804914736, 1.0132516942524494, 0.10082458522349771, 0.9074212670114794, 0.06315355656032355, 0.1263071131206471, 0.8209962352842062, 0.2749746641110336, 0.3071668199093985, 0.21729705163896312, 0.08584574879563976, 0.11401388511920905, 0.9037107878073818, 0.08215552616430744, 0.705616611628577, 0.05226789715767237, 0.13066974289418093, 0.06533487144709046, 0.03920092286825428, 0.8725521485345594, 0.8967124752442797, 0.8967124722633536, 1.0050945887006442, 0.1067916607080872, 0.0533958303540436, 0.0533958303540436, 0.7475416249566105, 0.2244084744302768, 0.15756339694040714, 0.18621128729320843, 0.13369015497973938, 0.3008028487044136, 0.9766824924094387, 1.0142581674521944, 0.4793345500580167, 0.10271454644100357, 0.07418272798516924, 0.25678636610250893, 0.09130181905866984, 0.13551669304409458, 0.8131001582645675, 0.9710409856235386, 0.9745697784238807, 0.9167146472242094, 0.10185718302491216, 0.9775007643593215, 1.0079728230315843, 1.0107060770558391, 0.32664955024128656, 0.1774710154854234, 0.22119575843110742, 0.07973335478330616, 0.19547532140423446, 0.18262557485494227, 0.1609988620431728, 0.1706107344039592, 0.12014840450983044, 0.36525114970988454, 1.012579804410755, 0.30278423224840967, 0.40885514163479525, 0.09739238043659038, 0.057856859665301213, 0.13307077723019278, 0.8928675103672441, 0.18778066343418082, 0.5079313027318005, 0.08311603135611281, 0.05541068757074188, 0.16623206271222563, 1.012579804410755, 1.0142581630937275, 0.8654356642997545, 0.03933798474089793, 0.1180139542226938, 0.18394507264741886, 0.465610965138779, 0.12646223744510046, 0.2069382067283462, 0.011496567040463678, 0.8011781535235745, 0.07283437759305222, 0.14566875518610445, 1.008374236712621, 1.012579804410755, 1.012579804410755, 1.0151350018707679, 1.012579804410755, 0.07296917267295931, 0.8756300720755117, 1.0107059768081887, 1.012579804410755, 0.22498444787549188, 0.7311994555953486, 0.8725522445305209, 0.9759197789949497, 0.3635657982370215, 0.07790695676507604, 0.14468434827799836, 0.1595237686142033, 0.25598000079953553, 1.012579804410755, 1.0079728230315843, 0.9780121009537752, 0.14645118066001528, 0.21154059428668873, 0.11390647384667855, 0.016272353406668365, 0.5044429556067193, 0.16623613056168005, 0.18701564688189007, 0.39481081008399016, 0.14545661424147005, 0.10389758160105003, 0.8901007659885674, 0.12715725228408106, 0.9083785701487122, 0.3768316113686219, 0.08468126098171279, 0.0973834501289697, 0.2667459720923953, 0.1735965850125112, 0.4761086617016573, 0.03038991457670153, 0.23298934508804506, 0.12155965830680612, 0.13168962983237328, 0.14211484155308798, 0.17764355194135997, 0.1350090994754336, 0.22027800440728637, 0.31975839349444796, 1.0075710274350338, 0.9710409856235386, 1.012579804410755, 0.9752260428634848, 1.0144964637733647, 0.8705428839390689, 1.008374236712621, 0.9710409856235386, 0.8011781507497385, 0.07283437734088533, 0.14566875468177065, 0.9752260428634848, 0.156581916893736, 0.2826112646374747, 0.14894377460623667, 0.15276284574998633, 0.25587776663122713, 1.0107059768081887, 1.0107060770558391, 1.0132516942524494, 1.002589583870724, 0.9759197789949497, 1.0050945887006442, 1.0132516942524494, 1.007571220465862, 1.0050945887006442, 0.2579706796728305, 0.09380751988102927, 0.5393932393159183, 0.023451879970257317, 0.09380751988102927, 0.1349241658290791, 0.40148166417433295, 0.22706749859040143, 0.10859749932584416, 0.13163333251617473, 0.2081080418258418, 0.058270251711235704, 0.19978372015280813, 0.25805397186404383, 0.278864776046628, 1.007571220465862, 0.9745697784238807, 0.09225951863019913, 0.9225951863019912, 1.002589583870724, 0.10922553773450103, 0.12908472641350122, 0.49647971697500465, 0.11915513207400112, 0.1489439150925014, 0.24153167737340836, 0.2365072442631146, 0.11556196153675705, 0.18159736812918964, 0.22502282572530022, 1.0157684232673807, 0.9752260428634848, 1.015768192096471, 0.25074609140240606, 0.24744680072605862, 0.14846808043563517, 0.09238013893772855, 0.2606439634314484, 0.9048384912888595, 0.07540320760740496, 0.23856750148256212, 0.18687787616134033, 0.327632702036052, 0.08747475054360611, 0.15904500098837474, 0.9769758474889285, 0.42163760529489724, 0.21081880264744862, 0.18649355618812763, 0.08919257035084364, 0.08919257035084364, 0.5079731081878004, 0.0791105660292476, 0.12907513404771975, 0.1873671300692706, 0.09576542203540499, 0.0850467063487614, 0.850467063487614, 0.0924538994701922, 0.8320850952317298, 0.0462269497350961, 0.15087474239047846, 0.20116632318730462, 0.1796127885600934, 0.38077911174739804, 0.08621413850884484, 1.0107060770558391, 0.17382077993535724, 0.30023589261561706, 0.06320755634012991, 0.11851416813774357, 0.3476415598707145, 0.17716575366664458, 0.2024751470475938, 0.12654696690474612, 0.2109116115079102, 0.2840276368306524, 0.2184607566684457, 0.1310764540010674, 0.14564050444563045, 0.4951777151151436, 1.0107060770558391, 0.9710409856235386, 0.07869238211095538, 0.3450358292557274, 0.33292930893096506, 0.09079890243571774, 0.15133150405952955, 1.0132516942524494, 1.0149561104666784, 1.0107060770558391, 0.9735579791043802, 1.0107059768081887, 1.002589583870724, 1.0050945887006442, 0.9759197789949497, 0.08729047015939373, 0.4564044582619729, 0.14465277912128102, 0.09851353060845863, 0.21323814853223325, 0.9759197789949497, 0.06351438848400155, 0.8256870502920202, 0.06351438848400155, 0.06351438848400155, 0.9015700678670615, 0.08196091526064196, 0.2662733542973377, 0.08574904629914265, 0.13990633869860117, 0.39715347759602915, 0.11282769249887191, 1.012579804410755, 0.9759197789949497, 1.012579804410755, 1.0151350018707679, 1.0142581630937275, 0.26072227819810156, 0.24993377013473184, 0.2858954636792976, 0.1636257056277741, 0.04135594757625059, 0.15005483024006552, 0.28010234978145565, 0.14005117489072783, 0.11504203651738357, 0.32011697117880644, 1.012579804410755, 0.8654357199578807, 0.03933798727081276, 0.11801396181243828, 0.9710409856235386, 0.19318912306546282, 0.4579297731922082, 0.1216375960041803, 0.18603397035933456, 0.03577576353064126, 0.6851219852073694, 0.03425609926036847, 0.06851219852073694, 0.06851219852073694, 0.13702439704147387, 1.002589583870724, 1.002589583870724, 0.11125274846549231, 0.3944415627412909, 0.1264235778016958, 0.1567652364741028, 0.21239161070684895, 0.9735579791043802, 1.002589583870724, 0.9786993981150441, 0.15307104356182422, 0.3681979155946582, 0.21098981680143336, 0.107563436016417, 0.16134515402462551, 0.14581316986280335, 0.07290658493140167, 0.8019724342454185, 1.0151350018707679, 0.1987592104864927, 0.1479138310597155, 0.2819607404575827, 0.23573766825142156, 0.13404690939786718, 0.10670683114076879, 0.034421558432506064, 0.5232076881740921, 0.14112838957327486, 0.19620288306528455, 0.3580432574027398, 0.1632256026394843, 0.16849094466011283, 0.2737977850726834, 0.03685739414439968, 1.0142581630937275, 0.24088224379636433, 0.184676386910546, 0.02810292844290917, 0.3452645494414555, 0.20073520316363694, 0.9735579791043802, 0.10496901504287447, 0.3072263854913399, 0.3635512228314189, 0.05120439758188998, 0.17665517165752043, 0.9752260428634848, 1.0144964081844725, 0.9735579791043802, 0.23856119755083305, 0.10843690797765139, 0.41206025031507526, 0.1409679803709468, 0.09759321717988624, 0.08036704651889512, 0.23278730715817897, 0.16350537050395902, 0.26050008181986695, 0.26327135928603573, 1.012579804410755, 1.002589583870724, 0.3329337004845553, 0.17808081653825047, 0.16259552814362002, 0.09291173036778286, 0.23227932591945716, 1.0107060770558391, 1.0050945887006442, 0.9735579791043802, 0.17454578797248643, 0.13660105145672852, 0.4022142070670339, 0.182134735275638, 0.09865631494097059, 0.16828779546878467, 0.3330695951986363, 0.08764989347332534, 0.08063790199545932, 0.3330695951986363, 0.08049243817494788, 0.12878790107991658, 0.5473485795896456, 0.08049243817494788, 0.1770833639848853, 1.0050945887006442, 0.08433660958589789, 0.843366095858979, 0.08433660958589789, 0.22215195306892402, 0.33322792960338604, 0.2910956626420384, 0.11107597653446201, 0.042132266961347656, 1.012579804410755, 1.0107060770558391, 0.22498441362950333, 0.7311993442958858, 0.17489149097415999, 0.2022182864388725, 0.15303005460239, 0.30606010920478, 0.1584954136953325, 1.0107059768081887, 0.9015700678670615, 0.08196091526064196, 1.0107059768081887, 1.0107060770558391, 0.9735579791043802, 0.16864496339800325, 0.07227641288485853, 0.4457045461232943, 0.2168292386545756, 0.08432248169900163, 1.015768613477115, 0.9769758474889285, 0.9745697784238807, 0.13551669304409458, 0.8131001582645675, 1.0144964030972055, 0.1104750289061575, 0.5401001413189922, 0.13502503532974805, 0.12275003211795278, 0.07365001927077167, 0.1516077757678414, 0.1860640884423508, 0.14471651323293952, 0.4341495396988186, 0.08269515041882258, 1.006771557791797, 0.1360910139995997, 0.5567359663619987, 0.09072734266639979, 0.07423146218159983, 0.14021498412079966, 0.10173527602474942, 0.8138822081979954, 0.9710409856235386, 0.10137952060672731, 0.9124156854605457, 0.8884855833431134, 0.8936768988817463, 0.08936768988817463, 0.06807473224959608, 0.06807473224959608, 0.884971519244749, 0.904760901484696, 0.31259591625431027, 0.24608614683849958, 0.11306660800687819, 0.16184043891180602, 0.16405743122566638, 0.9745697784238807, 0.20548381003669122, 0.17814476234940613, 0.31131238172940773, 0.2275314291393405, 0.07672571447721947, 0.9726062739133852, 0.8142618178725505, 0.08571177030237373, 0.08571177030237373, 0.042855885151186865, 0.1528233443237308, 0.2663492572499308, 0.2663492572499308, 0.2532501134507539, 0.06331252836268847, 0.9759197789949497, 0.11326338155369854, 0.07722503287752173, 0.16474673680537968, 0.24712010520806954, 0.3964218354379449, 0.3499069283966728, 0.11779045114343442, 0.15589912651336907, 0.228652052219608, 0.14897027644610825, 0.9735579791043802, 0.0728235680598467, 0.0728235680598467, 0.8738828167181604, 0.10303465976792901, 0.24286741231011838, 0.17663084531644974, 0.14719237109704145, 0.3311828349683432, 0.9687026912680149, 0.9687026912680149, 1.0107060770558391, 0.46215798040924577, 0.28032533237937857, 0.10606904468408919, 0.1287981256878226, 0.0227290810037334, 0.29333239508423664, 0.11555518594227504, 0.12444404639937312, 0.35999884851247227, 0.10666632548517696, 1.002589583870724, 0.9745697784238807, 1.0107060770558391, 0.13884943101957037, 0.0874237158271369, 0.4165482930587111, 0.20056028925049052, 0.15941971709654376, 0.9759197789949497, 0.9752260428634848, 0.25868908614375197, 0.2538537761223735, 0.14022399061997773, 0.23693019104754856, 0.11121213049170646, 1.012579804410755, 0.814261801516373, 0.08571176858067084, 0.08571176858067084, 0.04285588429033542, 0.9687026912680149, 0.8011781507497385, 0.07283437734088533, 0.14566875468177065, 0.1571492944959936, 0.1361960552298611, 0.40858816568958334, 0.10476619633066239, 0.19905577302825855, 0.8928675103672441, 0.5068249714736824, 0.14612836768766754, 0.11283329656895849, 0.1257813797817898, 0.10728411804917365, 1.0157681183267668, 1.0107060770558391, 0.2028650283157211, 0.10867769374056487, 0.08694215499245189, 0.4564463137103724, 0.14490359165408648, 1.017094508241284, 1.012579804410755, 1.0151350018707679, 1.0197096828078087, 0.07282352959987098, 0.07282352959987098, 0.8738823551984518, 0.0728234541734003, 0.0728234541734003, 0.8738814500808035, 1.019709764542964, 1.0107060770558391, 0.7695620005582323, 0.05496871432558802, 0.05496871432558802, 0.05496871432558802, 0.05496871432558802, 0.2049837639567116, 0.2751097884682182, 0.053943095778082005, 0.12406912028958861, 0.3398415034019166, 0.09225951986323937, 0.9225951986323937, 0.8706770448243683, 0.25435103469958104, 0.2517818323288782, 0.12075251142303342, 0.15415214224217033, 0.2183822015097413, 0.8142618046022798, 0.08571176890550314, 0.08571176890550314, 0.04285588445275157, 0.20388856947859824, 0.09751192453324263, 0.3811829777208576, 0.11524136535746857, 0.20388856947859824, 0.22701375705677407, 0.2594442937791704, 0.12611875392043004, 0.2522375078408601, 0.13692893282789548, 0.9735579791043802, 0.11776076548801341, 0.28147695165427594, 0.24413817235319854, 0.22116046201407397, 0.13786626203474742, 1.002589583870724, 1.002589583870724, 0.9735579791043802, 0.9735579791043802, 0.8970540827345765, 0.11213176034182207, 1.012579804410755, 0.9735579791043802, 0.2712009713055073, 0.3751342776740849, 0.12179684340067692, 0.11692496966464984, 0.11530101175264082, 0.9763312719747372, 0.12563992155467918, 0.1199290160294665, 0.21701440995808224, 0.33694342598754873, 0.19988169338244416, 0.23387550698312395, 0.4905681365987478, 0.08556420987187462, 0.10838133250437451, 0.07985992921374964, 0.08433661084386873, 0.8433661084386873, 0.08433661084386873, 0.10200870803391307, 0.9180783723052176, 0.8353856185595376, 0.07594414714177615, 0.07594414714177615, 0.3411658410222575, 0.1857234164144834, 0.13525509673663463, 0.17764848526602758, 0.161498622969116, 0.0637591715194428, 0.1275183430388856, 0.7651100582333136, 1.019709764542964, 0.8011781535235745, 0.07283437759305222, 0.14566875518610445, 1.002589583870724, 1.002589583870724, 0.9710409856235386, 1.0079728230315843, 0.3326440506733971, 0.12233105486720944, 0.14161476794972522, 0.29648708864368, 0.10726565402149399, 0.9015701335675884, 0.08196092123341712, 0.9735579791043802, 0.977500839927288, 1.002589583870724, 0.2274182536284272, 0.15161216908561814, 0.4548365072568544, 0.08663552519178179, 0.07580608454280907, 1.012579804410755, 1.0132516942524494, 0.9735579791043802, 1.012579804410755, 0.08466965286918697, 0.08466965286918697, 0.8466965286918697, 0.22498441326865146, 0.7311993431231172, 1.0132516942524494, 0.48904923502626374, 0.15282788594570743, 0.06724426981611126, 0.20784592488616208, 0.07947050069176785, 0.9799575515307872, 0.8884855833431134, 0.9752260428634848, 1.0168457042306176, 1.0066161934294082, 0.1760376262304778, 0.3520752524609556, 0.18033122687024555, 0.1502760223918713, 0.13739522047256802, 0.9030849931894213, 0.9758553751837449, 0.28670201135338363, 0.09789824777920418, 0.03496365992114435, 0.21677469151109496, 0.35662933119567236, 0.1484987847780123, 0.09503922225792787, 0.05345956252008442, 0.4930159654630008, 0.2078982986892172, 0.22498441362950333, 0.7311993442958858, 0.3933087172963022, 0.32020683528573296, 0.18223990304043322, 0.03088811915939546, 0.07310188201056926, 0.2362936418723593, 0.6254831696621276, 0.027799251984983446, 0.06949812996245862, 0.041698877977475166, 1.0168457042306176, 0.23581991457554397, 0.07401646953830941, 0.17557395099785025, 0.18073789073308114, 0.33393476954493084, 0.8142618183003383, 0.08571177034740403, 0.08571177034740403, 0.042855885173702014, 0.07814611942490803, 0.02604870647496934, 0.6251689553992642, 0.20838965179975472, 0.05209741294993868, 0.9043262286597836, 0.9083715972299642, 1.0178093112900037, 1.0079728230315843, 0.07436310025942997, 0.0991508003459066, 0.17351390060533656, 0.02478770008647665, 0.6196925021619163, 0.9804193836415662, 0.14560935950669202, 0.15884657400730037, 0.11913493050547529, 0.5294885800243346, 0.03971164350182509, 1.008374236712621, 0.2159901545634628, 0.30975332243597375, 0.3013816110187853, 0.09878619472282406, 0.07367106047125863, 0.20431761340050547, 0.28078003313934496, 0.255710387323332, 0.13161564053406793, 0.127855193661666, 0.12475346420997592, 0.23287313319195505, 0.2578238260339502, 0.2910914164899438, 0.09148587375398234, 1.0107060770558391, 0.34018565645291743, 0.25754946460200634, 0.08263619185091112, 0.2809630522930978, 0.038563556197091856, 0.29727516643102775, 0.06756253782523358, 0.07431879160775694, 0.33105643534364454, 0.22971262860579417, 0.32323878631190595, 0.10184235733114845, 0.2745315719361393, 0.19925678608268177, 0.0974144287515333, 0.9759197789949497, 1.0079728230315843, 0.5260559077898952, 0.1978972224542939, 0.12274637848430887, 0.06513073144065369, 0.08767598463164919, 0.9759197789949497, 0.2642704520666867, 0.4251307272377134, 0.04021506879275667, 0.15511526534349002, 0.11490019655073336, 0.07855905047483701, 0.864149555223207, 0.8933381357682599, 0.08933381357682599, 0.16860581670680158, 0.2739844521485526, 0.4004388146786538, 0.0632271812650506, 0.09132815071618419, 0.9775007643593215, 0.2540941737046672, 0.07259833534419063, 0.20872021411454805, 0.3539168848029293, 0.09982271109826212], \"Term\": [\"abogar_migrant_venezolano\", \"abogar_migrant_venezolano\", \"abogar_migrant_venezolano\", \"actriz\", \"actriz\", \"actriz\", \"actriz\", \"ac\\u00e1\", \"ac\\u00e1\", \"ac\\u00e1\", \"ac\\u00e1\", \"ac\\u00e1\", \"adjuntos_tema_eltoro_malcon\", \"adjuntos_tema_eltoro_malcon\", \"adjuntos_tema_eltoro_malcon\", \"adjuntos_tema_eltoro_malcon\", \"agregar_aunque\", \"ahora\", \"ahora\", \"ahora\", \"ahora\", \"ahora\", \"ahora_poder_acceder\", \"ahora_poder_acceder\", \"aldair_rodr\\u00edguez_sensible_bajo\", \"alegre_subir_\\u00e1nimo\", \"alexander_miguel\", \"alguno\", \"alguno\", \"alguno\", \"alguno\", \"alguno\", \"alguno_imagen_v\\u00eddeo_esperar\", \"altura_miembro\", \"amanecer\", \"amarillo\", \"amarillo\", \"amarillo\", \"amarillo_tampoco_lateral_gabriel\", \"amarillo_tampoco_lateral_gabriel\", \"americo_tener_nacional\", \"am\\u00e9rica_latina_pensar\", \"am\\u00e9rica_latina_pensar\", \"am\\u00e9rica_tratar_igualar_carta\", \"anotar_primero\", \"aprobada_llegar_poblaci\\u00f3n\", \"aprobada_llegar_poblaci\\u00f3n\", \"aprobada_llegar_poblaci\\u00f3n\", \"aqu\\u00ed\", \"aqu\\u00ed\", \"aqu\\u00ed\", \"aqu\\u00ed\", \"aqu\\u00ed\", \"armar\", \"armar\", \"asesinar\", \"asesinar\", \"asesinar\", \"asesinar\", \"asesinar\", \"asumir_responsabilidad\", \"as\\u00ed\", \"as\\u00ed\", \"as\\u00ed\", \"as\\u00ed\", \"as\\u00ed\", \"ataque_registrar\", \"atender\", \"atender\", \"atender\", \"atender\", \"atender\", \"ausente_pagar_sanci\\u00f3n_aquel\", \"ay\", \"ay\", \"ayudar\", \"ayudar\", \"ayudar\", \"ayudar\", \"ayudar\", \"a\\u00f1o\", \"a\\u00f1o\", \"a\\u00f1o\", \"a\\u00f1o\", \"a\\u00f1o\", \"a\\u00f1o_edad_hijo\", \"a\\u00fan_poder_utilizar\", \"a\\u00fan_poder_utilizar\", \"barrera_complicir_b\\u00fasqueda_trabajo\", \"barrera_complicir_b\\u00fasqueda_trabajo\", \"barrio_luisa\", \"barrio_\\u00e1ngeles\", \"bien\", \"bien\", \"bien\", \"bien\", \"bien\", \"bogotano_soachuno\", \"bogot\\u00e1\", \"bogot\\u00e1\", \"bogot\\u00e1\", \"bogot\\u00e1\", \"bogot\\u00e1\", \"broma_vacil\\u00f3n\", \"buenas_nuevo_comunidad_gustar\", \"bueno\", \"bueno\", \"bueno\", \"bueno\", \"bueno\", \"buscar_oportunidad_inclusi\\u00f3n\", \"cantar\", \"cantar\", \"cantar\", \"cantar\", \"capturar\", \"capturar\", \"capturar\", \"capturar\", \"capturar\", \"cara\", \"cara\", \"cara\", \"cara\", \"cara\", \"carmen_zambrano\", \"carrera_producto_imparable\", \"casa_vuelo\", \"casa_vuelo\", \"caso_quedar_registrado\", \"caso_xenofobia_presentar\", \"castillo_ramos\", \"cerca_provecho_oferta_formaci\\u00f3n\", \"cerca_provecho_oferta_formaci\\u00f3n\", \"chile_per\\u00fa\", \"cifra_actualizado\", \"cinco_desaf\\u00edo\", \"ciudad\", \"ciudad\", \"ciudad\", \"ciudad\", \"ciudad\", \"ciudadano\", \"ciudadano\", \"ciudadano\", \"ciudadano\", \"ciudadano\", \"ciudadano_molesto\", \"claro\", \"claro\", \"claro\", \"claro\", \"claro\", \"coca\", \"coca\", \"coca\", \"coca\", \"colombia\", \"colombia\", \"colombia\", \"colombia\", \"colombia\", \"colombia_buscar_mejor\", \"colombia_mill\\u00f3n_mil\", \"colombia_ofrecer_asistencia\", \"colombia_ofrecer_asistencia\", \"colombia_requerir_mill\\u00f3n_d\\u00f3lares\", \"colombia_requerir_mill\\u00f3n_d\\u00f3lares\", \"colombia_requerir_mill\\u00f3n_d\\u00f3lares\", \"colombiano\", \"colombiano\", \"colombiano\", \"colombiano\", \"colombiano\", \"color\", \"color\", \"comer\", \"comer\", \"comer\", \"comer\", \"comer\", \"compartirl_material_venezolana_constar\", \"comunicado_plan_esperar_atender\", \"comunidad_acogida_agregar_gifmm\", \"condenar_prisi\\u00f3n_seis\", \"confiamos\", \"confiamos\", \"confiamos\", \"confiamos\", \"conocer\", \"conocer\", \"conocer\", \"conocer\", \"conocer\", \"conocer_abc_integraci\\u00f3n_aqu\\u00ed\", \"conocer_integraci\\u00f3n\", \"contar\", \"contar\", \"contar\", \"contar\", \"contar\", \"copaverde_malcon_hernanhin_and\", \"copaverde_malcon_hernanhin_and\", \"copei\", \"coraz\\u00f3n_am\\u00e9rica_cali_l\\u00edder\", \"costa_g\\u00fciria\", \"costa_g\\u00fciria\", \"crucial_encuentro_conjunto_americano\", \"cuota_creatividad_venezolana_ysaura\", \"c\\u00e1tedra_permanente\", \"dar\", \"dar\", \"dar\", \"dar\", \"dar\", \"deber\", \"deber\", \"deber\", \"deber\", \"deber\", \"debido_crisis_pol\\u00edtico\", \"decir\", \"decir\", \"decir\", \"decir\", \"decir\", \"decisi\\u00f3n_t\\u00e9cnico_delantero_peruano\", \"dejar\", \"dejar\", \"dejar\", \"dejar\", \"dejar\", \"dejar_aliento\", \"dejar_atr\\u00e1s_har\\u00edar_si\", \"dejar_mil_hoy_cumplir\", \"dejar_mil_hoy_cumplir\", \"dejar_mil_hoy_cumplir\", \"delincuente\", \"delincuente\", \"delincuente\", \"delincuente\", \"delincuente\", \"dem\\u00e1s_diputado_realizar_estudio\", \"dem\\u00e1s_diputado_realizar_estudio\", \"dem\\u00e1s_diputado_realizar_estudio\", \"departamento_fronterizo_hoy\", \"desarrollo_videojuego\", \"descender\", \"destacado_revolucionario\", \"detalle_investigar\", \"diciembre_joven_venezolano\", \"diciembre_joven_venezolano\", \"dios_bendigar\", \"directo_decir\", \"disfrutable_archivos_adjuntos_tema\", \"disfrutable_archivos_adjuntos_tema\", \"disfrutir_archivos_adjuntos_tema\", \"domingo_noviembre_grave\", \"dos\", \"dos\", \"dos\", \"dos\", \"dos\", \"dos_hombre_nacionalidad\", \"duelo_decisivo_pastuso_seguramente\", \"d\\u00eda_migrante\", \"d\\u00f3nde\", \"d\\u00f3nde\", \"d\\u00f3nde\", \"d\\u00f3nde\", \"d\\u00f3nde\", \"ejemplo\", \"ejemplo\", \"ejemplo\", \"ejemplo\", \"ejemplo\", \"eleccion_mejor_topic_mes\", \"eleccion_mejor_topic_mes\", \"empresa_migrant\", \"encontrar\", \"encontrar\", \"encontrar\", \"encontrar\", \"encontrar\", \"entrar\", \"entrar\", \"entrar\", \"entrar\", \"entrar\", \"equipo\", \"equipo\", \"equipo\", \"equipo\", \"equipo\", \"equipo_ganar_tener_convicci\\u00f3n\", \"equipo_levantar\", \"establecido_seattle\", \"excusa_ir_expulsi\\u00f3n\", \"experto_juego_free_fire\", \"explotaci\\u00f3n_sexual\", \"extender_pa\\u00eds\", \"fabi\\u00e1n_\\u00e1ngel_veterano_sherman\", \"factibilidad_adquirir_alguno_vacuna\", \"factibilidad_adquirir_alguno_vacuna\", \"factibilidad_adquirir_alguno_vacuna\", \"falta_dt_hoy\", \"familia\", \"familia\", \"familia\", \"familia\", \"familia\", \"familiar_ni\\u00f1o\", \"feria_libro\", \"fila_diezmada_adem\\u00e1s_guti\\u00e9rrez\", \"foco_inseguridad\", \"fuerte_insulto\", \"f\\u00e1cil_est\\u00e1r\", \"gana_candidato_t\\u00edtulo\", \"gana_ganar_d\\u00eda\", \"ganar_primero_lugar\", \"general\", \"general\", \"general\", \"general\", \"general\", \"gente\", \"gente\", \"gente\", \"gente\", \"gente\", \"gobierno\", \"gobierno\", \"gobierno\", \"gobierno\", \"gobierno\", \"gol_mensaje_manejar_diariamente\", \"gol_n\\u00famero_certamen_alcanzar\", \"gonz\\u00e1lez_lesi\\u00f3n_central_dany\", \"gonz\\u00e1lez_lesi\\u00f3n_central_dany\", \"gracias_apoyo\", \"grande\", \"grande\", \"grande\", \"grande\", \"grande\", \"haber\", \"haber\", \"haber\", \"haber\", \"haber\", \"haber_aprender_junto\", \"haber_seguir_pesadilla\", \"haber_superar_adversidad\", \"hablar\", \"hablar\", \"hablar\", \"hablar\", \"hablar\", \"hablar_mal\", \"hablar_mal\", \"hacer\", \"hacer\", \"hacer\", \"hacer\", \"hacer\", \"hacer_cuento_navidad_integraci\\u00f3n\", \"hecho\", \"hecho\", \"hecho\", \"hecho\", \"hecho\", \"hermano\", \"hermano\", \"hermano\", \"hermano\", \"hermano\", \"hijo_pedir_caridad_sem\\u00e1foro\", \"hijo_pedir_caridad_sem\\u00e1foro\", \"hijo_puta\", \"hijo_puta\", \"hijo_puta\", \"historia\", \"historia\", \"historia\", \"historia\", \"historia\", \"honesto_colombiano\", \"hora\", \"hora\", \"hora\", \"hora\", \"hora\", \"hoy\", \"hoy\", \"hoy\", \"hoy\", \"hoy\", \"huir\", \"huir\", \"huir\", \"huir\", \"humor_sugerir\", \"ida_final_campeonato\", \"igual\", \"igual\", \"igual\", \"igual\", \"igual\", \"imponer_visitante_lograr\", \"importancia_memoria_identidad_herramienta\", \"im\\u00e1genes_urbanas\", \"inmigrante_ascender\", \"instancia\", \"intentar_tom\\u00e1ndola\", \"international_youth\", \"internet_seg\\u00fan\", \"ir\", \"ir\", \"ir\", \"ir\", \"ir\", \"itag\\u00fc\\u00ed\", \"joel_graterol_delantero_santiago\", \"joel_graterol_delantero_santiago\", \"joel_graterol_delantero_santiago\", \"joel_graterol_delantero_santiago\", \"joel_graterol_infectado_virus\", \"joel_graterol_infectado_virus\", \"joven\", \"joven\", \"joven\", \"joven\", \"joven\", \"joven_barranquillero\", \"juan_carlos_casta\\u00f1eda\", \"juego_disputar\", \"lanzar_tercio_permitir\", \"lejos_navidad_pong\\u00e1mono_zapato\", \"llegar\", \"llegar\", \"llegar\", \"llegar\", \"llegar\", \"llevar\", \"llevar\", \"llevar\", \"llevar\", \"llevar\", \"local_pr\\u00f3ximo_a\\u00f1o\", \"lugar_residencia_nacimiento_autoricir\", \"lugar_residencia_nacimiento_autoricir\", \"lugar_residencia_nacimiento_autoricir\", \"madre_beb\\u00e9\", \"mal\", \"mal\", \"mal\", \"mal\", \"mal\", \"malparido\", \"malparido\", \"malparido\", \"malparido\", \"malparido\", \"manipulaci\\u00f3n\", \"mano_evitar\", \"mas\", \"mas\", \"mas\", \"mas\", \"mas\", \"medio_desalojado\", \"medio_forcejeo\", \"medio_local\", \"mejor\", \"mejor\", \"mejor\", \"mejor\", \"mejor\", \"mes_pasar_vender\", \"mes_pasar_vender\", \"mes_pasar_vender\", \"mientras_caminant\", \"migraci\\u00f3n\", \"migraci\\u00f3n\", \"migraci\\u00f3n\", \"migraci\\u00f3n\", \"migraci\\u00f3n\", \"migrant\", \"migrant\", \"migrant\", \"migrant\", \"migrant\", \"mil\", \"mil\", \"mil\", \"mil\", \"mil\", \"millones_haber\", \"mill\\u00f3n\", \"mill\\u00f3n\", \"mill\\u00f3n\", \"mill\\u00f3n\", \"mill\\u00f3n\", \"mill\\u00f3n_principalmente\", \"mismo\", \"mismo\", \"mismo\", \"mismo\", \"mismo\", \"mismo_problema_americo\", \"momento_roblox_free_fire\", \"much\\u00edsimos\", \"muerte\", \"muerte\", \"muerte\", \"muerte\", \"muerte\", \"mujer\", \"mujer\", \"mujer\", \"mujer\", \"mujer\", \"mujer_bello\", \"mujer_propinar\", \"mundo\", \"mundo\", \"mundo\", \"mundo\", \"mundo\", \"municipio_ciudad_mayor\", \"music_festival\", \"m\\u00ednimo_diferencia\", \"nacional\", \"nacional\", \"nacional\", \"nacional\", \"nacional\", \"nacionalidad\", \"nacionalidad\", \"nacionalidad\", \"nacionalidad\", \"nacionalidad\", \"navidad\", \"navidad\", \"navidad\", \"navidad\", \"navidad\", \"negociar_gobierno\", \"nete_campa\\u00f1a_medio_comunicaci\\u00f3n\", \"nete_campa\\u00f1a_medio_comunicaci\\u00f3n\", \"nete_campa\\u00f1a_medio_comunicaci\\u00f3n\", \"ni\\u00f1o\", \"ni\\u00f1o\", \"ni\\u00f1o\", \"ni\\u00f1o\", \"ni\\u00f1o\", \"norteamericano_tiny_build\", \"noviembre_pm_hora\", \"nud_igual_pack_seguir\", \"nud_igual_pack_seguir\", \"nuevo\", \"nuevo\", \"nuevo\", \"nuevo\", \"nuevo\", \"nuevo_mano_diciembre\", \"nuevo_zaguero_felipe_jaramillo\", \"nuevo_zaguero_felipe_jaramillo\", \"n\\u00facleo_familiar_gobernador_arauca\", \"oeste_caracas\", \"onu_migraci\\u00f3n_colombia\", \"oportunidad\", \"oportunidad\", \"oportunidad\", \"oportunidad\", \"oportunidad\", \"oportunidad_crecer_futuro\", \"oportunidad_cumplir_sue\\u00f1o_diciembre\", \"oriana_altuve_usme_convertir\", \"others_like_this\", \"others_like_this\", \"otorgar_tiquet_gratis\", \"pais\", \"pais\", \"pais\", \"pais\", \"pais\", \"pandemia\", \"pandemia\", \"pandemia\", \"pandemia\", \"pandemia\", \"paraguayar_fany_gauto_poner\", \"parecer\", \"parecer\", \"parecer\", \"parecer\", \"parecer\", \"parecer_hacer_ofrecimiento\", \"parecer_hacer_ofrecimiento\", \"pared_casa\", \"partido_ida_semifinal_liga\", \"partido_ida_semifinal_liga\", \"partido_vuelta_gol_delantera\", \"par\\u00e1sito\", \"par\\u00e1sito\", \"par\\u00eds\", \"par\\u00eds\", \"par\\u00eds\", \"pasaporte_vencido\", \"pasar\", \"pasar\", \"pasar\", \"pasar\", \"pasar\", \"pascual_guerrero_atacante_lograr\", \"pa\\u00eds\", \"pa\\u00eds\", \"pa\\u00eds\", \"pa\\u00eds\", \"pa\\u00eds\", \"perder_independiente_santa_fe\", \"perfil_onlyfans_tener_duda\", \"perfil_onlyfans_tener_duda\", \"perfil_onlyfans_tener_duda\", \"perfil_onlyfans_tener_duda\", \"persona\", \"persona\", \"persona\", \"persona\", \"persona\", \"per\\u00fa_luego\", \"poblaci\\u00f3n\", \"poblaci\\u00f3n\", \"poblaci\\u00f3n\", \"poblaci\\u00f3n\", \"poblaci\\u00f3n\", \"poder\", \"poder\", \"poder\", \"poder\", \"poder\", \"poder_participar_consulta\", \"poder_ver_link\", \"poder_ver_link\", \"poder_ver_link\", \"polic\\u00eda\", \"polic\\u00eda\", \"polic\\u00eda\", \"polic\\u00eda\", \"polic\\u00eda\", \"polic\\u00eda_fiscal_aduanera\", \"precisar_ministro\", \"presencia_poblaci\\u00f3n_migrante\", \"presidente\", \"presidente\", \"presidente\", \"presidente\", \"presidente\", \"primero\", \"primero\", \"primero\", \"primero\", \"primero\", \"primero_cortadura\", \"primero_lugar_hist\\u00f3rico_venezolana\", \"primero_movimiento\", \"problema\", \"problema\", \"problema\", \"problema\", \"problema\", \"problema_pedido\", \"problema_ra\\u00edz_cruz_hoy\", \"pueblo\", \"pueblo\", \"pueblo\", \"pueblo\", \"pueblo\", \"puerto_carre\\u00f1o_capital\", \"pues_tratar_lolita\", \"pues_tratar_lolita\", \"pues_tratar_lolita\", \"pues_tratar_lolita\", \"p\\u00e9rez_fallecer\", \"p\\u00e9same_familia_dip_bolivia\", \"p\\u00e9same_familia_dip_bolivia\", \"p\\u00e9same_familia_dip_bolivia\", \"quedar\", \"quedar\", \"quedar\", \"quedar\", \"quedar\", \"quedar_cumplir_jornada_suspensi\\u00f3n\", \"querer\", \"querer\", \"querer\", \"querer\", \"querer\", \"querer_conocer_integraci\\u00f3n\", \"querer_narrar\", \"recibir\", \"recibir\", \"recibir\", \"recibir\", \"recibir\", \"reconciliaci\\u00f3n_adem\\u00e1s_buscar_resaltar\", \"reconocido_compa\\u00f1\\u00eda\", \"regresar_pa\\u00eds_descender\", \"regresar\\u00e9_pa\\u00eds_valer_pena\", \"reputacion_membresias_pagas\", \"reputacion_membresias_pagas\", \"reputacion_membresias_pagas\", \"reputacion_usuario_membresia_gold\", \"reputacion_usuario_membresia_gold\", \"reputacion_usuario_membresia_gold\", \"respuesta_ciudadano_derrota_nacional\", \"retorno_delantero\", \"revoluci\\u00f3n\", \"revoluci\\u00f3n\", \"revoluci\\u00f3n\", \"revoluci\\u00f3n\", \"revoluci\\u00f3n\", \"robar\", \"robar\", \"robar\", \"robar\", \"robar\", \"rosero_suspendido_acumulaci\\u00f3n_tarjeta\", \"rosero_suspendido_acumulaci\\u00f3n_tarjeta\", \"ruta_atenci\\u00f3n_migrant\", \"saber\", \"saber\", \"saber\", \"saber\", \"saber\", \"sabor_casero_impresionante_menos\", \"sabor_casero_impresionante_menos\", \"sabor_casero_impresionante_menos\", \"sabor_casero_impresionante_menos\", \"sacar\", \"sacar\", \"sacar\", \"sacar\", \"sacar\", \"salir\", \"salir\", \"salir\", \"salir\", \"salir\", \"saquen\", \"seguir\", \"seguir\", \"seguir\", \"seguir\", \"seguir\", \"seguir_agredir\", \"segundo_t\\u00edtulo\", \"seg\\u00fan_cifra_proyectado\", \"seg\\u00fan_informaci\\u00f3n_obtenido\", \"sena_si\", \"sena_si\", \"servicio_energ\\u00eda\", \"se\\u00f1orita_hermoso\", \"si\", \"si\", \"si\", \"si\", \"si\", \"si_inmigrante\", \"siempre\", \"siempre\", \"siempre\", \"siempre\", \"siempre\", \"situaci\\u00f3n\", \"situaci\\u00f3n\", \"situaci\\u00f3n\", \"situaci\\u00f3n\", \"situaci\\u00f3n\", \"situaci\\u00f3n_vivir_frontera_unimos\", \"situaci\\u00f3n_vivir_frontera_unimos\", \"situaci\\u00f3n_vivir_frontera_unimos\", \"socialista_festejar_triunfo_hoy\", \"socialista_festejar_triunfo_hoy\", \"solamente\", \"solamente\", \"solamente\", \"solo\", \"solo\", \"solo\", \"solo\", \"solo\", \"solo_usario_mas_punto\", \"solo_usario_mas_punto\", \"solo_usario_mas_punto\", \"so\\u00f1ar_c\\u00f3mo_populismo_destruir\", \"suarez_momento_presidente_encargado\", \"suarez_momento_presidente_encargado\", \"suarez_momento_presidente_encargado\", \"superior_sujeto_nacionalidad\", \"supuestamente_momento\", \"tarek_william\", \"tarjeta_rojo_tolima_cara\", \"tener\", \"tener\", \"tener\", \"tener\", \"tener\", \"tener_dos_futbolista\", \"tener_dos_futbolista\", \"tener_flujo\", \"tener_soportar\", \"tomar_taxi\", \"total\", \"total\", \"total\", \"total\", \"total\", \"trabajar_experto\", \"trabajar_hora_devengar\", \"trabajar_prepago\", \"trabajar_publicado\", \"trabajo_mesera_convencer_viajar\", \"trabajo_mesera_convencer_viajar\", \"trabajo_mesera_convencer_viajar\", \"traer_onlyfans_mia_francis\", \"traer_onlyfans_mia_francis\", \"transformaci\\u00f3n_crear\", \"trav\\u00e9s\", \"trav\\u00e9s\", \"trav\\u00e9s\", \"trav\\u00e9s\", \"trav\\u00e9s\", \"tres_miembro_familia\", \"tres_punto_llegar_c\\u00f3modo\", \"t\\u00e9cnico_hora_cambio_t\\u00e9cnico\", \"unidas_refugiados_acnur\", \"urgencia\", \"usted\", \"usted\", \"usted\", \"usted\", \"usted\", \"vallenata_kena_romero_venezolana\", \"vanidad\", \"varios\", \"varios\", \"varios\", \"varios\", \"varios\", \"veneca\", \"veneca\", \"veneca\", \"veneca\", \"veneca\", \"veneca_super_rico_dificil\", \"veneca_super_rico_dificil\", \"veneco\", \"veneco\", \"veneco\", \"veneco\", \"veneco\", \"venecos\", \"venecos\", \"venecos\", \"venecos\", \"venecos\", \"venecos_hps\", \"venezolana\", \"venezolana\", \"venezolana\", \"venezolana\", \"venezolana\", \"venezolano_apenas_archivos\", \"venezolano_apenas_archivos\", \"venezolano_apenas_archivos\", \"venezolano_apenas_archivos\", \"venezolano_colombiano_retornado\", \"venezolano_colombiano_retornado\", \"venezolano_colombiano_retornado\", \"venezolano_colombiano_retornado\", \"venezolano_colombiano_retornado\", \"venezolano_emprendedor_emplear\", \"venezolano_fortalecer_medio\", \"venezolano_gran_importancia\", \"venezolano_lesionado_jhon\", \"venezolano_radicado_colombia\", \"venezolano_radicado_colombia\", \"venezolano_radicado_colombia\", \"venezolano_radicado_colombia\", \"venezolano_radicado_colombia\", \"venezolano_residir_unidos\", \"venezolano_retornar_pa\\u00eds\", \"venezolano_retornar_pa\\u00eds\", \"venezolano_retornar_pa\\u00eds\", \"venezolano_retornar_pa\\u00eds\", \"venezolano_retornar_pa\\u00eds\", \"venezolano_solo_problem\\u00e1tica\", \"venezolanos\", \"venezolanos\", \"venezolanos\", \"venezolanos\", \"venezolanos\", \"venezuela\", \"venezuela\", \"venezuela\", \"venezuela\", \"venezuela\", \"venir\", \"venir\", \"venir\", \"venir\", \"venir\", \"venta_informal\", \"ver\", \"ver\", \"ver\", \"ver\", \"ver\", \"vez\", \"vez\", \"vez\", \"vez\", \"vez\", \"vida\", \"vida\", \"vida\", \"vida\", \"vida\", \"video_hora\", \"viso_m\\u00e1ximo_artillerar_torneo\", \"vivir\", \"vivir\", \"vivir\", \"vivir\", \"vivir\", \"volver_viral\", \"votar\", \"votar\", \"votar\", \"votar\", \"votar\", \"votar_nuevo_constituci\\u00f3n_tinte\", \"votar_nuevo_constituci\\u00f3n_tinte\", \"vuelo_respetar_derecho_volver\", \"vuelo_respetar_derecho_volver\", \"v\\u00eda\", \"v\\u00eda\", \"v\\u00eda\", \"v\\u00eda\", \"v\\u00eda\", \"zurdo\", \"\\u00fanico\", \"\\u00fanico\", \"\\u00fanico\", \"\\u00fanico\", \"\\u00fanico\"]}, \"R\": 30, \"lambda.step\": 0.01, \"plot.opts\": {\"xlab\": \"PC1\", \"ylab\": \"PC2\"}, \"topic.order\": [4, 5, 2, 3, 1]};\n",
       "\n",
       "function LDAvis_load_lib(url, callback){\n",
       "  var s = document.createElement('script');\n",
       "  s.src = url;\n",
       "  s.async = true;\n",
       "  s.onreadystatechange = s.onload = callback;\n",
       "  s.onerror = function(){console.warn(\"failed to load library \" + url);};\n",
       "  document.getElementsByTagName(\"head\")[0].appendChild(s);\n",
       "}\n",
       "\n",
       "if(typeof(LDAvis) !== \"undefined\"){\n",
       "   // already loaded: just create the visualization\n",
       "   !function(LDAvis){\n",
       "       new LDAvis(\"#\" + \"ldavis_el591396441332054564833179201\", ldavis_el591396441332054564833179201_data);\n",
       "   }(LDAvis);\n",
       "}else if(typeof define === \"function\" && define.amd){\n",
       "   // require.js is available: use it to load d3/LDAvis\n",
       "   require.config({paths: {d3: \"https://d3js.org/d3.v5\"}});\n",
       "   require([\"d3\"], function(d3){\n",
       "      window.d3 = d3;\n",
       "      LDAvis_load_lib(\"https://cdn.jsdelivr.net/gh/bmabey/pyLDAvis@3.2.2/pyLDAvis/js/ldavis.v3.0.0.js\", function(){\n",
       "        new LDAvis(\"#\" + \"ldavis_el591396441332054564833179201\", ldavis_el591396441332054564833179201_data);\n",
       "      });\n",
       "    });\n",
       "}else{\n",
       "    // require.js not available: dynamically load d3 & LDAvis\n",
       "    LDAvis_load_lib(\"https://d3js.org/d3.v5.js\", function(){\n",
       "         LDAvis_load_lib(\"https://cdn.jsdelivr.net/gh/bmabey/pyLDAvis@3.2.2/pyLDAvis/js/ldavis.v3.0.0.js\", function(){\n",
       "                 new LDAvis(\"#\" + \"ldavis_el591396441332054564833179201\", ldavis_el591396441332054564833179201_data);\n",
       "            })\n",
       "         });\n",
       "}\n",
       "</script>"
      ],
      "text/plain": [
       "<IPython.core.display.HTML object>"
      ]
     },
     "execution_count": 230,
     "metadata": {
      "tags": []
     },
     "output_type": "execute_result"
    }
   ],
   "source": [
    "vis = pyLDAvis.gensim.prepare(topic_model=lda_model, corpus=corpus, dictionary=dictionary_LDA)\n",
    "pyLDAvis.enable_notebook()\n",
    "pyLDAvis.display(vis)"
   ]
  },
  {
   "cell_type": "code",
   "execution_count": null,
   "metadata": {
    "colab": {
     "base_uri": "https://localhost:8080/",
     "height": 386
    },
    "id": "lWyKGYru7Nv4",
    "outputId": "fe1f0265-58c1-4bf0-b6c2-d4252cb46655"
   },
   "outputs": [
    {
     "data": {
      "text/html": [
       "<div>\n",
       "<style scoped>\n",
       "    .dataframe tbody tr th:only-of-type {\n",
       "        vertical-align: middle;\n",
       "    }\n",
       "\n",
       "    .dataframe tbody tr th {\n",
       "        vertical-align: top;\n",
       "    }\n",
       "\n",
       "    .dataframe thead th {\n",
       "        text-align: right;\n",
       "    }\n",
       "</style>\n",
       "<table border=\"1\" class=\"dataframe\">\n",
       "  <thead>\n",
       "    <tr style=\"text-align: right;\">\n",
       "      <th></th>\n",
       "      <th>index</th>\n",
       "      <th>ID</th>\n",
       "      <th>Snippet</th>\n",
       "      <th>Victima</th>\n",
       "      <th>Victimario</th>\n",
       "      <th>Xenofobia</th>\n",
       "      <th>Denuncia</th>\n",
       "      <th>Positiva</th>\n",
       "      <th>Clean_Text</th>\n",
       "      <th>tokens</th>\n",
       "      <th>pos</th>\n",
       "      <th>lemmatized</th>\n",
       "      <th>words</th>\n",
       "    </tr>\n",
       "  </thead>\n",
       "  <tbody>\n",
       "    <tr>\n",
       "      <th>0</th>\n",
       "      <td>0</td>\n",
       "      <td>16547</td>\n",
       "      <td>..crítico. El agresor fue capturado e identifi...</td>\n",
       "      <td>NaN</td>\n",
       "      <td>1.0</td>\n",
       "      <td>NaN</td>\n",
       "      <td>NaN</td>\n",
       "      <td>NaN</td>\n",
       "      <td>crítico. El agresor fue capturado e identifica...</td>\n",
       "      <td>[crítico, ., El, agresor, fue, capturado, e, i...</td>\n",
       "      <td>[(crítico, ADJ), (., PUNCT), (El, DET), (agres...</td>\n",
       "      <td>[crítico, ., el, agresor, ser, capturar, e, id...</td>\n",
       "      <td>[crítico, agresor, capturar, identificado, fél...</td>\n",
       "    </tr>\n",
       "    <tr>\n",
       "      <th>1</th>\n",
       "      <td>1</td>\n",
       "      <td>16548</td>\n",
       "      <td>@EnriquePenalosa Esa sociedad es civilizada. A...</td>\n",
       "      <td>NaN</td>\n",
       "      <td>1.0</td>\n",
       "      <td>1.0</td>\n",
       "      <td>NaN</td>\n",
       "      <td>NaN</td>\n",
       "      <td>@EnriquePenalosa Esa sociedad es civilizada. A...</td>\n",
       "      <td>[@EnriquePenalosa, Esa, sociedad, es, civiliza...</td>\n",
       "      <td>[(@EnriquePenalosa, ADJ), (Esa, DET), (socieda...</td>\n",
       "      <td>[@enriquepenalós, ese, sociedad, ser, civiliza...</td>\n",
       "      <td>[sociedad, civilizar, aquí, haber, poder, metr...</td>\n",
       "    </tr>\n",
       "    <tr>\n",
       "      <th>2</th>\n",
       "      <td>2</td>\n",
       "      <td>16549</td>\n",
       "      <td>Cuánto pseudoprogresista xenófobo y clasista,c...</td>\n",
       "      <td>NaN</td>\n",
       "      <td>NaN</td>\n",
       "      <td>NaN</td>\n",
       "      <td>1.0</td>\n",
       "      <td>1.0</td>\n",
       "      <td>Cuánto pseudoprogresista xenófobo y clasista,c...</td>\n",
       "      <td>[Cuánto, pseudoprogresista, xenófobo, y, clasi...</td>\n",
       "      <td>[(Cuánto, PROPN), (pseudoprogresista, VERB), (...</td>\n",
       "      <td>[Cuánto, pseudoprogresistar, xenófobo, y, clas...</td>\n",
       "      <td>[cuánto, pseudoprogresistar, xenófobo, clasist...</td>\n",
       "    </tr>\n",
       "    <tr>\n",
       "      <th>3</th>\n",
       "      <td>3</td>\n",
       "      <td>16550</td>\n",
       "      <td>Perdón amigos venecos, pero el diablito no me ...</td>\n",
       "      <td>NaN</td>\n",
       "      <td>NaN</td>\n",
       "      <td>1.0</td>\n",
       "      <td>NaN</td>\n",
       "      <td>NaN</td>\n",
       "      <td>Perdón amigos venecos, pero el diablito no me ...</td>\n",
       "      <td>[Perdón, amigos, venecos, ,, pero, el, diablit...</td>\n",
       "      <td>[(Perdón, PROPN), (amigos, NOUN), (venecos, AD...</td>\n",
       "      <td>[Perdón, amigo, veneco, ,, pero, el, diablito,...</td>\n",
       "      <td>[perdón, amigo, veneco, diablito, gustar, xdxd]</td>\n",
       "    </tr>\n",
       "    <tr>\n",
       "      <th>4</th>\n",
       "      <td>4</td>\n",
       "      <td>16551</td>\n",
       "      <td>El texto del reconocimiento señala: “Víctor Ba...</td>\n",
       "      <td>NaN</td>\n",
       "      <td>NaN</td>\n",
       "      <td>NaN</td>\n",
       "      <td>NaN</td>\n",
       "      <td>1.0</td>\n",
       "      <td>El texto del reconocimiento señala: “Víctor Ba...</td>\n",
       "      <td>[El, texto, del, reconocimiento, señala, :, “,...</td>\n",
       "      <td>[(El, DET), (texto, NOUN), (del, ADP), (recono...</td>\n",
       "      <td>[el, texto, del, reconocimiento, señalar, :, “...</td>\n",
       "      <td>[texto, reconocimiento, señalar, víctor, bauti...</td>\n",
       "    </tr>\n",
       "  </tbody>\n",
       "</table>\n",
       "</div>"
      ],
      "text/plain": [
       "   index  ...                                              words\n",
       "0      0  ...  [crítico, agresor, capturar, identificado, fél...\n",
       "1      1  ...  [sociedad, civilizar, aquí, haber, poder, metr...\n",
       "2      2  ...  [cuánto, pseudoprogresistar, xenófobo, clasist...\n",
       "3      3  ...    [perdón, amigo, veneco, diablito, gustar, xdxd]\n",
       "4      4  ...  [texto, reconocimiento, señalar, víctor, bauti...\n",
       "\n",
       "[5 rows x 13 columns]"
      ]
     },
     "execution_count": 234,
     "metadata": {
      "tags": []
     },
     "output_type": "execute_result"
    }
   ],
   "source": [
    "marcados=df.loc[pd.isnull(df[['Victima', 'Victimario', 'Xenofobia', 'Denuncia', 'Positiva']]).all(axis=1)==False]\n",
    "marcados.head()"
   ]
  },
  {
   "cell_type": "code",
   "execution_count": null,
   "metadata": {
    "colab": {
     "base_uri": "https://localhost:8080/"
    },
    "id": "auch87Gv-gmp",
    "outputId": "d9b0baff-7c0d-4609-e528-917754c08bf6"
   },
   "outputs": [
    {
     "name": "stderr",
     "output_type": "stream",
     "text": [
      "/usr/local/lib/python3.7/dist-packages/gensim/models/phrases.py:598: UserWarning: For a faster implementation, use the gensim.models.phrases.Phraser class\n",
      "  warnings.warn(\"For a faster implementation, use the gensim.models.phrases.Phraser class\")\n"
     ]
    }
   ],
   "source": [
    "#LDA\n",
    "m_tokens = marcados['words'].tolist()\n",
    "m_bigram_model = Phrases(m_tokens)\n",
    "m_trigram_model = Phrases(m_bigram_model[m_tokens], min_count=1)\n",
    "m_tokens = list(m_trigram_model[m_bigram_model[m_tokens]])"
   ]
  },
  {
   "cell_type": "code",
   "execution_count": null,
   "metadata": {
    "id": "XxNogMqL-sP3"
   },
   "outputs": [],
   "source": [
    "m_dictionary_LDA = corpora.Dictionary(m_tokens)\n",
    "m_dictionary_LDA.filter_extremes(no_below=3)\n",
    "m_corpus = [m_dictionary_LDA.doc2bow(tok) for tok in m_tokens]"
   ]
  },
  {
   "cell_type": "code",
   "execution_count": null,
   "metadata": {
    "id": "5ZbhxhAk_N4L"
   },
   "outputs": [],
   "source": [
    "np.random.seed(123456)\n",
    "num_topics = 5\n",
    "%time m_lda_model = models.LdaModel(m_corpus, num_topics=num_topics, \\\n",
    "                                  id2word=m_dictionary_LDA, \\\n",
    "                                  passes=4, \\\n",
    "                                  alpha=[0.01]*num_topics, \\\n",
    "                                  eta=[0.01]*len(m_dictionary_LDA.keys()))"
   ]
  },
  {
   "cell_type": "code",
   "execution_count": null,
   "metadata": {
    "colab": {
     "base_uri": "https://localhost:8080/"
    },
    "id": "50NCxaAZ_IKI",
    "outputId": "09e24499-e015-4279-f11a-bd22795e135e"
   },
   "outputs": [
    {
     "name": "stdout",
     "output_type": "stream",
     "text": [
      "0: 0.019*\"haber\" + 0.018*\"colombia\" + 0.017*\"hacer\" + 0.013*\"veneco\" + 0.012*\"si\" + 0.011*\"poder\" + 0.010*\"niño\" + 0.008*\"país\" + 0.008*\"delincuente\" + 0.008*\"colombiano\" + 0.007*\"año\" + 0.007*\"trabajar\" + 0.007*\"venir\" + 0.006*\"deber\" + 0.006*\"persona\" + 0.006*\"ciudad\" + 0.006*\"asesinar\" + 0.006*\"ahora\" + 0.006*\"navidad_integración_conocer_abc\" + 0.006*\"buscar_mejor_oportunidad_cumplir\"\n",
      "\n",
      "1: 0.024*\"haber\" + 0.019*\"tener\" + 0.018*\"colombia\" + 0.017*\"hacer\" + 0.012*\"país\" + 0.011*\"decir\" + 0.010*\"mujer\" + 0.010*\"pasar\" + 0.009*\"aquí\" + 0.009*\"si\" + 0.009*\"ver\" + 0.008*\"bogotá\" + 0.008*\"venezuela\" + 0.007*\"veneco\" + 0.007*\"seguir\" + 0.006*\"migrant_venezolano\" + 0.006*\"venezolanos\" + 0.006*\"gracias\" + 0.006*\"querer\" + 0.006*\"solo\"\n",
      "\n",
      "2: 0.016*\"colombiano\" + 0.015*\"tener\" + 0.008*\"hoy\" + 0.008*\"poder\" + 0.008*\"niño\" + 0.008*\"hacer\" + 0.008*\"migrant\" + 0.007*\"aquí\" + 0.007*\"querer\" + 0.007*\"dar\" + 0.006*\"día\" + 0.006*\"gracias\" + 0.006*\"migrante\" + 0.006*\"venezuela\" + 0.006*\"decir\" + 0.006*\"migrant_venezolano\" + 0.005*\"través\" + 0.005*\"joven\" + 0.005*\"extranjero\" + 0.005*\"ver\"\n",
      "\n",
      "3: 0.026*\"veneco\" + 0.014*\"haber\" + 0.011*\"país\" + 0.010*\"ir\" + 0.010*\"hacer\" + 0.009*\"colombia\" + 0.009*\"si\" + 0.009*\"persona\" + 0.008*\"venezuela\" + 0.008*\"seguir\" + 0.007*\"vida\" + 0.006*\"deber\" + 0.006*\"delincuente\" + 0.006*\"venezolana\" + 0.005*\"ver\" + 0.005*\"hecho\" + 0.005*\"pasar\" + 0.005*\"nacionalidad_venezolano\" + 0.005*\"migrant\" + 0.005*\"cómo\"\n",
      "\n",
      "4: 0.041*\"haber\" + 0.014*\"decir\" + 0.014*\"país\" + 0.014*\"tener\" + 0.012*\"bogotá\" + 0.012*\"colombia\" + 0.010*\"veneco\" + 0.009*\"ir\" + 0.009*\"ahora\" + 0.009*\"si\" + 0.008*\"año\" + 0.008*\"colombiano\" + 0.007*\"gente\" + 0.006*\"pobre\" + 0.006*\"vivir\" + 0.006*\"usted\" + 0.006*\"ciudad\" + 0.005*\"migración\" + 0.005*\"hacer\" + 0.005*\"venezolanos\"\n",
      "\n"
     ]
    }
   ],
   "source": [
    "for i, topic in m_lda_model.show_topics(formatted=True, num_topics=num_topics, num_words=20):\n",
    "    print(str(i)+\": \"+ topic)\n",
    "    print()"
   ]
  },
  {
   "cell_type": "code",
   "execution_count": null,
   "metadata": {
    "colab": {
     "base_uri": "https://localhost:8080/"
    },
    "id": "dF9CJqj__3pA",
    "outputId": "f5e861f8-796a-4de8-ad89-832b4bae668a"
   },
   "outputs": [
    {
     "name": "stdout",
     "output_type": "stream",
     "text": [
      "[(3, 0.99503106)] ..crítico. El agresor fue capturado e identificado como Félix Manuel Rivero Goitia de nacionalidad venezolana, el cual fue capturado y dejado a disposición de las autoridades competentes.\n",
      "[(1, 0.27978796), (3, 0.7182187)] @EnriquePenalosa Esa sociedad es civilizada. Aquí no hemos podido que en pocos metros de antejardín los vecinos recojan la caquita del perro. Que no dejen basura (esos son venezolanos o taxis) o se trepen a un árbol de durazno a saquearlo. Se volvería de okupas con más derechos que el dueño.\n",
      "[(4, 0.99750775)] Cuánto pseudoprogresista xenófobo y clasista,como los uribistas:están en contra de la recepción de venezolanos pobres, les niegan derechos y después los culpan de todo.Por cálculo político,nadie los defiende porque el fascismo está en gente de toda corriente política.\n",
      "[(4, 0.9804878)] Perdón amigos venecos, pero el diablito no me gusta xdxd\n",
      "[(2, 0.99750775)] El texto del reconocimiento señala: “Víctor Bautista Olarte, quien con su vocación de servicio y compromiso con la institucionalidad pública, desde hace nueve años ha propendido por la estabilización, vinculación e inclusión laboral de colombianos, colombo-venezolanos, retornados y migrantes, medidas para mitigar los efectos de la migración y la..\n"
     ]
    }
   ],
   "source": [
    "for i in range(5): print(lda_model[corpus[i]], df.Snippet.loc[i])"
   ]
  },
  {
   "cell_type": "code",
   "execution_count": null,
   "metadata": {
    "colab": {
     "base_uri": "https://localhost:8080/",
     "height": 882
    },
    "id": "EpZ1a2wIAJC2",
    "outputId": "a4dd29cd-9b8a-40c8-8342-261ef346a5f2"
   },
   "outputs": [
    {
     "data": {
      "text/html": [
       "\n",
       "<link rel=\"stylesheet\" type=\"text/css\" href=\"https://cdn.jsdelivr.net/gh/bmabey/pyLDAvis@3.2.2/pyLDAvis/js/ldavis.v1.0.0.css\">\n",
       "\n",
       "\n",
       "<div id=\"ldavis_el591396442014784803264257612\"></div>\n",
       "<script type=\"text/javascript\">\n",
       "\n",
       "var ldavis_el591396442014784803264257612_data = {\"mdsDat\": {\"x\": [-0.04405120475538647, -0.04753348341122428, -0.04330883069773792, -0.07731960858495157, 0.21221312744930035], \"y\": [0.022627652016500337, 0.023159513920595315, 0.1293081938777103, -0.15492323563095547, -0.020172124183850462], \"topics\": [1, 2, 3, 4, 5], \"cluster\": [1, 1, 1, 1, 1], \"Freq\": [27.186549990402515, 24.07687183981978, 18.61221458672853, 15.46327158436257, 14.6610919986866]}, \"tinfo\": {\"Term\": [\"haber\", \"veneco\", \"ni\\u00f1o\", \"aqu\\u00ed\", \"decir\", \"colombiano\", \"buscar_mejor_oportunidad_cumplir\", \"navidad_integraci\\u00f3n_conocer_abc\", \"familia_haber_llegar_colombia\", \"sue\\u00f1o_diciembre_hacer_cuento\", \"poder\", \"seguir\", \"integraci\\u00f3n_aqu\\u00ed\", \"delincuente\", \"venezuela\", \"trav\\u00e9s\", \"vida\", \"migrant\", \"venezolano_colombia_ofrecer\", \"\\u00faltimo_dos_mes\", \"usted\", \"ir\", \"pasar\", \"gracias\", \"querer\", \"territorio\", \"gifmm_comunicado_plan_esperar\", \"asistencia_comunidad_acogida_agregar\", \"atender_mill\\u00f3n_persona\", \"hoy\", \"emisora\", \"venezolano_emigrar\", \"malditos\", \"convertir\", \"canales_hd\", \"situaci\\u00f3n_migrant_venezolano\", \"as\\u00ed_historia\", \"encontrar_condici\\u00f3n\", \"episodio_mundo\", \"medell\\u00edn_creer\", \"mujer_transg\\u00e9nero\", \"rayos\", \"shantall_a\\u00f1o\", \"vivir_mujer\", \"sena\", \"obligar\", \"hija_reci\\u00e9n\", \"capturar_medell\\u00edn_colombia\", \"superar\", \"migrant_venezolano_vivir\", \"afectaci\\u00f3n\", \"municipal\", \"pieza\", \"vea\", \"equipo\", \"asesinar_venezolana_dentro_motel\", \"oca\\u00f1a_colombia\", \"robar_asesinar\", \"quejar\", \"osea\", \"grande\", \"leopoldo_l\\u00f3pez_abogar\", \"se\\u00f1alar\", \"coraz\\u00f3n\", \"polic\\u00eda\", \"adelante\", \"mujer\", \"siempre\", \"c\\u00facuta\", \"pasar\", \"entidad\", \"aqu\\u00ed\", \"nuevo\", \"referir\", \"alcaldesa\", \"tener\", \"cultura\", \"pueblo\", \"veh\\u00edculo\", \"colombia\", \"hacer\", \"ver\", \"seguir\", \"haber\", \"decir\", \"xenofobia\", \"gracias\", \"venezuela\", \"claudia_l\\u00f3pez\", \"pa\\u00eds\", \"hablar\", \"llegar\", \"migrant_venezolano\", \"problema\", \"bogot\\u00e1\", \"si\", \"querer\", \"solo\", \"venezolanos\", \"veneco\", \"ciudad\", \"poder\", \"as\\u00ed\", \"a\\u00f1o\", \"colombiano\", \"tarde\", \"empezar_evidenciar_ingreso_nacional\", \"jefe_autoridad\", \"migratorio_colombiano\", \"territorio_nacional_incluso_utilizar\", \"venezolano_comenzar_cambiar\", \"final\", \"peste\", \"aumento_gasto\", \"haber_contribuir\", \"impuesto_adem\\u00e1s\", \"migrant_solo\", \"pa\\u00eds_sino\", \"poder_aportar\", \"potencial_emprendimiento\", \"tener_alto\", \"paso_autorizado_acuerdo\", \"gesti\\u00f3n\", \"despu\\u00e9s_cerca\", \"seis_mes\", \"din\\u00e1mica_migratorio\", \"correr\", \"red_social\", \"determinaci\\u00f3n\", \"territorio_nacional\", \"compartido\", \"delincuente_escapar\", \"delito_homicidio_tr\\u00e1fico\", \"droga_hurto\", \"permanencia\", \"procedencia_venezolano\", \"millones_haber_llegar\", \"atr\\u00e1s_har\\u00edar_si_lejos\", \"buscar_oportunidad_inclusi\\u00f3n_dejar\", \"navidad_pong\\u00e1mono_zapato_conocer\", \"echar\", \"migratorio\", \"xenofobo\", \"veneca\", \"usted\", \"haber\", \"\\u00fanico\", \"entonces\", \"sujeto\", \"decir\", \"bogot\\u00e1\", \"gente\", \"venecos\", \"empezar\", \"ahora\", \"calle\", \"tomar\", \"pobre\", \"ir\", \"pa\\u00eds\", \"vivir\", \"tener\", \"a\\u00f1o\", \"colombia\", \"veneco\", \"migraci\\u00f3n\", \"criminal\", \"si\", \"parecer\", \"colombiano\", \"ciudad\", \"venezolanos\", \"persona\", \"robar\", \"saber\", \"venir\", \"hacer\", \"poder\", \"dar\", \"bien\", \"violaci\\u00f3n\", \"tienditas_ejemplo\", \"invitamos_conocer\", \"manera_virtual_diferente\", \"oferta_conocer_detalle\", \"servicio_formaci\\u00f3n\", \"tener_sena\", \"buscar_mejor_oportunidad_cumplir\", \"navidad_integraci\\u00f3n_conocer_abc\", \"familia_haber_llegar_colombia\", \"sue\\u00f1o_diciembre_hacer_cuento\", \"cuidar\", \"integraci\\u00f3n_aqu\\u00ed\", \"vago\", \"ahora_poder_acceder\", \"agravado\", \"reflejar\", \"tras_suceso\", \"habitaci\\u00f3n_inmueble\", \"hombre_lograr\", \"peque\\u00f1o_hija\", \"seg\\u00fan_vecino\", \"opinar\", \"ingresar_inmueble\", \"marchar_junto\", \"peque\\u00f1o_dos\", \"residir_alquilado\", \"resultar_ileso\", \"tener_momento\", \"v\\u00edctima_atentado\", \"salir_pa\\u00eds\", \"pol\\u00edtico\", \"asesinar\", \"llevar\", \"ni\\u00f1o\", \"mundo\", \"soledad\", \"delincuente\", \"recurso\", \"poder\", \"hacer\", \"colombia\", \"ojal\\u00e1\", \"pais\", \"si\", \"venir\", \"trabajar\", \"veneco\", \"haber\", \"robo\", \"familia\", \"deber\", \"capturar\", \"a\\u00f1o\", \"creer\", \"robar\", \"colombiano\", \"ciudad\", \"persona\", \"pa\\u00eds\", \"dejar\", \"ahora\", \"venezolanos\", \"migrant_venezolano\", \"venezuela\", \"tener\", \"asistencia_comunidad_acogida_agregar\", \"atender_mill\\u00f3n_persona\", \"gifmm_comunicado_plan_esperar\", \"venezolano_vocaci\\u00f3n_permanencia\", \"colombiano_binacional\", \"retornado_persona\", \"guardar\", \"sopa\", \"estrangular_venezolana\", \"venezolano_colombia_ofrecer\", \"poblaci\\u00f3n_migrante_poblaci\\u00f3n_joven\", \"oportunidad_aprender_integraci\\u00f3n_clic\", \"persona_venir_gana\", \"formar_hogar_construir_generaci\\u00f3n\", \"mas_veneco\", \"llegar_ilegalmente\", \"paciente\", \"interior_motel_oca\\u00f1a\", \"atenci\\u00f3n_m\\u00e9dico\", \"ve\", \"emprendimiento\", \"paisa\", \"bienestar\", \"asesinar_mujer\", \"cultural_econ\\u00f3mico\", \"integraci\\u00f3n_social\", \"promover_estad\\u00eda\", \"regular_poblaci\\u00f3n\", \"informar\", \"horror\", \"trav\\u00e9s\", \"fecha\", \"cruz_roja\", \"iniciativa\", \"colombiano\", \"tr\\u00e1nsito\", \"hoy\", \"migrante\", \"extranjero\", \"migrant\", \"ni\\u00f1o\", \"dios\", \"tener\", \"d\\u00eda\", \"joven\", \"salir\", \"poblaci\\u00f3n\", \"aqu\\u00ed\", \"poder\", \"querer\", \"dar\", \"gracias\", \"matar\", \"apoyo\", \"hacer\", \"migrant_venezolano\", \"venezuela\", \"bien\", \"decir\", \"ver\", \"ciudad\", \"venezolanos\", \"gobierno\", \"veneco\", \"a\\u00f1o\", \"colombia\", \"pa\\u00eds\", \"ganado_pie\", \"asumir_responsabilidad\", \"di\\u00e1spora_francia\", \"pedir_comunidad_internacional\", \"proteger_vida\", \"mercado\", \"cambio\", \"atravesar_serran\\u00eda\", \"introducir_ilegalmente\", \"perij\\u00e1_procedente\", \"diferente_carretera\", \"venezolana_migraci\\u00f3n_colombia\", \"haber_detectar\", \"haber_clic_aqu\\u00ed\", \"haber_ingresar\", \"fuerte\", \"bala\", \"oportunidad_crecer_futuro_si\", \"querer_conocer_integraci\\u00f3n\", \"aprender_junto_haber_superar\", \"navidad_haber\", \"\\u00faltimo_dos_mes\", \"adversidad_hacer_momento_dif\\u00edcil\", \"amnist\\u00eda_internacional\", \"oportunidad_se\\u00f1ora\", \"indicar_migraci\\u00f3n\", \"gasto_colombia\", \"frente_soledad\", \"asesinar_balazo\", \"calle_carrera_barrio_villa\", \"fuga\", \"a\\u00f1o_edad_nacionalidad_venezolano\", \"querer_decir\", \"pir\\u00f3mano\", \"pa\", \"permitido\", \"veneco\", \"territorio\", \"empleo\", \"nacionalidad_venezolano\", \"duro\", \"vida\", \"c\\u00f3mo\", \"control\", \"ir\", \"servir\", \"venezolana\", \"persona\", \"seguir\", \"hecho\", \"venezuela\", \"pa\\u00eds\", \"haber\", \"si\", \"hacer\", \"deber\", \"delincuente\", \"colombia\", \"migrant\", \"ver\", \"pasar\", \"tratar\", \"venir\", \"gobierno\", \"tener\", \"migrant_venezolano\", \"autoridad\"], \"Freq\": [265.0, 134.0, 43.0, 53.0, 91.0, 85.0, 12.0, 12.0, 12.0, 12.0, 69.0, 47.0, 11.0, 44.0, 63.0, 11.0, 32.0, 36.0, 7.0, 8.0, 24.0, 69.0, 57.0, 37.0, 45.0, 11.0, 6.0, 6.0, 6.0, 40.0, 4.0049863144465405, 4.0049863144465405, 4.0049863144465405, 3.999468786853053, 3.00623635850249, 3.00623635850249, 3.00623635850249, 3.00623635850249, 3.00623635850249, 3.00623635850249, 3.00623635850249, 3.00623635850249, 3.00623635850249, 3.00623635850249, 3.00623635850249, 3.00623635850249, 3.00623635850249, 3.00623635850249, 3.00623635850249, 3.00623635850249, 3.00623635850249, 3.0018187845334814, 2.999602440327236, 2.997811567705038, 7.883314348227299, 5.88581405847811, 4.887064480395147, 3.888314524451096, 3.888314524451096, 4.813253095645674, 9.551391185791461, 4.770393068260789, 8.846982547263929, 5.567699610768189, 12.522862057116415, 4.670115915111409, 33.561026245038626, 12.969827891241508, 11.359908409311425, 33.437970491977026, 3.785462247993291, 30.33244810995656, 11.933866553303277, 5.210058626183571, 13.407586006396729, 60.61154223441795, 7.52610639244847, 14.232824040460804, 5.728349896966264, 59.65066265020394, 54.04674694354493, 27.99286224299442, 23.372656487430564, 77.06211461292403, 35.20022089255103, 17.533564574508343, 18.85962120482762, 26.132014281803094, 8.793425272503917, 39.638592335792055, 16.307728796036475, 17.633821701020107, 20.70532449364893, 13.150669184627501, 26.155553516083597, 30.072996596015226, 18.66726421695189, 18.407758291014016, 19.094764159315165, 23.507247583758424, 17.207774256675556, 16.387174845316427, 13.880672621749229, 13.417274364669364, 13.251994902293518, 4.974278233704232, 4.974278233704232, 4.974278233704232, 4.974278233704232, 4.974278233704232, 4.974278233704232, 3.9814084089344184, 3.9814084089344184, 3.9814084089344184, 3.9814084089344184, 3.9814084089344184, 3.9814084089344184, 3.9814084089344184, 3.9814084089344184, 3.9814084089344184, 3.9814084089344184, 3.981407739653986, 2.988538249524389, 2.988538249524389, 2.988538249524389, 2.988538249524389, 2.988538249524389, 2.988538249524389, 2.988538249524389, 3.9586170677290107, 2.922215235793315, 3.8654234485569305, 3.8654234485569305, 3.8654234485569305, 3.8611106054504174, 6.708260686504391, 6.61206434067226, 6.6120636713918275, 6.6120636713918275, 6.6120636713918275, 4.690966807057684, 3.849561167668365, 3.8389162623907276, 12.612269832904602, 17.265949353871097, 119.03334534863919, 9.447988915673474, 8.072208696706557, 7.997850302103852, 41.040899885345695, 34.48202125279654, 19.476073969025087, 14.028180775879841, 10.293458760488662, 25.613188135793656, 14.681953980680483, 10.239746997945675, 18.218747685950856, 26.87383404981269, 39.15115713606934, 17.81362287028109, 39.11268421969212, 22.303459864269488, 33.33954349192555, 28.902117848599946, 15.323761789910323, 8.633639272404942, 24.783596299957196, 10.645138856507975, 21.77518744903448, 16.113188768436405, 14.908216277907783, 14.739868155058634, 11.955206445498183, 10.472194784929398, 12.033769259777351, 15.224076485183987, 13.090459993381636, 11.56121444054129, 11.028142615325399, 3.975419736945753, 2.984043097502537, 2.984043097502537, 2.984043097502537, 2.984043097502537, 2.984043097502537, 2.984043097502537, 12.666187585867819, 12.666187585867819, 12.666187585867819, 12.666187585867819, 2.956992879434857, 11.674809652985083, 3.859609301288123, 4.796000791963968, 3.8287395563164552, 2.8730323572175176, 2.8682329205328116, 2.8682329205328116, 2.8682329205328116, 2.8682329205328116, 2.8682329205328116, 2.8682329205328116, 2.8682329205328116, 2.8682329205328116, 2.8682329205328116, 2.8682329205328116, 2.8682329205328116, 2.8682329205328116, 2.8682329205328116, 4.734515333542454, 8.948740998339753, 13.262931947292948, 11.80468753686749, 22.032899943621167, 10.919621019803953, 5.78620272963468, 18.196514866299133, 5.114081369338044, 24.345594640284506, 37.323126570503725, 39.884232018209815, 5.84236232148665, 7.692024295345984, 26.917927143028397, 15.343732598214306, 15.442426172633663, 28.255894095068285, 42.08498728501243, 5.66881171088302, 10.570112966336977, 14.42958024796575, 11.242771880098324, 16.423750458811586, 9.180777839804799, 11.174922181860225, 16.803388409844516, 13.67579473797644, 13.932526961518176, 18.76884840234208, 10.34362032403253, 13.10088467040869, 11.700166241344641, 11.247501729736829, 11.372601130654763, 12.067635513368861, 6.923754519575747, 6.923754519575747, 6.923754519575747, 5.936057474464646, 4.948360859196141, 3.9606642439276363, 2.972967198816536, 2.972967198816536, 2.972967198816536, 7.78270682973541, 5.820677405504709, 5.820677405504709, 5.820677405504709, 5.820677405504709, 3.845283745125103, 2.8575869149353004, 2.8575869149353004, 2.8575869149353004, 2.8575869149353004, 2.8575869149353004, 4.7237921740275075, 2.8318623400202, 2.8143350783300742, 3.72990324632257, 2.804729815682253, 2.804729815682253, 2.804729815682253, 2.804729815682253, 2.755613636541261, 3.6209149367635596, 9.9598277695805, 3.5722907124735666, 3.4705160213588293, 4.004536558320034, 28.81928514282375, 3.9606642439276363, 15.594257817025612, 10.623270043581673, 9.700223474105833, 14.29679513502694, 15.28613116995618, 7.65540980464694, 27.601721602549638, 11.074059728857552, 9.756730581761905, 8.756219499024644, 9.523056970727069, 13.837630396612685, 15.542262337256032, 12.526777258066758, 12.310134870366387, 11.030982623267557, 8.865998718960096, 7.475261053337872, 14.337851120731047, 10.245645585923096, 10.612813692593985, 9.059151928165308, 10.559888033446892, 9.672018062648538, 9.201222643274614, 8.992102501002368, 7.974071034056514, 8.885834235390167, 8.293159527006408, 8.37116908067942, 8.127959841497299, 3.993303312984083, 2.9974671703580116, 2.9974671703580116, 2.9974671703580116, 2.9974671703580116, 2.9974671703580116, 2.9974671703580116, 2.9974671703580116, 2.9974671703580116, 2.9974671703580116, 3.9801510565874545, 2.9869718963479044, 2.9853184907888712, 5.8686450478326915, 5.858264089883543, 4.852019480095793, 3.87697194749277, 6.744109638620524, 6.744109638620524, 6.744109638620524, 6.744109638620524, 7.654867530224794, 5.747192078284102, 3.843729815071358, 3.8382463120403516, 3.837807794815427, 3.834011931030158, 2.8811360086386433, 2.8811360086386433, 2.8811360086386433, 3.825987391849146, 4.745734071476595, 6.49501433047601, 3.760641397089236, 7.408192625239042, 3.6949987103778894, 44.718467274209246, 7.976648698576147, 3.6017298460401714, 8.921650057937926, 5.956918239174938, 13.04517342461798, 8.198760933351661, 7.309409692078617, 18.13241175097031, 6.65884615890102, 10.233100211009985, 15.009070371180254, 13.309155903496022, 8.986641081970225, 14.650342088909541, 18.69000514948107, 24.611482556951632, 15.772132727113856, 17.36534242351676, 10.986661903795401, 10.524106925189852, 15.972293832921991, 8.354904038760472, 9.228552613977426, 8.961493178734901, 7.260988587498913, 8.163536914996412, 7.868433569640947, 7.818179332647012, 7.072814162563906, 6.9238218222373735], \"Total\": [265.0, 134.0, 43.0, 53.0, 91.0, 85.0, 12.0, 12.0, 12.0, 12.0, 69.0, 47.0, 11.0, 44.0, 63.0, 11.0, 32.0, 36.0, 7.0, 8.0, 24.0, 69.0, 57.0, 37.0, 45.0, 11.0, 6.0, 6.0, 6.0, 40.0, 4.044664106409217, 4.044664106409217, 4.044664106409217, 4.04462339786131, 3.0459141504651663, 3.0459141504651663, 3.0459141504651663, 3.0459141504651663, 3.0459141504651663, 3.0459141504651663, 3.0459141504651663, 3.0459141504651663, 3.0459141504651663, 3.0459141504651663, 3.0459141504651663, 3.0459141504651663, 3.0459141504651663, 3.0459141504651663, 3.0459141504651663, 3.0459141504651663, 3.0459141504651663, 3.0458815072450336, 3.045865408217536, 3.045851835209996, 8.039323248578404, 6.041822958829216, 5.043073393482, 4.043802441848017, 4.043976925157596, 5.0420072964646065, 10.03453211708584, 5.041865579197008, 10.030840019197255, 6.039603802714933, 15.019791489991789, 5.0411254894613, 49.87013920085185, 17.00860752417005, 15.013803683851053, 57.82525778025247, 4.043371551078666, 53.77285753806615, 16.980450760100478, 6.036487172440114, 19.98464493443447, 147.2117629026756, 10.022852440575935, 22.970717515782482, 7.037200229921632, 157.2179010739407, 138.29714354348044, 60.74977946332191, 47.84570967006424, 265.5947913083665, 91.54310353896823, 33.897190156978475, 37.838730331983385, 63.718083065574646, 13.00814260640244, 124.37656286518185, 32.889188923756464, 39.83631362170048, 51.751234005118754, 24.922778720287187, 77.63579768172013, 102.47291369808558, 45.780642937425036, 44.815006244777074, 54.70520754236531, 134.26956103702605, 56.67716669071949, 69.52941708683599, 35.83992981399938, 65.60526201485888, 85.35222608301592, 5.0140148241539535, 5.0140148241539535, 5.0140148241539535, 5.0140148241539535, 5.0140148241539535, 5.0140148241539535, 4.0211449993841395, 4.0211449993841395, 4.0211449993841395, 4.0211449993841395, 4.0211449993841395, 4.0211449993841395, 4.0211449993841395, 4.0211449993841395, 4.0211449993841395, 4.0211449993841395, 4.0211443301037075, 3.02827483997411, 3.02827483997411, 3.02827483997411, 3.02827483997411, 3.02827483997411, 3.02827483997411, 3.02827483997411, 4.021025793210876, 3.028667479409944, 4.020970164440897, 4.020970164440897, 4.020970180608891, 4.021248824805948, 7.00038414906645, 7.00052412978945, 7.000523457260173, 7.000523460509017, 7.000523497557916, 5.013588803441879, 4.020457587201564, 4.020402203520856, 16.952363355636802, 24.892316782634616, 265.5947913083665, 11.977237359945816, 9.971732311507386, 9.984370984863592, 91.54310353896823, 77.63579768172013, 36.85456471775898, 24.873668805226593, 15.92372101589276, 60.641134887510034, 26.882997663669844, 15.95656696179928, 37.80892704246538, 69.64303218329269, 124.37656286518185, 38.78781061225283, 147.2117629026756, 65.60526201485888, 157.2179010739407, 134.26956103702605, 40.80771885828718, 13.946550022910658, 102.47291369808558, 20.914667226052856, 85.35222608301592, 56.67716669071949, 54.70520754236531, 59.689123133313814, 33.80759770276665, 23.921315250871103, 41.771841053456036, 138.29714354348044, 69.52941708683599, 46.73412717858985, 39.78536631469759, 4.015171261234137, 3.0237946217909206, 3.0237946217909206, 3.0237946217909206, 3.0237946217909206, 3.0237946217909206, 3.0237946217909206, 12.938254816830948, 12.938254816830948, 12.938254829566695, 12.938254829566695, 3.0238353684394332, 11.946876875768945, 4.016032306345788, 5.007316357880048, 4.014626948111171, 3.024294089548651, 3.023364698479123, 3.0233647119117038, 3.0233647119117038, 3.0233647119117038, 3.0233647119117038, 3.0233647119117038, 3.0233647387768663, 3.0233647387768663, 3.0233647387768663, 3.0233647387768663, 3.0233647387768663, 3.0233647387768663, 3.0233647387768663, 5.007230525026473, 12.960857865567682, 21.876446922412534, 18.917897502303294, 43.64753672726532, 18.91550909741855, 7.9900241498516476, 44.766801446132376, 7.000038907385533, 69.52941708683599, 138.29714354348044, 157.2179010739407, 8.976103691164258, 13.941482844312375, 102.47291369808558, 41.771841053456036, 43.738175659587945, 134.26956103702605, 265.5947913083665, 8.991793084606247, 26.892049449690163, 46.75264522548354, 30.8585834083651, 65.60526201485888, 21.89548632516434, 33.80759770276665, 85.35222608301592, 56.67716669071949, 59.689123133313814, 124.37656286518185, 30.844201119508753, 60.641134887510034, 54.70520754236531, 51.751234005118754, 63.718083065574646, 147.2117629026756, 6.963542841291989, 6.963542841291989, 6.963542841291989, 5.975845796180889, 4.988149180912384, 4.0004525656438785, 3.012755520532778, 3.012755520532778, 3.012755520532778, 7.952680432522811, 5.977137172565756, 5.977137184373915, 5.977137184373915, 5.977137207990233, 4.000882208443584, 3.013185362085787, 3.013185378253781, 3.013185378253781, 3.0131853944217752, 3.014046693804506, 4.990333369600439, 3.013494593187886, 3.0135240021387335, 4.001486307927368, 3.01463796266128, 3.01463796266128, 3.01463796266128, 3.014638021702075, 3.015187986503497, 4.0018925698045384, 11.92080054000122, 4.002073306162075, 4.005250676529459, 4.994294771613213, 85.35222608301592, 4.99920217693729, 40.753942392550194, 22.849519466939224, 19.862841649772214, 36.76601605631644, 43.64753672726532, 14.922114554314042, 147.2117629026756, 30.824563263496827, 24.86403616753055, 20.87976883868945, 24.839925738465027, 53.77285753806615, 69.52941708683599, 45.780642937425036, 46.73412717858985, 37.838730331983385, 24.851041063499007, 18.91860433936283, 138.29714354348044, 51.751234005118754, 63.718083065574646, 39.78536631469759, 91.54310353896823, 60.74977946332191, 56.67716669071949, 54.70520754236531, 33.8003415090478, 134.26956103702605, 65.60526201485888, 157.2179010739407, 124.37656286518185, 4.033010238729286, 3.0371740961032145, 3.0371740961032145, 3.0371740961032145, 3.0371740961032145, 3.0371740961032145, 3.0371740961032145, 3.0371740961032145, 3.0371740961032145, 3.0371740961032145, 4.032970933714578, 3.037142855641071, 3.037137932231492, 6.024162115180133, 6.0241160623595285, 5.028233228906359, 4.032059140328482, 7.020350392651371, 7.020350416267688, 7.0203504324356825, 7.0203504324356825, 8.0163154705868, 6.024517317251175, 4.033447672828912, 4.032446506194693, 4.032414372069461, 4.032412365866212, 3.036223201474355, 3.036223228339517, 3.036223228339517, 4.032455618435339, 5.028618035563719, 7.018571143863955, 4.032317505028, 9.993487694230641, 4.033883018256686, 134.26956103702605, 11.997815932476644, 4.03143104375764, 16.933901187422308, 9.0035651676028, 32.89200698526369, 16.96042352123418, 13.965453422684861, 69.64303218329269, 11.990916036831369, 27.909367054305022, 59.689123133313814, 47.84570967006424, 21.932714775526104, 63.718083065574646, 124.37656286518185, 265.5947913083665, 102.47291369808558, 138.29714354348044, 46.75264522548354, 44.766801446132376, 157.2179010739407, 36.76601605631644, 60.74977946332191, 57.82525778025247, 19.91153899929805, 41.771841053456036, 33.8003415090478, 147.2117629026756, 51.751234005118754, 17.95627604649404], \"Category\": [\"Default\", \"Default\", \"Default\", \"Default\", \"Default\", \"Default\", \"Default\", \"Default\", \"Default\", \"Default\", \"Default\", \"Default\", \"Default\", \"Default\", \"Default\", \"Default\", \"Default\", \"Default\", \"Default\", \"Default\", \"Default\", \"Default\", \"Default\", \"Default\", \"Default\", \"Default\", \"Default\", \"Default\", \"Default\", \"Default\", \"Topic1\", \"Topic1\", \"Topic1\", \"Topic1\", \"Topic1\", \"Topic1\", \"Topic1\", \"Topic1\", \"Topic1\", \"Topic1\", \"Topic1\", \"Topic1\", \"Topic1\", \"Topic1\", \"Topic1\", \"Topic1\", \"Topic1\", \"Topic1\", \"Topic1\", \"Topic1\", \"Topic1\", \"Topic1\", \"Topic1\", \"Topic1\", \"Topic1\", \"Topic1\", \"Topic1\", \"Topic1\", \"Topic1\", \"Topic1\", \"Topic1\", \"Topic1\", \"Topic1\", \"Topic1\", \"Topic1\", \"Topic1\", \"Topic1\", \"Topic1\", \"Topic1\", \"Topic1\", \"Topic1\", \"Topic1\", \"Topic1\", \"Topic1\", \"Topic1\", \"Topic1\", \"Topic1\", \"Topic1\", \"Topic1\", \"Topic1\", \"Topic1\", \"Topic1\", \"Topic1\", \"Topic1\", \"Topic1\", \"Topic1\", \"Topic1\", \"Topic1\", \"Topic1\", \"Topic1\", \"Topic1\", \"Topic1\", \"Topic1\", \"Topic1\", \"Topic1\", \"Topic1\", \"Topic1\", \"Topic1\", \"Topic1\", \"Topic1\", \"Topic1\", \"Topic1\", \"Topic1\", \"Topic1\", \"Topic1\", \"Topic2\", \"Topic2\", \"Topic2\", \"Topic2\", \"Topic2\", \"Topic2\", \"Topic2\", \"Topic2\", \"Topic2\", \"Topic2\", \"Topic2\", \"Topic2\", \"Topic2\", \"Topic2\", \"Topic2\", \"Topic2\", \"Topic2\", \"Topic2\", \"Topic2\", \"Topic2\", \"Topic2\", \"Topic2\", \"Topic2\", \"Topic2\", \"Topic2\", \"Topic2\", \"Topic2\", \"Topic2\", \"Topic2\", \"Topic2\", \"Topic2\", \"Topic2\", \"Topic2\", \"Topic2\", \"Topic2\", \"Topic2\", \"Topic2\", \"Topic2\", \"Topic2\", \"Topic2\", \"Topic2\", \"Topic2\", \"Topic2\", \"Topic2\", \"Topic2\", \"Topic2\", \"Topic2\", \"Topic2\", \"Topic2\", \"Topic2\", \"Topic2\", \"Topic2\", \"Topic2\", \"Topic2\", \"Topic2\", \"Topic2\", \"Topic2\", \"Topic2\", \"Topic2\", \"Topic2\", \"Topic2\", \"Topic2\", \"Topic2\", \"Topic2\", \"Topic2\", \"Topic2\", \"Topic2\", \"Topic2\", \"Topic2\", \"Topic2\", \"Topic2\", \"Topic2\", \"Topic2\", \"Topic2\", \"Topic2\", \"Topic3\", \"Topic3\", \"Topic3\", \"Topic3\", \"Topic3\", \"Topic3\", \"Topic3\", \"Topic3\", \"Topic3\", \"Topic3\", \"Topic3\", \"Topic3\", \"Topic3\", \"Topic3\", \"Topic3\", \"Topic3\", \"Topic3\", \"Topic3\", \"Topic3\", \"Topic3\", \"Topic3\", \"Topic3\", \"Topic3\", \"Topic3\", \"Topic3\", \"Topic3\", \"Topic3\", \"Topic3\", \"Topic3\", \"Topic3\", \"Topic3\", \"Topic3\", \"Topic3\", \"Topic3\", \"Topic3\", \"Topic3\", \"Topic3\", \"Topic3\", \"Topic3\", \"Topic3\", \"Topic3\", \"Topic3\", \"Topic3\", \"Topic3\", \"Topic3\", \"Topic3\", \"Topic3\", \"Topic3\", \"Topic3\", \"Topic3\", \"Topic3\", \"Topic3\", \"Topic3\", \"Topic3\", \"Topic3\", \"Topic3\", \"Topic3\", \"Topic3\", \"Topic3\", \"Topic3\", \"Topic3\", \"Topic3\", \"Topic3\", \"Topic3\", \"Topic3\", \"Topic3\", \"Topic4\", \"Topic4\", \"Topic4\", \"Topic4\", \"Topic4\", \"Topic4\", \"Topic4\", \"Topic4\", \"Topic4\", \"Topic4\", \"Topic4\", \"Topic4\", \"Topic4\", \"Topic4\", \"Topic4\", \"Topic4\", \"Topic4\", \"Topic4\", \"Topic4\", \"Topic4\", \"Topic4\", \"Topic4\", \"Topic4\", \"Topic4\", \"Topic4\", \"Topic4\", \"Topic4\", \"Topic4\", \"Topic4\", \"Topic4\", \"Topic4\", \"Topic4\", \"Topic4\", \"Topic4\", \"Topic4\", \"Topic4\", \"Topic4\", \"Topic4\", \"Topic4\", \"Topic4\", \"Topic4\", \"Topic4\", \"Topic4\", \"Topic4\", \"Topic4\", \"Topic4\", \"Topic4\", \"Topic4\", \"Topic4\", \"Topic4\", \"Topic4\", \"Topic4\", \"Topic4\", \"Topic4\", \"Topic4\", \"Topic4\", \"Topic4\", \"Topic4\", \"Topic4\", \"Topic4\", \"Topic4\", \"Topic4\", \"Topic4\", \"Topic4\", \"Topic4\", \"Topic4\", \"Topic4\", \"Topic5\", \"Topic5\", \"Topic5\", \"Topic5\", \"Topic5\", \"Topic5\", \"Topic5\", \"Topic5\", \"Topic5\", \"Topic5\", \"Topic5\", \"Topic5\", \"Topic5\", \"Topic5\", \"Topic5\", \"Topic5\", \"Topic5\", \"Topic5\", \"Topic5\", \"Topic5\", \"Topic5\", \"Topic5\", \"Topic5\", \"Topic5\", \"Topic5\", \"Topic5\", \"Topic5\", \"Topic5\", \"Topic5\", \"Topic5\", \"Topic5\", \"Topic5\", \"Topic5\", \"Topic5\", \"Topic5\", \"Topic5\", \"Topic5\", \"Topic5\", \"Topic5\", \"Topic5\", \"Topic5\", \"Topic5\", \"Topic5\", \"Topic5\", \"Topic5\", \"Topic5\", \"Topic5\", \"Topic5\", \"Topic5\", \"Topic5\", \"Topic5\", \"Topic5\", \"Topic5\", \"Topic5\", \"Topic5\", \"Topic5\", \"Topic5\", \"Topic5\", \"Topic5\", \"Topic5\", \"Topic5\", \"Topic5\", \"Topic5\", \"Topic5\", \"Topic5\", \"Topic5\", \"Topic5\"], \"logprob\": [30.0, 29.0, 28.0, 27.0, 26.0, 25.0, 24.0, 23.0, 22.0, 21.0, 20.0, 19.0, 18.0, 17.0, 16.0, 15.0, 14.0, 13.0, 12.0, 11.0, 10.0, 9.0, 8.0, 7.0, 6.0, 5.0, 4.0, 3.0, 2.0, 1.0, -6.6976, -6.6976, -6.6976, -6.699, -6.9844, -6.9844, -6.9844, -6.9844, -6.9844, -6.9844, -6.9844, -6.9844, -6.9844, -6.9844, -6.9844, -6.9844, -6.9844, -6.9844, -6.9844, -6.9844, -6.9844, -6.9859, -6.9866, -6.9872, -6.0204, -6.3126, -6.4985, -6.7271, -6.7271, -6.5137, -5.8284, -6.5227, -5.905, -6.3681, -5.5576, -6.5439, -4.5718, -5.5225, -5.655, -4.5754, -6.7539, -4.6729, -5.6057, -6.4345, -5.4893, -3.9806, -6.0667, -5.4296, -6.3397, -3.9966, -4.0953, -4.7532, -4.9336, -3.7405, -4.5241, -5.221, -5.1481, -4.822, -5.9111, -4.4053, -5.2935, -5.2153, -5.0547, -5.5086, -4.8211, -4.6815, -5.1583, -5.1723, -5.1357, -4.9278, -5.2398, -5.2886, -5.4546, -5.4886, -5.501, -6.3594, -6.3594, -6.3594, -6.3594, -6.3594, -6.3594, -6.582, -6.582, -6.582, -6.582, -6.582, -6.582, -6.582, -6.582, -6.582, -6.582, -6.582, -6.8689, -6.8689, -6.8689, -6.8689, -6.8689, -6.8689, -6.8689, -6.5878, -6.8913, -6.6116, -6.6116, -6.6116, -6.6127, -6.0603, -6.0748, -6.0748, -6.0748, -6.0748, -6.418, -6.6157, -6.6185, -5.429, -5.1149, -3.1842, -5.7178, -5.8752, -5.8845, -4.2491, -4.4232, -4.9945, -5.3226, -5.6321, -4.7205, -5.277, -5.6374, -5.0612, -4.6725, -4.2962, -5.0837, -4.2972, -4.8589, -4.4569, -4.5997, -5.2342, -5.808, -4.7535, -5.5985, -4.8829, -5.184, -5.2617, -5.2731, -5.4825, -5.6149, -5.4759, -5.2408, -5.3918, -5.516, -5.5632, -6.3261, -6.6129, -6.6129, -6.6129, -6.6129, -6.6129, -6.6129, -5.1673, -5.1673, -5.1673, -5.1673, -6.622, -5.2488, -6.3556, -6.1384, -6.3637, -6.6508, -6.6525, -6.6525, -6.6525, -6.6525, -6.6525, -6.6525, -6.6525, -6.6525, -6.6525, -6.6525, -6.6525, -6.6525, -6.6525, -6.1513, -5.5147, -5.1212, -5.2377, -4.6137, -5.3157, -5.9507, -4.805, -6.0742, -4.5139, -4.0866, -4.0202, -5.9411, -5.666, -4.4134, -4.9755, -4.9691, -4.3649, -3.9665, -5.9712, -5.3482, -5.0369, -5.2865, -4.9075, -5.4891, -5.2925, -4.8846, -5.0906, -5.072, -4.774, -5.3698, -5.1335, -5.2466, -5.2861, -5.275, -5.2157, -5.5859, -5.5859, -5.5859, -5.7398, -5.9218, -6.1445, -6.4313, -6.4313, -6.4313, -5.469, -5.7594, -5.7594, -5.7594, -5.7594, -6.174, -6.4709, -6.4709, -6.4709, -6.4709, -6.4709, -5.9683, -6.4799, -6.4861, -6.2045, -6.4896, -6.4896, -6.4896, -6.4896, -6.5072, -6.2341, -5.2223, -6.2477, -6.2766, -6.1334, -4.1598, -6.1445, -4.774, -5.1578, -5.2487, -4.8608, -4.7939, -5.4855, -4.203, -5.1163, -5.2429, -5.3511, -5.2671, -4.8935, -4.7773, -4.993, -5.0104, -5.1202, -5.3386, -5.5093, -4.858, -5.194, -5.1588, -5.3171, -5.1638, -5.2516, -5.3015, -5.3245, -5.4447, -5.3364, -5.4054, -5.3961, -5.4256, -6.083, -6.3698, -6.3698, -6.3698, -6.3698, -6.3698, -6.3698, -6.3698, -6.3698, -6.3698, -6.0863, -6.3733, -6.3739, -5.698, -5.6997, -5.8882, -6.1125, -5.5589, -5.5589, -5.5589, -5.5589, -5.4323, -5.7189, -6.1211, -6.1226, -6.1227, -6.1237, -6.4094, -6.4094, -6.4094, -6.1258, -5.9103, -5.5966, -6.143, -5.465, -6.1606, -3.6672, -5.3911, -6.1862, -5.2791, -5.683, -4.8992, -5.3636, -5.4784, -4.5699, -5.5716, -5.142, -4.7589, -4.8791, -5.2719, -4.7831, -4.5396, -4.2644, -4.7093, -4.6131, -5.0709, -5.1139, -4.6967, -5.3447, -5.2453, -5.2747, -5.4851, -5.3679, -5.4047, -5.4111, -5.5113, -5.5326], \"loglift\": [30.0, 29.0, 28.0, 27.0, 26.0, 25.0, 24.0, 23.0, 22.0, 21.0, 20.0, 19.0, 18.0, 17.0, 16.0, 15.0, 14.0, 13.0, 12.0, 11.0, 10.0, 9.0, 8.0, 7.0, 6.0, 5.0, 4.0, 3.0, 2.0, 1.0, 1.2926, 1.2926, 1.2926, 1.2912, 1.2893, 1.2893, 1.2893, 1.2893, 1.2893, 1.2893, 1.2893, 1.2893, 1.2893, 1.2893, 1.2893, 1.2893, 1.2893, 1.2893, 1.2893, 1.2893, 1.2893, 1.2879, 1.2871, 1.2865, 1.2829, 1.2763, 1.271, 1.2632, 1.2632, 1.256, 1.2531, 1.2471, 1.1769, 1.2211, 1.1206, 1.226, 0.9064, 1.0314, 1.0236, 0.7547, 1.2365, 0.7299, 0.9498, 1.1552, 0.9033, 0.4151, 1.016, 0.8238, 1.0967, 0.3333, 0.3629, 0.5276, 0.586, 0.0651, 0.3467, 0.6432, 0.6061, 0.4111, 0.9109, 0.1589, 0.6009, 0.4875, 0.3864, 0.6631, 0.2145, 0.0765, 0.4054, 0.4127, 0.2499, -0.4401, 0.1104, -0.1428, 0.3539, -0.2847, -0.5602, 1.416, 1.416, 1.416, 1.416, 1.416, 1.416, 1.414, 1.414, 1.414, 1.414, 1.414, 1.414, 1.414, 1.414, 1.414, 1.414, 1.414, 1.4107, 1.4107, 1.4107, 1.4107, 1.4107, 1.4107, 1.4107, 1.4083, 1.3881, 1.3845, 1.3845, 1.3845, 1.3833, 1.3813, 1.3668, 1.3668, 1.3668, 1.3668, 1.3574, 1.3805, 1.3777, 1.1282, 1.0581, 0.6214, 1.1867, 1.2126, 1.2021, 0.6217, 0.6123, 0.7861, 0.8512, 0.9876, 0.5621, 0.819, 0.9803, 0.6938, 0.4717, 0.268, 0.6458, 0.0985, 0.345, -0.127, -0.112, 0.4445, 0.9444, 0.0045, 0.7486, 0.0579, 0.1662, 0.1239, 0.0253, 0.3844, 0.5979, 0.1794, -0.7826, -0.2459, 0.0271, 0.1409, 1.6714, 1.6681, 1.6681, 1.6681, 1.6681, 1.6681, 1.6681, 1.6601, 1.6601, 1.6601, 1.6601, 1.659, 1.6583, 1.6416, 1.6382, 1.6339, 1.63, 1.6287, 1.6287, 1.6287, 1.6287, 1.6287, 1.6287, 1.6287, 1.6287, 1.6287, 1.6287, 1.6287, 1.6287, 1.6287, 1.6253, 1.3109, 1.1809, 1.2097, 0.9977, 1.1319, 1.3586, 0.7811, 1.3674, 0.632, 0.3716, 0.3097, 1.2519, 1.0867, 0.3445, 0.6798, 0.6402, 0.1228, -0.1609, 1.22, 0.7476, 0.5058, 0.6717, 0.2964, 0.8122, 0.5743, 0.0561, 0.2596, 0.2264, -0.2098, 0.5888, 0.1491, 0.139, 0.155, -0.0419, -0.82, 1.861, 1.861, 1.861, 1.86, 1.8587, 1.8567, 1.8534, 1.8534, 1.8534, 1.8451, 1.8402, 1.8402, 1.8402, 1.8402, 1.827, 1.8137, 1.8137, 1.8137, 1.8137, 1.8134, 1.8118, 1.8045, 1.7983, 1.7964, 1.7945, 1.7945, 1.7945, 1.7945, 1.7767, 1.7667, 1.687, 1.7531, 1.7234, 1.6458, 0.781, 1.6338, 0.9061, 1.1008, 1.15, 0.9222, 0.8175, 1.1993, 0.1927, 0.843, 0.9312, 0.9977, 0.908, 0.5093, 0.3685, 0.5707, 0.5327, 0.6341, 0.836, 0.9382, -0.3998, 0.2471, 0.0743, 0.387, -0.293, 0.0292, 0.0487, 0.0611, 0.4224, -0.8487, -0.2015, -1.0661, -0.8613, 1.9101, 1.9068, 1.9068, 1.9068, 1.9068, 1.9068, 1.9068, 1.9068, 1.9068, 1.9068, 1.9068, 1.9033, 1.9028, 1.8938, 1.8921, 1.8843, 1.8808, 1.8798, 1.8798, 1.8798, 1.8798, 1.8738, 1.8728, 1.8718, 1.8706, 1.8705, 1.8695, 1.8675, 1.8675, 1.8675, 1.8674, 1.8621, 1.8424, 1.8502, 1.6206, 1.8322, 0.8205, 1.5118, 1.8073, 1.2791, 1.5069, 0.9952, 1.1931, 1.2725, 0.5743, 1.3318, 0.9166, 0.5395, 0.6404, 1.0277, 0.45, 0.0246, -0.4588, 0.0486, -0.155, 0.4718, 0.4722, -0.3668, 0.4382, 0.0355, 0.0555, 0.9112, 0.2874, 0.4624, -1.0154, -0.0702, 0.967]}, \"token.table\": {\"Topic\": [1, 5, 1, 3, 1, 2, 3, 4, 5, 3, 1, 2, 5, 1, 3, 4, 5, 5, 1, 2, 4, 5, 1, 2, 3, 4, 5, 4, 1, 4, 5, 1, 2, 3, 4, 5, 1, 4, 4, 5, 2, 2, 1, 2, 3, 4, 5, 1, 2, 3, 4, 5, 5, 5, 1, 2, 3, 4, 5, 4, 1, 2, 3, 4, 5, 3, 2, 1, 2, 4, 5, 5, 5, 1, 1, 2, 3, 5, 1, 1, 2, 3, 4, 1, 2, 3, 5, 1, 2, 3, 4, 5, 1, 2, 3, 4, 5, 4, 2, 1, 2, 3, 4, 5, 1, 1, 2, 1, 2, 3, 4, 5, 1, 2, 4, 4, 3, 1, 3, 5, 4, 1, 2, 3, 4, 5, 1, 2, 5, 1, 2, 3, 4, 5, 1, 2, 3, 4, 5, 1, 2, 3, 4, 5, 1, 2, 3, 4, 5, 1, 2, 3, 5, 2, 2, 2, 2, 5, 2, 1, 2, 4, 5, 5, 2, 1, 2, 4, 5, 1, 2, 3, 4, 5, 2, 1, 1, 2, 3, 4, 2, 5, 4, 1, 1, 2, 4, 1, 1, 4, 2, 3, 4, 5, 1, 2, 3, 4, 5, 3, 4, 2, 4, 5, 5, 5, 5, 5, 1, 2, 4, 5, 2, 4, 1, 2, 3, 4, 5, 1, 2, 3, 4, 5, 1, 4, 1, 2, 3, 4, 5, 5, 2, 5, 5, 3, 1, 2, 3, 4, 5, 1, 2, 3, 4, 5, 1, 2, 3, 5, 1, 3, 4, 1, 2, 3, 4, 5, 2, 5, 4, 3, 2, 4, 3, 4, 4, 5, 3, 1, 2, 3, 4, 5, 2, 1, 2, 3, 4, 5, 1, 1, 2, 3, 4, 5, 4, 1, 2, 3, 4, 5, 1, 3, 3, 4, 1, 2, 3, 4, 5, 1, 5, 1, 2, 3, 4, 5, 1, 2, 3, 4, 5, 2, 1, 2, 3, 4, 5, 1, 1, 2, 3, 4, 2, 2, 2, 1, 2, 3, 4, 5, 1, 1, 2, 3, 4, 1, 2, 3, 4, 5, 5, 3, 2, 1, 2, 3, 4, 1, 4, 5, 1, 1, 3, 2, 3, 3, 4, 5, 5, 1, 3, 4, 5, 4, 1, 2, 3, 4, 4, 1, 2, 3, 4, 5, 1, 2, 3, 4, 5, 2, 1, 2, 3, 4, 5, 2, 5, 3, 3, 5, 2, 5, 1, 2, 3, 4, 5, 4, 2, 1, 5, 1, 2, 3, 4, 5, 4, 1, 2, 3, 4, 5, 1, 2, 3, 4, 2, 1, 2, 5, 1, 2, 3, 2, 1, 2, 4, 2, 4, 5, 1, 2, 4, 5, 1, 1, 2, 4, 5, 5, 5, 1, 1, 3, 5, 2, 1, 3, 3, 4, 3, 3, 4, 1, 2, 3, 4, 5, 1, 1, 3, 5, 1, 2, 4, 5, 1, 2, 3, 4, 5, 3, 1, 3, 4, 5, 3, 2, 1, 3, 1, 4, 5, 1, 2, 1, 1, 2, 3, 4, 5, 1, 2, 5, 1, 3, 5, 1, 2, 3, 4, 5, 4, 3, 2, 5, 1, 2, 1, 2, 3, 4, 5, 2, 3, 3, 1, 4, 5, 2, 2, 3, 1, 2, 4, 5, 1, 2, 3, 4, 5, 3, 1, 2, 3, 4, 5, 1, 4, 1, 4, 1, 2, 3, 3, 4, 1, 1, 5, 1, 2, 1, 2, 3, 4, 5, 1, 2, 3, 4, 5, 1, 2, 3, 4, 5, 5, 4, 2, 1, 4, 1, 2, 3, 4, 1, 2, 3, 4, 5, 1, 2, 3, 4, 5, 1, 2, 3, 4, 5, 1, 2, 3, 4, 5, 3, 1, 2, 3, 4, 5, 1, 3, 1, 2, 3, 4, 5, 2, 5, 1, 2], \"Freq\": [0.9918420024363062, 0.9959304096975587, 0.9849259866834544, 0.9963565859791649, 0.21437593514889094, 0.4287518702977819, 0.21437593514889094, 0.11543319584940283, 0.032980913099829375, 0.9985388664591696, 0.6504994230645748, 0.3002305029528807, 0.9917074236380379, 0.42286417414813576, 0.1585740653055509, 0.37000615237961876, 0.05285802176851697, 0.9971012227051147, 0.5579022832990196, 0.16737068498970586, 0.2603543988728758, 0.018596742776633986, 0.09142252428345618, 0.18284504856691236, 0.5942464078424652, 0.09142252428345618, 0.9880696425739002, 0.999628561036327, 0.9930777583000677, 1.0052354325289463, 0.9877603012119358, 0.390625764968197, 0.13950920177435608, 0.27901840354871216, 0.13950920177435608, 0.05580368070974243, 0.9849259866834544, 0.9956241011767198, 1.0052354325289463, 0.9877603012119358, 0.9999252259829756, 0.994741547646907, 0.2784541731845479, 0.16707250391072873, 0.055690834636909575, 0.11138166927381915, 0.38983584245836705, 0.1981548369863326, 0.3353389548999475, 0.2438828762908709, 0.12194143814543545, 0.07621339884089716, 0.9943089661291981, 0.9920489409473617, 0.2262138276875737, 0.2764835671737012, 0.10053947897225499, 0.2262138276875737, 0.15080921845838247, 0.9955122301567416, 0.3348970549203473, 0.4379423025881465, 0.07728393575084938, 0.051522623833899585, 0.09016459170932427, 1.0047722961128212, 0.9999252255189244, 0.18599116298540946, 0.5579734889562284, 0.11159469779124569, 0.14879293038832758, 0.9880696425739002, 0.9877603012119358, 0.9849259866834544, 0.19443536732063757, 0.29165305098095634, 0.3564648400878355, 0.1296235782137584, 0.9849259866834544, 0.2999444219356794, 0.2823006324100512, 0.24701305335879478, 0.1587941057306538, 0.691874333816906, 0.07687492597965623, 0.15374985195931246, 0.07687492597965623, 0.3816359307060178, 0.2098997618883098, 0.2544239538040119, 0.05088479076080237, 0.10176958152160474, 0.15231002864946772, 0.2577554330990992, 0.19917465284930394, 0.3397685254488126, 0.058580780249795274, 1.002375794840492, 0.9905346230298187, 0.07160526548859807, 0.21481579646579418, 0.07160526548859807, 0.14321053097719613, 0.5012368584201864, 0.9889672304509475, 0.9934426488874766, 0.9906630535640709, 0.13701454059744356, 0.13701454059744356, 0.41104362179233067, 0.13701454059744356, 0.18268605412992475, 0.1434046410556378, 0.6453208847503701, 0.21510696158345669, 0.7490167887817432, 0.9921175045810333, 0.798175973100558, 0.09977199663756975, 0.09977199663756975, 0.995144371283523, 0.17688237538667875, 0.11792158359111916, 0.05896079179555958, 0.11792158359111916, 0.47168633436447666, 0.7326591070210724, 0.13321074673110408, 0.13321074673110408, 0.25677167253264804, 0.25677167253264804, 0.08559055751088268, 0.25677167253264804, 0.12838583626632402, 0.2138916408209836, 0.1069458204104918, 0.29944829714937704, 0.12833498449259018, 0.23528080490308198, 0.38233355268648, 0.4478764474327337, 0.04369526316416914, 0.12016197370146514, 0.010923815791042285, 0.25936804033287325, 0.19452603024965492, 0.3242100504160915, 0.12968402016643663, 0.09726301512482746, 0.1340278913430919, 0.22337981890515318, 0.40208367402927575, 0.24571780079566852, 0.9947847997912682, 0.9947847997912682, 0.9906630535640709, 0.9906630535640709, 0.9918246537710079, 0.9906630535640709, 0.13402926191997314, 0.20104389287995972, 0.5361170476798925, 0.13402926191997314, 0.9877603012119358, 0.9947847957913194, 0.11106711412477621, 0.11106711412477621, 0.11106711412477621, 0.6664026847486573, 0.2270916197631765, 0.12976663986467227, 0.09732497989850421, 0.3568582596278488, 0.19464995979700841, 0.9972896055152051, 0.9889572767393857, 0.06279939211456571, 0.6279939211456571, 0.12559878422913143, 0.18839817634369713, 0.997204869820799, 0.9922035020774302, 1.0019370710699305, 0.9849259866834544, 0.989273419340576, 0.802267825698449, 0.20056695642461225, 0.9849259866834544, 0.9951086369632721, 0.995766161427356, 0.20138105466122325, 0.15103579099591743, 0.5034526366530581, 0.15103579099591743, 0.3346714060167584, 0.03718571177963982, 0.409042829576038, 0.11155713533891946, 0.11155713533891946, 1.0047722951237754, 0.9994819419827012, 0.994741547646907, 1.0038250405192646, 0.9880696513165549, 0.9943850597971368, 0.9919514009560426, 0.9918149876208381, 0.9919620408516306, 0.32560417120372614, 0.515539937739233, 0.054267361867287686, 0.08140104280093154, 0.9906630535640709, 1.0052354325289463, 0.11834199956024899, 0.20709849923043572, 0.20709849923043572, 0.23668399912049798, 0.23668399912049798, 0.5021310132052753, 0.02642794806343554, 0.07928384419030662, 0.290707428697791, 0.10571179225374217, 0.9965586719258148, 0.995766161427356, 0.28991532409458975, 0.44805095541891143, 0.15813563132432168, 0.01129540223745155, 0.0941283519787629, 0.9959891326431526, 0.994741547646907, 0.9877720626918628, 0.9959967467243513, 0.9922719505788866, 0.48648204846556453, 0.1824307681745867, 0.12162051211639113, 0.12162051211639113, 0.060810256058195566, 0.390463596111965, 0.1084621100311014, 0.2675398714100501, 0.10123130269569464, 0.12292372470191491, 0.13678197298893377, 0.27356394597786754, 0.18237596398524503, 0.4103459189668013, 0.9849259866834544, 0.9922719505788866, 0.999527081306775, 0.2699125373944386, 0.12268751699747209, 0.07361251019848325, 0.39260005439191065, 0.1472250203969665, 0.994741547646907, 0.9919615473315493, 0.9949628392752023, 0.992271941761708, 0.20022846982998338, 0.8009138793199335, 1.004446611845377, 0.995144371283523, 0.995624106518988, 0.9877603012119358, 0.9921308736977554, 0.18666619749963573, 0.3876913332684742, 0.10051256788441923, 0.07179469134601374, 0.25846088884564944, 0.997204869820799, 0.2815311220123288, 0.12065619514814092, 0.12065619514814092, 0.40218731716046974, 0.08043746343209394, 0.9916964110725706, 0.45184903831549966, 0.17571907045602764, 0.22592451915774983, 0.10041089740344437, 0.025102724350861094, 0.9956241118612563, 0.15857999017252017, 0.10571999344834677, 0.6343199606900807, 0.05285999672417339, 0.10571999344834677, 0.9889572767393857, 0.9921308736977554, 0.992271941761708, 0.9997794965216116, 0.16095905156565715, 0.24143857734848573, 0.12071928867424286, 0.3621578660227286, 0.12071928867424286, 0.9849259866834544, 0.9877603012119358, 0.22054651060634553, 0.36757751767724256, 0.19604134276119603, 0.04901033569029901, 0.147031007070897, 0.1631941842926219, 0.08159709214631095, 0.1359951535771849, 0.3807864300161177, 0.21759224572349584, 0.994741547646907, 0.4057874252413551, 0.03864642145155763, 0.21255531798356694, 0.19323210725778814, 0.1352624750804517, 0.9849259866834544, 0.17505838605435733, 0.21882298256794666, 0.131293789540768, 0.4814105616494827, 0.9949116271573943, 0.997204869820799, 0.9999251299217412, 0.6817707057737515, 0.06015623874474278, 0.10026039790790464, 0.10026039790790464, 0.0802083183263237, 0.9849259866834544, 0.21146668479284497, 0.10573334239642249, 0.5815333831803237, 0.05286667119821124, 0.9849365422995287, 0.17715941334464952, 0.11810627556309969, 0.17715941334464952, 0.5314782400339486, 0.9971012227051147, 1.0047722961128212, 0.999925220227016, 0.09164320142495737, 0.045821600712478684, 0.5040376078372655, 0.3436620053435901, 0.706695020617285, 0.23556500687242835, 0.058891251718107086, 0.9849259866834544, 0.9914589001346539, 0.9921308736977554, 0.3342207379971655, 0.668441475994331, 0.9922719505788866, 1.0038250444854864, 0.9971012283556854, 0.9919536424984565, 0.9916685371530379, 0.1000651654954568, 0.1000651654954568, 0.7004561584681975, 0.995624106518988, 0.07172838149049289, 0.28691352596197156, 0.5738270519239431, 0.07172838149049289, 0.9955219454455332, 0.09562667090914323, 0.5259466900002878, 0.047813335454571615, 0.09562667090914323, 0.23906667727285807, 0.5706848748587787, 0.034586962112653254, 0.17293481056326626, 0.06917392422530651, 0.15564132950693965, 0.9947417132119796, 0.3216039990054883, 0.3135638990303511, 0.15276189952760696, 0.06432079980109766, 0.15276189952760696, 0.994741547646907, 0.9877603012119358, 0.992271941761708, 0.9922719505788866, 0.9877603012119358, 0.9947158642173869, 0.991600396416223, 0.18428818221088353, 0.2513020666512048, 0.2345485955411245, 0.08376735555040161, 0.2513020666512048, 1.0038250444854864, 0.994741547646907, 0.984941748215862, 0.9919853768985943, 0.12077330792315741, 0.24154661584631482, 0.16103107723087656, 0.4025776930771914, 0.08051553861543828, 1.0038250464685972, 0.18514146122522593, 0.476078043150581, 0.13224390087516139, 0.07934634052509683, 0.1057951207001291, 0.2301184257019937, 0.18697122088286988, 0.34517763855299055, 0.2301184257019937, 0.994741547646907, 0.8655246651501356, 0.06657882039616428, 0.06657882039616428, 0.2314661599653767, 0.07715538665512557, 0.6943984798961301, 0.994741547646907, 0.5216111793111566, 0.2808675580906228, 0.2006196843504449, 0.9999451245734133, 0.995144371283523, 0.9877603012119358, 0.6094716018505311, 0.13060105753939952, 0.08706737169293301, 0.17413474338586601, 0.9891253273766191, 0.4150225680746778, 0.19658963750905792, 0.28396280973530585, 0.10921646528280995, 0.9971012250014569, 0.8548748565789706, 0.9849259866834544, 0.14285634883328002, 0.7142817441664001, 0.14285634883328002, 0.9906630535640709, 0.8282963016682536, 0.16565926033365072, 0.9919670214505242, 0.9951443517939145, 0.992271941761708, 0.992271941761708, 0.9998868713885611, 0.08873744968145118, 0.35494979872580473, 0.32537064883198763, 0.08873744968145118, 0.1478957494690853, 0.9891680064795649, 0.22242504706029728, 0.6672751411808918, 0.11121252353014864, 0.209018607361814, 0.418037214723628, 0.0418037214723628, 0.2926260503065396, 0.19157300212003045, 0.28735950318004566, 0.04789325053000761, 0.43103925477006855, 0.09578650106001523, 0.9985559831946355, 0.48071185814995815, 0.10450257785868655, 0.12540309343042386, 0.27170670243258505, 0.9922719505788866, 0.9906630535640709, 0.9849259866834544, 0.9921308736977554, 0.25018939260229844, 0.16679292840153231, 0.5837752494053631, 0.8972329319155316, 0.09969254799061462, 0.9849259866834544, 0.2927602906694793, 0.24396690889123274, 0.26348426160253136, 0.04879338177824655, 0.15613882169038895, 0.7643188886289707, 0.11758752132753394, 0.05879376066376697, 0.9849259866834544, 0.7509364036291934, 0.2503121345430645, 0.4016511768777851, 0.15619767989691644, 0.2231395427098806, 0.08925581708395225, 0.1115697713549403, 0.995766161427356, 1.0047722951237754, 0.8012522783987175, 0.20031306959967937, 0.9849259866834544, 0.997204869820799, 0.4143690612572056, 0.2649244817873937, 0.08151522516535191, 0.19020219205248778, 0.054343483443567944, 0.994741547646907, 0.992271941761708, 0.9921308736977554, 0.2500455096897562, 0.08334850322991873, 0.6667880258393498, 0.9947710374685046, 0.997204869820799, 0.9921308736977554, 0.2506804884519443, 0.6267012211298607, 0.06267012211298607, 0.06267012211298607, 0.2057698992762422, 0.2286332214180469, 0.34294983212707036, 0.16004325499263283, 0.06858996642541407, 0.9922719549874759, 0.10044427003209079, 0.1506664050481362, 0.20088854006418158, 0.20088854006418158, 0.3515549451123178, 0.16777396730100771, 0.8388698365050387, 0.20003191801549416, 0.8001276720619767, 0.1606921539256033, 0.682941654183814, 0.12051911544420248, 0.99600792396006, 0.9953395898499584, 0.9849461373399883, 0.8526118063954559, 0.14210196773257597, 0.2359553011037819, 0.7668547285872912, 0.17874490550677963, 0.21598342748735871, 0.20853572309124288, 0.06702933956504235, 0.3351466978252118, 0.08040631302366416, 0.5628441911656491, 0.12060946953549624, 0.12060946953549624, 0.12060946953549624, 0.28664211497286535, 0.03583026437160817, 0.25081185060125716, 0.07166052874321634, 0.35830264371608167, 0.9877704614479745, 1.005950140695164, 0.997204869820799, 0.9889572767393857, 1.0040419724074119, 0.34731611218704994, 0.2741969306739868, 0.21935754453918943, 0.16451815840439207, 0.4080474293811136, 0.0156941318992736, 0.1726354508920096, 0.1726354508920096, 0.235411978489104, 0.11969786042232199, 0.28727486501357274, 0.35909358126696594, 0.023939572084464397, 0.19151657667571517, 0.4609070229943006, 0.16460965106939307, 0.06584386042775722, 0.16460965106939307, 0.14814868596245376, 0.27362270730491417, 0.06080504606775871, 0.21281766123715548, 0.030402523033879355, 0.3952327994404316, 0.9962215157842423, 0.2062503625165389, 0.46406331566221254, 0.10312518125826944, 0.18046906720197153, 0.07734388594370209, 0.9849259866834544, 0.992271941761708, 0.5310174653604528, 0.2655087326802264, 0.08850291089340881, 0.08850291089340881, 0.05900194059560587, 0.9949253327184557, 0.9979647170016369, 0.16698341528142244, 0.751425368766401], \"Term\": [\"adelante\", \"adversidad_hacer_momento_dif\\u00edcil\", \"afectaci\\u00f3n\", \"agravado\", \"ahora\", \"ahora\", \"ahora\", \"ahora\", \"ahora\", \"ahora_poder_acceder\", \"alcaldesa\", \"alcaldesa\", \"amnist\\u00eda_internacional\", \"apoyo\", \"apoyo\", \"apoyo\", \"apoyo\", \"aprender_junto_haber_superar\", \"aqu\\u00ed\", \"aqu\\u00ed\", \"aqu\\u00ed\", \"aqu\\u00ed\", \"asesinar\", \"asesinar\", \"asesinar\", \"asesinar\", \"asesinar_balazo\", \"asesinar_mujer\", \"asesinar_venezolana_dentro_motel\", \"asistencia_comunidad_acogida_agregar\", \"asumir_responsabilidad\", \"as\\u00ed\", \"as\\u00ed\", \"as\\u00ed\", \"as\\u00ed\", \"as\\u00ed\", \"as\\u00ed_historia\", \"atenci\\u00f3n_m\\u00e9dico\", \"atender_mill\\u00f3n_persona\", \"atravesar_serran\\u00eda\", \"atr\\u00e1s_har\\u00edar_si_lejos\", \"aumento_gasto\", \"autoridad\", \"autoridad\", \"autoridad\", \"autoridad\", \"autoridad\", \"a\\u00f1o\", \"a\\u00f1o\", \"a\\u00f1o\", \"a\\u00f1o\", \"a\\u00f1o\", \"a\\u00f1o_edad_nacionalidad_venezolano\", \"bala\", \"bien\", \"bien\", \"bien\", \"bien\", \"bien\", \"bienestar\", \"bogot\\u00e1\", \"bogot\\u00e1\", \"bogot\\u00e1\", \"bogot\\u00e1\", \"bogot\\u00e1\", \"buscar_mejor_oportunidad_cumplir\", \"buscar_oportunidad_inclusi\\u00f3n_dejar\", \"calle\", \"calle\", \"calle\", \"calle\", \"calle_carrera_barrio_villa\", \"cambio\", \"canales_hd\", \"capturar\", \"capturar\", \"capturar\", \"capturar\", \"capturar_medell\\u00edn_colombia\", \"ciudad\", \"ciudad\", \"ciudad\", \"ciudad\", \"claudia_l\\u00f3pez\", \"claudia_l\\u00f3pez\", \"claudia_l\\u00f3pez\", \"claudia_l\\u00f3pez\", \"colombia\", \"colombia\", \"colombia\", \"colombia\", \"colombia\", \"colombiano\", \"colombiano\", \"colombiano\", \"colombiano\", \"colombiano\", \"colombiano_binacional\", \"compartido\", \"control\", \"control\", \"control\", \"control\", \"control\", \"convertir\", \"coraz\\u00f3n\", \"correr\", \"creer\", \"creer\", \"creer\", \"creer\", \"creer\", \"criminal\", \"criminal\", \"criminal\", \"cruz_roja\", \"cuidar\", \"cultura\", \"cultura\", \"cultura\", \"cultural_econ\\u00f3mico\", \"c\\u00f3mo\", \"c\\u00f3mo\", \"c\\u00f3mo\", \"c\\u00f3mo\", \"c\\u00f3mo\", \"c\\u00facuta\", \"c\\u00facuta\", \"c\\u00facuta\", \"dar\", \"dar\", \"dar\", \"dar\", \"dar\", \"deber\", \"deber\", \"deber\", \"deber\", \"deber\", \"decir\", \"decir\", \"decir\", \"decir\", \"decir\", \"dejar\", \"dejar\", \"dejar\", \"dejar\", \"dejar\", \"delincuente\", \"delincuente\", \"delincuente\", \"delincuente\", \"delincuente_escapar\", \"delito_homicidio_tr\\u00e1fico\", \"despu\\u00e9s_cerca\", \"determinaci\\u00f3n\", \"diferente_carretera\", \"din\\u00e1mica_migratorio\", \"dios\", \"dios\", \"dios\", \"dios\", \"di\\u00e1spora_francia\", \"droga_hurto\", \"duro\", \"duro\", \"duro\", \"duro\", \"d\\u00eda\", \"d\\u00eda\", \"d\\u00eda\", \"d\\u00eda\", \"d\\u00eda\", \"echar\", \"emisora\", \"empezar\", \"empezar\", \"empezar\", \"empezar\", \"empezar_evidenciar_ingreso_nacional\", \"empleo\", \"emprendimiento\", \"encontrar_condici\\u00f3n\", \"entidad\", \"entonces\", \"entonces\", \"episodio_mundo\", \"equipo\", \"estrangular_venezolana\", \"extranjero\", \"extranjero\", \"extranjero\", \"extranjero\", \"familia\", \"familia\", \"familia\", \"familia\", \"familia\", \"familia_haber_llegar_colombia\", \"fecha\", \"final\", \"formar_hogar_construir_generaci\\u00f3n\", \"frente_soledad\", \"fuerte\", \"fuga\", \"ganado_pie\", \"gasto_colombia\", \"gente\", \"gente\", \"gente\", \"gente\", \"gesti\\u00f3n\", \"gifmm_comunicado_plan_esperar\", \"gobierno\", \"gobierno\", \"gobierno\", \"gobierno\", \"gobierno\", \"gracias\", \"gracias\", \"gracias\", \"gracias\", \"gracias\", \"grande\", \"guardar\", \"haber\", \"haber\", \"haber\", \"haber\", \"haber\", \"haber_clic_aqu\\u00ed\", \"haber_contribuir\", \"haber_detectar\", \"haber_ingresar\", \"habitaci\\u00f3n_inmueble\", \"hablar\", \"hablar\", \"hablar\", \"hablar\", \"hablar\", \"hacer\", \"hacer\", \"hacer\", \"hacer\", \"hacer\", \"hecho\", \"hecho\", \"hecho\", \"hecho\", \"hija_reci\\u00e9n\", \"hombre_lograr\", \"horror\", \"hoy\", \"hoy\", \"hoy\", \"hoy\", \"hoy\", \"impuesto_adem\\u00e1s\", \"indicar_migraci\\u00f3n\", \"informar\", \"ingresar_inmueble\", \"iniciativa\", \"iniciativa\", \"integraci\\u00f3n_aqu\\u00ed\", \"integraci\\u00f3n_social\", \"interior_motel_oca\\u00f1a\", \"introducir_ilegalmente\", \"invitamos_conocer\", \"ir\", \"ir\", \"ir\", \"ir\", \"ir\", \"jefe_autoridad\", \"joven\", \"joven\", \"joven\", \"joven\", \"joven\", \"leopoldo_l\\u00f3pez_abogar\", \"llegar\", \"llegar\", \"llegar\", \"llegar\", \"llegar\", \"llegar_ilegalmente\", \"llevar\", \"llevar\", \"llevar\", \"llevar\", \"llevar\", \"malditos\", \"manera_virtual_diferente\", \"marchar_junto\", \"mas_veneco\", \"matar\", \"matar\", \"matar\", \"matar\", \"matar\", \"medell\\u00edn_creer\", \"mercado\", \"migraci\\u00f3n\", \"migraci\\u00f3n\", \"migraci\\u00f3n\", \"migraci\\u00f3n\", \"migraci\\u00f3n\", \"migrant\", \"migrant\", \"migrant\", \"migrant\", \"migrant\", \"migrant_solo\", \"migrant_venezolano\", \"migrant_venezolano\", \"migrant_venezolano\", \"migrant_venezolano\", \"migrant_venezolano\", \"migrant_venezolano_vivir\", \"migrante\", \"migrante\", \"migrante\", \"migrante\", \"migratorio\", \"migratorio_colombiano\", \"millones_haber_llegar\", \"mujer\", \"mujer\", \"mujer\", \"mujer\", \"mujer\", \"mujer_transg\\u00e9nero\", \"mundo\", \"mundo\", \"mundo\", \"mundo\", \"municipal\", \"nacionalidad_venezolano\", \"nacionalidad_venezolano\", \"nacionalidad_venezolano\", \"nacionalidad_venezolano\", \"navidad_haber\", \"navidad_integraci\\u00f3n_conocer_abc\", \"navidad_pong\\u00e1mono_zapato_conocer\", \"ni\\u00f1o\", \"ni\\u00f1o\", \"ni\\u00f1o\", \"ni\\u00f1o\", \"nuevo\", \"nuevo\", \"nuevo\", \"obligar\", \"oca\\u00f1a_colombia\", \"oferta_conocer_detalle\", \"ojal\\u00e1\", \"ojal\\u00e1\", \"opinar\", \"oportunidad_aprender_integraci\\u00f3n_clic\", \"oportunidad_crecer_futuro_si\", \"oportunidad_se\\u00f1ora\", \"osea\", \"pa\", \"pa\", \"pa\", \"paciente\", \"pais\", \"pais\", \"pais\", \"pais\", \"paisa\", \"parecer\", \"parecer\", \"parecer\", \"parecer\", \"parecer\", \"pasar\", \"pasar\", \"pasar\", \"pasar\", \"pasar\", \"paso_autorizado_acuerdo\", \"pa\\u00eds\", \"pa\\u00eds\", \"pa\\u00eds\", \"pa\\u00eds\", \"pa\\u00eds\", \"pa\\u00eds_sino\", \"pedir_comunidad_internacional\", \"peque\\u00f1o_dos\", \"peque\\u00f1o_hija\", \"perij\\u00e1_procedente\", \"permanencia\", \"permitido\", \"persona\", \"persona\", \"persona\", \"persona\", \"persona\", \"persona_venir_gana\", \"peste\", \"pieza\", \"pir\\u00f3mano\", \"poblaci\\u00f3n\", \"poblaci\\u00f3n\", \"poblaci\\u00f3n\", \"poblaci\\u00f3n\", \"poblaci\\u00f3n\", \"poblaci\\u00f3n_migrante_poblaci\\u00f3n_joven\", \"pobre\", \"pobre\", \"pobre\", \"pobre\", \"pobre\", \"poder\", \"poder\", \"poder\", \"poder\", \"poder_aportar\", \"polic\\u00eda\", \"polic\\u00eda\", \"polic\\u00eda\", \"pol\\u00edtico\", \"pol\\u00edtico\", \"pol\\u00edtico\", \"potencial_emprendimiento\", \"problema\", \"problema\", \"problema\", \"procedencia_venezolano\", \"promover_estad\\u00eda\", \"proteger_vida\", \"pueblo\", \"pueblo\", \"pueblo\", \"pueblo\", \"quejar\", \"querer\", \"querer\", \"querer\", \"querer\", \"querer_conocer_integraci\\u00f3n\", \"querer_decir\", \"rayos\", \"recurso\", \"recurso\", \"recurso\", \"red_social\", \"referir\", \"referir\", \"reflejar\", \"regular_poblaci\\u00f3n\", \"residir_alquilado\", \"resultar_ileso\", \"retornado_persona\", \"robar\", \"robar\", \"robar\", \"robar\", \"robar\", \"robar_asesinar\", \"robo\", \"robo\", \"robo\", \"saber\", \"saber\", \"saber\", \"saber\", \"salir\", \"salir\", \"salir\", \"salir\", \"salir\", \"salir_pa\\u00eds\", \"seguir\", \"seguir\", \"seguir\", \"seguir\", \"seg\\u00fan_vecino\", \"seis_mes\", \"sena\", \"servicio_formaci\\u00f3n\", \"servir\", \"servir\", \"servir\", \"se\\u00f1alar\", \"se\\u00f1alar\", \"shantall_a\\u00f1o\", \"si\", \"si\", \"si\", \"si\", \"si\", \"siempre\", \"siempre\", \"siempre\", \"situaci\\u00f3n_migrant_venezolano\", \"soledad\", \"soledad\", \"solo\", \"solo\", \"solo\", \"solo\", \"solo\", \"sopa\", \"sue\\u00f1o_diciembre_hacer_cuento\", \"sujeto\", \"sujeto\", \"superar\", \"tarde\", \"tener\", \"tener\", \"tener\", \"tener\", \"tener\", \"tener_alto\", \"tener_momento\", \"tener_sena\", \"territorio\", \"territorio\", \"territorio\", \"territorio_nacional\", \"territorio_nacional_incluso_utilizar\", \"tienditas_ejemplo\", \"tomar\", \"tomar\", \"tomar\", \"tomar\", \"trabajar\", \"trabajar\", \"trabajar\", \"trabajar\", \"trabajar\", \"tras_suceso\", \"tratar\", \"tratar\", \"tratar\", \"tratar\", \"tratar\", \"trav\\u00e9s\", \"trav\\u00e9s\", \"tr\\u00e1nsito\", \"tr\\u00e1nsito\", \"usted\", \"usted\", \"usted\", \"vago\", \"ve\", \"vea\", \"veh\\u00edculo\", \"veh\\u00edculo\", \"veneca\", \"veneca\", \"veneco\", \"veneco\", \"veneco\", \"veneco\", \"veneco\", \"venecos\", \"venecos\", \"venecos\", \"venecos\", \"venecos\", \"venezolana\", \"venezolana\", \"venezolana\", \"venezolana\", \"venezolana\", \"venezolana_migraci\\u00f3n_colombia\", \"venezolano_colombia_ofrecer\", \"venezolano_comenzar_cambiar\", \"venezolano_emigrar\", \"venezolano_vocaci\\u00f3n_permanencia\", \"venezolanos\", \"venezolanos\", \"venezolanos\", \"venezolanos\", \"venezuela\", \"venezuela\", \"venezuela\", \"venezuela\", \"venezuela\", \"venir\", \"venir\", \"venir\", \"venir\", \"venir\", \"ver\", \"ver\", \"ver\", \"ver\", \"ver\", \"vida\", \"vida\", \"vida\", \"vida\", \"vida\", \"violaci\\u00f3n\", \"vivir\", \"vivir\", \"vivir\", \"vivir\", \"vivir\", \"vivir_mujer\", \"v\\u00edctima_atentado\", \"xenofobia\", \"xenofobia\", \"xenofobia\", \"xenofobia\", \"xenofobia\", \"xenofobo\", \"\\u00faltimo_dos_mes\", \"\\u00fanico\", \"\\u00fanico\"]}, \"R\": 30, \"lambda.step\": 0.01, \"plot.opts\": {\"xlab\": \"PC1\", \"ylab\": \"PC2\"}, \"topic.order\": [2, 5, 1, 3, 4]};\n",
       "\n",
       "function LDAvis_load_lib(url, callback){\n",
       "  var s = document.createElement('script');\n",
       "  s.src = url;\n",
       "  s.async = true;\n",
       "  s.onreadystatechange = s.onload = callback;\n",
       "  s.onerror = function(){console.warn(\"failed to load library \" + url);};\n",
       "  document.getElementsByTagName(\"head\")[0].appendChild(s);\n",
       "}\n",
       "\n",
       "if(typeof(LDAvis) !== \"undefined\"){\n",
       "   // already loaded: just create the visualization\n",
       "   !function(LDAvis){\n",
       "       new LDAvis(\"#\" + \"ldavis_el591396442014784803264257612\", ldavis_el591396442014784803264257612_data);\n",
       "   }(LDAvis);\n",
       "}else if(typeof define === \"function\" && define.amd){\n",
       "   // require.js is available: use it to load d3/LDAvis\n",
       "   require.config({paths: {d3: \"https://d3js.org/d3.v5\"}});\n",
       "   require([\"d3\"], function(d3){\n",
       "      window.d3 = d3;\n",
       "      LDAvis_load_lib(\"https://cdn.jsdelivr.net/gh/bmabey/pyLDAvis@3.2.2/pyLDAvis/js/ldavis.v3.0.0.js\", function(){\n",
       "        new LDAvis(\"#\" + \"ldavis_el591396442014784803264257612\", ldavis_el591396442014784803264257612_data);\n",
       "      });\n",
       "    });\n",
       "}else{\n",
       "    // require.js not available: dynamically load d3 & LDAvis\n",
       "    LDAvis_load_lib(\"https://d3js.org/d3.v5.js\", function(){\n",
       "         LDAvis_load_lib(\"https://cdn.jsdelivr.net/gh/bmabey/pyLDAvis@3.2.2/pyLDAvis/js/ldavis.v3.0.0.js\", function(){\n",
       "                 new LDAvis(\"#\" + \"ldavis_el591396442014784803264257612\", ldavis_el591396442014784803264257612_data);\n",
       "            })\n",
       "         });\n",
       "}\n",
       "</script>"
      ],
      "text/plain": [
       "<IPython.core.display.HTML object>"
      ]
     },
     "execution_count": 252,
     "metadata": {
      "tags": []
     },
     "output_type": "execute_result"
    }
   ],
   "source": [
    "m_vis = pyLDAvis.gensim.prepare(topic_model=m_lda_model, corpus=m_corpus, dictionary=m_dictionary_LDA)\n",
    "pyLDAvis.enable_notebook()\n",
    "pyLDAvis.display(m_vis)"
   ]
  },
  {
   "cell_type": "code",
   "execution_count": null,
   "metadata": {
    "colab": {
     "base_uri": "https://localhost:8080/",
     "height": 58
    },
    "id": "b7BnWjUDLNXT",
    "outputId": "4796f6ff-6091-43d9-aece-76b8467be5b0"
   },
   "outputs": [
    {
     "data": {
      "application/vnd.google.colaboratory.intrinsic+json": {
       "type": "string"
      },
      "text/plain": [
       "'@AlejaUribeT_ Por los VENECOS , seres inservibles facilitas.'"
      ]
     },
     "execution_count": 330,
     "metadata": {
      "tags": []
     },
     "output_type": "execute_result"
    }
   ],
   "source": [
    "df.loc[pd.isnull(df[['Victima', 'Victimario', 'Xenofobia', 'Denuncia', 'Positiva']]).all(axis=1)==True]['Snippet'][11905]"
   ]
  },
  {
   "cell_type": "code",
   "execution_count": null,
   "metadata": {
    "colab": {
     "base_uri": "https://localhost:8080/",
     "height": 221
    },
    "id": "nhn7ageiFeH4",
    "outputId": "20d871a2-4cb6-42b6-8a95-af0adfaca32c"
   },
   "outputs": [
    {
     "data": {
      "text/html": [
       "<div>\n",
       "<style scoped>\n",
       "    .dataframe tbody tr th:only-of-type {\n",
       "        vertical-align: middle;\n",
       "    }\n",
       "\n",
       "    .dataframe tbody tr th {\n",
       "        vertical-align: top;\n",
       "    }\n",
       "\n",
       "    .dataframe thead th {\n",
       "        text-align: right;\n",
       "    }\n",
       "</style>\n",
       "<table border=\"1\" class=\"dataframe\">\n",
       "  <thead>\n",
       "    <tr style=\"text-align: right;\">\n",
       "      <th></th>\n",
       "      <th>topic #</th>\n",
       "      <th>weight</th>\n",
       "      <th>words in topic</th>\n",
       "    </tr>\n",
       "  </thead>\n",
       "  <tbody>\n",
       "    <tr>\n",
       "      <th>0</th>\n",
       "      <td>0</td>\n",
       "      <td>0.2</td>\n",
       "      <td>0.019*\"haber\" + 0.018*\"colombia\" + 0.017*\"hace...</td>\n",
       "    </tr>\n",
       "    <tr>\n",
       "      <th>1</th>\n",
       "      <td>1</td>\n",
       "      <td>0.2</td>\n",
       "      <td>0.024*\"haber\" + 0.019*\"tener\" + 0.018*\"colombi...</td>\n",
       "    </tr>\n",
       "    <tr>\n",
       "      <th>2</th>\n",
       "      <td>2</td>\n",
       "      <td>0.2</td>\n",
       "      <td>0.016*\"colombiano\" + 0.015*\"tener\" + 0.008*\"ho...</td>\n",
       "    </tr>\n",
       "    <tr>\n",
       "      <th>3</th>\n",
       "      <td>3</td>\n",
       "      <td>0.2</td>\n",
       "      <td>0.026*\"veneco\" + 0.014*\"haber\" + 0.011*\"país\" ...</td>\n",
       "    </tr>\n",
       "    <tr>\n",
       "      <th>4</th>\n",
       "      <td>4</td>\n",
       "      <td>0.2</td>\n",
       "      <td>0.041*\"haber\" + 0.014*\"decir\" + 0.014*\"país\" +...</td>\n",
       "    </tr>\n",
       "  </tbody>\n",
       "</table>\n",
       "</div>"
      ],
      "text/plain": [
       "   topic #  weight                                     words in topic\n",
       "0        0     0.2  0.019*\"haber\" + 0.018*\"colombia\" + 0.017*\"hace...\n",
       "1        1     0.2  0.024*\"haber\" + 0.019*\"tener\" + 0.018*\"colombi...\n",
       "2        2     0.2  0.016*\"colombiano\" + 0.015*\"tener\" + 0.008*\"ho...\n",
       "3        3     0.2  0.026*\"veneco\" + 0.014*\"haber\" + 0.011*\"país\" ...\n",
       "4        4     0.2  0.041*\"haber\" + 0.014*\"decir\" + 0.014*\"país\" +..."
      ]
     },
     "execution_count": 331,
     "metadata": {
      "tags": []
     },
     "output_type": "execute_result"
    }
   ],
   "source": [
    "tokens = df.loc[pd.isnull(df[['Victima', 'Victimario', 'Xenofobia', 'Denuncia', 'Positiva']]).all(axis=1)==True]['tokens'][11905]\n",
    "topics = m_lda_model.show_topics(formatted=True, num_topics=num_topics, num_words=20)\n",
    "pd.DataFrame([(el[0], round(el[1],2), topics[el[0]][1]) for el in m_lda_model[m_dictionary_LDA.doc2bow(tokens)]], columns=['topic #', 'weight', 'words in topic'])"
   ]
  },
  {
   "cell_type": "code",
   "execution_count": null,
   "metadata": {
    "colab": {
     "base_uri": "https://localhost:8080/"
    },
    "id": "g-ikj6QkLGXE",
    "outputId": "34d1ed54-3ca7-42b2-cd7d-7daf14743b2c"
   },
   "outputs": [
    {
     "data": {
      "text/plain": [
       "11874    [Cita, :, Iniciado, por, rolohotbta, Buenas, n...\n",
       "11875    [@LauraMedinaRuiz, Los, venezolanos, venden, e...\n",
       "11876    [He, perdido, absolutamente, la, confianza, en...\n",
       "11877    [Witness, at, Arizona, Hearing, Offers, Bombsh...\n",
       "11878    [PK21, Reacción, El, canal, de, difusión, para...\n",
       "11879    [@MiguelRamirezcx, @IvanDuque, Si, fuese, de, ...\n",
       "11880    [La, venezolana, Oriana, Altuve, se, lleva, un...\n",
       "11881    [Capturan, a, dos, venezolanos, por, delito, d...\n",
       "11882    [Gracias, al, Proyecto, Migración, Venezuela, ...\n",
       "11883    [Cuál, es, el, cereal, venezolano, que, más, e...\n",
       "11884    [Para, entender, el, alcance, del, Barómetro, ...\n",
       "11885    [Venezolanos, estarían, siendo, amenazados, y,...\n",
       "11886    [@gabocifuentes, @IvanDuque, Los, Venezolanos,...\n",
       "11887         [JAJAJAJAJAJAJA, Popular, entre, venecos, .]\n",
       "11888    [No, me, importa, qué, tan, atractivo, sea, ,,...\n",
       "11889    [@jaimeflozada, @Legarda77443474, De, hecho, d...\n",
       "11890    [Le, recomendamos, observar, a, sus, caballos,...\n",
       "11891           [@jvdci, Ahora, veneco, chimbiado, JAJAJA]\n",
       "11892    [@AlvaroDeLaHozRo, @HELIODOPTERO, @NicolasMadu...\n",
       "11893    [@FlacaPuroHueso, @maparoch, Por, eso, mismo, ...\n",
       "11894    [En, los, hemos, acompañado, a, nuestros, soci...\n",
       "11895    [Sera, que, esta, rata, le, compra, la, comida...\n",
       "11896    [Diosdado, Cabello, (, @dcabellor, ), lanza, u...\n",
       "11897    [Si, eres, migrante, venezolano, o, colombiano...\n",
       "11898    [los, venezolanos, para, sufragar, el, domingo...\n",
       "11899    [Al, país, llegó, gente, venezolana, sin, prep...\n",
       "11900    [El, Gobierno, de, extendió, el, terrestres, y...\n",
       "11901    [los, resultados, clínicos, que, nos, conlleve...\n",
       "11902                [@ghitis, Parece, cédula, venezolana]\n",
       "11903    [interesar, :, La, historia, de, Manuel, Gonzá...\n",
       "11904    [Quién, iba, a, pensar, que, algún, día, llega...\n",
       "11905    [@AlejaUribeT, _, Por, los, VENECOS, ,, seres,...\n",
       "11906    [@PoliciaBogota, @GaulaPolicia, Me, imagino, v...\n",
       "11907    [Buenas, noches, ,, vengo, del, barrio, muy, s...\n",
       "11908    [Efemérides, del, 30, de, noviembre, Laudelino...\n",
       "11909    [En, la, frontera, Colombo-Venezuela, ,, en, l...\n",
       "11910    [Al, barrio, El, Carmen, ,, llegaron, efectivo...\n",
       "11911    [@BluRadioCo, @SenorCaicedo, Si, liberan, el, ...\n",
       "11912    [@elespectador, Se, parece, a, la, venezolana, 😆]\n",
       "11913    [sentimental, ,, el, capitán, Guillermo, Salga...\n",
       "11914                        [@rcnradio, Paridos, venecos]\n",
       "11915    [@BarrosKrlos, @zuleSCOUT1, @JuniorClubSA, Al,...\n",
       "11916    [@Autoresineditor, Las, hayacas, venezolanas, ...\n",
       "11917    [EL, UNIVERSAL, Por, estos, días, el, dolor, y...\n",
       "11918    [La, venezolana, Oriana, Altuve, fue, reconoci...\n",
       "11919    [Embajada, en, Canadá, realizo, trámites, cons...\n",
       "11920    [@ALIROCHO, @BISONTE42, Por, lo, tanto, es, un...\n",
       "11921    [@belenger55, @RevistaSemana, Pero, cuando, la...\n",
       "11922    [Créditos, :, GAULA, El, Gaula, de, la, Policí...\n",
       "11923    [Son, providas, hasta, que, el, feto, nace, ve...\n",
       "Name: tokens, dtype: object"
      ]
     },
     "execution_count": 326,
     "metadata": {
      "tags": []
     },
     "output_type": "execute_result"
    }
   ],
   "source": [
    "df.loc[pd.isnull(df[['Victima', 'Victimario', 'Xenofobia', 'Denuncia', 'Positiva']]).all(axis=1)==True]['tokens'][10350:10400]"
   ]
  },
  {
   "cell_type": "code",
   "execution_count": null,
   "metadata": {
    "id": "q67OHZ-pMPah"
   },
   "outputs": [],
   "source": []
  }
 ],
 "metadata": {
  "colab": {
   "collapsed_sections": [],
   "name": "lda.ipynb",
   "provenance": []
  },
  "kernelspec": {
   "display_name": "Python 3",
   "language": "python",
   "name": "python3"
  },
  "language_info": {
   "codemirror_mode": {
    "name": "ipython",
    "version": 3
   },
   "file_extension": ".py",
   "mimetype": "text/x-python",
   "name": "python",
   "nbconvert_exporter": "python",
   "pygments_lexer": "ipython3",
   "version": "3.8.3"
  }
 },
 "nbformat": 4,
 "nbformat_minor": 1
}
