{
 "cells": [
  {
   "cell_type": "code",
   "execution_count": 1,
   "id": "ea868890",
   "metadata": {},
   "outputs": [],
   "source": [
    "import pandas as pd\n",
    "import numpy as np\n",
    "import time\n",
    "import os"
   ]
  },
  {
   "cell_type": "code",
   "execution_count": null,
   "id": "d80eb009",
   "metadata": {},
   "outputs": [],
   "source": [
    "paises = ['Perú','Colombia','Ecuador']\n",
    "#Pegar base sitios\n",
    "sitios = pd.DataFrame()\n",
    "for pais in paises:\n",
    "    base = pd.read_excel('Noticias_Integración_'+pais+'_2022_blogs.xlsx')\n",
    "    base['Country Code'] = base['Country Code'].fillna(0)\n",
    "    base['Country Code'] = base['Country Code'].replace(0,base['Country Code'][0])\n",
    "    sitios = sitios.append(base, ignore_index=True)\n",
    "sitios.head(1)"
   ]
  },
  {
   "cell_type": "code",
   "execution_count": null,
   "id": "3fb854f8",
   "metadata": {},
   "outputs": [],
   "source": [
    "sitios['Mecanismo'] = sitios['Mecanismo'].fillna(0)\n",
    "pd.unique(sitios['Mecanismo'])"
   ]
  },
  {
   "cell_type": "code",
   "execution_count": null,
   "id": "c5af7ac3",
   "metadata": {},
   "outputs": [],
   "source": [
    "di = {'III':3,'II ': 2, 'II': 2, 'I':1,'I ':1}\n",
    "sitios['Mecanismo'] = sitios['Mecanismo'].map(di).fillna(0)\n",
    "pd.unique(sitios['Mecanismo'])"
   ]
  },
  {
   "cell_type": "code",
   "execution_count": null,
   "id": "eb66cce2",
   "metadata": {},
   "outputs": [],
   "source": [
    "sitios['Mecanismo A'] = sitios['Mecanismo A'].fillna(0)\n",
    "print(pd.unique(sitios['Mecanismo A']))\n",
    "di = {'III':3,'II ': 2, 'II': 2, 'I':1,'I ':1,'<<aqdrt eb,':0,'i':1,'ii':2}\n",
    "sitios['Mecanismo A'] = sitios['Mecanismo A'].map(di).fillna(0)\n",
    "pd.unique(sitios['Mecanismo A'])"
   ]
  },
  {
   "cell_type": "code",
   "execution_count": null,
   "id": "1ffd0b6a",
   "metadata": {},
   "outputs": [],
   "source": [
    "sitios['Mecanismo B'] = sitios['Mecanismo B'].fillna(0)\n",
    "print(pd.unique(sitios['Mecanismo B']))\n",
    "di = {'III':3,'II ': 2, 'II': 2, 'I':1,'I ':1,'<<aqdrt eb,':0,'i':1,'ii':2}\n",
    "sitios['Mecanismo B'] = sitios['Mecanismo B'].map(di).fillna(0)\n",
    "pd.unique(sitios['Mecanismo B'])"
   ]
  },
  {
   "cell_type": "code",
   "execution_count": null,
   "id": "03faf7f8",
   "metadata": {},
   "outputs": [],
   "source": [
    "sitios['Mecanismo'] = np.where(sitios['Country Code'] == 'COL', sitios['Mecanismo A'], sitios['Mecanismo'])\n",
    "sitios.head(1)"
   ]
  },
  {
   "cell_type": "code",
   "execution_count": null,
   "id": "7115bd9f",
   "metadata": {},
   "outputs": [],
   "source": [
    "#Explorar formato datetime\n",
    "index_date = pd.to_datetime(sitios['Date'][0], format='%Y/%m/%d', \n",
    "                                    exact = False)\n",
    "index_day_of_week = index_date.day_name()\n",
    "print(index_day_of_week)\n",
    "print(sitios['Date'][0])\n",
    "sitios.set_index('Date', inplace=True)\n",
    "sitios.head(2)"
   ]
  },
  {
   "cell_type": "code",
   "execution_count": null,
   "id": "2290ce68",
   "metadata": {},
   "outputs": [],
   "source": [
    "sitios['Mecanismo 1'] = np.where(sitios['Mecanismo'] == 1, 1, 0)\n",
    "sitios['Mecanismo 2'] = np.where(sitios['Mecanismo'] == 2, 1, 0)\n",
    "sitios['Mecanismo 3'] = np.where(sitios['Mecanismo'] == 3, 1, 0)"
   ]
  },
  {
   "cell_type": "code",
   "execution_count": 3,
   "id": "7c1ec25e",
   "metadata": {},
   "outputs": [],
   "source": [
    "def new_case_count(state_new_cases, numero_mecanismo = None):\n",
    "    i = 1\n",
    "    cent = list()\n",
    "    if numero_mecanismo == None: numero_mecanismo = 'Mecanismo'\n",
    "    returned_data = pd.DataFrame()\n",
    "    first_Monday_found = False\n",
    "    week_case_count = 0\n",
    "    week_case_counts = []\n",
    "    for index, value in state_new_cases.iterrows():\n",
    "        try:\n",
    "            index_date = pd.to_datetime(index, format='%Y/%m/%d', \n",
    "                                        exact = False)\n",
    "        except:\n",
    "            index_date = pd.to_datetime(np.nan, format='%Y/%m/%d', \n",
    "                                        exact = False)\n",
    "        index_day_of_week = index_date.day_name()\n",
    "        if not first_Monday_found and index_day_of_week != 'Monday':\n",
    "            continue\n",
    "        first_Monday_found = True\n",
    "        week_case_count += value[numero_mecanismo]\n",
    "        if index_day_of_week == 'Sunday':\n",
    "            week_case_counts.append(week_case_count)\n",
    "            df2 = pd.DataFrame({numero_mecanismo: week_case_count}, index=[index_date.date()])\n",
    "            if i == 1:\n",
    "                returned_data = pd.concat([returned_data, df2])\n",
    "                i += 1\n",
    "            else:\n",
    "                if index_date.date() in cent:\n",
    "                    i += 1\n",
    "                else:\n",
    "                    returned_data = pd.concat([returned_data, df2])\n",
    "            cent.append(index_date.date())         \n",
    "            week_case_count = 0\n",
    "            di = dict()\n",
    "    return returned_data"
   ]
  },
  {
   "cell_type": "code",
   "execution_count": 19,
   "id": "7f3828ed",
   "metadata": {},
   "outputs": [],
   "source": [
    "def pegado_bases(df, paises):\n",
    "    for pais in paises:\n",
    "        new_cases_weekly_total_method_1 = pd.DataFrame(new_case_count(df[df['Country Code'] == pais],'Mecanismo 1'))\n",
    "        new_cases_weekly_total_method_2 = pd.DataFrame(new_case_count(df[df['Country Code'] == pais],'Mecanismo 2'))\n",
    "        merged = pd.merge(new_cases_weekly_total_method_1,new_cases_weekly_total_method_2, left_on=new_cases_weekly_total_method_1.index, right_on=new_cases_weekly_total_method_2.index)\n",
    "        merged = merged.rename(columns={\"key_0\": \"Fecha\"})\n",
    "        new_cases_weekly_total_method_3 = pd.DataFrame(new_case_count(df[df['Country Code'] == pais],'Mecanismo 3'))\n",
    "        merged = pd.merge(merged,new_cases_weekly_total_method_3, left_on=merged.Fecha, right_on=new_cases_weekly_total_method_3.index)\n",
    "        merged = merged.drop('key_0', axis = 'columns')\n",
    "        merged.set_index('Fecha', inplace=True)\n",
    "        merged['Pais'] = pais\n",
    "        if pais == 'COL':\n",
    "            COL = merged\n",
    "        elif pais == 'PER':\n",
    "            print(\"ENTRÉ\")\n",
    "            PER = merged\n",
    "            print(PER.head(2))\n",
    "        else:\n",
    "            ECU = merged\n",
    "    base_1 = COL.append(PER)\n",
    "    base_final = base_1.append(ECU)\n",
    "    print(base_final.head(2))\n",
    "    return base_final"
   ]
  },
  {
   "cell_type": "code",
   "execution_count": 20,
   "id": "96c86227",
   "metadata": {},
   "outputs": [
    {
     "ename": "NameError",
     "evalue": "name 'sitios' is not defined",
     "output_type": "error",
     "traceback": [
      "\u001b[1;31m---------------------------------------------------------------------------\u001b[0m",
      "\u001b[1;31mNameError\u001b[0m                                 Traceback (most recent call last)",
      "\u001b[1;32m~\\AppData\\Local\\Temp/ipykernel_5612/94617204.py\u001b[0m in \u001b[0;36m<module>\u001b[1;34m\u001b[0m\n\u001b[1;32m----> 1\u001b[1;33m \u001b[0mpegado_bases\u001b[0m\u001b[1;33m(\u001b[0m\u001b[0msitios\u001b[0m\u001b[1;33m,\u001b[0m \u001b[1;33m[\u001b[0m\u001b[1;34m'COL'\u001b[0m\u001b[1;33m,\u001b[0m\u001b[1;34m'PER'\u001b[0m\u001b[1;33m,\u001b[0m\u001b[1;34m'ECU'\u001b[0m\u001b[1;33m]\u001b[0m\u001b[1;33m)\u001b[0m\u001b[1;33m.\u001b[0m\u001b[0mto_excel\u001b[0m\u001b[1;33m(\u001b[0m\u001b[1;34m'Noticias_Integración_2022_blogs_desagregado_semanal.xlsx'\u001b[0m\u001b[1;33m)\u001b[0m\u001b[1;33m\u001b[0m\u001b[1;33m\u001b[0m\u001b[0m\n\u001b[0m",
      "\u001b[1;31mNameError\u001b[0m: name 'sitios' is not defined"
     ]
    }
   ],
   "source": [
    "pegado_bases(sitios, ['COL','PER','ECU']).to_excel('Noticias_Integración_2022_blogs_desagregado_semanal.xlsx')"
   ]
  },
  {
   "cell_type": "code",
   "execution_count": null,
   "id": "fefc718e",
   "metadata": {},
   "outputs": [],
   "source": [
    "sitios_limpio = pd.DataFrame({'Pais':['Colombia','Colombia','Colombia',\n",
    "                                      'Ecuador','Ecuador','Ecuador',\n",
    "                                      'Peru','Peru','Peru'],\n",
    "                              'Variable':['Mecanismo I','Mecanismo II','Mecanismo III',\n",
    "                                      'Mecanismo I','Mecanismo II','Mecanismo III',\n",
    "                                      'Mecanismo I','Mecanismo II','Mecanismo III'],\n",
    "                              'Fecha':['28/02/2022','28/02/2022','28/02/2022','28/02/2022','28/02/2022','28/02/2022','28/02/2022','28/02/2022','28/02/2022'],\n",
    "                              'Dato':[212, 79,176,\n",
    "                                     1,5,10,\n",
    "                                     14,46,163]})\n",
    "sitios_limpio.to_excel('Noticias_Integración_2022_blogs.xlsx')"
   ]
  },
  {
   "cell_type": "code",
   "execution_count": 21,
   "id": "d2de0bf3",
   "metadata": {},
   "outputs": [
    {
     "name": "stdout",
     "output_type": "stream",
     "text": [
      "['III' nan 'II ' 'II' 'I' 'III ' 'I ' 'II Y III']\n",
      "['III' 0 'II ' 'II' 'I' 'III ' 'I ' 'II Y III']\n",
      "[3. 0. 2. 1.]\n",
      "                                                                     Title  \\\n",
      "Date                                                                         \n",
      "2022-08-14 12:56:08.000  ¿Populismo? Expulsar extranjeros no soluciona ...   \n",
      "\n",
      "                         Mecanismo  \\\n",
      "Date                                 \n",
      "2022-08-14 12:56:08.000        3.0   \n",
      "\n",
      "                                                                   Snippet  \\\n",
      "Date                                                                         \n",
      "2022-08-14 12:56:08.000  ¿Populismo? Expulsar extranjeros no soluciona ...   \n",
      "\n",
      "                                                                       Url  \\\n",
      "Date                                                                         \n",
      "2022-08-14 12:56:08.000  http://twitter.com/larepublica_pe/statuses/155...   \n",
      "\n",
      "                              Domain Sentiment Country Code Continent Code  \\\n",
      "Date                                                                         \n",
      "2022-08-14 12:56:08.000  twitter.com   neutral          PER  SOUTH AMERICA   \n",
      "\n",
      "                             Continent Country  ... Ciudades Expanded URLs  \\\n",
      "Date                                            ...                          \n",
      "2022-08-14 12:56:08.000  South America    Peru  ...     Lima           NaN   \n",
      "\n",
      "                        Categoría Barómetro V3 Language Thread Author  \\\n",
      "Date                                                                    \n",
      "2022-08-14 12:56:08.000                    NaN      NaN           NaN   \n",
      "\n",
      "                        Thread Created Date Categorias Mecanismo 1  \\\n",
      "Date                                                                 \n",
      "2022-08-14 12:56:08.000                 NaN        NaN           0   \n",
      "\n",
      "                        Mecanismo 2  Mecanismo 3  \n",
      "Date                                              \n",
      "2022-08-14 12:56:08.000           0            1  \n",
      "\n",
      "[1 rows x 49 columns]\n"
     ]
    }
   ],
   "source": [
    "paises_twitter = ['Perú','Colombia','Ecuador']\n",
    "#Pegar base Twitter\n",
    "twitter = pd.DataFrame()\n",
    "for pais in paises_twitter:\n",
    "    base = pd.read_excel('Noticias_Integración_'+pais+'_2022_Twitter.xlsx')\n",
    "    base['Country Code'] = base['Country Code'].fillna(0)\n",
    "    base['Country Code'] = base['Country Code'].replace(0,base['Country Code'][0])\n",
    "    twitter = twitter.append(base, ignore_index=True)\n",
    "print(pd.unique(twitter['Mecanismo']))\n",
    "twitter['Mecanismo'] = twitter['Mecanismo'].fillna(0)\n",
    "print(pd.unique(twitter['Mecanismo']))\n",
    "di = {'III':3,'II ': 2, 'II': 2, 'I':1,'I ':1,'II Y III':3, 'III ':3}\n",
    "twitter['Mecanismo'] = twitter['Mecanismo'].map(di).fillna(0)\n",
    "print(pd.unique(twitter['Mecanismo']))\n",
    "pd.unique(twitter['Country Code'])\n",
    "twitter['Mecanismo 1'] = np.where(twitter['Mecanismo'] == 1, 1, 0)\n",
    "twitter['Mecanismo 2'] = np.where(twitter['Mecanismo'] == 2, 1, 0)\n",
    "twitter['Mecanismo 3'] = np.where(twitter['Mecanismo'] == 3, 1, 0)\n",
    "twitter.set_index('Date', inplace=True)\n",
    "print(twitter.head(1))"
   ]
  },
  {
   "cell_type": "code",
   "execution_count": 22,
   "id": "df88c784",
   "metadata": {},
   "outputs": [
    {
     "name": "stdout",
     "output_type": "stream",
     "text": [
      "ENTRÉ\n",
      "Empty DataFrame\n",
      "Columns: [Pais]\n",
      "Index: []\n",
      "            Mecanismo 1  Mecanismo 2  Mecanismo 3 Pais\n",
      "Fecha                                                 \n",
      "2022-12-25          0.0          0.0          0.0  COL\n",
      "2022-12-18          1.0          0.0          3.0  COL\n"
     ]
    }
   ],
   "source": [
    "pegado_bases(twitter, ['PER','COL','ECU']).to_excel('Noticias_Integración_2022_twitter_desagregado_semanal.xlsx')"
   ]
  },
  {
   "cell_type": "code",
   "execution_count": 16,
   "id": "5052ac84",
   "metadata": {},
   "outputs": [
    {
     "data": {
      "text/html": [
       "<div>\n",
       "<style scoped>\n",
       "    .dataframe tbody tr th:only-of-type {\n",
       "        vertical-align: middle;\n",
       "    }\n",
       "\n",
       "    .dataframe tbody tr th {\n",
       "        vertical-align: top;\n",
       "    }\n",
       "\n",
       "    .dataframe thead th {\n",
       "        text-align: right;\n",
       "    }\n",
       "</style>\n",
       "<table border=\"1\" class=\"dataframe\">\n",
       "  <thead>\n",
       "    <tr style=\"text-align: right;\">\n",
       "      <th></th>\n",
       "    </tr>\n",
       "  </thead>\n",
       "  <tbody>\n",
       "  </tbody>\n",
       "</table>\n",
       "</div>"
      ],
      "text/plain": [
       "Empty DataFrame\n",
       "Columns: []\n",
       "Index: []"
      ]
     },
     "execution_count": 16,
     "metadata": {},
     "output_type": "execute_result"
    }
   ],
   "source": [
    "new_case_count(twitter[twitter['Country Code'] == 'PER'], numero_mecanismo = 'Mecanismo 1')"
   ]
  },
  {
   "cell_type": "code",
   "execution_count": null,
   "id": "c60e89ef",
   "metadata": {},
   "outputs": [],
   "source": [
    "new_case_count(twitter[twitter['Country Code'] == 'PER'], numero_mecanismo = 'Mecanismo 2')"
   ]
  },
  {
   "cell_type": "code",
   "execution_count": null,
   "id": "0a2fbdda",
   "metadata": {},
   "outputs": [],
   "source": [
    "new_case_count(twitter[twitter['Country Code'] == 'PER'], numero_mecanismo = 'Mecanismo 3')"
   ]
  },
  {
   "cell_type": "code",
   "execution_count": null,
   "id": "ca7f2464",
   "metadata": {},
   "outputs": [],
   "source": [
    "new_case_count(twitter[twitter['Country Code'] == 'PER'])"
   ]
  },
  {
   "cell_type": "code",
   "execution_count": null,
   "id": "c139e05f",
   "metadata": {},
   "outputs": [],
   "source": [
    "\n",
    "twitter_limpio = pd.DataFrame({'Pais':['Colombia','Colombia','Colombia',\n",
    "                                      'Ecuador','Ecuador','Ecuador',\n",
    "                                      'Peru','Peru','Peru'],\n",
    "                              'Variable':['Mecanismo I','Mecanismo II','Mecanismo III',\n",
    "                                      'Mecanismo I','Mecanismo II','Mecanismo III',\n",
    "                                      'Mecanismo I','Mecanismo II','Mecanismo III'],\n",
    "                              'Fecha':['28/02/2022','28/02/2022','28/02/2022','28/02/2022','28/02/2022','28/02/2022','28/02/2022','28/02/2022','28/02/2022'],\n",
    "                              'Dato':[74, 0,1,\n",
    "                                     110,3,5,\n",
    "                                     319,7,12]})\n",
    "twitter_limpio.to_excel('Noticias_Integración_2022_twitter.xlsx')"
   ]
  }
 ],
 "metadata": {
  "kernelspec": {
   "display_name": "Python 3 (ipykernel)",
   "language": "python",
   "name": "python3"
  },
  "language_info": {
   "codemirror_mode": {
    "name": "ipython",
    "version": 3
   },
   "file_extension": ".py",
   "mimetype": "text/x-python",
   "name": "python",
   "nbconvert_exporter": "python",
   "pygments_lexer": "ipython3",
   "version": "3.8.10"
  }
 },
 "nbformat": 4,
 "nbformat_minor": 5
}
