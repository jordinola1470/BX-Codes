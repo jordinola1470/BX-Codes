{
 "cells": [
  {
   "cell_type": "code",
   "execution_count": null,
   "id": "24f74da6",
   "metadata": {},
   "outputs": [],
   "source": [
    "import pandas as pd\n",
    "import numpy as np\n",
    "import funciones as fn\n",
    "import re\n",
    "import nltk\n",
    "from nltk.corpus import stopwords\n",
    "spanish_stopwords=stopwords.words('spanish')\n",
    "spanish_stopwords.extend(['ser', 'haber', 'q'])\n",
    "spanish_stopwords.remove('no')\n",
    "spanish_stopwords.remove('ni')"
   ]
  },
  {
   "cell_type": "code",
   "execution_count": null,
   "id": "3623ec4e",
   "metadata": {},
   "outputs": [],
   "source": [
    "df = pd.read_excel(r'E:\\Base bonita\\BW 2019 - Mayo 1 a Diciembre 31\\Semana 1.xlsx')\n",
    "df = fn.limpieza_base(df)\n",
    "df"
   ]
  },
  {
   "cell_type": "code",
   "execution_count": null,
   "id": "63723e90",
   "metadata": {},
   "outputs": [],
   "source": [
    "#Tomemos solo la base marcada\n",
    "REPLACE_BY_SPACE_RE = re.compile('[/(){}\\[\\]\\|@,;-]')\n",
    "def deEmojify(text):\n",
    "    regrex_pattern = re.compile(pattern = \"[\"\n",
    "        u\"\\U0001F600-\\U0001F64F\"  # emoticons\n",
    "        u\"\\U0001F300-\\U0001F5FF\"  # symbols & pictographs\n",
    "        u\"\\U0001F680-\\U0001F6FF\"  # transport & map symbols\n",
    "        u\"\\U0001F1E0-\\U0001F1FF\"  # flags (iOS)\n",
    "        u\"\\U00002500-\\U00002BEF\"  # chinese char\n",
    "        u\"\\U00002702-\\U000027B0\"\n",
    "        u\"\\U00002702-\\U000027B0\"\n",
    "        u\"\\U000024C2-\\U0001F251\"\n",
    "        u\"\\U0001f926-\\U0001f937\"\n",
    "        u\"\\U00010000-\\U0010ffff\"\n",
    "        u\"\\u2640-\\u2642\"\n",
    "        u\"\\u2600-\\u2B55\"\n",
    "        u\"\\u200d\"\n",
    "        u\"\\u23cf\"\n",
    "        u\"\\u23e9\"\n",
    "        u\"\\u231a\"\n",
    "        u\"\\ufe0f\"  # dingbats\n",
    "        u\"\\u3030\"\n",
    "                           \"]+\", flags = re.UNICODE)\n",
    "    return regrex_pattern.sub(r'',text)\n",
    "def clean_text(text):\n",
    "    \"\"\"\n",
    "        text: a string\n",
    "        \n",
    "        return: modified initial string\n",
    "    \"\"\"\n",
    "    text = deEmojify(text)\n",
    "    text = REPLACE_BY_SPACE_RE.sub(' ', text) # replace REPLACE_BY_SPACE_RE symbols by space in text\n",
    "    text = ' '.join(word for word in text.split() if word not in spanish_stopwords) # delete stopwors from text\n",
    "    return text\n",
    "def text_cleaner(df):\n",
    "    df['Clean_Text']=df['Snippet'].replace(r\"http\\S+\", '', regex=True)\n",
    "    df['Clean_Text']=df['Clean_Text'].replace('#\\\\w+', '', regex=True)\n",
    "    df['Clean_Text']=df['Clean_Text'].replace(r'([^0-9a-zA-Z])\\1+', r'\\1', regex=True)\n",
    "    df['Clean_Text']=df['Clean_Text'].replace(r'^[^0-9a-zA-Z@#]+', '', regex=True)\n",
    "    df['Clean_Text']=df['Clean_Text'].replace(r'()\\1+', r'\\1\\1', regex=True)\n",
    "    df['Clean_Text']=df['Clean_Text'].replace(r'(.)\\1+', r'\\1\\1', regex=True)\n",
    "    df['Clean_Text']=df['Clean_Text'].replace('\"', '', regex=True)\n",
    "    df['Clean_Text']=df['Clean_Text'].replace(r'@\\w+', '', regex=True)\n",
    "    df['Clean_Text'] = df['Clean_Text'].map(lambda x: re.sub('[,\\.!?]', '', x))\n",
    "    df['Clean_Text'] = df['Clean_Text'].map(lambda x: x.lower())\n",
    "    df=df.reset_index(drop=True)\n",
    "    df=df.reset_index()\n",
    "    df = df.astype({\"Clean_Text\": str})\n",
    "    df['Clean_Text']=df['Clean_Text'].str.strip()\n",
    "    df['Clean_Text'] = df['Clean_Text'].replace(\"\", np.nan)\n",
    "    df['Clean_Text_No_Stopwords'] = df['Clean_Text'].apply(clean_text)\n",
    "    return df"
   ]
  },
  {
   "cell_type": "code",
   "execution_count": null,
   "id": "22806314",
   "metadata": {},
   "outputs": [],
   "source": [
    "path = r'E:\\Base bonita\\BW 2019 - Mayo 1 a Diciembre 31'\n",
    "def unir(bases):\n",
    "    i = 1\n",
    "    final = pd.DataFrame()\n",
    "    while i <= bases:\n",
    "        j = str(i)\n",
    "        est = path + \"\\Semana \" + j + \".xlsx\"\n",
    "        df = pd.read_excel(est)\n",
    "        df = fn.limpieza_base(df)\n",
    "        final = final.append(df)\n",
    "        print(final.shape[0])\n",
    "        i += 1\n",
    "    final = text_cleaner(final)\n",
    "    #final = final.set_index(final[\"ID\"]).drop([\"ID\"], axis=1).fillna(0)\n",
    "    return final"
   ]
  },
  {
   "cell_type": "code",
   "execution_count": null,
   "id": "3464ba47",
   "metadata": {},
   "outputs": [],
   "source": [
    "final = unir(33)"
   ]
  }
 ],
 "metadata": {
  "kernelspec": {
   "display_name": "nltkdebug",
   "language": "python",
   "name": "nltkdebug"
  }
 },
 "nbformat": 4,
 "nbformat_minor": 5
}
