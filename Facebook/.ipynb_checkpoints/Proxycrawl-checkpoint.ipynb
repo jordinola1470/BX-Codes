{
 "cells": [
  {
   "cell_type": "code",
   "execution_count": 25,
   "id": "b3f41994",
   "metadata": {},
   "outputs": [],
   "source": [
    "#!pip install proxycrawl\n",
    "from proxycrawl import CrawlingAPI, ScraperAPI, LeadsAPI, ScreenshotsAPI, StorageAPI"
   ]
  },
  {
   "cell_type": "code",
   "execution_count": 26,
   "id": "feb202d6",
   "metadata": {},
   "outputs": [
    {
     "name": "stdout",
     "output_type": "stream",
     "text": [
      "b'{\"original_status\":200,\"pc_status\":200,\"url\":\"https://www.facebook.com/groups/2459047080785676\",\"body\":{\"title\":\"ayuda a venezolanos en bogota!\",\"type\":\"Public group\",\"membersCount\":0,\"url\":\"https://www.facebook.com/groups/2459047080785676/\",\"description\":\"recolecci\\xc3\\xb3n de alimentos y ropa para ayudar a venezolanos en situaciones deficiles en Bogot\\xc3\\xa1.\",\"image\":\"https://scontent.fccu4-2.fna.fbcdn.net/v/t1.6435-9/s960x960/57460110_10219503633440649_227778307733585920_n.jpg?_nc_cat=108\\\\u0026ccb=1-5\\\\u0026_nc_sid=8631f5\\\\u0026_nc_ohc=o8hxgUzqUOUAX_Vgbfg\\\\u0026_nc_oc=AQkUtY1dzjuWgrURKktYK1M8ZPlMV2HPEghKn-pbRsQb2BSLcbUmY8ub0EuixsbCmXM\\\\u0026_nc_ht=scontent.fccu4-2.fna\\\\u0026oh=bfa70661a84508b65f6f22d9163485bb\\\\u0026oe=61ABC0A2\",\"feeds\":[{\"userName\":\"Jean Carlos Oviedo\",\"text\":\"Llego El Fin de Semana y Seguimos trabajando para Ti. En Venegiros Nos Encargamos de llevar Tranquilidad y Seguridad a tu hogar, amigos y Familiares Env\\xc3\\xada dinero de forma segura a pa\\xc3\\xadses como Venezuela, Colombia, Peru y Mexico.\",\"images\":[\"https://scontent.fccu4-2.fna.fbcdn.net/v/t1.6435-9/s600x600/253199121_424678302708344_6210451039299069763_n.jpg?_nc_cat=101\\\\u0026ccb=1-5\\\\u0026_nc_sid=b9115d\\\\u0026_nc_ohc=fDWA02wTc5oAX_Cm4lv\\\\u0026_nc_ht=scontent.fccu4-2.fna\\\\u0026oh=80b4accd096f969602bda2f1c104cffa\\\\u0026oe=61AC2FAF\",\"https://scontent.fccu4-2.fna.fbcdn.net/v/t1.6435-9/s600x600/252881903_424678322708342_1248971161106131833_n.jpg?_nc_cat=106\\\\u0026ccb=1-5\\\\u0026_nc_sid=b9115d\\\\u0026_nc_ohc=5V-6GpuBGGsAX92B-qF\\\\u0026_nc_ht=scontent.fccu4-2.fna\\\\u0026oh=a33ceb7aae91b21f1532c78f66ce11f4\\\\u0026oe=61AA6BF4\",\"https://scontent.fccu4-2.fna.fbcdn.net/v/t1.6435-9/s600x600/253263205_424678376041670_7771410833884035160_n.jpg?_nc_cat=110\\\\u0026ccb=1-5\\\\u0026_nc_sid=b9115d\\\\u0026_nc_ohc=QqOEI_UbwzwAX_aI1sU\\\\u0026_nc_ht=scontent.fccu4-2.fna\\\\u0026oh=c06844b8df225cd635d6a1114c74a9a8\\\\u0026oe=61AB4774\",\"https://scontent.fccu4-2.fna.fbcdn.net/v/t1.6435-9/s600x600/253199122_424678402708334_8732554734364143886_n.jpg?_nc_cat=100\\\\u0026ccb=1-5\\\\u0026_nc_sid=b9115d\\\\u0026_nc_ohc=mOu35AgVPDAAX_1Zdgw\\\\u0026_nc_ht=scontent.fccu4-2.fna\\\\u0026oh=dcac630af0b22bcbd83847ef444f9b5c\\\\u0026oe=61ACE292\"],\"link\":\"https://www.facebook.com/commerce/listing/637951114235794\",\"date\":\"1 hr\",\"likesCount\":null,\"commentsCount\":null,\"answersCount\":null,\"sharesCount\":null,\"comments\":[]}]}}'\n"
     ]
    }
   ],
   "source": [
    "api = ProxyCrawlAPI({'token': 'dHCKpJUt97ZAL-pwOvJ53w'})\n",
    "\n",
    "response = api.get('https://www.facebook.com/groups/2459047080785676',\n",
    "                   {'scraper': 'facebook-group', 'scroll':'true'})\n",
    "\n",
    "if response['status_code'] == 200:\n",
    "    print(response['body'])"
   ]
  },
  {
   "cell_type": "code",
   "execution_count": 27,
   "id": "77be2ba8",
   "metadata": {},
   "outputs": [
    {
     "data": {
      "text/plain": [
       "{'headers': {'original_status': '200',\n",
       "  'pc_status': '200',\n",
       "  'url': 'https://www.facebook.com/groups/2459047080785676'},\n",
       " 'status_code': 200,\n",
       " 'body': b'{\"original_status\":200,\"pc_status\":200,\"url\":\"https://www.facebook.com/groups/2459047080785676\",\"body\":{\"title\":\"ayuda a venezolanos en bogota!\",\"type\":\"Public group\",\"membersCount\":0,\"url\":\"https://www.facebook.com/groups/2459047080785676/\",\"description\":\"recolecci\\xc3\\xb3n de alimentos y ropa para ayudar a venezolanos en situaciones deficiles en Bogot\\xc3\\xa1.\",\"image\":\"https://scontent.fccu4-2.fna.fbcdn.net/v/t1.6435-9/s960x960/57460110_10219503633440649_227778307733585920_n.jpg?_nc_cat=108\\\\u0026ccb=1-5\\\\u0026_nc_sid=8631f5\\\\u0026_nc_ohc=o8hxgUzqUOUAX_Vgbfg\\\\u0026_nc_oc=AQkUtY1dzjuWgrURKktYK1M8ZPlMV2HPEghKn-pbRsQb2BSLcbUmY8ub0EuixsbCmXM\\\\u0026_nc_ht=scontent.fccu4-2.fna\\\\u0026oh=bfa70661a84508b65f6f22d9163485bb\\\\u0026oe=61ABC0A2\",\"feeds\":[{\"userName\":\"Jean Carlos Oviedo\",\"text\":\"Llego El Fin de Semana y Seguimos trabajando para Ti. En Venegiros Nos Encargamos de llevar Tranquilidad y Seguridad a tu hogar, amigos y Familiares Env\\xc3\\xada dinero de forma segura a pa\\xc3\\xadses como Venezuela, Colombia, Peru y Mexico.\",\"images\":[\"https://scontent.fccu4-2.fna.fbcdn.net/v/t1.6435-9/s600x600/253199121_424678302708344_6210451039299069763_n.jpg?_nc_cat=101\\\\u0026ccb=1-5\\\\u0026_nc_sid=b9115d\\\\u0026_nc_ohc=fDWA02wTc5oAX_Cm4lv\\\\u0026_nc_ht=scontent.fccu4-2.fna\\\\u0026oh=80b4accd096f969602bda2f1c104cffa\\\\u0026oe=61AC2FAF\",\"https://scontent.fccu4-2.fna.fbcdn.net/v/t1.6435-9/s600x600/252881903_424678322708342_1248971161106131833_n.jpg?_nc_cat=106\\\\u0026ccb=1-5\\\\u0026_nc_sid=b9115d\\\\u0026_nc_ohc=5V-6GpuBGGsAX92B-qF\\\\u0026_nc_ht=scontent.fccu4-2.fna\\\\u0026oh=a33ceb7aae91b21f1532c78f66ce11f4\\\\u0026oe=61AA6BF4\",\"https://scontent.fccu4-2.fna.fbcdn.net/v/t1.6435-9/s600x600/253263205_424678376041670_7771410833884035160_n.jpg?_nc_cat=110\\\\u0026ccb=1-5\\\\u0026_nc_sid=b9115d\\\\u0026_nc_ohc=QqOEI_UbwzwAX_aI1sU\\\\u0026_nc_ht=scontent.fccu4-2.fna\\\\u0026oh=c06844b8df225cd635d6a1114c74a9a8\\\\u0026oe=61AB4774\",\"https://scontent.fccu4-2.fna.fbcdn.net/v/t1.6435-9/s600x600/253199122_424678402708334_8732554734364143886_n.jpg?_nc_cat=100\\\\u0026ccb=1-5\\\\u0026_nc_sid=b9115d\\\\u0026_nc_ohc=mOu35AgVPDAAX_1Zdgw\\\\u0026_nc_ht=scontent.fccu4-2.fna\\\\u0026oh=dcac630af0b22bcbd83847ef444f9b5c\\\\u0026oe=61ACE292\"],\"link\":\"https://www.facebook.com/commerce/listing/637951114235794\",\"date\":\"1 hr\",\"likesCount\":null,\"commentsCount\":null,\"answersCount\":null,\"sharesCount\":null,\"comments\":[]}]}}',\n",
       " 'json': {'title': 'ayuda a venezolanos en bogota!',\n",
       "  'type': 'Public group',\n",
       "  'membersCount': 0,\n",
       "  'url': 'https://www.facebook.com/groups/2459047080785676/',\n",
       "  'description': 'recolección de alimentos y ropa para ayudar a venezolanos en situaciones deficiles en Bogotá.',\n",
       "  'image': 'https://scontent.fccu4-2.fna.fbcdn.net/v/t1.6435-9/s960x960/57460110_10219503633440649_227778307733585920_n.jpg?_nc_cat=108&ccb=1-5&_nc_sid=8631f5&_nc_ohc=o8hxgUzqUOUAX_Vgbfg&_nc_oc=AQkUtY1dzjuWgrURKktYK1M8ZPlMV2HPEghKn-pbRsQb2BSLcbUmY8ub0EuixsbCmXM&_nc_ht=scontent.fccu4-2.fna&oh=bfa70661a84508b65f6f22d9163485bb&oe=61ABC0A2',\n",
       "  'feeds': [{'userName': 'Jean Carlos Oviedo',\n",
       "    'text': 'Llego El Fin de Semana y Seguimos trabajando para Ti. En Venegiros Nos Encargamos de llevar Tranquilidad y Seguridad a tu hogar, amigos y Familiares Envía dinero de forma segura a países como Venezuela, Colombia, Peru y Mexico.',\n",
       "    'images': ['https://scontent.fccu4-2.fna.fbcdn.net/v/t1.6435-9/s600x600/253199121_424678302708344_6210451039299069763_n.jpg?_nc_cat=101&ccb=1-5&_nc_sid=b9115d&_nc_ohc=fDWA02wTc5oAX_Cm4lv&_nc_ht=scontent.fccu4-2.fna&oh=80b4accd096f969602bda2f1c104cffa&oe=61AC2FAF',\n",
       "     'https://scontent.fccu4-2.fna.fbcdn.net/v/t1.6435-9/s600x600/252881903_424678322708342_1248971161106131833_n.jpg?_nc_cat=106&ccb=1-5&_nc_sid=b9115d&_nc_ohc=5V-6GpuBGGsAX92B-qF&_nc_ht=scontent.fccu4-2.fna&oh=a33ceb7aae91b21f1532c78f66ce11f4&oe=61AA6BF4',\n",
       "     'https://scontent.fccu4-2.fna.fbcdn.net/v/t1.6435-9/s600x600/253263205_424678376041670_7771410833884035160_n.jpg?_nc_cat=110&ccb=1-5&_nc_sid=b9115d&_nc_ohc=QqOEI_UbwzwAX_aI1sU&_nc_ht=scontent.fccu4-2.fna&oh=c06844b8df225cd635d6a1114c74a9a8&oe=61AB4774',\n",
       "     'https://scontent.fccu4-2.fna.fbcdn.net/v/t1.6435-9/s600x600/253199122_424678402708334_8732554734364143886_n.jpg?_nc_cat=100&ccb=1-5&_nc_sid=b9115d&_nc_ohc=mOu35AgVPDAAX_1Zdgw&_nc_ht=scontent.fccu4-2.fna&oh=dcac630af0b22bcbd83847ef444f9b5c&oe=61ACE292'],\n",
       "    'link': 'https://www.facebook.com/commerce/listing/637951114235794',\n",
       "    'date': '1 hr',\n",
       "    'likesCount': None,\n",
       "    'commentsCount': None,\n",
       "    'answersCount': None,\n",
       "    'sharesCount': None,\n",
       "    'comments': []}]}}"
      ]
     },
     "execution_count": 27,
     "metadata": {},
     "output_type": "execute_result"
    }
   ],
   "source": [
    "response"
   ]
  },
  {
   "cell_type": "code",
   "execution_count": 28,
   "id": "21c62b1b",
   "metadata": {},
   "outputs": [
    {
     "name": "stdout",
     "output_type": "stream",
     "text": [
      "[{'userName': 'Jean Carlos Oviedo', 'text': 'Llego El Fin de Semana y Seguimos trabajando para Ti. En Venegiros Nos Encargamos de llevar Tranquilidad y Seguridad a tu hogar, amigos y Familiares Envía dinero de forma segura a países como Venezuela, Colombia, Peru y Mexico.', 'images': ['https://scontent.fccu4-2.fna.fbcdn.net/v/t1.6435-9/s600x600/253199121_424678302708344_6210451039299069763_n.jpg?_nc_cat=101&ccb=1-5&_nc_sid=b9115d&_nc_ohc=fDWA02wTc5oAX_Cm4lv&_nc_ht=scontent.fccu4-2.fna&oh=80b4accd096f969602bda2f1c104cffa&oe=61AC2FAF', 'https://scontent.fccu4-2.fna.fbcdn.net/v/t1.6435-9/s600x600/252881903_424678322708342_1248971161106131833_n.jpg?_nc_cat=106&ccb=1-5&_nc_sid=b9115d&_nc_ohc=5V-6GpuBGGsAX92B-qF&_nc_ht=scontent.fccu4-2.fna&oh=a33ceb7aae91b21f1532c78f66ce11f4&oe=61AA6BF4', 'https://scontent.fccu4-2.fna.fbcdn.net/v/t1.6435-9/s600x600/253263205_424678376041670_7771410833884035160_n.jpg?_nc_cat=110&ccb=1-5&_nc_sid=b9115d&_nc_ohc=QqOEI_UbwzwAX_aI1sU&_nc_ht=scontent.fccu4-2.fna&oh=c06844b8df225cd635d6a1114c74a9a8&oe=61AB4774', 'https://scontent.fccu4-2.fna.fbcdn.net/v/t1.6435-9/s600x600/253199122_424678402708334_8732554734364143886_n.jpg?_nc_cat=100&ccb=1-5&_nc_sid=b9115d&_nc_ohc=mOu35AgVPDAAX_1Zdgw&_nc_ht=scontent.fccu4-2.fna&oh=dcac630af0b22bcbd83847ef444f9b5c&oe=61ACE292'], 'link': 'https://www.facebook.com/commerce/listing/637951114235794', 'date': '1 hr', 'likesCount': None, 'commentsCount': None, 'answersCount': None, 'sharesCount': None, 'comments': []}]\n"
     ]
    }
   ],
   "source": [
    "print(response['json']['feeds'])"
   ]
  },
  {
   "cell_type": "code",
   "execution_count": 29,
   "id": "938b535a",
   "metadata": {},
   "outputs": [
    {
     "name": "stdout",
     "output_type": "stream",
     "text": [
      "userName\n",
      "text\n",
      "images\n",
      "link\n",
      "date\n",
      "likesCount\n",
      "commentsCount\n",
      "answersCount\n",
      "sharesCount\n",
      "comments\n"
     ]
    }
   ],
   "source": [
    "for line in response['json']['feeds'][0]:\n",
    "    print(line)"
   ]
  },
  {
   "cell_type": "code",
   "execution_count": 30,
   "id": "208fa132",
   "metadata": {},
   "outputs": [
    {
     "data": {
      "text/plain": [
       "[{'userName': 'Jean Carlos Oviedo',\n",
       "  'text': 'Llego El Fin de Semana y Seguimos trabajando para Ti. En Venegiros Nos Encargamos de llevar Tranquilidad y Seguridad a tu hogar, amigos y Familiares Envía dinero de forma segura a países como Venezuela, Colombia, Peru y Mexico.',\n",
       "  'images': ['https://scontent.fccu4-2.fna.fbcdn.net/v/t1.6435-9/s600x600/253199121_424678302708344_6210451039299069763_n.jpg?_nc_cat=101&ccb=1-5&_nc_sid=b9115d&_nc_ohc=fDWA02wTc5oAX_Cm4lv&_nc_ht=scontent.fccu4-2.fna&oh=80b4accd096f969602bda2f1c104cffa&oe=61AC2FAF',\n",
       "   'https://scontent.fccu4-2.fna.fbcdn.net/v/t1.6435-9/s600x600/252881903_424678322708342_1248971161106131833_n.jpg?_nc_cat=106&ccb=1-5&_nc_sid=b9115d&_nc_ohc=5V-6GpuBGGsAX92B-qF&_nc_ht=scontent.fccu4-2.fna&oh=a33ceb7aae91b21f1532c78f66ce11f4&oe=61AA6BF4',\n",
       "   'https://scontent.fccu4-2.fna.fbcdn.net/v/t1.6435-9/s600x600/253263205_424678376041670_7771410833884035160_n.jpg?_nc_cat=110&ccb=1-5&_nc_sid=b9115d&_nc_ohc=QqOEI_UbwzwAX_aI1sU&_nc_ht=scontent.fccu4-2.fna&oh=c06844b8df225cd635d6a1114c74a9a8&oe=61AB4774',\n",
       "   'https://scontent.fccu4-2.fna.fbcdn.net/v/t1.6435-9/s600x600/253199122_424678402708334_8732554734364143886_n.jpg?_nc_cat=100&ccb=1-5&_nc_sid=b9115d&_nc_ohc=mOu35AgVPDAAX_1Zdgw&_nc_ht=scontent.fccu4-2.fna&oh=dcac630af0b22bcbd83847ef444f9b5c&oe=61ACE292'],\n",
       "  'link': 'https://www.facebook.com/commerce/listing/637951114235794',\n",
       "  'date': '1 hr',\n",
       "  'likesCount': None,\n",
       "  'commentsCount': None,\n",
       "  'answersCount': None,\n",
       "  'sharesCount': None,\n",
       "  'comments': []}]"
      ]
     },
     "execution_count": 30,
     "metadata": {},
     "output_type": "execute_result"
    }
   ],
   "source": [
    "response['json']['feeds'][:]"
   ]
  },
  {
   "cell_type": "code",
   "execution_count": 31,
   "id": "b8fe7a83",
   "metadata": {},
   "outputs": [
    {
     "data": {
      "text/plain": [
       "'Jean Carlos Oviedo'"
      ]
     },
     "execution_count": 31,
     "metadata": {},
     "output_type": "execute_result"
    }
   ],
   "source": [
    "response['json']['feeds'][0].get('userName')"
   ]
  },
  {
   "cell_type": "code",
   "execution_count": 32,
   "id": "d0aee5fa",
   "metadata": {},
   "outputs": [
    {
     "data": {
      "text/plain": [
       "'Llego El Fin de Semana y Seguimos trabajando para Ti. En Venegiros Nos Encargamos de llevar Tranquilidad y Seguridad a tu hogar, amigos y Familiares Envía dinero de forma segura a países como Venezuela, Colombia, Peru y Mexico.'"
      ]
     },
     "execution_count": 32,
     "metadata": {},
     "output_type": "execute_result"
    }
   ],
   "source": [
    "response['json']['feeds'][0].get('text')"
   ]
  },
  {
   "cell_type": "code",
   "execution_count": 35,
   "id": "365267a0",
   "metadata": {},
   "outputs": [
    {
     "name": "stdout",
     "output_type": "stream",
     "text": [
      "b'{\"remaining_requests\":999,\"original_status\":200,\"pc_status\":200,\"url\":\"https://www.facebook.com/groups/2459047080785676\",\"body\":{\"title\":\"ayuda a venezolanos en bogota!\",\"type\":\"Public group\",\"membersCount\":0,\"url\":\"https://www.facebook.com/groups/2459047080785676/\",\"description\":\"recolecci\\xc3\\xb3n de alimentos y ropa para ayudar a venezolanos en situaciones deficiles en Bogot\\xc3\\xa1.\",\"image\":\"https://scontent.fccu5-1.fna.fbcdn.net/v/t1.6435-9/s960x960/57460110_10219503633440649_227778307733585920_n.jpg?_nc_cat=108\\\\u0026ccb=1-5\\\\u0026_nc_sid=8631f5\\\\u0026_nc_ohc=o8hxgUzqUOUAX-lOo6i\\\\u0026_nc_oc=AQltyj6YKrM0seBKfK1EM6J5vlgzZOrd2SgtR1CyS3jKTBxvN6kBM0ziajH0zQ0nnxc\\\\u0026_nc_ht=scontent.fccu5-1.fna\\\\u0026oh=2b421f610fe9e72dcf7463df5dfeb89b\\\\u0026oe=61ABC0A2\",\"feeds\":[{\"userName\":\"Jean Carlos Oviedo\",\"text\":\"Llego El Fin de Semana y Seguimos trabajando para Ti. En Venegiros Nos Encargamos de llevar Tranquilidad y Seguridad a tu hogar, amigos y Familiares Env\\xc3\\xada dinero de forma segura a pa\\xc3\\xadses como Venezuela, Colombia, Peru y Mexico.\",\"images\":[\"https://scontent.fccu5-1.fna.fbcdn.net/v/t1.6435-9/s600x600/253199121_424678302708344_6210451039299069763_n.jpg?_nc_cat=101\\\\u0026ccb=1-5\\\\u0026_nc_sid=b9115d\\\\u0026_nc_ohc=fDWA02wTc5oAX_0HgLi\\\\u0026_nc_ht=scontent.fccu5-1.fna\\\\u0026oh=2007b24e3bccd23ff83cf1041af5c4a5\\\\u0026oe=61AC2FAF\",\"https://scontent.fccu5-1.fna.fbcdn.net/v/t1.6435-9/s600x600/252881903_424678322708342_1248971161106131833_n.jpg?_nc_cat=106\\\\u0026ccb=1-5\\\\u0026_nc_sid=b9115d\\\\u0026_nc_ohc=5V-6GpuBGGsAX-u4puR\\\\u0026_nc_ht=scontent.fccu5-1.fna\\\\u0026oh=a729dc1b998d32c9233a8558a7600776\\\\u0026oe=61AA6BF4\",\"https://scontent.fccu5-1.fna.fbcdn.net/v/t1.6435-9/s600x600/253263205_424678376041670_7771410833884035160_n.jpg?_nc_cat=110\\\\u0026ccb=1-5\\\\u0026_nc_sid=b9115d\\\\u0026_nc_ohc=QqOEI_UbwzwAX924YnR\\\\u0026_nc_ht=scontent.fccu5-1.fna\\\\u0026oh=e310f40e9403ab5ca9b44c29c0f8ab9e\\\\u0026oe=61AB4774\",\"https://scontent.fccu5-1.fna.fbcdn.net/v/t1.6435-9/s600x600/253199122_424678402708334_8732554734364143886_n.jpg?_nc_cat=100\\\\u0026ccb=1-5\\\\u0026_nc_sid=b9115d\\\\u0026_nc_ohc=mOu35AgVPDAAX-9hQgX\\\\u0026_nc_ht=scontent.fccu5-1.fna\\\\u0026oh=0a35fd177a5a0d67bd4e57a68fb85c82\\\\u0026oe=61ACE292\"],\"link\":\"https://www.facebook.com/commerce/listing/637951114235794\",\"date\":\"1 hr\",\"likesCount\":null,\"commentsCount\":null,\"answersCount\":null,\"sharesCount\":null,\"comments\":[]}]}}'\n"
     ]
    }
   ],
   "source": [
    "scraper_api = ScraperAPI({ 'token': 'dHCKpJUt97ZAL-pwOvJ53w' })\n",
    "response_scraper = scraper_api.get('https://www.facebook.com/groups/2459047080785676')\n",
    "if response_scraper['status_code'] == 200:\n",
    "    print(response_scraper['body'])"
   ]
  },
  {
   "cell_type": "code",
   "execution_count": 36,
   "id": "dd1b33d5",
   "metadata": {},
   "outputs": [
    {
     "data": {
      "text/plain": [
       "{'headers': {'original_status': '200',\n",
       "  'pc_status': '200',\n",
       "  'url': 'https://www.facebook.com/groups/2459047080785676'},\n",
       " 'status_code': 200,\n",
       " 'body': b'{\"remaining_requests\":999,\"original_status\":200,\"pc_status\":200,\"url\":\"https://www.facebook.com/groups/2459047080785676\",\"body\":{\"title\":\"ayuda a venezolanos en bogota!\",\"type\":\"Public group\",\"membersCount\":0,\"url\":\"https://www.facebook.com/groups/2459047080785676/\",\"description\":\"recolecci\\xc3\\xb3n de alimentos y ropa para ayudar a venezolanos en situaciones deficiles en Bogot\\xc3\\xa1.\",\"image\":\"https://scontent.fccu5-1.fna.fbcdn.net/v/t1.6435-9/s960x960/57460110_10219503633440649_227778307733585920_n.jpg?_nc_cat=108\\\\u0026ccb=1-5\\\\u0026_nc_sid=8631f5\\\\u0026_nc_ohc=o8hxgUzqUOUAX-lOo6i\\\\u0026_nc_oc=AQltyj6YKrM0seBKfK1EM6J5vlgzZOrd2SgtR1CyS3jKTBxvN6kBM0ziajH0zQ0nnxc\\\\u0026_nc_ht=scontent.fccu5-1.fna\\\\u0026oh=2b421f610fe9e72dcf7463df5dfeb89b\\\\u0026oe=61ABC0A2\",\"feeds\":[{\"userName\":\"Jean Carlos Oviedo\",\"text\":\"Llego El Fin de Semana y Seguimos trabajando para Ti. En Venegiros Nos Encargamos de llevar Tranquilidad y Seguridad a tu hogar, amigos y Familiares Env\\xc3\\xada dinero de forma segura a pa\\xc3\\xadses como Venezuela, Colombia, Peru y Mexico.\",\"images\":[\"https://scontent.fccu5-1.fna.fbcdn.net/v/t1.6435-9/s600x600/253199121_424678302708344_6210451039299069763_n.jpg?_nc_cat=101\\\\u0026ccb=1-5\\\\u0026_nc_sid=b9115d\\\\u0026_nc_ohc=fDWA02wTc5oAX_0HgLi\\\\u0026_nc_ht=scontent.fccu5-1.fna\\\\u0026oh=2007b24e3bccd23ff83cf1041af5c4a5\\\\u0026oe=61AC2FAF\",\"https://scontent.fccu5-1.fna.fbcdn.net/v/t1.6435-9/s600x600/252881903_424678322708342_1248971161106131833_n.jpg?_nc_cat=106\\\\u0026ccb=1-5\\\\u0026_nc_sid=b9115d\\\\u0026_nc_ohc=5V-6GpuBGGsAX-u4puR\\\\u0026_nc_ht=scontent.fccu5-1.fna\\\\u0026oh=a729dc1b998d32c9233a8558a7600776\\\\u0026oe=61AA6BF4\",\"https://scontent.fccu5-1.fna.fbcdn.net/v/t1.6435-9/s600x600/253263205_424678376041670_7771410833884035160_n.jpg?_nc_cat=110\\\\u0026ccb=1-5\\\\u0026_nc_sid=b9115d\\\\u0026_nc_ohc=QqOEI_UbwzwAX924YnR\\\\u0026_nc_ht=scontent.fccu5-1.fna\\\\u0026oh=e310f40e9403ab5ca9b44c29c0f8ab9e\\\\u0026oe=61AB4774\",\"https://scontent.fccu5-1.fna.fbcdn.net/v/t1.6435-9/s600x600/253199122_424678402708334_8732554734364143886_n.jpg?_nc_cat=100\\\\u0026ccb=1-5\\\\u0026_nc_sid=b9115d\\\\u0026_nc_ohc=mOu35AgVPDAAX-9hQgX\\\\u0026_nc_ht=scontent.fccu5-1.fna\\\\u0026oh=0a35fd177a5a0d67bd4e57a68fb85c82\\\\u0026oe=61ACE292\"],\"link\":\"https://www.facebook.com/commerce/listing/637951114235794\",\"date\":\"1 hr\",\"likesCount\":null,\"commentsCount\":null,\"answersCount\":null,\"sharesCount\":null,\"comments\":[]}]}}',\n",
       " 'json': {'title': 'ayuda a venezolanos en bogota!',\n",
       "  'type': 'Public group',\n",
       "  'membersCount': 0,\n",
       "  'url': 'https://www.facebook.com/groups/2459047080785676/',\n",
       "  'description': 'recolección de alimentos y ropa para ayudar a venezolanos en situaciones deficiles en Bogotá.',\n",
       "  'image': 'https://scontent.fccu5-1.fna.fbcdn.net/v/t1.6435-9/s960x960/57460110_10219503633440649_227778307733585920_n.jpg?_nc_cat=108&ccb=1-5&_nc_sid=8631f5&_nc_ohc=o8hxgUzqUOUAX-lOo6i&_nc_oc=AQltyj6YKrM0seBKfK1EM6J5vlgzZOrd2SgtR1CyS3jKTBxvN6kBM0ziajH0zQ0nnxc&_nc_ht=scontent.fccu5-1.fna&oh=2b421f610fe9e72dcf7463df5dfeb89b&oe=61ABC0A2',\n",
       "  'feeds': [{'userName': 'Jean Carlos Oviedo',\n",
       "    'text': 'Llego El Fin de Semana y Seguimos trabajando para Ti. En Venegiros Nos Encargamos de llevar Tranquilidad y Seguridad a tu hogar, amigos y Familiares Envía dinero de forma segura a países como Venezuela, Colombia, Peru y Mexico.',\n",
       "    'images': ['https://scontent.fccu5-1.fna.fbcdn.net/v/t1.6435-9/s600x600/253199121_424678302708344_6210451039299069763_n.jpg?_nc_cat=101&ccb=1-5&_nc_sid=b9115d&_nc_ohc=fDWA02wTc5oAX_0HgLi&_nc_ht=scontent.fccu5-1.fna&oh=2007b24e3bccd23ff83cf1041af5c4a5&oe=61AC2FAF',\n",
       "     'https://scontent.fccu5-1.fna.fbcdn.net/v/t1.6435-9/s600x600/252881903_424678322708342_1248971161106131833_n.jpg?_nc_cat=106&ccb=1-5&_nc_sid=b9115d&_nc_ohc=5V-6GpuBGGsAX-u4puR&_nc_ht=scontent.fccu5-1.fna&oh=a729dc1b998d32c9233a8558a7600776&oe=61AA6BF4',\n",
       "     'https://scontent.fccu5-1.fna.fbcdn.net/v/t1.6435-9/s600x600/253263205_424678376041670_7771410833884035160_n.jpg?_nc_cat=110&ccb=1-5&_nc_sid=b9115d&_nc_ohc=QqOEI_UbwzwAX924YnR&_nc_ht=scontent.fccu5-1.fna&oh=e310f40e9403ab5ca9b44c29c0f8ab9e&oe=61AB4774',\n",
       "     'https://scontent.fccu5-1.fna.fbcdn.net/v/t1.6435-9/s600x600/253199122_424678402708334_8732554734364143886_n.jpg?_nc_cat=100&ccb=1-5&_nc_sid=b9115d&_nc_ohc=mOu35AgVPDAAX-9hQgX&_nc_ht=scontent.fccu5-1.fna&oh=0a35fd177a5a0d67bd4e57a68fb85c82&oe=61ACE292'],\n",
       "    'link': 'https://www.facebook.com/commerce/listing/637951114235794',\n",
       "    'date': '1 hr',\n",
       "    'likesCount': None,\n",
       "    'commentsCount': None,\n",
       "    'answersCount': None,\n",
       "    'sharesCount': None,\n",
       "    'comments': []}]}}"
      ]
     },
     "execution_count": 36,
     "metadata": {},
     "output_type": "execute_result"
    }
   ],
   "source": [
    "response_scraper"
   ]
  },
  {
   "cell_type": "code",
   "execution_count": null,
   "id": "27563806",
   "metadata": {},
   "outputs": [],
   "source": []
  }
 ],
 "metadata": {
  "kernelspec": {
   "display_name": "Python 3 (ipykernel)",
   "language": "python",
   "name": "python3"
  },
  "language_info": {
   "codemirror_mode": {
    "name": "ipython",
    "version": 3
   },
   "file_extension": ".py",
   "mimetype": "text/x-python",
   "name": "python",
   "nbconvert_exporter": "python",
   "pygments_lexer": "ipython3",
   "version": "3.8.10"
  }
 },
 "nbformat": 4,
 "nbformat_minor": 5
}
