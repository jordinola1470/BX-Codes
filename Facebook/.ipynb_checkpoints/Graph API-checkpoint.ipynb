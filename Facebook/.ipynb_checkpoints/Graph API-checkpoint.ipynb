{
 "cells": [
  {
   "cell_type": "markdown",
   "id": "6e8f1dc7",
   "metadata": {},
   "source": [
    "# Webscraping Facebook: Implementación con Graph Api\n",
    "Web scraping realizado sobre la página _Voices of Venezuela_ para recopilar algunos mensajes. "
   ]
  },
  {
   "cell_type": "code",
   "execution_count": 14,
   "id": "b21bdf6b",
   "metadata": {},
   "outputs": [],
   "source": [
    "# Espacio de trabajo\n",
    "import pandas as pd\n",
    "import numpy as np\n",
    "import urllib3\n",
    "import facebook\n",
    "import requests\n",
    "token = 'EAAFZBW7NcFbQBABrl03Y1IvTG7fZBx4qXbfO3GZCaKLMgW015QlMUZC1lYhSkXMMQfxOQevky8ZAqCfzUAEzoyaOgHU3xTJaxdUgFhaZAxgIL0mGD1lqvH4QbDOcEakyw0ZCBIgbCjOpB1P29jFIkUXDpz4JIJZCIBQ4w4ca7ZCZCka7YnZALjf93wDltB79EwBamgnforDddT7VZAsO8NtjDIa00I3Hp0ApHVRhTvvORGkNDgdeuPSUm8cj'"
   ]
  },
  {
   "cell_type": "code",
   "execution_count": 19,
   "id": "b47858e9",
   "metadata": {},
   "outputs": [
    {
     "ename": "GraphAPIError",
     "evalue": "Unsupported get request. Object with ID 'group=voicesofvenezuela' does not exist, cannot be loaded due to missing permissions, or does not support this operation. Please read the Graph API documentation at https://developers.facebook.com/docs/graph-api",
     "output_type": "error",
     "traceback": [
      "\u001b[1;31m---------------------------------------------------------------------------\u001b[0m",
      "\u001b[1;31mGraphAPIError\u001b[0m                             Traceback (most recent call last)",
      "\u001b[1;32m~\\AppData\\Local\\Temp/ipykernel_15080/1840372234.py\u001b[0m in \u001b[0;36m<module>\u001b[1;34m\u001b[0m\n\u001b[0;32m      1\u001b[0m \u001b[0mgraph\u001b[0m \u001b[1;33m=\u001b[0m \u001b[0mfacebook\u001b[0m\u001b[1;33m.\u001b[0m\u001b[0mGraphAPI\u001b[0m\u001b[1;33m(\u001b[0m\u001b[0maccess_token\u001b[0m\u001b[1;33m=\u001b[0m\u001b[0mtoken\u001b[0m\u001b[1;33m)\u001b[0m\u001b[1;33m\u001b[0m\u001b[1;33m\u001b[0m\u001b[0m\n\u001b[1;32m----> 2\u001b[1;33m \u001b[0mevents\u001b[0m \u001b[1;33m=\u001b[0m \u001b[0mgraph\u001b[0m\u001b[1;33m.\u001b[0m\u001b[0mrequest\u001b[0m\u001b[1;33m(\u001b[0m\u001b[1;34m'group=voicesofvenezuela'\u001b[0m\u001b[1;33m)\u001b[0m\u001b[1;33m\u001b[0m\u001b[1;33m\u001b[0m\u001b[0m\n\u001b[0m\u001b[0;32m      3\u001b[0m \u001b[0mevents\u001b[0m\u001b[1;33m\u001b[0m\u001b[1;33m\u001b[0m\u001b[0m\n",
      "\u001b[1;32m~\\anaconda3\\envs\\nltkenv\\lib\\site-packages\\facebook\\__init__.py\u001b[0m in \u001b[0;36mrequest\u001b[1;34m(self, path, args, post_args, files, method)\u001b[0m\n\u001b[0;32m    311\u001b[0m \u001b[1;33m\u001b[0m\u001b[0m\n\u001b[0;32m    312\u001b[0m         \u001b[1;32mif\u001b[0m \u001b[0mresult\u001b[0m \u001b[1;32mand\u001b[0m \u001b[0misinstance\u001b[0m\u001b[1;33m(\u001b[0m\u001b[0mresult\u001b[0m\u001b[1;33m,\u001b[0m \u001b[0mdict\u001b[0m\u001b[1;33m)\u001b[0m \u001b[1;32mand\u001b[0m \u001b[0mresult\u001b[0m\u001b[1;33m.\u001b[0m\u001b[0mget\u001b[0m\u001b[1;33m(\u001b[0m\u001b[1;34m\"error\"\u001b[0m\u001b[1;33m)\u001b[0m\u001b[1;33m:\u001b[0m\u001b[1;33m\u001b[0m\u001b[1;33m\u001b[0m\u001b[0m\n\u001b[1;32m--> 313\u001b[1;33m             \u001b[1;32mraise\u001b[0m \u001b[0mGraphAPIError\u001b[0m\u001b[1;33m(\u001b[0m\u001b[0mresult\u001b[0m\u001b[1;33m)\u001b[0m\u001b[1;33m\u001b[0m\u001b[1;33m\u001b[0m\u001b[0m\n\u001b[0m\u001b[0;32m    314\u001b[0m         \u001b[1;32mreturn\u001b[0m \u001b[0mresult\u001b[0m\u001b[1;33m\u001b[0m\u001b[1;33m\u001b[0m\u001b[0m\n\u001b[0;32m    315\u001b[0m \u001b[1;33m\u001b[0m\u001b[0m\n",
      "\u001b[1;31mGraphAPIError\u001b[0m: Unsupported get request. Object with ID 'group=voicesofvenezuela' does not exist, cannot be loaded due to missing permissions, or does not support this operation. Please read the Graph API documentation at https://developers.facebook.com/docs/graph-api"
     ]
    }
   ],
   "source": [
    "graph = facebook.GraphAPI(access_token=token)\n",
    "page_id = '319662435565899'\n",
    "events = graph.request('group=voicesofvenezuela')\n",
    "events"
   ]
  },
  {
   "cell_type": "code",
   "execution_count": null,
   "id": "64cbec28",
   "metadata": {},
   "outputs": [],
   "source": []
  }
 ],
 "metadata": {
  "kernelspec": {
   "display_name": "Python 3 (ipykernel)",
   "language": "python",
   "name": "python3"
  },
  "language_info": {
   "codemirror_mode": {
    "name": "ipython",
    "version": 3
   },
   "file_extension": ".py",
   "mimetype": "text/x-python",
   "name": "python",
   "nbconvert_exporter": "python",
   "pygments_lexer": "ipython3",
   "version": "3.8.10"
  }
 },
 "nbformat": 4,
 "nbformat_minor": 5
}
