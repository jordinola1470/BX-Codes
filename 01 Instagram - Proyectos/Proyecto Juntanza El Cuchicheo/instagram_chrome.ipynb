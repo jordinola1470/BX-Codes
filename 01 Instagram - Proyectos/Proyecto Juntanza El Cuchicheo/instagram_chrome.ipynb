{
 "cells": [
  {
   "cell_type": "code",
   "execution_count": 1,
   "metadata": {},
   "outputs": [],
   "source": [
    "#MODULOS DE SELENIUM\n",
    "from selenium import webdriver\n",
    "from selenium.webdriver.common.by import By\n",
    "from selenium.webdriver.common.keys import Keys\n",
    "from selenium.webdriver.support.ui import Select\n",
    "from selenium.webdriver.chrome.options import Options\n",
    "from selenium.webdriver.support.ui import WebDriverWait\n",
    "from selenium.webdriver.chrome.service import Service\n",
    "from webdriver_manager.chrome import ChromeDriverManager\n",
    "from selenium.webdriver.common.by import By\n",
    "from selenium.webdriver.common.action_chains import ActionChains\n",
    "\n",
    "#MODULOS SECUNDARIOS\n",
    "import pandas as pd\n",
    "import numpy as np\n",
    "import os\n",
    "import re\n",
    "import time\n",
    "import ssl\n",
    "import sys\n",
    "import math\n",
    "import traceback\n",
    "\n",
    "\n",
    "#MODULO ALERTAS DESACTIVADAS\n",
    "import warnings\n",
    "warnings.filterwarnings('ignore')\n",
    "\n",
    "#MODULO PROPIOS\n",
    "from funciones_primarias import validacion_instagram\n",
    "from funciones_secundarias import barra_carga,scroll_down"
   ]
  },
  {
   "cell_type": "code",
   "execution_count": 2,
   "metadata": {},
   "outputs": [],
   "source": [
    "'''Protocoloes SSL'''\n",
    "ctx = ssl.create_default_context()\n",
    "ctx.check_hostname = False\n",
    "ctx.verify_mode = ssl.CERT_NONE"
   ]
  },
  {
   "cell_type": "code",
   "execution_count": 3,
   "metadata": {},
   "outputs": [],
   "source": [
    "\n",
    "'''\n",
    "OBJETO DRIVER \n",
    "    - Opciones \n",
    "    - URL\n",
    "'''\n",
    "\n",
    "#Opciones Chrome\n",
    "chrome_options = Options()\n",
    "chrome_options.add_experimental_option(\"prefs\", {\n",
    "  \"download.prompt_for_download\": False,\n",
    "  \"download.directory_upgrade\": True,\n",
    "  \"safebrowsing.enabled\": True\n",
    "  })\n",
    "\n",
    "#Instancia driver -  Acceso a la URL\n",
    "\n",
    "# INSTAGRAM_URL = \"https://www.instagram.com/p/Cv7aKMqRS2Y/?igshid=MTc4MmM1YmI2Ng==\"\n",
    "# INSTAGRAM_URL = \"https://www.instagram.com/reel/Cv-e8k2pvaq/?igshid=MTc4MmM1YmI2Ng==\"\n",
    "# INSTAGRAM_URL = \"https://www.instagram.com/reel/Cv-rwN9JHY4/?igshid=MTc4MmM1YmI2Ng==\"\n",
    "# INSTAGRAM_URL = \"https://www.instagram.com/reel/Cv-6WDFpW85/?igshid=MTc4MmM1YmI2Ng==\"\n",
    "# INSTAGRAM_URL = \"https://www.instagram.com/reel/CwAvNqngJRf/?igshid=MTc4MmM1YmI2Ng==\"\n",
    "# INSTAGRAM_URL = \"https://www.instagram.com/reel/CwA1m2Oxl2-/?igshid=MTc4MmM1YmI2Ng==\"\n",
    "# INSTAGRAM_URL = \"https://www.instagram.com/reel/CwBTIlSJTFO/?igshid=MTc4MmM1YmI2Ng==\"\n",
    "# INSTAGRAM_URL = \"https://www.instagram.com/reel/CwD1QhhJUGM/?igshid=MTc4MmM1YmI2Ng==\"\n",
    "# INSTAGRAM_URL = \"https://www.instagram.com/reel/CwGZxBWPpWf/?igshid=MTc4MmM1YmI2Ng==\"\n",
    "# INSTAGRAM_URL = \"https://www.instagram.com/p/CwyZ9OkpyCT/?igshid=MTc4MmM1YmI2Ng==\"\n",
    "# INSTAGRAM_URL = \"https://www.instagram.com/reel/Cw3PWRMJ5Km/?igshid=MTc4MmM1YmI2Ng==\"\n",
    "# INSTAGRAM_URL = \"https://www.instagram.com/reel/Cw3dIwDpbgk/?igshid=MTc4MmM1YmI2Ng==\"\n",
    "# INSTAGRAM_URL = \"https://www.instagram.com/reel/Cw6Rz9uJRFZ/?igshid=MTc4MmM1YmI2Ng==\"\n",
    "# INSTAGRAM_URL = \"https://www.instagram.com/reel/Cw8jR4UpeEJ/?igshid=MTc4MmM1YmI2Ng==\"\n",
    "# INSTAGRAM_URL = \"https://www.instagram.com/reel/CxEb1ueJvbP/?igshid=MTc4MmM1YmI2Ng==\"\n",
    "# INSTAGRAM_URL = \"https://www.instagram.com/reel/CxJr2f8JhCe/?igshid=MTc4MmM1YmI2Ng==\"\n",
    "INSTAGRAM_URL = \"https://www.instagram.com/reel/CxLuV9MBeuR/?igshid=MTc4MmM1YmI2Ng==\"\n",
    "\n",
    "\n",
    "PAGINA_URL    = 'https://www.instagram.com/'\n",
    "\n",
    "driver = webdriver.Chrome(service = Service(ChromeDriverManager().install()))\n",
    "driver.get(PAGINA_URL)\n",
    "\n",
    "time.sleep(5)\n",
    "\n"
   ]
  },
  {
   "cell_type": "code",
   "execution_count": 4,
   "metadata": {},
   "outputs": [
    {
     "name": "stdout",
     "output_type": "stream",
     "text": [
      "\b123456789101112131415161718192021222324252627282930313233"
     ]
    },
    {
     "ename": "KeyboardInterrupt",
     "evalue": "",
     "output_type": "error",
     "traceback": [
      "\u001b[1;31m---------------------------------------------------------------------------\u001b[0m",
      "\u001b[1;31mKeyboardInterrupt\u001b[0m                         Traceback (most recent call last)",
      "\u001b[1;32mc:\\Users\\Dell\\Documents\\BX-Codes\\BX-Codes\\01 Instagram - Proyectos\\Proyecto Juntanza El Cuchicheo\\instagram_chrome.ipynb Cell 4\u001b[0m line \u001b[0;36m1\n\u001b[0;32m     <a href='vscode-notebook-cell:/c%3A/Users/Dell/Documents/BX-Codes/BX-Codes/01%20Instagram%20-%20Proyectos/Proyecto%20Juntanza%20El%20Cuchicheo/instagram_chrome.ipynb#W3sZmlsZQ%3D%3D?line=11'>12</a>\u001b[0m password_input\u001b[39m.\u001b[39msend_keys(Keys\u001b[39m.\u001b[39mRETURN)\n\u001b[0;32m     <a href='vscode-notebook-cell:/c%3A/Users/Dell/Documents/BX-Codes/BX-Codes/01%20Instagram%20-%20Proyectos/Proyecto%20Juntanza%20El%20Cuchicheo/instagram_chrome.ipynb#W3sZmlsZQ%3D%3D?line=13'>14</a>\u001b[0m \u001b[39m# Espera un momento para el inicio de sesión\u001b[39;00m\n\u001b[1;32m---> <a href='vscode-notebook-cell:/c%3A/Users/Dell/Documents/BX-Codes/BX-Codes/01%20Instagram%20-%20Proyectos/Proyecto%20Juntanza%20El%20Cuchicheo/instagram_chrome.ipynb#W3sZmlsZQ%3D%3D?line=14'>15</a>\u001b[0m barra_carga(\u001b[39m60\u001b[39;49m)\n\u001b[0;32m     <a href='vscode-notebook-cell:/c%3A/Users/Dell/Documents/BX-Codes/BX-Codes/01%20Instagram%20-%20Proyectos/Proyecto%20Juntanza%20El%20Cuchicheo/instagram_chrome.ipynb#W3sZmlsZQ%3D%3D?line=15'>16</a>\u001b[0m \u001b[39mprint\u001b[39m(\u001b[39m'\u001b[39m\u001b[39mAcceso Exitoso\u001b[39m\u001b[39m'\u001b[39m)\n",
      "File \u001b[1;32mc:\\Users\\Dell\\Documents\\BX-Codes\\BX-Codes\\01 Instagram - Proyectos\\Proyecto Juntanza El Cuchicheo\\funciones_secundarias.py:10\u001b[0m, in \u001b[0;36mbarra_carga\u001b[1;34m(tiempo)\u001b[0m\n\u001b[0;32m      8\u001b[0m sys\u001b[39m.\u001b[39mstdout\u001b[39m.\u001b[39mwrite(\u001b[39m\"\u001b[39m\u001b[39m\\b\u001b[39;00m\u001b[39m\"\u001b[39m \u001b[39m*\u001b[39m (tiempo\u001b[39m+\u001b[39m\u001b[39m1\u001b[39m))\n\u001b[0;32m      9\u001b[0m \u001b[39mfor\u001b[39;00m i \u001b[39min\u001b[39;00m \u001b[39mrange\u001b[39m(tiempo):\n\u001b[1;32m---> 10\u001b[0m     time\u001b[39m.\u001b[39msleep(\u001b[39m1\u001b[39m) \u001b[39m# do real work here\u001b[39;00m\n\u001b[0;32m     11\u001b[0m     \u001b[39m# update the bar\u001b[39;00m\n\u001b[0;32m     12\u001b[0m     sys\u001b[39m.\u001b[39mstdout\u001b[39m.\u001b[39mwrite(\u001b[39mf\u001b[39m\u001b[39m'\u001b[39m\u001b[39m{\u001b[39;00m\u001b[39m1\u001b[39m\u001b[39m+\u001b[39mi\u001b[39m}\u001b[39;00m\u001b[39m'\u001b[39m)\n",
      "\u001b[1;31mKeyboardInterrupt\u001b[0m: "
     ]
    }
   ],
   "source": [
    "'''ACCESO A LA CUENTA'''\n",
    "\n",
    "# Encuentra los campos de entrada para el nombre de usuario y la contraseña\n",
    "username_input = driver.find_element(By.XPATH, value = \"//input[@name='username']\")\n",
    "password_input = driver.find_element(By.XPATH, value = \"//input[@name='password']\")\n",
    "\n",
    "# Ingresa tus credenciales de inicio de sesión\n",
    "username_input.send_keys(\"j.alonsoordinola@gmail.com\")\n",
    "password_input.send_keys(\"Libertad5%\")\n",
    "\n",
    "# Envía el formulario de inicio de sesión\n",
    "password_input.send_keys(Keys.RETURN)\n",
    "\n",
    "# Espera un momento para el inicio de sesión\n",
    "barra_carga(60)\n",
    "print('Acceso Exitoso')\n"
   ]
  },
  {
   "cell_type": "code",
   "execution_count": null,
   "metadata": {},
   "outputs": [],
   "source": [
    "'''ACCESO A EL POST DE INSTAGRAM AL CUAL SE LE EXTRAERAN LOS COMENTARIOS'''\n",
    "\n",
    "driver.get(INSTAGRAM_URL)\n",
    "driver.maximize_window()\n",
    "barra_carga(10)\n",
    "print('Post Cargado')"
   ]
  },
  {
   "cell_type": "code",
   "execution_count": null,
   "metadata": {},
   "outputs": [],
   "source": [
    "''' \n",
    "VALIDACION \n",
    "\n",
    "Funcionamiento de acceso a la URL, navegacion y captura de segmentos del en X.Path\n",
    "Prueba del Scroll y de la Estrategia de Espera para la carga de mensajes\n",
    "\n",
    "'''\n",
    "\n",
    "#ubicar el primer comentario que se encuentra en la pagina, es decir el primer\n",
    "#contenedor dentro de contenedor macro, esto para tener el punto de referencia de :\n",
    "#donde se encuentra el bloque de comentarios y donde inicia\n",
    "\n",
    "seccion_comments = '/html/body/div[2]/div/div/div[2]/div/div/div/div[1]/div[1]/div[2]/section/main/div/div[1]/div/div[2]/div/div[2]/div/div/div['\n",
    "\n",
    "validacion_instagram(driver,seccion_comments)\n",
    "barra_carga(20)"
   ]
  },
  {
   "cell_type": "code",
   "execution_count": null,
   "metadata": {},
   "outputs": [],
   "source": [
    "# seccion_comments      = '/html/body/div[2]/div/div/div[2]/div/div/div/div[1]/div[1]/div[2]/section/main/div/div[1]/div/div[2]/div/div[2]/div/div/div['\n",
    "# displayName_comments  = '/html/body/div[2]/div/div/div[2]/div/div/div/div[1]/div[1]/div[2]/section/main/div/div[1]/div/div[2]/div/div[2]/div/div/div[1]/div/div[2]/div/span/div/div/span[1]/div/a'\n",
    "# displayName_comments  = '/html/body/div[2]/div/div/div[2]/div/div/div/div[1]/div[1]/div[2]/section/main/div/div[1]/div/div[2]/div/div[2]/div/div/div[2]/div/div[2]/div[1]/div[1]/div/div[1]/span[1]/span/div/a'\n",
    "\n",
    "\n",
    "# comentario_usuario    = '/html/body/div[2]/div/div/div[2]/div/div/div/div[1]/div[1]/div[2]/section/main/div/div[1]/div/div[2]/div/div[2]/div/div/div[1]/div/div[2]/div/span/div/span'\n",
    "                        #   '/html/body/div[2]/div/div/div[2]/div/div/div/div[1]/div[1]/div[2]/section/main/div/div[1]/div/div[2]/div/div[2]/div/div/div[2]/div/div[2]/div[1]/div[1]/div/div[2]/span'\n",
    "                        #   '/html/body/div[2]/div/div/div[2]/div/div/div/div[1]/div[1]/div[2]/section/main/div/div[1]/div/div[2]/div/div[2]/div/div/div[3]/div/div[2]/div[1]/div[1]/div/div[2]/span'"
   ]
  },
  {
   "cell_type": "code",
   "execution_count": null,
   "metadata": {},
   "outputs": [],
   "source": [
    "#VARIABLES PARA EL SCRAPING\n",
    "comentarios_recorridos = list()\n",
    "centinela = True\n",
    "comment_externo = 1\n",
    "comment_interno = 1\n",
    "base_final = pd.DataFrame()\n",
    "\n",
    "while centinela == True:\n",
    "    try:\n",
    "        \n",
    "        try:\n",
    "            driver.find_element(By.XPATH, value= '/html/body/div[2]/div/div/div[2]/div/div/div/div[1]/div[1]/div[2]/section/main/div/div[1]/div/div[2]/div/div[2]/div/div/div[1]/div/div[2]/div/span/div/div/span[1]/div/a')\n",
    "            print('Usuario :')\n",
    "            time.sleep(3)\n",
    "        except:\n",
    "            pass\n",
    "\n",
    "        # Level 1 comment principal\n",
    "        level = 1\n",
    "        # Detectar el DISPLAY NAME del usuario\n",
    "        try:\n",
    "            display_name = driver.find_element(By.XPATH, value = seccion_comments + str(comment_externo) + \"]/div/div[2]/div/span/div/div/span[1]/div/a\").text\n",
    "            print(display_name)\n",
    "        except:\n",
    "            display_name = driver.find_element(By.XPATH, value = seccion_comments + str(comment_externo) + \"]/div/div[2]/div[1]/div[1]/div/div[1]/span[1]/span/div/a\").text\n",
    "            print(display_name)\n",
    "\n",
    "        try:    \n",
    "        # Detectar NOMBRE DE USUARIO (toma como punto de referencia en Display Name del bloque anterior)\n",
    "            username_thread = driver.find_element(by=By.PARTIAL_LINK_TEXT,value=display_name).get_attribute(\"href\")\n",
    "        # Detectar comment principal\n",
    "            comment = driver.find_element(By.XPATH, value = seccion_comments + str(comment_externo) + \"]/div/div[2]/div/span/div/span\").text\n",
    "            print(str(comment))\n",
    "        except:\n",
    "            username_thread = driver.find_element(by=By.PARTIAL_LINK_TEXT,value=display_name).get_attribute(\"href\")\n",
    "        # Detectar comment principal\n",
    "            comment = driver.find_element(By.XPATH, value = seccion_comments + str(comment_externo) + \"]/div/div[2]/div[1]/div[1]/div/div[2]/span\").text\n",
    "            print(str(comment))    \n",
    "\n",
    "        # Creacion de Dataframe con los datos de cada comentario, y la base previa \n",
    "        d = {\"level\": level,\"Instragram Post\":INSTAGRAM_URL, \"display_name\": display_name, \"username\":username_thread, \"comment\":comment}\n",
    "        base_temporal = pd.DataFrame(data=d,index=[comment_externo])\n",
    "        base_final = pd.concat([base_final, base_temporal], ignore_index=True)\n",
    "    \n",
    "        # Actualizacion del loop para continuar con el recorrido\n",
    "        comentarios_recorridos.append(comment_externo)\n",
    "        comment_externo = comment_externo + 1\n",
    "        print(\"Acabé el comment \" + str(comment_externo - 1) + ' perteneciente al usuario: ' + str(display_name) + '\\n')\n",
    "        \n",
    "        time.sleep(5)\n",
    "        \n",
    "    except :\n",
    "        break\n",
    "        \n",
    "\n",
    "print('CARGA COMPLETA')\n",
    "\n",
    "driver.quit()\n",
    "\n",
    "base_final.to_excel('base_instagram_cuchicheo_17.xlsx')   "
   ]
  },
  {
   "cell_type": "code",
   "execution_count": null,
   "metadata": {},
   "outputs": [],
   "source": [
    "# cuchi01 = pd.read_excel('base_youtube_cuchicheo_01.xlsx')\n",
    "# cuchi02 = pd.read_excel('base_youtube_cuchicheo_02.xlsx')\n",
    "# cuchi03 = pd.read_excel('base_youtube_cuchicheo_03.xlsx')\n",
    "# cuchi04 = pd.read_excel('base_youtube_cuchicheo_04.xlsx')\n",
    "# cuchi05 = pd.read_excel('base_youtube_cuchicheo_05.xlsx')\n",
    "\n",
    "# base_consolidada_youtube_cuchicheo = pd.concat([cuchi01,cuchi02,cuchi03,cuchi03,cuchi04,cuchi05])\n",
    "# base_consolidada_youtube_cuchicheo.to_excel('base_consolidada_youtube_cuchicheo.xlsx',index=False)"
   ]
  }
 ],
 "metadata": {
  "kernelspec": {
   "display_name": "Python 3",
   "language": "python",
   "name": "python3"
  },
  "language_info": {
   "codemirror_mode": {
    "name": "ipython",
    "version": 3
   },
   "file_extension": ".py",
   "mimetype": "text/x-python",
   "name": "python",
   "nbconvert_exporter": "python",
   "pygments_lexer": "ipython3",
   "version": "3.11.5"
  },
  "orig_nbformat": 4,
  "vscode": {
   "interpreter": {
    "hash": "40d3a090f54c6569ab1632332b64b2c03c39dcf918b08424e98f38b5ae0af88f"
   }
  }
 },
 "nbformat": 4,
 "nbformat_minor": 2
}
