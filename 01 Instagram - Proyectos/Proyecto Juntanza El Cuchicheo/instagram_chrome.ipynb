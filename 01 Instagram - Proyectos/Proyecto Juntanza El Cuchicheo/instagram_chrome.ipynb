{
 "cells": [
  {
   "cell_type": "code",
   "execution_count": 1,
   "metadata": {},
   "outputs": [],
   "source": [
    "#MODULOS DE SELENIUM\n",
    "from selenium import webdriver\n",
    "from selenium.webdriver.common.by import By\n",
    "from selenium.webdriver.common.keys import Keys\n",
    "from selenium.webdriver.support.ui import Select\n",
    "from selenium.webdriver.chrome.options import Options\n",
    "from selenium.webdriver.support.ui import WebDriverWait\n",
    "from selenium.webdriver.chrome.service import Service\n",
    "from webdriver_manager.chrome import ChromeDriverManager\n",
    "from selenium.webdriver.common.by import By\n",
    "from selenium.webdriver.common.action_chains import ActionChains\n",
    "\n",
    "#MODULOS SECUNDARIOS\n",
    "import pandas as pd\n",
    "import numpy as np\n",
    "import os\n",
    "import re\n",
    "import time\n",
    "import ssl\n",
    "import sys\n",
    "import math\n",
    "import traceback\n",
    "\n",
    "\n",
    "#MODULO ALERTAS DESACTIVADAS\n",
    "import warnings\n",
    "warnings.filterwarnings('ignore')\n",
    "\n",
    "#MODULO PROPIOS\n",
    "from funciones_primarias import validacion_instagram\n",
    "from funciones_secundarias import barra_carga,scroll_down"
   ]
  },
  {
   "cell_type": "code",
   "execution_count": 2,
   "metadata": {},
   "outputs": [],
   "source": [
    "'''Protocoloes SSL'''\n",
    "ctx = ssl.create_default_context()\n",
    "ctx.check_hostname = False\n",
    "ctx.verify_mode = ssl.CERT_NONE"
   ]
  },
  {
   "cell_type": "code",
   "execution_count": 3,
   "metadata": {},
   "outputs": [],
   "source": [
    "\n",
    "'''\n",
    "OBJETO DRIVER \n",
    "    - Opciones \n",
    "    - URL\n",
    "'''\n",
    "\n",
    "#Opciones Chrome\n",
    "chrome_options = Options()\n",
    "chrome_options.add_experimental_option(\"prefs\", {\n",
    "  \"download.prompt_for_download\": False,\n",
    "  \"download.directory_upgrade\": True,\n",
    "  \"safebrowsing.enabled\": True\n",
    "  })\n",
    "\n",
    "#Instancia driver -  Acceso a la URL\n",
    "\n",
    "# INSTAGRAM_URL = \"https://www.instagram.com/p/Cv7aKMqRS2Y/?igshid=MTc4MmM1YmI2Ng==\"\n",
    "# INSTAGRAM_URL = \"https://www.instagram.com/reel/Cv-e8k2pvaq/?igshid=MTc4MmM1YmI2Ng==\"\n",
    "# INSTAGRAM_URL = \"https://www.instagram.com/reel/Cv-rwN9JHY4/?igshid=MTc4MmM1YmI2Ng==\"\n",
    "# INSTAGRAM_URL = \"https://www.instagram.com/reel/Cv-6WDFpW85/?igshid=MTc4MmM1YmI2Ng==\"\n",
    "# INSTAGRAM_URL = \"https://www.instagram.com/reel/CwAvNqngJRf/?igshid=MTc4MmM1YmI2Ng==\"\n",
    "# INSTAGRAM_URL = \"https://www.instagram.com/reel/CwA1m2Oxl2-/?igshid=MTc4MmM1YmI2Ng==\"\n",
    "# INSTAGRAM_URL = \"https://www.instagram.com/reel/CwBTIlSJTFO/?igshid=MTc4MmM1YmI2Ng==\"\n",
    "# INSTAGRAM_URL = \"https://www.instagram.com/reel/CwD1QhhJUGM/?igshid=MTc4MmM1YmI2Ng==\"\n",
    "# INSTAGRAM_URL = \"https://www.instagram.com/reel/CwGZxBWPpWf/?igshid=MTc4MmM1YmI2Ng==\"\n",
    "# INSTAGRAM_URL = \"https://www.instagram.com/p/CwyZ9OkpyCT/?igshid=MTc4MmM1YmI2Ng==\"\n",
    "# INSTAGRAM_URL = \"https://www.instagram.com/reel/Cw3PWRMJ5Km/?igshid=MTc4MmM1YmI2Ng==\"\n",
    "# INSTAGRAM_URL = \"https://www.instagram.com/reel/Cw3dIwDpbgk/?igshid=MTc4MmM1YmI2Ng==\"\n",
    "# INSTAGRAM_URL = \"https://www.instagram.com/reel/Cw6Rz9uJRFZ/?igshid=MTc4MmM1YmI2Ng==\"\n",
    "# INSTAGRAM_URL = \"https://www.instagram.com/reel/Cw8jR4UpeEJ/?igshid=MTc4MmM1YmI2Ng==\"\n",
    "# INSTAGRAM_URL = \"https://www.instagram.com/reel/CxEb1ueJvbP/?igshid=MTc4MmM1YmI2Ng==\"\n",
    "# INSTAGRAM_URL = \"https://www.instagram.com/reel/CxJr2f8JhCe/?igshid=MTc4MmM1YmI2Ng==\"\n",
    "INSTAGRAM_URL = \"https://www.instagram.com/reel/CxLuV9MBeuR/?igshid=MTc4MmM1YmI2Ng==\"\n",
    "\n",
    "\n",
    "PAGINA_URL    = 'https://www.instagram.com/'\n",
    "\n",
    "driver = webdriver.Chrome(service = Service(ChromeDriverManager().install()))\n",
    "driver.get(PAGINA_URL)\n",
    "\n",
    "time.sleep(5)\n",
    "\n"
   ]
  },
  {
   "cell_type": "code",
   "execution_count": 4,
   "metadata": {},
   "outputs": [
    {
     "name": "stdout",
     "output_type": "stream",
     "text": [
      "\b123456789101112131415161718192021222324252627282930313233343536373839404142434445464748495051525354555657585960-------------]\n",
      "Acceso Exitoso\n"
     ]
    }
   ],
   "source": [
    "'''ACCESO A LA CUENTA'''\n",
    "\n",
    "# Encuentra los campos de entrada para el nombre de usuario y la contraseña\n",
    "username_input = driver.find_element(By.XPATH, value = \"//input[@name='username']\")\n",
    "password_input = driver.find_element(By.XPATH, value = \"//input[@name='password']\")\n",
    "\n",
    "# Ingresa tus credenciales de inicio de sesión\n",
    "username_input.send_keys(\"j.alonsoordinola@gmail.com\")\n",
    "password_input.send_keys(\"Libertad5%\")\n",
    "\n",
    "# Envía el formulario de inicio de sesión\n",
    "password_input.send_keys(Keys.RETURN)\n",
    "\n",
    "# Espera un momento para el inicio de sesión\n",
    "barra_carga(60)\n",
    "print('Acceso Exitoso')\n"
   ]
  },
  {
   "cell_type": "code",
   "execution_count": 5,
   "metadata": {},
   "outputs": [
    {
     "name": "stdout",
     "output_type": "stream",
     "text": [
      "\b12345678910-------------]\n",
      "Post Cargado\n"
     ]
    }
   ],
   "source": [
    "'''ACCESO A EL POST DE INSTAGRAM AL CUAL SE LE EXTRAERAN LOS COMENTARIOS'''\n",
    "\n",
    "driver.get(INSTAGRAM_URL)\n",
    "driver.maximize_window()\n",
    "barra_carga(10)\n",
    "print('Post Cargado')"
   ]
  },
  {
   "cell_type": "code",
   "execution_count": 6,
   "metadata": {},
   "outputs": [
    {
     "name": "stdout",
     "output_type": "stream",
     "text": [
      "SeccionComentario Encontrada\n",
      "UserName Encontrado\n",
      "\b1234567891011121314151617181920-------------]\n"
     ]
    }
   ],
   "source": [
    "''' \n",
    "VALIDACION \n",
    "\n",
    "Funcionamiento de acceso a la URL, navegacion y captura de segmentos del en X.Path\n",
    "Prueba del Scroll y de la Estrategia de Espera para la carga de mensajes\n",
    "\n",
    "'''\n",
    "\n",
    "#ubicar el primer comentario que se encuentra en la pagina, es decir el primer\n",
    "#contenedor dentro de contenedor macro, esto para tener el punto de referencia de :\n",
    "#donde se encuentra el bloque de comentarios y donde inicia\n",
    "\n",
    "seccion_comments = '/html/body/div[2]/div/div/div[2]/div/div/div/div[1]/div[1]/div[2]/section/main/div/div[1]/div/div[2]/div/div[2]/div/div/div['\n",
    "\n",
    "validacion_instagram(driver,seccion_comments)\n",
    "barra_carga(20)"
   ]
  },
  {
   "cell_type": "code",
   "execution_count": 7,
   "metadata": {},
   "outputs": [],
   "source": [
    "# seccion_comments      = '/html/body/div[2]/div/div/div[2]/div/div/div/div[1]/div[1]/div[2]/section/main/div/div[1]/div/div[2]/div/div[2]/div/div/div['\n",
    "# displayName_comments  = '/html/body/div[2]/div/div/div[2]/div/div/div/div[1]/div[1]/div[2]/section/main/div/div[1]/div/div[2]/div/div[2]/div/div/div[1]/div/div[2]/div/span/div/div/span[1]/div/a'\n",
    "# displayName_comments  = '/html/body/div[2]/div/div/div[2]/div/div/div/div[1]/div[1]/div[2]/section/main/div/div[1]/div/div[2]/div/div[2]/div/div/div[2]/div/div[2]/div[1]/div[1]/div/div[1]/span[1]/span/div/a'\n",
    "\n",
    "\n",
    "# comentario_usuario    = '/html/body/div[2]/div/div/div[2]/div/div/div/div[1]/div[1]/div[2]/section/main/div/div[1]/div/div[2]/div/div[2]/div/div/div[1]/div/div[2]/div/span/div/span'\n",
    "                        #   '/html/body/div[2]/div/div/div[2]/div/div/div/div[1]/div[1]/div[2]/section/main/div/div[1]/div/div[2]/div/div[2]/div/div/div[2]/div/div[2]/div[1]/div[1]/div/div[2]/span'\n",
    "                        #   '/html/body/div[2]/div/div/div[2]/div/div/div/div[1]/div[1]/div[2]/section/main/div/div[1]/div/div[2]/div/div[2]/div/div/div[3]/div/div[2]/div[1]/div[1]/div/div[2]/span'"
   ]
  },
  {
   "cell_type": "code",
   "execution_count": 8,
   "metadata": {},
   "outputs": [
    {
     "name": "stdout",
     "output_type": "stream",
     "text": [
      "Usuario :\n",
      "acdivoca_colombia\n",
      "🤔¿ Está bien utilizar insultos racistas en la política? ¿Lina María Hurtado debía ganar el Miss Universo Colombia? Acompáñanos a ver las respuestas de las amigas del #Cuchicheo en NotiDanny\n",
      "\n",
      "🗒️Cuéntanos tus opiniones en los comentarios y no te pierdas el #Cuchicheo, un videopodcast para hablar de #AfroColombia y todo lo que siempre quiso saber sobre racismo, política, poder y muchas cosas más.\n",
      "\n",
      "@usaidcolombia #ACDIVOCA_Colombia @laescueladigital_led @cimarronpro\n",
      "@danielsamperospina @kendryserrano @mayralunau @berthamedranoc\n",
      "Acabé el comment 1 perteneciente al usuario: acdivoca_colombia\n",
      "\n",
      "Usuario :\n",
      "adrianaguz09\n",
      "👏Muy bien! 👍🏾\n",
      "Acabé el comment 2 perteneciente al usuario: adrianaguz09\n",
      "\n",
      "Usuario :\n",
      "CARGA COMPLETA\n"
     ]
    }
   ],
   "source": [
    "#VARIABLES PARA EL SCRAPING\n",
    "comentarios_recorridos = list()\n",
    "centinela = True\n",
    "comment_externo = 1\n",
    "comment_interno = 1\n",
    "base_final = pd.DataFrame()\n",
    "\n",
    "while centinela == True:\n",
    "    try:\n",
    "        \n",
    "        try:\n",
    "            driver.find_element(By.XPATH, value= '/html/body/div[2]/div/div/div[2]/div/div/div/div[1]/div[1]/div[2]/section/main/div/div[1]/div/div[2]/div/div[2]/div/div/div[1]/div/div[2]/div/span/div/div/span[1]/div/a')\n",
    "            print('Usuario :')\n",
    "            time.sleep(3)\n",
    "        except:\n",
    "            pass\n",
    "\n",
    "        # Level 1 comment principal\n",
    "        level = 1\n",
    "        # Detectar el DISPLAY NAME del usuario\n",
    "        try:\n",
    "            display_name = driver.find_element(By.XPATH, value = seccion_comments + str(comment_externo) + \"]/div/div[2]/div/span/div/div/span[1]/div/a\").text\n",
    "            print(display_name)\n",
    "        except:\n",
    "            display_name = driver.find_element(By.XPATH, value = seccion_comments + str(comment_externo) + \"]/div/div[2]/div[1]/div[1]/div/div[1]/span[1]/span/div/a\").text\n",
    "            print(display_name)\n",
    "\n",
    "        try:    \n",
    "        # Detectar NOMBRE DE USUARIO (toma como punto de referencia en Display Name del bloque anterior)\n",
    "            username_thread = driver.find_element(by=By.PARTIAL_LINK_TEXT,value=display_name).get_attribute(\"href\")\n",
    "        # Detectar comment principal\n",
    "            comment = driver.find_element(By.XPATH, value = seccion_comments + str(comment_externo) + \"]/div/div[2]/div/span/div/span\").text\n",
    "            print(str(comment))\n",
    "        except:\n",
    "            username_thread = driver.find_element(by=By.PARTIAL_LINK_TEXT,value=display_name).get_attribute(\"href\")\n",
    "        # Detectar comment principal\n",
    "            comment = driver.find_element(By.XPATH, value = seccion_comments + str(comment_externo) + \"]/div/div[2]/div[1]/div[1]/div/div[2]/span\").text\n",
    "            print(str(comment))    \n",
    "\n",
    "        # Creacion de Dataframe con los datos de cada comentario, y la base previa \n",
    "        d = {\"level\": level,\"Instragram Post\":INSTAGRAM_URL, \"display_name\": display_name, \"username\":username_thread, \"comment\":comment}\n",
    "        base_temporal = pd.DataFrame(data=d,index=[comment_externo])\n",
    "        base_final = pd.concat([base_final, base_temporal], ignore_index=True)\n",
    "    \n",
    "        # Actualizacion del loop para continuar con el recorrido\n",
    "        comentarios_recorridos.append(comment_externo)\n",
    "        comment_externo = comment_externo + 1\n",
    "        print(\"Acabé el comment \" + str(comment_externo - 1) + ' perteneciente al usuario: ' + str(display_name) + '\\n')\n",
    "        \n",
    "        time.sleep(5)\n",
    "        \n",
    "    except :\n",
    "        break\n",
    "        \n",
    "\n",
    "print('CARGA COMPLETA')\n",
    "\n",
    "driver.quit()\n",
    "\n",
    "base_final.to_excel('base_instagram_cuchicheo_17.xlsx')   "
   ]
  },
  {
   "cell_type": "code",
   "execution_count": 10,
   "metadata": {},
   "outputs": [],
   "source": [
    "cuchi01 = pd.read_excel('base_instagram_cuchicheo_01.xlsx')\n",
    "cuchi02 = pd.read_excel('base_instagram_cuchicheo_02.xlsx')\n",
    "cuchi03 = pd.read_excel('base_instagram_cuchicheo_03.xlsx')\n",
    "cuchi04 = pd.read_excel('base_instagram_cuchicheo_04.xlsx')\n",
    "cuchi05 = pd.read_excel('base_instagram_cuchicheo_05.xlsx')\n",
    "cuchi06 = pd.read_excel('base_instagram_cuchicheo_06.xlsx')\n",
    "cuchi07 = pd.read_excel('base_instagram_cuchicheo_07.xlsx')\n",
    "cuchi08 = pd.read_excel('base_instagram_cuchicheo_08.xlsx')\n",
    "cuchi09 = pd.read_excel('base_instagram_cuchicheo_09.xlsx')\n",
    "cuchi10 = pd.read_excel('base_instagram_cuchicheo_10.xlsx')\n",
    "cuchi11 = pd.read_excel('base_instagram_cuchicheo_11.xlsx')\n",
    "cuchi12 = pd.read_excel('base_instagram_cuchicheo_12.xlsx')\n",
    "cuchi13 = pd.read_excel('base_instagram_cuchicheo_13.xlsx')\n",
    "cuchi14 = pd.read_excel('base_instagram_cuchicheo_14.xlsx')\n",
    "cuchi15 = pd.read_excel('base_instagram_cuchicheo_15.xlsx')\n",
    "cuchi16 = pd.read_excel('base_instagram_cuchicheo_16.xlsx')\n",
    "cuchi17 = pd.read_excel('base_instagram_cuchicheo_17.xlsx')\n",
    "\n",
    "base_consolidada_instagram_cuchicheo = pd.concat([cuchi01,cuchi02,cuchi03,cuchi04,cuchi05,cuchi06,\n",
    "                                                cuchi07,cuchi08,cuchi09,cuchi10,cuchi11,cuchi12,\n",
    "                                                cuchi13,cuchi14,cuchi15,cuchi16,cuchi17])\n",
    "\n",
    "base_consolidada_instagram_cuchicheo.to_excel('base_consolidada_instagram_cuchicheo.xlsx',index=False)"
   ]
  }
 ],
 "metadata": {
  "kernelspec": {
   "display_name": "Python 3",
   "language": "python",
   "name": "python3"
  },
  "language_info": {
   "codemirror_mode": {
    "name": "ipython",
    "version": 3
   },
   "file_extension": ".py",
   "mimetype": "text/x-python",
   "name": "python",
   "nbconvert_exporter": "python",
   "pygments_lexer": "ipython3",
   "version": "3.11.5"
  },
  "orig_nbformat": 4,
  "vscode": {
   "interpreter": {
    "hash": "40d3a090f54c6569ab1632332b64b2c03c39dcf918b08424e98f38b5ae0af88f"
   }
  }
 },
 "nbformat": 4,
 "nbformat_minor": 2
}
